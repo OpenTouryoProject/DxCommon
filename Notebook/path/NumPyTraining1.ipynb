{
 "cells": [
  {
   "cell_type": "markdown",
   "id": "10d8894f-c5ae-4771-8134-f3fb1add7cd4",
   "metadata": {},
   "source": [
    "# NumPyのトレーニング♨\n",
    "配列はベクトルとも呼ばれる（→ [行列](NumPyTraining2.ipynb)）。\n",
    "\n",
    "## [目次](TableOfContents.ipynb)\n",
    "- [環境準備](#環境準備)\n",
    "  - [インストール](#インストール)\n",
    "  - [インポート](#インポート)\n",
    "- [操作](#操作)\n",
    "  - [生成](#生成)\n",
    "  - [コピー](#コピー)\n",
    "  - [表示](#表示)\n",
    "- [計算](#計算)\n",
    "  - [算術計算](#算術計算)\n",
    "  - [統計計算](#統計計算)\n",
    "- [アクセス](#アクセス)\n",
    "  - [インデックス番号で指定](#インデックス番号で指定)\n",
    "  - [複数要素の抽出](#複数要素の抽出)\n",
    "  - [複数要素の置換](#複数要素の置換)\n",
    "- [ベクトルの積算（内積）](#ベクトルの積算（内積）)\n",
    "  - [データ生成](#データ生成)\n",
    "  - [計算方法](#計算方法)\n",
    "  - [交換法則](#交換法則)\n",
    "  \n",
    "## 参考\n",
    "開発基盤部会 Wiki\n",
    "- NumPy  \n",
    "https://dotnetdevelopmentinfrastructure.osscons.jp/index.php?NumPy"
   ]
  },
  {
   "cell_type": "markdown",
   "id": "0bbb06f0-229f-45a5-aa50-cf009219158b",
   "metadata": {
    "tags": []
   },
   "source": [
    "## 環境準備"
   ]
  },
  {
   "cell_type": "markdown",
   "id": "e83d19d1-acfd-471d-be50-4d959296f7e9",
   "metadata": {
    "tags": []
   },
   "source": [
    "### インストール"
   ]
  },
  {
   "cell_type": "code",
   "execution_count": null,
   "id": "3b4754fd-63bd-4721-8d22-5f4b19ccb432",
   "metadata": {},
   "outputs": [],
   "source": [
    "!pip install numpy"
   ]
  },
  {
   "cell_type": "markdown",
   "id": "f8b4ac41-2442-4c37-a710-777e248fadb5",
   "metadata": {
    "tags": []
   },
   "source": [
    "### インポート"
   ]
  },
  {
   "cell_type": "code",
   "execution_count": 2,
   "id": "b7fe088c-1c9e-4bbd-83e8-6bbff407919d",
   "metadata": {},
   "outputs": [],
   "source": [
    "import numpy as np"
   ]
  },
  {
   "cell_type": "code",
   "execution_count": 3,
   "id": "5f0309ea-aea5-496f-8e60-66a0c818a579",
   "metadata": {},
   "outputs": [],
   "source": [
    "import warnings\n",
    "warnings.filterwarnings('ignore')"
   ]
  },
  {
   "cell_type": "markdown",
   "id": "80823424-b81e-4e24-9dc6-4d8e80743f8c",
   "metadata": {
    "tags": []
   },
   "source": [
    "## 操作"
   ]
  },
  {
   "cell_type": "markdown",
   "id": "fc2906d7-1fd7-49b6-ad0b-cc245704887d",
   "metadata": {
    "tags": []
   },
   "source": [
    "### 生成"
   ]
  },
  {
   "cell_type": "markdown",
   "id": "8b88b2c4-f4b1-40e8-88c8-da450e47ee0c",
   "metadata": {},
   "source": [
    "#### array"
   ]
  },
  {
   "cell_type": "code",
   "execution_count": 4,
   "id": "b089d87f-00b0-4a01-ace8-fa2ea067fdc3",
   "metadata": {},
   "outputs": [
    {
     "data": {
      "text/plain": [
       "array([1., 2., 3.])"
      ]
     },
     "execution_count": 4,
     "metadata": {},
     "output_type": "execute_result"
    }
   ],
   "source": [
    "np.array([1.0,2.0,3.0])"
   ]
  },
  {
   "cell_type": "markdown",
   "id": "73464b3b-bdb3-4a1d-93c2-efea15d023b3",
   "metadata": {},
   "source": [
    "#### arange"
   ]
  },
  {
   "cell_type": "code",
   "execution_count": 5,
   "id": "fd19ae47-0534-4681-8891-dc28c4140747",
   "metadata": {},
   "outputs": [
    {
     "data": {
      "text/plain": [
       "array([0, 1, 2, 3, 4, 5, 6, 7, 8, 9])"
      ]
     },
     "execution_count": 5,
     "metadata": {},
     "output_type": "execute_result"
    }
   ],
   "source": [
    "np.arange(10)"
   ]
  },
  {
   "cell_type": "markdown",
   "id": "9cd1b3af-5348-4623-90cc-427fd116e6ba",
   "metadata": {},
   "source": [
    "#### ones（一埋"
   ]
  },
  {
   "cell_type": "code",
   "execution_count": 6,
   "id": "beb1425c-2c0a-487c-80f1-f4c561dd1931",
   "metadata": {},
   "outputs": [
    {
     "data": {
      "text/plain": [
       "array([1., 1., 1., 1., 1., 1., 1., 1., 1., 1.])"
      ]
     },
     "execution_count": 6,
     "metadata": {},
     "output_type": "execute_result"
    }
   ],
   "source": [
    "np.ones(10)"
   ]
  },
  {
   "cell_type": "markdown",
   "id": "59c84f02-a4e4-40f6-a0e8-4dcb90dc38b1",
   "metadata": {},
   "source": [
    "#### zeros（零埋"
   ]
  },
  {
   "cell_type": "code",
   "execution_count": 7,
   "id": "1e6663b0-2c31-4d3a-ba4a-4f2eda6566f8",
   "metadata": {},
   "outputs": [
    {
     "data": {
      "text/plain": [
       "array([0., 0., 0., 0., 0., 0., 0., 0., 0., 0.])"
      ]
     },
     "execution_count": 7,
     "metadata": {},
     "output_type": "execute_result"
    }
   ],
   "source": [
    "np.zeros(10)"
   ]
  },
  {
   "cell_type": "markdown",
   "id": "c30907f3-a95b-43b3-ae2d-40900d4d77c9",
   "metadata": {},
   "source": [
    "#### ランダム"
   ]
  },
  {
   "cell_type": "markdown",
   "id": "96472ce1-2e3f-46d6-9161-7083e868a1bb",
   "metadata": {},
   "source": [
    "##### empty"
   ]
  },
  {
   "cell_type": "code",
   "execution_count": 8,
   "id": "7b0067fc-23e6-4ce0-952c-c835b91a056d",
   "metadata": {},
   "outputs": [
    {
     "data": {
      "text/plain": [
       "array([1.14336051e-313, 0.00000000e+000, 4.68320462e-310, 4.68320465e-310,\n",
       "       2.37151510e-322])"
      ]
     },
     "execution_count": 8,
     "metadata": {},
     "output_type": "execute_result"
    }
   ],
   "source": [
    "np.empty(5)"
   ]
  },
  {
   "cell_type": "markdown",
   "id": "d1e2b958-4ae9-4b6a-8c56-316b44a8f8ee",
   "metadata": {},
   "source": [
    "##### random.randn（標準正規分布"
   ]
  },
  {
   "cell_type": "code",
   "execution_count": 9,
   "id": "6877585f-59c9-496f-a2cb-13552e83a7c2",
   "metadata": {},
   "outputs": [
    {
     "data": {
      "text/plain": [
       "array([-0.2205409 , -0.05504664, -1.34047278, -0.78326938,  0.26394595,\n",
       "       -0.52620167, -0.86969645,  1.2524427 , -1.81822665, -0.01517474])"
      ]
     },
     "execution_count": 9,
     "metadata": {},
     "output_type": "execute_result"
    }
   ],
   "source": [
    "np.random.randn(10)"
   ]
  },
  {
   "cell_type": "markdown",
   "id": "52a0a09b-711c-4012-93b7-c3bd4c80df05",
   "metadata": {
    "tags": []
   },
   "source": [
    "### コピー"
   ]
  },
  {
   "cell_type": "markdown",
   "id": "11994c85-3573-49e8-9693-574dcda296a1",
   "metadata": {},
   "source": [
    "#### 以下は参照渡し"
   ]
  },
  {
   "cell_type": "code",
   "execution_count": 10,
   "id": "62d165d3-1997-488b-af62-c73f8c3987a5",
   "metadata": {},
   "outputs": [
    {
     "name": "stdout",
     "output_type": "stream",
     "text": [
      "[  1. 100.   3.]\n",
      "[  1. 100.   3.]\n"
     ]
    }
   ],
   "source": [
    "a=np.array([1.0,2.0,3.0])\n",
    "b=a\n",
    "b[1]=100\n",
    "print(a)\n",
    "print(b)"
   ]
  },
  {
   "cell_type": "markdown",
   "id": "fdde5e7e-e2a2-47e8-b8c1-0e021c948ebf",
   "metadata": {},
   "source": [
    "#### コピーする場合は以下"
   ]
  },
  {
   "cell_type": "code",
   "execution_count": 11,
   "id": "b8e5fee3-72b6-4076-b829-315b74b5d427",
   "metadata": {},
   "outputs": [
    {
     "name": "stdout",
     "output_type": "stream",
     "text": [
      "[1. 2. 3.]\n",
      "[  1. 100.   3.]\n"
     ]
    }
   ],
   "source": [
    "a=np.array([1.0,2.0,3.0])\n",
    "b=a.copy()\n",
    "b[1]=100\n",
    "print(a)\n",
    "print(b)"
   ]
  },
  {
   "cell_type": "markdown",
   "id": "04678493-6d45-4b27-868c-8f7fba7ab52e",
   "metadata": {
    "tags": []
   },
   "source": [
    "### 表示"
   ]
  },
  {
   "cell_type": "code",
   "execution_count": 12,
   "id": "50a191a7-8a2d-473b-8046-16cadb3f80d4",
   "metadata": {},
   "outputs": [],
   "source": [
    "a=np.array([1.0,2.0,3.0])"
   ]
  },
  {
   "cell_type": "markdown",
   "id": "030b4030-d9b4-4185-a5f1-f757dd0aa6bc",
   "metadata": {},
   "source": [
    "#### 生"
   ]
  },
  {
   "cell_type": "code",
   "execution_count": 13,
   "id": "a066e1aa-e363-47e8-9ee1-a28408b4d0ea",
   "metadata": {},
   "outputs": [
    {
     "data": {
      "text/plain": [
       "array([1., 2., 3.])"
      ]
     },
     "execution_count": 13,
     "metadata": {},
     "output_type": "execute_result"
    }
   ],
   "source": [
    "a"
   ]
  },
  {
   "cell_type": "markdown",
   "id": "b6707977-4f92-4a60-a671-b517b95bf26d",
   "metadata": {},
   "source": [
    "#### print"
   ]
  },
  {
   "cell_type": "code",
   "execution_count": 14,
   "id": "7c1f23fb-3d80-45ac-8798-241f397fe91a",
   "metadata": {},
   "outputs": [
    {
     "name": "stdout",
     "output_type": "stream",
     "text": [
      "[1. 2. 3.]\n"
     ]
    }
   ],
   "source": [
    "print(a)"
   ]
  },
  {
   "cell_type": "markdown",
   "id": "90544000-64c4-44ae-b69e-ab319b41655c",
   "metadata": {},
   "source": [
    "#### その他の関数"
   ]
  },
  {
   "cell_type": "markdown",
   "id": "47a42311-12a1-43e1-82d4-cb366ac98be0",
   "metadata": {
    "tags": []
   },
   "source": [
    "##### type\n",
    "変数のデータ型"
   ]
  },
  {
   "cell_type": "code",
   "execution_count": 15,
   "id": "593d36d9-ce4f-4787-9d2d-a188bdcd0231",
   "metadata": {},
   "outputs": [
    {
     "data": {
      "text/plain": [
       "numpy.ndarray"
      ]
     },
     "execution_count": 15,
     "metadata": {},
     "output_type": "execute_result"
    }
   ],
   "source": [
    "type(a)"
   ]
  },
  {
   "cell_type": "markdown",
   "id": "744b1421-2787-4657-bd50-dcdcfc3d38f5",
   "metadata": {},
   "source": [
    "##### dtype\n",
    "要素のデータ型"
   ]
  },
  {
   "cell_type": "code",
   "execution_count": 16,
   "id": "44a1128d-1b23-43e1-b05d-f6302e8bc562",
   "metadata": {},
   "outputs": [
    {
     "data": {
      "text/plain": [
       "dtype('float64')"
      ]
     },
     "execution_count": 16,
     "metadata": {},
     "output_type": "execute_result"
    }
   ],
   "source": [
    "a.dtype"
   ]
  },
  {
   "cell_type": "markdown",
   "id": "8bec62c3-ff55-4956-962a-1acca051516f",
   "metadata": {},
   "source": [
    "##### ndim\n",
    "配列の次元は１次元"
   ]
  },
  {
   "cell_type": "code",
   "execution_count": 17,
   "id": "9f8895a5-1f01-403e-abf2-3d4e6b59567d",
   "metadata": {},
   "outputs": [
    {
     "data": {
      "text/plain": [
       "1"
      ]
     },
     "execution_count": 17,
     "metadata": {},
     "output_type": "execute_result"
    }
   ],
   "source": [
    "np.ndim(a)"
   ]
  },
  {
   "cell_type": "markdown",
   "id": "70f8ac17-adad-401f-8a35-dcb39b8c4437",
   "metadata": {},
   "source": [
    "##### shape\n",
    "次元の形状"
   ]
  },
  {
   "cell_type": "code",
   "execution_count": 18,
   "id": "48546a4c-678c-4731-8e74-f0828043f72c",
   "metadata": {},
   "outputs": [
    {
     "data": {
      "text/plain": [
       "(3,)"
      ]
     },
     "execution_count": 18,
     "metadata": {},
     "output_type": "execute_result"
    }
   ],
   "source": [
    "a.shape"
   ]
  },
  {
   "cell_type": "markdown",
   "id": "8d5702f3-8f6f-483e-9207-7ed1858b563f",
   "metadata": {},
   "source": [
    "##### shape[n]\n",
    "ｎ次元の要素数"
   ]
  },
  {
   "cell_type": "code",
   "execution_count": 19,
   "id": "a47d6133-4876-4d19-8384-1d19c83762e3",
   "metadata": {},
   "outputs": [
    {
     "data": {
      "text/plain": [
       "3"
      ]
     },
     "execution_count": 19,
     "metadata": {},
     "output_type": "execute_result"
    }
   ],
   "source": [
    "a.shape[0]"
   ]
  },
  {
   "cell_type": "markdown",
   "id": "88d27fdb-99cd-466e-b563-69ab2641f7e6",
   "metadata": {},
   "source": [
    "## 計算"
   ]
  },
  {
   "cell_type": "markdown",
   "id": "c9418538-4154-430c-bf59-809e26e2dbbf",
   "metadata": {
    "tags": []
   },
   "source": [
    "### 算術計算"
   ]
  },
  {
   "cell_type": "markdown",
   "id": "6594cfde-4a99-4e8c-a212-b5677d81ed2b",
   "metadata": {
    "tags": []
   },
   "source": [
    "#### 四則演算\n",
    "２つのNumPy配列を算術計算で処理する。"
   ]
  },
  {
   "cell_type": "markdown",
   "id": "16ba6e91-0bb5-430f-93dd-dd9fe6c3cbfc",
   "metadata": {},
   "source": [
    "##### 準備"
   ]
  },
  {
   "cell_type": "code",
   "execution_count": 20,
   "id": "024c1dda-a130-49a9-9185-67fa136f9294",
   "metadata": {},
   "outputs": [],
   "source": [
    "x=np.array([1.0,2.0,3.0])\n",
    "y=np.array([2.0,4.0,6.0])"
   ]
  },
  {
   "cell_type": "markdown",
   "id": "bc5ea376-474d-45eb-aa16-a732cd2c2029",
   "metadata": {},
   "source": [
    "##### 同じ数の要素を持つ配列の要素ごとの計算"
   ]
  },
  {
   "cell_type": "markdown",
   "id": "b9393f32-8ac8-4b20-a566-054b9dc011e7",
   "metadata": {},
   "source": [
    "###### 要素ごとの足し算"
   ]
  },
  {
   "cell_type": "code",
   "execution_count": 21,
   "id": "5a00cb71-8a93-454f-add5-e1223ac01106",
   "metadata": {},
   "outputs": [
    {
     "data": {
      "text/plain": [
       "array([3., 6., 9.])"
      ]
     },
     "execution_count": 21,
     "metadata": {},
     "output_type": "execute_result"
    }
   ],
   "source": [
    "x+y"
   ]
  },
  {
   "cell_type": "markdown",
   "id": "dde67b3c-06da-4a88-936c-1444bbfcda0e",
   "metadata": {},
   "source": [
    "###### 要素ごとの引き算"
   ]
  },
  {
   "cell_type": "code",
   "execution_count": 22,
   "id": "92da4b6d-491d-463e-9c09-80d6560be2ac",
   "metadata": {},
   "outputs": [
    {
     "data": {
      "text/plain": [
       "array([-1., -2., -3.])"
      ]
     },
     "execution_count": 22,
     "metadata": {},
     "output_type": "execute_result"
    }
   ],
   "source": [
    "x-y"
   ]
  },
  {
   "cell_type": "markdown",
   "id": "5291d69a-15af-4c68-8c82-e5d3e63366c3",
   "metadata": {},
   "source": [
    "###### 要素ごとの掛け算"
   ]
  },
  {
   "cell_type": "code",
   "execution_count": 23,
   "id": "84fc2629-0421-48ac-a8e2-b1b7ef38423f",
   "metadata": {},
   "outputs": [
    {
     "data": {
      "text/plain": [
       "array([ 2.,  8., 18.])"
      ]
     },
     "execution_count": 23,
     "metadata": {},
     "output_type": "execute_result"
    }
   ],
   "source": [
    "x*y"
   ]
  },
  {
   "cell_type": "markdown",
   "id": "deabad14-1e25-4ea3-b5fe-792315e99aff",
   "metadata": {},
   "source": [
    "###### 要素ごとの割り算"
   ]
  },
  {
   "cell_type": "code",
   "execution_count": 24,
   "id": "a1ce0b9c-b57e-455f-bf47-b71e3de6bb30",
   "metadata": {},
   "outputs": [
    {
     "data": {
      "text/plain": [
       "array([0.5, 0.5, 0.5])"
      ]
     },
     "execution_count": 24,
     "metadata": {},
     "output_type": "execute_result"
    }
   ],
   "source": [
    "x/y"
   ]
  },
  {
   "cell_type": "markdown",
   "id": "0acf062c-3c16-4b1c-a719-89dde828e36f",
   "metadata": {},
   "source": [
    "##### ブロード・キャストによる計算"
   ]
  },
  {
   "cell_type": "code",
   "execution_count": 25,
   "id": "f09f764d-f9e5-40fb-949b-9007a0e5e35d",
   "metadata": {},
   "outputs": [
    {
     "data": {
      "text/plain": [
       "array([0.5, 1. , 1.5])"
      ]
     },
     "execution_count": 25,
     "metadata": {},
     "output_type": "execute_result"
    }
   ],
   "source": [
    "# ブロード・キャストの割り算\n",
    "x/2.0"
   ]
  },
  {
   "cell_type": "markdown",
   "id": "fa33aa47-33aa-4990-bcc9-823cf1d8e27a",
   "metadata": {
    "tags": []
   },
   "source": [
    "#### その他の計算"
   ]
  },
  {
   "cell_type": "markdown",
   "id": "16c8100b-e013-496a-96d0-116663aad892",
   "metadata": {},
   "source": [
    "##### 準備"
   ]
  },
  {
   "cell_type": "code",
   "execution_count": 26,
   "id": "bc2148f2-5ef6-4467-9d9a-bc92fc6306e9",
   "metadata": {},
   "outputs": [
    {
     "data": {
      "text/plain": [
       "array([0, 1, 2, 3, 4, 5, 6, 7, 8, 9])"
      ]
     },
     "execution_count": 26,
     "metadata": {},
     "output_type": "execute_result"
    }
   ],
   "source": [
    "x=np.arange(10)\n",
    "x"
   ]
  },
  {
   "cell_type": "markdown",
   "id": "e3686bd6-c1ee-4155-8193-45e0138bd381",
   "metadata": {},
   "source": [
    "##### 平方根の計算"
   ]
  },
  {
   "cell_type": "code",
   "execution_count": 27,
   "id": "f2a7a49e-cbea-4d43-bdc2-0519e952c651",
   "metadata": {},
   "outputs": [
    {
     "data": {
      "text/plain": [
       "array([0.        , 1.        , 1.41421356, 1.73205081, 2.        ,\n",
       "       2.23606798, 2.44948974, 2.64575131, 2.82842712, 3.        ])"
      ]
     },
     "execution_count": 27,
     "metadata": {},
     "output_type": "execute_result"
    }
   ],
   "source": [
    "np.sqrt(x)"
   ]
  },
  {
   "cell_type": "markdown",
   "id": "b370ac4f-cb1f-412d-b87b-bd2ac2f32514",
   "metadata": {},
   "source": [
    "##### ネイピア数（自然対数の底）e を底とする累乗"
   ]
  },
  {
   "cell_type": "code",
   "execution_count": 28,
   "id": "37855ae7-986f-4181-affe-8bb08f7a1cd0",
   "metadata": {},
   "outputs": [
    {
     "data": {
      "text/plain": [
       "array([1.00000000e+00, 2.71828183e+00, 7.38905610e+00, 2.00855369e+01,\n",
       "       5.45981500e+01, 1.48413159e+02, 4.03428793e+02, 1.09663316e+03,\n",
       "       2.98095799e+03, 8.10308393e+03])"
      ]
     },
     "execution_count": 28,
     "metadata": {},
     "output_type": "execute_result"
    }
   ],
   "source": [
    "np.exp(x)"
   ]
  },
  {
   "cell_type": "markdown",
   "id": "b67971e7-907d-4ded-b922-87406a84226c",
   "metadata": {
    "tags": []
   },
   "source": [
    "### 統計計算"
   ]
  },
  {
   "cell_type": "markdown",
   "id": "cd65c824-4f66-4b43-87c0-733dbb5a9859",
   "metadata": {},
   "source": [
    "#### 準備\n",
    "（標準正規分布）"
   ]
  },
  {
   "cell_type": "code",
   "execution_count": 29,
   "id": "b40d8032-a82f-41e8-85bb-7d9b0bed6978",
   "metadata": {},
   "outputs": [
    {
     "name": "stdout",
     "output_type": "stream",
     "text": [
      "[0.65829429 0.10913517 0.24321879 0.30499759 0.87907537 0.03563249\n",
      " 0.1049293  0.55851045 0.20243893 0.99833394]\n"
     ]
    }
   ],
   "source": [
    "x=np.random.rand(10)\n",
    "print(x)"
   ]
  },
  {
   "cell_type": "markdown",
   "id": "ba2c0206-f34f-4b01-bc62-2c7a4da5f194",
   "metadata": {},
   "source": [
    "#### 符号"
   ]
  },
  {
   "cell_type": "code",
   "execution_count": 30,
   "id": "2b407786-c124-4b1d-afee-e40c86e207d0",
   "metadata": {},
   "outputs": [
    {
     "data": {
      "text/plain": [
       "array([1., 1., 1., 1., 1., 1., 1., 1., 1., 1.])"
      ]
     },
     "execution_count": 30,
     "metadata": {},
     "output_type": "execute_result"
    }
   ],
   "source": [
    "np.sign(x)"
   ]
  },
  {
   "cell_type": "markdown",
   "id": "68cfba63-865e-4cd7-960a-5dc6544ef87b",
   "metadata": {},
   "source": [
    "#### 平均値\n",
    "標準正規分布で要素数を増やすと０に近づく"
   ]
  },
  {
   "cell_type": "code",
   "execution_count": 31,
   "id": "14c82c4f-5a4d-426d-8583-69ed764d4f08",
   "metadata": {},
   "outputs": [
    {
     "data": {
      "text/plain": [
       "np.float64(0.4094566327189223)"
      ]
     },
     "execution_count": 31,
     "metadata": {},
     "output_type": "execute_result"
    }
   ],
   "source": [
    "x.mean()"
   ]
  },
  {
   "cell_type": "markdown",
   "id": "fb34718e-a588-4d50-b91a-c9fe33a7fa79",
   "metadata": {},
   "source": [
    "#### 中央値"
   ]
  },
  {
   "cell_type": "code",
   "execution_count": 32,
   "id": "b0447140-ffb9-493a-902c-4c49a16c2dd7",
   "metadata": {},
   "outputs": [
    {
     "data": {
      "text/plain": [
       "np.float64(0.27410819089813254)"
      ]
     },
     "execution_count": 32,
     "metadata": {},
     "output_type": "execute_result"
    }
   ],
   "source": [
    "np.median(x)"
   ]
  },
  {
   "cell_type": "markdown",
   "id": "e0f68f6b-2590-4f75-a5ff-0ed1a87470f1",
   "metadata": {},
   "source": [
    "#### 標準偏差\n",
    "標準正規分布で要素数を増やすと１に近づく"
   ]
  },
  {
   "cell_type": "code",
   "execution_count": 33,
   "id": "1bdef9a9-67bf-4ddd-9d95-31a09709001f",
   "metadata": {},
   "outputs": [
    {
     "data": {
      "text/plain": [
       "np.float64(0.324889652674455)"
      ]
     },
     "execution_count": 33,
     "metadata": {},
     "output_type": "execute_result"
    }
   ],
   "source": [
    "x.std()"
   ]
  },
  {
   "cell_type": "markdown",
   "id": "4c91036a-7cdd-47aa-9739-c7c13a2aca4e",
   "metadata": {
    "tags": []
   },
   "source": [
    "## アクセス\n",
    "要素へのアクセス"
   ]
  },
  {
   "cell_type": "markdown",
   "id": "0c12a184-d7b2-4481-877a-d25cdc0761c3",
   "metadata": {
    "tags": []
   },
   "source": [
    "### 準備"
   ]
  },
  {
   "cell_type": "code",
   "execution_count": 34,
   "id": "67f01e15-b379-4481-807c-9e620e548c6d",
   "metadata": {},
   "outputs": [],
   "source": [
    "def function1():\n",
    "    return np.arange(10)"
   ]
  },
  {
   "cell_type": "code",
   "execution_count": 35,
   "id": "fa0ba9fc-ff82-41fe-b65f-e21647d0cedf",
   "metadata": {},
   "outputs": [
    {
     "name": "stdout",
     "output_type": "stream",
     "text": [
      "[0 1 2 3 4 5 6 7 8 9]\n"
     ]
    }
   ],
   "source": [
    "a=function1()\n",
    "print(a)"
   ]
  },
  {
   "cell_type": "markdown",
   "id": "e0802144-aaf8-43ad-a9a2-6d16e5fbbd88",
   "metadata": {
    "tags": []
   },
   "source": [
    "### インデックス番号で指定"
   ]
  },
  {
   "cell_type": "code",
   "execution_count": 36,
   "id": "d375c90b-3501-4241-97ad-2f5564c38700",
   "metadata": {
    "tags": []
   },
   "outputs": [
    {
     "data": {
      "text/plain": [
       "np.int64(1)"
      ]
     },
     "execution_count": 36,
     "metadata": {},
     "output_type": "execute_result"
    }
   ],
   "source": [
    "a[1]"
   ]
  },
  {
   "cell_type": "markdown",
   "id": "bf3d89d6-68be-4183-9c4f-84de08752cc1",
   "metadata": {
    "tags": []
   },
   "source": [
    "### 複数要素の抽出 "
   ]
  },
  {
   "cell_type": "markdown",
   "id": "30327919-ac30-46bc-a2ed-e8c4a612d95c",
   "metadata": {},
   "source": [
    "#### スライシング"
   ]
  },
  {
   "cell_type": "code",
   "execution_count": 37,
   "id": "99afe061-5413-4c71-92f1-ff54beffe0e4",
   "metadata": {},
   "outputs": [
    {
     "data": {
      "text/plain": [
       "array([3, 4, 5, 6])"
      ]
     },
     "execution_count": 37,
     "metadata": {},
     "output_type": "execute_result"
    }
   ],
   "source": [
    "a[3:7]"
   ]
  },
  {
   "cell_type": "markdown",
   "id": "858aa2d7-3d4c-416f-b7c7-3c2023a5fb52",
   "metadata": {},
   "source": [
    "#### 配列で指定"
   ]
  },
  {
   "cell_type": "code",
   "execution_count": 38,
   "id": "f8952378-c7c2-4b1c-bb36-f03142872e86",
   "metadata": {},
   "outputs": [
    {
     "data": {
      "text/plain": [
       "array([3, 4, 5, 6])"
      ]
     },
     "execution_count": 38,
     "metadata": {},
     "output_type": "execute_result"
    }
   ],
   "source": [
    "a[np.array([3,4,5,6])]"
   ]
  },
  {
   "cell_type": "markdown",
   "id": "59c83f4c-6c76-4cf3-a47d-87d6ba3430f7",
   "metadata": {},
   "source": [
    "#### 比較演算で指定\n",
    "比較の結果boolの配列が生成され、これでインデックスを指定している。"
   ]
  },
  {
   "cell_type": "markdown",
   "id": "5bf221b2-a488-493d-b750-2ec951eb9506",
   "metadata": {
    "tags": []
   },
   "source": [
    "##### 「＝」で指定"
   ]
  },
  {
   "cell_type": "markdown",
   "id": "06bdb89c-2d9d-48e3-8816-c8d3d0754b09",
   "metadata": {},
   "source": [
    "###### True, False配列を取得"
   ]
  },
  {
   "cell_type": "code",
   "execution_count": 39,
   "id": "5a159688-d1c6-406b-ab47-4d3d36b5a212",
   "metadata": {},
   "outputs": [
    {
     "data": {
      "text/plain": [
       "array([False, False, False, False, False,  True, False, False, False,\n",
       "       False])"
      ]
     },
     "execution_count": 39,
     "metadata": {},
     "output_type": "execute_result"
    }
   ],
   "source": [
    "a==5"
   ]
  },
  {
   "cell_type": "markdown",
   "id": "89773fdf-c8c6-46ea-944f-f33950864024",
   "metadata": {},
   "source": [
    "###### True, False配列で抽出"
   ]
  },
  {
   "cell_type": "code",
   "execution_count": 40,
   "id": "188d495a-6c7f-4cf3-bbfb-82080c47a099",
   "metadata": {},
   "outputs": [
    {
     "data": {
      "text/plain": [
       "array([5])"
      ]
     },
     "execution_count": 40,
     "metadata": {},
     "output_type": "execute_result"
    }
   ],
   "source": [
    "a[a==5]"
   ]
  },
  {
   "cell_type": "markdown",
   "id": "f14646d6-2329-4c59-b489-acff284c905f",
   "metadata": {
    "tags": []
   },
   "source": [
    "##### 「＞」で指定"
   ]
  },
  {
   "cell_type": "markdown",
   "id": "73b129ed-590b-4e00-bb55-313b5df63820",
   "metadata": {},
   "source": [
    "###### True, False配列を取得"
   ]
  },
  {
   "cell_type": "code",
   "execution_count": 41,
   "id": "a9a4d099-57ad-4455-b125-8ee2cc1f731a",
   "metadata": {},
   "outputs": [
    {
     "data": {
      "text/plain": [
       "array([False, False, False, False, False, False,  True,  True,  True,\n",
       "        True])"
      ]
     },
     "execution_count": 41,
     "metadata": {},
     "output_type": "execute_result"
    }
   ],
   "source": [
    "a>5"
   ]
  },
  {
   "cell_type": "markdown",
   "id": "434c0d4d-95f3-499d-8a8a-b9b5e2ba1e54",
   "metadata": {},
   "source": [
    "###### True, False配列で抽出"
   ]
  },
  {
   "cell_type": "code",
   "execution_count": 42,
   "id": "1584c0f2-2553-4b2e-9425-c365196e5220",
   "metadata": {},
   "outputs": [
    {
     "data": {
      "text/plain": [
       "array([6, 7, 8, 9])"
      ]
     },
     "execution_count": 42,
     "metadata": {},
     "output_type": "execute_result"
    }
   ],
   "source": [
    "a[a>5]"
   ]
  },
  {
   "cell_type": "markdown",
   "id": "2d7ef16f-4529-4eff-9193-a23dec376dd8",
   "metadata": {
    "tags": []
   },
   "source": [
    "### 複数要素の置換"
   ]
  },
  {
   "cell_type": "markdown",
   "id": "38c2c270-d690-4bcb-8917-3dd8c112de62",
   "metadata": {},
   "source": [
    "#### スライシング"
   ]
  },
  {
   "cell_type": "code",
   "execution_count": 43,
   "id": "69d3638d-c957-438c-af24-c6d8eea2f964",
   "metadata": {},
   "outputs": [
    {
     "name": "stdout",
     "output_type": "stream",
     "text": [
      "[0 1 2 3 4 5 6 7 8 9]\n",
      "[0 1 2 0 0 0 0 7 8 9]\n"
     ]
    }
   ],
   "source": [
    "a=function1()\n",
    "print(a)\n",
    "a[3:7]=0\n",
    "print(a)"
   ]
  },
  {
   "cell_type": "markdown",
   "id": "4524c56e-e79f-4185-b497-35da692740ec",
   "metadata": {},
   "source": [
    "#### 配列で指定"
   ]
  },
  {
   "cell_type": "code",
   "execution_count": 44,
   "id": "693f17ce-594f-465d-a775-b0b9c11efeb3",
   "metadata": {},
   "outputs": [
    {
     "name": "stdout",
     "output_type": "stream",
     "text": [
      "[0 1 2 3 4 5 6 7 8 9]\n",
      "[0 1 2 0 0 0 0 7 8 9]\n"
     ]
    }
   ],
   "source": [
    "a=function1()\n",
    "print(a)\n",
    "a[np.array([3,4,5,6])]=0\n",
    "print(a)"
   ]
  },
  {
   "cell_type": "markdown",
   "id": "93b16ee0-80d5-4bbe-97ca-76c15bdd961d",
   "metadata": {},
   "source": [
    "##### 「＝」で指定"
   ]
  },
  {
   "cell_type": "markdown",
   "id": "106114bb-f5d8-4f2e-aba9-e1fef640aac8",
   "metadata": {},
   "source": [
    "###### True, False配列を取得"
   ]
  },
  {
   "cell_type": "code",
   "execution_count": 45,
   "id": "153b8058-b44e-44a5-acf1-8844bdfb4cbf",
   "metadata": {},
   "outputs": [
    {
     "data": {
      "text/plain": [
       "array([False, False, False, False, False,  True, False, False, False,\n",
       "       False])"
      ]
     },
     "execution_count": 45,
     "metadata": {},
     "output_type": "execute_result"
    }
   ],
   "source": [
    "a=function1()\n",
    "a==5"
   ]
  },
  {
   "cell_type": "markdown",
   "id": "71d37fdd-fab8-4b0a-815c-bfbc5fc009a8",
   "metadata": {},
   "source": [
    "###### True, False配列で置換"
   ]
  },
  {
   "cell_type": "code",
   "execution_count": 46,
   "id": "3f1b96d2-40fd-474c-aa28-a9112781d43c",
   "metadata": {},
   "outputs": [
    {
     "name": "stdout",
     "output_type": "stream",
     "text": [
      "[0 1 2 3 4 5 6 7 8 9]\n",
      "[0 1 2 3 4 0 6 7 8 9]\n"
     ]
    }
   ],
   "source": [
    "print(a)\n",
    "a[a==5]=0\n",
    "print(a)"
   ]
  },
  {
   "cell_type": "markdown",
   "id": "480aca44-ed19-48da-8e21-eb7032301d7b",
   "metadata": {},
   "source": [
    "##### 「＞」で指定"
   ]
  },
  {
   "cell_type": "markdown",
   "id": "ec6e7784-3c51-4a12-a4c4-6e9153623c8e",
   "metadata": {},
   "source": [
    "###### True, False配列を取得"
   ]
  },
  {
   "cell_type": "code",
   "execution_count": 47,
   "id": "fd063c3d-8648-49e2-b1b9-e0f7b4fde72f",
   "metadata": {},
   "outputs": [
    {
     "data": {
      "text/plain": [
       "array([False, False, False, False, False, False,  True,  True,  True,\n",
       "        True])"
      ]
     },
     "execution_count": 47,
     "metadata": {},
     "output_type": "execute_result"
    }
   ],
   "source": [
    "a=function1()\n",
    "a>5"
   ]
  },
  {
   "cell_type": "markdown",
   "id": "dc6de48b-d028-4587-b0e8-9b3201611be1",
   "metadata": {},
   "source": [
    "###### True, False配列で置換"
   ]
  },
  {
   "cell_type": "code",
   "execution_count": 48,
   "id": "3b8bf173-b229-4fc0-8eb9-64cae3c379f5",
   "metadata": {},
   "outputs": [
    {
     "name": "stdout",
     "output_type": "stream",
     "text": [
      "[0 1 2 3 4 5 6 7 8 9]\n",
      "[0 1 2 3 4 5 0 0 0 0]\n"
     ]
    }
   ],
   "source": [
    "print(a)\n",
    "a[a>5]=0\n",
    "print(a)"
   ]
  },
  {
   "cell_type": "markdown",
   "id": "79d52a0a-b505-4548-a3b2-16f8b09cb66a",
   "metadata": {
    "tags": []
   },
   "source": [
    "## ベクトルの積算（内積）"
   ]
  },
  {
   "cell_type": "markdown",
   "id": "6bbeb96e-4364-49dd-bc2c-562f54db83f9",
   "metadata": {
    "tags": []
   },
   "source": [
    "### データ生成"
   ]
  },
  {
   "cell_type": "markdown",
   "id": "529f366f-aa8a-4358-954d-ddb6c69f40a9",
   "metadata": {},
   "source": [
    "#### 生成"
   ]
  },
  {
   "cell_type": "code",
   "execution_count": 49,
   "id": "23a7bfba-0ee5-4730-b596-3e36d3784b6e",
   "metadata": {},
   "outputs": [],
   "source": [
    "a=np.array([1,2,3,4])\n",
    "b=np.array([10,20,30,40])"
   ]
  },
  {
   "cell_type": "markdown",
   "id": "6622858a-12ac-46ee-a25e-4d458dbe110b",
   "metadata": {},
   "source": [
    "#### 確認"
   ]
  },
  {
   "cell_type": "code",
   "execution_count": 50,
   "id": "2c852e4d-4d92-42e0-b9fd-3a37ddf44a6b",
   "metadata": {},
   "outputs": [
    {
     "name": "stdout",
     "output_type": "stream",
     "text": [
      "a\n",
      "[1 2 3 4]\n",
      "b\n",
      "[10 20 30 40]\n"
     ]
    }
   ],
   "source": [
    "print(\"a\")\n",
    "print(a)\n",
    "print(\"b\")\n",
    "print(b)"
   ]
  },
  {
   "cell_type": "markdown",
   "id": "72e8fa33-6111-4c43-aeff-0caceab22399",
   "metadata": {
    "tags": []
   },
   "source": [
    "### 計算方法"
   ]
  },
  {
   "cell_type": "markdown",
   "id": "44f73ac9-a316-4160-90cb-777ae4e53751",
   "metadata": {},
   "source": [
    "#### 演算子"
   ]
  },
  {
   "cell_type": "code",
   "execution_count": 51,
   "id": "3f2cc926-0ff3-4e0e-bdaa-ebc1527c906d",
   "metadata": {},
   "outputs": [
    {
     "data": {
      "text/plain": [
       "np.int64(300)"
      ]
     },
     "execution_count": 51,
     "metadata": {},
     "output_type": "execute_result"
    }
   ],
   "source": [
    "a@b"
   ]
  },
  {
   "cell_type": "markdown",
   "id": "7dbf9c72-c40c-4564-bf98-9430ccd30723",
   "metadata": {},
   "source": [
    "#### メソッド"
   ]
  },
  {
   "cell_type": "code",
   "execution_count": 52,
   "id": "18e755d1-e10a-4152-a1c9-acb16a6b6993",
   "metadata": {},
   "outputs": [
    {
     "data": {
      "text/plain": [
       "np.int64(300)"
      ]
     },
     "execution_count": 52,
     "metadata": {},
     "output_type": "execute_result"
    }
   ],
   "source": [
    "np.dot(a,b)"
   ]
  },
  {
   "cell_type": "markdown",
   "id": "401b49e3-56d6-4309-8c6f-267778912a8d",
   "metadata": {
    "tags": []
   },
   "source": [
    "### 交換法則\n",
    "行列では、交換法則の不成立になるが、ベクトルの場合は成立する。"
   ]
  },
  {
   "cell_type": "markdown",
   "id": "3e4b233c-9fd1-4b8c-a9b7-858bdb51ea37",
   "metadata": {},
   "source": [
    "#### 演算子"
   ]
  },
  {
   "cell_type": "code",
   "execution_count": 53,
   "id": "c4c8fe08-95e1-48af-bba8-616fb1031129",
   "metadata": {},
   "outputs": [
    {
     "data": {
      "text/plain": [
       "np.int64(300)"
      ]
     },
     "execution_count": 53,
     "metadata": {},
     "output_type": "execute_result"
    }
   ],
   "source": [
    "a@b"
   ]
  },
  {
   "cell_type": "code",
   "execution_count": 54,
   "id": "57460630-1c5c-4ab3-9a85-4b6e56290cd5",
   "metadata": {},
   "outputs": [
    {
     "data": {
      "text/plain": [
       "np.int64(300)"
      ]
     },
     "execution_count": 54,
     "metadata": {},
     "output_type": "execute_result"
    }
   ],
   "source": [
    "b@a"
   ]
  },
  {
   "cell_type": "markdown",
   "id": "f856f6c0-47bc-45a1-b1e2-7a248358aad5",
   "metadata": {},
   "source": [
    "#### メソッド"
   ]
  },
  {
   "cell_type": "code",
   "execution_count": 55,
   "id": "a953d944-cf22-4747-9ca2-36b7dddaca4d",
   "metadata": {},
   "outputs": [
    {
     "data": {
      "text/plain": [
       "np.int64(300)"
      ]
     },
     "execution_count": 55,
     "metadata": {},
     "output_type": "execute_result"
    }
   ],
   "source": [
    "np.dot(a,b)"
   ]
  },
  {
   "cell_type": "code",
   "execution_count": 56,
   "id": "71f83215-16ac-408d-a4e7-e065cabaecdd",
   "metadata": {},
   "outputs": [
    {
     "data": {
      "text/plain": [
       "np.int64(300)"
      ]
     },
     "execution_count": 56,
     "metadata": {},
     "output_type": "execute_result"
    }
   ],
   "source": [
    "np.dot(b,a)"
   ]
  }
 ],
 "metadata": {
  "kernelspec": {
   "display_name": "Python 3 (ipykernel)",
   "language": "python",
   "name": "python3"
  },
  "language_info": {
   "codemirror_mode": {
    "name": "ipython",
    "version": 3
   },
   "file_extension": ".py",
   "mimetype": "text/x-python",
   "name": "python",
   "nbconvert_exporter": "python",
   "pygments_lexer": "ipython3",
   "version": "3.10.6"
  }
 },
 "nbformat": 4,
 "nbformat_minor": 5
}
