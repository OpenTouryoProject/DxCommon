{
 "cells": [
  {
   "cell_type": "markdown",
   "id": "4fe59fb7-e68d-4e4b-8901-5902d5343ed8",
   "metadata": {},
   "source": [
    "# PyTorchのトレーニング♨\n",
    "\n",
    "## CNN - 初歩的なCNN 編\n",
    "\n",
    "## [目次](TableOfContents.ipynb)\n",
    "- [環境準備](#環境準備)\n",
    "  - [インポート](#インポート)\n",
    "  - [共通関数](#共通関数)\n",
    "- [CNNアルゴリズム・モデル](#RNNアルゴリズム・モデル)\n",
    "  - [MINSTデータ](#MINSTデータ)\n",
    "  - [MINST-DNN](#MINST-DNN)\n",
    "  - [MINST-CNN](#MINST-CNN)\n",
    "  - [商品の自動タグ付け](#商品の自動タグ付け)\n",
    "\n",
    "## 参考\n",
    "開発基盤部会 Wiki\n",
    "- データマイニング（DM）- Python - DL  \n",
    "https://dotnetdevelopmentinfrastructure.osscons.jp/index.php?%E3%83%87%E3%83%BC%E3%82%BF%E3%83%9E%E3%82%A4%E3%83%8B%E3%83%B3%E3%82%B0%EF%BC%88DM%EF%BC%89-%20Python%20-%20DL"
   ]
  },
  {
   "cell_type": "markdown",
   "id": "d48958bb-e085-40a2-a6e1-f00c80080d20",
   "metadata": {},
   "source": [
    "## [環境準備](TensorFlowAndKeras0.ipynb)"
   ]
  },
  {
   "cell_type": "markdown",
   "id": "d6471d2a-b97d-4911-a40a-fd85b947480d",
   "metadata": {},
   "source": [
    "### インポート"
   ]
  },
  {
   "cell_type": "code",
   "execution_count": null,
   "id": "78119215-0ac0-4d5e-a2f9-f160de6fbb07",
   "metadata": {},
   "outputs": [],
   "source": [
    "import io\n",
    "import requests\n",
    "\n",
    "import pandas as pd\n",
    "import numpy as np\n",
    "import matplotlib.pyplot as plt\n",
    "import seaborn as sns\n",
    "\n",
    "from sklearn import metrics\n",
    "from sklearn.metrics import confusion_matrix\n",
    "\n",
    "import torch\n",
    "\n",
    "# データの連結と分割\n",
    "from torch.utils.data import ConcatDataset, Subset\n",
    "\n",
    "#モデル定義ライブラリ\n",
    "import torch.nn as nn\n",
    "import torch.nn.functional as F\n",
    "# 最適化関数ライブラリ\n",
    "import torch.optim as optim\n",
    "# ミニバッチ用ライブラリ\n",
    "from torch.utils.data import DataLoader\n",
    "\n",
    "import torchvision\n",
    "\n",
    "# torchvision内のMNIST\n",
    "from torchvision.datasets import MNIST\n",
    "# ToTensorを含む前処理パッケージの呼び出し\n",
    "import torchvision.transforms as transforms\n",
    "\n",
    "# プログレスバー（学習関数で使用する\n",
    "from tqdm import tqdm\n",
    "\n",
    "import warnings\n",
    "warnings.filterwarnings('ignore')\n",
    "%matplotlib inline"
   ]
  },
  {
   "cell_type": "markdown",
   "id": "d6a80711-bca7-474a-84d9-542ba184c1f8",
   "metadata": {},
   "source": [
    "### 共通関数"
   ]
  },
  {
   "cell_type": "markdown",
   "id": "31186f63-ad5a-4099-9d20-c8af5f769f13",
   "metadata": {},
   "source": [
    "#### 画像確認"
   ]
  },
  {
   "cell_type": "markdown",
   "id": "403d5b9d-8fd0-469b-a8ae-e09b958be26c",
   "metadata": {},
   "source": [
    "##### 画像とラベルの確認"
   ]
  },
  {
   "cell_type": "code",
   "execution_count": null,
   "id": "d7f2a5cf-f2d7-40de-9576-bd9289a897de",
   "metadata": {},
   "outputs": [],
   "source": [
    "def show_image_info(image_tuples, index):    \n",
    "    image, label = image_tuples[index]\n",
    "    print(\"label: \", label)\n",
    "    print(\"Image: \")\n",
    "    plt.imshow(image[0])\n",
    "    plt.show()"
   ]
  },
  {
   "cell_type": "markdown",
   "id": "666bdaa8-2a19-48ae-bfea-a0da6ec1f62d",
   "metadata": {},
   "source": [
    "##### ランダムな画像一覧"
   ]
  },
  {
   "cell_type": "code",
   "execution_count": null,
   "id": "3aae889c-668a-4cec-b3f1-e1a000271633",
   "metadata": {},
   "outputs": [],
   "source": [
    "def show_image_list(image_tuples, numOfCls=10, numOfImgInCls=10):\n",
    "    pos = 1\n",
    "    plt.figure(figsize=(numOfCls, numOfImgInCls))\n",
    "\n",
    "    # クラス毎に以下の処理を繰り返す。\n",
    "    for targetClass in range(numOfCls):\n",
    "        targetIdx = []\n",
    "        \n",
    "        # 当該クラスの画像のインデックスリストを取得\n",
    "        for i in range(len(image_tuples)):\n",
    "            image, label = image_tuples[i]\n",
    "            if label == targetClass:\n",
    "                targetIdx.append(i)\n",
    "        \n",
    "        # 当該クラスのインデックスリストからランダムに選んだ最初のn個の画像を描画\n",
    "        np.random.shuffle(targetIdx)\n",
    "        for idx in targetIdx[:numOfImgInCls]:\n",
    "            plt.subplot(numOfCls, numOfImgInCls, pos)\n",
    "            image, label = image_tuples[idx]\n",
    "            plt.imshow(image[0])\n",
    "            plt.axis('off')\n",
    "            pos += 1\n",
    "\n",
    "plt.show()"
   ]
  },
  {
   "cell_type": "markdown",
   "id": "a31ea11c-822a-43f6-bcba-35b9e7654cca",
   "metadata": {},
   "source": [
    "##### 誤った推論の画像を表示する関数"
   ]
  },
  {
   "cell_type": "code",
   "execution_count": null,
   "id": "50b43b27-5237-44fa-9e03-2dc4ea34097d",
   "metadata": {},
   "outputs": [],
   "source": [
    "y = []\n",
    "for i in range(len(org)):\n",
    "    y.append(org[i][1])\n",
    "\n",
    "print(len(y))\n",
    "print(len(y_pred))\n",
    "index = (np.array(y) == np.array(y_pred))\n",
    "print(index)"
   ]
  },
  {
   "cell_type": "code",
   "execution_count": null,
   "id": "225183c4-7988-4a83-896f-a8f1ed81f7cc",
   "metadata": {},
   "outputs": [],
   "source": [
    "def show_incorrect_image_list(image_tuples, y_pred, numOfImg=10):\n",
    "    #x = []\n",
    "    y = []\n",
    "    for i in range(len(image_tuples)):\n",
    "        #x.append(image_tuples[i][0])\n",
    "        y.append(image_tuples[i][1])\n",
    "        \n",
    "    index = (np.array(y) != np.array(y_pred))\n",
    "    for i, val in enumerate(index):\n",
    "        if val == True:\n",
    "            print('i: ', i)\n",
    "            print('predict: ', y_pred[i])\n",
    "            print('answer : ', y[i])\n",
    "            show_image_info(image_tuples, i)\n",
    "            numOfImg -= 1\n",
    "            if numOfImg <= 0:\n",
    "                break"
   ]
  },
  {
   "cell_type": "markdown",
   "id": "08d02ced-797d-496c-a86b-c3abc45568e1",
   "metadata": {},
   "source": [
    "#### [分類問題関連](ScikitLearnTraining5.ipynb)"
   ]
  },
  {
   "cell_type": "markdown",
   "id": "5f6ca016-48da-4c85-82e4-c985e8bd62b3",
   "metadata": {},
   "source": [
    "##### 分類問題のメトリック表示関数"
   ]
  },
  {
   "cell_type": "code",
   "execution_count": null,
   "id": "500584fc-4042-4953-b5ed-6d958def9586",
   "metadata": {},
   "outputs": [],
   "source": [
    "def print_metrics(label, pred):\n",
    "    print('accuracy: %.3f' % metrics.accuracy_score(label, pred)) # 正答率\n",
    "    \n",
    "    print('\\nmicro') # ミクロ平均\n",
    "    print('recall: %.3f' % metrics.recall_score(label, pred, average='micro')) # 再現率\n",
    "    print('precision: %.3f' % metrics.precision_score(label, pred, average='micro')) # 適合率\n",
    "    print('f1_score: %.3f' % metrics.f1_score(label, pred, average='micro')) # f値\n",
    "    \n",
    "    print('\\nmacro') # マクロ平均\n",
    "    print('recall: %.3f' % metrics.recall_score(label, pred, average='macro')) # 再現率\n",
    "    print('precision: %.3f' % metrics.precision_score(label, pred, average='macro')) # 適合率\n",
    "    print('f1_score: %.3f' % metrics.f1_score(label, pred, average='macro')) # f値"
   ]
  },
  {
   "cell_type": "markdown",
   "id": "84a69fce-f25d-426c-99f3-43eb3cf4a28e",
   "metadata": {},
   "source": [
    "##### 混同行列のグラフ化関数"
   ]
  },
  {
   "cell_type": "code",
   "execution_count": null,
   "id": "b4c44f1c-5e8b-4f28-9c8b-0a2c03604f8e",
   "metadata": {},
   "outputs": [],
   "source": [
    "def plot_cm(confmat, label):\n",
    "    numOfCls = len(label)\n",
    "    fig, ax = plt.subplots(figsize=(numOfCls, numOfCls))\n",
    "    ax.matshow(confmat, cmap=plt.cm.Blues, alpha=0.3)\n",
    "    for i in range(confmat.shape[0]):\n",
    "        for j in range(confmat.shape[1]):\n",
    "            ax.text(x=j, y=i, s=confmat[i, j], va='center', ha='center')\n",
    "            \n",
    "    # 軸目盛を打つ場所を決める\n",
    "    ax.set_xticks(np.arange(len(label)))\n",
    "    ax.set_yticks(np.arange(len(label)))\n",
    "    # 軸目盛を設定\n",
    "    ax.set_xticklabels(label)\n",
    "    ax.set_yticklabels(label)\n",
    "    #plt.xticks(np.array(label)) # x軸の目盛りを指定\n",
    "    #plt.yticks(np.array(label)) # y軸の目盛りを指定\n",
    "    \n",
    "    plt.xlabel('y_pred label')\n",
    "    plt.ylabel('y label')\n",
    "    plt.show()"
   ]
  },
  {
   "cell_type": "markdown",
   "id": "6d0cc1ba-e9c2-4f12-b12a-0875c6566188",
   "metadata": {},
   "source": [
    "#### 学習履歴表示関数"
   ]
  },
  {
   "cell_type": "markdown",
   "id": "b216799f-3f86-42d8-ae3e-ab0b6f685e5f",
   "metadata": {},
   "source": [
    "##### 損失"
   ]
  },
  {
   "cell_type": "code",
   "execution_count": null,
   "id": "7fc6342b-696d-4100-b990-039154d2e585",
   "metadata": {},
   "outputs": [],
   "source": [
    "def plot_history_loss(train_list, val_list):\n",
    "    plt.plot(train_list, label=f\"loss for training\")\n",
    "    plt.plot(val_list, label=f\"loss for validation\")\n",
    "    \n",
    "    plt.title(f\"model loss\")\n",
    "    plt.xlabel(\"epoch\")\n",
    "    plt.ylabel(f\"loss\")\n",
    "    plt.legend(loc='best')\n",
    "    \n",
    "    plt.show()"
   ]
  },
  {
   "cell_type": "markdown",
   "id": "3a23eeaf-71be-426b-a052-32290c641a2d",
   "metadata": {},
   "source": [
    "##### 正解率"
   ]
  },
  {
   "cell_type": "code",
   "execution_count": null,
   "id": "c7ce7f0d-0871-42b5-b048-35244ef092d1",
   "metadata": {},
   "outputs": [],
   "source": [
    "def plot_history_acc(train_list, val_list):\n",
    "    plt.plot(train_list, label=f\"acc for training\")\n",
    "    plt.plot(val_list, label=f\"acc for validation\")\n",
    "    \n",
    "    plt.title(f\"model acc\")\n",
    "    plt.xlabel(\"epoch\")\n",
    "    plt.ylabel(f\"acc\")\n",
    "    plt.legend(loc='best')\n",
    "    \n",
    "    plt.show()"
   ]
  },
  {
   "cell_type": "markdown",
   "id": "2347ba3e-c462-4055-936a-1eecbcaab349",
   "metadata": {},
   "source": [
    "## CNNアルゴリズム・モデル"
   ]
  },
  {
   "cell_type": "markdown",
   "id": "39787893-d227-495c-8b37-ebf85e123bf8",
   "metadata": {
    "tags": []
   },
   "source": [
    "### MINSTデータ"
   ]
  },
  {
   "cell_type": "markdown",
   "id": "db0ca358-ca57-4c96-83c4-608158e072aa",
   "metadata": {
    "tags": []
   },
   "source": [
    "#### 生成"
   ]
  },
  {
   "cell_type": "code",
   "execution_count": null,
   "id": "0ed1d3c1-7248-4013-b4cd-5b079fb5370a",
   "metadata": {},
   "outputs": [],
   "source": [
    "# ToTensorを定義\n",
    "transform = transforms.ToTensor()\n",
    "\n",
    "# 初回はdownload=Trueで実行する。\n",
    "# transformで、(高さ, 幅, チャネル数) → (チャネル数, 幅, 高さ)に変更\n",
    "train_org = MNIST(root=\"./data\", download=False, train=True, transform=transform)\n",
    "test_org = MNIST(root=\"./data\", download=False, train=False, transform=transform)\n",
    "print(len(train_org))\n",
    "print(len(test_org))"
   ]
  },
  {
   "cell_type": "markdown",
   "id": "c2294500-bcfc-4c57-84d9-0f1106af8fac",
   "metadata": {},
   "source": [
    "#### 確認\n",
    "TensorFlow・Kerasと勝手が違い、PyTorchのMNISTデータは、  \n",
    "(画像, 正解ラベル)の組み合わせのtupleの配列から構成される。 "
   ]
  },
  {
   "cell_type": "code",
   "execution_count": null,
   "id": "dbf51df5-389f-4496-a157-c10831eaed00",
   "metadata": {},
   "outputs": [],
   "source": [
    "# 独特の型\n",
    "print(type(train_org))\n",
    "print(type(train_org[0]))"
   ]
  },
  {
   "cell_type": "code",
   "execution_count": null,
   "id": "58bf29c4-2d93-44fc-960c-6358c3b781f2",
   "metadata": {},
   "outputs": [],
   "source": [
    "# 先頭のデータを取り出す。\n",
    "show_image_info(train_org, 0)"
   ]
  },
  {
   "cell_type": "markdown",
   "id": "56be97d5-893f-4d14-bda3-a30e6397cb48",
   "metadata": {},
   "source": [
    "#### 加工\n",
    "一応、結合データも作っておく（型変換、正規化は、ToTensorで処理済み）"
   ]
  },
  {
   "cell_type": "code",
   "execution_count": null,
   "id": "b9741260-9495-4457-9489-a6d90d6dd026",
   "metadata": {},
   "outputs": [],
   "source": [
    "org = ConcatDataset([train_org, test_org])\n",
    "print(type(org))\n",
    "print(len(org))"
   ]
  },
  {
   "cell_type": "markdown",
   "id": "466d333e-82cd-4ce9-8f83-dcd541d679a9",
   "metadata": {},
   "source": [
    "#### 理解"
   ]
  },
  {
   "cell_type": "code",
   "execution_count": null,
   "id": "fac213ca-1229-4b7f-ac09-97501b46a9ce",
   "metadata": {},
   "outputs": [],
   "source": [
    "show_image_info(org, 10)"
   ]
  },
  {
   "cell_type": "code",
   "execution_count": null,
   "id": "aef21828-ef3e-4a99-941a-448c70fb5169",
   "metadata": {},
   "outputs": [],
   "source": [
    "show_image_list(test_org, 10, 10) # orgは重過ぎ"
   ]
  },
  {
   "cell_type": "markdown",
   "id": "451a494c-0e0b-48c6-a99c-0c73693f3ed9",
   "metadata": {},
   "source": [
    "#### 準備"
   ]
  },
  {
   "cell_type": "markdown",
   "id": "1a267e3b-3468-4f26-8777-91ee9ccb25d6",
   "metadata": {},
   "source": [
    "##### PyTorch入力用\n",
    "型変換、正規化は、ToTensorで処理済みとのこと。"
   ]
  },
  {
   "cell_type": "markdown",
   "id": "a3ed8219-f4bf-4d4b-8f2e-f81fa350b1ea",
   "metadata": {},
   "source": [
    "##### 正解ラベルのOne-Hotエンコーディング\n",
    "Kerasで必要だった処理だがPyTorchでは不要らしい。"
   ]
  },
  {
   "cell_type": "markdown",
   "id": "38d2dbb5-594d-47aa-b176-855740f0fc6b",
   "metadata": {},
   "source": [
    "##### 学習・テストデータの分割"
   ]
  },
  {
   "cell_type": "code",
   "execution_count": null,
   "id": "e834d302-a37f-4e64-b5a1-295f0c5e928c",
   "metadata": {},
   "outputs": [],
   "source": [
    "train_data = Subset(train_org, np.arange(0, 50000))\n",
    "val_data = Subset(train_org, np.arange(50000, 60000))\n",
    "print(train_data, len(train_data))\n",
    "print(val_data, len(val_data))"
   ]
  },
  {
   "cell_type": "markdown",
   "id": "7d452ece-d86b-4789-940c-a80587b1fec4",
   "metadata": {},
   "source": [
    "##### 結果が同じになるように乱数のシードを設定"
   ]
  },
  {
   "cell_type": "code",
   "execution_count": null,
   "id": "456981d3-ee84-48c7-bf19-30f0745a280e",
   "metadata": {},
   "outputs": [],
   "source": [
    "torch.manual_seed(1)"
   ]
  },
  {
   "cell_type": "markdown",
   "id": "a29273fc-e68e-48de-92c4-3316112d0306",
   "metadata": {},
   "source": [
    "### MINST-DNN\n",
    "- バージョンのバグか、何故か9を軒並み0と推論する。\n",
    "- サンプルコードをフラットにコピペして検証しても結果変わらず。"
   ]
  },
  {
   "cell_type": "markdown",
   "id": "283cf4b7-a2e1-47c1-bbe6-532e8cdec99c",
   "metadata": {
    "tags": []
   },
   "source": [
    "#### モデリング"
   ]
  },
  {
   "cell_type": "markdown",
   "id": "281f1043-aec2-4a43-bb4d-86f227029216",
   "metadata": {},
   "source": [
    "##### torch.nn.Moduleのサブクラスを定義してモデルを構築\n",
    "一方通行ではない複雑なモデル（ネットワーク）の場合"
   ]
  },
  {
   "cell_type": "code",
   "execution_count": null,
   "id": "53fe6c80-883b-45e6-95d2-fbb91f3b1610",
   "metadata": {},
   "outputs": [],
   "source": [
    "class Model(nn.Module):\n",
    "    # 各層を__init__に定義する\n",
    "    def __init__(self):\n",
    "        # 親クラスの継承\n",
    "        super(Model, self).__init__()\n",
    "        \n",
    "        # 全結合層の定義\n",
    "        self.fc1 = nn.Linear(784, 900)\n",
    "        self.fc2 = nn.Linear(900, 1000)\n",
    "        self.fc3 = nn.Linear(1000, 500)\n",
    "        self.output = nn.Linear(500, 10)\n",
    "        \n",
    "    # 順伝搬の計算の定義\n",
    "    def forward(self, x):\n",
    "        x = F.relu(self.fc1(x))\n",
    "        x = F.relu(self.fc2(x))\n",
    "        x = F.relu(self.fc3(x))\n",
    "        \n",
    "        return F.relu(self.output(x))"
   ]
  },
  {
   "cell_type": "markdown",
   "id": "3a8f2fff-6959-4f10-9ec6-8126f55e3d04",
   "metadata": {},
   "source": [
    "##### torch.nn.Sequentialでモデルを構築\n",
    "一方通行のシンプルなモデル（ネットワーク）の場合"
   ]
  },
  {
   "cell_type": "markdown",
   "id": "7a01c671-0179-4137-b886-03278498bef9",
   "metadata": {},
   "source": [
    "```python\n",
    "class Model(nn.Module):\n",
    "    # 各層を__init__に定義する\n",
    "    def __init__(self):\n",
    "        # 親クラスの継承\n",
    "        super(Model, self).__init__()\n",
    "        \n",
    "        # nn.Sequentalで処理をまとめる\n",
    "        self.layers = nn.Sequential(\n",
    "            nn.Linear(784, 900),\n",
    "            nn.ReLU(inplace=True),\n",
    "            nn.Linear(900, 1000),\n",
    "            nn.ReLU(inplace=True),\n",
    "            nn.Linear(1000, 500),\n",
    "            nn.ReLU(inplace=True),\n",
    "            nn.Linear(500, 10),\n",
    "            nn.ReLU(inplace=True)\n",
    "        )\n",
    "        \n",
    "    # 順伝搬の計算の定義\n",
    "    def forward(self, x):\n",
    "        return self.layers(x)\n",
    "```"
   ]
  },
  {
   "cell_type": "markdown",
   "id": "592edcb2-033e-446a-922c-3ec56dd10f43",
   "metadata": {},
   "source": [
    "##### ネットワーク生成"
   ]
  },
  {
   "cell_type": "code",
   "execution_count": null,
   "id": "382f527b-a5b1-448d-af22-9ba7425ada9b",
   "metadata": {},
   "outputs": [],
   "source": [
    "model = Model()"
   ]
  },
  {
   "cell_type": "markdown",
   "id": "61dae784-161a-4532-9db8-57aa527ff56b",
   "metadata": {},
   "source": [
    "##### 損失関数"
   ]
  },
  {
   "cell_type": "code",
   "execution_count": null,
   "id": "2efd8178-dfef-49ac-a890-8e9bf96ca91f",
   "metadata": {},
   "outputs": [],
   "source": [
    "criterion = nn.CrossEntropyLoss()"
   ]
  },
  {
   "cell_type": "markdown",
   "id": "f44edc42-8a44-4178-b24c-7e94950106a5",
   "metadata": {},
   "source": [
    "##### 最適化関数"
   ]
  },
  {
   "cell_type": "code",
   "execution_count": null,
   "id": "ddae116f-76d2-45d8-ad9c-a872b98c7739",
   "metadata": {},
   "outputs": [],
   "source": [
    "# 最適化関数にネットワークのモデルのパラメータを渡す\n",
    "# lr: 学習率，momentum: 慣性項 \n",
    "optimizer = optim.SGD(model.parameters(), lr=0.001, momentum=0.9) "
   ]
  },
  {
   "cell_type": "markdown",
   "id": "4205c113-0353-49c8-86b3-620eec376ce9",
   "metadata": {},
   "source": [
    "##### ミニバッチ"
   ]
  },
  {
   "cell_type": "code",
   "execution_count": null,
   "id": "e85e1a14-82a0-4efc-8261-e330c33751b9",
   "metadata": {},
   "outputs": [],
   "source": [
    "# 学習データはバッチサイズ100でシャッフルする\n",
    "train_loader = DataLoader(dataset=train_data, batch_size=100, shuffle=True) \n",
    "# 検証データはバッチサイズ100シャッフルしない\n",
    "val_loader = DataLoader(dataset=val_data, batch_size=100, shuffle=False) "
   ]
  },
  {
   "cell_type": "markdown",
   "id": "a4f5e9cd-de14-41e3-85be-9bfd64622fe2",
   "metadata": {},
   "source": [
    "##### train関数\n",
    "1epochの処理"
   ]
  },
  {
   "cell_type": "code",
   "execution_count": null,
   "id": "c9a25e37-b757-4c30-aa22-c8fd89eded1b",
   "metadata": {},
   "outputs": [],
   "source": [
    "def train(model, loader, criterion, optimizer):\n",
    "    # 1epochの損失と精度の値を保存する変数を定義\n",
    "    epoch_loss = 0.0\n",
    "    epoch_acc = 0.0\n",
    "\n",
    "    # 訓練モードに設定\n",
    "    model.train()\n",
    "    \n",
    "    # データを取り出す\n",
    "    for images, labels in tqdm(loader):\n",
    "        # 画像のベクトル化\n",
    "        images = images.view(-1, 28*28)\n",
    "        \n",
    "        # 画像を計算するためにCPUに送る\n",
    "        images, labels = images.to(\"cpu\"), labels.to(\"cpu\")\n",
    "        \n",
    "        # 勾配をリセット(初期化)\n",
    "        optimizer.zero_grad()\n",
    "        \n",
    "        # 順伝搬を計算(予測)\n",
    "        outputs = model(images)\n",
    "        # outputsから予測ラベルを計算\n",
    "        # 最も予測率が高いものを予測ラベルとする\n",
    "        _, preds = torch.max(outputs.data, 1)\n",
    "        \n",
    "        # 損失関数の計算\n",
    "        loss = criterion(outputs, labels)\n",
    "       \n",
    "        #損失の和を求める\n",
    "        epoch_loss += loss.item() * images.size(0)\n",
    "        \n",
    "        # 精度の和を求める\n",
    "        epoch_acc += (preds == labels).sum().item()\n",
    "        \n",
    "        # 逆伝搬の計算\n",
    "        loss.backward()\n",
    "        \n",
    "        # 重みの更新\n",
    "        optimizer.step()\n",
    "        \n",
    "    # 損失と精度の平均値を返す\n",
    "    data_size = len(loader.dataset)\n",
    "    return epoch_loss/data_size, epoch_acc/data_size"
   ]
  },
  {
   "cell_type": "markdown",
   "id": "a841268a-1940-4e8a-828d-5f08f49bf08c",
   "metadata": {},
   "source": [
    "##### validation関数\n",
    "1epochの処理"
   ]
  },
  {
   "cell_type": "code",
   "execution_count": null,
   "id": "09a9ffa8-2ff6-42df-95e7-3bb68b24cd5b",
   "metadata": {},
   "outputs": [],
   "source": [
    "def validation(model, loader, criterion):\n",
    "    # 1epochの損失と精度の値を保存する変数を定義\n",
    "    epoch_loss = 0.0\n",
    "    epoch_acc = 0.0\n",
    "\n",
    "    # 評価モードに設定\n",
    "    model.eval()\n",
    "    \n",
    "    # データを取り出す\n",
    "    for images, labels in tqdm(loader):\n",
    "        # 画像のベクトル化\n",
    "        images = images.view(-1, 28*28)\n",
    "        \n",
    "        # 画像を計算するためにCPUに送る\n",
    "        images, labels = images.to(\"cpu\"), labels.to(\"cpu\")\n",
    "        \n",
    "        # テスト時はno_gradを指定することによって、勾配計算を行わない\n",
    "        with torch.no_grad():\n",
    "            # 順伝搬を計算(予測)\n",
    "            outputs = model(images)\n",
    "            # outputsから予測ラベルを計算\n",
    "            # 最も予測率が高いものを予測ラベルとする\n",
    "            _, preds = torch.max(outputs.data, 1)\n",
    "        \n",
    "            # 損失関数の計算\n",
    "            loss = criterion(outputs, labels)\n",
    "       \n",
    "        #損失の和を求める\n",
    "        epoch_loss += loss.item() * images.size(0)\n",
    "        \n",
    "        # 精度の和を求める\n",
    "        epoch_acc += (preds == labels).sum().item()\n",
    "        \n",
    "    # 損失と精度の平均値を返す\n",
    "    data_size = len(loader.dataset)\n",
    "    return epoch_loss/data_size, epoch_acc/data_size"
   ]
  },
  {
   "cell_type": "markdown",
   "id": "2007683b-4c52-4c9a-a4d4-3efc8ede8f42",
   "metadata": {
    "tags": []
   },
   "source": [
    "#### 実行"
   ]
  },
  {
   "cell_type": "markdown",
   "id": "1775d2ae-3d59-4caa-b006-ffa3e9b2f65d",
   "metadata": {},
   "source": [
    "##### 学習"
   ]
  },
  {
   "cell_type": "markdown",
   "id": "2dfdae34-eab4-4613-8e3d-5240e2590a3b",
   "metadata": {},
   "source": [
    "```python\n",
    "#epoch数\n",
    "n_epoch = 20 \n",
    "# 学習結果を保存するためのリスト\n",
    "train_loss_list, train_acc_list = [], []\n",
    "val_loss_list, val_acc_list = [], []\n",
    "\n",
    "for epoch in range(n_epoch):\n",
    "    # epochの表示\n",
    "    print(f\" {epoch+1}/{n_epoch}\")\n",
    "    \n",
    "    #学習フェイズ\n",
    "    train_loss, train_acc = train(model, train_loader, criterion, optimizer)\n",
    "    print(f\"train_loss : {train_loss : .4f} train_acc : {train_acc : .4f}\")\n",
    "    # 計算結果を保存\n",
    "    train_loss_list.append(train_loss), train_acc_list.append(train_acc)\n",
    "\n",
    "    #検証フェイズ\n",
    "    val_loss, val_acc = validation(model, val_loader, criterion)\n",
    "    print(f\"val_loss : {val_loss : .4f} val_acc : {val_acc : .4f}\")\n",
    "    # 計算結果を保存\n",
    "    val_loss_list.append(val_loss), val_acc_list.append(val_acc)\n",
    "```"
   ]
  },
  {
   "cell_type": "markdown",
   "id": "3bce1bfa-9d06-44c7-9e5f-ad65dd0bd248",
   "metadata": {},
   "source": [
    "###### モデルの保存"
   ]
  },
  {
   "cell_type": "code",
   "execution_count": null,
   "id": "83e4c9b4-3ea4-499c-99ea-ce1cccffc5e7",
   "metadata": {},
   "outputs": [],
   "source": [
    "#torch.save(model.state_dict(), '../work/minst-dnn.pth')"
   ]
  },
  {
   "cell_type": "markdown",
   "id": "bbd61bf5-a87a-40f4-abd4-f62eaf841ea5",
   "metadata": {},
   "source": [
    "###### モデルの復元"
   ]
  },
  {
   "cell_type": "code",
   "execution_count": null,
   "id": "328486cf-9e8f-4c93-9080-d859a5374b8c",
   "metadata": {},
   "outputs": [],
   "source": [
    "model = Model()\n",
    "load_weights = torch.load('../work/minst-dnn.pth', map_location= \"cpu\")\n",
    "model.load_state_dict(load_weights)"
   ]
  },
  {
   "cell_type": "markdown",
   "id": "75e24313-e8f8-4884-b910-352605245fde",
   "metadata": {},
   "source": [
    "##### 推論"
   ]
  },
  {
   "cell_type": "markdown",
   "id": "0854a1ff-ae12-481e-920d-ddf42200c8bd",
   "metadata": {},
   "source": [
    "###### 個別"
   ]
  },
  {
   "cell_type": "code",
   "execution_count": null,
   "id": "8d8b5825-ccf3-4876-b7f7-c146523d35f9",
   "metadata": {},
   "outputs": [],
   "source": [
    "index = 10\n",
    "show_image_info(test_org, index)\n",
    "\n",
    "image, answer = test_org[index]\n",
    "# DataLoaderを通さない\n",
    "image = image.unsqueeze(0)\n",
    "# 画像のベクトル化\n",
    "image = image.view(-1, 28*28)\n",
    "\n",
    "# 画像の推論\n",
    "\n",
    "# 評価モードに設定し\n",
    "model.eval()\n",
    "\n",
    "# パラメタを更新しないで順電波的な\n",
    "with torch.no_grad():\n",
    "    # 順伝搬を計算(予測)\n",
    "    output = model(image)\n",
    "    # outputsから予測ラベル（最も予測率が高い要素とインデックス）\n",
    "    _, predict = torch.max(output.data, 1) # 1はaxis(行毎)\n",
    "\n",
    "#予測結果をtoensorからintにキャスト\n",
    "predict = int(predict)\n",
    "print('predict: ', predict)\n",
    "print('answer : ', answer)\n",
    "\n",
    "if predict == answer:\n",
    "    print('正解です｡')\n",
    "else:\n",
    "    print('不正解です')"
   ]
  },
  {
   "cell_type": "markdown",
   "id": "89b70874-6659-4bde-91ce-abc1577643f2",
   "metadata": {},
   "source": [
    "###### 一括"
   ]
  },
  {
   "cell_type": "code",
   "execution_count": null,
   "id": "d0786e2f-5be0-4060-aeb0-688182bac396",
   "metadata": {},
   "outputs": [],
   "source": [
    "def predict(model, loader):\n",
    "    # 正解ラベル, 推論ラベル\n",
    "    y, y_pred = [], []\n",
    "    \n",
    "    # 推論\n",
    "    model.eval()\n",
    "    for _, (images, labels) in enumerate(loader):\n",
    "        images = images.view(-1, 28*28)\n",
    "        with torch.no_grad():\n",
    "            outputs = model(images)\n",
    "            # 正解ラベルと推論結果をリストに保存\n",
    "            y += [int(l) for l in labels]\n",
    "            y_pred += [int(l.argmax()) for l in outputs]\n",
    "\n",
    "    return y, y_pred"
   ]
  },
  {
   "cell_type": "markdown",
   "id": "ddac47dd-8423-488e-bd74-8504e215d5dc",
   "metadata": {
    "tags": []
   },
   "source": [
    "#### 評価"
   ]
  },
  {
   "cell_type": "markdown",
   "id": "f12a117d-79f8-4e6b-84a0-53f2a9b45e31",
   "metadata": {},
   "source": [
    "##### 実測・予測を表示"
   ]
  },
  {
   "cell_type": "code",
   "execution_count": null,
   "id": "ba2242b9-b7bb-495c-ad52-e3f749ac7116",
   "metadata": {},
   "outputs": [],
   "source": [
    "org_loader = DataLoader(dataset=org, batch_size=32, shuffle=False)\n",
    "y, y_pred = predict(model, org_loader)\n",
    "ret = (np.array(y) == np.array(y_pred))"
   ]
  },
  {
   "cell_type": "markdown",
   "id": "29ad2900-31af-407d-9f2f-649845374ba7",
   "metadata": {},
   "source": [
    "##### [スコアを表示](https://dotnetdevelopmentinfrastructure.osscons.jp/index.php?%E3%83%87%E3%83%BC%E3%82%BF%E3%83%9E%E3%82%A4%E3%83%8B%E3%83%B3%E3%82%B0%EF%BC%88DM%EF%BC%89-%20CRISP-DM#uf759972)"
   ]
  },
  {
   "cell_type": "code",
   "execution_count": null,
   "id": "7c5b7700-acbd-46e2-b8ac-810888fc6af1",
   "metadata": {},
   "outputs": [],
   "source": [
    "(len(np.where(ret==True)[0]) / ret.size)"
   ]
  },
  {
   "cell_type": "code",
   "execution_count": null,
   "id": "579362b6-4502-4fe0-ba31-bc44e188111c",
   "metadata": {},
   "outputs": [],
   "source": [
    "train_loader = DataLoader(dataset=train_org, batch_size=32, shuffle=False)\n",
    "y, y_pred = predict(model, train_loader)\n",
    "ret = (np.array(y) == np.array(y_pred))\n",
    "(len(np.where(ret==True)[0]) / ret.size)"
   ]
  },
  {
   "cell_type": "code",
   "execution_count": null,
   "id": "4216a863-324d-477a-811b-cb5479f18563",
   "metadata": {},
   "outputs": [],
   "source": [
    "test_loader = DataLoader(dataset=test_org, batch_size=32, shuffle=False)\n",
    "y, y_pred = predict(model, test_loader)\n",
    "ret = (np.array(y) == np.array(y_pred))\n",
    "(len(np.where(ret==True)[0]) / ret.size)"
   ]
  },
  {
   "cell_type": "markdown",
   "id": "78a9b497-b0a2-4ac2-94f6-19a9c4d1d54a",
   "metadata": {},
   "source": [
    "##### 混同行列\n",
    "間違い易い組合せが解る。"
   ]
  },
  {
   "cell_type": "code",
   "execution_count": null,
   "id": "47190c45-80ad-464f-b006-547c9564a145",
   "metadata": {},
   "outputs": [],
   "source": [
    "cm_minst = confusion_matrix(y, y_pred)\n",
    "plot_cm(cm_minst, [0,1,2,3,4,5,6,7,8,9])"
   ]
  },
  {
   "cell_type": "markdown",
   "id": "34ec4bcd-5a80-45a8-bb03-960db3623093",
   "metadata": {},
   "source": [
    "###### 混同行列のメトリクス"
   ]
  },
  {
   "cell_type": "code",
   "execution_count": null,
   "id": "6c519da7-a691-48d9-956e-a659353983a8",
   "metadata": {},
   "outputs": [],
   "source": [
    "print_metrics(y, y_pred)"
   ]
  },
  {
   "cell_type": "markdown",
   "id": "1e0a6584-9056-47fb-b52b-ae1d5980a09d",
   "metadata": {},
   "source": [
    "###### 間違った組み合わせの表示"
   ]
  },
  {
   "cell_type": "code",
   "execution_count": null,
   "id": "3abca1d2-ed5d-42dc-b91d-b29f990b17d6",
   "metadata": {},
   "outputs": [],
   "source": [
    "show_incorrect_image_list(test_org, y_pred, 5)"
   ]
  },
  {
   "cell_type": "markdown",
   "id": "40b4e2e8-0fd6-4747-b0b8-3b750c8be222",
   "metadata": {},
   "source": [
    "##### 学習履歴を表示"
   ]
  },
  {
   "cell_type": "code",
   "execution_count": null,
   "id": "97ea8aab-2eb3-4b18-a4f9-416e5c297e3a",
   "metadata": {},
   "outputs": [],
   "source": [
    "# 損失値(Loss)の遷移のプロット\n",
    "#plot_history_loss(train_loss_list, val_loss_list)\n",
    "# 精度(Acc)の遷移のプロット\n",
    "#plot_history_acc(train_acc_list, val_acc_list)"
   ]
  },
  {
   "cell_type": "markdown",
   "id": "1612e416-a9fa-4f36-a537-92aa33b86c6a",
   "metadata": {},
   "source": [
    "### MINST-CNN"
   ]
  },
  {
   "cell_type": "markdown",
   "id": "4d4f8d00-ff4e-4775-8817-80f6428e1442",
   "metadata": {},
   "source": [
    "#### モデリング"
   ]
  },
  {
   "cell_type": "markdown",
   "id": "82cc4528-2a17-4e30-bba1-b1ab815caa60",
   "metadata": {},
   "source": [
    "##### torch.nn.Moduleのサブクラスを定義してモデルを構築\n",
    "一方通行ではない複雑なモデル（ネットワーク）の場合"
   ]
  },
  {
   "cell_type": "code",
   "execution_count": null,
   "id": "5e6a2e20-86b9-4bae-a7af-eb611e0d644b",
   "metadata": {},
   "outputs": [],
   "source": []
  },
  {
   "cell_type": "markdown",
   "id": "ca824632-9b89-4c81-ace2-0bccddbfa728",
   "metadata": {},
   "source": [
    "##### torch.nn.Sequentialでモデルを構築\n",
    "一方通行のシンプルなモデル（ネットワーク）の場合"
   ]
  },
  {
   "cell_type": "code",
   "execution_count": null,
   "id": "01b182be-1629-4962-ae97-642d33bd9a43",
   "metadata": {},
   "outputs": [],
   "source": [
    "class CNN(nn.Module):\n",
    "\n",
    "    def __init__(self):\n",
    "        super(CNN, self).__init__() # nn.Moduleを継承する\n",
    "\n",
    "        self.block1 = nn.Sequential(\n",
    "            nn.Conv2d(in_channels=1, out_channels=16, kernel_size=3, padding=1),\n",
    "            nn.ReLU(inplace=True),\n",
    "            nn.Conv2d(in_channels=16, out_channels=16, kernel_size=3, padding=1),\n",
    "            nn.ReLU(inplace=True),\n",
    "            nn.MaxPool2d(kernel_size=2, stride=1), # 出力サイズ: チャネル=16, 高さ=27, 幅=27\n",
    "            nn.BatchNorm2d(16)\n",
    "        )\n",
    "        self.block2 = nn.Sequential(\n",
    "            nn.Conv2d(in_channels=16, out_channels=32, kernel_size=3, padding=1),\n",
    "            nn.ReLU(inplace=True),\n",
    "            nn.Conv2d(in_channels=32, out_channels=32, kernel_size=3, padding=1),\n",
    "            nn.ReLU(inplace=True),\n",
    "            nn.MaxPool2d(kernel_size=2, stride=1), # 出力サイズ: チャネル=32, 高さ=26, 幅=26\n",
    "            nn.BatchNorm2d(32)\n",
    "        )\n",
    "        self.full_connection = nn.Sequential(\n",
    "            nn.Linear(in_features=32*26*26, out_features=512), # in_featuresは直前の出力ユニット数\n",
    "            nn.ReLU(),\n",
    "            nn.Dropout(),\n",
    "            nn.Linear(in_features=512, out_features=10)\n",
    "        )\n",
    "\n",
    "\n",
    "    # Forward計算の定義\n",
    "    # 参考：Define by Runの特徴（入力に合わせてForward計算を変更可）\n",
    "    def forward(self, x):\n",
    "\n",
    "        x = self.block1(x)\n",
    "        x = self.block2(x)\n",
    "\n",
    "        # 直前のMaxPoolの出力が2次元（×チャネル数）\n",
    "        # なので，全結合の入力形式に変換\n",
    "        # 参考：KerasのFlatten()と同じような処理\n",
    "        x = x.view(x.size(0), 32 * 26 * 26)\n",
    "\n",
    "        y = self.full_connection(x)\n",
    "        \n",
    "        return y"
   ]
  },
  {
   "cell_type": "markdown",
   "id": "5e7220c2-bdcc-4ed1-909e-64428c5bec2b",
   "metadata": {},
   "source": [
    "##### ネットワーク生成"
   ]
  },
  {
   "cell_type": "code",
   "execution_count": null,
   "id": "fa1e8517-3389-4f69-b358-7e81697e0839",
   "metadata": {},
   "outputs": [],
   "source": [
    "model = CNN()"
   ]
  },
  {
   "cell_type": "markdown",
   "id": "a10e159c-8b21-4e91-a149-712e5f91ded8",
   "metadata": {},
   "source": [
    "##### 損失関数"
   ]
  },
  {
   "cell_type": "code",
   "execution_count": null,
   "id": "3ca1fbc5-1203-41f3-beaa-fd3ebd371c94",
   "metadata": {},
   "outputs": [],
   "source": [
    "criterion = nn.CrossEntropyLoss()"
   ]
  },
  {
   "cell_type": "markdown",
   "id": "c453ffea-8585-401e-9569-6479867eac92",
   "metadata": {},
   "source": [
    "##### 最適化関数"
   ]
  },
  {
   "cell_type": "code",
   "execution_count": null,
   "id": "31823ef2-c7f8-4f32-869e-7a0727a0beaa",
   "metadata": {},
   "outputs": [],
   "source": [
    "# 最適化関数にネットワークのモデルのパラメータを渡す\n",
    "# lr: 学習率，momentum: 慣性項 \n",
    "optimizer = optim.SGD(model.parameters(), lr=0.001, momentum=0.9) "
   ]
  },
  {
   "cell_type": "markdown",
   "id": "6e2f71e8-c135-42b1-9fc1-7a308f6e614d",
   "metadata": {},
   "source": [
    "##### ミニバッチ"
   ]
  },
  {
   "cell_type": "code",
   "execution_count": null,
   "id": "43baf213-fa0d-4262-8dde-f62bb1c0a433",
   "metadata": {},
   "outputs": [],
   "source": [
    "# 学習データはバッチサイズ100でシャッフルする\n",
    "train_loader = DataLoader(dataset=train_data, batch_size=100, shuffle=True) \n",
    "# 検証データはバッチサイズ100シャッフルしない\n",
    "val_loader = DataLoader(dataset=val_data, batch_size=100, shuffle=False) "
   ]
  },
  {
   "cell_type": "markdown",
   "id": "843d0a8a-7d36-4b56-b8e2-ebf5f60d28f9",
   "metadata": {},
   "source": [
    "##### train関数\n",
    "1epochの処理"
   ]
  },
  {
   "cell_type": "code",
   "execution_count": null,
   "id": "413d654c-5142-44a1-a6ce-2637d8fbdd95",
   "metadata": {},
   "outputs": [],
   "source": [
    "def train(model, loader, criterion, optimizer):\n",
    "    # 1epochの損失と精度の値を保存する変数を定義\n",
    "    epoch_loss = 0.0\n",
    "    epoch_acc = 0.0\n",
    "\n",
    "    # 訓練モードに設定\n",
    "    model.train()\n",
    "    \n",
    "    # データを取り出す\n",
    "    for images, labels in tqdm(loader):\n",
    "        # 画像を計算するためにCPUに送る\n",
    "        images, labels = images.to(\"cpu\"), labels.to(\"cpu\")\n",
    "        \n",
    "        # 勾配をリセット(初期化)\n",
    "        optimizer.zero_grad()\n",
    "        \n",
    "        # 順伝搬を計算(予測)\n",
    "        outputs = model(images)\n",
    "        # outputsから予測ラベルを計算\n",
    "        # 最も予測率が高いものを予測ラベルとする\n",
    "        _, preds = torch.max(outputs.data, 1)\n",
    "        \n",
    "        # 損失関数の計算\n",
    "        loss = criterion(outputs, labels)\n",
    "       \n",
    "        #損失の和を求める\n",
    "        epoch_loss += loss.item() * images.size(0)\n",
    "        \n",
    "        # 精度の和を求める\n",
    "        epoch_acc += (preds == labels).sum().item()\n",
    "        \n",
    "        # 逆伝搬の計算\n",
    "        loss.backward()\n",
    "        \n",
    "        # 重みの更新\n",
    "        optimizer.step()\n",
    "        \n",
    "    # 損失と精度の平均値を返す\n",
    "    data_size = len(loader.dataset)\n",
    "    return epoch_loss/data_size, epoch_acc/data_size"
   ]
  },
  {
   "cell_type": "markdown",
   "id": "1d8361fe-dd7a-40f8-869f-00f6732cf205",
   "metadata": {},
   "source": [
    "##### validation関数\n",
    "1epochの処理"
   ]
  },
  {
   "cell_type": "code",
   "execution_count": null,
   "id": "d7d5b0f7-8477-467b-848c-b8bef33c0654",
   "metadata": {},
   "outputs": [],
   "source": [
    "def validation(model, loader, criterion):\n",
    "    # 1epochの損失と精度の値を保存する変数を定義\n",
    "    epoch_loss = 0.0\n",
    "    epoch_acc = 0.0\n",
    "\n",
    "    # 評価モードに設定\n",
    "    model.eval()\n",
    "    \n",
    "    # データを取り出す\n",
    "    for images, labels in tqdm(loader):\n",
    "        # 画像を計算するためにCPUに送る\n",
    "        images, labels = images.to(\"cpu\"), labels.to(\"cpu\")\n",
    "        \n",
    "        # テスト時はno_gradを指定することによって、勾配計算を行わない\n",
    "        with torch.no_grad():\n",
    "            # 順伝搬を計算(予測)\n",
    "            outputs = model(images)\n",
    "            # outputsから予測ラベルを計算\n",
    "            # 最も予測率が高いものを予測ラベルとする\n",
    "            _, preds = torch.max(outputs.data, 1)\n",
    "        \n",
    "            # 損失関数の計算\n",
    "            loss = criterion(outputs, labels)\n",
    "       \n",
    "        #損失の和を求める\n",
    "        epoch_loss += loss.item() * images.size(0)\n",
    "        \n",
    "        # 精度の和を求める\n",
    "        epoch_acc += (preds == labels).sum().item()\n",
    "        \n",
    "    # 損失と精度の平均値を返す\n",
    "    data_size = len(loader.dataset)\n",
    "    return epoch_loss/data_size, epoch_acc/data_size"
   ]
  },
  {
   "cell_type": "markdown",
   "id": "46265707-008b-4b6a-aed2-a2fc831508d7",
   "metadata": {},
   "source": [
    "#### 実行"
   ]
  },
  {
   "cell_type": "markdown",
   "id": "a00ed6f3-5bb3-4ad1-af19-d69c24bc6645",
   "metadata": {},
   "source": [
    "##### 学習"
   ]
  },
  {
   "cell_type": "markdown",
   "id": "77ba5173-736f-4d27-9a69-f28b14f3a23a",
   "metadata": {},
   "source": [
    "```python\n",
    "#epoch数\n",
    "n_epoch = 20 \n",
    "# 学習結果を保存するためのリスト\n",
    "train_loss_list, train_acc_list = [], []\n",
    "val_loss_list, val_acc_list = [], []\n",
    "\n",
    "for epoch in range(n_epoch):\n",
    "    # epochの表示\n",
    "    print(f\" {epoch+1}/{n_epoch}\")\n",
    "    \n",
    "    #学習フェイズ\n",
    "    train_loss, train_acc = train(model, train_loader, criterion, optimizer)\n",
    "    print(f\"train_loss : {train_loss : .4f} train_acc : {train_acc : .4f}\")\n",
    "    # 計算結果を保存\n",
    "    train_loss_list.append(train_loss), train_acc_list.append(train_acc)\n",
    "\n",
    "    #検証フェイズ\n",
    "    val_loss, val_acc = validation(model, val_loader, criterion)\n",
    "    print(f\"val_loss : {val_loss : .4f} val_acc : {val_acc : .4f}\")\n",
    "    # 計算結果を保存\n",
    "    val_loss_list.append(val_loss), val_acc_list.append(val_acc)\n",
    "```"
   ]
  },
  {
   "cell_type": "markdown",
   "id": "61689833-e390-43a5-bd48-cf1a9fae7d39",
   "metadata": {},
   "source": [
    "###### モデルの保存\n",
    "結構時間がかかるのでモデルを保存しておく。"
   ]
  },
  {
   "cell_type": "code",
   "execution_count": null,
   "id": "04aea477-110e-4335-8ae1-e1287010e5e6",
   "metadata": {},
   "outputs": [],
   "source": [
    "#torch.save(model.state_dict(), '../work/minst-cnn.pth')"
   ]
  },
  {
   "cell_type": "markdown",
   "id": "65312b5d-de10-4dce-9cb9-ccf56dfdd42e",
   "metadata": {},
   "source": [
    "###### モデルの復元"
   ]
  },
  {
   "cell_type": "code",
   "execution_count": null,
   "id": "ad129961-558d-4d6e-8653-2fbb91bba60d",
   "metadata": {},
   "outputs": [],
   "source": [
    "model = CNN()\n",
    "load_weights = torch.load('../work/minst-cnn.pth', map_location= \"cpu\")\n",
    "model.load_state_dict(load_weights)"
   ]
  },
  {
   "cell_type": "markdown",
   "id": "4e2ad746-5844-4e29-81fb-20d22df07dc8",
   "metadata": {},
   "source": [
    "##### 推論"
   ]
  },
  {
   "cell_type": "markdown",
   "id": "c1e0ed65-b769-4325-8f7a-b8deedce821c",
   "metadata": {},
   "source": [
    "###### 個別"
   ]
  },
  {
   "cell_type": "code",
   "execution_count": null,
   "id": "20e2706d-52a3-460d-84fb-ae17556c3b49",
   "metadata": {},
   "outputs": [],
   "source": [
    "index = 10\n",
    "show_image_info(test_org, index)\n",
    "\n",
    "image, answer = test_org[index]\n",
    "# DataLoaderを通さない\n",
    "image = image.unsqueeze(0)\n",
    "\n",
    "# 画像の推論\n",
    "\n",
    "# 評価モードに設定し\n",
    "model.eval()\n",
    "\n",
    "# パラメタを更新しないで順電波的な\n",
    "with torch.no_grad():\n",
    "    # 順伝搬を計算(予測)\n",
    "    output = model(image)\n",
    "    # outputsから予測ラベル（最も予測率が高い要素とインデックス）\n",
    "    _, predict = torch.max(output.data, 1) # 1はaxis(行毎)\n",
    "\n",
    "#予測結果をtoensorからintにキャスト\n",
    "predict = int(predict)\n",
    "print('predict: ', predict)\n",
    "print('answer : ', answer)\n",
    "\n",
    "if predict == answer:\n",
    "    print('正解です｡')\n",
    "else:\n",
    "    print('不正解です')"
   ]
  },
  {
   "cell_type": "markdown",
   "id": "c5593426-57a7-4fc8-8fbf-789e6044cbf4",
   "metadata": {},
   "source": [
    "###### 一括"
   ]
  },
  {
   "cell_type": "code",
   "execution_count": null,
   "id": "def74d6b-0047-476f-a1fd-162b2c45b241",
   "metadata": {},
   "outputs": [],
   "source": [
    "def predict(model, loader):\n",
    "    # 正解ラベル, 推論ラベル\n",
    "    y, y_pred = [], []\n",
    "    \n",
    "    # 推論\n",
    "    model.eval()\n",
    "    for _, (images, labels) in enumerate(loader):\n",
    "        with torch.no_grad():\n",
    "            outputs = model(images)\n",
    "            # 正解ラベルと推論結果をリストに保存\n",
    "            y += [int(l) for l in labels]\n",
    "            y_pred += [int(l.argmax()) for l in outputs]\n",
    "\n",
    "    return y, y_pred"
   ]
  },
  {
   "cell_type": "markdown",
   "id": "1df29cfc-a887-41eb-aeaf-14b75c1a8e4b",
   "metadata": {},
   "source": [
    "#### 評価"
   ]
  },
  {
   "cell_type": "markdown",
   "id": "244507b4-517a-4a71-9ff7-58451ce8fda5",
   "metadata": {},
   "source": [
    "##### 実測・予測を表示"
   ]
  },
  {
   "cell_type": "code",
   "execution_count": null,
   "id": "bc843782-2cad-4603-88a7-1eae29b6f540",
   "metadata": {},
   "outputs": [],
   "source": [
    "org_loader = DataLoader(dataset=org, batch_size=32, shuffle=False)\n",
    "y, y_pred = predict(model, org_loader)\n",
    "ret = (np.array(y) == np.array(y_pred))"
   ]
  },
  {
   "cell_type": "markdown",
   "id": "c5b968cc-c10f-4971-aebd-fe7c0181d423",
   "metadata": {},
   "source": [
    "##### [スコアを表示](https://dotnetdevelopmentinfrastructure.osscons.jp/index.php?%E3%83%87%E3%83%BC%E3%82%BF%E3%83%9E%E3%82%A4%E3%83%8B%E3%83%B3%E3%82%B0%EF%BC%88DM%EF%BC%89-%20CRISP-DM#uf759972)"
   ]
  },
  {
   "cell_type": "code",
   "execution_count": null,
   "id": "f5011304-a807-45f0-ae13-27105685df83",
   "metadata": {},
   "outputs": [],
   "source": [
    "(len(np.where(ret==True)[0]) / ret.size)"
   ]
  },
  {
   "cell_type": "code",
   "execution_count": null,
   "id": "99b6bb6a-ed2e-47f2-9f08-77dfd18007cc",
   "metadata": {},
   "outputs": [],
   "source": [
    "train_loader = DataLoader(dataset=train_org, batch_size=32, shuffle=False)\n",
    "y, y_pred = predict(model, train_loader)\n",
    "ret = (np.array(y) == np.array(y_pred))\n",
    "(len(np.where(ret==True)[0]) / ret.size)"
   ]
  },
  {
   "cell_type": "code",
   "execution_count": null,
   "id": "2285e555-90e9-48d6-943e-5280f25a9c6f",
   "metadata": {},
   "outputs": [],
   "source": [
    "test_loader = DataLoader(dataset=test_org, batch_size=32, shuffle=False)\n",
    "y, y_pred = predict(model, test_loader)\n",
    "ret = (np.array(y) == np.array(y_pred))\n",
    "(len(np.where(ret==True)[0]) / ret.size)"
   ]
  },
  {
   "cell_type": "markdown",
   "id": "07027626-72d6-48c5-95cf-53e002bea0c3",
   "metadata": {},
   "source": [
    "##### 混同行列\n",
    "間違い易い組合せが解る。"
   ]
  },
  {
   "cell_type": "code",
   "execution_count": null,
   "id": "a576911e-c6ad-4357-b1e6-0b2e1d575dbd",
   "metadata": {},
   "outputs": [],
   "source": [
    "cm_minst = confusion_matrix(y, y_pred)\n",
    "plot_cm(cm_minst, [0,1,2,3,4,5,6,7,8,9])"
   ]
  },
  {
   "cell_type": "markdown",
   "id": "9b49c9d2-4f90-406f-9690-33443edfa912",
   "metadata": {},
   "source": [
    "###### 混同行列のメトリクス"
   ]
  },
  {
   "cell_type": "code",
   "execution_count": null,
   "id": "94ce73ee-16fa-4fcf-9e42-70a88bf69459",
   "metadata": {},
   "outputs": [],
   "source": [
    "print_metrics(y, y_pred)"
   ]
  },
  {
   "cell_type": "markdown",
   "id": "5fb39ea9-aece-48ed-bea3-14b5f475405c",
   "metadata": {},
   "source": [
    "###### 間違った組み合わせの表示"
   ]
  },
  {
   "cell_type": "code",
   "execution_count": null,
   "id": "1b759b8f-66be-4870-b9e9-b5ce9798f140",
   "metadata": {},
   "outputs": [],
   "source": [
    "show_incorrect_image_list(test_org, y_pred, 5)"
   ]
  },
  {
   "cell_type": "markdown",
   "id": "7615e2ba-106b-42a0-8170-df3abebe169c",
   "metadata": {},
   "source": [
    "##### 学習履歴を表示"
   ]
  },
  {
   "cell_type": "code",
   "execution_count": null,
   "id": "cb31fd38-0d28-43f9-89df-f3cea56b837b",
   "metadata": {},
   "outputs": [],
   "source": [
    "# 損失値(Loss)の遷移のプロット\n",
    "#plot_history_loss(train_loss_list, val_loss_list)\n",
    "# 精度(Acc)の遷移のプロット\n",
    "#plot_history_acc(train_acc_list, val_acc_list)"
   ]
  }
 ],
 "metadata": {
  "kernelspec": {
   "display_name": "Python 3 (ipykernel)",
   "language": "python",
   "name": "python3"
  },
  "language_info": {
   "codemirror_mode": {
    "name": "ipython",
    "version": 3
   },
   "file_extension": ".py",
   "mimetype": "text/x-python",
   "name": "python",
   "nbconvert_exporter": "python",
   "pygments_lexer": "ipython3",
   "version": "3.10.6"
  }
 },
 "nbformat": 4,
 "nbformat_minor": 5
}
