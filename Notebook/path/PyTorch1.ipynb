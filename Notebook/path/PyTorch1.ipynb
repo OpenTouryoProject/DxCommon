{
 "cells": [
  {
   "cell_type": "markdown",
   "id": "4fe59fb7-e68d-4e4b-8901-5902d5343ed8",
   "metadata": {},
   "source": [
    "# PyTorchのトレーニング♨\n",
    "\n",
    "## DNN 編\n",
    "\n",
    "## [目次](TableOfContents.ipynb)\n",
    "- [環境準備](#環境準備)\n",
    "  - [インポート](#インポート)\n",
    "  - [プロキシ設定](#プロキシ設定)\n",
    "  - [共通関数](#共通関数)\n",
    "- [DNNアルゴリズム・モデル](#)\n",
    "  - [DNNで重回帰分析](#DNNで重回帰分析)\n",
    "  - [DNNの２クラス分類器](#DNNの２クラス分類器)\n",
    "  - [DNNの多クラス分類器](#DNNの多クラス分類器)"
   ]
  },
  {
   "cell_type": "markdown",
   "id": "d48958bb-e085-40a2-a6e1-f00c80080d20",
   "metadata": {},
   "source": [
    "## [環境準備](TensorFlowAndKeras0.ipynb)"
   ]
  },
  {
   "cell_type": "markdown",
   "id": "0265e224-b982-424b-9dc0-3bb7c21fd4cf",
   "metadata": {},
   "source": [
    "### インポート"
   ]
  },
  {
   "cell_type": "code",
   "execution_count": null,
   "id": "b99bd442-2c0f-4337-901e-c3a2c51fb899",
   "metadata": {},
   "outputs": [],
   "source": []
  },
  {
   "cell_type": "markdown",
   "id": "77b188ed-5a78-4557-b5db-9ec7567def7a",
   "metadata": {},
   "source": [
    "### プロキシ設定"
   ]
  },
  {
   "cell_type": "code",
   "execution_count": null,
   "id": "b284c5a3-0b13-49e4-b4c9-c5ab799d35ee",
   "metadata": {},
   "outputs": [],
   "source": [
    "import os\n",
    "proxies = {\n",
    "    \"http\": os.getenv(\"HTTP_PROXY\"),\n",
    "    \"https\": os.getenv(\"HTTPS_PROXY\")\n",
    "}"
   ]
  },
  {
   "cell_type": "markdown",
   "id": "5154deef-335c-433b-8087-e4bebf39148d",
   "metadata": {},
   "source": [
    "### 共通関数"
   ]
  },
  {
   "cell_type": "markdown",
   "id": "4a451dd7-972e-47a4-a769-d47e091b4711",
   "metadata": {},
   "source": [
    "## DNNアルゴリズム・モデル"
   ]
  }
 ],
 "metadata": {
  "kernelspec": {
   "display_name": "Python 3 (ipykernel)",
   "language": "python",
   "name": "python3"
  },
  "language_info": {
   "codemirror_mode": {
    "name": "ipython",
    "version": 3
   },
   "file_extension": ".py",
   "mimetype": "text/x-python",
   "name": "python",
   "nbconvert_exporter": "python",
   "pygments_lexer": "ipython3",
   "version": "3.10.6"
  }
 },
 "nbformat": 4,
 "nbformat_minor": 5
}
