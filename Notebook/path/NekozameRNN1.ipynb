{
 "cells": [
  {
   "cell_type": "markdown",
   "id": "c87b4d10-5704-4796-8d16-5797523647c9",
   "metadata": {},
   "source": [
    "# o'reillyのネゴザメ言語モデルの本\n",
    "再帰型ニューラルネットワーク（RNN）\n",
    "\n",
    "## [目次](TableOfContents.ipynb)\n",
    "- [環境準備](#環境準備)\n",
    "  - [インストール](#インストール)\n",
    "  - [インポート](#インポート)\n",
    "- [再帰型ニューラルネットワーク（RNN）](#再帰型ニューラルネットワーク（RNN）)\n",
    "  - [先ずは、RNNレイヤの実装](#先ずは、RNNレイヤの実装)\n",
    "  - [T個の時系列データの処理を行うTime RNN実装](#T個の時系列データの処理を行うTime_RNN実装)\n",
    "  - [RNNを使用した言語モデルのSimpleRnnlm実装](#RNNを使用した言語モデルのSimpleRnnlm実装)\n",
    "\n",
    "## 参考\n",
    "- https://github.com/oreilly-japan/deep-learning-from-scratch-2/tree/master/ch05\n",
    "- [再帰型ニューラルネットワーク（RNN） - 開発基盤部会 Wiki](https://dotnetdevelopmentinfrastructure.osscons.jp/index.php?%E5%86%8D%E5%B8%B0%E5%9E%8B%E3%83%8B%E3%83%A5%E3%83%BC%E3%83%A9%E3%83%AB%E3%83%8D%E3%83%83%E3%83%88%E3%83%AF%E3%83%BC%E3%82%AF%EF%BC%88RNN%EF%BC%89)"
   ]
  },
  {
   "cell_type": "markdown",
   "id": "94f149dd-6504-4850-99b9-626887faba7d",
   "metadata": {},
   "source": [
    "## 環境準備"
   ]
  },
  {
   "cell_type": "markdown",
   "id": "529d975a-b9ce-4eff-a3f5-ae65d56655a9",
   "metadata": {},
   "source": [
    "### インストール"
   ]
  },
  {
   "cell_type": "code",
   "execution_count": null,
   "id": "89147361-440c-47a1-b02b-942f39590bed",
   "metadata": {},
   "outputs": [],
   "source": [
    "!pip install numpy\n",
    "!pip install matplotlib"
   ]
  },
  {
   "cell_type": "markdown",
   "id": "a377a319-9b97-4c21-9d8f-8664c955b33e",
   "metadata": {},
   "source": [
    "### インポート"
   ]
  },
  {
   "cell_type": "code",
   "execution_count": null,
   "id": "814784dc-0f79-448a-9608-e9952549ed93",
   "metadata": {},
   "outputs": [],
   "source": [
    "import numpy as np\n",
    "import matplotlib.pyplot as plt"
   ]
  },
  {
   "cell_type": "code",
   "execution_count": null,
   "id": "2b638958-9d39-4dd1-9d46-f2f97d5849fe",
   "metadata": {},
   "outputs": [],
   "source": [
    "import warnings\n",
    "warnings.filterwarnings('ignore')\n",
    "import sys, os\n",
    "sys.path.append(os.pardir)  # 親ディレクトリのファイルをインポートするための設定"
   ]
  },
  {
   "cell_type": "markdown",
   "id": "596a5ac4-f6d3-489c-a0de-4163f11ad177",
   "metadata": {
    "tags": []
   },
   "source": [
    "## 再帰型ニューラルネットワーク（RNN）"
   ]
  },
  {
   "cell_type": "markdown",
   "id": "7911d3f0-e3ae-44fb-ace9-ade0a5ada445",
   "metadata": {},
   "source": [
    "### 先ずは、RNNレイヤの実装"
   ]
  },
  {
   "cell_type": "markdown",
   "id": "c0da533f-0168-4a54-b2b2-0faf7f94d815",
   "metadata": {},
   "source": [
    "#### 定義"
   ]
  },
  {
   "cell_type": "code",
   "execution_count": null,
   "id": "36f89da0-9395-47bb-8244-bb8a687052ad",
   "metadata": {},
   "outputs": [],
   "source": [
    "# RNNレイヤの実装\n",
    "class _RNN:\n",
    "    # 初期化メソッドの定義\n",
    "    def __init__(self, Wx, Wh, b):\n",
    "        self.params = [Wx, Wh, b] # パラメタ\n",
    "        self.grads = [np.zeros_like(Wx), np.zeros_like(Wh), np.zeros_like(b)] # 勾配\n",
    "        self.cache = None # 変数の保存用\n",
    "    \n",
    "    # 順伝播メソッドの定義\n",
    "    def forward(self, x, h_prev):\n",
    "        # パラメタを取得\n",
    "        Wx, Wh, b = self.params\n",
    "        \n",
    "        # 順伝播を計算:式(5.10)\n",
    "        t = np.dot(h_prev, Wh) + np.dot(x, Wx) + b # 重み付き和\n",
    "        h_next = np.tanh(t) # 活性化\n",
    "        \n",
    "        # 逆伝播に用いる変数を保存\n",
    "        self.cache = (x, h_prev, h_next)\n",
    "        \n",
    "        return h_next\n",
    "    \n",
    "    # 逆伝播メソッドの定義\n",
    "    def backward(self, dh_next):\n",
    "        # 変数を取得\n",
    "        Wx, Wh, b = self.params # パラメタ\n",
    "        x, h_prev, h_next = self.cache # データ\n",
    "        \n",
    "        # 勾配を計算\n",
    "        dt = dh_next * (1 - h_next ** 2)\n",
    "        db = np.sum(dt, axis=0)\n",
    "        dWh = np.dot(h_prev.T, dt)\n",
    "        dh_prev = np.dot(dt, Wh.T)\n",
    "        dWx = np.dot(x.T, dt)\n",
    "        dx = np.dot(dt, Wx.T)\n",
    "        \n",
    "        # 結果を格納\n",
    "        self.grads[0][...] = dWx\n",
    "        self.grads[1][...] = dWh\n",
    "        self.grads[2][...] = db\n",
    "        # 同じ大きさの ndarray を用意して[...]で深いコピー\n",
    "        \n",
    "        return dx, dh_prev"
   ]
  },
  {
   "cell_type": "markdown",
   "id": "356e82bb-1d2b-4c86-a41c-b3974e40f76d",
   "metadata": {},
   "source": [
    "#### 実行"
   ]
  },
  {
   "cell_type": "markdown",
   "id": "31fef74f-3e8b-4aae-afa8-3f69eacecac9",
   "metadata": {},
   "source": [
    "##### データの準備"
   ]
  },
  {
   "cell_type": "code",
   "execution_count": null,
   "id": "299a76fd-5744-4d74-93f0-6bf05dfffac5",
   "metadata": {},
   "outputs": [],
   "source": [
    "# バッチサイズ\n",
    "batch_size = 100\n",
    "\n",
    "# Embedベクトルの次元を指定\n",
    "wordvec_size = 10\n",
    "# 隠れ状態ベクトルの次元を指定\n",
    "hidden_size = 5\n",
    "\n",
    "# 入力データに対応する重みを生成\n",
    "Wx = np.random.randn(wordvec_size, hidden_size)\n",
    "print('Wx:', Wx.shape)\n",
    "# 1つ前の出力に対応する重みを生成\n",
    "Wh = np.random.randn(hidden_size, hidden_size)\n",
    "print('Wh:', Wh.shape)\n",
    "# バイアスを生成\n",
    "b = np.zeros(hidden_size)\n",
    "print('b:', b.shape)\n",
    "\n",
    "# 順伝播の入力を生成\n",
    "x1 = np.arange(batch_size * wordvec_size).reshape((batch_size, wordvec_size))\n",
    "h0 = np.zeros((batch_size, hidden_size)) # np.tanh(np.dot(x1, Wx) + b)\n",
    "\n",
    "# 受け皿を初期化\n",
    "h1 = np.empty((batch_size, hidden_size)) # np.tanh(np.dot(h0, Wh) + np.dot(x1, Wx) + b)\n",
    "\n",
    "# 逆伝播の入力を生成\n",
    "dh1 = np.random.randn(batch_size, hidden_size)"
   ]
  },
  {
   "cell_type": "markdown",
   "id": "41d5b8b9-4575-4150-9835-2f04f0847099",
   "metadata": {},
   "source": [
    "##### 順伝播と逆伝播"
   ]
  },
  {
   "cell_type": "code",
   "execution_count": null,
   "id": "74654036-094b-4fbe-92d0-f00996ce7808",
   "metadata": {},
   "outputs": [],
   "source": [
    "# インスタンスを作成\n",
    "layer = _RNN(Wx, Wh, b)\n",
    "\n",
    "# 順伝播の計算\n",
    "h1 = layer.forward(x1, h0)\n",
    "print('h0:', h0.shape)\n",
    "print('x1:', x1.shape)\n",
    "print('h1:', h1.shape)\n",
    "print('-'*50)\n",
    "\n",
    "# 逆伝播の計算\n",
    "dx1, dh0 = layer.backward(dh1)\n",
    "print('dh0:', dh0.shape)\n",
    "print('dx1:', dx1.shape)\n",
    "print('dh1:', dh1.shape)\n",
    "print('-'*50)\n",
    "\n",
    "# 勾配の表示\n",
    "for name, grad in zip(['dWx', 'dWh', 'db'], layer.grads):\n",
    "    print(name, grad.shape)"
   ]
  },
  {
   "cell_type": "markdown",
   "id": "3f6bc8e7-f2a9-4e14-950f-85489bbef46e",
   "metadata": {},
   "source": [
    "### T個の時系列データの処理を行うTime_RNNの実装"
   ]
  },
  {
   "cell_type": "markdown",
   "id": "184ebf1b-e262-4f5a-b7b2-b8c74a155cfc",
   "metadata": {},
   "source": [
    "#### 定義"
   ]
  },
  {
   "cell_type": "code",
   "execution_count": null,
   "id": "28d13acd-acf0-48fc-b888-278b22a0ab10",
   "metadata": {},
   "outputs": [],
   "source": [
    "# Time RNNレイヤの実装\n",
    "class _TimeRNN:\n",
    "    # 初期化メソッドの定義\n",
    "    def __init__(self, Wx, Wh, b, stateful=False):\n",
    "        self.params = [Wx, Wh, b] # パラメタ\n",
    "        self.grads = [np.zeros_like(Wx), np.zeros_like(Wh), np.zeros_like(b)] # 勾配\n",
    "        self.layers = None # レイヤ\n",
    "        self.h, self.dh = None, None # 中間オブジェクト\n",
    "        self.stateful = stateful # フラグ\n",
    "    \n",
    "    # ネットワークの継続メソッド？\n",
    "    def set_state(self, h):\n",
    "        self.h = h\n",
    "    \n",
    "    # ネットワークの切断メソッド\n",
    "    def reset_state(self):\n",
    "        self.h = None\n",
    "    \n",
    "    # 順伝播メソッドの定義\n",
    "    def forward(self, xs):\n",
    "        # パラメタを取得\n",
    "        Wx, Wh, b = self.params\n",
    "        \n",
    "        # データに関する値を取得\n",
    "        N, T, D = xs.shape # バッチ、時間サイズ、ｘの次元\n",
    "        D, H = Wx.shape # ｘの次元、ｈの次元\n",
    "        \n",
    "        # オブジェクトを初期化\n",
    "        self.layers = []\n",
    "        hs = np.empty((N, T, H), dtype='f')\n",
    "        \n",
    "        # ネットワークを切断\n",
    "        if not self.stateful or self.h is None:\n",
    "            # hを初期化\n",
    "            self.h = np.zeros((N, H), dtype='f')\n",
    "        \n",
    "        # 1ブロックの処理\n",
    "        for t in range(T):\n",
    "            # t番目のRNNレイヤを作成\n",
    "            layer = _RNN(*self.params)\n",
    "            \n",
    "            # 順伝播の計算\n",
    "            self.h = layer.forward(xs[:, t, :], self.h)\n",
    "            hs[:, t, :] = self.h # 値を格納\n",
    "            \n",
    "            # レイヤを格納\n",
    "            self.layers.append(layer)\n",
    "        \n",
    "        return hs\n",
    "    \n",
    "    # 逆伝播メソッドの定義\n",
    "    def backward(self, dhs):\n",
    "        # パラメタを取得\n",
    "        Wx, Wh, b = self.params\n",
    "        \n",
    "        # データに関する値を取得\n",
    "        N, T, H = dhs.shape\n",
    "        D, H = Wx.shape\n",
    "        \n",
    "        # オブジェクトを初期化\n",
    "        dxs = np.empty((N, T, D), dtype='f')\n",
    "        dh = 0\n",
    "        grads = [0, 0, 0]\n",
    "        \n",
    "        # 1ブロックの処理\n",
    "        for t in reversed(range(T)):\n",
    "            # t番目のRNNレイヤを取得\n",
    "            layer = self.layers[t]\n",
    "            \n",
    "            # 逆伝播の計算\n",
    "            # 出力ベクトルと隠れ状態ベクトルに分岐\n",
    "            # していたので其々の逆伝播の値と足す\n",
    "            dx, dh = layer.backward(dhs[:, t, :] + dh)\n",
    "            dxs[:, t, :] = dx # 値を格納\n",
    "            \n",
    "            # 各パラメタの勾配を加算\n",
    "            for i, grad in enumerate(layer.grads):\n",
    "                grads[i] += grad # 各パラメタの各時間での勾配を加算していくらしい。\n",
    "        \n",
    "        # 各パラメタの勾配を格納\n",
    "        for i, grad in enumerate(grads):\n",
    "            self.grads[i][...] = grad\n",
    "            # 同じ大きさの ndarray を用意して[...]で深いコピー\n",
    "        self.dh = dh\n",
    "        \n",
    "        return dxs"
   ]
  },
  {
   "cell_type": "markdown",
   "id": "5b7bf232-a0b0-4bf5-aee3-c576ec7e7d6c",
   "metadata": {},
   "source": [
    "#### 実行"
   ]
  },
  {
   "cell_type": "markdown",
   "id": "1c8db9da-d6e7-499b-9c07-83585182fdd9",
   "metadata": {},
   "source": [
    "##### データの準備"
   ]
  },
  {
   "cell_type": "code",
   "execution_count": null,
   "id": "b773f242-b5b8-4f77-9c6d-42ad4a21d15d",
   "metadata": {},
   "outputs": [],
   "source": [
    "# バッチサイズ\n",
    "batch_size = 100\n",
    "# 時間サイズ\n",
    "time_size = 10\n",
    "\n",
    "# Embedベクトルの次元を指定\n",
    "wordvec_size = 10\n",
    "# 隠れ状態ベクトルの次元を指定\n",
    "hidden_size = 5\n",
    "\n",
    "# 入力データに対応する重みを生成\n",
    "Wx = np.random.randn(wordvec_size, hidden_size)\n",
    "print('Wx:', Wx.shape)\n",
    "# 1つ前の出力に対応する重みを生成\n",
    "Wh = np.random.randn(hidden_size, hidden_size)\n",
    "print('Wh:', Wh.shape)\n",
    "# バイアスを生成\n",
    "b = np.zeros(hidden_size)\n",
    "print('b:', b.shape)\n",
    "\n",
    "# 順伝播の入力を生成\n",
    "xs = np.arange(batch_size * time_size * wordvec_size).reshape((batch_size, time_size, wordvec_size))\n",
    "\n",
    "# 受け皿を初期化\n",
    "hs = np.empty((batch_size, time_size, hidden_size))\n",
    "\n",
    "# 逆伝播の入力を生成\n",
    "dhs = np.arange(batch_size * time_size * hidden_size).reshape((batch_size, time_size, hidden_size))"
   ]
  },
  {
   "cell_type": "markdown",
   "id": "ab647f4c-649f-4084-8ab6-25d6e9765b3d",
   "metadata": {},
   "source": [
    "##### 順伝播と逆伝播"
   ]
  },
  {
   "cell_type": "code",
   "execution_count": null,
   "id": "78552d06-741d-44be-9ffa-ee99ec95cf50",
   "metadata": {},
   "outputs": [],
   "source": [
    "# インスタンスを作成\n",
    "layer = _TimeRNN(Wx, Wh, b)\n",
    "\n",
    "# 順伝播の計算\n",
    "hs = layer.forward(xs)\n",
    "print('xs:', xs.shape)\n",
    "print('hs:', hs.shape)\n",
    "print('-'*50)\n",
    "\n",
    "# 逆伝播の計算\n",
    "dsx = layer.backward(dhs)\n",
    "print('dhs:', dhs.shape)\n",
    "print('dsx:', dsx.shape)\n",
    "print('-'*50)\n",
    "\n",
    "# 重み（の次元\n",
    "for name, grad in zip(['dWx', 'dWh', 'db'], layer.grads):\n",
    "    print(name, grad.shape)"
   ]
  },
  {
   "attachments": {
    "d9ef5df2-9b9e-45e9-9139-66b51bc0684d.png": {
     "image/png": "[encoded data removed]"
    }
   },
   "cell_type": "markdown",
   "id": "bfc4c5ef-9894-4886-aca9-f75713227eea",
   "metadata": {},
   "source": [
    "### RNNを使用した言語モデル、SimpleRnnlmの実装\n",
    "<img src=\"attachment:d9ef5df2-9b9e-45e9-9139-66b51bc0684d.png\" width=\"25%\">"
   ]
  },
  {
   "cell_type": "markdown",
   "id": "44d7a8b4-47da-412d-8fbf-0a9959adb8bb",
   "metadata": {},
   "source": [
    "#### 定義\n",
    "TimeRNNに続き、T個の時系列データの処理を行う  \n",
    "TimeEmbedding、TimeAffine、TimeSoftmaxWithLossなどの定義も行う。\n",
    "- TimeEmbedding  \n",
    "T個の時系列データのEmbedding処理を行う。\n",
    "- TimeAffine  \n",
    "T個の時系列データのAffine変換処理を行う。\n",
    "- TimeSoftmaxWithLoss  \n",
    "  - T個の時系列データのSoftmaxWithLoss処理を行う。\n",
    "  - 損失の計算は、T個の平均を取る（L = (L1+L2+L3+...+Lt-1)/T）。"
   ]
  },
  {
   "cell_type": "code",
   "execution_count": null,
   "id": "565fef6a-7186-48bd-9803-2f3dd97b34e6",
   "metadata": {},
   "outputs": [],
   "source": [
    "from nekozame.common.time_layers import *\n",
    "\n",
    "class SimpleRnnlm:\n",
    "    def __init__(self, vocab_size, wordvec_size, hidden_size):\n",
    "        V, D, H = vocab_size, wordvec_size, hidden_size\n",
    "        rn = np.random.randn\n",
    "\n",
    "        # 重みの初期化\n",
    "        #（Xavierの初期化、KasagoDL4.ipynb）\n",
    "        \n",
    "        # embed\n",
    "        embed_W = (rn(V, D) / 100).astype('f')\n",
    "        \n",
    "        # rnn\n",
    "        rnn_Wx = (rn(D, H) / np.sqrt(D)).astype('f')\n",
    "        rnn_Wh = (rn(H, H) / np.sqrt(H)).astype('f')\n",
    "        rnn_b = np.zeros(H).astype('f')\n",
    "        \n",
    "        # affine\n",
    "        affine_W = (rn(H, V) / np.sqrt(H)).astype('f')\n",
    "        affine_b = np.zeros(V).astype('f')\n",
    "\n",
    "        # レイヤの生成\n",
    "        self.layers = [\n",
    "            TimeEmbedding(embed_W),\n",
    "            TimeRNN(rnn_Wx, rnn_Wh, rnn_b, stateful=True),\n",
    "            TimeAffine(affine_W, affine_b)\n",
    "        ]\n",
    "        self.loss_layer = TimeSoftmaxWithLoss()\n",
    "        self.rnn_layer = self.layers[1]\n",
    "\n",
    "        # すべての重みと勾配をリストにまとめる\n",
    "        self.params, self.grads = [], []\n",
    "        for layer in self.layers:\n",
    "            self.params += layer.params\n",
    "            self.grads += layer.grads\n",
    "\n",
    "    def forward(self, xs, ts):\n",
    "        for layer in self.layers:\n",
    "            xs = layer.forward(xs)\n",
    "        loss = self.loss_layer.forward(xs, ts)\n",
    "        return loss\n",
    "\n",
    "    def backward(self, dout=1):\n",
    "        dout = self.loss_layer.backward(dout)\n",
    "        for layer in reversed(self.layers):\n",
    "            dout = layer.backward(dout)\n",
    "        return dout\n",
    "\n",
    "    def reset_state(self):\n",
    "        self.rnn_layer.reset_state()"
   ]
  },
  {
   "cell_type": "markdown",
   "id": "714b736a-18bd-47ed-bbd0-b2a9148138a0",
   "metadata": {},
   "source": [
    "#### 実行"
   ]
  },
  {
   "cell_type": "markdown",
   "id": "4b5b76b1-15d7-4815-ae17-789d40470884",
   "metadata": {},
   "source": [
    "##### データの準備"
   ]
  },
  {
   "cell_type": "code",
   "execution_count": null,
   "id": "7c86b0fe-b25c-490d-9d3d-a34db5d9287b",
   "metadata": {},
   "outputs": [],
   "source": [
    "from nekozame.dataset import ptb\n",
    "\n",
    "# コーパスのサイズ\n",
    "corpus_size = 1000\n",
    "\n",
    "# 学習データの読み込み\n",
    "# 929589語から成る文\n",
    "corpus, word_to_id, id_to_word = ptb.load_data('train')\n",
    "\n",
    "# コーパスの長さを短く\n",
    "corpus = corpus[:corpus_size]\n",
    "\n",
    "# コーパスの単語数\n",
    "vocab_size = int(max(corpus) + 1)\n",
    "\n",
    "# 時系列予測（次単語予測）の\n",
    "xs = corpus[:-1]  # 教師データ\n",
    "ts = corpus[1:]   # 教師ラベル\n",
    "\n",
    "print('corpus size: %d, vocabulary size: %d' % (corpus_size, vocab_size))"
   ]
  },
  {
   "cell_type": "markdown",
   "id": "305de25a-cdf0-4e54-a51d-7d21f4c401f4",
   "metadata": {},
   "source": [
    "##### 学習と評価"
   ]
  },
  {
   "cell_type": "code",
   "execution_count": null,
   "id": "e439ed24-be6a-49fc-9003-6396686842f6",
   "metadata": {},
   "outputs": [],
   "source": [
    "# ハイパーパラメタの設定\n",
    "\n",
    "# バッチサイズ\n",
    "batch_size = 10\n",
    "# 時間サイズ\n",
    "time_size = 5\n",
    "\n",
    "# Embedベクトルの次元を指定\n",
    "wordvec_size = 100\n",
    "# 隠れ状態ベクトルの次元を指定\n",
    "hidden_size = 100\n",
    "\n",
    "# 学習率\n",
    "lr = 0.1\n",
    "# エポック\n",
    "max_epoch = 100"
   ]
  },
  {
   "cell_type": "markdown",
   "id": "33de41cd-9fb4-4625-9ab1-34af0fe17b30",
   "metadata": {
    "tags": []
   },
   "source": [
    "###### train_custom_loop"
   ]
  },
  {
   "cell_type": "code",
   "execution_count": null,
   "id": "d73bd55b-bfb9-41ff-95e0-58bb91820a72",
   "metadata": {},
   "outputs": [],
   "source": [
    "from nekozame.common.optimizer import SGD\n",
    "\n",
    "# 学習時に使用する変数\n",
    "data_size = len(xs) # corpus_size - 1 = 999\n",
    "max_iters = data_size // (batch_size * time_size) # = 999/(10*5) = 19\n",
    "time_idx = 0\n",
    "total_loss = 0\n",
    "loss_count = 0\n",
    "ppl_list = []\n",
    "\n",
    "# モデルの生成\n",
    "model = SimpleRnnlm(vocab_size, wordvec_size, hidden_size)\n",
    "optimizer = SGD(lr)\n",
    "\n",
    "# ミニバッチの各サンプルの読み込み開始位置を計算\n",
    "jump = (corpus_size - 1) // batch_size\n",
    "offsets = [i * jump for i in range(batch_size)]\n",
    "\n",
    "for epoch in range(max_epoch):\n",
    "    for iter in range(max_iters):\n",
    "        \n",
    "        # イテレーション毎の学習\n",
    "        \n",
    "        # ミニバッチの取得\n",
    "        batch_x = np.empty((batch_size, time_size), dtype='i')\n",
    "        batch_t = np.empty((batch_size, time_size), dtype='i')\n",
    "        for t in range(time_size):\n",
    "            for i, offset in enumerate(offsets):\n",
    "                batch_x[i, t] = xs[(offset + time_idx) % data_size]\n",
    "                batch_t[i, t] = ts[(offset + time_idx) % data_size]\n",
    "            time_idx += 1\n",
    "\n",
    "        # 所得したミニバッチで\n",
    "        \n",
    "        # 勾配を求め、\n",
    "        loss = model.forward(batch_x, batch_t)\n",
    "        model.backward()\n",
    "        \n",
    "        # パラメタ更新\n",
    "        optimizer.update(model.params, model.grads)\n",
    "        \n",
    "        # 誤差の情報\n",
    "        total_loss += loss\n",
    "        loss_count += 1\n",
    "\n",
    "    # エポック毎にパープレキシティの評価\n",
    "    ppl = np.exp(total_loss / loss_count)\n",
    "    print('| epoch %d | perplexity %.2f' % (epoch+1, ppl))\n",
    "    ppl_list.append(float(ppl)) # グラフ描画用\n",
    "    \n",
    "    # 誤差の初期化\n",
    "    total_loss, loss_count = 0, 0\n",
    "\n",
    "# グラフの描画\n",
    "x = np.arange(len(ppl_list))\n",
    "plt.plot(x, ppl_list, label='train')\n",
    "plt.xlabel('epochs')\n",
    "plt.ylabel('perplexity')\n",
    "plt.show()"
   ]
  },
  {
   "cell_type": "markdown",
   "id": "bd955ada-ff16-4f7f-8005-451353285376",
   "metadata": {},
   "source": [
    "###### train\n",
    "上記のコードをRnnlmTrainerに置き換えたバージョン"
   ]
  },
  {
   "cell_type": "code",
   "execution_count": null,
   "id": "4159d90c-1c2b-40e7-8d83-81cd29155f4c",
   "metadata": {},
   "outputs": [],
   "source": [
    "from nekozame.common.optimizer import SGD\n",
    "from nekozame.common.trainer import RnnlmTrainer\n",
    "\n",
    "# モデルの生成\n",
    "model = SimpleRnnlm(vocab_size, wordvec_size, hidden_size)\n",
    "trainer = RnnlmTrainer(model, SGD(lr))\n",
    "\n",
    "trainer.fit(xs, ts, max_epoch, batch_size, time_size)\n",
    "trainer.plot()"
   ]
  }
 ],
 "metadata": {
  "kernelspec": {
   "display_name": "Python 3 (ipykernel)",
   "language": "python",
   "name": "python3"
  },
  "language_info": {
   "codemirror_mode": {
    "name": "ipython",
    "version": 3
   },
   "file_extension": ".py",
   "mimetype": "text/x-python",
   "name": "python",
   "nbconvert_exporter": "python",
   "pygments_lexer": "ipython3",
   "version": "3.10.6"
  }
 },
 "nbformat": 4,
 "nbformat_minor": 5
}
