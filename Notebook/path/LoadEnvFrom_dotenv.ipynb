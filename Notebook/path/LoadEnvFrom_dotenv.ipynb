{
 "cells": [
  {
   "cell_type": "markdown",
   "id": "ae10a6d8",
   "metadata": {},
   "source": [
    "# `.env`ファイルから環境変数をロード"
   ]
  },
  {
   "cell_type": "code",
   "execution_count": null,
   "id": "8f636344",
   "metadata": {},
   "outputs": [
    {
     "name": "stdout",
     "output_type": "stream",
     "text": [
      "Requirement already satisfied: python-dotenv in /home/seigi/.python3_venv/lib/python3.12/site-packages (1.1.1)\n"
     ]
    }
   ],
   "source": [
    "#!pip install python-dotenv"
   ]
  },
  {
   "cell_type": "code",
   "execution_count": 8,
   "id": "7e3f7a00",
   "metadata": {},
   "outputs": [],
   "source": [
    "# .envというファイルから環境変数をロード\n",
    "import os\n",
    "from dotenv import load_dotenv\n",
    "load_dotenv(override=True)\n",
    "api_key = os.getenv('OPENAI_API_KEY')"
   ]
  },
  {
   "cell_type": "code",
   "execution_count": 10,
   "id": "ac744961",
   "metadata": {},
   "outputs": [
    {
     "name": "stdout",
     "output_type": "stream",
     "text": [
      "APIキーが見つかりました。今のところ問題はありません。\n"
     ]
    }
   ],
   "source": [
    "# Check the OPENAI_API_KEY\n",
    "api_key = os.getenv('OPENAI_API_KEY')\n",
    "\n",
    "if not api_key:\n",
    "    print(\"APIキーが見つかりません。このフォルダ内のトラブルシューティングノートブックを参照して、APIキーを特定し、修正してください。\")\n",
    "elif not api_key.startswith(\"sk-proj-\"):\n",
    "    print(\"APIキーは見つかりましたが、sk-proj-で始まりません。正しいキーを使用していることを確認してください。トラブルシューティングノートブックを参照してください。\")\n",
    "elif api_key.strip() != api_key:\n",
    "    print(\"APIキーは見つかりましたが、先頭または末尾にスペースまたはタブ文字が含まれている可能性があります。これらを削除してください。トラブルシューティングノートブックを参照してください。\")\n",
    "else:\n",
    "    print(\"APIキーが見つかりました。今のところ問題はありません。\")"
   ]
  }
 ],
 "metadata": {
  "kernelspec": {
   "display_name": "Python 3 (ipykernel)",
   "language": "python",
   "name": "python3"
  },
  "language_info": {
   "codemirror_mode": {
    "name": "ipython",
    "version": 3
   },
   "file_extension": ".py",
   "mimetype": "text/x-python",
   "name": "python",
   "nbconvert_exporter": "python",
   "pygments_lexer": "ipython3",
   "version": "3.12.3"
  }
 },
 "nbformat": 4,
 "nbformat_minor": 5
}
