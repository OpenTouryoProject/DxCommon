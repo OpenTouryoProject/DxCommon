{
 "cells": [
  {
   "cell_type": "markdown",
   "id": "6504fd44-1030-406c-973f-1ee8812fb291",
   "metadata": {},
   "source": [
    "# huggingface/trl SFTTrainerを使用したファインチューニング\n",
    "参考：https://dotnetdevelopmentinfrastructure.osscons.jp/index.php?huggingface%2Ftrl%20SFTTrainer  \n",
    "※ ディスク領域が必要なので、このNBを実行する場合は、gitクローンする段階で/mnt/tmp（※ 一時領域）などに配置すると良い。"
   ]
  },
  {
   "cell_type": "markdown",
   "id": "67090897-23ab-4961-9d9f-4ec0f61c4dbf",
   "metadata": {},
   "source": [
    "## 準備"
   ]
  },
  {
   "cell_type": "markdown",
   "id": "8a5a00cc-6f65-40b0-ae2d-e1e4ecc27f62",
   "metadata": {},
   "source": [
    "### 必要なパッケージをインストール"
   ]
  },
  {
   "cell_type": "markdown",
   "id": "3de79763-30a7-475e-b6e8-8c08df079bf0",
   "metadata": {},
   "source": [
    "#### サンドボックス"
   ]
  },
  {
   "cell_type": "code",
   "execution_count": 1,
   "id": "2c23c34f-ae60-4638-bafd-c038708c85bd",
   "metadata": {},
   "outputs": [
    {
     "name": "stdout",
     "output_type": "stream",
     "text": [
      "\u001b[33mWARNING: No matching packages\u001b[0m\u001b[33m\n",
      "\u001b[0mFiles removed: 0\n"
     ]
    }
   ],
   "source": [
    "!pip cache purge\n",
    "# !pip install --upgrade XXXX"
   ]
  },
  {
   "cell_type": "markdown",
   "id": "c321e59c-a60f-44b0-b6f7-61ccf877d9dd",
   "metadata": {},
   "source": [
    "#### 実際にインストールしたもの一覧"
   ]
  },
  {
   "cell_type": "markdown",
   "id": "9976ad88-4aef-4a40-a2ac-296f50b29098",
   "metadata": {},
   "source": [
    "- datasets : 自然言語処理のサンプルデータセットを簡単に取り扱えるライブラリ\n",
    "- transformers : Hugging Face の transformers ライブラリ\n",
    "- accelerate : Hugging Face の accelerate ライブラリは、TPU/GPU/CPUでの実行を同じコードで記述できる\n",
    "- trl : Hugging Face の trl (Transformer Reinforcement Learning) ライブラリ（SFT用）\n",
    "- peft : Hugging Face の peft (Parameter-Efficient Fine Tuning) ライブラリ（LoRA用）\n",
    "```bash\n",
    "!pip install --upgrade datasets\n",
    "!pip install --upgrade transformers\n",
    "!pip install --upgrade accelerate\n",
    "!pip install --upgrade trl\n",
    "!pip install --upgrade peft\n",
    "```"
   ]
  },
  {
   "cell_type": "markdown",
   "id": "a1ba7444-a8ac-4aa5-801b-a3745527351a",
   "metadata": {},
   "source": [
    "#### 以下のエラーが出るので、インストール後に一旦再起動\n",
    "```\n",
    "ImportError: Using the `Trainer` with `PyTorch` requires `accelerate>=0.26.0`: Please run `pip install transformers[torch]` or `pip install 'accelerate>=0.26.0'`\n",
    "```\n",
    "参考：https://github.com/huggingface/transformers/issues/24147"
   ]
  },
  {
   "cell_type": "markdown",
   "id": "1128c437-1443-4c77-baff-f564373242ba",
   "metadata": {},
   "source": [
    "#### インストール結果の確認"
   ]
  },
  {
   "cell_type": "code",
   "execution_count": 2,
   "id": "b7497174-fb78-442a-bb82-85525b72e7d3",
   "metadata": {},
   "outputs": [
    {
     "name": "stdout",
     "output_type": "stream",
     "text": [
      "Package                   Version\n",
      "------------------------- --------------\n",
      "accelerate                1.8.1\n",
      "aiohappyeyeballs          2.6.1\n",
      "aiohttp                   3.12.13\n",
      "aiosignal                 1.4.0\n",
      "anyio                     4.9.0\n",
      "argon2-cffi               25.1.0\n",
      "argon2-cffi-bindings      21.2.0\n",
      "arrow                     1.3.0\n",
      "asttokens                 3.0.0\n",
      "async-lru                 2.0.5\n",
      "attrs                     25.3.0\n",
      "babel                     2.17.0\n",
      "beautifulsoup4            4.13.4\n",
      "bleach                    6.2.0\n",
      "certifi                   2025.7.9\n",
      "cffi                      1.17.1\n",
      "charset-normalizer        3.4.2\n",
      "comm                      0.2.2\n",
      "datasets                  4.0.0\n",
      "debugpy                   1.8.14\n",
      "decorator                 5.2.1\n",
      "defusedxml                0.7.1\n",
      "dill                      0.3.8\n",
      "executing                 2.2.0\n",
      "fastjsonschema            2.21.1\n",
      "filelock                  3.13.1\n",
      "fqdn                      1.5.1\n",
      "frozenlist                1.7.0\n",
      "fsspec                    2024.6.1\n",
      "h11                       0.16.0\n",
      "hf-xet                    1.1.5\n",
      "httpcore                  1.0.9\n",
      "httpx                     0.28.1\n",
      "huggingface-hub           0.33.2\n",
      "idna                      3.10\n",
      "ipykernel                 6.29.5\n",
      "ipython                   9.4.0\n",
      "ipython_pygments_lexers   1.1.1\n",
      "ipywidgets                8.1.7\n",
      "isoduration               20.11.0\n",
      "jedi                      0.19.2\n",
      "Jinja2                    3.1.4\n",
      "json5                     0.12.0\n",
      "jsonpointer               3.0.0\n",
      "jsonschema                4.24.0\n",
      "jsonschema-specifications 2025.4.1\n",
      "jupyter                   1.1.1\n",
      "jupyter_client            8.6.3\n",
      "jupyter-console           6.6.3\n",
      "jupyter_core              5.8.1\n",
      "jupyter-events            0.12.0\n",
      "jupyter-lsp               2.2.5\n",
      "jupyter_server            2.16.0\n",
      "jupyter_server_terminals  0.5.3\n",
      "jupyterlab                4.4.4\n",
      "jupyterlab_pygments       0.3.0\n",
      "jupyterlab_server         2.27.3\n",
      "jupyterlab_widgets        3.0.15\n",
      "MarkupSafe                2.1.5\n",
      "matplotlib-inline         0.1.7\n",
      "mistune                   3.1.3\n",
      "mpmath                    1.3.0\n",
      "multidict                 6.6.3\n",
      "multiprocess              0.70.16\n",
      "nbclient                  0.10.2\n",
      "nbconvert                 7.16.6\n",
      "nbformat                  5.10.4\n",
      "nest-asyncio              1.6.0\n",
      "networkx                  3.3\n",
      "notebook                  7.4.4\n",
      "notebook_shim             0.2.4\n",
      "numpy                     2.1.2\n",
      "nvidia-cublas-cu12        12.4.5.8\n",
      "nvidia-cuda-cupti-cu12    12.4.127\n",
      "nvidia-cuda-nvrtc-cu12    12.4.127\n",
      "nvidia-cuda-runtime-cu12  12.4.127\n",
      "nvidia-cudnn-cu12         9.1.0.70\n",
      "nvidia-cufft-cu12         11.2.1.3\n",
      "nvidia-curand-cu12        10.3.5.147\n",
      "nvidia-cusolver-cu12      11.6.1.9\n",
      "nvidia-cusparse-cu12      12.3.1.170\n",
      "nvidia-cusparselt-cu12    0.6.2\n",
      "nvidia-nccl-cu12          2.21.5\n",
      "nvidia-nvjitlink-cu12     12.4.127\n",
      "nvidia-nvtx-cu12          12.4.127\n",
      "overrides                 7.7.0\n",
      "packaging                 25.0\n",
      "pandas                    2.3.1\n",
      "pandocfilters             1.5.1\n",
      "parso                     0.8.4\n",
      "peft                      0.16.0\n",
      "pexpect                   4.9.0\n",
      "pillow                    11.0.0\n",
      "pip                       24.0\n",
      "platformdirs              4.3.8\n",
      "prometheus_client         0.22.1\n",
      "prompt_toolkit            3.0.51\n",
      "propcache                 0.3.2\n",
      "psutil                    7.0.0\n",
      "ptyprocess                0.7.0\n",
      "pure_eval                 0.2.3\n",
      "pyarrow                   20.0.0\n",
      "pycparser                 2.22\n",
      "Pygments                  2.19.2\n",
      "python-dateutil           2.9.0.post0\n",
      "python-json-logger        3.3.0\n",
      "pytz                      2025.2\n",
      "PyYAML                    6.0.2\n",
      "pyzmq                     27.0.0\n",
      "referencing               0.36.2\n",
      "regex                     2024.11.6\n",
      "requests                  2.32.4\n",
      "rfc3339-validator         0.1.4\n",
      "rfc3986-validator         0.1.1\n",
      "rpds-py                   0.26.0\n",
      "safetensors               0.5.3\n",
      "Send2Trash                1.8.3\n",
      "setuptools                70.2.0\n",
      "six                       1.17.0\n",
      "sniffio                   1.3.1\n",
      "soupsieve                 2.7\n",
      "stack-data                0.6.3\n",
      "sympy                     1.13.1\n",
      "terminado                 0.18.1\n",
      "tinycss2                  1.4.0\n",
      "tokenizers                0.21.2\n",
      "torch                     2.6.0+cu124\n",
      "torchaudio                2.6.0+cu124\n",
      "torchvision               0.21.0+cu124\n",
      "tornado                   6.5.1\n",
      "tqdm                      4.67.1\n",
      "traitlets                 5.14.3\n",
      "transformers              4.53.1\n",
      "triton                    3.2.0\n",
      "trl                       0.19.1\n",
      "types-python-dateutil     2.9.0.20250708\n",
      "typing_extensions         4.12.2\n",
      "tzdata                    2025.2\n",
      "uri-template              1.3.0\n",
      "urllib3                   2.5.0\n",
      "wcwidth                   0.2.13\n",
      "webcolors                 24.11.1\n",
      "webencodings              0.5.1\n",
      "websocket-client          1.8.0\n",
      "widgetsnbextension        4.0.14\n",
      "xxhash                    3.5.0\n",
      "yarl                      1.20.1\n"
     ]
    }
   ],
   "source": [
    "!pip list"
   ]
  },
  {
   "cell_type": "markdown",
   "id": "7f345891-bb1f-432b-9030-323752eadbff",
   "metadata": {},
   "source": [
    "### インストールしたパッケージをインポート"
   ]
  },
  {
   "cell_type": "code",
   "execution_count": 3,
   "id": "61b27396-d9d6-4473-bd97-236b3331e731",
   "metadata": {},
   "outputs": [],
   "source": [
    "import torch\n",
    "import datasets\n",
    "from datasets import load_dataset\n",
    "import transformers\n",
    "from transformers import AutoTokenizer, AutoModelForCausalLM, Trainer, TrainingArguments\n",
    "from trl import DataCollatorForCompletionOnlyLM, SFTTrainer"
   ]
  },
  {
   "cell_type": "markdown",
   "id": "bd14e4cd-44cb-4b67-95ba-04253ed3ea1b",
   "metadata": {},
   "source": [
    "### 使用する変数を定義する"
   ]
  },
  {
   "cell_type": "code",
   "execution_count": 4,
   "id": "02f23ab9-1c58-4f53-996c-bf1eca9f8fb8",
   "metadata": {},
   "outputs": [],
   "source": [
    "# DATA\n",
    "TEST_FILE_PATH = 'finetuning/data/test1.jsonl'\n",
    "\n",
    "# MODEL\n",
    "MODEL_URI                        = 'meta-llama/Llama-3.2-1B-Instruct'\n",
    "MODEL_PATH      =           'finetuning/models/Llama-3.2-1B-Instruct'\n",
    "FTED_MODEL_PATH = 'finetuning/finetuned_models/Llama-3.2-1B-Instruct'"
   ]
  },
  {
   "cell_type": "markdown",
   "id": "833d9773-6ee5-4911-a714-8a0912fac4df",
   "metadata": {},
   "source": [
    "### モデル・トークナイザ"
   ]
  },
  {
   "cell_type": "markdown",
   "id": "5683ec57-ebcb-43f8-9839-205c9743dac8",
   "metadata": {},
   "source": [
    "#### NotebookからHugging Face Model Hubとやり取り"
   ]
  },
  {
   "cell_type": "code",
   "execution_count": 5,
   "id": "596f338b-cff2-43da-b8ec-00e07462c069",
   "metadata": {},
   "outputs": [
    {
     "data": {
      "application/vnd.jupyter.widget-view+json": {
       "model_id": "e026eb8fd40d41d79a19cba6b9747fd3",
       "version_major": 2,
       "version_minor": 0
      },
      "text/plain": [
       "VBox(children=(HTML(value='<center> <img\\nsrc=https://huggingface.co/front/assets/huggingface_logo-noborder.sv…"
      ]
     },
     "metadata": {},
     "output_type": "display_data"
    }
   ],
   "source": [
    "from huggingface_hub import notebook_login\n",
    "notebook_login()"
   ]
  },
  {
   "cell_type": "markdown",
   "id": "f6215c13-dafc-42dc-b122-b926145ee600",
   "metadata": {},
   "source": [
    "### モデルとトークナイザのダウンロードとセーブ\n",
    "初回のみなのでMarkdownにしておく。"
   ]
  },
  {
   "cell_type": "markdown",
   "id": "f369ea8c-1acb-40c4-bee7-16213683ce7d",
   "metadata": {},
   "source": [
    "```python\n",
    "# model\n",
    "model = transformers.AutoModelForCausalLM.from_pretrained(\n",
    "    MODEL_URI,\n",
    "    torch_dtype=torch.bfloat16,\n",
    "    trust_remote_code=True,\n",
    "    force_download=True\n",
    "  )\n",
    "model.save_pretrained(MODEL_PATH) \n",
    "\n",
    "# tokenizer\n",
    "tokenizer = AutoTokenizer.from_pretrained(MODEL_URI)\n",
    "tokenizer.save_pretrained(MODEL_PATH) \n",
    "```"
   ]
  },
  {
   "cell_type": "markdown",
   "id": "5f47c01c-d6d9-4ee3-bebc-bb18c3d2c6b6",
   "metadata": {},
   "source": [
    "## ファインチューニング"
   ]
  },
  {
   "cell_type": "markdown",
   "id": "ab1affb2-c35f-4ad8-99a9-cbb7094700b5",
   "metadata": {},
   "source": [
    "### データの読み込み"
   ]
  },
  {
   "cell_type": "markdown",
   "id": "17850ffa-7413-4e8a-9936-dc2dd2c21265",
   "metadata": {},
   "source": [
    "#### 間違った方法\n",
    "- なお、以下で表示される結果の「Datasetのtrain」と「DatasetDictのtrain」は対応している訳ではない。\n",
    "- これは、`datasets.DatasetDict({'train': dataset})`のtrain → xxxxx に変えて実行すると解る。"
   ]
  },
  {
   "cell_type": "code",
   "execution_count": 6,
   "id": "7e5f5e6b-547f-4fa8-9731-0c00811c425a",
   "metadata": {},
   "outputs": [
    {
     "data": {
      "text/plain": [
       "DatasetDict({\n",
       "    train: DatasetDict({\n",
       "        train: Dataset({\n",
       "            features: ['question', 'answer'],\n",
       "            num_rows: 5\n",
       "        })\n",
       "    })\n",
       "})"
      ]
     },
     "execution_count": 6,
     "metadata": {},
     "output_type": "execute_result"
    }
   ],
   "source": [
    "test_file = \"./data/test.jsonl\"\n",
    "dataset = datasets.load_dataset(\"json\", data_files=test_file)\n",
    "dataset = datasets.DatasetDict({'train': dataset})\n",
    "dataset"
   ]
  },
  {
   "cell_type": "markdown",
   "id": "bc0eab54-9073-40a4-bbf2-e459d4079d69",
   "metadata": {},
   "source": [
    "#### 正しい方法"
   ]
  },
  {
   "cell_type": "code",
   "execution_count": 7,
   "id": "c53a8285-5771-4ec5-b0f3-f87d01298cfa",
   "metadata": {},
   "outputs": [
    {
     "data": {
      "text/plain": [
       "DatasetDict({\n",
       "    train: Dataset({\n",
       "        features: ['question', 'answer'],\n",
       "        num_rows: 5\n",
       "    })\n",
       "})"
      ]
     },
     "execution_count": 7,
     "metadata": {},
     "output_type": "execute_result"
    }
   ],
   "source": [
    "dataset = datasets.load_dataset(\"json\", data_files=TEST_FILE_PATH, split=\"train\")\n",
    "dataset = datasets.DatasetDict({'train': dataset})\n",
    "dataset"
   ]
  },
  {
   "cell_type": "markdown",
   "id": "23d38632-b40e-4268-b5af-740f176bb026",
   "metadata": {},
   "source": [
    "### SFTTrainerの定義"
   ]
  },
  {
   "cell_type": "markdown",
   "id": "1d9e3b2c-d7de-4451-8f20-86841b8091f4",
   "metadata": {},
   "source": [
    "#### model, tokenizer\n",
    "モデルとトークナイザのロード"
   ]
  },
  {
   "cell_type": "code",
   "execution_count": 8,
   "id": "b285cc20-0485-4002-9e1c-871846aa769b",
   "metadata": {},
   "outputs": [],
   "source": [
    "# model\n",
    "model = AutoModelForCausalLM.from_pretrained(MODEL_PATH)\n",
    "\n",
    "# tokenizer\n",
    "tokenizer = AutoTokenizer.from_pretrained(MODEL_PATH)\n",
    "if tokenizer.pad_token is None:\n",
    "    tokenizer.pad_token = tokenizer.eos_token"
   ]
  },
  {
   "cell_type": "markdown",
   "id": "e474fc80-e8ab-437a-9a8f-f635202b53f3",
   "metadata": {},
   "source": [
    "#### training_args"
   ]
  },
  {
   "cell_type": "code",
   "execution_count": 9,
   "id": "2ee02efd-9a89-4f71-90b4-75266111469a",
   "metadata": {},
   "outputs": [],
   "source": [
    "training_args = TrainingArguments('test_trainer') # output_dirの指定になる。\n",
    "\n",
    "# 「OutOfMemoryError: CUDA out of memory.」への対応\n",
    "# training_args = TrainingArguments(\n",
    "#     output_dir='test_trainer',\n",
    "#     per_device_train_batch_size=1, # 8, 4, 2\n",
    "#     gradient_checkpointing=True,\n",
    "#     bf16=True, #fp16=True  # NVIDIA Ampere 以降の GPU なら bf16=True も検討\n",
    "# )"
   ]
  },
  {
   "cell_type": "markdown",
   "id": "d554c19b-db38-4730-a892-9568a6b1ca47",
   "metadata": {},
   "source": [
    "#### formatting_func"
   ]
  },
  {
   "cell_type": "code",
   "execution_count": 10,
   "id": "d10c83cb-6141-418e-8ce2-1074cb069c05",
   "metadata": {},
   "outputs": [],
   "source": [
    "def formatting_prompts_func(example):\n",
    "    output_texts = []\n",
    "    for i in range(len(example['question'])):\n",
    "        text = f\"Please answer the question.\\n\\n### question\\n{example['question'][i]}\\n\\n### answer\\n{example['answer'][i]}<|endoftext|>\"\n",
    "        output_texts.append(text)\n",
    "    return output_texts"
   ]
  },
  {
   "cell_type": "markdown",
   "id": "7b9c2904-70a8-4db6-bb8b-7897f641e067",
   "metadata": {},
   "source": [
    "#### data_collator"
   ]
  },
  {
   "cell_type": "code",
   "execution_count": 11,
   "id": "734e0488-cd55-440a-8eee-0599e0e67160",
   "metadata": {},
   "outputs": [],
   "source": [
    "response_template = '### answer\\n'\n",
    "collator = DataCollatorForCompletionOnlyLM(response_template, tokenizer=tokenizer)"
   ]
  },
  {
   "cell_type": "markdown",
   "id": "d9c2d87b-5c2c-4809-a923-a07cf557d4c3",
   "metadata": {},
   "source": [
    "#### SFTTrainerの定義"
   ]
  },
  {
   "cell_type": "code",
   "execution_count": 12,
   "id": "33c5efb9-480d-4f77-ac10-a5406c0f25b2",
   "metadata": {},
   "outputs": [
    {
     "data": {
      "application/vnd.jupyter.widget-view+json": {
       "model_id": "387ba73939fc4cc68d3a9dcf85421c0a",
       "version_major": 2,
       "version_minor": 0
      },
      "text/plain": [
       "Applying formatting function to train dataset:   0%|          | 0/5 [00:00<?, ? examples/s]"
      ]
     },
     "metadata": {},
     "output_type": "display_data"
    },
    {
     "data": {
      "application/vnd.jupyter.widget-view+json": {
       "model_id": "49f742b29ea84189a59227d6b67893d2",
       "version_major": 2,
       "version_minor": 0
      },
      "text/plain": [
       "Applying formatting function to train dataset:   0%|          | 0/5 [00:00<?, ? examples/s]"
      ]
     },
     "metadata": {},
     "output_type": "display_data"
    },
    {
     "data": {
      "application/vnd.jupyter.widget-view+json": {
       "model_id": "92d230fe39d84f4dba1c10459d0ccb1b",
       "version_major": 2,
       "version_minor": 0
      },
      "text/plain": [
       "Adding EOS to train dataset:   0%|          | 0/5 [00:00<?, ? examples/s]"
      ]
     },
     "metadata": {},
     "output_type": "display_data"
    },
    {
     "data": {
      "application/vnd.jupyter.widget-view+json": {
       "model_id": "efb9a21418d04900a789620053672785",
       "version_major": 2,
       "version_minor": 0
      },
      "text/plain": [
       "Tokenizing train dataset:   0%|          | 0/5 [00:00<?, ? examples/s]"
      ]
     },
     "metadata": {},
     "output_type": "display_data"
    },
    {
     "data": {
      "application/vnd.jupyter.widget-view+json": {
       "model_id": "1dc58fae9f5f4b6e819044ba2a05f31e",
       "version_major": 2,
       "version_minor": 0
      },
      "text/plain": [
       "Truncating train dataset:   0%|          | 0/5 [00:00<?, ? examples/s]"
      ]
     },
     "metadata": {},
     "output_type": "display_data"
    }
   ],
   "source": [
    "trainer = SFTTrainer(\n",
    "    model,\n",
    "    args=training_args,\n",
    "    train_dataset=dataset['train'], \n",
    "    formatting_func=formatting_prompts_func,\n",
    "    data_collator=collator,\n",
    ")"
   ]
  },
  {
   "cell_type": "markdown",
   "id": "cf97396b-9d17-4aca-a122-4103daafa301",
   "metadata": {},
   "source": [
    "#### SFTTrainer.train_datasetを確認"
   ]
  },
  {
   "cell_type": "code",
   "execution_count": 13,
   "id": "eeb17576-58dc-4005-b46e-e9ab7ccdac1a",
   "metadata": {},
   "outputs": [
    {
     "name": "stdout",
     "output_type": "stream",
     "text": [
      "Dataset({\n",
      "    features: ['question', 'answer', 'text', 'input_ids'],\n",
      "    num_rows: 5\n",
      "})\n",
      "<|begin_of_text|>Please answer the question.\n",
      "\n",
      "### question\n",
      "クライアント、サーバ、データストア、その間のネットワークに関連した問題が発生します。\n",
      "\n",
      "### answer\n",
      "SI界隈でよく発生するインフラストラクチャに関する性能問題にはどのようなものがありますか？<|endoftext|><|eot_id|>\n"
     ]
    }
   ],
   "source": [
    "print(trainer.train_dataset)\n",
    "# SFTTrainerの出力が途中で止まることがあるので4件目を確認\n",
    "print(tokenizer.decode(trainer.train_dataset[3]['input_ids']))"
   ]
  },
  {
   "cell_type": "markdown",
   "id": "d184dd04-f91b-4672-bf86-10f39ae6fde0",
   "metadata": {},
   "source": [
    "### SFTTrainer.trainで実行"
   ]
  },
  {
   "cell_type": "markdown",
   "id": "66b5d36a-ff7d-4c15-9e3f-5b0337257f1a",
   "metadata": {},
   "source": [
    "#### OutOfMemoryError: CUDA out of memory. 対策\n",
    "要るか要らないか解らないので、取り敢えずMarkdownで。"
   ]
  },
  {
   "cell_type": "markdown",
   "id": "011c777b-96bd-4244-ae04-d1f73108f61d",
   "metadata": {},
   "source": [
    "```python\n",
    "#`use_cache=True`は勾配チェックポイントと互換性が無いので併用できない。\n",
    "import os\n",
    "os.environ['PYTORCH_CUDA_ALLOC_CONF'] = 'expandable_segments:True'\n",
    "torch.cuda.empty_cache()\n",
    "torch.cuda.ipc_collect()\n",
    "```"
   ]
  },
  {
   "cell_type": "markdown",
   "id": "5ec8644a-6401-470f-9983-df6aa6a917e6",
   "metadata": {},
   "source": [
    "#### 実際にSFTを実行"
   ]
  },
  {
   "cell_type": "code",
   "execution_count": null,
   "id": "73acb5d9-27d1-4cda-ac35-1a66528af723",
   "metadata": {
    "scrolled": true
   },
   "outputs": [],
   "source": [
    "trainer.train()"
   ]
  },
  {
   "cell_type": "markdown",
   "id": "691f36ce-a95e-4381-9500-223484b99c0c",
   "metadata": {},
   "source": [
    "#### SFTされたモデルとトークナイザのセーブ"
   ]
  },
  {
   "cell_type": "code",
   "execution_count": null,
   "id": "e930c9b1-ea4c-488f-bc55-ef0316f21352",
   "metadata": {},
   "outputs": [],
   "source": [
    "tokenizer.from_pretrained(FTED_MODEL_PATH)\n",
    "trainer.from_pretrained(FTED_MODEL_PATH)"
   ]
  },
  {
   "cell_type": "markdown",
   "id": "a82fa6ee-a979-4676-a736-aae1b36e2da2",
   "metadata": {},
   "source": [
    "## SFTされたモデルで推論を実行"
   ]
  },
  {
   "cell_type": "markdown",
   "id": "9af4de53-c389-4ee3-9435-10c1406be5c9",
   "metadata": {},
   "source": [
    "### SFTされたモデルとトークナイザのロード"
   ]
  },
  {
   "cell_type": "code",
   "execution_count": null,
   "id": "6374a01b-b359-479f-8c06-d15f24c6be6a",
   "metadata": {},
   "outputs": [],
   "source": [
    "tokenizer.save_pretrained(FTED_MODEL_PATH) # ,device_map=\"auto\", torch_dtype=torch.float16)\n",
    "trainer.save_model(FTED_MODEL_PATH)"
   ]
  },
  {
   "cell_type": "markdown",
   "id": "2c43f05c-1d36-4fb7-88c3-ab3d22adac22",
   "metadata": {},
   "source": [
    "### プロンプトをトークン化\n",
    "`pt`は、PyTorch テンソル（torch.Tensor）の意味"
   ]
  },
  {
   "cell_type": "code",
   "execution_count": null,
   "id": "fa1ffca8-6e96-432b-8288-1b2c0507e386",
   "metadata": {},
   "outputs": [],
   "source": [
    "inputs = tokenizer('...プロンプト...', return_tensors='pt').to(model.device)\n",
    "print(inputs) # テンソルのディクショナリになっている。"
   ]
  },
  {
   "cell_type": "markdown",
   "id": "28ebc2e1-5fcc-4436-b07c-4f408bc58f36",
   "metadata": {},
   "source": [
    "### 推論を実行\n",
    "- 推論時なので勾配計算しない`no_grad`プロックに入れて実行\n",
    "- `**inputs`として渡すと「ディクショナリのキー・値」が「キーワード引数・引数」に展開される。"
   ]
  },
  {
   "cell_type": "code",
   "execution_count": null,
   "id": "9f1a8017-2d25-4ece-a25f-38990dad9c11",
   "metadata": {},
   "outputs": [],
   "source": [
    "with torch.no_grad():\n",
    "    tokens = model.generate(\n",
    "        **inputs,\n",
    "        max_new_tokens=64,\n",
    "        do_sample=True,\n",
    "        temperature=0.7,\n",
    "        top_p=0.9,\n",
    "        repetition_penalty=1.05,\n",
    "        pad_token_id=tokenizer.pad_token_id,\n",
    "    )"
   ]
  },
  {
   "cell_type": "markdown",
   "id": "4749c90b-0844-4226-a390-781cf974e71b",
   "metadata": {},
   "source": [
    "### 推論結果を表示\n",
    "推論結果をデトークン化して表示。"
   ]
  },
  {
   "cell_type": "code",
   "execution_count": null,
   "id": "914bda34-91a2-4d3a-bdcf-3a24fe3f04ef",
   "metadata": {},
   "outputs": [],
   "source": [
    "output = tokenizer.decode(tokens[0], skip_special_tokens=True)\n",
    "print(output)"
   ]
  }
 ],
 "metadata": {
  "kernelspec": {
   "display_name": "Python 3 (ipykernel)",
   "language": "python",
   "name": "python3"
  },
  "language_info": {
   "codemirror_mode": {
    "name": "ipython",
    "version": 3
   },
   "file_extension": ".py",
   "mimetype": "text/x-python",
   "name": "python",
   "nbconvert_exporter": "python",
   "pygments_lexer": "ipython3",
   "version": "3.12.3"
  }
 },
 "nbformat": 4,
 "nbformat_minor": 5
}
