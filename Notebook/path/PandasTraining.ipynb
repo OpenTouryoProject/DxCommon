{
 "cells": [
  {
   "cell_type": "markdown",
   "id": "cf8af0d7-c198-4acd-921a-f3683f675ced",
   "metadata": {},
   "source": [
    "# Pandasのトレーニング♨\n",
    "\n",
    "## [目次](TableOfContents.ipynb)\n",
    "- [環境準備](#環境準備)\n",
    "  - [インストール](#インストール)\n",
    "  - [インポート](#インポート)\n",
    "  - [warningを非表示](#warningを非表示)\n",
    "  - [プロキシ設定](#プロキシ設定)\n",
    "- [Series](#Series)\n",
    "  - [生成](#生成)\n",
    "  - [アクセス](#アクセス)\n",
    "- [DataFrame](#DataFrame)\n",
    "  - [生成](#生成_)\n",
    "  - [アクセス](#アクセス_)\n",
    "  - [編集](#編集)\n",
    "  - [型変換](#型変換)\n",
    "  - [集計操作](#集計操作)\n",
    "- [CRISP-DM](#CRISP-DM)\n",
    "  - [データの理解](#データの理解)\n",
    "  - [データの準備](#データの準備)\n",
    "  \n",
    "## 参考\n",
    "開発基盤部会 Wiki\n",
    "- Pandas  \n",
    "https://dotnetdevelopmentinfrastructure.osscons.jp/index.php?Pandas"
   ]
  },
  {
   "cell_type": "markdown",
   "id": "c3cbfe23-a666-4ac1-8790-fd097d812745",
   "metadata": {
    "tags": []
   },
   "source": [
    "## 環境準備"
   ]
  },
  {
   "cell_type": "markdown",
   "id": "e606c1f4-840e-4e85-a6a1-7bbe7a7678df",
   "metadata": {
    "tags": []
   },
   "source": [
    "### インストール"
   ]
  },
  {
   "cell_type": "code",
   "execution_count": null,
   "id": "83d07511-4024-4aed-b23b-3f4cf6548efd",
   "metadata": {},
   "outputs": [],
   "source": [
    "!pip install numpy\n",
    "!pip install pandas\n",
    "!pip install openpyxl"
   ]
  },
  {
   "cell_type": "markdown",
   "id": "3a4c204c-a98d-4e6e-9501-b2af8a808d13",
   "metadata": {
    "tags": []
   },
   "source": [
    "### インポート"
   ]
  },
  {
   "cell_type": "code",
   "execution_count": 2,
   "id": "56cb54d8-15d2-44e6-b114-dd3f6aaf5579",
   "metadata": {},
   "outputs": [],
   "source": [
    "import io\n",
    "import requests\n",
    "\n",
    "import numpy as np\n",
    "import pandas as pd"
   ]
  },
  {
   "cell_type": "markdown",
   "id": "f2535dbd-9bbb-4566-9390-ef038f1a4dbf",
   "metadata": {},
   "source": [
    "### warningを非表示"
   ]
  },
  {
   "cell_type": "code",
   "execution_count": 3,
   "id": "eb1bae98-ea9e-457a-9280-72bf616df14c",
   "metadata": {},
   "outputs": [],
   "source": [
    "import warnings\n",
    "warnings.filterwarnings('ignore')"
   ]
  },
  {
   "cell_type": "markdown",
   "id": "5ea83305-543e-419d-be04-ab1179955b35",
   "metadata": {},
   "source": [
    "### プロキシ設定"
   ]
  },
  {
   "cell_type": "code",
   "execution_count": 4,
   "id": "140255a2-d712-4a5c-9f8a-e5ec36ec6ff6",
   "metadata": {},
   "outputs": [],
   "source": [
    "import os\n",
    "proxies = {\n",
    "    \"http\": os.getenv(\"HTTP_PROXY\"),\n",
    "    \"https\": os.getenv(\"HTTPS_PROXY\")\n",
    "}"
   ]
  },
  {
   "cell_type": "markdown",
   "id": "036f8374-16ca-437d-9a91-4a29c983b337",
   "metadata": {
    "tags": []
   },
   "source": [
    "## Series"
   ]
  },
  {
   "cell_type": "markdown",
   "id": "a3ffb1c5-b2b7-40b0-a277-7f96c5c25395",
   "metadata": {
    "tags": []
   },
   "source": [
    "### 生成"
   ]
  },
  {
   "cell_type": "markdown",
   "id": "a3d6c1ec-efe2-484d-9c1a-de54cb109b9c",
   "metadata": {},
   "source": [
    "#### 配列から"
   ]
  },
  {
   "cell_type": "code",
   "execution_count": 5,
   "id": "1aeef7ec-0164-4043-8081-f32409379743",
   "metadata": {},
   "outputs": [
    {
     "data": {
      "text/plain": [
       "0     3\n",
       "1     7\n",
       "2    10\n",
       "3    13\n",
       "dtype: int64"
      ]
     },
     "execution_count": 5,
     "metadata": {},
     "output_type": "execute_result"
    }
   ],
   "source": [
    "pd.Series([3,7,10,13])"
   ]
  },
  {
   "cell_type": "markdown",
   "id": "e1991d28-8459-4e14-bb32-d2bff6e41f3f",
   "metadata": {},
   "source": [
    "#### NumPyから\n",
    "NumPyの配列から"
   ]
  },
  {
   "cell_type": "code",
   "execution_count": 6,
   "id": "07e52390-81ce-4c00-ba64-186ab87d0ea4",
   "metadata": {},
   "outputs": [
    {
     "data": {
      "text/plain": [
       "array([ 3,  7, 10, 13])"
      ]
     },
     "execution_count": 6,
     "metadata": {},
     "output_type": "execute_result"
    }
   ],
   "source": [
    "numpy_array = np.array([3,7,10,13])\n",
    "numpy_array"
   ]
  },
  {
   "cell_type": "code",
   "execution_count": 7,
   "id": "b1618508-2d1f-4acb-97ce-9a4cc0d7a6e0",
   "metadata": {},
   "outputs": [
    {
     "data": {
      "text/plain": [
       "0     3\n",
       "1     7\n",
       "2    10\n",
       "3    13\n",
       "dtype: int64"
      ]
     },
     "execution_count": 7,
     "metadata": {},
     "output_type": "execute_result"
    }
   ],
   "source": [
    "pd.Series(numpy_array)"
   ]
  },
  {
   "cell_type": "markdown",
   "id": "199e591d-57df-4595-8e81-e59c7314f036",
   "metadata": {},
   "source": [
    "#### コピー"
   ]
  },
  {
   "cell_type": "markdown",
   "id": "6bbd55fb-ffaa-4c7c-b3ef-e174a83d99e8",
   "metadata": {},
   "source": [
    "##### 以下は参照渡し"
   ]
  },
  {
   "cell_type": "code",
   "execution_count": 8,
   "id": "46d974f7-0a4f-483f-9f75-764d8805b6c5",
   "metadata": {},
   "outputs": [
    {
     "name": "stdout",
     "output_type": "stream",
     "text": [
      "0      3\n",
      "1    100\n",
      "2     10\n",
      "3     13\n",
      "dtype: int64\n",
      "0      3\n",
      "1    100\n",
      "2     10\n",
      "3     13\n",
      "dtype: int64\n"
     ]
    }
   ],
   "source": [
    "ss=pd.Series([3,7,10,13])\n",
    "ss2=ss\n",
    "ss2[1]=100\n",
    "print(ss)\n",
    "print(ss2)"
   ]
  },
  {
   "cell_type": "markdown",
   "id": "0f5a8871-12d1-4145-bc4c-5ade70ae7595",
   "metadata": {},
   "source": [
    "##### コピーする場合は以下"
   ]
  },
  {
   "cell_type": "code",
   "execution_count": 9,
   "id": "c1a9ce55-c3f7-497b-8038-06ae594037de",
   "metadata": {},
   "outputs": [
    {
     "name": "stdout",
     "output_type": "stream",
     "text": [
      "0     3\n",
      "1     7\n",
      "2    10\n",
      "3    13\n",
      "dtype: int64\n",
      "0      3\n",
      "1    100\n",
      "2     10\n",
      "3     13\n",
      "dtype: int64\n"
     ]
    }
   ],
   "source": [
    "ss=pd.Series([3,7,10,13])\n",
    "ss2=ss.copy()\n",
    "ss2[1]=100\n",
    "print(ss)\n",
    "print(ss2)"
   ]
  },
  {
   "cell_type": "markdown",
   "id": "f632c20d-d154-4ffd-8dc8-cfdf3d42e3d2",
   "metadata": {
    "tags": []
   },
   "source": [
    "### アクセス"
   ]
  },
  {
   "cell_type": "code",
   "execution_count": 10,
   "id": "51a3bfaa-2c13-464d-b026-b3b15042c24a",
   "metadata": {},
   "outputs": [
    {
     "data": {
      "text/plain": [
       "0     3\n",
       "1     7\n",
       "2    10\n",
       "3    13\n",
       "dtype: int64"
      ]
     },
     "execution_count": 10,
     "metadata": {},
     "output_type": "execute_result"
    }
   ],
   "source": [
    "x=pd.Series([3,7,10,13])\n",
    "x"
   ]
  },
  {
   "cell_type": "markdown",
   "id": "fc411b46-5598-4de1-9929-d5a6bdfe457f",
   "metadata": {},
   "source": [
    "#### インデックス"
   ]
  },
  {
   "cell_type": "code",
   "execution_count": 11,
   "id": "384bb041-5e41-407a-9e91-6fff63644b10",
   "metadata": {},
   "outputs": [
    {
     "data": {
      "text/plain": [
       "np.int64(7)"
      ]
     },
     "execution_count": 11,
     "metadata": {},
     "output_type": "execute_result"
    }
   ],
   "source": [
    "x[1]"
   ]
  },
  {
   "cell_type": "markdown",
   "id": "c4795b32-67c3-44a9-8cd3-0dc7b74322db",
   "metadata": {},
   "source": [
    "#### 抽出"
   ]
  },
  {
   "cell_type": "markdown",
   "id": "db407b60-d517-4ff3-9966-074085a8bfcc",
   "metadata": {},
   "source": [
    "##### スライシング"
   ]
  },
  {
   "cell_type": "code",
   "execution_count": 12,
   "id": "95ceb2ce-d14e-4c09-b3f1-3e9e0a53b1a0",
   "metadata": {},
   "outputs": [
    {
     "data": {
      "text/plain": [
       "1     7\n",
       "2    10\n",
       "dtype: int64"
      ]
     },
     "execution_count": 12,
     "metadata": {},
     "output_type": "execute_result"
    }
   ],
   "source": [
    "x[1:3]"
   ]
  },
  {
   "cell_type": "markdown",
   "id": "0db9ea21-03f8-4fd2-913e-89175684f139",
   "metadata": {},
   "source": [
    "##### 配列でインデックスを指定\n",
    "以下ではnp.arrayを使っているが、普通の配列でも指定可能。"
   ]
  },
  {
   "cell_type": "code",
   "execution_count": 13,
   "id": "587699ea-763f-48ec-810a-018816dd17fd",
   "metadata": {},
   "outputs": [
    {
     "data": {
      "text/plain": [
       "1     7\n",
       "2    10\n",
       "dtype: int64"
      ]
     },
     "execution_count": 13,
     "metadata": {},
     "output_type": "execute_result"
    }
   ],
   "source": [
    "x[np.array([1,2])]"
   ]
  },
  {
   "cell_type": "markdown",
   "id": "38655692-a563-4b0f-aeab-eda2e5dd48f3",
   "metadata": {},
   "source": [
    "##### 比較演算"
   ]
  },
  {
   "cell_type": "markdown",
   "id": "55b6b89c-0406-4133-a19f-0d0dd67261d6",
   "metadata": {},
   "source": [
    "###### 5より大きい値を調査。"
   ]
  },
  {
   "cell_type": "code",
   "execution_count": 14,
   "id": "b2a858ec-cadb-4df9-8387-2ba9088f0858",
   "metadata": {},
   "outputs": [
    {
     "data": {
      "text/plain": [
       "0    False\n",
       "1     True\n",
       "2     True\n",
       "3     True\n",
       "dtype: bool"
      ]
     },
     "execution_count": 14,
     "metadata": {},
     "output_type": "execute_result"
    }
   ],
   "source": [
    "# npと似たような動作で、boolのseriesで返る\n",
    "x>=5"
   ]
  },
  {
   "cell_type": "markdown",
   "id": "9af1b44d-5f95-4655-8478-73af9aae79e5",
   "metadata": {},
   "source": [
    "###### 5より大きい値を抽出。"
   ]
  },
  {
   "cell_type": "code",
   "execution_count": 15,
   "id": "2a7067dd-ed91-4f0c-a8af-5eb6982f4f87",
   "metadata": {},
   "outputs": [
    {
     "data": {
      "text/plain": [
       "1     7\n",
       "2    10\n",
       "3    13\n",
       "dtype: int64"
      ]
     },
     "execution_count": 15,
     "metadata": {},
     "output_type": "execute_result"
    }
   ],
   "source": [
    "# 上記のseriesでインデックスを指定する。\n",
    "x[x>=5]"
   ]
  },
  {
   "cell_type": "markdown",
   "id": "c84f85f4-5c86-475e-9e07-a2e4c3af6ff2",
   "metadata": {},
   "source": [
    "#### 配列\n",
    "NumPy配列の取り出し"
   ]
  },
  {
   "cell_type": "code",
   "execution_count": 16,
   "id": "d8fde194-169c-4da1-94bd-510248e149b4",
   "metadata": {},
   "outputs": [
    {
     "data": {
      "text/plain": [
       "array([ 3,  7, 10, 13])"
      ]
     },
     "execution_count": 16,
     "metadata": {},
     "output_type": "execute_result"
    }
   ],
   "source": [
    "x.values"
   ]
  },
  {
   "cell_type": "markdown",
   "id": "821b6c87-af95-43c4-9978-8b168902c238",
   "metadata": {
    "tags": []
   },
   "source": [
    "## DataFrame"
   ]
  },
  {
   "cell_type": "markdown",
   "id": "2b483d8f-80fd-4162-ab30-f8409b265b44",
   "metadata": {
    "tags": []
   },
   "source": [
    "### 生成_"
   ]
  },
  {
   "cell_type": "markdown",
   "id": "aa3a2d07-6abf-4683-b07e-bb6671eb3007",
   "metadata": {
    "tags": []
   },
   "source": [
    "#### 辞書型から\n",
    "列名と列配列から"
   ]
  },
  {
   "cell_type": "code",
   "execution_count": 17,
   "id": "b09d4d8c-5a9a-4209-b5a7-247aa64e8411",
   "metadata": {},
   "outputs": [
    {
     "data": {
      "text/html": [
       "<div>\n",
       "<style scoped>\n",
       "    .dataframe tbody tr th:only-of-type {\n",
       "        vertical-align: middle;\n",
       "    }\n",
       "\n",
       "    .dataframe tbody tr th {\n",
       "        vertical-align: top;\n",
       "    }\n",
       "\n",
       "    .dataframe thead th {\n",
       "        text-align: right;\n",
       "    }\n",
       "</style>\n",
       "<table border=\"1\" class=\"dataframe\">\n",
       "  <thead>\n",
       "    <tr style=\"text-align: right;\">\n",
       "      <th></th>\n",
       "      <th>xxx</th>\n",
       "      <th>yyy</th>\n",
       "      <th>zzz</th>\n",
       "    </tr>\n",
       "  </thead>\n",
       "  <tbody>\n",
       "    <tr>\n",
       "      <th>0</th>\n",
       "      <td>aaa</td>\n",
       "      <td>20</td>\n",
       "      <td>AAA</td>\n",
       "    </tr>\n",
       "    <tr>\n",
       "      <th>1</th>\n",
       "      <td>bbb</td>\n",
       "      <td>34</td>\n",
       "      <td>BBB</td>\n",
       "    </tr>\n",
       "    <tr>\n",
       "      <th>2</th>\n",
       "      <td>ccc</td>\n",
       "      <td>50</td>\n",
       "      <td>CCC</td>\n",
       "    </tr>\n",
       "    <tr>\n",
       "      <th>3</th>\n",
       "      <td>ddd</td>\n",
       "      <td>12</td>\n",
       "      <td>DDD</td>\n",
       "    </tr>\n",
       "    <tr>\n",
       "      <th>4</th>\n",
       "      <td>eee</td>\n",
       "      <td>62</td>\n",
       "      <td>EEE</td>\n",
       "    </tr>\n",
       "    <tr>\n",
       "      <th>5</th>\n",
       "      <td>fff</td>\n",
       "      <td>22</td>\n",
       "      <td>FFF</td>\n",
       "    </tr>\n",
       "  </tbody>\n",
       "</table>\n",
       "</div>"
      ],
      "text/plain": [
       "   xxx  yyy  zzz\n",
       "0  aaa   20  AAA\n",
       "1  bbb   34  BBB\n",
       "2  ccc   50  CCC\n",
       "3  ddd   12  DDD\n",
       "4  eee   62  EEE\n",
       "5  fff   22  FFF"
      ]
     },
     "execution_count": 17,
     "metadata": {},
     "output_type": "execute_result"
    }
   ],
   "source": [
    "df=pd.DataFrame({\n",
    "    'xxx': ['aaa', 'bbb', 'ccc', 'ddd', 'eee', 'fff'], # 長さ: 6\n",
    "    'yyy': [20, 34, 50, 12, 62, 22],                   # 長さ: 6\n",
    "    'zzz': ['AAA', 'BBB', 'CCC', 'DDD', 'EEE', 'FFF']  # 長さ: 6\n",
    "})\n",
    "df"
   ]
  },
  {
   "cell_type": "markdown",
   "id": "cfa2e8a7-1e25-4f4b-beac-8a4859486bbb",
   "metadata": {
    "tags": []
   },
   "source": [
    "#### NumPyから_\n",
    "NumPyの行列（２次配列）から"
   ]
  },
  {
   "cell_type": "code",
   "execution_count": 18,
   "id": "3e8a72d1-fe29-4bfa-b62c-2f32a4496cd4",
   "metadata": {},
   "outputs": [
    {
     "data": {
      "text/html": [
       "<div>\n",
       "<style scoped>\n",
       "    .dataframe tbody tr th:only-of-type {\n",
       "        vertical-align: middle;\n",
       "    }\n",
       "\n",
       "    .dataframe tbody tr th {\n",
       "        vertical-align: top;\n",
       "    }\n",
       "\n",
       "    .dataframe thead th {\n",
       "        text-align: right;\n",
       "    }\n",
       "</style>\n",
       "<table border=\"1\" class=\"dataframe\">\n",
       "  <thead>\n",
       "    <tr style=\"text-align: right;\">\n",
       "      <th></th>\n",
       "      <th>xxx</th>\n",
       "      <th>yyy</th>\n",
       "      <th>zzz</th>\n",
       "    </tr>\n",
       "  </thead>\n",
       "  <tbody>\n",
       "    <tr>\n",
       "      <th>0</th>\n",
       "      <td>aaa</td>\n",
       "      <td>20</td>\n",
       "      <td>AAA</td>\n",
       "    </tr>\n",
       "    <tr>\n",
       "      <th>1</th>\n",
       "      <td>bbb</td>\n",
       "      <td>34</td>\n",
       "      <td>BBB</td>\n",
       "    </tr>\n",
       "    <tr>\n",
       "      <th>2</th>\n",
       "      <td>ccc</td>\n",
       "      <td>50</td>\n",
       "      <td>CCC</td>\n",
       "    </tr>\n",
       "    <tr>\n",
       "      <th>3</th>\n",
       "      <td>ddd</td>\n",
       "      <td>12</td>\n",
       "      <td>DDD</td>\n",
       "    </tr>\n",
       "    <tr>\n",
       "      <th>4</th>\n",
       "      <td>eee</td>\n",
       "      <td>62</td>\n",
       "      <td>EEE</td>\n",
       "    </tr>\n",
       "    <tr>\n",
       "      <th>5</th>\n",
       "      <td>fff</td>\n",
       "      <td>22</td>\n",
       "      <td>FFF</td>\n",
       "    </tr>\n",
       "  </tbody>\n",
       "</table>\n",
       "</div>"
      ],
      "text/plain": [
       "   xxx yyy  zzz\n",
       "0  aaa  20  AAA\n",
       "1  bbb  34  BBB\n",
       "2  ccc  50  CCC\n",
       "3  ddd  12  DDD\n",
       "4  eee  62  EEE\n",
       "5  fff  22  FFF"
      ]
     },
     "execution_count": 18,
     "metadata": {},
     "output_type": "execute_result"
    }
   ],
   "source": [
    "np_arr=np.array([\n",
    "    ['aaa', 'bbb', 'ccc', 'ddd', 'eee', 'fff'],  # 長さ: 6\n",
    "    [20, 34, 50, 12, 62, 22],                    # 長さ: 6\n",
    "    ['AAA', 'BBB', 'CCC', 'DDD', 'EEE', 'FFF']]) # 長さ: 6\n",
    "df=pd.DataFrame(np_arr.T,columns=['xxx', 'yyy', 'zzz']) # 転置させるポイント\n",
    "df"
   ]
  },
  {
   "cell_type": "code",
   "execution_count": 19,
   "id": "6f2001e3-6571-481d-b61d-9d3265723ee7",
   "metadata": {},
   "outputs": [],
   "source": [
    "# ファイル保存\n",
    "df.to_csv('temp.csv')"
   ]
  },
  {
   "cell_type": "markdown",
   "id": "c237072c-ef26-4422-9780-a50da3a60b3b",
   "metadata": {
    "tags": []
   },
   "source": [
    "#### CSVから"
   ]
  },
  {
   "cell_type": "markdown",
   "id": "24c39857-5a93-4ed2-a108-67cd68453ddf",
   "metadata": {},
   "source": [
    "##### 事前にCSVファイルを配置しておく。"
   ]
  },
  {
   "cell_type": "code",
   "execution_count": 20,
   "id": "6c9bd531-026a-480f-a8f8-cf48d1629c52",
   "metadata": {},
   "outputs": [],
   "source": [
    "# df = pd.read_csv('temp.csv')\n",
    "# df"
   ]
  },
  {
   "cell_type": "markdown",
   "id": "b75f572b-db02-423b-ae25-20326f1622d9",
   "metadata": {},
   "source": [
    "##### CSVファイルをダウンロードして...\n",
    "必要に応じて[環境変数にプロキシ設定](#プロキシ設定)をしておくと良い。"
   ]
  },
  {
   "cell_type": "code",
   "execution_count": 21,
   "id": "1af84089-aebd-4b7f-9978-dfc65760d31b",
   "metadata": {},
   "outputs": [],
   "source": [
    "url = 'https://dotnetdevelopmentinfrastructure.osscons.jp/index.php?plugin=attach&pcmd=open&file=temp.csv&refer=Pandas'\n",
    "res = requests.get(url) # , verify=False, proxies=proxies) # プロキシ"
   ]
  },
  {
   "cell_type": "markdown",
   "id": "abda65c6-f479-4c1b-9a1f-2d7921906b74",
   "metadata": {},
   "source": [
    "###### 直接、読み込む。"
   ]
  },
  {
   "cell_type": "code",
   "execution_count": 22,
   "id": "4b60dd66-97c8-4f50-9856-29b677c8fc9e",
   "metadata": {},
   "outputs": [
    {
     "data": {
      "text/html": [
       "<div>\n",
       "<style scoped>\n",
       "    .dataframe tbody tr th:only-of-type {\n",
       "        vertical-align: middle;\n",
       "    }\n",
       "\n",
       "    .dataframe tbody tr th {\n",
       "        vertical-align: top;\n",
       "    }\n",
       "\n",
       "    .dataframe thead th {\n",
       "        text-align: right;\n",
       "    }\n",
       "</style>\n",
       "<table border=\"1\" class=\"dataframe\">\n",
       "  <thead>\n",
       "    <tr style=\"text-align: right;\">\n",
       "      <th></th>\n",
       "      <th>Unnamed: 0</th>\n",
       "      <th>xxx</th>\n",
       "      <th>yyy</th>\n",
       "      <th>zzz</th>\n",
       "    </tr>\n",
       "  </thead>\n",
       "  <tbody>\n",
       "    <tr>\n",
       "      <th>0</th>\n",
       "      <td>0</td>\n",
       "      <td>aaa</td>\n",
       "      <td>20</td>\n",
       "      <td>AAA</td>\n",
       "    </tr>\n",
       "    <tr>\n",
       "      <th>1</th>\n",
       "      <td>1</td>\n",
       "      <td>bbb</td>\n",
       "      <td>34</td>\n",
       "      <td>BBB</td>\n",
       "    </tr>\n",
       "    <tr>\n",
       "      <th>2</th>\n",
       "      <td>2</td>\n",
       "      <td>ccc</td>\n",
       "      <td>50</td>\n",
       "      <td>CCC</td>\n",
       "    </tr>\n",
       "    <tr>\n",
       "      <th>3</th>\n",
       "      <td>3</td>\n",
       "      <td>ddd</td>\n",
       "      <td>12</td>\n",
       "      <td>DDD</td>\n",
       "    </tr>\n",
       "    <tr>\n",
       "      <th>4</th>\n",
       "      <td>4</td>\n",
       "      <td>eee</td>\n",
       "      <td>62</td>\n",
       "      <td>EEE</td>\n",
       "    </tr>\n",
       "    <tr>\n",
       "      <th>5</th>\n",
       "      <td>5</td>\n",
       "      <td>fff</td>\n",
       "      <td>22</td>\n",
       "      <td>FFF</td>\n",
       "    </tr>\n",
       "  </tbody>\n",
       "</table>\n",
       "</div>"
      ],
      "text/plain": [
       "   Unnamed: 0  xxx  yyy  zzz\n",
       "0           0  aaa   20  AAA\n",
       "1           1  bbb   34  BBB\n",
       "2           2  ccc   50  CCC\n",
       "3           3  ddd   12  DDD\n",
       "4           4  eee   62  EEE\n",
       "5           5  fff   22  FFF"
      ]
     },
     "execution_count": 22,
     "metadata": {},
     "output_type": "execute_result"
    }
   ],
   "source": [
    "df = pd.read_csv(io.BytesIO(res.content), encoding='shift-jis', sep=\",\")\n",
    "df"
   ]
  },
  {
   "cell_type": "markdown",
   "id": "cdd54092-63d5-4f7e-bf71-de292836e882",
   "metadata": {},
   "source": [
    "###### 一旦保存して、読み込む。"
   ]
  },
  {
   "cell_type": "code",
   "execution_count": 23,
   "id": "ce477bf6-20fd-49ba-b171-8bba0a217035",
   "metadata": {},
   "outputs": [
    {
     "data": {
      "text/html": [
       "<div>\n",
       "<style scoped>\n",
       "    .dataframe tbody tr th:only-of-type {\n",
       "        vertical-align: middle;\n",
       "    }\n",
       "\n",
       "    .dataframe tbody tr th {\n",
       "        vertical-align: top;\n",
       "    }\n",
       "\n",
       "    .dataframe thead th {\n",
       "        text-align: right;\n",
       "    }\n",
       "</style>\n",
       "<table border=\"1\" class=\"dataframe\">\n",
       "  <thead>\n",
       "    <tr style=\"text-align: right;\">\n",
       "      <th></th>\n",
       "      <th>Unnamed: 0</th>\n",
       "      <th>xxx</th>\n",
       "      <th>yyy</th>\n",
       "      <th>zzz</th>\n",
       "    </tr>\n",
       "  </thead>\n",
       "  <tbody>\n",
       "    <tr>\n",
       "      <th>0</th>\n",
       "      <td>0</td>\n",
       "      <td>aaa</td>\n",
       "      <td>20</td>\n",
       "      <td>AAA</td>\n",
       "    </tr>\n",
       "    <tr>\n",
       "      <th>1</th>\n",
       "      <td>1</td>\n",
       "      <td>bbb</td>\n",
       "      <td>34</td>\n",
       "      <td>BBB</td>\n",
       "    </tr>\n",
       "    <tr>\n",
       "      <th>2</th>\n",
       "      <td>2</td>\n",
       "      <td>ccc</td>\n",
       "      <td>50</td>\n",
       "      <td>CCC</td>\n",
       "    </tr>\n",
       "    <tr>\n",
       "      <th>3</th>\n",
       "      <td>3</td>\n",
       "      <td>ddd</td>\n",
       "      <td>12</td>\n",
       "      <td>DDD</td>\n",
       "    </tr>\n",
       "    <tr>\n",
       "      <th>4</th>\n",
       "      <td>4</td>\n",
       "      <td>eee</td>\n",
       "      <td>62</td>\n",
       "      <td>EEE</td>\n",
       "    </tr>\n",
       "    <tr>\n",
       "      <th>5</th>\n",
       "      <td>5</td>\n",
       "      <td>fff</td>\n",
       "      <td>22</td>\n",
       "      <td>FFF</td>\n",
       "    </tr>\n",
       "  </tbody>\n",
       "</table>\n",
       "</div>"
      ],
      "text/plain": [
       "   Unnamed: 0  xxx  yyy  zzz\n",
       "0           0  aaa   20  AAA\n",
       "1           1  bbb   34  BBB\n",
       "2           2  ccc   50  CCC\n",
       "3           3  ddd   12  DDD\n",
       "4           4  eee   62  EEE\n",
       "5           5  fff   22  FFF"
      ]
     },
     "execution_count": 23,
     "metadata": {},
     "output_type": "execute_result"
    }
   ],
   "source": [
    "with open('temp.csv', 'wb') as saveFile : saveFile.write(res.content)\n",
    "df = pd.read_csv('temp.csv', encoding='shift-jis', sep=\",\")\n",
    "df"
   ]
  },
  {
   "cell_type": "markdown",
   "id": "0530b990-e84d-4519-9b3c-53f9abb46aa4",
   "metadata": {
    "tags": []
   },
   "source": [
    "#### Excelから\n",
    "事前にopenpyxlのインストールが必要。"
   ]
  },
  {
   "cell_type": "markdown",
   "id": "2c316224-82af-4497-9207-30c0aeb5ca59",
   "metadata": {},
   "source": [
    "##### 事前にExcelファイルを配置しておく。"
   ]
  },
  {
   "cell_type": "code",
   "execution_count": 24,
   "id": "b63e420c-1092-449a-87aa-14dd627ca955",
   "metadata": {},
   "outputs": [],
   "source": [
    "# df = pd.read_excel('temp.xlsx', engine='openpyxl')\n",
    "# df"
   ]
  },
  {
   "cell_type": "markdown",
   "id": "828ca091-16d8-4f74-9b9f-ca0223707df7",
   "metadata": {},
   "source": [
    "##### Excelファイルをダウンロードして...\n",
    "必要に応じて[環境変数にプロキシ設定](#プロキシ設定)をしておくと良い。"
   ]
  },
  {
   "cell_type": "code",
   "execution_count": 25,
   "id": "0e483d24-a373-4a0a-b1d7-1e782ff4cf8e",
   "metadata": {},
   "outputs": [],
   "source": [
    "url = 'https://dotnetdevelopmentinfrastructure.osscons.jp/index.php?plugin=attach&pcmd=open&file=temp.xlsx&refer=Pandas'\n",
    "res = requests.get(url) # , verify=False, proxies=proxies) # プロキシ"
   ]
  },
  {
   "cell_type": "markdown",
   "id": "bfbb8a9d-0461-4ed5-8b64-a447c45a9b4e",
   "metadata": {
    "tags": []
   },
   "source": [
    "###### 直接、読み込む。"
   ]
  },
  {
   "cell_type": "code",
   "execution_count": 26,
   "id": "1a074a57-42db-4c0f-8f4e-730a7d75cb8f",
   "metadata": {
    "tags": []
   },
   "outputs": [
    {
     "data": {
      "text/html": [
       "<div>\n",
       "<style scoped>\n",
       "    .dataframe tbody tr th:only-of-type {\n",
       "        vertical-align: middle;\n",
       "    }\n",
       "\n",
       "    .dataframe tbody tr th {\n",
       "        vertical-align: top;\n",
       "    }\n",
       "\n",
       "    .dataframe thead th {\n",
       "        text-align: right;\n",
       "    }\n",
       "</style>\n",
       "<table border=\"1\" class=\"dataframe\">\n",
       "  <thead>\n",
       "    <tr style=\"text-align: right;\">\n",
       "      <th></th>\n",
       "      <th>Unnamed: 0</th>\n",
       "      <th>xxx</th>\n",
       "      <th>yyy</th>\n",
       "      <th>zzz</th>\n",
       "    </tr>\n",
       "  </thead>\n",
       "  <tbody>\n",
       "    <tr>\n",
       "      <th>0</th>\n",
       "      <td>0</td>\n",
       "      <td>aaa</td>\n",
       "      <td>20</td>\n",
       "      <td>AAA</td>\n",
       "    </tr>\n",
       "    <tr>\n",
       "      <th>1</th>\n",
       "      <td>1</td>\n",
       "      <td>bbb</td>\n",
       "      <td>34</td>\n",
       "      <td>BBB</td>\n",
       "    </tr>\n",
       "    <tr>\n",
       "      <th>2</th>\n",
       "      <td>2</td>\n",
       "      <td>ccc</td>\n",
       "      <td>50</td>\n",
       "      <td>CCC</td>\n",
       "    </tr>\n",
       "    <tr>\n",
       "      <th>3</th>\n",
       "      <td>3</td>\n",
       "      <td>ddd</td>\n",
       "      <td>12</td>\n",
       "      <td>DDD</td>\n",
       "    </tr>\n",
       "    <tr>\n",
       "      <th>4</th>\n",
       "      <td>4</td>\n",
       "      <td>eee</td>\n",
       "      <td>62</td>\n",
       "      <td>EEE</td>\n",
       "    </tr>\n",
       "    <tr>\n",
       "      <th>5</th>\n",
       "      <td>5</td>\n",
       "      <td>fff</td>\n",
       "      <td>22</td>\n",
       "      <td>FFF</td>\n",
       "    </tr>\n",
       "  </tbody>\n",
       "</table>\n",
       "</div>"
      ],
      "text/plain": [
       "   Unnamed: 0  xxx  yyy  zzz\n",
       "0           0  aaa   20  AAA\n",
       "1           1  bbb   34  BBB\n",
       "2           2  ccc   50  CCC\n",
       "3           3  ddd   12  DDD\n",
       "4           4  eee   62  EEE\n",
       "5           5  fff   22  FFF"
      ]
     },
     "execution_count": 26,
     "metadata": {},
     "output_type": "execute_result"
    }
   ],
   "source": [
    "df = pd.read_excel(io.BytesIO(res.content), engine='openpyxl')\n",
    "df"
   ]
  },
  {
   "cell_type": "markdown",
   "id": "b46d488c-4b6a-42c6-8fec-adfea22687a5",
   "metadata": {},
   "source": [
    "###### 一旦保存して、読み込む。"
   ]
  },
  {
   "cell_type": "code",
   "execution_count": 27,
   "id": "5efaea0f-4a60-458b-aef0-3b58b7b08642",
   "metadata": {},
   "outputs": [
    {
     "data": {
      "text/html": [
       "<div>\n",
       "<style scoped>\n",
       "    .dataframe tbody tr th:only-of-type {\n",
       "        vertical-align: middle;\n",
       "    }\n",
       "\n",
       "    .dataframe tbody tr th {\n",
       "        vertical-align: top;\n",
       "    }\n",
       "\n",
       "    .dataframe thead th {\n",
       "        text-align: right;\n",
       "    }\n",
       "</style>\n",
       "<table border=\"1\" class=\"dataframe\">\n",
       "  <thead>\n",
       "    <tr style=\"text-align: right;\">\n",
       "      <th></th>\n",
       "      <th>Unnamed: 0</th>\n",
       "      <th>xxx</th>\n",
       "      <th>yyy</th>\n",
       "      <th>zzz</th>\n",
       "    </tr>\n",
       "  </thead>\n",
       "  <tbody>\n",
       "    <tr>\n",
       "      <th>0</th>\n",
       "      <td>0</td>\n",
       "      <td>aaa</td>\n",
       "      <td>20</td>\n",
       "      <td>AAA</td>\n",
       "    </tr>\n",
       "    <tr>\n",
       "      <th>1</th>\n",
       "      <td>1</td>\n",
       "      <td>bbb</td>\n",
       "      <td>34</td>\n",
       "      <td>BBB</td>\n",
       "    </tr>\n",
       "    <tr>\n",
       "      <th>2</th>\n",
       "      <td>2</td>\n",
       "      <td>ccc</td>\n",
       "      <td>50</td>\n",
       "      <td>CCC</td>\n",
       "    </tr>\n",
       "    <tr>\n",
       "      <th>3</th>\n",
       "      <td>3</td>\n",
       "      <td>ddd</td>\n",
       "      <td>12</td>\n",
       "      <td>DDD</td>\n",
       "    </tr>\n",
       "    <tr>\n",
       "      <th>4</th>\n",
       "      <td>4</td>\n",
       "      <td>eee</td>\n",
       "      <td>62</td>\n",
       "      <td>EEE</td>\n",
       "    </tr>\n",
       "    <tr>\n",
       "      <th>5</th>\n",
       "      <td>5</td>\n",
       "      <td>fff</td>\n",
       "      <td>22</td>\n",
       "      <td>FFF</td>\n",
       "    </tr>\n",
       "  </tbody>\n",
       "</table>\n",
       "</div>"
      ],
      "text/plain": [
       "   Unnamed: 0  xxx  yyy  zzz\n",
       "0           0  aaa   20  AAA\n",
       "1           1  bbb   34  BBB\n",
       "2           2  ccc   50  CCC\n",
       "3           3  ddd   12  DDD\n",
       "4           4  eee   62  EEE\n",
       "5           5  fff   22  FFF"
      ]
     },
     "execution_count": 27,
     "metadata": {},
     "output_type": "execute_result"
    }
   ],
   "source": [
    "with open('temp.xlsx', 'wb') as saveFile : saveFile.write(res.content)\n",
    "df = pd.read_excel('temp.xlsx', engine='openpyxl')\n",
    "df"
   ]
  },
  {
   "cell_type": "markdown",
   "id": "8b51b4cd-a141-4693-9ab2-55276d156f94",
   "metadata": {
    "tags": []
   },
   "source": [
    "#### コピー"
   ]
  },
  {
   "cell_type": "markdown",
   "id": "bf6dc64c-5b2a-4c3e-9458-4e407c5981b0",
   "metadata": {},
   "source": [
    "##### 以下は参照渡し"
   ]
  },
  {
   "cell_type": "code",
   "execution_count": 28,
   "id": "2fbfe323-d0fc-4807-9d79-0ca04a281b0e",
   "metadata": {},
   "outputs": [
    {
     "name": "stdout",
     "output_type": "stream",
     "text": [
      "   xxx  yyy  zzz\n",
      "0  aaa   20  AAA\n",
      "1  bbb  100  BBB\n",
      "2  ccc   50  CCC\n",
      "3  ddd   12  DDD\n",
      "4  eee   62  EEE\n",
      "5  fff   22  FFF\n",
      "   xxx  yyy  zzz\n",
      "0  aaa   20  AAA\n",
      "1  bbb  100  BBB\n",
      "2  ccc   50  CCC\n",
      "3  ddd   12  DDD\n",
      "4  eee   62  EEE\n",
      "5  fff   22  FFF\n"
     ]
    }
   ],
   "source": [
    "df=pd.DataFrame({\n",
    "    'xxx': ['aaa', 'bbb', 'ccc', 'ddd', 'eee', 'fff'], # 長さ: 6\n",
    "    'yyy': [20, 34, 50, 12, 62, 22],                   # 長さ: 6\n",
    "    'zzz': ['AAA', 'BBB', 'CCC', 'DDD', 'EEE', 'FFF']  # 長さ: 6\n",
    "})\n",
    "df2=df\n",
    "df2.iloc[1,1]=100\n",
    "print(df)\n",
    "print(df2)"
   ]
  },
  {
   "cell_type": "markdown",
   "id": "1140d425-154b-4648-8dc3-737c7413ff7f",
   "metadata": {},
   "source": [
    "##### コピーする場合は以下"
   ]
  },
  {
   "cell_type": "code",
   "execution_count": 29,
   "id": "8ea05d91-bc59-4713-b0d7-7e96d2ffc818",
   "metadata": {},
   "outputs": [
    {
     "name": "stdout",
     "output_type": "stream",
     "text": [
      "   xxx  yyy  zzz\n",
      "0  aaa   20  AAA\n",
      "1  bbb   34  BBB\n",
      "2  ccc   50  CCC\n",
      "3  ddd   12  DDD\n",
      "4  eee   62  EEE\n",
      "5  fff   22  FFF\n",
      "   xxx  yyy  zzz\n",
      "0  aaa   20  AAA\n",
      "1  bbb  100  BBB\n",
      "2  ccc   50  CCC\n",
      "3  ddd   12  DDD\n",
      "4  eee   62  EEE\n",
      "5  fff   22  FFF\n"
     ]
    }
   ],
   "source": [
    "df=pd.DataFrame({\n",
    "    'xxx': ['aaa', 'bbb', 'ccc', 'ddd', 'eee', 'fff'], # 長さ: 6\n",
    "    'yyy': [20, 34, 50, 12, 62, 22],                   # 長さ: 6\n",
    "    'zzz': ['AAA', 'BBB', 'CCC', 'DDD', 'EEE', 'FFF']  # 長さ: 6\n",
    "})\n",
    "df2=df.copy()\n",
    "df2.iloc[1,1]=100\n",
    "print(df)\n",
    "print(df2)"
   ]
  },
  {
   "cell_type": "markdown",
   "id": "4a4a7948-d950-4003-864a-c292d53d65a0",
   "metadata": {
    "tags": []
   },
   "source": [
    "### アクセス_"
   ]
  },
  {
   "cell_type": "markdown",
   "id": "ff4275bb-f2fe-4d23-aff3-e8e5175f6ea6",
   "metadata": {
    "tags": []
   },
   "source": [
    "#### 先頭・後尾"
   ]
  },
  {
   "cell_type": "markdown",
   "id": "ec338df4-e006-439b-afee-2ff9029d4eca",
   "metadata": {},
   "source": [
    "##### 先頭"
   ]
  },
  {
   "cell_type": "markdown",
   "id": "e041ce2b-e249-4b78-8239-07df8b646a1f",
   "metadata": {},
   "source": [
    "###### 先頭５行を出力（既定値"
   ]
  },
  {
   "cell_type": "code",
   "execution_count": 30,
   "id": "121b76ba-5fe7-481e-a4da-e57c22ecaba5",
   "metadata": {},
   "outputs": [
    {
     "data": {
      "text/html": [
       "<div>\n",
       "<style scoped>\n",
       "    .dataframe tbody tr th:only-of-type {\n",
       "        vertical-align: middle;\n",
       "    }\n",
       "\n",
       "    .dataframe tbody tr th {\n",
       "        vertical-align: top;\n",
       "    }\n",
       "\n",
       "    .dataframe thead th {\n",
       "        text-align: right;\n",
       "    }\n",
       "</style>\n",
       "<table border=\"1\" class=\"dataframe\">\n",
       "  <thead>\n",
       "    <tr style=\"text-align: right;\">\n",
       "      <th></th>\n",
       "      <th>xxx</th>\n",
       "      <th>yyy</th>\n",
       "      <th>zzz</th>\n",
       "    </tr>\n",
       "  </thead>\n",
       "  <tbody>\n",
       "    <tr>\n",
       "      <th>0</th>\n",
       "      <td>aaa</td>\n",
       "      <td>20</td>\n",
       "      <td>AAA</td>\n",
       "    </tr>\n",
       "    <tr>\n",
       "      <th>1</th>\n",
       "      <td>bbb</td>\n",
       "      <td>34</td>\n",
       "      <td>BBB</td>\n",
       "    </tr>\n",
       "    <tr>\n",
       "      <th>2</th>\n",
       "      <td>ccc</td>\n",
       "      <td>50</td>\n",
       "      <td>CCC</td>\n",
       "    </tr>\n",
       "    <tr>\n",
       "      <th>3</th>\n",
       "      <td>ddd</td>\n",
       "      <td>12</td>\n",
       "      <td>DDD</td>\n",
       "    </tr>\n",
       "    <tr>\n",
       "      <th>4</th>\n",
       "      <td>eee</td>\n",
       "      <td>62</td>\n",
       "      <td>EEE</td>\n",
       "    </tr>\n",
       "  </tbody>\n",
       "</table>\n",
       "</div>"
      ],
      "text/plain": [
       "   xxx  yyy  zzz\n",
       "0  aaa   20  AAA\n",
       "1  bbb   34  BBB\n",
       "2  ccc   50  CCC\n",
       "3  ddd   12  DDD\n",
       "4  eee   62  EEE"
      ]
     },
     "execution_count": 30,
     "metadata": {},
     "output_type": "execute_result"
    }
   ],
   "source": [
    "df.head()"
   ]
  },
  {
   "cell_type": "markdown",
   "id": "73124918-188f-4427-a7da-d11519e5e763",
   "metadata": {},
   "source": [
    "###### 先頭２行を出力（明示"
   ]
  },
  {
   "cell_type": "code",
   "execution_count": 31,
   "id": "eccbf277-e555-468f-b040-0b9bae373ba0",
   "metadata": {},
   "outputs": [
    {
     "data": {
      "text/html": [
       "<div>\n",
       "<style scoped>\n",
       "    .dataframe tbody tr th:only-of-type {\n",
       "        vertical-align: middle;\n",
       "    }\n",
       "\n",
       "    .dataframe tbody tr th {\n",
       "        vertical-align: top;\n",
       "    }\n",
       "\n",
       "    .dataframe thead th {\n",
       "        text-align: right;\n",
       "    }\n",
       "</style>\n",
       "<table border=\"1\" class=\"dataframe\">\n",
       "  <thead>\n",
       "    <tr style=\"text-align: right;\">\n",
       "      <th></th>\n",
       "      <th>xxx</th>\n",
       "      <th>yyy</th>\n",
       "      <th>zzz</th>\n",
       "    </tr>\n",
       "  </thead>\n",
       "  <tbody>\n",
       "    <tr>\n",
       "      <th>0</th>\n",
       "      <td>aaa</td>\n",
       "      <td>20</td>\n",
       "      <td>AAA</td>\n",
       "    </tr>\n",
       "    <tr>\n",
       "      <th>1</th>\n",
       "      <td>bbb</td>\n",
       "      <td>34</td>\n",
       "      <td>BBB</td>\n",
       "    </tr>\n",
       "  </tbody>\n",
       "</table>\n",
       "</div>"
      ],
      "text/plain": [
       "   xxx  yyy  zzz\n",
       "0  aaa   20  AAA\n",
       "1  bbb   34  BBB"
      ]
     },
     "execution_count": 31,
     "metadata": {},
     "output_type": "execute_result"
    }
   ],
   "source": [
    "df.head(2)"
   ]
  },
  {
   "cell_type": "markdown",
   "id": "32a8a48b-eb45-4b20-9006-d25a8eef8e63",
   "metadata": {},
   "source": [
    "##### 後尾"
   ]
  },
  {
   "cell_type": "markdown",
   "id": "645a1204-327c-42c5-8c67-b714bc46c34f",
   "metadata": {},
   "source": [
    "###### 後尾５行を出力（既定値"
   ]
  },
  {
   "cell_type": "code",
   "execution_count": 32,
   "id": "e2a35818-260e-48d2-ae5d-ee1fc69112da",
   "metadata": {},
   "outputs": [
    {
     "data": {
      "text/html": [
       "<div>\n",
       "<style scoped>\n",
       "    .dataframe tbody tr th:only-of-type {\n",
       "        vertical-align: middle;\n",
       "    }\n",
       "\n",
       "    .dataframe tbody tr th {\n",
       "        vertical-align: top;\n",
       "    }\n",
       "\n",
       "    .dataframe thead th {\n",
       "        text-align: right;\n",
       "    }\n",
       "</style>\n",
       "<table border=\"1\" class=\"dataframe\">\n",
       "  <thead>\n",
       "    <tr style=\"text-align: right;\">\n",
       "      <th></th>\n",
       "      <th>xxx</th>\n",
       "      <th>yyy</th>\n",
       "      <th>zzz</th>\n",
       "    </tr>\n",
       "  </thead>\n",
       "  <tbody>\n",
       "    <tr>\n",
       "      <th>1</th>\n",
       "      <td>bbb</td>\n",
       "      <td>34</td>\n",
       "      <td>BBB</td>\n",
       "    </tr>\n",
       "    <tr>\n",
       "      <th>2</th>\n",
       "      <td>ccc</td>\n",
       "      <td>50</td>\n",
       "      <td>CCC</td>\n",
       "    </tr>\n",
       "    <tr>\n",
       "      <th>3</th>\n",
       "      <td>ddd</td>\n",
       "      <td>12</td>\n",
       "      <td>DDD</td>\n",
       "    </tr>\n",
       "    <tr>\n",
       "      <th>4</th>\n",
       "      <td>eee</td>\n",
       "      <td>62</td>\n",
       "      <td>EEE</td>\n",
       "    </tr>\n",
       "    <tr>\n",
       "      <th>5</th>\n",
       "      <td>fff</td>\n",
       "      <td>22</td>\n",
       "      <td>FFF</td>\n",
       "    </tr>\n",
       "  </tbody>\n",
       "</table>\n",
       "</div>"
      ],
      "text/plain": [
       "   xxx  yyy  zzz\n",
       "1  bbb   34  BBB\n",
       "2  ccc   50  CCC\n",
       "3  ddd   12  DDD\n",
       "4  eee   62  EEE\n",
       "5  fff   22  FFF"
      ]
     },
     "execution_count": 32,
     "metadata": {},
     "output_type": "execute_result"
    }
   ],
   "source": [
    "df.tail()"
   ]
  },
  {
   "cell_type": "markdown",
   "id": "2664e2b7-86de-402f-bfa5-6b12448aeb45",
   "metadata": {
    "tags": []
   },
   "source": [
    "###### 先頭２行を出力（明示"
   ]
  },
  {
   "cell_type": "code",
   "execution_count": 33,
   "id": "98bdb4db-7ae6-4d69-b66f-85fd63f69c76",
   "metadata": {},
   "outputs": [
    {
     "data": {
      "text/html": [
       "<div>\n",
       "<style scoped>\n",
       "    .dataframe tbody tr th:only-of-type {\n",
       "        vertical-align: middle;\n",
       "    }\n",
       "\n",
       "    .dataframe tbody tr th {\n",
       "        vertical-align: top;\n",
       "    }\n",
       "\n",
       "    .dataframe thead th {\n",
       "        text-align: right;\n",
       "    }\n",
       "</style>\n",
       "<table border=\"1\" class=\"dataframe\">\n",
       "  <thead>\n",
       "    <tr style=\"text-align: right;\">\n",
       "      <th></th>\n",
       "      <th>xxx</th>\n",
       "      <th>yyy</th>\n",
       "      <th>zzz</th>\n",
       "    </tr>\n",
       "  </thead>\n",
       "  <tbody>\n",
       "    <tr>\n",
       "      <th>4</th>\n",
       "      <td>eee</td>\n",
       "      <td>62</td>\n",
       "      <td>EEE</td>\n",
       "    </tr>\n",
       "    <tr>\n",
       "      <th>5</th>\n",
       "      <td>fff</td>\n",
       "      <td>22</td>\n",
       "      <td>FFF</td>\n",
       "    </tr>\n",
       "  </tbody>\n",
       "</table>\n",
       "</div>"
      ],
      "text/plain": [
       "   xxx  yyy  zzz\n",
       "4  eee   62  EEE\n",
       "5  fff   22  FFF"
      ]
     },
     "execution_count": 33,
     "metadata": {},
     "output_type": "execute_result"
    }
   ],
   "source": [
    "df.tail(2)"
   ]
  },
  {
   "cell_type": "markdown",
   "id": "d03168ba-bcd3-41e4-a2ff-ca6d4d3c553d",
   "metadata": {},
   "source": [
    "#### インデックス"
   ]
  },
  {
   "cell_type": "markdown",
   "id": "f59881cf-119a-4a97-a2a5-5dc3acc488b5",
   "metadata": {},
   "source": [
    "##### 行指定\n",
    "Seriesが返る。"
   ]
  },
  {
   "cell_type": "code",
   "execution_count": 34,
   "id": "0e7746b6-029b-47eb-b60e-5308cadfef5e",
   "metadata": {},
   "outputs": [
    {
     "data": {
      "text/plain": [
       "xxx    bbb\n",
       "yyy     34\n",
       "zzz    BBB\n",
       "Name: 1, dtype: object"
      ]
     },
     "execution_count": 34,
     "metadata": {},
     "output_type": "execute_result"
    }
   ],
   "source": [
    "df.iloc[1]"
   ]
  },
  {
   "cell_type": "markdown",
   "id": "57e5c860-cd31-4bff-8df9-9e24915638cc",
   "metadata": {},
   "source": [
    "##### 列指定\n",
    "Seriesが返る。"
   ]
  },
  {
   "cell_type": "code",
   "execution_count": 35,
   "id": "6202fca7-9ebe-4d68-90cd-981af5afcaa7",
   "metadata": {},
   "outputs": [
    {
     "data": {
      "text/plain": [
       "0    20\n",
       "1    34\n",
       "2    50\n",
       "3    12\n",
       "4    62\n",
       "5    22\n",
       "Name: yyy, dtype: int64"
      ]
     },
     "execution_count": 35,
     "metadata": {},
     "output_type": "execute_result"
    }
   ],
   "source": [
    "# NumPyと同様にスライシングが可能\n",
    "df.iloc[:,1]"
   ]
  },
  {
   "cell_type": "markdown",
   "id": "7f32f5c5-d20b-49e7-81ee-81cf4727252d",
   "metadata": {},
   "source": [
    "##### 行列指定"
   ]
  },
  {
   "cell_type": "markdown",
   "id": "6d82ded2-22fb-4051-b118-15c53f945e32",
   "metadata": {},
   "source": [
    "###### 行列番号"
   ]
  },
  {
   "cell_type": "code",
   "execution_count": 36,
   "id": "1c9404be-f68a-49d5-be34-9204138616bf",
   "metadata": {},
   "outputs": [
    {
     "data": {
      "text/plain": [
       "'bbb'"
      ]
     },
     "execution_count": 36,
     "metadata": {},
     "output_type": "execute_result"
    }
   ],
   "source": [
    "df.iloc[1,0]"
   ]
  },
  {
   "cell_type": "markdown",
   "id": "2cf22d37-42df-4e59-81af-f23d11d540bc",
   "metadata": {},
   "source": [
    "###### 行番号・列名\n",
    "locは行名、列名が使える。"
   ]
  },
  {
   "cell_type": "code",
   "execution_count": 37,
   "id": "c77831fd-a69b-4080-a475-9d2fe09040ba",
   "metadata": {},
   "outputs": [
    {
     "data": {
      "text/plain": [
       "'bbb'"
      ]
     },
     "execution_count": 37,
     "metadata": {},
     "output_type": "execute_result"
    }
   ],
   "source": [
    "df.loc[1,'xxx']"
   ]
  },
  {
   "cell_type": "markdown",
   "id": "d0d12d6c-e4dd-4a5d-928c-2439a3f066bf",
   "metadata": {},
   "source": [
    "#### 抽出"
   ]
  },
  {
   "cell_type": "markdown",
   "id": "3ed94ec8-c937-426e-9fa8-684d7e7059fb",
   "metadata": {},
   "source": [
    "##### スライシング"
   ]
  },
  {
   "cell_type": "markdown",
   "id": "b09bcbd6-074b-4f95-b664-e48a7cf654a8",
   "metadata": {},
   "source": [
    "###### 行"
   ]
  },
  {
   "cell_type": "code",
   "execution_count": 38,
   "id": "1a972a4a-8e68-4d99-82f4-88f3b3701965",
   "metadata": {},
   "outputs": [
    {
     "data": {
      "text/html": [
       "<div>\n",
       "<style scoped>\n",
       "    .dataframe tbody tr th:only-of-type {\n",
       "        vertical-align: middle;\n",
       "    }\n",
       "\n",
       "    .dataframe tbody tr th {\n",
       "        vertical-align: top;\n",
       "    }\n",
       "\n",
       "    .dataframe thead th {\n",
       "        text-align: right;\n",
       "    }\n",
       "</style>\n",
       "<table border=\"1\" class=\"dataframe\">\n",
       "  <thead>\n",
       "    <tr style=\"text-align: right;\">\n",
       "      <th></th>\n",
       "      <th>xxx</th>\n",
       "      <th>yyy</th>\n",
       "      <th>zzz</th>\n",
       "    </tr>\n",
       "  </thead>\n",
       "  <tbody>\n",
       "    <tr>\n",
       "      <th>2</th>\n",
       "      <td>ccc</td>\n",
       "      <td>50</td>\n",
       "      <td>CCC</td>\n",
       "    </tr>\n",
       "    <tr>\n",
       "      <th>3</th>\n",
       "      <td>ddd</td>\n",
       "      <td>12</td>\n",
       "      <td>DDD</td>\n",
       "    </tr>\n",
       "  </tbody>\n",
       "</table>\n",
       "</div>"
      ],
      "text/plain": [
       "   xxx  yyy  zzz\n",
       "2  ccc   50  CCC\n",
       "3  ddd   12  DDD"
      ]
     },
     "execution_count": 38,
     "metadata": {},
     "output_type": "execute_result"
    }
   ],
   "source": [
    "df.iloc[2:4]"
   ]
  },
  {
   "cell_type": "markdown",
   "id": "42297b10-a1a4-425a-98f2-f2b437f8b2aa",
   "metadata": {},
   "source": [
    "###### 列"
   ]
  },
  {
   "cell_type": "code",
   "execution_count": 39,
   "id": "794cf257-8f6f-4c80-8953-41c6871559b4",
   "metadata": {},
   "outputs": [
    {
     "data": {
      "text/html": [
       "<div>\n",
       "<style scoped>\n",
       "    .dataframe tbody tr th:only-of-type {\n",
       "        vertical-align: middle;\n",
       "    }\n",
       "\n",
       "    .dataframe tbody tr th {\n",
       "        vertical-align: top;\n",
       "    }\n",
       "\n",
       "    .dataframe thead th {\n",
       "        text-align: right;\n",
       "    }\n",
       "</style>\n",
       "<table border=\"1\" class=\"dataframe\">\n",
       "  <thead>\n",
       "    <tr style=\"text-align: right;\">\n",
       "      <th></th>\n",
       "      <th>zzz</th>\n",
       "    </tr>\n",
       "  </thead>\n",
       "  <tbody>\n",
       "    <tr>\n",
       "      <th>0</th>\n",
       "      <td>AAA</td>\n",
       "    </tr>\n",
       "    <tr>\n",
       "      <th>1</th>\n",
       "      <td>BBB</td>\n",
       "    </tr>\n",
       "    <tr>\n",
       "      <th>2</th>\n",
       "      <td>CCC</td>\n",
       "    </tr>\n",
       "    <tr>\n",
       "      <th>3</th>\n",
       "      <td>DDD</td>\n",
       "    </tr>\n",
       "    <tr>\n",
       "      <th>4</th>\n",
       "      <td>EEE</td>\n",
       "    </tr>\n",
       "    <tr>\n",
       "      <th>5</th>\n",
       "      <td>FFF</td>\n",
       "    </tr>\n",
       "  </tbody>\n",
       "</table>\n",
       "</div>"
      ],
      "text/plain": [
       "   zzz\n",
       "0  AAA\n",
       "1  BBB\n",
       "2  CCC\n",
       "3  DDD\n",
       "4  EEE\n",
       "5  FFF"
      ]
     },
     "execution_count": 39,
     "metadata": {},
     "output_type": "execute_result"
    }
   ],
   "source": [
    "df.iloc[:,2:4]"
   ]
  },
  {
   "cell_type": "markdown",
   "id": "083d77b5-7b2b-4b2d-93e1-163c2fc33e63",
   "metadata": {},
   "source": [
    "##### 配列でインデックスを指定\n",
    "以下ではnp.arrayを使っているが、普通の配列でも指定可能。"
   ]
  },
  {
   "cell_type": "markdown",
   "id": "38531e67-2518-4234-9d89-b960719499e3",
   "metadata": {},
   "source": [
    "###### 行インデックス"
   ]
  },
  {
   "cell_type": "code",
   "execution_count": 40,
   "id": "730c9148-35aa-408b-b0c9-684248838b92",
   "metadata": {},
   "outputs": [
    {
     "data": {
      "text/html": [
       "<div>\n",
       "<style scoped>\n",
       "    .dataframe tbody tr th:only-of-type {\n",
       "        vertical-align: middle;\n",
       "    }\n",
       "\n",
       "    .dataframe tbody tr th {\n",
       "        vertical-align: top;\n",
       "    }\n",
       "\n",
       "    .dataframe thead th {\n",
       "        text-align: right;\n",
       "    }\n",
       "</style>\n",
       "<table border=\"1\" class=\"dataframe\">\n",
       "  <thead>\n",
       "    <tr style=\"text-align: right;\">\n",
       "      <th></th>\n",
       "      <th>xxx</th>\n",
       "      <th>yyy</th>\n",
       "      <th>zzz</th>\n",
       "    </tr>\n",
       "  </thead>\n",
       "  <tbody>\n",
       "    <tr>\n",
       "      <th>2</th>\n",
       "      <td>ccc</td>\n",
       "      <td>50</td>\n",
       "      <td>CCC</td>\n",
       "    </tr>\n",
       "    <tr>\n",
       "      <th>3</th>\n",
       "      <td>ddd</td>\n",
       "      <td>12</td>\n",
       "      <td>DDD</td>\n",
       "    </tr>\n",
       "  </tbody>\n",
       "</table>\n",
       "</div>"
      ],
      "text/plain": [
       "   xxx  yyy  zzz\n",
       "2  ccc   50  CCC\n",
       "3  ddd   12  DDD"
      ]
     },
     "execution_count": 40,
     "metadata": {},
     "output_type": "execute_result"
    }
   ],
   "source": [
    "df.iloc[np.array([2,3])]"
   ]
  },
  {
   "cell_type": "markdown",
   "id": "9a3a274e-bac4-4359-a99c-0f7c2ac629bc",
   "metadata": {},
   "source": [
    "###### 行＆列インデックス"
   ]
  },
  {
   "cell_type": "code",
   "execution_count": 41,
   "id": "c4c73eed-2e3d-4978-a49a-27c0489eb6cd",
   "metadata": {},
   "outputs": [
    {
     "data": {
      "text/html": [
       "<div>\n",
       "<style scoped>\n",
       "    .dataframe tbody tr th:only-of-type {\n",
       "        vertical-align: middle;\n",
       "    }\n",
       "\n",
       "    .dataframe tbody tr th {\n",
       "        vertical-align: top;\n",
       "    }\n",
       "\n",
       "    .dataframe thead th {\n",
       "        text-align: right;\n",
       "    }\n",
       "</style>\n",
       "<table border=\"1\" class=\"dataframe\">\n",
       "  <thead>\n",
       "    <tr style=\"text-align: right;\">\n",
       "      <th></th>\n",
       "      <th>yyy</th>\n",
       "      <th>zzz</th>\n",
       "    </tr>\n",
       "  </thead>\n",
       "  <tbody>\n",
       "    <tr>\n",
       "      <th>2</th>\n",
       "      <td>50</td>\n",
       "      <td>CCC</td>\n",
       "    </tr>\n",
       "    <tr>\n",
       "      <th>3</th>\n",
       "      <td>12</td>\n",
       "      <td>DDD</td>\n",
       "    </tr>\n",
       "  </tbody>\n",
       "</table>\n",
       "</div>"
      ],
      "text/plain": [
       "   yyy  zzz\n",
       "2   50  CCC\n",
       "3   12  DDD"
      ]
     },
     "execution_count": 41,
     "metadata": {},
     "output_type": "execute_result"
    }
   ],
   "source": [
    "df.iloc[np.array([2,3]), np.array([1,2])]"
   ]
  },
  {
   "cell_type": "markdown",
   "id": "c1305d33-3baa-4f87-a200-6c91e64b0ed8",
   "metadata": {},
   "source": [
    "##### 比較演算\n",
    "比較の結果boolのSeriesが生成されて指定されている。"
   ]
  },
  {
   "cell_type": "markdown",
   "id": "86762767-ca98-4d74-8eb8-5dea1950863d",
   "metadata": {},
   "source": [
    "###### 30より大きいyyy列の値を調査。"
   ]
  },
  {
   "cell_type": "code",
   "execution_count": 42,
   "id": "c07de50f-baab-44d1-92bc-a28a95e8460d",
   "metadata": {},
   "outputs": [
    {
     "data": {
      "text/plain": [
       "0    False\n",
       "1     True\n",
       "2     True\n",
       "3    False\n",
       "4     True\n",
       "5    False\n",
       "Name: yyy, dtype: bool"
      ]
     },
     "execution_count": 42,
     "metadata": {},
     "output_type": "execute_result"
    }
   ],
   "source": [
    "df.yyy >= 30"
   ]
  },
  {
   "cell_type": "markdown",
   "id": "018fa4f0-50aa-4f69-8ec5-fd7456112c47",
   "metadata": {},
   "source": [
    "###### 30より大きいyyy列の値を抽出。"
   ]
  },
  {
   "cell_type": "code",
   "execution_count": 43,
   "id": "c52a4f39-8755-4ab0-bf6a-0fc2df65281b",
   "metadata": {},
   "outputs": [
    {
     "data": {
      "text/html": [
       "<div>\n",
       "<style scoped>\n",
       "    .dataframe tbody tr th:only-of-type {\n",
       "        vertical-align: middle;\n",
       "    }\n",
       "\n",
       "    .dataframe tbody tr th {\n",
       "        vertical-align: top;\n",
       "    }\n",
       "\n",
       "    .dataframe thead th {\n",
       "        text-align: right;\n",
       "    }\n",
       "</style>\n",
       "<table border=\"1\" class=\"dataframe\">\n",
       "  <thead>\n",
       "    <tr style=\"text-align: right;\">\n",
       "      <th></th>\n",
       "      <th>xxx</th>\n",
       "      <th>yyy</th>\n",
       "      <th>zzz</th>\n",
       "    </tr>\n",
       "  </thead>\n",
       "  <tbody>\n",
       "    <tr>\n",
       "      <th>1</th>\n",
       "      <td>bbb</td>\n",
       "      <td>34</td>\n",
       "      <td>BBB</td>\n",
       "    </tr>\n",
       "    <tr>\n",
       "      <th>2</th>\n",
       "      <td>ccc</td>\n",
       "      <td>50</td>\n",
       "      <td>CCC</td>\n",
       "    </tr>\n",
       "    <tr>\n",
       "      <th>4</th>\n",
       "      <td>eee</td>\n",
       "      <td>62</td>\n",
       "      <td>EEE</td>\n",
       "    </tr>\n",
       "  </tbody>\n",
       "</table>\n",
       "</div>"
      ],
      "text/plain": [
       "   xxx  yyy  zzz\n",
       "1  bbb   34  BBB\n",
       "2  ccc   50  CCC\n",
       "4  eee   62  EEE"
      ]
     },
     "execution_count": 43,
     "metadata": {},
     "output_type": "execute_result"
    }
   ],
   "source": [
    "df[df.yyy >= 30]"
   ]
  },
  {
   "cell_type": "markdown",
   "id": "b2e01d2b-2f09-4d09-b375-248ef76eb491",
   "metadata": {},
   "source": [
    "#### 行列\n",
    "NumPy行列の取り出し"
   ]
  },
  {
   "cell_type": "code",
   "execution_count": 44,
   "id": "9616f804-c4c5-426c-af8a-d8835586aca5",
   "metadata": {},
   "outputs": [
    {
     "data": {
      "text/plain": [
       "array([['aaa', 20, 'AAA'],\n",
       "       ['bbb', 34, 'BBB'],\n",
       "       ['ccc', 50, 'CCC'],\n",
       "       ['ddd', 12, 'DDD'],\n",
       "       ['eee', 62, 'EEE'],\n",
       "       ['fff', 22, 'FFF']], dtype=object)"
      ]
     },
     "execution_count": 44,
     "metadata": {},
     "output_type": "execute_result"
    }
   ],
   "source": [
    "df.values"
   ]
  },
  {
   "cell_type": "markdown",
   "id": "bfe94121-66cb-4824-93f2-188c0110e9c9",
   "metadata": {},
   "source": [
    "#### 行指定（≒ 選択）"
   ]
  },
  {
   "cell_type": "markdown",
   "id": "9e0b229b-847d-48fa-b3c1-b1029493d0b2",
   "metadata": {},
   "source": [
    "##### １行指定する場合はSeries"
   ]
  },
  {
   "cell_type": "code",
   "execution_count": 45,
   "id": "c80fdebb-75d7-46d5-9a83-81eda7ef50a7",
   "metadata": {},
   "outputs": [
    {
     "data": {
      "text/plain": [
       "xxx    ccc\n",
       "yyy     50\n",
       "zzz    CCC\n",
       "Name: 2, dtype: object"
      ]
     },
     "execution_count": 45,
     "metadata": {},
     "output_type": "execute_result"
    }
   ],
   "source": [
    "df.iloc[2]"
   ]
  },
  {
   "cell_type": "markdown",
   "id": "4eea24d4-d524-4c95-bf1c-8c3463db9c7a",
   "metadata": {},
   "source": [
    "##### 複数行指定（行を配列で指定）する場合はDataFrame"
   ]
  },
  {
   "cell_type": "code",
   "execution_count": 46,
   "id": "5ddbabe6-9172-4532-a20b-3ef115e9af20",
   "metadata": {},
   "outputs": [
    {
     "data": {
      "text/html": [
       "<div>\n",
       "<style scoped>\n",
       "    .dataframe tbody tr th:only-of-type {\n",
       "        vertical-align: middle;\n",
       "    }\n",
       "\n",
       "    .dataframe tbody tr th {\n",
       "        vertical-align: top;\n",
       "    }\n",
       "\n",
       "    .dataframe thead th {\n",
       "        text-align: right;\n",
       "    }\n",
       "</style>\n",
       "<table border=\"1\" class=\"dataframe\">\n",
       "  <thead>\n",
       "    <tr style=\"text-align: right;\">\n",
       "      <th></th>\n",
       "      <th>xxx</th>\n",
       "      <th>yyy</th>\n",
       "      <th>zzz</th>\n",
       "    </tr>\n",
       "  </thead>\n",
       "  <tbody>\n",
       "    <tr>\n",
       "      <th>2</th>\n",
       "      <td>ccc</td>\n",
       "      <td>50</td>\n",
       "      <td>CCC</td>\n",
       "    </tr>\n",
       "  </tbody>\n",
       "</table>\n",
       "</div>"
      ],
      "text/plain": [
       "   xxx  yyy  zzz\n",
       "2  ccc   50  CCC"
      ]
     },
     "execution_count": 46,
     "metadata": {},
     "output_type": "execute_result"
    }
   ],
   "source": [
    "df.iloc[[2]]"
   ]
  },
  {
   "cell_type": "markdown",
   "id": "e760c2da-0dda-4af6-8f30-e5cac8b88a43",
   "metadata": {},
   "source": [
    "#### 列指定（≒ 射影）"
   ]
  },
  {
   "cell_type": "markdown",
   "id": "00ccd19b-9e95-425c-bfc6-e58f1c564572",
   "metadata": {},
   "source": [
    "##### １列指定する場合はSeries\n",
    "行はスライシングで全行指定"
   ]
  },
  {
   "cell_type": "code",
   "execution_count": 47,
   "id": "4c67c89e-153d-4a96-9f17-4846787478cb",
   "metadata": {},
   "outputs": [
    {
     "data": {
      "text/plain": [
       "0    20\n",
       "1    34\n",
       "2    50\n",
       "3    12\n",
       "4    62\n",
       "5    22\n",
       "Name: yyy, dtype: int64"
      ]
     },
     "execution_count": 47,
     "metadata": {},
     "output_type": "execute_result"
    }
   ],
   "source": [
    "df.loc[:,'yyy']"
   ]
  },
  {
   "cell_type": "markdown",
   "id": "c094e40b-ee56-4c5b-bb6f-8cf55432ddee",
   "metadata": {},
   "source": [
    "##### 複数列指定（列を配列で指定）する場合はDataFrame"
   ]
  },
  {
   "cell_type": "markdown",
   "id": "1d9c3abc-dd1a-4da7-9b64-4c41744793a9",
   "metadata": {},
   "source": [
    "###### 行列指定\n",
    "行はスライシングで全行指定"
   ]
  },
  {
   "cell_type": "code",
   "execution_count": 48,
   "id": "835c0f46-3a35-431e-89ad-a77d74a23526",
   "metadata": {},
   "outputs": [
    {
     "data": {
      "text/html": [
       "<div>\n",
       "<style scoped>\n",
       "    .dataframe tbody tr th:only-of-type {\n",
       "        vertical-align: middle;\n",
       "    }\n",
       "\n",
       "    .dataframe tbody tr th {\n",
       "        vertical-align: top;\n",
       "    }\n",
       "\n",
       "    .dataframe thead th {\n",
       "        text-align: right;\n",
       "    }\n",
       "</style>\n",
       "<table border=\"1\" class=\"dataframe\">\n",
       "  <thead>\n",
       "    <tr style=\"text-align: right;\">\n",
       "      <th></th>\n",
       "      <th>yyy</th>\n",
       "    </tr>\n",
       "  </thead>\n",
       "  <tbody>\n",
       "    <tr>\n",
       "      <th>0</th>\n",
       "      <td>20</td>\n",
       "    </tr>\n",
       "    <tr>\n",
       "      <th>1</th>\n",
       "      <td>34</td>\n",
       "    </tr>\n",
       "    <tr>\n",
       "      <th>2</th>\n",
       "      <td>50</td>\n",
       "    </tr>\n",
       "    <tr>\n",
       "      <th>3</th>\n",
       "      <td>12</td>\n",
       "    </tr>\n",
       "    <tr>\n",
       "      <th>4</th>\n",
       "      <td>62</td>\n",
       "    </tr>\n",
       "    <tr>\n",
       "      <th>5</th>\n",
       "      <td>22</td>\n",
       "    </tr>\n",
       "  </tbody>\n",
       "</table>\n",
       "</div>"
      ],
      "text/plain": [
       "   yyy\n",
       "0   20\n",
       "1   34\n",
       "2   50\n",
       "3   12\n",
       "4   62\n",
       "5   22"
      ]
     },
     "execution_count": 48,
     "metadata": {},
     "output_type": "execute_result"
    }
   ],
   "source": [
    "df.loc[:,['yyy']]"
   ]
  },
  {
   "cell_type": "markdown",
   "id": "ef7efbf8-72a8-4d97-983b-18bf6be6f2bd",
   "metadata": {},
   "source": [
    "###### 列名のみ指定しても結果は同じ"
   ]
  },
  {
   "cell_type": "code",
   "execution_count": 49,
   "id": "4a5c7378-b90f-4087-8559-84607f6e4357",
   "metadata": {},
   "outputs": [
    {
     "data": {
      "text/html": [
       "<div>\n",
       "<style scoped>\n",
       "    .dataframe tbody tr th:only-of-type {\n",
       "        vertical-align: middle;\n",
       "    }\n",
       "\n",
       "    .dataframe tbody tr th {\n",
       "        vertical-align: top;\n",
       "    }\n",
       "\n",
       "    .dataframe thead th {\n",
       "        text-align: right;\n",
       "    }\n",
       "</style>\n",
       "<table border=\"1\" class=\"dataframe\">\n",
       "  <thead>\n",
       "    <tr style=\"text-align: right;\">\n",
       "      <th></th>\n",
       "      <th>yyy</th>\n",
       "    </tr>\n",
       "  </thead>\n",
       "  <tbody>\n",
       "    <tr>\n",
       "      <th>0</th>\n",
       "      <td>20</td>\n",
       "    </tr>\n",
       "    <tr>\n",
       "      <th>1</th>\n",
       "      <td>34</td>\n",
       "    </tr>\n",
       "    <tr>\n",
       "      <th>2</th>\n",
       "      <td>50</td>\n",
       "    </tr>\n",
       "    <tr>\n",
       "      <th>3</th>\n",
       "      <td>12</td>\n",
       "    </tr>\n",
       "    <tr>\n",
       "      <th>4</th>\n",
       "      <td>62</td>\n",
       "    </tr>\n",
       "    <tr>\n",
       "      <th>5</th>\n",
       "      <td>22</td>\n",
       "    </tr>\n",
       "  </tbody>\n",
       "</table>\n",
       "</div>"
      ],
      "text/plain": [
       "   yyy\n",
       "0   20\n",
       "1   34\n",
       "2   50\n",
       "3   12\n",
       "4   62\n",
       "5   22"
      ]
     },
     "execution_count": 49,
     "metadata": {},
     "output_type": "execute_result"
    }
   ],
   "source": [
    "df[['yyy']]"
   ]
  },
  {
   "cell_type": "markdown",
   "id": "dc8cc640-1e08-41b3-8cfe-68ae2edb8239",
   "metadata": {
    "tags": []
   },
   "source": [
    "### 編集\n",
    "- 行編集: axis=0\n",
    "- 列編集: axis=1"
   ]
  },
  {
   "cell_type": "code",
   "execution_count": 50,
   "id": "959612fd-5217-43a4-925c-bf5f26623a4a",
   "metadata": {},
   "outputs": [
    {
     "data": {
      "text/html": [
       "<div>\n",
       "<style scoped>\n",
       "    .dataframe tbody tr th:only-of-type {\n",
       "        vertical-align: middle;\n",
       "    }\n",
       "\n",
       "    .dataframe tbody tr th {\n",
       "        vertical-align: top;\n",
       "    }\n",
       "\n",
       "    .dataframe thead th {\n",
       "        text-align: right;\n",
       "    }\n",
       "</style>\n",
       "<table border=\"1\" class=\"dataframe\">\n",
       "  <thead>\n",
       "    <tr style=\"text-align: right;\">\n",
       "      <th></th>\n",
       "      <th>xxx</th>\n",
       "      <th>yyy</th>\n",
       "      <th>zzz</th>\n",
       "    </tr>\n",
       "  </thead>\n",
       "  <tbody>\n",
       "    <tr>\n",
       "      <th>0</th>\n",
       "      <td>aaa</td>\n",
       "      <td>20</td>\n",
       "      <td>AAA</td>\n",
       "    </tr>\n",
       "    <tr>\n",
       "      <th>1</th>\n",
       "      <td>bbb</td>\n",
       "      <td>34</td>\n",
       "      <td>BBB</td>\n",
       "    </tr>\n",
       "    <tr>\n",
       "      <th>2</th>\n",
       "      <td>ccc</td>\n",
       "      <td>50</td>\n",
       "      <td>CCC</td>\n",
       "    </tr>\n",
       "    <tr>\n",
       "      <th>3</th>\n",
       "      <td>ddd</td>\n",
       "      <td>12</td>\n",
       "      <td>DDD</td>\n",
       "    </tr>\n",
       "    <tr>\n",
       "      <th>4</th>\n",
       "      <td>eee</td>\n",
       "      <td>62</td>\n",
       "      <td>EEE</td>\n",
       "    </tr>\n",
       "    <tr>\n",
       "      <th>5</th>\n",
       "      <td>fff</td>\n",
       "      <td>22</td>\n",
       "      <td>FFF</td>\n",
       "    </tr>\n",
       "  </tbody>\n",
       "</table>\n",
       "</div>"
      ],
      "text/plain": [
       "   xxx  yyy  zzz\n",
       "0  aaa   20  AAA\n",
       "1  bbb   34  BBB\n",
       "2  ccc   50  CCC\n",
       "3  ddd   12  DDD\n",
       "4  eee   62  EEE\n",
       "5  fff   22  FFF"
      ]
     },
     "execution_count": 50,
     "metadata": {},
     "output_type": "execute_result"
    }
   ],
   "source": [
    "df=pd.DataFrame({\n",
    "    'xxx': ['aaa', 'bbb', 'ccc', 'ddd', 'eee', 'fff'], # 長さ: 6\n",
    "    'yyy': [20, 34, 50, 12, 62, 22],                   # 長さ: 6\n",
    "    'zzz': ['AAA', 'BBB', 'CCC', 'DDD', 'EEE', 'FFF']  # 長さ: 6\n",
    "})\n",
    "df"
   ]
  },
  {
   "cell_type": "markdown",
   "id": "81049cce-f8be-4faa-9358-75a8c1d81f32",
   "metadata": {},
   "source": [
    "#### 追加"
   ]
  },
  {
   "cell_type": "markdown",
   "id": "8fe3bcc3-92cb-4263-b636-1733492b8ca1",
   "metadata": {},
   "source": [
    "##### 行追加"
   ]
  },
  {
   "cell_type": "markdown",
   "id": "322e5de2-c4b7-4553-9fdb-a812a6da5b12",
   "metadata": {},
   "source": [
    "###### concatを使った例"
   ]
  },
  {
   "cell_type": "code",
   "execution_count": 51,
   "id": "019e439a-96c7-4e3e-bfce-a1dfafec2e72",
   "metadata": {},
   "outputs": [
    {
     "data": {
      "text/html": [
       "<div>\n",
       "<style scoped>\n",
       "    .dataframe tbody tr th:only-of-type {\n",
       "        vertical-align: middle;\n",
       "    }\n",
       "\n",
       "    .dataframe tbody tr th {\n",
       "        vertical-align: top;\n",
       "    }\n",
       "\n",
       "    .dataframe thead th {\n",
       "        text-align: right;\n",
       "    }\n",
       "</style>\n",
       "<table border=\"1\" class=\"dataframe\">\n",
       "  <thead>\n",
       "    <tr style=\"text-align: right;\">\n",
       "      <th></th>\n",
       "      <th>xxx</th>\n",
       "      <th>yyy</th>\n",
       "      <th>zzz</th>\n",
       "    </tr>\n",
       "  </thead>\n",
       "  <tbody>\n",
       "    <tr>\n",
       "      <th>0</th>\n",
       "      <td>aaa</td>\n",
       "      <td>20</td>\n",
       "      <td>AAA</td>\n",
       "    </tr>\n",
       "    <tr>\n",
       "      <th>1</th>\n",
       "      <td>bbb</td>\n",
       "      <td>34</td>\n",
       "      <td>BBB</td>\n",
       "    </tr>\n",
       "    <tr>\n",
       "      <th>2</th>\n",
       "      <td>ccc</td>\n",
       "      <td>50</td>\n",
       "      <td>CCC</td>\n",
       "    </tr>\n",
       "    <tr>\n",
       "      <th>3</th>\n",
       "      <td>ddd</td>\n",
       "      <td>12</td>\n",
       "      <td>DDD</td>\n",
       "    </tr>\n",
       "    <tr>\n",
       "      <th>4</th>\n",
       "      <td>eee</td>\n",
       "      <td>62</td>\n",
       "      <td>EEE</td>\n",
       "    </tr>\n",
       "    <tr>\n",
       "      <th>5</th>\n",
       "      <td>fff</td>\n",
       "      <td>22</td>\n",
       "      <td>FFF</td>\n",
       "    </tr>\n",
       "    <tr>\n",
       "      <th>0</th>\n",
       "      <td>ggg</td>\n",
       "      <td>45</td>\n",
       "      <td>GGG</td>\n",
       "    </tr>\n",
       "  </tbody>\n",
       "</table>\n",
       "</div>"
      ],
      "text/plain": [
       "   xxx  yyy  zzz\n",
       "0  aaa   20  AAA\n",
       "1  bbb   34  BBB\n",
       "2  ccc   50  CCC\n",
       "3  ddd   12  DDD\n",
       "4  eee   62  EEE\n",
       "5  fff   22  FFF\n",
       "0  ggg   45  GGG"
      ]
     },
     "execution_count": 51,
     "metadata": {},
     "output_type": "execute_result"
    }
   ],
   "source": [
    "row=pd.DataFrame({\n",
    "           'xxx': 'ggg',\n",
    "           'yyy': [45],\n",
    "           'zzz': 'GGG'})\n",
    "\n",
    "pd.concat([df,row],axis=0)"
   ]
  },
  {
   "cell_type": "markdown",
   "id": "f47340de-a9b5-419f-bb7f-6360003dc9b3",
   "metadata": {},
   "source": [
    "###### インデックス再設定"
   ]
  },
  {
   "cell_type": "code",
   "execution_count": 52,
   "id": "1fe30ff8-f379-49b3-8d94-500f402169a5",
   "metadata": {},
   "outputs": [
    {
     "data": {
      "text/html": [
       "<div>\n",
       "<style scoped>\n",
       "    .dataframe tbody tr th:only-of-type {\n",
       "        vertical-align: middle;\n",
       "    }\n",
       "\n",
       "    .dataframe tbody tr th {\n",
       "        vertical-align: top;\n",
       "    }\n",
       "\n",
       "    .dataframe thead th {\n",
       "        text-align: right;\n",
       "    }\n",
       "</style>\n",
       "<table border=\"1\" class=\"dataframe\">\n",
       "  <thead>\n",
       "    <tr style=\"text-align: right;\">\n",
       "      <th></th>\n",
       "      <th>xxx</th>\n",
       "      <th>yyy</th>\n",
       "      <th>zzz</th>\n",
       "    </tr>\n",
       "  </thead>\n",
       "  <tbody>\n",
       "    <tr>\n",
       "      <th>0</th>\n",
       "      <td>aaa</td>\n",
       "      <td>20</td>\n",
       "      <td>AAA</td>\n",
       "    </tr>\n",
       "    <tr>\n",
       "      <th>1</th>\n",
       "      <td>bbb</td>\n",
       "      <td>34</td>\n",
       "      <td>BBB</td>\n",
       "    </tr>\n",
       "    <tr>\n",
       "      <th>2</th>\n",
       "      <td>ccc</td>\n",
       "      <td>50</td>\n",
       "      <td>CCC</td>\n",
       "    </tr>\n",
       "    <tr>\n",
       "      <th>3</th>\n",
       "      <td>ddd</td>\n",
       "      <td>12</td>\n",
       "      <td>DDD</td>\n",
       "    </tr>\n",
       "    <tr>\n",
       "      <th>4</th>\n",
       "      <td>eee</td>\n",
       "      <td>62</td>\n",
       "      <td>EEE</td>\n",
       "    </tr>\n",
       "    <tr>\n",
       "      <th>5</th>\n",
       "      <td>fff</td>\n",
       "      <td>22</td>\n",
       "      <td>FFF</td>\n",
       "    </tr>\n",
       "  </tbody>\n",
       "</table>\n",
       "</div>"
      ],
      "text/plain": [
       "   xxx  yyy  zzz\n",
       "0  aaa   20  AAA\n",
       "1  bbb   34  BBB\n",
       "2  ccc   50  CCC\n",
       "3  ddd   12  DDD\n",
       "4  eee   62  EEE\n",
       "5  fff   22  FFF"
      ]
     },
     "execution_count": 52,
     "metadata": {},
     "output_type": "execute_result"
    }
   ],
   "source": [
    "df.index=np.arange(len(df))\n",
    "df"
   ]
  },
  {
   "cell_type": "markdown",
   "id": "af404118-5ea2-4a83-b301-3ca74be7d082",
   "metadata": {},
   "source": [
    "##### 列追加"
   ]
  },
  {
   "cell_type": "markdown",
   "id": "8561d362-e3b8-4cd9-941e-8ea6879695ea",
   "metadata": {},
   "source": [
    "###### 簡単な例"
   ]
  },
  {
   "cell_type": "code",
   "execution_count": 53,
   "id": "3ed64479-c786-4343-97d5-dbaaf15e48cb",
   "metadata": {},
   "outputs": [
    {
     "data": {
      "text/html": [
       "<div>\n",
       "<style scoped>\n",
       "    .dataframe tbody tr th:only-of-type {\n",
       "        vertical-align: middle;\n",
       "    }\n",
       "\n",
       "    .dataframe tbody tr th {\n",
       "        vertical-align: top;\n",
       "    }\n",
       "\n",
       "    .dataframe thead th {\n",
       "        text-align: right;\n",
       "    }\n",
       "</style>\n",
       "<table border=\"1\" class=\"dataframe\">\n",
       "  <thead>\n",
       "    <tr style=\"text-align: right;\">\n",
       "      <th></th>\n",
       "      <th>xxx</th>\n",
       "      <th>yyy</th>\n",
       "      <th>zzz</th>\n",
       "      <th>XXX</th>\n",
       "    </tr>\n",
       "  </thead>\n",
       "  <tbody>\n",
       "    <tr>\n",
       "      <th>0</th>\n",
       "      <td>aaa</td>\n",
       "      <td>20</td>\n",
       "      <td>AAA</td>\n",
       "      <td>X1</td>\n",
       "    </tr>\n",
       "    <tr>\n",
       "      <th>1</th>\n",
       "      <td>bbb</td>\n",
       "      <td>34</td>\n",
       "      <td>BBB</td>\n",
       "      <td>X2</td>\n",
       "    </tr>\n",
       "    <tr>\n",
       "      <th>2</th>\n",
       "      <td>ccc</td>\n",
       "      <td>50</td>\n",
       "      <td>CCC</td>\n",
       "      <td>X3</td>\n",
       "    </tr>\n",
       "    <tr>\n",
       "      <th>3</th>\n",
       "      <td>ddd</td>\n",
       "      <td>12</td>\n",
       "      <td>DDD</td>\n",
       "      <td>X4</td>\n",
       "    </tr>\n",
       "    <tr>\n",
       "      <th>4</th>\n",
       "      <td>eee</td>\n",
       "      <td>62</td>\n",
       "      <td>EEE</td>\n",
       "      <td>X5</td>\n",
       "    </tr>\n",
       "    <tr>\n",
       "      <th>5</th>\n",
       "      <td>fff</td>\n",
       "      <td>22</td>\n",
       "      <td>FFF</td>\n",
       "      <td>X6</td>\n",
       "    </tr>\n",
       "  </tbody>\n",
       "</table>\n",
       "</div>"
      ],
      "text/plain": [
       "   xxx  yyy  zzz XXX\n",
       "0  aaa   20  AAA  X1\n",
       "1  bbb   34  BBB  X2\n",
       "2  ccc   50  CCC  X3\n",
       "3  ddd   12  DDD  X4\n",
       "4  eee   62  EEE  X5\n",
       "5  fff   22  FFF  X6"
      ]
     },
     "execution_count": 53,
     "metadata": {},
     "output_type": "execute_result"
    }
   ],
   "source": [
    "df['XXX']=['X1','X2','X3','X4','X5','X6']\n",
    "df"
   ]
  },
  {
   "cell_type": "markdown",
   "id": "ab920bfd-eef3-41c5-b2c1-80ea7328368f",
   "metadata": {},
   "source": [
    "###### concatを使った例"
   ]
  },
  {
   "cell_type": "code",
   "execution_count": 54,
   "id": "3b10dfe4-13a0-4e3f-9cb3-e070acfad09e",
   "metadata": {},
   "outputs": [
    {
     "data": {
      "text/html": [
       "<div>\n",
       "<style scoped>\n",
       "    .dataframe tbody tr th:only-of-type {\n",
       "        vertical-align: middle;\n",
       "    }\n",
       "\n",
       "    .dataframe tbody tr th {\n",
       "        vertical-align: top;\n",
       "    }\n",
       "\n",
       "    .dataframe thead th {\n",
       "        text-align: right;\n",
       "    }\n",
       "</style>\n",
       "<table border=\"1\" class=\"dataframe\">\n",
       "  <thead>\n",
       "    <tr style=\"text-align: right;\">\n",
       "      <th></th>\n",
       "      <th>xxx</th>\n",
       "      <th>yyy</th>\n",
       "      <th>zzz</th>\n",
       "      <th>XXX</th>\n",
       "      <th>YYY</th>\n",
       "    </tr>\n",
       "  </thead>\n",
       "  <tbody>\n",
       "    <tr>\n",
       "      <th>0</th>\n",
       "      <td>aaa</td>\n",
       "      <td>20</td>\n",
       "      <td>AAA</td>\n",
       "      <td>X1</td>\n",
       "      <td>Y1</td>\n",
       "    </tr>\n",
       "    <tr>\n",
       "      <th>1</th>\n",
       "      <td>bbb</td>\n",
       "      <td>34</td>\n",
       "      <td>BBB</td>\n",
       "      <td>X2</td>\n",
       "      <td>Y2</td>\n",
       "    </tr>\n",
       "    <tr>\n",
       "      <th>2</th>\n",
       "      <td>ccc</td>\n",
       "      <td>50</td>\n",
       "      <td>CCC</td>\n",
       "      <td>X3</td>\n",
       "      <td>Y3</td>\n",
       "    </tr>\n",
       "    <tr>\n",
       "      <th>3</th>\n",
       "      <td>ddd</td>\n",
       "      <td>12</td>\n",
       "      <td>DDD</td>\n",
       "      <td>X4</td>\n",
       "      <td>Y4</td>\n",
       "    </tr>\n",
       "    <tr>\n",
       "      <th>4</th>\n",
       "      <td>eee</td>\n",
       "      <td>62</td>\n",
       "      <td>EEE</td>\n",
       "      <td>X5</td>\n",
       "      <td>Y5</td>\n",
       "    </tr>\n",
       "    <tr>\n",
       "      <th>5</th>\n",
       "      <td>fff</td>\n",
       "      <td>22</td>\n",
       "      <td>FFF</td>\n",
       "      <td>X6</td>\n",
       "      <td>Y6</td>\n",
       "    </tr>\n",
       "  </tbody>\n",
       "</table>\n",
       "</div>"
      ],
      "text/plain": [
       "   xxx  yyy  zzz XXX YYY\n",
       "0  aaa   20  AAA  X1  Y1\n",
       "1  bbb   34  BBB  X2  Y2\n",
       "2  ccc   50  CCC  X3  Y3\n",
       "3  ddd   12  DDD  X4  Y4\n",
       "4  eee   62  EEE  X5  Y5\n",
       "5  fff   22  FFF  X6  Y6"
      ]
     },
     "execution_count": 54,
     "metadata": {},
     "output_type": "execute_result"
    }
   ],
   "source": [
    "col=pd.DataFrame({'YYY':['Y1','Y2','Y3','Y4','Y5','Y6']})\n",
    "df=pd.concat([df,col],axis=1)\n",
    "df"
   ]
  },
  {
   "cell_type": "markdown",
   "id": "84159636-2f96-4f52-83aa-52b8f495341f",
   "metadata": {},
   "source": [
    "#### 削除"
   ]
  },
  {
   "cell_type": "markdown",
   "id": "abe088d7-e4ce-45bd-919b-60189f0d2a99",
   "metadata": {},
   "source": [
    "##### 行削除"
   ]
  },
  {
   "cell_type": "code",
   "execution_count": 55,
   "id": "ae7b3eda-1d0c-4ba3-8605-d5fb1f237b1d",
   "metadata": {},
   "outputs": [
    {
     "data": {
      "text/html": [
       "<div>\n",
       "<style scoped>\n",
       "    .dataframe tbody tr th:only-of-type {\n",
       "        vertical-align: middle;\n",
       "    }\n",
       "\n",
       "    .dataframe tbody tr th {\n",
       "        vertical-align: top;\n",
       "    }\n",
       "\n",
       "    .dataframe thead th {\n",
       "        text-align: right;\n",
       "    }\n",
       "</style>\n",
       "<table border=\"1\" class=\"dataframe\">\n",
       "  <thead>\n",
       "    <tr style=\"text-align: right;\">\n",
       "      <th></th>\n",
       "      <th>xxx</th>\n",
       "      <th>yyy</th>\n",
       "      <th>zzz</th>\n",
       "      <th>XXX</th>\n",
       "      <th>YYY</th>\n",
       "    </tr>\n",
       "  </thead>\n",
       "  <tbody>\n",
       "    <tr>\n",
       "      <th>0</th>\n",
       "      <td>aaa</td>\n",
       "      <td>20</td>\n",
       "      <td>AAA</td>\n",
       "      <td>X1</td>\n",
       "      <td>Y1</td>\n",
       "    </tr>\n",
       "    <tr>\n",
       "      <th>1</th>\n",
       "      <td>bbb</td>\n",
       "      <td>34</td>\n",
       "      <td>BBB</td>\n",
       "      <td>X2</td>\n",
       "      <td>Y2</td>\n",
       "    </tr>\n",
       "    <tr>\n",
       "      <th>3</th>\n",
       "      <td>ddd</td>\n",
       "      <td>12</td>\n",
       "      <td>DDD</td>\n",
       "      <td>X4</td>\n",
       "      <td>Y4</td>\n",
       "    </tr>\n",
       "    <tr>\n",
       "      <th>4</th>\n",
       "      <td>eee</td>\n",
       "      <td>62</td>\n",
       "      <td>EEE</td>\n",
       "      <td>X5</td>\n",
       "      <td>Y5</td>\n",
       "    </tr>\n",
       "    <tr>\n",
       "      <th>5</th>\n",
       "      <td>fff</td>\n",
       "      <td>22</td>\n",
       "      <td>FFF</td>\n",
       "      <td>X6</td>\n",
       "      <td>Y6</td>\n",
       "    </tr>\n",
       "  </tbody>\n",
       "</table>\n",
       "</div>"
      ],
      "text/plain": [
       "   xxx  yyy  zzz XXX YYY\n",
       "0  aaa   20  AAA  X1  Y1\n",
       "1  bbb   34  BBB  X2  Y2\n",
       "3  ddd   12  DDD  X4  Y4\n",
       "4  eee   62  EEE  X5  Y5\n",
       "5  fff   22  FFF  X6  Y6"
      ]
     },
     "execution_count": 55,
     "metadata": {},
     "output_type": "execute_result"
    }
   ],
   "source": [
    "df=df.drop(2,axis=0)\n",
    "df"
   ]
  },
  {
   "cell_type": "markdown",
   "id": "db7e6d82-3fe6-4c35-8ebb-f5223ad49885",
   "metadata": {},
   "source": [
    "##### 列削除"
   ]
  },
  {
   "cell_type": "code",
   "execution_count": 56,
   "id": "891ea993-42f0-4ce5-96de-7dcb1c2a5bc7",
   "metadata": {},
   "outputs": [
    {
     "data": {
      "text/html": [
       "<div>\n",
       "<style scoped>\n",
       "    .dataframe tbody tr th:only-of-type {\n",
       "        vertical-align: middle;\n",
       "    }\n",
       "\n",
       "    .dataframe tbody tr th {\n",
       "        vertical-align: top;\n",
       "    }\n",
       "\n",
       "    .dataframe thead th {\n",
       "        text-align: right;\n",
       "    }\n",
       "</style>\n",
       "<table border=\"1\" class=\"dataframe\">\n",
       "  <thead>\n",
       "    <tr style=\"text-align: right;\">\n",
       "      <th></th>\n",
       "      <th>xxx</th>\n",
       "      <th>zzz</th>\n",
       "      <th>XXX</th>\n",
       "      <th>YYY</th>\n",
       "    </tr>\n",
       "  </thead>\n",
       "  <tbody>\n",
       "    <tr>\n",
       "      <th>0</th>\n",
       "      <td>aaa</td>\n",
       "      <td>AAA</td>\n",
       "      <td>X1</td>\n",
       "      <td>Y1</td>\n",
       "    </tr>\n",
       "    <tr>\n",
       "      <th>1</th>\n",
       "      <td>bbb</td>\n",
       "      <td>BBB</td>\n",
       "      <td>X2</td>\n",
       "      <td>Y2</td>\n",
       "    </tr>\n",
       "    <tr>\n",
       "      <th>3</th>\n",
       "      <td>ddd</td>\n",
       "      <td>DDD</td>\n",
       "      <td>X4</td>\n",
       "      <td>Y4</td>\n",
       "    </tr>\n",
       "    <tr>\n",
       "      <th>4</th>\n",
       "      <td>eee</td>\n",
       "      <td>EEE</td>\n",
       "      <td>X5</td>\n",
       "      <td>Y5</td>\n",
       "    </tr>\n",
       "    <tr>\n",
       "      <th>5</th>\n",
       "      <td>fff</td>\n",
       "      <td>FFF</td>\n",
       "      <td>X6</td>\n",
       "      <td>Y6</td>\n",
       "    </tr>\n",
       "  </tbody>\n",
       "</table>\n",
       "</div>"
      ],
      "text/plain": [
       "   xxx  zzz XXX YYY\n",
       "0  aaa  AAA  X1  Y1\n",
       "1  bbb  BBB  X2  Y2\n",
       "3  ddd  DDD  X4  Y4\n",
       "4  eee  EEE  X5  Y5\n",
       "5  fff  FFF  X6  Y6"
      ]
     },
     "execution_count": 56,
     "metadata": {},
     "output_type": "execute_result"
    }
   ],
   "source": [
    "df=df.drop('yyy',axis=1)\n",
    "df"
   ]
  },
  {
   "cell_type": "markdown",
   "id": "56d0085f-91a9-4ea7-8009-e24b5a031eb4",
   "metadata": {},
   "source": [
    "#### 列名・行名の変更"
   ]
  },
  {
   "cell_type": "markdown",
   "id": "d36ca47e-ce98-4449-8719-d52749ebc998",
   "metadata": {},
   "source": [
    "##### 列名の変更"
   ]
  },
  {
   "cell_type": "code",
   "execution_count": 57,
   "id": "0ec8a3a8-bb30-4631-88d5-1cd7a27811c0",
   "metadata": {},
   "outputs": [
    {
     "data": {
      "text/html": [
       "<div>\n",
       "<style scoped>\n",
       "    .dataframe tbody tr th:only-of-type {\n",
       "        vertical-align: middle;\n",
       "    }\n",
       "\n",
       "    .dataframe tbody tr th {\n",
       "        vertical-align: top;\n",
       "    }\n",
       "\n",
       "    .dataframe thead th {\n",
       "        text-align: right;\n",
       "    }\n",
       "</style>\n",
       "<table border=\"1\" class=\"dataframe\">\n",
       "  <thead>\n",
       "    <tr style=\"text-align: right;\">\n",
       "      <th></th>\n",
       "      <th>AAA</th>\n",
       "      <th>BBB</th>\n",
       "      <th>CCC</th>\n",
       "      <th>DDD</th>\n",
       "    </tr>\n",
       "  </thead>\n",
       "  <tbody>\n",
       "    <tr>\n",
       "      <th>0</th>\n",
       "      <td>aaa</td>\n",
       "      <td>AAA</td>\n",
       "      <td>X1</td>\n",
       "      <td>Y1</td>\n",
       "    </tr>\n",
       "    <tr>\n",
       "      <th>1</th>\n",
       "      <td>bbb</td>\n",
       "      <td>BBB</td>\n",
       "      <td>X2</td>\n",
       "      <td>Y2</td>\n",
       "    </tr>\n",
       "    <tr>\n",
       "      <th>3</th>\n",
       "      <td>ddd</td>\n",
       "      <td>DDD</td>\n",
       "      <td>X4</td>\n",
       "      <td>Y4</td>\n",
       "    </tr>\n",
       "    <tr>\n",
       "      <th>4</th>\n",
       "      <td>eee</td>\n",
       "      <td>EEE</td>\n",
       "      <td>X5</td>\n",
       "      <td>Y5</td>\n",
       "    </tr>\n",
       "    <tr>\n",
       "      <th>5</th>\n",
       "      <td>fff</td>\n",
       "      <td>FFF</td>\n",
       "      <td>X6</td>\n",
       "      <td>Y6</td>\n",
       "    </tr>\n",
       "  </tbody>\n",
       "</table>\n",
       "</div>"
      ],
      "text/plain": [
       "   AAA  BBB CCC DDD\n",
       "0  aaa  AAA  X1  Y1\n",
       "1  bbb  BBB  X2  Y2\n",
       "3  ddd  DDD  X4  Y4\n",
       "4  eee  EEE  X5  Y5\n",
       "5  fff  FFF  X6  Y6"
      ]
     },
     "execution_count": 57,
     "metadata": {},
     "output_type": "execute_result"
    }
   ],
   "source": [
    "df.columns=['AAA','BBB','CCC','DDD']\n",
    "df"
   ]
  },
  {
   "cell_type": "markdown",
   "id": "c9b20533-f915-4eea-b9d7-bc1cc2755066",
   "metadata": {},
   "source": [
    "##### 列名・行名の変更"
   ]
  },
  {
   "cell_type": "code",
   "execution_count": 58,
   "id": "d48da2c1-67f7-4675-a927-0d518184e02f",
   "metadata": {},
   "outputs": [
    {
     "data": {
      "text/html": [
       "<div>\n",
       "<style scoped>\n",
       "    .dataframe tbody tr th:only-of-type {\n",
       "        vertical-align: middle;\n",
       "    }\n",
       "\n",
       "    .dataframe tbody tr th {\n",
       "        vertical-align: top;\n",
       "    }\n",
       "\n",
       "    .dataframe thead th {\n",
       "        text-align: right;\n",
       "    }\n",
       "</style>\n",
       "<table border=\"1\" class=\"dataframe\">\n",
       "  <thead>\n",
       "    <tr style=\"text-align: right;\">\n",
       "      <th></th>\n",
       "      <th>AAA</th>\n",
       "      <th>BBB</th>\n",
       "      <th>CCC</th>\n",
       "      <th>XXX</th>\n",
       "    </tr>\n",
       "  </thead>\n",
       "  <tbody>\n",
       "    <tr>\n",
       "      <th>0</th>\n",
       "      <td>aaa</td>\n",
       "      <td>AAA</td>\n",
       "      <td>X1</td>\n",
       "      <td>Y1</td>\n",
       "    </tr>\n",
       "    <tr>\n",
       "      <th>1</th>\n",
       "      <td>bbb</td>\n",
       "      <td>BBB</td>\n",
       "      <td>X2</td>\n",
       "      <td>Y2</td>\n",
       "    </tr>\n",
       "    <tr>\n",
       "      <th>3</th>\n",
       "      <td>ddd</td>\n",
       "      <td>DDD</td>\n",
       "      <td>X4</td>\n",
       "      <td>Y4</td>\n",
       "    </tr>\n",
       "    <tr>\n",
       "      <th>4</th>\n",
       "      <td>eee</td>\n",
       "      <td>EEE</td>\n",
       "      <td>X5</td>\n",
       "      <td>Y5</td>\n",
       "    </tr>\n",
       "    <tr>\n",
       "      <th>hoge</th>\n",
       "      <td>fff</td>\n",
       "      <td>FFF</td>\n",
       "      <td>X6</td>\n",
       "      <td>Y6</td>\n",
       "    </tr>\n",
       "  </tbody>\n",
       "</table>\n",
       "</div>"
      ],
      "text/plain": [
       "      AAA  BBB CCC XXX\n",
       "0     aaa  AAA  X1  Y1\n",
       "1     bbb  BBB  X2  Y2\n",
       "3     ddd  DDD  X4  Y4\n",
       "4     eee  EEE  X5  Y5\n",
       "hoge  fff  FFF  X6  Y6"
      ]
     },
     "execution_count": 58,
     "metadata": {},
     "output_type": "execute_result"
    }
   ],
   "source": [
    "df=df.rename(columns={'DDD': 'XXX'}, index={5: 'hoge'})\n",
    "df"
   ]
  },
  {
   "cell_type": "markdown",
   "id": "c3564b17-8efc-42d8-b6c2-bfbcec59f3e0",
   "metadata": {},
   "source": [
    "#### 列値の一括変更\n",
    "列値を％に単位変更する（100倍する）などの一括変更。"
   ]
  },
  {
   "cell_type": "code",
   "execution_count": 59,
   "id": "5d23bea8-7b9d-4180-b051-40df062b2393",
   "metadata": {},
   "outputs": [
    {
     "data": {
      "text/html": [
       "<div>\n",
       "<style scoped>\n",
       "    .dataframe tbody tr th:only-of-type {\n",
       "        vertical-align: middle;\n",
       "    }\n",
       "\n",
       "    .dataframe tbody tr th {\n",
       "        vertical-align: top;\n",
       "    }\n",
       "\n",
       "    .dataframe thead th {\n",
       "        text-align: right;\n",
       "    }\n",
       "</style>\n",
       "<table border=\"1\" class=\"dataframe\">\n",
       "  <thead>\n",
       "    <tr style=\"text-align: right;\">\n",
       "      <th></th>\n",
       "      <th>xxx</th>\n",
       "      <th>yyy</th>\n",
       "      <th>zzz</th>\n",
       "    </tr>\n",
       "  </thead>\n",
       "  <tbody>\n",
       "    <tr>\n",
       "      <th>0</th>\n",
       "      <td>aaa</td>\n",
       "      <td>20</td>\n",
       "      <td>AAA</td>\n",
       "    </tr>\n",
       "    <tr>\n",
       "      <th>1</th>\n",
       "      <td>bbb</td>\n",
       "      <td>34</td>\n",
       "      <td>BBB</td>\n",
       "    </tr>\n",
       "    <tr>\n",
       "      <th>2</th>\n",
       "      <td>ccc</td>\n",
       "      <td>50</td>\n",
       "      <td>CCC</td>\n",
       "    </tr>\n",
       "    <tr>\n",
       "      <th>3</th>\n",
       "      <td>ddd</td>\n",
       "      <td>12</td>\n",
       "      <td>DDD</td>\n",
       "    </tr>\n",
       "    <tr>\n",
       "      <th>4</th>\n",
       "      <td>eee</td>\n",
       "      <td>62</td>\n",
       "      <td>EEE</td>\n",
       "    </tr>\n",
       "    <tr>\n",
       "      <th>5</th>\n",
       "      <td>fff</td>\n",
       "      <td>22</td>\n",
       "      <td>FFF</td>\n",
       "    </tr>\n",
       "  </tbody>\n",
       "</table>\n",
       "</div>"
      ],
      "text/plain": [
       "   xxx  yyy  zzz\n",
       "0  aaa   20  AAA\n",
       "1  bbb   34  BBB\n",
       "2  ccc   50  CCC\n",
       "3  ddd   12  DDD\n",
       "4  eee   62  EEE\n",
       "5  fff   22  FFF"
      ]
     },
     "execution_count": 59,
     "metadata": {},
     "output_type": "execute_result"
    }
   ],
   "source": [
    "df=pd.DataFrame({\n",
    "     'xxx': ['aaa', 'bbb', 'ccc', 'ddd', 'eee', 'fff'], # 長さ: 6\n",
    "     'yyy': [20, 34, 50, 12, 62, 22], # 長さ: 6\n",
    "     'zzz':['AAA', 'BBB', 'CCC', 'DDD', 'EEE', 'FFF'] # 長さ: 6\n",
    "})\n",
    "df"
   ]
  },
  {
   "cell_type": "code",
   "execution_count": 60,
   "id": "ef42cc2d-d19f-4885-a821-4f7e22fa3f25",
   "metadata": {},
   "outputs": [
    {
     "data": {
      "text/html": [
       "<div>\n",
       "<style scoped>\n",
       "    .dataframe tbody tr th:only-of-type {\n",
       "        vertical-align: middle;\n",
       "    }\n",
       "\n",
       "    .dataframe tbody tr th {\n",
       "        vertical-align: top;\n",
       "    }\n",
       "\n",
       "    .dataframe thead th {\n",
       "        text-align: right;\n",
       "    }\n",
       "</style>\n",
       "<table border=\"1\" class=\"dataframe\">\n",
       "  <thead>\n",
       "    <tr style=\"text-align: right;\">\n",
       "      <th></th>\n",
       "      <th>xxx</th>\n",
       "      <th>yyy</th>\n",
       "      <th>zzz</th>\n",
       "    </tr>\n",
       "  </thead>\n",
       "  <tbody>\n",
       "    <tr>\n",
       "      <th>0</th>\n",
       "      <td>aaa</td>\n",
       "      <td>2000</td>\n",
       "      <td>AAA</td>\n",
       "    </tr>\n",
       "    <tr>\n",
       "      <th>1</th>\n",
       "      <td>bbb</td>\n",
       "      <td>3400</td>\n",
       "      <td>BBB</td>\n",
       "    </tr>\n",
       "    <tr>\n",
       "      <th>2</th>\n",
       "      <td>ccc</td>\n",
       "      <td>5000</td>\n",
       "      <td>CCC</td>\n",
       "    </tr>\n",
       "    <tr>\n",
       "      <th>3</th>\n",
       "      <td>ddd</td>\n",
       "      <td>1200</td>\n",
       "      <td>DDD</td>\n",
       "    </tr>\n",
       "    <tr>\n",
       "      <th>4</th>\n",
       "      <td>eee</td>\n",
       "      <td>6200</td>\n",
       "      <td>EEE</td>\n",
       "    </tr>\n",
       "    <tr>\n",
       "      <th>5</th>\n",
       "      <td>fff</td>\n",
       "      <td>2200</td>\n",
       "      <td>FFF</td>\n",
       "    </tr>\n",
       "  </tbody>\n",
       "</table>\n",
       "</div>"
      ],
      "text/plain": [
       "   xxx   yyy  zzz\n",
       "0  aaa  2000  AAA\n",
       "1  bbb  3400  BBB\n",
       "2  ccc  5000  CCC\n",
       "3  ddd  1200  DDD\n",
       "4  eee  6200  EEE\n",
       "5  fff  2200  FFF"
      ]
     },
     "execution_count": 60,
     "metadata": {},
     "output_type": "execute_result"
    }
   ],
   "source": [
    "df.iloc[:,1:2] = df.iloc[:,1:2] * 100\n",
    "df"
   ]
  },
  {
   "cell_type": "markdown",
   "id": "6dd77026-09c8-4f19-8a09-a69174db5630",
   "metadata": {},
   "source": [
    "#### 行列の入替（転置）"
   ]
  },
  {
   "cell_type": "code",
   "execution_count": 61,
   "id": "27d288f0-35fc-45a1-988c-726e6ffc5288",
   "metadata": {},
   "outputs": [
    {
     "data": {
      "text/html": [
       "<div>\n",
       "<style scoped>\n",
       "    .dataframe tbody tr th:only-of-type {\n",
       "        vertical-align: middle;\n",
       "    }\n",
       "\n",
       "    .dataframe tbody tr th {\n",
       "        vertical-align: top;\n",
       "    }\n",
       "\n",
       "    .dataframe thead th {\n",
       "        text-align: right;\n",
       "    }\n",
       "</style>\n",
       "<table border=\"1\" class=\"dataframe\">\n",
       "  <thead>\n",
       "    <tr style=\"text-align: right;\">\n",
       "      <th></th>\n",
       "      <th>0</th>\n",
       "      <th>1</th>\n",
       "      <th>2</th>\n",
       "      <th>3</th>\n",
       "      <th>4</th>\n",
       "      <th>5</th>\n",
       "    </tr>\n",
       "  </thead>\n",
       "  <tbody>\n",
       "    <tr>\n",
       "      <th>xxx</th>\n",
       "      <td>aaa</td>\n",
       "      <td>bbb</td>\n",
       "      <td>ccc</td>\n",
       "      <td>ddd</td>\n",
       "      <td>eee</td>\n",
       "      <td>fff</td>\n",
       "    </tr>\n",
       "    <tr>\n",
       "      <th>yyy</th>\n",
       "      <td>2000</td>\n",
       "      <td>3400</td>\n",
       "      <td>5000</td>\n",
       "      <td>1200</td>\n",
       "      <td>6200</td>\n",
       "      <td>2200</td>\n",
       "    </tr>\n",
       "    <tr>\n",
       "      <th>zzz</th>\n",
       "      <td>AAA</td>\n",
       "      <td>BBB</td>\n",
       "      <td>CCC</td>\n",
       "      <td>DDD</td>\n",
       "      <td>EEE</td>\n",
       "      <td>FFF</td>\n",
       "    </tr>\n",
       "  </tbody>\n",
       "</table>\n",
       "</div>"
      ],
      "text/plain": [
       "        0     1     2     3     4     5\n",
       "xxx   aaa   bbb   ccc   ddd   eee   fff\n",
       "yyy  2000  3400  5000  1200  6200  2200\n",
       "zzz   AAA   BBB   CCC   DDD   EEE   FFF"
      ]
     },
     "execution_count": 61,
     "metadata": {},
     "output_type": "execute_result"
    }
   ],
   "source": [
    "df.transpose()"
   ]
  },
  {
   "cell_type": "markdown",
   "id": "67ff2101-5d80-4d09-9c2f-77871e33a44c",
   "metadata": {},
   "source": [
    "#### inplace=True\n",
    "inplace=Trueを設定すると、元を変更する。  \n",
    "※ drop、rename、dropnaなどメソッドに指定できる。"
   ]
  },
  {
   "cell_type": "code",
   "execution_count": 62,
   "id": "beee29d6-63f4-47e4-8c9f-cb7f2588acea",
   "metadata": {},
   "outputs": [
    {
     "data": {
      "text/html": [
       "<div>\n",
       "<style scoped>\n",
       "    .dataframe tbody tr th:only-of-type {\n",
       "        vertical-align: middle;\n",
       "    }\n",
       "\n",
       "    .dataframe tbody tr th {\n",
       "        vertical-align: top;\n",
       "    }\n",
       "\n",
       "    .dataframe thead th {\n",
       "        text-align: right;\n",
       "    }\n",
       "</style>\n",
       "<table border=\"1\" class=\"dataframe\">\n",
       "  <thead>\n",
       "    <tr style=\"text-align: right;\">\n",
       "      <th></th>\n",
       "      <th>xxx</th>\n",
       "      <th>yyy</th>\n",
       "      <th>zzz</th>\n",
       "    </tr>\n",
       "  </thead>\n",
       "  <tbody>\n",
       "    <tr>\n",
       "      <th>0</th>\n",
       "      <td>aaa</td>\n",
       "      <td>2000</td>\n",
       "      <td>AAA</td>\n",
       "    </tr>\n",
       "    <tr>\n",
       "      <th>1</th>\n",
       "      <td>bbb</td>\n",
       "      <td>3400</td>\n",
       "      <td>BBB</td>\n",
       "    </tr>\n",
       "    <tr>\n",
       "      <th>2</th>\n",
       "      <td>ccc</td>\n",
       "      <td>5000</td>\n",
       "      <td>CCC</td>\n",
       "    </tr>\n",
       "    <tr>\n",
       "      <th>3</th>\n",
       "      <td>ddd</td>\n",
       "      <td>1200</td>\n",
       "      <td>DDD</td>\n",
       "    </tr>\n",
       "    <tr>\n",
       "      <th>4</th>\n",
       "      <td>eee</td>\n",
       "      <td>6200</td>\n",
       "      <td>EEE</td>\n",
       "    </tr>\n",
       "    <tr>\n",
       "      <th>5</th>\n",
       "      <td>fff</td>\n",
       "      <td>2200</td>\n",
       "      <td>FFF</td>\n",
       "    </tr>\n",
       "  </tbody>\n",
       "</table>\n",
       "</div>"
      ],
      "text/plain": [
       "   xxx   yyy  zzz\n",
       "0  aaa  2000  AAA\n",
       "1  bbb  3400  BBB\n",
       "2  ccc  5000  CCC\n",
       "3  ddd  1200  DDD\n",
       "4  eee  6200  EEE\n",
       "5  fff  2200  FFF"
      ]
     },
     "execution_count": 62,
     "metadata": {},
     "output_type": "execute_result"
    }
   ],
   "source": [
    "df.drop('yyy',axis=1)\n",
    "df # 元のデータに変更は反映されない。"
   ]
  },
  {
   "cell_type": "code",
   "execution_count": 63,
   "id": "5eec1a4e-e077-485c-98a1-c25072967f9b",
   "metadata": {},
   "outputs": [
    {
     "data": {
      "text/html": [
       "<div>\n",
       "<style scoped>\n",
       "    .dataframe tbody tr th:only-of-type {\n",
       "        vertical-align: middle;\n",
       "    }\n",
       "\n",
       "    .dataframe tbody tr th {\n",
       "        vertical-align: top;\n",
       "    }\n",
       "\n",
       "    .dataframe thead th {\n",
       "        text-align: right;\n",
       "    }\n",
       "</style>\n",
       "<table border=\"1\" class=\"dataframe\">\n",
       "  <thead>\n",
       "    <tr style=\"text-align: right;\">\n",
       "      <th></th>\n",
       "      <th>xxx</th>\n",
       "      <th>zzz</th>\n",
       "    </tr>\n",
       "  </thead>\n",
       "  <tbody>\n",
       "    <tr>\n",
       "      <th>0</th>\n",
       "      <td>aaa</td>\n",
       "      <td>AAA</td>\n",
       "    </tr>\n",
       "    <tr>\n",
       "      <th>1</th>\n",
       "      <td>bbb</td>\n",
       "      <td>BBB</td>\n",
       "    </tr>\n",
       "    <tr>\n",
       "      <th>2</th>\n",
       "      <td>ccc</td>\n",
       "      <td>CCC</td>\n",
       "    </tr>\n",
       "    <tr>\n",
       "      <th>3</th>\n",
       "      <td>ddd</td>\n",
       "      <td>DDD</td>\n",
       "    </tr>\n",
       "    <tr>\n",
       "      <th>4</th>\n",
       "      <td>eee</td>\n",
       "      <td>EEE</td>\n",
       "    </tr>\n",
       "    <tr>\n",
       "      <th>5</th>\n",
       "      <td>fff</td>\n",
       "      <td>FFF</td>\n",
       "    </tr>\n",
       "  </tbody>\n",
       "</table>\n",
       "</div>"
      ],
      "text/plain": [
       "   xxx  zzz\n",
       "0  aaa  AAA\n",
       "1  bbb  BBB\n",
       "2  ccc  CCC\n",
       "3  ddd  DDD\n",
       "4  eee  EEE\n",
       "5  fff  FFF"
      ]
     },
     "execution_count": 63,
     "metadata": {},
     "output_type": "execute_result"
    }
   ],
   "source": [
    "df.drop('yyy',axis=1,inplace=True)\n",
    "df # 元のデータに変更が反映される。"
   ]
  },
  {
   "cell_type": "markdown",
   "id": "3cf98eda-44e7-4b6f-9202-9e03b4182b61",
   "metadata": {
    "tags": []
   },
   "source": [
    "### 型変換"
   ]
  },
  {
   "cell_type": "markdown",
   "id": "90c88f96-2555-4dd4-8326-26756ad5d19c",
   "metadata": {
    "tags": []
   },
   "source": [
    "#### SS ⇔ DF型変換"
   ]
  },
  {
   "cell_type": "markdown",
   "id": "8e9dacd4-38e1-4b8d-9599-94064a6fd032",
   "metadata": {},
   "source": [
    "##### DF → SS\n",
    "DFのアクセスの所で幾らか説明済み。"
   ]
  },
  {
   "cell_type": "markdown",
   "id": "44a063c4-ab08-4db7-9a48-a6600d81b625",
   "metadata": {},
   "source": [
    "##### SS → DF "
   ]
  },
  {
   "cell_type": "code",
   "execution_count": 64,
   "id": "8d243d59-1466-47a1-951d-7a67ad804879",
   "metadata": {},
   "outputs": [
    {
     "data": {
      "text/html": [
       "<div>\n",
       "<style scoped>\n",
       "    .dataframe tbody tr th:only-of-type {\n",
       "        vertical-align: middle;\n",
       "    }\n",
       "\n",
       "    .dataframe tbody tr th {\n",
       "        vertical-align: top;\n",
       "    }\n",
       "\n",
       "    .dataframe thead th {\n",
       "        text-align: right;\n",
       "    }\n",
       "</style>\n",
       "<table border=\"1\" class=\"dataframe\">\n",
       "  <thead>\n",
       "    <tr style=\"text-align: right;\">\n",
       "      <th></th>\n",
       "      <th>0</th>\n",
       "    </tr>\n",
       "  </thead>\n",
       "  <tbody>\n",
       "    <tr>\n",
       "      <th>0</th>\n",
       "      <td>3</td>\n",
       "    </tr>\n",
       "    <tr>\n",
       "      <th>1</th>\n",
       "      <td>7</td>\n",
       "    </tr>\n",
       "    <tr>\n",
       "      <th>2</th>\n",
       "      <td>10</td>\n",
       "    </tr>\n",
       "    <tr>\n",
       "      <th>3</th>\n",
       "      <td>13</td>\n",
       "    </tr>\n",
       "  </tbody>\n",
       "</table>\n",
       "</div>"
      ],
      "text/plain": [
       "    0\n",
       "0   3\n",
       "1   7\n",
       "2  10\n",
       "3  13"
      ]
     },
     "execution_count": 64,
     "metadata": {},
     "output_type": "execute_result"
    }
   ],
   "source": [
    "df = pd.DataFrame(pd.Series([3,7,10,13]))\n",
    "df"
   ]
  },
  {
   "cell_type": "markdown",
   "id": "d12e0635-3bca-4a33-a0e4-a537711742f0",
   "metadata": {
    "tags": []
   },
   "source": [
    "#### NP ⇔ DF型変換"
   ]
  },
  {
   "cell_type": "markdown",
   "id": "f8311ad9-d98d-491a-99f0-c0aa983426ec",
   "metadata": {},
   "source": [
    "##### NP → DF\n",
    "[NumPyから](#NumPyから_)"
   ]
  },
  {
   "cell_type": "markdown",
   "id": "73c69170-a0b3-4ddf-9263-e8aa8e62c664",
   "metadata": {},
   "source": [
    "##### DF → NP "
   ]
  },
  {
   "cell_type": "markdown",
   "id": "15f410b5-f85a-4cf6-a139-6b92c2a140cf",
   "metadata": {},
   "source": [
    "###### np.arrayメソッド"
   ]
  },
  {
   "cell_type": "code",
   "execution_count": 65,
   "id": "56be0bc7-7175-4538-b795-e3aa89c8aacf",
   "metadata": {},
   "outputs": [
    {
     "data": {
      "text/plain": [
       "array([[ 3],\n",
       "       [ 7],\n",
       "       [10],\n",
       "       [13]])"
      ]
     },
     "execution_count": 65,
     "metadata": {},
     "output_type": "execute_result"
    }
   ],
   "source": [
    "np_arr=np.array(df)\n",
    "np_arr"
   ]
  },
  {
   "cell_type": "markdown",
   "id": "cbe454b9-3aee-4290-afdf-b43aa4916f79",
   "metadata": {},
   "source": [
    "###### df.valuesプロパティ"
   ]
  },
  {
   "cell_type": "code",
   "execution_count": 66,
   "id": "c2657464-56d3-4ea2-b05b-144a513f18d0",
   "metadata": {},
   "outputs": [
    {
     "data": {
      "text/plain": [
       "array([[ 3],\n",
       "       [ 7],\n",
       "       [10],\n",
       "       [13]])"
      ]
     },
     "execution_count": 66,
     "metadata": {},
     "output_type": "execute_result"
    }
   ],
   "source": [
    "np_arr=df.values\n",
    "np_arr"
   ]
  },
  {
   "cell_type": "markdown",
   "id": "95b343ac-86e3-460a-910f-083fd2c86981",
   "metadata": {
    "tags": []
   },
   "source": [
    "### 集計操作"
   ]
  },
  {
   "cell_type": "markdown",
   "id": "a50aa894-cc19-40f0-8a56-ba92d2ebb265",
   "metadata": {},
   "source": [
    "#### 行方向に集計 "
   ]
  },
  {
   "cell_type": "code",
   "execution_count": 67,
   "id": "9e65df56-b77a-4198-906a-3b8fa4710e0c",
   "metadata": {},
   "outputs": [
    {
     "data": {
      "text/html": [
       "<div>\n",
       "<style scoped>\n",
       "    .dataframe tbody tr th:only-of-type {\n",
       "        vertical-align: middle;\n",
       "    }\n",
       "\n",
       "    .dataframe tbody tr th {\n",
       "        vertical-align: top;\n",
       "    }\n",
       "\n",
       "    .dataframe thead th {\n",
       "        text-align: right;\n",
       "    }\n",
       "</style>\n",
       "<table border=\"1\" class=\"dataframe\">\n",
       "  <thead>\n",
       "    <tr style=\"text-align: right;\">\n",
       "      <th></th>\n",
       "      <th>0</th>\n",
       "      <th>1</th>\n",
       "      <th>2</th>\n",
       "    </tr>\n",
       "  </thead>\n",
       "  <tbody>\n",
       "    <tr>\n",
       "      <th>0</th>\n",
       "      <td>0</td>\n",
       "      <td>10</td>\n",
       "      <td>20</td>\n",
       "    </tr>\n",
       "    <tr>\n",
       "      <th>1</th>\n",
       "      <td>1</td>\n",
       "      <td>11</td>\n",
       "      <td>21</td>\n",
       "    </tr>\n",
       "    <tr>\n",
       "      <th>2</th>\n",
       "      <td>2</td>\n",
       "      <td>12</td>\n",
       "      <td>22</td>\n",
       "    </tr>\n",
       "    <tr>\n",
       "      <th>3</th>\n",
       "      <td>3</td>\n",
       "      <td>13</td>\n",
       "      <td>23</td>\n",
       "    </tr>\n",
       "    <tr>\n",
       "      <th>4</th>\n",
       "      <td>4</td>\n",
       "      <td>14</td>\n",
       "      <td>24</td>\n",
       "    </tr>\n",
       "    <tr>\n",
       "      <th>5</th>\n",
       "      <td>5</td>\n",
       "      <td>15</td>\n",
       "      <td>25</td>\n",
       "    </tr>\n",
       "    <tr>\n",
       "      <th>6</th>\n",
       "      <td>6</td>\n",
       "      <td>16</td>\n",
       "      <td>26</td>\n",
       "    </tr>\n",
       "    <tr>\n",
       "      <th>7</th>\n",
       "      <td>7</td>\n",
       "      <td>17</td>\n",
       "      <td>27</td>\n",
       "    </tr>\n",
       "    <tr>\n",
       "      <th>8</th>\n",
       "      <td>8</td>\n",
       "      <td>18</td>\n",
       "      <td>28</td>\n",
       "    </tr>\n",
       "    <tr>\n",
       "      <th>9</th>\n",
       "      <td>9</td>\n",
       "      <td>19</td>\n",
       "      <td>29</td>\n",
       "    </tr>\n",
       "  </tbody>\n",
       "</table>\n",
       "</div>"
      ],
      "text/plain": [
       "   0   1   2\n",
       "0  0  10  20\n",
       "1  1  11  21\n",
       "2  2  12  22\n",
       "3  3  13  23\n",
       "4  4  14  24\n",
       "5  5  15  25\n",
       "6  6  16  26\n",
       "7  7  17  27\n",
       "8  8  18  28\n",
       "9  9  19  29"
      ]
     },
     "execution_count": 67,
     "metadata": {},
     "output_type": "execute_result"
    }
   ],
   "source": [
    "df=pd.DataFrame({\n",
    "    '0': ['00', '01', '02', '03', '04', '05', '06', '07', '08', '09'], # 長さ: 10\n",
    "    '1': ['10', '11', '12', '13', '14', '15', '16', '17', '18', '19'], # 長さ: 10\n",
    "    '2': ['20', '21', '22', '23', '24', '25', '26', '27', '28', '29'] # 長さ: 10\n",
    "})\n",
    "df=df.astype('int')\n",
    "df"
   ]
  },
  {
   "cell_type": "markdown",
   "id": "24f48190-82e9-4a74-a174-7feb45791163",
   "metadata": {},
   "source": [
    "##### 1～2列を行集計（スライシングでもOK"
   ]
  },
  {
   "cell_type": "code",
   "execution_count": 68,
   "id": "d002c18b-24f9-482a-99d4-06ae270e2d41",
   "metadata": {},
   "outputs": [
    {
     "data": {
      "text/html": [
       "<div>\n",
       "<style scoped>\n",
       "    .dataframe tbody tr th:only-of-type {\n",
       "        vertical-align: middle;\n",
       "    }\n",
       "\n",
       "    .dataframe tbody tr th {\n",
       "        vertical-align: top;\n",
       "    }\n",
       "\n",
       "    .dataframe thead th {\n",
       "        text-align: right;\n",
       "    }\n",
       "</style>\n",
       "<table border=\"1\" class=\"dataframe\">\n",
       "  <thead>\n",
       "    <tr style=\"text-align: right;\">\n",
       "      <th></th>\n",
       "      <th>sum</th>\n",
       "    </tr>\n",
       "  </thead>\n",
       "  <tbody>\n",
       "    <tr>\n",
       "      <th>1</th>\n",
       "      <td>145</td>\n",
       "    </tr>\n",
       "    <tr>\n",
       "      <th>2</th>\n",
       "      <td>245</td>\n",
       "    </tr>\n",
       "  </tbody>\n",
       "</table>\n",
       "</div>"
      ],
      "text/plain": [
       "   sum\n",
       "1  145\n",
       "2  245"
      ]
     },
     "execution_count": 68,
     "metadata": {},
     "output_type": "execute_result"
    }
   ],
   "source": [
    "# 集計\n",
    "ss_sum = df.iloc[:,[1,2]].sum(axis=0)\n",
    "# 型変換\n",
    "df_sum = pd.DataFrame(ss_sum)\n",
    "# 列名変更\n",
    "df_sum = df_sum.rename(columns={0: 'sum'})\n",
    "df_sum"
   ]
  },
  {
   "cell_type": "markdown",
   "id": "f0cdfa34-704f-408c-9745-ecb096cda226",
   "metadata": {},
   "source": [
    "##### 集計結果を結合"
   ]
  },
  {
   "cell_type": "code",
   "execution_count": 69,
   "id": "12a3e23f-12df-41a9-be0f-2355fd2ba7c8",
   "metadata": {},
   "outputs": [
    {
     "data": {
      "text/html": [
       "<div>\n",
       "<style scoped>\n",
       "    .dataframe tbody tr th:only-of-type {\n",
       "        vertical-align: middle;\n",
       "    }\n",
       "\n",
       "    .dataframe tbody tr th {\n",
       "        vertical-align: top;\n",
       "    }\n",
       "\n",
       "    .dataframe thead th {\n",
       "        text-align: right;\n",
       "    }\n",
       "</style>\n",
       "<table border=\"1\" class=\"dataframe\">\n",
       "  <thead>\n",
       "    <tr style=\"text-align: right;\">\n",
       "      <th></th>\n",
       "      <th>0</th>\n",
       "      <th>1</th>\n",
       "      <th>2</th>\n",
       "    </tr>\n",
       "  </thead>\n",
       "  <tbody>\n",
       "    <tr>\n",
       "      <th>0</th>\n",
       "      <td>0.0</td>\n",
       "      <td>10</td>\n",
       "      <td>20</td>\n",
       "    </tr>\n",
       "    <tr>\n",
       "      <th>1</th>\n",
       "      <td>1.0</td>\n",
       "      <td>11</td>\n",
       "      <td>21</td>\n",
       "    </tr>\n",
       "    <tr>\n",
       "      <th>2</th>\n",
       "      <td>2.0</td>\n",
       "      <td>12</td>\n",
       "      <td>22</td>\n",
       "    </tr>\n",
       "    <tr>\n",
       "      <th>3</th>\n",
       "      <td>3.0</td>\n",
       "      <td>13</td>\n",
       "      <td>23</td>\n",
       "    </tr>\n",
       "    <tr>\n",
       "      <th>4</th>\n",
       "      <td>4.0</td>\n",
       "      <td>14</td>\n",
       "      <td>24</td>\n",
       "    </tr>\n",
       "    <tr>\n",
       "      <th>5</th>\n",
       "      <td>5.0</td>\n",
       "      <td>15</td>\n",
       "      <td>25</td>\n",
       "    </tr>\n",
       "    <tr>\n",
       "      <th>6</th>\n",
       "      <td>6.0</td>\n",
       "      <td>16</td>\n",
       "      <td>26</td>\n",
       "    </tr>\n",
       "    <tr>\n",
       "      <th>7</th>\n",
       "      <td>7.0</td>\n",
       "      <td>17</td>\n",
       "      <td>27</td>\n",
       "    </tr>\n",
       "    <tr>\n",
       "      <th>8</th>\n",
       "      <td>8.0</td>\n",
       "      <td>18</td>\n",
       "      <td>28</td>\n",
       "    </tr>\n",
       "    <tr>\n",
       "      <th>9</th>\n",
       "      <td>9.0</td>\n",
       "      <td>19</td>\n",
       "      <td>29</td>\n",
       "    </tr>\n",
       "    <tr>\n",
       "      <th>sum</th>\n",
       "      <td>NaN</td>\n",
       "      <td>145</td>\n",
       "      <td>245</td>\n",
       "    </tr>\n",
       "  </tbody>\n",
       "</table>\n",
       "</div>"
      ],
      "text/plain": [
       "       0    1    2\n",
       "0    0.0   10   20\n",
       "1    1.0   11   21\n",
       "2    2.0   12   22\n",
       "3    3.0   13   23\n",
       "4    4.0   14   24\n",
       "5    5.0   15   25\n",
       "6    6.0   16   26\n",
       "7    7.0   17   27\n",
       "8    8.0   18   28\n",
       "9    9.0   19   29\n",
       "sum  NaN  145  245"
      ]
     },
     "execution_count": 69,
     "metadata": {},
     "output_type": "execute_result"
    }
   ],
   "source": [
    "df=pd.concat([df,df_sum.transpose()],axis=0)\n",
    "df"
   ]
  },
  {
   "cell_type": "markdown",
   "id": "36b08b3a-7146-445d-9935-ca8b5ec45322",
   "metadata": {},
   "source": [
    "#### 列方向に集系 "
   ]
  },
  {
   "cell_type": "code",
   "execution_count": 70,
   "id": "30cf8bc8-f6da-404f-950b-8a0ca5160c72",
   "metadata": {},
   "outputs": [
    {
     "data": {
      "text/html": [
       "<div>\n",
       "<style scoped>\n",
       "    .dataframe tbody tr th:only-of-type {\n",
       "        vertical-align: middle;\n",
       "    }\n",
       "\n",
       "    .dataframe tbody tr th {\n",
       "        vertical-align: top;\n",
       "    }\n",
       "\n",
       "    .dataframe thead th {\n",
       "        text-align: right;\n",
       "    }\n",
       "</style>\n",
       "<table border=\"1\" class=\"dataframe\">\n",
       "  <thead>\n",
       "    <tr style=\"text-align: right;\">\n",
       "      <th></th>\n",
       "      <th>0</th>\n",
       "      <th>1</th>\n",
       "      <th>2</th>\n",
       "    </tr>\n",
       "  </thead>\n",
       "  <tbody>\n",
       "    <tr>\n",
       "      <th>0</th>\n",
       "      <td>0</td>\n",
       "      <td>10</td>\n",
       "      <td>20</td>\n",
       "    </tr>\n",
       "    <tr>\n",
       "      <th>1</th>\n",
       "      <td>1</td>\n",
       "      <td>11</td>\n",
       "      <td>21</td>\n",
       "    </tr>\n",
       "    <tr>\n",
       "      <th>2</th>\n",
       "      <td>2</td>\n",
       "      <td>12</td>\n",
       "      <td>22</td>\n",
       "    </tr>\n",
       "    <tr>\n",
       "      <th>3</th>\n",
       "      <td>3</td>\n",
       "      <td>13</td>\n",
       "      <td>23</td>\n",
       "    </tr>\n",
       "    <tr>\n",
       "      <th>4</th>\n",
       "      <td>4</td>\n",
       "      <td>14</td>\n",
       "      <td>24</td>\n",
       "    </tr>\n",
       "    <tr>\n",
       "      <th>5</th>\n",
       "      <td>5</td>\n",
       "      <td>15</td>\n",
       "      <td>25</td>\n",
       "    </tr>\n",
       "    <tr>\n",
       "      <th>6</th>\n",
       "      <td>6</td>\n",
       "      <td>16</td>\n",
       "      <td>26</td>\n",
       "    </tr>\n",
       "    <tr>\n",
       "      <th>7</th>\n",
       "      <td>7</td>\n",
       "      <td>17</td>\n",
       "      <td>27</td>\n",
       "    </tr>\n",
       "    <tr>\n",
       "      <th>8</th>\n",
       "      <td>8</td>\n",
       "      <td>18</td>\n",
       "      <td>28</td>\n",
       "    </tr>\n",
       "    <tr>\n",
       "      <th>9</th>\n",
       "      <td>9</td>\n",
       "      <td>19</td>\n",
       "      <td>29</td>\n",
       "    </tr>\n",
       "  </tbody>\n",
       "</table>\n",
       "</div>"
      ],
      "text/plain": [
       "   0   1   2\n",
       "0  0  10  20\n",
       "1  1  11  21\n",
       "2  2  12  22\n",
       "3  3  13  23\n",
       "4  4  14  24\n",
       "5  5  15  25\n",
       "6  6  16  26\n",
       "7  7  17  27\n",
       "8  8  18  28\n",
       "9  9  19  29"
      ]
     },
     "execution_count": 70,
     "metadata": {},
     "output_type": "execute_result"
    }
   ],
   "source": [
    "df=pd.DataFrame({\n",
    "    '0': ['00', '01', '02', '03', '04', '05', '06', '07', '08', '09'], # 長さ: 10\n",
    "    '1': ['10', '11', '12', '13', '14', '15', '16', '17', '18', '19'], # 長さ: 10\n",
    "    '2': ['20', '21', '22', '23', '24', '25', '26', '27', '28', '29'] # 長さ: 10\n",
    "})\n",
    "df=df.astype('int')\n",
    "df"
   ]
  },
  {
   "cell_type": "markdown",
   "id": "47a4fd82-9bf4-45e1-bc7a-507384f858a5",
   "metadata": {},
   "source": [
    "##### 1～2列を列集計（スライシングでもOK"
   ]
  },
  {
   "cell_type": "code",
   "execution_count": 71,
   "id": "e4186b2f-28c7-4aa1-b965-cdb60c13f62b",
   "metadata": {},
   "outputs": [
    {
     "data": {
      "text/html": [
       "<div>\n",
       "<style scoped>\n",
       "    .dataframe tbody tr th:only-of-type {\n",
       "        vertical-align: middle;\n",
       "    }\n",
       "\n",
       "    .dataframe tbody tr th {\n",
       "        vertical-align: top;\n",
       "    }\n",
       "\n",
       "    .dataframe thead th {\n",
       "        text-align: right;\n",
       "    }\n",
       "</style>\n",
       "<table border=\"1\" class=\"dataframe\">\n",
       "  <thead>\n",
       "    <tr style=\"text-align: right;\">\n",
       "      <th></th>\n",
       "      <th>sum</th>\n",
       "    </tr>\n",
       "  </thead>\n",
       "  <tbody>\n",
       "    <tr>\n",
       "      <th>0</th>\n",
       "      <td>30</td>\n",
       "    </tr>\n",
       "    <tr>\n",
       "      <th>1</th>\n",
       "      <td>32</td>\n",
       "    </tr>\n",
       "    <tr>\n",
       "      <th>2</th>\n",
       "      <td>34</td>\n",
       "    </tr>\n",
       "    <tr>\n",
       "      <th>3</th>\n",
       "      <td>36</td>\n",
       "    </tr>\n",
       "    <tr>\n",
       "      <th>4</th>\n",
       "      <td>38</td>\n",
       "    </tr>\n",
       "    <tr>\n",
       "      <th>5</th>\n",
       "      <td>40</td>\n",
       "    </tr>\n",
       "    <tr>\n",
       "      <th>6</th>\n",
       "      <td>42</td>\n",
       "    </tr>\n",
       "    <tr>\n",
       "      <th>7</th>\n",
       "      <td>44</td>\n",
       "    </tr>\n",
       "    <tr>\n",
       "      <th>8</th>\n",
       "      <td>46</td>\n",
       "    </tr>\n",
       "    <tr>\n",
       "      <th>9</th>\n",
       "      <td>48</td>\n",
       "    </tr>\n",
       "  </tbody>\n",
       "</table>\n",
       "</div>"
      ],
      "text/plain": [
       "   sum\n",
       "0   30\n",
       "1   32\n",
       "2   34\n",
       "3   36\n",
       "4   38\n",
       "5   40\n",
       "6   42\n",
       "7   44\n",
       "8   46\n",
       "9   48"
      ]
     },
     "execution_count": 71,
     "metadata": {},
     "output_type": "execute_result"
    }
   ],
   "source": [
    "# 集計\n",
    "ss_sum = df.iloc[:,[1,2]].sum(axis=1)\n",
    "# 型変換\n",
    "df_sum = pd.DataFrame(ss_sum)\n",
    "# 列名変更\n",
    "df_sum = df_sum.rename(columns={0: 'sum'})\n",
    "df_sum"
   ]
  },
  {
   "cell_type": "markdown",
   "id": "69124ae1-effd-46aa-8b19-3c667bebfbb6",
   "metadata": {},
   "source": [
    "##### 集計結果を結合"
   ]
  },
  {
   "cell_type": "code",
   "execution_count": 72,
   "id": "33e1a578-133a-4d22-9f6f-1a67b7480301",
   "metadata": {},
   "outputs": [
    {
     "data": {
      "text/html": [
       "<div>\n",
       "<style scoped>\n",
       "    .dataframe tbody tr th:only-of-type {\n",
       "        vertical-align: middle;\n",
       "    }\n",
       "\n",
       "    .dataframe tbody tr th {\n",
       "        vertical-align: top;\n",
       "    }\n",
       "\n",
       "    .dataframe thead th {\n",
       "        text-align: right;\n",
       "    }\n",
       "</style>\n",
       "<table border=\"1\" class=\"dataframe\">\n",
       "  <thead>\n",
       "    <tr style=\"text-align: right;\">\n",
       "      <th></th>\n",
       "      <th>0</th>\n",
       "      <th>1</th>\n",
       "      <th>2</th>\n",
       "      <th>sum</th>\n",
       "    </tr>\n",
       "  </thead>\n",
       "  <tbody>\n",
       "    <tr>\n",
       "      <th>0</th>\n",
       "      <td>0</td>\n",
       "      <td>10</td>\n",
       "      <td>20</td>\n",
       "      <td>30</td>\n",
       "    </tr>\n",
       "    <tr>\n",
       "      <th>1</th>\n",
       "      <td>1</td>\n",
       "      <td>11</td>\n",
       "      <td>21</td>\n",
       "      <td>32</td>\n",
       "    </tr>\n",
       "    <tr>\n",
       "      <th>2</th>\n",
       "      <td>2</td>\n",
       "      <td>12</td>\n",
       "      <td>22</td>\n",
       "      <td>34</td>\n",
       "    </tr>\n",
       "    <tr>\n",
       "      <th>3</th>\n",
       "      <td>3</td>\n",
       "      <td>13</td>\n",
       "      <td>23</td>\n",
       "      <td>36</td>\n",
       "    </tr>\n",
       "    <tr>\n",
       "      <th>4</th>\n",
       "      <td>4</td>\n",
       "      <td>14</td>\n",
       "      <td>24</td>\n",
       "      <td>38</td>\n",
       "    </tr>\n",
       "    <tr>\n",
       "      <th>5</th>\n",
       "      <td>5</td>\n",
       "      <td>15</td>\n",
       "      <td>25</td>\n",
       "      <td>40</td>\n",
       "    </tr>\n",
       "    <tr>\n",
       "      <th>6</th>\n",
       "      <td>6</td>\n",
       "      <td>16</td>\n",
       "      <td>26</td>\n",
       "      <td>42</td>\n",
       "    </tr>\n",
       "    <tr>\n",
       "      <th>7</th>\n",
       "      <td>7</td>\n",
       "      <td>17</td>\n",
       "      <td>27</td>\n",
       "      <td>44</td>\n",
       "    </tr>\n",
       "    <tr>\n",
       "      <th>8</th>\n",
       "      <td>8</td>\n",
       "      <td>18</td>\n",
       "      <td>28</td>\n",
       "      <td>46</td>\n",
       "    </tr>\n",
       "    <tr>\n",
       "      <th>9</th>\n",
       "      <td>9</td>\n",
       "      <td>19</td>\n",
       "      <td>29</td>\n",
       "      <td>48</td>\n",
       "    </tr>\n",
       "  </tbody>\n",
       "</table>\n",
       "</div>"
      ],
      "text/plain": [
       "   0   1   2  sum\n",
       "0  0  10  20   30\n",
       "1  1  11  21   32\n",
       "2  2  12  22   34\n",
       "3  3  13  23   36\n",
       "4  4  14  24   38\n",
       "5  5  15  25   40\n",
       "6  6  16  26   42\n",
       "7  7  17  27   44\n",
       "8  8  18  28   46\n",
       "9  9  19  29   48"
      ]
     },
     "execution_count": 72,
     "metadata": {},
     "output_type": "execute_result"
    }
   ],
   "source": [
    "df=pd.concat([df,df_sum],axis=1)\n",
    "df"
   ]
  },
  {
   "cell_type": "markdown",
   "id": "8f795802-4639-4058-8d6d-ec09dac17fd4",
   "metadata": {
    "tags": []
   },
   "source": [
    "## CRISP-DM\n",
    "DataFrameを用いた\n",
    "\n",
    "- データの理解\n",
    "- データの準備\n",
    "\n",
    "あたりの処理。"
   ]
  },
  {
   "cell_type": "markdown",
   "id": "d9c29ba2-1151-48e3-9c99-7ec6e9a1c309",
   "metadata": {
    "tags": []
   },
   "source": [
    "### データの理解"
   ]
  },
  {
   "cell_type": "code",
   "execution_count": 73,
   "id": "09c40287-39df-4a2c-ad88-868888fd2818",
   "metadata": {},
   "outputs": [
    {
     "data": {
      "text/html": [
       "<div>\n",
       "<style scoped>\n",
       "    .dataframe tbody tr th:only-of-type {\n",
       "        vertical-align: middle;\n",
       "    }\n",
       "\n",
       "    .dataframe tbody tr th {\n",
       "        vertical-align: top;\n",
       "    }\n",
       "\n",
       "    .dataframe thead th {\n",
       "        text-align: right;\n",
       "    }\n",
       "</style>\n",
       "<table border=\"1\" class=\"dataframe\">\n",
       "  <thead>\n",
       "    <tr style=\"text-align: right;\">\n",
       "      <th></th>\n",
       "      <th>0</th>\n",
       "      <th>1</th>\n",
       "      <th>2</th>\n",
       "      <th>sum</th>\n",
       "    </tr>\n",
       "  </thead>\n",
       "  <tbody>\n",
       "    <tr>\n",
       "      <th>0</th>\n",
       "      <td>0</td>\n",
       "      <td>10</td>\n",
       "      <td>20</td>\n",
       "      <td>30</td>\n",
       "    </tr>\n",
       "    <tr>\n",
       "      <th>1</th>\n",
       "      <td>1</td>\n",
       "      <td>11</td>\n",
       "      <td>21</td>\n",
       "      <td>32</td>\n",
       "    </tr>\n",
       "    <tr>\n",
       "      <th>2</th>\n",
       "      <td>2</td>\n",
       "      <td>12</td>\n",
       "      <td>22</td>\n",
       "      <td>34</td>\n",
       "    </tr>\n",
       "    <tr>\n",
       "      <th>3</th>\n",
       "      <td>3</td>\n",
       "      <td>13</td>\n",
       "      <td>23</td>\n",
       "      <td>36</td>\n",
       "    </tr>\n",
       "    <tr>\n",
       "      <th>4</th>\n",
       "      <td>4</td>\n",
       "      <td>14</td>\n",
       "      <td>24</td>\n",
       "      <td>38</td>\n",
       "    </tr>\n",
       "    <tr>\n",
       "      <th>5</th>\n",
       "      <td>5</td>\n",
       "      <td>15</td>\n",
       "      <td>25</td>\n",
       "      <td>40</td>\n",
       "    </tr>\n",
       "    <tr>\n",
       "      <th>6</th>\n",
       "      <td>6</td>\n",
       "      <td>16</td>\n",
       "      <td>26</td>\n",
       "      <td>42</td>\n",
       "    </tr>\n",
       "    <tr>\n",
       "      <th>7</th>\n",
       "      <td>7</td>\n",
       "      <td>17</td>\n",
       "      <td>27</td>\n",
       "      <td>44</td>\n",
       "    </tr>\n",
       "    <tr>\n",
       "      <th>8</th>\n",
       "      <td>8</td>\n",
       "      <td>18</td>\n",
       "      <td>28</td>\n",
       "      <td>46</td>\n",
       "    </tr>\n",
       "    <tr>\n",
       "      <th>9</th>\n",
       "      <td>9</td>\n",
       "      <td>19</td>\n",
       "      <td>29</td>\n",
       "      <td>48</td>\n",
       "    </tr>\n",
       "  </tbody>\n",
       "</table>\n",
       "</div>"
      ],
      "text/plain": [
       "   0   1   2  sum\n",
       "0  0  10  20   30\n",
       "1  1  11  21   32\n",
       "2  2  12  22   34\n",
       "3  3  13  23   36\n",
       "4  4  14  24   38\n",
       "5  5  15  25   40\n",
       "6  6  16  26   42\n",
       "7  7  17  27   44\n",
       "8  8  18  28   46\n",
       "9  9  19  29   48"
      ]
     },
     "execution_count": 73,
     "metadata": {},
     "output_type": "execute_result"
    }
   ],
   "source": [
    "df"
   ]
  },
  {
   "cell_type": "markdown",
   "id": "d4d41d70-9c3e-468e-bd10-0f876e298c25",
   "metadata": {},
   "source": [
    "#### 基本統計量"
   ]
  },
  {
   "cell_type": "code",
   "execution_count": 74,
   "id": "ee7245ee-7d11-4c29-9139-258a113d3ea4",
   "metadata": {},
   "outputs": [
    {
     "data": {
      "text/html": [
       "<div>\n",
       "<style scoped>\n",
       "    .dataframe tbody tr th:only-of-type {\n",
       "        vertical-align: middle;\n",
       "    }\n",
       "\n",
       "    .dataframe tbody tr th {\n",
       "        vertical-align: top;\n",
       "    }\n",
       "\n",
       "    .dataframe thead th {\n",
       "        text-align: right;\n",
       "    }\n",
       "</style>\n",
       "<table border=\"1\" class=\"dataframe\">\n",
       "  <thead>\n",
       "    <tr style=\"text-align: right;\">\n",
       "      <th></th>\n",
       "      <th>0</th>\n",
       "      <th>1</th>\n",
       "      <th>2</th>\n",
       "      <th>sum</th>\n",
       "    </tr>\n",
       "  </thead>\n",
       "  <tbody>\n",
       "    <tr>\n",
       "      <th>count</th>\n",
       "      <td>10.00000</td>\n",
       "      <td>10.00000</td>\n",
       "      <td>10.00000</td>\n",
       "      <td>10.000000</td>\n",
       "    </tr>\n",
       "    <tr>\n",
       "      <th>mean</th>\n",
       "      <td>4.50000</td>\n",
       "      <td>14.50000</td>\n",
       "      <td>24.50000</td>\n",
       "      <td>39.000000</td>\n",
       "    </tr>\n",
       "    <tr>\n",
       "      <th>std</th>\n",
       "      <td>3.02765</td>\n",
       "      <td>3.02765</td>\n",
       "      <td>3.02765</td>\n",
       "      <td>6.055301</td>\n",
       "    </tr>\n",
       "    <tr>\n",
       "      <th>min</th>\n",
       "      <td>0.00000</td>\n",
       "      <td>10.00000</td>\n",
       "      <td>20.00000</td>\n",
       "      <td>30.000000</td>\n",
       "    </tr>\n",
       "    <tr>\n",
       "      <th>25%</th>\n",
       "      <td>2.25000</td>\n",
       "      <td>12.25000</td>\n",
       "      <td>22.25000</td>\n",
       "      <td>34.500000</td>\n",
       "    </tr>\n",
       "    <tr>\n",
       "      <th>50%</th>\n",
       "      <td>4.50000</td>\n",
       "      <td>14.50000</td>\n",
       "      <td>24.50000</td>\n",
       "      <td>39.000000</td>\n",
       "    </tr>\n",
       "    <tr>\n",
       "      <th>75%</th>\n",
       "      <td>6.75000</td>\n",
       "      <td>16.75000</td>\n",
       "      <td>26.75000</td>\n",
       "      <td>43.500000</td>\n",
       "    </tr>\n",
       "    <tr>\n",
       "      <th>max</th>\n",
       "      <td>9.00000</td>\n",
       "      <td>19.00000</td>\n",
       "      <td>29.00000</td>\n",
       "      <td>48.000000</td>\n",
       "    </tr>\n",
       "  </tbody>\n",
       "</table>\n",
       "</div>"
      ],
      "text/plain": [
       "              0         1         2        sum\n",
       "count  10.00000  10.00000  10.00000  10.000000\n",
       "mean    4.50000  14.50000  24.50000  39.000000\n",
       "std     3.02765   3.02765   3.02765   6.055301\n",
       "min     0.00000  10.00000  20.00000  30.000000\n",
       "25%     2.25000  12.25000  22.25000  34.500000\n",
       "50%     4.50000  14.50000  24.50000  39.000000\n",
       "75%     6.75000  16.75000  26.75000  43.500000\n",
       "max     9.00000  19.00000  29.00000  48.000000"
      ]
     },
     "execution_count": 74,
     "metadata": {},
     "output_type": "execute_result"
    }
   ],
   "source": [
    "df.describe()"
   ]
  },
  {
   "cell_type": "code",
   "execution_count": 75,
   "id": "f56a6ac5-d95a-4550-ae43-13e5b69fc999",
   "metadata": {},
   "outputs": [
    {
     "data": {
      "text/html": [
       "<div>\n",
       "<style scoped>\n",
       "    .dataframe tbody tr th:only-of-type {\n",
       "        vertical-align: middle;\n",
       "    }\n",
       "\n",
       "    .dataframe tbody tr th {\n",
       "        vertical-align: top;\n",
       "    }\n",
       "\n",
       "    .dataframe thead th {\n",
       "        text-align: right;\n",
       "    }\n",
       "</style>\n",
       "<table border=\"1\" class=\"dataframe\">\n",
       "  <thead>\n",
       "    <tr style=\"text-align: right;\">\n",
       "      <th></th>\n",
       "      <th>0</th>\n",
       "      <th>1</th>\n",
       "      <th>2</th>\n",
       "      <th>sum</th>\n",
       "    </tr>\n",
       "  </thead>\n",
       "  <tbody>\n",
       "    <tr>\n",
       "      <th>count</th>\n",
       "      <td>10</td>\n",
       "      <td>10</td>\n",
       "      <td>10</td>\n",
       "      <td>10</td>\n",
       "    </tr>\n",
       "    <tr>\n",
       "      <th>mean</th>\n",
       "      <td>4</td>\n",
       "      <td>14</td>\n",
       "      <td>24</td>\n",
       "      <td>39</td>\n",
       "    </tr>\n",
       "    <tr>\n",
       "      <th>std</th>\n",
       "      <td>3</td>\n",
       "      <td>3</td>\n",
       "      <td>3</td>\n",
       "      <td>6</td>\n",
       "    </tr>\n",
       "    <tr>\n",
       "      <th>min</th>\n",
       "      <td>0</td>\n",
       "      <td>10</td>\n",
       "      <td>20</td>\n",
       "      <td>30</td>\n",
       "    </tr>\n",
       "    <tr>\n",
       "      <th>25%</th>\n",
       "      <td>2</td>\n",
       "      <td>12</td>\n",
       "      <td>22</td>\n",
       "      <td>34</td>\n",
       "    </tr>\n",
       "    <tr>\n",
       "      <th>50%</th>\n",
       "      <td>4</td>\n",
       "      <td>14</td>\n",
       "      <td>24</td>\n",
       "      <td>39</td>\n",
       "    </tr>\n",
       "    <tr>\n",
       "      <th>75%</th>\n",
       "      <td>6</td>\n",
       "      <td>16</td>\n",
       "      <td>26</td>\n",
       "      <td>43</td>\n",
       "    </tr>\n",
       "    <tr>\n",
       "      <th>max</th>\n",
       "      <td>9</td>\n",
       "      <td>19</td>\n",
       "      <td>29</td>\n",
       "      <td>48</td>\n",
       "    </tr>\n",
       "  </tbody>\n",
       "</table>\n",
       "</div>"
      ],
      "text/plain": [
       "        0   1   2  sum\n",
       "count  10  10  10   10\n",
       "mean    4  14  24   39\n",
       "std     3   3   3    6\n",
       "min     0  10  20   30\n",
       "25%     2  12  22   34\n",
       "50%     4  14  24   39\n",
       "75%     6  16  26   43\n",
       "max     9  19  29   48"
      ]
     },
     "execution_count": 75,
     "metadata": {},
     "output_type": "execute_result"
    }
   ],
   "source": [
    "# 小数点以下、切捨\n",
    "df.describe().astype(int)"
   ]
  },
  {
   "cell_type": "markdown",
   "id": "db68c67d-f12a-4564-9e4d-ccf322ac657e",
   "metadata": {},
   "source": [
    "#### 相関係数（相関行列）"
   ]
  },
  {
   "cell_type": "code",
   "execution_count": 76,
   "id": "4483009f-4eaa-49f6-a3ed-12e4bf3893ec",
   "metadata": {},
   "outputs": [
    {
     "data": {
      "text/html": [
       "<div>\n",
       "<style scoped>\n",
       "    .dataframe tbody tr th:only-of-type {\n",
       "        vertical-align: middle;\n",
       "    }\n",
       "\n",
       "    .dataframe tbody tr th {\n",
       "        vertical-align: top;\n",
       "    }\n",
       "\n",
       "    .dataframe thead th {\n",
       "        text-align: right;\n",
       "    }\n",
       "</style>\n",
       "<table border=\"1\" class=\"dataframe\">\n",
       "  <thead>\n",
       "    <tr style=\"text-align: right;\">\n",
       "      <th></th>\n",
       "      <th>0</th>\n",
       "      <th>1</th>\n",
       "      <th>2</th>\n",
       "      <th>sum</th>\n",
       "    </tr>\n",
       "  </thead>\n",
       "  <tbody>\n",
       "    <tr>\n",
       "      <th>0</th>\n",
       "      <td>1.0</td>\n",
       "      <td>1.0</td>\n",
       "      <td>1.0</td>\n",
       "      <td>1.0</td>\n",
       "    </tr>\n",
       "    <tr>\n",
       "      <th>1</th>\n",
       "      <td>1.0</td>\n",
       "      <td>1.0</td>\n",
       "      <td>1.0</td>\n",
       "      <td>1.0</td>\n",
       "    </tr>\n",
       "    <tr>\n",
       "      <th>2</th>\n",
       "      <td>1.0</td>\n",
       "      <td>1.0</td>\n",
       "      <td>1.0</td>\n",
       "      <td>1.0</td>\n",
       "    </tr>\n",
       "    <tr>\n",
       "      <th>sum</th>\n",
       "      <td>1.0</td>\n",
       "      <td>1.0</td>\n",
       "      <td>1.0</td>\n",
       "      <td>1.0</td>\n",
       "    </tr>\n",
       "  </tbody>\n",
       "</table>\n",
       "</div>"
      ],
      "text/plain": [
       "       0    1    2  sum\n",
       "0    1.0  1.0  1.0  1.0\n",
       "1    1.0  1.0  1.0  1.0\n",
       "2    1.0  1.0  1.0  1.0\n",
       "sum  1.0  1.0  1.0  1.0"
      ]
     },
     "execution_count": 76,
     "metadata": {},
     "output_type": "execute_result"
    }
   ],
   "source": [
    "df.corr()"
   ]
  },
  {
   "cell_type": "markdown",
   "id": "16019a71-be98-4901-8edd-fb18bd1b7c1d",
   "metadata": {
    "tags": []
   },
   "source": [
    "### データの準備"
   ]
  },
  {
   "cell_type": "markdown",
   "id": "0110ddfc-4bde-4b16-9314-4fba0ae5e1c4",
   "metadata": {
    "tags": []
   },
   "source": [
    "#### データのクリーニング"
   ]
  },
  {
   "cell_type": "markdown",
   "id": "60fdc2e3-2694-47c7-9390-85111c284105",
   "metadata": {},
   "source": [
    "##### 補完処理 "
   ]
  },
  {
   "cell_type": "code",
   "execution_count": 77,
   "id": "3a81845b-0c0f-4594-8207-1e5a7dc3537c",
   "metadata": {},
   "outputs": [
    {
     "data": {
      "text/html": [
       "<div>\n",
       "<style scoped>\n",
       "    .dataframe tbody tr th:only-of-type {\n",
       "        vertical-align: middle;\n",
       "    }\n",
       "\n",
       "    .dataframe tbody tr th {\n",
       "        vertical-align: top;\n",
       "    }\n",
       "\n",
       "    .dataframe thead th {\n",
       "        text-align: right;\n",
       "    }\n",
       "</style>\n",
       "<table border=\"1\" class=\"dataframe\">\n",
       "  <thead>\n",
       "    <tr style=\"text-align: right;\">\n",
       "      <th></th>\n",
       "      <th>0</th>\n",
       "      <th>1</th>\n",
       "      <th>2</th>\n",
       "    </tr>\n",
       "  </thead>\n",
       "  <tbody>\n",
       "    <tr>\n",
       "      <th>0</th>\n",
       "      <td>0.0</td>\n",
       "      <td>10.0</td>\n",
       "      <td>NaN</td>\n",
       "    </tr>\n",
       "    <tr>\n",
       "      <th>1</th>\n",
       "      <td>1.0</td>\n",
       "      <td>11.0</td>\n",
       "      <td>21.0</td>\n",
       "    </tr>\n",
       "    <tr>\n",
       "      <th>2</th>\n",
       "      <td>NaN</td>\n",
       "      <td>12.0</td>\n",
       "      <td>22.0</td>\n",
       "    </tr>\n",
       "    <tr>\n",
       "      <th>3</th>\n",
       "      <td>3.0</td>\n",
       "      <td>13.0</td>\n",
       "      <td>23.0</td>\n",
       "    </tr>\n",
       "    <tr>\n",
       "      <th>4</th>\n",
       "      <td>4.0</td>\n",
       "      <td>NaN</td>\n",
       "      <td>24.0</td>\n",
       "    </tr>\n",
       "    <tr>\n",
       "      <th>5</th>\n",
       "      <td>5.0</td>\n",
       "      <td>15.0</td>\n",
       "      <td>25.0</td>\n",
       "    </tr>\n",
       "    <tr>\n",
       "      <th>6</th>\n",
       "      <td>6.0</td>\n",
       "      <td>NaN</td>\n",
       "      <td>NaN</td>\n",
       "    </tr>\n",
       "    <tr>\n",
       "      <th>7</th>\n",
       "      <td>7.0</td>\n",
       "      <td>17.0</td>\n",
       "      <td>27.0</td>\n",
       "    </tr>\n",
       "    <tr>\n",
       "      <th>8</th>\n",
       "      <td>8.0</td>\n",
       "      <td>NaN</td>\n",
       "      <td>28.0</td>\n",
       "    </tr>\n",
       "    <tr>\n",
       "      <th>9</th>\n",
       "      <td>NaN</td>\n",
       "      <td>19.0</td>\n",
       "      <td>29.0</td>\n",
       "    </tr>\n",
       "  </tbody>\n",
       "</table>\n",
       "</div>"
      ],
      "text/plain": [
       "     0     1     2\n",
       "0  0.0  10.0   NaN\n",
       "1  1.0  11.0  21.0\n",
       "2  NaN  12.0  22.0\n",
       "3  3.0  13.0  23.0\n",
       "4  4.0   NaN  24.0\n",
       "5  5.0  15.0  25.0\n",
       "6  6.0   NaN   NaN\n",
       "7  7.0  17.0  27.0\n",
       "8  8.0   NaN  28.0\n",
       "9  NaN  19.0  29.0"
      ]
     },
     "execution_count": 77,
     "metadata": {},
     "output_type": "execute_result"
    }
   ],
   "source": [
    "def function1():\n",
    "    NAN = np.nan\n",
    "    df=pd.DataFrame({\n",
    "        '0': ['00', '01', NAN, '03', '04', '05', '06', '07', '08', NAN], # 長さ: 10\n",
    "        '1': ['10', '11', '12', '13', NAN, '15', NAN, '17', NAN, '19'], # 長さ: 10\n",
    "        '2': [NAN, '21', '22', '23', '24', '25', NAN, '27', '28', '29'] # 長さ: 10\n",
    "    })\n",
    "    return df.astype(float)\n",
    "df=function1()\n",
    "df"
   ]
  },
  {
   "cell_type": "markdown",
   "id": "469b16ae-0a63-4463-8290-1b77cc6aaaa2",
   "metadata": {
    "tags": []
   },
   "source": [
    "###### リストワイズ法（削除）\n",
    "欠損値を含む行（列）を削除。\n",
    "- how='any'が既定値で、how='all'だと全列（行）欠損値の場合に限定。\n",
    "- axis=0の行を削除が既定値で、axis=1だと列を削除。"
   ]
  },
  {
   "cell_type": "code",
   "execution_count": 78,
   "id": "658ada90-55ce-4c77-916b-b06a47e38fdf",
   "metadata": {},
   "outputs": [
    {
     "data": {
      "text/html": [
       "<div>\n",
       "<style scoped>\n",
       "    .dataframe tbody tr th:only-of-type {\n",
       "        vertical-align: middle;\n",
       "    }\n",
       "\n",
       "    .dataframe tbody tr th {\n",
       "        vertical-align: top;\n",
       "    }\n",
       "\n",
       "    .dataframe thead th {\n",
       "        text-align: right;\n",
       "    }\n",
       "</style>\n",
       "<table border=\"1\" class=\"dataframe\">\n",
       "  <thead>\n",
       "    <tr style=\"text-align: right;\">\n",
       "      <th></th>\n",
       "      <th>0</th>\n",
       "      <th>1</th>\n",
       "      <th>2</th>\n",
       "    </tr>\n",
       "  </thead>\n",
       "  <tbody>\n",
       "    <tr>\n",
       "      <th>1</th>\n",
       "      <td>1.0</td>\n",
       "      <td>11.0</td>\n",
       "      <td>21.0</td>\n",
       "    </tr>\n",
       "    <tr>\n",
       "      <th>3</th>\n",
       "      <td>3.0</td>\n",
       "      <td>13.0</td>\n",
       "      <td>23.0</td>\n",
       "    </tr>\n",
       "    <tr>\n",
       "      <th>5</th>\n",
       "      <td>5.0</td>\n",
       "      <td>15.0</td>\n",
       "      <td>25.0</td>\n",
       "    </tr>\n",
       "    <tr>\n",
       "      <th>7</th>\n",
       "      <td>7.0</td>\n",
       "      <td>17.0</td>\n",
       "      <td>27.0</td>\n",
       "    </tr>\n",
       "  </tbody>\n",
       "</table>\n",
       "</div>"
      ],
      "text/plain": [
       "     0     1     2\n",
       "1  1.0  11.0  21.0\n",
       "3  3.0  13.0  23.0\n",
       "5  5.0  15.0  25.0\n",
       "7  7.0  17.0  27.0"
      ]
     },
     "execution_count": 78,
     "metadata": {},
     "output_type": "execute_result"
    }
   ],
   "source": [
    "df = function1()\n",
    "# 欠損値を含む行を削除\n",
    "df.dropna()"
   ]
  },
  {
   "cell_type": "code",
   "execution_count": 79,
   "id": "bb8b8027-5984-46cd-9543-b0eb6830d1fc",
   "metadata": {},
   "outputs": [
    {
     "data": {
      "text/html": [
       "<div>\n",
       "<style scoped>\n",
       "    .dataframe tbody tr th:only-of-type {\n",
       "        vertical-align: middle;\n",
       "    }\n",
       "\n",
       "    .dataframe tbody tr th {\n",
       "        vertical-align: top;\n",
       "    }\n",
       "\n",
       "    .dataframe thead th {\n",
       "        text-align: right;\n",
       "    }\n",
       "</style>\n",
       "<table border=\"1\" class=\"dataframe\">\n",
       "  <thead>\n",
       "    <tr style=\"text-align: right;\">\n",
       "      <th></th>\n",
       "      <th>0</th>\n",
       "      <th>1</th>\n",
       "      <th>2</th>\n",
       "    </tr>\n",
       "  </thead>\n",
       "  <tbody>\n",
       "    <tr>\n",
       "      <th>0</th>\n",
       "      <td>0.0</td>\n",
       "      <td>10.0</td>\n",
       "      <td>NaN</td>\n",
       "    </tr>\n",
       "    <tr>\n",
       "      <th>1</th>\n",
       "      <td>1.0</td>\n",
       "      <td>11.0</td>\n",
       "      <td>21.0</td>\n",
       "    </tr>\n",
       "    <tr>\n",
       "      <th>2</th>\n",
       "      <td>NaN</td>\n",
       "      <td>12.0</td>\n",
       "      <td>22.0</td>\n",
       "    </tr>\n",
       "    <tr>\n",
       "      <th>3</th>\n",
       "      <td>3.0</td>\n",
       "      <td>13.0</td>\n",
       "      <td>23.0</td>\n",
       "    </tr>\n",
       "    <tr>\n",
       "      <th>4</th>\n",
       "      <td>4.0</td>\n",
       "      <td>NaN</td>\n",
       "      <td>24.0</td>\n",
       "    </tr>\n",
       "    <tr>\n",
       "      <th>5</th>\n",
       "      <td>5.0</td>\n",
       "      <td>15.0</td>\n",
       "      <td>25.0</td>\n",
       "    </tr>\n",
       "    <tr>\n",
       "      <th>7</th>\n",
       "      <td>7.0</td>\n",
       "      <td>17.0</td>\n",
       "      <td>27.0</td>\n",
       "    </tr>\n",
       "    <tr>\n",
       "      <th>8</th>\n",
       "      <td>8.0</td>\n",
       "      <td>NaN</td>\n",
       "      <td>28.0</td>\n",
       "    </tr>\n",
       "    <tr>\n",
       "      <th>9</th>\n",
       "      <td>NaN</td>\n",
       "      <td>19.0</td>\n",
       "      <td>29.0</td>\n",
       "    </tr>\n",
       "  </tbody>\n",
       "</table>\n",
       "</div>"
      ],
      "text/plain": [
       "     0     1     2\n",
       "0  0.0  10.0   NaN\n",
       "1  1.0  11.0  21.0\n",
       "2  NaN  12.0  22.0\n",
       "3  3.0  13.0  23.0\n",
       "4  4.0   NaN  24.0\n",
       "5  5.0  15.0  25.0\n",
       "7  7.0  17.0  27.0\n",
       "8  8.0   NaN  28.0\n",
       "9  NaN  19.0  29.0"
      ]
     },
     "execution_count": 79,
     "metadata": {},
     "output_type": "execute_result"
    }
   ],
   "source": [
    "df = function1()\n",
    "# 欠損していない列数が指定した値以上の行を削除\n",
    "df.dropna(thresh=2)"
   ]
  },
  {
   "cell_type": "markdown",
   "id": "f31acdce-ce56-4936-b4a9-1a79182f197a",
   "metadata": {},
   "source": [
    "###### ペアワイズ法（削除）\n",
    "指定の列（行）に欠損値を含む行（列）を削除\n",
    "- how='any'が既定値で、how='all'だと全列（行）欠損値の場合に限定。\n",
    "- axis=0の行を削除が既定値で、axis=1だと列を削除。"
   ]
  },
  {
   "cell_type": "code",
   "execution_count": 80,
   "id": "6b248433-1576-4043-9655-1fc37dff1dfa",
   "metadata": {},
   "outputs": [
    {
     "data": {
      "text/html": [
       "<div>\n",
       "<style scoped>\n",
       "    .dataframe tbody tr th:only-of-type {\n",
       "        vertical-align: middle;\n",
       "    }\n",
       "\n",
       "    .dataframe tbody tr th {\n",
       "        vertical-align: top;\n",
       "    }\n",
       "\n",
       "    .dataframe thead th {\n",
       "        text-align: right;\n",
       "    }\n",
       "</style>\n",
       "<table border=\"1\" class=\"dataframe\">\n",
       "  <thead>\n",
       "    <tr style=\"text-align: right;\">\n",
       "      <th></th>\n",
       "      <th>0</th>\n",
       "      <th>1</th>\n",
       "      <th>2</th>\n",
       "    </tr>\n",
       "  </thead>\n",
       "  <tbody>\n",
       "    <tr>\n",
       "      <th>1</th>\n",
       "      <td>1.0</td>\n",
       "      <td>11.0</td>\n",
       "      <td>21.0</td>\n",
       "    </tr>\n",
       "    <tr>\n",
       "      <th>2</th>\n",
       "      <td>NaN</td>\n",
       "      <td>12.0</td>\n",
       "      <td>22.0</td>\n",
       "    </tr>\n",
       "    <tr>\n",
       "      <th>3</th>\n",
       "      <td>3.0</td>\n",
       "      <td>13.0</td>\n",
       "      <td>23.0</td>\n",
       "    </tr>\n",
       "    <tr>\n",
       "      <th>5</th>\n",
       "      <td>5.0</td>\n",
       "      <td>15.0</td>\n",
       "      <td>25.0</td>\n",
       "    </tr>\n",
       "    <tr>\n",
       "      <th>7</th>\n",
       "      <td>7.0</td>\n",
       "      <td>17.0</td>\n",
       "      <td>27.0</td>\n",
       "    </tr>\n",
       "    <tr>\n",
       "      <th>9</th>\n",
       "      <td>NaN</td>\n",
       "      <td>19.0</td>\n",
       "      <td>29.0</td>\n",
       "    </tr>\n",
       "  </tbody>\n",
       "</table>\n",
       "</div>"
      ],
      "text/plain": [
       "     0     1     2\n",
       "1  1.0  11.0  21.0\n",
       "2  NaN  12.0  22.0\n",
       "3  3.0  13.0  23.0\n",
       "5  5.0  15.0  25.0\n",
       "7  7.0  17.0  27.0\n",
       "9  NaN  19.0  29.0"
      ]
     },
     "execution_count": 80,
     "metadata": {},
     "output_type": "execute_result"
    }
   ],
   "source": [
    "df = function1()\n",
    "# 指定の列に欠損値を含む行を削除\n",
    "df.dropna(subset=['1', '2'])"
   ]
  },
  {
   "cell_type": "markdown",
   "id": "fa95522d-a7e1-454c-b851-deed1d55a684",
   "metadata": {
    "tags": []
   },
   "source": [
    "###### 補完値で置換"
   ]
  },
  {
   "cell_type": "code",
   "execution_count": 81,
   "id": "d6a1bacc-dabe-4117-9956-0fa0c905b3df",
   "metadata": {},
   "outputs": [
    {
     "data": {
      "text/html": [
       "<div>\n",
       "<style scoped>\n",
       "    .dataframe tbody tr th:only-of-type {\n",
       "        vertical-align: middle;\n",
       "    }\n",
       "\n",
       "    .dataframe tbody tr th {\n",
       "        vertical-align: top;\n",
       "    }\n",
       "\n",
       "    .dataframe thead th {\n",
       "        text-align: right;\n",
       "    }\n",
       "</style>\n",
       "<table border=\"1\" class=\"dataframe\">\n",
       "  <thead>\n",
       "    <tr style=\"text-align: right;\">\n",
       "      <th></th>\n",
       "      <th>0</th>\n",
       "      <th>1</th>\n",
       "      <th>2</th>\n",
       "    </tr>\n",
       "  </thead>\n",
       "  <tbody>\n",
       "    <tr>\n",
       "      <th>0</th>\n",
       "      <td>0.00</td>\n",
       "      <td>10.000000</td>\n",
       "      <td>24.875</td>\n",
       "    </tr>\n",
       "    <tr>\n",
       "      <th>1</th>\n",
       "      <td>1.00</td>\n",
       "      <td>11.000000</td>\n",
       "      <td>21.000</td>\n",
       "    </tr>\n",
       "    <tr>\n",
       "      <th>2</th>\n",
       "      <td>4.25</td>\n",
       "      <td>12.000000</td>\n",
       "      <td>22.000</td>\n",
       "    </tr>\n",
       "    <tr>\n",
       "      <th>3</th>\n",
       "      <td>3.00</td>\n",
       "      <td>13.000000</td>\n",
       "      <td>23.000</td>\n",
       "    </tr>\n",
       "    <tr>\n",
       "      <th>4</th>\n",
       "      <td>4.00</td>\n",
       "      <td>13.857143</td>\n",
       "      <td>24.000</td>\n",
       "    </tr>\n",
       "    <tr>\n",
       "      <th>5</th>\n",
       "      <td>5.00</td>\n",
       "      <td>15.000000</td>\n",
       "      <td>25.000</td>\n",
       "    </tr>\n",
       "    <tr>\n",
       "      <th>6</th>\n",
       "      <td>6.00</td>\n",
       "      <td>13.857143</td>\n",
       "      <td>24.875</td>\n",
       "    </tr>\n",
       "    <tr>\n",
       "      <th>7</th>\n",
       "      <td>7.00</td>\n",
       "      <td>17.000000</td>\n",
       "      <td>27.000</td>\n",
       "    </tr>\n",
       "    <tr>\n",
       "      <th>8</th>\n",
       "      <td>8.00</td>\n",
       "      <td>13.857143</td>\n",
       "      <td>28.000</td>\n",
       "    </tr>\n",
       "    <tr>\n",
       "      <th>9</th>\n",
       "      <td>4.25</td>\n",
       "      <td>19.000000</td>\n",
       "      <td>29.000</td>\n",
       "    </tr>\n",
       "  </tbody>\n",
       "</table>\n",
       "</div>"
      ],
      "text/plain": [
       "      0          1       2\n",
       "0  0.00  10.000000  24.875\n",
       "1  1.00  11.000000  21.000\n",
       "2  4.25  12.000000  22.000\n",
       "3  3.00  13.000000  23.000\n",
       "4  4.00  13.857143  24.000\n",
       "5  5.00  15.000000  25.000\n",
       "6  6.00  13.857143  24.875\n",
       "7  7.00  17.000000  27.000\n",
       "8  8.00  13.857143  28.000\n",
       "9  4.25  19.000000  29.000"
      ]
     },
     "execution_count": 81,
     "metadata": {},
     "output_type": "execute_result"
    }
   ],
   "source": [
    "df = function1()\n",
    "# 平均値補完\n",
    "df.fillna(df.mean())"
   ]
  },
  {
   "cell_type": "code",
   "execution_count": 82,
   "id": "83dee79d-af00-4b4f-a999-0833c0cbee34",
   "metadata": {},
   "outputs": [
    {
     "data": {
      "text/html": [
       "<div>\n",
       "<style scoped>\n",
       "    .dataframe tbody tr th:only-of-type {\n",
       "        vertical-align: middle;\n",
       "    }\n",
       "\n",
       "    .dataframe tbody tr th {\n",
       "        vertical-align: top;\n",
       "    }\n",
       "\n",
       "    .dataframe thead th {\n",
       "        text-align: right;\n",
       "    }\n",
       "</style>\n",
       "<table border=\"1\" class=\"dataframe\">\n",
       "  <thead>\n",
       "    <tr style=\"text-align: right;\">\n",
       "      <th></th>\n",
       "      <th>0</th>\n",
       "      <th>1</th>\n",
       "      <th>2</th>\n",
       "    </tr>\n",
       "  </thead>\n",
       "  <tbody>\n",
       "    <tr>\n",
       "      <th>0</th>\n",
       "      <td>0.0</td>\n",
       "      <td>10.0</td>\n",
       "      <td>24.5</td>\n",
       "    </tr>\n",
       "    <tr>\n",
       "      <th>1</th>\n",
       "      <td>1.0</td>\n",
       "      <td>11.0</td>\n",
       "      <td>21.0</td>\n",
       "    </tr>\n",
       "    <tr>\n",
       "      <th>2</th>\n",
       "      <td>4.5</td>\n",
       "      <td>12.0</td>\n",
       "      <td>22.0</td>\n",
       "    </tr>\n",
       "    <tr>\n",
       "      <th>3</th>\n",
       "      <td>3.0</td>\n",
       "      <td>13.0</td>\n",
       "      <td>23.0</td>\n",
       "    </tr>\n",
       "    <tr>\n",
       "      <th>4</th>\n",
       "      <td>4.0</td>\n",
       "      <td>13.0</td>\n",
       "      <td>24.0</td>\n",
       "    </tr>\n",
       "    <tr>\n",
       "      <th>5</th>\n",
       "      <td>5.0</td>\n",
       "      <td>15.0</td>\n",
       "      <td>25.0</td>\n",
       "    </tr>\n",
       "    <tr>\n",
       "      <th>6</th>\n",
       "      <td>6.0</td>\n",
       "      <td>13.0</td>\n",
       "      <td>24.5</td>\n",
       "    </tr>\n",
       "    <tr>\n",
       "      <th>7</th>\n",
       "      <td>7.0</td>\n",
       "      <td>17.0</td>\n",
       "      <td>27.0</td>\n",
       "    </tr>\n",
       "    <tr>\n",
       "      <th>8</th>\n",
       "      <td>8.0</td>\n",
       "      <td>13.0</td>\n",
       "      <td>28.0</td>\n",
       "    </tr>\n",
       "    <tr>\n",
       "      <th>9</th>\n",
       "      <td>4.5</td>\n",
       "      <td>19.0</td>\n",
       "      <td>29.0</td>\n",
       "    </tr>\n",
       "  </tbody>\n",
       "</table>\n",
       "</div>"
      ],
      "text/plain": [
       "     0     1     2\n",
       "0  0.0  10.0  24.5\n",
       "1  1.0  11.0  21.0\n",
       "2  4.5  12.0  22.0\n",
       "3  3.0  13.0  23.0\n",
       "4  4.0  13.0  24.0\n",
       "5  5.0  15.0  25.0\n",
       "6  6.0  13.0  24.5\n",
       "7  7.0  17.0  27.0\n",
       "8  8.0  13.0  28.0\n",
       "9  4.5  19.0  29.0"
      ]
     },
     "execution_count": 82,
     "metadata": {},
     "output_type": "execute_result"
    }
   ],
   "source": [
    "df = function1()\n",
    "# 中央値補完\n",
    "df.fillna(df.median())"
   ]
  },
  {
   "cell_type": "code",
   "execution_count": 83,
   "id": "c8603cff-6e03-47e0-b421-92e74582345b",
   "metadata": {},
   "outputs": [
    {
     "data": {
      "text/html": [
       "<div>\n",
       "<style scoped>\n",
       "    .dataframe tbody tr th:only-of-type {\n",
       "        vertical-align: middle;\n",
       "    }\n",
       "\n",
       "    .dataframe tbody tr th {\n",
       "        vertical-align: top;\n",
       "    }\n",
       "\n",
       "    .dataframe thead th {\n",
       "        text-align: right;\n",
       "    }\n",
       "</style>\n",
       "<table border=\"1\" class=\"dataframe\">\n",
       "  <thead>\n",
       "    <tr style=\"text-align: right;\">\n",
       "      <th></th>\n",
       "      <th>0</th>\n",
       "      <th>1</th>\n",
       "      <th>2</th>\n",
       "    </tr>\n",
       "  </thead>\n",
       "  <tbody>\n",
       "    <tr>\n",
       "      <th>0</th>\n",
       "      <td>0.0</td>\n",
       "      <td>10.0</td>\n",
       "      <td>21.0</td>\n",
       "    </tr>\n",
       "    <tr>\n",
       "      <th>1</th>\n",
       "      <td>1.0</td>\n",
       "      <td>11.0</td>\n",
       "      <td>21.0</td>\n",
       "    </tr>\n",
       "    <tr>\n",
       "      <th>2</th>\n",
       "      <td>0.0</td>\n",
       "      <td>12.0</td>\n",
       "      <td>22.0</td>\n",
       "    </tr>\n",
       "    <tr>\n",
       "      <th>3</th>\n",
       "      <td>3.0</td>\n",
       "      <td>13.0</td>\n",
       "      <td>23.0</td>\n",
       "    </tr>\n",
       "    <tr>\n",
       "      <th>4</th>\n",
       "      <td>4.0</td>\n",
       "      <td>10.0</td>\n",
       "      <td>24.0</td>\n",
       "    </tr>\n",
       "    <tr>\n",
       "      <th>5</th>\n",
       "      <td>5.0</td>\n",
       "      <td>15.0</td>\n",
       "      <td>25.0</td>\n",
       "    </tr>\n",
       "    <tr>\n",
       "      <th>6</th>\n",
       "      <td>6.0</td>\n",
       "      <td>10.0</td>\n",
       "      <td>21.0</td>\n",
       "    </tr>\n",
       "    <tr>\n",
       "      <th>7</th>\n",
       "      <td>7.0</td>\n",
       "      <td>17.0</td>\n",
       "      <td>27.0</td>\n",
       "    </tr>\n",
       "    <tr>\n",
       "      <th>8</th>\n",
       "      <td>8.0</td>\n",
       "      <td>10.0</td>\n",
       "      <td>28.0</td>\n",
       "    </tr>\n",
       "    <tr>\n",
       "      <th>9</th>\n",
       "      <td>0.0</td>\n",
       "      <td>19.0</td>\n",
       "      <td>29.0</td>\n",
       "    </tr>\n",
       "  </tbody>\n",
       "</table>\n",
       "</div>"
      ],
      "text/plain": [
       "     0     1     2\n",
       "0  0.0  10.0  21.0\n",
       "1  1.0  11.0  21.0\n",
       "2  0.0  12.0  22.0\n",
       "3  3.0  13.0  23.0\n",
       "4  4.0  10.0  24.0\n",
       "5  5.0  15.0  25.0\n",
       "6  6.0  10.0  21.0\n",
       "7  7.0  17.0  27.0\n",
       "8  8.0  10.0  28.0\n",
       "9  0.0  19.0  29.0"
      ]
     },
     "execution_count": 83,
     "metadata": {},
     "output_type": "execute_result"
    }
   ],
   "source": [
    "df = function1()\n",
    "# 最頻値補完\n",
    "df.fillna(df.mode().iloc[0])"
   ]
  },
  {
   "cell_type": "code",
   "execution_count": 84,
   "id": "38189524-636c-4f11-9c56-613bb7028785",
   "metadata": {},
   "outputs": [
    {
     "data": {
      "text/html": [
       "<div>\n",
       "<style scoped>\n",
       "    .dataframe tbody tr th:only-of-type {\n",
       "        vertical-align: middle;\n",
       "    }\n",
       "\n",
       "    .dataframe tbody tr th {\n",
       "        vertical-align: top;\n",
       "    }\n",
       "\n",
       "    .dataframe thead th {\n",
       "        text-align: right;\n",
       "    }\n",
       "</style>\n",
       "<table border=\"1\" class=\"dataframe\">\n",
       "  <thead>\n",
       "    <tr style=\"text-align: right;\">\n",
       "      <th></th>\n",
       "      <th>0</th>\n",
       "      <th>1</th>\n",
       "      <th>2</th>\n",
       "    </tr>\n",
       "  </thead>\n",
       "  <tbody>\n",
       "    <tr>\n",
       "      <th>0</th>\n",
       "      <td>0.0</td>\n",
       "      <td>10.0</td>\n",
       "      <td>NaN</td>\n",
       "    </tr>\n",
       "    <tr>\n",
       "      <th>1</th>\n",
       "      <td>1.0</td>\n",
       "      <td>11.0</td>\n",
       "      <td>21.0</td>\n",
       "    </tr>\n",
       "    <tr>\n",
       "      <th>2</th>\n",
       "      <td>2.0</td>\n",
       "      <td>12.0</td>\n",
       "      <td>22.0</td>\n",
       "    </tr>\n",
       "    <tr>\n",
       "      <th>3</th>\n",
       "      <td>3.0</td>\n",
       "      <td>13.0</td>\n",
       "      <td>23.0</td>\n",
       "    </tr>\n",
       "    <tr>\n",
       "      <th>4</th>\n",
       "      <td>4.0</td>\n",
       "      <td>14.0</td>\n",
       "      <td>24.0</td>\n",
       "    </tr>\n",
       "    <tr>\n",
       "      <th>5</th>\n",
       "      <td>5.0</td>\n",
       "      <td>15.0</td>\n",
       "      <td>25.0</td>\n",
       "    </tr>\n",
       "    <tr>\n",
       "      <th>6</th>\n",
       "      <td>6.0</td>\n",
       "      <td>16.0</td>\n",
       "      <td>26.0</td>\n",
       "    </tr>\n",
       "    <tr>\n",
       "      <th>7</th>\n",
       "      <td>7.0</td>\n",
       "      <td>17.0</td>\n",
       "      <td>27.0</td>\n",
       "    </tr>\n",
       "    <tr>\n",
       "      <th>8</th>\n",
       "      <td>8.0</td>\n",
       "      <td>18.0</td>\n",
       "      <td>28.0</td>\n",
       "    </tr>\n",
       "    <tr>\n",
       "      <th>9</th>\n",
       "      <td>8.0</td>\n",
       "      <td>19.0</td>\n",
       "      <td>29.0</td>\n",
       "    </tr>\n",
       "  </tbody>\n",
       "</table>\n",
       "</div>"
      ],
      "text/plain": [
       "     0     1     2\n",
       "0  0.0  10.0   NaN\n",
       "1  1.0  11.0  21.0\n",
       "2  2.0  12.0  22.0\n",
       "3  3.0  13.0  23.0\n",
       "4  4.0  14.0  24.0\n",
       "5  5.0  15.0  25.0\n",
       "6  6.0  16.0  26.0\n",
       "7  7.0  17.0  27.0\n",
       "8  8.0  18.0  28.0\n",
       "9  8.0  19.0  29.0"
      ]
     },
     "execution_count": 84,
     "metadata": {},
     "output_type": "execute_result"
    }
   ],
   "source": [
    "df=function1()\n",
    "# 線形補完\n",
    "df.interpolate(method='linear')"
   ]
  },
  {
   "cell_type": "markdown",
   "id": "554d8896-a1b0-4283-8eff-6d1ff1a3625c",
   "metadata": {
    "tags": []
   },
   "source": [
    "###### 任意の値で補完"
   ]
  },
  {
   "cell_type": "code",
   "execution_count": 85,
   "id": "46467796-e547-4ef0-9a41-1734b4300b0f",
   "metadata": {},
   "outputs": [
    {
     "data": {
      "text/html": [
       "<div>\n",
       "<style scoped>\n",
       "    .dataframe tbody tr th:only-of-type {\n",
       "        vertical-align: middle;\n",
       "    }\n",
       "\n",
       "    .dataframe tbody tr th {\n",
       "        vertical-align: top;\n",
       "    }\n",
       "\n",
       "    .dataframe thead th {\n",
       "        text-align: right;\n",
       "    }\n",
       "</style>\n",
       "<table border=\"1\" class=\"dataframe\">\n",
       "  <thead>\n",
       "    <tr style=\"text-align: right;\">\n",
       "      <th></th>\n",
       "      <th>0</th>\n",
       "      <th>1</th>\n",
       "      <th>2</th>\n",
       "    </tr>\n",
       "  </thead>\n",
       "  <tbody>\n",
       "    <tr>\n",
       "      <th>0</th>\n",
       "      <td>0.0</td>\n",
       "      <td>10.0</td>\n",
       "      <td>10.0</td>\n",
       "    </tr>\n",
       "    <tr>\n",
       "      <th>1</th>\n",
       "      <td>1.0</td>\n",
       "      <td>11.0</td>\n",
       "      <td>21.0</td>\n",
       "    </tr>\n",
       "    <tr>\n",
       "      <th>2</th>\n",
       "      <td>10.0</td>\n",
       "      <td>12.0</td>\n",
       "      <td>22.0</td>\n",
       "    </tr>\n",
       "    <tr>\n",
       "      <th>3</th>\n",
       "      <td>3.0</td>\n",
       "      <td>13.0</td>\n",
       "      <td>23.0</td>\n",
       "    </tr>\n",
       "    <tr>\n",
       "      <th>4</th>\n",
       "      <td>4.0</td>\n",
       "      <td>10.0</td>\n",
       "      <td>24.0</td>\n",
       "    </tr>\n",
       "    <tr>\n",
       "      <th>5</th>\n",
       "      <td>5.0</td>\n",
       "      <td>15.0</td>\n",
       "      <td>25.0</td>\n",
       "    </tr>\n",
       "    <tr>\n",
       "      <th>6</th>\n",
       "      <td>6.0</td>\n",
       "      <td>10.0</td>\n",
       "      <td>10.0</td>\n",
       "    </tr>\n",
       "    <tr>\n",
       "      <th>7</th>\n",
       "      <td>7.0</td>\n",
       "      <td>17.0</td>\n",
       "      <td>27.0</td>\n",
       "    </tr>\n",
       "    <tr>\n",
       "      <th>8</th>\n",
       "      <td>8.0</td>\n",
       "      <td>10.0</td>\n",
       "      <td>28.0</td>\n",
       "    </tr>\n",
       "    <tr>\n",
       "      <th>9</th>\n",
       "      <td>10.0</td>\n",
       "      <td>19.0</td>\n",
       "      <td>29.0</td>\n",
       "    </tr>\n",
       "  </tbody>\n",
       "</table>\n",
       "</div>"
      ],
      "text/plain": [
       "      0     1     2\n",
       "0   0.0  10.0  10.0\n",
       "1   1.0  11.0  21.0\n",
       "2  10.0  12.0  22.0\n",
       "3   3.0  13.0  23.0\n",
       "4   4.0  10.0  24.0\n",
       "5   5.0  15.0  25.0\n",
       "6   6.0  10.0  10.0\n",
       "7   7.0  17.0  27.0\n",
       "8   8.0  10.0  28.0\n",
       "9  10.0  19.0  29.0"
      ]
     },
     "execution_count": 85,
     "metadata": {},
     "output_type": "execute_result"
    }
   ],
   "source": [
    "df=function1()\n",
    "# 全列\n",
    "df.fillna(10)"
   ]
  },
  {
   "cell_type": "code",
   "execution_count": 86,
   "id": "8f07eb2d-9e48-45d4-941d-a3e668630f2f",
   "metadata": {},
   "outputs": [
    {
     "data": {
      "text/html": [
       "<div>\n",
       "<style scoped>\n",
       "    .dataframe tbody tr th:only-of-type {\n",
       "        vertical-align: middle;\n",
       "    }\n",
       "\n",
       "    .dataframe tbody tr th {\n",
       "        vertical-align: top;\n",
       "    }\n",
       "\n",
       "    .dataframe thead th {\n",
       "        text-align: right;\n",
       "    }\n",
       "</style>\n",
       "<table border=\"1\" class=\"dataframe\">\n",
       "  <thead>\n",
       "    <tr style=\"text-align: right;\">\n",
       "      <th></th>\n",
       "      <th>0</th>\n",
       "      <th>1</th>\n",
       "      <th>2</th>\n",
       "    </tr>\n",
       "  </thead>\n",
       "  <tbody>\n",
       "    <tr>\n",
       "      <th>0</th>\n",
       "      <td>0.0</td>\n",
       "      <td>10.0</td>\n",
       "      <td>30.0</td>\n",
       "    </tr>\n",
       "    <tr>\n",
       "      <th>1</th>\n",
       "      <td>1.0</td>\n",
       "      <td>11.0</td>\n",
       "      <td>21.0</td>\n",
       "    </tr>\n",
       "    <tr>\n",
       "      <th>2</th>\n",
       "      <td>10.0</td>\n",
       "      <td>12.0</td>\n",
       "      <td>22.0</td>\n",
       "    </tr>\n",
       "    <tr>\n",
       "      <th>3</th>\n",
       "      <td>3.0</td>\n",
       "      <td>13.0</td>\n",
       "      <td>23.0</td>\n",
       "    </tr>\n",
       "    <tr>\n",
       "      <th>4</th>\n",
       "      <td>4.0</td>\n",
       "      <td>20.0</td>\n",
       "      <td>24.0</td>\n",
       "    </tr>\n",
       "    <tr>\n",
       "      <th>5</th>\n",
       "      <td>5.0</td>\n",
       "      <td>15.0</td>\n",
       "      <td>25.0</td>\n",
       "    </tr>\n",
       "    <tr>\n",
       "      <th>6</th>\n",
       "      <td>6.0</td>\n",
       "      <td>20.0</td>\n",
       "      <td>30.0</td>\n",
       "    </tr>\n",
       "    <tr>\n",
       "      <th>7</th>\n",
       "      <td>7.0</td>\n",
       "      <td>17.0</td>\n",
       "      <td>27.0</td>\n",
       "    </tr>\n",
       "    <tr>\n",
       "      <th>8</th>\n",
       "      <td>8.0</td>\n",
       "      <td>20.0</td>\n",
       "      <td>28.0</td>\n",
       "    </tr>\n",
       "    <tr>\n",
       "      <th>9</th>\n",
       "      <td>10.0</td>\n",
       "      <td>19.0</td>\n",
       "      <td>29.0</td>\n",
       "    </tr>\n",
       "  </tbody>\n",
       "</table>\n",
       "</div>"
      ],
      "text/plain": [
       "      0     1     2\n",
       "0   0.0  10.0  30.0\n",
       "1   1.0  11.0  21.0\n",
       "2  10.0  12.0  22.0\n",
       "3   3.0  13.0  23.0\n",
       "4   4.0  20.0  24.0\n",
       "5   5.0  15.0  25.0\n",
       "6   6.0  20.0  30.0\n",
       "7   7.0  17.0  27.0\n",
       "8   8.0  20.0  28.0\n",
       "9  10.0  19.0  29.0"
      ]
     },
     "execution_count": 86,
     "metadata": {},
     "output_type": "execute_result"
    }
   ],
   "source": [
    "df=function1()\n",
    "# 列指定\n",
    "df.fillna({'0':10, '1':20, '2':30})"
   ]
  },
  {
   "cell_type": "markdown",
   "id": "2b2b86e1-0043-478a-b6f0-01ef98b8b9d9",
   "metadata": {},
   "source": [
    "###### 前後の値で補完\n",
    "更に、axis、limit等も指定可能。"
   ]
  },
  {
   "cell_type": "code",
   "execution_count": 87,
   "id": "bd00e1da-f0f9-441a-8d23-4ff3d76db162",
   "metadata": {},
   "outputs": [
    {
     "data": {
      "text/html": [
       "<div>\n",
       "<style scoped>\n",
       "    .dataframe tbody tr th:only-of-type {\n",
       "        vertical-align: middle;\n",
       "    }\n",
       "\n",
       "    .dataframe tbody tr th {\n",
       "        vertical-align: top;\n",
       "    }\n",
       "\n",
       "    .dataframe thead th {\n",
       "        text-align: right;\n",
       "    }\n",
       "</style>\n",
       "<table border=\"1\" class=\"dataframe\">\n",
       "  <thead>\n",
       "    <tr style=\"text-align: right;\">\n",
       "      <th></th>\n",
       "      <th>0</th>\n",
       "      <th>1</th>\n",
       "      <th>2</th>\n",
       "    </tr>\n",
       "  </thead>\n",
       "  <tbody>\n",
       "    <tr>\n",
       "      <th>0</th>\n",
       "      <td>0.0</td>\n",
       "      <td>10.0</td>\n",
       "      <td>NaN</td>\n",
       "    </tr>\n",
       "    <tr>\n",
       "      <th>1</th>\n",
       "      <td>1.0</td>\n",
       "      <td>11.0</td>\n",
       "      <td>21.0</td>\n",
       "    </tr>\n",
       "    <tr>\n",
       "      <th>2</th>\n",
       "      <td>1.0</td>\n",
       "      <td>12.0</td>\n",
       "      <td>22.0</td>\n",
       "    </tr>\n",
       "    <tr>\n",
       "      <th>3</th>\n",
       "      <td>3.0</td>\n",
       "      <td>13.0</td>\n",
       "      <td>23.0</td>\n",
       "    </tr>\n",
       "    <tr>\n",
       "      <th>4</th>\n",
       "      <td>4.0</td>\n",
       "      <td>13.0</td>\n",
       "      <td>24.0</td>\n",
       "    </tr>\n",
       "    <tr>\n",
       "      <th>5</th>\n",
       "      <td>5.0</td>\n",
       "      <td>15.0</td>\n",
       "      <td>25.0</td>\n",
       "    </tr>\n",
       "    <tr>\n",
       "      <th>6</th>\n",
       "      <td>6.0</td>\n",
       "      <td>15.0</td>\n",
       "      <td>25.0</td>\n",
       "    </tr>\n",
       "    <tr>\n",
       "      <th>7</th>\n",
       "      <td>7.0</td>\n",
       "      <td>17.0</td>\n",
       "      <td>27.0</td>\n",
       "    </tr>\n",
       "    <tr>\n",
       "      <th>8</th>\n",
       "      <td>8.0</td>\n",
       "      <td>17.0</td>\n",
       "      <td>28.0</td>\n",
       "    </tr>\n",
       "    <tr>\n",
       "      <th>9</th>\n",
       "      <td>8.0</td>\n",
       "      <td>19.0</td>\n",
       "      <td>29.0</td>\n",
       "    </tr>\n",
       "  </tbody>\n",
       "</table>\n",
       "</div>"
      ],
      "text/plain": [
       "     0     1     2\n",
       "0  0.0  10.0   NaN\n",
       "1  1.0  11.0  21.0\n",
       "2  1.0  12.0  22.0\n",
       "3  3.0  13.0  23.0\n",
       "4  4.0  13.0  24.0\n",
       "5  5.0  15.0  25.0\n",
       "6  6.0  15.0  25.0\n",
       "7  7.0  17.0  27.0\n",
       "8  8.0  17.0  28.0\n",
       "9  8.0  19.0  29.0"
      ]
     },
     "execution_count": 87,
     "metadata": {},
     "output_type": "execute_result"
    }
   ],
   "source": [
    "df=function1()\n",
    "# 前の値\n",
    "df.fillna(method='ffill')"
   ]
  },
  {
   "cell_type": "code",
   "execution_count": 88,
   "id": "ee252e0a-0dd2-4f0a-b524-992fd67865c3",
   "metadata": {},
   "outputs": [
    {
     "data": {
      "text/html": [
       "<div>\n",
       "<style scoped>\n",
       "    .dataframe tbody tr th:only-of-type {\n",
       "        vertical-align: middle;\n",
       "    }\n",
       "\n",
       "    .dataframe tbody tr th {\n",
       "        vertical-align: top;\n",
       "    }\n",
       "\n",
       "    .dataframe thead th {\n",
       "        text-align: right;\n",
       "    }\n",
       "</style>\n",
       "<table border=\"1\" class=\"dataframe\">\n",
       "  <thead>\n",
       "    <tr style=\"text-align: right;\">\n",
       "      <th></th>\n",
       "      <th>0</th>\n",
       "      <th>1</th>\n",
       "      <th>2</th>\n",
       "    </tr>\n",
       "  </thead>\n",
       "  <tbody>\n",
       "    <tr>\n",
       "      <th>0</th>\n",
       "      <td>0.0</td>\n",
       "      <td>10.0</td>\n",
       "      <td>21.0</td>\n",
       "    </tr>\n",
       "    <tr>\n",
       "      <th>1</th>\n",
       "      <td>1.0</td>\n",
       "      <td>11.0</td>\n",
       "      <td>21.0</td>\n",
       "    </tr>\n",
       "    <tr>\n",
       "      <th>2</th>\n",
       "      <td>3.0</td>\n",
       "      <td>12.0</td>\n",
       "      <td>22.0</td>\n",
       "    </tr>\n",
       "    <tr>\n",
       "      <th>3</th>\n",
       "      <td>3.0</td>\n",
       "      <td>13.0</td>\n",
       "      <td>23.0</td>\n",
       "    </tr>\n",
       "    <tr>\n",
       "      <th>4</th>\n",
       "      <td>4.0</td>\n",
       "      <td>15.0</td>\n",
       "      <td>24.0</td>\n",
       "    </tr>\n",
       "    <tr>\n",
       "      <th>5</th>\n",
       "      <td>5.0</td>\n",
       "      <td>15.0</td>\n",
       "      <td>25.0</td>\n",
       "    </tr>\n",
       "    <tr>\n",
       "      <th>6</th>\n",
       "      <td>6.0</td>\n",
       "      <td>17.0</td>\n",
       "      <td>27.0</td>\n",
       "    </tr>\n",
       "    <tr>\n",
       "      <th>7</th>\n",
       "      <td>7.0</td>\n",
       "      <td>17.0</td>\n",
       "      <td>27.0</td>\n",
       "    </tr>\n",
       "    <tr>\n",
       "      <th>8</th>\n",
       "      <td>8.0</td>\n",
       "      <td>19.0</td>\n",
       "      <td>28.0</td>\n",
       "    </tr>\n",
       "    <tr>\n",
       "      <th>9</th>\n",
       "      <td>NaN</td>\n",
       "      <td>19.0</td>\n",
       "      <td>29.0</td>\n",
       "    </tr>\n",
       "  </tbody>\n",
       "</table>\n",
       "</div>"
      ],
      "text/plain": [
       "     0     1     2\n",
       "0  0.0  10.0  21.0\n",
       "1  1.0  11.0  21.0\n",
       "2  3.0  12.0  22.0\n",
       "3  3.0  13.0  23.0\n",
       "4  4.0  15.0  24.0\n",
       "5  5.0  15.0  25.0\n",
       "6  6.0  17.0  27.0\n",
       "7  7.0  17.0  27.0\n",
       "8  8.0  19.0  28.0\n",
       "9  NaN  19.0  29.0"
      ]
     },
     "execution_count": 88,
     "metadata": {},
     "output_type": "execute_result"
    }
   ],
   "source": [
    "df=function1()\n",
    "# 後の値\n",
    "df.fillna(method='bfill')"
   ]
  },
  {
   "cell_type": "markdown",
   "id": "691501fc-4369-4187-b648-a931a9d68a3f",
   "metadata": {
    "tags": []
   },
   "source": [
    "###### Xを含む要素をXで一括置換"
   ]
  },
  {
   "cell_type": "code",
   "execution_count": 89,
   "id": "a2216694-7d38-486f-810c-f2974a6cda12",
   "metadata": {},
   "outputs": [
    {
     "data": {
      "text/html": [
       "<div>\n",
       "<style scoped>\n",
       "    .dataframe tbody tr th:only-of-type {\n",
       "        vertical-align: middle;\n",
       "    }\n",
       "\n",
       "    .dataframe tbody tr th {\n",
       "        vertical-align: top;\n",
       "    }\n",
       "\n",
       "    .dataframe thead th {\n",
       "        text-align: right;\n",
       "    }\n",
       "</style>\n",
       "<table border=\"1\" class=\"dataframe\">\n",
       "  <thead>\n",
       "    <tr style=\"text-align: right;\">\n",
       "      <th></th>\n",
       "      <th>XXX</th>\n",
       "      <th>YYY</th>\n",
       "    </tr>\n",
       "  </thead>\n",
       "  <tbody>\n",
       "    <tr>\n",
       "      <th>0</th>\n",
       "      <td>abcAAAxyz</td>\n",
       "      <td>abcBBBxyz</td>\n",
       "    </tr>\n",
       "    <tr>\n",
       "      <th>1</th>\n",
       "      <td>abcBBBxyz</td>\n",
       "      <td>abcAAAxyz</td>\n",
       "    </tr>\n",
       "  </tbody>\n",
       "</table>\n",
       "</div>"
      ],
      "text/plain": [
       "         XXX        YYY\n",
       "0  abcAAAxyz  abcBBBxyz\n",
       "1  abcBBBxyz  abcAAAxyz"
      ]
     },
     "execution_count": 89,
     "metadata": {},
     "output_type": "execute_result"
    }
   ],
   "source": [
    "NAN = np.nan\n",
    "df=pd.DataFrame({\n",
    "    'XXX': ['abcAAAxyz', 'abcBBBxyz'],\n",
    "    'YYY': ['abcBBBxyz', 'abcAAAxyz']\n",
    "})\n",
    "df"
   ]
  },
  {
   "cell_type": "code",
   "execution_count": 90,
   "id": "a088a894-8de1-42f5-b62d-8c64f1a678b0",
   "metadata": {},
   "outputs": [
    {
     "data": {
      "text/html": [
       "<div>\n",
       "<style scoped>\n",
       "    .dataframe tbody tr th:only-of-type {\n",
       "        vertical-align: middle;\n",
       "    }\n",
       "\n",
       "    .dataframe tbody tr th {\n",
       "        vertical-align: top;\n",
       "    }\n",
       "\n",
       "    .dataframe thead th {\n",
       "        text-align: right;\n",
       "    }\n",
       "</style>\n",
       "<table border=\"1\" class=\"dataframe\">\n",
       "  <thead>\n",
       "    <tr style=\"text-align: right;\">\n",
       "      <th></th>\n",
       "      <th>XXX</th>\n",
       "      <th>YYY</th>\n",
       "    </tr>\n",
       "  </thead>\n",
       "  <tbody>\n",
       "    <tr>\n",
       "      <th>0</th>\n",
       "      <td>CCC</td>\n",
       "      <td>abcBBBxyz</td>\n",
       "    </tr>\n",
       "    <tr>\n",
       "      <th>1</th>\n",
       "      <td>abcBBBxyz</td>\n",
       "      <td>abcAAAxyz</td>\n",
       "    </tr>\n",
       "  </tbody>\n",
       "</table>\n",
       "</div>"
      ],
      "text/plain": [
       "         XXX        YYY\n",
       "0        CCC  abcBBBxyz\n",
       "1  abcBBBxyz  abcAAAxyz"
      ]
     },
     "execution_count": 90,
     "metadata": {},
     "output_type": "execute_result"
    }
   ],
   "source": [
    "df['XXX'] = df['XXX'].str.replace('.*(AAA).*', 'CCC', regex=True)\n",
    "df"
   ]
  },
  {
   "cell_type": "markdown",
   "id": "a225d04a-5f15-4f71-973f-a57056c6b967",
   "metadata": {
    "tags": []
   },
   "source": [
    "###### 要素を要素中の[,]と[.]で囲まれた文字列で一括置換"
   ]
  },
  {
   "cell_type": "code",
   "execution_count": 91,
   "id": "533343ff-5d6d-4c13-be7c-cdb0e137b74e",
   "metadata": {},
   "outputs": [
    {
     "data": {
      "text/html": [
       "<div>\n",
       "<style scoped>\n",
       "    .dataframe tbody tr th:only-of-type {\n",
       "        vertical-align: middle;\n",
       "    }\n",
       "\n",
       "    .dataframe tbody tr th {\n",
       "        vertical-align: top;\n",
       "    }\n",
       "\n",
       "    .dataframe thead th {\n",
       "        text-align: right;\n",
       "    }\n",
       "</style>\n",
       "<table border=\"1\" class=\"dataframe\">\n",
       "  <thead>\n",
       "    <tr style=\"text-align: right;\">\n",
       "      <th></th>\n",
       "      <th>XXX</th>\n",
       "      <th>YYY</th>\n",
       "    </tr>\n",
       "  </thead>\n",
       "  <tbody>\n",
       "    <tr>\n",
       "      <th>0</th>\n",
       "      <td>AAA,BBB.CCC</td>\n",
       "      <td>AAA,BBB.CCC</td>\n",
       "    </tr>\n",
       "    <tr>\n",
       "      <th>1</th>\n",
       "      <td>XXX,YYY.ZZZ</td>\n",
       "      <td>XXX,YYY.ZZZ</td>\n",
       "    </tr>\n",
       "  </tbody>\n",
       "</table>\n",
       "</div>"
      ],
      "text/plain": [
       "           XXX          YYY\n",
       "0  AAA,BBB.CCC  AAA,BBB.CCC\n",
       "1  XXX,YYY.ZZZ  XXX,YYY.ZZZ"
      ]
     },
     "execution_count": 91,
     "metadata": {},
     "output_type": "execute_result"
    }
   ],
   "source": [
    "NAN = np.nan\n",
    "df=pd.DataFrame({\n",
    "    'XXX': ['AAA,BBB.CCC', 'XXX,YYY.ZZZ'],\n",
    "    'YYY': ['AAA,BBB.CCC', 'XXX,YYY.ZZZ']\n",
    "})\n",
    "df"
   ]
  },
  {
   "cell_type": "code",
   "execution_count": 92,
   "id": "f7ab8c3d-aa82-446a-b867-2a4c210a1603",
   "metadata": {},
   "outputs": [
    {
     "data": {
      "text/html": [
       "<div>\n",
       "<style scoped>\n",
       "    .dataframe tbody tr th:only-of-type {\n",
       "        vertical-align: middle;\n",
       "    }\n",
       "\n",
       "    .dataframe tbody tr th {\n",
       "        vertical-align: top;\n",
       "    }\n",
       "\n",
       "    .dataframe thead th {\n",
       "        text-align: right;\n",
       "    }\n",
       "</style>\n",
       "<table border=\"1\" class=\"dataframe\">\n",
       "  <thead>\n",
       "    <tr style=\"text-align: right;\">\n",
       "      <th></th>\n",
       "      <th>XXX</th>\n",
       "      <th>YYY</th>\n",
       "    </tr>\n",
       "  </thead>\n",
       "  <tbody>\n",
       "    <tr>\n",
       "      <th>0</th>\n",
       "      <td>BBB</td>\n",
       "      <td>AAA,BBB.CCC</td>\n",
       "    </tr>\n",
       "    <tr>\n",
       "      <th>1</th>\n",
       "      <td>YYY</td>\n",
       "      <td>XXX,YYY.ZZZ</td>\n",
       "    </tr>\n",
       "  </tbody>\n",
       "</table>\n",
       "</div>"
      ],
      "text/plain": [
       "   XXX          YYY\n",
       "0  BBB  AAA,BBB.CCC\n",
       "1  YYY  XXX,YYY.ZZZ"
      ]
     },
     "execution_count": 92,
     "metadata": {},
     "output_type": "execute_result"
    }
   ],
   "source": [
    "list_col1 = [i.split(\",\")[1].split(\".\")[0].strip() for i in df[\"XXX\"]]\n",
    "df[\"XXX\"] = pd.Series(list_col1)\n",
    "nparr_col1 = df[\"XXX\"].unique()\n",
    "for cell in nparr_col1:\n",
    "   df['XXX'] = df['XXX'].str.replace('.*({0}\\.).*'.format(cell), cell, regex=True)\n",
    "df"
   ]
  },
  {
   "cell_type": "markdown",
   "id": "cac53864-1c60-4793-9f1c-0c0bda449cc8",
   "metadata": {
    "tags": []
   },
   "source": [
    "###### グループの平均値で補完"
   ]
  },
  {
   "cell_type": "code",
   "execution_count": 93,
   "id": "a027cc2e-f180-4448-a412-e2c1fdd4441c",
   "metadata": {},
   "outputs": [
    {
     "data": {
      "text/html": [
       "<div>\n",
       "<style scoped>\n",
       "    .dataframe tbody tr th:only-of-type {\n",
       "        vertical-align: middle;\n",
       "    }\n",
       "\n",
       "    .dataframe tbody tr th {\n",
       "        vertical-align: top;\n",
       "    }\n",
       "\n",
       "    .dataframe thead th {\n",
       "        text-align: right;\n",
       "    }\n",
       "</style>\n",
       "<table border=\"1\" class=\"dataframe\">\n",
       "  <thead>\n",
       "    <tr style=\"text-align: right;\">\n",
       "      <th></th>\n",
       "      <th>XXX</th>\n",
       "      <th>YYY</th>\n",
       "    </tr>\n",
       "  </thead>\n",
       "  <tbody>\n",
       "    <tr>\n",
       "      <th>0</th>\n",
       "      <td>1.0</td>\n",
       "      <td>A</td>\n",
       "    </tr>\n",
       "    <tr>\n",
       "      <th>1</th>\n",
       "      <td>2.0</td>\n",
       "      <td>B</td>\n",
       "    </tr>\n",
       "    <tr>\n",
       "      <th>2</th>\n",
       "      <td>3.0</td>\n",
       "      <td>C</td>\n",
       "    </tr>\n",
       "    <tr>\n",
       "      <th>3</th>\n",
       "      <td>NaN</td>\n",
       "      <td>A</td>\n",
       "    </tr>\n",
       "    <tr>\n",
       "      <th>4</th>\n",
       "      <td>5.0</td>\n",
       "      <td>B</td>\n",
       "    </tr>\n",
       "    <tr>\n",
       "      <th>5</th>\n",
       "      <td>6.0</td>\n",
       "      <td>C</td>\n",
       "    </tr>\n",
       "    <tr>\n",
       "      <th>6</th>\n",
       "      <td>7.0</td>\n",
       "      <td>A</td>\n",
       "    </tr>\n",
       "    <tr>\n",
       "      <th>7</th>\n",
       "      <td>8.0</td>\n",
       "      <td>B</td>\n",
       "    </tr>\n",
       "    <tr>\n",
       "      <th>8</th>\n",
       "      <td>9.0</td>\n",
       "      <td>C</td>\n",
       "    </tr>\n",
       "    <tr>\n",
       "      <th>9</th>\n",
       "      <td>10.0</td>\n",
       "      <td>A</td>\n",
       "    </tr>\n",
       "  </tbody>\n",
       "</table>\n",
       "</div>"
      ],
      "text/plain": [
       "    XXX YYY\n",
       "0   1.0   A\n",
       "1   2.0   B\n",
       "2   3.0   C\n",
       "3   NaN   A\n",
       "4   5.0   B\n",
       "5   6.0   C\n",
       "6   7.0   A\n",
       "7   8.0   B\n",
       "8   9.0   C\n",
       "9  10.0   A"
      ]
     },
     "execution_count": 93,
     "metadata": {},
     "output_type": "execute_result"
    }
   ],
   "source": [
    "NAN = np.nan\n",
    "df=pd.DataFrame({\n",
    "    'XXX': [1, 2, 3, NAN, 5, 6, 7, 8, 9, 10],                 # 長さ: 10\n",
    "    'YYY': ['A', 'B', 'C', 'A', 'B', 'C', 'A', 'B', 'C', 'A'] # 長さ: 10\n",
    "})\n",
    "df"
   ]
  },
  {
   "cell_type": "code",
   "execution_count": 94,
   "id": "8aed6df4-2986-46f6-a734-90955b2106a1",
   "metadata": {},
   "outputs": [
    {
     "data": {
      "text/html": [
       "<div>\n",
       "<style scoped>\n",
       "    .dataframe tbody tr th:only-of-type {\n",
       "        vertical-align: middle;\n",
       "    }\n",
       "\n",
       "    .dataframe tbody tr th {\n",
       "        vertical-align: top;\n",
       "    }\n",
       "\n",
       "    .dataframe thead th {\n",
       "        text-align: right;\n",
       "    }\n",
       "</style>\n",
       "<table border=\"1\" class=\"dataframe\">\n",
       "  <thead>\n",
       "    <tr style=\"text-align: right;\">\n",
       "      <th></th>\n",
       "      <th>XXX</th>\n",
       "      <th>YYY</th>\n",
       "    </tr>\n",
       "  </thead>\n",
       "  <tbody>\n",
       "    <tr>\n",
       "      <th>0</th>\n",
       "      <td>1.0</td>\n",
       "      <td>A</td>\n",
       "    </tr>\n",
       "    <tr>\n",
       "      <th>1</th>\n",
       "      <td>2.0</td>\n",
       "      <td>B</td>\n",
       "    </tr>\n",
       "    <tr>\n",
       "      <th>2</th>\n",
       "      <td>3.0</td>\n",
       "      <td>C</td>\n",
       "    </tr>\n",
       "    <tr>\n",
       "      <th>3</th>\n",
       "      <td>6.0</td>\n",
       "      <td>A</td>\n",
       "    </tr>\n",
       "    <tr>\n",
       "      <th>4</th>\n",
       "      <td>5.0</td>\n",
       "      <td>B</td>\n",
       "    </tr>\n",
       "    <tr>\n",
       "      <th>5</th>\n",
       "      <td>6.0</td>\n",
       "      <td>C</td>\n",
       "    </tr>\n",
       "    <tr>\n",
       "      <th>6</th>\n",
       "      <td>7.0</td>\n",
       "      <td>A</td>\n",
       "    </tr>\n",
       "    <tr>\n",
       "      <th>7</th>\n",
       "      <td>8.0</td>\n",
       "      <td>B</td>\n",
       "    </tr>\n",
       "    <tr>\n",
       "      <th>8</th>\n",
       "      <td>9.0</td>\n",
       "      <td>C</td>\n",
       "    </tr>\n",
       "    <tr>\n",
       "      <th>9</th>\n",
       "      <td>10.0</td>\n",
       "      <td>A</td>\n",
       "    </tr>\n",
       "  </tbody>\n",
       "</table>\n",
       "</div>"
      ],
      "text/plain": [
       "    XXX YYY\n",
       "0   1.0   A\n",
       "1   2.0   B\n",
       "2   3.0   C\n",
       "3   6.0   A\n",
       "4   5.0   B\n",
       "5   6.0   C\n",
       "6   7.0   A\n",
       "7   8.0   B\n",
       "8   9.0   C\n",
       "9  10.0   A"
      ]
     },
     "execution_count": 94,
     "metadata": {},
     "output_type": "execute_result"
    }
   ],
   "source": [
    "# df['補完対象列名'] = df.groupby('グループ化列名')['補完対象列名'].transform...\n",
    "df['XXX'] = df.groupby('YYY')['XXX'].transform(lambda d: d.fillna(d.mean()))\n",
    "df # XXX列3番行が (1+7+10) / 3 = 6 で補完される。"
   ]
  },
  {
   "cell_type": "markdown",
   "id": "17e4862e-9c73-48a6-b5ad-f62c55517f8f",
   "metadata": {
    "tags": []
   },
   "source": [
    "#### データの構築"
   ]
  },
  {
   "cell_type": "markdown",
   "id": "6d27f98d-9839-40fd-898d-2c2c3c18875a",
   "metadata": {},
   "source": [
    "##### 単一属性変換"
   ]
  },
  {
   "cell_type": "markdown",
   "id": "0940bf9a-99de-417e-a6f2-6b2e92239c85",
   "metadata": {},
   "source": [
    "###### カテゴリ → 数値"
   ]
  },
  {
   "cell_type": "code",
   "execution_count": 95,
   "id": "e5283bd7-e2f2-4352-84a0-e65387b14165",
   "metadata": {},
   "outputs": [
    {
     "data": {
      "text/html": [
       "<div>\n",
       "<style scoped>\n",
       "    .dataframe tbody tr th:only-of-type {\n",
       "        vertical-align: middle;\n",
       "    }\n",
       "\n",
       "    .dataframe tbody tr th {\n",
       "        vertical-align: top;\n",
       "    }\n",
       "\n",
       "    .dataframe thead th {\n",
       "        text-align: right;\n",
       "    }\n",
       "</style>\n",
       "<table border=\"1\" class=\"dataframe\">\n",
       "  <thead>\n",
       "    <tr style=\"text-align: right;\">\n",
       "      <th></th>\n",
       "      <th>XXX</th>\n",
       "      <th>YYY</th>\n",
       "    </tr>\n",
       "  </thead>\n",
       "  <tbody>\n",
       "    <tr>\n",
       "      <th>0</th>\n",
       "      <td>1.0</td>\n",
       "      <td>1</td>\n",
       "    </tr>\n",
       "    <tr>\n",
       "      <th>1</th>\n",
       "      <td>2.0</td>\n",
       "      <td>2</td>\n",
       "    </tr>\n",
       "    <tr>\n",
       "      <th>2</th>\n",
       "      <td>3.0</td>\n",
       "      <td>3</td>\n",
       "    </tr>\n",
       "    <tr>\n",
       "      <th>3</th>\n",
       "      <td>6.0</td>\n",
       "      <td>1</td>\n",
       "    </tr>\n",
       "    <tr>\n",
       "      <th>4</th>\n",
       "      <td>5.0</td>\n",
       "      <td>2</td>\n",
       "    </tr>\n",
       "    <tr>\n",
       "      <th>5</th>\n",
       "      <td>6.0</td>\n",
       "      <td>3</td>\n",
       "    </tr>\n",
       "    <tr>\n",
       "      <th>6</th>\n",
       "      <td>7.0</td>\n",
       "      <td>1</td>\n",
       "    </tr>\n",
       "    <tr>\n",
       "      <th>7</th>\n",
       "      <td>8.0</td>\n",
       "      <td>2</td>\n",
       "    </tr>\n",
       "    <tr>\n",
       "      <th>8</th>\n",
       "      <td>9.0</td>\n",
       "      <td>3</td>\n",
       "    </tr>\n",
       "    <tr>\n",
       "      <th>9</th>\n",
       "      <td>10.0</td>\n",
       "      <td>1</td>\n",
       "    </tr>\n",
       "  </tbody>\n",
       "</table>\n",
       "</div>"
      ],
      "text/plain": [
       "    XXX  YYY\n",
       "0   1.0    1\n",
       "1   2.0    2\n",
       "2   3.0    3\n",
       "3   6.0    1\n",
       "4   5.0    2\n",
       "5   6.0    3\n",
       "6   7.0    1\n",
       "7   8.0    2\n",
       "8   9.0    3\n",
       "9  10.0    1"
      ]
     },
     "execution_count": 95,
     "metadata": {},
     "output_type": "execute_result"
    }
   ],
   "source": [
    "# df['列名'] = df['列名'].map({'カテゴリ1':数値1, 'カテゴリ2':数値2, ..., 'カテゴリn':数値n})\n",
    "df2 = df.copy()\n",
    "df['YYY'] = df['YYY'].map({'A':1, 'B':2, 'C':3})\n",
    "df"
   ]
  },
  {
   "cell_type": "markdown",
   "id": "416f6892-7f0f-40ab-9d3a-a7163c343994",
   "metadata": {},
   "source": [
    "###### 数値 → カテゴリ"
   ]
  },
  {
   "cell_type": "code",
   "execution_count": 96,
   "id": "1e1f6380-b463-42a3-a2c7-60e722c6dade",
   "metadata": {},
   "outputs": [
    {
     "data": {
      "text/html": [
       "<div>\n",
       "<style scoped>\n",
       "    .dataframe tbody tr th:only-of-type {\n",
       "        vertical-align: middle;\n",
       "    }\n",
       "\n",
       "    .dataframe tbody tr th {\n",
       "        vertical-align: top;\n",
       "    }\n",
       "\n",
       "    .dataframe thead th {\n",
       "        text-align: right;\n",
       "    }\n",
       "</style>\n",
       "<table border=\"1\" class=\"dataframe\">\n",
       "  <thead>\n",
       "    <tr style=\"text-align: right;\">\n",
       "      <th></th>\n",
       "      <th>XXX</th>\n",
       "      <th>YYY</th>\n",
       "    </tr>\n",
       "  </thead>\n",
       "  <tbody>\n",
       "    <tr>\n",
       "      <th>0</th>\n",
       "      <td>1.0</td>\n",
       "      <td>A</td>\n",
       "    </tr>\n",
       "    <tr>\n",
       "      <th>1</th>\n",
       "      <td>2.0</td>\n",
       "      <td>B</td>\n",
       "    </tr>\n",
       "    <tr>\n",
       "      <th>2</th>\n",
       "      <td>3.0</td>\n",
       "      <td>C</td>\n",
       "    </tr>\n",
       "    <tr>\n",
       "      <th>3</th>\n",
       "      <td>6.0</td>\n",
       "      <td>A</td>\n",
       "    </tr>\n",
       "    <tr>\n",
       "      <th>4</th>\n",
       "      <td>5.0</td>\n",
       "      <td>B</td>\n",
       "    </tr>\n",
       "    <tr>\n",
       "      <th>5</th>\n",
       "      <td>6.0</td>\n",
       "      <td>C</td>\n",
       "    </tr>\n",
       "    <tr>\n",
       "      <th>6</th>\n",
       "      <td>7.0</td>\n",
       "      <td>A</td>\n",
       "    </tr>\n",
       "    <tr>\n",
       "      <th>7</th>\n",
       "      <td>8.0</td>\n",
       "      <td>B</td>\n",
       "    </tr>\n",
       "    <tr>\n",
       "      <th>8</th>\n",
       "      <td>9.0</td>\n",
       "      <td>C</td>\n",
       "    </tr>\n",
       "    <tr>\n",
       "      <th>9</th>\n",
       "      <td>10.0</td>\n",
       "      <td>A</td>\n",
       "    </tr>\n",
       "  </tbody>\n",
       "</table>\n",
       "</div>"
      ],
      "text/plain": [
       "    XXX YYY\n",
       "0   1.0   A\n",
       "1   2.0   B\n",
       "2   3.0   C\n",
       "3   6.0   A\n",
       "4   5.0   B\n",
       "5   6.0   C\n",
       "6   7.0   A\n",
       "7   8.0   B\n",
       "8   9.0   C\n",
       "9  10.0   A"
      ]
     },
     "execution_count": 96,
     "metadata": {},
     "output_type": "execute_result"
    }
   ],
   "source": [
    "# df['列名'] = df['列名'].map({数値1:'カテゴリ1', 数値2:'カテゴリ2', ..., 数値n:'カテゴリn'})\n",
    "df2['YYY'] = df['YYY'].map({1:'A', 2:'B', 3:'C'})\n",
    "df2"
   ]
  },
  {
   "cell_type": "markdown",
   "id": "9d4ba007-06df-42f5-a13c-021ccf3c5fac",
   "metadata": {
    "tags": []
   },
   "source": [
    "#### データの統合"
   ]
  },
  {
   "cell_type": "markdown",
   "id": "50098a09-5f66-463a-9636-796dd43a6d38",
   "metadata": {},
   "source": [
    "##### One-Hotエンコーディング\n",
    "- Pandasの場合、get_dummiesを使う。\n",
    "- [NumPyの場合、to_categoricalを使う。](NumPyTraining.ipynb)"
   ]
  },
  {
   "cell_type": "markdown",
   "id": "289bc3cd-14c7-4b80-8d51-a804895a2124",
   "metadata": {},
   "source": [
    "###### カテゴリを列に展開（0・1化）など。"
   ]
  },
  {
   "cell_type": "code",
   "execution_count": 97,
   "id": "f925588b-086e-4c6e-aa98-24581e1b2a5a",
   "metadata": {},
   "outputs": [
    {
     "data": {
      "text/html": [
       "<div>\n",
       "<style scoped>\n",
       "    .dataframe tbody tr th:only-of-type {\n",
       "        vertical-align: middle;\n",
       "    }\n",
       "\n",
       "    .dataframe tbody tr th {\n",
       "        vertical-align: top;\n",
       "    }\n",
       "\n",
       "    .dataframe thead th {\n",
       "        text-align: right;\n",
       "    }\n",
       "</style>\n",
       "<table border=\"1\" class=\"dataframe\">\n",
       "  <thead>\n",
       "    <tr style=\"text-align: right;\">\n",
       "      <th></th>\n",
       "      <th>1</th>\n",
       "      <th>2</th>\n",
       "      <th>3</th>\n",
       "    </tr>\n",
       "  </thead>\n",
       "  <tbody>\n",
       "    <tr>\n",
       "      <th>0</th>\n",
       "      <td>True</td>\n",
       "      <td>False</td>\n",
       "      <td>False</td>\n",
       "    </tr>\n",
       "    <tr>\n",
       "      <th>1</th>\n",
       "      <td>False</td>\n",
       "      <td>True</td>\n",
       "      <td>False</td>\n",
       "    </tr>\n",
       "    <tr>\n",
       "      <th>2</th>\n",
       "      <td>False</td>\n",
       "      <td>False</td>\n",
       "      <td>True</td>\n",
       "    </tr>\n",
       "    <tr>\n",
       "      <th>3</th>\n",
       "      <td>True</td>\n",
       "      <td>False</td>\n",
       "      <td>False</td>\n",
       "    </tr>\n",
       "    <tr>\n",
       "      <th>4</th>\n",
       "      <td>False</td>\n",
       "      <td>True</td>\n",
       "      <td>False</td>\n",
       "    </tr>\n",
       "    <tr>\n",
       "      <th>5</th>\n",
       "      <td>False</td>\n",
       "      <td>False</td>\n",
       "      <td>True</td>\n",
       "    </tr>\n",
       "    <tr>\n",
       "      <th>6</th>\n",
       "      <td>True</td>\n",
       "      <td>False</td>\n",
       "      <td>False</td>\n",
       "    </tr>\n",
       "    <tr>\n",
       "      <th>7</th>\n",
       "      <td>False</td>\n",
       "      <td>True</td>\n",
       "      <td>False</td>\n",
       "    </tr>\n",
       "    <tr>\n",
       "      <th>8</th>\n",
       "      <td>False</td>\n",
       "      <td>False</td>\n",
       "      <td>True</td>\n",
       "    </tr>\n",
       "    <tr>\n",
       "      <th>9</th>\n",
       "      <td>True</td>\n",
       "      <td>False</td>\n",
       "      <td>False</td>\n",
       "    </tr>\n",
       "  </tbody>\n",
       "</table>\n",
       "</div>"
      ],
      "text/plain": [
       "       1      2      3\n",
       "0   True  False  False\n",
       "1  False   True  False\n",
       "2  False  False   True\n",
       "3   True  False  False\n",
       "4  False   True  False\n",
       "5  False  False   True\n",
       "6   True  False  False\n",
       "7  False   True  False\n",
       "8  False  False   True\n",
       "9   True  False  False"
      ]
     },
     "execution_count": 97,
     "metadata": {},
     "output_type": "execute_result"
    }
   ],
   "source": [
    "pd.get_dummies(df['YYY'])"
   ]
  },
  {
   "cell_type": "markdown",
   "id": "b16fefe7-f185-43ff-a101-1a35e4f3df44",
   "metadata": {},
   "source": [
    "###### 展開した列を表に追加する流れ"
   ]
  },
  {
   "cell_type": "code",
   "execution_count": 98,
   "id": "739d3f50-986d-413f-8b3e-3fe2fad846f8",
   "metadata": {},
   "outputs": [
    {
     "data": {
      "text/html": [
       "<div>\n",
       "<style scoped>\n",
       "    .dataframe tbody tr th:only-of-type {\n",
       "        vertical-align: middle;\n",
       "    }\n",
       "\n",
       "    .dataframe tbody tr th {\n",
       "        vertical-align: top;\n",
       "    }\n",
       "\n",
       "    .dataframe thead th {\n",
       "        text-align: right;\n",
       "    }\n",
       "</style>\n",
       "<table border=\"1\" class=\"dataframe\">\n",
       "  <thead>\n",
       "    <tr style=\"text-align: right;\">\n",
       "      <th></th>\n",
       "      <th>XXX</th>\n",
       "      <th>YYY</th>\n",
       "      <th>1</th>\n",
       "      <th>2</th>\n",
       "      <th>3</th>\n",
       "    </tr>\n",
       "  </thead>\n",
       "  <tbody>\n",
       "    <tr>\n",
       "      <th>0</th>\n",
       "      <td>1.0</td>\n",
       "      <td>1</td>\n",
       "      <td>True</td>\n",
       "      <td>False</td>\n",
       "      <td>False</td>\n",
       "    </tr>\n",
       "    <tr>\n",
       "      <th>1</th>\n",
       "      <td>2.0</td>\n",
       "      <td>2</td>\n",
       "      <td>False</td>\n",
       "      <td>True</td>\n",
       "      <td>False</td>\n",
       "    </tr>\n",
       "    <tr>\n",
       "      <th>2</th>\n",
       "      <td>3.0</td>\n",
       "      <td>3</td>\n",
       "      <td>False</td>\n",
       "      <td>False</td>\n",
       "      <td>True</td>\n",
       "    </tr>\n",
       "    <tr>\n",
       "      <th>3</th>\n",
       "      <td>6.0</td>\n",
       "      <td>1</td>\n",
       "      <td>True</td>\n",
       "      <td>False</td>\n",
       "      <td>False</td>\n",
       "    </tr>\n",
       "    <tr>\n",
       "      <th>4</th>\n",
       "      <td>5.0</td>\n",
       "      <td>2</td>\n",
       "      <td>False</td>\n",
       "      <td>True</td>\n",
       "      <td>False</td>\n",
       "    </tr>\n",
       "    <tr>\n",
       "      <th>5</th>\n",
       "      <td>6.0</td>\n",
       "      <td>3</td>\n",
       "      <td>False</td>\n",
       "      <td>False</td>\n",
       "      <td>True</td>\n",
       "    </tr>\n",
       "    <tr>\n",
       "      <th>6</th>\n",
       "      <td>7.0</td>\n",
       "      <td>1</td>\n",
       "      <td>True</td>\n",
       "      <td>False</td>\n",
       "      <td>False</td>\n",
       "    </tr>\n",
       "    <tr>\n",
       "      <th>7</th>\n",
       "      <td>8.0</td>\n",
       "      <td>2</td>\n",
       "      <td>False</td>\n",
       "      <td>True</td>\n",
       "      <td>False</td>\n",
       "    </tr>\n",
       "    <tr>\n",
       "      <th>8</th>\n",
       "      <td>9.0</td>\n",
       "      <td>3</td>\n",
       "      <td>False</td>\n",
       "      <td>False</td>\n",
       "      <td>True</td>\n",
       "    </tr>\n",
       "    <tr>\n",
       "      <th>9</th>\n",
       "      <td>10.0</td>\n",
       "      <td>1</td>\n",
       "      <td>True</td>\n",
       "      <td>False</td>\n",
       "      <td>False</td>\n",
       "    </tr>\n",
       "  </tbody>\n",
       "</table>\n",
       "</div>"
      ],
      "text/plain": [
       "    XXX  YYY      1      2      3\n",
       "0   1.0    1   True  False  False\n",
       "1   2.0    2  False   True  False\n",
       "2   3.0    3  False  False   True\n",
       "3   6.0    1   True  False  False\n",
       "4   5.0    2  False   True  False\n",
       "5   6.0    3  False  False   True\n",
       "6   7.0    1   True  False  False\n",
       "7   8.0    2  False   True  False\n",
       "8   9.0    3  False  False   True\n",
       "9  10.0    1   True  False  False"
      ]
     },
     "execution_count": 98,
     "metadata": {},
     "output_type": "execute_result"
    }
   ],
   "source": [
    "df_dummy = pd.get_dummies(df['YYY'])\n",
    "df = pd.concat([df, df_dummy], axis=1)\n",
    "df"
   ]
  }
 ],
 "metadata": {
  "kernelspec": {
   "display_name": "Python 3 (ipykernel)",
   "language": "python",
   "name": "python3"
  },
  "language_info": {
   "codemirror_mode": {
    "name": "ipython",
    "version": 3
   },
   "file_extension": ".py",
   "mimetype": "text/x-python",
   "name": "python",
   "nbconvert_exporter": "python",
   "pygments_lexer": "ipython3",
   "version": "3.10.6"
  }
 },
 "nbformat": 4,
 "nbformat_minor": 5
}
