{
 "cells": [
  {
   "cell_type": "markdown",
   "id": "10d8894f-c5ae-4771-8134-f3fb1add7cd4",
   "metadata": {},
   "source": [
    "# NumPyのトレーニング♨\n",
    "行列（→ [配列（ベクトル）](NumPyTraining1.ipynb)）。\n",
    "  \n",
    "## [目次](TableOfContents.ipynb)\n",
    "- [環境準備](#環境準備)\n",
    "- [操作](#操作)\n",
    "  - [生成](#生成)\n",
    "  - [コピー](#コピー)\n",
    "  - [表示](#表示)\n",
    "- [計算](#計算)\n",
    "  - [算術計算](#算術計算)\n",
    "  - [統計計算](#統計計算)\n",
    "- [アクセス](#アクセス)\n",
    "  - [インデックス番号で指定](#インデックス番号で指定)\n",
    "  - [複数要素の抽出](#複数要素の抽出)\n",
    "  - [複数要素の置換](#複数要素の置換)\n",
    "- [行列の積算（ドット積）](#行列の積算（ドット積）)\n",
    "  - [データ生成](#データ生成)\n",
    "  - [計算方法](#計算方法)\n",
    "  - [交換法則](#交換法則)\n",
    "  \n",
    "## 参考\n",
    "開発基盤部会 Wiki\n",
    "- NumPy  \n",
    "https://dotnetdevelopmentinfrastructure.osscons.jp/index.php?NumPy"
   ]
  },
  {
   "cell_type": "markdown",
   "id": "4793a63e-553c-48cf-8ea0-1d52c544fa36",
   "metadata": {},
   "source": [
    "## [環境準備](NumPyTraining1.ipynb)"
   ]
  },
  {
   "cell_type": "code",
   "execution_count": 1,
   "id": "4d219204-9264-4caa-baec-5ed10802348c",
   "metadata": {},
   "outputs": [],
   "source": [
    "import numpy as np"
   ]
  },
  {
   "cell_type": "code",
   "execution_count": 2,
   "id": "1ed54b77-1d55-439f-ba29-db552f747a23",
   "metadata": {},
   "outputs": [],
   "source": [
    "import warnings\n",
    "warnings.filterwarnings('ignore')"
   ]
  },
  {
   "cell_type": "markdown",
   "id": "b86d6663-b0e7-4273-93b4-7f806074432e",
   "metadata": {
    "tags": []
   },
   "source": [
    "## 操作\n",
    "２次元テンソルは行列とも呼ばれる。"
   ]
  },
  {
   "cell_type": "markdown",
   "id": "27d6b978-1359-44fc-ba9a-bcd0767cb4fe",
   "metadata": {},
   "source": [
    "### 生成"
   ]
  },
  {
   "cell_type": "markdown",
   "id": "440b4deb-0c2d-4e6c-b917-e022855eea78",
   "metadata": {},
   "source": [
    "#### 通常"
   ]
  },
  {
   "cell_type": "code",
   "execution_count": 3,
   "id": "57d248be-a61d-4a4b-bb10-4806f7b6bd46",
   "metadata": {},
   "outputs": [
    {
     "data": {
      "text/plain": [
       "array([[1, 2],\n",
       "       [3, 4],\n",
       "       [5, 6]])"
      ]
     },
     "execution_count": 3,
     "metadata": {},
     "output_type": "execute_result"
    }
   ],
   "source": [
    "a=np.array([[1,2],[3,4],[5,6]])\n",
    "a"
   ]
  },
  {
   "cell_type": "markdown",
   "id": "c06c6a15-d2f6-4182-bced-6ed655a5f79d",
   "metadata": {},
   "source": [
    "#### 型指定"
   ]
  },
  {
   "cell_type": "code",
   "execution_count": 4,
   "id": "4329a55b-7e1a-40c9-b467-6ba8eec4ecd1",
   "metadata": {},
   "outputs": [
    {
     "data": {
      "text/plain": [
       "array([[1, 2],\n",
       "       [3, 4],\n",
       "       [5, 6]], dtype=int32)"
      ]
     },
     "execution_count": 4,
     "metadata": {},
     "output_type": "execute_result"
    }
   ],
   "source": [
    "a=np.array([[1,2],[3,4],[5,6]], dtype=np.int32)\n",
    "a"
   ]
  },
  {
   "cell_type": "markdown",
   "id": "c60348b7-b6c8-426d-bc97-070880644c15",
   "metadata": {},
   "source": [
    "### コピー"
   ]
  },
  {
   "cell_type": "markdown",
   "id": "24ba99b4-8d35-491b-9041-530a6e964271",
   "metadata": {},
   "source": [
    "#### 以下は参照渡し"
   ]
  },
  {
   "cell_type": "code",
   "execution_count": 5,
   "id": "29f25b4e-ed28-4b16-ad59-ff418ed5013c",
   "metadata": {},
   "outputs": [
    {
     "name": "stdout",
     "output_type": "stream",
     "text": [
      "[[  1   2]\n",
      " [  3 100]\n",
      " [  5   6]]\n",
      "[[  1   2]\n",
      " [  3 100]\n",
      " [  5   6]]\n"
     ]
    }
   ],
   "source": [
    "a=np.array([[1,2],[3,4],[5,6]])\n",
    "b=a\n",
    "b[1,1]=100\n",
    "print(a)\n",
    "print(b)"
   ]
  },
  {
   "cell_type": "markdown",
   "id": "70b4c057-b3af-4777-b0ac-a05f9e0b4221",
   "metadata": {},
   "source": [
    "#### コピーする場合は以下"
   ]
  },
  {
   "cell_type": "code",
   "execution_count": 6,
   "id": "3171d24b-3783-4280-8335-53c8e5cff87b",
   "metadata": {},
   "outputs": [
    {
     "name": "stdout",
     "output_type": "stream",
     "text": [
      "[[1 2]\n",
      " [3 4]\n",
      " [5 6]]\n",
      "[[  1   2]\n",
      " [  3 100]\n",
      " [  5   6]]\n"
     ]
    }
   ],
   "source": [
    "a=np.array([[1,2],[3,4],[5,6]])\n",
    "b=a.copy()\n",
    "b[1,1]=100\n",
    "print(a)\n",
    "print(b)"
   ]
  },
  {
   "cell_type": "markdown",
   "id": "6f3ccff0-1e12-4ac3-9487-32d91fe469e6",
   "metadata": {},
   "source": [
    "### 表示"
   ]
  },
  {
   "cell_type": "markdown",
   "id": "70982ea5-889a-45af-b641-d46759351d9c",
   "metadata": {},
   "source": [
    "#### 生"
   ]
  },
  {
   "cell_type": "code",
   "execution_count": 7,
   "id": "c252735f-9e51-4807-8c3a-69969519c6ab",
   "metadata": {},
   "outputs": [
    {
     "data": {
      "text/plain": [
       "array([[1, 2],\n",
       "       [3, 4],\n",
       "       [5, 6]])"
      ]
     },
     "execution_count": 7,
     "metadata": {},
     "output_type": "execute_result"
    }
   ],
   "source": [
    "a"
   ]
  },
  {
   "cell_type": "markdown",
   "id": "45c056d4-b721-4ace-a116-f8bf262d8a30",
   "metadata": {},
   "source": [
    "#### print"
   ]
  },
  {
   "cell_type": "code",
   "execution_count": 8,
   "id": "e42c1d84-7f9c-4dfc-a5bd-52d89ab4b3a7",
   "metadata": {},
   "outputs": [
    {
     "name": "stdout",
     "output_type": "stream",
     "text": [
      "[[1 2]\n",
      " [3 4]\n",
      " [5 6]]\n"
     ]
    }
   ],
   "source": [
    "print(a)"
   ]
  },
  {
   "cell_type": "markdown",
   "id": "e87403ee-f27a-402f-ac8a-25f28c667890",
   "metadata": {},
   "source": [
    "#### その他の関数"
   ]
  },
  {
   "cell_type": "markdown",
   "id": "93733cf7-b9e0-4ebe-ad44-a55178b6e683",
   "metadata": {},
   "source": [
    "##### type (型"
   ]
  },
  {
   "cell_type": "code",
   "execution_count": 9,
   "id": "22fbf9a4-65fe-4710-874c-7c895e6b69d8",
   "metadata": {},
   "outputs": [
    {
     "data": {
      "text/plain": [
       "numpy.ndarray"
      ]
     },
     "execution_count": 9,
     "metadata": {},
     "output_type": "execute_result"
    }
   ],
   "source": [
    "type(a)"
   ]
  },
  {
   "cell_type": "markdown",
   "id": "1cde70ee-4584-4c95-8b53-701f2c029ea7",
   "metadata": {},
   "source": [
    "##### dtype\n",
    "要素のデータ型"
   ]
  },
  {
   "cell_type": "code",
   "execution_count": 10,
   "id": "6457f8fe-74f5-482b-a714-c5ba373b1a99",
   "metadata": {},
   "outputs": [
    {
     "data": {
      "text/plain": [
       "dtype('int64')"
      ]
     },
     "execution_count": 10,
     "metadata": {},
     "output_type": "execute_result"
    }
   ],
   "source": [
    "a.dtype"
   ]
  },
  {
   "cell_type": "markdown",
   "id": "5dbe33ad-e398-497c-9e2d-9b4a02d14d4d",
   "metadata": {},
   "source": [
    "##### ndim\n",
    "行列の次元は２次元"
   ]
  },
  {
   "cell_type": "code",
   "execution_count": 11,
   "id": "2c4ba95a-b8ac-471f-bd1e-ba2851660dd5",
   "metadata": {},
   "outputs": [
    {
     "data": {
      "text/plain": [
       "2"
      ]
     },
     "execution_count": 11,
     "metadata": {},
     "output_type": "execute_result"
    }
   ],
   "source": [
    "np.ndim(a)"
   ]
  },
  {
   "cell_type": "markdown",
   "id": "2ed2cc90-a44d-42f9-9f77-114bda3408a3",
   "metadata": {},
   "source": [
    "##### shape\n",
    "次元の形状 (行数, 列数"
   ]
  },
  {
   "cell_type": "code",
   "execution_count": 12,
   "id": "47ed4e63-1f00-43a3-ad5b-35912467c542",
   "metadata": {},
   "outputs": [
    {
     "data": {
      "text/plain": [
       "(3, 2)"
      ]
     },
     "execution_count": 12,
     "metadata": {},
     "output_type": "execute_result"
    }
   ],
   "source": [
    "a.shape"
   ]
  },
  {
   "cell_type": "markdown",
   "id": "55f76598-5880-4f01-b9c8-058a7689ede1",
   "metadata": {},
   "source": [
    "##### shape[n] \n",
    "ｎ次元の要素数（０：行数、１：列数"
   ]
  },
  {
   "cell_type": "code",
   "execution_count": 13,
   "id": "4e990028-fb4e-4394-b1a5-ed814ed2df31",
   "metadata": {},
   "outputs": [
    {
     "data": {
      "text/plain": [
       "3"
      ]
     },
     "execution_count": 13,
     "metadata": {},
     "output_type": "execute_result"
    }
   ],
   "source": [
    "a.shape[0]"
   ]
  },
  {
   "cell_type": "markdown",
   "id": "005bd116-b380-4a0f-a4a9-30af7c4a27a9",
   "metadata": {},
   "source": [
    "## 計算"
   ]
  },
  {
   "cell_type": "markdown",
   "id": "6c9e5b19-d0be-4248-a885-0806983cce36",
   "metadata": {},
   "source": [
    "### 算術計算"
   ]
  },
  {
   "cell_type": "markdown",
   "id": "b8f74739-a780-465a-9026-702c23b6b2b4",
   "metadata": {},
   "source": [
    "#### 四則演算\n",
    "２つのNumPy行列を算術計算で処理する。"
   ]
  },
  {
   "cell_type": "markdown",
   "id": "4c6ba2fb-6373-4bb6-9e4d-b6b654818bc8",
   "metadata": {},
   "source": [
    "##### 要素ごとの足し算"
   ]
  },
  {
   "cell_type": "markdown",
   "id": "a61eeb40-e380-445c-a764-317b3797006c",
   "metadata": {},
   "source": [
    "###### 行列数が同じ"
   ]
  },
  {
   "cell_type": "code",
   "execution_count": 14,
   "id": "8472ca1c-2bab-4f5b-9fef-6c22c07b79b6",
   "metadata": {},
   "outputs": [
    {
     "data": {
      "text/plain": [
       "array([[ 4,  2],\n",
       "       [ 3, 10]])"
      ]
     },
     "execution_count": 14,
     "metadata": {},
     "output_type": "execute_result"
    }
   ],
   "source": [
    "x=np.array([[1, 2], [3, 4]])\n",
    "y=np.array([[3, 0], [0, 6]])\n",
    "x+y"
   ]
  },
  {
   "cell_type": "markdown",
   "id": "5d7b6f4f-00f7-403d-b51c-ef78c7bec271",
   "metadata": {},
   "source": [
    "###### 行列数が異なる（ブロード・キャスト）"
   ]
  },
  {
   "cell_type": "code",
   "execution_count": 15,
   "id": "21c1f4a8-9f25-4c35-a8c0-b767168d46b9",
   "metadata": {},
   "outputs": [
    {
     "data": {
      "text/plain": [
       "array([[11, 22],\n",
       "       [13, 24]])"
      ]
     },
     "execution_count": 15,
     "metadata": {},
     "output_type": "execute_result"
    }
   ],
   "source": [
    "x=np.array([[1, 2], [3, 4]])\n",
    "y=np.array([10,20])\n",
    "x+y"
   ]
  },
  {
   "cell_type": "markdown",
   "id": "9c9a5c6b-b490-4567-98af-419621d5d588",
   "metadata": {},
   "source": [
    "##### 要素ごとの掛け算\n",
    "※ 行列の積ではないので注意。"
   ]
  },
  {
   "cell_type": "markdown",
   "id": "194fa4f9-7b5c-4279-addb-758e8edbcba5",
   "metadata": {},
   "source": [
    "###### 行列数が同じ"
   ]
  },
  {
   "cell_type": "code",
   "execution_count": 16,
   "id": "986788ef-61eb-4de0-a9d6-bb318f890d3e",
   "metadata": {},
   "outputs": [
    {
     "data": {
      "text/plain": [
       "array([[ 3,  0],\n",
       "       [ 0, 24]])"
      ]
     },
     "execution_count": 16,
     "metadata": {},
     "output_type": "execute_result"
    }
   ],
   "source": [
    "x=np.array([[1, 2], [3, 4]])\n",
    "y=np.array([[3, 0], [0, 6]])\n",
    "x*y"
   ]
  },
  {
   "cell_type": "markdown",
   "id": "e92194b1-68b3-4298-9df5-9bdc4751b08c",
   "metadata": {},
   "source": [
    "###### 行列数が異なる（ブロード・キャスト）"
   ]
  },
  {
   "cell_type": "code",
   "execution_count": 17,
   "id": "142b4bcc-7f1a-4d18-882f-4ea68f7aecae",
   "metadata": {},
   "outputs": [
    {
     "data": {
      "text/plain": [
       "array([[10, 40],\n",
       "       [30, 80]])"
      ]
     },
     "execution_count": 17,
     "metadata": {},
     "output_type": "execute_result"
    }
   ],
   "source": [
    "x=np.array([[1, 2], [3, 4]])\n",
    "y=np.array([10,20])\n",
    "x*y"
   ]
  },
  {
   "cell_type": "markdown",
   "id": "47ace406-7574-45f8-aa8c-1fafe6f298c8",
   "metadata": {},
   "source": [
    "#### その他の計算\n",
    "[配列（ベクトル）の \"算術計算 > その他の計算\"](NumPyTraining1.ipynb) と同じように計算できなかった。  \n",
    "ベクトルを行列に変換して計算してみると良い（結果がエラーになる）。"
   ]
  },
  {
   "cell_type": "markdown",
   "id": "a8238fea-bd2c-441d-9f66-68391053a403",
   "metadata": {},
   "source": [
    "### 統計計算\n",
    "[配列（ベクトル）の統計計算](NumPyTraining1.ipynb)と同じように計算できる。  \n",
    "ベクトルを行列に変換して計算してみると良い（結果が同じになる）。"
   ]
  },
  {
   "cell_type": "markdown",
   "id": "b8713d86-82c2-4b48-bd5b-4eb036277e25",
   "metadata": {},
   "source": [
    "#### 準備\n",
    "（標準正規分布）"
   ]
  },
  {
   "cell_type": "code",
   "execution_count": 18,
   "id": "3f2e3402-9ede-4e9a-8f63-1304c8a9ae22",
   "metadata": {},
   "outputs": [
    {
     "name": "stdout",
     "output_type": "stream",
     "text": [
      "[[ 1.25544935 -1.11541626  2.30541631]\n",
      " [-0.78433206 -1.77866106  0.47138806]\n",
      " [-1.09904526  1.4424425  -0.75359868]\n",
      " [-1.0096699  -1.80410616 -0.23108525]]\n"
     ]
    }
   ],
   "source": [
    "x=np.random.randn(12)\n",
    "x=np.reshape(x,[4,3]) # ベクトルを行列に変換（後述\n",
    "print(x)"
   ]
  },
  {
   "cell_type": "markdown",
   "id": "31035747-fc27-4014-a3b1-6d89e08be02e",
   "metadata": {},
   "source": [
    "#### 符号"
   ]
  },
  {
   "cell_type": "code",
   "execution_count": 19,
   "id": "dc484001-a6fb-476a-a1c8-2875ac3d7558",
   "metadata": {},
   "outputs": [
    {
     "name": "stdout",
     "output_type": "stream",
     "text": [
      "[[ 1. -1.  1.]\n",
      " [-1. -1.  1.]\n",
      " [-1.  1. -1.]\n",
      " [-1. -1. -1.]]\n"
     ]
    }
   ],
   "source": [
    "print(np.sign(x))"
   ]
  },
  {
   "cell_type": "markdown",
   "id": "cd00ef85-144a-4780-bc0e-2fe5561c1ca0",
   "metadata": {},
   "source": [
    "#### 平均値\n",
    "標準正規分布で要素数を増やすと０に近づく"
   ]
  },
  {
   "cell_type": "code",
   "execution_count": 20,
   "id": "2bcb9900-ec58-4768-821a-a0afd4dd483a",
   "metadata": {},
   "outputs": [
    {
     "name": "stdout",
     "output_type": "stream",
     "text": [
      "-0.25843486708867297\n"
     ]
    }
   ],
   "source": [
    "print(x.mean())"
   ]
  },
  {
   "cell_type": "markdown",
   "id": "9792c2bb-b157-45c0-86aa-42d1b3c8d937",
   "metadata": {},
   "source": [
    "#### 中央値"
   ]
  },
  {
   "cell_type": "code",
   "execution_count": 21,
   "id": "f32df84b-e193-42a2-9a39-08715d185d0e",
   "metadata": {},
   "outputs": [
    {
     "data": {
      "text/plain": [
       "np.float64(-0.7689653676546311)"
      ]
     },
     "execution_count": 21,
     "metadata": {},
     "output_type": "execute_result"
    }
   ],
   "source": [
    "np.median(x)"
   ]
  },
  {
   "cell_type": "markdown",
   "id": "debc3535-eb13-438a-94a1-0a46a1037cd5",
   "metadata": {},
   "source": [
    "#### 標準偏差\n",
    "標準正規分布で要素数を増やすと１に近づく"
   ]
  },
  {
   "cell_type": "code",
   "execution_count": 22,
   "id": "78adec4e-efd1-43e5-8409-ac4d6f61b46c",
   "metadata": {},
   "outputs": [
    {
     "name": "stdout",
     "output_type": "stream",
     "text": [
      "1.2753722031884118\n"
     ]
    }
   ],
   "source": [
    "print(x.std())"
   ]
  },
  {
   "cell_type": "markdown",
   "id": "4c91036a-7cdd-47aa-9739-c7c13a2aca4e",
   "metadata": {
    "tags": []
   },
   "source": [
    "## アクセス\n",
    "要素へのアクセス"
   ]
  },
  {
   "cell_type": "markdown",
   "id": "0c12a184-d7b2-4481-877a-d25cdc0761c3",
   "metadata": {
    "tags": []
   },
   "source": [
    "### 準備"
   ]
  },
  {
   "cell_type": "code",
   "execution_count": 23,
   "id": "fb0dd2b1-658e-4c04-8d68-d2d2415572cd",
   "metadata": {},
   "outputs": [],
   "source": [
    "def function1():\n",
    "    return np.array([[51, 55], [14, 19], [0, 4]])"
   ]
  },
  {
   "cell_type": "code",
   "execution_count": 24,
   "id": "c2af50e5-bd72-4e0f-9ba2-b1a7513041e1",
   "metadata": {},
   "outputs": [
    {
     "name": "stdout",
     "output_type": "stream",
     "text": [
      "[[51 55]\n",
      " [14 19]\n",
      " [ 0  4]]\n"
     ]
    }
   ],
   "source": [
    "b=function1()\n",
    "print(b)"
   ]
  },
  {
   "cell_type": "markdown",
   "id": "45d9f4a0-6d29-4334-a3be-254a88cab53c",
   "metadata": {},
   "source": [
    "### インデックス番号で指定"
   ]
  },
  {
   "cell_type": "markdown",
   "id": "45038695-58d1-4792-95f6-fa6fc20da338",
   "metadata": {},
   "source": [
    "##### N次元配列にN個のインデックスを指定すると要素が取り出せる。"
   ]
  },
  {
   "cell_type": "code",
   "execution_count": 25,
   "id": "b6a04944-bf1f-4906-9463-61e00581f13e",
   "metadata": {},
   "outputs": [
    {
     "data": {
      "text/plain": [
       "np.int64(55)"
      ]
     },
     "execution_count": 25,
     "metadata": {},
     "output_type": "execute_result"
    }
   ],
   "source": [
    "b[0][1] # 0行1列（スカラ"
   ]
  },
  {
   "cell_type": "markdown",
   "id": "2a6c5b62-17a3-4713-b00f-76df8d00974a",
   "metadata": {},
   "source": [
    "##### N次元配列にX個のインデックスを指定するとN-X次元配列が取り出せる。"
   ]
  },
  {
   "cell_type": "code",
   "execution_count": 26,
   "id": "697883a0-30ee-4470-968c-c2240d99f1c6",
   "metadata": {},
   "outputs": [
    {
     "data": {
      "text/plain": [
       "array([51, 55])"
      ]
     },
     "execution_count": 26,
     "metadata": {},
     "output_type": "execute_result"
    }
   ],
   "source": [
    "b[0]    # 0行の行ベクトル"
   ]
  },
  {
   "cell_type": "markdown",
   "id": "132f1782-765b-47ce-a0b7-ed5c6a66e41e",
   "metadata": {},
   "source": [
    "### 複数要素の抽出 "
   ]
  },
  {
   "cell_type": "markdown",
   "id": "f907d5a8-6969-41c8-8098-002a4961cf94",
   "metadata": {},
   "source": [
    "#### スライシング"
   ]
  },
  {
   "cell_type": "markdown",
   "id": "485a0b7d-f841-45b5-b0f1-124974693927",
   "metadata": {},
   "source": [
    "##### 列をスライシングで指定"
   ]
  },
  {
   "cell_type": "code",
   "execution_count": 27,
   "id": "944e7954-1c30-4912-93ee-afa32e958d87",
   "metadata": {},
   "outputs": [
    {
     "data": {
      "text/plain": [
       "array([55])"
      ]
     },
     "execution_count": 27,
     "metadata": {},
     "output_type": "execute_result"
    }
   ],
   "source": [
    "b[0,1:2]"
   ]
  },
  {
   "cell_type": "markdown",
   "id": "de6cd381-202e-40cd-826a-7fa1340e1f7f",
   "metadata": {},
   "source": [
    "##### 行をスライシングで指定"
   ]
  },
  {
   "cell_type": "code",
   "execution_count": 28,
   "id": "3a21754b-e114-4945-8514-d1f42c60be14",
   "metadata": {},
   "outputs": [
    {
     "data": {
      "text/plain": [
       "array([14])"
      ]
     },
     "execution_count": 28,
     "metadata": {},
     "output_type": "execute_result"
    }
   ],
   "source": [
    "b[1:2,0]"
   ]
  },
  {
   "cell_type": "markdown",
   "id": "cc060643-e891-4270-8100-97731006aae9",
   "metadata": {},
   "source": [
    "#### 配列で指定"
   ]
  },
  {
   "cell_type": "markdown",
   "id": "93b05b47-40db-4a32-8865-bf58b6ede369",
   "metadata": {},
   "source": [
    "##### 行インデックス"
   ]
  },
  {
   "cell_type": "code",
   "execution_count": 29,
   "id": "cc95d617-b560-46f3-a395-950b8b91ebd2",
   "metadata": {},
   "outputs": [
    {
     "data": {
      "text/plain": [
       "array([[51, 55],\n",
       "       [14, 19]])"
      ]
     },
     "execution_count": 29,
     "metadata": {},
     "output_type": "execute_result"
    }
   ],
   "source": [
    "b[np.array([0,1])]"
   ]
  },
  {
   "cell_type": "markdown",
   "id": "9600160e-1fde-464c-96c6-4b7585312dcf",
   "metadata": {},
   "source": [
    "##### 行＆列インデックス"
   ]
  },
  {
   "cell_type": "code",
   "execution_count": 30,
   "id": "0575dad4-aaf3-4978-95f6-138fe4ee9594",
   "metadata": {},
   "outputs": [
    {
     "data": {
      "text/plain": [
       "array([55, 19])"
      ]
     },
     "execution_count": 30,
     "metadata": {},
     "output_type": "execute_result"
    }
   ],
   "source": [
    "b[np.array([0,1]),np.array([1])]"
   ]
  },
  {
   "cell_type": "markdown",
   "id": "209af467-7533-419b-a070-18a6231b2dc6",
   "metadata": {},
   "source": [
    "#### 比較演算で指定\n",
    "比較の結果boolの配列や行列が生成され、これでインデックスを指定している。"
   ]
  },
  {
   "cell_type": "markdown",
   "id": "235b8c9e-04a1-46d5-9a13-0d1e388a1c44",
   "metadata": {},
   "source": [
    "##### 「＝」で指定"
   ]
  },
  {
   "cell_type": "markdown",
   "id": "98f09aa3-4a1c-4cc2-809c-1f12f31bfa33",
   "metadata": {},
   "source": [
    "###### True, False行列を取得"
   ]
  },
  {
   "cell_type": "code",
   "execution_count": 31,
   "id": "953e1b72-adb4-4675-b750-0111ae308fbb",
   "metadata": {},
   "outputs": [
    {
     "data": {
      "text/plain": [
       "array([[False, False],\n",
       "       [False,  True],\n",
       "       [False, False]])"
      ]
     },
     "execution_count": 31,
     "metadata": {},
     "output_type": "execute_result"
    }
   ],
   "source": [
    "b==19"
   ]
  },
  {
   "cell_type": "markdown",
   "id": "5af528f6-9af4-4357-90e6-60ae5180d3ba",
   "metadata": {},
   "source": [
    "###### True, False行列で抽出"
   ]
  },
  {
   "cell_type": "code",
   "execution_count": 32,
   "id": "e4d7899b-96eb-4046-86fa-2ca6421db7e7",
   "metadata": {},
   "outputs": [
    {
     "data": {
      "text/plain": [
       "array([19])"
      ]
     },
     "execution_count": 32,
     "metadata": {},
     "output_type": "execute_result"
    }
   ],
   "source": [
    "b[b==19]"
   ]
  },
  {
   "cell_type": "markdown",
   "id": "69ea5b5f-0de7-47cd-a590-50039a8a5d2b",
   "metadata": {},
   "source": [
    "##### 「＞」で指定"
   ]
  },
  {
   "cell_type": "markdown",
   "id": "c51e0d1e-20e5-4785-8b1b-51aa49b06d51",
   "metadata": {},
   "source": [
    "###### True, False行列を取得"
   ]
  },
  {
   "cell_type": "code",
   "execution_count": 33,
   "id": "26efa1b7-6036-4916-a261-4c8a3c2d08d0",
   "metadata": {},
   "outputs": [
    {
     "data": {
      "text/plain": [
       "array([[ True,  True],\n",
       "       [False,  True],\n",
       "       [False, False]])"
      ]
     },
     "execution_count": 33,
     "metadata": {},
     "output_type": "execute_result"
    }
   ],
   "source": [
    "b>15"
   ]
  },
  {
   "cell_type": "markdown",
   "id": "e3c7791f-c3fd-4cb1-8f63-bc0cfb0ad274",
   "metadata": {},
   "source": [
    "###### True, False行列で抽出"
   ]
  },
  {
   "cell_type": "code",
   "execution_count": 34,
   "id": "4a2f69b5-c91c-4af1-8380-b8f2600101fc",
   "metadata": {},
   "outputs": [
    {
     "data": {
      "text/plain": [
       "array([51, 55, 19])"
      ]
     },
     "execution_count": 34,
     "metadata": {},
     "output_type": "execute_result"
    }
   ],
   "source": [
    "b[b>15]"
   ]
  },
  {
   "cell_type": "markdown",
   "id": "2bb1119c-8df2-4f5d-b5b5-d45420a5ab02",
   "metadata": {},
   "source": [
    "### 複数要素の置換"
   ]
  },
  {
   "cell_type": "markdown",
   "id": "dadf0530-b90c-44ba-adea-d33bea9c1d27",
   "metadata": {},
   "source": [
    "#### スライシング"
   ]
  },
  {
   "cell_type": "markdown",
   "id": "c0c27d1a-6b31-4140-8a23-058c674dc7d2",
   "metadata": {},
   "source": [
    "##### 列をスライシングで指定"
   ]
  },
  {
   "cell_type": "code",
   "execution_count": 35,
   "id": "07a6b20d-290c-4225-9e50-dede8c80a916",
   "metadata": {},
   "outputs": [
    {
     "name": "stdout",
     "output_type": "stream",
     "text": [
      "[[51 55]\n",
      " [14 19]\n",
      " [ 0  4]]\n",
      "[[51  0]\n",
      " [14 19]\n",
      " [ 0  4]]\n"
     ]
    }
   ],
   "source": [
    "b=function1()\n",
    "print(b)\n",
    "b[0,1:2]=0\n",
    "print(b)"
   ]
  },
  {
   "cell_type": "markdown",
   "id": "d01231a1-0e2c-4bfd-91fa-144ec6ee5bb6",
   "metadata": {},
   "source": [
    "##### 行をスライシングで指定"
   ]
  },
  {
   "cell_type": "code",
   "execution_count": 36,
   "id": "20622af3-86fc-4b00-b134-f501cd90557e",
   "metadata": {},
   "outputs": [
    {
     "name": "stdout",
     "output_type": "stream",
     "text": [
      "[[51 55]\n",
      " [14 19]\n",
      " [ 0  4]]\n",
      "[[51 55]\n",
      " [ 0 19]\n",
      " [ 0  4]]\n"
     ]
    }
   ],
   "source": [
    "b=function1()\n",
    "print(b)\n",
    "b[1:2,0]=0\n",
    "print(b)"
   ]
  },
  {
   "cell_type": "markdown",
   "id": "736240ee-c190-4e49-94df-499d7b3e4ec1",
   "metadata": {},
   "source": [
    "#### 配列で指定"
   ]
  },
  {
   "cell_type": "markdown",
   "id": "def8d7e5-b216-47a9-a35f-56f68bdb9a2f",
   "metadata": {},
   "source": [
    "##### 行インデックス"
   ]
  },
  {
   "cell_type": "code",
   "execution_count": 37,
   "id": "a7b02d23-f538-4114-be0c-7c58657cac44",
   "metadata": {},
   "outputs": [
    {
     "name": "stdout",
     "output_type": "stream",
     "text": [
      "[[51 55]\n",
      " [14 19]\n",
      " [ 0  4]]\n",
      "[[0 0]\n",
      " [0 0]\n",
      " [0 4]]\n"
     ]
    }
   ],
   "source": [
    "b=function1()\n",
    "print(b)\n",
    "b[np.array([0,1])]=0\n",
    "print(b)"
   ]
  },
  {
   "cell_type": "markdown",
   "id": "59d15355-6082-4568-9cb9-dbcf55032074",
   "metadata": {},
   "source": [
    "##### 行＆列インデックス"
   ]
  },
  {
   "cell_type": "code",
   "execution_count": 38,
   "id": "2bad95e9-b974-4f51-a309-732e7eabd1a5",
   "metadata": {},
   "outputs": [
    {
     "name": "stdout",
     "output_type": "stream",
     "text": [
      "[[51 55]\n",
      " [14 19]\n",
      " [ 0  4]]\n",
      "[[51  0]\n",
      " [14  0]\n",
      " [ 0  4]]\n"
     ]
    }
   ],
   "source": [
    "b=function1()\n",
    "print(b)\n",
    "b[np.array([0,1]),np.array([1])]=0\n",
    "print(b)"
   ]
  },
  {
   "cell_type": "markdown",
   "id": "a1fffcb8-d064-4a66-bb9b-63cc1ecad912",
   "metadata": {},
   "source": [
    "#### 比較演算で指定\n",
    "比較の結果boolの行列が生成され、これでインデックスを指定している。"
   ]
  },
  {
   "cell_type": "markdown",
   "id": "9801d255-5810-4918-8a21-0e9f3a882d06",
   "metadata": {},
   "source": [
    "##### 「＝」で指定"
   ]
  },
  {
   "cell_type": "markdown",
   "id": "6b41e9df-25e8-4ab6-9f71-93d639de6c1f",
   "metadata": {},
   "source": [
    "###### True, False行列を取得"
   ]
  },
  {
   "cell_type": "code",
   "execution_count": 39,
   "id": "5a4b525e-ef28-442d-8675-1c35a5342dba",
   "metadata": {},
   "outputs": [
    {
     "data": {
      "text/plain": [
       "array([[False, False],\n",
       "       [False,  True],\n",
       "       [False, False]])"
      ]
     },
     "execution_count": 39,
     "metadata": {},
     "output_type": "execute_result"
    }
   ],
   "source": [
    "b=function1()\n",
    "b==19"
   ]
  },
  {
   "cell_type": "markdown",
   "id": "b1944c00-8c4e-4f2d-bb73-b6404db84897",
   "metadata": {},
   "source": [
    "###### True, False行列で置換"
   ]
  },
  {
   "cell_type": "code",
   "execution_count": 40,
   "id": "fdb3736f-bcdf-496e-ba36-bb371258d724",
   "metadata": {},
   "outputs": [
    {
     "name": "stdout",
     "output_type": "stream",
     "text": [
      "[[51 55]\n",
      " [14 19]\n",
      " [ 0  4]]\n",
      "[[51 55]\n",
      " [14  0]\n",
      " [ 0  4]]\n"
     ]
    }
   ],
   "source": [
    "print(b)\n",
    "b[b==19]=0\n",
    "print(b)"
   ]
  },
  {
   "cell_type": "markdown",
   "id": "4ce66a67-ab6d-4010-934e-9773c95f9584",
   "metadata": {},
   "source": [
    "##### 「＞」で指定"
   ]
  },
  {
   "cell_type": "markdown",
   "id": "3e8d2fe2-a0bd-469d-b3e7-d722f511f6a1",
   "metadata": {},
   "source": [
    "###### True, False行列を取得"
   ]
  },
  {
   "cell_type": "code",
   "execution_count": 41,
   "id": "fd063c3d-8648-49e2-b1b9-e0f7b4fde72f",
   "metadata": {},
   "outputs": [
    {
     "data": {
      "text/plain": [
       "array([[ True,  True],\n",
       "       [ True,  True],\n",
       "       [False, False]])"
      ]
     },
     "execution_count": 41,
     "metadata": {},
     "output_type": "execute_result"
    }
   ],
   "source": [
    "b=function1()\n",
    "b>5"
   ]
  },
  {
   "cell_type": "markdown",
   "id": "dc6de48b-d028-4587-b0e8-9b3201611be1",
   "metadata": {},
   "source": [
    "###### True, False行列で置換"
   ]
  },
  {
   "cell_type": "code",
   "execution_count": 42,
   "id": "3b8bf173-b229-4fc0-8eb9-64cae3c379f5",
   "metadata": {},
   "outputs": [
    {
     "name": "stdout",
     "output_type": "stream",
     "text": [
      "[[51 55]\n",
      " [14 19]\n",
      " [ 0  4]]\n",
      "[[0 0]\n",
      " [0 0]\n",
      " [0 4]]\n"
     ]
    }
   ],
   "source": [
    "print(b)\n",
    "b[b>5]=0\n",
    "print(b)"
   ]
  },
  {
   "cell_type": "markdown",
   "id": "ed0b5ea1-cfc0-4549-ac0b-7c192ef2a699",
   "metadata": {
    "tags": []
   },
   "source": [
    "## 行列の積算（ドット積）"
   ]
  },
  {
   "cell_type": "markdown",
   "id": "f8d21daf-5e88-4a15-99b1-5cb695569845",
   "metadata": {
    "tags": []
   },
   "source": [
    "### データ生成"
   ]
  },
  {
   "cell_type": "code",
   "execution_count": 43,
   "id": "2c32fc12-d26c-4fb8-b835-3187e5ffecd4",
   "metadata": {},
   "outputs": [
    {
     "name": "stdout",
     "output_type": "stream",
     "text": [
      "a\n",
      "[[1 2 3]\n",
      " [4 5 6]]\n",
      "b\n",
      "[[1 2]\n",
      " [3 4]\n",
      " [5 6]]\n",
      "c\n",
      "[[1 2]\n",
      " [3 4]]\n",
      "d\n",
      "[7 8]\n"
     ]
    }
   ],
   "source": [
    "a=np.array([[1,2,3],[4,5,6]])\n",
    "b=np.array([[1,2],[3,4],[5,6]])\n",
    "c=np.array([[1,2],[3,4]])\n",
    "d=np.array([7,8])\n",
    "\n",
    "print(\"a\")\n",
    "print(a)\n",
    "print(\"b\")\n",
    "print(b)\n",
    "print(\"c\")\n",
    "print(c)\n",
    "print(\"d\")\n",
    "print(d)"
   ]
  },
  {
   "cell_type": "markdown",
   "id": "bd6ffcdb-ec19-41f4-ae07-af6b1d7a2be2",
   "metadata": {
    "tags": []
   },
   "source": [
    "### 計算方法 \n",
    "- [要素ごとの掛け算](#要素ごとの掛け算)でないことに注意。\n",
    "- Ａ行列 * Ｂ行列 = Ｃ行列\n",
    "  - Ａ行列の列数とＢ行列の行数が一致ししている必要がある。\n",
    "  - 計算後のＣ行列は、Ａ行列の行数 * Ｂ行列の列数の行列になる。"
   ]
  },
  {
   "cell_type": "markdown",
   "id": "9ec1986e-d79a-41c2-b0f3-785a214d6e7c",
   "metadata": {
    "tags": []
   },
   "source": [
    "#### 演算子\n",
    "@（ドット積）演算子を使用する。"
   ]
  },
  {
   "cell_type": "code",
   "execution_count": 44,
   "id": "86b90d59-34f8-4fc6-b48a-2b95733aa3f7",
   "metadata": {},
   "outputs": [
    {
     "data": {
      "text/plain": [
       "array([[22, 28],\n",
       "       [49, 64]])"
      ]
     },
     "execution_count": 44,
     "metadata": {},
     "output_type": "execute_result"
    }
   ],
   "source": [
    "a@b"
   ]
  },
  {
   "cell_type": "code",
   "execution_count": 45,
   "id": "91875efd-b37e-48c9-b305-9db11e247ad0",
   "metadata": {},
   "outputs": [
    {
     "data": {
      "text/plain": [
       "array([[ 7, 10],\n",
       "       [15, 22],\n",
       "       [23, 34]])"
      ]
     },
     "execution_count": 45,
     "metadata": {},
     "output_type": "execute_result"
    }
   ],
   "source": [
    "b@c"
   ]
  },
  {
   "cell_type": "code",
   "execution_count": 46,
   "id": "026d05c0-4a86-4a59-a048-e71a07d40d4d",
   "metadata": {},
   "outputs": [
    {
     "data": {
      "text/plain": [
       "array([23, 53, 83])"
      ]
     },
     "execution_count": 46,
     "metadata": {},
     "output_type": "execute_result"
    }
   ],
   "source": [
    "b@d # 行列と配列は列数一致で行数の配列になる。"
   ]
  },
  {
   "cell_type": "code",
   "execution_count": 47,
   "id": "f4ad30e1-fdc6-48ec-8aed-7e898fd0193a",
   "metadata": {},
   "outputs": [],
   "source": [
    "#a@c # Ａ行列の列数とＢ行列の行数が一致しない。"
   ]
  },
  {
   "cell_type": "markdown",
   "id": "ce7a8c40-9a52-4714-9767-5d485ededc8d",
   "metadata": {
    "tags": []
   },
   "source": [
    "#### メソッド"
   ]
  },
  {
   "cell_type": "code",
   "execution_count": 48,
   "id": "d22fc28c-d8c1-43d9-a47c-05de3cd7ea04",
   "metadata": {},
   "outputs": [
    {
     "data": {
      "text/plain": [
       "array([[22, 28],\n",
       "       [49, 64]])"
      ]
     },
     "execution_count": 48,
     "metadata": {},
     "output_type": "execute_result"
    }
   ],
   "source": [
    "np.dot(a,b)"
   ]
  },
  {
   "cell_type": "code",
   "execution_count": 49,
   "id": "e8315009-e026-4409-83b7-430d861db59f",
   "metadata": {},
   "outputs": [
    {
     "data": {
      "text/plain": [
       "array([[ 7, 10],\n",
       "       [15, 22],\n",
       "       [23, 34]])"
      ]
     },
     "execution_count": 49,
     "metadata": {},
     "output_type": "execute_result"
    }
   ],
   "source": [
    "np.dot(b,c)"
   ]
  },
  {
   "cell_type": "code",
   "execution_count": 50,
   "id": "2b2bb768-f0c6-494e-b9a7-e8dfeea36f76",
   "metadata": {},
   "outputs": [
    {
     "data": {
      "text/plain": [
       "array([23, 53, 83])"
      ]
     },
     "execution_count": 50,
     "metadata": {},
     "output_type": "execute_result"
    }
   ],
   "source": [
    "np.dot(b,d) # 行列と配列は列数一致で行数の配列になる。"
   ]
  },
  {
   "cell_type": "code",
   "execution_count": 51,
   "id": "c6984189-494a-4527-8360-61f200b6c985",
   "metadata": {},
   "outputs": [],
   "source": [
    "#np.dot(a,c) # Ａ行列の列数とＢ行列の行数が一致しない。"
   ]
  },
  {
   "cell_type": "markdown",
   "id": "67b0a76d-030c-4cc3-86d0-e58f6463f00d",
   "metadata": {},
   "source": [
    "### 交換法則\n",
    "行列では、交換法則の不成立になるが、転置すれば成立する。"
   ]
  },
  {
   "cell_type": "markdown",
   "id": "6009c4a4-f42d-46ba-9ee6-b5073048dd4c",
   "metadata": {},
   "source": [
    "#### 演算子"
   ]
  },
  {
   "cell_type": "code",
   "execution_count": 52,
   "id": "8579d34a-943e-4cd5-a27d-60cdef1ebea5",
   "metadata": {},
   "outputs": [
    {
     "data": {
      "text/plain": [
       "array([[22, 28],\n",
       "       [49, 64]])"
      ]
     },
     "execution_count": 52,
     "metadata": {},
     "output_type": "execute_result"
    }
   ],
   "source": [
    "a@b"
   ]
  },
  {
   "cell_type": "code",
   "execution_count": 53,
   "id": "fc8aab48-e0e9-4105-b1fb-177a8a26092e",
   "metadata": {},
   "outputs": [
    {
     "data": {
      "text/plain": [
       "array([[22, 28],\n",
       "       [49, 64]])"
      ]
     },
     "execution_count": 53,
     "metadata": {},
     "output_type": "execute_result"
    }
   ],
   "source": [
    "(b.T@a.T).T"
   ]
  },
  {
   "cell_type": "markdown",
   "id": "2e4cd6d2-9c48-419a-8f5e-f944c5616fe9",
   "metadata": {},
   "source": [
    "#### メソッド"
   ]
  },
  {
   "cell_type": "code",
   "execution_count": 54,
   "id": "cc4e866f-0fe0-4dd3-9277-f8dd5a289dab",
   "metadata": {},
   "outputs": [
    {
     "data": {
      "text/plain": [
       "array([[ 7, 10],\n",
       "       [15, 22],\n",
       "       [23, 34]])"
      ]
     },
     "execution_count": 54,
     "metadata": {},
     "output_type": "execute_result"
    }
   ],
   "source": [
    "np.dot(b,c)"
   ]
  },
  {
   "cell_type": "code",
   "execution_count": 55,
   "id": "7810b423-cb25-46eb-a78b-481fe963aff0",
   "metadata": {},
   "outputs": [
    {
     "data": {
      "text/plain": [
       "array([[ 7, 10],\n",
       "       [15, 22],\n",
       "       [23, 34]])"
      ]
     },
     "execution_count": 55,
     "metadata": {},
     "output_type": "execute_result"
    }
   ],
   "source": [
    "np.dot(c.T,b.T).T"
   ]
  }
 ],
 "metadata": {
  "kernelspec": {
   "display_name": "Python 3 (ipykernel)",
   "language": "python",
   "name": "python3"
  },
  "language_info": {
   "codemirror_mode": {
    "name": "ipython",
    "version": 3
   },
   "file_extension": ".py",
   "mimetype": "text/x-python",
   "name": "python",
   "nbconvert_exporter": "python",
   "pygments_lexer": "ipython3",
   "version": "3.10.6"
  }
 },
 "nbformat": 4,
 "nbformat_minor": 5
}
