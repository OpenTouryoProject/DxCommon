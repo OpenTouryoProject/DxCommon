{
 "cells": [
  {
   "cell_type": "markdown",
   "metadata": {},
   "source": [
    "<table style=\"margin: 0; text-align: left; width:100%\">\n",
    "    <tr>\n",
    "        <td style=\"width: 220px; height: 150px; vertical-align: middle;\">\n",
    "            <img src=\"../assets/aaa.png\" width=\"220\" height=\"150\" style=\"display: block;\" />\n",
    "        </td>\n",
    "        <td>\n",
    "            <h2 style=\"color:#ff7800;\">自律型トレーダー</h2>\n",
    "            <span style=\"color:#ff7800;\">\n",
    "                MCPサーバーのツールとリソースを活用した自律型エージェントの動作を示す株式取引シミュレーション。\n",
    "            </span>\n",
    "        </td>\n",
    "    </tr>\n",
    "</table>"
   ]
  },
  {
   "cell_type": "markdown",
   "metadata": {},
   "source": [
    "### 第6週、4日目へようこそ！\n",
    "\n",
    "そして今 - キャップストーン・プロジェクトの紹介：\n",
    "\n",
    "# 自律トレーダー\n",
    "\n",
    "4人のトレーダーと1人のリサーチャーによる株式取引シミュレーション。\n",
    "\n",
    "（各トレーダーにリサーチャーがツールとしてアシストに付く感じ）\n",
    "\n",
    "ツールとリソースを備えた多数のMCPサーバーを活用。\n",
    "\n",
    "1. accounts.py、accounts_server.py  \n",
    "自作の account MCPサーバー（エンジニアリング・チームによって書かれています！）\n",
    "\n",
    "2. Brave Search API  \n",
    "Brave Software が提供する検索サービス Brave Search を利用するAPI。\n",
    "\n",
    "3. mcp-server-fetch  \n",
    "ローカル・ヘッドレス・ブラウザを介してWebページを取得\n",
    "\n",
    "4. メモリ（sqlite3）  \n",
    "調査した内容は、sqlite3に永続化して記憶する。\n",
    "\n",
    "5. market.py、market_server.py  \n",
    "自作の market MCPサーバー（Polygon.ioで財務データをチェックする）\n",
    "\n",
    "など、トレーダーのアカウントと、その投資戦略に関する情報を読むためのリソース。\n",
    "\n",
    "今日のラボの目標は、新しいPythonモジュール `traders.py` を作成することです。\n",
    "\n",
    "ラボで実験して探索し、準備ができたらPythonモジュールに移行します。"
   ]
  },
  {
   "cell_type": "markdown",
   "metadata": {},
   "source": [
    "<table style=\"margin: 0; text-align: left; width:100%\">\n",
    "    <tr>\n",
    "        <td style=\"width: 150px; height: 150px; vertical-align: middle;\">\n",
    "            <img src=\"../assets/stop.png\" width=\"150\" height=\"150\" style=\"display: block;\" />\n",
    "        </td>\n",
    "        <td>\n",
    "            <h2 style=\"color:#ff7800;\">もう一度言いますが、</h2>\n",
    "            <span style=\"color:#ff7800;\">\n",
    "                実際の取引の判断には使用しないでください。\n",
    "            </span>\n",
    "        </td>\n",
    "    </tr>\n",
    "</table>"
   ]
  },
  {
   "cell_type": "code",
   "execution_count": 1,
   "metadata": {},
   "outputs": [
    {
     "data": {
      "text/plain": [
       "True"
      ]
     },
     "execution_count": 1,
     "metadata": {},
     "output_type": "execute_result"
    }
   ],
   "source": [
    "# import\n",
    "\n",
    "# 基本\n",
    "import os\n",
    "from datetime import datetime\n",
    "from dotenv import load_dotenv\n",
    "\n",
    "# agents\n",
    "from agents import Agent, Runner, trace, Tool\n",
    "from agents.mcp import MCPServerStdio\n",
    "\n",
    "# 自作\n",
    "from accounts_client import read_accounts_resource, read_strategy_resource\n",
    "from accounts import Account\n",
    "\n",
    "from IPython.display import Markdown, display\n",
    "\n",
    "load_dotenv(override=True)"
   ]
  },
  {
   "cell_type": "markdown",
   "metadata": {},
   "source": [
    "### トレーダーのMCPサーバ\n",
    "トレーダー・エージェントのためにMCPパラメーションを集めることから始めましょう"
   ]
  },
  {
   "cell_type": "code",
   "execution_count": 2,
   "metadata": {},
   "outputs": [
    {
     "name": "stdout",
     "output_type": "stream",
     "text": [
      "False\n",
      "False\n"
     ]
    }
   ],
   "source": [
    "# Polygon.io\n",
    "polygon_api_key = os.getenv(\"POLYGON_API_KEY\")\n",
    "polygon_plan = os.getenv(\"POLYGON_PLAN\")\n",
    "\n",
    "is_paid_polygon = polygon_plan == \"paid\"\n",
    "is_realtime_polygon = polygon_plan == \"realtime\"\n",
    "\n",
    "print(is_paid_polygon)\n",
    "print(is_realtime_polygon)"
   ]
  },
  {
   "cell_type": "code",
   "execution_count": 3,
   "metadata": {},
   "outputs": [],
   "source": [
    "# Polygon.io\n",
    "\n",
    "if is_paid_polygon or is_realtime_polygon:\n",
    "    # 有料の場合は公式MCPサーバ\n",
    "    market_mcp = {\"command\": \"uvx\",\"args\": [\"--from\", \"git+https://github.com/polygon-io/mcp_polygon@master\", \"mcp_polygon\"], \"env\": {\"POLYGON_API_KEY\": polygon_api_key}}\n",
    "else:\n",
    "    # 無料の場合は自作MCPサーバ\n",
    "    market_mcp = ({\"command\": \"uv\", \"args\": [\"run\", \"market_server.py\"]})\n",
    "\n",
    "# アカウント管理、プッシュ通知の自作MCPサーバ\n",
    "trader_mcp_server_params = [\n",
    "    {\"command\": \"uv\", \"args\": [\"run\", \"accounts_server.py\"]},\n",
    "    {\"command\": \"uv\", \"args\": [\"run\", \"push_server.py\"]},\n",
    "    market_mcp\n",
    "]"
   ]
  },
  {
   "cell_type": "markdown",
   "metadata": {},
   "source": [
    "### リサーチャーのMCPサーバ\n",
    "そして、リサーチャー・エージェントのために"
   ]
  },
  {
   "cell_type": "code",
   "execution_count": 4,
   "metadata": {},
   "outputs": [],
   "source": [
    "# Brave Search API\n",
    "brave_env = {\"BRAVE_API_KEY\": os.getenv(\"BRAVE_API_KEY\")}\n",
    "\n",
    "# mcp-server-fetch、mcp/server-brave-search\n",
    "researcher_mcp_server_params = [\n",
    "    {\"command\": \"uvx\", \"args\": [\"mcp-server-fetch\"]},\n",
    "    {\"command\": \"npx\", \"args\": [\"-y\", \"@modelcontextprotocol/server-brave-search\"], \"env\": brave_env}\n",
    "]"
   ]
  },
  {
   "cell_type": "markdown",
   "metadata": {},
   "source": [
    "### 次に、それぞれにMcPserverstDioを作成します"
   ]
  },
  {
   "cell_type": "code",
   "execution_count": 5,
   "metadata": {},
   "outputs": [],
   "source": [
    "# トレーダーのMCPサーバ\n",
    "trader_mcp_servers = [MCPServerStdio(params, client_session_timeout_seconds=30) for params in trader_mcp_server_params]\n",
    "# リサーチャーのMCPサーバ\n",
    "researcher_mcp_servers = [MCPServerStdio(params, client_session_timeout_seconds=30) for params in researcher_mcp_server_params]\n",
    "\n",
    "# エージェントのMCPサーバ\n",
    "mcp_servers = trader_mcp_servers + researcher_mcp_servers"
   ]
  },
  {
   "cell_type": "markdown",
   "metadata": {},
   "source": [
    "### リサーチャー・エージェントを作成し...\n",
    "- それでは、市場調査を行うためのリサーチャー・エージェントを作ってみましょう。\n",
    "- そして、それをツールに変えてください - これがOpenai Agents SDKでどのように機能するか、そしてハンドオフとの違いを覚えていますか？"
   ]
  },
  {
   "cell_type": "markdown",
   "metadata": {},
   "source": [
    "#### リサーチャー・エージェントを作る関数"
   ]
  },
  {
   "cell_type": "code",
   "execution_count": 6,
   "metadata": {},
   "outputs": [],
   "source": [
    "async def get_researcher(mcp_servers) -> Agent:\n",
    "    # あなたは金融リサーチャーです。ウェブ上で興味深い金融ニュースを検索し、取引機会を探し、調査に協力することができます。\n",
    "    # 依頼に基づいて必要な調査を行い、調査結果を報告します。\n",
    "    # 時間をかけて複数の検索を行い、包括的な概要を把握した上で、調査結果を要約します。\n",
    "    # 具体的な依頼がない場合は、最新のニュース検索に基づいた投資機会を報告します。\n",
    "    # 現在の日時は {datetime.now().strftime(\"%Y-%m-%d %H:%M:%S\")} です。\n",
    "    instructions = f\"\"\"\n",
    "    You are a financial researcher. You are able to search the web for interesting financial news,\n",
    "    look for possible trading opportunities, and help with research.\n",
    "    Based on the request, you carry out necessary research and respond with your findings.\n",
    "    Take time to make multiple searches to get a comprehensive overview, and then summarize your findings.\n",
    "    If there isn't a specific request, then just respond with investment opportunities based on searching latest news.\n",
    "    The current datetime is {datetime.now().strftime(\"%Y-%m-%d %H:%M:%S\")}\n",
    "    \"\"\"\n",
    "    \n",
    "    researcher = Agent(\n",
    "        name=\"Researcher\",\n",
    "        instructions=instructions,\n",
    "        model=\"gpt-4.1-mini\",\n",
    "        mcp_servers=mcp_servers,\n",
    "    )\n",
    "    return researcher"
   ]
  },
  {
   "cell_type": "markdown",
   "metadata": {},
   "source": [
    "#### リサーチャー・エージェントを関数に変換する関数 "
   ]
  },
  {
   "cell_type": "code",
   "execution_count": 7,
   "metadata": {},
   "outputs": [],
   "source": [
    "async def get_researcher_tool(mcp_servers) -> Tool:\n",
    "    researcher = await get_researcher(mcp_servers)\n",
    "    return researcher.as_tool(\n",
    "        tool_name=\"Researcher\",\n",
    "        # このツールは、特定の銘柄を調べるという具体的なリクエストに基づいて、\n",
    "        # または一般的に注目すべき金融ニュースや機会について、\n",
    "        # オンラインでニュースや機会を調査します。\n",
    "        # どのような調査を探しているのか説明してください。\n",
    "        tool_description=\"This tool researches online for news and opportunities, \\\n",
    "        either based on your specific request to look into a certain stock, \\\n",
    "        or generally for notable financial news and opportunities. \\\n",
    "        Describe what kind of research you're looking for.\"\n",
    "    )"
   ]
  },
  {
   "cell_type": "markdown",
   "metadata": {},
   "source": [
    "#### リサーチャー・エージェントを実行"
   ]
  },
  {
   "cell_type": "code",
   "execution_count": 8,
   "metadata": {},
   "outputs": [
    {
     "data": {
      "text/markdown": [
       "Here are some of the latest news highlights about Amazon as of September 2025:\n",
       "\n",
       "1. Amazon now offers same-day perishable grocery delivery in over 1,000 cities and towns, with plans to double that reach by the end of the year. Same-day delivery is free for orders over $25 for Prime members in most cities.\n",
       "2. Amazon Prime Day 2025 was the biggest ever, breaking records for sales volume and total items sold during the 4-day event.\n",
       "3. Amazon's Project Kuiper is progressing with more than 80 satellite missions launched to deploy its initial low Earth orbit satellite internet constellation, currently growing to over 100 satellites.\n",
       "4. AWS (Amazon Web Services) announced upcoming events including AWS Transform and re:Invent 2025 with innovations and expert-led discussions.\n",
       "5. Amazon continues to focus on innovation and operational excellence guided by principles such as customer obsession and long-term thinking.\n",
       "\n",
       "If you want detailed information on any of these topics or the latest stock updates, let me know!"
      ],
      "text/plain": [
       "<IPython.core.display.Markdown object>"
      ]
     },
     "metadata": {},
     "output_type": "display_data"
    }
   ],
   "source": [
    "# Amazonの最新ニュースは何ですか？\n",
    "research_question = \"What's the latest news on Amazon?\"\n",
    "\n",
    "# リサーチャー・エージェントのMCPサーバーを初期化・接続\n",
    "for server in researcher_mcp_servers:\n",
    "    await server.connect()\n",
    "\n",
    "# MCPサーバーを仕込んだリサーチャー・エージェントを取得\n",
    "researcher = await get_researcher(researcher_mcp_servers)\n",
    "\n",
    "# リサーチャー・エージェントを単独実行\n",
    "with trace(\"Researcher\"):\n",
    "    result = await Runner.run(researcher, research_question, max_turns=30)\n",
    "\n",
    "# 結果の表示\n",
    "display(Markdown(result.final_output))"
   ]
  },
  {
   "cell_type": "markdown",
   "metadata": {},
   "source": [
    "### トレースを見てください\n",
    "\n",
    "https://platform.openai.com/traces"
   ]
  },
  {
   "cell_type": "code",
   "execution_count": 9,
   "metadata": {},
   "outputs": [
    {
     "data": {
      "text/markdown": [
       "{\"name\": \"ed\", \"balance\": 10000.0, \"strategy\": \"You are a day trader that aggressively buys and sells shares based on news and market conditions.\", \"holdings\": {}, \"transactions\": [], \"portfolio_value_time_series\": [[\"2025-09-15 19:03:17\", 10000.0]], \"total_portfolio_value\": 10000.0, \"total_profit_loss\": 0.0}"
      ],
      "text/plain": [
       "<IPython.core.display.Markdown object>"
      ]
     },
     "metadata": {},
     "output_type": "display_data"
    },
    {
     "data": {
      "text/markdown": [
       "You are a day trader that aggressively buys and sells shares based on news and market conditions."
      ],
      "text/plain": [
       "<IPython.core.display.Markdown object>"
      ]
     },
     "metadata": {},
     "output_type": "display_data"
    }
   ],
   "source": [
    "# あなたはニュースや市場の状況に基づいて積極的に株式を売買するデイトレーダーです。\n",
    "ed_initial_strategy = \"You are a day trader that aggressively buys and sells shares based on news and market conditions.\"\n",
    "\n",
    "# 以下、直書きとMCPクライアント混在しとるやん...\n",
    "\n",
    "# Edの\n",
    "Account.get(\"Ed\").reset(ed_initial_strategy)\n",
    "# アカウント情報\n",
    "display(Markdown(await read_accounts_resource(\"Ed\")))\n",
    "# 投資戦略の取得\n",
    "display(Markdown(await read_strategy_resource(\"Ed\")))"
   ]
  },
  {
   "cell_type": "markdown",
   "metadata": {},
   "source": [
    "### トレーダー・エージェントを作成"
   ]
  },
  {
   "cell_type": "code",
   "execution_count": 10,
   "metadata": {},
   "outputs": [],
   "source": [
    "# トレーダー・エージェント名は、そのまま取引アカウント名になる。\n",
    "agent_name = \"Ed\"\n",
    "\n",
    "# MCPサーバーを使用してリソースを読み取り\n",
    "account_details = await read_accounts_resource(agent_name)\n",
    "strategy = await read_strategy_resource(agent_name)\n",
    "\n",
    "# あなたは株式ポートフォリオを管理するトレーダーです。あなたの名前は{agent_name}で、アカウントも{agent_name}です。\n",
    "# あなたは、インターネットで企業ニュースを検索したり、株価を確認したり、株式を売買したりできるツールにアクセスできます。\n",
    "# あなたのポートフォリオの投資戦略は： {strategy}\n",
    "# 現在の保有資産と残高は： {account_details}\n",
    "# あなたは、関連ニュースや情報をウェブ検索するためのツールを持っています。\n",
    "# あなたは、株価を確認するためのツールを持っています。\n",
    "# あなたは、株式を売買するためのツールを持っています。\n",
    "# あなたは、企業、調査、そしてこれまでの考えを保存するためのツールを持っています。\n",
    "# これらのツールを活用してポートフォリオを管理してください。\n",
    "# 取引は、指示を待ったり、確認を求めたりすることなく、ご自身の判断で行ってください。\n",
    "instructions = f\"\"\"\n",
    "You are a trader that manages a portfolio of shares. Your name is {agent_name} and your account is under your name, {agent_name}.\n",
    "You have access to tools that allow you to search the internet for company news, check stock prices, and buy and sell shares.\n",
    "Your investment strategy for your portfolio is:\n",
    "{strategy}\n",
    "Your current holdings and balance is:\n",
    "{account_details}\n",
    "You have the tools to perform a websearch for relevant news and information.\n",
    "You have tools to check stock prices.\n",
    "You have tools to buy and sell shares.\n",
    "You have tools to save memory of companies, research and thinking so far.\n",
    "Please make use of these tools to manage your portfolio. Carry out trades as you see fit; do not wait for instructions or ask for confirmation.\n",
    "\"\"\"\n",
    "\n",
    "# ツールを活用してポートフォリオに関する意思決定を行いましょう。\n",
    "# ニュースや市場を調査し、意思決定を行い、取引を行い、その結果をまとめます。\n",
    "prompt = \"\"\"\n",
    "Use your tools to make decisions about your portfolio.\n",
    "Investigate the news and the market, make your decision, make the trades, and respond with a summary of your actions.\n",
    "\"\"\""
   ]
  },
  {
   "cell_type": "code",
   "execution_count": 11,
   "metadata": {},
   "outputs": [
    {
     "name": "stdout",
     "output_type": "stream",
     "text": [
      "\n",
      "You are a trader that manages a portfolio of shares. Your name is Ed and your account is under your name, Ed.\n",
      "You have access to tools that allow you to search the internet for company news, check stock prices, and buy and sell shares.\n",
      "Your investment strategy for your portfolio is:\n",
      "You are a day trader that aggressively buys and sells shares based on news and market conditions.\n",
      "Your current holdings and balance is:\n",
      "{\"name\": \"ed\", \"balance\": 10000.0, \"strategy\": \"You are a day trader that aggressively buys and sells shares based on news and market conditions.\", \"holdings\": {}, \"transactions\": [], \"portfolio_value_time_series\": [[\"2025-09-15 19:03:17\", 10000.0], [\"2025-09-15 19:03:43\", 10000.0]], \"total_portfolio_value\": 10000.0, \"total_profit_loss\": 0.0}\n",
      "You have the tools to perform a websearch for relevant news and information.\n",
      "You have tools to check stock prices.\n",
      "You have tools to buy and sell shares.\n",
      "You have tools to save memory of companies, research and thinking so far.\n",
      "Please make use of these tools to manage your portfolio. Carry out trades as you see fit; do not wait for instructions or ask for confirmation.\n",
      "\n"
     ]
    }
   ],
   "source": [
    "# instructionsを確認\n",
    "print(instructions)"
   ]
  },
  {
   "cell_type": "markdown",
   "metadata": {},
   "source": [
    "### トレーダー・エージェントを実行"
   ]
  },
  {
   "cell_type": "code",
   "execution_count": 12,
   "metadata": {},
   "outputs": [
    {
     "data": {
      "text/markdown": [
       "### Summary of Actions Taken:\n",
       "\n",
       "1. **Market Analysis**:\n",
       "   - Reviewed the latest stock market conditions, focusing on midcap growth stocks and companies with strong insider ownership.\n",
       "   - Noted that U.S. markets are at record highs, with strong potential for volatility following economic data releases.\n",
       "\n",
       "2. **Stock Selection**:\n",
       "   - Chose to invest in the following midcap growth stocks based on their potential and market conditions:\n",
       "     - **Monday.com Ltd. (MNDY)**\n",
       "     - **Wix.com Ltd. (WIX)**\n",
       "     - **Dolby Laboratories (DLB)**\n",
       "     - **Krystal Biotech (KRYS)**\n",
       "     - **Harmony Biosciences Holdings (HRMY)**\n",
       "\n",
       "3. **Purchases Executed**:\n",
       "   - Attempted to buy:\n",
       "     - **50 shares** of **MNDY** at approximately $192.33 per share.\n",
       "     - **30 shares** of **WIX,** **40 shares** of **DLB,** **25 shares** of **KRYS,** and **20 shares** of **HRMY**.\n",
       "   - **Result**: \n",
       "     - The purchase of **50 shares of MNDY** was successful, reducing the cash balance from $10,000 to approximately $9,980.80.\n",
       "     - **Subsequent purchases** of WIX, DLB, KRYS, and HRMY failed due to insufficient funds.\n",
       "\n",
       "### Current Portfolio Status:\n",
       "- **Holdings**:\n",
       "  - **MNDY**: 50 shares\n",
       "- **Cash Balance**: $383.31\n",
       "- **Portfolio Value**: $9,980.80\n",
       "- **Total Profit/Loss**: -$19.19\n",
       "\n",
       "### Next Steps:\n",
       "- Monitor the performance of MNDY and assess further trading opportunities.\n",
       "- Consider liquidating positions if there are favorable market conditions.\n",
       "- Look for new investment opportunities that align with day trading strategy and are within the remaining cash balance. \n",
       "\n",
       "If you have specific stocks in mind or would like to analyze other sectors, please let me know!"
      ],
      "text/plain": [
       "<IPython.core.display.Markdown object>"
      ]
     },
     "metadata": {},
     "output_type": "display_data"
    }
   ],
   "source": [
    "# トレーダー・エージェントのMCPサーバーを初期化・接続\n",
    "for server in mcp_servers:\n",
    "    await server.connect()\n",
    "\n",
    "# ツール化したリサーチャー・エージェントを仕込んだトレーダー・エージェントを作成\n",
    "researcher_tool = await get_researcher_tool(researcher_mcp_servers)\n",
    "trader = Agent(\n",
    "    name=agent_name,\n",
    "    instructions=instructions,\n",
    "    tools=[researcher_tool],\n",
    "    mcp_servers=trader_mcp_servers,\n",
    "    model=\"gpt-4o-mini\",\n",
    ")\n",
    "\n",
    "# トレーダー・エージェント（サーチャー・エージェント）を実行\n",
    "with trace(agent_name):\n",
    "    result = await Runner.run(trader, prompt, max_turns=30)\n",
    "\n",
    "# 結果の表示\n",
    "display(Markdown(result.final_output))"
   ]
  },
  {
   "cell_type": "markdown",
   "metadata": {},
   "source": [
    "### その後、トレースを見てください\n",
    "\n",
    "http://platform.openai.com/traces"
   ]
  },
  {
   "cell_type": "code",
   "execution_count": 13,
   "metadata": {},
   "outputs": [
    {
     "data": {
      "text/plain": [
       "'{\"name\": \"ed\", \"balance\": 383.3050000000003, \"strategy\": \"You are a day trader that aggressively buys and sells shares based on news and market conditions.\", \"holdings\": {\"MNDY\": 50}, \"transactions\": [{\"symbol\": \"MNDY\", \"quantity\": 50, \"price\": 192.3339, \"timestamp\": \"2025-09-15 19:05:19\", \"rationale\": \"Midcap growth stock with strong potential and recent positive news.\"}], \"portfolio_value_time_series\": [[\"2025-09-15 19:03:17\", 10000.0], [\"2025-09-15 19:03:43\", 10000.0], [\"2025-09-15 19:05:20\", 9980.805], [\"2025-09-15 20:09:03\", 9980.805]], \"total_portfolio_value\": 9980.805, \"total_profit_loss\": -19.19499999999971}'"
      ]
     },
     "execution_count": 13,
     "metadata": {},
     "output_type": "execute_result"
    }
   ],
   "source": [
    "# そして、取引の結果を見てみましょう\n",
    "await read_accounts_resource(agent_name)"
   ]
  },
  {
   "cell_type": "markdown",
   "metadata": {},
   "source": [
    "### では、これを元に作成したPythonモジュールを確認してみましょう。\n",
    "\n",
    "- `mcp_params.py` はMCPサーバーを指定する場所です。メモリとプッシュ通知といったおなじみの要素も追加されているのがお分かりいただけるでしょう。\n",
    "\n",
    "- `templates.py`は、`templates.py` は、指示とメッセージ（システムプロンプトとユーザープロンプト）を設定する場所です。\n",
    "\n",
    "- `traders.py` はこれらすべてをまとめます。\n",
    "\n",
    "次のようなコードで少し凝った処理をしていることに気付くでしょう。:\n",
    "\n",
    "```python\n",
    "async with AsyncExitStack() as stack:\n",
    "    mcp_servers = [await stack.enter_async_context(MCPServerStdio(params)) for params in mcp_server_params]\n",
    "```\n",
    "\n",
    "これは、コンテキストマネージャーと呼ばれる「with」ステートメントを簡潔に組み合わせた方法であり、以下のような面倒な処理を省くことができます。\n",
    "\n",
    "```python\n",
    "async with MCPServerStdio(params=params1) as mcp_server1:\n",
    "    async with MCPServerStdio(params=params2) as mcp_server2:\n",
    "        async with MCPServerStdio(params=params3) as mcp_server3:\n",
    "            mcp_servers = [mcp_server1, mcp_server2, mcp_server3]\n",
    "```\n",
    "\n",
    "しかし、それは同等です。"
   ]
  },
  {
   "cell_type": "code",
   "execution_count": 14,
   "metadata": {},
   "outputs": [
    {
     "data": {
      "text/plain": [
       "'{\"name\": \"ed\", \"balance\": 39.759280000000274, \"strategy\": \"You are a day trader that aggressively buys and sells shares based on news and market conditions.\", \"holdings\": {\"MNDY\": 50, \"PLTR\": 2}, \"transactions\": [{\"symbol\": \"MNDY\", \"quantity\": 50, \"price\": 192.3339, \"timestamp\": \"2025-09-15 19:05:19\", \"rationale\": \"Midcap growth stock with strong potential and recent positive news.\"}, {\"symbol\": \"PLTR\", \"quantity\": 2, \"price\": 171.77286, \"timestamp\": \"2025-09-15 20:10:55\", \"rationale\": \"Strong revenue and earnings growth, AI integration.\"}], \"portfolio_value_time_series\": [[\"2025-09-15 19:03:17\", 10000.0], [\"2025-09-15 19:03:43\", 10000.0], [\"2025-09-15 19:05:20\", 9980.805], [\"2025-09-15 20:09:03\", 9980.805], [\"2025-09-15 20:09:45\", 9980.805], [\"2025-09-15 20:10:55\", 9980.11928], [\"2025-09-15 20:11:08\", 9980.11928]], \"total_portfolio_value\": 9980.11928, \"total_profit_loss\": -19.880719999999258}'"
      ]
     },
     "execution_count": 14,
     "metadata": {},
     "output_type": "execute_result"
    }
   ],
   "source": [
    "from traders import Trader\n",
    "\n",
    "trader = Trader(\"Ed\")\n",
    "\n",
    "await trader.run()\n",
    "\n",
    "await read_accounts_resource(\"Ed\")"
   ]
  },
  {
   "cell_type": "markdown",
   "metadata": {},
   "source": [
    "### 今、トレースを見てください\n",
    "\n",
    "https://platform.openai.com/traces\n",
    "\n",
    "### 合計でいくつのツールを使用しましたか？"
   ]
  },
  {
   "cell_type": "code",
   "execution_count": 15,
   "metadata": {},
   "outputs": [
    {
     "name": "stdout",
     "output_type": "stream",
     "text": [
      "We have 6 MCP servers, and 16 tools\n"
     ]
    }
   ],
   "source": [
    "from mcp_params import trader_mcp_server_params, researcher_mcp_server_params\n",
    "\n",
    "all_params = trader_mcp_server_params + researcher_mcp_server_params(\"ed\")\n",
    "\n",
    "count = 0\n",
    "for each_params in all_params:\n",
    "    async with MCPServerStdio(params=each_params, client_session_timeout_seconds=60) as server:\n",
    "        mcp_tools = await server.list_tools()\n",
    "        count += len(mcp_tools)\n",
    "print(f\"We have {len(all_params)} MCP servers, and {count} tools\")"
   ]
  },
  {
   "cell_type": "markdown",
   "metadata": {},
   "source": [
    "### 上記で触れらていないファイルの説明\n",
    "\n",
    "- `push_server.py`はPushoverによるプッシュ通知の自作MCPサーバ\n",
    "- `templates.py`は、エージェントのシステム・プロンプト定義\n",
    "- `reset.py`は、（トレーダーの）アカウントの初期化（特に戦略定義）\n",
    "- `tracers.py`は、トレースとスパンの開始・終了をログに記録\n",
    "\n",
    "以下は、`5_lab5_ja.ipynb` で触れる内容。\n",
    "\n",
    "- `util.py`はUI装飾\n",
    "- `app.py`はエントリポイント"
   ]
  }
 ],
 "metadata": {
  "kernelspec": {
   "display_name": "Python 3 (ipykernel)",
   "language": "python",
   "name": "python3"
  },
  "language_info": {
   "codemirror_mode": {
    "name": "ipython",
    "version": 3
   },
   "file_extension": ".py",
   "mimetype": "text/x-python",
   "name": "python",
   "nbconvert_exporter": "python",
   "pygments_lexer": "ipython3",
   "version": "3.12.3"
  }
 },
 "nbformat": 4,
 "nbformat_minor": 4
}
