{
  "cells": [
    {
      "cell_type": "markdown",
      "metadata": {},
      "source": [
        "<テーブルスタイル= \"マージン：0;テキストアライグ：左;幅：100％\">\n",
        "    <tr>\n",
        "        <td style = \"width：220px; height：150px; vertical-align：middle;\">\n",
        "            <img src = \"../ assets/aaa.png\" width = \"220\" height = \"150\" style = \"display：block;\" />\n",
        "        </td>\n",
        "        <td>\n",
        "            <h2 style = \"color：＃ff7800;\">自動トレーダー</h2>\n",
        "            <span style = \"color：＃ff7800;\"> MCPサーバーのツールとリソースを搭載した自律エージェントを説明するエクイティ取引シミュレーション。\n",
        "            </span>\n",
        "        </td>\n",
        "    </tr>\n",
        "</table>"
      ]
    },
    {
      "cell_type": "markdown",
      "metadata": {},
      "source": [
        "###週6日4日\n",
        "\n",
        "そして今 - キャップストーンプロジェクトの紹介：\n",
        "\n",
        "\n",
        "＃自律トレーダー\n",
        "\n",
        "4人のトレーダーと1人の研究者がいるエクイティトレーディングシミュレーションは、ツールとリソースを備えた多数のMCPサーバーを搭載しています。\n",
        "\n",
        "1.自家製アカウントMCPサーバー（エンジニアリングチームによって書かれています！）\n",
        "2.フェッチ（ローカルヘッドレスブラウザを介してWebページを取得）\n",
        "3。メモリ\n",
        "4。勇敢な検索\n",
        "5。財務データ\n",
        "\n",
        "トレーダーのアカウントとその投資戦略に関する情報を読むためのリソース。\n",
        "\n",
        "今日のラボの目標は、新しいPythonモジュール「Traders.py」を作成することです。\n",
        "\n",
        "ラボで実験して探索し、準備ができたらPythonモジュールに移行します。\n"
      ]
    },
    {
      "cell_type": "markdown",
      "metadata": {},
      "source": [
        "<テーブルスタイル= \"マージン：0;テキストアライグ：左;幅：100％\">\n",
        "    <tr>\n",
        "        <td style = \"width：150px; height：150px; vertical-align：middle;\">\n",
        "            <img src = \"../ assets/stop.png\" width = \"150\" height = \"150\" style = \"display：block;\" />\n",
        "        </td>\n",
        "        <td>\n",
        "            <h2 style = \"color：＃ff7800;\">もう1回 -  </h2>\n",
        "            <Span style = \"color：＃ff7800;\">実際の取引決定にこれを使用しないでください!!\n",
        "            </span>\n",
        "        </td>\n",
        "    </tr>\n",
        "</table>"
      ]
    },
    {
      "cell_type": "code",
      "execution_count": null,
      "metadata": {},
      "outputs": [],
      "source": [
        "import os\n",
        "from dotenv import load_dotenv\n",
        "from agents import Agent, Runner, trace, Tool\n",
        "from agents.mcp import MCPServerStdio\n",
        "from IPython.display import Markdown, display\n",
        "from datetime import datetime\n",
        "from accounts_client import read_accounts_resource, read_strategy_resource\n",
        "from accounts import Account\n",
        "\n",
        "load_dotenv(override=True)"
      ]
    },
    {
      "cell_type": "markdown",
      "metadata": {},
      "source": [
        "### トレーダーのためにMCPパラメーションを集めることから始めましょう"
      ]
    },
    {
      "cell_type": "code",
      "execution_count": null,
      "metadata": {},
      "outputs": [],
      "source": [
        "polygon_api_key = os.getenv(\"POLYGON_API_KEY\")\n",
        "polygon_plan = os.getenv(\"POLYGON_PLAN\")\n",
        "\n",
        "is_paid_polygon = polygon_plan == \"paid\"\n",
        "is_realtime_polygon = polygon_plan == \"realtime\"\n",
        "\n",
        "print(is_paid_polygon)\n",
        "print(is_realtime_polygon)"
      ]
    },
    {
      "cell_type": "code",
      "execution_count": 3,
      "metadata": {},
      "outputs": [],
      "source": [
        "if is_paid_polygon or is_realtime_polygon:\n",
        "    market_mcp = {\"command\": \"uvx\",\"args\": [\"--from\", \"git+https://github.com/polygon-io/mcp_polygon@master\", \"mcp_polygon\"], \"env\": {\"POLYGON_API_KEY\": polygon_api_key}}\n",
        "else:\n",
        "    market_mcp = ({\"command\": \"uv\", \"args\": [\"run\", \"market_server.py\"]})\n",
        "\n",
        "trader_mcp_server_params = [\n",
        "    {\"command\": \"uv\", \"args\": [\"run\", \"accounts_server.py\"]},\n",
        "    {\"command\": \"uv\", \"args\": [\"run\", \"push_server.py\"]},\n",
        "    market_mcp\n",
        "]"
      ]
    },
    {
      "cell_type": "markdown",
      "metadata": {},
      "source": [
        "### そして今、私たちの研究者のために"
      ]
    },
    {
      "cell_type": "code",
      "execution_count": 4,
      "metadata": {},
      "outputs": [],
      "source": [
        "brave_env = {\"BRAVE_API_KEY\": os.getenv(\"BRAVE_API_KEY\")}\n",
        "\n",
        "researcher_mcp_server_params = [\n",
        "    {\"command\": \"uvx\", \"args\": [\"mcp-server-fetch\"]},\n",
        "    {\"command\": \"npx\", \"args\": [\"-y\", \"@modelcontextprotocol/server-brave-search\"], \"env\": brave_env}\n",
        "]"
      ]
    },
    {
      "cell_type": "markdown",
      "metadata": {},
      "source": [
        "### 次に、それぞれにMcPserverstDioを作成します"
      ]
    },
    {
      "cell_type": "code",
      "execution_count": 13,
      "metadata": {},
      "outputs": [],
      "source": [
        "researcher_mcp_servers = [MCPServerStdio(params, client_session_timeout_seconds=30) for params in researcher_mcp_server_params]\n",
        "trader_mcp_servers = [MCPServerStdio(params, client_session_timeout_seconds=30) for params in trader_mcp_server_params]\n",
        "mcp_servers = trader_mcp_servers + researcher_mcp_servers"
      ]
    },
    {
      "cell_type": "markdown",
      "metadata": {},
      "source": [
        "### それでは、市場調査を行うための研究者エージェントを作ってみましょう\n",
        "\n",
        "そして、それをツールに変えてください - これがOpenai Agents SDKでどのように機能するか、そしてハンドオフとの違いを覚えていますか？"
      ]
    },
    {
      "cell_type": "code",
      "execution_count": 14,
      "metadata": {},
      "outputs": [],
      "source": [
        "async def get_researcher(mcp_servers) -> Agent:\n",
        "    instructions = f\"\"\"You are a financial researcher. You are able to search the web for interesting financial news,\n",
        "look for possible trading opportunities, and help with research.\n",
        "Based on the request, you carry out necessary research and respond with your findings.\n",
        "Take time to make multiple searches to get a comprehensive overview, and then summarize your findings.\n",
        "If there isn't a specific request, then just respond with investment opportunities based on searching latest news.\n",
        "The current datetime is {datetime.now().strftime(\"%Y-%m-%d %H:%M:%S\")}\n",
        "\"\"\"\n",
        "    researcher = Agent(\n",
        "        name=\"Researcher\",\n",
        "        instructions=instructions,\n",
        "        model=\"gpt-4.1-mini\",\n",
        "        mcp_servers=mcp_servers,\n",
        "    )\n",
        "    return researcher"
      ]
    },
    {
      "cell_type": "code",
      "execution_count": 15,
      "metadata": {},
      "outputs": [],
      "source": [
        "async def get_researcher_tool(mcp_servers) -> Tool:\n",
        "    researcher = await get_researcher(mcp_servers)\n",
        "    return researcher.as_tool(\n",
        "            tool_name=\"Researcher\",\n",
        "            tool_description=\"This tool researches online for news and opportunities, \\\n",
        "                either based on your specific request to look into a certain stock, \\\n",
        "                or generally for notable financial news and opportunities. \\\n",
        "                Describe what kind of research you're looking for.\"\n",
        "        )"
      ]
    },
    {
      "cell_type": "code",
      "execution_count": null,
      "metadata": {},
      "outputs": [],
      "source": [
        "research_question = \"What's the latest news on Amazon?\"\n",
        "\n",
        "for server in researcher_mcp_servers:\n",
        "    await server.connect()\n",
        "researcher = await get_researcher(researcher_mcp_servers)\n",
        "with trace(\"Researcher\"):\n",
        "    result = await Runner.run(researcher, research_question, max_turns=30)\n",
        "display(Markdown(result.final_output))\n",
        "\n"
      ]
    },
    {
      "cell_type": "markdown",
      "metadata": {},
      "source": [
        "### トレースを見てください\n",
        "\n",
        "https://platform.openai.com/traces"
      ]
    },
    {
      "cell_type": "code",
      "execution_count": null,
      "metadata": {},
      "outputs": [],
      "source": [
        "ed_initial_strategy = \"You are a day trader that aggressively buys and sells shares based on news and market conditions.\"\n",
        "Account.get(\"Ed\").reset(ed_initial_strategy)\n",
        "\n",
        "display(Markdown(await read_accounts_resource(\"Ed\")))\n",
        "display(Markdown(await read_strategy_resource(\"Ed\")))"
      ]
    },
    {
      "cell_type": "markdown",
      "metadata": {},
      "source": [
        "### そして今 - トレーダーエージェントを作成する"
      ]
    },
    {
      "cell_type": "code",
      "execution_count": 26,
      "metadata": {},
      "outputs": [],
      "source": [
        "agent_name = \"Ed\"\n",
        "\n",
        "# MCPサーバーを使用してリソースを読み取ります\n",
        "account_details = await read_accounts_resource(agent_name)\n",
        "strategy = await read_strategy_resource(agent_name)\n",
        "\n",
        "instructions = f\"\"\"\n",
        "You are a trader that manages a portfolio of shares. Your name is {agent_name} and your account is under your name, {agent_name}.\n",
        "You have access to tools that allow you to search the internet for company news, check stock prices, and buy and sell shares.\n",
        "Your investment strategy for your portfolio is:\n",
        "{strategy}\n",
        "Your current holdings and balance is:\n",
        "{account_details}\n",
        "You have the tools to perform a websearch for relevant news and information.\n",
        "You have tools to check stock prices.\n",
        "You have tools to buy and sell shares.\n",
        "You have tools to save memory of companies, research and thinking so far.\n",
        "Please make use of these tools to manage your portfolio. Carry out trades as you see fit; do not wait for instructions or ask for confirmation.\n",
        "\"\"\"\n",
        "\n",
        "prompt = \"\"\"\n",
        "Use your tools to make decisions about your portfolio.\n",
        "Investigate the news and the market, make your decision, make the trades, and respond with a summary of your actions.\n",
        "\"\"\""
      ]
    },
    {
      "cell_type": "code",
      "execution_count": null,
      "metadata": {},
      "outputs": [],
      "source": [
        "print(instructions)"
      ]
    },
    {
      "cell_type": "markdown",
      "metadata": {},
      "source": [
        "### そして、私たちのトレーダーを運営します"
      ]
    },
    {
      "cell_type": "code",
      "execution_count": null,
      "metadata": {},
      "outputs": [],
      "source": [
        "for server in mcp_servers:\n",
        "    await server.connect()\n",
        "\n",
        "researcher_tool = await get_researcher_tool(researcher_mcp_servers)\n",
        "trader = Agent(\n",
        "    name=agent_name,\n",
        "    instructions=instructions,\n",
        "    tools=[researcher_tool],\n",
        "    mcp_servers=trader_mcp_servers,\n",
        "    model=\"gpt-4o-mini\",\n",
        ")\n",
        "with trace(agent_name):\n",
        "    result = await Runner.run(trader, prompt, max_turns=30)\n",
        "display(Markdown(result.final_output))"
      ]
    },
    {
      "cell_type": "markdown",
      "metadata": {},
      "source": [
        "###その後、トレースを見てください\n",
        "\n",
        "http://platform.openai.com/traces\n"
      ]
    },
    {
      "cell_type": "code",
      "execution_count": null,
      "metadata": {},
      "outputs": [],
      "source": [
        "# そして、取引の結果を見てみましょう\n",
        "\n",
        "await read_accounts_resource(agent_name)"
      ]
    },
    {
      "cell_type": "markdown",
      "metadata": {},
      "source": [
        "###今度は、これから作られたPythonモジュールを確認する時が来ました。\n",
        "\n",
        "`mcp_params.py`は、MCPサーバーが指定されている場所です。おなじみの友達を連れてきたことに気付くでしょう：メモリとプッシュ通知！\n",
        "\n",
        "`templates.py`は、指示とメッセージがセットアップされる場所です（つまり、システムのプロンプトとユーザープロンプト）\n",
        "\n",
        "`Traders.py`はそれをすべて一緒にもたらします。\n",
        "\n",
        "あなたは私がこのようなコードで少し派手なことをしたことに気付くでしょう：\n",
        "\n",
        "```\n",
        "async with AsyncExitStack() as stack:\n",
        "    mcp_servers = [await stack.enter_async_context(MCPServerStdio(params)) for params in mcp_server_params]\n",
        "```\n",
        "\n",
        "これは、「コンテキストマネージャーと呼ばれる」ステートメントと「」ステートメントを組み合わせるための整然とした方法であるため、このようなことをする必要はありません。\n",
        "\n",
        "```\n",
        "async with MCPServerStdio(params=params1) as mcp_server1:\n",
        "    async with MCPServerStdio(params=params2) as mcp_server2:\n",
        "        async with MCPServerStdio(params=params3) as mcp_server3:\n",
        "            mcp_servers = [mcp_server1, mcp_server2, mcp_server3]\n",
        "```\n",
        "\n",
        "しかし、それは同等です。\n"
      ]
    },
    {
      "cell_type": "code",
      "execution_count": 2,
      "metadata": {},
      "outputs": [],
      "source": [
        "from traders import Trader\n"
      ]
    },
    {
      "cell_type": "code",
      "execution_count": 3,
      "metadata": {},
      "outputs": [],
      "source": [
        "trader = Trader(\"Ed\")"
      ]
    },
    {
      "cell_type": "code",
      "execution_count": null,
      "metadata": {},
      "outputs": [],
      "source": [
        "await trader.run()"
      ]
    },
    {
      "cell_type": "code",
      "execution_count": null,
      "metadata": {},
      "outputs": [],
      "source": [
        "await read_accounts_resource(\"Ed\")"
      ]
    },
    {
      "cell_type": "markdown",
      "metadata": {},
      "source": [
        "### 今、トレースを見てください\n",
        "\n",
        "https://platform.openai.com/traces\n",
        "\n",
        "###合計でいくつのツールを使用しましたか？"
      ]
    },
    {
      "cell_type": "code",
      "execution_count": null,
      "metadata": {},
      "outputs": [],
      "source": [
        "from mcp_params import trader_mcp_server_params, researcher_mcp_server_params\n",
        "\n",
        "all_params = trader_mcp_server_params + researcher_mcp_server_params(\"ed\")\n",
        "\n",
        "count = 0\n",
        "for each_params in all_params:\n",
        "    async with MCPServerStdio(params=each_params, client_session_timeout_seconds=60) as server:\n",
        "        mcp_tools = await server.list_tools()\n",
        "        count += len(mcp_tools)\n",
        "print(f\"We have {len(all_params)} MCP servers, and {count} tools\")"
      ]
    },
    {
      "cell_type": "code",
      "execution_count": null,
      "metadata": {},
      "outputs": [],
      "source": []
    },
    {
      "cell_type": "code",
      "execution_count": null,
      "metadata": {},
      "outputs": [],
      "source": []
    }
  ],
  "metadata": {
    "kernelspec": {
      "display_name": ".venv",
      "language": "python",
      "name": "python3"
    },
    "language_info": {
      "codemirror_mode": {
        "name": "ipython",
        "version": 3
      },
      "file_extension": ".py",
      "mimetype": "text/x-python",
      "name": "python",
      "nbconvert_exporter": "python",
      "pygments_lexer": "ipython3",
      "version": "3.12.9"
    }
  },
  "nbformat": 4,
  "nbformat_minor": 2
}