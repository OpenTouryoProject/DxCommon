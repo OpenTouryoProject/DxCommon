{
  "cells": [
    {
      "cell_type": "markdown",
      "metadata": {},
      "source": [
        "## 6週目へようこそ\n",
        "\n",
        "壮大なフィナーレ週\n",
        "\n",
        "そして\n",
        "\n",
        "＃** m ** odel ** c ** ontext ** p ** rotocolへようこそ！\n",
        "\n",
        "そして、OpenaiエージェントSDKのwelcompelact❤️❤️❤️\n",
        "\n",
        "＃＃＃ ご注意ください\n",
        "\n",
        "私はいつも更新を行っているので、ここにビデオから変更があるかもしれません！"
      ]
    },
    {
      "cell_type": "markdown",
      "metadata": {},
      "source": [
        "<テーブルスタイル= \"マージン：0;テキストアライグ：左;幅：100％\">\n",
        "    <tr>\n",
        "        <td style = \"width：150px; height：150px; vertical-align：middle;\">\n",
        "            <img src = \"../ assets/stop.png\" width = \"150\" height = \"150\" style = \"display：block;\" />\n",
        "        </td>\n",
        "        <td>\n",
        "            <h2 style = \"color：＃ff7800;\">私のWindows PCの人々へ - 重要な発表</h2>\n",
        "            <Span style = \"color：＃ff7800;\">不快なニュースがあります。 Windows PCSでMCPサーバーを実行するのに問題があります。 MacとLinuxは問題ありません。これは、2025年5月4日の既知の問題です。私はO3に深い研究を依頼して、回避策を見つけようとしました。 <a href = \"https://chatgpt.com/share/6817bbc3-3d0c-8012-9b51-631842470628\">問題を確認し、ワークアラウンドを確認しました。<br/> <br/>\n",
        "            回避策は少し退屈です。これは、PCでLinuxを実行するためのMicrosoftアプローチである「WSL」を利用することです。より多くのセットアップ手順を実行する必要があります！しかし、それは迅速であり、数人の学生がこれが彼らにとって完全に機能し、第6週MCPラボが機能することを確認しました。さらに、WSLは実際にWindows PCにソフトウェアを構築するのに最適な方法です。<br/>\n",
        "            WSLのセットアップ手順は、<a href = \"../ setup/setup-wsl.md\"> <a href = \"../ setup-wsl.mdと呼ばれるファイル</a>にあります。私はこれがあなたを簡単に抑えるだけであることを願っています - あなたはすぐに戻って走るべきです。ああ、出血エッジテクノロジーを扱う喜び！<br/> <br/>\n",
        "            学生のMarkus、Abhi、Huiling、その他いくつかの学生に感謝し、それに取り組み、修正を確認してくれたことに感謝します。\n",
        "            </span>\n",
        "        </td>\n",
        "    </tr>\n",
        "</table>"
      ]
    },
    {
      "cell_type": "code",
      "execution_count": null,
      "metadata": {},
      "outputs": [],
      "source": [
        "# 輸入\n",
        "\n",
        "from dotenv import load_dotenv\n",
        "from agents import Agent, Runner, trace\n",
        "from agents.mcp import MCPServerStdio\n",
        "import os"
      ]
    },
    {
      "cell_type": "code",
      "execution_count": null,
      "metadata": {},
      "outputs": [],
      "source": [
        "load_dotenv(override=True)"
      ]
    },
    {
      "cell_type": "markdown",
      "metadata": {},
      "source": [
        "### Openai Agents SDKでMCPを使用しましょう\n",
        "\n",
        "1.クライアントを作成します\n",
        "\n",
        "2。サーバーを生成させます\n",
        "\n",
        "3.サーバーが使用できるツールを収集します\n",
        "\n",
        "先週見たフェッチMCPサーバーを試してみましょう\n",
        "\n",
        "### Special Note -Openaiエージェントフレームワークを更新した場合：\n",
        "\n",
        "Openai Agents SDKは最近、SDKをアップグレードし、壊れた変更を加えました（ありがとう、Openai😂）。このリポジトリのバージョンを最新バージョンにまだ更新していません。自分でパッケージをアップグレードした場合、位置引数が欠落していることについてエラーが発生する可能性があります。そのエラーが発生した場合、「await server.list_tools（）」を交換する必要があります。そして、このエラーが発生するたびにこの変更を行う必要があります！出血の端で働くことの喜び。"
      ]
    },
    {
      "cell_type": "code",
      "execution_count": null,
      "metadata": {},
      "outputs": [],
      "source": [
        "fetch_params = {\"command\": \"uvx\", \"args\": [\"mcp-server-fetch\"]}\n",
        "\n",
        "async with MCPServerStdio(params=fetch_params, client_session_timeout_seconds=60) as server:\n",
        "    fetch_tools = await server.list_tools()\n",
        "\n",
        "fetch_tools"
      ]
    },
    {
      "cell_type": "markdown",
      "metadata": {},
      "source": [
        "## 追加のインストールステップ - コンピューターにノードと劇作家がない場合\n",
        "\n",
        "次のMCPツールでは、ノード（JavaScriptサーバー）を使用しているため、コンピューターにコマンド「NPX」をインストールする必要があります。\n",
        "\n",
        "追加のセットアップ手順はこちらにあります：\n",
        "\n",
        "[Node and Playwright setup](../setup/SETUP-node.md)"
      ]
    },
    {
      "cell_type": "markdown",
      "metadata": {},
      "source": [
        "## そして今、さらに2つのMCPサーバー - 今回はJavaScriptベース、ノード付き\n",
        "\n",
        "###次のセルがぶら下がっている場合は、上記のセットアップノード命令の最後に重要なトラブルシューティングを参照してください。"
      ]
    },
    {
      "cell_type": "code",
      "execution_count": null,
      "metadata": {},
      "outputs": [],
      "source": [
        "\n",
        "playwright_params = {\"command\": \"npx\",\"args\": [ \"@playwright/mcp@latest\"]}\n",
        "\n",
        "async with MCPServerStdio(params=playwright_params, client_session_timeout_seconds=60) as server:\n",
        "    playwright_tools = await server.list_tools()\n",
        "\n",
        "playwright_tools\n"
      ]
    },
    {
      "cell_type": "code",
      "execution_count": null,
      "metadata": {},
      "outputs": [],
      "source": [
        "\n",
        "sandbox_path = os.path.abspath(os.path.join(os.getcwd(), \"sandbox\"))\n",
        "files_params = {\"command\": \"npx\", \"args\": [\"-y\", \"@modelcontextprotocol/server-filesystem\", sandbox_path]}\n",
        "\n",
        "async with MCPServerStdio(params=files_params,client_session_timeout_seconds=60) as server:\n",
        "    file_tools = await server.list_tools()\n",
        "\n",
        "file_tools"
      ]
    },
    {
      "cell_type": "markdown",
      "metadata": {},
      "source": [
        "### そして今..ツールでエージェントを連れてきてください！"
      ]
    },
    {
      "cell_type": "code",
      "execution_count": null,
      "metadata": {},
      "outputs": [],
      "source": [
        "instructions = \"\"\"\n",
        "You browse the internet to accomplish your instructions.\n",
        "You are highly capable at browsing the internet independently to accomplish your task, \n",
        "including accepting all cookies and clicking 'not now' as\n",
        "appropriate to get to the content you need. If one website isn't fruitful, try another. \n",
        "Be persistent until you have solved your assignment,\n",
        "trying different options and sites as needed.\n",
        "\"\"\"\n",
        "\n",
        "\n",
        "async with MCPServerStdio(params=files_params, client_session_timeout_seconds=60) as mcp_server_files:\n",
        "    async with MCPServerStdio(params=playwright_params, client_session_timeout_seconds=60) as mcp_server_browser:\n",
        "        agent = Agent(\n",
        "            name=\"investigator\", \n",
        "            instructions=instructions, \n",
        "            model=\"gpt-4.1-mini\",\n",
        "            mcp_servers=[mcp_server_files, mcp_server_browser]\n",
        "            )\n",
        "        with trace(\"investigate\"):\n",
        "            result = await Runner.run(agent, \"Find a great recipe for Banoffee Pie, then summarize it in markdown to banoffee.md\")\n",
        "            print(result.final_output)\n"
      ]
    },
    {
      "cell_type": "markdown",
      "metadata": {},
      "source": [
        "###トレースをチェックしてください\n",
        "\n",
        "https://platform.openai.com/traces\n",
        "\n",
        "### MCP市場をいくつか見てみましょう\n",
        "\n",
        "https://mcp.so\n",
        "\n",
        "https://glama.ai/mcp\n",
        "\n",
        "https://smithery.ai/\n",
        "\n",
        "https://huggingface.co/blog/llmhacker/top-11-ensenty-mcp-libraries\n",
        "\n",
        "Huggingface素晴らしいコミュニティ記事：\n",
        "https://huggingface.co/blog/kseniase/mcp\n"
      ]
    },
    {
      "cell_type": "markdown",
      "metadata": {},
      "source": []
    }
  ],
  "metadata": {
    "kernelspec": {
      "display_name": ".venv",
      "language": "python",
      "name": "python3"
    },
    "language_info": {
      "codemirror_mode": {
        "name": "ipython",
        "version": 3
      },
      "file_extension": ".py",
      "mimetype": "text/x-python",
      "name": "python",
      "nbconvert_exporter": "python",
      "pygments_lexer": "ipython3",
      "version": "3.12.9"
    }
  },
  "nbformat": 4,
  "nbformat_minor": 2
}