{
  "cells": [
    {
      "cell_type": "markdown",
      "metadata": {},
      "source": [
        "### 第6週、2日目\n",
        "\n",
        "独自のMCPサーバーとMCPクライアントを作成して使用しようとしています！\n",
        "\n",
        "それは非常に簡単ですが、それは非常に単純ではありません。 MCPに関する興奮は、他のMCPサーバーを共有して使用するのがどれほど簡単かについてです。独自のMCPサーバーを作成するには、少しの作業が含まれます。\n",
        "\n",
        "主に勤勉なエンジニアリングチームによって作成されたいくつかのPythonコードを確認しましょう。\n",
        "\n",
        "accounts.py"
      ]
    },
    {
      "cell_type": "code",
      "execution_count": null,
      "metadata": {},
      "outputs": [],
      "source": [
        "from dotenv import load_dotenv\n",
        "from agents import Agent, Runner, trace\n",
        "from agents.mcp import MCPServerStdio\n",
        "from IPython.display import display, Markdown\n",
        "\n",
        "load_dotenv(override=True)"
      ]
    },
    {
      "cell_type": "code",
      "execution_count": null,
      "metadata": {},
      "outputs": [],
      "source": [
        "from accounts import Account"
      ]
    },
    {
      "cell_type": "code",
      "execution_count": null,
      "metadata": {},
      "outputs": [],
      "source": [
        "account = Account.get(\"Ed\")\n",
        "account"
      ]
    },
    {
      "cell_type": "code",
      "execution_count": null,
      "metadata": {},
      "outputs": [],
      "source": [
        "account.buy_shares(\"AMZN\", 3, \"Because this bookstore website looks promising\")"
      ]
    },
    {
      "cell_type": "code",
      "execution_count": null,
      "metadata": {},
      "outputs": [],
      "source": [
        "account.report()"
      ]
    },
    {
      "cell_type": "code",
      "execution_count": null,
      "metadata": {},
      "outputs": [],
      "source": [
        "account.list_transactions()"
      ]
    },
    {
      "cell_type": "markdown",
      "metadata": {},
      "source": [
        "### 次に、MCPサーバーを書き、直接使用します！"
      ]
    },
    {
      "cell_type": "code",
      "execution_count": null,
      "metadata": {},
      "outputs": [],
      "source": [
        "# 次に、アカウントサーバーをMCPサーバーとして使用しましょう\n",
        "\n",
        "params = {\"command\": \"uv\", \"args\": [\"run\", \"accounts_server.py\"]}\n",
        "async with MCPServerStdio(params=params, client_session_timeout_seconds=30) as server:\n",
        "    mcp_tools = await server.list_tools()\n"
      ]
    },
    {
      "cell_type": "code",
      "execution_count": null,
      "metadata": {},
      "outputs": [],
      "source": [
        "mcp_tools"
      ]
    },
    {
      "cell_type": "code",
      "execution_count": null,
      "metadata": {},
      "outputs": [],
      "source": [
        "instructions = \"You are able to manage an account for a client, and answer questions about the account.\"\n",
        "request = \"My name is Ed and my account is under the name Ed. What's my balance and my holdings?\"\n",
        "model = \"gpt-4.1-mini\""
      ]
    },
    {
      "cell_type": "code",
      "execution_count": null,
      "metadata": {},
      "outputs": [],
      "source": [
        "\n",
        "async with MCPServerStdio(params=params, client_session_timeout_seconds=30) as mcp_server:\n",
        "    agent = Agent(name=\"account_manager\", instructions=instructions, model=model, mcp_servers=[mcp_server])\n",
        "    with trace(\"account_manager\"):\n",
        "        result = await Runner.run(agent, request)\n",
        "    display(Markdown(result.final_output))\n"
      ]
    },
    {
      "cell_type": "markdown",
      "metadata": {},
      "source": [
        "### それでは、独自のMCPクライアントを構築しましょう"
      ]
    },
    {
      "cell_type": "code",
      "execution_count": null,
      "metadata": {},
      "outputs": [],
      "source": [
        "from accounts_client import get_accounts_tools_openai, read_accounts_resource, list_accounts_tools\n",
        "\n",
        "mcp_tools = await list_accounts_tools()\n",
        "print(mcp_tools)\n",
        "openai_tools = await get_accounts_tools_openai()\n",
        "print(openai_tools)"
      ]
    },
    {
      "cell_type": "code",
      "execution_count": null,
      "metadata": {},
      "outputs": [],
      "source": [
        "request = \"My name is Ed and my account is under the name Ed. What's my balance?\"\n",
        "\n",
        "with trace(\"account_mcp_client\"):\n",
        "    agent = Agent(name=\"account_manager\", instructions=instructions, model=model, tools=openai_tools)\n",
        "    result = await Runner.run(agent, request)\n",
        "    display(Markdown(result.final_output))"
      ]
    },
    {
      "cell_type": "code",
      "execution_count": null,
      "metadata": {},
      "outputs": [],
      "source": [
        "context = await read_accounts_resource(\"ed\")\n",
        "print(context)"
      ]
    },
    {
      "cell_type": "code",
      "execution_count": null,
      "metadata": {},
      "outputs": [],
      "source": [
        "from accounts import Account\n",
        "Account.get(\"ed\").report()"
      ]
    },
    {
      "cell_type": "markdown",
      "metadata": {},
      "source": [
        "<テーブルスタイル= \"マージン：0;テキストアライグ：左;幅：100％\">\n",
        "    <tr>\n",
        "        <td style = \"width：150px; height：150px; vertical-align：middle;\">\n",
        "            <img src = \"../ assets/exercise.png\" width = \"150\" height = \"150\" style = \"display：block;\" />\n",
        "        </td>\n",
        "        <td>\n",
        "            <h2 style = \"color：＃ff7800;\">演習</h2>\n",
        "            <SPAN STYLE = \"Color：＃FF7800;\">独自のMCPサーバーを作成します！現在の日付を返すように簡単な関数を作成し、エージェントが今日の日付を伝えることができるようにツールとして公開します。\n",
        "            </span>\n",
        "        </td>\n",
        "    </tr>\n",
        "</table>"
      ]
    }
  ],
  "metadata": {
    "kernelspec": {
      "display_name": ".venv",
      "language": "python",
      "name": "python3"
    },
    "language_info": {
      "codemirror_mode": {
        "name": "ipython",
        "version": 3
      },
      "file_extension": ".py",
      "mimetype": "text/x-python",
      "name": "python",
      "nbconvert_exporter": "python",
      "pygments_lexer": "ipython3",
      "version": "3.12.9"
    }
  },
  "nbformat": 4,
  "nbformat_minor": 2
}