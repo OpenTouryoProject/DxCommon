{
 "cells": [
  {
   "cell_type": "markdown",
   "metadata": {},
   "source": [
    "<テーブルスタイル= \"マージン：0;テキストアライグ：左;幅：100％\">\n",
    "    <tr>\n",
    "        <td style = \"width：220px; height：150px; vertical-align：middle;\">\n",
    "            <img src = \"../ assets/aaa.png\" width = \"220\" height = \"150\" style = \"display：block;\" />\n",
    "        </td>\n",
    "        <td>\n",
    "            <h2 style = \"color：＃ff7800;\">自動トレーダー</h2>\n",
    "            <span style = \"color：＃ff7800;\"> MCPサーバーのツールとリソースを搭載した自律エージェントを説明するエクイティ取引シミュレーション。\n",
    "            </span>\n",
    "        </td>\n",
    "    </tr>\n",
    "</table>"
   ]
  },
  {
   "cell_type": "markdown",
   "metadata": {},
   "source": [
    "### 5週目5日目\n",
    "\n",
    "グランドフィナーレ!!\n",
    "\n",
    "＃自律トレーダー\n",
    "\n",
    "4人のトレーダーと1人の研究者がいる株式取引シミュレーションは、ツールとリソースを備えた44のMCPサーバーを搭載しています。\n",
    "\n",
    "トレーダーのチームを追加する時間。"
   ]
  },
  {
   "cell_type": "markdown",
   "metadata": {},
   "source": [
    "<テーブルスタイル= \"マージン：0;テキストアライグ：左;幅：100％\">\n",
    "    <tr>\n",
    "        <td style = \"width：150px; height：150px; vertical-align：middle;\">\n",
    "            <img src = \"../ assets/tools.png\" width = \"150\" height = \"150\" style = \"display：block;\" />\n",
    "        </td>\n",
    "        <td>\n",
    "            <h2 style = \"color：＃00bfff;\">より多くのMCPサーバーを追加</h2>\n",
    "            <SPAN STYLE = \"COLOR：＃00BFFF;\">時間が経つにつれて、MCPサーバーエージェントと機能を追加し続ける予定です。今のところ、コースを通じて繰り返しのテーマだったので、プッシュ通知を追加しました。\n",
    "            </span>\n",
    "        </td>\n",
    "    </tr>\n",
    "</table>"
   ]
  },
  {
   "cell_type": "markdown",
   "metadata": {},
   "source": [
    "## 4人のトレーダーを紹介します\n",
    "\n",
    "私たちには4人のトレーダーがいて、彼らは業界の4人のタイタンに触発されています。  \n",
    "\n",
    "**ウォーレン**、ウォーレンバフェットへのオマージュ  \n",
    "**ジョージ**、ジョージ・ソロスへのオマージュ  \n",
    "**レイ**、レイダリオへのオマージュ  \n",
    "**キャシー**、キャシー・ウッドへのオマージュ\n",
    "\n",
    "彼らには、名前のあるものに触発された初期投資戦略があります。しかし、彼らは、ツールを使用して、必要に応じて時間の経過とともに独自の戦略を変更する自律性を持っています。\n",
    "\n",
    "\n",
    "ファイル「reset.py`」をチェックして、初期投資の論文を読んでください。"
   ]
  },
  {
   "cell_type": "code",
   "execution_count": 2,
   "metadata": {},
   "outputs": [],
   "source": [
    "# 次に、トレーダーを出発点に設定します - リセットするためのラインを除外してください。\n",
    "\n",
    "from reset import reset_traders\n",
    "# reset_traders（）"
   ]
  },
  {
   "cell_type": "markdown",
   "metadata": {},
   "source": [
    "## 最終的な変更を明らかにします\n",
    "\n",
    "いくつかの新しいMCPサーバー - メモリとプッシュ通知 -  `MCP_PARAMS.PY`および` Push_Server.py`をご覧ください\n",
    "\n",
    "そして、これはクールなことです：\n",
    "\n",
    "Openai Agents SDKには、トレースコードと統合できる優れた機能があり、コードのトレースメッセージを監視できるようにします。\n",
    "\n",
    "「tracers.py」を参照してください - トレーダーのアクティビティを記録し、データベースに保存するカスタムトレーサーを作成したので、UIに関するトレーダーの内的な考えを表現できます。"
   ]
  },
  {
   "cell_type": "markdown",
   "metadata": {},
   "source": [
    "# そして今..パート1を明らかにします\n",
    "\n",
    "まず、.envファイルにオプションで追加できる設定がいくつかあります。\n",
    "\n",
    "`run_every_n_minutes = 60`  \n",
    "これにより、トレーダーエージェントが実行される頻度が決定され、.envファイルで指定されていない場合、デフォルトは60分ごとにデフォルトです。\n",
    "\n",
    "`run_even_when_market_is_closed = false`  \n",
    "これにより、トレーダーがまだ数時間がなくなっているかどうかが判断され、.envファイルで指定されていない場合、デフォルトはfalseになります。\n",
    "\n",
    "`use_many_models = false`  \n",
    "これにより、Openaiに加えてDeepseek、Gemini、およびGrokを使用して、Deepseek APIとOpenRouterを使用するかどうかが決まります。  \n",
    ".ENVファイルで指定されていない場合はデフォルトでfalseになります。この場合、GPT-4O-MINIが全体で使用されます。\n",
    "\n",
    "必要に応じて、これらの変更を加えてください！\n",
    "\n",
    "次に、 `app.py`のUIコードを見てみましょう\n",
    "\n",
    "次に、新しい端末を開きます（Shift + Ctrl +バックティック）\n",
    "\n",
    "このディレクトリに変更します：  \n",
    "`cd 6_mcp`\n",
    "\n",
    "と実行：  \n",
    "`uv run app.py`\n",
    "\n",
    "そして、ユーザーインターフェイスで喜びを感じてください！"
   ]
  },
  {
   "cell_type": "markdown",
   "metadata": {},
   "source": [
    "＃そして今..パート2を明らかにします\n"
   ]
  },
  {
   "cell_type": "markdown",
   "metadata": {},
   "source": [
    "### 次に、エンジンを見てください：\n",
    "\n",
    "`trading_floor.py`\n",
    "\n",
    "それは魔法が起こる場所である超音符のループを持っています：\n",
    "\n",
    "\n",
    "```\n",
    "while True:\n",
    "    await asyncio.gather(*[trader.run() for trader in traders])\n",
    "    await asyncio.sleep(RUN_EVERY_N_MINUTES * 60)\n",
    "```\n",
    "\n",
    "また、環境変数をどのように見ているかがわかります。\n",
    "\n",
    "そして最後に、新しい端末を開きます（Shift + Ctrl +バックティック、または下の端子の右上にプラスを押します）\n",
    "\n",
    "このディレクトリに変更します：  \n",
    "`cd 6_mcp`\n",
    "\n",
    "と実行：  \n",
    "`uv run trading_floor.py`\n",
    "\n",
    "ユーザーインターフェイスをご覧ください - トレーディングチームが動作しているのをご覧ください！"
   ]
  },
  {
   "cell_type": "markdown",
   "metadata": {},
   "source": [
    "<テーブルスタイル= \"マージン：0;テキストアライグ：左;幅：100％\">\n",
    "    <tr>\n",
    "        <td style = \"width：150px; height：150px; vertical-align：middle;\">\n",
    "            <img src = \"../ assets/stop.png\" width = \"150\" height = \"150\" style = \"display：block;\" />\n",
    "        </td>\n",
    "        <td>\n",
    "            <h2 style = \"color：＃ff7800;\"> apisを監視する最後のリマインダー</h2>\n",
    "            <Span style = \"color：＃ff7800;\">これは、1時間ごとにループで実行されます。あなたはあなたのAPIの使用を見て、あなたが十分に持っていたときにこれを停止する必要があります！<br/>\n",
    "            私はこれを何時間も幸せに見ていることに気づきました - そして、私もあなたもそうすることを願っています！自律エージェントの力を紹介する巨大なプロジェクト。\n",
    "            </span>\n",
    "        </td>\n",
    "    </tr>\n",
    "</table>"
   ]
  },
  {
   "cell_type": "markdown",
   "metadata": {},
   "source": [
    "<テーブルスタイル= \"マージン：0;テキストアライグ：左;幅：100％\">\n",
    "    <tr>\n",
    "        <td style = \"width：150px; height：150px; vertical-align：middle;\">\n",
    "            <img src = \"../ assets/ants.png\" width = \"150\" height = \"150\" style = \"display：block;\" />\n",
    "        </td>\n",
    "        <td>\n",
    "            <h2 style = \"color：＃00cc00;\">どうもありがとうございました！</h2>\n",
    "            <Span style = \"color：＃00cc00;\">結論に達しました！私はあなたが最後までそれに固執したことにとても感謝しています。私の編集者は私がもう一度言及しなかった場合、私を叩きます：あなたがウデミーでコースを評価することができれば、私は非常に感謝します：それはウデミーが他の人にコースを示すかどうかを決定する最も重要な方法です。あなたがここまでそれを作っていて、どういうわけかLinkedInで私とのつながりに抵抗することに抵抗するなら -  <a href = \"https://www.linkedin.com/in/eddonner/\">ここにもう一度もう一度！コースであなたの成果について投稿したい場合は、タグを付けてください。露出を増やすために体重を計ります。<br> <br/>おめでとうございます！ \n",
    "            </span>\n",
    "        </td>\n",
    "    </tr>\n",
    "</table>"
   ]
  }
 ],
 "metadata": {
  "kernelspec": {
   "display_name": "Python 3 (ipykernel)",
   "language": "python",
   "name": "python3"
  },
  "language_info": {
   "codemirror_mode": {
    "name": "ipython",
    "version": 3
   },
   "file_extension": ".py",
   "mimetype": "text/x-python",
   "name": "python",
   "nbconvert_exporter": "python",
   "pygments_lexer": "ipython3",
   "version": "3.12.3"
  }
 },
 "nbformat": 4,
 "nbformat_minor": 4
}
