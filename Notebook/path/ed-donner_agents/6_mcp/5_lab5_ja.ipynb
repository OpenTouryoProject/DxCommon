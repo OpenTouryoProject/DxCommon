{
 "cells": [
  {
   "cell_type": "markdown",
   "metadata": {},
   "source": [
    "<table style=\"margin: 0; text-align: left; width:100%\">\n",
    "    <tr>\n",
    "        <td style=\"width: 220px; height: 150px; vertical-align: middle;\">\n",
    "            <img src=\"../assets/aaa.png\" width=\"220\" height=\"150\" style=\"display: block;\" />\n",
    "        </td>\n",
    "        <td>\n",
    "            <h2 style=\"color:#ff7800;\">自律型トレーダー</h2>\n",
    "            <span style=\"color:#ff7800;\">\n",
    "                MCPサーバーのツールとリソースを活用した自律型エージェントの動作を示す株式取引シミュレーション。\n",
    "            </span>\n",
    "        </td>\n",
    "    </tr>\n",
    "</table>"
   ]
  },
  {
   "cell_type": "markdown",
   "metadata": {},
   "source": [
    "### 第6週、5日目\n",
    "\n",
    "グランドフィナーレ!!\n",
    "\n",
    "# 自律トレーダー\n",
    "\n",
    "4人のトレーダーと1人のリサーチャーによる株式取引シミュレーション。\n",
    "\n",
    "（各トレーダーにリサーチャーがツールとしてアシストに付く感じ）\n",
    "\n",
    "ツールとリソースを備えた多数のMCPサーバーを活用。\n",
    "\n",
    "...に、トレーダーのチームを追加する時間。"
   ]
  },
  {
   "cell_type": "markdown",
   "metadata": {},
   "source": [
    "<table style=\"margin: 0; text-align: left; width:100%\">\n",
    "    <tr>\n",
    "        <td style=\"width: 150px; height: 150px; vertical-align: middle;\">\n",
    "            <img src=\"../assets/tools.png\" width=\"150\" height=\"150\" style=\"display: block;\" />\n",
    "        </td>\n",
    "        <td>\n",
    "            <h2 style=\"color:#00bfff;\">MCP サーバーをどんどん追加</h2>\n",
    "            <span style=\"color:#00bfff;\">\n",
    "                今後、MCP サーバーのエージェントと機能を追加していく予定です。皆さんもぜひ追加してください！今回は、コース全体で繰り返し取り上げられているプッシュ通知を追加しました。\n",
    "            </span>\n",
    "        </td>\n",
    "    </tr>\n",
    "</table>"
   ]
  },
  {
   "cell_type": "markdown",
   "metadata": {},
   "source": [
    "## 4人のトレーダーを紹介します\n",
    "\n",
    "私たちには4人のトレーダーがいて、彼らは業界の4人のタイタンに触発されています。  \n",
    "\n",
    "- **ウォーレン**： ウォーレン・バフェットへのオマージュ  \n",
    "- **ジョージ**： ジョージ・ソロスへのオマージュ  \n",
    "- **レイ**： レイダリオへのオマージュ  \n",
    "- **キャシー**： キャシー・ウッドへのオマージュ\n",
    "\n",
    "彼らには、名前のあるものに触発された初期投資戦略があります。\n",
    "\n",
    "しかし、彼らは、ツールを使用して、必要に応じて時間の経過とともに独自の戦略を変更する自律性を持っています。\n",
    "\n",
    "ファイル `reset.py` をチェックして、初期投資の論文を読んでください。"
   ]
  },
  {
   "cell_type": "code",
   "execution_count": 1,
   "metadata": {},
   "outputs": [],
   "source": [
    "# ここで、トレーダーを開始点に設定します - リセットするには、行のコメントを解除します。\n",
    "\n",
    "from reset import reset_traders\n",
    "reset_traders() # ココでリセットしたら、以下のパート１・２を実行する。"
   ]
  },
  {
   "cell_type": "markdown",
   "metadata": {},
   "source": [
    "## 最終的な変更を明らかにします\n",
    "\n",
    "`mcp_params.py` については、説明済みなので割愛、`push_server.py`、`tracers.py`は、未説明だが、`4_lab4_ja.ipynb` で実行済み。\n",
    "\n",
    "特に、`tracers.py` はクールです：\n",
    "\n",
    "- OpenAI Agents SDKには、トレース・コードと統合できる優れた機能があり、コードのトレースメッセージを監視できるようにします。\n",
    "\n",
    "- `tracers.py`を参照して下さい - トレーダーのアクティビティを記録し、データベースに保存するカスタムトレーサーを作成、UIでトレーダーの内的を表現できる。"
   ]
  },
  {
   "cell_type": "markdown",
   "metadata": {},
   "source": [
    "# 以下のパート１・２を実行する前に\n",
    "以下のパート１・２は以下のセルから動かすこともできるが、同時に実行する必要があるので、実際の動作確認の際は、ターミナルで実行すること。"
   ]
  },
  {
   "cell_type": "markdown",
   "metadata": {},
   "source": [
    "# そして今..パート1を明らかにします\n",
    "\n",
    "### まず、.env ファイルにオプションで追加できる設定がいくつかあります。\n",
    "\n",
    "必要に応じて、以下に変更を加えてください！\n",
    "\n",
    ">`run_every_n_minutes = 60` \n",
    "\n",
    "これはトレーダーエージェントが実行される頻度を決定します。\n",
    "\n",
    ".env ファイルで指定されていない場合は、デフォルトで 60 分ごとに実行されます。\n",
    "\n",
    ">`run_even_when_market_is_closed = false`  \n",
    "\n",
    "これは、トレーダーがまだ時間切れになるかどうかを決定します。\n",
    "\n",
    ".env ファイルで指定されていない場合はデフォルトで False になります。\n",
    "\n",
    ">`use_many_models = false`  \n",
    "\n",
    "これは、DeepSeek APIとOpenRouterを使用して、OpenAIに加えてDeepSeek、Gemini、Grokを使用するかどうかを決定します。\n",
    "\n",
    ".envファイルで指定されていない場合はデフォルトでFalseに設定され、その場合は `gpt-4o-mini` が全体的に使用されます。\n",
    "\n",
    "### 次に、 `app.py` のUIコードを見てみましょう\n",
    "\n",
    "- 新しいターミナルを開き（Shift + Ctrl +バックティック）\n",
    "\n",
    "- このディレクトリにCDし： `cd 6_mcp`\n",
    "\n",
    "- 次のように実行します： `uv run app.py`\n",
    "\n",
    "そして、ユーザーインターフェイスで喜びを感じてください！"
   ]
  },
  {
   "cell_type": "code",
   "execution_count": 2,
   "metadata": {},
   "outputs": [
    {
     "name": "stdout",
     "output_type": "stream",
     "text": [
      "* Running on local URL:  http://127.0.0.1:7860\n",
      "* To create a public link, set `share=True` in `launch()`.\n",
      "gio: http://127.0.0.1:7860/: Operation not supported\n",
      "^C\n",
      "Keyboard interruption in main thread... closing server.\n"
     ]
    }
   ],
   "source": [
    "# 以下は誤りのような ... 4_langgraph, 5_autogenと同様に ...。\n",
    "#!uv run app.py\n",
    "\n",
    "# Jupyter Labからテスト実行していた訳なので、コチラが正しい。\n",
    "!python app.py"
   ]
  },
  {
   "cell_type": "markdown",
   "metadata": {},
   "source": [
    "# そして今..パート2を明らかにします\n",
    "\n",
    "### 次に、エンジンを見てください：\n",
    "\n",
    "`trading_floor.py`\n",
    "\n",
    "それは魔法が起こる場所である超音符のループを持っています：\n",
    "\n",
    "```python\n",
    "while True:\n",
    "    await asyncio.gather(*[trader.run() for trader in traders])\n",
    "    await asyncio.sleep(RUN_EVERY_N_MINUTES * 60)\n",
    "```\n",
    "\n",
    "また、環境変数をどのように見ているかがわかります。\n",
    "\n",
    "- 新しいターミナルを開き（Shift + Ctrl +バックティック）\n",
    "\n",
    "- このディレクトリにCDし： `cd 6_mcp`\n",
    "\n",
    "- 次のように実行します： `uv run trading_floor.py`\n",
    "\n",
    "ユーザーインターフェイスをご覧ください - トレーディング・チームが動作しているのをご覧ください！"
   ]
  },
  {
   "cell_type": "code",
   "execution_count": null,
   "metadata": {},
   "outputs": [],
   "source": [
    "# 以下は誤りのような ... 4_langgraph, 5_autogenと同様に ...。\n",
    "#!uv run trading_floor.py\n",
    "\n",
    "# Jupyter Labからテスト実行していた訳なので、コチラが正しい。\n",
    "!python trading_floor.py"
   ]
  },
  {
   "cell_type": "markdown",
   "metadata": {},
   "source": [
    "<table style=\"margin: 0; text-align: left; width:100%\">\n",
    "    <tr>\n",
    "        <td style=\"width: 150px; height: 150px; vertical-align: middle;\">\n",
    "            <img src=\"../assets/stop.png\" width=\"150\" height=\"150\" style=\"display: block;\" />\n",
    "        </td>\n",
    "        <td>\n",
    "            <h2 style=\"color:#ff7800;\">最後にもう一度、API の監視についてお知らせです。</h2>\n",
    "            <span style=\"color:#ff7800;\">\n",
    "                これは 1 時間ごと、または指定した間隔でループ実行されます。API の使用状況を監視し、十分な時間になったら実行を停止してください。<br/>\n",
    "                私は何時間も楽しくこのツールを見ています。皆さんもぜひ見てみてください！自律エージェントの威力を示す大規模なプロジェクトです。\n",
    "            </span>\n",
    "        </td>\n",
    "    </tr>\n",
    "</table>"
   ]
  },
  {
   "cell_type": "markdown",
   "metadata": {},
   "source": [
    "<table style=\"margin: 0; text-align: left; width:100%\">\n",
    "    <tr>\n",
    "        <td style=\"width: 150px; height: 150px; vertical-align: middle;\">\n",
    "            <img src=\"../assets/thanks.png\" width=\"150\" height=\"150\" style=\"display: block;\" />\n",
    "        </td>\n",
    "        <td>\n",
    "            <h2 style=\"color:#00cc00;\">本当に本当にありがとうございます！</h2>\n",
    "            <span style=\"color:#00cc00;\">\n",
    "                最後まで読んでいただき、本当に感謝しています。もしもう一度言わなかったら編集者に叩かれてしまうかもしれませんが、Udemyでコースを評価していただけると大変助かります。Udemyがこのコースを他の人に公開するかどうかを決める上で最も重要な要素であり、大きな違いを生みます。<br/><br/>\n",
    "                ぜひ連絡を取り合い、進捗状況をお知らせください。そして、この困難な時期に、この特別な分野でのあなたの旅を共有してください。ここまで読んでくれて、LinkedInで私と繋がるのがためらわれていた方もいるかもしれません。もう一度<a href=\"https://www.linkedin.com/in/eddonner/\">ここにいます</a>！コースでの成果について投稿したい場合は、私をタグ付けしてください。露出を高めるために私が協力します。<br><br/>\n",
    "                おめでとうございます！\n",
    "            </span>\n",
    "        </td>\n",
    "    </tr>\n",
    "</table>"
   ]
  }
 ],
 "metadata": {
  "kernelspec": {
   "display_name": "Python 3 (ipykernel)",
   "language": "python",
   "name": "python3"
  },
  "language_info": {
   "codemirror_mode": {
    "name": "ipython",
    "version": 3
   },
   "file_extension": ".py",
   "mimetype": "text/x-python",
   "name": "python",
   "nbconvert_exporter": "python",
   "pygments_lexer": "ipython3",
   "version": "3.12.3"
  }
 },
 "nbformat": 4,
 "nbformat_minor": 4
}
