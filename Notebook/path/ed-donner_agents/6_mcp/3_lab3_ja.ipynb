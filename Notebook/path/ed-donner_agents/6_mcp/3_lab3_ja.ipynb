{
 "cells": [
  {
   "cell_type": "markdown",
   "metadata": {},
   "source": [
    "### 6週目の3日目へようこそ！\n",
    "\n",
    "より多くのMCPサーバーを試してみましょう"
   ]
  },
  {
   "cell_type": "code",
   "execution_count": null,
   "metadata": {},
   "outputs": [],
   "source": [
    "from dotenv import load_dotenv\n",
    "from agents import Agent, Runner, trace\n",
    "from agents.mcp import MCPServerStdio\n",
    "import os\n",
    "from IPython.display import Markdown, display\n",
    "from datetime import datetime\n",
    "load_dotenv(override=True)"
   ]
  },
  {
   "cell_type": "markdown",
   "metadata": {},
   "source": [
    "###最初のタイプのMCPサーバー：ローカルで実行され、すべてローカル\n",
    "\n",
    "ここに本当に興味深いものがあります：知識とグラフベースの記憶。\n",
    "\n",
    "エンティティの永続的なメモリストア、それらについての観察、およびそれらの間の関係です。\n",
    "\n",
    "https://github.com/modelcontextprotocol/servers/tree/main/src/memory\n"
   ]
  },
  {
   "cell_type": "code",
   "execution_count": null,
   "metadata": {},
   "outputs": [],
   "source": [
    "params = {\"command\": \"npx\",\"args\": [\"-y\", \"mcp-memory-libsql\"],\"env\": {\"LIBSQL_URL\": \"file:./memory/ed.db\"}}\n",
    "\n",
    "async with MCPServerStdio(params=params, client_session_timeout_seconds=30) as server:\n",
    "    mcp_tools = await server.list_tools()\n",
    "\n",
    "mcp_tools"
   ]
  },
  {
   "cell_type": "code",
   "execution_count": null,
   "metadata": {},
   "outputs": [],
   "source": [
    "instructions = \"You use your entity tools as a persistent memory to store and recall information about your conversations.\"\n",
    "request = \"My name's Ed. I'm an LLM engineer. I'm teaching a course about AI Agents, including the incredible MCP protocol. \\\n",
    "MCP is a protocol for connecting agents with tools, resources and prompt templates, and makes it easy to integrate AI agents with capabilities.\"\n",
    "model = \"gpt-4.1-mini\""
   ]
  },
  {
   "cell_type": "code",
   "execution_count": null,
   "metadata": {},
   "outputs": [],
   "source": [
    "async with MCPServerStdio(params=params, client_session_timeout_seconds=30) as mcp_server:\n",
    "    agent = Agent(name=\"agent\", instructions=instructions, model=model, mcp_servers=[mcp_server])\n",
    "    with trace(\"conversation\"):\n",
    "        result = await Runner.run(agent, request)\n",
    "    display(Markdown(result.final_output))"
   ]
  },
  {
   "cell_type": "code",
   "execution_count": null,
   "metadata": {},
   "outputs": [],
   "source": [
    "async with MCPServerStdio(params=params, client_session_timeout_seconds=30) as mcp_server:\n",
    "    agent = Agent(name=\"agent\", instructions=instructions, model=model, mcp_servers=[mcp_server])\n",
    "    with trace(\"conversation\"):\n",
    "        result = await Runner.run(agent, \"My name's Ed. What do you know about me?\")\n",
    "    display(Markdown(result.final_output))"
   ]
  },
  {
   "cell_type": "markdown",
   "metadata": {},
   "source": [
    "### トレースを確認してください：\n",
    "\n",
    "https://platform.openai.com/traces"
   ]
  },
  {
   "cell_type": "markdown",
   "metadata": {},
   "source": [
    "### MCPサーバーの2番目のタイプ - ローカルで実行され、Webサービスを呼び出します\n",
    "\n",
    "### Brave Search-謝罪 - これには別のAPIキーが必要です！しかし、それはまた無料です。\n",
    "\n",
    "https://brave.com/search/api/\n",
    "\n",
    "アカウントを設定し、 `brave_api_key`の下にキーを.envに入れます"
   ]
  },
  {
   "cell_type": "code",
   "execution_count": null,
   "metadata": {},
   "outputs": [],
   "source": [
    "env = {\"BRAVE_API_KEY\": os.getenv(\"BRAVE_API_KEY\")}\n",
    "params = {\"command\": \"npx\", \"args\": [\"-y\", \"@modelcontextprotocol/server-brave-search\"], \"env\": env}\n",
    "\n",
    "async with MCPServerStdio(params=params, client_session_timeout_seconds=30) as server:\n",
    "    mcp_tools = await server.list_tools()\n",
    "\n",
    "mcp_tools"
   ]
  },
  {
   "cell_type": "code",
   "execution_count": null,
   "metadata": {},
   "outputs": [],
   "source": [
    "instructions = \"You are able to search the web for information and briefly summarize the takeaways.\"\n",
    "request = f\"Please research the latest news on Amazon stock price and briefly summarize its outlook. \\\n",
    "For context, the current date is {datetime.now().strftime('%Y-%m-%d')}\"\n",
    "model = \"gpt-4o-mini\""
   ]
  },
  {
   "cell_type": "code",
   "execution_count": null,
   "metadata": {},
   "outputs": [],
   "source": [
    "async with MCPServerStdio(params=params, client_session_timeout_seconds=30) as mcp_server:\n",
    "    agent = Agent(name=\"agent\", instructions=instructions, model=model, mcp_servers=[mcp_server])\n",
    "    with trace(\"conversation\"):\n",
    "        result = await Runner.run(agent, request)\n",
    "    display(Markdown(result.final_output))"
   ]
  },
  {
   "cell_type": "markdown",
   "metadata": {},
   "source": [
    "### いつものように、トレースをチェックしてください。\n",
    "\n",
    "https://platform.openai.com/traces"
   ]
  },
  {
   "cell_type": "markdown",
   "metadata": {},
   "source": [
    "##そして今、3番目のタイプ：リモートで実行されます\n",
    "\n",
    "実際には、「リモートMCPサーバー」別名「MCPサーバー」をホストした「マネージドMCPサーバー」を見つけるのは非常に困難です。\n",
    "\n",
    "これは、MCPサーバーを使用または共有するための一般的なモデルではなく、リモートMCPサーバーを発見する標準的な方法はありません。\n",
    "\n",
    "人類はいくつかのリモートMCPサーバーをリストしていますが、これらはビジネスユーザーとの有料アプリケーション用です。\n",
    "\n",
    "https://docs.anthropic.com/en/docs/agents-and-tools/remote-mcp-servers\n",
    "\n",
    "CloudFlareには、独自のリモートMCPサーバーを作成および展開するためのツールがありますが、これは一般的な慣行ではないようです。\n",
    "\n",
    "https://developers.cloudflare.com/agents/guides/remote-mcp-server/\n"
   ]
  },
  {
   "cell_type": "markdown",
   "metadata": {},
   "source": [
    "# 2番目のタイプに戻る：polygon.io mcpサーバー"
   ]
  },
  {
   "cell_type": "markdown",
   "metadata": {},
   "source": [
    "<テーブルスタイル= \"マージン：0;テキストアライグ：左;幅：100％\">\n",
    "    <tr>\n",
    "        <td style = \"width：150px; height：150px; vertical-align：middle;\">\n",
    "            <img src = \"../ assets/stop.png\" width = \"150\" height = \"150\" style = \"display：block;\" />\n",
    "        </td>\n",
    "        <td>\n",
    "            <h2 style = \"color：＃ff7800;\">読んでください!!  -  </h2>\n",
    "            <SPAN STYLE = \"COLOR：＃FF7800;\">金融市場データのこのサービスには、無料プランと有料プランの両方があり、食欲によって使用できます。\n",
    "            </span>\n",
    "        </td>\n",
    "    </tr>\n",
    "</table>"
   ]
  },
  {
   "cell_type": "markdown",
   "metadata": {},
   "source": [
    "## 新しいセクション：polygon.ioの紹介\n",
    "\n",
    "Polygon.ioは非常に人気のある金融データプロバイダーです。無料プランと有給計画があります。また、MCPサーバーもあります！\n",
    "\n",
    "まず、価格を見るなど、優れたウェブサイトでPolygon.ioを読んでください。\n",
    "\n",
    "https://polygon.io\n",
    "\n",
    "### polygon.ioパート1：polygon.io無料サービス（もちろん、有料は完全にオプションになります！）\n",
    "\n",
    "1。polygon.io（右上）にサインアップしてください  \n",
    "2。サインインしたら、左側のナビゲーションで「キー」を選択してください\n",
    "3.青い「新しいキー」ボタンを押します\n",
    "4.キー名をコピーします\n",
    "5。.envファイルを編集して行を追加します。\n",
    "\n",
    "`polygon_api_key = xxxx`"
   ]
  },
  {
   "cell_type": "code",
   "execution_count": null,
   "metadata": {},
   "outputs": [],
   "source": [
    "load_dotenv(override=True)\n",
    "polygon_api_key = os.getenv(\"POLYGON_API_KEY\")\n",
    "if not polygon_api_key:\n",
    "    print(\"polygon_api_keyは設定されていません\")"
   ]
  },
  {
   "cell_type": "code",
   "execution_count": null,
   "metadata": {},
   "outputs": [],
   "source": [
    "from polygon import RESTClient\n",
    "client = RESTClient(polygon_api_key)\n",
    "client.get_previous_close_agg(\"AAPL\")[0]"
   ]
  },
  {
   "cell_type": "markdown",
   "metadata": {},
   "source": [
    "###は、1日の終わりの価格をキャッシュするPythonモジュールに包まれています\n",
    "\n",
    "このAPIを使用して株価を検索するPythonモジュール「Market.py`」を作成しました。\n",
    "\n",
    "しかし、無料のAPIは非常に大きく制限されています。したがって、私は少し卑劣でした。株価を要求すると、この機能は日中の株式市場全体を取得し、データベースでキャッシュします。\n"
   ]
  },
  {
   "cell_type": "code",
   "execution_count": null,
   "metadata": {},
   "outputs": [],
   "source": [
    "from market import get_share_price\n",
    "get_share_price(\"AAPL\")"
   ]
  },
  {
   "cell_type": "code",
   "execution_count": null,
   "metadata": {},
   "outputs": [],
   "source": [
    "# 懸念を制限する料金はありません！\n",
    "\n",
    "for i in range(1000):\n",
    "    get_share_price(\"AAPL\")\n",
    "get_share_price(\"AAPL\")"
   ]
  },
  {
   "cell_type": "markdown",
   "metadata": {},
   "source": [
    "### そして、私はこれをMCPサーバーにしました\n",
    "\n",
    "accounts.pyで行ったように。 `market_server.py`を参照してください"
   ]
  },
  {
   "cell_type": "code",
   "execution_count": null,
   "metadata": {},
   "outputs": [],
   "source": [
    "params = {\"command\": \"uv\", \"args\": [\"run\", \"market_server.py\"]}\n",
    "async with MCPServerStdio(params=params, client_session_timeout_seconds=60) as server:\n",
    "    mcp_tools = await server.list_tools()\n",
    "mcp_tools"
   ]
  },
  {
   "cell_type": "markdown",
   "metadata": {},
   "source": [
    "### 試してみましょう！\n",
    "\n",
    "うまくいけば、GPT-4o-MiniはAppleのシンボルがAAPLであることを知るのに十分賢いです"
   ]
  },
  {
   "cell_type": "code",
   "execution_count": null,
   "metadata": {},
   "outputs": [],
   "source": [
    "instructions = \"You answer questions about the stock market.\"\n",
    "request = \"What's the share price of Apple?\"\n",
    "model = \"gpt-4.1-mini\"\n",
    "\n",
    "async with MCPServerStdio(params=params, client_session_timeout_seconds=60) as mcp_server:\n",
    "    agent = Agent(name=\"agent\", instructions=instructions, model=model, mcp_servers=[mcp_server])\n",
    "    with trace(\"conversation\"):\n",
    "        result = await Runner.run(agent, request)\n",
    "    display(Markdown(result.final_output))"
   ]
  },
  {
   "cell_type": "markdown",
   "metadata": {},
   "source": [
    "## polygon.ioパート2：有料プラン - 完全にオプション！\n",
    "\n",
    "興味がある場合は、毎月の計画を購読して、最新の市場データと無制限のAPI呼び出しを取得できます。\n",
    "\n",
    "これを希望する場合は、Polygon.ioがリリースした完全なMCPサーバーを使用して、すべての機能を活用することも理にかなっています。\n"
   ]
  },
  {
   "cell_type": "code",
   "execution_count": null,
   "metadata": {},
   "outputs": [],
   "source": [
    "\n",
    "params = {\"command\": \"uvx\",\n",
    "          \"args\": [\"--from\", \"git+https://github.com/polygon-io/mcp_polygon@v0.1.0\", \"mcp_polygon\"],\n",
    "          \"env\": {\"POLYGON_API_KEY\": polygon_api_key}\n",
    "          }\n",
    "async with MCPServerStdio(params=params, client_session_timeout_seconds=60) as server:\n",
    "    mcp_tools = await server.list_tools()\n",
    "mcp_tools\n"
   ]
  },
  {
   "cell_type": "markdown",
   "metadata": {},
   "source": [
    "### うわー、それはたくさんのツールです！\n",
    "\n",
    "それらを試してみましょう - うまくいけば、膨大な数のツールがGPT-4O-MINIを圧倒しません！\n",
    "\n",
    "毎月29ドルのプランでは、APIの一部にアクセスできないため、どのAPIを呼び出すことができるかを指定する必要がありました。\n",
    "\n",
    "あなたがより大きな計画に跳ね返った場合は、私の追加の制約を削除してください。"
   ]
  },
  {
   "cell_type": "code",
   "execution_count": null,
   "metadata": {},
   "outputs": [],
   "source": [
    "instructions = \"You answer questions about the stock market.\"\n",
    "request = \"What's the share price of Apple? Use your get_snapshot_ticker tool to get the latest price.\"\n",
    "model = \"gpt-4.1-mini\"\n",
    "\n",
    "async with MCPServerStdio(params=params, client_session_timeout_seconds=60) as mcp_server:\n",
    "    agent = Agent(name=\"agent\", instructions=instructions, model=model, mcp_servers=[mcp_server])\n",
    "    with trace(\"conversation\"):\n",
    "        result = await Runner.run(agent, request)\n",
    "    display(Markdown(result.final_output))"
   ]
  },
  {
   "cell_type": "markdown",
   "metadata": {},
   "source": [
    "## .envファイルをセットアップします\n",
    "\n",
    "有料プランを使用することにした場合は、これを.envファイルに追加して、次のことを示してください。\n",
    "\n",
    "`polygon_plan = paid`\n",
    "\n",
    "そして、リアルタイムAPIのためにずっと行くことにした場合は、次のようにしてください。\n",
    "\n",
    "`polygon_plan = realtime`"
   ]
  },
  {
   "cell_type": "code",
   "execution_count": null,
   "metadata": {},
   "outputs": [],
   "source": [
    "load_dotenv(override=True)\n",
    "\n",
    "polygon_plan = os.getenv(\"POLYGON_PLAN\")\n",
    "is_paid_polygon = polygon_plan == \"paid\"\n",
    "is_realtime_polygon = polygon_plan == \"realtime\"\n",
    "\n",
    "if is_paid_polygon:\n",
    "    print(\"有料ポリゴンプランを購読することを選択したので、コードは15分の遅延で価格を調べます\")\n",
    "elif is_realtime_polygon:\n",
    "    print(\"Wowzer-リアルタイムポリゴンプランを購読することを選択したので、コードはリアルタイム価格を調べます\")\n",
    "else:\n",
    "    print(\".ENVファイルによると、無料のポリゴンプランを購読することを選択したため、コードはEOD価格を調べます\")"
   ]
  },
  {
   "cell_type": "markdown",
   "metadata": {},
   "source": [
    "## そして、それは今日のためです！\n",
    "\n",
    "「金融データセット」MCPサーバーを使用するこのラボの一部を削除しました。これは劣っているためです。APIが少なく、より高価です。\n",
    "\n",
    "このようにして、同じプロバイダーを無料および有料APIで使用することができます。\n",
    "\n",
    "ただし、コードを表示したい場合は、以前のバージョンについてはGit履歴を確認してください。"
   ]
  },
  {
   "cell_type": "markdown",
   "metadata": {},
   "source": [
    "<テーブルスタイル= \"マージン：0;テキストアライグ：左;幅：100％\">\n",
    "    <tr>\n",
    "        <td style = \"width：150px; height：150px; vertical-align：middle;\">\n",
    "            <img src = \"../ assets/exercise.png\" width = \"150\" height = \"150\" style = \"display：block;\" />\n",
    "        </td>\n",
    "        <td>\n",
    "            <h2 style = \"color：＃ff7800;\">演習</h2>\n",
    "            <SPAN STYLE = \"Color：＃FF7800;\"> MCPサーバーマーケットプレイスを探索し、3つのアプローチすべてを使用して独自の統合を行います。\n",
    "            </span>\n",
    "        </td>\n",
    "    </tr>\n",
    "</table>"
   ]
  }
 ],
 "metadata": {
  "kernelspec": {
   "display_name": "Python 3 (ipykernel)",
   "language": "python",
   "name": "python3"
  },
  "language_info": {
   "codemirror_mode": {
    "name": "ipython",
    "version": 3
   },
   "file_extension": ".py",
   "mimetype": "text/x-python",
   "name": "python",
   "nbconvert_exporter": "python",
   "pygments_lexer": "ipython3",
   "version": "3.12.3"
  }
 },
 "nbformat": 4,
 "nbformat_minor": 4
}
