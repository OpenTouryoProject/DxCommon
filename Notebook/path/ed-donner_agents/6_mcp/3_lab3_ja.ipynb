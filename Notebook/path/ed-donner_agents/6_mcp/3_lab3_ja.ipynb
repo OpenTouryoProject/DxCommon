{
 "cells": [
  {
   "cell_type": "markdown",
   "metadata": {},
   "source": [
    "### 第6週、2日目へようこそ！\n",
    "\n",
    "より多くのMCPサーバーを試してみましょう"
   ]
  },
  {
   "cell_type": "code",
   "execution_count": 1,
   "metadata": {},
   "outputs": [
    {
     "data": {
      "text/plain": [
       "True"
      ]
     },
     "execution_count": 1,
     "metadata": {},
     "output_type": "execute_result"
    }
   ],
   "source": [
    "import os\n",
    "from dotenv import load_dotenv\n",
    "from datetime import datetime\n",
    "\n",
    "from agents import Agent, Runner, trace\n",
    "from agents.mcp import MCPServerStdio\n",
    "\n",
    "from IPython.display import Markdown, display\n",
    "\n",
    "load_dotenv(override=True)"
   ]
  },
  {
   "cell_type": "markdown",
   "metadata": {},
   "source": [
    "### 最初のタイプのMCPサーバー: すべてローカルで実行\n",
    "\n",
    "非常に興味深い例をご紹介します。それは、ナレッジグラフベースのメモリです。\n",
    "\n",
    "これは、エンティティ、それらに関する観察情報、そしてそれらの関係性を永続的に記憶するものです。\n",
    "\n",
    "https://github.com/modelcontextprotocol/servers/tree/main/src/memory\n",
    "\n",
    "- mcp-memory-libsql は、MCPに対応した高性能な永続メモリシステムであり、libSQL（SQLiteのフォーク）をバックエンドとして活用している。\n",
    "- このサーバーは、AIエージェントや知識グラフ・アプリケーション向けに、ベクトル検索、セマンティック検索、関係管理などの機能を提供する。"
   ]
  },
  {
   "cell_type": "code",
   "execution_count": 2,
   "metadata": {},
   "outputs": [
    {
     "data": {
      "text/plain": [
       "[Tool(name='create_entities', description='Create new entities with observations and optional embeddings', inputSchema={'type': 'object', 'properties': {'entities': {'type': 'array', 'items': {'type': 'object', 'properties': {'name': {'type': 'string'}, 'entityType': {'type': 'string'}, 'observations': {'type': 'array', 'items': {'type': 'string'}}, 'embedding': {'type': 'array', 'items': {'type': 'number'}, 'description': 'Optional vector embedding for similarity search'}}, 'required': ['name', 'entityType', 'observations']}}}, 'required': ['entities']}, annotations=None),\n",
       " Tool(name='search_nodes', description='Search for entities and their relations using text or vector similarity', inputSchema={'type': 'object', 'properties': {'query': {'oneOf': [{'type': 'string', 'description': 'Text search query'}, {'type': 'array', 'items': {'type': 'number'}, 'description': 'Vector for similarity search'}]}}, 'required': ['query']}, annotations=None),\n",
       " Tool(name='read_graph', description='Get recent entities and their relations', inputSchema={'type': 'object', 'properties': {}, 'required': []}, annotations=None),\n",
       " Tool(name='create_relations', description='Create relations between entities', inputSchema={'type': 'object', 'properties': {'relations': {'type': 'array', 'items': {'type': 'object', 'properties': {'source': {'type': 'string'}, 'target': {'type': 'string'}, 'type': {'type': 'string'}}, 'required': ['source', 'target', 'type']}}}, 'required': ['relations']}, annotations=None),\n",
       " Tool(name='delete_entity', description='Delete an entity and all its associated data (observations and relations)', inputSchema={'type': 'object', 'properties': {'name': {'type': 'string', 'description': 'Name of the entity to delete'}}, 'required': ['name']}, annotations=None),\n",
       " Tool(name='delete_relation', description='Delete a specific relation between entities', inputSchema={'type': 'object', 'properties': {'source': {'type': 'string', 'description': 'Source entity name'}, 'target': {'type': 'string', 'description': 'Target entity name'}, 'type': {'type': 'string', 'description': 'Type of relation'}}, 'required': ['source', 'target', 'type']}, annotations=None)]"
      ]
     },
     "execution_count": 2,
     "metadata": {},
     "output_type": "execute_result"
    }
   ],
   "source": [
    "# 以下のように実行するらしい。\n",
    "params = {\"command\": \"npx\", \"args\": [\"-y\", \"mcp-memory-libsql\"], \"env\": {\"LIBSQL_URL\": \"file:./memory/ed.db\"}}\n",
    "\n",
    "async with MCPServerStdio(params=params, client_session_timeout_seconds=30) as server:\n",
    "    mcp_tools = await server.list_tools()\n",
    "\n",
    "mcp_tools"
   ]
  },
  {
   "cell_type": "code",
   "execution_count": 3,
   "metadata": {},
   "outputs": [],
   "source": [
    "# エンティティ・ツールは、会話に関する情報を保存および呼び出すための永続的なメモリとして使用します。\"\n",
    "instructions = \"You use your entity tools as a persistent memory to store and recall information about your conversations.\"\n",
    "\n",
    "# Ed です。法学修士号（LLM）を取得しているエンジニアです。AIエージェントに関するコースを担当しており、その中でも素晴らしいMCPプロトコルについて教えています。\n",
    "# MCPは、エージェントをツール、リソース、プロンプト・テンプレートに接続するためのプロトコルで、AIエージェントと様々な機能の統合を容易にします。\n",
    "request = \"My name's Ed. I'm an LLM engineer. I'm teaching a course about AI Agents, including the incredible MCP protocol. \\\n",
    "MCP is a protocol for connecting agents with tools, resources and prompt templates, and makes it easy to integrate AI agents with capabilities.\"\n",
    "\n",
    "# エージェントが使用するLLMのモデル\n",
    "model = \"gpt-4.1-mini\"\n",
    "\n",
    "# MCPサーバーを使う処理は async with MCPServerStdio の中で行う必要がある。"
   ]
  },
  {
   "cell_type": "code",
   "execution_count": 4,
   "metadata": {},
   "outputs": [
    {
     "data": {
      "text/markdown": [
       "Nice to meet you, Ed! It sounds like your course on AI Agents and the MCP protocol is very interesting. If you'd like, I can help you organize your course content or provide information related to AI agents, protocols, or anything else you might need for your teaching. Just let me know!"
      ],
      "text/plain": [
       "<IPython.core.display.Markdown object>"
      ]
     },
     "metadata": {},
     "output_type": "display_data"
    }
   ],
   "source": [
    "async with MCPServerStdio(params=params, client_session_timeout_seconds=30) as mcp_server:\n",
    "    agent = Agent(name=\"agent\", instructions=instructions, model=model, mcp_servers=[mcp_server])\n",
    "    with trace(\"conversation\"):\n",
    "        result = await Runner.run(agent, request)\n",
    "    display(Markdown(result.final_output))"
   ]
  },
  {
   "cell_type": "code",
   "execution_count": 6,
   "metadata": {},
   "outputs": [
    {
     "data": {
      "text/markdown": [
       "You are Ed. I know that you are an LLM engineer and that you are teaching a course about AI Agents, including the MCP protocol. Is there anything else you'd like me to know or remember about you?"
      ],
      "text/plain": [
       "<IPython.core.display.Markdown object>"
      ]
     },
     "metadata": {},
     "output_type": "display_data"
    }
   ],
   "source": [
    "async with MCPServerStdio(params=params, client_session_timeout_seconds=30) as mcp_server:\n",
    "    agent = Agent(name=\"agent\", instructions=instructions, model=model, mcp_servers=[mcp_server])\n",
    "    with trace(\"conversation\"):\n",
    "        # 私の名前は Ed です。私について何を知っていますか？\n",
    "        result = await Runner.run(agent, \"My name's Ed. What do you know about me?\")\n",
    "    display(Markdown(result.final_output))\n",
    "\n",
    "# ↓、[5]ではツールも使わず知らんと言われてしまったが、2回目の[6]で以下のような回答を得た。"
   ]
  },
  {
   "cell_type": "markdown",
   "metadata": {},
   "source": [
    "### トレースを確認してください：\n",
    "\n",
    "https://platform.openai.com/traces"
   ]
  },
  {
   "cell_type": "markdown",
   "metadata": {},
   "source": [
    "### 2つ目のタイプのMCPサーバー: ローカルで実行され、Webサービスを呼び出す\n",
    "\n",
    "### Brave Search - 申し訳ありませんが、別のAPIキーが必要になります！ただし、これも無料です。\n",
    "\n",
    "https://brave.com/search/api/\n",
    "\n",
    "アカウントを設定し .env に `BRAVE_API_KEY` のキーを入れる。"
   ]
  },
  {
   "cell_type": "code",
   "execution_count": 7,
   "metadata": {},
   "outputs": [
    {
     "data": {
      "text/plain": [
       "[Tool(name='brave_web_search', description='Performs a web search using the Brave Search API, ideal for general queries, news, articles, and online content. Use this for broad information gathering, recent events, or when you need diverse web sources. Supports pagination, content filtering, and freshness controls. Maximum 20 results per request, with offset for pagination. ', inputSchema={'type': 'object', 'properties': {'query': {'type': 'string', 'description': 'Search query (max 400 chars, 50 words)'}, 'count': {'type': 'number', 'description': 'Number of results (1-20, default 10)', 'default': 10}, 'offset': {'type': 'number', 'description': 'Pagination offset (max 9, default 0)', 'default': 0}}, 'required': ['query']}, annotations=None),\n",
       " Tool(name='brave_local_search', description=\"Searches for local businesses and places using Brave's Local Search API. Best for queries related to physical locations, businesses, restaurants, services, etc. Returns detailed information including:\\n- Business names and addresses\\n- Ratings and review counts\\n- Phone numbers and opening hours\\nUse this when the query implies 'near me' or mentions specific locations. Automatically falls back to web search if no local results are found.\", inputSchema={'type': 'object', 'properties': {'query': {'type': 'string', 'description': \"Local search query (e.g. 'pizza near Central Park')\"}, 'count': {'type': 'number', 'description': 'Number of results (1-20, default 5)', 'default': 5}}, 'required': ['query']}, annotations=None)]"
      ]
     },
     "execution_count": 7,
     "metadata": {},
     "output_type": "execute_result"
    }
   ],
   "source": [
    "# 以下のように実行するらしい。\n",
    "load_dotenv(override=True)\n",
    "env = {\"BRAVE_API_KEY\": os.getenv(\"BRAVE_API_KEY\")}\n",
    "params = {\"command\": \"npx\", \"args\": [\"-y\", \"@modelcontextprotocol/server-brave-search\"], \"env\": env}\n",
    "\n",
    "async with MCPServerStdio(params=params, client_session_timeout_seconds=30) as server:\n",
    "    mcp_tools = await server.list_tools()\n",
    "\n",
    "mcp_tools"
   ]
  },
  {
   "cell_type": "code",
   "execution_count": 8,
   "metadata": {},
   "outputs": [
    {
     "data": {
      "text/markdown": [
       "As of September 14, 2025, Amazon's stock (AMZN) has shown a positive trend, recovering after a significant drop in August. Here are the key highlights regarding its current outlook:\n",
       "\n",
       "1. **Recent Performance**: AMZN shares increased by 4.71% over the past five trading days, indicating a rebound from a previous decline where the stock fell nearly 10% in a single day.\n",
       "\n",
       "2. **Current Stock Price**: The latest closing price for Amazon is $228.15, with its all-time high for 2025 being $242.06.\n",
       "\n",
       "3. **Future Predictions**: Analysts estimate that by the end of 2030, Amazon's stock could reach approximately $524.67 per share, projecting a potential upside of about 125%, driven by ongoing revenue growth despite challenges in its AWS segment due to increased competition.\n",
       "\n",
       "4. **Upcoming Earnings Report**: Amazon is scheduled to release its next earnings report on October 23, 2025, which may further impact its stock performance.\n",
       "\n",
       "Overall, while Amazon's stock price has been volatile, the long-term outlook appears optimistic according to analysts, emphasizing growth potential in revenue despite market challenges."
      ],
      "text/plain": [
       "<IPython.core.display.Markdown object>"
      ]
     },
     "metadata": {},
     "output_type": "display_data"
    }
   ],
   "source": [
    "# ウェブで情報を検索し、要点を簡単にまとめることができます。\n",
    "instructions = \"You are able to search the web for information and briefly summarize the takeaways.\"\n",
    "\n",
    "# Amazonの株価に関する最新ニュースを調査し、その見通しを簡単にまとめてください。現在の日付は {datetime.now().strftime('%Y-%m-%d')} です。\n",
    "request = f\"Please research the latest news on Amazon stock price and briefly summarize its outlook. \\\n",
    "For context, the current date is {datetime.now().strftime('%Y-%m-%d')}\"\n",
    "\n",
    "# エージェントが使用するLLMのモデル\n",
    "model = \"gpt-4o-mini\"\n",
    "\n",
    "# MCPサーバーを使う処理は async with MCPServerStdio の中で行う必要がある。\n",
    "async with MCPServerStdio(params=params, client_session_timeout_seconds=30) as mcp_server:\n",
    "    agent = Agent(name=\"agent\", instructions=instructions, model=model, mcp_servers=[mcp_server])\n",
    "    with trace(\"conversation\"):\n",
    "        result = await Runner.run(agent, request)\n",
    "    display(Markdown(result.final_output))"
   ]
  },
  {
   "cell_type": "markdown",
   "metadata": {},
   "source": [
    "### いつものように、トレースをチェックしてください。\n",
    "\n",
    "https://platform.openai.com/traces"
   ]
  },
  {
   "cell_type": "markdown",
   "metadata": {},
   "source": [
    "## そして今、3番目のタイプ: リモートで実行されます\n",
    "\n",
    "「リモートMCPサーバー」別名「ホストされたMCPサーバー」「マネージドMCPサーバー」を見つけるのは、実際には、非常に困難です。\n",
    "\n",
    "これはMCPサーバーの利用や共有の一般的なモデルではなく、リモートMCPサーバーを見つけるための標準的な方法もありません。\n",
    "\n",
    "AnthropicはいくつかのリモートMCPサーバーをリストしていますが、これらはビジネスユーザー向けの有料アプリケーション向けです。\n",
    "\n",
    "https://docs.anthropic.com/en/docs/agents-and-tools/remote-mcp-servers\n",
    "\n",
    "CloudFlareには、独自のリモートMCPサーバーを作成および展開するためのツールがありますが、これは一般的な慣行ではないようです。\n",
    "\n",
    "https://developers.cloudflare.com/agents/guides/remote-mcp-server/"
   ]
  },
  {
   "cell_type": "markdown",
   "metadata": {},
   "source": [
    "# 結局、2番目のタイプに戻る: Polygon.io MCP Server "
   ]
  },
  {
   "cell_type": "markdown",
   "metadata": {},
   "source": [
    "<table style=\"margin: 0; text-align: left; width:100%\">\n",
    "    <tr>\n",
    "        <td style=\"width: 150px; height: 150px; vertical-align: middle;\">\n",
    "            <img src=\"../assets/stop.png\" width=\"150\" height=\"150\" style=\"display: block;\" />\n",
    "        </td>\n",
    "        <td>\n",
    "            <h2 style=\"color:#ff7800;\">必ずお読みください!! -</h2>\n",
    "            <span style=\"color:#ff7800;\">\n",
    "                この金融市場データサービスには無料プランと有料プランがあり、お客様のご要望に応じてどちらかをご利用いただけます。\n",
    "            </span>\n",
    "        </td>\n",
    "    </tr>\n",
    "</table>"
   ]
  },
  {
   "cell_type": "markdown",
   "metadata": {},
   "source": [
    "## 新しいセクション: Polygon.ioの紹介\n",
    "\n",
    "Polygon.io は非常に人気のある金融データプロバイダーです。\n",
    "\n",
    "無料プランと有給計画があります。また、MCPサーバーもあります！\n",
    "\n",
    "まず、価格を見るなど、優れたウェブサイトで Polygon.io を読んでください。\n",
    "\n",
    "https://polygon.io\n",
    "\n",
    "### Polygon.io パート1: Polygon.io 無料サービス（もちろん、有料は完全にオプションになります！）\n",
    "\n",
    "1. Polygon.io（右上）にサインアップ\n",
    "2. サインインしたら、左側のナビゲーションで「キー」を選択\n",
    "3. 青い「新しいキー」ボタンを押す\n",
    "4. キー名の値をコピーする\n",
    "5. `.env`ファイルに行を追加: `POLYGON_API_KEY=xxxx`"
   ]
  },
  {
   "cell_type": "code",
   "execution_count": 9,
   "metadata": {},
   "outputs": [],
   "source": [
    "load_dotenv(override=True)\n",
    "polygon_api_key = os.getenv(\"POLYGON_API_KEY\")\n",
    "if not polygon_api_key:\n",
    "    print(\"polygon_api_keyは設定されていません\")"
   ]
  },
  {
   "cell_type": "code",
   "execution_count": 10,
   "metadata": {},
   "outputs": [
    {
     "data": {
      "text/plain": [
       "PreviousCloseAgg(ticker='AAPL', close=234.07, high=234.51, low=229.02, open=229.22, timestamp=1757707200000, volume=55824216.0, vwap=233.1344)"
      ]
     },
     "execution_count": 10,
     "metadata": {},
     "output_type": "execute_result"
    }
   ],
   "source": [
    "from polygon import RESTClient\n",
    "client = RESTClient(polygon_api_key)\n",
    "client.get_previous_close_agg(\"AAPL\")[0]"
   ]
  },
  {
   "cell_type": "markdown",
   "metadata": {},
   "source": [
    "### 終値価格をキャッシュするPythonモジュールにラップされています\n",
    "\n",
    "このAPIを使って株価を調べるPythonモジュール `market.py` を作成しました。\n",
    "\n",
    "しかし、無料APIはレート制限がかなり厳しいので、少し工夫してみました。\n",
    "\n",
    "株価を検索すると、この関数は終値株式市場全体を取得し、データベースにキャッシュします。"
   ]
  },
  {
   "cell_type": "code",
   "execution_count": 11,
   "metadata": {},
   "outputs": [
    {
     "data": {
      "text/plain": [
       "234.07"
      ]
     },
     "execution_count": 11,
     "metadata": {},
     "output_type": "execute_result"
    }
   ],
   "source": [
    "from market import get_share_price\n",
    "get_share_price(\"AAPL\")"
   ]
  },
  {
   "cell_type": "code",
   "execution_count": 12,
   "metadata": {},
   "outputs": [
    {
     "data": {
      "text/plain": [
       "234.07"
      ]
     },
     "execution_count": 12,
     "metadata": {},
     "output_type": "execute_result"
    }
   ],
   "source": [
    "# レート制限の心配はありません!\n",
    "for i in range(1000):\n",
    "    get_share_price(\"AAPL\")\n",
    "get_share_price(\"AAPL\")"
   ]
  },
  {
   "cell_type": "markdown",
   "metadata": {},
   "source": [
    "### そして、私はこれをMCPサーバーにしました\n",
    "\n",
    "accounts.pyで行ったように。 `market_server.py`を参照してください"
   ]
  },
  {
   "cell_type": "code",
   "execution_count": 13,
   "metadata": {},
   "outputs": [
    {
     "data": {
      "text/plain": [
       "[Tool(name='lookup_share_price', description='This tool provides the current price of the given stock symbol.\\n\\n    Args:\\n        symbol: the symbol of the stock\\n    ', inputSchema={'properties': {'symbol': {'title': 'Symbol', 'type': 'string'}}, 'required': ['symbol'], 'title': 'lookup_share_priceArguments', 'type': 'object'}, annotations=None)]"
      ]
     },
     "execution_count": 13,
     "metadata": {},
     "output_type": "execute_result"
    }
   ],
   "source": [
    "# 自作のMCPサーバの実行\n",
    "params = {\"command\": \"uv\", \"args\": [\"run\", \"market_server.py\"]}\n",
    "\n",
    "async with MCPServerStdio(params=params, client_session_timeout_seconds=60) as server:\n",
    "    mcp_tools = await server.list_tools()\n",
    "\n",
    "mcp_tools"
   ]
  },
  {
   "cell_type": "markdown",
   "metadata": {},
   "source": [
    "### 試してみましょう！\n",
    "\n",
    "`gpt-4.1-mini`がAppleのシンボルがAAPLであることを理解できるほど賢いことを願います。"
   ]
  },
  {
   "cell_type": "code",
   "execution_count": 14,
   "metadata": {},
   "outputs": [
    {
     "data": {
      "text/markdown": [
       "The current share price of Apple (AAPL) is $234.07."
      ],
      "text/plain": [
       "<IPython.core.display.Markdown object>"
      ]
     },
     "metadata": {},
     "output_type": "display_data"
    }
   ],
   "source": [
    "# 株式市場に関する質問に答えます。\n",
    "instructions = \"You answer questions about the stock market.\"\n",
    "\n",
    "# Appleの株価はいくらですか？\n",
    "request = \"What's the share price of Apple?\"\n",
    "\n",
    "# エージェントが使用するLLMのモデル（40じゃなくて4.1）\n",
    "model = \"gpt-4.1-mini\"\n",
    "\n",
    "# MCPサーバーを使う処理は async with MCPServerStdio の中で行う必要がある。\n",
    "async with MCPServerStdio(params=params, client_session_timeout_seconds=60) as mcp_server:\n",
    "    agent = Agent(name=\"agent\", instructions=instructions, model=model, mcp_servers=[mcp_server])\n",
    "    with trace(\"conversation\"):\n",
    "        result = await Runner.run(agent, request)\n",
    "    display(Markdown(result.final_output))"
   ]
  },
  {
   "cell_type": "markdown",
   "metadata": {},
   "source": [
    "## Polygon.io パート2: 有料プラン - 完全にオプション！\n",
    "興味がある場合は、毎月の計画を購読して、最新の市場データと無制限のAPI呼び出しを取得できます。\n",
    "\n",
    "これを希望する場合は、Polygon.ioがリリースした完全なMCPサーバーを使用して、すべての機能を活用することも理にかなっています。"
   ]
  },
  {
   "cell_type": "markdown",
   "metadata": {},
   "source": [
    "```python\n",
    "params = {\"command\": \"uvx\",\n",
    "          \"args\": [\"--from\", \"git+https://github.com/polygon-io/mcp_polygon@v0.1.0\", \"mcp_polygon\"],\n",
    "          \"env\": {\"POLYGON_API_KEY\": polygon_api_key}\n",
    "          }\n",
    "async with MCPServerStdio(params=params, client_session_timeout_seconds=60) as server:\n",
    "    mcp_tools = await server.list_tools()\n",
    "\n",
    "mcp_tools\n",
    "```"
   ]
  },
  {
   "cell_type": "markdown",
   "metadata": {},
   "source": [
    "### うわー、それはたくさんのツールです！\n",
    "\n",
    "それらを試してみましょう - うまくいけば、膨大な数のツールがGPT-4O-MINIを圧倒しません！\n",
    "\n",
    "毎月29ドルのプランでは、APIの一部にアクセスできないため、どのAPIを呼び出すことができるかを指定する必要がありました。\n",
    "\n",
    "あなたがより大きな計画に跳ね返った場合は、私の追加の制約を削除してください。"
   ]
  },
  {
   "cell_type": "markdown",
   "metadata": {},
   "source": [
    "```python\n",
    "# ※ request で 使用ツールが明言されている。\n",
    "\n",
    "# 株式市場に関する質問に答えます。\n",
    "instructions = \"You answer questions about the stock market.\"\n",
    "\n",
    "# Appleの株価はいくらですか？ get_snapshot_ticker ツールを使用して最新の価格を取得してください。\n",
    "request = \"What's the share price of Apple? Use your get_snapshot_ticker tool to get the latest price.\"\n",
    "# エージェントが使用するLLMのモデル（40じゃなくて4.1）\n",
    "model = \"gpt-4.1-mini\"\n",
    "\n",
    "# MCPサーバーを使う処理は async with MCPServerStdio の中で行う必要がある。\n",
    "async with MCPServerStdio(params=params, client_session_timeout_seconds=60) as mcp_server:\n",
    "    agent = Agent(name=\"agent\", instructions=instructions, model=model, mcp_servers=[mcp_server])\n",
    "    with trace(\"conversation\"):\n",
    "        result = await Runner.run(agent, request)\n",
    "    display(Markdown(result.final_output))\n",
    "```"
   ]
  },
  {
   "cell_type": "markdown",
   "metadata": {},
   "source": [
    "## .env ファイルの設定\n",
    "\n",
    "有料プランをご利用になる場合は、.env ファイルに以下の記述を追加してください。\n",
    "\n",
    "`POLYGON_PLAN=paid`\n",
    "\n",
    "リアルタイム API をご利用になる場合は、以下の記述を追加してください。\n",
    "\n",
    "`POLYGON_PLAN=realtime`"
   ]
  },
  {
   "cell_type": "markdown",
   "metadata": {},
   "source": [
    "```python\n",
    "load_dotenv(override=True)\n",
    "\n",
    "polygon_plan = os.getenv(\"POLYGON_PLAN\")\n",
    "is_paid_polygon = polygon_plan == \"paid\"\n",
    "is_realtime_polygon = polygon_plan == \"realtime\"\n",
    "\n",
    "if is_paid_polygon:\n",
    "    print(\"有料のPolygonプランに加入することを選択したため、コードは15分遅れで価格を確認します。\")\n",
    "elif is_realtime_polygon:\n",
    "    print(\"すごいですね。リアルタイムのPolygonプランに加入することを選択したので、コードはリアルタイムの価格を参照します。\")\n",
    "else:\n",
    "    print(\".envファイルによると、無料のPolygonプランに加入することを選択したため、コードはEOD価格を参照します。\")\n",
    "```"
   ]
  },
  {
   "cell_type": "markdown",
   "metadata": {},
   "source": [
    "## そして、それは今日のためです！\n",
    "\n",
    "「金融データセット」MCPサーバーを使用するこのラボの一部を削除しました。これは劣っているためです。APIが少なく、より高価です。\n",
    "\n",
    "このようにして、同じプロバイダーを無料および有料APIで使用することができます。\n",
    "\n",
    "ただし、コードを表示したい場合は、以前のバージョンについてはGit履歴を確認してください。"
   ]
  },
  {
   "cell_type": "markdown",
   "metadata": {},
   "source": [
    "<table style=\"margin: 0; text-align: left; width:100%\">\n",
    "    <tr>\n",
    "        <td style=\"width: 150px; height: 150px; vertical-align: middle;\">\n",
    "            <img src=\"../assets/exercise.png\" width=\"150\" height=\"150\" style=\"display: block;\" />\n",
    "        </td>\n",
    "        <td>\n",
    "            <h2 style=\"color:#ff7800;\">演習</h2>\n",
    "            <span style=\"color:#ff7800;\">\n",
    "                3 つのアプローチすべてを使用して、MCP サーバー マーケットプレイスを調査し、独自のマーケットプレイスを統合します。\n",
    "            </span>\n",
    "        </td>\n",
    "    </tr>\n",
    "</table>"
   ]
  }
 ],
 "metadata": {
  "kernelspec": {
   "display_name": "Python 3 (ipykernel)",
   "language": "python",
   "name": "python3"
  },
  "language_info": {
   "codemirror_mode": {
    "name": "ipython",
    "version": 3
   },
   "file_extension": ".py",
   "mimetype": "text/x-python",
   "name": "python",
   "nbconvert_exporter": "python",
   "pygments_lexer": "ipython3",
   "version": "3.12.3"
  }
 },
 "nbformat": 4,
 "nbformat_minor": 4
}
