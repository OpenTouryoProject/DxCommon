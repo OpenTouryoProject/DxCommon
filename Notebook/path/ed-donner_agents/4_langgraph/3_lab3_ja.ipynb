{
  "cells": [
    {
      "cell_type": "markdown",
      "metadata": {},
      "source": [
        "## 4週目、4日目へようこそ\n",
        "\n",
        "これが素晴らしいプロジェクトの始まりです！本当にシンプルで非常に効果的です。"
      ]
    },
    {
      "cell_type": "code",
      "execution_count": 1,
      "metadata": {},
      "outputs": [],
      "source": [
        "from typing import Annotated\n",
        "from typing_extensions import TypedDict\n",
        "from langgraph.graph import StateGraph, START\n",
        "from langgraph.graph.message import add_messages\n",
        "from dotenv import load_dotenv\n",
        "from IPython.display import Image, display\n",
        "import gradio as gr\n",
        "from langgraph.prebuilt import ToolNode, tools_condition\n",
        "import requests\n",
        "import os\n",
        "from langchain.agents import Tool\n",
        "\n",
        "from langchain_openai import ChatOpenAI\n",
        "from langgraph.checkpoint.memory import MemorySaver"
      ]
    },
    {
      "cell_type": "code",
      "execution_count": null,
      "metadata": {},
      "outputs": [],
      "source": [
        "load_dotenv(override=True)"
      ]
    },
    {
      "cell_type": "markdown",
      "metadata": {},
      "source": [
        "### 非同期のランググラフ\n",
        "\n",
        "ツールを実行するには：  \n",
        "同期： `tool.run（inputs）`  \n",
        "async： `await tool.arun（inputs）`\n",
        "\n",
        "グラフを呼び出すには：  \n",
        "同期： `graph.invoke（state）`  \n",
        "async： `await graph.ainvoke（state）`"
      ]
    },
    {
      "cell_type": "code",
      "execution_count": 3,
      "metadata": {},
      "outputs": [],
      "source": [
        "class State(TypedDict):\n",
        "    \n",
        "    messages: Annotated[list, add_messages]\n",
        "\n",
        "\n",
        "graph_builder = StateGraph(State)"
      ]
    },
    {
      "cell_type": "code",
      "execution_count": 4,
      "metadata": {},
      "outputs": [],
      "source": [
        "pushover_token = os.getenv(\"PUSHOVER_TOKEN\")\n",
        "pushover_user = os.getenv(\"PUSHOVER_USER\")\n",
        "pushover_url = \"https://api.pushover.net/1/messages.json\"\n",
        "\n",
        "def push(text: str):\n",
        "    \"\"\"Send a push notification to the user\"\"\"\n",
        "    requests.post(pushover_url, data = {\"token\": pushover_token, \"user\": pushover_user, \"message\": text})\n",
        "\n",
        "tool_push = Tool(\n",
        "        name=\"send_push_notification\",\n",
        "        func=push,\n",
        "        description=\"useful for when you want to send a push notification\"\n",
        "    )"
      ]
    },
    {
      "cell_type": "markdown",
      "metadata": {},
      "source": [
        "## 追加のインストールステップ - コンピューターにノードと劇作家がない場合\n",
        "\n",
        "次に、まだ持っていない場合は、コンピューターにnodejsとplaywrightをインストールする必要があります。ここで手順をご覧ください：\n",
        "\n",
        "[Node and Playwright setup](../setup/SETUP-node.md)"
      ]
    },
    {
      "cell_type": "markdown",
      "metadata": {},
      "source": [
        "## そして今 -  Playwrightをインストールした後、Windows PCユーザー用のヘッドアップ：\n",
        "\n",
        "次のいくつかのセルを実行している間、PlaywrightブラウザがnotimplementedErrorを上げていることに問題が発生する可能性があります。\n",
        "\n",
        "これは、Pythonモジュールに移動するときに機能するはずですが、ノートブックのWindowsに問題を引き起こす可能性があります。\n",
        "\n",
        "このエラーがあり、ノートブックを実行したい場合は、非常にハッキーな小さな変更を行う必要があります。 Playwright（以前のセル）を設置した後、これを行う必要があります\n",
        "\n",
        "1.左側のファイルエクスプローラーで `.venv`を右クリックし、「フォルダーで検索」を選択します\n",
        "2。 `asyncio.set_event_loop_policy（windowsselectoreventlooppolicy（））`を検索します  \n",
        "3。そのコードは、 `kernelapp.py`というファイルのコードの行で見つける必要があります\n",
        "4.この行がの一部であることを他の条項全体にコメントしてください - 以下のフラグメントを参照してください。輸入業者ラインの後に「パス」ステートメントを持っているようにしてください。\n",
        "5。上の「再起動」ボタンを押してカーネルを再起動します\n",
        "\n",
        "```python\n",
        "        if sys.platform.startswith(\"win\") and sys.version_info >= (3, 8):\n",
        "            import asyncio\n",
        " \n",
        "            try:\n",
        "                from asyncio import WindowsProactorEventLoopPolicy, WindowsSelectorEventLoopPolicy\n",
        "            except ImportError:\n",
        "                pass\n",
        "                # not affected\n",
        "           # else:\n",
        "            #    if type(asyncio.get_event_loop_policy()) is WindowsProactorEventLoopPolicy:\n",
        "                    # WindowsProactorEventLoopPolicy is not compatible with tornado 6\n",
        "                    # fallback to the pre-3.8 default of Selector\n",
        "                    # asyncio.set_event_loop_policy(WindowsSelectorEventLoopPolicy())\n",
        "```\n",
        "\n",
        "これを見つけてくれた学生ニコラス、そしてカリヤン、ヤキ、ジビン、バスカーに感謝します。そして、余分なポインターのためにvladislavに。\n",
        "\n",
        "別の方法として、Pythonモジュールに移動することができます（とにかく5日目に実行します）"
      ]
    },
    {
      "cell_type": "code",
      "execution_count": 5,
      "metadata": {},
      "outputs": [],
      "source": [
        "# nest_asyncioの紹介\n",
        "# Python Asyncコードでは、1つの「イベントループ」を処理するイベントのみを処理できます。\n",
        "# `nest_asyncio`ライブラリはこれをパッチし、ネストされたイベントループを実行する必要がある場合は、特別な状況に使用されます。\n",
        "\n",
        "import nest_asyncio\n",
        "nest_asyncio.apply()"
      ]
    },
    {
      "cell_type": "markdown",
      "metadata": {},
      "source": [
        "### Langchainコミュニティ\n",
        "\n",
        "Langchainの驚くべきことの1つは、その周りの豊かなコミュニティです。\n",
        "\n",
        "これをチェックしてください：\n"
      ]
    },
    {
      "cell_type": "code",
      "execution_count": 6,
      "metadata": {},
      "outputs": [],
      "source": [
        "from langchain_community.agent_toolkits import PlayWrightBrowserToolkit\n",
        "from langchain_community.tools.playwright.utils import create_async_playwright_browser\n",
        "\n",
        "# ここまたは後でnotimplementederrorを入手した場合は、ノートブックの上部にあるヘッズをご覧ください\n",
        "\n",
        "async_browser =  create_async_playwright_browser(headless=False)  # ヘッドフルモード\n",
        "toolkit = PlayWrightBrowserToolkit.from_browser(async_browser=async_browser)\n",
        "tools = toolkit.get_tools()"
      ]
    },
    {
      "cell_type": "code",
      "execution_count": null,
      "metadata": {},
      "outputs": [],
      "source": [
        "for tool in tools:\n",
        "    print(f\"{tool.name}={tool}\")"
      ]
    },
    {
      "cell_type": "code",
      "execution_count": 8,
      "metadata": {},
      "outputs": [],
      "source": [
        "tool_dict = {tool.name:tool for tool in tools}\n",
        "\n",
        "navigate_tool = tool_dict.get(\"navigate_browser\")\n",
        "extract_text_tool = tool_dict.get(\"extract_text\")\n",
        "\n",
        "    \n",
        "await navigate_tool.arun({\"url\": \"https://www.cnn.com\"})\n",
        "text = await extract_text_tool.arun({})"
      ]
    },
    {
      "cell_type": "code",
      "execution_count": null,
      "metadata": {},
      "outputs": [],
      "source": [
        "import textwrap\n",
        "print(textwrap.fill(text))"
      ]
    },
    {
      "cell_type": "code",
      "execution_count": 17,
      "metadata": {},
      "outputs": [],
      "source": [
        "all_tools = tools + [tool_push]"
      ]
    },
    {
      "cell_type": "code",
      "execution_count": 18,
      "metadata": {},
      "outputs": [],
      "source": [
        "\n",
        "llm = ChatOpenAI(model=\"gpt-4o-mini\")\n",
        "llm_with_tools = llm.bind_tools(all_tools)\n",
        "\n",
        "\n",
        "def chatbot(state: State):\n",
        "    return {\"messages\": [llm_with_tools.invoke(state[\"messages\"])]}\n"
      ]
    },
    {
      "cell_type": "code",
      "execution_count": null,
      "metadata": {},
      "outputs": [],
      "source": [
        "\n",
        "graph_builder = StateGraph(State)\n",
        "graph_builder.add_node(\"chatbot\", chatbot)\n",
        "graph_builder.add_node(\"tools\", ToolNode(tools=all_tools))\n",
        "graph_builder.add_conditional_edges( \"chatbot\", tools_condition, \"tools\")\n",
        "graph_builder.add_edge(\"tools\", \"chatbot\")\n",
        "graph_builder.add_edge(START, \"chatbot\")\n",
        "\n",
        "memory = MemorySaver()\n",
        "graph = graph_builder.compile(checkpointer=memory)\n",
        "display(Image(graph.get_graph().draw_mermaid_png()))"
      ]
    },
    {
      "cell_type": "code",
      "execution_count": null,
      "metadata": {},
      "outputs": [],
      "source": [
        "config = {\"configurable\": {\"thread_id\": \"10\"}}\n",
        "\n",
        "async def chat(user_input: str, history):\n",
        "    result = await graph.ainvoke({\"messages\": [{\"role\": \"user\", \"content\": user_input}]}, config=config)\n",
        "    return result[\"messages\"][-1].content\n",
        "\n",
        "\n",
        "gr.ChatInterface(chat, type=\"messages\").launch()"
      ]
    },
    {
      "cell_type": "code",
      "execution_count": null,
      "metadata": {},
      "outputs": [],
      "source": []
    }
  ],
  "metadata": {
    "kernelspec": {
      "display_name": ".venv",
      "language": "python",
      "name": "python3"
    },
    "language_info": {
      "codemirror_mode": {
        "name": "ipython",
        "version": 3
      },
      "file_extension": ".py",
      "mimetype": "text/x-python",
      "name": "python",
      "nbconvert_exporter": "python",
      "pygments_lexer": "ipython3",
      "version": "3.12.9"
    }
  },
  "nbformat": 4,
  "nbformat_minor": 2
}