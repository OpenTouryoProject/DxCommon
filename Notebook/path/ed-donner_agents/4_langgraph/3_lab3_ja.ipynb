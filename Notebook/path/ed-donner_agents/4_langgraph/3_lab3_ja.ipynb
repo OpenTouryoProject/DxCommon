{
 "cells": [
  {
   "cell_type": "markdown",
   "metadata": {},
   "source": [
    "### 第4週、4日目へようこそ - LangGraphを非同期で呼び出す\n",
    "\n",
    "これが素晴らしいプロジェクトの始まりです！本当にシンプルで非常に効果的です。\n",
    "\n",
    "#### 概要\n",
    "LangGraphを非同期で呼び出す（非同期ツールを実行）\n",
    "\n",
    "- 1. 準備  \n",
    "インポート、環境変数の読み込み\n",
    "\n",
    "- 2. ツール\n",
    "Push通知ツール、Playwrightブラウザツール\n",
    "\n",
    "- 3. nest_asyncio  \n",
    "Jupyterノートブック内での非同期イベントループの競合を避けるため、`nest_asyncio`を利用\n",
    "\n",
    "- 4. ブラウザツールの利用例  \n",
    "Playwrightツールを使ったWebページのナビゲート・テキスト抽出\n",
    "\n",
    "- 5. LangGraphのセットアップ\n",
    "  - チャットボット・ノードはGPT-4o-miniを利用、前述のツール群をLLMにバインド\n",
    "  - ノード、エッジの設定を行い、LangGraphとしてグラフを構築し可視化\n",
    "\n",
    "- 6. GradioによるUI実装  \n",
    "Gradioの`ChatInterface`を使ってWebチャットUIを立ち上げる非同期関数を実装"
   ]
  },
  {
   "cell_type": "code",
   "execution_count": 1,
   "metadata": {},
   "outputs": [],
   "source": [
    "# import\n",
    "\n",
    "# 基本\n",
    "import os\n",
    "import random\n",
    "import requests\n",
    "from dotenv import load_dotenv\n",
    "from typing import Annotated\n",
    "#from typing import TypedDict\n",
    "from typing_extensions import TypedDict\n",
    "from pydantic import BaseModel\n",
    "\n",
    "# langchain\n",
    "from langchain_openai import ChatOpenAI\n",
    "from langchain.agents import Tool\n",
    "\n",
    "# langgraph\n",
    "from langgraph.graph import StateGraph, START, END\n",
    "from langgraph.graph.message import add_messages\n",
    "from langgraph.prebuilt import ToolNode, tools_condition\n",
    "from langgraph.checkpoint.memory import MemorySaver\n",
    "\n",
    "# 表示\n",
    "from IPython.display import Image, display\n",
    "import gradio as gr"
   ]
  },
  {
   "cell_type": "code",
   "execution_count": 2,
   "metadata": {},
   "outputs": [
    {
     "data": {
      "text/plain": [
       "True"
      ]
     },
     "execution_count": 2,
     "metadata": {},
     "output_type": "execute_result"
    }
   ],
   "source": [
    "load_dotenv(override=True)"
   ]
  },
  {
   "cell_type": "markdown",
   "metadata": {},
   "source": [
    "### 非同期のLangGraph\n",
    "\n",
    "ツールを実行するには：  \n",
    "同期： `tool.run（inputs）`  \n",
    "async： `await tool.arun（inputs）`\n",
    "\n",
    "グラフを呼び出すには：  \n",
    "同期： `graph.invoke（state）`  \n",
    "async： `await graph.ainvoke（state）`"
   ]
  },
  {
   "cell_type": "code",
   "execution_count": 3,
   "metadata": {},
   "outputs": [],
   "source": [
    "# tool_push \n",
    "pushover_token = os.getenv(\"PUSHOVER_TOKEN\")\n",
    "pushover_user = os.getenv(\"PUSHOVER_USER\")\n",
    "pushover_url = \"https://api.pushover.net/1/messages.json\"\n",
    "\n",
    "def push(text: str):\n",
    "    \"\"\"Send a push notification to the user\"\"\"\n",
    "    requests.post(pushover_url, data = {\"token\": pushover_token, \"user\": pushover_user, \"message\": text})\n",
    "\n",
    "tool_push = Tool(\n",
    "        name=\"send_push_notification\",\n",
    "        func=push,\n",
    "        description=\"useful for when you want to send a push notification\"\n",
    "    )"
   ]
  },
  {
   "cell_type": "markdown",
   "metadata": {},
   "source": [
    "## 追加のインストールステップ - コンピューターに NodeJS と Playwright がない場合\n",
    "\n",
    "次に、まだ持っていない場合は、コンピューターに NodeJS と Playwright をインストールする必要があります。\n",
    "\n",
    "ここで手順をご覧ください：\n",
    "[Node and Playwright setup](../setup/SETUP-node_jp.md)"
   ]
  },
  {
   "cell_type": "markdown",
   "metadata": {},
   "source": [
    "### NodeJS"
   ]
  },
  {
   "cell_type": "markdown",
   "metadata": {},
   "source": [
    "```bash\n",
    "# システムを更新\n",
    "sudo apt update && sudo apt upgrade -y\n",
    "# 必要に応じパッケージをインストール\n",
    "sudo apt install -y curl\n",
    "# NodeSourceの公式リポジトリを追加\n",
    "curl -fsSL https://deb.nodesource.com/setup_lts.x | sudo -E bash -\n",
    "#  Node.js（npmとnpxも含まれる）をインストール\n",
    "sudo apt install -y nodejs\n",
    "```"
   ]
  },
  {
   "cell_type": "code",
   "execution_count": 4,
   "metadata": {},
   "outputs": [
    {
     "name": "stdout",
     "output_type": "stream",
     "text": [
      "v22.19.0\n",
      "10.9.3\n",
      "\u001b[1G\u001b[0K10.9.3\n",
      "\u001b[1G\u001b[0K"
     ]
    }
   ],
   "source": [
    "!node --version\n",
    "!npm --version\n",
    "!npx --version"
   ]
  },
  {
   "cell_type": "markdown",
   "metadata": {},
   "source": [
    "### Playwright \n",
    "`uv` なので `ed-donner_agents` フォルダ直下で実行\n",
    "```bash\n",
    "uv run playwright install --with-deps chromium\n",
    "```"
   ]
  },
  {
   "cell_type": "markdown",
   "metadata": {},
   "source": [
    "## そして今 -  Playwrightをインストールした後、Windows PCユーザー用のヘッドアップ：\n",
    "\n",
    "次のいくつかのセルを実行している間、Playwrightブラウザが`NotImplementedError`を上げる問題が発生する可能性があります。\n",
    "\n",
    "これは、Pythonモジュールに移動するときに機能するはずですが、NotebookのWindowsに問題を引き起こす可能性があります。\n",
    "\n",
    "このエラーがあり、ノートブックを実行したい場合は、非常にハッキーな小さな変更を行う必要があります。 Playwright（以前のセル）を設置した後、これを行う必要があります\n",
    "\n",
    "1. `ed-donner_agents` の `.venv` フォルダ以下を任意のツールを使用してGrep検索する。\n",
    "3. `asyncio.set_event_loop_policy(WindowsSelectorEventLoopPolicy())` を検索する。\n",
    "4. このコードは、`kernelapp.py` というファイルのコード行にある。\n",
    "5. この行を含む else 節全体をコメントアウトします（以下の抜粋を参照）。  \n",
    "   ImportError 行の後に \"pass\" ステートメントがあることを確認してください。\n",
    "6. 上記の「再起動」ボタンを押してカーネルを再起動します。\n",
    "\n",
    "```python\n",
    "        if sys.platform.startswith(\"win\") and sys.version_info >= (3, 8):\n",
    "            import asyncio\n",
    "\n",
    "            try:\n",
    "                from asyncio import WindowsProactorEventLoopPolicy, WindowsSelectorEventLoopPolicy\n",
    "            except ImportError:\n",
    "                pass\n",
    "                # not affected\n",
    "            #else:\n",
    "            #    if type(asyncio.get_event_loop_policy()) is WindowsProactorEventLoopPolicy:\n",
    "            #        # WindowsProactorEventLoopPolicy is not compatible with tornado 6\n",
    "            #        # fallback to the pre-3.8 default of Selector\n",
    "            #        asyncio.set_event_loop_policy(WindowsSelectorEventLoopPolicy())\n",
    "```\n",
    "\n",
    "これを発見してくれた学生のNicolasさん、そしてこの方法がうまくいったことを確認してくれたKalyanさん、Yakiさん、Zibinさん、Bhaskarさんに感謝します！\n",
    "\n",
    "そして、追加のヒントを提供してくれたVladislavさんにも感謝します。\n",
    "\n",
    "別の方法として、Pythonモジュールに移動することができます（とにかく5日目に実行します）"
   ]
  },
  {
   "cell_type": "code",
   "execution_count": 5,
   "metadata": {},
   "outputs": [],
   "source": [
    "# nest_asyncioの紹介\n",
    "# Python Asyncコードでは、1つの「イベントループ」を処理するイベントのみを処理できます。\n",
    "# `nest_asyncio`ライブラリはこれをパッチし、ネストされたイベントループを実行する必要がある場合は、特別な状況に使用されます。\n",
    "# agentが１つの「イベントループ」で動作して、playwrightがまた別の「イベントループ」で動作するという話らしい。\n",
    "\n",
    "import nest_asyncio\n",
    "nest_asyncio.apply()"
   ]
  },
  {
   "cell_type": "markdown",
   "metadata": {},
   "source": [
    "### LangChainコミュニティ\n",
    "\n",
    "LangChainの驚くべきことの1つは、その周りの豊かなコミュニティです。\n",
    "\n",
    "これをチェックしてください：\n"
   ]
  },
  {
   "cell_type": "code",
   "execution_count": 6,
   "metadata": {},
   "outputs": [],
   "source": [
    "from langchain_community.agent_toolkits import PlayWrightBrowserToolkit\n",
    "from langchain_community.tools.playwright.utils import create_async_playwright_browser\n",
    "\n",
    "# 「ココ」または「後」で NotImplementedError を入手した場合は、ノートブックの上部にあるヘッズをご覧ください\n",
    "\n",
    "async_browser =  create_async_playwright_browser(headless=False) # ヘッド「フル」モード\n",
    "toolkit = PlayWrightBrowserToolkit.from_browser(async_browser=async_browser)\n",
    "tools = toolkit.get_tools()"
   ]
  },
  {
   "cell_type": "markdown",
   "metadata": {},
   "source": [
    "#### PlayWrightBrowserToolkitの確認\n",
    "これらのツールを組み合わせることで、自動化されたブラウザ操作、ウェブスクレイピング、テスト自動化などが実現できる。\n",
    "\n",
    "- navigate_browser  \n",
    "指定されたURLにブラウザを移動させる\n",
    "- previous_webpage  \n",
    "ブラウザの戻るボタン機能を実行\n",
    "- current_webpage  \n",
    "現在表示されているページの情報を取得\n",
    "- get_elements  \n",
    "指定されたセレクターに一致する要素を取得\n",
    "- extract_text  \n",
    "現在のページまたは指定された要素からテキストコンテンツを抽出\n",
    "- extract_hyperlinks  \n",
    "ページ内のすべてのハイパーリンクを抽出\n",
    "- click_element  \n",
    "指定された要素をクリックする"
   ]
  },
  {
   "cell_type": "code",
   "execution_count": 7,
   "metadata": {},
   "outputs": [
    {
     "name": "stdout",
     "output_type": "stream",
     "text": [
      "click_element=async_browser=<Browser type=<BrowserType name=chromium executable_path=/home/seigi/.cache/ms-playwright/chromium-1169/chrome-linux/chrome> version=136.0.7103.25>\n",
      "navigate_browser=async_browser=<Browser type=<BrowserType name=chromium executable_path=/home/seigi/.cache/ms-playwright/chromium-1169/chrome-linux/chrome> version=136.0.7103.25>\n",
      "previous_webpage=async_browser=<Browser type=<BrowserType name=chromium executable_path=/home/seigi/.cache/ms-playwright/chromium-1169/chrome-linux/chrome> version=136.0.7103.25>\n",
      "extract_text=async_browser=<Browser type=<BrowserType name=chromium executable_path=/home/seigi/.cache/ms-playwright/chromium-1169/chrome-linux/chrome> version=136.0.7103.25>\n",
      "extract_hyperlinks=async_browser=<Browser type=<BrowserType name=chromium executable_path=/home/seigi/.cache/ms-playwright/chromium-1169/chrome-linux/chrome> version=136.0.7103.25>\n",
      "get_elements=async_browser=<Browser type=<BrowserType name=chromium executable_path=/home/seigi/.cache/ms-playwright/chromium-1169/chrome-linux/chrome> version=136.0.7103.25>\n",
      "current_webpage=async_browser=<Browser type=<BrowserType name=chromium executable_path=/home/seigi/.cache/ms-playwright/chromium-1169/chrome-linux/chrome> version=136.0.7103.25>\n"
     ]
    }
   ],
   "source": [
    "for tool in tools:\n",
    "    print(f\"{tool.name}={tool}\")"
   ]
  },
  {
   "cell_type": "code",
   "execution_count": 9,
   "metadata": {},
   "outputs": [],
   "source": [
    "# 何気にWSL2のGUI表示がサポートされているっぽい。\n",
    "\n",
    "# 2つのツールを抜き出す。\n",
    "tool_dict = {tool.name:tool for tool in tools}\n",
    "navigate_tool = tool_dict.get(\"navigate_browser\")\n",
    "extract_text_tool = tool_dict.get(\"extract_text\")\n",
    "\n",
    "# フェイクメディアのCNN（笑）がクソ重かったので\n",
    "# 「【爆速】世界一表示速度が速いホームページ」から以下を選択\n",
    "await navigate_tool.arun({\"url\": \"https://phiab.com/commentary/probably-the-fastest-web-site-in-the-world/\"})\n",
    "\n",
    "# 現ページからテキストコンテンツを抽出\n",
    "text = await extract_text_tool.arun({}) # ★ arunが非同期"
   ]
  },
  {
   "cell_type": "code",
   "execution_count": 10,
   "metadata": {},
   "outputs": [
    {
     "name": "stdout",
     "output_type": "stream",
     "text": [
      "Probably the Fastest Website in the World - PHI Contact PHI Book a\n",
      "Demo Contact Automated Translation Svenska Deutsch Français Español\n",
      "Italiano 日本語 中文 Search Website Submit About Our Story Background\n",
      "Management and Board Partnerships National Institute on Aging\n",
      "Northeastern University Huntsman Cancer Institute UCSF Gladstone\n",
      "Institutes Lund University Cancer Centre Malmö University Uppsala\n",
      "University Users Career Products HoloMonitor A Cell Culture Microscope\n",
      "An Incubator Microscope A Live Cell Imaging System App Suite Cell\n",
      "Imaging Software Live Cell Assays Cell Counter Cell QC Kinetic Cell\n",
      "Proliferation Kinetic Cell Motility Kinetic Dose Response Cell\n",
      "Morphology Single Cell Tracking Wound Healing Fluorescence Accessories\n",
      "Applications Overview Cancer Research Stem Cells Drug Discovery &\n",
      "Development Single-Cell Analysis Adherent Cell Counting Cell QC Cell\n",
      "Proliferation Cell Morphology Cell Migration Cell Motility and\n",
      "Migration Wound Healing Technology Gentle Live Cell Imaging\n",
      "Quantitati...\n"
     ]
    }
   ],
   "source": [
    "import textwrap\n",
    "print(textwrap.fill(text)[:1000] + \"...\")"
   ]
  },
  {
   "cell_type": "markdown",
   "metadata": {},
   "source": [
    "### それらをまとめてください"
   ]
  },
  {
   "cell_type": "code",
   "execution_count": 11,
   "metadata": {},
   "outputs": [],
   "source": [
    "# PlayWright + Pushover\n",
    "all_tools = tools + [tool_push]"
   ]
  },
  {
   "cell_type": "markdown",
   "metadata": {},
   "source": [
    "### ステップ1-5"
   ]
  },
  {
   "cell_type": "code",
   "execution_count": 12,
   "metadata": {},
   "outputs": [],
   "source": [
    "# ステップ1：Stateクラスを定義\n",
    "class State(TypedDict):    \n",
    "    messages: Annotated[list, add_messages]"
   ]
  },
  {
   "cell_type": "code",
   "execution_count": 13,
   "metadata": {},
   "outputs": [],
   "source": [
    "# ステップ2：Stateクラスでグラフビルダーを起動\n",
    "graph_builder = StateGraph(State)"
   ]
  },
  {
   "cell_type": "code",
   "execution_count": 14,
   "metadata": {},
   "outputs": [],
   "source": [
    "# ステップ3：Nodeを作成\n",
    "llm = ChatOpenAI(model=\"gpt-4o-mini\")\n",
    "llm_with_tools = llm.bind_tools(all_tools)\n",
    "\n",
    "def chatbot(state: State):\n",
    "    return {\"messages\": [llm_with_tools.invoke(state[\"messages\"])]}"
   ]
  },
  {
   "cell_type": "code",
   "execution_count": 15,
   "metadata": {},
   "outputs": [
    {
     "data": {
      "text/plain": [
       "<langgraph.graph.state.StateGraph at 0x7fac4e72bd40>"
      ]
     },
     "execution_count": 15,
     "metadata": {},
     "output_type": "execute_result"
    }
   ],
   "source": [
    "# ステップ4：グラフを作成\n",
    "# NodeとEdgeを追加してGraphを作成\n",
    "#graph_builder = StateGraph(State)\n",
    "\n",
    "# Node\n",
    "graph_builder.add_node(\"chatbot\", chatbot)\n",
    "graph_builder.add_node(\"tools\", ToolNode(tools=all_tools))\n",
    "\n",
    "# Edge: START → chatbot\n",
    "graph_builder.add_edge(START, \"chatbot\")\n",
    "\n",
    "# Edge: chatbot ⇔ tools (双方向)\n",
    "graph_builder.add_conditional_edges( \"chatbot\", tools_condition, \"tools\")\n",
    "graph_builder.add_edge(\"tools\", \"chatbot\")\n",
    "\n",
    "# END は必須ではない、終応答を返した時点で遷移が無ければ処理は自然に終了。\n",
    "# tools_conditionは「finish_reason==\"tool_calls\"」を判定しへ進むノードを判定するための条件分岐関数"
   ]
  },
  {
   "cell_type": "code",
   "execution_count": 16,
   "metadata": {},
   "outputs": [
    {
     "data": {
      "image/png": "[encoded data removed]",
      "text/plain": [
       "<IPython.core.display.Image object>"
      ]
     },
     "metadata": {},
     "output_type": "display_data"
    }
   ],
   "source": [
    "# ステップ5：グラフをコンパイルして可視化\n",
    "memory = MemorySaver()\n",
    "graph = graph_builder.compile(checkpointer=memory)\n",
    "display(Image(graph.get_graph().draw_mermaid_png()))"
   ]
  },
  {
   "cell_type": "markdown",
   "metadata": {},
   "source": [
    "### それでおしまい！そして、これをしましょう：\n",
    "\n",
    "「なにかの情報」をプッシュ通知で送ってとプロンプト入力すると良い。  \n",
    "例えば以下のような（日本語で送るとプッシュ通知はされるが、PlayWrightが動作しなかった）。  \n",
    "`please send me a push notification with the current USD/GBP exchange rate`"
   ]
  },
  {
   "cell_type": "code",
   "execution_count": 17,
   "metadata": {},
   "outputs": [
    {
     "name": "stdout",
     "output_type": "stream",
     "text": [
      "* Running on local URL:  http://127.0.0.1:7864\n",
      "* To create a public link, set `share=True` in `launch()`.\n"
     ]
    },
    {
     "data": {
      "text/html": [
       "<div><iframe src=\"http://127.0.0.1:7864/\" width=\"100%\" height=\"500\" allow=\"autoplay; camera; microphone; clipboard-read; clipboard-write;\" frameborder=\"0\" allowfullscreen></iframe></div>"
      ],
      "text/plain": [
       "<IPython.core.display.HTML object>"
      ]
     },
     "metadata": {},
     "output_type": "display_data"
    },
    {
     "data": {
      "text/plain": []
     },
     "execution_count": 17,
     "metadata": {},
     "output_type": "execute_result"
    }
   ],
   "source": [
    "config = {\"configurable\": {\"thread_id\": \"10\"}}\n",
    "\n",
    "async def chat(user_input: str, history):\n",
    "    result = await graph.ainvoke({\"messages\": [{\"role\": \"user\", \"content\": user_input}]}, config=config)  # ★ ainvokeが非同期\n",
    "    return result[\"messages\"][-1].content\n",
    "\n",
    "gr.ChatInterface(chat, type=\"messages\").launch()"
   ]
  },
  {
   "cell_type": "code",
   "execution_count": null,
   "metadata": {},
   "outputs": [],
   "source": []
  }
 ],
 "metadata": {
  "kernelspec": {
   "display_name": "Python 3 (ipykernel)",
   "language": "python",
   "name": "python3"
  },
  "language_info": {
   "codemirror_mode": {
    "name": "ipython",
    "version": 3
   },
   "file_extension": ".py",
   "mimetype": "text/x-python",
   "name": "python",
   "nbconvert_exporter": "python",
   "pygments_lexer": "ipython3",
   "version": "3.12.3"
  }
 },
 "nbformat": 4,
 "nbformat_minor": 4
}
