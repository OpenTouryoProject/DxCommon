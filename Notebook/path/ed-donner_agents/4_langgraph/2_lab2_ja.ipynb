{
 "cells": [
  {
   "cell_type": "markdown",
   "metadata": {},
   "source": [
    "### 第4週、3日目 - その他のLangGraphへようこそ。\n",
    "\n",
    "#### 概要\n",
    "LangGraphで「ツールを使うエージェントグラフ」と「永続化された会話メモリ」を組み合わせた高度なチャットAIシステムの実装例  \n",
    "特にLangGraph独自の「スーパーステップ」「チェックポイント」「状態管理」について重点的に解説し、実際に実装\n",
    "\n",
    "- 1. LangGraphとLangChainの基礎\n",
    "  - import\n",
    "  - `.env`ファイルのロード\n",
    "\n",
    "- 2. LangChainのツール実装\n",
    "   - `GoogleSerperAPIWrapper`を使ったGoogle検索ツールの実装\n",
    "   - LangChainの`Tool`クラスで関数をツール化し、`invoke`メソッドで利用\n",
    "   - Pushover APIを使ったプッシュ通知送信ツールの自作例も掲載。\n",
    "\n",
    "- 3. LangGraphによるエージェントグラフ構築\n",
    "   - ユーザーとAIの会話（messages）を状態（State）として管理する設計。\n",
    "   - LangChainのツールをOpenAIのモデルにバインドし、ツール呼び出しを自動化。\n",
    "   - ノード追加、条件付きエッジ設定などグラフの組み立て。\n",
    "   - グラフの状態可視化（Mermaid図）も実施。\n",
    "\n",
    "- 4. メモリ（Memory）の追加\n",
    "   - LangGraphの`MemorySaver`で会話履歴の保存。\n",
    "   - チェックポイント（super-step）ごとに状態を保存・復元できる仕組みを解説。\n",
    "   - チェックポイントIDを指定し、任意の時点から再開・分岐可能な設計を紹介。\n",
    "\n",
    "- 5. SQLへの状態保存\n",
    "   - SQLiteを用いた永続的な会話履歴（状態）の保存方法。\n",
    "   - `SqliteSaver`でLangGraphのチェックポイントをDBに記録。\n",
    "\n",
    "- 6. GradioによるチャットUI\n",
    "   - 上記グラフを使ったチャットインターフェースをGradioで実装。"
   ]
  },
  {
   "cell_type": "code",
   "execution_count": 1,
   "metadata": {},
   "outputs": [],
   "source": [
    "# import\n",
    "\n",
    "# 基本\n",
    "import os\n",
    "import random\n",
    "import requests\n",
    "from dotenv import load_dotenv\n",
    "from typing import Annotated\n",
    "from typing import TypedDict\n",
    "from pydantic import BaseModel\n",
    "\n",
    "# langgraph\n",
    "from langgraph.graph import StateGraph, START, END\n",
    "from langgraph.graph.message import add_messages\n",
    "from langchain_openai import ChatOpenAI\n",
    "from langgraph.prebuilt import ToolNode, tools_condition\n",
    "\n",
    "# 表示\n",
    "from IPython.display import Image, display\n",
    "import gradio as gr"
   ]
  },
  {
   "cell_type": "code",
   "execution_count": 2,
   "metadata": {},
   "outputs": [
    {
     "data": {
      "text/plain": [
       "True"
      ]
     },
     "execution_count": 2,
     "metadata": {},
     "output_type": "execute_result"
    }
   ],
   "source": [
    "# 私たちのお気に入りの最初のステップ！（CrewAIは自動的に行っていた）\n",
    "load_dotenv(override=True)\n"
   ]
  },
  {
   "cell_type": "markdown",
   "metadata": {},
   "source": [
    "### まず、LangSmith をセットアップしましょう！\n",
    "\n",
    "https://langsmith.com\n",
    "\n",
    "- サインアップ、ログインした後に表示されるダッシュボードで、[Get Started] > [Set up tracing]を押下、\n",
    "- pipでのパッケージのインストール方法（不要）と、設定すべき環境変数（必要）が示されるので、PJに反映"
   ]
  },
  {
   "cell_type": "markdown",
   "metadata": {},
   "source": [
    "### LangChainコミュニティの有用な機能\n",
    "Serper API（Google検索を利用したサーチAPI） をラップしたユーティリティ、LLMは使用していない。"
   ]
  },
  {
   "cell_type": "code",
   "execution_count": 3,
   "metadata": {},
   "outputs": [
    {
     "data": {
      "text/plain": [
       "'Paris is the capital and largest city of France, with an estimated population of 2,048,472 in January 2025 in an area of more than 105 km2 (41 sq mi). Paris is the capital and most populous city of France. Situated on the Seine River, in the north of the country, it is in the centre of the Île-de-France ... Paris is the capital of France, the largest country of Europe with 550 000 km2 (65 millions inhabitants). Paris has 2.234 million inhabitants end 2011. The capital of France has been Paris since its liberation in 1944. Paris, city and capital of France, located along the Seine River, in the north-central part of the country. Paris is one of the world\\'s most important and ... Paris is the city of romance par excellence, the fashion capital and the best example of French art de vivre. Exploring Paris is an essential rite of passage ... Paris is the capital city of France and a cultural and culinary hub. In 2024 it played host to its third Olympic Games. Paris, situated on the river Seine ... Paris, the capital of France, is often referred to as the \"City of Light\" and is renowned for its art, culture, and history. Paris Is The Capital City Of France! | The Paris Song | KLT Geography. 8.4K views · 2 years ago #kltgeo #klt #paris ...more ... Surface area: 633,186 sq. km. · Population 66.6 million · Capital city: Paris · Official language: French · Currency: Euro (EUR) · System of ...'"
      ]
     },
     "execution_count": 3,
     "metadata": {},
     "output_type": "execute_result"
    }
   ],
   "source": [
    "from langchain_community.utilities import GoogleSerperAPIWrapper\n",
    "\n",
    "serper = GoogleSerperAPIWrapper()\n",
    "serper.run(\"What is the capital of France?\") # フランスの首都は？"
   ]
  },
  {
   "cell_type": "markdown",
   "metadata": {},
   "source": [
    "### 機能の関数をLangChainツールに変換"
   ]
  },
  {
   "cell_type": "code",
   "execution_count": 4,
   "metadata": {},
   "outputs": [],
   "source": [
    "from langchain.agents import Tool\n",
    "\n",
    "tool_search =Tool(\n",
    "    name=\"search\",\n",
    "    func=serper.run,\n",
    "    # オンライン検索でさらに情報が必要な場合に便利です\n",
    "    description=\"Useful for when you need more information from an online search\"\n",
    ")"
   ]
  },
  {
   "cell_type": "markdown",
   "metadata": {},
   "source": [
    "### LangChainツールを試す"
   ]
  },
  {
   "cell_type": "code",
   "execution_count": 5,
   "metadata": {},
   "outputs": [
    {
     "data": {
      "text/plain": [
       "'Paris is the capital and largest city of France, with an estimated population of 2,048,472 in January 2025 in an area of more than 105 km2 (41 sq mi). Paris is the capital and most populous city of France. Situated on the Seine River, in the north of the country, it is in the centre of the Île-de-France ... Paris is the capital of France, the largest country of Europe with 550 000 km2 (65 millions inhabitants). Paris has 2.234 million inhabitants end 2011. The capital of France has been Paris since its liberation in 1944. Paris, city and capital of France, located along the Seine River, in the north-central part of the country. Paris is one of the world\\'s most important and ... Paris is the city of romance par excellence, the fashion capital and the best example of French art de vivre. Exploring Paris is an essential rite of passage ... Paris, the capital of France, is often referred to as the \"City of Light\" and is renowned for its art, culture, and history. Capital city: Paris; Official language: French; Currency: Euro (EUR); System of government: Republic; Founding member of the European Union ... Paris Capital City Of France In 4K Ultra HD Video | Paris, France Capital And Largest City | Paris Is A Major European City And A Global ... Dive into the charm of Paris, the capital of France! Explore its rich history, iconic attractions, and delectable cuisine in our guide.'"
      ]
     },
     "execution_count": 5,
     "metadata": {},
     "output_type": "execute_result"
    }
   ],
   "source": [
    "tool_search.invoke(\"What is the capital of France?\") # # フランスの首都は？"
   ]
  },
  {
   "cell_type": "markdown",
   "metadata": {},
   "source": [
    "### そして今、自分でツールを書きましょう\n",
    "\n",
    "おなじみのものを選びます"
   ]
  },
  {
   "cell_type": "code",
   "execution_count": 6,
   "metadata": {},
   "outputs": [],
   "source": [
    "# プッシュ通知するツール\n",
    "\n",
    "pushover_token = os.getenv(\"PUSHOVER_TOKEN\")\n",
    "pushover_user = os.getenv(\"PUSHOVER_USER\")\n",
    "pushover_url = \"https://api.pushover.net/1/messages.json\"\n",
    "\n",
    "def push(text: str):\n",
    "    \"\"\"Send a push notification to the user\"\"\" # ユーザーにプッシュ通知を送信する\n",
    "    requests.post(pushover_url, data = {\"token\": pushover_token, \"user\": pushover_user, \"message\": text})\n",
    "\n",
    "tool_push = Tool(\n",
    "    name=\"send_push_notification\",\n",
    "    func=push,\n",
    "    # プッシュ通知を送信したいときに便利です\n",
    "    description=\"useful for when you want to send a push notification\"\n",
    ")\n",
    "\n",
    "tool_push.invoke(\"Hello, me\")"
   ]
  },
  {
   "cell_type": "markdown",
   "metadata": {},
   "source": [
    "### 昨日の Graph に戻る\n",
    "\n",
    "- 1つの小さな変更 - StateクラスのBaseModelの代わりにTypedDictを使用する\n",
    "\n",
    "- ツールを実装する際には、必ずコードに2つの変更を加える必要があります。\n",
    "1. 呼び出し時にOpenAIにツールをJSON形式で提供するための変更\n",
    "2. 結果の処理方法の変更：finish_reason==\"tool_calls\" の条件を満たすモデルを探し、呼び出しを取得して関数を実行し、結果を提供します。"
   ]
  },
  {
   "cell_type": "markdown",
   "metadata": {},
   "source": [
    "### それらをまとめてください"
   ]
  },
  {
   "cell_type": "code",
   "execution_count": 7,
   "metadata": {},
   "outputs": [],
   "source": [
    "tools = [tool_search, tool_push]"
   ]
  },
  {
   "cell_type": "markdown",
   "metadata": {},
   "source": [
    "### ステップ1-5"
   ]
  },
  {
   "cell_type": "code",
   "execution_count": 8,
   "metadata": {},
   "outputs": [],
   "source": [
    "# ステップ1：Stateクラスを定義\n",
    "class State(TypedDict):\n",
    "    messages: Annotated[list, add_messages]"
   ]
  },
  {
   "cell_type": "code",
   "execution_count": 9,
   "metadata": {},
   "outputs": [],
   "source": [
    "# ステップ2：Stateクラスでグラフビルダーを起動\n",
    "graph_builder = StateGraph(State)"
   ]
  },
  {
   "cell_type": "code",
   "execution_count": 10,
   "metadata": {},
   "outputs": [],
   "source": [
    "# ステップ3：Nodeを作成\n",
    "\n",
    "# LLMにツールを設定\n",
    "llm = ChatOpenAI(model=\"gpt-4o-mini\")\n",
    "llm_with_tools = llm.bind_tools(tools)\n",
    "\n",
    "def chatbot(state: State):\n",
    "    return {\"messages\": [llm_with_tools.invoke(state[\"messages\"])]}"
   ]
  },
  {
   "cell_type": "code",
   "execution_count": 11,
   "metadata": {},
   "outputs": [
    {
     "data": {
      "text/plain": [
       "<langgraph.graph.state.StateGraph at 0x7ff11c996240>"
      ]
     },
     "execution_count": 11,
     "metadata": {},
     "output_type": "execute_result"
    }
   ],
   "source": [
    "# ステップ4：グラフを作成\n",
    "# NodeとEdgeを追加してGraphを作成\n",
    "\n",
    "# Node\n",
    "graph_builder.add_node(\"chatbot\", chatbot)\n",
    "graph_builder.add_node(\"tools\", ToolNode(tools=tools))\n",
    "\n",
    "# Edge: START → chatbot\n",
    "graph_builder.add_edge(START, \"chatbot\")\n",
    "\n",
    "# Edge: chatbot ⇔ tools (双方向)\n",
    "graph_builder.add_conditional_edges(\"chatbot\", tools_condition, \"tools\")\n",
    "graph_builder.add_edge(\"tools\", \"chatbot\")\n",
    "\n",
    "# END は必須ではない、終応答を返した時点で遷移が無ければ処理は自然に終了。\n",
    "# tools_conditionは「finish_reason==\"tool_calls\"」を判定しへ進むノードを判定するための条件分岐関数"
   ]
  },
  {
   "cell_type": "code",
   "execution_count": 12,
   "metadata": {},
   "outputs": [
    {
     "data": {
      "image/png": "[encoded data removed]",
      "text/plain": [
       "<IPython.core.display.Image object>"
      ]
     },
     "metadata": {},
     "output_type": "display_data"
    }
   ],
   "source": [
    "# ステップ5：グラフをコンパイルして可視化\n",
    "graph = graph_builder.compile()\n",
    "display(Image(graph.get_graph().draw_mermaid_png()))"
   ]
  },
  {
   "cell_type": "markdown",
   "metadata": {},
   "source": [
    "### それでおしまい！そして、これをしましょう：\n",
    "２つのツールを使用する履歴機能付きChat\n",
    "\n",
    "以下のように入力し、2つのツールが利用されることを確認する。\n",
    "\n",
    "- hi there\n",
    "- please send me a push notification with the current USD/GBP exchange rate\n",
    "\n",
    "しかし、まだ、Stateは履歴を保持していないことを確認。\n",
    "\n",
    "- hi there\n",
    "- my name's Ed\n",
    "- what's my name?\n",
    "\n",
    "また、https://langsmith.com にアクセスしてトレースを確認するなど。"
   ]
  },
  {
   "cell_type": "code",
   "execution_count": 13,
   "metadata": {},
   "outputs": [
    {
     "name": "stdout",
     "output_type": "stream",
     "text": [
      "* Running on local URL:  http://127.0.0.1:7862\n",
      "* To create a public link, set `share=True` in `launch()`.\n"
     ]
    },
    {
     "data": {
      "text/html": [
       "<div><iframe src=\"http://127.0.0.1:7862/\" width=\"100%\" height=\"500\" allow=\"autoplay; camera; microphone; clipboard-read; clipboard-write;\" frameborder=\"0\" allowfullscreen></iframe></div>"
      ],
      "text/plain": [
       "<IPython.core.display.HTML object>"
      ]
     },
     "metadata": {},
     "output_type": "display_data"
    },
    {
     "data": {
      "text/plain": []
     },
     "execution_count": 13,
     "metadata": {},
     "output_type": "execute_result"
    }
   ],
   "source": [
    "def chat(user_input: str, history):\n",
    "    result = graph.invoke({\"messages\": [{\"role\": \"user\", \"content\": user_input}]})\n",
    "    return result[\"messages\"][-1].content\n",
    "\n",
    "gr.ChatInterface(chat, type=\"messages\").launch()"
   ]
  },
  {
   "cell_type": "markdown",
   "metadata": {},
   "source": [
    "## さあ、メモリを追加しましょう！\n",
    "\n",
    "### でもちょっと待ってください！\n",
    "\n",
    "グラフ全体が State を維持し、State に追加していきます。なぜメモリを処理しないのでしょうか？\n",
    "\n",
    "（結論を先にいうと、スーパーステップをまたいで（複数ターンにわたって）」状態を保持できないため）\n",
    "\n",
    "### これはLangGraphを理解するための重要なポイントです\n",
    "\n",
    "> スーパーステップは、グラフノードに対する単一の反復処理と考えることができます。\n",
    "> 並列に実行されるノードは同じスーパーステップの一部ですが、順番に実行されるノードは別々のスーパーステップに属します。\n",
    "\n",
    "グラフ上の1つの「スーパーステップ」は、エージェント間でメッセージを渡す1回の呼び出しを表します。\n",
    "\n",
    "idomatic LangGraphでは、各スーパーステップ、つまり各インタラクションごとにinvokeを呼び出してグラフを実行します。\n",
    "\n",
    "Reducerは、1つのスーパーステップ内では状態の更新を自動的に処理しますが、スーパーステップ間では処理しません。\n",
    "\n",
    "これがチェックポイント機能によって実現されます。"
   ]
  },
  {
   "cell_type": "code",
   "execution_count": 14,
   "metadata": {},
   "outputs": [],
   "source": [
    "# Memoryストア\n",
    "from langgraph.checkpoint.memory import MemorySaver\n",
    "memory = MemorySaver()"
   ]
  },
  {
   "cell_type": "code",
   "execution_count": 15,
   "metadata": {},
   "outputs": [
    {
     "data": {
      "image/png": "[encoded data removed]",
      "text/plain": [
       "<IPython.core.display.Image object>"
      ]
     },
     "metadata": {},
     "output_type": "display_data"
    }
   ],
   "source": [
    "# ステップ1および2\n",
    "graph_builder = StateGraph(State)\n",
    "\n",
    "# ステップ3\n",
    "llm = ChatOpenAI(model=\"gpt-4o-mini\")\n",
    "llm_with_tools = llm.bind_tools(tools)\n",
    "\n",
    "def chatbot(state: State):\n",
    "    print(state)\n",
    "    return {\"messages\": [llm_with_tools.invoke(state[\"messages\"])]}\n",
    "\n",
    "# ステップ4\n",
    "graph_builder.add_node(\"chatbot\", chatbot)\n",
    "graph_builder.add_node(\"tools\", ToolNode(tools=tools))\n",
    "\n",
    "graph_builder.add_edge(START, \"chatbot\")\n",
    "graph_builder.add_conditional_edges( \"chatbot\", tools_condition, \"tools\")\n",
    "graph_builder.add_edge(\"tools\", \"chatbot\")\n",
    "\n",
    "# ステップ5\n",
    "graph = graph_builder.compile(checkpointer=memory) # ★ memoryに変更\n",
    "display(Image(graph.get_graph().draw_mermaid_png()))"
   ]
  },
  {
   "cell_type": "markdown",
   "metadata": {},
   "source": [
    "### Stateが履歴を保持していることを確認\n",
    "- hi there\n",
    "- my name's Ed\n",
    "- what's my name?\n",
    "\n",
    "※ UIを再起動しても、Stateの履歴がメモリストアに残っていることを確認できる（メモリストアはカーネルを再起動すると消える）。\n",
    "\n",
    "※ ただし、`{\"thread_id\": \"2\"}` に書き換えると、スロットが切り替わり記憶なしの状況から再開される。"
   ]
  },
  {
   "cell_type": "code",
   "execution_count": 16,
   "metadata": {},
   "outputs": [
    {
     "name": "stdout",
     "output_type": "stream",
     "text": [
      "* Running on local URL:  http://127.0.0.1:7863\n",
      "* To create a public link, set `share=True` in `launch()`.\n"
     ]
    },
    {
     "data": {
      "text/html": [
       "<div><iframe src=\"http://127.0.0.1:7863/\" width=\"100%\" height=\"500\" allow=\"autoplay; camera; microphone; clipboard-read; clipboard-write;\" frameborder=\"0\" allowfullscreen></iframe></div>"
      ],
      "text/plain": [
       "<IPython.core.display.HTML object>"
      ]
     },
     "metadata": {},
     "output_type": "display_data"
    },
    {
     "data": {
      "text/plain": []
     },
     "execution_count": 16,
     "metadata": {},
     "output_type": "execute_result"
    }
   ],
   "source": [
    "# LangChain の RunnableConfigで、会話のセッション（スレッド）を区別するIDを作成\n",
    "# StateGraphで、thread_id が違えば別の会話セッションとして履歴を分離できる\n",
    "config = {\"configurable\": {\"thread_id\": \"1\"}}\n",
    "\n",
    "def chat(user_input: str, history):\n",
    "    result = graph.invoke({\"messages\": [{\"role\": \"user\", \"content\": user_input}]}, config=config)\n",
    "    return result[\"messages\"][-1].content\n",
    "\n",
    "gr.ChatInterface(chat, type=\"messages\").launch()"
   ]
  },
  {
   "cell_type": "code",
   "execution_count": 19,
   "metadata": {},
   "outputs": [
    {
     "data": {
      "text/plain": [
       "StateSnapshot(values={'messages': [HumanMessage(content='hi there', additional_kwargs={}, response_metadata={}, id='598e712d-4270-40c5-bf76-077efb08ceea'), AIMessage(content='Hello! How can I assist you today?', additional_kwargs={'refusal': None}, response_metadata={'token_usage': {'completion_tokens': 10, 'prompt_tokens': 90, 'total_tokens': 100, 'completion_tokens_details': {'accepted_prediction_tokens': 0, 'audio_tokens': 0, 'reasoning_tokens': 0, 'rejected_prediction_tokens': 0}, 'prompt_tokens_details': {'audio_tokens': 0, 'cached_tokens': 0}}, 'model_name': 'gpt-4o-mini-2024-07-18', 'system_fingerprint': 'fp_8bda4d3a2c', 'id': 'chatcmpl-CChlgZWMisYuAUV2PmCRxP39k04fA', 'service_tier': 'default', 'finish_reason': 'stop', 'logprobs': None}, id='run--8a6d1d9c-bed5-4bff-9e8a-882a40cae025-0', usage_metadata={'input_tokens': 90, 'output_tokens': 10, 'total_tokens': 100, 'input_token_details': {'audio': 0, 'cache_read': 0}, 'output_token_details': {'audio': 0, 'reasoning': 0}}), HumanMessage(content=\"my name's Ed\", additional_kwargs={}, response_metadata={}, id='c1af26e1-1b9c-44c0-86d5-58d60ca4870f'), AIMessage(content='Nice to meet you, Ed! How can I help you today?', additional_kwargs={'refusal': None}, response_metadata={'token_usage': {'completion_tokens': 15, 'prompt_tokens': 111, 'total_tokens': 126, 'completion_tokens_details': {'accepted_prediction_tokens': 0, 'audio_tokens': 0, 'reasoning_tokens': 0, 'rejected_prediction_tokens': 0}, 'prompt_tokens_details': {'audio_tokens': 0, 'cached_tokens': 0}}, 'model_name': 'gpt-4o-mini-2024-07-18', 'system_fingerprint': 'fp_8bda4d3a2c', 'id': 'chatcmpl-CChljh32fA8ZgE13RBgLtzOBYeTdp', 'service_tier': 'default', 'finish_reason': 'stop', 'logprobs': None}, id='run--3a08be23-9d61-4a9b-b30e-b87411290745-0', usage_metadata={'input_tokens': 111, 'output_tokens': 15, 'total_tokens': 126, 'input_token_details': {'audio': 0, 'cache_read': 0}, 'output_token_details': {'audio': 0, 'reasoning': 0}}), HumanMessage(content=\"what's my name?\", additional_kwargs={}, response_metadata={}, id='a8d22094-8d70-4d41-b3c1-a1a1a6d45373'), AIMessage(content='Your name is Ed.', additional_kwargs={'refusal': None}, response_metadata={'token_usage': {'completion_tokens': 6, 'prompt_tokens': 138, 'total_tokens': 144, 'completion_tokens_details': {'accepted_prediction_tokens': 0, 'audio_tokens': 0, 'reasoning_tokens': 0, 'rejected_prediction_tokens': 0}, 'prompt_tokens_details': {'audio_tokens': 0, 'cached_tokens': 0}}, 'model_name': 'gpt-4o-mini-2024-07-18', 'system_fingerprint': 'fp_8bda4d3a2c', 'id': 'chatcmpl-CChlmlhwuoPoeZWzG1LFTYmdd5HGI', 'service_tier': 'default', 'finish_reason': 'stop', 'logprobs': None}, id='run--12c01f09-3dd6-433f-9818-46ece60a6c06-0', usage_metadata={'input_tokens': 138, 'output_tokens': 6, 'total_tokens': 144, 'input_token_details': {'audio': 0, 'cache_read': 0}, 'output_token_details': {'audio': 0, 'reasoning': 0}})]}, next=(), config={'configurable': {'thread_id': '1', 'checkpoint_ns': '', 'checkpoint_id': '1f08af44-76c0-6da7-8007-5909ed18b8d0'}}, metadata={'source': 'loop', 'writes': {'chatbot': {'messages': [AIMessage(content='Your name is Ed.', additional_kwargs={'refusal': None}, response_metadata={'token_usage': {'completion_tokens': 6, 'prompt_tokens': 138, 'total_tokens': 144, 'completion_tokens_details': {'accepted_prediction_tokens': 0, 'audio_tokens': 0, 'reasoning_tokens': 0, 'rejected_prediction_tokens': 0}, 'prompt_tokens_details': {'audio_tokens': 0, 'cached_tokens': 0}}, 'model_name': 'gpt-4o-mini-2024-07-18', 'system_fingerprint': 'fp_8bda4d3a2c', 'id': 'chatcmpl-CChlmlhwuoPoeZWzG1LFTYmdd5HGI', 'service_tier': 'default', 'finish_reason': 'stop', 'logprobs': None}, id='run--12c01f09-3dd6-433f-9818-46ece60a6c06-0', usage_metadata={'input_tokens': 138, 'output_tokens': 6, 'total_tokens': 144, 'input_token_details': {'audio': 0, 'cache_read': 0}, 'output_token_details': {'audio': 0, 'reasoning': 0}})]}}, 'step': 7, 'parents': {}, 'thread_id': '1'}, created_at='2025-09-06T07:37:02.340217+00:00', parent_config={'configurable': {'thread_id': '1', 'checkpoint_ns': '', 'checkpoint_id': '1f08af44-707f-65b8-8006-1bda774d7fbd'}}, tasks=(), interrupts=())"
      ]
     },
     "execution_count": 19,
     "metadata": {},
     "output_type": "execute_result"
    }
   ],
   "source": [
    "graph.get_state(config)\n",
    "\n",
    "# 最初の状態（thread_id=1 における 0ステップ目の会話状態）\n",
    "# StateSnapshot(values={}, next=(), config={'configurable': {'thread_id': '1'}}, metadata=None, created_at=None, parent_config=None, tasks=(), interrupts=())\n",
    "\n",
    "# 最後の状態（thread_id=1 における 7ステップ目の会話状態）\n",
    "# StateSnapshot(\n",
    "#   values={'messages': [ # 対話ログが格納されている。\n",
    "#     HumanMessage(content='hi there', additional_kwargs={}, response_metadata={}, id='cd019904-1e60-4b9e-8303-c4cb08d7b42c'),\n",
    "#     AIMessage(content='Hello! How can I assist you today?', additional_kwargs={'refusal': None}, response_metadata={'token_usage': {'completion_tokens': 10, 'prompt_tokens': 90, 'total_tokens': 100, 'completion_tokens_details': {'accepted_prediction_tokens': 0, 'audio_tokens': 0, 'reasoning_tokens': 0, 'rejected_prediction_tokens': 0}, 'prompt_tokens_details': {'audio_tokens': 0, 'cached_tokens': 0}}, 'model_name': 'gpt-4o-mini-2024-07-18', 'system_fingerprint': 'fp_8bda4d3a2c', 'id': 'chatcmpl-CChUFLidR0nZajyb8hDYsOPiooEZM', 'service_tier': 'default', 'finish_reason': 'stop', 'logprobs': None}, id='run--790b77d1-af86-4247-b571-1deeb259cf99-0', usage_metadata={'input_tokens': 90, 'output_tokens': 10, 'total_tokens': 100, 'input_token_details': {'audio': 0, 'cache_read': 0}, 'output_token_details': {'audio': 0, 'reasoning': 0}}),\n",
    "#     HumanMessage(content=\"my name's Ed\", additional_kwargs={}, response_metadata={}, id='0b83eda2-f50a-4ddf-9e03-1087d3fa9dd2'),\n",
    "#     AIMessage(content='Nice to meet you, Ed! What can I help you with today?', additional_kwargs={'refusal': None}, response_metadata={'token_usage': {'completion_tokens': 16, 'prompt_tokens': 111, 'total_tokens': 127, 'completion_tokens_details': {'accepted_prediction_tokens': 0, 'audio_tokens': 0, 'reasoning_tokens': 0, 'rejected_prediction_tokens': 0}, 'prompt_tokens_details': {'audio_tokens': 0, 'cached_tokens': 0}}, 'model_name': 'gpt-4o-mini-2024-07-18', 'system_fingerprint': 'fp_8bda4d3a2c', 'id': 'chatcmpl-CChUItcBdT8KLzPDEKMH2U4uCbrgV', 'service_tier': 'default', 'finish_reason': 'stop', 'logprobs': None}, id='run--99c79875-2918-453a-b3f6-d10f241336ff-0', usage_metadata={'input_tokens': 111, 'output_tokens': 16, 'total_tokens': 127, 'input_token_details': {'audio': 0, 'cache_read': 0}, 'output_token_details': {'audio': 0, 'reasoning': 0}}),\n",
    "#     HumanMessage(content=\"what's my name?\", additional_kwargs={}, response_metadata={}, id='c25367ed-d309-4fcb-be67-65cad2b69ca1'),\n",
    "#     AIMessage(content='Your name is Ed.', additional_kwargs={'refusal': None}, response_metadata={'token_usage': {'completion_tokens': 6, 'prompt_tokens': 139, 'total_tokens': 145, 'completion_tokens_details': {'accepted_prediction_tokens': 0, 'audio_tokens': 0, 'reasoning_tokens': 0, 'rejected_prediction_tokens': 0}, 'prompt_tokens_details': {'audio_tokens': 0, 'cached_tokens': 0}}, 'model_name': 'gpt-4o-mini-2024-07-18', 'system_fingerprint': 'fp_8bda4d3a2c', 'id': 'chatcmpl-CChUKb4hNh9JLFOiWGMSRSaucvCAU', 'service_tier': 'default', 'finish_reason': 'stop', 'logprobs': None}, id='run--87b1a333-328c-4bb9-9b4b-110bb3357a0b-0', usage_metadata={'input_tokens': 139, 'output_tokens': 6, 'total_tokens': 145, 'input_token_details': {'audio': 0, 'cache_read': 0}, 'output_token_details': {'audio': 0, 'reasoning': 0}})]},\n",
    "#   next=(), # 次に実行すべきノードが空 → 現時点ではワークフローが終了状態。\n",
    "#   config={'configurable': {'thread_id': '1', 'checkpoint_ns': '', 'checkpoint_id': '1f08af1c-2da7-6956-8007-bff50d3f8158'}},\n",
    "#   metadata={'source': 'loop', 'writes': {'chatbot': {'messages': [AIMessage(content='Your name is Ed.', additional_kwargs={'refusal': None}, response_metadata={'token_usage': {'completion_tokens': 6, 'prompt_tokens': 139, 'total_tokens': 145, 'completion_tokens_details': {'accepted_prediction_tokens': 0, 'audio_tokens': 0, 'reasoning_tokens': 0, 'rejected_prediction_tokens': 0}, 'prompt_tokens_details': {'audio_tokens': 0, 'cached_tokens': 0}}, 'model_name': 'gpt-4o-mini-2024-07-18', 'system_fingerprint': 'fp_8bda4d3a2c', 'id': 'chatcmpl-CChUKb4hNh9JLFOiWGMSRSaucvCAU', 'service_tier': 'default', 'finish_reason': 'stop', 'logprobs': None}, id='run--87b1a333-328c-4bb9-9b4b-110bb3357a0b-0', usage_metadata={'input_tokens': 139, 'output_tokens': 6, 'total_tokens': 145, 'input_token_details': {'audio': 0, 'cache_read': 0}, 'output_token_details': {'audio': 0, 'reasoning': 0}})]}}, 'step': 7, 'parents': {}, 'thread_id': '1'}, created_at='2025-09-06T07:19:00.933414+00:00', parent_config={'configurable': {'thread_id': '1', 'checkpoint_ns': '', 'checkpoint_id': '1f08af1c-274c-6952-8006-2d626f43a25f'}},\n",
    "#   tasks=(), interrupts=()) # このステップで保留中のタスクや割り込みはなし。"
   ]
  },
  {
   "cell_type": "code",
   "execution_count": 20,
   "metadata": {},
   "outputs": [
    {
     "data": {
      "text/plain": [
       "[StateSnapshot(values={'messages': [HumanMessage(content='hi there', additional_kwargs={}, response_metadata={}, id='598e712d-4270-40c5-bf76-077efb08ceea'), AIMessage(content='Hello! How can I assist you today?', additional_kwargs={'refusal': None}, response_metadata={'token_usage': {'completion_tokens': 10, 'prompt_tokens': 90, 'total_tokens': 100, 'completion_tokens_details': {'accepted_prediction_tokens': 0, 'audio_tokens': 0, 'reasoning_tokens': 0, 'rejected_prediction_tokens': 0}, 'prompt_tokens_details': {'audio_tokens': 0, 'cached_tokens': 0}}, 'model_name': 'gpt-4o-mini-2024-07-18', 'system_fingerprint': 'fp_8bda4d3a2c', 'id': 'chatcmpl-CChlgZWMisYuAUV2PmCRxP39k04fA', 'service_tier': 'default', 'finish_reason': 'stop', 'logprobs': None}, id='run--8a6d1d9c-bed5-4bff-9e8a-882a40cae025-0', usage_metadata={'input_tokens': 90, 'output_tokens': 10, 'total_tokens': 100, 'input_token_details': {'audio': 0, 'cache_read': 0}, 'output_token_details': {'audio': 0, 'reasoning': 0}}), HumanMessage(content=\"my name's Ed\", additional_kwargs={}, response_metadata={}, id='c1af26e1-1b9c-44c0-86d5-58d60ca4870f'), AIMessage(content='Nice to meet you, Ed! How can I help you today?', additional_kwargs={'refusal': None}, response_metadata={'token_usage': {'completion_tokens': 15, 'prompt_tokens': 111, 'total_tokens': 126, 'completion_tokens_details': {'accepted_prediction_tokens': 0, 'audio_tokens': 0, 'reasoning_tokens': 0, 'rejected_prediction_tokens': 0}, 'prompt_tokens_details': {'audio_tokens': 0, 'cached_tokens': 0}}, 'model_name': 'gpt-4o-mini-2024-07-18', 'system_fingerprint': 'fp_8bda4d3a2c', 'id': 'chatcmpl-CChljh32fA8ZgE13RBgLtzOBYeTdp', 'service_tier': 'default', 'finish_reason': 'stop', 'logprobs': None}, id='run--3a08be23-9d61-4a9b-b30e-b87411290745-0', usage_metadata={'input_tokens': 111, 'output_tokens': 15, 'total_tokens': 126, 'input_token_details': {'audio': 0, 'cache_read': 0}, 'output_token_details': {'audio': 0, 'reasoning': 0}}), HumanMessage(content=\"what's my name?\", additional_kwargs={}, response_metadata={}, id='a8d22094-8d70-4d41-b3c1-a1a1a6d45373'), AIMessage(content='Your name is Ed.', additional_kwargs={'refusal': None}, response_metadata={'token_usage': {'completion_tokens': 6, 'prompt_tokens': 138, 'total_tokens': 144, 'completion_tokens_details': {'accepted_prediction_tokens': 0, 'audio_tokens': 0, 'reasoning_tokens': 0, 'rejected_prediction_tokens': 0}, 'prompt_tokens_details': {'audio_tokens': 0, 'cached_tokens': 0}}, 'model_name': 'gpt-4o-mini-2024-07-18', 'system_fingerprint': 'fp_8bda4d3a2c', 'id': 'chatcmpl-CChlmlhwuoPoeZWzG1LFTYmdd5HGI', 'service_tier': 'default', 'finish_reason': 'stop', 'logprobs': None}, id='run--12c01f09-3dd6-433f-9818-46ece60a6c06-0', usage_metadata={'input_tokens': 138, 'output_tokens': 6, 'total_tokens': 144, 'input_token_details': {'audio': 0, 'cache_read': 0}, 'output_token_details': {'audio': 0, 'reasoning': 0}})]}, next=(), config={'configurable': {'thread_id': '1', 'checkpoint_ns': '', 'checkpoint_id': '1f08af44-76c0-6da7-8007-5909ed18b8d0'}}, metadata={'source': 'loop', 'writes': {'chatbot': {'messages': [AIMessage(content='Your name is Ed.', additional_kwargs={'refusal': None}, response_metadata={'token_usage': {'completion_tokens': 6, 'prompt_tokens': 138, 'total_tokens': 144, 'completion_tokens_details': {'accepted_prediction_tokens': 0, 'audio_tokens': 0, 'reasoning_tokens': 0, 'rejected_prediction_tokens': 0}, 'prompt_tokens_details': {'audio_tokens': 0, 'cached_tokens': 0}}, 'model_name': 'gpt-4o-mini-2024-07-18', 'system_fingerprint': 'fp_8bda4d3a2c', 'id': 'chatcmpl-CChlmlhwuoPoeZWzG1LFTYmdd5HGI', 'service_tier': 'default', 'finish_reason': 'stop', 'logprobs': None}, id='run--12c01f09-3dd6-433f-9818-46ece60a6c06-0', usage_metadata={'input_tokens': 138, 'output_tokens': 6, 'total_tokens': 144, 'input_token_details': {'audio': 0, 'cache_read': 0}, 'output_token_details': {'audio': 0, 'reasoning': 0}})]}}, 'step': 7, 'parents': {}, 'thread_id': '1'}, created_at='2025-09-06T07:37:02.340217+00:00', parent_config={'configurable': {'thread_id': '1', 'checkpoint_ns': '', 'checkpoint_id': '1f08af44-707f-65b8-8006-1bda774d7fbd'}}, tasks=(), interrupts=()),\n",
       " StateSnapshot(values={'messages': [HumanMessage(content='hi there', additional_kwargs={}, response_metadata={}, id='598e712d-4270-40c5-bf76-077efb08ceea'), AIMessage(content='Hello! How can I assist you today?', additional_kwargs={'refusal': None}, response_metadata={'token_usage': {'completion_tokens': 10, 'prompt_tokens': 90, 'total_tokens': 100, 'completion_tokens_details': {'accepted_prediction_tokens': 0, 'audio_tokens': 0, 'reasoning_tokens': 0, 'rejected_prediction_tokens': 0}, 'prompt_tokens_details': {'audio_tokens': 0, 'cached_tokens': 0}}, 'model_name': 'gpt-4o-mini-2024-07-18', 'system_fingerprint': 'fp_8bda4d3a2c', 'id': 'chatcmpl-CChlgZWMisYuAUV2PmCRxP39k04fA', 'service_tier': 'default', 'finish_reason': 'stop', 'logprobs': None}, id='run--8a6d1d9c-bed5-4bff-9e8a-882a40cae025-0', usage_metadata={'input_tokens': 90, 'output_tokens': 10, 'total_tokens': 100, 'input_token_details': {'audio': 0, 'cache_read': 0}, 'output_token_details': {'audio': 0, 'reasoning': 0}}), HumanMessage(content=\"my name's Ed\", additional_kwargs={}, response_metadata={}, id='c1af26e1-1b9c-44c0-86d5-58d60ca4870f'), AIMessage(content='Nice to meet you, Ed! How can I help you today?', additional_kwargs={'refusal': None}, response_metadata={'token_usage': {'completion_tokens': 15, 'prompt_tokens': 111, 'total_tokens': 126, 'completion_tokens_details': {'accepted_prediction_tokens': 0, 'audio_tokens': 0, 'reasoning_tokens': 0, 'rejected_prediction_tokens': 0}, 'prompt_tokens_details': {'audio_tokens': 0, 'cached_tokens': 0}}, 'model_name': 'gpt-4o-mini-2024-07-18', 'system_fingerprint': 'fp_8bda4d3a2c', 'id': 'chatcmpl-CChljh32fA8ZgE13RBgLtzOBYeTdp', 'service_tier': 'default', 'finish_reason': 'stop', 'logprobs': None}, id='run--3a08be23-9d61-4a9b-b30e-b87411290745-0', usage_metadata={'input_tokens': 111, 'output_tokens': 15, 'total_tokens': 126, 'input_token_details': {'audio': 0, 'cache_read': 0}, 'output_token_details': {'audio': 0, 'reasoning': 0}}), HumanMessage(content=\"what's my name?\", additional_kwargs={}, response_metadata={}, id='a8d22094-8d70-4d41-b3c1-a1a1a6d45373')]}, next=('chatbot',), config={'configurable': {'thread_id': '1', 'checkpoint_ns': '', 'checkpoint_id': '1f08af44-707f-65b8-8006-1bda774d7fbd'}}, metadata={'source': 'loop', 'writes': None, 'step': 6, 'parents': {}, 'thread_id': '1'}, created_at='2025-09-06T07:37:01.684238+00:00', parent_config={'configurable': {'thread_id': '1', 'checkpoint_ns': '', 'checkpoint_id': '1f08af44-707c-604c-8005-9268050cab0d'}}, tasks=(PregelTask(id='bc9c6248-4f91-ca7d-8c60-534562df242e', name='chatbot', path=('__pregel_pull', 'chatbot'), error=None, interrupts=(), state=None, result={'messages': [AIMessage(content='Your name is Ed.', additional_kwargs={'refusal': None}, response_metadata={'token_usage': {'completion_tokens': 6, 'prompt_tokens': 138, 'total_tokens': 144, 'completion_tokens_details': {'accepted_prediction_tokens': 0, 'audio_tokens': 0, 'reasoning_tokens': 0, 'rejected_prediction_tokens': 0}, 'prompt_tokens_details': {'audio_tokens': 0, 'cached_tokens': 0}}, 'model_name': 'gpt-4o-mini-2024-07-18', 'system_fingerprint': 'fp_8bda4d3a2c', 'id': 'chatcmpl-CChlmlhwuoPoeZWzG1LFTYmdd5HGI', 'service_tier': 'default', 'finish_reason': 'stop', 'logprobs': None}, id='run--12c01f09-3dd6-433f-9818-46ece60a6c06-0', usage_metadata={'input_tokens': 138, 'output_tokens': 6, 'total_tokens': 144, 'input_token_details': {'audio': 0, 'cache_read': 0}, 'output_token_details': {'audio': 0, 'reasoning': 0}})]}),), interrupts=()),\n",
       " StateSnapshot(values={'messages': [HumanMessage(content='hi there', additional_kwargs={}, response_metadata={}, id='598e712d-4270-40c5-bf76-077efb08ceea'), AIMessage(content='Hello! How can I assist you today?', additional_kwargs={'refusal': None}, response_metadata={'token_usage': {'completion_tokens': 10, 'prompt_tokens': 90, 'total_tokens': 100, 'completion_tokens_details': {'accepted_prediction_tokens': 0, 'audio_tokens': 0, 'reasoning_tokens': 0, 'rejected_prediction_tokens': 0}, 'prompt_tokens_details': {'audio_tokens': 0, 'cached_tokens': 0}}, 'model_name': 'gpt-4o-mini-2024-07-18', 'system_fingerprint': 'fp_8bda4d3a2c', 'id': 'chatcmpl-CChlgZWMisYuAUV2PmCRxP39k04fA', 'service_tier': 'default', 'finish_reason': 'stop', 'logprobs': None}, id='run--8a6d1d9c-bed5-4bff-9e8a-882a40cae025-0', usage_metadata={'input_tokens': 90, 'output_tokens': 10, 'total_tokens': 100, 'input_token_details': {'audio': 0, 'cache_read': 0}, 'output_token_details': {'audio': 0, 'reasoning': 0}}), HumanMessage(content=\"my name's Ed\", additional_kwargs={}, response_metadata={}, id='c1af26e1-1b9c-44c0-86d5-58d60ca4870f'), AIMessage(content='Nice to meet you, Ed! How can I help you today?', additional_kwargs={'refusal': None}, response_metadata={'token_usage': {'completion_tokens': 15, 'prompt_tokens': 111, 'total_tokens': 126, 'completion_tokens_details': {'accepted_prediction_tokens': 0, 'audio_tokens': 0, 'reasoning_tokens': 0, 'rejected_prediction_tokens': 0}, 'prompt_tokens_details': {'audio_tokens': 0, 'cached_tokens': 0}}, 'model_name': 'gpt-4o-mini-2024-07-18', 'system_fingerprint': 'fp_8bda4d3a2c', 'id': 'chatcmpl-CChljh32fA8ZgE13RBgLtzOBYeTdp', 'service_tier': 'default', 'finish_reason': 'stop', 'logprobs': None}, id='run--3a08be23-9d61-4a9b-b30e-b87411290745-0', usage_metadata={'input_tokens': 111, 'output_tokens': 15, 'total_tokens': 126, 'input_token_details': {'audio': 0, 'cache_read': 0}, 'output_token_details': {'audio': 0, 'reasoning': 0}})]}, next=('__start__',), config={'configurable': {'thread_id': '1', 'checkpoint_ns': '', 'checkpoint_id': '1f08af44-707c-604c-8005-9268050cab0d'}}, metadata={'source': 'input', 'writes': {'__start__': {'messages': [{'role': 'user', 'content': \"what's my name?\"}]}}, 'step': 5, 'parents': {}, 'thread_id': '1'}, created_at='2025-09-06T07:37:01.682874+00:00', parent_config={'configurable': {'thread_id': '1', 'checkpoint_ns': '', 'checkpoint_id': '1f08af44-64d6-61f7-8004-c1ddf6846978'}}, tasks=(PregelTask(id='81e6ab70-9c8f-4136-bcaa-1549e887eae2', name='__start__', path=('__pregel_pull', '__start__'), error=None, interrupts=(), state=None, result={'messages': [{'role': 'user', 'content': \"what's my name?\"}]}),), interrupts=()),\n",
       " StateSnapshot(values={'messages': [HumanMessage(content='hi there', additional_kwargs={}, response_metadata={}, id='598e712d-4270-40c5-bf76-077efb08ceea'), AIMessage(content='Hello! How can I assist you today?', additional_kwargs={'refusal': None}, response_metadata={'token_usage': {'completion_tokens': 10, 'prompt_tokens': 90, 'total_tokens': 100, 'completion_tokens_details': {'accepted_prediction_tokens': 0, 'audio_tokens': 0, 'reasoning_tokens': 0, 'rejected_prediction_tokens': 0}, 'prompt_tokens_details': {'audio_tokens': 0, 'cached_tokens': 0}}, 'model_name': 'gpt-4o-mini-2024-07-18', 'system_fingerprint': 'fp_8bda4d3a2c', 'id': 'chatcmpl-CChlgZWMisYuAUV2PmCRxP39k04fA', 'service_tier': 'default', 'finish_reason': 'stop', 'logprobs': None}, id='run--8a6d1d9c-bed5-4bff-9e8a-882a40cae025-0', usage_metadata={'input_tokens': 90, 'output_tokens': 10, 'total_tokens': 100, 'input_token_details': {'audio': 0, 'cache_read': 0}, 'output_token_details': {'audio': 0, 'reasoning': 0}}), HumanMessage(content=\"my name's Ed\", additional_kwargs={}, response_metadata={}, id='c1af26e1-1b9c-44c0-86d5-58d60ca4870f'), AIMessage(content='Nice to meet you, Ed! How can I help you today?', additional_kwargs={'refusal': None}, response_metadata={'token_usage': {'completion_tokens': 15, 'prompt_tokens': 111, 'total_tokens': 126, 'completion_tokens_details': {'accepted_prediction_tokens': 0, 'audio_tokens': 0, 'reasoning_tokens': 0, 'rejected_prediction_tokens': 0}, 'prompt_tokens_details': {'audio_tokens': 0, 'cached_tokens': 0}}, 'model_name': 'gpt-4o-mini-2024-07-18', 'system_fingerprint': 'fp_8bda4d3a2c', 'id': 'chatcmpl-CChljh32fA8ZgE13RBgLtzOBYeTdp', 'service_tier': 'default', 'finish_reason': 'stop', 'logprobs': None}, id='run--3a08be23-9d61-4a9b-b30e-b87411290745-0', usage_metadata={'input_tokens': 111, 'output_tokens': 15, 'total_tokens': 126, 'input_token_details': {'audio': 0, 'cache_read': 0}, 'output_token_details': {'audio': 0, 'reasoning': 0}})]}, next=(), config={'configurable': {'thread_id': '1', 'checkpoint_ns': '', 'checkpoint_id': '1f08af44-64d6-61f7-8004-c1ddf6846978'}}, metadata={'source': 'loop', 'writes': {'chatbot': {'messages': [AIMessage(content='Nice to meet you, Ed! How can I help you today?', additional_kwargs={'refusal': None}, response_metadata={'token_usage': {'completion_tokens': 15, 'prompt_tokens': 111, 'total_tokens': 126, 'completion_tokens_details': {'accepted_prediction_tokens': 0, 'audio_tokens': 0, 'reasoning_tokens': 0, 'rejected_prediction_tokens': 0}, 'prompt_tokens_details': {'audio_tokens': 0, 'cached_tokens': 0}}, 'model_name': 'gpt-4o-mini-2024-07-18', 'system_fingerprint': 'fp_8bda4d3a2c', 'id': 'chatcmpl-CChljh32fA8ZgE13RBgLtzOBYeTdp', 'service_tier': 'default', 'finish_reason': 'stop', 'logprobs': None}, id='run--3a08be23-9d61-4a9b-b30e-b87411290745-0', usage_metadata={'input_tokens': 111, 'output_tokens': 15, 'total_tokens': 126, 'input_token_details': {'audio': 0, 'cache_read': 0}, 'output_token_details': {'audio': 0, 'reasoning': 0}})]}}, 'step': 4, 'parents': {}, 'thread_id': '1'}, created_at='2025-09-06T07:37:00.461504+00:00', parent_config={'configurable': {'thread_id': '1', 'checkpoint_ns': '', 'checkpoint_id': '1f08af44-57ad-61dd-8003-01af2151555c'}}, tasks=(), interrupts=()),\n",
       " StateSnapshot(values={'messages': [HumanMessage(content='hi there', additional_kwargs={}, response_metadata={}, id='598e712d-4270-40c5-bf76-077efb08ceea'), AIMessage(content='Hello! How can I assist you today?', additional_kwargs={'refusal': None}, response_metadata={'token_usage': {'completion_tokens': 10, 'prompt_tokens': 90, 'total_tokens': 100, 'completion_tokens_details': {'accepted_prediction_tokens': 0, 'audio_tokens': 0, 'reasoning_tokens': 0, 'rejected_prediction_tokens': 0}, 'prompt_tokens_details': {'audio_tokens': 0, 'cached_tokens': 0}}, 'model_name': 'gpt-4o-mini-2024-07-18', 'system_fingerprint': 'fp_8bda4d3a2c', 'id': 'chatcmpl-CChlgZWMisYuAUV2PmCRxP39k04fA', 'service_tier': 'default', 'finish_reason': 'stop', 'logprobs': None}, id='run--8a6d1d9c-bed5-4bff-9e8a-882a40cae025-0', usage_metadata={'input_tokens': 90, 'output_tokens': 10, 'total_tokens': 100, 'input_token_details': {'audio': 0, 'cache_read': 0}, 'output_token_details': {'audio': 0, 'reasoning': 0}}), HumanMessage(content=\"my name's Ed\", additional_kwargs={}, response_metadata={}, id='c1af26e1-1b9c-44c0-86d5-58d60ca4870f')]}, next=('chatbot',), config={'configurable': {'thread_id': '1', 'checkpoint_ns': '', 'checkpoint_id': '1f08af44-57ad-61dd-8003-01af2151555c'}}, metadata={'source': 'loop', 'writes': None, 'step': 3, 'parents': {}, 'thread_id': '1'}, created_at='2025-09-06T07:36:59.081548+00:00', parent_config={'configurable': {'thread_id': '1', 'checkpoint_ns': '', 'checkpoint_id': '1f08af44-57aa-6597-8002-680de4166111'}}, tasks=(PregelTask(id='e93d010b-30fe-cd87-d3b6-9b14ec571a03', name='chatbot', path=('__pregel_pull', 'chatbot'), error=None, interrupts=(), state=None, result={'messages': [AIMessage(content='Nice to meet you, Ed! How can I help you today?', additional_kwargs={'refusal': None}, response_metadata={'token_usage': {'completion_tokens': 15, 'prompt_tokens': 111, 'total_tokens': 126, 'completion_tokens_details': {'accepted_prediction_tokens': 0, 'audio_tokens': 0, 'reasoning_tokens': 0, 'rejected_prediction_tokens': 0}, 'prompt_tokens_details': {'audio_tokens': 0, 'cached_tokens': 0}}, 'model_name': 'gpt-4o-mini-2024-07-18', 'system_fingerprint': 'fp_8bda4d3a2c', 'id': 'chatcmpl-CChljh32fA8ZgE13RBgLtzOBYeTdp', 'service_tier': 'default', 'finish_reason': 'stop', 'logprobs': None}, id='run--3a08be23-9d61-4a9b-b30e-b87411290745-0', usage_metadata={'input_tokens': 111, 'output_tokens': 15, 'total_tokens': 126, 'input_token_details': {'audio': 0, 'cache_read': 0}, 'output_token_details': {'audio': 0, 'reasoning': 0}})]}),), interrupts=()),\n",
       " StateSnapshot(values={'messages': [HumanMessage(content='hi there', additional_kwargs={}, response_metadata={}, id='598e712d-4270-40c5-bf76-077efb08ceea'), AIMessage(content='Hello! How can I assist you today?', additional_kwargs={'refusal': None}, response_metadata={'token_usage': {'completion_tokens': 10, 'prompt_tokens': 90, 'total_tokens': 100, 'completion_tokens_details': {'accepted_prediction_tokens': 0, 'audio_tokens': 0, 'reasoning_tokens': 0, 'rejected_prediction_tokens': 0}, 'prompt_tokens_details': {'audio_tokens': 0, 'cached_tokens': 0}}, 'model_name': 'gpt-4o-mini-2024-07-18', 'system_fingerprint': 'fp_8bda4d3a2c', 'id': 'chatcmpl-CChlgZWMisYuAUV2PmCRxP39k04fA', 'service_tier': 'default', 'finish_reason': 'stop', 'logprobs': None}, id='run--8a6d1d9c-bed5-4bff-9e8a-882a40cae025-0', usage_metadata={'input_tokens': 90, 'output_tokens': 10, 'total_tokens': 100, 'input_token_details': {'audio': 0, 'cache_read': 0}, 'output_token_details': {'audio': 0, 'reasoning': 0}})]}, next=('__start__',), config={'configurable': {'thread_id': '1', 'checkpoint_ns': '', 'checkpoint_id': '1f08af44-57aa-6597-8002-680de4166111'}}, metadata={'source': 'input', 'writes': {'__start__': {'messages': [{'role': 'user', 'content': \"my name's Ed\"}]}}, 'step': 2, 'parents': {}, 'thread_id': '1'}, created_at='2025-09-06T07:36:59.080401+00:00', parent_config={'configurable': {'thread_id': '1', 'checkpoint_ns': '', 'checkpoint_id': '1f08af44-4244-6c60-8001-0c950a44101e'}}, tasks=(PregelTask(id='2852af24-4a24-15e3-e10e-d3b6b7f0818e', name='__start__', path=('__pregel_pull', '__start__'), error=None, interrupts=(), state=None, result={'messages': [{'role': 'user', 'content': \"my name's Ed\"}]}),), interrupts=()),\n",
       " StateSnapshot(values={'messages': [HumanMessage(content='hi there', additional_kwargs={}, response_metadata={}, id='598e712d-4270-40c5-bf76-077efb08ceea'), AIMessage(content='Hello! How can I assist you today?', additional_kwargs={'refusal': None}, response_metadata={'token_usage': {'completion_tokens': 10, 'prompt_tokens': 90, 'total_tokens': 100, 'completion_tokens_details': {'accepted_prediction_tokens': 0, 'audio_tokens': 0, 'reasoning_tokens': 0, 'rejected_prediction_tokens': 0}, 'prompt_tokens_details': {'audio_tokens': 0, 'cached_tokens': 0}}, 'model_name': 'gpt-4o-mini-2024-07-18', 'system_fingerprint': 'fp_8bda4d3a2c', 'id': 'chatcmpl-CChlgZWMisYuAUV2PmCRxP39k04fA', 'service_tier': 'default', 'finish_reason': 'stop', 'logprobs': None}, id='run--8a6d1d9c-bed5-4bff-9e8a-882a40cae025-0', usage_metadata={'input_tokens': 90, 'output_tokens': 10, 'total_tokens': 100, 'input_token_details': {'audio': 0, 'cache_read': 0}, 'output_token_details': {'audio': 0, 'reasoning': 0}})]}, next=(), config={'configurable': {'thread_id': '1', 'checkpoint_ns': '', 'checkpoint_id': '1f08af44-4244-6c60-8001-0c950a44101e'}}, metadata={'source': 'loop', 'writes': {'chatbot': {'messages': [AIMessage(content='Hello! How can I assist you today?', additional_kwargs={'refusal': None}, response_metadata={'token_usage': {'completion_tokens': 10, 'prompt_tokens': 90, 'total_tokens': 100, 'completion_tokens_details': {'accepted_prediction_tokens': 0, 'audio_tokens': 0, 'reasoning_tokens': 0, 'rejected_prediction_tokens': 0}, 'prompt_tokens_details': {'audio_tokens': 0, 'cached_tokens': 0}}, 'model_name': 'gpt-4o-mini-2024-07-18', 'system_fingerprint': 'fp_8bda4d3a2c', 'id': 'chatcmpl-CChlgZWMisYuAUV2PmCRxP39k04fA', 'service_tier': 'default', 'finish_reason': 'stop', 'logprobs': None}, id='run--8a6d1d9c-bed5-4bff-9e8a-882a40cae025-0', usage_metadata={'input_tokens': 90, 'output_tokens': 10, 'total_tokens': 100, 'input_token_details': {'audio': 0, 'cache_read': 0}, 'output_token_details': {'audio': 0, 'reasoning': 0}})]}}, 'step': 1, 'parents': {}, 'thread_id': '1'}, created_at='2025-09-06T07:36:56.836806+00:00', parent_config={'configurable': {'thread_id': '1', 'checkpoint_ns': '', 'checkpoint_id': '1f08af44-3a94-65a1-8000-d73274d870b1'}}, tasks=(), interrupts=()),\n",
       " StateSnapshot(values={'messages': [HumanMessage(content='hi there', additional_kwargs={}, response_metadata={}, id='598e712d-4270-40c5-bf76-077efb08ceea')]}, next=('chatbot',), config={'configurable': {'thread_id': '1', 'checkpoint_ns': '', 'checkpoint_id': '1f08af44-3a94-65a1-8000-d73274d870b1'}}, metadata={'source': 'loop', 'writes': None, 'step': 0, 'parents': {}, 'thread_id': '1'}, created_at='2025-09-06T07:36:56.030534+00:00', parent_config={'configurable': {'thread_id': '1', 'checkpoint_ns': '', 'checkpoint_id': '1f08af44-3a90-621f-bfff-06f8382cb44e'}}, tasks=(PregelTask(id='6f9514de-ec85-e0fd-c7f1-0009997f640a', name='chatbot', path=('__pregel_pull', 'chatbot'), error=None, interrupts=(), state=None, result={'messages': [AIMessage(content='Hello! How can I assist you today?', additional_kwargs={'refusal': None}, response_metadata={'token_usage': {'completion_tokens': 10, 'prompt_tokens': 90, 'total_tokens': 100, 'completion_tokens_details': {'accepted_prediction_tokens': 0, 'audio_tokens': 0, 'reasoning_tokens': 0, 'rejected_prediction_tokens': 0}, 'prompt_tokens_details': {'audio_tokens': 0, 'cached_tokens': 0}}, 'model_name': 'gpt-4o-mini-2024-07-18', 'system_fingerprint': 'fp_8bda4d3a2c', 'id': 'chatcmpl-CChlgZWMisYuAUV2PmCRxP39k04fA', 'service_tier': 'default', 'finish_reason': 'stop', 'logprobs': None}, id='run--8a6d1d9c-bed5-4bff-9e8a-882a40cae025-0', usage_metadata={'input_tokens': 90, 'output_tokens': 10, 'total_tokens': 100, 'input_token_details': {'audio': 0, 'cache_read': 0}, 'output_token_details': {'audio': 0, 'reasoning': 0}})]}),), interrupts=()),\n",
       " StateSnapshot(values={'messages': []}, next=('__start__',), config={'configurable': {'thread_id': '1', 'checkpoint_ns': '', 'checkpoint_id': '1f08af44-3a90-621f-bfff-06f8382cb44e'}}, metadata={'source': 'input', 'writes': {'__start__': {'messages': [{'role': 'user', 'content': 'hi there'}]}}, 'step': -1, 'parents': {}, 'thread_id': '1'}, created_at='2025-09-06T07:36:56.028809+00:00', parent_config=None, tasks=(PregelTask(id='e3bc467d-87dd-1965-1d83-223ad451a7f2', name='__start__', path=('__pregel_pull', '__start__'), error=None, interrupts=(), state=None, result={'messages': [{'role': 'user', 'content': 'hi there'}]}),), interrupts=())]"
      ]
     },
     "execution_count": 20,
     "metadata": {},
     "output_type": "execute_result"
    }
   ],
   "source": [
    "# State履歴は、StateSnapshotのスタック\n",
    "list(graph.get_state_history(config))\n",
    "\n",
    "# 最初の状態\n",
    "# []\n",
    "\n",
    "# 最後の状態\n",
    "# StateSnapshot( ...step': 7...\n",
    "#  StateSnapshot( ...step': 6...\n",
    "#  StateSnapshot( ...step': 5...\n",
    "#  StateSnapshot( ...step': 4...\n",
    "#  StateSnapshot( ...step': 3...\n",
    "#  StateSnapshot( ...step': 2...\n",
    "#  StateSnapshot( ...step': 1...\n",
    "#  StateSnapshot( ...step': 0...\n",
    "#  StateSnapshot( ...step': -1..."
   ]
  },
  {
   "cell_type": "markdown",
   "metadata": {},
   "source": [
    "### LangGraphは、Stateを以前の時点に戻し、分岐するためのツールを提供\n",
    "\n",
    "```python\n",
    "# thread_idのcheckpoint_idを指定することで、以前の時点に戻れる。\n",
    "config = {\"configurable\": {\"thread_id\": \"1\", \"checkpoint_id\": ...}}\n",
    "graph.invoke(None, config=config)\n",
    "```\n",
    "\n",
    "また、これにより、回復できる安定したシステムを構築し、以前のチェックポイントから再実行できます。"
   ]
  },
  {
   "cell_type": "markdown",
   "metadata": {},
   "source": [
    "### 次に、SQLに保存しましょう\n",
    "\n",
    "### これがLangChainの力です。"
   ]
  },
  {
   "cell_type": "code",
   "execution_count": 21,
   "metadata": {},
   "outputs": [],
   "source": [
    "# DBストア\n",
    "import sqlite3\n",
    "from langgraph.checkpoint.sqlite import SqliteSaver\n",
    "\n",
    "db_path = \"memory.db\"\n",
    "conn = sqlite3.connect(db_path, check_same_thread=False)\n",
    "sql_memory = SqliteSaver(conn)"
   ]
  },
  {
   "cell_type": "code",
   "execution_count": 22,
   "metadata": {},
   "outputs": [
    {
     "data": {
      "image/png": "[encoded data removed]",
      "text/plain": [
       "<IPython.core.display.Image object>"
      ]
     },
     "metadata": {},
     "output_type": "display_data"
    }
   ],
   "source": [
    "# ステップ1および2\n",
    "graph_builder = StateGraph(State)\n",
    "\n",
    "# ステップ3\n",
    "llm = ChatOpenAI(model=\"gpt-4o-mini\")\n",
    "llm_with_tools = llm.bind_tools(tools)\n",
    "\n",
    "def chatbot(state: State):\n",
    "    print(state)\n",
    "    return {\"messages\": [llm_with_tools.invoke(state[\"messages\"])]}\n",
    "\n",
    "# ステップ4\n",
    "graph_builder.add_node(\"chatbot\", chatbot)\n",
    "graph_builder.add_node(\"tools\", ToolNode(tools=tools))\n",
    "\n",
    "graph_builder.add_edge(START, \"chatbot\")\n",
    "graph_builder.add_conditional_edges( \"chatbot\", tools_condition, \"tools\")\n",
    "graph_builder.add_edge(\"tools\", \"chatbot\")\n",
    "\n",
    "# ステップ5\n",
    "graph = graph_builder.compile(checkpointer=sql_memory) # ★ sql_memoryに変更\n",
    "display(Image(graph.get_graph().draw_mermaid_png()))"
   ]
  },
  {
   "cell_type": "markdown",
   "metadata": {},
   "source": [
    "### Stateが履歴を保持していることを確認\n",
    "- hi there\n",
    "- my name's Ed\n",
    "- what's my name?\n",
    " \n",
    "※ UI、カーネルを再起動しても、Stateの履歴がDBストアに残っていることを確認できる。\n",
    "\n",
    "※ ただし、`{\"thread_id\": \"4\"}` に書き換えると、スロットが切り替わり記憶なしの状況から再開される。"
   ]
  },
  {
   "cell_type": "code",
   "execution_count": null,
   "metadata": {},
   "outputs": [],
   "source": [
    "config = {\"configurable\": {\"thread_id\": \"3\"}}\n",
    "\n",
    "def chat(user_input: str, history):\n",
    "    result = graph.invoke({\"messages\": [{\"role\": \"user\", \"content\": user_input}]}, config=config)\n",
    "    return result[\"messages\"][-1].content\n",
    "\n",
    "gr.ChatInterface(chat, type=\"messages\").launch()"
   ]
  }
 ],
 "metadata": {
  "kernelspec": {
   "display_name": "Python 3 (ipykernel)",
   "language": "python",
   "name": "python3"
  },
  "language_info": {
   "codemirror_mode": {
    "name": "ipython",
    "version": 3
   },
   "file_extension": ".py",
   "mimetype": "text/x-python",
   "name": "python",
   "nbconvert_exporter": "python",
   "pygments_lexer": "ipython3",
   "version": "3.12.3"
  }
 },
 "nbformat": 4,
 "nbformat_minor": 4
}
