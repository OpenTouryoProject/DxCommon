{
  "cells": [
    {
      "cell_type": "markdown",
      "metadata": {},
      "source": [
        "## Pythonノートブックにようこそ！\n",
        "\n",
        "ディジャは私がいなくて寂しいですか？\n",
        "\n",
        "###そして2週目、2日目へようこそ -  Langgraphの紹介！"
      ]
    },
    {
      "cell_type": "code",
      "execution_count": 1,
      "metadata": {},
      "outputs": [],
      "source": [
        "from typing import Annotated\n",
        "from langgraph.graph import StateGraph, START, END\n",
        "from langgraph.graph.message import add_messages\n",
        "from dotenv import load_dotenv\n",
        "from IPython.display import Image, display\n",
        "import gradio as gr\n",
        "from langgraph.graph import StateGraph\n",
        "from langgraph.graph.message import add_messages\n",
        "from langchain_openai import ChatOpenAI\n",
        "from pydantic import BaseModel\n",
        "import random\n"
      ]
    },
    {
      "cell_type": "code",
      "execution_count": 2,
      "metadata": {},
      "outputs": [],
      "source": [
        "# いくつかの便利な定数\n",
        "\n",
        "nouns = [\"Cabbages\", \"Unicorns\", \"Toasters\", \"Penguins\", \"Bananas\", \"Zombies\", \"Rainbows\", \"Eels\", \"Pickles\", \"Muffins\"]\n",
        "adjectives = [\"outrageous\", \"smelly\", \"pedantic\", \"existential\", \"moody\", \"sparkly\", \"untrustworthy\", \"sarcastic\", \"squishy\", \"haunted\"]"
      ]
    },
    {
      "cell_type": "code",
      "execution_count": null,
      "metadata": {},
      "outputs": [],
      "source": [
        "# 私たちのお気に入りの最初のステップ！ところで、乗組員は私たちのためにこれをやっていた。\n",
        "load_dotenv(override=True)\n"
      ]
    },
    {
      "cell_type": "code",
      "execution_count": null,
      "metadata": {},
      "outputs": [],
      "source": [
        "def shout(text: Annotated[str, \"something to be shouted\"]) -> str:\n",
        "    print(text.upper())\n",
        "    return text.upper()\n",
        "\n",
        "shout(\"hello\")"
      ]
    },
    {
      "cell_type": "markdown",
      "metadata": {},
      "source": [
        "###「注釈」についての言葉\n",
        "\n",
        "あなたはおそらくこれを知っています。タイプヒントは、Pythonの機能であり、何かの種類を指定できます。\n",
        "\n",
        "`my_favorite_things：list`\n",
        "\n",
        "しかし、あなたはこれを知らないかもしれません：\n",
        "\n",
        "また、「注釈付き」と呼ばれるものを使用して、他の誰かが便利だと思う可能性のある情報を追加することもできます。\n",
        "\n",
        "`my_favorite_things：annotated [list、\"これらは私のいくつかです \"]]`\n",
        "\n",
        "Langgraphは、状態オブジェクトを定義するときにこの機能を使用する必要があります。\n",
        "\n",
        "新しい価値で状態を更新するためにどの機能を呼び出すべきかを伝えることを望んでいます。\n",
        "\n",
        "この関数は**還元剤**と呼ばれます。\n",
        "\n",
        "Langgraphは、最も一般的なケースを処理する「add_messages」と呼ばれるデフォルトの還元剤を提供します。\n",
        "\n",
        "そして、それは、なぜ国家がこのように見えるのかを説明することを願っています。\n"
      ]
    },
    {
      "cell_type": "markdown",
      "metadata": {},
      "source": [
        "### ステップ1：状態オブジェクトを定義します\n",
        "\n",
        "任意のPythonオブジェクトを使用できます。しかし、TypedDictまたはPydantic Basemodelを使用することが最も一般的です。"
      ]
    },
    {
      "cell_type": "code",
      "execution_count": 5,
      "metadata": {},
      "outputs": [],
      "source": [
        "\n",
        "class State(BaseModel):\n",
        "        \n",
        "    messages: Annotated[list, add_messages]\n"
      ]
    },
    {
      "cell_type": "markdown",
      "metadata": {},
      "source": [
        "### ステップ2：この状態クラスでグラフビルダーを起動します"
      ]
    },
    {
      "cell_type": "code",
      "execution_count": 6,
      "metadata": {},
      "outputs": [],
      "source": [
        "graph_builder = StateGraph(State)"
      ]
    },
    {
      "cell_type": "markdown",
      "metadata": {},
      "source": [
        "###ステップ3：ノードを作成します\n",
        "\n",
        "ノードは任意のPython関数にすることができます。\n",
        "\n",
        "前に設定した還元剤は自動的に呼び出され、この応答と以前の応答を組み合わせて\n"
      ]
    },
    {
      "cell_type": "code",
      "execution_count": null,
      "metadata": {},
      "outputs": [],
      "source": [
        "def our_first_node(old_state: State) -> State:\n",
        "\n",
        "    reply = f\"{random.choice(nouns)} are {random.choice(adjectives)}\"\n",
        "    messages = [{\"role\": \"assistant\", \"content\": reply}]\n",
        "\n",
        "    new_state = State(messages=messages)\n",
        "\n",
        "    return new_state\n",
        "\n",
        "graph_builder.add_node(\"first_node\", our_first_node)"
      ]
    },
    {
      "cell_type": "markdown",
      "metadata": {},
      "source": [
        "### ステップ4：エッジを作成します"
      ]
    },
    {
      "cell_type": "code",
      "execution_count": null,
      "metadata": {},
      "outputs": [],
      "source": [
        "graph_builder.add_edge(START, \"first_node\")\n",
        "graph_builder.add_edge(\"first_node\", END)"
      ]
    },
    {
      "cell_type": "markdown",
      "metadata": {},
      "source": [
        "### ステップ5：グラフをコンパイルします"
      ]
    },
    {
      "cell_type": "code",
      "execution_count": 9,
      "metadata": {},
      "outputs": [],
      "source": [
        "graph = graph_builder.compile()"
      ]
    },
    {
      "cell_type": "code",
      "execution_count": null,
      "metadata": {},
      "outputs": [],
      "source": [
        "display(Image(graph.get_graph().draw_mermaid_png()))"
      ]
    },
    {
      "cell_type": "markdown",
      "metadata": {},
      "source": [
        "### それでおしまい！ショータイム！"
      ]
    },
    {
      "cell_type": "code",
      "execution_count": null,
      "metadata": {},
      "outputs": [],
      "source": [
        "def chat(user_input: str, history):\n",
        "    message = {\"role\": \"user\", \"content\": user_input}\n",
        "    messages = [message]\n",
        "    state = State(messages=messages)\n",
        "    result = graph.invoke(state)\n",
        "    print(result)\n",
        "    return result[\"messages\"][-1].content\n",
        "\n",
        "\n",
        "gr.ChatInterface(chat, type=\"messages\").launch()"
      ]
    },
    {
      "cell_type": "markdown",
      "metadata": {},
      "source": [
        "### しかし、なぜ私はあなたにそれを見せたのですか？\n",
        "\n",
        "LanggraphがすべてPython関数に関するものであると主張するために -  LLMを巻き込む必要はありません!!\n",
        "\n",
        "今、私たちは再び5つのステップを行いますが、1つのショットで："
      ]
    },
    {
      "cell_type": "code",
      "execution_count": 12,
      "metadata": {},
      "outputs": [],
      "source": [
        "# ステップ1：状態オブジェクトを定義します\n",
        "class State(BaseModel):\n",
        "    messages: Annotated[list, add_messages]\n"
      ]
    },
    {
      "cell_type": "code",
      "execution_count": 13,
      "metadata": {},
      "outputs": [],
      "source": [
        "# ステップ2：この状態クラスでグラフビルダーを起動します\n",
        "graph_builder = StateGraph(State)\n"
      ]
    },
    {
      "cell_type": "code",
      "execution_count": null,
      "metadata": {},
      "outputs": [],
      "source": [
        "# ステップ3：ノードを作成します\n",
        "\n",
        "llm = ChatOpenAI(model=\"gpt-4o-mini\")\n",
        "\n",
        "def chatbot_node(old_state: State) -> State:\n",
        "    response = llm.invoke(old_state.messages)\n",
        "    new_state = State(messages=[response])\n",
        "    return new_state\n",
        "\n",
        "graph_builder.add_node(\"chatbot\", chatbot_node)"
      ]
    },
    {
      "cell_type": "code",
      "execution_count": null,
      "metadata": {},
      "outputs": [],
      "source": [
        "# ステップ4：エッジを作成します\n",
        "graph_builder.add_edge(START, \"chatbot\")\n",
        "graph_builder.add_edge(\"chatbot\", END)"
      ]
    },
    {
      "cell_type": "code",
      "execution_count": null,
      "metadata": {},
      "outputs": [],
      "source": [
        "# ステップ5：グラフをコンパイルします\n",
        "graph = graph_builder.compile()\n",
        "display(Image(graph.get_graph().draw_mermaid_png()))"
      ]
    },
    {
      "cell_type": "markdown",
      "metadata": {},
      "source": [
        "### それでおしまい！そして、これをしましょう："
      ]
    },
    {
      "cell_type": "code",
      "execution_count": null,
      "metadata": {},
      "outputs": [],
      "source": [
        "def chat(user_input: str, history):\n",
        "    initial_state = State(messages=[{\"role\": \"user\", \"content\": user_input}])\n",
        "    result = graph.invoke(initial_state)\n",
        "    print(result)\n",
        "    return result['messages'][-1].content\n",
        "\n",
        "\n",
        "gr.ChatInterface(chat, type=\"messages\").launch()"
      ]
    },
    {
      "cell_type": "code",
      "execution_count": null,
      "metadata": {},
      "outputs": [],
      "source": []
    }
  ],
  "metadata": {
    "kernelspec": {
      "display_name": ".venv",
      "language": "python",
      "name": "python3"
    },
    "language_info": {
      "codemirror_mode": {
        "name": "ipython",
        "version": 3
      },
      "file_extension": ".py",
      "mimetype": "text/x-python",
      "name": "python",
      "nbconvert_exporter": "python",
      "pygments_lexer": "ipython3",
      "version": "3.12.9"
    }
  },
  "nbformat": 4,
  "nbformat_minor": 2
}