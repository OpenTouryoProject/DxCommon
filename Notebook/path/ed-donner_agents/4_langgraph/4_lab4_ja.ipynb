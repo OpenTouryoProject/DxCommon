{
 "cells": [
  {
   "cell_type": "markdown",
   "metadata": {},
   "source": [
    "## 第4週、4日目へようこそ - 大きなプロジェクトの準備！\n",
    "\n",
    "# Sidekick\n",
    "\n",
    "紹介する時が来ました：\n",
    "\n",
    "1. 構造化出力\n",
    "2. マルチエージェントフロー\n",
    "\n",
    "### 概要\n",
    "LangGraphとLangChainを用いた「Sidekick」というAIアシスタントのプロジェクト準備がテーマ\n",
    "\n",
    "- **構造化出力（Structured Outputs）** と **マルチエージェントフロー（Multi-agent flow）** を導入\n",
    "- 「Sidekick」という「成功基準を満たすまで自律的に対話・作業を繰り返すAIアシスタント」を構築・体験する。\n",
    "\n",
    "- 1. 準備  \n",
    "インポート、環境変数の読込\n",
    "\n",
    "- 2. 構造化出力の定義  \n",
    "PydanticのBaseModelを使い、構造化出力の `EvaluatorOutput` クラスを定義。\n",
    "\n",
    "- 3. Stateの定義  \n",
    "TypedDictで状態（会話履歴、成功基準、フィードバックなど）を定義。\n",
    "\n",
    "- 4. ツール、LLMの準備   \n",
    "エージェント・ノードの使うツール、LLMを準備。\n",
    "\n",
    "- 5. ２つのエージェント・ノードの定義\n",
    "  - 作業者ノード: ユーザーの依頼・成功基準をもとにタスクを遂行、必要ならツールを使う。\n",
    "  - 評価者ノード: 作業者の応答を評価し、成功か・ユーザー入力が必要か判定、フィードバックを返す。\n",
    "\n",
    "- 6. グラフ構築\n",
    "  - StateGraph（Node、Edge）を構築\n",
    "  - Mermaid記法でグラフ可視化も可能。\n",
    "\n",
    "- 7. GradioによるUI作成\n",
    "SidekickマルチエージェントフローとのチャットUIを作成"
   ]
  },
  {
   "cell_type": "code",
   "execution_count": 1,
   "metadata": {},
   "outputs": [],
   "source": [
    "# import\n",
    "\n",
    "# 基本\n",
    "import uuid\n",
    "from dotenv import load_dotenv\n",
    "from pydantic import BaseModel, Field\n",
    "from typing import Annotated, TypedDict, List, Dict, Any, Optional\n",
    "\n",
    "# langchain\n",
    "from langchain_openai import ChatOpenAI\n",
    "from langchain_core.messages import AIMessage, HumanMessage, SystemMessage\n",
    "from langchain_community.agent_toolkits import PlayWrightBrowserToolkit\n",
    "from langchain_community.tools.playwright.utils import create_async_playwright_browser\n",
    "\n",
    "# langgraph\n",
    "from langgraph.graph import StateGraph, START, END\n",
    "from langgraph.graph.message import add_messages\n",
    "from langgraph.prebuilt import ToolNode\n",
    "from langgraph.checkpoint.memory import MemorySaver\n",
    "\n",
    "# 表示\n",
    "from IPython.display import Image, display\n",
    "import gradio as gr"
   ]
  },
  {
   "cell_type": "code",
   "execution_count": 2,
   "metadata": {},
   "outputs": [
    {
     "data": {
      "text/plain": [
       "True"
      ]
     },
     "execution_count": 2,
     "metadata": {},
     "output_type": "execute_result"
    }
   ],
   "source": [
    "load_dotenv(override=True)"
   ]
  },
  {
   "cell_type": "markdown",
   "metadata": {},
   "source": [
    "### BaseModelを使用して構造化出力のスキーマを定義"
   ]
  },
  {
   "cell_type": "code",
   "execution_count": 3,
   "metadata": {},
   "outputs": [],
   "source": [
    "# 最初に構造化された出力を定義します\n",
    "\n",
    "class EvaluatorOutput(BaseModel):\n",
    "    feedback: str = Field(description=\"補助作業者の応答に関するフィードバック\") #\"Feedback on the assistant's response\")\n",
    "    success_criteria_met: bool = Field(description=\"成功基準が満たされているかどうか\") #\"Whether the success criteria have been met\")\n",
    "    user_input_needed: bool = Field(description=\"ユーザーからの入力や説明がさらに必要な場合、または補助作業者が停止している場合は True になります\") #\"True if more input is needed from the user, or clarifications, or the assistant is stuck\")"
   ]
  },
  {
   "cell_type": "markdown",
   "metadata": {},
   "source": [
    "### TypedDictを再度使用してStateを定義\n",
    "\n",
    "しかし、これで実際に管理すべき情報が増えました！\n",
    "\n",
    "メッセージはReducerを使用します。\n",
    "\n",
    "その他の値は、状態の変化に応じて上書きされる単なる値です。"
   ]
  },
  {
   "cell_type": "code",
   "execution_count": 4,
   "metadata": {},
   "outputs": [],
   "source": [
    "# State\n",
    "\n",
    "class State(TypedDict):\n",
    "    \n",
    "    # 通常、存在するメッセージ\n",
    "    messages: Annotated[List[Any], add_messages]\n",
    "    \n",
    "    # 成功基準に付いて説明する文字列\n",
    "    success_criteria: str\n",
    "    \n",
    "    # 以下は構造化出力にもあるフィールド\n",
    "    feedback_on_work: Optional[str]\n",
    "    success_criteria_met: bool\n",
    "    user_input_needed: bool"
   ]
  },
  {
   "cell_type": "markdown",
   "metadata": {},
   "source": [
    "### Async Playwrightツール（3_lab3と同様）"
   ]
  },
  {
   "cell_type": "code",
   "execution_count": 5,
   "metadata": {},
   "outputs": [],
   "source": [
    "import nest_asyncio\n",
    "nest_asyncio.apply()\n",
    "async_browser =  create_async_playwright_browser(headless=False)  # ヘッド「フル」モード\n",
    "toolkit = PlayWrightBrowserToolkit.from_browser(async_browser=async_browser)\n",
    "tools = toolkit.get_tools()"
   ]
  },
  {
   "cell_type": "markdown",
   "metadata": {},
   "source": [
    "### ２つのエージェント・ノード用のLLMを初期化"
   ]
  },
  {
   "cell_type": "code",
   "execution_count": 6,
   "metadata": {},
   "outputs": [],
   "source": [
    "# 作業者ノード用\n",
    "worker_llm = ChatOpenAI(model=\"gpt-4o-mini\")\n",
    "worker_llm_with_tools = worker_llm.bind_tools(tools)\n",
    "\n",
    "# 評価者ノード用\n",
    "evaluator_llm = ChatOpenAI(model=\"gpt-4o-mini\")\n",
    "evaluator_llm_with_output = evaluator_llm.with_structured_output(EvaluatorOutput)"
   ]
  },
  {
   "cell_type": "markdown",
   "metadata": {},
   "source": [
    "### エージェント・ノードの定義\n",
    "- ユーザ → 補助作業者 ⇔ 評価者 → ユーザ のループ。\n",
    "- 評価者 → 補助作業者 となるときは、`feedback_on_work` に文字列が入力される。"
   ]
  },
  {
   "cell_type": "markdown",
   "metadata": {},
   "source": [
    "#### 作業者ノード"
   ]
  },
  {
   "cell_type": "code",
   "execution_count": 7,
   "metadata": {},
   "outputs": [],
   "source": [
    "def worker(state: State) -> Dict[str, Any]:\n",
    "    system_message=f\"\"\"\n",
    "        あなたは、ツールを使ってタスクを完了できる、頼りになる「補助作業者」です。\n",
    "        ユーザーに質問や説明をするか、成功基準が満たされるまで、タスクに取り組み続けます。\n",
    "        成功基準は次のとおりです。: {state['success_criteria']}\n",
    "        この課題についてユーザーへの質問、または最終的な回答のいずれかで返信してください。\n",
    "        ユーザーへの質問がある場合は、質問内容を明確に述べて返信する必要があります。\n",
    "        例：「質問：概要と詳細な回答のどちらを希望するかを明確にしてください。」\n",
    "        回答が終わったら、最終的な回答を返信してください。質問はせず、回答のみを返信してください。\n",
    "        \"\"\"\n",
    "    \n",
    "    x = f\"\"\"\n",
    "        You are a helpful assistant that can use tools to complete tasks.\n",
    "        You keep working on a task until either you have a question or clarification for the user, or the success criteria is met.\n",
    "        This is the success criteria: {state['success_criteria']}\n",
    "        You should reply either with a question for the user about this assignment, or with your final response.\n",
    "        If you have a question for the user, you need to reply by clearly stating your question. An example might be:\n",
    "        Question: please clarify whether you want a summary or a detailed answer\n",
    "        If you've finished, reply with the final answer, and don't ask a question; simply reply with the answer.\n",
    "        \"\"\"\n",
    "    \n",
    "    if state.get(\"feedback_on_work\"): # 評価者からのフィードバッグの場合、システム・メッセージを追加\n",
    "        system_message  += f\"\"\"\n",
    "            以前、課題を完了したと思っていたのですが、成功基準を満たしていなかったため、回答が却下されました。\n",
    "            却下された理由に関するフィードバックは次のとおりです。: {state['feedback_on_work']}\n",
    "            このフィードバックを参考に、成功基準を満たしているか、ユーザーに質問があるかを確認しながら、課題を続行してください。\n",
    "        \"\"\"\n",
    "        x += f\"\"\"\n",
    "            Previously you thought you completed the assignment, but your reply was rejected because the success criteria was not met.\n",
    "            Here is the feedback on why this was rejected: {state['feedback_on_work']}\n",
    "            With this feedback, please continue the assignment, ensuring that you meet the success criteria or have a question for the user.\n",
    "        \"\"\"\n",
    "    \n",
    "    # 会話履歴中のSystemMessageをチェックし\n",
    "    # ・あれば内容を更新し\n",
    "    # ・なければ新たに先頭に追加\n",
    "\n",
    "    found_system_message = False\n",
    "    messages = state[\"messages\"]\n",
    "\n",
    "    # 会話履歴の中に\n",
    "    for message in messages:\n",
    "        # SystemMessageが既にあれば\n",
    "        if isinstance(message, SystemMessage):\n",
    "            # 内容を更新し、\n",
    "            message.content = system_message\n",
    "            found_system_message = True\n",
    "\n",
    "    # なければ新たに先頭に追加\n",
    "    if not found_system_message:\n",
    "        messages = [SystemMessage(content=system_message)] + messages\n",
    "    \n",
    "    # プロンプトをLLM（ツール付き）で処理\n",
    "    response = worker_llm_with_tools.invoke(messages)\n",
    "    \n",
    "    # 更新された状態を返す\n",
    "    return {\n",
    "        \"messages\": [response],\n",
    "    }"
   ]
  },
  {
   "cell_type": "code",
   "execution_count": 8,
   "metadata": {},
   "outputs": [],
   "source": [
    "# 作業者ノードが次にどのノードへ処理を渡すかを判断するための関数\n",
    "def worker_router(state: State) -> str:\n",
    "\n",
    "    # 直近のメッセージ（last_message）を調べ、\n",
    "    last_message = state[\"messages\"][-1]\n",
    "\n",
    "    # tool_callsプロパティが在って値が入っているか・いないか\n",
    "    if hasattr(last_message, \"tool_calls\") and last_message.tool_calls:\n",
    "        return \"tools\" # ツール・ノードに進む\n",
    "    else:\n",
    "        return \"evaluator\" # 評価者ノードに進む"
   ]
  },
  {
   "cell_type": "code",
   "execution_count": 9,
   "metadata": {},
   "outputs": [],
   "source": [
    "# 会話履歴（評価ロジックなど利用）を整形する関数\n",
    "def format_conversation(messages: List[Any]) -> str:\n",
    "    # HumanMessage、AIMessageは、StateSnapshotで確認したState情報\n",
    "    conversation = \"Conversation history:\\n\\n\"\n",
    "    for message in messages:\n",
    "        if isinstance(message, HumanMessage):\n",
    "            conversation += f\"User: {message.content}\\n\"\n",
    "        elif isinstance(message, AIMessage):\n",
    "            text = message.content or \"[Tools use]\"\n",
    "            conversation += f\"Assistant: {text}\\n\"\n",
    "    return conversation"
   ]
  },
  {
   "cell_type": "markdown",
   "metadata": {},
   "source": [
    "#### 評価者ノード"
   ]
  },
  {
   "cell_type": "code",
   "execution_count": 10,
   "metadata": {},
   "outputs": [],
   "source": [
    "def evaluator(state: State) -> State:\n",
    "    last_response = state[\"messages\"][-1].content\n",
    "\n",
    "    system_message = \"\"\"\n",
    "        あなたは、補助作業者がタスクを正常に完了したかどうかを判断する評価者です。指定された基準に基づいて、補助作業者の最後の応答を評価します。\n",
    "        「フィードバックと成功基準が満たされたかどうか」そして「ユーザーからの追加入力が必要かどうかの判断」を返信してください。\n",
    "        \"\"\"\n",
    "    y = \"\"\"\n",
    "        You are an evaluator that determines if a task has been completed successfully by an Assistant.\n",
    "        Assess the Assistant's last response based on the given criteria. Respond with your feedback, and with your decision on whether the success criteria has been met,\n",
    "        and whether more input is needed from the user.\n",
    "        \"\"\"\n",
    "    \n",
    "    user_message =f\"\"\"\n",
    "        ユーザーと補助作業者間の会話を評価します。補助作業者からの最後の応答に基づいて、実行するアクションを決定します。\n",
    "        補助作業者間との会話全体（ユーザーの元のリクエストとすべての返信を含む）は、{format_conversation(state['messages'])} です。\n",
    "        この課題の成功基準は次のとおりです: {state['success_criteria']}\n",
    "        評価している補助作業者からの最終応答は次のとおりです: {last_response}\n",
    "        フィードバックを送信し、この応答が成功基準を満たしているかどうかを判断します。\n",
    "        また、説明不足による行き詰まりなど、補助作業者に追加のユーザー指示が必要かどうかを判断します。\n",
    "        \"\"\"\n",
    "    \n",
    "    y = f\"\"\"\n",
    "    You are evaluating a conversation between the User and Assistant. You decide what action to take based on the last response from the Assistant.\n",
    "    The entire conversation with the assistant, with the user's original request and all replies, is:{format_conversation(state['messages'])}\n",
    "    The success criteria for this assignment is: {state['success_criteria']}\n",
    "    And the final response from the Assistant that you are evaluating is: {last_response}\n",
    "    Respond with your feedback, and decide if the success criteria is met by this response.\n",
    "    Also, decide if more user input is required, either because the assistant has a question, needs clarification, or seems to be stuck and unable to answer without help.\n",
    "    \"\"\"\n",
    "    \n",
    "    if state[\"feedback_on_work\"]: # 評価者からのフィードバッグの履歴\n",
    "        #f\"Also, note that in a prior attempt from the Assistant, you provided this feedback: {state['feedback_on_work']}\\n\"\n",
    "        user_message += f\"また、補助作業者が以前に試みた際に、次のフィードバックを提供していたことにもご注意ください: {state['feedback_on_work']}\"\n",
    "        #\"If you're seeing the Assistant repeating the same mistakes, then consider responding that user input is required.\"\n",
    "        user_message += \"補助作業者が同じ間違いを繰り返している場合は、ユーザーによる入力が必要であることを伝えてください。\"\n",
    "\n",
    "    # ※ ココのHumanMessageは、ユーザと補助作業の会話履歴で主に、補助作業の最後のレスポンスにフォーカスしている。\n",
    "    evaluator_messages = [SystemMessage(content=system_message), HumanMessage(content=user_message)]\n",
    "    # プロンプトをLLMで処理、結果は構造化出力で返される。\n",
    "    eval_result = evaluator_llm_with_output.invoke(evaluator_messages)\n",
    "\n",
    "    # 更新された状態を返す\n",
    "    new_state = {\n",
    "        \"messages\": [{\"role\": \"assistant\", \"content\": f\"この回答に対する評価者からのフィードバック: {eval_result.feedback}\"}],\n",
    "        \"feedback_on_work\": eval_result.feedback,\n",
    "        \"success_criteria_met\": eval_result.success_criteria_met,\n",
    "        \"user_input_needed\": eval_result.user_input_needed\n",
    "    }\n",
    "    return new_state"
   ]
  },
  {
   "cell_type": "code",
   "execution_count": 11,
   "metadata": {},
   "outputs": [],
   "source": [
    "# 評価者ノードが次にどのノードへ処理を渡すかを判断するための関数\n",
    "def route_based_on_evaluation(state: State) -> str:\n",
    "    if state[\"success_criteria_met\"] or state[\"user_input_needed\"]:\n",
    "        return \"END\"\n",
    "    else:\n",
    "        return \"worker\""
   ]
  },
  {
   "cell_type": "code",
   "execution_count": 12,
   "metadata": {},
   "outputs": [
    {
     "data": {
      "text/plain": [
       "<langgraph.graph.state.StateGraph at 0x7f1f78ce1e80>"
      ]
     },
     "execution_count": 12,
     "metadata": {},
     "output_type": "execute_result"
    }
   ],
   "source": [
    "# グラフを作成\n",
    "# NodeとEdgeを追加してGraphを作成\n",
    "graph_builder = StateGraph(State)\n",
    "\n",
    "# ノードを追加します\n",
    "graph_builder.add_node(\"worker\", worker)\n",
    "graph_builder.add_node(\"tools\", ToolNode(tools=tools))\n",
    "graph_builder.add_node(\"evaluator\", evaluator)\n",
    "\n",
    "# エッジを追加します\n",
    "graph_builder.add_edge(START, \"worker\")\n",
    "graph_builder.add_conditional_edges(\"worker\", worker_router, {\"tools\": \"tools\", \"evaluator\": \"evaluator\"})\n",
    "graph_builder.add_edge(\"tools\", \"worker\")\n",
    "graph_builder.add_conditional_edges(\"evaluator\", route_based_on_evaluation, {\"worker\": \"worker\", \"END\": END})"
   ]
  },
  {
   "cell_type": "code",
   "execution_count": 13,
   "metadata": {},
   "outputs": [
    {
     "data": {
      "image/png": "[encoded data removed]",
      "text/plain": [
       "<IPython.core.display.Image object>"
      ]
     },
     "metadata": {},
     "output_type": "display_data"
    }
   ],
   "source": [
    "# グラフをコンパイルして可視化\n",
    "memory = MemorySaver()\n",
    "graph = graph_builder.compile(checkpointer=memory)\n",
    "display(Image(graph.get_graph().draw_mermaid_png()))\n",
    "\n",
    "# なにやら、未定義の worker → END が出力されるが...？"
   ]
  },
  {
   "cell_type": "markdown",
   "metadata": {},
   "source": [
    "### 次は、スーパーステップをキックオフするためのGradioコールバック\n",
    "イベントハンドラで、4変数（message, success_criteria, history, thread）を処理\n"
   ]
  },
  {
   "cell_type": "code",
   "execution_count": 14,
   "metadata": {},
   "outputs": [],
   "source": [
    "# thread(_id) は uuid4\n",
    "def make_thread_id() -> str:\n",
    "    return str(uuid.uuid4())\n",
    "\n",
    "# 変数のリセット\n",
    "async def reset():\n",
    "    return \"\", \"\", None, make_thread_id()"
   ]
  },
  {
   "cell_type": "code",
   "execution_count": 15,
   "metadata": {},
   "outputs": [],
   "source": [
    "# スーパーステップ（一連の処理）をキックオフ（実行）して返す\n",
    "async def process_message(message, success_criteria, history, thread):\n",
    "\n",
    "    # スーパーステップの...\n",
    "    # config\n",
    "    config = {\"configurable\": {\"thread_id\": thread}}\n",
    "    # state\n",
    "    state = {\n",
    "        # 継続\n",
    "        \"messages\": message,\n",
    "        \"success_criteria\": success_criteria,\n",
    "        # 初期値\n",
    "        \"feedback_on_work\": None,\n",
    "        \"success_criteria_met\": False,\n",
    "        \"user_input_needed\": False\n",
    "    }\n",
    "\n",
    "    # Graphを非同期実行\n",
    "    result = await graph.ainvoke(state, config=config)\n",
    "\n",
    "    # user, reply, feedbackは更新\n",
    "    user = {\"role\": \"user\", \"content\": message}\n",
    "    reply = {\"role\": \"assistant\", \"content\": result[\"messages\"][-2].content}\n",
    "    feedback = {\"role\": \"assistant\", \"content\": result[\"messages\"][-1].content}\n",
    "    return history + [user, reply, feedback]"
   ]
  },
  {
   "cell_type": "markdown",
   "metadata": {},
   "source": [
    "### そして今、私たちのSidekick UIを起動します"
   ]
  },
  {
   "cell_type": "code",
   "execution_count": 16,
   "metadata": {},
   "outputs": [
    {
     "name": "stdout",
     "output_type": "stream",
     "text": [
      "* Running on local URL:  http://127.0.0.1:7865\n",
      "* To create a public link, set `share=True` in `launch()`.\n"
     ]
    },
    {
     "data": {
      "text/html": [
       "<div><iframe src=\"http://127.0.0.1:7865/\" width=\"100%\" height=\"500\" allow=\"autoplay; camera; microphone; clipboard-read; clipboard-write;\" frameborder=\"0\" allowfullscreen></iframe></div>"
      ],
      "text/plain": [
       "<IPython.core.display.HTML object>"
      ]
     },
     "metadata": {},
     "output_type": "display_data"
    },
    {
     "data": {
      "text/plain": []
     },
     "execution_count": 16,
     "metadata": {},
     "output_type": "execute_result"
    }
   ],
   "source": [
    "with gr.Blocks(theme=gr.themes.Default(primary_hue=\"emerald\")) as demo:\n",
    "    gr.Markdown(\"## Sidekick Personal Co-worker\")\n",
    "    \n",
    "    # スレッド初期化（UI立ち上げ毎に初期化）\n",
    "    thread = gr.State(make_thread_id())\n",
    "\n",
    "    # 各種UI要素\n",
    "    with gr.Row():\n",
    "        # Chat UI\n",
    "        chatbot = gr.Chatbot(label=\"Sidekick\", height=300, type=\"messages\")\n",
    "    with gr.Group():\n",
    "        with gr.Row():\n",
    "            message = gr.Textbox(show_label=False, placeholder=\"あなたのsidekickへのリクエスト\")\n",
    "        with gr.Row():\n",
    "            success_criteria = gr.Textbox(show_label=False, placeholder=\"あなたの成功基準は何ですか?\")\n",
    "    with gr.Row():\n",
    "        # リセット\n",
    "        reset_button = gr.Button(\"Reset\", variant=\"stop\")\n",
    "        # 実行\n",
    "        go_button = gr.Button(\"Go!\", variant=\"primary\")\n",
    "\n",
    "    # イベント・ハンドラ、process_message関数の引数・戻り値としては、\n",
    "    # [message, success_criteria, chatbot(=history), thread]が渡され、\n",
    "    # [chatbot](=history + [user, reply, feedback])が返る。\n",
    "    message.submit(process_message, [message, success_criteria, chatbot, thread], [chatbot])\n",
    "    success_criteria.submit(process_message, [message, success_criteria, chatbot, thread], [chatbot])\n",
    "    reset_button.click(reset, [], [message, success_criteria, chatbot, thread])\n",
    "    go_button.click(process_message, [message, success_criteria, chatbot, thread], [chatbot])\n",
    "    \n",
    "demo.launch()"
   ]
  },
  {
   "cell_type": "markdown",
   "metadata": {},
   "source": [
    "### 入力の例\n",
    "- What is the current USD/GBP exchange rate / An accurate answer\n",
    "- 現在のUSD/GBP為替レートはいくらですか？ / 正確な回答"
   ]
  },
  {
   "cell_type": "markdown",
   "metadata": {},
   "source": [
    "### 最後に、ログなど確認\n",
    "\n",
    "https://smith.langchain.com"
   ]
  },
  {
   "cell_type": "markdown",
   "metadata": {},
   "source": [
    "<table style=\"margin: 0; text-align: left; width:100%\">\n",
    "    <tr>\n",
    "        <td style=\"width: 150px; height: 150px; vertical-align: middle;\">\n",
    "            <img src=\"../assets/thanks.png\" width=\"150\" height=\"150\" style=\"display: block;\" />\n",
    "        </td>\n",
    "        <td>\n",
    "            <h2 style=\"color:#00cc00;\">Sidekick の初版作成おめでとうございます！</h2>\n",
    "            <span style=\"color:#00cc00;\">これはコースの中でも非常に重要な瞬間です。非常にパワフルな何かの始まりを告げたのです。そして、LangGraph の素晴らしいエージェントフレームワークを習得しました。もしかしたら、私と同じように、LangGraph に懐疑的だったあなたも、LangGraph のファンに転向しているかもしれませんね。<br/><br/>もう一度言わないと編集者に殺されてしまうでしょうが、Udemy でコースを評価していただけると大変ありがたいです。Udemy がこのコースを他の人に公開するかどうかを決める主な基準であり、評価は大きな違いを生みます。<br/><br/>もう一つお知らせですが、まだ <a href=\"https://www.linkedin.com/in/eddonner/\">LinkedIn でつながって</a>いない方は、ぜひフォローしてください！コースの進捗状況を投稿したい場合は、私にタグを付けてください。露出を高めるために私が協力します。\n",
    "            </span>\n",
    "        </td>\n",
    "    </tr>\n",
    "</table>"
   ]
  }
 ],
 "metadata": {
  "kernelspec": {
   "display_name": "Python 3 (ipykernel)",
   "language": "python",
   "name": "python3"
  },
  "language_info": {
   "codemirror_mode": {
    "name": "ipython",
    "version": 3
   },
   "file_extension": ".py",
   "mimetype": "text/x-python",
   "name": "python",
   "nbconvert_exporter": "python",
   "pygments_lexer": "ipython3",
   "version": "3.12.3"
  }
 },
 "nbformat": 4,
 "nbformat_minor": 4
}
