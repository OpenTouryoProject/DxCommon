{
 "cells": [
  {
   "cell_type": "markdown",
   "metadata": {},
   "source": [
    "## 第4週、5日目\n",
    "- 5日目 はあるのに、5日目の `*ipynb` がなかったので作成。\n",
    "- ただし、内容は カレント・ディレクトリの `*.py` モジュールを実行するだけ。\n",
    "- コレ等のモジュールは `4_lab4.ipynb` の実装を詰め込んだもの。\n",
    "  - app.py : エントリポイントとUIの実装\n",
    "  - sidekick.py : 本体の実装\n",
    "  - sidekick_tools.py : ツール類の実装\n",
    "- なので、コチラは、日本語化を行っていない（コメントは付与）。\n",
    "- ただし、若干の実装強化あり（ツールと対応したプロンプトの追加）。\n",
    "- その他、追い付き修正は、特に無し。"
   ]
  },
  {
   "cell_type": "markdown",
   "metadata": {},
   "source": [
    "以下のようにセルを実行し、\n",
    "\n",
    "表示されるURLから画面を開き、\n",
    "\n",
    "- \"what is pi* 3?\" / \"\", \"`π * 3 = は、いくつになりますか?\" / \"\"\n",
    "- \"I'd like to go for dinner tomorrow in a French restaurant in NYC. Please find a great French restaurant and write a report in markdown to dinner.md including the name, address, menu, reviews. Send me\n",
    "a push notification with the restaurant name and phone.\" / \"\"\n",
    "- \"明日、ニューヨークのフレンチ・レストランに夕食に行きたいです。素敵なフレンチ・レストランを見つけて、名前、住所、メニュー、レビューを記載したMarkdown形式のレポートをdinner.mdに書いてください。レストラン名と電話番号を記載したプッシュ通知を送ってください。\" / \"\"\n",
    "- \"Please update the file to only contain information about XXXXX and include more details, including a summary of reviews and some menu items。\" / \"\"\n",
    "- \"XXXXXに関する情報のみを含むようにファイルを更新し、レビューの概要やメニュー項目などの詳細を追加してください。\" / \"\"\n",
    "\n",
    "などと入力して、出力結果を確認する。"
   ]
  },
  {
   "cell_type": "code",
   "execution_count": null,
   "metadata": {},
   "outputs": [],
   "source": [
    "# 以下は誤りのような ... 確かに、playwright は uv でインストールしたが...。\n",
    "!uv run app.py"
   ]
  },
  {
   "cell_type": "code",
   "execution_count": null,
   "metadata": {},
   "outputs": [
    {
     "name": "stdout",
     "output_type": "stream",
     "text": [
      "* Running on local URL:  http://127.0.0.1:7860\n",
      "* To create a public link, set `share=True` in `launch()`.\n",
      "gio: http://127.0.0.1:7860/: Operation not supported\n",
      "Python REPL can execute arbitrary code. Use with caution.\n"
     ]
    }
   ],
   "source": [
    "# Jupyter Labからテスト実行していた訳なので、コチラが正しい。\n",
    "!python app.py"
   ]
  },
  {
   "cell_type": "markdown",
   "metadata": {},
   "source": [
    "### 発生したエラーのコレクション\n",
    "\n",
    "#### 警告: .xxx_venv はプロジェクト環境パス .venv と一致しないため無視されます。\n",
    "uvをセルから実行にすると、当該 Jupyter Lab 用に作成した仮想環境上で、更に uv の仮想環境を使用しに行き、以下のような Jupyter Lab 要仮想環境は無視される旨の警告が表示される。\n",
    "\n",
    "warning: `VIRTUAL_ENV=/home/seigi/.eddagents_venv` does not match the project environment path `/mnt/.../OpenTouryoProject/DxCommon/Notebook/path/ed-donner_agents/.venv` and will be ignored; use `--active` to target the active environment instead\n",
    "\n",
    "#### 停止条件に達さずに再帰回数の上限である 25 回に達しました。\n",
    "raise GraphRecursionError(msg)\n",
    "langgraph.errors.GraphRecursionError: Recursion limit of 25 reached without hitting a stop condition. You can increase the limit by setting the `recursion_limit` config key.\n",
    "For troubleshooting, visit: https://python.langchain.com/docs/troubleshooting/errors/GRAPH_RECURSION_LIMIT"
   ]
  }
 ],
 "metadata": {
  "kernelspec": {
   "display_name": "Python 3 (ipykernel)",
   "language": "python",
   "name": "python3"
  },
  "language_info": {
   "codemirror_mode": {
    "name": "ipython",
    "version": 3
   },
   "file_extension": ".py",
   "mimetype": "text/x-python",
   "name": "python",
   "nbconvert_exporter": "python",
   "pygments_lexer": "ipython3",
   "version": "3.12.3"
  }
 },
 "nbformat": 4,
 "nbformat_minor": 4
}
