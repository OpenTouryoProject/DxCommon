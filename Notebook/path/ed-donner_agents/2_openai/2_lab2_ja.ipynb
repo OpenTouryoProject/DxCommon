{
 "cells": [
  {
   "cell_type": "markdown",
   "metadata": {},
   "source": [
    "## 第2週 2日目\n",
    "\n",
    "私たちの最初のエージェント・フレームワーク・プロジェクト!!\n",
    "\n",
    "途方もなく簡単な何かのために自分自身を準備してください。\n",
    "\n",
    "（SDR（セールス・ディベロップメント・レプレゼンタティブ）エージェントの構築に向けた、）  \n",
    "コールド・セールス・アウト・リーチ・メールを生成するためのシンプルなエージェントシステムを構築。  \n",
    "（コールド・セールス・メールとは、見込み顧客にファースト・コンタクトする営業メール）\n",
    "\n",
    "1. エージェントワークフロー\n",
    "1. 関数を呼び出すためのツールの使用\n",
    "1. ツールとハンドオフを介したエージェントコラボレーション"
   ]
  },
  {
   "cell_type": "markdown",
   "metadata": {},
   "source": [
    "## 開始する前に - いくつかのセットアップ：\n",
    "\n",
    "SendGridをご覧ください: https://sendgrid.com/\n",
    "\n",
    "（SendGridは、メールを送信するためのTwilio社のサービス）\n",
    "\n",
    "SendGridが問題を抱えている場合は、[community_contributions/2_lab2_with_resend_email](https://github.com/ed-donner/agents/blob/main/2_openai/community_contributions/2_lab2_with_resend_email.ipynb)で「resendメール」を使用した代替実装を参照してください\n",
    "\n",
    "（SendGridは、個人利用NGなので個人メアドはハネられる♨）\n",
    "\n",
    "アカウントを設定してください - 無料です！ （少なくとも、私にとっては、今）。\n",
    "\n",
    "アカウントを作成したら、クリックしてください。\n",
    "\n",
    "設定（左サイドバー）>> APIキー>> APIキーを作成（右上のボタン）\n",
    "\n",
    "キーをクリップボードにコピーし、.envファイルに新しい行を追加します。\n",
    "\n",
    "`SENDGRID_API_KEY=xxxx`\n",
    "\n",
    "また、SendGrid内で、次のように移動します。\n",
    "\n",
    "設定（左サイドバー）>>送信者認証>>「単一の送信者を確認する」  \n",
    "また、自分のメールアドレスが実際のメールアドレスであることを確認してください。これにより、SendGridがメールを送信できるようにします。"
   ]
  },
  {
   "cell_type": "code",
   "execution_count": 1,
   "metadata": {},
   "outputs": [],
   "source": [
    "#!pip install resend"
   ]
  },
  {
   "cell_type": "code",
   "execution_count": 2,
   "metadata": {},
   "outputs": [],
   "source": [
    "import os\n",
    "import asyncio\n",
    "from typing import Dict\n",
    "\n",
    "from dotenv import load_dotenv\n",
    "from agents import Agent, Runner, trace, function_tool\n",
    "from openai.types.responses import ResponseTextDeltaEvent\n",
    "\n",
    "import resend # import sendgrid\n",
    "#from sendgrid.helpers.mail import Mail, Email, To, Content"
   ]
  },
  {
   "cell_type": "code",
   "execution_count": 3,
   "metadata": {},
   "outputs": [
    {
     "data": {
      "text/plain": [
       "True"
      ]
     },
     "execution_count": 3,
     "metadata": {},
     "output_type": "execute_result"
    }
   ],
   "source": [
    "load_dotenv(override=True)"
   ]
  },
  {
   "cell_type": "code",
   "execution_count": 4,
   "metadata": {},
   "outputs": [
    {
     "name": "stdout",
     "output_type": "stream",
     "text": [
      "{'id': 'e0bc4c10-6e33-4196-9762-6cec163f2cfa'}\n"
     ]
    }
   ],
   "source": [
    "# 電子メールがあなたのために働いていることを確認しましょう\n",
    "\n",
    "def send_test_email():\n",
    "    #sg = sendgrid.SendGridAPIClient(api_key=os.environ.get('SENDGRID_API_KEY'))    \n",
    "    resend.api_key=os.getenv(\"RESEND_API_KEY\")\n",
    "\n",
    "    #from_email = Email(\"ed@edwarddonner.com\")  # Change to your verified sender\n",
    "    #to_email = To(\"ed.donner@gmail.com\")  # Change to your recipient\n",
    "    #content = Content(\"text/plain\", \"This is an important test email\")\n",
    "    #mail = Mail(from_email, to_email, \"Test email\", content).get()\n",
    "    #response = sg.client.mail.send.post(request_body=mail)\n",
    "    \n",
    "    response = resend.Emails.send({\n",
    "        \"from\": \"onboarding@resend.dev\",\n",
    "        \"to\": \"nishi_74322014@ksj.biglobe.ne.jp\",\n",
    "        \"subject\": \"Hello World\",  \"html\": \"<p>Congrats on sending your <strong>first email</strong>!</p>\"\n",
    "    })\n",
    "\n",
    "    # print(response.status_code)\n",
    "    print(response)\n",
    "\n",
    "send_test_email()"
   ]
  },
  {
   "cell_type": "markdown",
   "metadata": {},
   "source": [
    "### メールを受け取りましたか？\n",
    "\n",
    "202を手に入れたら、行ってもいいです！\n",
    "\n",
    "#### 証明書エラー\n",
    "\n",
    "certificate_verify_failedエラーが発生した場合、学生の Chris S と Oleksandr kが提案を持っています。  \n",
    "最初にこれを実行します： `!uv pip install --upgrade certifi`  \n",
    "次に、これを実行します：\n",
    "```python\n",
    "import certifi\n",
    "import os\n",
    "os.environ['SSL_CERT_FILE'] = certifi.where()\n",
    "```\n",
    "\n",
    "#### その他のエラーまたは電子メールなし\n",
    "\n",
    "他の問題がある場合は、SendGridダッシュボードでAPIキーと確認済みの送信者のメールアドレスを確認する必要があります\n",
    "\n",
    "または、[community_contributions/2_lab2_with_resend_email](https://github.com/ed-donner/agents/blob/main/2_openai/community_contributions/2_lab2_with_resend_email.ipynb)で「resendメール」を使用して代替実装を使用します\n",
    "\n",
    "（または - 以下の電子メール送信コードをPushover コールに置き換えること、または単純にフラット・ファイルに書き込むものをいつでも置き換えることができます）"
   ]
  },
  {
   "cell_type": "markdown",
   "metadata": {},
   "source": [
    "## ステップ1：エージェントワークフロー"
   ]
  },
  {
   "cell_type": "markdown",
   "metadata": {},
   "source": [
    "### instruction"
   ]
  },
  {
   "cell_type": "code",
   "execution_count": 5,
   "metadata": {},
   "outputs": [],
   "source": [
    "#instruction1「あなたはComplAIで営業担当者として働いています。\n",
    "# ComplAIは、AIを活用したSOC2コンプライアンスの確保と監査対策のためのSaaSツールを提供する企業です。\n",
    "# あなたは「プロフェッショナルで真摯な」コールドメールを作成しています。」\n",
    "instructions1 = \"You are a sales agent working for ComplAI, \\\n",
    "a company that provides a SaaS tool for ensuring SOC2 compliance and preparing for audits, powered by AI. \\\n",
    "You write professional, serious cold emails.\"\n",
    "\n",
    "# instructions2「あなたはComplAIで営業担当者として働いています。\n",
    "# ComplAIは、AIを活用したSOC2コンプライアンスの確保と監査対策のためのSaaSツールを提供する企業です。\n",
    "# あなたは「返信を期待できる、機知に富んだ魅力的な」コールドメールを作成しています。」\n",
    "instructions2 = \"You are a humorous, engaging sales agent working for ComplAI, \\\n",
    "a company that provides a SaaS tool for ensuring SOC2 compliance and preparing for audits, powered by AI. \\\n",
    "You write witty, engaging cold emails that are likely to get a response.\"\n",
    "\n",
    "# instructions3「あなたはComplAIで営業担当者として働いています。\n",
    "# ComplAIは、AIを活用したSOC2コンプライアンスの確保と監査対策のためのSaaSツールを提供する企業です。\n",
    "# あなたは「簡潔で要点を押さえた」コールドメールを作成しています。」\n",
    "instructions3 = \"You are a busy sales agent working for ComplAI, \\\n",
    "a company that provides a SaaS tool for ensuring SOC2 compliance and preparing for audits, powered by AI. \\\n",
    "You write concise, to the point cold emails.\""
   ]
  },
  {
   "cell_type": "markdown",
   "metadata": {},
   "source": [
    "### Agent"
   ]
  },
  {
   "cell_type": "markdown",
   "metadata": {},
   "source": [
    "#### Agentを生成して"
   ]
  },
  {
   "cell_type": "code",
   "execution_count": 6,
   "metadata": {},
   "outputs": [],
   "source": [
    "# プロフェッショナルな販売代理店\n",
    "sales_agent1 = Agent(\n",
    "        name=\"Professional Sales Agent\",\n",
    "        instructions=instructions1,\n",
    "        model=\"gpt-4o-mini\"\n",
    ")\n",
    "# 魅力的な販売代理店\n",
    "sales_agent2 = Agent(\n",
    "        name=\"Engaging Sales Agent\",\n",
    "        instructions=instructions2,\n",
    "        model=\"gpt-4o-mini\"\n",
    ")\n",
    "# 多忙な販売代理店\n",
    "sales_agent3 = Agent(\n",
    "        name=\"Busy Sales Agent\",\n",
    "        instructions=instructions3,\n",
    "        model=\"gpt-4o-mini\"\n",
    ")"
   ]
  },
  {
   "cell_type": "markdown",
   "metadata": {},
   "source": [
    "#### Agentを実行"
   ]
  },
  {
   "cell_type": "markdown",
   "metadata": {},
   "source": [
    "##### Agentを１つ実行"
   ]
  },
  {
   "cell_type": "code",
   "execution_count": 7,
   "metadata": {},
   "outputs": [
    {
     "name": "stdout",
     "output_type": "stream",
     "text": [
      "Subject: Simplifying Your SOC 2 Compliance Process with AI\n",
      "\n",
      "Hi [Recipient's Name],\n",
      "\n",
      "I hope this message finds you well. My name is [Your Name], and I’m with ComplAI, where we specialize in streamlining SOC 2 compliance and audit preparation through our innovative SaaS platform.\n",
      "\n",
      "Navigating the complexities of SOC 2 can be a significant challenge for many organizations, often consuming valuable time and resources. Our AI-powered tool simplifies this process by automating documentation, providing real-time compliance monitoring, and delivering actionable insights tailored to your unique needs.\n",
      "\n",
      "Some key benefits of our platform include:\n",
      "- **Automated Documentation**: Reduce manual efforts and minimize errors in compliance documentation.\n",
      "- **Real-Time Monitoring**: Stay ahead of compliance requirements with continuous oversight.\n",
      "- **Audit Preparation Made Easy**: Generate audit-ready reports with just a few clicks.\n",
      "\n",
      "I’d love to schedule a brief call to discuss how ComplAI can help your organization enhance its compliance processes while saving time and resources. Are you available for a quick chat next week?\n",
      "\n",
      "Thank you for considering this opportunity. I look forward to connecting.\n",
      "\n",
      "Best regards,\n",
      "\n",
      "[Your Name]  \n",
      "[Your Job Title]  \n",
      "ComplAI  \n",
      "[Your Phone Number]  \n",
      "[Your Email]  "
     ]
    }
   ],
   "source": [
    "# AIエージェントを非同期で実行し、その出力をストリーミング表示する処理\n",
    "\n",
    "# .run_streamed() は 「ストリーミング実行」を意味する。\n",
    "result = Runner.run_streamed(sales_agent1, input=\"Write a cold sales email\")\n",
    "\n",
    "# ストリーム・イベントを非同期で取得\n",
    "async for event in result.stream_events():\n",
    "    # モデルのテキスト出力イベントで差分が生成されたら\n",
    "    if event.type == \"raw_response_event\" and isinstance(event.data, ResponseTextDeltaEvent):\n",
    "        # 受け取ったテキスト差分を改行せずバッファリングせず即時出力。\n",
    "        print(event.data.delta, end=\"\", flush=True)"
   ]
  },
  {
   "cell_type": "markdown",
   "metadata": {},
   "source": [
    "##### Agentを並列実行"
   ]
  },
  {
   "cell_type": "code",
   "execution_count": 8,
   "metadata": {},
   "outputs": [
    {
     "name": "stdout",
     "output_type": "stream",
     "text": [
      "Subject: Simplify Your SOC 2 Compliance with ComplAI\n",
      "\n",
      "Hi [Recipient's Name],\n",
      "\n",
      "I hope this message finds you well. I'm reaching out to introduce you to ComplAI, an innovative SaaS tool designed to streamline SOC 2 compliance and audit preparation.\n",
      "\n",
      "As you know, maintaining compliance can be a complex and time-consuming process. ComplAI harnesses the power of AI to automate key compliance tasks, providing you with a clear, organized approach to managing your documentation and audit readiness.\n",
      "\n",
      "Here are a few ways ComplAI can benefit your organization:\n",
      "\n",
      "- **Automated Documentation**: Generate and manage your compliance documents effortlessly.\n",
      "- **Real-Time Monitoring**: Stay informed with ongoing compliance assessments and alerts, reducing the risk of last-minute surprises.\n",
      "- **Efficient Preparation**: Simplify the audit process, saving your team valuable time for other critical projects.\n",
      "\n",
      "I would love the opportunity to discuss how ComplAI can add value to your compliance efforts and support your organization’s growth. Are you available for a brief call this week?\n",
      "\n",
      "Thank you for considering this. I look forward to the possibility of working together.\n",
      "\n",
      "Best regards,\n",
      "\n",
      "[Your Name]  \n",
      "[Your Job Title]  \n",
      "ComplAI  \n",
      "[Your Phone Number]  \n",
      "[Your Email Address]  \n",
      "[Your Company Website]  \n",
      "\n",
      "\n",
      "Subject: Ready to Make Audits Less Painful? 🎉\n",
      "\n",
      "Hi [Recipient's Name],\n",
      "\n",
      "Ever tried to fit a giraffe in a Mini Cooper? That's kind of what tackling SOC2 compliance feels like without the right tools! 🦒🚗\n",
      "\n",
      "We’re ComplAI, and we make the audit process as smooth as a freshly buttered croissant. 🥐 (And trust me, no one wants to be the person who has to deal with compliance without a tasty treat involved!)\n",
      "\n",
      "With our AI-powered platform, you can:\n",
      "\n",
      "- **Streamline compliance tasks**, so you can focus on more exciting things—like finally finishing that Netflix series you started last year.\n",
      "- **Automate reporting**, eliminating the need for late-night “urgent” compliance calls (we get it, those 2 AM panic sessions aren’t fun!).\n",
      "- **Prepare for audits** as effortlessly as you breathe—no more manual labor for you!\n",
      "\n",
      "Let’s chat about how we can turn your compliance headaches into a distant memory. How does a quick call this week sound? I promise it’ll be more exciting than discussing the weather! ☀️\n",
      "\n",
      "Looking forward to hearing from you!\n",
      "\n",
      "Cheers,  \n",
      "[Your Name]  \n",
      "[Your Position]  \n",
      "ComplAI  \n",
      "[Your Phone Number]  \n",
      "[Your LinkedIn Profile]  \n",
      "\n",
      "P.S. You’ll be saving time for all those important things—like deciding what to order for lunch! 🍕\n",
      "\n",
      "\n",
      "Subject: Simplify SOC2 Compliance with AI Power\n",
      "\n",
      "Hi [Recipient's Name],\n",
      "\n",
      "I hope this message finds you well! I’m reaching out to introduce you to ComplAI, a cutting-edge SaaS tool designed to streamline SOC2 compliance and audit preparation.\n",
      "\n",
      "Our AI-driven platform automates tasks that typically consume valuable time, helping you ensure compliance effortlessly and efficiently. Companies using ComplAI have seen significant reductions in audit preparation time and associated costs.\n",
      "\n",
      "Would you be open to a quick call next week to explore how we can help your team simplify compliance?\n",
      "\n",
      "Best,  \n",
      "[Your Name]  \n",
      "[Your Position]  \n",
      "ComplAI  \n",
      "[Your Contact Information]  \n",
      "\n",
      "\n"
     ]
    }
   ],
   "source": [
    "# コールド・セールス・メールを書く\n",
    "message = \"Write a cold sales email\"\n",
    "\n",
    "# OpenAI API PF → Dashboard → Logs → Traces の \n",
    "with trace(\"Parallel cold emails\"): # 並行したコールド・メール\n",
    "    # 非同期IO的な意味で並列実行\n",
    "    results = await asyncio.gather(\n",
    "        Runner.run(sales_agent1, message),\n",
    "        Runner.run(sales_agent2, message),\n",
    "        Runner.run(sales_agent3, message),\n",
    "    )\n",
    "\n",
    "# 非同期なので、ストリーミング出力は無理\n",
    "outputs = [result.final_output for result in results]\n",
    "\n",
    "for output in outputs:\n",
    "    print(output + \"\\n\\n\")"
   ]
  },
  {
   "cell_type": "markdown",
   "metadata": {},
   "source": [
    "##### Agentを並列＋直列実行\n",
    "オーケストレーション＆ワークフローみたいな。"
   ]
  },
  {
   "cell_type": "code",
   "execution_count": 9,
   "metadata": {},
   "outputs": [],
   "source": [
    "# セールス・ピッカー：提示された選択肢の中から、最適なコールド・セールス・メールを選択してください。\n",
    "# 自分が顧客だと想像し、最も返信しそうなメールを選んでください。説明は不要です。選択したメールのみで返信してください。\",\n",
    "sales_picker = Agent(\n",
    "    name=\"sales_picker\",\n",
    "    instructions=\"You pick the best cold sales email from the given options. \\\n",
    "Imagine you are a customer and pick the one you are most likely to respond to. \\\n",
    "Do not give an explanation; reply with the selected email only.\",\n",
    "    model=\"gpt-4o-mini\"\n",
    ")"
   ]
  },
  {
   "cell_type": "code",
   "execution_count": 10,
   "metadata": {},
   "outputs": [
    {
     "name": "stdout",
     "output_type": "stream",
     "text": [
      "Best sales email:\n",
      "Subject: Is Your Compliance Strategy Ready for Its Close-Up? 🎬\n",
      "\n",
      "Hey [First Name],\n",
      "\n",
      "Hope this email finds you as well as your company’s SOC2 audit prep finds you stressed! 😅 \n",
      "\n",
      "Let’s face it, preparing for compliance can feel like a never-ending game of “Where’s Waldo” – only Waldo is a mountain of documents, and the prize is a stress-induced headache! 🎢 \n",
      "\n",
      "At ComplAI, we believe that ensuring SOC2 compliance shouldn't feel like climbing Everest in flip-flops. Our AI-powered tool turns the chaos of audits into a smooth, breezy walk in the park (with a picnic, if you’re lucky). 🍉🥪\n",
      "\n",
      "Imagine this:\n",
      "- Effortlessly centralize your compliance efforts.\n",
      "- Easily access audit-ready documentation at your fingertips.\n",
      "- Save time (and sanity) while doing it all!\n",
      "\n",
      "If you're ready to trade in those flip-flops for some solid hiking boots, let’s chat! I promise, no pressure—just a friendly conversation about how we can help make SOC2 compliance your new favorite pastime.\n",
      "\n",
      "Looking forward to hearing from you!\n",
      "\n",
      "Best,  \n",
      "[Your Name]  \n",
      "📧 [Your Email]  \n",
      "📞 [Your Phone Number]  \n",
      "P.S. I hear flip-flops make terrible hiking footwear. Just saying! 😂\n"
     ]
    }
   ],
   "source": [
    "# コールド・セールス・メールを書く\n",
    "message = \"Write a cold sales email\"\n",
    "\n",
    "# OpenAI API PF → Dashboard → Logs → Traces の \n",
    "with trace(\"Selection from sales people\"): # 営業担当者からの選択\n",
    "    # 非同期IO的な意味で並列実行\n",
    "    results = await asyncio.gather(\n",
    "        Runner.run(sales_agent1, message),\n",
    "        Runner.run(sales_agent2, message),\n",
    "        Runner.run(sales_agent3, message),\n",
    "    )\n",
    "\n",
    "    # results 中の各 result から最終的な出力（テキスト）だけを取り出し、リスト化。\n",
    "    outputs = [result.final_output for result in results]\n",
    "\n",
    "    # 複数のメール案を 1つのテキストにまとめ比較しやすい形に。\n",
    "    emails = \"Cold sales emails:\\n\\n\" + \"\\n\\nEmail:\\n\\n\".join(outputs)\n",
    "\n",
    "    # sales_pickerがメールを選択\n",
    "    best = await Runner.run(sales_picker, emails)\n",
    "\n",
    "    # sales_pickerが選択したメールを出力\n",
    "    print(f\"Best sales email:\\n{best.final_output}\")\n"
   ]
  },
  {
   "cell_type": "markdown",
   "metadata": {},
   "source": [
    "今すぐ行ってトレースをチェックしてください：\n",
    "\n",
    "https://platform.openai.com/traces"
   ]
  },
  {
   "cell_type": "markdown",
   "metadata": {},
   "source": [
    "## ステップ2、3：ツールとエージェントの相互作用\n",
    "\n",
    "ここでツールを追加します。\n",
    "\n",
    "JSON の定型コードと、if ロジックを含む `handle_tool_calls()` 関数を思い出してください。\n",
    "\n",
    "そのすべてのボイラープレートJSONを覚えていますか？機能をデコレータ「@function_tool」で包むだけです。"
   ]
  },
  {
   "cell_type": "code",
   "execution_count": 11,
   "metadata": {},
   "outputs": [
    {
     "name": "stdout",
     "output_type": "stream",
     "text": [
      "{'id': '2fce68d0-e6bf-4dfd-acc3-de789ad6a0f3'}\n"
     ]
    }
   ],
   "source": [
    "@function_tool\n",
    "def send_email(body: str):\n",
    "    \"\"\" Send out an email with the given body to all sales prospects \"\"\"\n",
    "    \n",
    "    #sg = sendgrid.SendGridAPIClient(api_key=os.environ.get('SENDGRID_API_KEY'))\n",
    "    resend.api_key=os.getenv(\"RESEND_API_KEY\")\n",
    "    \n",
    "    #from_email = Email(\"ed@edwarddonner.com\")  # 検証済みの送信者に変更します\n",
    "    #to_email = To(\"ed.donner@gmail.com\")  # 受信者に変更します\n",
    "    #content = Content(\"text/plain\", body)\n",
    "    #mail = Mail(from_email, to_email, \"Sales email\", content).get()\n",
    "    #sg.client.mail.send.post(request_body=mail)\n",
    "\n",
    "    response = resend.Emails.send({\n",
    "        \"from\": \"onboarding@resend.dev\",\n",
    "        \"to\": \"nishi_74322014@ksj.biglobe.ne.jp\",\n",
    "        \"subject\": \"Sales email\",\n",
    "        \"text\": body\n",
    "    })\n",
    "\n",
    "    return {\"status\": \"success\"}"
   ]
  },
  {
   "cell_type": "markdown",
   "metadata": {},
   "source": [
    "### @function_toolでJSONに自動的変換"
   ]
  },
  {
   "cell_type": "code",
   "execution_count": 12,
   "metadata": {},
   "outputs": [
    {
     "data": {
      "text/plain": [
       "FunctionTool(name='send_email', description='Send out an email with the given body to all sales prospects', params_json_schema={'properties': {'body': {'title': 'Body', 'type': 'string'}}, 'required': ['body'], 'title': 'send_email_args', 'type': 'object', 'additionalProperties': False}, on_invoke_tool=<function function_tool.<locals>._create_function_tool.<locals>._on_invoke_tool at 0x7f5556357380>, strict_json_schema=True, is_enabled=True)"
      ]
     },
     "execution_count": 12,
     "metadata": {},
     "output_type": "execute_result"
    }
   ],
   "source": [
    "# 見てみましょう（JSON）\n",
    "send_email"
   ]
  },
  {
   "cell_type": "markdown",
   "metadata": {},
   "source": [
    "### またエージェントをツールに変換できる"
   ]
  },
  {
   "cell_type": "code",
   "execution_count": 13,
   "metadata": {},
   "outputs": [
    {
     "data": {
      "text/plain": [
       "FunctionTool(name='sales_agent1', description='Write a cold sales email', params_json_schema={'properties': {'input': {'title': 'Input', 'type': 'string'}}, 'required': ['input'], 'title': 'sales_agent1_args', 'type': 'object', 'additionalProperties': False}, on_invoke_tool=<function function_tool.<locals>._create_function_tool.<locals>._on_invoke_tool at 0x7f554b458c20>, strict_json_schema=True, is_enabled=True)"
      ]
     },
     "execution_count": 13,
     "metadata": {},
     "output_type": "execute_result"
    }
   ],
   "source": [
    "# エージェントをツールに変換\n",
    "tool1 = sales_agent1.as_tool(tool_name=\"sales_agent1\", tool_description=\"Write a cold sales email\")\n",
    "\n",
    "# 見てみましょう（JSON）\n",
    "tool1"
   ]
  },
  {
   "cell_type": "markdown",
   "metadata": {},
   "source": [
    "### すべてのツールを一緒にまとめられる\n",
    "\n",
    "- 3つの電子メールライティングエージェントのそれぞれのツール\n",
    "- そして、私たちの関数が電子メールを送信するためのツール"
   ]
  },
  {
   "cell_type": "code",
   "execution_count": 14,
   "metadata": {},
   "outputs": [
    {
     "data": {
      "text/plain": [
       "[FunctionTool(name='sales_agent1', description='Write a cold sales email', params_json_schema={'properties': {'input': {'title': 'Input', 'type': 'string'}}, 'required': ['input'], 'title': 'sales_agent1_args', 'type': 'object', 'additionalProperties': False}, on_invoke_tool=<function function_tool.<locals>._create_function_tool.<locals>._on_invoke_tool at 0x7f5554d79ee0>, strict_json_schema=True, is_enabled=True),\n",
       " FunctionTool(name='sales_agent2', description='Write a cold sales email', params_json_schema={'properties': {'input': {'title': 'Input', 'type': 'string'}}, 'required': ['input'], 'title': 'sales_agent2_args', 'type': 'object', 'additionalProperties': False}, on_invoke_tool=<function function_tool.<locals>._create_function_tool.<locals>._on_invoke_tool at 0x7f5556c74cc0>, strict_json_schema=True, is_enabled=True),\n",
       " FunctionTool(name='sales_agent3', description='Write a cold sales email', params_json_schema={'properties': {'input': {'title': 'Input', 'type': 'string'}}, 'required': ['input'], 'title': 'sales_agent3_args', 'type': 'object', 'additionalProperties': False}, on_invoke_tool=<function function_tool.<locals>._create_function_tool.<locals>._on_invoke_tool at 0x7f5556cdeca0>, strict_json_schema=True, is_enabled=True),\n",
       " FunctionTool(name='send_email', description='Send out an email with the given body to all sales prospects', params_json_schema={'properties': {'body': {'title': 'Body', 'type': 'string'}}, 'required': ['body'], 'title': 'send_email_args', 'type': 'object', 'additionalProperties': False}, on_invoke_tool=<function function_tool.<locals>._create_function_tool.<locals>._on_invoke_tool at 0x7f5556357380>, strict_json_schema=True, is_enabled=True)]"
      ]
     },
     "execution_count": 14,
     "metadata": {},
     "output_type": "execute_result"
    }
   ],
   "source": [
    "# コールド・セールス・メールを書く\n",
    "description = \"Write a cold sales email\"\n",
    "\n",
    "# エージェントをツールに変換\n",
    "tool1 = sales_agent1.as_tool(tool_name=\"sales_agent1\", tool_description=description)\n",
    "tool2 = sales_agent2.as_tool(tool_name=\"sales_agent2\", tool_description=description)\n",
    "tool3 = sales_agent3.as_tool(tool_name=\"sales_agent3\", tool_description=description)\n",
    "\n",
    "# ツールにまとめる。\n",
    "tools = [tool1, tool2, tool3, send_email]\n",
    "\n",
    "# 見てみましょう（JSON）\n",
    "tools"
   ]
  },
  {
   "cell_type": "markdown",
   "metadata": {},
   "source": [
    "### セールスマネージャー - 計画エージェント"
   ]
  },
  {
   "cell_type": "code",
   "execution_count": 15,
   "metadata": {},
   "outputs": [],
   "source": [
    "# 学生Guillermo Fのおかげで指示の改善\n",
    "\n",
    "# あなたはComplAIの営業マネージャーです。あなたの目標は、sales_agentツールを使って、最適なコールド・セールス・メールを1通見つけることです。\n",
    "# \n",
    "# 以下の手順を慎重に実行してください。\n",
    "# 1. 下書きの作成：3つのsales_agentツールすべてを使って、3種類のメール下書きを作成します。3つの下書きがすべて完成するまで、先に進めないでください。\n",
    "# 2. 評価と選択：下書きを確認し、最も効果的だと判断した上で、最適なメールを1通選びます。\n",
    "# 3. send_emailツールを使用して、最適なメール（そして最適なメールのみ）をユーザーに送信します。\n",
    "# \n",
    "# 重要なルール：\n",
    "# - 下書きの作成には、sales_agentツールを使用する必要があります。自分で作成しないでください。\n",
    "# - send_emailツールを使用して送信するメールは1通のみです。複数のメールは送信しないでください。\n",
    "\n",
    "instructions = \"\"\"\n",
    "You are a Sales Manager at ComplAI. Your goal is to find the single best cold sales email using the sales_agent tools.\n",
    " \n",
    "Follow these steps carefully:\n",
    "1. Generate Drafts: Use all three sales_agent tools to generate three different email drafts. Do not proceed until all three drafts are ready.\n",
    " \n",
    "2. Evaluate and Select: Review the drafts and choose the single best email using your judgment of which one is most effective.\n",
    " \n",
    "3. Use the send_email tool to send the best email (and only the best email) to the user.\n",
    " \n",
    "Crucial Rules:\n",
    "- You must use the sales agent tools to generate the drafts — do not write them yourself.\n",
    "- You must send ONE email using the send_email tool — never more than one.\n",
    "\"\"\"\n",
    "\n",
    "# セールスマネージャー - 計画エージェント\n",
    "sales_manager = Agent(name=\"Sales Manager\", instructions=instructions, tools=tools, model=\"gpt-4o-mini\")\n",
    "\n",
    "#「CEO様」宛て「コールド・セールス・メール」を送信\n",
    "message = \"Send a cold sales email addressed to 'Dear CEO'\"\n",
    "\n",
    "# OpenAI API PF → Dashboard → Logs → Traces の \n",
    "with trace(\"Sales manager\"):\n",
    "    #「CEO様」宛て「コールド・セールス・メール」を送信\n",
    "    result = await Runner.run(sales_manager, message)"
   ]
  },
  {
   "cell_type": "markdown",
   "metadata": {},
   "source": [
    "<table style=\"margin: 0; text-align: left; width:100%\">\n",
    "    <tr>\n",
    "        <td style=\"width: 150px; height: 150px; vertical-align: middle;\">\n",
    "            <img src=\"../assets/stop.png\" width=\"150\" height=\"150\" style=\"display: block;\" />\n",
    "        </td>\n",
    "        <td>\n",
    "            <h2 style=\"color:#ff7800;\">えっ、メールが届いてない？</h2>\n",
    "            <span style=\"color:#ff7800;\">問題と解決策を説明してくださった学生のChris S.さんに心より感謝いたします。前のセルを実行してもメールが届かない場合は、以下の点を確認してください。: <br/>\n",
    "            （１）まず、スパムフォルダを確認してください！何人かの学生が、メールがスパムフォルダに入っていることに気づいていないようです！（２）次に、print(result)を実行して、SSLに関するエラーが発生していないか確認してください。SSLエラーが発生している場合は、こちらの <a href=\"https://chatgpt.com/share/680620ec-3b30-8012-8c26-ca86693d0e3d\">ネットワークのヒント</a> を確認し、次のセルの注記をご覧ください。（３）また、OpenAIのトレースを確認し、SendGridのウェブサイトで調査して手がかりを探してみてください。何かお手伝いできることがあればお知らせください！\n",
    "            </span>\n",
    "        </td>\n",
    "    </tr>\n",
    "</table>"
   ]
  },
  {
   "cell_type": "markdown",
   "metadata": {},
   "source": [
    "### そして、Windows 11で学生のOleksandrから電子メールを送信するためのもう1つの提案：\n",
    "\n",
    "証明書SSLエラーが発生している場合は、  \n",
    "ターミナルでこれを実行します： `uv pip install --upgrade certifi`\n",
    "\n",
    "次に、このコードを実行します。\n",
    "```python\n",
    "import certifi\n",
    "import os\n",
    "os.environ['SSL_CERT_FILE'] = certifi.where()\n",
    "```\n",
    "\n",
    "Oleksandrありがとう！"
   ]
  },
  {
   "cell_type": "markdown",
   "metadata": {},
   "source": [
    "### トレースを確認することを忘れないでください\n",
    "\n",
    "https://platform.openai.com/traces\n",
    "\n",
    "そして、あなたのメールをチェックしてください!!"
   ]
  },
  {
   "cell_type": "markdown",
   "metadata": {},
   "source": [
    "## ハンドオフ：エージェントがエージェントに委任（コントロールごと渡す）\n",
    "\n",
    "- ハンドオフとエージェントとしてのエージェントは似ています\n",
    "- どちらの場合も、エージェントは別のエージェントと協力できます\n",
    "- ツールを使用すると、コントロールが戻る\n",
    "- ハンドオフを使用すると、コントロールが通過します"
   ]
  },
  {
   "cell_type": "code",
   "execution_count": 16,
   "metadata": {},
   "outputs": [],
   "source": [
    "# コールド・セールス・メールの件名を書くことができます。メッセージの内容に応じて、返信を期待できる件名を書く必要があります。\n",
    "subject_instructions = \"You can write a subject for a cold sales email. \\\n",
    "You are given a message and you need to write a subject for an email that is likely to get a response.\"\n",
    "\n",
    "# テキストメールの本文を HTML メールの本文に変換。マークダウンが含まれている可能性のあるテキストメールの本文を、シンプルで明確、かつ魅力的なレイアウトとデザインの HTML メールの本文に変換する。\n",
    "html_instructions = \"You can convert a text email body to an HTML email body. \\\n",
    "You are given a text email body which might have some markdown \\\n",
    "and you need to convert it to an HTML email body with simple, clear, compelling layout and design.\"\n",
    "\n",
    "# 件名考案エージェントをツール化\n",
    "subject_writer = Agent(name=\"Email subject writer\", instructions=subject_instructions, model=\"gpt-4o-mini\")\n",
    "subject_tool = subject_writer.as_tool(tool_name=\"subject_writer\", tool_description=\"Write a subject for a cold sales email\")\n",
    "\n",
    "# MD → HTML変換エージェントをツール化\n",
    "html_converter = Agent(name=\"HTML email body converter\", instructions=html_instructions, model=\"gpt-4o-mini\")\n",
    "html_tool = html_converter.as_tool(tool_name=\"html_converter\",tool_description=\"Convert a text email body to an HTML email body\")"
   ]
  },
  {
   "cell_type": "code",
   "execution_count": 17,
   "metadata": {},
   "outputs": [
    {
     "name": "stdout",
     "output_type": "stream",
     "text": [
      "{'id': '5de23cb6-7d30-4235-a12c-912caf7ebe89'}\n"
     ]
    }
   ],
   "source": [
    "# テキストメールからHTMLに改修されている。\n",
    "@function_tool\n",
    "def send_html_email(subject: str, html_body: str) -> Dict[str, str]:\n",
    "    \"\"\" Send out an email with the given subject and HTML body to all sales prospects \"\"\"\n",
    "    \n",
    "    #sg = sendgrid.SendGridAPIClient(api_key=os.environ.get('SENDGRID_API_KEY'))\n",
    "    resend.api_key=os.getenv(\"RESEND_API_KEY\")\n",
    "    \n",
    "    #from_email = Email(\"ed@edwarddonner.com\")  # 検証済みの送信者に変更します\n",
    "    #to_email = To(\"ed.donner@gmail.com\")  # 受信者に変更します\n",
    "    #content = Content(\"text/html\", html_body)\n",
    "    #mail = Mail(from_email, to_email, subject, content).get()\n",
    "    #sg.client.mail.send.post(request_body=mail)\n",
    "    \n",
    "    response = resend.Emails.send({\n",
    "        \"from\": \"onboarding@resend.dev\",\n",
    "        \"to\": \"nishi_74322014@ksj.biglobe.ne.jp\",\n",
    "        \"subject\": subject,\n",
    "        \"html\": html_body\n",
    "    })\n",
    "\n",
    "    return {\"status\": \"success\"}\n",
    "\n",
    "# メール送信のテスト\n",
    "send_test_email()"
   ]
  },
  {
   "cell_type": "code",
   "execution_count": 18,
   "metadata": {},
   "outputs": [
    {
     "data": {
      "text/plain": [
       "[FunctionTool(name='subject_writer', description='Write a subject for a cold sales email', params_json_schema={'properties': {'input': {'title': 'Input', 'type': 'string'}}, 'required': ['input'], 'title': 'subject_writer_args', 'type': 'object', 'additionalProperties': False}, on_invoke_tool=<function function_tool.<locals>._create_function_tool.<locals>._on_invoke_tool at 0x7f5549bbd120>, strict_json_schema=True, is_enabled=True),\n",
       " FunctionTool(name='html_converter', description='Convert a text email body to an HTML email body', params_json_schema={'properties': {'input': {'title': 'Input', 'type': 'string'}}, 'required': ['input'], 'title': 'html_converter_args', 'type': 'object', 'additionalProperties': False}, on_invoke_tool=<function function_tool.<locals>._create_function_tool.<locals>._on_invoke_tool at 0x7f5549bbd260>, strict_json_schema=True, is_enabled=True),\n",
       " FunctionTool(name='send_html_email', description='Send out an email with the given subject and HTML body to all sales prospects', params_json_schema={'properties': {'subject': {'title': 'Subject', 'type': 'string'}, 'html_body': {'title': 'Html Body', 'type': 'string'}}, 'required': ['subject', 'html_body'], 'title': 'send_html_email_args', 'type': 'object', 'additionalProperties': False}, on_invoke_tool=<function function_tool.<locals>._create_function_tool.<locals>._on_invoke_tool at 0x7f5554b15260>, strict_json_schema=True, is_enabled=True)]"
      ]
     },
     "execution_count": 18,
     "metadata": {},
     "output_type": "execute_result"
    }
   ],
   "source": [
    "# ツールにまとめる。\n",
    "tools = [subject_tool, html_tool, send_html_email]\n",
    "\n",
    "# 見てみましょう（JSON）\n",
    "tools"
   ]
  },
  {
   "cell_type": "code",
   "execution_count": 19,
   "metadata": {},
   "outputs": [],
   "source": [
    "# あなたはメールのフォーマッター兼送信者です。送信するメールの本文を受け取ります。\n",
    "# まず、subject_writer ツールを使用してメールの件名を作成し、次に html_converter ツールを使用して本文を HTML に変換します。\n",
    "# 最後に、send_html_email ツールを使用して、件名と HTML 本文を含むメールを送信します。\n",
    "instructions =\"You are an email formatter and sender. You receive the body of an email to be sent. \\\n",
    "You first use the subject_writer tool to write a subject for the email, then use the html_converter tool to convert the body to HTML. \\\n",
    "Finally, you use the send_html_email tool to send the email with the subject and HTML body.\"\n",
    "\n",
    "# メール関係のハンドリングを（メールをHTMLに変換して送信）するエージェント\n",
    "emailer_agent = Agent(\n",
    "    name=\"Email Manager\",\n",
    "    instructions=instructions,\n",
    "    tools=tools,\n",
    "    model=\"gpt-4o-mini\",\n",
    "    handoff_description=\"Convert an email to HTML and send it\")"
   ]
  },
  {
   "cell_type": "markdown",
   "metadata": {},
   "source": [
    "### これで、3つのツールと1つのハンドオフがあります"
   ]
  },
  {
   "cell_type": "code",
   "execution_count": 20,
   "metadata": {},
   "outputs": [
    {
     "name": "stdout",
     "output_type": "stream",
     "text": [
      "[FunctionTool(name='sales_agent1', description='Write a cold sales email', params_json_schema={'properties': {'input': {'title': 'Input', 'type': 'string'}}, 'required': ['input'], 'title': 'sales_agent1_args', 'type': 'object', 'additionalProperties': False}, on_invoke_tool=<function function_tool.<locals>._create_function_tool.<locals>._on_invoke_tool at 0x7f5554d79ee0>, strict_json_schema=True, is_enabled=True), FunctionTool(name='sales_agent2', description='Write a cold sales email', params_json_schema={'properties': {'input': {'title': 'Input', 'type': 'string'}}, 'required': ['input'], 'title': 'sales_agent2_args', 'type': 'object', 'additionalProperties': False}, on_invoke_tool=<function function_tool.<locals>._create_function_tool.<locals>._on_invoke_tool at 0x7f5556c74cc0>, strict_json_schema=True, is_enabled=True), FunctionTool(name='sales_agent3', description='Write a cold sales email', params_json_schema={'properties': {'input': {'title': 'Input', 'type': 'string'}}, 'required': ['input'], 'title': 'sales_agent3_args', 'type': 'object', 'additionalProperties': False}, on_invoke_tool=<function function_tool.<locals>._create_function_tool.<locals>._on_invoke_tool at 0x7f5556cdeca0>, strict_json_schema=True, is_enabled=True)]\n",
      "[Agent(name='Email Manager', handoff_description='Convert an email to HTML and send it', tools=[FunctionTool(name='subject_writer', description='Write a subject for a cold sales email', params_json_schema={'properties': {'input': {'title': 'Input', 'type': 'string'}}, 'required': ['input'], 'title': 'subject_writer_args', 'type': 'object', 'additionalProperties': False}, on_invoke_tool=<function function_tool.<locals>._create_function_tool.<locals>._on_invoke_tool at 0x7f5549bbd120>, strict_json_schema=True, is_enabled=True), FunctionTool(name='html_converter', description='Convert a text email body to an HTML email body', params_json_schema={'properties': {'input': {'title': 'Input', 'type': 'string'}}, 'required': ['input'], 'title': 'html_converter_args', 'type': 'object', 'additionalProperties': False}, on_invoke_tool=<function function_tool.<locals>._create_function_tool.<locals>._on_invoke_tool at 0x7f5549bbd260>, strict_json_schema=True, is_enabled=True), FunctionTool(name='send_html_email', description='Send out an email with the given subject and HTML body to all sales prospects', params_json_schema={'properties': {'subject': {'title': 'Subject', 'type': 'string'}, 'html_body': {'title': 'Html Body', 'type': 'string'}}, 'required': ['subject', 'html_body'], 'title': 'send_html_email_args', 'type': 'object', 'additionalProperties': False}, on_invoke_tool=<function function_tool.<locals>._create_function_tool.<locals>._on_invoke_tool at 0x7f5554b15260>, strict_json_schema=True, is_enabled=True)], mcp_servers=[], mcp_config={}, instructions='You are an email formatter and sender. You receive the body of an email to be sent. You first use the subject_writer tool to write a subject for the email, then use the html_converter tool to convert the body to HTML. Finally, you use the send_html_email tool to send the email with the subject and HTML body.', prompt=None, handoffs=[], model='gpt-4o-mini', model_settings=ModelSettings(temperature=None, top_p=None, frequency_penalty=None, presence_penalty=None, tool_choice=None, parallel_tool_calls=None, truncation=None, max_tokens=None, reasoning=None, verbosity=None, metadata=None, store=None, include_usage=None, response_include=None, top_logprobs=None, extra_query=None, extra_body=None, extra_headers=None, extra_args=None), input_guardrails=[], output_guardrails=[], output_type=None, hooks=None, tool_use_behavior='run_llm_again', reset_tool_choice=True)]\n"
     ]
    }
   ],
   "source": [
    "# （エージェントを）ツールにまとめる。\n",
    "tools = [tool1, tool2, tool3]\n",
    "print(tools)\n",
    "\n",
    "# （メール関係のハンドリングは）ハンドオフする。\n",
    "handoffs = [emailer_agent]\n",
    "print(handoffs)"
   ]
  },
  {
   "cell_type": "code",
   "execution_count": 21,
   "metadata": {},
   "outputs": [],
   "source": [
    "# 学生Guillermo Fのおかげで指示の改善\n",
    "# メール送信の所がツール使用からハンドオフニ変更されている。\n",
    "\n",
    "# あなたはComplAIの営業マネージャーです。あなたの目標は、sales_agentツールを使って、最適なコールド・セールス・メールを1通見つけることです。\n",
    "# \n",
    "# 以下の手順を慎重に実行してください。\n",
    "# 1. 下書きの作成：3つのsales_agentツールすべてを使って、3種類のメール下書きを作成します。3つの下書きがすべて完成するまで、先に進めないでください。\n",
    "# 2. 評価と選択：下書きを確認し、最も効果的だと判断した上で、最適なメールを1通選びます。最初の結果に満足できない場合は、ツールを複数回使用できます。\n",
    "# 3. 送信のためのハンドオフ：採用されたメールの下書きのみをEmail Managerエージェントに渡します。Email Managerがフォーマットと送信を行います。\n",
    "# \n",
    "# 重要なルール：\n",
    "# - 下書きの作成には、sales_agentツールを使用する必要があります。自分で作成しないでください。\n",
    "# - Email Managerに引き継ぐメールは1通のみで、複数回は引き継がないでください。\n",
    "\n",
    "sales_manager_instructions = \"\"\"\n",
    "You are a Sales Manager at ComplAI. Your goal is to find the single best cold sales email using the sales_agent tools.\n",
    " \n",
    "Follow these steps carefully:\n",
    "1. Generate Drafts: Use all three sales_agent tools to generate three different email drafts. Do not proceed until all three drafts are ready.\n",
    " \n",
    "2. Evaluate and Select: Review the drafts and choose the single best email using your judgment of which one is most effective.\n",
    "You can use the tools multiple times if you're not satisfied with the results from the first try.\n",
    " \n",
    "3. Handoff for Sending: Pass ONLY the winning email draft to the 'Email Manager' agent. The Email Manager will take care of formatting and sending.\n",
    " \n",
    "Crucial Rules:\n",
    "- You must use the sales agent tools to generate the drafts — do not write them yourself.\n",
    "- You must hand off exactly ONE email to the Email Manager — never more than one.\n",
    "\"\"\"\n",
    "\n",
    "# Sales Manager\n",
    "sales_manager = Agent(\n",
    "    name=\"Sales Manager\",\n",
    "    instructions=sales_manager_instructions,\n",
    "    # （エージェントを）ツールにまとめる。\n",
    "    tools=tools,\n",
    "    # （メール関係のハンドリングは）ハンドオフする。\n",
    "    handoffs=handoffs,\n",
    "    model=\"gpt-4o-mini\")\n",
    "\n",
    "# アリスから「CEO様」宛て「コールド・セールス・メール」を送信\n",
    "message = \"Send out a cold sales email addressed to Dear CEO from Alice\"\n",
    "\n",
    "# OpenAI API PF → Dashboard → Logs → Traces の \n",
    "with trace(\"Automated SDR\"):\n",
    "    # アリスから「CEO様」宛て「コールド・セールス・メール」を送信\n",
    "    result = await Runner.run(sales_manager, message)"
   ]
  },
  {
   "cell_type": "markdown",
   "metadata": {},
   "source": [
    "### トレースを確認することを忘れないでください\n",
    "\n",
    "https://platform.openai.com/traces\n",
    "\n",
    "そして、あなたのメールをチェックしてください!!"
   ]
  },
  {
   "cell_type": "markdown",
   "metadata": {},
   "source": [
    "<table style=\"margin: 0; text-align: left; width:100%\">\n",
    "    <tr>\n",
    "        <td style=\"width: 150px; height: 150px; vertical-align: middle;\">\n",
    "            <img src=\"../assets/exercise.png\" width=\"150\" height=\"150\" style=\"display: block;\" />\n",
    "        </td>\n",
    "        <td>\n",
    "            <h2 style=\"color:#ff7800;\">演習</h2>\n",
    "            <span style=\"color:#ff7800;\">\n",
    "                ここで使用されているAgenticのデザインパターンを特定できますか？<br/>\n",
    "                Anthropicの定義において、Agenticの「ワークフロー」から「エージェント」へと変化させた1行は何ですか？<br/>\n",
    "                ツールとエージェントをもっと追加してみましょう！メーリングリストへの送信のための差し込み印刷を処理するツールも作成できます。<br/>\n",
    "                難しい課題：ユーザーがメールに返信したときにSendGridがコールバックWebhookを呼び出し、SDRが応答して会話を継続させる方法を調べてください。これには「バイブコーディング」が必要になるかもしれません😂\n",
    "            </span>\n",
    "        </td>\n",
    "    </tr>\n",
    "</table>"
   ]
  },
  {
   "cell_type": "markdown",
   "metadata": {},
   "source": [
    "<table style=\"margin: 0; text-align: left; width:100%\">\n",
    "    <tr>\n",
    "        <td style=\"width: 150px; height: 150px; vertical-align: middle;\">\n",
    "            <img src=\"../assets/business.png\" width=\"150\" height=\"150\" style=\"display: block;\" />\n",
    "        </td>\n",
    "        <td>\n",
    "            <h2 style=\"color:#00bfff;\">商業的影響</h2>\n",
    "            <span style=\"color:#00bfff;\">\n",
    "                これはセールスオートメーションにすぐに応用できますが、より一般的には、会話とツールを介したあらゆるビジネスプロセスのエンドツーエンドの自動化に適用できます。このようなエージェントソリューションを日々の業務にどのように適用できるか考えてみてください。\n",
    "            </span>\n",
    "        </td>\n",
    "    </tr>\n",
    "</table>"
   ]
  },
  {
   "cell_type": "markdown",
   "metadata": {},
   "source": [
    "## 余分なメモ：\n",
    "\n",
    "Googleはエージェント開発キット（ADK）をリリースしました。このコースの他のフレームワークの牽引力はまだありませんが、注目を集めています。\n",
    "\n",
    "OpenAI Agents SDKに非常によく似ていることに注意するのは興味深いことです。プレビューを提供するには、ADKのサンプルコードのピークを次に示します。\n",
    "\n",
    "```python\n",
    "root_agent = Agent(\n",
    "    name=\"weather_time_agent\",\n",
    "    model=\"gemini-2.0-flash\",\n",
    "    description=\"Agent to answer questions about the time and weather in a city.\",\n",
    "    instruction=\"You are a helpful agent who can answer user questions about the time and weather in a city.\",\n",
    "    tools=[get_weather, get_current_time]\n",
    ")\n",
    "```\n",
    "\n",
    "まあ、それはおなじみに見えます！\n",
    "\n",
    "また、学生はADKを使用するCommunity_Contributionsにカスタマーケアエージェントに貢献しました（どれ？？）"
   ]
  }
 ],
 "metadata": {
  "kernelspec": {
   "display_name": "Python 3 (ipykernel)",
   "language": "python",
   "name": "python3"
  },
  "language_info": {
   "codemirror_mode": {
    "name": "ipython",
    "version": 3
   },
   "file_extension": ".py",
   "mimetype": "text/x-python",
   "name": "python",
   "nbconvert_exporter": "python",
   "pygments_lexer": "ipython3",
   "version": "3.12.3"
  }
 },
 "nbformat": 4,
 "nbformat_minor": 4
}
