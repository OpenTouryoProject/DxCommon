{
 "cells": [
  {
   "cell_type": "markdown",
   "metadata": {},
   "source": [
    "## 第2週 5日目\n",
    "\n",
    "- 5日目 はあるのに、*ipynb がなかったので作成。\n",
    "- ただし、内容は deep_research フォルダのモジュールを実行するだけ。\n",
    "- deep_research フォルダのモジュールは `4_lab4.ipynb` の実装を詰め込んだもの。\n",
    "- ただし、若干の実装の強化がされているらしい（型チェック、例外処理、UI追加など）。\n",
    "- 追い付き修正は、send_email の書き換え、search のログの強化ダケ。"
   ]
  },
  {
   "cell_type": "markdown",
   "metadata": {},
   "source": [
    "以下のセルを実行し、\n",
    "\n",
    "表示されるURLから画面を開き、\n",
    "\n",
    "「What are some of the most exciting commercial applications of Autonomous Agentic Al as of April 2025」  \n",
    "（2025年4月時点で、自律エージェントAIの最もエキサイティングな商用アプリケーションは何ですか？）\n",
    "\n",
    "などと入力して、出力結果を確認する。"
   ]
  },
  {
   "cell_type": "code",
   "execution_count": null,
   "metadata": {},
   "outputs": [
    {
     "name": "stdout",
     "output_type": "stream",
     "text": [
      "* Running on local URL:  http://127.0.0.1:7864\n",
      "* To create a public link, set `share=True` in `launch()`.\n",
      "gio: http://127.0.0.1:7864/: Operation not supported\n",
      "View trace: https://platform.openai.com/traces/trace?trace_id=trace_eaf31a010e444630bc88d2c584e0e361\n",
      "Starting research...\n",
      "Planning searches...\n",
      "Will perform 5 searches\n",
      "Searching...\n",
      "Searching commercial applications of Autonomous Agentic AI 2025...\n",
      "Searching industries using Autonomous Agentic AI 2025...\n",
      "Searching case studies Autonomous Agentic AI applications 2025...\n",
      "Searching future trends Autonomous Agentic AI 2025...\n",
      "Searching expert analysis Autonomous Agentic AI applications 2025...\n",
      "Searching... 1/5 completed\n",
      "Searching... 2/5 completed\n",
      "Searching... 3/5 completed\n",
      "Searching... 4/5 completed\n",
      "Searching... 5/5 completed\n",
      "Finished searching\n",
      "Thinking about report...\n",
      "Finished writing report\n",
      "Writing email...\n",
      "Email sent\n"
     ]
    }
   ],
   "source": [
    "!python ./deep_research/deep_research.py"
   ]
  }
 ],
 "metadata": {
  "kernelspec": {
   "display_name": "Python 3 (ipykernel)",
   "language": "python",
   "name": "python3"
  },
  "language_info": {
   "codemirror_mode": {
    "name": "ipython",
    "version": 3
   },
   "file_extension": ".py",
   "mimetype": "text/x-python",
   "name": "python",
   "nbconvert_exporter": "python",
   "pygments_lexer": "ipython3",
   "version": "3.12.3"
  }
 },
 "nbformat": 4,
 "nbformat_minor": 4
}
