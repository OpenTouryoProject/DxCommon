{
 "cells": [
  {
   "cell_type": "markdown",
   "metadata": {},
   "source": [
    "## 第2週 3日目\n",
    "\n",
    "### 概要\n",
    "2日目の内容に以下を追加する。\n",
    "\n",
    "1. 異なるモデル\n",
    "1. 構造化出力\n",
    "1. ガードレール\n",
    "\n",
    "また、余談だが、\n",
    "\n",
    "- OpenAI Agents SDKでは、色々なLLMを使用できるがFunctionCallingは専用の学習がされているLLMである必要があるので、サイズの小さなローカルLLMでは適切に動作しない可能性がある。\n",
    "- Anthropic の Claude は、 OpenAI 互換 API ではないが、Open Router などを使用することで、OpenAI Agents SDK でも使用することができるようになるとのこと。\n",
    "- ガードレール はエージェントの入力の「一番最初」と「一番最後」にしか設定できない。このフレームワークでは、アチコチにガードレールを設定することはできない。"
   ]
  },
  {
   "cell_type": "markdown",
   "metadata": {},
   "source": [
    "## 準備"
   ]
  },
  {
   "cell_type": "code",
   "execution_count": 1,
   "metadata": {},
   "outputs": [],
   "source": [
    "import os\n",
    "from typing import Dict\n",
    "from pydantic import BaseModel\n",
    "\n",
    "from dotenv import load_dotenv\n",
    "from openai import AsyncOpenAI\n",
    "from agents import Agent, Runner, trace, function_tool, OpenAIChatCompletionsModel, input_guardrail, GuardrailFunctionOutput\n",
    "\n",
    "import resend # import sendgrid\n",
    "#from sendgrid.helpers.mail import Mail, Email, To, Content"
   ]
  },
  {
   "cell_type": "code",
   "execution_count": 2,
   "metadata": {},
   "outputs": [
    {
     "data": {
      "text/plain": [
       "True"
      ]
     },
     "execution_count": 2,
     "metadata": {},
     "output_type": "execute_result"
    }
   ],
   "source": [
    "load_dotenv(override=True)"
   ]
  },
  {
   "cell_type": "code",
   "execution_count": 3,
   "metadata": {},
   "outputs": [
    {
     "name": "stdout",
     "output_type": "stream",
     "text": [
      "OpenAI APIキーが存在し、sk-proj-で始まります。\n",
      "Anthropic APIキーは設定されていません（これはオプションです）\n",
      "Google APIキーが存在し、AIで始まります。\n",
      "DeepSeek APIキーは設定されていません（これはオプションです）\n",
      "Groq APIキーは設定されていません（これはオプションです）\n"
     ]
    }
   ],
   "source": [
    "# キープレフィックスを印刷して、デバッグに役立てます\n",
    "\n",
    "openai_api_key = os.getenv('OPENAI_API_KEY')\n",
    "anthropic_api_key = os.getenv('ANTHROPIC_API_KEY')\n",
    "google_api_key = os.getenv('GOOGLE_API_KEY')\n",
    "deepseek_api_key = os.getenv('DEEPSEEK_API_KEY')\n",
    "groq_api_key = os.getenv('GROQ_API_KEY')\n",
    "\n",
    "if openai_api_key:\n",
    "    print(f\"OpenAI APIキーが存在し、{openai_api_key[:8]}で始まります。\")\n",
    "else:\n",
    "    print(\"OpenAI APIキーが設定されていません\")\n",
    "    \n",
    "if anthropic_api_key:\n",
    "    print(f\"Anthropic APIキーが存在し、{anthropic_api_key[:7]}で始まります。\")\n",
    "else:\n",
    "    print(\"Anthropic APIキーは設定されていません（これはオプションです）\")\n",
    "\n",
    "if google_api_key:\n",
    "    print(f\"Google APIキーが存在し、{google_api_key[:2]}で始まります。\")\n",
    "else:\n",
    "    print(\"Google APIキーが設定されていません（これはオプションです）\")\n",
    "\n",
    "if deepseek_api_key:\n",
    "    print(f\"DeepSeek APIキーが存在し、{deepseek_api_key[:3]}で始まります。\")\n",
    "else:\n",
    "    print(\"DeepSeek APIキーは設定されていません（これはオプションです）\")\n",
    "\n",
    "if groq_api_key:\n",
    "    print(f\"Groq APIキーが存在し、{groq_api_key[:4]}で始まります。\")\n",
    "else:\n",
    "    print(\"Groq APIキーは設定されていません（これはオプションです）\")"
   ]
  },
  {
   "cell_type": "markdown",
   "metadata": {},
   "source": [
    "### 変更が無い部分（１）"
   ]
  },
  {
   "cell_type": "code",
   "execution_count": 4,
   "metadata": {},
   "outputs": [],
   "source": [
    "#instruction1「あなたはComplAIで営業担当者として働いています。\n",
    "# ComplAIは、AIを活用したSOC2コンプライアンスの確保と監査対策のためのSaaSツールを提供する企業です。\n",
    "# あなたは「プロフェッショナルで真摯な」コールドメールを作成しています。」\n",
    "instructions1 = \"You are a sales agent working for ComplAI, \\\n",
    "a company that provides a SaaS tool for ensuring SOC2 compliance and preparing for audits, powered by AI. \\\n",
    "You write professional, serious cold emails.\"\n",
    "\n",
    "# instructions2「あなたはComplAIで営業担当者として働いています。\n",
    "# ComplAIは、AIを活用したSOC2コンプライアンスの確保と監査対策のためのSaaSツールを提供する企業です。\n",
    "# あなたは「返信を期待できる、機知に富んだ魅力的な」コールドメールを作成しています。」\n",
    "instructions2 = \"You are a humorous, engaging sales agent working for ComplAI, \\\n",
    "a company that provides a SaaS tool for ensuring SOC2 compliance and preparing for audits, powered by AI. \\\n",
    "You write witty, engaging cold emails that are likely to get a response.\"\n",
    "\n",
    "# instructions3「あなたはComplAIで営業担当者として働いています。\n",
    "# ComplAIは、AIを活用したSOC2コンプライアンスの確保と監査対策のためのSaaSツールを提供する企業です。\n",
    "# あなたは「簡潔で要点を押さえた」コールドメールを作成しています。」\n",
    "instructions3 = \"You are a busy sales agent working for ComplAI, \\\n",
    "a company that provides a SaaS tool for ensuring SOC2 compliance and preparing for audits, powered by AI. \\\n",
    "You write concise, to the point cold emails.\""
   ]
  },
  {
   "cell_type": "code",
   "execution_count": 5,
   "metadata": {},
   "outputs": [],
   "source": [
    "# コールド・セールス・メールの件名を書くことができます。メッセージの内容に応じて、返信を期待できる件名を書く必要があります。\n",
    "subject_instructions = \"You can write a subject for a cold sales email. \\\n",
    "You are given a message and you need to write a subject for an email that is likely to get a response.\"\n",
    "\n",
    "# テキストメールの本文を HTML メールの本文に変換。マークダウンが含まれている可能性のあるテキストメールの本文を、シンプルで明確、かつ魅力的なレイアウトとデザインの HTML メールの本文に変換する。\n",
    "html_instructions = \"You can convert a text email body to an HTML email body. \\\n",
    "You are given a text email body which might have some markdown \\\n",
    "and you need to convert it to an HTML email body with simple, clear, compelling layout and design.\"\n",
    "\n",
    "# 件名考案エージェントをツール化\n",
    "subject_writer = Agent(name=\"Email subject writer\", instructions=subject_instructions, model=\"gpt-4o-mini\")\n",
    "subject_tool = subject_writer.as_tool(tool_name=\"subject_writer\", tool_description=\"Write a subject for a cold sales email\")\n",
    "\n",
    "# MD → HTML変換エージェントをツール化\n",
    "html_converter = Agent(name=\"HTML email body converter\", instructions=html_instructions, model=\"gpt-4o-mini\")\n",
    "html_tool = html_converter.as_tool(tool_name=\"html_converter\",tool_description=\"Convert a text email body to an HTML email body\")"
   ]
  },
  {
   "cell_type": "code",
   "execution_count": 6,
   "metadata": {},
   "outputs": [],
   "source": [
    "# テキストメールからHTMLに改修されている。\n",
    "@function_tool\n",
    "def send_html_email(subject: str, html_body: str) -> Dict[str, str]:\n",
    "    \"\"\" Send out an email with the given subject and HTML body to all sales prospects \"\"\"\n",
    "    \n",
    "    #sg = sendgrid.SendGridAPIClient(api_key=os.environ.get('SENDGRID_API_KEY'))\n",
    "    resend.api_key=os.getenv(\"RESEND_API_KEY\")\n",
    "    \n",
    "    #from_email = Email(\"ed@edwarddonner.com\")  # 検証済みの送信者に変更します\n",
    "    #to_email = To(\"ed.donner@gmail.com\")  # 受信者に変更します\n",
    "    #content = Content(\"text/html\", html_body)\n",
    "    #mail = Mail(from_email, to_email, subject, content).get()\n",
    "    #sg.client.mail.send.post(request_body=mail)\n",
    "    \n",
    "    response = resend.Emails.send({\n",
    "        \"from\": \"onboarding@resend.dev\",\n",
    "        \"to\": \"nishi_74322014@ksj.biglobe.ne.jp\",\n",
    "        \"subject\": subject,\n",
    "        \"html\": html_body\n",
    "    })\n",
    "\n",
    "    return {\"status\": \"success\"}"
   ]
  },
  {
   "cell_type": "code",
   "execution_count": 7,
   "metadata": {},
   "outputs": [],
   "source": [
    "tools = [subject_tool, html_tool, send_html_email]"
   ]
  },
  {
   "cell_type": "code",
   "execution_count": 8,
   "metadata": {},
   "outputs": [],
   "source": [
    "# あなたはメールのフォーマッター兼送信者です。送信するメールの本文を受け取ります。\n",
    "# まず、subject_writer ツールを使用してメールの件名を作成し、次に html_converter ツールを使用して本文を HTML に変換します。\n",
    "# 最後に、send_html_email ツールを使用して、件名と HTML 本文を含むメールを送信します。\n",
    "instructions =\"You are an email formatter and sender. You receive the body of an email to be sent. \\\n",
    "You first use the subject_writer tool to write a subject for the email, then use the html_converter tool to convert the body to HTML. \\\n",
    "Finally, you use the send_html_email tool to send the email with the subject and HTML body.\"\n",
    "\n",
    "# メール関係のハンドリングを（メールをHTMLに変換して送信）するエージェント\n",
    "emailer_agent = Agent(\n",
    "    name=\"Email Manager\",\n",
    "    instructions=instructions,\n",
    "    tools=tools,\n",
    "    model=\"gpt-4o-mini\",\n",
    "    handoff_description=\"Convert an email to HTML and send it\")"
   ]
  },
  {
   "cell_type": "markdown",
   "metadata": {},
   "source": [
    "### 異なるモデルの使用\n",
    "OpenAI互換のエンドポイントを備えた異なるモデルを使用するエージェント（個人的に利用可能なラインナップに変更）"
   ]
  },
  {
   "cell_type": "code",
   "execution_count": 9,
   "metadata": {},
   "outputs": [],
   "source": [
    "GEMINI_BASE_URL    = \"https://generativelanguage.googleapis.com/v1beta/openai/\"\n",
    "#DEEPSEEK_BASE_URL  = \"https://api.deepseek.com/v1\"\n",
    "#GROQ_BASE_URL      = \"https://api.groq.com/openai/v1\""
   ]
  },
  {
   "cell_type": "code",
   "execution_count": 10,
   "metadata": {},
   "outputs": [],
   "source": [
    "gemini_client   = AsyncOpenAI(base_url=GEMINI_BASE_URL, api_key=google_api_key)\n",
    "#deepseek_client = AsyncOpenAI(base_url=DEEPSEEK_BASE_URL, api_key=deepseek_api_key)\n",
    "#groq_client     = AsyncOpenAI(base_url=GROQ_BASE_URL, api_key=groq_api_key)"
   ]
  },
  {
   "cell_type": "code",
   "execution_count": 11,
   "metadata": {},
   "outputs": [],
   "source": [
    "gemini_model    = OpenAIChatCompletionsModel(model=\"gemini-2.0-flash\", openai_client=gemini_client)\n",
    "#deepseek_model  = OpenAIChatCompletionsModel(model=\"deepseek-chat\", openai_client=deepseek_client)\n",
    "#llama3_3_model  = OpenAIChatCompletionsModel(model=\"llama-3.3-70b-versatile\", openai_client=groq_client)"
   ]
  },
  {
   "cell_type": "code",
   "execution_count": 12,
   "metadata": {},
   "outputs": [],
   "source": [
    "sales_agent1 = Agent(name=\"gpt-4.1 Professional Sales Agent\", instructions=instructions1, model=\"gpt-4.1\")\n",
    "sales_agent2 = Agent(name=\"gpt-5 Engaging Sales Agent\", instructions=instructions2, model=\"gpt-5\")\n",
    "sales_agent3 = Agent(name=\"Gemini Busy Sales Agent\", instructions=instructions3, model=gemini_model)\n",
    "#sales_agentX = Agent(name=\"DeepSeek Sales Agent\", instructions=instructionsX, model=deepseek_model)\n",
    "#sales_agentY = Agent(name=\"Llama3.3 Sales Agent\",instructions=instructionsY,model=llama3_3_model)"
   ]
  },
  {
   "cell_type": "code",
   "execution_count": 13,
   "metadata": {},
   "outputs": [],
   "source": [
    "# コールド・セールス・メールを書く\n",
    "description = \"Write a cold sales email\"\n",
    "\n",
    "# エージェントをツールに変換\n",
    "tool1 = sales_agent1.as_tool(tool_name=\"sales_agent1\", tool_description=description)\n",
    "tool2 = sales_agent2.as_tool(tool_name=\"sales_agent2\", tool_description=description)\n",
    "tool3 = sales_agent3.as_tool(tool_name=\"sales_agent3\", tool_description=description)"
   ]
  },
  {
   "cell_type": "markdown",
   "metadata": {},
   "source": [
    "### 変更が無い部分（２）"
   ]
  },
  {
   "cell_type": "code",
   "execution_count": 14,
   "metadata": {},
   "outputs": [
    {
     "name": "stdout",
     "output_type": "stream",
     "text": [
      "[FunctionTool(name='sales_agent1', description='Write a cold sales email', params_json_schema={'properties': {'input': {'title': 'Input', 'type': 'string'}}, 'required': ['input'], 'title': 'sales_agent1_args', 'type': 'object', 'additionalProperties': False}, on_invoke_tool=<function function_tool.<locals>._create_function_tool.<locals>._on_invoke_tool at 0x7ff2edc28180>, strict_json_schema=True, is_enabled=True), FunctionTool(name='sales_agent2', description='Write a cold sales email', params_json_schema={'properties': {'input': {'title': 'Input', 'type': 'string'}}, 'required': ['input'], 'title': 'sales_agent2_args', 'type': 'object', 'additionalProperties': False}, on_invoke_tool=<function function_tool.<locals>._create_function_tool.<locals>._on_invoke_tool at 0x7ff2edc28540>, strict_json_schema=True, is_enabled=True), FunctionTool(name='sales_agent3', description='Write a cold sales email', params_json_schema={'properties': {'input': {'title': 'Input', 'type': 'string'}}, 'required': ['input'], 'title': 'sales_agent3_args', 'type': 'object', 'additionalProperties': False}, on_invoke_tool=<function function_tool.<locals>._create_function_tool.<locals>._on_invoke_tool at 0x7ff2edc28900>, strict_json_schema=True, is_enabled=True)]\n",
      "[Agent(name='Email Manager', handoff_description='Convert an email to HTML and send it', tools=[FunctionTool(name='subject_writer', description='Write a subject for a cold sales email', params_json_schema={'properties': {'input': {'title': 'Input', 'type': 'string'}}, 'required': ['input'], 'title': 'subject_writer_args', 'type': 'object', 'additionalProperties': False}, on_invoke_tool=<function function_tool.<locals>._create_function_tool.<locals>._on_invoke_tool at 0x7ff2edbf2840>, strict_json_schema=True, is_enabled=True), FunctionTool(name='html_converter', description='Convert a text email body to an HTML email body', params_json_schema={'properties': {'input': {'title': 'Input', 'type': 'string'}}, 'required': ['input'], 'title': 'html_converter_args', 'type': 'object', 'additionalProperties': False}, on_invoke_tool=<function function_tool.<locals>._create_function_tool.<locals>._on_invoke_tool at 0x7ff2edbf2a20>, strict_json_schema=True, is_enabled=True), FunctionTool(name='send_html_email', description='Send out an email with the given subject and HTML body to all sales prospects', params_json_schema={'properties': {'subject': {'title': 'Subject', 'type': 'string'}, 'html_body': {'title': 'Html Body', 'type': 'string'}}, 'required': ['subject', 'html_body'], 'title': 'send_html_email_args', 'type': 'object', 'additionalProperties': False}, on_invoke_tool=<function function_tool.<locals>._create_function_tool.<locals>._on_invoke_tool at 0x7ff2edbf3560>, strict_json_schema=True, is_enabled=True)], mcp_servers=[], mcp_config={}, instructions='You are an email formatter and sender. You receive the body of an email to be sent. You first use the subject_writer tool to write a subject for the email, then use the html_converter tool to convert the body to HTML. Finally, you use the send_html_email tool to send the email with the subject and HTML body.', prompt=None, handoffs=[], model='gpt-4o-mini', model_settings=ModelSettings(temperature=None, top_p=None, frequency_penalty=None, presence_penalty=None, tool_choice=None, parallel_tool_calls=None, truncation=None, max_tokens=None, reasoning=None, verbosity=None, metadata=None, store=None, include_usage=None, response_include=None, top_logprobs=None, extra_query=None, extra_body=None, extra_headers=None, extra_args=None), input_guardrails=[], output_guardrails=[], output_type=None, hooks=None, tool_use_behavior='run_llm_again', reset_tool_choice=True)]\n"
     ]
    }
   ],
   "source": [
    "# （コールド・セールス・メール作成エージェントを）ツールにまとめる。\n",
    "tools = [tool1, tool2, tool3]\n",
    "print(tools)\n",
    "\n",
    "# （メール関係のハンドリングのエージェントに）ハンドオフする。\n",
    "handoffs = [emailer_agent]\n",
    "print(handoffs)"
   ]
  },
  {
   "cell_type": "code",
   "execution_count": 15,
   "metadata": {},
   "outputs": [],
   "source": [
    "# メール送信の所がツール使用からハンドオフに変更されている。\n",
    "\n",
    "# 学生Guillermo Fのおかげで指示の改善\n",
    "\n",
    "# あなたはComplAIの営業マネージャーです。あなたの目標は、sales_agentツールを使って、最適なコールド・セールス・メールを1通見つけることです。\n",
    "# \n",
    "# 以下の手順を慎重に実行してください。\n",
    "# 1. 下書きの作成：3つのsales_agentツールすべてを使って、3種類のメール下書きを作成します。3つの下書きがすべて完成するまで、先に進めないでください。\n",
    "# 2. 評価と選択：下書きを確認し、最も効果的だと判断した上で、最適なメールを1通選びます。最初の結果に満足できない場合は、ツールを複数回使用できます。\n",
    "# 3. 送信のためのハンドオフ：採用されたメールの下書きのみをEmail Managerエージェントに渡します。Email Managerがフォーマットと送信を行います。\n",
    "# \n",
    "# 重要なルール：\n",
    "# - 下書きの作成には、sales_agentツールを使用する必要があります。自分で作成しないでください。\n",
    "# - Email Managerに引き継ぐメールは1通のみで、複数回は引き継がないでください。\n",
    "\n",
    "sales_manager_instructions = \"\"\"\n",
    "You are a Sales Manager at ComplAI. Your goal is to find the single best cold sales email using the sales_agent tools.\n",
    " \n",
    "Follow these steps carefully:\n",
    "1. Generate Drafts: Use all three sales_agent tools to generate three different email drafts. Do not proceed until all three drafts are ready.\n",
    " \n",
    "2. Evaluate and Select: Review the drafts and choose the single best email using your judgment of which one is most effective.\n",
    "You can use the tools multiple times if you're not satisfied with the results from the first try.\n",
    " \n",
    "3. Handoff for Sending: Pass ONLY the winning email draft to the 'Email Manager' agent. The Email Manager will take care of formatting and sending.\n",
    " \n",
    "Crucial Rules:\n",
    "- You must use the sales agent tools to generate the drafts — do not write them yourself.\n",
    "- You must hand off exactly ONE email to the Email Manager — never more than one.\n",
    "\"\"\"\n",
    "\n",
    "# Sales Manager\n",
    "sales_manager = Agent(\n",
    "    name=\"Sales Manager\",\n",
    "    instructions=sales_manager_instructions,\n",
    "    # （エージェントを）ツールにまとめる。\n",
    "    tools=tools,\n",
    "    # （メール関係のハンドリングは）ハンドオフする。\n",
    "    handoffs=handoffs,\n",
    "    model=\"gpt-4o-mini\")\n",
    "\n",
    "# アリスから「CEO様」宛て「コールド・セールス・メール」を送信\n",
    "message = \"Send out a cold sales email addressed to Dear CEO from Alice\"\n",
    "\n",
    "# OpenAI API PF → Dashboard → Logs → Traces の \n",
    "with trace(\"Automated SDR\"):\n",
    "    # アリスから「CEO様」宛て「コールド・セールス・メール」を送信\n",
    "    result = await Runner.run(sales_manager, message)"
   ]
  },
  {
   "cell_type": "markdown",
   "metadata": {},
   "source": [
    "### トレースをチェックしてください：\n",
    "\n",
    "https://platform.openai.com/traces"
   ]
  },
  {
   "cell_type": "markdown",
   "metadata": {},
   "source": [
    "## 構造化出力とガードレール"
   ]
  },
  {
   "cell_type": "code",
   "execution_count": 16,
   "metadata": {},
   "outputs": [],
   "source": [
    "# 構造化出力するエージェント\n",
    "class NameCheckOutput(BaseModel):\n",
    "    is_name_in_message: bool\n",
    "    name: str\n",
    "\n",
    "# ユーザーがあなたに実行して欲しい操作の中に、誰かの個人名が含まれているかどうかを確認します。\n",
    "guardrail_agent = Agent( \n",
    "    name=\"Name check\",\n",
    "    instructions=\"Check if the user is including someone's personal name in what they want you to do.\",\n",
    "    output_type=NameCheckOutput,\n",
    "    model=\"gpt-4o-mini\"\n",
    ")"
   ]
  },
  {
   "cell_type": "code",
   "execution_count": 17,
   "metadata": {},
   "outputs": [],
   "source": [
    "# 入力ガードレールの設定\n",
    "@input_guardrail\n",
    "async def guardrail_against_name(ctx, agent, message):\n",
    "    # 入力ガードレールの中で構造化出力するエージェントを動かし、\n",
    "    result = await Runner.run(guardrail_agent, message, context=ctx.context)\n",
    "    # 出力の is_name_in_message (bool) を確認し、tripwire_triggeredで、違反の有無を通知\n",
    "    is_name_in_message = result.final_output.is_name_in_message # 構造化出力のプロパティ\n",
    "    return GuardrailFunctionOutput(output_info={\"found_name\": result.final_output},tripwire_triggered=is_name_in_message)"
   ]
  },
  {
   "cell_type": "code",
   "execution_count": 18,
   "metadata": {},
   "outputs": [],
   "source": [
    "# 構造化出力＋ガードレール＝慎重な営業マネージャー\n",
    "careful_sales_manager = Agent(\n",
    "    name=\"Sales Manager\",\n",
    "    instructions=sales_manager_instructions,\n",
    "    tools=tools,\n",
    "    handoffs=handoffs,\n",
    "    model=\"gpt-4o-mini\",\n",
    "    input_guardrails=[guardrail_against_name]\n",
    "    )"
   ]
  },
  {
   "cell_type": "markdown",
   "metadata": {},
   "source": [
    "## トレースをチェックしてください：\n",
    "\n",
    "https://platform.openai.com/traces"
   ]
  },
  {
   "cell_type": "code",
   "execution_count": 19,
   "metadata": {},
   "outputs": [
    {
     "ename": "InputGuardrailTripwireTriggered",
     "evalue": "Guardrail InputGuardrail triggered tripwire",
     "output_type": "error",
     "traceback": [
      "\u001b[31m---------------------------------------------------------------------------\u001b[39m",
      "\u001b[31mInputGuardrailTripwireTriggered\u001b[39m           Traceback (most recent call last)",
      "\u001b[36mCell\u001b[39m\u001b[36m \u001b[39m\u001b[32mIn[19]\u001b[39m\u001b[32m, line 9\u001b[39m\n\u001b[32m      6\u001b[39m \u001b[38;5;66;03m# OpenAI API PF → Dashboard → Logs → Traces の \u001b[39;00m\n\u001b[32m      7\u001b[39m \u001b[38;5;28;01mwith\u001b[39;00m trace(\u001b[33m\"\u001b[39m\u001b[33mProtected Automated SDR\u001b[39m\u001b[33m\"\u001b[39m):\n\u001b[32m      8\u001b[39m     \u001b[38;5;66;03m# アリスから「CEO様」宛て「コールド・セールス・メール」を「慎重に」送信\u001b[39;00m\n\u001b[32m----> \u001b[39m\u001b[32m9\u001b[39m     result = \u001b[38;5;28;01mawait\u001b[39;00m Runner.run(careful_sales_manager, message)\n",
      "\u001b[36mFile \u001b[39m\u001b[32m~/.python3_venv/lib/python3.12/site-packages/agents/run.py:237\u001b[39m, in \u001b[36mRunner.run\u001b[39m\u001b[34m(cls, starting_agent, input, context, max_turns, hooks, run_config, previous_response_id, session)\u001b[39m\n\u001b[32m    210\u001b[39m \u001b[38;5;250m\u001b[39m\u001b[33;03m\"\"\"Run a workflow starting at the given agent. The agent will run in a loop until a final\u001b[39;00m\n\u001b[32m    211\u001b[39m \u001b[33;03moutput is generated. The loop runs like so:\u001b[39;00m\n\u001b[32m    212\u001b[39m \u001b[33;03m1. The agent is invoked with the given input.\u001b[39;00m\n\u001b[32m   (...)\u001b[39m\u001b[32m    234\u001b[39m \u001b[33;03m    agent. Agents may perform handoffs, so we don't know the specific type of the output.\u001b[39;00m\n\u001b[32m    235\u001b[39m \u001b[33;03m\"\"\"\u001b[39;00m\n\u001b[32m    236\u001b[39m runner = DEFAULT_AGENT_RUNNER\n\u001b[32m--> \u001b[39m\u001b[32m237\u001b[39m \u001b[38;5;28;01mreturn\u001b[39;00m \u001b[38;5;28;01mawait\u001b[39;00m runner.run(\n\u001b[32m    238\u001b[39m     starting_agent,\n\u001b[32m    239\u001b[39m     \u001b[38;5;28minput\u001b[39m,\n\u001b[32m    240\u001b[39m     context=context,\n\u001b[32m    241\u001b[39m     max_turns=max_turns,\n\u001b[32m    242\u001b[39m     hooks=hooks,\n\u001b[32m    243\u001b[39m     run_config=run_config,\n\u001b[32m    244\u001b[39m     previous_response_id=previous_response_id,\n\u001b[32m    245\u001b[39m     session=session,\n\u001b[32m    246\u001b[39m )\n",
      "\u001b[36mFile \u001b[39m\u001b[32m~/.python3_venv/lib/python3.12/site-packages/agents/run.py:443\u001b[39m, in \u001b[36mAgentRunner.run\u001b[39m\u001b[34m(self, starting_agent, input, **kwargs)\u001b[39m\n\u001b[32m    438\u001b[39m logger.debug(\n\u001b[32m    439\u001b[39m     \u001b[33mf\u001b[39m\u001b[33m\"\u001b[39m\u001b[33mRunning agent \u001b[39m\u001b[38;5;132;01m{\u001b[39;00mcurrent_agent.name\u001b[38;5;132;01m}\u001b[39;00m\u001b[33m (turn \u001b[39m\u001b[38;5;132;01m{\u001b[39;00mcurrent_turn\u001b[38;5;132;01m}\u001b[39;00m\u001b[33m)\u001b[39m\u001b[33m\"\u001b[39m,\n\u001b[32m    440\u001b[39m )\n\u001b[32m    442\u001b[39m \u001b[38;5;28;01mif\u001b[39;00m current_turn == \u001b[32m1\u001b[39m:\n\u001b[32m--> \u001b[39m\u001b[32m443\u001b[39m     input_guardrail_results, turn_result = \u001b[38;5;28;01mawait\u001b[39;00m asyncio.gather(\n\u001b[32m    444\u001b[39m         \u001b[38;5;28mself\u001b[39m._run_input_guardrails(\n\u001b[32m    445\u001b[39m             starting_agent,\n\u001b[32m    446\u001b[39m             starting_agent.input_guardrails\n\u001b[32m    447\u001b[39m             + (run_config.input_guardrails \u001b[38;5;129;01mor\u001b[39;00m []),\n\u001b[32m    448\u001b[39m             _copy_str_or_list(prepared_input),\n\u001b[32m    449\u001b[39m             context_wrapper,\n\u001b[32m    450\u001b[39m         ),\n\u001b[32m    451\u001b[39m         \u001b[38;5;28mself\u001b[39m._run_single_turn(\n\u001b[32m    452\u001b[39m             agent=current_agent,\n\u001b[32m    453\u001b[39m             all_tools=all_tools,\n\u001b[32m    454\u001b[39m             original_input=original_input,\n\u001b[32m    455\u001b[39m             generated_items=generated_items,\n\u001b[32m    456\u001b[39m             hooks=hooks,\n\u001b[32m    457\u001b[39m             context_wrapper=context_wrapper,\n\u001b[32m    458\u001b[39m             run_config=run_config,\n\u001b[32m    459\u001b[39m             should_run_agent_start_hooks=should_run_agent_start_hooks,\n\u001b[32m    460\u001b[39m             tool_use_tracker=tool_use_tracker,\n\u001b[32m    461\u001b[39m             previous_response_id=previous_response_id,\n\u001b[32m    462\u001b[39m         ),\n\u001b[32m    463\u001b[39m     )\n\u001b[32m    464\u001b[39m \u001b[38;5;28;01melse\u001b[39;00m:\n\u001b[32m    465\u001b[39m     turn_result = \u001b[38;5;28;01mawait\u001b[39;00m \u001b[38;5;28mself\u001b[39m._run_single_turn(\n\u001b[32m    466\u001b[39m         agent=current_agent,\n\u001b[32m    467\u001b[39m         all_tools=all_tools,\n\u001b[32m   (...)\u001b[39m\u001b[32m    475\u001b[39m         previous_response_id=previous_response_id,\n\u001b[32m    476\u001b[39m     )\n",
      "\u001b[36mFile \u001b[39m\u001b[32m~/.python3_venv/lib/python3.12/site-packages/agents/run.py:1195\u001b[39m, in \u001b[36mAgentRunner._run_input_guardrails\u001b[39m\u001b[34m(cls, agent, guardrails, input, context)\u001b[39m\n\u001b[32m   1188\u001b[39m         t.cancel()\n\u001b[32m   1189\u001b[39m     _error_tracing.attach_error_to_current_span(\n\u001b[32m   1190\u001b[39m         SpanError(\n\u001b[32m   1191\u001b[39m             message=\u001b[33m\"\u001b[39m\u001b[33mGuardrail tripwire triggered\u001b[39m\u001b[33m\"\u001b[39m,\n\u001b[32m   1192\u001b[39m             data={\u001b[33m\"\u001b[39m\u001b[33mguardrail\u001b[39m\u001b[33m\"\u001b[39m: result.guardrail.get_name()},\n\u001b[32m   1193\u001b[39m         )\n\u001b[32m   1194\u001b[39m     )\n\u001b[32m-> \u001b[39m\u001b[32m1195\u001b[39m     \u001b[38;5;28;01mraise\u001b[39;00m InputGuardrailTripwireTriggered(result)\n\u001b[32m   1196\u001b[39m \u001b[38;5;28;01melse\u001b[39;00m:\n\u001b[32m   1197\u001b[39m     guardrail_results.append(result)\n",
      "\u001b[31mInputGuardrailTripwireTriggered\u001b[39m: Guardrail InputGuardrail triggered tripwire"
     ]
    }
   ],
   "source": [
    "# ガードレールで止まる\n",
    "\n",
    "# アリスから「CEO様」宛て「コールド・セールス・メール」を送信\n",
    "message = \"Send out a cold sales email addressed to Dear CEO from Alice\"\n",
    "\n",
    "# OpenAI API PF → Dashboard → Logs → Traces の \n",
    "with trace(\"Protected Automated SDR\"):\n",
    "    # アリスから「CEO様」宛て「コールド・セールス・メール」を「慎重に」送信\n",
    "    result = await Runner.run(careful_sales_manager, message)"
   ]
  },
  {
   "cell_type": "code",
   "execution_count": 20,
   "metadata": {},
   "outputs": [],
   "source": [
    "# ガードレールを通過\n",
    "\n",
    "# 事業開発責任者から「CEO様」宛て「コールド・セールス・メール」を送信\n",
    "message = \"Send out a cold sales email addressed to Dear CEO from Head of Business Development\"\n",
    "\n",
    "# OpenAI API PF → Dashboard → Logs → Traces の \n",
    "with trace(\"Protected Automated SDR\"):\n",
    "    # 事業開発責任者から「CEO様」宛て「コールド・セールス・メール」を「慎重に」送信\n",
    "    result = await Runner.run(careful_sales_manager, message)"
   ]
  },
  {
   "cell_type": "markdown",
   "metadata": {},
   "source": [
    "<table style=\"margin: 0; text-align: left; width:100%\">\n",
    "    <tr>\n",
    "        <td style=\"width: 150px; height: 150px; vertical-align: middle;\">\n",
    "            <img src=\"../assets/exercise.png\" width=\"150\" height=\"150\" style=\"display: block;\" />\n",
    "        </td>\n",
    "        <td>\n",
    "            <h2 style=\"color:#ff7800;\">演習</h2>\n",
    "            <span style=\"color:#ff7800;\">\n",
    "                • さまざまなモデルを試す<br/>\n",
    "                • 入出力のガードレールを追加する<br/>\n",
    "                • メール生成に構造化された出力を使用する\n",
    "            </span>\n",
    "        </td>\n",
    "    </tr>\n",
    "</table>"
   ]
  }
 ],
 "metadata": {
  "kernelspec": {
   "display_name": "Python 3 (ipykernel)",
   "language": "python",
   "name": "python3"
  },
  "language_info": {
   "codemirror_mode": {
    "name": "ipython",
    "version": 3
   },
   "file_extension": ".py",
   "mimetype": "text/x-python",
   "name": "python",
   "nbconvert_exporter": "python",
   "pygments_lexer": "ipython3",
   "version": "3.12.3"
  }
 },
 "nbformat": 4,
 "nbformat_minor": 4
}
