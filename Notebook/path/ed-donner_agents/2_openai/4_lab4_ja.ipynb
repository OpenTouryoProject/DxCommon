{
  "cells": [
    {
      "cell_type": "markdown",
      "metadata": {},
      "source": [
        "## 深い研究\n",
        "\n",
        "古典的なクロスビジネスエージェントのユースケースの1つ！これは巨大です。"
      ]
    },
    {
      "cell_type": "markdown",
      "metadata": {},
      "source": [
        "<テーブルスタイル= \"マージン：0;テキストアライグ：左;幅：100％\">\n",
        "    <tr>\n",
        "        <td style = \"width：150px; height：150px; vertical-align：middle;\">\n",
        "            <img src = \"../ assets/business.png\" width = \"150\" height = \"150\" style = \"display：block;\" />\n",
        "        </td>\n",
        "        <td>\n",
        "            <h2 style = \"color：＃00bfff;\">商業的影響</h2>\n",
        "            <SPAN STYLE = \"Color：＃00BFFF;\">深い研究エージェントは、あらゆるビジネス分野や日々の活動に広く適用できます。あなたはこれを自分で利用することができます！\n",
        "            </span>\n",
        "        </td>\n",
        "    </tr>\n",
        "</table>"
      ]
    },
    {
      "cell_type": "code",
      "execution_count": 29,
      "metadata": {},
      "outputs": [],
      "source": [
        "from agents import Agent, WebSearchTool, trace, Runner, gen_trace_id, function_tool\n",
        "from agents.model_settings import ModelSettings\n",
        "from pydantic import BaseModel, Field\n",
        "from dotenv import load_dotenv\n",
        "import asyncio\n",
        "import sendgrid\n",
        "import os\n",
        "from sendgrid.helpers.mail import Mail, Email, To, Content\n",
        "from typing import Dict\n",
        "from IPython.display import display, Markdown"
      ]
    },
    {
      "cell_type": "code",
      "execution_count": null,
      "metadata": {},
      "outputs": [],
      "source": [
        "load_dotenv(override=True)"
      ]
    },
    {
      "cell_type": "markdown",
      "metadata": {},
      "source": [
        "## Openaiホストツール\n",
        "\n",
        "Openai Agents SDKには、次のホストツールが含まれています。\n",
        "\n",
        "「WebearchTool」を使用すると、エージェントがWebを検索できます。  \n",
        "`filesearchTool`を使用すると、OpenAIベクターストアから情報を取得できます。  \n",
        "「ComputerTool」は、スクリーンショットの撮影やクリックなどのタスクを自動化することができます。\n",
        "\n",
        "###重要なメモ-WebSearchToolのAPIチャージ\n",
        "\n",
        "これには、Openai WebSearchToolの呼び出しごとに2.5セントの費用がかかります。次の2つのラボでは、最大2〜3ドルになります。他のプラットフォームで無料および低コストの検索ツールを使用するので、コストが懸念される場合は、これを実行して自由にスキップしてください。また、学生のクリスチャンW.は、Openaiが1回のコールの複数の検索に対して請求する場合があるため、通話ごとに2.5セント以上の費用がかかる場合があると指摘しました。\n",
        "\n",
        "コストはこちら：https：//platform.openai.com/docs/pricing#web-searchです"
      ]
    },
    {
      "cell_type": "code",
      "execution_count": 31,
      "metadata": {},
      "outputs": [],
      "source": [
        "INSTRUCTIONS = \"You are a research assistant. Given a search term, you search the web for that term and \\\n",
        "produce a concise summary of the results. The summary must 2-3 paragraphs and less than 300 \\\n",
        "words. Capture the main points. Write succintly, no need to have complete sentences or good \\\n",
        "grammar. This will be consumed by someone synthesizing a report, so it's vital you capture the \\\n",
        "essence and ignore any fluff. Do not include any additional commentary other than the summary itself.\"\n",
        "\n",
        "search_agent = Agent(\n",
        "    name=\"Search agent\",\n",
        "    instructions=INSTRUCTIONS,\n",
        "    tools=[WebSearchTool(search_context_size=\"low\")],\n",
        "    model=\"gpt-4o-mini\",\n",
        "    model_settings=ModelSettings(tool_choice=\"required\"),\n",
        ")"
      ]
    },
    {
      "cell_type": "code",
      "execution_count": null,
      "metadata": {},
      "outputs": [],
      "source": [
        "message = \"Latest AI Agent frameworks in 2025\"\n",
        "\n",
        "with trace(\"Search\"):\n",
        "    result = await Runner.run(search_agent, message)\n",
        "\n",
        "display(Markdown(result.final_output))"
      ]
    },
    {
      "cell_type": "markdown",
      "metadata": {},
      "source": [
        "### いつものように、トレースを見てください\n",
        "\n",
        "https://platform.openai.com/traces"
      ]
    },
    {
      "cell_type": "markdown",
      "metadata": {},
      "source": [
        "### 構造化された出力を使用し、フィールドの説明を含めます"
      ]
    },
    {
      "cell_type": "code",
      "execution_count": 33,
      "metadata": {},
      "outputs": [],
      "source": [
        "# WebSearchToolのコストに関する上記のメモを参照してください\n",
        "\n",
        "HOW_MANY_SEARCHES = 3\n",
        "\n",
        "INSTRUCTIONS = f\"You are a helpful research assistant. Given a query, come up with a set of web searches \\\n",
        "to perform to best answer the query. Output {HOW_MANY_SEARCHES} terms to query for.\"\n",
        "\n",
        "# Pydanticを使用して、私たちの応答のスキーマを定義します - これは「構造化された出力」として知られています\n",
        "# 学生のWes C.に大いに感謝して、これで厄介なバグを発見して修正してくれました！\n",
        "\n",
        "class WebSearchItem(BaseModel):\n",
        "    reason: str = Field(description=\"Your reasoning for why this search is important to the query.\")\n",
        "\n",
        "    query: str = Field(description=\"The search term to use for the web search.\")\n",
        "\n",
        "\n",
        "class WebSearchPlan(BaseModel):\n",
        "    searches: list[WebSearchItem] = Field(description=\"A list of web searches to perform to best answer the query.\")\n",
        "\n",
        "\n",
        "planner_agent = Agent(\n",
        "    name=\"PlannerAgent\",\n",
        "    instructions=INSTRUCTIONS,\n",
        "    model=\"gpt-4o-mini\",\n",
        "    output_type=WebSearchPlan,\n",
        ")"
      ]
    },
    {
      "cell_type": "code",
      "execution_count": null,
      "metadata": {},
      "outputs": [],
      "source": [
        "\n",
        "message = \"Latest AI Agent frameworks in 2025\"\n",
        "\n",
        "with trace(\"Search\"):\n",
        "    result = await Runner.run(planner_agent, message)\n",
        "    print(result.final_output)"
      ]
    },
    {
      "cell_type": "code",
      "execution_count": 35,
      "metadata": {},
      "outputs": [],
      "source": [
        "@function_tool\n",
        "def send_email(subject: str, html_body: str) -> Dict[str, str]:\n",
        "    \"\"\" Send out an email with the given subject and HTML body \"\"\"\n",
        "    sg = sendgrid.SendGridAPIClient(api_key=os.environ.get('SENDGRID_API_KEY'))\n",
        "    from_email = Email(\"ed@edwarddonner.com\") # これを確認したメールに変更します\n",
        "    to_email = To(\"ed.donner@gmail.com\") # これをメールに変更します\n",
        "    content = Content(\"text/html\", html_body)\n",
        "    mail = Mail(from_email, to_email, subject, content).get()\n",
        "    response = sg.client.mail.send.post(request_body=mail)\n",
        "    return {\"status\": \"success\"}"
      ]
    },
    {
      "cell_type": "code",
      "execution_count": null,
      "metadata": {},
      "outputs": [],
      "source": [
        "send_email"
      ]
    },
    {
      "cell_type": "code",
      "execution_count": 37,
      "metadata": {},
      "outputs": [],
      "source": [
        "INSTRUCTIONS = \"\"\"You are able to send a nicely formatted HTML email based on a detailed report.\n",
        "You will be provided with a detailed report. You should use your tool to send one email, providing the \n",
        "report converted into clean, well presented HTML with an appropriate subject line.\"\"\"\n",
        "\n",
        "email_agent = Agent(\n",
        "    name=\"Email agent\",\n",
        "    instructions=INSTRUCTIONS,\n",
        "    tools=[send_email],\n",
        "    model=\"gpt-4o-mini\",\n",
        ")\n",
        "\n"
      ]
    },
    {
      "cell_type": "code",
      "execution_count": 38,
      "metadata": {},
      "outputs": [],
      "source": [
        "INSTRUCTIONS = (\n",
        "    \"You are a senior researcher tasked with writing a cohesive report for a research query. \"\n",
        "    \"You will be provided with the original query, and some initial research done by a research assistant.\\n\"\n",
        "    \"You should first come up with an outline for the report that describes the structure and \"\n",
        "    \"flow of the report. Then, generate the report and return that as your final output.\\n\"\n",
        "    \"The final output should be in markdown format, and it should be lengthy and detailed. Aim \"\n",
        "    \"for 5-10 pages of content, at least 1000 words.\"\n",
        ")\n",
        "\n",
        "\n",
        "class ReportData(BaseModel):\n",
        "    short_summary: str = Field(description=\"A short 2-3 sentence summary of the findings.\")\n",
        "\n",
        "    markdown_report: str = Field(description=\"The final report\")\n",
        "\n",
        "    follow_up_questions: list[str] = Field(description=\"Suggested topics to research further\")\n",
        "\n",
        "\n",
        "writer_agent = Agent(\n",
        "    name=\"WriterAgent\",\n",
        "    instructions=INSTRUCTIONS,\n",
        "    model=\"gpt-4o-mini\",\n",
        "    output_type=ReportData,\n",
        ")"
      ]
    },
    {
      "cell_type": "markdown",
      "metadata": {},
      "source": [
        "### 次の3つの関数は、planner_agentとsearch_agentを使用して、検索を計画して実行します"
      ]
    },
    {
      "cell_type": "code",
      "execution_count": 39,
      "metadata": {},
      "outputs": [],
      "source": [
        "async def plan_searches(query: str):\n",
        "    \"\"\" Use the planner_agent to plan which searches to run for the query \"\"\"\n",
        "    print(\"検索の計画...\")\n",
        "    result = await Runner.run(planner_agent, f\"Query: {query}\")\n",
        "    print(f\"Will perform {len(result.final_output.searches)} searches\")\n",
        "    return result.final_output\n",
        "\n",
        "async def perform_searches(search_plan: WebSearchPlan):\n",
        "    \"\"\" Call search() for each item in the search plan \"\"\"\n",
        "    print(\"検索...\")\n",
        "    tasks = [asyncio.create_task(search(item)) for item in search_plan.searches]\n",
        "    results = await asyncio.gather(*tasks)\n",
        "    print(\"検索が終了しました\")\n",
        "    return results\n",
        "\n",
        "async def search(item: WebSearchItem):\n",
        "    \"\"\" Use the search agent to run a web search for each item in the search plan \"\"\"\n",
        "    input = f\"Search term: {item.query}\\nReason for searching: {item.reason}\"\n",
        "    result = await Runner.run(search_agent, input)\n",
        "    return result.final_output"
      ]
    },
    {
      "cell_type": "markdown",
      "metadata": {},
      "source": [
        "### 次の2つの関数はレポートを書き、それを電子メールで送信します"
      ]
    },
    {
      "cell_type": "code",
      "execution_count": 40,
      "metadata": {},
      "outputs": [],
      "source": [
        "async def write_report(query: str, search_results: list[str]):\n",
        "    \"\"\" Use the writer agent to write a report based on the search results\"\"\"\n",
        "    print(\"レポートについて考えています...\")\n",
        "    input = f\"Original query: {query}\\nSummarized search results: {search_results}\"\n",
        "    result = await Runner.run(writer_agent, input)\n",
        "    print(\"レポートを書き終えました\")\n",
        "    return result.final_output\n",
        "\n",
        "async def send_email(report: ReportData):\n",
        "    \"\"\" Use the email agent to send an email with the report \"\"\"\n",
        "    print(\"メールを書く...\")\n",
        "    result = await Runner.run(email_agent, report.markdown_report)\n",
        "    print(\"電子メールが送信されました\")\n",
        "    return report"
      ]
    },
    {
      "cell_type": "markdown",
      "metadata": {},
      "source": [
        "### ショータイム！"
      ]
    },
    {
      "cell_type": "code",
      "execution_count": null,
      "metadata": {},
      "outputs": [],
      "source": [
        "query =\"Latest AI Agent frameworks in 2025\"\n",
        "\n",
        "with trace(\"Research trace\"):\n",
        "    print(\"研究を開始...\")\n",
        "    search_plan = await plan_searches(query)\n",
        "    search_results = await perform_searches(search_plan)\n",
        "    report = await write_report(query, search_results)\n",
        "    await send_email(report)  \n",
        "    print(\"hooray！\")\n",
        "\n",
        "\n"
      ]
    },
    {
      "cell_type": "markdown",
      "metadata": {},
      "source": [
        "### いつものように、トレースを見てください\n",
        "\n",
        "https://platform.openai.com/traces"
      ]
    },
    {
      "cell_type": "markdown",
      "metadata": {},
      "source": [
        "<テーブルスタイル= \"マージン：0;テキストアライグ：左;幅：100％\">\n",
        "    <tr>\n",
        "        <td style = \"width：150px; height：150px; vertical-align：middle;\">\n",
        "            <img src = \"../ assets/ants.png\" width = \"150\" height = \"150\" style = \"display：block;\" />\n",
        "        </td>\n",
        "        <td>\n",
        "            <h2 style = \"color：＃00cc00;\">あなたの進捗状況とリクエストのおめでとう</h2>\n",
        "            <Span style = \"color：＃00cc00;\">コースで重要な瞬間に到達しました。最新のエージェントフレームワークの1つを使用して貴重なエージェントを作成しました。あなたはアップスキルし、新しい商業的可能性を解き放ちました。あなたの成功を祝うために少し時間を取ってください！あなたがウデミーでコースを評価できるなら、私は真剣に感謝するでしょう：それはウデミーが他の人にコースを示すかどうかを決定する最も重要な方法であり、それは大きな違いを生む。コースでの進捗状況について投稿したい場合は、タグを付けてください。露出を増やすために体重を計ります。\n",
        "            </span>\n",
        "        </td>\n",
        "    </tr>"
      ]
    }
  ],
  "metadata": {
    "kernelspec": {
      "display_name": ".venv",
      "language": "python",
      "name": "python3"
    },
    "language_info": {
      "codemirror_mode": {
        "name": "ipython",
        "version": 3
      },
      "file_extension": ".py",
      "mimetype": "text/x-python",
      "name": "python",
      "nbconvert_exporter": "python",
      "pygments_lexer": "ipython3",
      "version": "3.12.9"
    }
  },
  "nbformat": 4,
  "nbformat_minor": 2
}