{
 "cells": [
  {
   "cell_type": "markdown",
   "metadata": {},
   "source": [
    "## 第2週 4日目\n",
    "\n",
    "ディープ・リサーチ：古典的なクロス・ビジネス・エージェントのユースケースの1つ！これは巨大です。\n",
    "\n",
    "### 概要\n",
    "**最新のAIエージェント・フレームワーク（2025年版）**に関する**ディープ・リサーチ**を自動化するエージェントを構築・実行する。\n",
    "\n",
    "- 準備：ライブラリのインポート、環境変数のロード\n",
    "- WebSearchTool を使う search_agent の作成\n",
    "- 構造化出力を行う planner_agent の作成\n",
    "- メール送信ツールを使う email_agentの作成\n",
    "- 構造化出力を行う writer_agent の作成\n",
    "- 上記のエージェントを実行する関数群を定義\n",
    "- 関数を順次呼び出しエージェント・フローを実行\n",
    "\n",
    "ログを見ると以下のように動作したことが確認できる。\n",
    "\n",
    "- Starting research...\n",
    "- Planning searches...\n",
    "  - message = \"Latest AI Agent frameworks in 2025\"\n",
    "  - Will perform 3 searches\n",
    "  - Finished Planning\n",
    "- Searching...\n",
    "  - Searching \"latest AI agent frameworks 2025\"...\n",
    "  - Searching \"top AI agent tools 2025\"...\n",
    "  - Searching \"AI agent frameworks trends 2025\"...\n",
    "  - Finished searching\n",
    "- Thinking about report...\n",
    "  Finished writing report\n",
    "- Writing email...\n",
    "  Email sent\n",
    "- Hooray!"
   ]
  },
  {
   "cell_type": "markdown",
   "metadata": {},
   "source": [
    "<table style=\"margin: 0; text-align: left; width:100%\">\n",
    "    <tr>\n",
    "        <td style=\"width: 150px; height: 150px; vertical-align: middle;\">\n",
    "            <img src=\"../assets/business.png\" width=\"150\" height=\"150\" style=\"display: block;\" />\n",
    "        </td>\n",
    "        <td>\n",
    "            <h2 style=\"color:#00bfff;\">商業的影響</h2>\n",
    "            <span style=\"color:#00bfff;\">\n",
    "                Deep Researchエージェントは、あらゆるビジネス分野や日々の業務に幅広く応用できます。ご自身でも活用いただけます！\n",
    "            </span>\n",
    "        </td>\n",
    "    </tr>\n",
    "</table>"
   ]
  },
  {
   "cell_type": "code",
   "execution_count": 1,
   "metadata": {},
   "outputs": [],
   "source": [
    "import os\n",
    "import asyncio\n",
    "from typing import Dict\n",
    "from pydantic import BaseModel, Field\n",
    "\n",
    "from dotenv import load_dotenv\n",
    "from agents import Agent, WebSearchTool, trace, Runner, gen_trace_id, function_tool\n",
    "from agents.model_settings import ModelSettings\n",
    "\n",
    "import resend # import sendgrid\n",
    "#from sendgrid.helpers.mail import Mail, Email, To, Content\n",
    "from IPython.display import display, Markdown"
   ]
  },
  {
   "cell_type": "code",
   "execution_count": 2,
   "metadata": {},
   "outputs": [
    {
     "data": {
      "text/plain": [
       "True"
      ]
     },
     "execution_count": 2,
     "metadata": {},
     "output_type": "execute_result"
    }
   ],
   "source": [
    "load_dotenv(override=True)"
   ]
  },
  {
   "cell_type": "markdown",
   "metadata": {},
   "source": [
    "## OpenAIホストツール\n",
    "\n",
    "OpenAI Agents SDKには、次のホストツールが含まれています。\n",
    "\n",
    "`WebSearchTool`  を使用すると、エージェントがWebを検索できます。  \n",
    "`FileSearchTool` を使用すると、OpenAIベクターストアから情報を取得できます。  \n",
    "`ComputerTool`   は、スクリーンショットの撮影やクリックなどのタスクを自動化することができます。\n",
    "\n",
    "### 重要なメモ - WebSearchTool の API チャージ\n",
    "\n",
    "これには、OpenAI WebSearchTool の呼び出しごとに2.5セントの費用がかかります。次の2つのラボでは、最大2-3ドルになります。他のプラットフォームで無料および低コストの検索ツールを使用するので、コストが懸念される場合は、これを実行して自由にスキップしてください。また、学生の Christian W. は、OpenAIが1回のコールの複数の検索に対して請求する場合があるため、通話ごとに2.5セント以上の費用がかかる場合があると指摘しました。\n",
    "\n",
    "コストはこちら: https://platform.openai.com/docs/pricing#web-search"
   ]
  },
  {
   "cell_type": "markdown",
   "metadata": {},
   "source": [
    "## WebSearchTool を使う search_agent"
   ]
  },
  {
   "cell_type": "code",
   "execution_count": 3,
   "metadata": {},
   "outputs": [],
   "source": [
    "# 指示「あなたは研究助手です。与えられた検索語でウェブを検索し、その結果を簡潔に要約してください。\n",
    "# 要約は2～3段落、300語未満でなければなりません。要点を捉えてください。簡潔に記述してください。完全な文や正確な文法は必要ありません。\n",
    "# これはレポートを作成する人が参照するものなので、要点を捉え、余分な部分は省くことが重要です。要約以外のコメントは含めないでください。」\n",
    "INSTRUCTIONS = \"You are a research assistant. Given a search term, you search the web for that term and \\\n",
    "produce a concise summary of the results. The summary must 2-3 paragraphs and less than 300 \\\n",
    "words. Capture the main points. Write succintly, no need to have complete sentences or good \\\n",
    "grammar. This will be consumed by someone synthesizing a report, so it's vital you capture the \\\n",
    "essence and ignore any fluff. Do not include any additional commentary other than the summary itself.\"\n",
    "\n",
    "search_agent = Agent(\n",
    "    name=\"Search agent\",\n",
    "    instructions=INSTRUCTIONS,\n",
    "    tools=[WebSearchTool(search_context_size=\"low\")],     # sizeはWebからの取得コンテキスト量。\n",
    "    model=\"gpt-4o-mini\",                                  # 費用を抑えたいので -mini を指定。\n",
    "    model_settings=ModelSettings(tool_choice=\"required\"), # 任意のツールの使用を必須に指定\n",
    ")"
   ]
  },
  {
   "cell_type": "code",
   "execution_count": 4,
   "metadata": {},
   "outputs": [
    {
     "data": {
      "text/markdown": [
       "In 2025, several AI agent frameworks have emerged, each offering unique capabilities for developing intelligent, autonomous systems.\n",
       "\n",
       "**Amazon Bedrock AgentCore**: Launched by AWS, AgentCore provides a suite of tools for enterprise-scale AI agent development, including scalable serverless deployment, context management, and secure service access. ([techradar.com](https://www.techradar.com/pro/aws-looks-to-super-charge-ai-agents-with-amazon-bedrock-agentcore?utm_source=openai))\n",
       "\n",
       "**Microsoft AutoGen**: This open-source framework facilitates the creation of multi-agent systems, enabling seamless communication and collaboration among agents to solve complex problems. ([radarmagazine.com](https://www.radarmagazine.com/top-5-ai-agent-frameworks-it-executives-should-be-watching-in-2025/?utm_source=openai))\n",
       "\n",
       "**Eliza**: A Web3-friendly AI agent operating system that integrates blockchain data and smart contracts, allowing for the deployment of decentralized applications. ([arxiv.org](https://arxiv.org/abs/2501.06781?utm_source=openai))\n",
       "\n",
       "**Agent Lightning**: A flexible framework that enables reinforcement learning-based training of large language models for any AI agent, supporting complex interaction logic and dynamic workflows. ([arxiv.org](https://arxiv.org/abs/2508.03680?utm_source=openai))\n",
       "\n",
       "**AutoAgent**: A fully automated, zero-code framework that allows users to create and deploy LLM agents through natural language, making AI agent development accessible without programming skills. ([arxiv.org](https://arxiv.org/abs/2502.05957?utm_source=openai))\n",
       "\n",
       "**Symphony**: A decentralized multi-agent system that enables lightweight LLMs on consumer-grade GPUs to coordinate, offering a scalable and fault-tolerant orchestration with low overhead. ([arxiv.org](https://arxiv.org/abs/2508.20019?utm_source=openai))\n",
       "\n",
       "These frameworks reflect the rapid advancements in AI agent technology, catering to diverse needs from enterprise solutions to decentralized applications. "
      ],
      "text/plain": [
       "<IPython.core.display.Markdown object>"
      ]
     },
     "metadata": {},
     "output_type": "display_data"
    }
   ],
   "source": [
    "# 2025年の最新AIエージェントフレームワーク\n",
    "message = \"Latest AI Agent frameworks in 2025\"\n",
    "\n",
    "# OpenAI API PF → Dashboard → Logs → Traces の \n",
    "with trace(\"Search\"):\n",
    "    # WebSearchToolを使用して「2025年の最新AIエージェントフレームワーク」について調査\n",
    "    result = await Runner.run(search_agent, message)\n",
    "\n",
    "# 結果をMarkdownで表示\n",
    "display(Markdown(result.final_output))"
   ]
  },
  {
   "cell_type": "markdown",
   "metadata": {},
   "source": [
    "### いつものように、トレースを見てください\n",
    "\n",
    "https://platform.openai.com/traces"
   ]
  },
  {
   "cell_type": "markdown",
   "metadata": {},
   "source": [
    "## 構造化出力を行う planner_agent\n",
    "ウェブ検索（理由、クエリ）のリストを構造化出力するエージェント"
   ]
  },
  {
   "cell_type": "code",
   "execution_count": 5,
   "metadata": {},
   "outputs": [],
   "source": [
    "# WebSearchToolのコストに関する上記のメモを参照してください\n",
    "\n",
    "HOW_MANY_SEARCHES = 3\n",
    "\n",
    "# あなたは役に立つ研究アシスタントです。\n",
    "# クエリが与えられた場合、クエリに最適な回答を得るために実行するウェブ検索のセットを考え出してください。\n",
    "# 検索対象となる {HOW_MANY_SEARCHES} 個の用語を出力してください。\n",
    "INSTRUCTIONS = f\"You are a helpful research assistant. Given a query, come up with a set of web searches \\\n",
    "to perform to best answer the query. Output {HOW_MANY_SEARCHES} terms to query for.\"\n",
    "\n",
    "# Pydanticを使用して、私たちの応答のスキーマを定義します - これは「構造化された出力」として知られています\n",
    "# 学生のWes C.に大いに感謝して、これで厄介なバグを発見して修正してくれました！\n",
    "\n",
    "# ウェブ検索（理由、クエリ）\n",
    "class WebSearchItem(BaseModel):\n",
    "    # この検索がクエリにとって重要である理由。\n",
    "    reason: str = Field(description=\"Your reasoning for why this search is important to the query.\")\n",
    "    # Web 検索に使用する検索語句。\n",
    "    query: str = Field(description=\"The search term to use for the web search.\")\n",
    "\n",
    "# ※ 余談だが、reasonを入れておくことで、CoT的に、queryのクオリティが高まるとのこと。\n",
    "\n",
    "# ウェブ検索（理由、クエリ）のリスト\n",
    "class WebSearchPlan(BaseModel):\n",
    "    # クエリに最適な回答を得るために実行する Web 検索のリスト。\n",
    "    searches: list[WebSearchItem] = Field(description=\"A list of web searches to perform to best answer the query.\")\n",
    "\n",
    "# ウェブ検索（理由、クエリ）のリストを構造化出力するエージェント\n",
    "planner_agent = Agent(\n",
    "    name=\"PlannerAgent\",\n",
    "    instructions=INSTRUCTIONS,\n",
    "    model=\"gpt-4o-mini\",\n",
    "    output_type=WebSearchPlan,\n",
    ")"
   ]
  },
  {
   "cell_type": "code",
   "execution_count": 6,
   "metadata": {},
   "outputs": [
    {
     "name": "stdout",
     "output_type": "stream",
     "text": [
      "searches=[WebSearchItem(reason='To find comprehensive overviews or articles on the latest AI agent frameworks released or announced in 2025.', query='latest AI agent frameworks 2025'), WebSearchItem(reason='To discover specific frameworks that have gained popularity or are recommended in the AI community in 2025.', query='top AI frameworks 2025'), WebSearchItem(reason='To identify reviews or comparisons of different AI agent frameworks available in 2025.', query='comparison of AI agent frameworks 2025')]\n"
     ]
    }
   ],
   "source": [
    "# 2025年の最新AIエージェントフレームワーク\n",
    "message = \"Latest AI Agent frameworks in 2025\"\n",
    "\n",
    "# OpenAI API PF → Dashboard → Logs → Traces の \n",
    "with trace(\"Search\"):\n",
    "    # ウェブ検索のセット（理由、クエリ）を構造化出力\n",
    "    result = await Runner.run(planner_agent, message)\n",
    "    print(result.final_output)"
   ]
  },
  {
   "cell_type": "markdown",
   "metadata": {},
   "source": [
    "### いつものように、トレースを見てください\n",
    "\n",
    "https://platform.openai.com/traces"
   ]
  },
  {
   "cell_type": "markdown",
   "metadata": {},
   "source": [
    "## メール送信ツールを使う email_agent"
   ]
  },
  {
   "cell_type": "code",
   "execution_count": 7,
   "metadata": {},
   "outputs": [
    {
     "data": {
      "text/plain": [
       "FunctionTool(name='send_email', description='Send out an email with the given subject and HTML body', params_json_schema={'properties': {'subject': {'title': 'Subject', 'type': 'string'}, 'html_body': {'title': 'Html Body', 'type': 'string'}}, 'required': ['subject', 'html_body'], 'title': 'send_email_args', 'type': 'object', 'additionalProperties': False}, on_invoke_tool=<function function_tool.<locals>._create_function_tool.<locals>._on_invoke_tool at 0x7f6268abfe20>, strict_json_schema=True, is_enabled=True)"
      ]
     },
     "execution_count": 7,
     "metadata": {},
     "output_type": "execute_result"
    }
   ],
   "source": [
    "# メール送信ツール\n",
    "@function_tool\n",
    "def send_email(subject: str, html_body: str) -> Dict[str, str]:\n",
    "    \"\"\" Send out an email with the given subject and HTML body \"\"\"\n",
    "    \n",
    "    #sg = sendgrid.SendGridAPIClient(api_key=os.environ.get('SENDGRID_API_KEY'))\n",
    "    resend.api_key=os.getenv(\"RESEND_API_KEY\")\n",
    "    \n",
    "    #from_email = Email(\"ed@edwarddonner.com\")  # 検証済みの送信者に変更します\n",
    "    #to_email = To(\"ed.donner@gmail.com\")  # 受信者に変更します\n",
    "    #content = Content(\"text/html\", html_body)\n",
    "    #mail = Mail(from_email, to_email, subject, content).get()\n",
    "    #sg.client.mail.send.post(request_body=mail)\n",
    "    \n",
    "    response = resend.Emails.send({\n",
    "        \"from\": \"onboarding@resend.dev\",\n",
    "        \"to\": \"nishi_74322014@ksj.biglobe.ne.jp\",\n",
    "        \"subject\": subject,\n",
    "        \"html\": html_body\n",
    "    })\n",
    "\n",
    "    return {\"status\": \"success\"}\n",
    "\n",
    "send_email"
   ]
  },
  {
   "cell_type": "code",
   "execution_count": 8,
   "metadata": {},
   "outputs": [],
   "source": [
    "# 詳細なレポートに基づいて、見やすくフォーマットされたHTMLメールを送信できます。\n",
    "# 詳細なレポートが提供されます。ツールを使用して、レポートを適切な件名を付けた、見やすく見やすいHTMLに変換したメールを1通送信してください。\n",
    "INSTRUCTIONS = \"\"\"You are able to send a nicely formatted HTML email based on a detailed report.\n",
    "You will be provided with a detailed report. You should use your tool to send one email, providing the \n",
    "report converted into clean, well presented HTML with an appropriate subject line.\"\"\"\n",
    "\n",
    "# メール送信エージェント\n",
    "email_agent = Agent(\n",
    "    name=\"Email agent\",\n",
    "    instructions=INSTRUCTIONS,\n",
    "    tools=[send_email],\n",
    "    model=\"gpt-4o-mini\",\n",
    ")"
   ]
  },
  {
   "cell_type": "markdown",
   "metadata": {},
   "source": [
    "## 構造化出力を行う writer_agent\n",
    "研究報告書（要約、本文、研究提案）を構造化出力するエージェント"
   ]
  },
  {
   "cell_type": "code",
   "execution_count": 9,
   "metadata": {},
   "outputs": [],
   "source": [
    "# あなたは、ある研究テーマについて、まとまりのある報告書を書くという任務を負った上級研究者です。\n",
    "# オリジナルの研究テーマと、研究アシスタントが行った初期調査が提供されます。\n",
    "# まず、報告書の構成と流れを説明する報告書のアウトラインを作成してください。\n",
    "# 次に、報告書を作成し、最終成果物として提出してください。\n",
    "# 最終成果物はマークダウン形式で、長く詳細な内容にしてください。\n",
    "# 5～10ページ、少なくとも1000語の内容を目指してください。\n",
    "\n",
    "INSTRUCTIONS = (\n",
    "    \"You are a senior researcher tasked with writing a cohesive report for a research query. \"\n",
    "    \"You will be provided with the original query, and some initial research done by a research assistant.\\n\"\n",
    "    \"You should first come up with an outline for the report that describes the structure and \"\n",
    "    \"flow of the report. Then, generate the report and return that as your final output.\\n\"\n",
    "    \"The final output should be in markdown format, and it should be lengthy and detailed. Aim \"\n",
    "    \"for 5-10 pages of content, at least 1000 words.\"\n",
    ")\n",
    "\n",
    "# 報告情報\n",
    "class ReportData(BaseModel):\n",
    "    # 調査結果を 2 ～ 3 文で簡潔に要約\n",
    "    short_summary: str = Field(description=\"A short 2-3 sentence summary of the findings.\")\n",
    "    # 最終報告書\n",
    "    markdown_report: str = Field(description=\"The final report\")\n",
    "    # さらに研究するための提案トピック\n",
    "    follow_up_questions: list[str] = Field(description=\"Suggested topics to research further\")\n",
    "\n",
    "# 報告書作成エージェント\n",
    "writer_agent = Agent(\n",
    "    name=\"WriterAgent\",\n",
    "    instructions=INSTRUCTIONS,\n",
    "    model=\"gpt-4o-mini\",\n",
    "    output_type=ReportData,\n",
    ")"
   ]
  },
  {
   "cell_type": "markdown",
   "metadata": {},
   "source": [
    "## エージェント関数"
   ]
  },
  {
   "cell_type": "markdown",
   "metadata": {},
   "source": [
    "### 次の3つの関数は、planner_agent と search_agent を使用して、検索を計画して実行します"
   ]
  },
  {
   "cell_type": "code",
   "execution_count": 10,
   "metadata": {},
   "outputs": [],
   "source": [
    "# planner_agentを実行する。\n",
    "async def plan_searches(query: str):\n",
    "    \"\"\" Use the planner_agent to plan which searches to run for the query \"\"\"\n",
    "    # planner_agent を使用して、クエリに対して実行する検索を計画。\n",
    "    \n",
    "    print(\"Planning searches...\")\n",
    "    result = await Runner.run(planner_agent, f\"Query: {query}\")\n",
    "    print(f\"Will perform {len(result.final_output.searches)} searches\")\n",
    "    print(\"Finished Planning\")\n",
    "    \n",
    "    return result.final_output\n",
    "\n",
    "# search_planを並列実行する。\n",
    "async def perform_searches(search_plan: WebSearchPlan):\n",
    "    \"\"\" Call search() for each item in the search plan \"\"\"\n",
    "    # 検索プラン内の各項目に対してsearch()を呼び出す。\n",
    "    \n",
    "    print(\"Searching...\")\n",
    "    tasks = [asyncio.create_task(search(item)) for item in search_plan.searches]\n",
    "    results = await asyncio.gather(*tasks)\n",
    "    print(\"Finished searching\")\n",
    "    \n",
    "    return results\n",
    "\n",
    "# search_planの一部を単体実行する。\n",
    "async def search(item: WebSearchItem):\n",
    "    \"\"\" Use the search agent to run a web search for each item in the search plan \"\"\"\n",
    "    # search_agent を使用して、検索プラン内の各項目のウェブ検索を実行。\n",
    "\n",
    "    print(f\"Searching {item.query}...\") # 少々ログを強化した。\n",
    "    input = f\"Search term: {item.query}\\nReason for searching: {item.reason}\"\n",
    "    result = await Runner.run(search_agent, input)\n",
    "    \n",
    "    return result.final_output"
   ]
  },
  {
   "cell_type": "markdown",
   "metadata": {},
   "source": [
    "### 次の2つの関数は、writer_agent と email_agent を使用して、レポートを書き電子メールで送信します"
   ]
  },
  {
   "cell_type": "code",
   "execution_count": 11,
   "metadata": {},
   "outputs": [],
   "source": [
    "async def write_report(query: str, search_results: list[str]):\n",
    "    \"\"\" Use the writer agent to write a report based on the search results \"\"\"\n",
    "    # writer_agent を使用して、検索結果に基づいてレポートを作成する\n",
    "    \n",
    "    print(\"Thinking about report...\")\n",
    "    input = f\"Original query: {query}\\nSummarized search results: {search_results}\"\n",
    "    result = await Runner.run(writer_agent, input)\n",
    "    print(\"Finished writing report\")\n",
    "    \n",
    "    return result.final_output\n",
    "\n",
    "async def send_email(report: ReportData):\n",
    "    \"\"\" Use the email agent to send an email with the report \"\"\"\n",
    "    # email_agent を使用してレポートを添付したメールを送信する\n",
    "    \n",
    "    print(\"Writing email...\")\n",
    "    result = await Runner.run(email_agent, report.markdown_report)\n",
    "    print(\"Email sent\")\n",
    "    \n",
    "    return report"
   ]
  },
  {
   "cell_type": "markdown",
   "metadata": {},
   "source": [
    "### ショータイム！\n",
    "わりと大掛かりな、エージェント・フロー"
   ]
  },
  {
   "cell_type": "code",
   "execution_count": 12,
   "metadata": {},
   "outputs": [
    {
     "name": "stdout",
     "output_type": "stream",
     "text": [
      "Starting research...\n",
      "Planning searches...\n",
      "Will perform 3 searches\n",
      "Finished Planning\n",
      "Searching...\n",
      "Searching latest AI agent frameworks 2025...\n",
      "Searching top AI agent tools 2025...\n",
      "Searching AI agent frameworks trends 2025...\n",
      "Finished searching\n",
      "Thinking about report...\n",
      "Finished writing report\n",
      "Writing email...\n",
      "Email sent\n",
      "Hooray!\n"
     ]
    }
   ],
   "source": [
    "# 2025年の最新AIエージェントフレームワーク\n",
    "query =\"Latest AI Agent frameworks in 2025\"\n",
    "\n",
    "# OpenAI API PF → Dashboard → Logs → Traces の \n",
    "with trace(\"Research trace\"):\n",
    "    \n",
    "    # わりと大掛かりな、エージェント・フロー\n",
    "    print(\"Starting research...\")\n",
    "\n",
    "    # エージェントでプランを作成\n",
    "    search_plan = await plan_searches(query)\n",
    "    \n",
    "    # プランをエージェントで並列実行\n",
    "    search_results = await perform_searches(search_plan)\n",
    "\n",
    "    # 結果を受けてレポートを作成\n",
    "    report = await write_report(query, search_results)\n",
    "\n",
    "    # エージェントでメールを送信\n",
    "    await send_email(report)  \n",
    "    \n",
    "    print(\"Hooray!\")"
   ]
  },
  {
   "cell_type": "markdown",
   "metadata": {},
   "source": [
    "### いつものように、トレースを見てください\n",
    "\n",
    "https://platform.openai.com/traces"
   ]
  },
  {
   "cell_type": "markdown",
   "metadata": {},
   "source": [
    "<table style=\"margin: 0; text-align: left; width:100%\">\n",
    "    <tr>\n",
    "        <td style=\"width: 150px; height: 150px; vertical-align: middle;\">\n",
    "            <img src=\"../assets/thanks.png\" width=\"150\" height=\"150\" style=\"display: block;\" />\n",
    "        </td>\n",
    "        <td>\n",
    "            <h2 style=\"color:#00cc00;\">進捗おめでとうございます！そしてお願いがあります。</h2>\n",
    "            <span style=\"color:#00cc00;\">コースの重要な段階に到達しました。最新のエージェントフレームワークの一つを使って、価値あるエージェントを作成できました。スキルアップを果たし、新たなビジネスチャンスを切り開きました。この成功をお祝いする時間を取りましょう！<br/><br/>お願いがあります。もしこれを言わないと編集者に叩かれてしまうでしょう。Udemyでコースを評価していただけると大変助かります。評価はUdemyがこのコースを他のユーザーに公開するかどうかを決める最も重要な要素であり、大きな違いを生みます。<br/><br/>もう一つお知らせです。ご希望であれば、<a href=\"https://www.linkedin.com/in/eddonner/\">LinkedInで私と繋がってください！</a> コースの進捗状況を投稿したい場合は、私をタグ付けしてください。露出を高めるために私が協力させていただきます。</span>\n",
    "        </td>\n",
    "    </tr>"
   ]
  }
 ],
 "metadata": {
  "kernelspec": {
   "display_name": "Python 3 (ipykernel)",
   "language": "python",
   "name": "python3"
  },
  "language_info": {
   "codemirror_mode": {
    "name": "ipython",
    "version": 3
   },
   "file_extension": ".py",
   "mimetype": "text/x-python",
   "name": "python",
   "nbconvert_exporter": "python",
   "pygments_lexer": "ipython3",
   "version": "3.12.3"
  }
 },
 "nbformat": 4,
 "nbformat_minor": 4
}
