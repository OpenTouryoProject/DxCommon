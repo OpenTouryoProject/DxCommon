{
 "cells": [
  {
   "cell_type": "markdown",
   "metadata": {},
   "source": [
    "## 第4週、5日目\n",
    "- 5日目 はあるのに、5日目の `*ipynb` がなかったので作成。\n",
    "- Big Educational / Entertaining / Edgy Project的（低信頼性・非商業的）\n",
    "- 「Creator」エージェントが別のエージェントし作成・分散ランタイムに登録する。\n",
    "- ただし、内容は カレント・ディレクトリの `*.py` モジュールを実行するだけ。\n",
    "  - creator.py : エージェント作成・登録・実行\n",
    "  - agent.py : エージェントの実装テンプレート\n",
    "  - agent_commented.py : 上記にコメントを追加したもの（実働しない）\n",
    "  - messages.py : Messageクラスとfind_recipient関数\n",
    "  - world.py : エントリ・ポイントと最初の処理\n",
    "- コチラは、日本語化を行っていない（コメントは付与）。"
   ]
  },
  {
   "cell_type": "markdown",
   "metadata": {},
   "source": [
    "以下のようにセルを実行し、出力結果を確認する。"
   ]
  },
  {
   "cell_type": "code",
   "execution_count": null,
   "metadata": {},
   "outputs": [],
   "source": [
    "# 以下は誤りのような ... 4_langgraphと同様に ...。\n",
    "!uv run world.py"
   ]
  },
  {
   "cell_type": "code",
   "execution_count": 1,
   "metadata": {},
   "outputs": [
    {
     "name": "stdout",
     "output_type": "stream",
     "text": [
      "** Creator has created python code for agent agent1 - about to register with Runtime\n",
      "** Agent agent1 is live\n",
      "INFO:autogen_core.trace:** Agent agent1 is live\n",
      "agent1: Received message\n",
      "** Creator has created python code for agent agent9 - about to register with Runtime\n",
      "** Agent agent9 is live\n",
      "INFO:autogen_core.trace:** Agent agent9 is live\n",
      "agent9: Received message\n",
      "** Creator has created python code for agent agent2 - about to register with Runtime\n",
      "** Agent agent2 is live\n",
      "INFO:autogen_core.trace:** Agent agent2 is live\n",
      "agent2: Received message\n",
      "** Creator has created python code for agent agent5 - about to register with Runtime\n",
      "** Agent agent5 is live\n",
      "INFO:autogen_core.trace:** Agent agent5 is live\n",
      "agent5: Received message\n",
      "** Creator has created python code for agent agent6 - about to register with Runtime\n",
      "** Agent agent6 is live\n",
      "INFO:autogen_core.trace:** Agent agent6 is live\n",
      "agent6: Received message\n",
      "** Creator has created python code for agent agent7 - about to register with Runtime\n",
      "** Agent agent7 is live\n",
      "INFO:autogen_core.trace:** Agent agent7 is live\n",
      "agent7: Received message\n",
      "** Creator has created python code for agent agent4 - about to register with Runtime\n",
      "** Agent agent4 is live\n",
      "INFO:autogen_core.trace:** Agent agent4 is live\n",
      "agent4: Received message\n",
      "** Creator has created python code for agent agent8 - about to register with Runtime\n",
      "** Agent agent8 is live\n",
      "INFO:autogen_core.trace:** Agent agent8 is live\n",
      "agent8: Received message\n",
      "Selecting agent for refinement: agent8\n",
      "agent8: Received message\n",
      "Selecting agent for refinement: agent7\n",
      "agent7: Received message\n",
      "Selecting agent for refinement: agent8\n",
      "agent8: Received message\n",
      "Selecting agent for refinement: agent6\n",
      "agent6: Received message\n",
      "** Creator has created python code for agent agent3 - about to register with Runtime\n",
      "** Agent agent3 is live\n",
      "INFO:autogen_core.trace:** Agent agent3 is live\n",
      "agent3: Received message\n",
      "** Creator has created python code for agent agent10 - about to register with Runtime\n",
      "** Agent agent10 is live\n",
      "INFO:autogen_core.trace:** Agent agent10 is live\n",
      "agent10: Received message\n",
      "Selecting agent for refinement: agent5\n",
      "agent5: Received message\n",
      "Selecting agent for refinement: agent9\n",
      "agent9: Received message\n",
      "Selecting agent for refinement: agent6\n",
      "agent6: Received message\n",
      "Selecting agent for refinement: agent9\n",
      "agent9: Received message\n",
      "Selecting agent for refinement: agent8\n",
      "agent8: Received message\n"
     ]
    }
   ],
   "source": [
    "# Jupyter Labからテスト実行していた訳なので、コチラが正しい。\n",
    "!python world.py"
   ]
  },
  {
   "cell_type": "code",
   "execution_count": null,
   "metadata": {},
   "outputs": [],
   "source": []
  }
 ],
 "metadata": {
  "kernelspec": {
   "display_name": "Python 3 (ipykernel)",
   "language": "python",
   "name": "python3"
  },
  "language_info": {
   "codemirror_mode": {
    "name": "ipython",
    "version": 3
   },
   "file_extension": ".py",
   "mimetype": "text/x-python",
   "name": "python",
   "nbconvert_exporter": "python",
   "pygments_lexer": "ipython3",
   "version": "3.12.3"
  }
 },
 "nbformat": 4,
 "nbformat_minor": 4
}
