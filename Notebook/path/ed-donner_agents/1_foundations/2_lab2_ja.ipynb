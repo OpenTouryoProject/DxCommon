{
 "cells": [
  {
   "cell_type": "markdown",
   "metadata": {},
   "source": [
    "## 2ndラボへようこそ -  第1週、3日目\n",
    "\n",
    "今日はたくさんのモデルを使用します！これは、APIに慣れる方法です。"
   ]
  },
  {
   "cell_type": "markdown",
   "metadata": {},
   "source": [
    "<table style=\"margin: 0; text-align: left; width:100%\">\n",
    "    <tr>\n",
    "        <td style=\"width: 150px; height: 150px; vertical-align: middle;\">\n",
    "            <img src=\"../assets/stop.png\" width=\"150\" height=\"150\" style=\"display: block;\" />\n",
    "        </td>\n",
    "        <td>\n",
    "            <h2 style=\"color:#ff7800;\">重要事項 - 必ずお読みください</h2>\n",
    "            <span style=\"color:#ff7800;\">私が皆さんと協力する方法は、これまで受講してきた他のコースとは異なる可能性があります。皆さんが視聴している間にコードを入力することは避け、このようにJupyter Labsを実行し、何が起こっているのか直感的に理解していただくようにします。講義を視聴した<b>後</b>、ご自身でこれを注意深く実行することをお勧めします。print文を追加して何が起こっているのかを理解し、独自のバリエーションを考えてみてください。<br/><br/>お時間があれば、community_contributionsフォルダへの変更に関するPRを送信していただけると嬉しいです。手順はリソースに記載されています。また、Githubアカウントをお持ちの場合は、それを使ってバリエーションを披露してください。これは必須の練習であるだけでなく、将来のクライアントや雇用主など、他の人にあなたのスキルを示すことにもなります。\n",
    "            </span>\n",
    "        </td>\n",
    "    </tr>\n",
    "</table>"
   ]
  },
  {
   "cell_type": "code",
   "execution_count": 1,
   "metadata": {},
   "outputs": [],
   "source": [
    "# インポートから始める - あなたが知らないパッケージを説明するためにchatgptに尋ねる\n",
    "\n",
    "import os\n",
    "import json\n",
    "from dotenv import load_dotenv\n",
    "from openai import OpenAI\n",
    "from anthropic import Anthropic\n",
    "from IPython.display import Markdown, display"
   ]
  },
  {
   "cell_type": "code",
   "execution_count": 2,
   "metadata": {},
   "outputs": [
    {
     "data": {
      "text/plain": [
       "True"
      ]
     },
     "execution_count": 2,
     "metadata": {},
     "output_type": "execute_result"
    }
   ],
   "source": [
    "# 常にこれを忘れないでください！\n",
    "load_dotenv(override=True)"
   ]
  },
  {
   "cell_type": "code",
   "execution_count": 3,
   "metadata": {},
   "outputs": [
    {
     "name": "stdout",
     "output_type": "stream",
     "text": [
      "OpenAI APIキーが存在し、sk-proj-で始まります。\n",
      "Anthropic APIキーは設定されていません（これはオプションです）\n",
      "Google APIキーが設定されていません（これはオプションです）\n",
      "DeepSeek APIキーは設定されていません（これはオプションです）\n",
      "Groq APIキーは設定されていません（これはオプションです）\n"
     ]
    }
   ],
   "source": [
    "# キープレフィックスを印刷して、デバッグに役立ちます\n",
    "\n",
    "openai_api_key = os.getenv('OPENAI_API_KEY')\n",
    "anthropic_api_key = os.getenv('ANTHROPIC_API_KEY')\n",
    "google_api_key = os.getenv('GOOGLE_API_KEY')\n",
    "deepseek_api_key = os.getenv('DEEPSEEK_API_KEY')\n",
    "groq_api_key = os.getenv('GROQ_API_KEY')\n",
    "\n",
    "if openai_api_key:\n",
    "    print(f\"OpenAI APIキーが存在し、{openai_api_key[:8]}で始まります。\")\n",
    "else:\n",
    "    print(\"OpenAI APIキーが設定されていません\")\n",
    "    \n",
    "if anthropic_api_key:\n",
    "    print(f\"Anthropic APIキーが存在し、{anthropic_api_key[:7]}で始まります。\")\n",
    "else:\n",
    "    print(\"Anthropic APIキーは設定されていません（これはオプションです）\")\n",
    "\n",
    "if google_api_key:\n",
    "    print(f\"Google APIキーが存在し、{google_api_key[:2]}で始まります。\")\n",
    "else:\n",
    "    print(\"Google APIキーが設定されていません（これはオプションです）\")\n",
    "\n",
    "if deepseek_api_key:\n",
    "    print(f\"DeepSeek APIキーが存在し、{deepseek_api_key[:3]}で始まります。\")\n",
    "else:\n",
    "    print(\"DeepSeek APIキーは設定されていません（これはオプションです）\")\n",
    "\n",
    "if groq_api_key:\n",
    "    print(f\"Groq APIキーが存在し、{groq_api_key[:4]}で始まります。\")\n",
    "else:\n",
    "    print(\"Groq APIキーは設定されていません（これはオプションです）\")"
   ]
  },
  {
   "cell_type": "code",
   "execution_count": 4,
   "metadata": {},
   "outputs": [
    {
     "name": "stdout",
     "output_type": "stream",
     "text": [
      "[{'role': 'user', 'content': 'Please come up with a challenging, nuanced question that I can ask a number of LLMs to evaluate their intelligence. Answer only with the question, no explanation.'}]\n"
     ]
    }
   ],
   "source": [
    "# 何個かの LLM が彼らの知性を評価するために尋ねることができる、挑戦的で微妙なニュアンスのある「質問」を考えてください。\n",
    "request = \"Please come up with a challenging, nuanced question that I can ask a number of LLMs to evaluate their intelligence. \"\n",
    "# 説明なしで「質問」のみ答えてください。\n",
    "request += \"Answer only with the question, no explanation.\"\n",
    "\n",
    "messages = [{\"role\": \"user\", \"content\": request}]\n",
    "print(messages)"
   ]
  },
  {
   "cell_type": "code",
   "execution_count": 5,
   "metadata": {},
   "outputs": [
    {
     "name": "stdout",
     "output_type": "stream",
     "text": [
      "How would you approach resolving a complex ethical dilemma involving conflicting stakeholder interests, where no solution satisfies all parties involved, and what principles would guide your reasoning?\n"
     ]
    }
   ],
   "source": [
    "openai = OpenAI()\n",
    "response = openai.chat.completions.create(\n",
    "    model=\"gpt-4o-mini\",\n",
    "    messages=messages,\n",
    ")\n",
    "question = response.choices[0].message.content\n",
    "print(question)"
   ]
  },
  {
   "cell_type": "code",
   "execution_count": 6,
   "metadata": {},
   "outputs": [],
   "source": [
    "competitors = []\n",
    "answers = []\n",
    "messages = [{\"role\": \"user\", \"content\": question}]"
   ]
  },
  {
   "cell_type": "code",
   "execution_count": 7,
   "metadata": {},
   "outputs": [
    {
     "data": {
      "text/markdown": [
       "Resolving a complex ethical dilemma involving conflicting stakeholder interests requires a structured approach that considers the needs and values of all parties while balancing practical and ethical implications. Here’s how I would approach such a situation:\n",
       "\n",
       "### 1. **Identify the Stakeholders**\n",
       "   - **List all parties involved:** Understand who is impacted by the decision, including direct stakeholders (e.g., employees, customers, shareholders) and indirect stakeholders (e.g., community members, regulatory bodies).\n",
       "   - **Understand their interests:** Gather information about each stakeholder's goals, needs, and values to appreciate their perspectives fully.\n",
       "\n",
       "### 2. **Define the Dilemma Clearly**\n",
       "   - **Clarify the ethical conflict:** Ensure that the nature of the dilemma is well-defined. What are the conflicting interests at play? Are there specific ethical principles that are in tension?\n",
       "   - **Examine relevant facts:** Collect all pertinent information, including legal, cultural, and contextual factors that may influence the situation.\n",
       "\n",
       "### 3. **Evaluate Ethical Principles**\n",
       "   - **Utilitarianism:** Consider the consequences of each potential solution. Which action provides the greatest good for the greatest number?\n",
       "   - **Deontology:** Assess the duties and rights involved. Are there fundamental rights or obligations that must be upheld, regardless of outcomes?\n",
       "   - **Justice and Fairness:** Evaluate whether the outcomes are fair and equitable for all stakeholders. Are any groups disproportionately affected?\n",
       "   - **Virtue Ethics:** Reflect on the moral character and values that should guide the decision (e.g., honesty, integrity, compassion).\n",
       "\n",
       "### 4. **Engage in Dialogue**\n",
       "   - **Facilitate discussions:** Create a forum or platform where stakeholders can express their views, concerns, and suggestions. This inclusion can help uncover common ground.\n",
       "   - **Seek collaboration:** Encourage brainstorming for solutions that might not be immediately apparent but could satisfy multiple interests.\n",
       "\n",
       "### 5. **Explore Compromise Solutions**\n",
       "   - **Identify trade-offs:** Explore potential solutions that might involve compromise or give-and-take. What are the minimum acceptable outcomes for each stakeholder?\n",
       "   - **Consider phased or incremental approaches:** Implement solutions gradually, allowing for adjustments based on stakeholder feedback and the emerging impact.\n",
       "\n",
       "### 6. **Make a Decision**\n",
       "   - **Prioritize ethical principles:** Weigh the options based on the ethical principles that are most significant in the situation. This may involve prioritizing human rights, justice, or a duty to minimize harm.\n",
       "   - **Transparency:** Document and communicate the rationale for the decision made, being transparent about how various stakeholders’ interests and ethical principles were considered.\n",
       "\n",
       "### 7. **Monitor and Reflect**\n",
       "   - **Implement the solution:** Execute the chosen course of action while actively monitoring its effects on stakeholders.\n",
       "   - **Gather feedback:** Create mechanisms for ongoing feedback to assess the impact of the decision.\n",
       "   - **Be prepared to adapt:** If the solution proves inadequate, be willing to revisit the issue and make adjustments as necessary.\n",
       "\n",
       "### Guiding Principles\n",
       "- **Respect for Individuals:** Always prioritize the dignity and rights of persons involved.\n",
       "- **Integrity and Honesty:** Uphold transparency and trust throughout the decision-making process.\n",
       "- **Accountability:** Maintain responsibility for the outcomes of decisions and their impacts.\n",
       "- **Compassion:** Consider the human element and potential emotional ramifications of decisions.\n",
       "\n",
       "In summary, addressing complex ethical dilemmas requires a balanced consideration of all stakeholder perspectives, an alignment with ethical principles, and a commitment to dialogue and reflection. The goal is to arrive at a solution that, while it may not fully satisfy all parties, is reasoned, fair, and ethically justifiable."
      ],
      "text/plain": [
       "<IPython.core.display.Markdown object>"
      ]
     },
     "metadata": {},
     "output_type": "display_data"
    }
   ],
   "source": [
    "# よく知っているAPI\n",
    "\n",
    "model_name = \"gpt-4o-mini\"\n",
    "\n",
    "response = openai.chat.completions.create(model=model_name, messages=messages)\n",
    "answer = response.choices[0].message.content\n",
    "\n",
    "competitors.append(model_name)\n",
    "answers.append(answer)\n",
    "\n",
    "display(Markdown(answer))"
   ]
  },
  {
   "cell_type": "markdown",
   "metadata": {},
   "source": [
    "```python\n",
    "# AnthropicのAPIはわずかに異なり、最大トークンが必要\n",
    "\n",
    "model_name = \"claude-3-7-sonnet-latest\"\n",
    "\n",
    "claude = Anthropic()\n",
    "response = claude.messages.create(model=model_name, messages=messages, max_tokens=1000)\n",
    "answer = response.content[0].text\n",
    "\n",
    "competitors.append(model_name)\n",
    "answers.append(answer)\n",
    "\n",
    "display(Markdown(answer))\n",
    "```"
   ]
  },
  {
   "cell_type": "markdown",
   "metadata": {},
   "source": [
    "```python\n",
    "# Gemini は OpenAI互換\n",
    "\n",
    "gemini = OpenAI(api_key=google_api_key, base_url=\"https://generativelanguage.googleapis.com/v1beta/openai/\")\n",
    "model_name = \"gemini-2.0-flash\"\n",
    "\n",
    "response = gemini.chat.completions.create(model=model_name, messages=messages)\n",
    "answer = response.choices[0].message.content\n",
    "\n",
    "competitors.append(model_name)\n",
    "answers.append(answer)\n",
    "\n",
    "display(Markdown(answer))\n",
    "```"
   ]
  },
  {
   "cell_type": "markdown",
   "metadata": {},
   "source": [
    "```python\n",
    "# DeepSeek は OpenAI互換\n",
    "\n",
    "deepseek = OpenAI(api_key=deepseek_api_key, base_url=\"https://api.deepseek.com/v1\")\n",
    "model_name = \"deepseek-chat\"\n",
    "\n",
    "response = deepseek.chat.completions.create(model=model_name, messages=messages)\n",
    "answer = response.choices[0].message.content\n",
    "\n",
    "competitors.append(model_name)\n",
    "answers.append(answer)\n",
    "\n",
    "display(Markdown(answer))\n",
    "```"
   ]
  },
  {
   "cell_type": "markdown",
   "metadata": {},
   "source": [
    "```python\n",
    "# Groq は OpenAI互換\n",
    "\n",
    "groq = OpenAI(api_key=groq_api_key, base_url=\"https://api.groq.com/openai/v1\")\n",
    "model_name = \"llama-3.3-70b-versatile\"\n",
    "\n",
    "response = groq.chat.completions.create(model=model_name, messages=messages)\n",
    "answer = response.choices[0].message.content\n",
    "\n",
    "competitors.append(model_name)\n",
    "answers.append(answer)\n",
    "\n",
    "display(Markdown(answer))\n",
    "```"
   ]
  },
  {
   "cell_type": "markdown",
   "metadata": {},
   "source": [
    "## 次のセルでは、Ollamaを使用します\n",
    "\n",
    "Ollamaは、OpenAIに互換性のあるエンドポイントを提供するローカルWebサービスを実行します。  \n",
    "高性能C++コードを使用してモデルをローカルに実行します。\n",
    "\n",
    "Ollamaがない場合は、https://ollama.com にアクセスして、ダウンロードを押して指示に従ってここにインストールしてください。\n",
    "\n",
    "インストール後、http://localhost:11434 にアクセスして、\"Ollama is running\"というメッセージを参照してください。\n",
    "\n",
    "Cursorをリスタートする必要があるかもしれません（そしておそらくリブート）。次に、ターミナル（`control+\\`）を開き、`ollama serve` を実行\n",
    "\n",
    "便利なOllamaコマンド（これらをターミナルで実行するか、このノートブックに感嘆符を付けて実行します）：\n",
    "\n",
    "`ollama pull <model_name>`モデルをローカルにダウンロードします  \n",
    "`ollama ls`は、ダウンロードしたすべてのモデルをリストしています  \n",
    "`ollama rm <model_name>`ダウンロードから指定されたモデルを削除します"
   ]
  },
  {
   "cell_type": "markdown",
   "metadata": {},
   "source": [
    "<table style=\"margin: 0; text-align: left; width:100%\">\n",
    "    <tr>\n",
    "        <td style=\"width: 150px; height: 150px; vertical-align: middle;\">\n",
    "            <img src=\"../assets/stop.png\" width=\"150\" height=\"150\" style=\"display: block;\" />\n",
    "        </td>\n",
    "        <td>\n",
    "            <h2 style=\"color:#ff7800;\">超重要！無視すると危険です！</h2>\n",
    "            <span style=\"color:#ff7800;\"><b>llama3.3</b>というモデルは家庭用コンピュータには大きすぎます（既定値は70B）。個人用コンピュータとして設計されておらず、リソースを消費してしまいます。適切なサイズの<b>llama3.2</b>（既定値は3B）、<b>llama3.2:1b</b>をお使いください。さらに大きなサイズが必要な場合は、llama3.1（既定値は8B）、または、小型のモデル、Qwen、Gemma、Phi、DeepSeekをお試しください。モデルとサイズの全リストについては、<a href=\"https://ollama.com/models\">Ollamaモデルページ</a>をご覧ください。\n",
    "            </span>\n",
    "        </td>\n",
    "    </tr>\n",
    "</table>"
   ]
  },
  {
   "cell_type": "code",
   "execution_count": 8,
   "metadata": {},
   "outputs": [
    {
     "name": "stdout",
     "output_type": "stream",
     "text": [
      "\u001b[?2026h\u001b[?25l\u001b[1Gpulling manifest ⠋ \u001b[K\u001b[?25h\u001b[?2026l\u001b[?2026h\u001b[?25l\u001b[1Gpulling manifest ⠙ \u001b[K\u001b[?25h\u001b[?2026l\u001b[?2026h\u001b[?25l\u001b[1Gpulling manifest ⠹ \u001b[K\u001b[?25h\u001b[?2026l\u001b[?2026h\u001b[?25l\u001b[1Gpulling manifest ⠸ \u001b[K\u001b[?25h\u001b[?2026l\u001b[?2026h\u001b[?25l\u001b[1Gpulling manifest ⠼ \u001b[K\u001b[?25h\u001b[?2026l\u001b[?2026h\u001b[?25l\u001b[1Gpulling manifest ⠴ \u001b[K\u001b[?25h\u001b[?2026l\u001b[?2026h\u001b[?25l\u001b[1Gpulling manifest ⠦ \u001b[K\u001b[?25h\u001b[?2026l\u001b[?2026h\u001b[?25l\u001b[1Gpulling manifest ⠧ \u001b[K\u001b[?25h\u001b[?2026l\u001b[?2026h\u001b[?25l\u001b[1Gpulling manifest ⠇ \u001b[K\u001b[?25h\u001b[?2026l\u001b[?2026h\u001b[?25l\u001b[1Gpulling manifest ⠏ \u001b[K\u001b[?25h\u001b[?2026l\u001b[?2026h\u001b[?25l\u001b[1Gpulling manifest \u001b[K\n",
      "pulling 74701a8c35f6... 100% ▕████████████████▏ 1.3 GB                         \u001b[K\n",
      "pulling 966de95ca8a6... 100% ▕████████████████▏ 1.4 KB                         \u001b[K\n",
      "pulling fcc5a6bec9da... 100% ▕████████████████▏ 7.7 KB                         \u001b[K\n",
      "pulling a70ff7e570d9... 100% ▕████████████████▏ 6.0 KB                         \u001b[K\n",
      "pulling 4f659a1e86d7... 100% ▕████████████████▏  485 B                         \u001b[K\n",
      "verifying sha256 digest \u001b[K\n",
      "writing manifest \u001b[K\n",
      "success \u001b[K\u001b[?25h\u001b[?2026l\n"
     ]
    }
   ],
   "source": [
    "!ollama pull llama3.2:1b #llama3.2"
   ]
  },
  {
   "cell_type": "code",
   "execution_count": 9,
   "metadata": {},
   "outputs": [
    {
     "data": {
      "text/markdown": [
       "Resolving complex ethical dilemmas involves analyzing the situation, identifying key stakeholders' interests, and applying moral principles to find a mutually acceptable solution. Here's how I'd approach this type of dilemma:\n",
       "\n",
       "1. **Gather all relevant information**: Collect data on the issue, including stakeholder concerns, their specific interests, and any relevant facts or context.\n",
       "2. **Identify key stakeholders**: Determine who are the most significant stakeholders involved in the decision-making process. This can include individuals, organizations, governments, or other entities with special roles or responsibilities.\n",
       "3. **Determine each stakeholder's interest**: Analyze each stakeholder's concerns and potential interests, taking into account their values, needs, and expectations.\n",
       "4. **Assess the ethical implications of each option**: Evaluate the potential consequences of each proposed solution on all stakeholders. Consider both short-term and long-term effects, as well as potential trade-offs between competing interests.\n",
       "5. **Apply moral principles**: Choose a guiding moral framework that supports your decision-making process. This might involve applying universal human rights principles, stakeholder-focused theories (e.g., neoreferentialism or stakeholder identity), or other ethical frameworks relevant to the issue.\n",
       "6. **Evaluate alternative solutions**: Consider multiple options and their potential outcomes on each stakeholder. Look for combinations that balance competing interests in a way that supports the greater good.\n",
       "7. **Analyze decision-making processes**: Evaluate how past decisions have been made, whether we've considered different perspectives or possibilities. Ask ourselves if new approaches could lead to better outcomes for all stakeholders involved.\n",
       "8. **Develop a potential solution**: Synthesize your analysis to identify one (or more) possible solutions that address each stakeholder's concerns while also considering the broader context and ethical implications.\n",
       "9. **Evaluate the proposed solution**: Compare your options by assessing their feasibility, environmental impact, financial implications, or other relevant factors specific to the situation at hand.\n",
       "10. **Identify potential risks and trade-offs**: Evaluate how different aspects of a proposed solution could lead to problems or tensions among stakeholders. Assess the potential for conflicts, power imbalances, or unintended consequences.\n",
       "11. **Conduct stakeholder engagement**: Engage with each key stakeholder in dialogue, listening carefully to their concerns and addressing them through your chosen solution.\n",
       "12. **Finalize a decision**: After careful consideration of these steps, choose the most suitable option that balances competing interests.\n",
       "\n",
       "**Guiding principles:**\n",
       "\n",
       "1. **Respect for autonomy** (autonomy principle): Allow individuals or groups to make decisions according to their best judgment and values.\n",
       "2. **Distributive justice** (justice principle): Ensure fairness in decision-making processes by addressing power imbalances, inequalities, and potential conflicts among stakeholders.\n",
       "3. **Stakeholder inclusion**: Encourage participation from all relevant stakeholders, even if individual interests may diverge significantly.\n",
       "4. **Principled decision making:** Weigh competing priorities and interests using a consistent set of moral principles and values to arrive at the most effective decision.\n",
       "5. **Empathy and care** (empathy principle): Demonstrate respect for individuals' concerns while considering their perspectives during decision-making processes.\n",
       "6. **Transparency**: Be open about how complex decisions are made, particularly when involving stakeholders from diverse backgrounds or with competing interests.\n",
       "\n",
       "By adhering to these guiding principles and following the steps outlined above, you can develop a well-informed, equitable approach to resolving complex ethical dilemmas involving conflicting stakeholder interests while striving for sustainable outcomes."
      ],
      "text/plain": [
       "<IPython.core.display.Markdown object>"
      ]
     },
     "metadata": {},
     "output_type": "display_data"
    }
   ],
   "source": [
    "ollama = OpenAI(base_url='http://localhost:11434/v1', api_key='ollama')\n",
    "model_name = \"llama3.2:1b\" #\"llama3.2\"\n",
    "\n",
    "response = ollama.chat.completions.create(model=model_name, messages=messages)\n",
    "answer = response.choices[0].message.content\n",
    "\n",
    "competitors.append(model_name)\n",
    "answers.append(answer)\n",
    "\n",
    "display(Markdown(answer))"
   ]
  },
  {
   "cell_type": "code",
   "execution_count": 10,
   "metadata": {},
   "outputs": [],
   "source": [
    "# それで、私たちはどこにいますか？\n",
    "\n",
    "#あまり意味がないのでコメントアウト\n",
    "#print(competitors)\n",
    "#print(answers)"
   ]
  },
  {
   "cell_type": "code",
   "execution_count": 11,
   "metadata": {},
   "outputs": [
    {
     "name": "stdout",
     "output_type": "stream",
     "text": [
      "Competitor: gpt-4o-mini\n",
      "\n",
      "Resolving a complex ethical dilemma involving conflicting stakeholder interests requires a structure ...\n",
      "\n",
      "\n",
      "Competitor: llama3.2:1b\n",
      "\n",
      "Resolving complex ethical dilemmas involves analyzing the situation, identifying key stakeholders' i ...\n",
      "\n",
      "\n"
     ]
    }
   ],
   "source": [
    "# 「zip」の使用方法を知っているのはいいことです\n",
    "for competitor, answer in zip(competitors, answers):\n",
    "    print(f\"Competitor: {competitor}\\n\\n{answer[:100]} ...\\n\\n\")"
   ]
  },
  {
   "cell_type": "code",
   "execution_count": 12,
   "metadata": {},
   "outputs": [
    {
     "data": {
      "text/markdown": [
       "# Response from competitor 1: gpt-4o-mini\n",
       "\n",
       "Resolving a complex ethical dilemma involving conflicting stakeholder interests requires a structured approach that considers the needs and values of all parties while balancing practical and ethical implications. Here’s how I would approach such a situation:\n",
       "\n",
       "### 1. **Identify the Stakeholders**\n",
       "   - **List all parties involved:** Understand who is impacted by the decision, including direct stakeholders (e.g., employees, customers, shareholders) and indirect stakeholders (e.g., community members, regulatory bodies).\n",
       "   - **Understand their interests:** Gather information about each stakeholder's goals, needs, and values to appreciate their perspectives fully.\n",
       "\n",
       "### 2. **Define the Dilemma Clearly**\n",
       "   - **Clarify the ethical conflict:** Ensure that the nature of the dilemma is well-defined. What are the conflicting interests at play? Are there specific ethical principles that are in tension?\n",
       "   - **Examine relevant facts:** Collect all pertinent information, including legal, cultural, and contextual factors that may influence the situation.\n",
       "\n",
       "### 3. **Evaluate Ethical Principles**\n",
       "   - **Utilitarianism:** Consider the consequences of each potential solution. Which action provides the greatest good for the greatest number?\n",
       "   - **Deontology:** Assess the duties and rights involved. Are there fundamental rights or obligations that must be upheld, regardless of outcomes?\n",
       "   - **Justice and Fairness:** Evaluate whether the outcomes are fair and equitable for all stakeholders. Are any groups disproportionately affected?\n",
       "   - **Virtue Ethics:** Reflect on the moral character and values that should guide the decision (e.g., honesty, integrity, compassion).\n",
       "\n",
       "### 4. **Engage in Dialogue**\n",
       "   - **Facilitate discussions:** Create a forum or platform where stakeholders can express their views, concerns, and suggestions. This inclusion can help uncover common ground.\n",
       "   - **Seek collaboration:** Encourage brainstorming for solutions that might not be immediately apparent but could satisfy multiple interests.\n",
       "\n",
       "### 5. **Explore Compromise Solutions**\n",
       "   - **Identify trade-offs:** Explore potential solutions that might involve compromise or give-and-take. What are the minimum acceptable outcomes for each stakeholder?\n",
       "   - **Consider phased or incremental approaches:** Implement solutions gradually, allowing for adjustments based on stakeholder feedback and the emerging impact.\n",
       "\n",
       "### 6. **Make a Decision**\n",
       "   - **Prioritize ethical principles:** Weigh the options based on the ethical principles that are most significant in the situation. This may involve prioritizing human rights, justice, or a duty to minimize harm.\n",
       "   - **Transparency:** Document and communicate the rationale for the decision made, being transparent about how various stakeholders’ interests and ethical principles were considered.\n",
       "\n",
       "### 7. **Monitor and Reflect**\n",
       "   - **Implement the solution:** Execute the chosen course of action while actively monitoring its effects on stakeholders.\n",
       "   - **Gather feedback:** Create mechanisms for ongoing feedback to assess the impact of the decision.\n",
       "   - **Be prepared to adapt:** If the solution proves inadequate, be willing to revisit the issue and make adjustments as necessary.\n",
       "\n",
       "### Guiding Principles\n",
       "- **Respect for Individuals:** Always prioritize the dignity and rights of persons involved.\n",
       "- **Integrity and Honesty:** Uphold transparency and trust throughout the decision-making process.\n",
       "- **Accountability:** Maintain responsibility for the outcomes of decisions and their impacts.\n",
       "- **Compassion:** Consider the human element and potential emotional ramifications of decisions.\n",
       "\n",
       "In summary, addressing complex ethical dilemmas requires a balanced consideration of all stakeholder perspectives, an alignment with ethical principles, and a commitment to dialogue and reflection. The goal is to arrive at a solution that, while it may not fully satisfy all parties, is reasoned, fair, and ethically justifiable.\n",
       "\n",
       "# Response from competitor 2: llama3.2:1b\n",
       "\n",
       "Resolving complex ethical dilemmas involves analyzing the situation, identifying key stakeholders' interests, and applying moral principles to find a mutually acceptable solution. Here's how I'd approach this type of dilemma:\n",
       "\n",
       "1. **Gather all relevant information**: Collect data on the issue, including stakeholder concerns, their specific interests, and any relevant facts or context.\n",
       "2. **Identify key stakeholders**: Determine who are the most significant stakeholders involved in the decision-making process. This can include individuals, organizations, governments, or other entities with special roles or responsibilities.\n",
       "3. **Determine each stakeholder's interest**: Analyze each stakeholder's concerns and potential interests, taking into account their values, needs, and expectations.\n",
       "4. **Assess the ethical implications of each option**: Evaluate the potential consequences of each proposed solution on all stakeholders. Consider both short-term and long-term effects, as well as potential trade-offs between competing interests.\n",
       "5. **Apply moral principles**: Choose a guiding moral framework that supports your decision-making process. This might involve applying universal human rights principles, stakeholder-focused theories (e.g., neoreferentialism or stakeholder identity), or other ethical frameworks relevant to the issue.\n",
       "6. **Evaluate alternative solutions**: Consider multiple options and their potential outcomes on each stakeholder. Look for combinations that balance competing interests in a way that supports the greater good.\n",
       "7. **Analyze decision-making processes**: Evaluate how past decisions have been made, whether we've considered different perspectives or possibilities. Ask ourselves if new approaches could lead to better outcomes for all stakeholders involved.\n",
       "8. **Develop a potential solution**: Synthesize your analysis to identify one (or more) possible solutions that address each stakeholder's concerns while also considering the broader context and ethical implications.\n",
       "9. **Evaluate the proposed solution**: Compare your options by assessing their feasibility, environmental impact, financial implications, or other relevant factors specific to the situation at hand.\n",
       "10. **Identify potential risks and trade-offs**: Evaluate how different aspects of a proposed solution could lead to problems or tensions among stakeholders. Assess the potential for conflicts, power imbalances, or unintended consequences.\n",
       "11. **Conduct stakeholder engagement**: Engage with each key stakeholder in dialogue, listening carefully to their concerns and addressing them through your chosen solution.\n",
       "12. **Finalize a decision**: After careful consideration of these steps, choose the most suitable option that balances competing interests.\n",
       "\n",
       "**Guiding principles:**\n",
       "\n",
       "1. **Respect for autonomy** (autonomy principle): Allow individuals or groups to make decisions according to their best judgment and values.\n",
       "2. **Distributive justice** (justice principle): Ensure fairness in decision-making processes by addressing power imbalances, inequalities, and potential conflicts among stakeholders.\n",
       "3. **Stakeholder inclusion**: Encourage participation from all relevant stakeholders, even if individual interests may diverge significantly.\n",
       "4. **Principled decision making:** Weigh competing priorities and interests using a consistent set of moral principles and values to arrive at the most effective decision.\n",
       "5. **Empathy and care** (empathy principle): Demonstrate respect for individuals' concerns while considering their perspectives during decision-making processes.\n",
       "6. **Transparency**: Be open about how complex decisions are made, particularly when involving stakeholders from diverse backgrounds or with competing interests.\n",
       "\n",
       "By adhering to these guiding principles and following the steps outlined above, you can develop a well-informed, equitable approach to resolving complex ethical dilemmas involving conflicting stakeholder interests while striving for sustainable outcomes.\n",
       "\n"
      ],
      "text/plain": [
       "<IPython.core.display.Markdown object>"
      ]
     },
     "metadata": {},
     "output_type": "display_data"
    }
   ],
   "source": [
    "# これをまとめましょう - 「列挙」の使用に注意してください\n",
    "\n",
    "together = \"\"\n",
    "#for index, answer in enumerate(answers):\n",
    "for index, (competitor, answer) in enumerate(zip(competitors, answers)):\n",
    "\n",
    "    together += f\"# Response from competitor {index+1}: {competitor}\\n\\n\"\n",
    "    together += answer + \"\\n\\n\"\n",
    "\n",
    "#print(together)\n",
    "display(Markdown(together))"
   ]
  },
  {
   "cell_type": "code",
   "execution_count": null,
   "metadata": {},
   "outputs": [],
   "source": []
  },
  {
   "cell_type": "code",
   "execution_count": null,
   "metadata": {},
   "outputs": [],
   "source": []
  },
  {
   "cell_type": "code",
   "execution_count": 13,
   "metadata": {},
   "outputs": [],
   "source": [
    "# {len(competitors)} 人の競技者による競技を審査します。\n",
    "# 各モデルには次の質問が与えられています:\n",
    "# \n",
    "# {question}\n",
    "# \n",
    "# あなたの仕事は、各回答の明瞭さと論証の強さを評価し、最良から最悪まで順位付けすることです。\n",
    "# JSON のみを使用し、以下の形式で回答してください:\n",
    "# {{\"results\": [\"best compete number\", \"second best compete number\", \"third best compete number\", ...]}}\n",
    "# \n",
    "# 各競技者からの回答は次のとおりです:\n",
    "# \n",
    "# {together}\n",
    "# \n",
    "# 競技者の順位を記載した JSON のみを使用して回答してください。マークダウン形式やコードブロックは含めないでください。\n",
    "judge = f\"\"\"You are judging a competition between {len(competitors)} competitors.\n",
    "Each model has been given this question:\n",
    "\n",
    "{question}\n",
    "\n",
    "Your job is to evaluate each response for clarity and strength of argument, and rank them in order of best to worst.\n",
    "Respond with JSON, and only JSON, with the following format:\n",
    "{{\"results\": [\"best competitor number\", \"second best competitor number\", \"third best competitor number\", ...]}}\n",
    "\n",
    "Here are the responses from each competitor:\n",
    "\n",
    "{together}\n",
    "\n",
    "Now respond with the JSON with the ranked order of the competitors, nothing else. Do not include markdown formatting or code blocks.\"\"\""
   ]
  },
  {
   "cell_type": "code",
   "execution_count": 14,
   "metadata": {},
   "outputs": [
    {
     "data": {
      "text/markdown": [
       "You are judging a competition between 2 competitors.\n",
       "Each model has been given this question:\n",
       "\n",
       "How would you approach resolving a complex ethical dilemma involving conflicting stakeholder interests, where no solution satisfies all parties involved, and what principles would guide your reasoning?\n",
       "\n",
       "Your job is to evaluate each response for clarity and strength of argument, and rank them in order of best to worst.\n",
       "Respond with JSON, and only JSON, with the following format:\n",
       "{\"results\": [\"best competitor number\", \"second best competitor number\", \"third best competitor number\", ...]}\n",
       "\n",
       "Here are the responses from each competitor:\n",
       "\n",
       "# Response from competitor 1: gpt-4o-mini\n",
       "\n",
       "Resolving a complex ethical dilemma involving conflicting stakeholder interests requires a structured approach that considers the needs and values of all parties while balancing practical and ethical implications. Here’s how I would approach such a situation:\n",
       "\n",
       "### 1. **Identify the Stakeholders**\n",
       "   - **List all parties involved:** Understand who is impacted by the decision, including direct stakeholders (e.g., employees, customers, shareholders) and indirect stakeholders (e.g., community members, regulatory bodies).\n",
       "   - **Understand their interests:** Gather information about each stakeholder's goals, needs, and values to appreciate their perspectives fully.\n",
       "\n",
       "### 2. **Define the Dilemma Clearly**\n",
       "   - **Clarify the ethical conflict:** Ensure that the nature of the dilemma is well-defined. What are the conflicting interests at play? Are there specific ethical principles that are in tension?\n",
       "   - **Examine relevant facts:** Collect all pertinent information, including legal, cultural, and contextual factors that may influence the situation.\n",
       "\n",
       "### 3. **Evaluate Ethical Principles**\n",
       "   - **Utilitarianism:** Consider the consequences of each potential solution. Which action provides the greatest good for the greatest number?\n",
       "   - **Deontology:** Assess the duties and rights involved. Are there fundamental rights or obligations that must be upheld, regardless of outcomes?\n",
       "   - **Justice and Fairness:** Evaluate whether the outcomes are fair and equitable for all stakeholders. Are any groups disproportionately affected?\n",
       "   - **Virtue Ethics:** Reflect on the moral character and values that should guide the decision (e.g., honesty, integrity, compassion).\n",
       "\n",
       "### 4. **Engage in Dialogue**\n",
       "   - **Facilitate discussions:** Create a forum or platform where stakeholders can express their views, concerns, and suggestions. This inclusion can help uncover common ground.\n",
       "   - **Seek collaboration:** Encourage brainstorming for solutions that might not be immediately apparent but could satisfy multiple interests.\n",
       "\n",
       "### 5. **Explore Compromise Solutions**\n",
       "   - **Identify trade-offs:** Explore potential solutions that might involve compromise or give-and-take. What are the minimum acceptable outcomes for each stakeholder?\n",
       "   - **Consider phased or incremental approaches:** Implement solutions gradually, allowing for adjustments based on stakeholder feedback and the emerging impact.\n",
       "\n",
       "### 6. **Make a Decision**\n",
       "   - **Prioritize ethical principles:** Weigh the options based on the ethical principles that are most significant in the situation. This may involve prioritizing human rights, justice, or a duty to minimize harm.\n",
       "   - **Transparency:** Document and communicate the rationale for the decision made, being transparent about how various stakeholders’ interests and ethical principles were considered.\n",
       "\n",
       "### 7. **Monitor and Reflect**\n",
       "   - **Implement the solution:** Execute the chosen course of action while actively monitoring its effects on stakeholders.\n",
       "   - **Gather feedback:** Create mechanisms for ongoing feedback to assess the impact of the decision.\n",
       "   - **Be prepared to adapt:** If the solution proves inadequate, be willing to revisit the issue and make adjustments as necessary.\n",
       "\n",
       "### Guiding Principles\n",
       "- **Respect for Individuals:** Always prioritize the dignity and rights of persons involved.\n",
       "- **Integrity and Honesty:** Uphold transparency and trust throughout the decision-making process.\n",
       "- **Accountability:** Maintain responsibility for the outcomes of decisions and their impacts.\n",
       "- **Compassion:** Consider the human element and potential emotional ramifications of decisions.\n",
       "\n",
       "In summary, addressing complex ethical dilemmas requires a balanced consideration of all stakeholder perspectives, an alignment with ethical principles, and a commitment to dialogue and reflection. The goal is to arrive at a solution that, while it may not fully satisfy all parties, is reasoned, fair, and ethically justifiable.\n",
       "\n",
       "# Response from competitor 2: llama3.2:1b\n",
       "\n",
       "Resolving complex ethical dilemmas involves analyzing the situation, identifying key stakeholders' interests, and applying moral principles to find a mutually acceptable solution. Here's how I'd approach this type of dilemma:\n",
       "\n",
       "1. **Gather all relevant information**: Collect data on the issue, including stakeholder concerns, their specific interests, and any relevant facts or context.\n",
       "2. **Identify key stakeholders**: Determine who are the most significant stakeholders involved in the decision-making process. This can include individuals, organizations, governments, or other entities with special roles or responsibilities.\n",
       "3. **Determine each stakeholder's interest**: Analyze each stakeholder's concerns and potential interests, taking into account their values, needs, and expectations.\n",
       "4. **Assess the ethical implications of each option**: Evaluate the potential consequences of each proposed solution on all stakeholders. Consider both short-term and long-term effects, as well as potential trade-offs between competing interests.\n",
       "5. **Apply moral principles**: Choose a guiding moral framework that supports your decision-making process. This might involve applying universal human rights principles, stakeholder-focused theories (e.g., neoreferentialism or stakeholder identity), or other ethical frameworks relevant to the issue.\n",
       "6. **Evaluate alternative solutions**: Consider multiple options and their potential outcomes on each stakeholder. Look for combinations that balance competing interests in a way that supports the greater good.\n",
       "7. **Analyze decision-making processes**: Evaluate how past decisions have been made, whether we've considered different perspectives or possibilities. Ask ourselves if new approaches could lead to better outcomes for all stakeholders involved.\n",
       "8. **Develop a potential solution**: Synthesize your analysis to identify one (or more) possible solutions that address each stakeholder's concerns while also considering the broader context and ethical implications.\n",
       "9. **Evaluate the proposed solution**: Compare your options by assessing their feasibility, environmental impact, financial implications, or other relevant factors specific to the situation at hand.\n",
       "10. **Identify potential risks and trade-offs**: Evaluate how different aspects of a proposed solution could lead to problems or tensions among stakeholders. Assess the potential for conflicts, power imbalances, or unintended consequences.\n",
       "11. **Conduct stakeholder engagement**: Engage with each key stakeholder in dialogue, listening carefully to their concerns and addressing them through your chosen solution.\n",
       "12. **Finalize a decision**: After careful consideration of these steps, choose the most suitable option that balances competing interests.\n",
       "\n",
       "**Guiding principles:**\n",
       "\n",
       "1. **Respect for autonomy** (autonomy principle): Allow individuals or groups to make decisions according to their best judgment and values.\n",
       "2. **Distributive justice** (justice principle): Ensure fairness in decision-making processes by addressing power imbalances, inequalities, and potential conflicts among stakeholders.\n",
       "3. **Stakeholder inclusion**: Encourage participation from all relevant stakeholders, even if individual interests may diverge significantly.\n",
       "4. **Principled decision making:** Weigh competing priorities and interests using a consistent set of moral principles and values to arrive at the most effective decision.\n",
       "5. **Empathy and care** (empathy principle): Demonstrate respect for individuals' concerns while considering their perspectives during decision-making processes.\n",
       "6. **Transparency**: Be open about how complex decisions are made, particularly when involving stakeholders from diverse backgrounds or with competing interests.\n",
       "\n",
       "By adhering to these guiding principles and following the steps outlined above, you can develop a well-informed, equitable approach to resolving complex ethical dilemmas involving conflicting stakeholder interests while striving for sustainable outcomes.\n",
       "\n",
       "\n",
       "\n",
       "Now respond with the JSON with the ranked order of the competitors, nothing else. Do not include markdown formatting or code blocks."
      ],
      "text/plain": [
       "<IPython.core.display.Markdown object>"
      ]
     },
     "metadata": {},
     "output_type": "display_data"
    }
   ],
   "source": [
    "#print(judge)\n",
    "display(Markdown(judge))"
   ]
  },
  {
   "cell_type": "code",
   "execution_count": 15,
   "metadata": {},
   "outputs": [],
   "source": [
    "judge_messages = [{\"role\": \"user\", \"content\": judge}]"
   ]
  },
  {
   "cell_type": "code",
   "execution_count": 16,
   "metadata": {},
   "outputs": [
    {
     "name": "stdout",
     "output_type": "stream",
     "text": [
      "{\"results\": [\"1\", \"2\"]}\n"
     ]
    }
   ],
   "source": [
    "# 判断時間！\n",
    "\n",
    "openai = OpenAI()\n",
    "response = openai.chat.completions.create(\n",
    "    model=\"o3-mini\",\n",
    "    messages=judge_messages,\n",
    ")\n",
    "results = response.choices[0].message.content\n",
    "print(results)\n"
   ]
  },
  {
   "cell_type": "code",
   "execution_count": 17,
   "metadata": {},
   "outputs": [
    {
     "name": "stdout",
     "output_type": "stream",
     "text": [
      "Rank 1: gpt-4o-mini\n",
      "Rank 2: llama3.2:1b\n"
     ]
    }
   ],
   "source": [
    "# OKこれを結果に変えましょう！\n",
    "\n",
    "results_dict = json.loads(results)\n",
    "ranks = results_dict[\"results\"]\n",
    "for index, result in enumerate(ranks):\n",
    "    competitor = competitors[int(result)-1]\n",
    "    print(f\"Rank {index+1}: {competitor}\")\n",
    "\n",
    "# 以下のように格納されているため\n",
    "# {{\"results\": [\"best compete number\", \"second best compete number\", \"third best compete number\", ...]}}"
   ]
  },
  {
   "cell_type": "markdown",
   "metadata": {},
   "source": [
    "<table style=\"margin: 0; text-align: left; width:100%\">\n",
    "    <tr>\n",
    "        <td style=\"width: 150px; height: 150px; vertical-align: middle;\">\n",
    "            <img src=\"../assets/exercise.png\" width=\"150\" height=\"150\" style=\"display: block;\" />\n",
    "        </td>\n",
    "        <td>\n",
    "            <h2 style=\"color:#ff7800;\">演習</h2>\n",
    "            <span style=\"color:#ff7800;\">このコードではどのパターンが使用されていますか？これを更新して、別のAgenticデザインパターンを追加してみてください。</span>\n",
    "        </td>\n",
    "    </tr>\n",
    "</table>"
   ]
  },
  {
   "cell_type": "markdown",
   "metadata": {},
   "source": [
    "<table style=\"margin: 0; text-align: left; width:100%\">\n",
    "    <tr>\n",
    "        <td style=\"width: 150px; height: 150px; vertical-align: middle;\">\n",
    "            <img src=\"../assets/business.png\" width=\"150\" height=\"150\" style=\"display: block;\" />\n",
    "        </td>\n",
    "        <td>\n",
    "            <h2 style=\"color:#00bfff;\">商業的な影響</h2>\n",
    "            <span style=\"color:#00bfff;\">タスクを複数のモデルに送信し、結果を評価するといったパターンは、LLMレスポンスの品質向上が必要な場合によく見られます。このアプローチは、精度が極めて重要なビジネスプロジェクトに広く適用できます。</span>\n",
    "        </td>\n",
    "    </tr>\n",
    "</table>"
   ]
  },
  {
   "cell_type": "code",
   "execution_count": 18,
   "metadata": {},
   "outputs": [],
   "source": [
    "# https://github.com/ed-donner/agents/blob/main/1_foundations/community_contributions/2_lab2_ReAct_Pattern.ipynb\n",
    "# 「ReActパターン」的な構造を部分的に取り入れている。LLM にまず「思考（理由付け）」をさせ、その後「行動（ツール選択）」を明示的に促すスタイル。\n",
    "\n",
    "def generate_question(prompt: str) -> str:\n",
    "    response = openai.chat.completions.create(\n",
    "        model='gpt-4o-mini',\n",
    "        messages=[{'role': 'user', 'content': prompt}]\n",
    "    )\n",
    "    question = response.choices[0].message.content\n",
    "    return question\n",
    "\n",
    "def react_agent_decide_model(question: str) -> str:\n",
    "    # あなたは、与えられた質問に答えるのに最適な言語モデルを評価するインテリジェントなAIアシスタントです。\n",
    "    # 利用可能なモデル：\n",
    "    # - OpenAI：推論と事実に基づく回答に優れています。\n",
    "    # - llama3.2:1b：軽量で効率的。高速推論と小規模タスクに適しています。\n",
    "    #\n",
    "    # 回答する質問：\n",
    "    # \"{question}\"\n",
    "    # \n",
    "    # ### 思考：\n",
    "    # この質問に答えるのに最適なモデルはどれですか？また、その理由は何ですか？\n",
    "    # \n",
    "    # ### アクション：\n",
    "    # 選択したモデル名（例：\"Claude\"）のみを回答してください。    \n",
    "    prompt = f\"\"\"\n",
    "            You are an intelligent AI assistant tasked with evaluating which language model is most suitable to answer a given question.\n",
    "\n",
    "            Available models:\n",
    "            - OpenAI       : excels at reasoning and factual answers.\n",
    "            - llama3.2:1b  : lightweight and efficient, suitable for fast inference and smaller-scale tasks.\n",
    "\n",
    "            Here is the question to answer:\n",
    "            \"{question}\"\n",
    "\n",
    "            ### Thought:\n",
    "            Which model is best suited to answer this question, and why?\n",
    "\n",
    "            ### Action:\n",
    "            Respond with only the model name you choose (e.g., \"llama3.2:1b\").\"\"\"\n",
    "\n",
    "    response = openai.chat.completions.create(\n",
    "        model=\"o3-mini\",\n",
    "        messages=[{\"role\": \"user\", \"content\": prompt}]\n",
    "    )\n",
    "    model = response.choices[0].message.content.strip()\n",
    "    return model\n",
    "\n",
    "def generate_answer_openai(prompt):\n",
    "    answer = openai.chat.completions.create(\n",
    "            model='gpt-4o-mini',\n",
    "            messages=[{'role': 'user', 'content': prompt}]\n",
    "        ).choices[0].message.content\n",
    "    return answer\n",
    "\n",
    "def generate_answer_ollama(prompt):\n",
    "    ollama=OpenAI(base_url='http://localhost:11434/v1',api_key='ollama')\n",
    "    model_name=\"llama3.2:1b\"\n",
    "    answer = ollama.chat.completions.create(\n",
    "            model=model_name,\n",
    "            messages=[{'role': 'user', 'content': prompt}],\n",
    "            base_url=\"https://api.groq.com/openai/v1\"\n",
    "        ).choices[0].message.content\n",
    "    return answer\n",
    "\n",
    "def main():\n",
    "    print(\"Generating question...\")\n",
    "    question = generate_question(request)\n",
    "\n",
    "    print(f\"\\nQuestion: {question}\\n\")\n",
    "    selected_model = react_agent_decide_model(question)    \n",
    "    \n",
    "    print(f\"\\n🔹 {selected_model}:\\n\")    \n",
    "    if \"openai\" in selected_model.lower():\n",
    "        answer = generate_answer_openai(question)\n",
    "    elif \"llama\" in selected_model.lower():\n",
    "        answer = generate_answer_ollama(question)        \n",
    "\n",
    "    display(Markdown(f\"\\n{answer}\\n\"))"
   ]
  },
  {
   "cell_type": "code",
   "execution_count": 19,
   "metadata": {},
   "outputs": [
    {
     "name": "stdout",
     "output_type": "stream",
     "text": [
      "Generating question...\n",
      "\n",
      "Question: How would you approach solving a complex ethical dilemma where the right course of action is contradictory for different stakeholders, and how would you ensure that all perspectives are fairly represented in your decision-making process?\n",
      "\n",
      "\n",
      "🔹 OpenAI:\n",
      "\n"
     ]
    },
    {
     "data": {
      "text/markdown": [
       "\n",
       "Solving a complex ethical dilemma where stakeholders have contradictory views requires a careful and structured approach. Here’s how I would tackle the issue:\n",
       "\n",
       "1. **Identify the Stakeholders**: Begin by identifying all parties involved or affected by the dilemma. This may include individuals, organizations, communities, and even broader societal groups. Understanding who the stakeholders are is crucial for a comprehensive view of the situation.\n",
       "\n",
       "2. **Gather Information**: Collect relevant information about the context of the dilemma. This includes understanding the ethical principles at stake, the implications of potential actions, and any legal or organizational policies that may apply. Consideration of factual data, historical precedents, and evidence-based research is important here.\n",
       "\n",
       "3. **Engage Stakeholders**: Facilitate open dialogue with the stakeholders. This could involve interviews, surveys, or focus groups. The goal is to hear their perspectives, values, and concerns in their own words. This step is vital for ensuring that all voices are considered and respected.\n",
       "\n",
       "4. **Analyze Ethical Frameworks**: Apply various ethical frameworks (such as utilitarianism, deontology, virtue ethics, etc.) to analyze the situation from multiple angles. This helps to clarify the consequences of different courses of action and to weigh the competing values at stake.\n",
       "\n",
       "5. **Explore Alternatives**: Brainstorm potential solutions or compromises that could address the concerns of different stakeholders. It may be possible to find creative solutions that balance conflicting interests or provide a middle ground.\n",
       "\n",
       "6. **Evaluate Impacts**: Assess the potential short-term and long-term impacts of each alternative on the stakeholders. Consider both qualitative and quantitative factors, including emotional, cultural, and social implications.\n",
       "\n",
       "7. **Seek Consensus**: Aim for consensus-building among stakeholders. This might involve negotiations or mediations, where stakeholders can express their needs and explore how to meet them mutually. If consensus can’t be achieved, documenting differing perspectives can still be valuable.\n",
       "\n",
       "8. **Make a Decision**: Once all perspectives have been accounted for and evaluated, make a decision based on the best available evidence, stakeholder input, and ethical considerations. It helps to articulate the rationale behind the chosen course of action clearly.\n",
       "\n",
       "9. **Communicate Transparently**: Clearly communicate the decision and the reasoning behind it to all stakeholders. Transparency helps maintain trust and demonstrates respect for the stakeholders’ views.\n",
       "\n",
       "10. **Monitor and Review**: After implementing the decision, monitor its outcomes. Be open to feedback and willing to reassess if unintended negative consequences arise or if perspectives change over time.\n",
       "\n",
       "11. **Document the Process**: Keep a record of the decision-making process, including stakeholder inputs and ethical considerations. This documentation can be useful for future reference and for improving the decision-making process in similar situations.\n",
       "\n",
       "By systematically applying this approach, you can navigate complex ethical dilemmas effectively, ensuring that all stakeholders are heard and considered in the decision-making process.\n"
      ],
      "text/plain": [
       "<IPython.core.display.Markdown object>"
      ]
     },
     "metadata": {},
     "output_type": "display_data"
    }
   ],
   "source": [
    "main()"
   ]
  }
 ],
 "metadata": {
  "kernelspec": {
   "display_name": "Python 3 (ipykernel)",
   "language": "python",
   "name": "python3"
  },
  "language_info": {
   "codemirror_mode": {
    "name": "ipython",
    "version": 3
   },
   "file_extension": ".py",
   "mimetype": "text/x-python",
   "name": "python",
   "nbconvert_exporter": "python",
   "pygments_lexer": "ipython3",
   "version": "3.12.3"
  }
 },
 "nbformat": 4,
 "nbformat_minor": 4
}
