{
  "cells": [
    {
      "cell_type": "markdown",
      "metadata": {},
      "source": [
        "## 最初の大きなプロジェクト - 専門的にあなた！\n",
        "\n",
        "###および、ツールの使用。\n",
        "\n",
        "###しかし、最初：プッシュオーバーの紹介\n",
        "\n",
        "プッシュオーバーは、プッシュ通知を携帯電話に送信するための気の利いたツールです。\n",
        "\n",
        "セットアップとインストールは非常に簡単です！\n",
        "\n",
        "https://pushover.net/にアクセスして、右上の「ログインまたはサインアップ」をクリックして無料のアカウントにサインアップし、APIキーを作成します。\n",
        "\n",
        "サインアップしたら、ホーム画面で「アプリケーション/APIトークンの作成」をクリックし、名前（エージェントなど）を指定し、[アプリケーションの作成]をクリックします。\n",
        "\n",
        "次に、 `.env`ファイルに2行を追加します。\n",
        "\n",
        "pushover_user = _プッシュオーバーホーム画面の右上にあるキーを入力し、おそらくu_で始まる  \n",
        "pushover_token = _キーを入力して、エージェント（または何でも）という新しいアプリケーションをクリックして、おそらくA_で始まるときにキーを入力します\n",
        "\n",
        "`.env`ファイルを保存し、` load_dotenv（override = true） `を保存した後、環境変数を設定することを忘れないでください。\n",
        "\n",
        "最後に、「電話、タブレット、またはデスクトップの追加」をクリックして、電話にインストールします。"
      ]
    },
    {
      "cell_type": "code",
      "execution_count": null,
      "metadata": {},
      "outputs": [],
      "source": [
        "# 輸入\n",
        "\n",
        "from dotenv import load_dotenv\n",
        "from openai import OpenAI\n",
        "import json\n",
        "import os\n",
        "import requests\n",
        "from pypdf import PdfReader\n",
        "import gradio as gr"
      ]
    },
    {
      "cell_type": "code",
      "execution_count": null,
      "metadata": {},
      "outputs": [],
      "source": [
        "# 通常のスタート\n",
        "\n",
        "load_dotenv(override=True)\n",
        "openai = OpenAI()"
      ]
    },
    {
      "cell_type": "code",
      "execution_count": null,
      "metadata": {},
      "outputs": [],
      "source": [
        "# プッシュオーバー用\n",
        "\n",
        "pushover_user = os.getenv(\"PUSHOVER_USER\")\n",
        "pushover_token = os.getenv(\"PUSHOVER_TOKEN\")\n",
        "pushover_url = \"https://api.pushover.net/1/messages.json\"\n",
        "\n",
        "if pushover_user:\n",
        "    print(f\"Pushover user found and starts with {pushover_user[0]}\")\n",
        "else:\n",
        "    print(\"プッシュオーバーユーザーが見つかりません\")\n",
        "\n",
        "if pushover_token:\n",
        "    print(f\"Pushover token found and starts with {pushover_token[0]}\")\n",
        "else:\n",
        "    print(\"プッシュオーバートークンが見つかりません\")"
      ]
    },
    {
      "cell_type": "code",
      "execution_count": null,
      "metadata": {},
      "outputs": [],
      "source": [
        "def push(message):\n",
        "    print(f\"Push: {message}\")\n",
        "    payload = {\"user\": pushover_user, \"token\": pushover_token, \"message\": message}\n",
        "    requests.post(pushover_url, data=payload)"
      ]
    },
    {
      "cell_type": "code",
      "execution_count": null,
      "metadata": {},
      "outputs": [],
      "source": [
        "push(\"HEY!!\")"
      ]
    },
    {
      "cell_type": "code",
      "execution_count": null,
      "metadata": {},
      "outputs": [],
      "source": [
        "def record_user_details(email, name=\"Name not provided\", notes=\"not provided\"):\n",
        "    push(f\"Recording interest from {name} with email {email} and notes {notes}\")\n",
        "    return {\"recorded\": \"ok\"}"
      ]
    },
    {
      "cell_type": "code",
      "execution_count": null,
      "metadata": {},
      "outputs": [],
      "source": [
        "def record_unknown_question(question):\n",
        "    push(f\"Recording {question} asked that I couldn't answer\")\n",
        "    return {\"recorded\": \"ok\"}"
      ]
    },
    {
      "cell_type": "code",
      "execution_count": null,
      "metadata": {},
      "outputs": [],
      "source": [
        "record_user_details_json = {\n",
        "    \"name\": \"record_user_details\",\n",
        "    \"description\": \"Use this tool to record that a user is interested in being in touch and provided an email address\",\n",
        "    \"parameters\": {\n",
        "        \"type\": \"object\",\n",
        "        \"properties\": {\n",
        "            \"email\": {\n",
        "                \"type\": \"string\",\n",
        "                \"description\": \"The email address of this user\"\n",
        "            },\n",
        "            \"name\": {\n",
        "                \"type\": \"string\",\n",
        "                \"description\": \"The user's name, if they provided it\"\n",
        "            }\n",
        "            ,\n",
        "            \"notes\": {\n",
        "                \"type\": \"string\",\n",
        "                \"description\": \"Any additional information about the conversation that's worth recording to give context\"\n",
        "            }\n",
        "        },\n",
        "        \"required\": [\"email\"],\n",
        "        \"additionalProperties\": False\n",
        "    }\n",
        "}"
      ]
    },
    {
      "cell_type": "code",
      "execution_count": null,
      "metadata": {},
      "outputs": [],
      "source": [
        "record_unknown_question_json = {\n",
        "    \"name\": \"record_unknown_question\",\n",
        "    \"description\": \"Always use this tool to record any question that couldn't be answered as you didn't know the answer\",\n",
        "    \"parameters\": {\n",
        "        \"type\": \"object\",\n",
        "        \"properties\": {\n",
        "            \"question\": {\n",
        "                \"type\": \"string\",\n",
        "                \"description\": \"The question that couldn't be answered\"\n",
        "            },\n",
        "        },\n",
        "        \"required\": [\"question\"],\n",
        "        \"additionalProperties\": False\n",
        "    }\n",
        "}"
      ]
    },
    {
      "cell_type": "code",
      "execution_count": null,
      "metadata": {},
      "outputs": [],
      "source": [
        "tools = [{\"type\": \"function\", \"function\": record_user_details_json},\n",
        "        {\"type\": \"function\", \"function\": record_unknown_question_json}]"
      ]
    },
    {
      "cell_type": "code",
      "execution_count": null,
      "metadata": {},
      "outputs": [],
      "source": [
        "tools"
      ]
    },
    {
      "cell_type": "code",
      "execution_count": null,
      "metadata": {},
      "outputs": [],
      "source": [
        "# この関数は、ツール呼び出しのリストを取得し、それらを実行できます。これはIFステートメントです!!\n",
        "\n",
        "def handle_tool_calls(tool_calls):\n",
        "    results = []\n",
        "    for tool_call in tool_calls:\n",
        "        tool_name = tool_call.function.name\n",
        "        arguments = json.loads(tool_call.function.arguments)\n",
        "        print(f\"Tool called: {tool_name}\", flush=True)\n",
        "\n",
        "        # 大きな声明!!!\n",
        "\n",
        "        if tool_name == \"record_user_details\":\n",
        "            result = record_user_details(**arguments)\n",
        "        elif tool_name == \"record_unknown_question\":\n",
        "            result = record_unknown_question(**arguments)\n",
        "\n",
        "        results.append({\"role\": \"tool\",\"content\": json.dumps(result),\"tool_call_id\": tool_call.id})\n",
        "    return results"
      ]
    },
    {
      "cell_type": "code",
      "execution_count": null,
      "metadata": {},
      "outputs": [],
      "source": [
        "globals()[\"record_unknown_question\"](\"this is a really hard question\")"
      ]
    },
    {
      "cell_type": "code",
      "execution_count": null,
      "metadata": {},
      "outputs": [],
      "source": [
        "# これは、IFステートメントを回避するよりエレガントな方法です。\n",
        "\n",
        "def handle_tool_calls(tool_calls):\n",
        "    results = []\n",
        "    for tool_call in tool_calls:\n",
        "        tool_name = tool_call.function.name\n",
        "        arguments = json.loads(tool_call.function.arguments)\n",
        "        print(f\"Tool called: {tool_name}\", flush=True)\n",
        "        tool = globals().get(tool_name)\n",
        "        result = tool(**arguments) if tool else {}\n",
        "        results.append({\"role\": \"tool\",\"content\": json.dumps(result),\"tool_call_id\": tool_call.id})\n",
        "    return results"
      ]
    },
    {
      "cell_type": "code",
      "execution_count": null,
      "metadata": {},
      "outputs": [],
      "source": [
        "reader = PdfReader(\"me/linkedin.pdf\")\n",
        "linkedin = \"\"\n",
        "for page in reader.pages:\n",
        "    text = page.extract_text()\n",
        "    if text:\n",
        "        linkedin += text\n",
        "\n",
        "with open(\"me/summary.txt\", \"r\", encoding=\"utf-8\") as f:\n",
        "    summary = f.read()\n",
        "\n",
        "name = \"Ed Donner\""
      ]
    },
    {
      "cell_type": "code",
      "execution_count": null,
      "metadata": {},
      "outputs": [],
      "source": [
        "system_prompt = f\"You are acting as {name}. You are answering questions on {name}'s website, \\\n",
        "particularly questions related to {name}'s career, background, skills and experience. \\\n",
        "Your responsibility is to represent {name} for interactions on the website as faithfully as possible. \\\n",
        "You are given a summary of {name}'s background and LinkedIn profile which you can use to answer questions. \\\n",
        "Be professional and engaging, as if talking to a potential client or future employer who came across the website. \\\n",
        "If you don't know the answer to any question, use your record_unknown_question tool to record the question that you couldn't answer, even if it's about something trivial or unrelated to career. \\\n",
        "If the user is engaging in discussion, try to steer them towards getting in touch via email; ask for their email and record it using your record_user_details tool. \"\n",
        "\n",
        "system_prompt += f\"\\n\\n# ＃summary：\\ n {summary} \\ n \\ n ## linkedinプロファイル：\\ n {linkedin} \\ n \\ n \"\n",
        "system_prompt += f\"With this context, please chat with the user, always staying in character as {name}.\"\n"
      ]
    },
    {
      "cell_type": "code",
      "execution_count": null,
      "metadata": {},
      "outputs": [],
      "source": [
        "def chat(message, history):\n",
        "    messages = [{\"role\": \"system\", \"content\": system_prompt}] + history + [{\"role\": \"user\", \"content\": message}]\n",
        "    done = False\n",
        "    while not done:\n",
        "\n",
        "        # これはLLMへの呼び出しです - 私たちがツールJSONを渡すことを見てください\n",
        "\n",
        "        response = openai.chat.completions.create(model=\"gpt-4o-mini\", messages=messages, tools=tools)\n",
        "\n",
        "        finish_reason = response.choices[0].finish_reason\n",
        "        \n",
        "        # LLMがツールを呼び出したい場合は、それを行います！\n",
        "         \n",
        "        if finish_reason==\"tool_calls\":\n",
        "            message = response.choices[0].message\n",
        "            tool_calls = message.tool_calls\n",
        "            results = handle_tool_calls(tool_calls)\n",
        "            messages.append(message)\n",
        "            messages.extend(results)\n",
        "        else:\n",
        "            done = True\n",
        "    return response.choices[0].message.content"
      ]
    },
    {
      "cell_type": "code",
      "execution_count": null,
      "metadata": {},
      "outputs": [],
      "source": [
        "gr.ChatInterface(chat, type=\"messages\").launch()"
      ]
    },
    {
      "cell_type": "markdown",
      "metadata": {},
      "source": [
        "##そして今展開用\n",
        "\n",
        "このコードは「app.py」にあります\n",
        "\n",
        "Face Spacesに展開します。\n",
        "\n",
        "開始する前に：「me」ディレクトリでファイルを更新することを忘れないでください - あなたのLinkedInプロファイルとsummary.txt-あなたについて話すように！また、 `self.name =\" ed donner \"` in `app.py` ..も変更します。  \n",
        "\n",
        "また、1_Foundationsディレクトリ内にreadmeファイルがないことを確認してください。ある場合は、削除してください。展開プロセスは、このディレクトリに新しいreadmeファイルを作成します。\n",
        "\n",
        "1. https://huggingface.coにアクセスして、アカウントを設定します  \n",
        "2。右上のアバターメニューから、アクセストークンを選択します。 「新しいトークンの作成」を選択します。書き込み許可を与えます - 書き込み許可が必要です！新しいキーの記録を保持してください。  \n",
        "3。ターミナルでは、「UVツールインストール」 'Huggingface_hub [cli]' `を実行するには、Huggingfaceツールをインストールするには、「HF Authログイン」にキーを使用してコマンドラインでログインします。その後、「hf auth whoami`を実行して、ログインしていることを確認してください  \n",
        "4.新しいトークンを取り、.envファイルに追加してください： `hf_token = hf_xxx`\n",
        "5。1_Foundationsフォルダーから、入力： `UV Run Gradio Deploy` \n",
        "6.その指示に従ってください：「career_conversation」に名前を付け、app.pyを指定し、ハードウェアとしてcpu-basicを選択し、秘密を提供する必要があると言い、openai apiキー、プッシュオーバーユーザー、トークンを提供し、githubアクションに「いいえ」と言います。  \n",
        "\n",
        "これらのヒントをありがとう、ロバート、ジェームズ、マーティンズ、アンドラス、プリヤに感謝します。  \n",
        "次の2つのセクションをお読みください - 秘密を変更する方法、およびスペースを再配置する方法（この1_Foundationsディレクトリで作成されるreadme.mdを削除する必要がある場合があります）。\n",
        "\n",
        "####これらの秘密の詳細：\n",
        "\n",
        "これらの秘密で何が起こっているかに混乱している場合：それぞれの秘密のキー名と価値を入力することを望んでいます。  \n",
        "`openai_api_key`  \n",
        "に続く：  \n",
        "`sk-proj -...`  \n",
        "\n",
        "そして、あなたがこのように秘密を設定したくない場合、または何かがうまくいかない場合、それは問題ありません - あなたは後であなたの秘密を変えることができます：  \n",
        "1。HuggingfaceのWebサイトにログインします  \n",
        "2。右上のアバターメニューからプロフィール画面に移動します  \n",
        "3.展開したスペースを選択します  \n",
        "4.右上の設定ホイールをクリックします  \n",
        "5.下にスクロールして、秘密（変数と秘密のセクション）を変更したり、スペースを削除したりできます。\n",
        "\n",
        "####そして今あなたは展開する必要があります！\n",
        "\n",
        "すべてを完全に交換し、キーから再び開始する場合は、この1_Foundationsフォルダーで作成されたreadme.mdを削除する必要がある場合があります。\n",
        "\n",
        "これが私のものです：https：//huggingface.co/spaces/ed-donner/career_conversation\n",
        "\n",
        "学生がどのように彼らが彼らの国の大統領になることができるかを尋ねたというプッシュ通知を受け取りました😂😂\n",
        "\n",
        "展開の詳細については：\n",
        "\n",
        "https://www.gradio.app/guides/sharing-your-app#hosting-on-hfスペース\n",
        "\n",
        "将来あなたのスペースを削除するには：  \n",
        "1。ログインHuggingface\n",
        "2。アバターメニューから、プロファイルを選択します\n",
        "3.スペース自体をクリックして、右上の設定ホイールを選択します\n",
        "4.下部の削除セクションにスクロールします\n",
        "5。\n"
      ]
    },
    {
      "cell_type": "markdown",
      "metadata": {},
      "source": [
        "<テーブルスタイル= \"マージン：0;テキストアライグ：左;幅：100％\">\n",
        "    <tr>\n",
        "        <td style = \"width：150px; height：150px; vertical-align：middle;\">\n",
        "            <img src = \"../ assets/exercise.png\" width = \"150\" height = \"150\" style = \"display：block;\" />\n",
        "        </td>\n",
        "        <td>\n",
        "            <h2 style = \"color：＃ff7800;\">演習</h2>\n",
        "            <Span style = \"color：＃ff7800;\">•何よりもまず、これを自分で展開してください！それは本当の、貴重なツールです - 将来の履歴書.. <br/>\n",
        "            •次に、リソースを改善します - あなた自身についてより良いコンテキストを追加します。ラグを知っている場合は、あなたについての知識ベースを追加してください。<br/>\n",
        "            •より多くのツールを追加してください！ LLMが読み取りと書き込みできる一般的なQ＆Aを備えたSQLデータベースを使用することができますか？<br/>\n",
        "            •最後のラボから評価者を持ち込み、他のエージェントパターンを追加します。\n",
        "            </span>\n",
        "        </td>\n",
        "    </tr>\n",
        "</table>"
      ]
    },
    {
      "cell_type": "markdown",
      "metadata": {},
      "source": [
        "<テーブルスタイル= \"マージン：0;テキストアライグ：左;幅：100％\">\n",
        "    <tr>\n",
        "        <td style = \"width：150px; height：150px; vertical-align：middle;\">\n",
        "            <img src = \"../ assets/business.png\" width = \"150\" height = \"150\" style = \"display：block;\" />\n",
        "        </td>\n",
        "        <td>\n",
        "            <h2 style = \"color：＃00bfff;\">商業的影響</h2>\n",
        "            <Span style = \"color：＃00bfff;\">明白な（あなたのキャリアの分身）とは別に、これはドメインの専門知識と現実世界と対話する能力を持つAIアシスタントが必要な状況でビジネスアプリケーションを持っています。\n",
        "            </span>\n",
        "        </td>\n",
        "    </tr>\n",
        "</table>"
      ]
    }
  ],
  "metadata": {
    "kernelspec": {
      "display_name": ".venv",
      "language": "python",
      "name": "python3"
    },
    "language_info": {
      "codemirror_mode": {
        "name": "ipython",
        "version": 3
      },
      "file_extension": ".py",
      "mimetype": "text/x-python",
      "name": "python",
      "nbconvert_exporter": "python",
      "pygments_lexer": "ipython3",
      "version": "3.12.9"
    }
  },
  "nbformat": 4,
  "nbformat_minor": 2
}