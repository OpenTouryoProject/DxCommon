{
 "cells": [
  {
   "cell_type": "markdown",
   "metadata": {},
   "source": [
    "## 最初の大きなプロジェクト - プロフェッショナルなあなた！\n",
    "\n",
    "### 概要 ... そして、ツールの使用\n",
    "\n",
    "AIエージェントを使ったキャリアアバター（自己紹介AIエージェント）の構築・運用・デプロイ方法を解説\n",
    "\n",
    "- Pushoverの導入\n",
    "  - Pushoverというサービスを使って、スマホにプッシュ通知を送る仕組みを構築\n",
    "  - `.env`ファイルでPushoverのユーザーキーとトークンを設定\n",
    "\n",
    "- 必要なライブラリのインポート  \n",
    "- Pushover用の初期化と動作確認  \n",
    "- ユーザー情報・未知の質問の記録用関数のツール化\n",
    "- **Function Callingでツール呼出処理（if分岐／globals動的呼び出し）**\n",
    "- LinkedInのPDFとサマリーtxtファイルからプロフィール情報の取得\n",
    "- AIが「Ed Donnerとして」質問に回答するためのシステムプロンプトの作成\n",
    "- システムプロンプトにプロフィール情報を含めWeb上のやりとりを本人として再現\n",
    "- Gradioを使用してWebベースの対話型チャットの実装\n",
    "- HuggingFace Spacesへのデプロイ方法の説明\n",
    "- 応用・商用展開・エクササイズ\n",
    "  - RAG（検索拡張生成）やツール追加例\n",
    "  - 商用応用（専門領域のAIアシスタント）\n",
    "\n",
    "### しかし、最初に：Pushoverの紹介\n",
    "\n",
    "Pushoverは、プッシュ通知を携帯電話に送信するための気の利いたツールです。\n",
    "\n",
    "セットアップとインストールは非常に簡単です！\n",
    "\n",
    "https://pushover.net/ にアクセスして、右上の「ログインまたはサインアップ」をクリックして無料のアカウントにサインアップし、APIキーを作成します。\n",
    "\n",
    "サインアップしたら、ホーム画面で \"Create an Application/API Token\" をクリックし、名前（エージェントなど）を指定し、[アプリケーションの作成]をクリックします。\n",
    "\n",
    "次に、 `.env` ファイルに2行を追加します。\n",
    "\n",
    "- PUSHOVER_USER=_Pushoverのホーム画面の右上にある、おそらくu_で始まるキーを入力\n",
    "- PUSHOVER_TOKEN=_キーを入力して、エージェント（または何でも）という新しいアプリケーションをクリックして、おそらくa_で始まるキーを入力\n",
    "\n",
    "`.env`ファイルを保存し、` load_dotenv（override = true） `を保存した後、環境変数を設定することを忘れないでください。\n",
    "\n",
    "最後に、「電話、タブレット、またはデスクトップの追加」をクリックして、電話にインストールします。"
   ]
  },
  {
   "cell_type": "code",
   "execution_count": 1,
   "metadata": {},
   "outputs": [],
   "source": [
    "# import\n",
    "\n",
    "from dotenv import load_dotenv\n",
    "from openai import OpenAI\n",
    "import json\n",
    "import os\n",
    "import requests\n",
    "from pypdf import PdfReader\n",
    "import gradio as gr"
   ]
  },
  {
   "cell_type": "code",
   "execution_count": 2,
   "metadata": {},
   "outputs": [],
   "source": [
    "# 通常のスタート\n",
    "\n",
    "load_dotenv(override=True)\n",
    "openai = OpenAI()"
   ]
  },
  {
   "cell_type": "code",
   "execution_count": 3,
   "metadata": {},
   "outputs": [
    {
     "name": "stdout",
     "output_type": "stream",
     "text": [
      "uで始まるPushoverのユーザーが見つかりました\n",
      "aで始まるPushoverのトークンが見つかりました\n"
     ]
    }
   ],
   "source": [
    "# Pushover用\n",
    "\n",
    "pushover_user = os.getenv(\"PUSHOVER_USER\")\n",
    "pushover_token = os.getenv(\"PUSHOVER_TOKEN\")\n",
    "pushover_url = \"https://api.pushover.net/1/messages.json\"\n",
    "\n",
    "if pushover_user:\n",
    "    print(f\"{pushover_user[0]}で始まるPushoverのユーザーが見つかりました\")\n",
    "else:\n",
    "    print(\"プッシュオーバーユーザーが見つかりません\")\n",
    "\n",
    "if pushover_token:\n",
    "    print(f\"{pushover_token[0]}で始まるPushoverのトークンが見つかりました\")\n",
    "else:\n",
    "    print(\"プッシュオーバートークンが見つかりません\")"
   ]
  },
  {
   "cell_type": "code",
   "execution_count": 4,
   "metadata": {},
   "outputs": [],
   "source": [
    "# プッシュ通知の関数\n",
    "def push(message):\n",
    "    print(f\"Push: {message}\")\n",
    "    payload = {\"user\": pushover_user, \"token\": pushover_token, \"message\": message}\n",
    "    requests.post(pushover_url, data=payload)"
   ]
  },
  {
   "cell_type": "code",
   "execution_count": 5,
   "metadata": {},
   "outputs": [
    {
     "name": "stdout",
     "output_type": "stream",
     "text": [
      "Push: HEY!!\n"
     ]
    }
   ],
   "source": [
    "# プッシュ通知の送付\n",
    "push(\"HEY!!\")"
   ]
  },
  {
   "cell_type": "code",
   "execution_count": 6,
   "metadata": {},
   "outputs": [],
   "source": [
    "# ユーザーの詳細を記録する\n",
    "def record_user_details(email, name=\"Name not provided\", notes=\"not provided\"):\n",
    "    # {name} からの関心を、メールアドレス {email}、メモ {notes} で記録\n",
    "    push(f\"Recording interest from {name} with email {email} and notes {notes}\")\n",
    "    return {\"recorded\": \"ok\"}\n",
    "\n",
    "# 不明な質問を記録する\n",
    "def record_unknown_question(question):\n",
    "    # 答えられない質問を記録\n",
    "    push(f\"Recording {question} asked that I couldn't answer\")\n",
    "    return {\"recorded\": \"ok\"}"
   ]
  },
  {
   "cell_type": "code",
   "execution_count": 7,
   "metadata": {},
   "outputs": [],
   "source": [
    "# Function Callingする関数に対応するJSONのメタデータの定義\n",
    "# フレームワークを使用すればdocstringなどを使用して自動化可能 → LlamaIndex3等を参照）\n",
    "\n",
    "# このツール（record_user_details）を使用すると、ユーザーの連絡用メールアドレス（や名前、ノート）を記録。\n",
    "record_user_details_json = {\n",
    "    \"name\": \"record_user_details\",\n",
    "    \"description\": \"Use this tool to record that a user is interested in being in touch and provided an email address\",\n",
    "    \"parameters\": {\n",
    "        \"type\": \"object\",\n",
    "        \"properties\": {\n",
    "            \"email\": {\n",
    "                \"type\": \"string\",\n",
    "                \"description\": \"The email address of this user\"\n",
    "            },\n",
    "            \"name\": {\n",
    "                \"type\": \"string\",\n",
    "                \"description\": \"The user's name, if they provided it\"\n",
    "            }\n",
    "            ,\n",
    "            \"notes\": {\n",
    "                \"type\": \"string\",\n",
    "                \"description\": \"Any additional information about the conversation that's worth recording to give context\"\n",
    "            }\n",
    "        },\n",
    "        \"required\": [\"email\"],\n",
    "        \"additionalProperties\": False\n",
    "    }\n",
    "}\n",
    "\n",
    "# 答えがわからず回答できなかった質問は必ずこのツール（record_unknown_question）を使用して記録してください。\n",
    "record_unknown_question_json = {\n",
    "    \"name\": \"record_unknown_question\",\n",
    "    \"description\": \"Always use this tool to record any question that couldn't be answered as you didn't know the answer\",\n",
    "    \"parameters\": {\n",
    "        \"type\": \"object\",\n",
    "        \"properties\": {\n",
    "            \"question\": {\n",
    "                \"type\": \"string\",\n",
    "                \"description\": \"The question that couldn't be answered\"\n",
    "            },\n",
    "        },\n",
    "        \"required\": [\"question\"],\n",
    "        \"additionalProperties\": False\n",
    "    }\n",
    "}\n",
    "\n",
    "tools = [{\"type\": \"function\", \"function\": record_user_details_json},\n",
    "        {\"type\": \"function\", \"function\": record_unknown_question_json}]"
   ]
  },
  {
   "cell_type": "code",
   "execution_count": 8,
   "metadata": {},
   "outputs": [
    {
     "data": {
      "text/plain": [
       "[{'type': 'function',\n",
       "  'function': {'name': 'record_user_details',\n",
       "   'description': 'Use this tool to record that a user is interested in being in touch and provided an email address',\n",
       "   'parameters': {'type': 'object',\n",
       "    'properties': {'email': {'type': 'string',\n",
       "      'description': 'The email address of this user'},\n",
       "     'name': {'type': 'string',\n",
       "      'description': \"The user's name, if they provided it\"},\n",
       "     'notes': {'type': 'string',\n",
       "      'description': \"Any additional information about the conversation that's worth recording to give context\"}},\n",
       "    'required': ['email'],\n",
       "    'additionalProperties': False}}},\n",
       " {'type': 'function',\n",
       "  'function': {'name': 'record_unknown_question',\n",
       "   'description': \"Always use this tool to record any question that couldn't be answered as you didn't know the answer\",\n",
       "   'parameters': {'type': 'object',\n",
       "    'properties': {'question': {'type': 'string',\n",
       "      'description': \"The question that couldn't be answered\"}},\n",
       "    'required': ['question'],\n",
       "    'additionalProperties': False}}}]"
      ]
     },
     "execution_count": 8,
     "metadata": {},
     "output_type": "execute_result"
    }
   ],
   "source": [
    "tools"
   ]
  },
  {
   "cell_type": "code",
   "execution_count": 9,
   "metadata": {},
   "outputs": [],
   "source": [
    "# IFステートメントでFunction Calling\n",
    "def handle_tool_calls(tool_calls):\n",
    "    results = []\n",
    "    for tool_call in tool_calls:\n",
    "\n",
    "        # この辺り、構造化出力風\n",
    "        tool_name = tool_call.function.name\n",
    "        arguments = json.loads(tool_call.function.arguments)\n",
    "        print(f\"Tool called: {tool_name}\", flush=True)\n",
    "\n",
    "        # THE BIG IF STATEMENT!!!\n",
    "\n",
    "        if tool_name == \"record_user_details\":\n",
    "            result = record_user_details(**arguments)\n",
    "        elif tool_name == \"record_unknown_question\":\n",
    "            result = record_unknown_question(**arguments)\n",
    "\n",
    "        results.append({\"role\": \"tool\", \"content\": json.dumps(result), \"tool_call_id\": tool_call.id})\n",
    "    return results"
   ]
  },
  {
   "cell_type": "code",
   "execution_count": 10,
   "metadata": {},
   "outputs": [
    {
     "name": "stdout",
     "output_type": "stream",
     "text": [
      "Push: Recording this is a really hard question asked that I couldn't answer\n"
     ]
    },
    {
     "data": {
      "text/plain": [
       "{'recorded': 'ok'}"
      ]
     },
     "execution_count": 10,
     "metadata": {},
     "output_type": "execute_result"
    }
   ],
   "source": [
    "# レイドバインドで関数呼び出し\n",
    "globals()[\"record_unknown_question\"](\"this is a really hard question\")"
   ]
  },
  {
   "cell_type": "code",
   "execution_count": 11,
   "metadata": {},
   "outputs": [],
   "source": [
    "# レイトバインド風にFunction Calling\n",
    "def handle_tool_calls(tool_calls):\n",
    "    results = []\n",
    "    for tool_call in tool_calls:\n",
    "\n",
    "        # この辺り、構造化出力風\n",
    "        tool_name = tool_call.function.name\n",
    "        arguments = json.loads(tool_call.function.arguments)\n",
    "        print(f\"Tool called: {tool_name}\", flush=True)\n",
    "\n",
    "        # レイトバインド風実装!!!\n",
    "        \n",
    "        tool = globals().get(tool_name)\n",
    "        result = tool(**arguments) if tool else {}\n",
    "        \n",
    "        results.append({\"role\": \"tool\", \"content\": json.dumps(result), \"tool_call_id\": tool_call.id})\n",
    "    return results"
   ]
  },
  {
   "cell_type": "code",
   "execution_count": 12,
   "metadata": {},
   "outputs": [],
   "source": [
    "# キャリアアバター（経歴紹介AI）の準備：外部リソース\n",
    "\n",
    "reader = PdfReader(\"me/linkedin.pdf\")\n",
    "linkedin = \"\"\n",
    "\n",
    "for page in reader.pages:\n",
    "    text = page.extract_text()\n",
    "    if text:\n",
    "        linkedin += text\n",
    "\n",
    "with open(\"me/summary.txt\", \"r\", encoding=\"utf-8\") as f:\n",
    "    summary = f.read()\n",
    "\n",
    "name = \"Ed Donner\""
   ]
  },
  {
   "cell_type": "code",
   "execution_count": 13,
   "metadata": {},
   "outputs": [],
   "source": [
    "# キャリアアバター（経歴紹介AI）の準備：システムプロンプト\n",
    "system_prompt = f\"You are acting as {name}. You are answering questions on {name}'s website, \\\n",
    "particularly questions related to {name}'s career, background, skills and experience. \\\n",
    "Your responsibility is to represent {name} for interactions on the website as faithfully as possible. \\\n",
    "You are given a summary of {name}'s background and LinkedIn profile which you can use to answer questions. \\\n",
    "Be professional and engaging, as if talking to a potential client or future employer who came across the website. \\\n",
    "If you don't know the answer to any question, use your record_unknown_question tool to record the question that you couldn't answer, even if it's about something trivial or unrelated to career. \\\n",
    "If the user is engaging in discussion, try to steer them towards getting in touch via email; ask for their email and record it using your record_user_details tool. \"\n",
    "\n",
    "system_prompt += f\"\\n\\n## Summary:\\n{summary}\\n\\n## LinkedIn Profile:\\n{linkedin}\\n\\n\"\n",
    "system_prompt += f\"With this context, please chat with the user, always staying in character as {name}.\""
   ]
  },
  {
   "cell_type": "code",
   "execution_count": 14,
   "metadata": {},
   "outputs": [],
   "source": [
    "# chat関数\n",
    "def chat(message, history):\n",
    "    messages = [{\"role\": \"system\", \"content\": system_prompt}] + history + [{\"role\": \"user\", \"content\": message}]\n",
    "\n",
    "    # ループで複数のツール呼び出しにも対応\n",
    "    done = False\n",
    "    while not done:\n",
    "\n",
    "        # LLMへの呼び出し - ツールJSON（tools）を渡す\n",
    "        response = openai.chat.completions.create(model=\"gpt-4o-mini\", messages=messages, tools=tools)\n",
    "\n",
    "        # finish_reasonをチェック\n",
    "        finish_reason = response.choices[0].finish_reason\n",
    "        \n",
    "        # finish_reasonが\"tool_calls\"ならツールを呼び出す\n",
    "        if finish_reason==\"tool_calls\": # \"tool_calls\" → ツール呼び出し\n",
    "            message = response.choices[0].message\n",
    "            tool_calls = message.tool_calls\n",
    "            results = handle_tool_calls(tool_calls)\n",
    "\n",
    "            # 会話履歴に「LLM がツールを使おうとしたこと」を残す\n",
    "            messages.append(message)    # 1要素\n",
    "            # 次の呼び出しでLLM に「ツールの実行結果」を渡す\n",
    "            messages.extend(results)    # n要素\n",
    "        else:                           # \"stop\" → 通常の応答\n",
    "            done = True\n",
    "\n",
    "    # 最終応答\n",
    "    return response.choices[0].message.content"
   ]
  },
  {
   "cell_type": "code",
   "execution_count": 15,
   "metadata": {},
   "outputs": [
    {
     "name": "stdout",
     "output_type": "stream",
     "text": [
      "* Running on local URL:  http://127.0.0.1:7862\n",
      "* To create a public link, set `share=True` in `launch()`.\n"
     ]
    },
    {
     "data": {
      "text/html": [
       "<div><iframe src=\"http://127.0.0.1:7862/\" width=\"100%\" height=\"500\" allow=\"autoplay; camera; microphone; clipboard-read; clipboard-write;\" frameborder=\"0\" allowfullscreen></iframe></div>"
      ],
      "text/plain": [
       "<IPython.core.display.HTML object>"
      ]
     },
     "metadata": {},
     "output_type": "display_data"
    },
    {
     "data": {
      "text/plain": []
     },
     "execution_count": 15,
     "metadata": {},
     "output_type": "execute_result"
    }
   ],
   "source": [
    "# プロトタイプをテストする。\n",
    "gr.ChatInterface(chat, type=\"messages\").launch()"
   ]
  },
  {
   "cell_type": "markdown",
   "metadata": {},
   "source": [
    "### 以下のようなことをChatで質問する\n",
    "- hi there\n",
    "- what is your current job?\n",
    "- do you have a patent?\n",
    "- who is your favorite musician?\n",
    "- I'd like to get in touch!\n",
    "- I'm at ed@edwarddonner.com"
   ]
  },
  {
   "cell_type": "markdown",
   "metadata": {},
   "source": [
    "## そして今、デプロイ\n",
    "\n",
    "このコードは（プロトタイプ実装を詰め込んだ）「app.py」にあり、コレを「HuggingFace Spaces」にデプロイします。"
   ]
  },
  {
   "cell_type": "code",
   "execution_count": 16,
   "metadata": {},
   "outputs": [
    {
     "name": "stdout",
     "output_type": "stream",
     "text": [
      "* Running on local URL:  http://127.0.0.1:7863\n",
      "* To create a public link, set `share=True` in `launch()`.\n"
     ]
    },
    {
     "data": {
      "text/html": [
       "<div><iframe src=\"http://127.0.0.1:7863/\" width=\"100%\" height=\"500\" allow=\"autoplay; camera; microphone; clipboard-read; clipboard-write;\" frameborder=\"0\" allowfullscreen></iframe></div>"
      ],
      "text/plain": [
       "<IPython.core.display.HTML object>"
      ]
     },
     "metadata": {},
     "output_type": "display_data"
    },
    {
     "data": {
      "text/plain": []
     },
     "execution_count": 16,
     "metadata": {},
     "output_type": "execute_result"
    }
   ],
   "source": [
    "# app.pyをローカル実行（.envが使われる）\n",
    "from app import Me\n",
    "import gradio as gr\n",
    "\n",
    "me = Me()\n",
    "gr.ChatInterface(me.chat, type=\"messages\").launch()"
   ]
  },
  {
   "cell_type": "markdown",
   "metadata": {},
   "source": [
    "#### 開始する前に\n",
    "「me」ディレクトリでファイルがあなたについて話すように更新することを忘れないでください - LinkedInプロフィールとsummary.txt - また、`app.py` 中の `self.name = \"Ed Donner\"` も変更します。また、1_Foundationsディレクトリ内にREADMEファイルがないことを確認してください。ある場合は、削除してください。展開プロセスは、このディレクトリに新しいREADMEファイルを作成します。\n",
    "\n",
    "#### デプロイの手順\n",
    "\n",
    "1. https://huggingface.co にアクセスして、アカウントを設定。\n",
    "1. 右上のアバターメニューから、アクセストークンを選択し「新しいトークンの作成」を選択し。書き込み許可を与えます（書き込み許可が必要です！）新しいキーの記録を保持。\n",
    "1. ターミナルで `uv tool install 'huggingface_hub[cli]'` を実行し、uv を使って Hugging Face Hub ライブラリと CLI をインストール（コレは仮想環境で無い方が良い）。\n",
    "1. そして、`hf auth login` でキーを使用してログイン。その後、`hf auth whoami` を実行しログインを確認（`hf` は `huggingface-cli` のエイリアス）。\n",
    "1. 新しいトークンを取り、.envファイルに追加： `HF_TOKEN=hf_xxx`\n",
    "1. 1_Foundationsフォルダから `uv run gradio deploy` と入力 ... コレは、「Hugging Face Spaces」や「Gradio Spaces」にGradioのUIアプリをデプロイするためのサブコマンド。\n",
    "1. なお、基本的に、1_Foundationsフォルダのカレントとサブフォルダ中の除外の条件に引っかからないファイルがアップロードされるもよう。\n",
    "1. 指示に従い、\"career_conversation\"に名前を付け、`app.py` を指定し、ハードウェアとしてcpu-basicを選択し、\n",
    "1. `.env` はデプロイされないので、別途シークレットを入力（OpenAI APIキー、Pushoverユーザー、トークン）\n",
    "1. 最後に GitHub Action に関する問いに「いいえ」と答える。\n",
    "\n",
    "これらのヒントをありがとう、ロバート、ジェームズ、マーティンズ、アンドラス、プリヤに感謝します。  \n",
    "次の2つのセクションをお読みください - 秘密を変更する方法、およびスペースを再配置する方法（この1_Foundationsディレクトリで作成されるreadme.mdを削除する必要がある場合があります）。\n",
    "\n",
    "#### シークレットの詳細\n",
    "\n",
    "デプロイ後もシークレットを変えることができる。\n",
    "\n",
    "1. HuggingfaceのWebサイトにログイン\n",
    "1. 右上のアバターメニューからプロフィールに移動\n",
    "1. デプロイしたSpacesを選択\n",
    "1. 右上の設定歯車をクリックして下にスクロールして、\n",
    "1. シークレットを変更、スペースを再起動・削除など。\n",
    "\n",
    "#### これで配備が完了しました!\n",
    "\n",
    "すべてを完全に交換する場合は、1_Foundationsフォルダで作成されたREADMEファイルを削除する必要がある場合があります。\n",
    "\n",
    "これが私のものです: https://huggingface.co/spaces/ed-donner/Career_Conversation\n",
    "\n",
    "学生がどのように彼らが彼らの国の大統領になることができるかを尋ねたというプッシュ通知を受け取りました😂😂\n",
    "\n",
    "展開の詳細については：\n",
    "\n",
    "https://www.gradio.app/guides/sharing-your-app#hosting-on-hf-spaces\n",
    "\n",
    "スペースを削除するには：  \n",
    "\n",
    "1. HuggingfaceのWebサイトにログイン\n",
    "1. 右上のアバターメニューからプロフィールに移動\n",
    "1. デプロイしたSpacesを選択、右上の設定歯車をクリック\n",
    "1. 下にスクロールして、スペースを削除\n",
    "1. また、Gradio がこの 1_foundations フォルダ内に作成した README ファイルを削除 (そうしないと、次回 Gradio をデプロイするときに質問が表示されなくなります)。"
   ]
  },
  {
   "cell_type": "markdown",
   "metadata": {},
   "source": [
    "<table style=\"margin: 0; text-align: left; width:100%\">\n",
    "    <tr>\n",
    "        <td style=\"width: 150px; height: 150px; vertical-align: middle;\">\n",
    "            <img src=\"../assets/exercise.png\" width=\"150\" height=\"150\" style=\"display: block;\" />\n",
    "        </td>\n",
    "        <td>\n",
    "            <h2 style=\"color:#ff7800;\">演習</h2>\n",
    "            <span style=\"color:#ff7800;\">\n",
    "                • まず第一に、これを実際に自分で使ってみましょう！これは本当に価値のあるツールであり、将来の履歴書にもなります。<br/>\n",
    "                • 次に、リソースを改善しましょう。自分自身に関するより良いコンテキストを追加しましょう。RAG について知っているなら、自分に関するナレッジベースを追加しましょう。<br/>\n",
    "                • ツールをさらに追加しましょう！LLM が読み書きできる、よくある Q&A をまとめた SQL データベースを作成することも可能です。<br/>\n",
    "                • 前回のラボで使用した Evaluator を取り込み、他の Agentic パターンを追加しましょう。\n",
    "            </span>\n",
    "        </td>\n",
    "    </tr>\n",
    "</table>"
   ]
  },
  {
   "cell_type": "markdown",
   "metadata": {},
   "source": [
    "<table style=\"margin: 0; text-align: left; width:100%\">\n",
    "    <tr>\n",
    "        <td style=\"width: 150px; height: 150px; vertical-align: middle;\">\n",
    "            <img src=\"../assets/business.png\" width=\"150\" height=\"150\" style=\"display: block;\" />\n",
    "        </td>\n",
    "        <td>\n",
    "            <h2 style=\"color:#00bfff;\">商業的影響</h2>\n",
    "            <span style=\"color:#00bfff;\">\n",
    "                明らかなこと（キャリアにおけるもう一つの人格）以外にも、専門知識を持ち、現実世界とインタラクションできるAIアシスタントが必要なあらゆる状況において、ビジネスに応用できます。\n",
    "            </span>\n",
    "        </td>\n",
    "    </tr>\n",
    "</table>"
   ]
  }
 ],
 "metadata": {
  "kernelspec": {
   "display_name": "Python 3 (ipykernel)",
   "language": "python",
   "name": "python3"
  },
  "language_info": {
   "codemirror_mode": {
    "name": "ipython",
    "version": 3
   },
   "file_extension": ".py",
   "mimetype": "text/x-python",
   "name": "python",
   "nbconvert_exporter": "python",
   "pygments_lexer": "ipython3",
   "version": "3.12.3"
  }
 },
 "nbformat": 4,
 "nbformat_minor": 4
}
