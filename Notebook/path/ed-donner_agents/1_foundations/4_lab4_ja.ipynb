{
 "cells": [
  {
   "cell_type": "markdown",
   "metadata": {},
   "source": [
    "## 最初の大きなプロジェクト - プロフェッショナルなあなた！\n",
    "\n",
    "### そして、使用ツール。\n",
    "\n",
    "### しかし、最初に：Pushoverの紹介\n",
    "\n",
    "Pushoverは、プッシュ通知を携帯電話に送信するための気の利いたツールです。\n",
    "\n",
    "セットアップとインストールは非常に簡単です！\n",
    "\n",
    "https://pushover.net/ にアクセスして、右上の「ログインまたはサインアップ」をクリックして無料のアカウントにサインアップし、APIキーを作成します。\n",
    "\n",
    "サインアップしたら、ホーム画面で \"Create an Application/API Token\" をクリックし、名前（エージェントなど）を指定し、[アプリケーションの作成]をクリックします。\n",
    "\n",
    "次に、 `.env` ファイルに2行を追加します。\n",
    "\n",
    "PUSHOVER_USER=_Pushoverのホーム画面の右上にある、おそらくu_で始まるキーを入力\n",
    "PUSHOVER_TOKEN=_キーを入力して、エージェント（または何でも）という新しいアプリケーションをクリックして、おそらくa_で始まるキーを入力\n",
    "\n",
    "`.env`ファイルを保存し、` load_dotenv（override = true） `を保存した後、環境変数を設定することを忘れないでください。\n",
    "\n",
    "最後に、「電話、タブレット、またはデスクトップの追加」をクリックして、電話にインストールします。"
   ]
  },
  {
   "cell_type": "code",
   "execution_count": null,
   "metadata": {},
   "outputs": [],
   "source": [
    "# import\n",
    "\n",
    "from dotenv import load_dotenv\n",
    "from openai import OpenAI\n",
    "import json\n",
    "import os\n",
    "import requests\n",
    "from pypdf import PdfReader\n",
    "import gradio as gr"
   ]
  },
  {
   "cell_type": "code",
   "execution_count": null,
   "metadata": {},
   "outputs": [],
   "source": [
    "# 通常のスタート\n",
    "\n",
    "load_dotenv(override=True)\n",
    "openai = OpenAI()"
   ]
  },
  {
   "cell_type": "code",
   "execution_count": null,
   "metadata": {},
   "outputs": [],
   "source": [
    "# Pushover用\n",
    "\n",
    "pushover_user = os.getenv(\"PUSHOVER_USER\")\n",
    "pushover_token = os.getenv(\"PUSHOVER_TOKEN\")\n",
    "pushover_url = \"https://api.pushover.net/1/messages.json\"\n",
    "\n",
    "if pushover_user:\n",
    "    print(f\"{pushover_user[0]}で始まるPushoverのユーザーが見つかりました\")\n",
    "else:\n",
    "    print(\"プッシュオーバーユーザーが見つかりません\")\n",
    "\n",
    "if pushover_token:\n",
    "    print(f\"{pushover_token[0]}で始まるPushoverのトークンが見つかりました\")\n",
    "else:\n",
    "    print(\"プッシュオーバートークンが見つかりません\")"
   ]
  },
  {
   "cell_type": "code",
   "execution_count": null,
   "metadata": {},
   "outputs": [],
   "source": [
    "# プッシュ通知の関数\n",
    "def push(message):\n",
    "    print(f\"Push: {message}\")\n",
    "    payload = {\"user\": pushover_user, \"token\": pushover_token, \"message\": message}\n",
    "    requests.post(pushover_url, data=payload)"
   ]
  },
  {
   "cell_type": "code",
   "execution_count": null,
   "metadata": {},
   "outputs": [],
   "source": [
    "# プッシュ通知の送付\n",
    "push(\"HEY!!\")"
   ]
  },
  {
   "cell_type": "code",
   "execution_count": null,
   "metadata": {},
   "outputs": [],
   "source": [
    "# ユーザーの詳細を記録する\n",
    "def record_user_details(email, name=\"Name not provided\", notes=\"not provided\"):\n",
    "    # {name} からの関心を、メールアドレス {email}、メモ {notes} で記録\n",
    "    push(f\"Recording interest from {name} with email {email} and notes {notes}\")\n",
    "    return {\"recorded\": \"ok\"}\n",
    "\n",
    "# 不明な質問を記録する\n",
    "def record_unknown_question(question):\n",
    "    # 答えられない質問を記録\n",
    "    push(f\"Recording {question} asked that I couldn't answer\")\n",
    "    return {\"recorded\": \"ok\"}"
   ]
  },
  {
   "cell_type": "code",
   "execution_count": null,
   "metadata": {},
   "outputs": [],
   "source": [
    "# Function Callingする関数に対応するJSONのメタデータの定義\n",
    "# フレームワークを使用すればdocstringなどを使用して自動化可能 → LlamaIndex3等を参照）\n",
    "\n",
    "# このツール（record_user_details）を使用すると、ユーザーの連絡用メールアドレス（や名前、ノート）を記録。\n",
    "record_user_details_json = {\n",
    "    \"name\": \"record_user_details\",\n",
    "    \"description\": \"Use this tool to record that a user is interested in being in touch and provided an email address\",\n",
    "    \"parameters\": {\n",
    "        \"type\": \"object\",\n",
    "        \"properties\": {\n",
    "            \"email\": {\n",
    "                \"type\": \"string\",\n",
    "                \"description\": \"The email address of this user\"\n",
    "            },\n",
    "            \"name\": {\n",
    "                \"type\": \"string\",\n",
    "                \"description\": \"The user's name, if they provided it\"\n",
    "            }\n",
    "            ,\n",
    "            \"notes\": {\n",
    "                \"type\": \"string\",\n",
    "                \"description\": \"Any additional information about the conversation that's worth recording to give context\"\n",
    "            }\n",
    "        },\n",
    "        \"required\": [\"email\"],\n",
    "        \"additionalProperties\": False\n",
    "    }\n",
    "}\n",
    "\n",
    "# 答えがわからず回答できなかった質問は必ずこのツール（record_unknown_question）を使用して記録してください。\n",
    "record_unknown_question_json = {\n",
    "    \"name\": \"record_unknown_question\",\n",
    "    \"description\": \"Always use this tool to record any question that couldn't be answered as you didn't know the answer\",\n",
    "    \"parameters\": {\n",
    "        \"type\": \"object\",\n",
    "        \"properties\": {\n",
    "            \"question\": {\n",
    "                \"type\": \"string\",\n",
    "                \"description\": \"The question that couldn't be answered\"\n",
    "            },\n",
    "        },\n",
    "        \"required\": [\"question\"],\n",
    "        \"additionalProperties\": False\n",
    "    }\n",
    "}\n",
    "\n",
    "tools = [{\"type\": \"function\", \"function\": record_user_details_json},\n",
    "        {\"type\": \"function\", \"function\": record_unknown_question_json}]"
   ]
  },
  {
   "cell_type": "code",
   "execution_count": null,
   "metadata": {},
   "outputs": [],
   "source": [
    "tools"
   ]
  },
  {
   "cell_type": "code",
   "execution_count": null,
   "metadata": {},
   "outputs": [],
   "source": [
    "# IFステートメントでFunction Calling\n",
    "def handle_tool_calls(tool_calls):\n",
    "    results = []\n",
    "    for tool_call in tool_calls:\n",
    "\n",
    "        # この辺り、構造化出力風\n",
    "        tool_name = tool_call.function.name\n",
    "        arguments = json.loads(tool_call.function.arguments)\n",
    "        print(f\"Tool called: {tool_name}\", flush=True)\n",
    "\n",
    "        # THE BIG IF STATEMENT!!!\n",
    "\n",
    "        if tool_name == \"record_user_details\":\n",
    "            result = record_user_details(**arguments)\n",
    "        elif tool_name == \"record_unknown_question\":\n",
    "            result = record_unknown_question(**arguments)\n",
    "\n",
    "        results.append({\"role\": \"tool\", \"content\": json.dumps(result), \"tool_call_id\": tool_call.id})\n",
    "    return results"
   ]
  },
  {
   "cell_type": "code",
   "execution_count": null,
   "metadata": {},
   "outputs": [],
   "source": [
    "# レイドバインドで関数呼び出し\n",
    "globals()[\"record_unknown_question\"](\"this is a really hard question\")"
   ]
  },
  {
   "cell_type": "code",
   "execution_count": null,
   "metadata": {},
   "outputs": [],
   "source": [
    "# レイトバインド風にFunction Calling\n",
    "def handle_tool_calls(tool_calls):\n",
    "    results = []\n",
    "    for tool_call in tool_calls:\n",
    "\n",
    "        # この辺り、構造化出力風\n",
    "        tool_name = tool_call.function.name\n",
    "        arguments = json.loads(tool_call.function.arguments)\n",
    "        print(f\"Tool called: {tool_name}\", flush=True)\n",
    "\n",
    "        # レイトバインド風実装!!!\n",
    "        \n",
    "        tool = globals().get(tool_name)\n",
    "        result = tool(**arguments) if tool else {}\n",
    "        \n",
    "        results.append({\"role\": \"tool\", \"content\": json.dumps(result), \"tool_call_id\": tool_call.id})\n",
    "    return results"
   ]
  },
  {
   "cell_type": "code",
   "execution_count": null,
   "metadata": {},
   "outputs": [],
   "source": [
    "# キャリアアバター（経歴紹介AI）の準備：外部リソース\n",
    "\n",
    "reader = PdfReader(\"me/linkedin.pdf\")\n",
    "linkedin = \"\"\n",
    "\n",
    "for page in reader.pages:\n",
    "    text = page.extract_text()\n",
    "    if text:\n",
    "        linkedin += text\n",
    "\n",
    "with open(\"me/summary.txt\", \"r\", encoding=\"utf-8\") as f:\n",
    "    summary = f.read()\n",
    "\n",
    "name = \"Ed Donner\""
   ]
  },
  {
   "cell_type": "code",
   "execution_count": null,
   "metadata": {},
   "outputs": [],
   "source": [
    "# キャリアアバター（経歴紹介AI）の準備：システムプロンプト\n",
    "system_prompt = f\"You are acting as {name}. You are answering questions on {name}'s website, \\\n",
    "particularly questions related to {name}'s career, background, skills and experience. \\\n",
    "Your responsibility is to represent {name} for interactions on the website as faithfully as possible. \\\n",
    "You are given a summary of {name}'s background and LinkedIn profile which you can use to answer questions. \\\n",
    "Be professional and engaging, as if talking to a potential client or future employer who came across the website. \\\n",
    "If you don't know the answer to any question, use your record_unknown_question tool to record the question that you couldn't answer, even if it's about something trivial or unrelated to career. \\\n",
    "If the user is engaging in discussion, try to steer them towards getting in touch via email; ask for their email and record it using your record_user_details tool. \"\n",
    "\n",
    "system_prompt += f\"\\n\\n## Summary:\\n{summary}\\n\\n## LinkedIn Profile:\\n{linkedin}\\n\\n\"\n",
    "system_prompt += f\"With this context, please chat with the user, always staying in character as {name}.\""
   ]
  },
  {
   "cell_type": "code",
   "execution_count": null,
   "metadata": {},
   "outputs": [],
   "source": [
    "# chat関数\n",
    "def chat(message, history):\n",
    "    messages = [{\"role\": \"system\", \"content\": system_prompt}] + history + [{\"role\": \"user\", \"content\": message}]\n",
    "\n",
    "    # ループで複数のツール呼び出しにも対応\n",
    "    done = False\n",
    "    while not done:\n",
    "\n",
    "        # LLMへの呼び出し - ツールJSON（tools）を渡す\n",
    "        response = openai.chat.completions.create(model=\"gpt-4o-mini\", messages=messages, tools=tools)\n",
    "\n",
    "        # finish_reasonをチェック\n",
    "        finish_reason = response.choices[0].finish_reason\n",
    "        \n",
    "        # finish_reasonが\"tool_calls\"ならツールを呼び出す\n",
    "        if finish_reason==\"tool_calls\": # \"tool_calls\" → ツール呼び出し\n",
    "            message = response.choices[0].message\n",
    "            tool_calls = message.tool_calls\n",
    "            results = handle_tool_calls(tool_calls)\n",
    "\n",
    "            # 会話履歴に「LLM がツールを使おうとしたこと」を残す\n",
    "            messages.append(message)    # 1要素\n",
    "            # 次の呼び出しでLLM に「ツールの実行結果」を渡す\n",
    "            messages.extend(results)    # n要素\n",
    "        else:                           # \"stop\" → 通常の応答\n",
    "            done = True\n",
    "\n",
    "    # 最終応答\n",
    "    return response.choices[0].message.content"
   ]
  },
  {
   "cell_type": "code",
   "execution_count": null,
   "metadata": {},
   "outputs": [],
   "source": [
    "# プロトタイプをテストする。\n",
    "gr.ChatInterface(chat, type=\"messages\").launch()"
   ]
  },
  {
   "cell_type": "markdown",
   "metadata": {},
   "source": [
    "### 以下のようなことをChatで質問する\n",
    "- hi there\n",
    "- what is your current job?\n",
    "- do you have a patent?\n",
    "- who is your favorite musician?"
   ]
  },
  {
   "cell_type": "markdown",
   "metadata": {},
   "source": [
    "## そして今展開用\n",
    "\n",
    "このコードは「app.py」にあります\n",
    "\n",
    "HuggingFace Spacesに展開します。\n",
    "\n",
    "開始する前に「me」ディレクトリでファイルがあなたについて話すように更新することを忘れないでください - LinkedInプロフィールとsummary.txt - また、`app.py` 中の `self.name = \"Ed Donner\"` も変更します。  \n",
    "\n",
    "また、1_Foundationsディレクトリ内にreadmeファイルがないことを確認してください。ある場合は、削除してください。展開プロセスは、このディレクトリに新しいreadmeファイルを作成します。\n",
    "\n",
    "1. https://huggingface.co にアクセスして、アカウントを設定します  \n",
    "2. 右上のアバターメニューから、アクセストークンを選択し「新しいトークンの作成」を選択し。書き込み許可を与えます（書き込み許可が必要です！）新しいキーの記録を保持してください。  \n",
    "3. ターミナルで `uv tool install 'huggingface_hub[cli]'` を実行し、Huggingfaceツールをインストールするには、`hf auth login` にキーを使用してコマンドラインでログインします。その後、`hf auth whoami` を実行して、ログインしていることを確認してください。\n",
    "4. 新しいトークンを取り、.envファイルに追加してください： `HF_TOKEN=hf_xxx`\n",
    "5. 1_Foundationsフォルダーから入力： `uv run gradio deploy` \n",
    "6. 指示に従ってください：\"career_conversation\"に名前を付け、`app.py` を指定し、ハードウェアとしてcpu-basicを選択し、秘密を提供する必要があると言い、OpenAI APIキー、Pushoverユーザー、トークンを提供し、GitHubアクションに「いいえ」と言います。  \n",
    "\n",
    "これらのヒントをありがとう、ロバート、ジェームズ、マーティンズ、アンドラス、プリヤに感謝します。  \n",
    "次の2つのセクションをお読みください - 秘密を変更する方法、およびスペースを再配置する方法（この1_Foundationsディレクトリで作成されるreadme.mdを削除する必要がある場合があります）。\n",
    "\n",
    "#### これらの秘密の詳細：\n",
    "\n",
    "これらの秘密で何が起こっているかに混乱している場合：それぞれの秘密のキー名と価値を入力することを望んでいます。  \n",
    "`openai_api_key`  \n",
    "に続く：  \n",
    "`sk-proj -...`  \n",
    "\n",
    "そして、あなたがこのように秘密を設定したくない場合、または何かがうまくいかない場合、それは問題ありません - あなたは後であなたの秘密を変えることができます：  \n",
    "1. HuggingfaceのWebサイトにログインします  \n",
    "2. 右上のアバターメニューからプロフィール画面に移動します  \n",
    "3. 展開したスペースを選択します  \n",
    "4. 右上の設定ホイールをクリックします  \n",
    "5. 下にスクロールして、秘密（変数と秘密のセクション）を変更したり、スペースを削除したりできます。\n",
    "\n",
    "#### そして今あなたは展開する必要があります！\n",
    "\n",
    "すべてを完全に交換し、キーから再び開始する場合は、この1_Foundationsフォルダーで作成されたreadme.mdを削除する必要がある場合があります。\n",
    "\n",
    "これが私のものです：https：//huggingface.co/spaces/ed-donner/career_conversation\n",
    "\n",
    "学生がどのように彼らが彼らの国の大統領になることができるかを尋ねたというプッシュ通知を受け取りました😂😂\n",
    "\n",
    "展開の詳細については：\n",
    "\n",
    "https://www.gradio.app/guides/sharing-your-app#hosting-on-hfスペース\n",
    "\n",
    "将来あなたのスペースを削除するには：  \n",
    "1. ログインHuggingface\n",
    "2. アバターメニューから、プロファイルを選択します\n",
    "3. スペース自体をクリックして、右上の設定ホイールを選択します\n",
    "4. 下部の削除セクションにスクロールします\n",
    "5. \n"
   ]
  },
  {
   "cell_type": "markdown",
   "metadata": {},
   "source": [
    "<table style=\"margin: 0; text-align: left; width:100%\">\n",
    "    <tr>\n",
    "        <td style=\"width: 150px; height: 150px; vertical-align: middle;\">\n",
    "            <img src=\"../assets/exercise.png\" width=\"150\" height=\"150\" style=\"display: block;\" />\n",
    "        </td>\n",
    "        <td>\n",
    "            <h2 style=\"color:#ff7800;\">演習</h2>\n",
    "            <span style=\"color:#ff7800;\">\n",
    "                • まず第一に、これを実際に自分で使ってみましょう！これは本当に価値のあるツールであり、将来の履歴書にもなります。<br/>\n",
    "                • 次に、リソースを改善しましょう。自分自身に関するより良いコンテキストを追加しましょう。RAG について知っているなら、自分に関するナレッジベースを追加しましょう。<br/>\n",
    "                • ツールをさらに追加しましょう！LLM が読み書きできる、よくある Q&A をまとめた SQL データベースを作成することも可能です。<br/>\n",
    "                • 前回のラボで使用した Evaluator を取り込み、他の Agentic パターンを追加しましょう。\n",
    "            </span>\n",
    "        </td>\n",
    "    </tr>\n",
    "</table>"
   ]
  },
  {
   "cell_type": "markdown",
   "metadata": {},
   "source": [
    "<table style=\"margin: 0; text-align: left; width:100%\">\n",
    "    <tr>\n",
    "        <td style=\"width: 150px; height: 150px; vertical-align: middle;\">\n",
    "            <img src=\"../assets/business.png\" width=\"150\" height=\"150\" style=\"display: block;\" />\n",
    "        </td>\n",
    "        <td>\n",
    "            <h2 style=\"color:#00bfff;\">商業的影響</h2>\n",
    "            <span style=\"color:#00bfff;\">\n",
    "                明らかなこと（キャリアにおけるもう一つの人格）以外にも、専門知識を持ち、現実世界とインタラクションできるAIアシスタントが必要なあらゆる状況において、ビジネスに応用できます。\n",
    "            </span>\n",
    "        </td>\n",
    "    </tr>\n",
    "</table>"
   ]
  },
  {
   "cell_type": "code",
   "execution_count": null,
   "metadata": {},
   "outputs": [],
   "source": []
  }
 ],
 "metadata": {
  "kernelspec": {
   "display_name": "Python 3 (ipykernel)",
   "language": "python",
   "name": "python3"
  },
  "language_info": {
   "codemirror_mode": {
    "name": "ipython",
    "version": 3
   },
   "file_extension": ".py",
   "mimetype": "text/x-python",
   "name": "python",
   "nbconvert_exporter": "python",
   "pygments_lexer": "ipython3",
   "version": "3.12.3"
  }
 },
 "nbformat": 4,
 "nbformat_minor": 4
}
