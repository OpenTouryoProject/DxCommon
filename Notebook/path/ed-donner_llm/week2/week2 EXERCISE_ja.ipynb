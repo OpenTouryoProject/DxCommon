{
  "cells": [
    {
      "cell_type": "markdown",
      "id": "d006b2ea-9dfe-49c7-88a9-a5a0775185fd",
      "metadata": {},
      "source": [
        "# 追加の週末運動 - 第2週\n",
        "\n",
        "2週目から学んだことすべてを使用して、1週目のエクササイズで作成した技術的な質問/回答者の完全なプロトタイプを作成します。\n",
        "\n",
        "これには、グラデーションUI、ストリーミング、専門知識を追加するためのシステムプロンプトの使用、およびモデル間を切り替える機能が含まれます。ツールの使用を実証できる場合は、ボーナスポイント！\n",
        "\n",
        "大胆だと感じた場合は、オーディオ入力を追加できるかどうかを確認して、それに相談して、オーディオで応答してもらいます。 ChatGptまたはClaudeはあなたを助けることができます。\n",
        "\n",
        "私はすぐにここに完全なソリューションを公開します - 誰かが私をそれにbeatっていない限り...\n",
        "\n",
        "言語の家庭教師から、会社のオンボーディングソリューション、コンパニオンAIまで、これには非常に多くの商用アプリケーションがあります（このようなもの！）私はあなたの結果を見るのを待ちきれません。"
      ]
    },
    {
      "cell_type": "code",
      "execution_count": null,
      "id": "a07e7793-b8f5-44f4-aded-5562f633271a",
      "metadata": {},
      "outputs": [],
      "source": []
    }
  ],
  "metadata": {
    "kernelspec": {
      "display_name": "Python 3 (ipykernel)",
      "language": "python",
      "name": "python3"
    },
    "language_info": {
      "codemirror_mode": {
        "name": "ipython",
        "version": 3
      },
      "file_extension": ".py",
      "mimetype": "text/x-python",
      "name": "python",
      "nbconvert_exporter": "python",
      "pygments_lexer": "ipython3",
      "version": "3.11.11"
    }
  },
  "nbformat": 4,
  "nbformat_minor": 5
}