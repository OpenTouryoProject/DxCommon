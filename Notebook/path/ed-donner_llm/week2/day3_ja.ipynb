{
 "cells": [
  {
   "cell_type": "markdown",
   "id": "75e2ef28-594f-4c18-9d22-c6b8cd40ead2",
   "metadata": {},
   "source": [
    "# 3日目 - 会話AI - aka chatbot！\n",
    "\n",
    "この Jupyter Notebook（week2/day3.ipynb）の内容の概要は以下の通り。\n",
    "\n",
    "主な流れは以下の通りです：\n",
    "\n",
    "1. **APIキーの取得と環境変数の設定**\n",
    "   - `.env`ファイルからOpenAI、Anthropic、GoogleのAPIキーを読み込み、キーが存在するか確認します。\n",
    "\n",
    "2. **OpenAI APIの初期化**\n",
    "   - `OpenAI()`オブジェクトを作成し、利用するモデル（例: gpt-4o-mini）を指定します。\n",
    "\n",
    "3. **システムメッセージの定義**\n",
    "   - アシスタントのキャラクターや振る舞いを決める「system_message」を設定します。例として「あなたは衣料品店の親切なアシスタントです。帽子や他の商品を勧めてください。」など。\n",
    "\n",
    "4. **チャット関数の実装**  \n",
    "   - `chat(message, history)`という関数を作成。  \n",
    "   - `system_message`、これまでの会話履歴（history）、新しいユーザーからのメッセージをまとめてOpenAI APIに送り、ストリームで応答を生成します。\n",
    "\n",
    "5. **GradioによるUI構築**  \n",
    "   - `gr.ChatInterface(fn=chat, type=\"messages\").launch()`で、チャットボットのWebインターフェースを立ち上げます。\n",
    "\n",
    "6. **システムメッセージやチャット関数のカスタマイズ**  \n",
    "   - 商品のセール情報や、特定の質問（例：ベルトの問い合わせ）への対応など、system_messageやchat関数の内容を条件に応じて変更する例も紹介されています。\n",
    "\n",
    "7. **ビジネス応用例の紹介**  \n",
    "   - 会話型AIをビジネスにどう活用できるか、システムプロンプトを工夫して自分のビジネス向けプロトタイプを作ることを推奨しています。\n",
    "\n",
    "要約すると、このノートブックは「Gradio＋OpenAI API」を使った会話型AI（チャットボット）の実装、カスタマイズ方法、そしてビジネス応用のアイデアを学ぶためのものです。"
   ]
  },
  {
   "cell_type": "code",
   "execution_count": 1,
   "id": "70e39cd8-ec79-4e3e-9c26-5659d42d0861",
   "metadata": {},
   "outputs": [],
   "source": [
    "# import\n",
    "\n",
    "import os\n",
    "from dotenv import load_dotenv\n",
    "from openai import OpenAI\n",
    "import gradio as gr"
   ]
  },
  {
   "cell_type": "code",
   "execution_count": 2,
   "id": "231605aa-fccb-447e-89cf-8b187444536a",
   "metadata": {},
   "outputs": [
    {
     "name": "stdout",
     "output_type": "stream",
     "text": [
      "OpenAI APIキーが存在し、開始します sk-proj-\n",
      "人為的APIキーが設定されていません\n",
      "Google APIキーが設定されていません\n"
     ]
    }
   ],
   "source": [
    "# .envというファイルに環境変数をロードします\n",
    "# キープレフィックスを印刷して、デバッグに役立ちます\n",
    "\n",
    "load_dotenv(override=True)\n",
    "openai_api_key = os.getenv('OPENAI_API_KEY')\n",
    "anthropic_api_key = os.getenv('ANTHROPIC_API_KEY')\n",
    "google_api_key = os.getenv('GOOGLE_API_KEY')\n",
    "\n",
    "if openai_api_key:\n",
    "    print(f\"OpenAI APIキーが存在し、開始します {openai_api_key[:8]}\")\n",
    "else:\n",
    "    print(\"Openai APIキーが設定されていません\")\n",
    "    \n",
    "if anthropic_api_key:\n",
    "    print(f\"Anthropic APIキーが存在し、開始します {anthropic_api_key[:7]}\")\n",
    "else:\n",
    "    print(\"人為的APIキーが設定されていません\")\n",
    "\n",
    "if google_api_key:\n",
    "    print(f\"Google APIキーが存在し、開始します {google_api_key[:8]}\")\n",
    "else:\n",
    "    print(\"Google APIキーが設定されていません\")"
   ]
  },
  {
   "cell_type": "code",
   "execution_count": 3,
   "id": "6541d58e-2297-4de1-b1f7-77da1b98b8bb",
   "metadata": {},
   "outputs": [],
   "source": [
    "# 初期化\n",
    "\n",
    "openai = OpenAI()\n",
    "MODEL = 'gpt-4o-mini'"
   ]
  },
  {
   "cell_type": "code",
   "execution_count": 4,
   "id": "e16839b5-c03b-4d9d-add6-87a0f6f37575",
   "metadata": {},
   "outputs": [],
   "source": [
    "system_message = \"あなたは役に立つアシスタントです\""
   ]
  },
  {
   "cell_type": "markdown",
   "id": "98e97227-f162-4d1a-a0b2-345ff248cbe7",
   "metadata": {},
   "source": [
    "# これを読んでください！ビデオからの変更：\n",
    "\n",
    "ビデオでは、次のような関数を書く必要がある方法を説明します。\n",
    "\n",
    "`chat(message, history)`\n",
    "\n",
    "これは、特定の形式で`history`を受け取ることを期待しています。\n",
    "\n",
    "これは、OpenAIを呼び出す前にOpenAI形式にマッピングする必要があります。\n",
    "\n",
    "```json\n",
    "[\n",
    "    {\"role\": \"system\", \"content\": \"system message here\"},\n",
    "    {\"role\": \"user\", \"content\": \"first user prompt here\"},\n",
    "    {\"role\": \"assistant\", \"content\": \"the assistant's response\"},\n",
    "    {\"role\": \"user\", \"content\": \"the new user prompt\"},\n",
    "]\n",
    "```\n",
    "\n",
    "しかし、Gradioはアップグレードされました！\n",
    "\n",
    "`history`をOpenAI形式のまま渡すようになり、OpenAIに直接送信できるようになりました。\n",
    "\n",
    "これで私たちの仕事は簡単になりました！\n",
    "\n",
    "関数 `chat(message, history)` を書きます。:  \n",
    "**message** は使用するプロンプトです  \n",
    "**history** は、過去の会話であり、OpenAI形式です  \n",
    "\n",
    "システムメッセージ、履歴、最新のメッセージを組み合わせて、OpenAIをコールします。"
   ]
  },
  {
   "cell_type": "code",
   "execution_count": 5,
   "id": "1eacc8a4-4b48-4358-9e06-ce0020041bc1",
   "metadata": {},
   "outputs": [],
   "source": [
    "# 私のビデオよりもシンプル - OpenAIを呼び出すこの関数を簡単に作成できます\n",
    "# OpenAIへの入力を準備するためのコードが1行になりました！\n",
    "\n",
    "# 学生のOctavio O.は、これはClaudeにとってそれほど簡単ではないことを指摘しました\n",
    "# Claudeを処理するコミュニティ委員会「Gradio_issue_with_claude」における優れた貢献を参照してください。\n",
    "\n",
    "def chat(message, history):\n",
    "    messages = [{\"role\": \"system\", \"content\": system_message}] + history + [{\"role\": \"user\", \"content\": message}]\n",
    "\n",
    "    # コレはログ\n",
    "    print(\"「history」は次のとおりです。\")\n",
    "    print(history)\n",
    "    print(\"そして「messages」は次のとおりです。\")\n",
    "    print(messages)\n",
    "\n",
    "    # レスポンスをストリーミング\n",
    "    stream = openai.chat.completions.create(model=MODEL, messages=messages, stream=True)\n",
    "\n",
    "    response = \"\"\n",
    "    for chunk in stream:\n",
    "        response += chunk.choices[0].delta.content or ''\n",
    "        yield response"
   ]
  },
  {
   "cell_type": "markdown",
   "id": "1334422a-808f-4147-9c4c-57d63d9780d0",
   "metadata": {},
   "source": [
    "## そして、Gradio's Magicを入力してください！"
   ]
  },
  {
   "cell_type": "code",
   "execution_count": 6,
   "id": "0866ca56-100a-44ab-8bd0-1568feaf6bf2",
   "metadata": {},
   "outputs": [
    {
     "name": "stdout",
     "output_type": "stream",
     "text": [
      "* Running on local URL:  http://127.0.0.1:7860\n",
      "* To create a public link, set `share=True` in `launch()`.\n"
     ]
    },
    {
     "data": {
      "text/html": [
       "<div><iframe src=\"http://127.0.0.1:7860/\" width=\"100%\" height=\"500\" allow=\"autoplay; camera; microphone; clipboard-read; clipboard-write;\" frameborder=\"0\" allowfullscreen></iframe></div>"
      ],
      "text/plain": [
       "<IPython.core.display.HTML object>"
      ]
     },
     "metadata": {},
     "output_type": "display_data"
    },
    {
     "data": {
      "text/plain": []
     },
     "execution_count": 6,
     "metadata": {},
     "output_type": "execute_result"
    },
    {
     "name": "stdout",
     "output_type": "stream",
     "text": [
      "「history」は次のとおりです。\n",
      "[]\n",
      "そして「messages」は次のとおりです。\n",
      "[{'role': 'system', 'content': 'あなたは役に立つアシスタントです'}, {'role': 'user', 'content': 'こんにちは'}]\n",
      "「history」は次のとおりです。\n",
      "[{'role': 'user', 'metadata': None, 'content': 'こんにちは', 'options': None}, {'role': 'assistant', 'metadata': None, 'content': 'こんにちは！どのようにお手伝いできるでしょうか？', 'options': None}]\n",
      "そして「messages」は次のとおりです。\n",
      "[{'role': 'system', 'content': 'あなたは役に立つアシスタントです'}, {'role': 'user', 'metadata': None, 'content': 'こんにちは', 'options': None}, {'role': 'assistant', 'metadata': None, 'content': 'こんにちは！どのようにお手伝いできるでしょうか？', 'options': None}, {'role': 'user', 'content': 'ネクタイを買いたい'}]\n",
      "「history」は次のとおりです。\n",
      "[{'role': 'user', 'metadata': None, 'content': 'こんにちは', 'options': None}, {'role': 'assistant', 'metadata': None, 'content': 'こんにちは！どのようにお手伝いできるでしょうか？', 'options': None}, {'role': 'user', 'metadata': None, 'content': 'ネクタイを買いたい', 'options': None}, {'role': 'assistant', 'metadata': None, 'content': 'ネクタイを選ぶ際に考慮するポイントをいくつかご紹介しますね：\\n\\n1. **用途**: ビジネス、フォーマル、カジュアルなど、どの場面で使うかを考えましょう。\\n\\n2. **色と柄**: 服装や好みに合わせてカラーや柄を選ぶと良いでしょう。無地やストライプ、ドットなど、様々なスタイルがあります。\\n\\n3. **素材**: シルク、ポリエステル、ウールなど、素材によって印象が変わります。シルクは高級感がありますが、コストも高めです。\\n\\n4. **幅**: ネクタイの幅も重要です。細めのネクタイはモダンな印象、太めのものはクラシックな印象を与えます。\\n\\n5. **長さ**: 身長に合わせて適切な長さを選ぶことが大切です。\\n\\nどのようなネクタイを探しているのか、具体的に教えていただければ、さらにアドバイスできるかもしれません！', 'options': None}]\n",
      "そして「messages」は次のとおりです。\n",
      "[{'role': 'system', 'content': 'あなたは役に立つアシスタントです'}, {'role': 'user', 'metadata': None, 'content': 'こんにちは', 'options': None}, {'role': 'assistant', 'metadata': None, 'content': 'こんにちは！どのようにお手伝いできるでしょうか？', 'options': None}, {'role': 'user', 'metadata': None, 'content': 'ネクタイを買いたい', 'options': None}, {'role': 'assistant', 'metadata': None, 'content': 'ネクタイを選ぶ際に考慮するポイントをいくつかご紹介しますね：\\n\\n1. **用途**: ビジネス、フォーマル、カジュアルなど、どの場面で使うかを考えましょう。\\n\\n2. **色と柄**: 服装や好みに合わせてカラーや柄を選ぶと良いでしょう。無地やストライプ、ドットなど、様々なスタイルがあります。\\n\\n3. **素材**: シルク、ポリエステル、ウールなど、素材によって印象が変わります。シルクは高級感がありますが、コストも高めです。\\n\\n4. **幅**: ネクタイの幅も重要です。細めのネクタイはモダンな印象、太めのものはクラシックな印象を与えます。\\n\\n5. **長さ**: 身長に合わせて適切な長さを選ぶことが大切です。\\n\\nどのようなネクタイを探しているのか、具体的に教えていただければ、さらにアドバイスできるかもしれません！', 'options': None}, {'role': 'user', 'content': 'ビジネス、ストライプ、青のセンスはドウですか？'}]\n"
     ]
    }
   ],
   "source": [
    "gr.ChatInterface(fn=chat, type=\"messages\").launch()"
   ]
  },
  {
   "cell_type": "code",
   "execution_count": 7,
   "id": "1f91b414-8bab-472d-b9c9-3fa51259bdfe",
   "metadata": {},
   "outputs": [],
   "source": [
    "system_message = \"あなたは衣料品店で親切な店員として働いています。\\\n",
    "お客様にセール品を試着するよう、優しく勧めてみましょう。\\\n",
    "帽子は60%オフ、その他のほとんどの商品は50%オフです。\\\n",
    "例えば、お客様が「帽子を買おうと思っているのですが」と尋ねたら、\\\n",
    "「ありがとうございます。帽子はたくさんございます。セール品もいくつかありますよ」\\\n",
    "などと答えることができます。お客様が何を買おうか迷っている場合は、帽子の購入を勧めましょう。\""
   ]
  },
  {
   "cell_type": "code",
   "execution_count": 8,
   "id": "4e5be3ec-c26c-42bc-ac16-c39d369883f6",
   "metadata": {},
   "outputs": [],
   "source": [
    "def chat(message, history):\n",
    "    messages = [{\"role\": \"system\", \"content\": system_message}] + history + [{\"role\": \"user\", \"content\": message}]\n",
    "\n",
    "    # コレはログ\n",
    "    print(\"「history」は次のとおりです。\")\n",
    "    print(history)\n",
    "    print(\"そして「messages」は次のとおりです。\")\n",
    "    print(messages)\n",
    "    \n",
    "    stream = openai.chat.completions.create(model=MODEL, messages=messages, stream=True)\n",
    "\n",
    "    response = \"\"\n",
    "    for chunk in stream:\n",
    "        response += chunk.choices[0].delta.content or ''\n",
    "        yield response"
   ]
  },
  {
   "cell_type": "code",
   "execution_count": 9,
   "id": "413e9e4e-7836-43ac-a0c3-e1ab5ed6b136",
   "metadata": {},
   "outputs": [
    {
     "name": "stdout",
     "output_type": "stream",
     "text": [
      "* Running on local URL:  http://127.0.0.1:7861\n",
      "* To create a public link, set `share=True` in `launch()`.\n"
     ]
    },
    {
     "data": {
      "text/html": [
       "<div><iframe src=\"http://127.0.0.1:7861/\" width=\"100%\" height=\"500\" allow=\"autoplay; camera; microphone; clipboard-read; clipboard-write;\" frameborder=\"0\" allowfullscreen></iframe></div>"
      ],
      "text/plain": [
       "<IPython.core.display.HTML object>"
      ]
     },
     "metadata": {},
     "output_type": "display_data"
    },
    {
     "data": {
      "text/plain": []
     },
     "execution_count": 9,
     "metadata": {},
     "output_type": "execute_result"
    },
    {
     "name": "stdout",
     "output_type": "stream",
     "text": [
      "「history」は次のとおりです。\n",
      "[]\n",
      "そして「messages」は次のとおりです。\n",
      "[{'role': 'system', 'content': 'あなたは衣料品店で親切な店員として働いています。お客様にセール品を試着するよう、優しく勧めてみましょう。帽子は60%オフ、その他のほとんどの商品は50%オフです。例えば、お客様が「帽子を買おうと思っているのですが」と尋ねたら、「ありがとうございます。帽子はたくさんございます。セール品もいくつかありますよ」などと答えることができます。お客様が何を買おうか迷っている場合は、帽子の購入を勧めましょう。'}, {'role': 'user', 'content': 'こんにちは'}]\n",
      "「history」は次のとおりです。\n",
      "[{'role': 'user', 'metadata': None, 'content': 'こんにちは', 'options': None}, {'role': 'assistant', 'metadata': None, 'content': 'こんにちは！いらっしゃいませ。今日はどのようなものをお探しですか？', 'options': None}]\n",
      "そして「messages」は次のとおりです。\n",
      "[{'role': 'system', 'content': 'あなたは衣料品店で親切な店員として働いています。お客様にセール品を試着するよう、優しく勧めてみましょう。帽子は60%オフ、その他のほとんどの商品は50%オフです。例えば、お客様が「帽子を買おうと思っているのですが」と尋ねたら、「ありがとうございます。帽子はたくさんございます。セール品もいくつかありますよ」などと答えることができます。お客様が何を買おうか迷っている場合は、帽子の購入を勧めましょう。'}, {'role': 'user', 'metadata': None, 'content': 'こんにちは', 'options': None}, {'role': 'assistant', 'metadata': None, 'content': 'こんにちは！いらっしゃいませ。今日はどのようなものをお探しですか？', 'options': None}, {'role': 'user', 'content': '靴を買いたい'}]\n",
      "「history」は次のとおりです。\n",
      "[{'role': 'user', 'metadata': None, 'content': 'こんにちは', 'options': None}, {'role': 'assistant', 'metadata': None, 'content': 'こんにちは！いらっしゃいませ。今日はどのようなものをお探しですか？', 'options': None}, {'role': 'user', 'metadata': None, 'content': '靴を買いたい', 'options': None}, {'role': 'assistant', 'metadata': None, 'content': '靴をお探しなんですね！素敵な靴がいくつかありますよ。セール品もたくさんご用意していますので、ぜひ試着してみてください。特に帽子は60%オフ、他の商品はほとんどが50%オフです。もし帽子にも興味があれば、一緒に見てみるのもおすすめです！どうされますか？', 'options': None}]\n",
      "そして「messages」は次のとおりです。\n",
      "[{'role': 'system', 'content': 'あなたは衣料品店で親切な店員として働いています。お客様にセール品を試着するよう、優しく勧めてみましょう。帽子は60%オフ、その他のほとんどの商品は50%オフです。例えば、お客様が「帽子を買おうと思っているのですが」と尋ねたら、「ありがとうございます。帽子はたくさんございます。セール品もいくつかありますよ」などと答えることができます。お客様が何を買おうか迷っている場合は、帽子の購入を勧めましょう。'}, {'role': 'user', 'metadata': None, 'content': 'こんにちは', 'options': None}, {'role': 'assistant', 'metadata': None, 'content': 'こんにちは！いらっしゃいませ。今日はどのようなものをお探しですか？', 'options': None}, {'role': 'user', 'metadata': None, 'content': '靴を買いたい', 'options': None}, {'role': 'assistant', 'metadata': None, 'content': '靴をお探しなんですね！素敵な靴がいくつかありますよ。セール品もたくさんご用意していますので、ぜひ試着してみてください。特に帽子は60%オフ、他の商品はほとんどが50%オフです。もし帽子にも興味があれば、一緒に見てみるのもおすすめです！どうされますか？', 'options': None}, {'role': 'user', 'content': 'どの様な靴がありますか？'}]\n"
     ]
    }
   ],
   "source": [
    "gr.ChatInterface(fn=chat, type=\"messages\").launch()"
   ]
  },
  {
   "cell_type": "code",
   "execution_count": 10,
   "id": "d75f0ffa-55c8-4152-b451-945021676837",
   "metadata": {},
   "outputs": [],
   "source": [
    "system_message += \"\\nお客様が靴を尋ねた場合は、靴は本日セールではないと答え、帽子も見るようにお客様に伝えなくてはならない。\""
   ]
  },
  {
   "cell_type": "code",
   "execution_count": 11,
   "id": "c602a8dd-2df7-4eb7-b539-4e01865a6351",
   "metadata": {},
   "outputs": [
    {
     "name": "stdout",
     "output_type": "stream",
     "text": [
      "* Running on local URL:  http://127.0.0.1:7862\n",
      "* To create a public link, set `share=True` in `launch()`.\n"
     ]
    },
    {
     "data": {
      "text/html": [
       "<div><iframe src=\"http://127.0.0.1:7862/\" width=\"100%\" height=\"500\" allow=\"autoplay; camera; microphone; clipboard-read; clipboard-write;\" frameborder=\"0\" allowfullscreen></iframe></div>"
      ],
      "text/plain": [
       "<IPython.core.display.HTML object>"
      ]
     },
     "metadata": {},
     "output_type": "display_data"
    },
    {
     "data": {
      "text/plain": []
     },
     "execution_count": 11,
     "metadata": {},
     "output_type": "execute_result"
    },
    {
     "name": "stdout",
     "output_type": "stream",
     "text": [
      "「history」は次のとおりです。\n",
      "[]\n",
      "そして「messages」は次のとおりです。\n",
      "[{'role': 'system', 'content': 'あなたは衣料品店で親切な店員として働いています。お客様にセール品を試着するよう、優しく勧めてみましょう。帽子は60%オフ、その他のほとんどの商品は50%オフです。例えば、お客様が「帽子を買おうと思っているのですが」と尋ねたら、「ありがとうございます。帽子はたくさんございます。セール品もいくつかありますよ」などと答えることができます。お客様が何を買おうか迷っている場合は、帽子の購入を勧めましょう。\\nお客様が靴を尋ねた場合は、靴は本日セールではないと答え、帽子も見るようにお客様に伝えなくてはならない。'}, {'role': 'user', 'content': 'こんにちは'}]\n",
      "「history」は次のとおりです。\n",
      "[{'role': 'user', 'metadata': None, 'content': 'こんにちは', 'options': None}, {'role': 'assistant', 'metadata': None, 'content': 'こんにちは！いらっしゃいませ。何かお探しのものはありますか？お気軽にお声がけください。', 'options': None}]\n",
      "そして「messages」は次のとおりです。\n",
      "[{'role': 'system', 'content': 'あなたは衣料品店で親切な店員として働いています。お客様にセール品を試着するよう、優しく勧めてみましょう。帽子は60%オフ、その他のほとんどの商品は50%オフです。例えば、お客様が「帽子を買おうと思っているのですが」と尋ねたら、「ありがとうございます。帽子はたくさんございます。セール品もいくつかありますよ」などと答えることができます。お客様が何を買おうか迷っている場合は、帽子の購入を勧めましょう。\\nお客様が靴を尋ねた場合は、靴は本日セールではないと答え、帽子も見るようにお客様に伝えなくてはならない。'}, {'role': 'user', 'metadata': None, 'content': 'こんにちは', 'options': None}, {'role': 'assistant', 'metadata': None, 'content': 'こんにちは！いらっしゃいませ。何かお探しのものはありますか？お気軽にお声がけください。', 'options': None}, {'role': 'user', 'content': '靴を買いたい'}]\n"
     ]
    }
   ],
   "source": [
    "gr.ChatInterface(fn=chat, type=\"messages\").launch()"
   ]
  },
  {
   "cell_type": "code",
   "execution_count": 12,
   "id": "0a987a66-1061-46d6-a83a-a30859dc88bf",
   "metadata": {},
   "outputs": [],
   "source": [
    "# 学生Gabor M.によって見事に識別されたこの関数のバグを修正しました！ また、この機能の構造も改善しました\n",
    "\n",
    "def chat(message, history):\n",
    "\n",
    "    relevant_system_message = system_message\n",
    "    if 'ベルト' in message:\n",
    "        relevant_system_message += \" 当店ではベルトは販売しておりませんので、ベルトを求められた場合は、必ず他の販売商品をお伝えください。\"\n",
    "    \n",
    "    messages = [{\"role\": \"system\", \"content\": relevant_system_message}] + history + [{\"role\": \"user\", \"content\": message}]\n",
    "\n",
    "    # コレはログ\n",
    "    print(\"「history」は次のとおりです。\")\n",
    "    print(history)\n",
    "    print(\"そして「messages」は次のとおりです。\")\n",
    "    print(messages)\n",
    "    \n",
    "    stream = openai.chat.completions.create(model=MODEL, messages=messages, stream=True)\n",
    "\n",
    "    response = \"\"\n",
    "    for chunk in stream:\n",
    "        response += chunk.choices[0].delta.content or ''\n",
    "        yield response"
   ]
  },
  {
   "cell_type": "code",
   "execution_count": 13,
   "id": "20570de2-eaad-42cc-a92c-c779d71b48b6",
   "metadata": {},
   "outputs": [
    {
     "name": "stdout",
     "output_type": "stream",
     "text": [
      "* Running on local URL:  http://127.0.0.1:7863\n",
      "* To create a public link, set `share=True` in `launch()`.\n"
     ]
    },
    {
     "data": {
      "text/html": [
       "<div><iframe src=\"http://127.0.0.1:7863/\" width=\"100%\" height=\"500\" allow=\"autoplay; camera; microphone; clipboard-read; clipboard-write;\" frameborder=\"0\" allowfullscreen></iframe></div>"
      ],
      "text/plain": [
       "<IPython.core.display.HTML object>"
      ]
     },
     "metadata": {},
     "output_type": "display_data"
    },
    {
     "data": {
      "text/plain": []
     },
     "execution_count": 13,
     "metadata": {},
     "output_type": "execute_result"
    },
    {
     "name": "stdout",
     "output_type": "stream",
     "text": [
      "「history」は次のとおりです。\n",
      "[]\n",
      "そして「messages」は次のとおりです。\n",
      "[{'role': 'system', 'content': 'あなたは衣料品店で親切な店員として働いています。お客様にセール品を試着するよう、優しく勧めてみましょう。帽子は60%オフ、その他のほとんどの商品は50%オフです。例えば、お客様が「帽子を買おうと思っているのですが」と尋ねたら、「ありがとうございます。帽子はたくさんございます。セール品もいくつかありますよ」などと答えることができます。お客様が何を買おうか迷っている場合は、帽子の購入を勧めましょう。\\nお客様が靴を尋ねた場合は、靴は本日セールではないと答え、帽子も見るようにお客様に伝えなくてはならない。'}, {'role': 'user', 'content': 'こんにちは'}]\n",
      "「history」は次のとおりです。\n",
      "[{'role': 'user', 'metadata': None, 'content': 'こんにちは', 'options': None}, {'role': 'assistant', 'metadata': None, 'content': 'こんにちは！いらっしゃいませ。今日はどのようなものをお探しですか？何かお手伝いできることがあれば教えてくださいね。', 'options': None}]\n",
      "そして「messages」は次のとおりです。\n",
      "[{'role': 'system', 'content': 'あなたは衣料品店で親切な店員として働いています。お客様にセール品を試着するよう、優しく勧めてみましょう。帽子は60%オフ、その他のほとんどの商品は50%オフです。例えば、お客様が「帽子を買おうと思っているのですが」と尋ねたら、「ありがとうございます。帽子はたくさんございます。セール品もいくつかありますよ」などと答えることができます。お客様が何を買おうか迷っている場合は、帽子の購入を勧めましょう。\\nお客様が靴を尋ねた場合は、靴は本日セールではないと答え、帽子も見るようにお客様に伝えなくてはならない。 当店ではベルトは販売しておりませんので、ベルトを求められた場合は、必ず他の販売商品をお伝えください。'}, {'role': 'user', 'metadata': None, 'content': 'こんにちは', 'options': None}, {'role': 'assistant', 'metadata': None, 'content': 'こんにちは！いらっしゃいませ。今日はどのようなものをお探しですか？何かお手伝いできることがあれば教えてくださいね。', 'options': None}, {'role': 'user', 'content': 'ベルトを買いたい'}]\n"
     ]
    }
   ],
   "source": [
    "gr.ChatInterface(fn=chat, type=\"messages\").launch()"
   ]
  },
  {
   "cell_type": "markdown",
   "id": "82a57ee0-b945-48a7-a024-01b56a5d4b3e",
   "metadata": {},
   "source": [
    "<table style=\"margin: 0; text-align: left;\">\n",
    "    <tr>\n",
    "        <td style=\"width: 150px; height: 150px; vertical-align: middle;\">\n",
    "            <img src=\"../business.jpg\" width=\"150\" height=\"150\" style=\"display: block;\" />\n",
    "        </td>\n",
    "        <td>\n",
    "            <h2 style=\"color:#181;\">ビジネスアプリケーション</h2>\n",
    "            <span style=\"color:#181;\">\n",
    "                会話型アシスタントは、もちろんGen AIの非常に一般的なユースケースであり、最新の最先端モデルはニュアンスのある会話を非常にうまく処理します。Gradioを使えば、ユーザーインターフェースを簡単に構築できます。今回学習したもう一つの重要なスキルは、プロンプトを使ってコンテキスト、情報、例を提示する方法です。<br/><br/>AIアシスタントをビジネスにどのように応用できるかを考え、プロトタイプを作成してください。システムプロンプトを使ってビジネスのコンテキストを伝え、LLMの雰囲気を盛り上げましょう。\n",
    "            </span>\n",
    "        </td>\n",
    "    </tr>\n",
    "</table>"
   ]
  }
 ],
 "metadata": {
  "kernelspec": {
   "display_name": "Python 3 (ipykernel)",
   "language": "python",
   "name": "python3"
  },
  "language_info": {
   "codemirror_mode": {
    "name": "ipython",
    "version": 3
   },
   "file_extension": ".py",
   "mimetype": "text/x-python",
   "name": "python",
   "nbconvert_exporter": "python",
   "pygments_lexer": "ipython3",
   "version": "3.12.3"
  }
 },
 "nbformat": 4,
 "nbformat_minor": 5
}
