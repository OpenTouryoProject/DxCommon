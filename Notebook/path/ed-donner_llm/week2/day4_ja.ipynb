{
  "cells": [
    {
      "cell_type": "markdown",
      "id": "ddfa9ae6-69fe-444a-b994-8c4c5970a7ec",
      "metadata": {},
      "source": [
        "# プロジェクト - 航空会社AIアシスタント\n",
        "\n",
        "航空会社のAIカスタマーサポートアシスタントを作成するために学んだことをまとめます"
      ]
    },
    {
      "cell_type": "code",
      "execution_count": null,
      "id": "8b50bbe2-c0b1-49c3-9a5c-1ba7efa2bcb4",
      "metadata": {},
      "outputs": [],
      "source": [
        "# 輸入\n",
        "\n",
        "import os\n",
        "import json\n",
        "from dotenv import load_dotenv\n",
        "from openai import OpenAI\n",
        "import gradio as gr"
      ]
    },
    {
      "cell_type": "code",
      "execution_count": null,
      "id": "747e8786-9da8-4342-b6c9-f5f69c2e22ae",
      "metadata": {},
      "outputs": [],
      "source": [
        "# 初期化\n",
        "\n",
        "load_dotenv(override=True)\n",
        "\n",
        "openai_api_key = os.getenv('OPENAI_API_KEY')\n",
        "if openai_api_key:\n",
        "    print(f\"OpenAI API Key exists and begins {openai_api_key[:8]}\")\n",
        "else:\n",
        "    print(\"Openai APIキーが設定されていません\")\n",
        "    \n",
        "MODEL = \"gpt-4o-mini\"\n",
        "openai = OpenAI()\n",
        "\n",
        "# 別の方法として、Openaiの代わりにOllamaを使用したい場合\n",
        "# Ollamaが地元で走っていることを確認してください（Week1/day2エクササイズを参照）、次の2行の発見を解消します\n",
        "# Model = \"llama3.2\"\n",
        "# openai = openai（base_url = 'http：// localhost：11434/v1'、api_key = 'ollama'）\n"
      ]
    },
    {
      "cell_type": "code",
      "execution_count": null,
      "id": "0a521d84-d07c-49ab-a0df-d6451499ed97",
      "metadata": {},
      "outputs": [],
      "source": [
        "system_message = \"You are a helpful assistant for an Airline called FlightAI. \"\n",
        "system_message += \"Give short, courteous answers, no more than 1 sentence. \"\n",
        "system_message += \"Always be accurate. If you don't know the answer, say so.\""
      ]
    },
    {
      "cell_type": "code",
      "execution_count": null,
      "id": "61a2a15d-b559-4844-b377-6bd5cb4949f6",
      "metadata": {},
      "outputs": [],
      "source": [
        "# この関数は、最新のグラデーションアップデートを利用しているため、私のビデオの機能よりもかなりシンプルに見えます。\n",
        "\n",
        "def chat(message, history):\n",
        "    messages = [{\"role\": \"system\", \"content\": system_message}] + history + [{\"role\": \"user\", \"content\": message}]\n",
        "    response = openai.chat.completions.create(model=MODEL, messages=messages)\n",
        "    return response.choices[0].message.content\n",
        "\n",
        "gr.ChatInterface(fn=chat, type=\"messages\").launch()"
      ]
    },
    {
      "cell_type": "markdown",
      "id": "36bedabf-a0a7-4985-ad8e-07ed6a55a3a4",
      "metadata": {},
      "source": [
        "## ツール\n",
        "\n",
        "ツールは、フロンティアLLMSが提供する非常に強力な機能です。\n",
        "\n",
        "ツールを使用すると、関数を記述し、LLMにその機能をその応答の一部として呼び出すことができます。\n",
        "\n",
        "ほとんど不気味に聞こえます。マシンでコードを実行する力を与えていますか？\n",
        "\n",
        "まあ、ちょっと。"
      ]
    },
    {
      "cell_type": "code",
      "execution_count": null,
      "id": "0696acb1-0b05-4dc2-80d5-771be04f1fb2",
      "metadata": {},
      "outputs": [],
      "source": [
        "# 役立つ機能を作成することから始めましょう\n",
        "\n",
        "ticket_prices = {\"london\": \"$799\", \"paris\": \"$899\", \"tokyo\": \"$1400\", \"berlin\": \"$499\"}\n",
        "\n",
        "def get_ticket_price(destination_city):\n",
        "    print(f\"Tool get_ticket_price called for {destination_city}\")\n",
        "    city = destination_city.lower()\n",
        "    return ticket_prices.get(city, \"Unknown\")"
      ]
    },
    {
      "cell_type": "code",
      "execution_count": null,
      "id": "80ca4e09-6287-4d3f-997d-fa6afbcf6c85",
      "metadata": {},
      "outputs": [],
      "source": [
        "get_ticket_price(\"Berlin\")"
      ]
    },
    {
      "cell_type": "code",
      "execution_count": null,
      "id": "4afceded-7178-4c05-8fa6-9f2085e6a344",
      "metadata": {},
      "outputs": [],
      "source": [
        "# 私たちの機能を説明するために必要な特定の辞書構造があります。\n",
        "\n",
        "price_function = {\n",
        "    \"name\": \"get_ticket_price\",\n",
        "    \"description\": \"Get the price of a return ticket to the destination city. Call this whenever you need to know the ticket price, for example when a customer asks 'How much is a ticket to this city'\",\n",
        "    \"parameters\": {\n",
        "        \"type\": \"object\",\n",
        "        \"properties\": {\n",
        "            \"destination_city\": {\n",
        "                \"type\": \"string\",\n",
        "                \"description\": \"The city that the customer wants to travel to\",\n",
        "            },\n",
        "        },\n",
        "        \"required\": [\"destination_city\"],\n",
        "        \"additionalProperties\": False\n",
        "    }\n",
        "}"
      ]
    },
    {
      "cell_type": "code",
      "execution_count": null,
      "id": "bdca8679-935f-4e7f-97e6-e71a4d4f228c",
      "metadata": {},
      "outputs": [],
      "source": [
        "# これはツールのリストに含まれています。\n",
        "\n",
        "tools = [{\"type\": \"function\", \"function\": price_function}]"
      ]
    },
    {
      "cell_type": "markdown",
      "id": "c3d3554f-b4e3-4ce7-af6f-68faa6dd2340",
      "metadata": {},
      "source": [
        "## Openaiを取得してツールを使用します\n",
        "\n",
        "Openaiが「私たちのツールを呼び出す」ことを許可するための厄介なものがいくつかあります\n",
        "\n",
        "私たちが実際に行っていることは、LLMにツールを実行することを望んでいることを知らせる機会を与えることです。\n",
        "\n",
        "新しいチャット関数がどのように見えるかは次のとおりです。"
      ]
    },
    {
      "cell_type": "code",
      "execution_count": null,
      "id": "ce9b0744-9c78-408d-b9df-9f6fd9ed78cf",
      "metadata": {},
      "outputs": [],
      "source": [
        "def chat(message, history):\n",
        "    messages = [{\"role\": \"system\", \"content\": system_message}] + history + [{\"role\": \"user\", \"content\": message}]\n",
        "    response = openai.chat.completions.create(model=MODEL, messages=messages, tools=tools)\n",
        "\n",
        "    if response.choices[0].finish_reason==\"tool_calls\":\n",
        "        message = response.choices[0].message\n",
        "        response, city = handle_tool_call(message)\n",
        "        messages.append(message)\n",
        "        messages.append(response)\n",
        "        response = openai.chat.completions.create(model=MODEL, messages=messages)\n",
        "    \n",
        "    return response.choices[0].message.content"
      ]
    },
    {
      "cell_type": "code",
      "execution_count": null,
      "id": "b0992986-ea09-4912-a076-8e5603ee631f",
      "metadata": {},
      "outputs": [],
      "source": [
        "# その関数をhandle_tool_call：書く必要があります：\n",
        "\n",
        "def handle_tool_call(message):\n",
        "    tool_call = message.tool_calls[0]\n",
        "    arguments = json.loads(tool_call.function.arguments)\n",
        "    city = arguments.get('destination_city')\n",
        "    price = get_ticket_price(city)\n",
        "    response = {\n",
        "        \"role\": \"tool\",\n",
        "        \"content\": json.dumps({\"destination_city\": city,\"price\": price}),\n",
        "        \"tool_call_id\": tool_call.id\n",
        "    }\n",
        "    return response, city"
      ]
    },
    {
      "cell_type": "code",
      "execution_count": null,
      "id": "f4be8a71-b19e-4c2f-80df-f59ff2661f14",
      "metadata": {},
      "outputs": [],
      "source": [
        "gr.ChatInterface(fn=chat, type=\"messages\").launch()"
      ]
    }
  ],
  "metadata": {
    "kernelspec": {
      "display_name": "Python 3 (ipykernel)",
      "language": "python",
      "name": "python3"
    },
    "language_info": {
      "codemirror_mode": {
        "name": "ipython",
        "version": 3
      },
      "file_extension": ".py",
      "mimetype": "text/x-python",
      "name": "python",
      "nbconvert_exporter": "python",
      "pygments_lexer": "ipython3",
      "version": "3.11.11"
    }
  },
  "nbformat": 4,
  "nbformat_minor": 5
}