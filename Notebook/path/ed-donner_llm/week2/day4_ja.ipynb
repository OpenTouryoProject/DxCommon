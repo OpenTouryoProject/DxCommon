{
 "cells": [
  {
   "cell_type": "markdown",
   "id": "ddfa9ae6-69fe-444a-b994-8c4c5970a7ec",
   "metadata": {},
   "source": [
    "# プロジェクト - 航空会社AIアシスタント\n",
    "\n",
    "航空会社「FlightAI」のAIカスタマーサポートアシスタントを作成するプロジェクトです。\n",
    "\n",
    "この Jupyter Notebook（week2/day4.ipynb）の内容の概要は以下の通り。\n",
    "\n",
    "主な流れは以下の通りです：\n",
    "\n",
    "1. **OpenAIやGradioなどのライブラリのインポートと初期化**\n",
    "   - OpenAI APIキーの読み込み、モデル（gpt-4o-mini など）の設定が行われています。\n",
    "   - Gradioを使って対話型チャットインターフェースを構築します。\n",
    "\n",
    "2. **システムメッセージの設定**\n",
    "   - アシスタントは「1文で丁寧かつ正確に答える」「分からない場合は正直に伝える」などのルールが与えられています。\n",
    "\n",
    "3. **チャット関数の実装**\n",
    "   - ユーザーからのメッセージと履歴を元にOpenAIのAPIを呼び出し、返答を返します。\n",
    "\n",
    "4. **ツール（関数）連携**\n",
    "   - 「get_ticket_price」という目的地ごとの航空券価格を返す関数を実装しています。\n",
    "   - LLMがこの関数を必要に応じて呼び出せるような仕組み（ツールの記述や登録）を用意しています。\n",
    "\n",
    "5. **ツール呼び出し対応のチャット関数**\n",
    "   - LLMの応答にツール呼び出しが含まれていた場合、自動的に対応する関数を実行し、その結果を基に再度OpenAI APIで回答を生成します。\n",
    "\n",
    "6. **GradioでのチャットUI起動**\n",
    "   - 実際にチャットボットをWebインターフェースで動かせるようになっています。\n",
    "\n",
    "要約すると、「AIカスタマーサポートボットを作成し、ユーザーの質問にAIが答えるだけでなく、必要な場合はプログラムのツール（例：航空券価格取得関数）を自動的に呼び出して、より正確な情報を返す」ことを実践的に学ぶノートブックです。"
   ]
  },
  {
   "cell_type": "code",
   "execution_count": 1,
   "id": "8b50bbe2-c0b1-49c3-9a5c-1ba7efa2bcb4",
   "metadata": {},
   "outputs": [],
   "source": [
    "# import\n",
    "\n",
    "import os\n",
    "import json\n",
    "from dotenv import load_dotenv\n",
    "from openai import OpenAI\n",
    "import gradio as gr"
   ]
  },
  {
   "cell_type": "code",
   "execution_count": 2,
   "id": "747e8786-9da8-4342-b6c9-f5f69c2e22ae",
   "metadata": {},
   "outputs": [
    {
     "name": "stdout",
     "output_type": "stream",
     "text": [
      "OpenAI APIキーが存在し、開始します sk-proj-\n"
     ]
    }
   ],
   "source": [
    "# 初期化\n",
    "\n",
    "load_dotenv(override=True)\n",
    "openai_api_key = os.getenv('OPENAI_API_KEY')\n",
    "\n",
    "if openai_api_key:\n",
    "    print(f\"OpenAI APIキーが存在し、開始します {openai_api_key[:8]}\")\n",
    "else:\n",
    "    print(\"Openai APIキーが設定されていません\")\n",
    "    \n",
    "MODEL = \"gpt-4o-mini\"\n",
    "openai = OpenAI()\n",
    "\n",
    "# 別の方法として、OpenAIの代わりにOllamaを使用したい場合\n",
    "# Ollamaがローカルで走っていることを確認してください\n",
    "# MODEL = \"llama3.2\"\n",
    "# openai = OpenAI(base_url='http://localhost:11434/v1', api_key='ollama')"
   ]
  },
  {
   "cell_type": "code",
   "execution_count": 3,
   "id": "0a521d84-d07c-49ab-a0df-d6451499ed97",
   "metadata": {},
   "outputs": [],
   "source": [
    "system_message = \"あなたはFlightAIという航空会社の親切なアシスタントです。\\\n",
    "1文以内で、簡潔で丁寧な回答をお願いします。常に正確に回答してください。\\\n",
    "わからない場合は、その旨を伝えてください。\""
   ]
  },
  {
   "cell_type": "code",
   "execution_count": 4,
   "id": "61a2a15d-b559-4844-b377-6bd5cb4949f6",
   "metadata": {},
   "outputs": [
    {
     "name": "stdout",
     "output_type": "stream",
     "text": [
      "* Running on local URL:  http://127.0.0.1:7864\n",
      "* To create a public link, set `share=True` in `launch()`.\n"
     ]
    },
    {
     "data": {
      "text/html": [
       "<div><iframe src=\"http://127.0.0.1:7864/\" width=\"100%\" height=\"500\" allow=\"autoplay; camera; microphone; clipboard-read; clipboard-write;\" frameborder=\"0\" allowfullscreen></iframe></div>"
      ],
      "text/plain": [
       "<IPython.core.display.HTML object>"
      ]
     },
     "metadata": {},
     "output_type": "display_data"
    },
    {
     "data": {
      "text/plain": []
     },
     "execution_count": 4,
     "metadata": {},
     "output_type": "execute_result"
    },
    {
     "name": "stdout",
     "output_type": "stream",
     "text": [
      "「history」は次のとおりです。\n",
      "[]\n",
      "そして「messages」は次のとおりです。\n",
      "[{'role': 'system', 'content': 'あなたはFlightAIという航空会社の親切なアシスタントです。1文以内で、簡潔で丁寧な回答をお願いします。常に正確に回答してください。わからない場合は、その旨を伝えてください。'}, {'role': 'user', 'content': 'londonに行きたい'}]\n",
      "「history」は次のとおりです。\n",
      "[{'role': 'user', 'metadata': None, 'content': 'londonに行きたい', 'options': None}, {'role': 'assistant', 'metadata': None, 'content': 'ロンドン行きのフライトについて調査いたしますので、出発地と希望の旅行日を教えてください。', 'options': None}]\n",
      "そして「messages」は次のとおりです。\n",
      "[{'role': 'system', 'content': 'あなたはFlightAIという航空会社の親切なアシスタントです。1文以内で、簡潔で丁寧な回答をお願いします。常に正確に回答してください。わからない場合は、その旨を伝えてください。'}, {'role': 'user', 'metadata': None, 'content': 'londonに行きたい', 'options': None}, {'role': 'assistant', 'metadata': None, 'content': 'ロンドン行きのフライトについて調査いたしますので、出発地と希望の旅行日を教えてください。', 'options': None}, {'role': 'user', 'content': 'parisを明日出発'}]\n",
      "「history」は次のとおりです。\n",
      "[{'role': 'user', 'metadata': None, 'content': 'londonに行きたい', 'options': None}, {'role': 'assistant', 'metadata': None, 'content': 'ロンドン行きのフライトについて調査いたしますので、出発地と希望の旅行日を教えてください。', 'options': None}, {'role': 'user', 'metadata': None, 'content': 'parisを明日出発', 'options': None}, {'role': 'assistant', 'metadata': None, 'content': '明日、パリからロンドンへのフライトは複数ありますので、航空会社や出発時間をお調べしますか？', 'options': None}]\n",
      "そして「messages」は次のとおりです。\n",
      "[{'role': 'system', 'content': 'あなたはFlightAIという航空会社の親切なアシスタントです。1文以内で、簡潔で丁寧な回答をお願いします。常に正確に回答してください。わからない場合は、その旨を伝えてください。'}, {'role': 'user', 'metadata': None, 'content': 'londonに行きたい', 'options': None}, {'role': 'assistant', 'metadata': None, 'content': 'ロンドン行きのフライトについて調査いたしますので、出発地と希望の旅行日を教えてください。', 'options': None}, {'role': 'user', 'metadata': None, 'content': 'parisを明日出発', 'options': None}, {'role': 'assistant', 'metadata': None, 'content': '明日、パリからロンドンへのフライトは複数ありますので、航空会社や出発時間をお調べしますか？', 'options': None}, {'role': 'user', 'content': '1200発'}]\n",
      "「history」は次のとおりです。\n",
      "[{'role': 'user', 'metadata': None, 'content': 'londonに行きたい', 'options': None}, {'role': 'assistant', 'metadata': None, 'content': 'ロンドン行きのフライトについて調査いたしますので、出発地と希望の旅行日を教えてください。', 'options': None}, {'role': 'user', 'metadata': None, 'content': 'parisを明日出発', 'options': None}, {'role': 'assistant', 'metadata': None, 'content': '明日、パリからロンドンへのフライトは複数ありますので、航空会社や出発時間をお調べしますか？', 'options': None}, {'role': 'user', 'metadata': None, 'content': '1200発', 'options': None}, {'role': 'assistant', 'metadata': None, 'content': 'パリからロンドンへのフライトは、12:00に発車する便がいくつかありますので、航空券を確認し、予約をお手伝いしますか？', 'options': None}]\n",
      "そして「messages」は次のとおりです。\n",
      "[{'role': 'system', 'content': 'あなたはFlightAIという航空会社の親切なアシスタントです。1文以内で、簡潔で丁寧な回答をお願いします。常に正確に回答してください。わからない場合は、その旨を伝えてください。'}, {'role': 'user', 'metadata': None, 'content': 'londonに行きたい', 'options': None}, {'role': 'assistant', 'metadata': None, 'content': 'ロンドン行きのフライトについて調査いたしますので、出発地と希望の旅行日を教えてください。', 'options': None}, {'role': 'user', 'metadata': None, 'content': 'parisを明日出発', 'options': None}, {'role': 'assistant', 'metadata': None, 'content': '明日、パリからロンドンへのフライトは複数ありますので、航空会社や出発時間をお調べしますか？', 'options': None}, {'role': 'user', 'metadata': None, 'content': '1200発', 'options': None}, {'role': 'assistant', 'metadata': None, 'content': 'パリからロンドンへのフライトは、12:00に発車する便がいくつかありますので、航空券を確認し、予約をお手伝いしますか？', 'options': None}, {'role': 'user', 'content': 'よろしくお願いします'}]\n"
     ]
    }
   ],
   "source": [
    "# この関数は、最新のアップデートを利用しているため、私のビデオの機能よりもかなりシンプルに見えます。\n",
    "\n",
    "def chat(message, history):\n",
    "    messages = [{\"role\": \"system\", \"content\": system_message}] + history + [{\"role\": \"user\", \"content\": message}]\n",
    "\n",
    "    # コレはログ\n",
    "    print(\"「history」は次のとおりです。\")\n",
    "    print(history)\n",
    "    print(\"そして「messages」は次のとおりです。\")\n",
    "    print(messages)\n",
    "    \n",
    "    response = openai.chat.completions.create(model=MODEL, messages=messages)\n",
    "    return response.choices[0].message.content\n",
    "\n",
    "gr.ChatInterface(fn=chat, type=\"messages\").launch()"
   ]
  },
  {
   "cell_type": "markdown",
   "id": "36bedabf-a0a7-4985-ad8e-07ed6a55a3a4",
   "metadata": {},
   "source": [
    "## ツール（Function calling）\n",
    "\n",
    "ツールは、フロンティアLLMSが提供する非常に強力な機能です。\n",
    "\n",
    "ツールを使用すると、関数を記述し、LLMにその機能をその応答の一部として呼び出すことができます。\n",
    "\n",
    "ほとんど不気味に聞こえます。マシンでコードを実行する力を与えていますか？まあ、ちょっと。"
   ]
  },
  {
   "cell_type": "code",
   "execution_count": 5,
   "id": "0696acb1-0b05-4dc2-80d5-771be04f1fb2",
   "metadata": {},
   "outputs": [],
   "source": [
    "# 役立つ機能を作成することから始めましょう\n",
    "\n",
    "ticket_prices = {\"london\": \"$799\", \"paris\": \"$899\", \"tokyo\": \"$1400\", \"berlin\": \"$499\"}\n",
    "\n",
    "def get_ticket_price(destination_city):\n",
    "    print(f\"Tool get_ticket_price called for {destination_city}\")\n",
    "    city = destination_city.lower()\n",
    "    # 辞書 ticket_prices から、指定された都市の料金を取得。辞書にその都市がなければ \"Unknown\" を返す。\n",
    "    return ticket_prices.get(city, \"Unknown\")"
   ]
  },
  {
   "cell_type": "code",
   "execution_count": 6,
   "id": "80ca4e09-6287-4d3f-997d-fa6afbcf6c85",
   "metadata": {},
   "outputs": [
    {
     "name": "stdout",
     "output_type": "stream",
     "text": [
      "Tool get_ticket_price called for Berlin\n"
     ]
    },
    {
     "data": {
      "text/plain": [
       "'$499'"
      ]
     },
     "execution_count": 6,
     "metadata": {},
     "output_type": "execute_result"
    }
   ],
   "source": [
    "get_ticket_price(\"Berlin\")"
   ]
  },
  {
   "cell_type": "code",
   "execution_count": 7,
   "id": "e511d6dd-e81e-47a3-a1d5-ea74379464ab",
   "metadata": {},
   "outputs": [],
   "source": [
    "# 関数を記述するために必要な特定の辞書構造があります。\n",
    "#「Function calling」に関連する「関数の定義」部分\n",
    "#（price_function → get_ticket_price）\n",
    "\n",
    "price_function = {\n",
    "    \"name\": \"get_ticket_price\",\n",
    "    \"description\": \"目的地までの往復航空券の料金を取得します。例えば、顧客から「この都市までの航空券はいくらですか？」と尋ねられたときなど、航空券の料金を知りたいときはいつでもこのメソッドを呼び出します。\",\n",
    "    \"parameters\": {\n",
    "        \"type\": \"object\",\n",
    "        \"properties\": {\n",
    "            \"destination_city\": {\n",
    "                \"type\": \"string\",\n",
    "                \"description\": \"顧客が旅行したい都市\",\n",
    "            },\n",
    "        },\n",
    "        \"required\": [\"destination_city\"],\n",
    "        \"additionalProperties\": False\n",
    "    }\n",
    "}\n",
    "\n",
    "tools = [{\"type\": \"function\", \"function\": price_function}]"
   ]
  },
  {
   "cell_type": "markdown",
   "id": "c3d3554f-b4e3-4ce7-af6f-68faa6dd2340",
   "metadata": {},
   "source": [
    "## OpenAIを取得してツールを使用します\n",
    "\n",
    "OpenAIが「私たちのツールを呼び出す」ことを許可するための厄介なものがいくつかあります\n",
    "\n",
    "私たちが実際に行っていることは、LLMにツールを実行することを望んでいることを知らせる機会を与えることです。\n",
    "\n",
    "新しいチャット関数がどのように見えるかは次のとおりです。"
   ]
  },
  {
   "cell_type": "code",
   "execution_count": 8,
   "id": "ce9b0744-9c78-408d-b9df-9f6fd9ed78cf",
   "metadata": {},
   "outputs": [],
   "source": [
    "def chat(message, history):\n",
    "    messages = [{\"role\": \"system\", \"content\": system_message}] + history + [{\"role\": \"user\", \"content\": message}]\n",
    "\n",
    "    # コレはログ\n",
    "    print(\"「history」は次のとおりです。\")\n",
    "    print(history)\n",
    "    print(\"そして「messages」は次のとおりです。\")\n",
    "    print(messages)\n",
    "    \n",
    "    response = openai.chat.completions.create(model=MODEL, messages=messages, tools=tools)\n",
    "\n",
    "    if response.choices[0].finish_reason==\"tool_calls\": # LLMがtools中のprice_functionを使うべきと判断した場合\n",
    "        message = response.choices[0].message\n",
    "        response, city = handle_tool_call(message)\n",
    "        messages.append(message)\n",
    "        messages.append(response)\n",
    "        response = openai.chat.completions.create(model=MODEL, messages=messages)\n",
    "    \n",
    "    return response.choices[0].message.content"
   ]
  },
  {
   "cell_type": "code",
   "execution_count": 9,
   "id": "b0992986-ea09-4912-a076-8e5603ee631f",
   "metadata": {},
   "outputs": [],
   "source": [
    "# その関数をhandle_tool_call：書く必要があります：\n",
    "\n",
    "def handle_tool_call(message):\n",
    "    print(\"responseがtool_callsの場合の「messages」は次のとおりです。\")\n",
    "    print(message)\n",
    "    tool_call = message.tool_calls[0]\n",
    "    arguments = json.loads(tool_call.function.arguments)\n",
    "    city = arguments.get('destination_city')\n",
    "    \n",
    "    # 本来はレイトバインドで呼び出す。\n",
    "    #price = get_ticket_price(city)\n",
    "    price = globals()[tool_call.function.name](city)\n",
    "    \n",
    "    response = {\n",
    "        \"role\": \"tool\",\n",
    "        \"content\": json.dumps({\"destination_city\": city,\"price\": price}),\n",
    "        \"tool_call_id\": tool_call.id\n",
    "    }\n",
    "    return response, city"
   ]
  },
  {
   "cell_type": "code",
   "execution_count": 10,
   "id": "f4be8a71-b19e-4c2f-80df-f59ff2661f14",
   "metadata": {},
   "outputs": [
    {
     "name": "stdout",
     "output_type": "stream",
     "text": [
      "* Running on local URL:  http://127.0.0.1:7865\n",
      "* To create a public link, set `share=True` in `launch()`.\n"
     ]
    },
    {
     "data": {
      "text/html": [
       "<div><iframe src=\"http://127.0.0.1:7865/\" width=\"100%\" height=\"500\" allow=\"autoplay; camera; microphone; clipboard-read; clipboard-write;\" frameborder=\"0\" allowfullscreen></iframe></div>"
      ],
      "text/plain": [
       "<IPython.core.display.HTML object>"
      ]
     },
     "metadata": {},
     "output_type": "display_data"
    },
    {
     "data": {
      "text/plain": []
     },
     "execution_count": 10,
     "metadata": {},
     "output_type": "execute_result"
    },
    {
     "name": "stdout",
     "output_type": "stream",
     "text": [
      "「history」は次のとおりです。\n",
      "[]\n",
      "そして「messages」は次のとおりです。\n",
      "[{'role': 'system', 'content': 'あなたはFlightAIという航空会社の親切なアシスタントです。1文以内で、簡潔で丁寧な回答をお願いします。常に正確に回答してください。わからない場合は、その旨を伝えてください。'}, {'role': 'user', 'content': 'londonに行きたい'}]\n",
      "responseがtool_callsの場合の「messages」は次のとおりです。\n",
      "ChatCompletionMessage(content=None, refusal=None, role='assistant', annotations=[], audio=None, function_call=None, tool_calls=[ChatCompletionMessageToolCall(id='call_r9rDMAEgcT4fGR7WbbP4f8zh', function=Function(arguments='{\"destination_city\":\"london\"}', name='get_ticket_price'), type='function')])\n",
      "Tool get_ticket_price called for london\n"
     ]
    }
   ],
   "source": [
    "gr.ChatInterface(fn=chat, type=\"messages\").launch()"
   ]
  }
 ],
 "metadata": {
  "kernelspec": {
   "display_name": "Python 3 (ipykernel)",
   "language": "python",
   "name": "python3"
  },
  "language_info": {
   "codemirror_mode": {
    "name": "ipython",
    "version": 3
   },
   "file_extension": ".py",
   "mimetype": "text/x-python",
   "name": "python",
   "nbconvert_exporter": "python",
   "pygments_lexer": "ipython3",
   "version": "3.12.3"
  }
 },
 "nbformat": 4,
 "nbformat_minor": 5
}
