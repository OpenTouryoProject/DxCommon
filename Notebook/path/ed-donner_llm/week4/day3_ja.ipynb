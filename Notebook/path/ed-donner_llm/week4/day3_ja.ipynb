{
 "cells": [
  {
   "cell_type": "markdown",
   "id": "4a6ab9a2-28a2-445d-8512-a0dc8d1b54e9",
   "metadata": {},
   "source": [
    "# コードジェネレーター\n",
    "\n",
    "要件：フロンティアモデルを使用して、Pythonコードから高性能C++コードを生成する\n"
   ]
  },
  {
   "cell_type": "markdown",
   "id": "d5ccb926-7b49-44a4-99ab-8ef20b5778c0",
   "metadata": {},
   "source": [
    "<table style=\"margin: 0; text-align: left;\">\n",
    "    <tr>\n",
    "        <td style=\"width: 150px; height: 150px; vertical-align: middle;\">\n",
    "            <img src=\"../resources.jpg\" width=\"150\" height=\"150\" style=\"display: block;\" />\n",
    "        </td>\n",
    "        <td>\n",
    "            <h2 style=\"color:#f71;\">リマインダー: 最新コードを取得してください</h2>\n",
    "            <span style=\"color:#f71;\">これらのラボは継続的に改善しており、例題や演習を追加しています。毎週初めに、最新のコードを使用していることを確認してください。<br/>\n",
    "            まず、<a href=\"https://chatgpt.com/share/6734e705-3270-8012-a074-421661af6ba9\">git pull を実行し、必要に応じて変更をマージしてください</a>。何か問題がありましたら、ChatGPT にマージ方法を尋ねてみるか、私にご連絡ください。<br/><br/>\n",
    "            コードを pull した後、llm_engineering ディレクトリから Anaconda プロンプト (PC) またはターミナル (Mac) で次のコマンドを実行してください。:<br/>\n",
    "            <code>conda env update --f environment.yml --prune</code><br/>\n",
    "            Anaconda ではなく virtualenv を使用した場合は、Powershell (PC) またはターミナル (Mac) で、有効化した環境から次のコマンドを実行してください。:<br/>\n",
    "            <code>pip install -r requirements.txt</code>\n",
    "            <br/>変更を反映させるため、カーネルを再起動してください (「カーネル」メニュー >> 「カーネルを再起動してすべてのセルの出力をクリア」)。\n",
    "            </span>\n",
    "        </td>\n",
    "    </tr>\n",
    "</table>"
   ]
  },
  {
   "cell_type": "markdown",
   "id": "d90e04a2-5b8a-4fd5-9db8-27c02f033313",
   "metadata": {},
   "source": [
    "<table style=\"margin: 0; text-align: left;\">\n",
    "    <tr>\n",
    "        <td style=\"width: 150px; height: 150px; vertical-align: middle;\">\n",
    "            <img src=\"../important.jpg\" width=\"150\" height=\"150\" style=\"display: block;\" />\n",
    "        </td>\n",
    "        <td>\n",
    "            <h1 style=\"color:#900;\">重要事項</h1>\n",
    "            <span style=\"color:#900;\">\n",
    "            このラボでは、GPT-4oとClaude-3.5-Sonnetを使用しています。これらは少し高価なモデルです。それでもコストは低いですが、コストを極限まで抑えたい場合は、推奨されているモデル（ここから3セル下）への切り替えを行ってください。\n",
    "            </span>\n",
    "        </td>\n",
    "    </tr>\n",
    "</table>"
   ]
  },
  {
   "cell_type": "code",
   "execution_count": 1,
   "id": "e610bf56-a46e-4aff-8de1-ab49d62b1ad3",
   "metadata": {},
   "outputs": [],
   "source": [
    "# import\n",
    "\n",
    "# 基本\n",
    "import os\n",
    "import io\n",
    "import sys\n",
    "import subprocess\n",
    "\n",
    "# WebAPI+Key\n",
    "from dotenv import load_dotenv\n",
    "from openai import OpenAI\n",
    "#import google.generativeai\n",
    "#import anthropic\n",
    "\n",
    "# 出力、WebUI\n",
    "from IPython.display import Markdown, display, update_display\n",
    "import gradio as gr"
   ]
  },
  {
   "cell_type": "code",
   "execution_count": 2,
   "id": "4f672e1c-87e9-4865-b760-370fa605e614",
   "metadata": {},
   "outputs": [],
   "source": [
    "# 環境\n",
    "\n",
    "load_dotenv(override=True)\n",
    "os.environ['OPENAI_API_KEY'] = os.getenv('OPENAI_API_KEY', 'your-key-if-not-using-env')\n",
    "#os.environ['ANTHROPIC_API_KEY'] = os.getenv('ANTHROPIC_API_KEY', 'your-key-if-not-using-env')"
   ]
  },
  {
   "cell_type": "code",
   "execution_count": 3,
   "id": "8aa149ed-9298-4d69-8fe2-8f5de0f667da",
   "metadata": {},
   "outputs": [],
   "source": [
    "# 初期化 - 最後の2行は低コストモデル\n",
    "\n",
    "openai = OpenAI()\n",
    "#claude = anthropic.Anthropic()\n",
    "OPENAI_MODEL = \"gpt-4.1\" # \"gpt-4o\" # コーディングが得意な新モデル「GPT-4.1」\n",
    "#CLAUDE_MODEL = \"claude-3-5-sonnet-20240620\" # コーディングが、かなり得意らしい。\n",
    "\n",
    "# コストを非常に低く保ちたいですか？\n",
    "#（生成コードでコンパイルエラー出るので高コストを使ったほうが良いかも。\n",
    "# OPENAI_MODEL = \"gpt-4o-mini\"\n",
    "# CLAUDE_MODEL = \"claude-3-haiku-20240307\""
   ]
  },
  {
   "cell_type": "code",
   "execution_count": 4,
   "id": "6896636f-923e-4a2c-9d6c-fac07828a201",
   "metadata": {},
   "outputs": [],
   "source": [
    "# system_message\n",
    "system_message = \"You are an assistant that reimplements Python code in high performance C++ for an Ubuntu. \\\n",
    "Respond only with C++ code; use comments sparingly and do not provide any explanation other than occasional comments. \\\n",
    "The C++ response needs to produce an identical output in the fastest possible time.\"\n",
    "# \"あなたは、Ubuntu 向けに高性能 C++ で Python コードを再実装するアシスタントです。\\\n",
    "# C++ コードのみで応答してください。コメントは控えめに使用し、時折コメントする以外は説明は提供しないでください。\\\n",
    "# C++ の応答では、可能な限り最短時間で同一の出力を生成する必要があります。\""
   ]
  },
  {
   "cell_type": "code",
   "execution_count": 5,
   "id": "8e7b3546-57aa-4c29-bc5d-f211970d04eb",
   "metadata": {},
   "outputs": [],
   "source": [
    "# user_prompt\n",
    "def user_prompt_for(python):\n",
    "    user_prompt = \"Rewrite this Python code in C++ with the fastest possible implementation that produces identical output in the least time. \\\n",
    "    Respond only with C++ code; do not explain your work other than a few comments. \\\n",
    "    Pay attention to number types to ensure no int overflows. Remember to #include all necessary C++ packages such as iomanip.\\n\\n\"\n",
    "    # \"このPythonコードを、最短時間で同一の出力を生成する、可能な限り高速な実装でC++に書き直してください。\\\n",
    "    # C++コードのみで回答してください。作業内容については、コメント以外に説明は不要です。\\\n",
    "    # intオーバーフローが発生しないように、数値型に注意してください。iomanipなどの必要なC++パッケージはすべて#includeを忘れないでください。\\n\\n\"\n",
    "    user_prompt += python\n",
    "    return user_prompt"
   ]
  },
  {
   "cell_type": "code",
   "execution_count": 6,
   "id": "c6190659-f54c-4951-bef4-4960f8e51cc4",
   "metadata": {},
   "outputs": [],
   "source": [
    "# messages = system_message + user_prompt_for(x)\n",
    "def messages_for(python):\n",
    "    return [\n",
    "        {\"role\": \"system\", \"content\": system_message},\n",
    "        {\"role\": \"user\", \"content\": user_prompt_for(python)}\n",
    "    ]"
   ]
  },
  {
   "cell_type": "code",
   "execution_count": 7,
   "id": "71e1ba8c-5b05-4726-a9f3-8d8c6257350b",
   "metadata": {},
   "outputs": [],
   "source": [
    "# *.cppファイルに書き込みます\n",
    "def write_output(cpp, name):\n",
    "    code = cpp.replace(\"```cpp\",\"\").replace(\"```\",\"\")\n",
    "    with open(name + \".cpp\", \"w\") as f:\n",
    "        f.write(code)"
   ]
  },
  {
   "cell_type": "code",
   "execution_count": 8,
   "id": "e7d2fea8-74c6-4421-8f1e-0e76d5b201b9",
   "metadata": {},
   "outputs": [],
   "source": [
    "# GPTで最適化された実装（C++）に変換 \n",
    "def optimize_gpt(python, name):    \n",
    "    stream = openai.chat.completions.create(model=OPENAI_MODEL, messages=messages_for(python), stream=True)\n",
    "    reply = \"\"\n",
    "    for chunk in stream:\n",
    "        fragment = chunk.choices[0].delta.content or \"\"\n",
    "        reply += fragment\n",
    "        print(fragment, end='', flush=True)\n",
    "    write_output(reply, \"optimize_gpt_\" + name)"
   ]
  },
  {
   "cell_type": "code",
   "execution_count": null,
   "id": "98e0f817-31ef-4d6d-8249-9a9e83c4ee7f",
   "metadata": {},
   "outputs": [],
   "source": [
    "# Claudeで最適化された実装（C++）に変換\n",
    "def optimize_claude(python, name):\n",
    "    result = claude.messages.stream(\n",
    "        model=CLAUDE_MODEL,\n",
    "        max_tokens=2000,\n",
    "        system=system_message,\n",
    "        messages=[{\"role\": \"user\", \"content\": user_prompt_for(python)}],\n",
    "    )\n",
    "    reply = \"\"\n",
    "    with result as stream:\n",
    "        for text in stream.text_stream:\n",
    "            reply += text\n",
    "            print(text, end=\"\", flush=True)\n",
    "    write_output(reply, \"optimize_claude_\" + name)"
   ]
  },
  {
   "cell_type": "code",
   "execution_count": 9,
   "id": "a1cbb778-fa57-43de-b04b-ed523f396c38",
   "metadata": {},
   "outputs": [],
   "source": [
    "# πの近似計算（数値級数）\n",
    "pi = \"\"\"\n",
    "import time\n",
    "\n",
    "def calculate(iterations, param1, param2):\n",
    "    result = 1.0\n",
    "    for i in range(1, iterations+1):\n",
    "        j = i * param1 - param2\n",
    "        result -= (1/j)\n",
    "        j = i * param1 + param2\n",
    "        result += (1/j)\n",
    "    return result\n",
    "\n",
    "start_time = time.time()\n",
    "result = calculate(100_000_000, 4, 1) * 4\n",
    "end_time = time.time()\n",
    "\n",
    "print(f\"Result: {result:.12f}\")\n",
    "print(f\"Execution Time: {(end_time - start_time):.6f} seconds\")\n",
    "\"\"\""
   ]
  },
  {
   "cell_type": "markdown",
   "id": "c85bae7b-154f-48cf-9ffa-1691af6b8cf0",
   "metadata": {},
   "source": [
    "上記の関数は、実は有名な **π（パイ）を近似する計算**の一種\n",
    "\n",
    "具体的には、次のような級数展開に近い形：\n",
    "\n",
    "$$\n",
    "\\pi = 4 \\left(1 - \\frac{1}{3} + \\frac{1}{5} - \\frac{1}{7} + \\dots\\right)\n",
    "$$\n",
    "\n",
    "ただしこのコードでは、以下の形に似ています：\n",
    "$$\n",
    "\\sum_{i=1}^{\\infty} \\left( \\frac{1}{4i - 3} - \\frac{1}{4i - 1} \\right)\n",
    "$$"
   ]
  },
  {
   "cell_type": "code",
   "execution_count": 10,
   "id": "7fe1cd4b-d2c5-4303-afed-2115a3fef200",
   "metadata": {},
   "outputs": [
    {
     "name": "stdout",
     "output_type": "stream",
     "text": [
      "Result: 3.141592658589\n",
      "Execution Time: 24.583790 seconds\n"
     ]
    }
   ],
   "source": [
    "# pythonを実行（危険なのでユーザ入力を持っていかないように）\n",
    "exec(pi)"
   ]
  },
  {
   "cell_type": "code",
   "execution_count": 11,
   "id": "105db6f9-343c-491d-8e44-3a5328b81719",
   "metadata": {},
   "outputs": [
    {
     "name": "stdout",
     "output_type": "stream",
     "text": [
      "#include <iostream>\n",
      "#include <iomanip>\n",
      "#include <chrono>\n",
      "\n",
      "int main() {\n",
      "    using namespace std;\n",
      "    using namespace chrono;\n",
      "\n",
      "    const int iterations = 100000000;\n",
      "    const int param1 = 4;\n",
      "    const int param2 = 1;\n",
      "    double result = 1.0;\n",
      "\n",
      "    auto start = high_resolution_clock::now();\n",
      "\n",
      "    for (int i = 1; i <= iterations; ++i) {\n",
      "        double j1 = static_cast<double>(i) * param1 - param2;\n",
      "        result -= (1.0 / j1);\n",
      "        double j2 = static_cast<double>(i) * param1 + param2;\n",
      "        result += (1.0 / j2);\n",
      "    }\n",
      "\n",
      "    result *= 4.0;\n",
      "\n",
      "    auto end = high_resolution_clock::now();\n",
      "    double elapsed = duration_cast<duration<double>>(end - start).count();\n",
      "\n",
      "    cout << fixed << setprecision(12);\n",
      "    cout << \"Result: \" << result << endl;\n",
      "    cout << \"Execution Time: \" << setprecision(6) << elapsed << \" seconds\" << endl;\n",
      "    return 0;\n",
      "}"
     ]
    }
   ],
   "source": [
    "# GPTでPythonをC++に変換してファイルに保存\n",
    "optimize_gpt(pi, \"pi\")"
   ]
  },
  {
   "cell_type": "markdown",
   "id": "bf8f8018-f64d-425c-a0e1-d7862aa9592d",
   "metadata": {},
   "source": [
    "# C++をコンパイルして実行\n",
    "この次のセルには、Ubuntu に C++ ファイルをコンパイルするコマンドが含まれています。  \n",
    "`optimized.cpp`を`optimized`と呼ばれる実行可能ファイルにコンパイルします  \n",
    "次に`optimized`と呼ばれるプログラムを実行します。\n",
    "\n",
    "次のラボ（4日目）では、学生がMac、PC、Linuxの効率的なコードにコンパイルする完全なソリューションを提供しました！\n",
    "\n",
    "これを待つことができます。または、プラットフォームでこれを行う方法についてGoogle（またはChatGpt！）を使用してから、以下の行を交換できます。\n",
    "このステップに慣れていない場合は、確かにスキップできます。Macでどのように機能するかを正確に示します。\n",
    "\n",
    "代わりに：学生Sandeep K.G. PythonとC++コードをオンラインで実行して、そのようにテストできることを指摘しています。ありがとうSandeep！ \n",
    "\n",
    "> 正確な比較ではありませんが、パフォーマンスの違いのアイデアを得ることができます。  \n",
    "> Online C++ compilerの例: https://www.programiz.com/cpp-programming/online-compiler/"
   ]
  },
  {
   "cell_type": "code",
   "execution_count": 12,
   "id": "4194e40c-04ab-4940-9d64-b4ad37c5bb40",
   "metadata": {},
   "outputs": [
    {
     "name": "stdout",
     "output_type": "stream",
     "text": [
      "Result: 3.141592658589\n",
      "Execution Time: 0.252126 seconds\n"
     ]
    }
   ],
   "source": [
    "# C++ファイルをコンパイルし、実行可能ファイルを実行\n",
    "\n",
    "# C++ファイルをコンパイル\n",
    "!g++ -O2 -o optimize_gpt_pi optimize_gpt_pi.cpp\n",
    "# コンパイルした実行ファイルを実行\n",
    "!./optimize_gpt_pi"
   ]
  },
  {
   "cell_type": "code",
   "execution_count": 13,
   "id": "c3b497b3-f569-420e-b92e-fb0f49957ce0",
   "metadata": {},
   "outputs": [],
   "source": [
    "# 擬似乱数を使って生成された整数配列に対し、最大部分配列和（Maximum Subarray Sum）を複数回（20回）計算し、その合計を出力する。\n",
    "\n",
    "# lcg：線形合同法により、一定の周期で乱数を生成する擬似乱数生成器\n",
    "# max_subarray_sum：lcgで長さnの乱数配列を生成し最大部分配列和を求める\n",
    "# total_max_subarray_sum：長さ10000の乱数配列から最大部分配列和を求める処理を20回繰り返し合計\n",
    "\n",
    "python_hard = \"\"\"# Be careful to support large number sizes\n",
    "\n",
    "def lcg(seed, a=1664525, c=1013904223, m=2**32):\n",
    "    value = seed\n",
    "    while True:\n",
    "        value = (a * value + c) % m\n",
    "        yield value\n",
    "        \n",
    "def max_subarray_sum(n, seed, min_val, max_val):\n",
    "    lcg_gen = lcg(seed)\n",
    "    random_numbers = [next(lcg_gen) % (max_val - min_val + 1) + min_val for _ in range(n)]\n",
    "    max_sum = float('-inf')\n",
    "    for i in range(n):\n",
    "        current_sum = 0\n",
    "        for j in range(i, n):\n",
    "            current_sum += random_numbers[j]\n",
    "            if current_sum > max_sum:\n",
    "                max_sum = current_sum\n",
    "    return max_sum\n",
    "\n",
    "def total_max_subarray_sum(n, initial_seed, min_val, max_val):\n",
    "    total_sum = 0\n",
    "    lcg_gen = lcg(initial_seed)\n",
    "    for _ in range(20):\n",
    "        seed = next(lcg_gen)\n",
    "        total_sum += max_subarray_sum(n, seed, min_val, max_val)\n",
    "    return total_sum\n",
    "\n",
    "# Parameters\n",
    "n = 10000         # Number of random numbers\n",
    "initial_seed = 42 # Initial seed for the LCG\n",
    "min_val = -10     # Minimum value of random numbers\n",
    "max_val = 10      # Maximum value of random numbers\n",
    "\n",
    "# Timing the function\n",
    "import time\n",
    "start_time = time.time()\n",
    "result = total_max_subarray_sum(n, initial_seed, min_val, max_val)\n",
    "end_time = time.time()\n",
    "\n",
    "print(\"Total Maximum Subarray Sum (20 runs):\", result)\n",
    "print(\"Execution Time: {:.6f} seconds\".format(end_time - start_time))\n",
    "\"\"\""
   ]
  },
  {
   "cell_type": "code",
   "execution_count": 14,
   "id": "dab5e4bc-276c-4555-bd4c-12c699d5e899",
   "metadata": {},
   "outputs": [
    {
     "name": "stdout",
     "output_type": "stream",
     "text": [
      "Total Maximum Subarray Sum (20 runs): 10980\n",
      "Execution Time: 106.575778 seconds\n"
     ]
    }
   ],
   "source": [
    "exec(python_hard)"
   ]
  },
  {
   "cell_type": "code",
   "execution_count": 16,
   "id": "e8d24ed5-2c15-4f55-80e7-13a3952b3cb8",
   "metadata": {},
   "outputs": [
    {
     "name": "stdout",
     "output_type": "stream",
     "text": [
      "```cpp\n",
      "#include <iostream>\n",
      "#include <vector>\n",
      "#include <cstdint>\n",
      "#include <chrono>\n",
      "#include <iomanip>\n",
      "#include <limits>\n",
      "\n",
      "// Fast LCG generator\n",
      "class LCG {\n",
      "public:\n",
      "    using uint32 = uint32_t;\n",
      "    static constexpr uint32 a = 1664525;\n",
      "    static constexpr uint32 c = 1013904223;\n",
      "    static constexpr uint64_t m = uint64_t(1) << 32;\n",
      "\n",
      "    explicit LCG(uint32 seed): value(seed) {}\n",
      "\n",
      "    uint32 next() {\n",
      "        value = a * value + c;\n",
      "        return value;\n",
      "    }\n",
      "\n",
      "private:\n",
      "    uint32 value;\n",
      "};\n",
      "\n",
      "int64_t max_subarray_sum(int n, uint32_t seed, int min_val, int max_val) {\n",
      "    LCG lcg(seed);\n",
      "    std::vector<int> arr;\n",
      "    arr.reserve(n);\n",
      "    int range = max_val - min_val + 1;\n",
      "    for (int i = 0; i < n; ++i) {\n",
      "        arr.push_back(static_cast<int>(lcg.next() % range) + min_val);\n",
      "    }\n",
      "    int64_t max_sum = std::numeric_limits<int64_t>::min();\n",
      "    // Brute-force as in the python code\n",
      "    for (int i = 0; i < n; ++i) {\n",
      "        int64_t curr_sum = 0;\n",
      "        for (int j = i; j < n; ++j) {\n",
      "            curr_sum += arr[j];\n",
      "            if (curr_sum > max_sum) max_sum = curr_sum;\n",
      "        }\n",
      "    }\n",
      "    return max_sum;\n",
      "}\n",
      "\n",
      "int64_t total_max_subarray_sum(int n, uint32_t initial_seed, int min_val, int max_val) {\n",
      "    int64_t total = 0;\n",
      "    LCG lcg(initial_seed);\n",
      "    for (int i = 0; i < 20; ++i) {\n",
      "        uint32_t seed = lcg.next();\n",
      "        total += max_subarray_sum(n, seed, min_val, max_val);\n",
      "    }\n",
      "    return total;\n",
      "}\n",
      "\n",
      "int main() {\n",
      "    int n = 10000;\n",
      "    uint32_t initial_seed = 42;\n",
      "    int min_val = -10;\n",
      "    int max_val = 10;\n",
      "\n",
      "    auto start = std::chrono::steady_clock::now();\n",
      "    int64_t result = total_max_subarray_sum(n, initial_seed, min_val, max_val);\n",
      "    auto end = std::chrono::steady_clock::now();\n",
      "\n",
      "    std::chrono::duration<double> elapsed = end - start;\n",
      "\n",
      "    std::cout << \"Total Maximum Subarray Sum (20 runs): \" << result << \"\\n\";\n",
      "    std::cout << \"Execution Time: \" << std::fixed << std::setprecision(6)\n",
      "              << elapsed.count() << \" seconds\" << std::endl;\n",
      "    return 0;\n",
      "}\n",
      "```"
     ]
    }
   ],
   "source": [
    "# GPTでPythonをC++に変換してファイルに保存\n",
    "optimize_gpt(python_hard, \"ph\")"
   ]
  },
  {
   "cell_type": "code",
   "execution_count": 17,
   "id": "e0b3d073-88a2-40b2-831c-6f0c345c256f",
   "metadata": {},
   "outputs": [
    {
     "name": "stdout",
     "output_type": "stream",
     "text": [
      "Total Maximum Subarray Sum (20 runs): 10980\n",
      "Execution Time: 0.811339 seconds\n"
     ]
    }
   ],
   "source": [
    "# C++ファイルをコンパイルし、実行可能ファイルを実行\n",
    "\n",
    "# C++ファイルをコンパイル\n",
    "!g++ -O2 -o optimize_gpt_ph optimize_gpt_ph.cpp\n",
    "# コンパイルした実行ファイルを実行\n",
    "!./optimize_gpt_ph"
   ]
  },
  {
   "cell_type": "markdown",
   "id": "cba12ca9-e5b3-413b-84e7-0aac898ba8b5",
   "metadata": {},
   "source": [
    "# Claude"
   ]
  },
  {
   "cell_type": "code",
   "execution_count": null,
   "id": "983a11fe-e24d-4c65-8269-9802c5ef3ae6",
   "metadata": {},
   "outputs": [],
   "source": [
    "# ClaudeでPythonをC++に変換してファイルに保存\n",
    "optimize_claude(pi, \"pi\")"
   ]
  },
  {
   "cell_type": "code",
   "execution_count": null,
   "id": "d5a766f9-3d23-4bb4-a1d4-88ec44b61ddf",
   "metadata": {},
   "outputs": [],
   "source": [
    "# Claudeのために繰り返し - 繰り返しますが、プラットフォームに適切なアプローチを使用してください\n",
    "\n",
    "# C++ファイルをコンパイル\n",
    "!g++ -O2 -o optimize_gpt_pi optimize_gpt_pi.cpp\n",
    "# コンパイルした実行ファイルを実行\n",
    "!./optimize_gpt_pi"
   ]
  },
  {
   "cell_type": "code",
   "execution_count": null,
   "id": "e9305446-1d0c-4b51-866a-b8c1e299bf5c",
   "metadata": {},
   "outputs": [],
   "source": [
    "# ClaudeでPythonをC++に変換してファイルに保存\n",
    "optimize_claude(python_hard, \"ph\")"
   ]
  },
  {
   "cell_type": "code",
   "execution_count": null,
   "id": "0c181036-8193-4fdd-aef3-fc513b218d43",
   "metadata": {},
   "outputs": [],
   "source": [
    "# Claudeのために繰り返し - 繰り返しますが、プラットフォームに適切なアプローチを使用してください\n",
    "\n",
    "# C++ファイルをコンパイル\n",
    "!g++ -O2 -o optimize_gpt_ph optimize_gpt_ph.cpp\n",
    "# コンパイルした実行ファイルを実行\n",
    "!./optimize_gpt_ph"
   ]
  },
  {
   "cell_type": "markdown",
   "id": "b7800bb3-9ee1-4480-abad-489490944696",
   "metadata": {},
   "source": [
    "# Gradio"
   ]
  },
  {
   "cell_type": "code",
   "execution_count": 18,
   "id": "2653fcda-913b-49c7-a012-eace168bec41",
   "metadata": {},
   "outputs": [],
   "source": [
    "import gradio as gr"
   ]
  },
  {
   "cell_type": "code",
   "execution_count": 19,
   "id": "0be9f47d-5213-4700-b0e2-d444c7c738c0",
   "metadata": {},
   "outputs": [],
   "source": [
    "# optimize_gptのGUI版\n",
    "def stream_gpt(python):    \n",
    "    stream = openai.chat.completions.create(model=OPENAI_MODEL, messages=messages_for(python), stream=True)\n",
    "    reply = \"\"\n",
    "    for chunk in stream:\n",
    "        fragment = chunk.choices[0].delta.content or \"\"\n",
    "        reply += fragment\n",
    "        yield reply.replace('```cpp\\n','').replace('```','')"
   ]
  },
  {
   "cell_type": "code",
   "execution_count": null,
   "id": "8669f56b-8314-4582-a167-78842caea131",
   "metadata": {},
   "outputs": [],
   "source": [
    "# optimize_claudeのGUI版\n",
    "def stream_claude(python):\n",
    "    result = claude.messages.stream(\n",
    "        model=CLAUDE_MODEL,\n",
    "        max_tokens=2000,\n",
    "        system=system_message,\n",
    "        messages=[{\"role\": \"user\", \"content\": user_prompt_for(python)}],\n",
    "    )\n",
    "    reply = \"\"\n",
    "    with result as stream:\n",
    "        for text in stream.text_stream:\n",
    "            reply += text\n",
    "            yield reply.replace('```cpp\\n','').replace('```','')"
   ]
  },
  {
   "cell_type": "code",
   "execution_count": 20,
   "id": "2f1ae8f5-16c8-40a0-aa18-63b617df078d",
   "metadata": {},
   "outputs": [],
   "source": [
    "# Gradioから実行するコントローラ\n",
    "def optimize(python, model):\n",
    "    if model==\"GPT\":\n",
    "        result = stream_gpt(python)\n",
    "    #elif model==\"Claude\":\n",
    "    #    result = stream_claude(python)\n",
    "    else:\n",
    "        raise ValueError(\"Unknown model\")\n",
    "    for stream_so_far in result:\n",
    "        yield stream_so_far        "
   ]
  },
  {
   "cell_type": "code",
   "execution_count": 21,
   "id": "f1ddb38e-6b0a-4c37-baa4-ace0b7de887a",
   "metadata": {},
   "outputs": [
    {
     "name": "stdout",
     "output_type": "stream",
     "text": [
      "* Running on local URL:  http://127.0.0.1:7868\n",
      "* To create a public link, set `share=True` in `launch()`.\n"
     ]
    },
    {
     "data": {
      "text/html": [
       "<div><iframe src=\"http://127.0.0.1:7868/\" width=\"100%\" height=\"500\" allow=\"autoplay; camera; microphone; clipboard-read; clipboard-write;\" frameborder=\"0\" allowfullscreen></iframe></div>"
      ],
      "text/plain": [
       "<IPython.core.display.HTML object>"
      ]
     },
     "metadata": {},
     "output_type": "display_data"
    },
    {
     "data": {
      "text/plain": []
     },
     "execution_count": 21,
     "metadata": {},
     "output_type": "execute_result"
    },
    {
     "name": "stderr",
     "output_type": "stream",
     "text": [
      "gio: http://127.0.0.1:7868/: Operation not supported\n"
     ]
    }
   ],
   "source": [
    "with gr.Blocks() as ui:\n",
    "    with gr.Row():\n",
    "        python = gr.Textbox(label=\"Python code:\", lines=10, value=python_hard)\n",
    "        cpp = gr.Textbox(label=\"C++ code:\", lines=10)\n",
    "    with gr.Row():\n",
    "        model = gr.Dropdown([\"GPT\", \"Claude\"], label=\"Select model\", value=\"GPT\")\n",
    "        convert = gr.Button(\"Convert code\")\n",
    "\n",
    "    convert.click(optimize, inputs=[python, model], outputs=[cpp])\n",
    "\n",
    "ui.launch(inbrowser=True)"
   ]
  },
  {
   "cell_type": "code",
   "execution_count": 22,
   "id": "19bf2bff-a822-4009-a539-f003b1651383",
   "metadata": {},
   "outputs": [],
   "source": [
    "# 入力されたpythonコードを実行する\n",
    "def execute_python(code):\n",
    "    try:\n",
    "        output = io.StringIO()\n",
    "        sys.stdout = output\n",
    "        exec(code) # 危険（codeに攻撃者の入力が渡らないように注意\n",
    "    finally:\n",
    "        sys.stdout = sys.__stdout__\n",
    "    return output.getvalue()"
   ]
  },
  {
   "cell_type": "code",
   "execution_count": 23,
   "id": "77f3ab5d-fcfb-4d3f-8728-9cacbf833ea6",
   "metadata": {},
   "outputs": [],
   "source": [
    "# プラットフォームのC++コードをコンパイルするために、トライブロックのコードを変更\n",
    "# 最適化されたC++コードをコンパイルおよび実行するUbuntuバージョン：\n",
    "def execute_cpp(code):\n",
    "    code_name = \"optimize_x_pg\"\n",
    "    write_output(code, code_name)\n",
    "    try:\n",
    "        # M1 Mac\n",
    "        #compile_cmd = [\"clang++\", \"-Ofast\", \"-std=c++17\", \"-march=armv8.5-a\", \"-mtune=apple-m1\", \"-mcpu=apple-m1\", \"-o\", \"optimize_x_pg\", \"optimize_x_pg.cpp\"]\n",
    "        # Ubuntu\n",
    "        compile_cmd = [\"g++\", \"-O2\", \"-o\", code_name, code_name + \".cpp\"]\n",
    "        compile_result = subprocess.run(compile_cmd, check=True, text=True, capture_output=True)\n",
    "        run_cmd = [\"./\" + code_name]\n",
    "        run_result = subprocess.run(run_cmd, check=True, text=True, capture_output=True)\n",
    "        return run_result.stdout\n",
    "    except subprocess.CalledProcessError as e:\n",
    "        return f\"An error occurred:\\n{e.stderr}\""
   ]
  },
  {
   "cell_type": "code",
   "execution_count": 24,
   "id": "9a2274f1-d03b-42c0-8dcc-4ce159b18442",
   "metadata": {},
   "outputs": [],
   "source": [
    "css = \"\"\"\n",
    ".python {background-color: # 306998;}\n",
    ".cpp {background-color: # 050;}\n",
    "\"\"\""
   ]
  },
  {
   "cell_type": "code",
   "execution_count": 25,
   "id": "f1303932-160c-424b-97a8-d28c816721b2",
   "metadata": {},
   "outputs": [
    {
     "name": "stdout",
     "output_type": "stream",
     "text": [
      "* Running on local URL:  http://127.0.0.1:7869\n",
      "* To create a public link, set `share=True` in `launch()`.\n"
     ]
    },
    {
     "data": {
      "text/html": [
       "<div><iframe src=\"http://127.0.0.1:7869/\" width=\"100%\" height=\"500\" allow=\"autoplay; camera; microphone; clipboard-read; clipboard-write;\" frameborder=\"0\" allowfullscreen></iframe></div>"
      ],
      "text/plain": [
       "<IPython.core.display.HTML object>"
      ]
     },
     "metadata": {},
     "output_type": "display_data"
    },
    {
     "name": "stderr",
     "output_type": "stream",
     "text": [
      "gio: http://127.0.0.1:7869/: Operation not supported\n"
     ]
    },
    {
     "data": {
      "text/plain": []
     },
     "execution_count": 25,
     "metadata": {},
     "output_type": "execute_result"
    }
   ],
   "source": [
    "with gr.Blocks(css=css) as ui:\n",
    "    gr.Markdown(\"## Convert code from Python to C++\")\n",
    "    with gr.Row():\n",
    "        python = gr.Textbox(label=\"Python code:\", value=python_hard, lines=10)\n",
    "        cpp = gr.Textbox(label=\"C++ code:\", lines=10)\n",
    "    with gr.Row():\n",
    "        model = gr.Dropdown([\"GPT\", \"Claude\"], label=\"Select model\", value=\"GPT\")\n",
    "    with gr.Row():\n",
    "        convert = gr.Button(\"Convert code\")\n",
    "    with gr.Row():\n",
    "        python_run = gr.Button(\"Run Python\")\n",
    "        cpp_run = gr.Button(\"Run C++\")\n",
    "    with gr.Row():\n",
    "        python_out = gr.TextArea(label=\"Python result:\", elem_classes=[\"python\"])\n",
    "        cpp_out = gr.TextArea(label=\"C++ result:\", elem_classes=[\"cpp\"])\n",
    "\n",
    "    convert.click(optimize, inputs=[python, model], outputs=[cpp])\n",
    "    python_run.click(execute_python, inputs=[python], outputs=[python_out])\n",
    "    cpp_run.click(execute_cpp, inputs=[cpp], outputs=[cpp_out])\n",
    "\n",
    "ui.launch(inbrowser=True)"
   ]
  }
 ],
 "metadata": {
  "kernelspec": {
   "display_name": "Python 3 (ipykernel)",
   "language": "python",
   "name": "python3"
  },
  "language_info": {
   "codemirror_mode": {
    "name": "ipython",
    "version": 3
   },
   "file_extension": ".py",
   "mimetype": "text/x-python",
   "name": "python",
   "nbconvert_exporter": "python",
   "pygments_lexer": "ipython3",
   "version": "3.12.3"
  }
 },
 "nbformat": 4,
 "nbformat_minor": 5
}
