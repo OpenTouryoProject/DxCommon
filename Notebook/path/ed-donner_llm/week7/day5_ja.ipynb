{
 "cells": [
  {
   "cell_type": "markdown",
   "id": "c25e5705-7078-4d4a-9fa2-8aaa528ffced",
   "metadata": {},
   "source": [
    "# 週7日5\n",
    "\n",
    "オープンソースモデルを微調整して、製品価格を予測します\n",
    "\n",
    "Google Colabのこのノートブックをご覧ください：\n",
    "\n",
    "https://colab.research.google.com/drive/1iga0hf0gvqbdbd4gkck3gtudlijyn？usp = sharing"
   ]
  }
 ],
 "metadata": {
  "kernelspec": {
   "display_name": "Python 3 (ipykernel)",
   "language": "python",
   "name": "python3"
  },
  "language_info": {
   "codemirror_mode": {
    "name": "ipython",
    "version": 3
   },
   "file_extension": ".py",
   "mimetype": "text/x-python",
   "name": "python",
   "nbconvert_exporter": "python",
   "pygments_lexer": "ipython3",
   "version": "3.12.3"
  }
 },
 "nbformat": 4,
 "nbformat_minor": 5
}
