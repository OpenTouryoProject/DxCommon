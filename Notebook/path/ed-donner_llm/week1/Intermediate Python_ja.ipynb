{
 "cells": [
  {
   "cell_type": "markdown",
   "id": "5c291475-8c7c-461c-9b12-545a887b2432",
   "metadata": {},
   "source": [
    "# 中級レベルPython\n",
    "\n",
    "## あなたをスピードアップします\n",
    "\n",
    "このコースでは、あなたがPythonの中間レベルにいることを前提としています。たとえば、このようなことが何をするかをまともなアイデアを持っている必要があります。\n",
    "\n",
    "`yield from {book.get(\"author\") for book in books if book.get(\"author\")}`\n",
    "\n",
    "そうでない場合 - あなたは正しい場所に来ました！中級レベルPythonのクラッシュコースへようこそ。学ぶための最良の方法は、やることです！\n"
   ]
  },
  {
   "cell_type": "markdown",
   "id": "542f0577-a826-4613-a5d7-4170e9666d04",
   "metadata": {},
   "source": [
    "## 最初：基礎の復習が必要な場合\n",
    "\n",
    "このあたりはAIに詳しい友人に任せることにします。説明がとても分かりやすく、例も素晴らしいからです。\n",
    "\n",
    "コード例をコピーして新しいセルに貼り付けて、試してみてください。復習したいセクションを選んでください。\n",
    "\n",
    "**Python imports**：  \n",
    "https://chatgpt.com/share/672F9F31-8114-8012-BE09-29EF0D0140FB\n",
    "\n",
    "**Python関数**、デフォルトの引数を含む：  \n",
    "https://chatgpt.com/share/672F9F99-7060-8012-BFEC-46D4CF77D672\n",
    "\n",
    "**Python文字列**、スライス、分割/結合、交換、リテラルを含む：  \n",
    "https://chatgpt.com/share/672FB526-0AA0-8012-9E00-AD1687C04518\n",
    "\n",
    "**python f-strings**、番号と日付のフォーマットを含む：  \n",
    "https://chatgpt.com/share/672FA125-0DE0-8012-8E35-27918CBB481C\n",
    "\n",
    "**Pythonリスト、dict、setss**、`get（）`メソッドを含む：  \n",
    "https://chatgpt.com/share/672FA225-3F04-8012-91AF-F9C95287DA8D\n",
    "\n",
    "**Python files** including modes, encoding, context managers, Path, glob.glob：  \n",
    "https://chatgpt.com/share/673b53b2-6d5c-8012-A344-221056C2F960\n",
    "\n",
    "**Pythonクラス**：  \n",
    "https://chatgpt.com/share/672FA07A-1014-8012-B2EA-6DC679552715\n",
    "\n",
    "**PythonオブジェクトのシリアライズとJSONへの変換：**  \n",
    "https://chatgpt.com/share/673b553e-9d0c-8012-9919-F3BB5AA23E31"
   ]
  },
  {
   "cell_type": "markdown",
   "id": "f9e0f8e1-09b3-478b-ada7-c8c35003929b",
   "metadata": {},
   "source": [
    "## これを念頭に置いて、PythonでNameErrorを理解します\n",
    "\n",
    "PythonでNameErrorにヒットすることは非常に一般的です。基本的な知識を使用すると、常にNameErrorをデバッグし、その底に到達する準備が整っている必要があります。\n",
    "\n",
    "NameErrorの修正方法がわからない場合は、この[initial guide](https://chatgpt.com/share/67958312-ada0-8012-a1d3-62b3a5fcbbfc)とこの[second guide with exercises](https://chatgpt.com/share/67a57e0b-0194-8012-bb50-8ea76c5995b8)をご覧になり、自信が高くなるまで両方とも作業してください。\n",
    "\n",
    "ここにはいくつかの繰り返しがあるので、すでに自信があるなら、お気軽にスキップしてください。\n",
    "\n",
    "## そして今、コードについて！"
   ]
  },
  {
   "cell_type": "code",
   "execution_count": 1,
   "id": "5802e2f0-0ea0-4237-bbb7-f375a34260f0",
   "metadata": {},
   "outputs": [],
   "source": [
    "# まず、いくつかのものを作成しましょう。\n",
    "\n",
    "fruits = [\"Apples\", \"Bananas\", \"Pears\"]\n",
    "\n",
    "book1 = {\"title\": \"Great Expectations\", \"author\": \"Charles Dickens\"}\n",
    "book2 = {\"title\": \"Bleak House\", \"author\": \"Charles Dickens\"}\n",
    "book3 = {\"title\": \"An Book By No Author\"}\n",
    "book4 = {\"title\": \"Moby Dick\", \"author\": \"Herman Melville\"}\n",
    "\n",
    "books = [book1, book2, book3, book4]"
   ]
  },
  {
   "cell_type": "markdown",
   "id": "9b941e6a-3658-4144-a8d4-72f5e72f3707",
   "metadata": {},
   "source": [
    "# パート1：包括的リストと辞書"
   ]
  },
  {
   "cell_type": "code",
   "execution_count": 2,
   "id": "61992bb8-735d-4dad-8747-8c10b63aec82",
   "metadata": {},
   "outputs": [
    {
     "name": "stdout",
     "output_type": "stream",
     "text": [
      "Apples\n",
      "Bananas\n",
      "Pears\n"
     ]
    }
   ],
   "source": [
    "# 開始するのに十分なシンプル\n",
    "\n",
    "for fruit in fruits:\n",
    "    print(fruit)"
   ]
  },
  {
   "cell_type": "code",
   "execution_count": 3,
   "id": "c89c3842-9b74-47fa-8424-0fcb08e4177c",
   "metadata": {},
   "outputs": [
    {
     "data": {
      "text/plain": [
       "['APPLES', 'BANANAS', 'PEARS']"
      ]
     },
     "execution_count": 3,
     "metadata": {},
     "output_type": "execute_result"
    }
   ],
   "source": [
    "# 果物の新しいバージョンを作りましょう\n",
    "\n",
    "fruits_shouted = []\n",
    "for fruit in fruits:\n",
    "    fruits_shouted.append(fruit.upper())\n",
    "\n",
    "fruits_shouted"
   ]
  },
  {
   "cell_type": "code",
   "execution_count": 4,
   "id": "4ec13b3a-9545-44f1-874a-2910a0663560",
   "metadata": {},
   "outputs": [
    {
     "data": {
      "text/plain": [
       "['APPLES', 'BANANAS', 'PEARS']"
      ]
     },
     "execution_count": 4,
     "metadata": {},
     "output_type": "execute_result"
    }
   ],
   "source": [
    "# あなたはおそらくすでにこれを知っています\n",
    "# これを行う「リスト理解」と呼ばれる素敵なPythonコンストラクトがあります。\n",
    "\n",
    "fruits_shouted2 = [fruit.upper() for fruit in fruits]\n",
    "fruits_shouted2"
   ]
  },
  {
   "cell_type": "code",
   "execution_count": 5,
   "id": "ecc08c3c-181d-4b64-a3e1-b0ccffc6c0cd",
   "metadata": {},
   "outputs": [
    {
     "data": {
      "text/plain": [
       "{'Apples': 'APPLES', 'Bananas': 'BANANAS', 'Pears': 'PEARS'}"
      ]
     },
     "execution_count": 5,
     "metadata": {},
     "output_type": "execute_result"
    }
   ],
   "source": [
    "# しかし、辞書を作成するためにこれを行うことができるとは知らないかもしれません。\n",
    "\n",
    "fruit_mapping = {fruit: fruit.upper() for fruit in fruits}\n",
    "fruit_mapping"
   ]
  },
  {
   "cell_type": "code",
   "execution_count": 6,
   "id": "500c2406-00d2-4793-b57b-f49b612760c8",
   "metadata": {},
   "outputs": [
    {
     "data": {
      "text/plain": [
       "['APPLES', 'BANANAS']"
      ]
     },
     "execution_count": 6,
     "metadata": {},
     "output_type": "execute_result"
    }
   ],
   "source": [
    "# IFステートメントを使用して結果をフィルタリングすることもできます\n",
    "\n",
    "fruits_with_longer_names_shouted = [fruit.upper() for fruit in fruits if len(fruit)>5]\n",
    "fruits_with_longer_names_shouted"
   ]
  },
  {
   "cell_type": "code",
   "execution_count": 7,
   "id": "38c11c34-d71e-45ba-945b-a3d37dc29793",
   "metadata": {},
   "outputs": [
    {
     "data": {
      "text/plain": [
       "{'Bananas': 'BANANAS', 'Pears': 'PEARS'}"
      ]
     },
     "execution_count": 7,
     "metadata": {},
     "output_type": "execute_result"
    }
   ],
   "source": [
    "fruit_mapping_unless_starts_with_a = {fruit: fruit.upper() for fruit in fruits if not fruit.startswith('A')}\n",
    "fruit_mapping_unless_starts_with_a"
   ]
  },
  {
   "cell_type": "code",
   "execution_count": 8,
   "id": "5c97d8e8-31de-4afa-973e-28d8e5cab749",
   "metadata": {},
   "outputs": [
    {
     "data": {
      "text/plain": [
       "['Great Expectations', 'Bleak House', 'An Book By No Author', 'Moby Dick']"
      ]
     },
     "execution_count": 8,
     "metadata": {},
     "output_type": "execute_result"
    }
   ],
   "source": [
    "# 別の理解\n",
    "\n",
    "[book['title'] for book in books]"
   ]
  },
  {
   "cell_type": "code",
   "execution_count": 9,
   "id": "50be0edc-a4cd-493f-a680-06080bb497b4",
   "metadata": {},
   "outputs": [
    {
     "ename": "KeyError",
     "evalue": "'author'",
     "output_type": "error",
     "traceback": [
      "\u001b[31m---------------------------------------------------------------------------\u001b[39m",
      "\u001b[31mKeyError\u001b[39m                                  Traceback (most recent call last)",
      "\u001b[36mCell\u001b[39m\u001b[36m \u001b[39m\u001b[32mIn[9]\u001b[39m\u001b[32m, line 3\u001b[39m\n\u001b[32m      1\u001b[39m \u001b[38;5;66;03m# 私たちの本の1つに著者がいないため、このコードはエラーで失敗します\u001b[39;00m\n\u001b[32m----> \u001b[39m\u001b[32m3\u001b[39m [\u001b[43mbook\u001b[49m\u001b[43m[\u001b[49m\u001b[33;43m'\u001b[39;49m\u001b[33;43mauthor\u001b[39;49m\u001b[33;43m'\u001b[39;49m\u001b[43m]\u001b[49m \u001b[38;5;28;01mfor\u001b[39;00m book \u001b[38;5;129;01min\u001b[39;00m books]\n",
      "\u001b[31mKeyError\u001b[39m: 'author'"
     ]
    }
   ],
   "source": [
    "# 私たちの本の1つに著者がいないため、このコードはエラーで失敗します\n",
    "\n",
    "[book['author'] for book in books]"
   ]
  },
  {
   "cell_type": "code",
   "execution_count": null,
   "id": "53794083-cc09-4edb-b448-2ffb7e8495c2",
   "metadata": {},
   "outputs": [],
   "source": [
    "# しかし、これは機能します\n",
    "\n",
    "[book.get('author') for book in books]"
   ]
  },
  {
   "cell_type": "code",
   "execution_count": 10,
   "id": "b8e4b859-24f8-4016-8d74-c2cef226d049",
   "metadata": {},
   "outputs": [
    {
     "data": {
      "text/plain": [
       "['Charles Dickens', 'Charles Dickens', 'Herman Melville']"
      ]
     },
     "execution_count": 10,
     "metadata": {},
     "output_type": "execute_result"
    }
   ],
   "source": [
    "# そして、このバリエーションはなしを除外します\n",
    "\n",
    "[book.get('author') for book in books if book.get('author')]"
   ]
  },
  {
   "cell_type": "code",
   "execution_count": 11,
   "id": "c44bb999-52b4-4dee-810b-8a400db8f25f",
   "metadata": {},
   "outputs": [
    {
     "data": {
      "text/plain": [
       "{'Charles Dickens', 'Herman Melville'}"
      ]
     },
     "execution_count": 11,
     "metadata": {},
     "output_type": "execute_result"
    }
   ],
   "source": [
    "# そして、このバージョンはそれをセットに変換し、複製を削除します\n",
    "\n",
    "set([book.get('author') for book in books if book.get('author')])"
   ]
  },
  {
   "cell_type": "code",
   "execution_count": 12,
   "id": "80a65156-6192-4bb4-b4e6-df3fdc933891",
   "metadata": {},
   "outputs": [
    {
     "data": {
      "text/plain": [
       "{'Charles Dickens', 'Herman Melville'}"
      ]
     },
     "execution_count": 12,
     "metadata": {},
     "output_type": "execute_result"
    }
   ],
   "source": [
    "# そして最後に、このバージョンはさらに良いです\n",
    "# カーリーブレースはセットを作成するので、これはセットの理解です\n",
    "\n",
    "{book.get('author') for book in books if book.get('author')}"
   ]
  },
  {
   "cell_type": "markdown",
   "id": "c100e5db-5438-4715-921c-3f7152f83f4a",
   "metadata": {},
   "source": [
    "# パート2：ジェネレーター\n",
    "\n",
    "AIモデルが結果をストリーミングできるため、コースで発電機を使用します。\n",
    "\n",
    "以前にジェネレーターを使用したことがない場合は、ChatGPTからのこの優れたイントロから始めてください。\n",
    "\n",
    "https://chatgpt.com/share/672FAA6E-7DD0-8012-AAE5-44FC0D0EC218\n",
    "\n",
    "その例のいくつかをセルに貼り付けてみてください。"
   ]
  },
  {
   "cell_type": "code",
   "execution_count": 13,
   "id": "1efc26fa-9144-4352-9a17-dfec1d246aad",
   "metadata": {},
   "outputs": [],
   "source": [
    "# 最初にジェネレーターを定義します。関数のように見えますが、戻る代わりに収量があります\n",
    "\n",
    "import time\n",
    "\n",
    "def come_up_with_fruit_names():\n",
    "    for fruit in fruits:\n",
    "        time.sleep(1) # 果物を考えています\n",
    "        yield fruit"
   ]
  },
  {
   "cell_type": "code",
   "execution_count": 14,
   "id": "eac338bb-285c-45c8-8a3e-dbfc41409ca3",
   "metadata": {},
   "outputs": [
    {
     "name": "stdout",
     "output_type": "stream",
     "text": [
      "Apples\n",
      "Bananas\n",
      "Pears\n"
     ]
    }
   ],
   "source": [
    "# 次に、それを使用します\n",
    "\n",
    "for fruit in come_up_with_fruit_names():\n",
    "    print(fruit)"
   ]
  },
  {
   "cell_type": "code",
   "execution_count": 15,
   "id": "f6880578-a3de-4502-952a-4572b95eb9ff",
   "metadata": {},
   "outputs": [],
   "source": [
    "# これが別のものです\n",
    "\n",
    "def authors_generator():\n",
    "    for book in books:\n",
    "        if book.get(\"author\"):\n",
    "            yield book.get(\"author\")"
   ]
  },
  {
   "cell_type": "code",
   "execution_count": 16,
   "id": "9e316f02-f87f-441d-a01f-024ade949607",
   "metadata": {},
   "outputs": [
    {
     "name": "stdout",
     "output_type": "stream",
     "text": [
      "Charles Dickens\n",
      "Charles Dickens\n",
      "Herman Melville\n"
     ]
    }
   ],
   "source": [
    "# 使用してください\n",
    "\n",
    "for author in authors_generator():\n",
    "    print(author)"
   ]
  },
  {
   "cell_type": "code",
   "execution_count": 17,
   "id": "7535c9d0-410e-4e56-a86c-ae6c0e16053f",
   "metadata": {},
   "outputs": [],
   "source": [
    "# これがリストの理解で書かれたのと同じことです\n",
    "\n",
    "def authors_generator():\n",
    "    for author in [book.get(\"author\") for book in books if book.get(\"author\")]:\n",
    "        yield author"
   ]
  },
  {
   "cell_type": "code",
   "execution_count": 18,
   "id": "dad34494-0f6c-4edb-b03f-b8d49ee186f2",
   "metadata": {},
   "outputs": [
    {
     "name": "stdout",
     "output_type": "stream",
     "text": [
      "Charles Dickens\n",
      "Charles Dickens\n",
      "Herman Melville\n"
     ]
    }
   ],
   "source": [
    "# 使用してください\n",
    "\n",
    "for author in authors_generator():\n",
    "    print(author)"
   ]
  },
  {
   "cell_type": "code",
   "execution_count": 19,
   "id": "abeb7e61-d8aa-4af0-b05a-ae17323e678c",
   "metadata": {},
   "outputs": [],
   "source": [
    "# これが素敵なショートカットです\n",
    "# \"ried from\"を使用して、反復可能な各アイテムを生成できます\n",
    "\n",
    "def authors_generator():\n",
    "    yield from [book.get(\"author\") for book in books if book.get(\"author\")]"
   ]
  },
  {
   "cell_type": "code",
   "execution_count": 20,
   "id": "05b0cb43-aa83-4762-a797-d3beb0f22c44",
   "metadata": {},
   "outputs": [
    {
     "name": "stdout",
     "output_type": "stream",
     "text": [
      "Charles Dickens\n",
      "Charles Dickens\n",
      "Herman Melville\n"
     ]
    }
   ],
   "source": [
    "# 使用してください\n",
    "\n",
    "for author in authors_generator():\n",
    "    print(author)"
   ]
  },
  {
   "cell_type": "code",
   "execution_count": 21,
   "id": "fdfea58e-d809-4dd4-b7b0-c26427f8be55",
   "metadata": {},
   "outputs": [],
   "source": [
    "# そして最後に - リストの理解を一定の理解に置き換えることができます\n",
    "\n",
    "def unique_authors_generator():\n",
    "    yield from {book.get(\"author\") for book in books if book.get(\"author\")}"
   ]
  },
  {
   "cell_type": "code",
   "execution_count": 22,
   "id": "3e821d08-97be-4db9-9a5b-ce5dced3eff8",
   "metadata": {},
   "outputs": [
    {
     "name": "stdout",
     "output_type": "stream",
     "text": [
      "Charles Dickens\n",
      "Herman Melville\n"
     ]
    }
   ],
   "source": [
    "# 使用してください\n",
    "\n",
    "for author in unique_authors_generator():\n",
    "    print(author)"
   ]
  },
  {
   "cell_type": "code",
   "execution_count": 23,
   "id": "905ba603-15d8-4d01-9a79-60ec293d7ca1",
   "metadata": {},
   "outputs": [
    {
     "name": "stdout",
     "output_type": "stream",
     "text": [
      "I eat suspicious kumquats. You dramatically renounce wobbly rodents. You juggle wobbly calculators. You deny the existence of whimsical jellyfish. They resent disheveled thermostats. We dramatically renounce fluorescent walruses. They conspire with pleasing bagpipes. We tap dance on pleasing accordions. I deny the existence of pleasing bagpipes. They conspire with melodramatic thermostats. We philosophize about pompous walruses. I eat bewildered rodents. I juggle pretentious walruses. You bathe in overripe bagpipes. We pontificate about smelly turnips. They pontificate about pleasing thermostats. You eat pleasing kumquats. We bathe in fluorescent bagpipes. You misplace melodramatic walruses. I deny the existence of fluorescent wombats. You worship pretentious rodents. I resent festering accordions. You worship whimsical accordions. They juggle pompous spreadsheets. We conspire with suspicious mustaches. They detest pretentious accordions. I tap dance on turqoise eels. They bathe in whimsical calculators. We bathe in melodramatic rodents. I tap dance on fluorescent walruses. I tap dance on fluorescent turnips. We philosophize about suspicious monocles. You dramatically renounce arrogant rodents. You dramatically renounce arrogant rodents. They deny the existence of wobbly kumquats. They worship bewildered kumquats. You detest disheveled calculators. They impersonate wobbly mustaches. I detest smelly turnips. You impersonate pompous rodents. I pontificate about pompous monocles. I philosophize about melodramatic calculators. I detest festering turnips. You resent overripe eels. We secretly collect pleasing accordions. We philosophize about pretentious mustaches. We impersonate suspicious kumquats. We detest wobbly monocles. You eat pretentious kumquats. I secretly collect whimsical wombats. I secretly collect wobbly calculators. I deny the existence of overripe jellyfish. You worship turqoise monocles. I secretly collect arrogant jellyfish. We deny the existence of fluorescent kumquats. I se"
     ]
    },
    {
     "ename": "KeyboardInterrupt",
     "evalue": "",
     "output_type": "error",
     "traceback": [
      "\u001b[31m---------------------------------------------------------------------------\u001b[39m",
      "\u001b[31mKeyboardInterrupt\u001b[39m                         Traceback (most recent call last)",
      "\u001b[36mCell\u001b[39m\u001b[36m \u001b[39m\u001b[32mIn[23]\u001b[39m\u001b[32m, line 26\u001b[39m\n\u001b[32m     24\u001b[39m \u001b[38;5;28;01mfor\u001b[39;00m letter \u001b[38;5;129;01min\u001b[39;00m infinite_random_sentences():\n\u001b[32m     25\u001b[39m     \u001b[38;5;28mprint\u001b[39m(letter, end=\u001b[33m\"\u001b[39m\u001b[33m\"\u001b[39m, flush=\u001b[38;5;28;01mTrue\u001b[39;00m)\n\u001b[32m---> \u001b[39m\u001b[32m26\u001b[39m     \u001b[43mtime\u001b[49m\u001b[43m.\u001b[49m\u001b[43msleep\u001b[49m\u001b[43m(\u001b[49m\u001b[32;43m0.02\u001b[39;49m\u001b[43m)\u001b[49m\n",
      "\u001b[31mKeyboardInterrupt\u001b[39m: "
     ]
    }
   ],
   "source": [
    "# そして、楽しいために - 退屈しているときにツールバーの停止ボタンを押してください！\n",
    "# それは私たちが独自の大きな言語モデルを作ったようなものです...特に大きくはありませんが..\n",
    "# 一度に単語ではなく、一度に文字を印刷する理由を理解しているかどうかを確認してください。確信が持てない場合は、コードのどこからでも「キーワード」を削除してみてください。\n",
    "\n",
    "import random\n",
    "import time\n",
    "\n",
    "pronouns = [\"I\", \"You\", \"We\", \"They\"]\n",
    "verbs = [\"eat\", \"detest\", \"bathe in\", \"deny the existence of\", \"resent\", \"pontificate about\", \"juggle\", \"impersonate\", \"worship\", \"misplace\", \"conspire with\", \"philosophize about\", \"tap dance on\", \"dramatically renounce\", \"secretly collect\"]\n",
    "adjectives = [\"turqoise\", \"smelly\", \"arrogant\", \"festering\", \"pleasing\", \"whimsical\", \"disheveled\", \"pretentious\", \"wobbly\", \"melodramatic\", \"pompous\", \"fluorescent\", \"bewildered\", \"suspicious\", \"overripe\"]\n",
    "nouns = [\"turnips\", \"rodents\", \"eels\", \"walruses\", \"kumquats\", \"monocles\", \"spreadsheets\", \"bagpipes\", \"wombats\", \"accordions\", \"mustaches\", \"calculators\", \"jellyfish\", \"thermostats\"]\n",
    "\n",
    "def infinite_random_sentences():\n",
    "    while True:\n",
    "        yield from random.choice(pronouns)\n",
    "        yield \" \"\n",
    "        yield from random.choice(verbs)\n",
    "        yield \" \"\n",
    "        yield from random.choice(adjectives)\n",
    "        yield \" \"\n",
    "        yield from random.choice(nouns)\n",
    "        yield \". \"\n",
    "\n",
    "for letter in infinite_random_sentences():\n",
    "    print(letter, end=\"\", flush=True)\n",
    "    time.sleep(0.02)"
   ]
  },
  {
   "cell_type": "markdown",
   "id": "04832ea2-2447-4473-a449-104f80e24d85",
   "metadata": {},
   "source": [
    "# エクササイズ\n",
    "\n",
    "本の例にいくつかのPythonクラスを書いてください。\n",
    "\n",
    "タイトルと著者の本のクラスを書いてください。メソッドhas_author（）を含める\n",
    "\n",
    "本のリストを掲載した本棚クラスを書いてください。ジェネレーターメソッドを含めるunique_authors（）"
   ]
  },
  {
   "cell_type": "markdown",
   "id": "35760406-fe6c-41f9-b0c0-3e8cf73aafd0",
   "metadata": {},
   "source": [
    "# ついに\n",
    "\n",
    "タイプのヒント、継承、クラスの方法の使用など、AIの友人からのクラスの中間レベルの詳細を以下に示します。これには本の例が含まれています。\n",
    "\n",
    "https://chatgpt.com/share/67348aca-65fc-8012-a4a9-fd1b8f04ba59"
   ]
  }
 ],
 "metadata": {
  "kernelspec": {
   "display_name": "Python 3 (ipykernel)",
   "language": "python",
   "name": "python3"
  },
  "language_info": {
   "codemirror_mode": {
    "name": "ipython",
    "version": 3
   },
   "file_extension": ".py",
   "mimetype": "text/x-python",
   "name": "python",
   "nbconvert_exporter": "python",
   "pygments_lexer": "ipython3",
   "version": "3.12.3"
  }
 },
 "nbformat": 4,
 "nbformat_minor": 5
}
