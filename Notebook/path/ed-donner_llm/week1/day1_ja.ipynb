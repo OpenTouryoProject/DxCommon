{
 "cells": [
  {
   "cell_type": "markdown",
   "id": "d15d8294-3328-4e07-ad16-8a03e9bbfdb9",
   "metadata": {},
   "source": [
    "# 最初のラボ\n",
    "\n",
    "### このセクションは必ずお読みください。長文ではありますが、重要な内容なので、準備には役立ちます。\n",
    "\n",
    "## 最初のFrontier LLMプロジェクト\n",
    "数分で、実用的なLLMソリューションを構築しましょう。\n",
    "\n",
    "このコースを修了すると、7つのエージェントが連携してビジネス上の課題を解決する、自律型エージェントAIソリューションを構築できるようになります。あっという間に完成です！まずは小さなプロジェクトから始めましょう…\n",
    "\n",
    "私たちの目標は、新しいタイプのWebブラウザをコーディングすることです。URLを入力すると、サマリーが表示されます。インターネットのリーダーズダイジェストです！\n",
    "\n",
    "開始する前に、[PC](../SETUP-PC.md)または[Mac](../SETUP-mac.md)のセットアップを完了し、プロジェクトのルートディレクトリからこのJupyterラボを起動し、環境を有効化しておく必要があります。\n",
    "\n",
    "## Jupyter Lab を初めてご利用になる方へ\n",
    "\n",
    "データサイエンス実験の素晴らしい世界へようこそ！Jupyter Lab を一度使ってみれば、今までどうやって生きてきたのか不思議に思うでしょう。コードが書かれた各「セル」（このテキストのすぐ下のセルなど）をクリックし、Shift + Return キーを押すだけでそのセルを実行できます。必要に応じて、ツールバーの + ボタンを使ってセルを追加し、変数の値を出力したり、さまざまなバリエーションを試したりすることもできます。\n",
    "\n",
    "Jupyter Labs をより深く理解していただくために、[Guide to Jupyter](Guide%20to%20Jupyter.ipynb) というノートブックを作成しました。Markdown コメントの追加、`!` を使用したシェルコマンドの実行、`tqdm` を使用した進捗状況の表示など、Jupyter Labs の使い方を学ぶのに役立ちます。\n",
    "\n",
    "## コマンドラインを初めて使う場合\n",
    "\n",
    "以下の優れたガイドをご覧ください: [PC のコマンドライン](https://chatgpt.com/share/67b0acea-ba38-8012-9c34-7a2541052665) および [Mac のコマンドライン](https://chatgpt.com/canvas/shared/67b0b10c93a081918210723867525d2b)。\n",
    "\n",
    "## IDE で作業したい場合\n",
    "VSCode、Cursor、PyCharm などの IDE を使い慣れている場合は、これらのラボノートブックでも問題なく動作します。\n",
    "VSCode で作業したい場合は、[こちら](https://chatgpt.com/share/676f2e19-c228-8012-9911-6ca42f8ed766) で AI の友人から、このコース向けに設定する方法の説明をご覧いただけます。\n",
    "\n",
    "## Python をブラッシュアップしたい方へ\n",
    "[中級 Python](Intermediate%20Python.ipynb) というノートブックを追加しましたので、すぐに使いこなせるようになります。ただし、以下のコードが何をするのか既によくわかっている場合は、このノートブックは使用しないでください。\n",
    "`yield from {book.get(\"author\") for book in books if book.get(\"author\")}`\n",
    "\n",
    "## いつでもお手伝いいたします\n",
    "\n",
    "何か問題がございましたら、お気軽にご連絡ください。\n",
    "プラットフォーム、ed@edwarddonner.com、または https://www.linkedin.com/in/eddonner/ からご連絡ください（つながるのが大好きです！）\n",
    "また、これは初めての試みですが、[@edwarddonner](https://x.com/edwarddonner) で X/Twitter も試しています。X をお使いの方は、ぜひ使い方を教えてください 😂\n",
    "\n",
    "## その他のトラブルシューティング\n",
    "\n",
    "よくある問題の診断と解決方法については、このフォルダ内の [troubleshooting](troubleshooting.ipynb) ノートブックをご覧ください。ノートブックの最後には、役立つデバッグ情報を含む診断スクリプトがあります。\n",
    "\n",
    "## 基礎的な技術知識（Git、API、デバッグなど）について\n",
    "\n",
    "プログラミング初心者の方でも、私がサポートします！このコースを受講するにはある程度のプログラミング経験があることが理想的ですが、必須の前提条件が1つだけあります。それは、十分な忍耐力です。😁 GitとGitHub、APIとエンドポイント、初心者向けPythonなどについて解説した自習ガイドを作成しました。\n",
    "\n",
    "GitとGitHubとは何か、その違い、そして使い方について解説しています。:  \n",
    "https://github.com/ed-donner/agents/blob/main/guides/03_git_and_github.ipynb\n",
    "\n",
    "技術的な基礎知識については、以下の通りです。\n",
    "\n",
    "ChatGPTとAPIの比較、スクリーンショットの撮影、環境変数、ネットワークの基礎。 APIとエンドポイント:  \n",
    "https://github.com/ed-donner/agents/blob/main/guides/04_technical_foundations.ipynb\n",
    "\n",
    "ここでは、初心者向けのPythonと、`NameError` でつまずかないようにするための方法を説明しています。:  \n",
    "https://github.com/ed-donner/agents/blob/main/guides/06_python_foundations.ipynb\n",
    "\n",
    "ここでは、エラーを特定するための基本的なテクニックを説明しています。:  \n",
    "https://github.com/ed-donner/agents/blob/main/guides/08_debugging.ipynb\n",
    "\n",
    "GitHubの同じフォルダには、他にも役立つガイドがあります。一部の情報は私の他のUdemyコース（例：Async Python）にも当てはまりますが、ほとんどの情報はLLMエンジニアリングに非常に関連しています。\n",
    "\n",
    "## もしこれがもうお決まりなら！\n",
    "\n",
    "今日の内容に既に慣れている方は、もう少し頑張ってください。最初の数回のラボはすぐに進めて構いません。数週間経つにつれて、より深く掘り下げていきます。最終的には、OpenAIに対抗できるよう、私たち自身のLLMをファインチューニングする予定です！\n",
    "\n",
    "<table style=\"margin: 0; text-align: left;\">\n",
    "    <tr>\n",
    "        <td style=\"width: 150px; height: 150px; vertical-align: middle;\">\n",
    "            <img src=\"../important.jpg\" width=\"150\" height=\"150\" style=\"display: block;\" />\n",
    "        </td>\n",
    "        <td>\n",
    "            <h2 style=\"color:#900;\">重要事項をお読みください</h2>\n",
    "            <span style=\"color:#900;\">私が皆さんと協力する方法は、これまで受講してきたコースとは異なる場合があります。皆さんが視聴している間にコードを入力することは避けています。代わりに、私はこのようにJupyter Labsを実行し、何が起こっているのか直感的に理解していただくようにしています。講義を視聴した後、ご自身でこれを注意深く実行することをお勧めします。print文を追加して何が起こっているのか理解し、独自のバリエーションを考え出してみてください。Githubアカウントをお持ちの場合は、それを使ってバリエーションを披露してください。これは必須の練習であるだけでなく、将来のクライアントや雇用主など、他の人にあなたのスキルを示すことにもなります。</span>\n",
    "        </td>\n",
    "    </tr>\n",
    "</table>\n",
    "<table style=\"margin: 0; text-align: left;\">\n",
    "    <tr>\n",
    "        <td style=\"width: 150px; height: 150px; vertical-align: middle;\">\n",
    "            <img src=\"../resources.jpg\" width=\"150\" height=\"150\" style=\"display: block;\" />\n",
    "        </td>\n",
    "        <td>\n",
    "            <h2 style=\"color:#f71;\">このコードはライブリソースです。メールにご注目ください。</h2>\n",
    "            <span style=\"color:#f71;\">コードは定期的に更新しています。ご質問があれば、例を追加したり、解説を改善したりしています。そのため、以下のコードは動画の内容と完全に同一ではないことにお気づきになるかもしれません。動画の内容はすべてここに掲載されていますが、より詳しい説明や、DeepSeekなどの新しいモデルも追加しています。インタラクティブな書籍のようなものだとお考えください。<br/><br/>\n",
    "                コースに関する重要な更新情報は、定期的にメールでお送りしています。Udemyの左側サイドバーにある「お知らせ」セクションでご確認いただけます。また、Udemyの通知設定からメールの受信を選択することもできます。皆様の受信トレイを大切にし、常に価値のあるメールをお届けできるよう努めています。\n",
    "            </span>\n",
    "        </td>\n",
    "    </tr>\n",
    "</table>\n",
    "<table style=\"margin: 0; text-align: left;\">\n",
    "    <tr>\n",
    "        <td style=\"width: 150px; height: 150px; vertical-align: middle;\">\n",
    "            <img src=\"../business.jpg\" width=\"150\" height=\"150\" style=\"display: block;\" />\n",
    "        </td>\n",
    "        <td>\n",
    "            <h2 style=\"color:#181;\">これらの演習のビジネス的価値</h2>\n",
    "            <span style=\"color:#181;\">最後に一言。これらのノートブックは教育的な内容であると同時に、楽しく学べるものになるよう心がけました。法学修士課程の受講生同士がジョークを交わしたり、議論したりといった楽しい内容も盛り込んでいます。しかし、私の目標は、ビジネスで応用できるスキルを教えることです。ビジネスへの影響については、これから説明していきますが、モデルやテクニックの経験を積む中で、今日の仕事でどのように活用できるかを考えてみてください。さらに詳しくお話したい場合や、ご意見をお持ちの場合は、ぜひご連絡ください。</span>\n",
    "        </td>\n",
    "    </tr>\n",
    "</table>"
   ]
  },
  {
   "cell_type": "code",
   "execution_count": 1,
   "id": "9bddd526-8045-4a9a-b18c-b428070c893f",
   "metadata": {},
   "outputs": [
    {
     "name": "stdout",
     "output_type": "stream",
     "text": [
      "Requirement already satisfied: python-dotenv in /home/seigi/.python3_venv/lib/python3.12/site-packages (1.1.1)\n",
      "Requirement already satisfied: openai in /home/seigi/.python3_venv/lib/python3.12/site-packages (1.97.1)\n",
      "Requirement already satisfied: anyio<5,>=3.5.0 in /home/seigi/.python3_venv/lib/python3.12/site-packages (from openai) (4.9.0)\n",
      "Requirement already satisfied: distro<2,>=1.7.0 in /home/seigi/.python3_venv/lib/python3.12/site-packages (from openai) (1.9.0)\n",
      "Requirement already satisfied: httpx<1,>=0.23.0 in /home/seigi/.python3_venv/lib/python3.12/site-packages (from openai) (0.28.1)\n",
      "Requirement already satisfied: jiter<1,>=0.4.0 in /home/seigi/.python3_venv/lib/python3.12/site-packages (from openai) (0.10.0)\n",
      "Requirement already satisfied: pydantic<3,>=1.9.0 in /home/seigi/.python3_venv/lib/python3.12/site-packages (from openai) (2.11.7)\n",
      "Requirement already satisfied: sniffio in /home/seigi/.python3_venv/lib/python3.12/site-packages (from openai) (1.3.1)\n",
      "Requirement already satisfied: tqdm>4 in /home/seigi/.python3_venv/lib/python3.12/site-packages (from openai) (4.67.1)\n",
      "Requirement already satisfied: typing-extensions<5,>=4.11 in /home/seigi/.python3_venv/lib/python3.12/site-packages (from openai) (4.14.1)\n",
      "Requirement already satisfied: idna>=2.8 in /home/seigi/.python3_venv/lib/python3.12/site-packages (from anyio<5,>=3.5.0->openai) (3.10)\n",
      "Requirement already satisfied: certifi in /home/seigi/.python3_venv/lib/python3.12/site-packages (from httpx<1,>=0.23.0->openai) (2025.7.14)\n",
      "Requirement already satisfied: httpcore==1.* in /home/seigi/.python3_venv/lib/python3.12/site-packages (from httpx<1,>=0.23.0->openai) (1.0.9)\n",
      "Requirement already satisfied: h11>=0.16 in /home/seigi/.python3_venv/lib/python3.12/site-packages (from httpcore==1.*->httpx<1,>=0.23.0->openai) (0.16.0)\n",
      "Requirement already satisfied: annotated-types>=0.6.0 in /home/seigi/.python3_venv/lib/python3.12/site-packages (from pydantic<3,>=1.9.0->openai) (0.7.0)\n",
      "Requirement already satisfied: pydantic-core==2.33.2 in /home/seigi/.python3_venv/lib/python3.12/site-packages (from pydantic<3,>=1.9.0->openai) (2.33.2)\n",
      "Requirement already satisfied: typing-inspection>=0.4.0 in /home/seigi/.python3_venv/lib/python3.12/site-packages (from pydantic<3,>=1.9.0->openai) (0.4.1)\n"
     ]
    }
   ],
   "source": [
    "!pip install python-dotenv\n",
    "!pip install openai"
   ]
  },
  {
   "cell_type": "code",
   "execution_count": 2,
   "id": "4e2a9393-7767-488e-a8bf-27c12dca35bd",
   "metadata": {},
   "outputs": [],
   "source": [
    "# imports\n",
    "\n",
    "import os\n",
    "import requests\n",
    "from dotenv import load_dotenv\n",
    "from bs4 import BeautifulSoup\n",
    "from IPython.display import Markdown, display\n",
    "from openai import OpenAI\n",
    "\n",
    "# このセルの実行中にエラーが発生した場合は、トラブルシューティング ノートブックを参照してください。"
   ]
  },
  {
   "cell_type": "markdown",
   "id": "6900b2a8-6384-4316-8aaa-5e519fca4254",
   "metadata": {},
   "source": [
    "# OpenAI (または Ollama) への接続\n",
    "\n",
    "次のセルでは、`.env` ファイル内の環境変数を読み込んで OpenAI に接続します。\n",
    "\n",
    "無料の Ollama をご利用になりたい場合は、README セクションの「有料 API の無料代替」をご覧ください。方法がわからない場合は、ソリューションフォルダ (day1_with_ollama.ipynb) に完全な解決策が記載されています。\n",
    "\n",
    "## 問題が発生した場合のトラブルシューティング:\n",
    "\n",
    "このフォルダ内の [troubleshooting](troubleshooting.ipynb) ノートブックにアクセスして、根本原因を特定し、修正するためのステップバイステップのコードをご覧ください。\n",
    "\n",
    "変更を加えた場合は、「カーネル」メニュー >> 「カーネルを再起動してすべてのセルの出力をクリア」を選択して、「カーネル」(このノートブックの背後にある Python プロセス) を再起動してください。その後、このノートブックを最初からもう一度試してください。\n",
    "\n",
    "または、私にご連絡ください。メッセージを送るか、ed@edwarddonner.com までメールでご連絡ください。すぐに対応いたします。\n",
    "\n",
    "API のコストについてご心配な点はありますか？README の注記をご覧ください。コストは最小限に抑えられ、いつでも自由にコントロールできます。無料の代替手段として Ollama もご利用いただけます。Ollama については 2 日目に説明します。"
   ]
  },
  {
   "cell_type": "code",
   "execution_count": null,
   "id": "3556f3ba-8855-4330-b066-93aec3fb5113",
   "metadata": {},
   "outputs": [],
   "source": [
    "import os\n",
    "print(os.environ.get(\"OPENAI_API_KEY\"))"
   ]
  },
  {
   "cell_type": "code",
   "execution_count": null,
   "id": "7b87cadb-d513-4303-baee-a37b6f938e4d",
   "metadata": {},
   "outputs": [
    {
     "name": "stdout",
     "output_type": "stream",
     "text": [
      "APIキーが見つかりました。今のところ問題はありません。\n"
     ]
    }
   ],
   "source": [
    "# .envというファイルから環境変数をロード\n",
    "\n",
    "load_dotenv(override=True)\n",
    "api_key = os.getenv('OPENAI_API_KEY')\n",
    "\n",
    "# Check the key\n",
    "\n",
    "if not api_key:\n",
    "    print(\"APIキーが見つかりません。このフォルダ内のトラブルシューティングノートブックを参照して、APIキーを特定し、修正してください。\")\n",
    "elif not api_key.startswith(\"sk-proj-\"):\n",
    "    print(\"APIキーは見つかりましたが、sk-proj-で始まりません。正しいキーを使用していることを確認してください。トラブルシューティングノートブックを参照してください。\")\n",
    "elif api_key.strip() != api_key:\n",
    "    print(\"APIキーは見つかりましたが、先頭または末尾にスペースまたはタブ文字が含まれている可能性があります。これらを削除してください。トラブルシューティングノートブックを参照してください。\")\n",
    "else:\n",
    "    print(\"APIキーが見つかりました。今のところ問題はありません。\")"
   ]
  },
  {
   "cell_type": "code",
   "execution_count": 5,
   "id": "019974d9-f3ad-4a8a-b5f9-0a3719aea2d3",
   "metadata": {},
   "outputs": [],
   "source": [
    "openai = OpenAI()\n",
    "\n",
    "# これが機能しない場合は、カーネル メニュー >> カーネルを再起動してすべてのセルの出力をクリアし、このノートブックの上から下のセルを実行してみてください。\n",
    "# それでも機能しない場合は (恐ろしい!)、このフォルダー内のトラブルシューティング ノートブックで詳細な手順を参照してください。"
   ]
  },
  {
   "cell_type": "markdown",
   "id": "442fc84b-0815-4f40-99ab-d9a5da6bda91",
   "metadata": {},
   "source": [
    "# プレビューとして、Frontier モデルを簡単に呼び出して開始してみましょう。"
   ]
  },
  {
   "cell_type": "code",
   "execution_count": 6,
   "id": "a58394bf-1e45-46af-9bfd-01e24da6f49a",
   "metadata": {},
   "outputs": [
    {
     "name": "stdout",
     "output_type": "stream",
     "text": [
      "こんにちは！初めてのメッセージをありがとう！どんなことについてお話ししましょうか？\n"
     ]
    }
   ],
   "source": [
    "# プレビューとして、これらのメッセージを使ってOpenAIを呼び出すのはとても簡単です。\n",
    "# 問題が発生した場合は、トラブルシューティングノートブックをご覧ください。\n",
    "message = \"こんにちは、GPT！これはあなたへの初めてのメッセージです！こんにちは！\"\n",
    "response = openai.chat.completions.create(model=\"gpt-4o-mini\", messages=[{\"role\":\"user\", \"content\":message}])\n",
    "print(response.choices[0].message.content)"
   ]
  },
  {
   "cell_type": "markdown",
   "id": "2aa190e5-cb31-456a-96cc-db109919cd78",
   "metadata": {},
   "source": [
    "## OK onwards with our first project"
   ]
  },
  {
   "cell_type": "code",
   "execution_count": 7,
   "id": "c5e793b2-6775-426a-a139-4848291d0463",
   "metadata": {},
   "outputs": [],
   "source": [
    "# ウェブページを表すクラス\n",
    "# クラスについて詳しくない場合は、「中級 Python」ノートブックをご覧ください。\n",
    "# 一部のウェブサイトでは、取得時に適切なヘッダーを使用する必要があります。\n",
    "\n",
    "headers = {\n",
    " \"User-Agent\": \"Mozilla/5.0 (Windows NT 10.0; Win64; x64) AppleWebKit/537.36 (KHTML, like Gecko) Chrome/117.0.0.0 Safari/537.36\"\n",
    "}\n",
    "\n",
    "class Website:\n",
    "\n",
    "    def __init__(self, url):\n",
    "        \"\"\"\n",
    "        Create this Website object from the given url using the BeautifulSoup library\n",
    "        \"\"\"\n",
    "        self.url = url\n",
    "        response = requests.get(url, headers=headers)\n",
    "        soup = BeautifulSoup(response.content, 'html.parser')\n",
    "        self.title = soup.title.string if soup.title else \"No title found\"\n",
    "        for irrelevant in soup.body([\"script\", \"style\", \"img\", \"input\"]):\n",
    "            irrelevant.decompose()\n",
    "        self.text = soup.body.get_text(separator=\"\\n\", strip=True)"
   ]
  },
  {
   "cell_type": "code",
   "execution_count": 8,
   "id": "2ef960cf-6dc2-4cda-afb3-b38be12f4c97",
   "metadata": {},
   "outputs": [
    {
     "name": "stdout",
     "output_type": "stream",
     "text": [
      "Home - Edward Donner\n",
      "Home\n",
      "Connect Four\n",
      "Outsmart\n",
      "An arena that pits LLMs against each other in a battle of diplomacy and deviousness\n",
      "About\n",
      "Posts\n",
      "Well, hi there.\n",
      "I’m Ed. I like writing code and experimenting with LLMs, and hopefully you’re here because you do too. I also enjoy DJing (but I’m badly out of practice), amateur electronic music production (\n",
      "very\n",
      "amateur) and losing myself in\n",
      "Hacker News\n",
      ", nodding my head sagely to things I only half understand.\n",
      "I’m the co-founder and CTO of\n",
      "Nebula.io\n",
      ". We’re applying AI to a field where it can make a massive, positive impact: helping people discover their potential and pursue their reason for being. Recruiters use our product today to source, understand, engage and manage talent. I’m previously the founder and CEO of AI startup untapt,\n",
      "acquired in 2021\n",
      ".\n",
      "We work with groundbreaking, proprietary LLMs verticalized for talent, we’ve\n",
      "patented\n",
      "our matching model, and our award-winning platform has happy customers and tons of press coverage.\n",
      "Connect\n",
      "with me for more!\n",
      "May 28, 2025\n",
      "Connecting my courses – become an LLM expert and leader\n",
      "May 18, 2025\n",
      "2025 AI Executive Briefing\n",
      "April 21, 2025\n",
      "The Complete Agentic AI Engineering Course\n",
      "January 23, 2025\n",
      "LLM Workshop – Hands-on with Agents – resources\n",
      "Navigation\n",
      "Home\n",
      "Connect Four\n",
      "Outsmart\n",
      "An arena that pits LLMs against each other in a battle of diplomacy and deviousness\n",
      "About\n",
      "Posts\n",
      "Get in touch\n",
      "ed [at] edwarddonner [dot] com\n",
      "www.edwarddonner.com\n",
      "Follow me\n",
      "LinkedIn\n",
      "Twitter\n",
      "Facebook\n",
      "Subscribe to newsletter\n",
      "Type your email…\n",
      "Subscribe\n"
     ]
    }
   ],
   "source": [
    "# 試してみましょう。ウェブサイトを変更し、print ステートメントを追加して、実際に実行してみましょう。\n",
    "\n",
    "ed = Website(\"https://edwarddonner.com\")\n",
    "print(ed.title)\n",
    "print(ed.text)"
   ]
  },
  {
   "cell_type": "markdown",
   "id": "6a478a0c-2c53-48ff-869c-4d08199931e1",
   "metadata": {},
   "source": [
    "## プロンプトの種類\n",
    "\n",
    "すでにご存知かもしれませんが、そうでない場合は、すぐに使いこなせるようになるでしょう。\n",
    "\n",
    "GPT4o のようなモデルは、特定の方法で指示を受け取るように学習されています。\n",
    "\n",
    "モデルが受け取ることを期待するものは次のとおりです。\n",
    "\n",
    "**システムプロンプト** は、実行しているタスクと適切な口調を指示します。\n",
    "\n",
    "**ユーザープロンプト** は、返答すべき会話のきっかけとなります。"
   ]
  },
  {
   "cell_type": "code",
   "execution_count": 9,
   "id": "abdb8417-c5dc-44bc-9bee-2e059d162699",
   "metadata": {},
   "outputs": [],
   "source": [
    "# システムプロンプトを定義します。後でこれを試して、最後の文を「スペイン語でマークダウンで応答してください」に変更することができます。\n",
    "\n",
    "system_prompt = \"あなたはウェブサイトのコンテンツを分析し、\\\n",
    "ナビゲーションに関連する可能性のあるテキストを無視して\\\n",
    "短い要約を提供するアシスタントです。マークダウンで回答してください。\""
   ]
  },
  {
   "cell_type": "code",
   "execution_count": 10,
   "id": "f0275b1b-7cfe-4f9d-abfa-7650d378da0c",
   "metadata": {},
   "outputs": [],
   "source": [
    "# ウェブサイトの概要を尋ねるユーザープロンプトを書き込む関数:\n",
    "\n",
    "def user_prompt_for(website):\n",
    "    user_prompt = f\"あなたは、次のタイトルのウェブサイトを見ています: {website.title}\"\n",
    "    user_prompt += \"\\このウェブサイトの内容は以下の通りです。\\\n",
    "    このウェブサイトの簡単な概要をマークダウン形式で記述してください。\\\n",
    "    ニュースやお知らせが含まれている場合は、それらも要約してください。\\n\\n\"\n",
    "    user_prompt += website.text\n",
    "    return user_prompt"
   ]
  },
  {
   "cell_type": "code",
   "execution_count": 11,
   "id": "26448ec4-5c00-4204-baec-7df91d11ff2e",
   "metadata": {},
   "outputs": [
    {
     "name": "stdout",
     "output_type": "stream",
     "text": [
      "あなたは、次のタイトルのウェブサイトを見ています: Home - Edward Donner\\このウェブサイトの内容は以下の通りです。    このウェブサイトの簡単な概要をマークダウン形式で記述してください。    ニュースやお知らせが含まれている場合は、それらも要約してください。\n",
      "\n",
      "Home\n",
      "Connect Four\n",
      "Outsmart\n",
      "An arena that pits LLMs against each other in a battle of diplomacy and deviousness\n",
      "About\n",
      "Posts\n",
      "Well, hi there.\n",
      "I’m Ed. I like writing code and experimenting with LLMs, and hopefully you’re here because you do too. I also enjoy DJing (but I’m badly out of practice), amateur electronic music production (\n",
      "very\n",
      "amateur) and losing myself in\n",
      "Hacker News\n",
      ", nodding my head sagely to things I only half understand.\n",
      "I’m the co-founder and CTO of\n",
      "Nebula.io\n",
      ". We’re applying AI to a field where it can make a massive, positive impact: helping people discover their potential and pursue their reason for being. Recruiters use our product today to source, understand, engage and manage talent. I’m previously the founder and CEO of AI startup untapt,\n",
      "acquired in 2021\n",
      ".\n",
      "We work with groundbreaking, proprietary LLMs verticalized for talent, we’ve\n",
      "patented\n",
      "our matching model, and our award-winning platform has happy customers and tons of press coverage.\n",
      "Connect\n",
      "with me for more!\n",
      "May 28, 2025\n",
      "Connecting my courses – become an LLM expert and leader\n",
      "May 18, 2025\n",
      "2025 AI Executive Briefing\n",
      "April 21, 2025\n",
      "The Complete Agentic AI Engineering Course\n",
      "January 23, 2025\n",
      "LLM Workshop – Hands-on with Agents – resources\n",
      "Navigation\n",
      "Home\n",
      "Connect Four\n",
      "Outsmart\n",
      "An arena that pits LLMs against each other in a battle of diplomacy and deviousness\n",
      "About\n",
      "Posts\n",
      "Get in touch\n",
      "ed [at] edwarddonner [dot] com\n",
      "www.edwarddonner.com\n",
      "Follow me\n",
      "LinkedIn\n",
      "Twitter\n",
      "Facebook\n",
      "Subscribe to newsletter\n",
      "Type your email…\n",
      "Subscribe\n"
     ]
    }
   ],
   "source": [
    "print(user_prompt_for(ed))"
   ]
  },
  {
   "cell_type": "markdown",
   "id": "ea211b5f-28e1-4a86-8e52-c0b7677cadcc",
   "metadata": {},
   "source": [
    "## メッセージ\n",
    "\n",
    "OpenAI の API は、特定の構造でメッセージを受信することを想定しています。\n",
    "他の多くの API もこの構造を共有しています。\n",
    "\n",
    "```python\n",
    "[\n",
    "    {\"role\": \"system\", \"content\": \"system message goes here\"},\n",
    "    {\"role\": \"user\", \"content\": \"user message goes here\"}\n",
    "]\n",
    "```\n",
    "\n",
    "プレビューとして、次の 2 つのセルはかなり単純な呼び出しを行います。強力な GPT を拡張しません (まだ!)。"
   ]
  },
  {
   "cell_type": "code",
   "execution_count": 12,
   "id": "f25dcd35-0cd0-4235-9f64-ac37ed9eaaa5",
   "metadata": {},
   "outputs": [],
   "source": [
    "messages = [\n",
    "    {\"role\": \"system\", \"content\": \"あなたは皮肉屋のアシスタントです\"},\n",
    "    {\"role\": \"user\", \"content\": \"2 + 2 は何ですか?\"}\n",
    "]"
   ]
  },
  {
   "cell_type": "code",
   "execution_count": 13,
   "id": "21ed95c5-7001-47de-a36d-1d6673b403ce",
   "metadata": {},
   "outputs": [
    {
     "name": "stdout",
     "output_type": "stream",
     "text": [
      "2 + 2 は 4 です。でも、そんな簡単な計算をするなんて、あなたはなかなか頭を使っていないですね。次はもう少し難しい問題に挑戦してみては？\n"
     ]
    }
   ],
   "source": [
    "# プレビューとして、システム メッセージとユーザー メッセージを使用して OpenAI を呼び出します。\n",
    "\n",
    "response = openai.chat.completions.create(model=\"gpt-4o-mini\", messages=messages)\n",
    "print(response.choices[0].message.content)"
   ]
  },
  {
   "cell_type": "markdown",
   "id": "d06e8d78-ce4c-4b05-aa8e-17050c82bb47",
   "metadata": {},
   "source": [
    "## それでは、関数を使ってGPT-4o-mini用の便利なメッセージを構築してみましょう。"
   ]
  },
  {
   "cell_type": "code",
   "execution_count": 14,
   "id": "0134dfa4-8299-48b5-b444-f2a8c3403c88",
   "metadata": {},
   "outputs": [],
   "source": [
    "# この関数が上記のフォーマットを正確に作成する方法を確認します\n",
    "\n",
    "def messages_for(website):\n",
    "    return [\n",
    "        {\"role\": \"system\", \"content\": system_prompt},\n",
    "        {\"role\": \"user\", \"content\": user_prompt_for(website)}\n",
    "    ]"
   ]
  },
  {
   "cell_type": "code",
   "execution_count": 15,
   "id": "36478464-39ee-485c-9f3f-6a4e458dbc9c",
   "metadata": {},
   "outputs": [
    {
     "data": {
      "text/plain": [
       "[{'role': 'system',\n",
       "  'content': 'あなたはウェブサイトのコンテンツを分析し、ナビゲーションに関連する可能性のあるテキストを無視して短い要約を提供するアシスタントです。マークダウンで回答してください。'},\n",
       " {'role': 'user',\n",
       "  'content': 'あなたは、次のタイトルのウェブサイトを見ています: Home - Edward Donner\\\\このウェブサイトの内容は以下の通りです。    このウェブサイトの簡単な概要をマークダウン形式で記述してください。    ニュースやお知らせが含まれている場合は、それらも要約してください。\\n\\nHome\\nConnect Four\\nOutsmart\\nAn arena that pits LLMs against each other in a battle of diplomacy and deviousness\\nAbout\\nPosts\\nWell, hi there.\\nI’m Ed. I like writing code and experimenting with LLMs, and hopefully you’re here because you do too. I also enjoy DJing (but I’m badly out of practice), amateur electronic music production (\\nvery\\namateur) and losing myself in\\nHacker News\\n, nodding my head sagely to things I only half understand.\\nI’m the co-founder and CTO of\\nNebula.io\\n. We’re applying AI to a field where it can make a massive, positive impact: helping people discover their potential and pursue their reason for being. Recruiters use our product today to source, understand, engage and manage talent. I’m previously the founder and CEO of AI startup untapt,\\nacquired in 2021\\n.\\nWe work with groundbreaking, proprietary LLMs verticalized for talent, we’ve\\npatented\\nour matching model, and our award-winning platform has happy customers and tons of press coverage.\\nConnect\\nwith me for more!\\nMay 28, 2025\\nConnecting my courses – become an LLM expert and leader\\nMay 18, 2025\\n2025 AI Executive Briefing\\nApril 21, 2025\\nThe Complete Agentic AI Engineering Course\\nJanuary 23, 2025\\nLLM Workshop – Hands-on with Agents – resources\\nNavigation\\nHome\\nConnect Four\\nOutsmart\\nAn arena that pits LLMs against each other in a battle of diplomacy and deviousness\\nAbout\\nPosts\\nGet in touch\\ned [at] edwarddonner [dot] com\\nwww.edwarddonner.com\\nFollow me\\nLinkedIn\\nTwitter\\nFacebook\\nSubscribe to newsletter\\nType your email…\\nSubscribe'}]"
      ]
     },
     "execution_count": 15,
     "metadata": {},
     "output_type": "execute_result"
    }
   ],
   "source": [
    "# これを試してから、他のいくつかのウェブサイトでも試してみてください\n",
    "\n",
    "messages_for(ed)"
   ]
  },
  {
   "cell_type": "markdown",
   "id": "16f49d46-bf55-4c3e-928f-68fc0bf715b0",
   "metadata": {},
   "source": [
    "## まとめる時間です - OpenAI の API は非常にシンプルです!"
   ]
  },
  {
   "cell_type": "code",
   "execution_count": 16,
   "id": "905b9919-aba7-45b5-ae65-81b3d1d78e34",
   "metadata": {},
   "outputs": [],
   "source": [
    "# それでは、OpenAI API を呼び出してみましょう。きっと使いこなせるようになるはずです！\n",
    "\n",
    "def summarize(url):\n",
    "    website = Website(url)\n",
    "    response = openai.chat.completions.create(\n",
    "        model = \"gpt-4o-mini\",\n",
    "        messages = messages_for(website)\n",
    "    )\n",
    "    return response.choices[0].message.content"
   ]
  },
  {
   "cell_type": "code",
   "execution_count": 17,
   "id": "05e38d41-dfa4-4b20-9c96-c46ea75d9fb5",
   "metadata": {},
   "outputs": [
    {
     "data": {
      "text/plain": [
       "'```markdown\\n# Edward Donner - ウェブサイト概要\\n\\nこのウェブサイトは、Edによる個人的なブログおよびプロフェッショナルなプラットフォームで、主に大規模言語モデル（LLM）に関連するトピックを扱っています。\\n\\n## 内容の要約\\n\\n- **自己紹介**: EdはコーディングとLLMの実験を好む。DJや電子音楽制作にも興味があるが、現在はあまり練習していない。\\n  \\n- **職業経歴**: Nebula.ioの共同創業者兼CTOであり、AIを通じて人々の潜在能力を引き出すことに専念。以前はAIスタートアップのuntaptの創業者兼CEOで、2021年に買収された。\\n\\n- **技術的な強み**: 独自のLLMを使用し、人材派遣業界における特化型ソリューションを提供。特許を取得したマッチングモデルを持ち、顧客からの評価も高い。\\n\\n## ニュースおよびお知らせ\\n\\n- **最新のコース情報**:\\n  - 2025年5月28日: コースの接続 - LLMの専門家およびリーダーになる\\n  - 2025年5月18日: 2025年AIエグゼクティブブリーフィング\\n  - 2025年4月21日: 完全なエージェンティックAIエンジニアリングコース\\n  - 2025年1月23日: エージェントとのハンズオンLLMワークショップ - リソース\\n\\n## 連絡先\\n\\n- メール: ed [at] edwarddonner [dot] com\\n- SNS連携: LinkedIn, Twitter, Facebook\\n- ニュースレター登録\\n```\\n'"
      ]
     },
     "execution_count": 17,
     "metadata": {},
     "output_type": "execute_result"
    }
   ],
   "source": [
    "summarize(\"https://edwarddonner.com\")"
   ]
  },
  {
   "cell_type": "code",
   "execution_count": 18,
   "id": "3d926d59-450e-4609-92ba-2d6f244f1342",
   "metadata": {},
   "outputs": [],
   "source": [
    "# Jupyter出力でこれをきれいに表示する関数（マークダウンを使用）\n",
    "\n",
    "def display_summary(url):\n",
    "    summary = summarize(url)\n",
    "    display(Markdown(summary))"
   ]
  },
  {
   "cell_type": "code",
   "execution_count": 19,
   "id": "3018853a-445f-41ff-9560-d925d1774b2f",
   "metadata": {},
   "outputs": [
    {
     "data": {
      "text/markdown": [
       "```markdown\n",
       "# Edward Donner's Website Overview\n",
       "\n",
       "## About\n",
       "Edward Donner is a software developer and co-founder/CTO of Nebula.io, where he utilizes AI to help individuals discover their potential and manage talent. He has a background as the founder and CEO of the AI startup untapt, which was acquired in 2021. His interests include coding, experimenting with Large Language Models (LLMs), DJing, and electronic music production.\n",
       "\n",
       "## Features\n",
       "- **Connect Four**: A platform for challenging LLMs in a competitive setting.\n",
       "- **Outsmart**: A segment that focuses on the strategic capabilities of LLMs.\n",
       "\n",
       "## News & Updates\n",
       "- **May 28, 2025**: Launch of courses aimed at becoming an LLM expert.\n",
       "- **May 18, 2025**: Announcement of the 2025 AI Executive Briefing.\n",
       "- **April 21, 2025**: Introduction of \"The Complete Agentic AI Engineering Course.\"\n",
       "- **January 23, 2025**: Upcoming LLM Workshop featuring hands-on resources with agents.\n",
       "\n",
       "## Contact\n",
       "Visitors can connect with Edward via LinkedIn, Twitter, and Facebook or subscribe to his newsletter.\n",
       "```\n"
      ],
      "text/plain": [
       "<IPython.core.display.Markdown object>"
      ]
     },
     "metadata": {},
     "output_type": "display_data"
    }
   ],
   "source": [
    "display_summary(\"https://edwarddonner.com\")"
   ]
  },
  {
   "cell_type": "markdown",
   "id": "b3bcf6f4-adce-45e9-97ad-d9a5d7a3a624",
   "metadata": {},
   "source": [
    "# もっと多くのウェブサイトを試してみましょう\n",
    "\n",
    "このシンプルなアプローチでスクレイピングできるウェブサイトでのみ機能することに注意してください。\n",
    "\n",
    "ReactアプリのようにJavaScriptでレンダリングされるウェブサイトは表示されません。この問題を回避するSelenium実装については、community-contributionsフォルダをご覧ください。Seleniumのインストール方法については、ChatGPTに問い合わせてください。\n",
    "\n",
    "また、CloudFront（および同様のサービス）で保護されたウェブサイトでは403エラーが発生する可能性があります。この点を指摘してくださったAndy Jに感謝します。\n",
    "\n",
    "しかし、多くのウェブサイトは問題なく動作します！"
   ]
  },
  {
   "cell_type": "code",
   "execution_count": 20,
   "id": "45d83403-a24c-44b5-84ac-961449b4008f",
   "metadata": {},
   "outputs": [
    {
     "data": {
      "text/markdown": [
       "```markdown\n",
       "# CNNウェブサイト概要\n",
       "\n",
       "CNNの公式ウェブサイトは、最新のニュースやビデオを提供する情報プラットフォームです。以下は主なコンテンツの概要です。\n",
       "\n",
       "## カテゴリー\n",
       "- **国内ニュース**：アメリカ国内の最新の出来事や政治関連ニュース\n",
       "- **国際ニュース**：世界中の重要な事件\n",
       "- **ビジネス**：経済動向や企業ニュース\n",
       "- **健康**：公衆衛生や医療に関する情報\n",
       "- **エンターテインメント**：映画、音楽、セレブに関するニュース\n",
       "- **スポーツ**：さまざまなスポーツの最新情報\n",
       "\n",
       "## トレンド記事\n",
       "- **ウクライナ・ロシア戦争**：最新の進展と影響\n",
       "- **イスラエル・ハマス戦争**：紛争の最新情報\n",
       "- **トランプ大統領の貿易協定**：米日間の貿易協定について\n",
       "- **ベニス・ウィリアムズのテニス復帰**：スポーツの話題\n",
       "\n",
       "## 特集\n",
       "- 環境問題や気候変動、科学技術に関する特集記事が強調されています。\n",
       "- **「Call to Earth」**などのプロジェクトで環境保護と社会的影響を考える特集があります。\n",
       "\n",
       "## 追加機能\n",
       "- ライブTVの視聴、ポッドキャスト、ゲームなど多岐にわたるエンタメコンテンツも提供。\n",
       "- ユーザーアカウントにより、パーソナライズされたニュースフィードを購読可能。\n",
       "\n",
       "CNNは、重要な情報を迅速に伝えることに重点を置いているニュースメディアです。\n",
       "```"
      ],
      "text/plain": [
       "<IPython.core.display.Markdown object>"
      ]
     },
     "metadata": {},
     "output_type": "display_data"
    }
   ],
   "source": [
    "display_summary(\"https://cnn.com\")"
   ]
  },
  {
   "cell_type": "code",
   "execution_count": 21,
   "id": "75e9fd40-b354-4341-991e-863ef2e59db7",
   "metadata": {},
   "outputs": [
    {
     "data": {
      "text/markdown": [
       "```markdown\n",
       "# ウェブサイト概要: Anthropic\n",
       "\n",
       "Anthropicのウェブサイトでは、同社が開発したAIモデル「Claude」についての情報が提供されています。特に「Claude Opus 4」や「Claude Sonnet 4」といった最新のモデルに焦点を当て、強力なAIエージェントを構築するためのリソースやドキュメントも掲載されています。\n",
       "\n",
       "## 主な内容\n",
       "- **AIモデル**: Claude Opus 4およびSonnet 4の詳細情報と機能説明。\n",
       "- **API**: AIアプリケーションの開発支援に関する情報。\n",
       "- **ソリューション**: 様々な業界向けのAIエージェントやカスタマーサポート、教育向けのリソースが提供されています。\n",
       "- **研究**: AIの安全性に関する考え方や、経済指標、AIが社会に与える影響に関する内容も含まれています。\n",
       "\n",
       "## ニュース\n",
       "- **ISO 42001認証**についての発表。\n",
       "- 国内外の様々なAIプロジェクトやポリシーに関する最新情報も随時発信されています。\n",
       "\n",
       "## 学習リソース\n",
       "- **Anthropic Academy**: Claudeを使用した開発者向けの学習リソースへのアクセス。\n",
       "- **ケーススタディ**: クライアントの成功事例やインタビューを通じた実践的な知見。\n",
       "\n",
       "## 組織について\n",
       "- Anthropicは、持続可能な長期的な人類の利益を重視し、安全なAI開発に取り組んでいます。\n",
       "```\n"
      ],
      "text/plain": [
       "<IPython.core.display.Markdown object>"
      ]
     },
     "metadata": {},
     "output_type": "display_data"
    }
   ],
   "source": [
    "display_summary(\"https://anthropic.com\")"
   ]
  },
  {
   "cell_type": "markdown",
   "id": "c951be1a-7f1b-448f-af1f-845978e47e2c",
   "metadata": {},
   "source": [
    "<table style=\"margin: 0; text-align: left;\">\n",
    "    <tr>\n",
    "        <td style=\"width: 150px; height: 150px; vertical-align: middle;\">\n",
    "            <img src=\"../business.jpg\" width=\"150\" height=\"150\" style=\"display: block;\" />\n",
    "        </td>\n",
    "        <td>\n",
    "            <h2 style=\"color:#181;\">ビジネスアプリケーション</h2>\n",
    "            <span style=\"color:#181;\">この演習では、Frontier Model（AIの最先端を行く先進モデル）のクラウドAPI呼び出しを初めて体験しました。このコースでは、OpenAIなどのAPIを様々な段階で使用し、独自のLLMも構築します。具体的には、Gen AIの典型的なユースケースである要約にこれを適用しました。要約は、ニュースの要約、財務実績の要約、カバーレターの履歴書の要約など、あらゆるビジネス分野に適用でき、その用途は無限です。要約をビジネスにどのように適用できるかを考え、ソリューションのプロトタイプを作成してみてください。</span>\n",
    "        </td>\n",
    "    </tr>\n",
    "</table>\n",
    "\n",
    "<table style=\"margin: 0; text-align: left;\">\n",
    "    <tr>\n",
    "        <td style=\"width: 150px; height: 150px; vertical-align: middle;\">\n",
    "            <img src=\"../important.jpg\" width=\"150\" height=\"150\" style=\"display: block;\" />\n",
    "        </td>\n",
    "        <td>\n",
    "            <h2 style=\"color:#900;\">次に進む前に、実際に試してみてください</h2>\n",
    "            <span style=\"color:#900;\">下のセルを使って、シンプルな商用サンプルを作成してください。今は要約のユースケースに絞って考えてみてください。例えば、メールの内容を受け取り、適切な短い件名を提案するサンプルを作成してみてください。これは、商用メールツールに組み込むことができる機能です。</span>\n",
    "        </td>\n",
    "    </tr>\n",
    "</table>"
   ]
  },
  {
   "cell_type": "markdown",
   "id": "3d0b8469-9bbb-4b98-be23-2b596bcfd7b6",
   "metadata": {},
   "source": [
    "```python\n",
    "# Step 1: Create your prompts\n",
    "\n",
    "system_prompt = \"something here\"\n",
    "user_prompt = \"\"\"\n",
    "    Lots of text\n",
    "    Can be pasted here\n",
    "\"\"\"\n",
    "\n",
    "# Step 2: Make the messages list\n",
    "\n",
    "messages = [] # fill this in\n",
    "\n",
    "# Step 3: Call OpenAI\n",
    "\n",
    "response =\n",
    "\n",
    "# Step 4: print the result\n",
    "\n",
    "print(\n",
    "```"
   ]
  },
  {
   "cell_type": "markdown",
   "id": "fea419fb-2a96-40b2-9c1b-287cc3fb0530",
   "metadata": {},
   "source": [
    "# EXERCISE\n",
    "https://github.com/ed-donner/llm_engineering/blob/main/week1/community-contributions/Day1-finance-journal-summarizer.ipynb\n",
    "\n",
    "のノートブックは「Journal of Financial and Quantitative Analysis（JFQA）」という金融系学術誌の最新号から\n",
    "\n",
    "https://www.cambridge.org/core/journals/journal-of-financial-and-quantitative-analysis/latest-issue\n",
    "\n",
    "論文情報（タイトル、著者、発行日、アブストラクト）を自動で取得し、\n",
    "そのアブストラクトをOpenAIのAPIを使って2〜3文で要約するコード。"
   ]
  },
  {
   "cell_type": "code",
   "execution_count": 22,
   "id": "de497689-f5ed-419c-a809-cceaa64ab9b9",
   "metadata": {},
   "outputs": [
    {
     "name": "stdout",
     "output_type": "stream",
     "text": [
      "Found 16 unique article links.\n",
      "\n",
      "📘 Financing Payouts\n",
      "   Authors: Joan Farre-Mensa, Roni Michaely, Martin Schmalz\n",
      "   Date   : 2025/06\n",
      "   Journal: JFQA (Latest Issue)\n",
      "   Summary: The paper investigates the relationship between corporate payouts and capital raising, revealing that 43% of firms making payouts also raise capital in the same year, with 31% of aggregate payouts being financed externally, mainly through debt. The study employs empirical analysis to show that many financed payouts cannot be attributed to payout smoothing in response to earnings volatility but instead result from firms consistently setting payouts above their free cash flow. The main finding indicates that profitable firms with moderate growth utilize debt-financed payouts to effectively…\n",
      "------------------------------------------------------------------------------------------\n",
      "\n",
      "📘 Exposing the Revolving Door in Executive Branch Agencies\n",
      "   Authors: Logan P. Emery, Mara Faccio\n",
      "   Date   : 2025/06\n",
      "   Journal: JFQA (Latest Issue)\n",
      "   Summary: The paper investigates the revolving door phenomenon by analyzing the career trajectories of 420,153 individuals in top corporate roles across 12,869 firms, focusing on their prior experience in executive branch agencies. Using this data, the authors find that firms are more likely to secure procurement contracts after hiring former regulators within two years of their agency departure, supporting the \"knowledge\" hypothesis. Additionally, they observe that less-complex contracts signed after such appointments are more prone to renegotiation, leading to increased government costs.\n",
      "------------------------------------------------------------------------------------------\n",
      "\n",
      "📘 Judge Ideology and Opportunistic Insider Trading\n",
      "   Authors: Allen H. Huang, Kai Wai Hui, Yue Zheng\n",
      "   Date   : 2025/06\n",
      "   Journal: JFQA (Latest Issue)\n",
      "   Summary: This paper investigates the influence of federal judges' political ideology on insider trading enforcement, specifically examining whether liberal judges impose heavier penalties than conservative ones. The authors employ an analysis of insider trading lawsuits and judge partisanship, revealing that liberal judges are associated with stricter penalties and that firms in circuits with more liberal judges engage in fewer opportunistic insider sales, particularly when the risk of lawsuits is higher. Additionally, the study finds that the Securities and Exchange Commission takes judges' ideology…\n",
      "------------------------------------------------------------------------------------------\n",
      "\n",
      "📘 Gender, Competition, and Performance: International Evidence\n",
      "   Authors: Kai Li, Qiyuan Peng, Rui Shen, Gabriel Wong\n",
      "   Date   : 2025/06\n",
      "   Journal: JFQA (Latest Issue)\n",
      "   Summary: The paper investigates the relationship between a country's institutional and economic development and the representation of female equity analysts, analyzing a sample of 18,269 analysts across 42 countries from 2004 to 2019. The authors find a negative correlation between development and the female share of analysts, and in individualistic cultures, there is no gender gap in forecast accuracy; however, female analysts tend to be more skilled and are more likely to leave underperforming positions. The findings suggest that individualism influences women's career choices, aligning with their…\n",
      "------------------------------------------------------------------------------------------\n",
      "\n",
      "📘 Attention Constraints and Financial Inclusion\n",
      "   Authors: Bo Huang, Jiacui Li, Tse-Chun Lin, Mingzhu Tai, Zoey Yiyuan Zhou\n",
      "   Date   : 2025/06\n",
      "   Journal: JFQA (Latest Issue)\n",
      "   Summary: The paper investigates how attention constraints affect financial inclusion, specifically examining the behavior of loan officers during the loan screening process. By analyzing administrative data, the authors find that loan officers, when under increased workload, tend to exert less effort on lower socioeconomic status (SES) applicants, leading to higher rejection rates for these individuals while quickly approving high-SES applicants. This selective attention exacerbates the approval rate disparity between high- and low-SES applicants, highlighting the impact of attention constraints on…\n",
      "------------------------------------------------------------------------------------------\n",
      "\n",
      "📘 Macroeconomic Expectations and Expected Returns\n",
      "   Authors: Yizhe Deng, Yunqi Wang, Ti Zhou\n",
      "   Date   : 2025/06\n",
      "   Journal: JFQA (Latest Issue)\n",
      "   Summary: The paper investigates how a macro condition index, constructed from professional economists' forecasts of output, inflation, and labor and housing market conditions, can predict stock returns and equity premiums. Using this index, the authors find that it produces countercyclical equity premium forecasts, which contrasts with previous findings of procyclical subjective equity premia. The study concludes that the index accurately reflects underlying macroeconomic conditions affecting the equity premium and operates through a discount rate channel, supporting a theory of time-varying risk…\n",
      "------------------------------------------------------------------------------------------\n",
      "\n",
      "📘 A Tale of Fear and Euphoria in the Stock Market\n",
      "   Authors: Hui Guo, Qian Lin, Yujou Pai\n",
      "   Date   : 2025/06\n",
      "   Journal: JFQA (Latest Issue)\n",
      "   Summary: The paper investigates the inconsistent relationship between stock market variance and both risk premia and prices, questioning how these dynamics can be explained. Using a consumption-based model, the authors demonstrate that market risk premia are influenced by fear and euphoria variances, leading to varying correlations with market variance. Their empirical findings validate the model's assumptions and reveal that the overall market variance can have either a positive or negative correlation with expected returns and prices, depending on the dominance of fear or euphoria.\n",
      "------------------------------------------------------------------------------------------\n",
      "\n",
      "📘 Does the Options Market Underreact to Firms’ Left-Tail Risk?\n",
      "   Authors: Bei Chen, Quan Gan, Aurelio Vasquez\n",
      "   Date   : 2025/06\n",
      "   Journal: JFQA (Latest Issue)\n",
      "   Summary: The paper investigates whether firms' left-tail risk can predict future returns on crash insurance, specifically using bear spreads as a proxy for this insurance. The authors find that crash insurance for firms with high left-tail risk yields positive returns, while it yields negative returns for firms with low left-tail risk, indicating that the market does not fully price the downside protection offered. The findings are attributed to underreactions in volatility and the persistence of left-tail risk, with some influence from disagreement among investors, but not from a risk-based…\n",
      "------------------------------------------------------------------------------------------\n",
      "\n",
      "📘 Variance Decomposition and Cryptocurrency Return Prediction\n",
      "   Authors: Suzanne S. Lee, Minho Wang\n",
      "   Date   : 2025/06\n",
      "   Journal: JFQA (Latest Issue)\n",
      "   Summary: This study investigates the predictive relationship between realized variances and cryptocurrency returns using intraday data. The authors find that cryptocurrencies with higher variances tend to yield lower returns in the following weeks, particularly due to positive jump and jump-robust variances, with this effect being stronger for smaller, less liquid cryptocurrencies that attract more retail trading. The findings highlight the unique dynamics of cryptocurrency markets, where retail investor behavior and preferences significantly influence pricing effects.\n",
      "------------------------------------------------------------------------------------------\n",
      "\n",
      "📘 ETFs, Creation and Redemption Processes, and Bond Liquidity\n",
      "   Authors: John D. Finnerty, Natalia Reisel, Xun Zhong\n",
      "   Date   : 2025/06\n",
      "   Journal: JFQA (Latest Issue)\n",
      "   Summary: The paper investigates how the creation and redemption processes of bond exchange-traded funds (ETFs) affect the liquidity of the underlying bond market. Utilizing daily data on ETF creation and redemption, the study finds that bonds included in these processes experience enhanced liquidity, particularly during market stress, with a more pronounced effect during redemptions than creations. The findings suggest that while ETF mispricing arbitrage contributes to improved bond liquidity, factors such as transaction costs and inventory management may restrict this arbitrage.\n",
      "------------------------------------------------------------------------------------------\n",
      "\n",
      "📘 Transitory and Permanent Cash Flow Shocks in Debt Contract Design\n",
      "   Authors: Le Ma, Anywhere Sikochi, Yajun Xiao\n",
      "   Date   : 2025/06\n",
      "   Journal: JFQA (Latest Issue)\n",
      "   Summary: The paper investigates how lenders structure contracts in response to transitory versus permanent cash flow shocks experienced by borrowers. Using empirical analysis, the study finds that volatile transitory shocks lead to fewer liquidity covenants, reflecting a design that allows for greater financial flexibility, while volatile permanent shocks result in more stringent covenants due to their impact on borrowers' economic fundamentals. Ultimately, the research highlights that these two types of cash flow shocks have significantly different implications for debt contract covenant design and…\n",
      "------------------------------------------------------------------------------------------\n",
      "\n",
      "📘 COVID-19 Vaccinations, Business Activity, and Firm Value\n",
      "   Authors: John M. Bizjak, Swaminathan L. Kalpathy, Vassil T. Mihov, Jue Ren\n",
      "   Date   : 2025/06\n",
      "   Journal: JFQA (Latest Issue)\n",
      "   Summary: The paper investigates how COVID-19 vaccinations affect business activity and firm performance in the United States. Using establishment-level data, it finds that a 10-percent increase in vaccination rates leads to a 4-percent to 6-percent increase in customer visits, which in turn boosts sales, earnings, and reduces the likelihood of default for firms, although the benefits differ across businesses. The study highlights that vaccinations provide significant private economic advantages to firms and their stakeholders, alongside public health benefits.\n",
      "------------------------------------------------------------------------------------------\n",
      "\n",
      "📘 Dynamic Adverse Selection and Belief Update in Credit Markets\n",
      "   Authors: Inkee Jang, Kee-Youn Kang\n",
      "   Date   : 2025/06\n",
      "   Journal: JFQA (Latest Issue)\n",
      "   Summary: The paper investigates how adverse selection affects debt contracts in a dynamic model where entrepreneurs' productivity is private information. Using a model that incorporates the history of business operations and contract terms, the authors analyze the relationship between firm age and credit risk, as well as the impact of productivity shocks and economic cycles. The main finding reveals insights into the persistence of productivity effects and the asymmetrical nature of business cycles, highlighting the challenges of recovery after economic downturns.\n",
      "------------------------------------------------------------------------------------------\n",
      "\n",
      "📘 Protecting Your Friends: The Role of Connections in Division Manager Careers\n",
      "   Authors: Charles J. Hadlock, Jing Huang, Paul Obermann, Joshua R. Pierce\n",
      "   Date   : 2025/06\n",
      "   Journal: JFQA (Latest Issue)\n",
      "   Summary: The paper investigates how connections between division managers and the CEO influence managerial turnover and promotion within firms. Using empirical analysis, the study finds that connected managers are less likely to leave the firm and more likely to be promoted, particularly in weak governance environments, despite showing no significant ability to enhance performance. The findings suggest that while this connection may indicate inefficient favoritism, it could also provide efficiency benefits by addressing information issues within the firm.\n",
      "------------------------------------------------------------------------------------------\n",
      "\n",
      "📘 Stealth Mergers and Investment Outcomes\n",
      "   Authors: Rajesh K. Aggarwal, Mufaddal Baxamusa\n",
      "   Date   : 2025/06\n",
      "   Journal: JFQA (Latest Issue)\n",
      "   Summary: The paper investigates the impact of \"stealth mergers,\" which are not reported due to their size falling below regulatory thresholds, specifically focusing on public targets where size manipulation is unlikely. Using empirical analysis, the study finds that these stealth mergers lead to reduced R&D spending, patenting, and capital expenditures, resulting in lower quality patents and increased industry concentration, while also yielding higher cumulative abnormal returns for stealth acquirers and their competitors. The findings indicate a need for greater government oversight of stealth…\n",
      "------------------------------------------------------------------------------------------\n",
      "\n",
      "📘 JFQ volume 60 issue 4 Cover and Front matter  —  no abstract found.\n"
     ]
    }
   ],
   "source": [
    "import os, textwrap, time, requests\n",
    "from bs4 import BeautifulSoup\n",
    "from openai import OpenAI\n",
    "from dotenv import load_dotenv\n",
    "from urllib.parse import urljoin\n",
    "\n",
    "# ------------------ ENV & OpenAI ------------------\n",
    "load_dotenv(override=True)\n",
    "openai = OpenAI(api_key=os.getenv(\"OPENAI_API_KEY\"))\n",
    "\n",
    "UA        = (\"Mozilla/5.0 (Windows NT 10.0; Win64; x64) \"\n",
    "             \"AppleWebKit/537.36 (KHTML, like Gecko) Chrome/117 Safari/537.36\")\n",
    "BASE_URL  = \"https://www.cambridge.org\"\n",
    "JFQA_URL  = f\"{BASE_URL}/core/journals/journal-of-financial-and-quantitative-analysis/latest-issue\"\n",
    "\n",
    "# ------------------ Helpers ------------------\n",
    "def fetch_latest_issue(url: str) -> list[dict]:\n",
    "    \"\"\"Return unique {title, link} dicts for each research article.\"\"\"\n",
    "    soup = BeautifulSoup(\n",
    "        requests.get(url, headers={\"User-Agent\": UA}, timeout=30).text,\n",
    "        \"html.parser\"\n",
    "    )\n",
    "\n",
    "    anchors = soup.find_all(\"a\", href=lambda h: h and \"/article/\" in h)\n",
    "    seen, articles = set(), []\n",
    "    for a in anchors:\n",
    "        href = a[\"href\"].split(\"?\")[0]           # strip tracking params\n",
    "        if href in seen:                         # de‑duplicate\n",
    "            continue\n",
    "        seen.add(href)\n",
    "        title = a.get_text(\" \", strip=True)\n",
    "        full  = urljoin(BASE_URL, href)\n",
    "        articles.append({\"title\": title, \"link\": full})\n",
    "    print(f\"Found {len(articles)} unique article links.\")\n",
    "    return articles\n",
    "\n",
    "def fetch_article_details(link: str) -> dict:\n",
    "    soup = BeautifulSoup(\n",
    "        requests.get(link, headers={\"User-Agent\": UA}, timeout=30).text,\n",
    "        \"html.parser\"\n",
    "    )\n",
    "\n",
    "    # abstract\n",
    "    abs_tag   = soup.find(\"div\", class_=\"abstract\")\n",
    "    abstract  = abs_tag.get_text(\" \", strip=True) if abs_tag else \"N/A\"\n",
    "\n",
    "    # publication date (meta is most reliable)\n",
    "    meta_date = soup.find(\"meta\", attrs={\"name\": \"citation_publication_date\"})\n",
    "    pub_date  = meta_date[\"content\"] if meta_date else \"N/A\"\n",
    "\n",
    "    # authors (multiple <meta name=\"citation_author\"> tags)\n",
    "    authors   = [m[\"content\"] for m in soup.find_all(\"meta\",\n",
    "                       attrs={\"name\": \"citation_author\"})]\n",
    "    authors_str = \", \".join(authors) or \"N/A\"\n",
    "\n",
    "    return {\"abstract\": abstract, \"pub_date\": pub_date, \"authors\": authors_str}\n",
    "\n",
    "def summarise(txt: str) -> str:\n",
    "    prompt = (\"Summarise the following finance‑paper abstract in 2‑3 sentences, \"\n",
    "              \"mentioning the question, method, and main finding.\\n\\n\"\n",
    "              f\"Abstract:\\n{txt}\")\n",
    "    try:\n",
    "        rsp = openai.chat.completions.create(\n",
    "            model=\"gpt-4o-mini\",\n",
    "            messages=[\n",
    "                {\"role\": \"system\",\n",
    "                 \"content\": \"You are a helpful finance research assistant.\"},\n",
    "                {\"role\": \"user\", \"content\": prompt}],\n",
    "            temperature=0.2, max_tokens=120\n",
    "        )\n",
    "        return rsp.choices[0].message.content.strip()\n",
    "    except Exception as e:\n",
    "        print(f\"⚠️  summarise error → {e}\")\n",
    "        return \"Summary unavailable.\"\n",
    "\n",
    "def scrape_jfqa_latest() -> None:\n",
    "    for art in fetch_latest_issue(JFQA_URL):\n",
    "        det = fetch_article_details(art[\"link\"])\n",
    "        if det[\"abstract\"] == \"N/A\":\n",
    "            print(f\"\\n📘 {art['title']}  —  no abstract found.\")\n",
    "            continue\n",
    "\n",
    "        summary = summarise(det[\"abstract\"])\n",
    "        print(f\"\\n📘 {art['title']}\")\n",
    "        print(f\"   Authors: {det['authors']}\")\n",
    "        print(f\"   Date   : {det['pub_date']}\")\n",
    "        print(f\"   Journal: JFQA (Latest Issue)\")\n",
    "        print(\"   Summary:\", textwrap.shorten(summary, width=600, placeholder=\"…\"))\n",
    "        print(\"-\" * 90)\n",
    "        time.sleep(1.0)      # polite gap between OpenAI calls\n",
    "\n",
    "if __name__ == \"__main__\":\n",
    "    scrape_jfqa_latest()"
   ]
  },
  {
   "cell_type": "markdown",
   "id": "36ed9f14-b349-40e9-a42c-b367e77f8bda",
   "metadata": {},
   "source": [
    "## Webスクレイピングがお好きな方のための追加演習\n",
    "\n",
    "`display_summary(\"https://openai.com\")` を試しても動作しないことに気付くかもしれません。これは、OpenAIがJavaScriptを使用した洗練されたウェブサイトを運営しているためです。この問題を回避する方法はいくつかあり、ご存知の方もいらっしゃるかもしれません。例えば、Seleniumは非常に人気のあるフレームワークで、バックグラウンドでブラウザを実行し、ページをレンダリングしてクエリを実行できます。Selenium、Playwright、または類似のフレームワークの使用経験がある方は、Websiteクラスを自由に改良して、それらを活用してください。community-contributionsフォルダには、学生が作成したSeleniumソリューションの例があります（ありがとうございます！）。"
   ]
  },
  {
   "cell_type": "markdown",
   "id": "eeab24dc-5f90-4570-b542-b0585aca3eb6",
   "metadata": {},
   "source": [
    "# コードの共有\n",
    "\n",
    "コードを後ほど共有していただけると嬉しいです。他の方と共有させていただきます！何人かの学生が既に変更を加えており（Seleniumの実装も含む）、community-contributionsフォルダに保存されています。このフォルダに変更を追加したい場合は、新しいバージョンをこのフォルダに入れてプルリクエストを送信してください。変更内容をマージします。\n",
    "\n",
    "Gitに詳しくない方（私も詳しくありません！）は、GPTがプルリクエストの送信方法について分かりやすい手順を公開しています。少し複雑な手順ですが、一度やってしまえば非常に簡単です。プロのヒントとして、Jupyterノートブックの出力をクリア（「編集」>>「すべてのセルの出力を消去」を選択し、「保存」）すると、ノートブックがクリーンになります。\n",
    "\n",
    "AIの友人が提供してくれた分かりやすい説明はこちらです:\n",
    "https://chatgpt.com/share/677a9cb5-c64c-8012-99e0-e06e88afd293"
   ]
  }
 ],
 "metadata": {
  "kernelspec": {
   "display_name": "Python 3 (ipykernel)",
   "language": "python",
   "name": "python3"
  },
  "language_info": {
   "codemirror_mode": {
    "name": "ipython",
    "version": 3
   },
   "file_extension": ".py",
   "mimetype": "text/x-python",
   "name": "python",
   "nbconvert_exporter": "python",
   "pygments_lexer": "ipython3",
   "version": "3.12.3"
  }
 },
 "nbformat": 4,
 "nbformat_minor": 5
}
