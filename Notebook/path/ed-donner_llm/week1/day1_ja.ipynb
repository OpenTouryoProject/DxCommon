{
 "cells": [
  {
   "cell_type": "markdown",
   "id": "d15d8294-3328-4e07-ad16-8a03e9bbfdb9",
   "metadata": {},
   "source": [
    "# 最初のラボ\n",
    "\n",
    "### このセクションは必ずお読みください。長文ではありますが、重要な内容なので、準備には役立ちます。\n",
    "\n",
    "## 最初のFrontier LLMプロジェクト\n",
    "数分で、実用的なLLMソリューションを構築しましょう。\n",
    "\n",
    "このコースを修了すると、7つのエージェントが連携してビジネス上の課題を解決する、自律型エージェントAIソリューションを構築できるようになります。あっという間に完成です！まずは小さなプロジェクトから始めましょう…\n",
    "\n",
    "私たちの目標は、新しいタイプのWebブラウザをコーディングすることです。URLを入力すると、サマリーが表示されます。インターネットのリーダーズダイジェストです！\n",
    "\n",
    "開始する前に、[PC](../SETUP-PC.md)または[Mac](../SETUP-mac.md)のセットアップを完了し、プロジェクトのルートディレクトリからこのJupyterラボを起動し、環境を有効化しておく必要があります。\n",
    "\n",
    "## Jupyter Lab を初めてご利用になる方へ\n",
    "\n",
    "データサイエンス実験の素晴らしい世界へようこそ！Jupyter Lab を一度使ってみれば、今までどうやって生きてきたのか不思議に思うでしょう。コードが書かれた各「セル」（このテキストのすぐ下のセルなど）をクリックし、Shift + Return キーを押すだけでそのセルを実行できます。必要に応じて、ツールバーの + ボタンを使ってセルを追加し、変数の値を出力したり、さまざまなバリエーションを試したりすることもできます。\n",
    "\n",
    "Jupyter Labs をより深く理解していただくために、[Guide to Jupyter](Guide%20to%20Jupyter.ipynb) というノートブックを作成しました。Markdown コメントの追加、`!` を使用したシェルコマンドの実行、`tqdm` を使用した進捗状況の表示など、Jupyter Labs の使い方を学ぶのに役立ちます。\n",
    "\n",
    "## コマンドラインを初めて使う場合\n",
    "\n",
    "以下の優れたガイドをご覧ください: [PC のコマンドライン](https://chatgpt.com/share/67b0acea-ba38-8012-9c34-7a2541052665) および [Mac のコマンドライン](https://chatgpt.com/canvas/shared/67b0b10c93a081918210723867525d2b)。\n",
    "\n",
    "## IDE で作業したい場合\n",
    "VSCode、Cursor、PyCharm などの IDE を使い慣れている場合は、これらのラボノートブックでも問題なく動作します。\n",
    "VSCode で作業したい場合は、[こちら](https://chatgpt.com/share/676f2e19-c228-8012-9911-6ca42f8ed766) で AI の友人から、このコース向けに設定する方法の説明をご覧いただけます。\n",
    "\n",
    "## Python をブラッシュアップしたい方へ\n",
    "[中級 Python](Intermediate%20Python.ipynb) というノートブックを追加しましたので、すぐに使いこなせるようになります。ただし、以下のコードが何をするのか既によくわかっている場合は、このノートブックは使用しないでください。\n",
    "`yield from {book.get(\"author\") for book in books if book.get(\"author\")}`\n",
    "\n",
    "## いつでもお手伝いいたします\n",
    "\n",
    "何か問題がございましたら、お気軽にご連絡ください。\n",
    "プラットフォーム、ed@edwarddonner.com、または https://www.linkedin.com/in/eddonner/ からご連絡ください（つながるのが大好きです！）\n",
    "また、これは初めての試みですが、[@edwarddonner](https://x.com/edwarddonner) で X/Twitter も試しています。X をお使いの方は、ぜひ使い方を教えてください 😂\n",
    "\n",
    "## その他のトラブルシューティング\n",
    "\n",
    "よくある問題の診断と解決方法については、このフォルダ内の [troubleshooting](troubleshooting.ipynb) ノートブックをご覧ください。ノートブックの最後には、役立つデバッグ情報を含む診断スクリプトがあります。\n",
    "\n",
    "## 基礎的な技術知識（Git、API、デバッグなど）について\n",
    "\n",
    "プログラミング初心者の方でも、私がサポートします！このコースを受講するにはある程度のプログラミング経験があることが理想的ですが、必須の前提条件が1つだけあります。それは、十分な忍耐力です。😁 GitとGitHub、APIとエンドポイント、初心者向けPythonなどについて解説した自習ガイドを作成しました。\n",
    "\n",
    "GitとGitHubとは何か、その違い、そして使い方について解説しています。\n",
    "https://github.com/ed-donner/agents/blob/main/guides/03_git_and_github.ipynb\n",
    "\n",
    "技術的な基礎知識については、以下の通りです。\n",
    "ChatGPTとAPIの比較、スクリーンショットの撮影、環境変数、ネットワークの基礎。 APIとエンドポイント:\n",
    "https://github.com/ed-donner/agents/blob/main/guides/04_technical_foundations.ipynb\n",
    "\n",
    "ここでは、初心者向けのPythonと、`NameError` でつまずかないようにするための方法を説明しています。\n",
    "https://github.com/ed-donner/agents/blob/main/guides/06_python_foundations.ipynb\n",
    "\n",
    "ここでは、エラーを特定するための基本的なテクニックを説明しています。\n",
    "https://github.com/ed-donner/agents/blob/main/guides/08_debugging.ipynb\n",
    "\n",
    "GitHubの同じフォルダには、他にも役立つガイドがあります。一部の情報は私の他のUdemyコース（例：Async Python）にも当てはまりますが、ほとんどの情報はLLMエンジニアリングに非常に関連しています。\n",
    "\n",
    "## もしこれがもうお決まりなら！\n",
    "\n",
    "今日の内容に既に慣れている方は、もう少し頑張ってください。最初の数回のラボはすぐに進めて構いません。数週間経つにつれて、より深く掘り下げていきます。最終的には、OpenAIに対抗できるよう、私たち自身のLLMを微調整する予定です！\n",
    "\n",
    "<table style=\"margin: 0; text-align: left;\">\n",
    "    <tr>\n",
    "        <td style=\"width: 150px; height: 150px; vertical-align: middle;\">\n",
    "            <img src=\"../important.jpg\" width=\"150\" height=\"150\" style=\"display: block;\" />\n",
    "        </td>\n",
    "        <td>\n",
    "            <h2 style=\"color:#900;\">重要事項をお読みください</h2>\n",
    "            <span style=\"color:#900;\">私が皆さんと協力する方法は、これまで受講してきたコースとは異なる場合があります。皆さんが視聴している間にコードを入力することは避けています。代わりに、私はこのようにJupyter Labsを実行し、何が起こっているのか直感的に理解していただくようにしています。講義を視聴した後、ご自身でこれを注意深く実行することをお勧めします。print文を追加して何が起こっているのか理解し、独自のバリエーションを考え出してみてください。Githubアカウントをお持ちの場合は、それを使ってバリエーションを披露してください。これは必須の練習であるだけでなく、将来のクライアントや雇用主など、他の人にあなたのスキルを示すことにもなります。</span>\n",
    "        </td>\n",
    "    </tr>\n",
    "</table>\n",
    "<table style=\"margin: 0; text-align: left;\">\n",
    "    <tr>\n",
    "        <td style=\"width: 150px; height: 150px; vertical-align: middle;\">\n",
    "            <img src=\"../resources.jpg\" width=\"150\" height=\"150\" style=\"display: block;\" />\n",
    "        </td>\n",
    "        <td>\n",
    "            <h2 style=\"color:#f71;\">このコードはライブリソースです。メールにご注目ください。</h2>\n",
    "            <span style=\"color:#f71;\">コードは定期的に更新しています。ご質問があれば、例を追加したり、解説を改善したりしています。そのため、以下のコードは動画の内容と完全に同一ではないことにお気づきになるかもしれません。動画の内容はすべてここに掲載されていますが、より詳しい説明や、DeepSeekなどの新しいモデルも追加しています。インタラクティブな書籍のようなものだとお考えください。<br/><br/>\n",
    "                コースに関する重要な更新情報は、定期的にメールでお送りしています。Udemyの左側サイドバーにある「お知らせ」セクションでご確認いただけます。また、Udemyの通知設定からメールの受信を選択することもできます。皆様の受信トレイを大切にし、常に価値のあるメールをお届けできるよう努めています。\n",
    "            </span>\n",
    "        </td>\n",
    "    </tr>\n",
    "</table>\n",
    "<table style=\"margin: 0; text-align: left;\">\n",
    "    <tr>\n",
    "        <td style=\"width: 150px; height: 150px; vertical-align: middle;\">\n",
    "            <img src=\"../business.jpg\" width=\"150\" height=\"150\" style=\"display: block;\" />\n",
    "        </td>\n",
    "        <td>\n",
    "            <h2 style=\"color:#181;\">これらの演習のビジネス的価値</h2>\n",
    "            <span style=\"color:#181;\">最後に一言。これらのノートブックは教育的な内容であると同時に、楽しく学べるものになるよう心がけました。法学修士課程の受講生同士がジョークを交わしたり、議論したりといった楽しい内容も盛り込んでいます。しかし、私の目標は、ビジネスで応用できるスキルを教えることです。ビジネスへの影響については、これから説明していきますが、モデルやテクニックの経験を積む中で、今日の仕事でどのように活用できるかを考えてみてください。さらに詳しくお話したい場合や、ご意見をお持ちの場合は、ぜひご連絡ください。</span>\n",
    "        </td>\n",
    "    </tr>\n",
    "</table>"
   ]
  },
  {
   "cell_type": "code",
   "execution_count": null,
   "id": "4e2a9393-7767-488e-a8bf-27c12dca35bd",
   "metadata": {},
   "outputs": [],
   "source": [
    "# imports\n",
    "\n",
    "import os\n",
    "import requests\n",
    "from dotenv import load_dotenv\n",
    "from bs4 import BeautifulSoup\n",
    "from IPython.display import Markdown, display\n",
    "from openai import OpenAI\n",
    "\n",
    "# このセルの実行中にエラーが発生した場合は、トラブルシューティング ノートブックを参照してください。"
   ]
  },
  {
   "cell_type": "markdown",
   "id": "6900b2a8-6384-4316-8aaa-5e519fca4254",
   "metadata": {},
   "source": [
    "# OpenAI (または Ollama) への接続\n",
    "\n",
    "次のセルでは、`.env` ファイル内の環境変数を読み込んで OpenAI に接続します。\n",
    "\n",
    "無料の Ollama をご利用になりたい場合は、README セクションの「有料 API の無料代替」をご覧ください。方法がわからない場合は、ソリューションフォルダ (day1_with_ollama.ipynb) に完全な解決策が記載されています。\n",
    "\n",
    "## 問題が発生した場合のトラブルシューティング:\n",
    "\n",
    "このフォルダ内の [troubleshooting](troubleshooting.ipynb) ノートブックにアクセスして、根本原因を特定し、修正するためのステップバイステップのコードをご覧ください。\n",
    "\n",
    "変更を加えた場合は、「カーネル」メニュー >> 「カーネルを再起動してすべてのセルの出力をクリア」を選択して、「カーネル」(このノートブックの背後にある Python プロセス) を再起動してください。その後、このノートブックを最初からもう一度試してください。\n",
    "\n",
    "または、私にご連絡ください。メッセージを送るか、ed@edwarddonner.com までメールでご連絡ください。すぐに対応いたします。\n",
    "\n",
    "API のコストについてご心配な点はありますか？README の注記をご覧ください。コストは最小限に抑えられ、いつでも自由にコントロールできます。無料の代替手段として Ollama もご利用いただけます。Ollama については 2 日目に説明します。"
   ]
  },
  {
   "cell_type": "code",
   "execution_count": null,
   "id": "7b87cadb-d513-4303-baee-a37b6f938e4d",
   "metadata": {},
   "outputs": [],
   "source": [
    "# .envというファイルに環境変数をロードします。\n",
    "\n",
    "load_dotenv(override=True)\n",
    "api_key = os.getenv('OPENAI_API_KEY')\n",
    "\n",
    "# Check the key\n",
    "\n",
    "if not api_key:\n",
    "    print(\"APIキーが見つかりません。このフォルダ内のトラブルシューティングノートブックを参照して、APIキーを特定し、修正してください。\")\n",
    "elif not api_key.startswith(\"sk-proj-\"):\n",
    "    print(\"APIキーは見つかりましたが、sk-proj-で始まりません。正しいキーを使用していることを確認してください。トラブルシューティングノートブックを参照してください。\")\n",
    "elif api_key.strip() != api_key:\n",
    "    print(\"AnAPIキーは見つかりましたが、先頭または末尾にスペースまたはタブ文字が含まれている可能性があります。これらを削除してください。トラブルシューティングノートブックを参照してください。\")\n",
    "else:\n",
    "    print(\"APIキーが見つかりました。今のところ問題はありません。\")\n"
   ]
  },
  {
   "cell_type": "code",
   "execution_count": null,
   "id": "019974d9-f3ad-4a8a-b5f9-0a3719aea2d3",
   "metadata": {},
   "outputs": [],
   "source": [
    "openai = OpenAI()\n",
    "\n",
    "# これが機能しない場合は、カーネル メニュー >> カーネルを再起動してすべてのセルの出力をクリアし、このノートブックの上から下のセルを実行してみてください。\n",
    "# それでも機能しない場合は (恐ろしい!)、このフォルダー内のトラブルシューティング ノートブックで詳細な手順を参照してください。"
   ]
  },
  {
   "cell_type": "markdown",
   "id": "442fc84b-0815-4f40-99ab-d9a5da6bda91",
   "metadata": {},
   "source": [
    "# プレビューとして、Frontier モデルを簡単に呼び出して開始してみましょう。"
   ]
  },
  {
   "cell_type": "code",
   "execution_count": null,
   "id": "a58394bf-1e45-46af-9bfd-01e24da6f49a",
   "metadata": {},
   "outputs": [],
   "source": [
    "# プレビューとして、これらのメッセージを使ってOpenAIを呼び出すのはとても簡単です。\n",
    "# 問題が発生した場合は、トラブルシューティングノートブックをご覧ください。\n",
    "message = \"こんにちは、GPT！これはあなたへの初めてのメッセージです！こんにちは！\"\n",
    "response = openai.chat.completions.create(model=\"gpt-4o-mini\", messages=[{\"role\":\"user\", \"content\":message}])\n",
    "print(response.choices[0].message.content)"
   ]
  },
  {
   "cell_type": "markdown",
   "id": "2aa190e5-cb31-456a-96cc-db109919cd78",
   "metadata": {},
   "source": [
    "## OK onwards with our first project"
   ]
  },
  {
   "cell_type": "code",
   "execution_count": null,
   "id": "c5e793b2-6775-426a-a139-4848291d0463",
   "metadata": {},
   "outputs": [],
   "source": [
    "# ウェブページを表すクラス\n",
    "# クラスについて詳しくない場合は、「中級 Python」ノートブックをご覧ください。\n",
    "# 一部のウェブサイトでは、取得時に適切なヘッダーを使用する必要があります。\n",
    "\n",
    "headers = {\n",
    " \"User-Agent\": \"Mozilla/5.0 (Windows NT 10.0; Win64; x64) AppleWebKit/537.36 (KHTML, like Gecko) Chrome/117.0.0.0 Safari/537.36\"\n",
    "}\n",
    "\n",
    "class Website:\n",
    "\n",
    "    def __init__(self, url):\n",
    "        \"\"\"\n",
    "        Create this Website object from the given url using the BeautifulSoup library\n",
    "        \"\"\"\n",
    "        self.url = url\n",
    "        response = requests.get(url, headers=headers)\n",
    "        soup = BeautifulSoup(response.content, 'html.parser')\n",
    "        self.title = soup.title.string if soup.title else \"No title found\"\n",
    "        for irrelevant in soup.body([\"script\", \"style\", \"img\", \"input\"]):\n",
    "            irrelevant.decompose()\n",
    "        self.text = soup.body.get_text(separator=\"\\n\", strip=True)"
   ]
  },
  {
   "cell_type": "code",
   "execution_count": null,
   "id": "2ef960cf-6dc2-4cda-afb3-b38be12f4c97",
   "metadata": {},
   "outputs": [],
   "source": [
    "# 試してみましょう。ウェブサイトを変更し、print ステートメントを追加して、実際に実行してみましょう。\n",
    "\n",
    "ed = Website(\"https://edwarddonner.com\")\n",
    "print(ed.title)\n",
    "print(ed.text)"
   ]
  },
  {
   "cell_type": "markdown",
   "id": "6a478a0c-2c53-48ff-869c-4d08199931e1",
   "metadata": {},
   "source": [
    "## プロンプトの種類\n",
    "\n",
    "すでにご存知かもしれませんが、そうでない場合は、すぐに使いこなせるようになるでしょう。\n",
    "\n",
    "GPT4o のようなモデルは、特定の方法で指示を受け取るように学習されています。\n",
    "\n",
    "モデルが受け取ることを期待するものは次のとおりです。\n",
    "\n",
    "**システムプロンプト** は、実行しているタスクと適切な口調を指示します。\n",
    "\n",
    "**ユーザープロンプト** は、返答すべき会話のきっかけとなります。"
   ]
  },
  {
   "cell_type": "code",
   "execution_count": null,
   "id": "abdb8417-c5dc-44bc-9bee-2e059d162699",
   "metadata": {},
   "outputs": [],
   "source": [
    "# システムプロンプトを定義します。後でこれを試して、最後の文を「スペイン語でマークダウンで応答してください」に変更することができます。\n",
    "\n",
    "system_prompt = \"あなたはウェブサイトのコンテンツを分析し、\\\n",
    "ナビゲーションに関連する可能性のあるテキストを無視して\\\n",
    "短い要約を提供するアシスタントです。マークダウンで回答してください。\""
   ]
  },
  {
   "cell_type": "code",
   "execution_count": null,
   "id": "f0275b1b-7cfe-4f9d-abfa-7650d378da0c",
   "metadata": {},
   "outputs": [],
   "source": [
    "# ウェブサイトの概要を尋ねるユーザープロンプトを書き込む関数:\n",
    "\n",
    "def user_prompt_for(website):\n",
    "    user_prompt = f\"あなたは、次のタイトルのウェブサイトを見ています: {website.title}\"\n",
    "    user_prompt += \"\\このウェブサイトの内容は以下の通りです。\\\n",
    "    このウェブサイトの簡単な概要をマークダウン形式で記述してください。\\\n",
    "    ニュースやお知らせが含まれている場合は、それらも要約してください。\\n\\n\"\n",
    "    user_prompt += website.text\n",
    "    return user_prompt"
   ]
  },
  {
   "cell_type": "code",
   "execution_count": null,
   "id": "26448ec4-5c00-4204-baec-7df91d11ff2e",
   "metadata": {},
   "outputs": [],
   "source": [
    "print(user_prompt_for(ed))"
   ]
  },
  {
   "cell_type": "markdown",
   "id": "ea211b5f-28e1-4a86-8e52-c0b7677cadcc",
   "metadata": {},
   "source": [
    "## メッセージ\n",
    "\n",
    "OpenAI の API は、特定の構造でメッセージを受信することを想定しています。\n",
    "他の多くの API もこの構造を共有しています。\n",
    "\n",
    "```python\n",
    "[\n",
    "    {\"role\": \"system\", \"content\": \"system message goes here\"},\n",
    "    {\"role\": \"user\", \"content\": \"user message goes here\"}\n",
    "]\n",
    "```\n",
    "\n",
    "プレビューとして、次の 2 つのセルはかなり単純な呼び出しを行います。強力な GPT を拡張しません (まだ!)。"
   ]
  },
  {
   "cell_type": "code",
   "execution_count": null,
   "id": "f25dcd35-0cd0-4235-9f64-ac37ed9eaaa5",
   "metadata": {},
   "outputs": [],
   "source": [
    "messages = [\n",
    "    {\"role\": \"system\", \"content\": \"You are a snarky assistant\"},\n",
    "    {\"role\": \"user\", \"content\": \"What is 2 + 2?\"}\n",
    "]"
   ]
  },
  {
   "cell_type": "code",
   "execution_count": null,
   "id": "21ed95c5-7001-47de-a36d-1d6673b403ce",
   "metadata": {},
   "outputs": [],
   "source": [
    "# プレビューとして、システム メッセージとユーザー メッセージを使用して OpenAI を呼び出します。\n",
    "\n",
    "response = openai.chat.completions.create(model=\"gpt-4o-mini\", messages=messages)\n",
    "print(response.choices[0].message.content)"
   ]
  },
  {
   "cell_type": "markdown",
   "id": "d06e8d78-ce4c-4b05-aa8e-17050c82bb47",
   "metadata": {},
   "source": [
    "## それでは、関数を使ってGPT-4o-mini用の便利なメッセージを構築してみましょう。"
   ]
  },
  {
   "cell_type": "code",
   "execution_count": null,
   "id": "0134dfa4-8299-48b5-b444-f2a8c3403c88",
   "metadata": {},
   "outputs": [],
   "source": [
    "# この関数が上記のフォーマットを正確に作成する方法を確認します\n",
    "\n",
    "def messages_for(website):\n",
    "    return [\n",
    "        {\"role\": \"system\", \"content\": system_prompt},\n",
    "        {\"role\": \"user\", \"content\": user_prompt_for(website)}\n",
    "    ]"
   ]
  },
  {
   "cell_type": "code",
   "execution_count": null,
   "id": "36478464-39ee-485c-9f3f-6a4e458dbc9c",
   "metadata": {},
   "outputs": [],
   "source": [
    "# これを試してから、他のいくつかのウェブサイトでも試してみてください\n",
    "\n",
    "messages_for(ed)"
   ]
  },
  {
   "cell_type": "markdown",
   "id": "16f49d46-bf55-4c3e-928f-68fc0bf715b0",
   "metadata": {},
   "source": [
    "## まとめる時間です - OpenAI の API は非常にシンプルです!"
   ]
  },
  {
   "cell_type": "code",
   "execution_count": null,
   "id": "905b9919-aba7-45b5-ae65-81b3d1d78e34",
   "metadata": {},
   "outputs": [],
   "source": [
    "# それでは、OpenAI API を呼び出してみましょう。きっと使いこなせるようになるはずです！\n",
    "\n",
    "def summarize(url):\n",
    "    website = Website(url)\n",
    "    response = openai.chat.completions.create(\n",
    "        model = \"gpt-4o-mini\",\n",
    "        messages = messages_for(website)\n",
    "    )\n",
    "    return response.choices[0].message.content"
   ]
  },
  {
   "cell_type": "code",
   "execution_count": null,
   "id": "05e38d41-dfa4-4b20-9c96-c46ea75d9fb5",
   "metadata": {},
   "outputs": [],
   "source": [
    "summarize(\"https://edwarddonner.com\")"
   ]
  },
  {
   "cell_type": "code",
   "execution_count": null,
   "id": "3d926d59-450e-4609-92ba-2d6f244f1342",
   "metadata": {},
   "outputs": [],
   "source": [
    "# Jupyter出力でこれをきれいに表示する関数（マークダウンを使用）\n",
    "\n",
    "def display_summary(url):\n",
    "    summary = summarize(url)\n",
    "    display(Markdown(summary))"
   ]
  },
  {
   "cell_type": "code",
   "execution_count": null,
   "id": "3018853a-445f-41ff-9560-d925d1774b2f",
   "metadata": {},
   "outputs": [],
   "source": [
    "display_summary(\"https://edwarddonner.com\")"
   ]
  },
  {
   "cell_type": "markdown",
   "id": "b3bcf6f4-adce-45e9-97ad-d9a5d7a3a624",
   "metadata": {},
   "source": [
    "# もっと多くのウェブサイトを試してみましょう\n",
    "\n",
    "このシンプルなアプローチでスクレイピングできるウェブサイトでのみ機能することに注意してください。\n",
    "\n",
    "ReactアプリのようにJavaScriptでレンダリングされるウェブサイトは表示されません。この問題を回避するSelenium実装については、community-contributionsフォルダをご覧ください。Seleniumのインストール方法については、ChatGPTに問い合わせてください。\n",
    "\n",
    "また、CloudFront（および同様のサービス）で保護されたウェブサイトでは403エラーが発生する可能性があります。この点を指摘してくださったAndy Jに感謝します。\n",
    "\n",
    "しかし、多くのウェブサイトは問題なく動作します！"
   ]
  },
  {
   "cell_type": "code",
   "execution_count": null,
   "id": "45d83403-a24c-44b5-84ac-961449b4008f",
   "metadata": {},
   "outputs": [],
   "source": [
    "display_summary(\"https://cnn.com\")"
   ]
  },
  {
   "cell_type": "code",
   "execution_count": null,
   "id": "75e9fd40-b354-4341-991e-863ef2e59db7",
   "metadata": {},
   "outputs": [],
   "source": [
    "display_summary(\"https://anthropic.com\")"
   ]
  },
  {
   "cell_type": "markdown",
   "id": "c951be1a-7f1b-448f-af1f-845978e47e2c",
   "metadata": {},
   "source": [
    "<table style=\"margin: 0; text-align: left;\">\n",
    "    <tr>\n",
    "        <td style=\"width: 150px; height: 150px; vertical-align: middle;\">\n",
    "            <img src=\"../business.jpg\" width=\"150\" height=\"150\" style=\"display: block;\" />\n",
    "        </td>\n",
    "        <td>\n",
    "            <h2 style=\"color:#181;\">ビジネスアプリケーション</h2>\n",
    "            <span style=\"color:#181;\">この演習では、Frontier Model（AIの最先端を行く先進モデル）のクラウドAPI呼び出しを初めて体験しました。このコースでは、OpenAIなどのAPIを様々な段階で使用し、独自のLLMも構築します。具体的には、Gen AIの典型的なユースケースである要約にこれを適用しました。要約は、ニュースの要約、財務実績の要約、カバーレターの履歴書の要約など、あらゆるビジネス分野に適用でき、その用途は無限です。要約をビジネスにどのように適用できるかを考え、ソリューションのプロトタイプを作成してみてください。</span>\n",
    "        </td>\n",
    "    </tr>\n",
    "</table>\n",
    "\n",
    "<table style=\"margin: 0; text-align: left;\">\n",
    "    <tr>\n",
    "        <td style=\"width: 150px; height: 150px; vertical-align: middle;\">\n",
    "            <img src=\"../important.jpg\" width=\"150\" height=\"150\" style=\"display: block;\" />\n",
    "        </td>\n",
    "        <td>\n",
    "            <h2 style=\"color:#900;\">次に進む前に、実際に試してみてください</h2>\n",
    "            <span style=\"color:#900;\">下のセルを使って、シンプルな商用サンプルを作成してください。今は要約のユースケースに絞って考えてみてください。例えば、メールの内容を受け取り、適切な短い件名を提案するサンプルを作成してみてください。これは、商用メールツールに組み込むことができる機能です。</span>\n",
    "        </td>\n",
    "    </tr>\n",
    "</table>"
   ]
  },
  {
   "cell_type": "code",
   "execution_count": null,
   "id": "00743dac-0e70-45b7-879a-d7293a6f68a6",
   "metadata": {},
   "outputs": [],
   "source": [
    "# Step 1: Create your prompts\n",
    "\n",
    "system_prompt = \"something here\"\n",
    "user_prompt = \"\"\"\n",
    "    Lots of text\n",
    "    Can be pasted here\n",
    "\"\"\"\n",
    "\n",
    "# Step 2: Make the messages list\n",
    "\n",
    "messages = [] # fill this in\n",
    "\n",
    "# Step 3: Call OpenAI\n",
    "\n",
    "response =\n",
    "\n",
    "# Step 4: print the result\n",
    "\n",
    "print("
   ]
  },
  {
   "cell_type": "markdown",
   "id": "36ed9f14-b349-40e9-a42c-b367e77f8bda",
   "metadata": {},
   "source": [
    "## Webスクレイピングがお好きな方のための追加演習\n",
    "\n",
    "`display_summary(\"https://openai.com\")` を試しても動作しないことに気付くかもしれません。これは、OpenAIがJavaScriptを使用した洗練されたウェブサイトを運営しているためです。この問題を回避する方法はいくつかあり、ご存知の方もいらっしゃるかもしれません。例えば、Seleniumは非常に人気のあるフレームワークで、バックグラウンドでブラウザを実行し、ページをレンダリングしてクエリを実行できます。Selenium、Playwright、または類似のフレームワークの使用経験がある方は、Websiteクラスを自由に改良して、それらを活用してください。community-contributionsフォルダには、学生が作成したSeleniumソリューションの例があります（ありがとうございます！）。"
   ]
  },
  {
   "cell_type": "markdown",
   "id": "eeab24dc-5f90-4570-b542-b0585aca3eb6",
   "metadata": {},
   "source": [
    "# コードの共有\n",
    "\n",
    "コードを後ほど共有していただけると嬉しいです。他の方と共有させていただきます！何人かの学生が既に変更を加えており（Seleniumの実装も含む）、community-contributionsフォルダに保存されています。このフォルダに変更を追加したい場合は、新しいバージョンをこのフォルダに入れてプルリクエストを送信してください。変更内容をマージします。\n",
    "\n",
    "Gitに詳しくない方（私も詳しくありません！）は、GPTがプルリクエストの送信方法について分かりやすい手順を公開しています。少し複雑な手順ですが、一度やってしまえば非常に簡単です。プロのヒントとして、Jupyterノートブックの出力をクリア（「編集」>>「すべてのセルの出力を消去」を選択し、「保存」）すると、ノートブックがクリーンになります。\n",
    "\n",
    "AIの友人が提供してくれた分かりやすい説明はこちらです:\n",
    "https://chatgpt.com/share/677a9cb5-c64c-8012-99e0-e06e88afd293"
   ]
  },
  {
   "cell_type": "code",
   "execution_count": null,
   "id": "f4484fcf-8b39-4c3f-9674-37970ed71988",
   "metadata": {},
   "outputs": [],
   "source": []
  }
 ],
 "metadata": {
  "kernelspec": {
   "display_name": "Python 3 (ipykernel)",
   "language": "python",
   "name": "python3"
  },
  "language_info": {
   "codemirror_mode": {
    "name": "ipython",
    "version": 3
   },
   "file_extension": ".py",
   "mimetype": "text/x-python",
   "name": "python",
   "nbconvert_exporter": "python",
   "pygments_lexer": "ipython3",
   "version": "3.12.3"
  }
 },
 "nbformat": 4,
 "nbformat_minor": 5
}
