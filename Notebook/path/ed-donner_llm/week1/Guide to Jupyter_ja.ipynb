{
  "cells": [
    {
      "cell_type": "markdown",
      "id": "5c291475-8c7c-461c-9b12-545a887b2432",
      "metadata": {},
      "source": [
        "# Jupyter Lab\n",
        "\n",
        "##クイックスタートガイド\n",
        "\n",
        "Jupyter Labの素晴らしい世界へようこそ！  \n",
        "これは、コードを簡単に記述して結果を調査できるデータサイエンスの遊び場です。これは理想的な環境です：  \n",
        " - 研究開発\n",
        " - プロトタイピング\n",
        " - 学習（それは私たちです！）\n",
        "\n",
        "通常、生産コードの出荷には使用されていません。8週目には、JupyterとPythonコードの間の橋を探索します。\n",
        "\n",
        "Jupyter Labのファイルは、このようなものと呼ばれます。\n",
        "\n",
        "昔、Jupyterは「Ipython」と呼ばれていたので、ノートブックの拡張は「Ipython Notebook」を表す「.ipynb」です。\n",
        "\n",
        "左側には、ディレクトリの周りをナビゲートしてさまざまなノートブックを選択できるファイルブラウザがあります。しかし、あなたはおそらくすでにそれを知っているか、あなたはここに来なかったでしょう！\n",
        "\n",
        "ノートブックは、「セル」と呼ばれる一連の正方形のボックスで構成されています。それらのいくつかはこのセルのようなテキストを含み、それらのいくつかは下のセルのようにコードを含んでいます。\n",
        "\n",
        "コードを使用してセルをクリックして、「Shift + Return」（または「Shift + Enter」）を押してコードを実行し、出力を印刷します。\n",
        "\n",
        "これの下のセルのために今それをしてください："
      ]
    },
    {
      "cell_type": "code",
      "execution_count": null,
      "id": "33d37cd8-55c9-4e03-868c-34aa9cab2c80",
      "metadata": {},
      "outputs": [],
      "source": [
        "# このセルのどこでもクリックして、Shift +を押します\n",
        "\n",
        "2 + 2"
      ]
    },
    {
      "cell_type": "markdown",
      "id": "9e95df7b-55c6-4204-b8f9-cae83360fc23",
      "metadata": {},
      "source": [
        "## おめでとう！\n",
        "\n",
        "次に、値を設定する次のセルを実行し、その後セルが続き、値を印刷する"
      ]
    },
    {
      "cell_type": "code",
      "execution_count": null,
      "id": "585eb9c1-85ee-4c27-8dc2-b4d8d022eda0",
      "metadata": {},
      "outputs": [],
      "source": [
        "# 変数の値を設定します\n",
        "\n",
        "favorite_fruit = \"bananas\""
      ]
    },
    {
      "cell_type": "code",
      "execution_count": null,
      "id": "07792faa-761d-46cb-b9b7-2bbf70bb1628",
      "metadata": {},
      "outputs": [],
      "source": [
        "# 最後の声明の結果は、あなたがそれを実行した後に示されています\n",
        "\n",
        "favorite_fruit"
      ]
    },
    {
      "cell_type": "code",
      "execution_count": null,
      "id": "a067d2b1-53d5-4aeb-8a3c-574d39ff654a",
      "metadata": {},
      "outputs": [],
      "source": [
        "# 変数を使用します\n",
        "\n",
        "print(f\"My favorite fruit is {favorite_fruit}\")"
      ]
    },
    {
      "cell_type": "code",
      "execution_count": null,
      "id": "4c5a4e60-b7f4-4953-9e80-6d84ba4664ad",
      "metadata": {},
      "outputs": [],
      "source": [
        "# 次に、変数を変更します\n",
        "\n",
        "favorite_fruit = f\"anything but {favorite_fruit}\""
      ]
    },
    {
      "cell_type": "markdown",
      "id": "9442d5c9-f57d-4839-b0af-dce58646c04f",
      "metadata": {},
      "source": [
        "## 今、戻って、印刷ステートメントを使用してセルを再実行し、2つのセルを後ろに戻します\n",
        "\n",
        "Notebookのさらに下に変更された場合でも、違うものをどのように印刷するかをご覧ください。 \n",
        "\n",
        "ノートブックにコードが表示される順序は問題ではありません。重要なのは、コードが**実行される順序です**。変数が変更されているこのノートブックの後ろには、Pythonプロセスがあります。\n",
        "\n",
        "これは、最初にJupyterを使用するときに一部の人々を捕まえます。"
      ]
    },
    {
      "cell_type": "code",
      "execution_count": null,
      "id": "8e5ec81d-7c5b-4025-bd2e-468d67b581b6",
      "metadata": {},
      "outputs": [],
      "source": [
        "# 次に、このセルを2回実行して、何が起こっているのかを理解しているかどうかを確認します\n",
        "\n",
        "print(f\"My favorite fruit is {favorite_fruit}\")\n",
        "\n",
        "favorite_fruit = \"apples\""
      ]
    },
    {
      "cell_type": "markdown",
      "id": "a29dab2d-bab9-4a54-8504-05e62594cc6f",
      "metadata": {},
      "source": [
        "# 「カーネル」を説明する\n",
        "\n",
        "このノートブックの後ろに座っているのは、各セルを実行するときに各セルを実行するPythonプロセスです。そのPythonプロセスはカーネルとして知られています。各ノートブックには独自の独立したカーネルがあります。\n",
        "\n",
        "カーネルメニューに移動して、「カーネルの再起動」を選択できます。\n",
        "\n",
        "次のセルを実行しようとすると、お気に入りのfruitが定義されなくなったため、エラーが発生します。ノートブックの上部からセルを再度実行する必要があります。次に、次のセルが正常に実行されるはずです。"
      ]
    },
    {
      "cell_type": "code",
      "execution_count": null,
      "id": "84b1e410-5eda-4e2c-97ce-4eebcff816c5",
      "metadata": {},
      "outputs": [],
      "source": [
        "print(f\"My favorite fruit is {favorite_fruit}\")"
      ]
    },
    {
      "cell_type": "markdown",
      "id": "4d4188fc-d9cc-42be-8b4e-ae8630456764",
      "metadata": {},
      "source": [
        "＃セルの追加と移動\n",
        "\n",
        "このセルをクリックし、上のツールバーの\\ [+\\]ボタンをクリックして、このすぐ下の新しいセルを作成します。前のセルのコードにコピーして貼り付けてから実行します！また、選択したセルの右上にアイコンがあり、それを削除し、複製し、上下に移動します。\n"
      ]
    },
    {
      "cell_type": "code",
      "execution_count": null,
      "id": "ce258424-40c3-49a7-9462-e6fa25014b03",
      "metadata": {},
      "outputs": [],
      "source": []
    },
    {
      "cell_type": "markdown",
      "id": "30e71f50-8f01-470a-9d7a-b82a6cef4236",
      "metadata": {},
      "source": [
        "# セル出力\n",
        "\n",
        "セルを実行すると、標準の出力と最後のステートメントの結果は、「セル出力」として知られるコードのすぐ下の領域に書き込まれます。ファイルメニュー（またはコマンド+s）からノートブックを保存すると、出力も保存され、何が起こったかの有用な記録になります。\n",
        "\n",
        "メニューを編集することでこれをクリーンアップできます>>すべてのセルのクリア出力、またはカーネルメニュー>>すべてのセルのカーネルとクリア出力を再起動します。"
      ]
    },
    {
      "cell_type": "code",
      "execution_count": null,
      "id": "a4d021e2-c284-411f-8ab1-030530cfbe72",
      "metadata": {},
      "outputs": [],
      "source": [
        "spams = [\"spam\"] * 1000\n",
        "print(spams)\n",
        "\n",
        "# これを実行した後、出力をクリアする価値があるかもしれません！"
      ]
    },
    {
      "cell_type": "markdown",
      "id": "eac060f2-7a71-46e7-8235-b6ad0a76f5f8",
      "metadata": {},
      "source": [
        "# マークダウンの使用\n",
        "\n",
        "それで、これらのように、それらの中に書いているこれらの領域で何が起こっているのでしょうか？まあ、実際には、このような説明を追加するために「マークダウン」セルと呼ばれる別の種類のセルがあります。 +ボタンをクリックしてセルを追加します。次に、ツールバーで「コード」と書かれている場所をクリックして、「マークダウン」に変更します。\n",
        "\n",
        "Markdown形式を使用していくつかのコメントを追加し、おそらくここからコピーして貼り付けます。\n",
        "\n",
        "```\n",
        "# This is a heading\n",
        "## This is a sub-head\n",
        "### And a sub-sub-head\n",
        "\n",
        "I like Jupyter Lab because it's\n",
        "- Easy\n",
        "- Flexible\n",
        "- Satisfying\n",
        "```\n",
        "\n",
        "これをフォーマットされたテキストに変換して、単にセル内のシフト+戻りを行います。\n",
        "セルをクリックして、削除する場合はビンアイコンを押します。"
      ]
    },
    {
      "cell_type": "code",
      "execution_count": null,
      "id": "e1586320-c90f-4f22-8b39-df6865484950",
      "metadata": {},
      "outputs": [],
      "source": []
    },
    {
      "cell_type": "markdown",
      "id": "1330c83c-67ac-4ca0-ac92-a71699e0c31b",
      "metadata": {},
      "source": [
        "# 感嘆符\n",
        "\n",
        "Jupyter Labsの非常に便利な機能があります。でコマンドを入力できます！次のようなコードセルの前に\n",
        "\n",
        "！pip install \\ [some_package \\]\n",
        "\n",
        "また、コマンドラインで（まるでWindows PowerShellまたはMacターミナルで）実行し、結果を印刷します"
      ]
    },
    {
      "cell_type": "code",
      "execution_count": null,
      "id": "82042fc5-a907-4381-a4b8-eb9386df19cd",
      "metadata": {},
      "outputs": [],
      "source": [
        "# 現在のディレクトリをリストします\n",
        "\n",
        "!ls"
      ]
    },
    {
      "cell_type": "code",
      "execution_count": null,
      "id": "4fc3e3da-8a55-40cc-9706-48bf12a0e20e",
      "metadata": {},
      "outputs": [],
      "source": [
        "# ping cnn.com-退屈しているときにツールバーの停止ボタンを押します\n",
        "\n",
        "!ping cnn.com"
      ]
    },
    {
      "cell_type": "code",
      "execution_count": null,
      "id": "a58e9462-89a2-4b4f-b4aa-51c4bd9f796b",
      "metadata": {},
      "outputs": [],
      "source": [
        "# これはあなたのアナコンダ環境を保証する有用なコマンドです\n",
        "# パッケージへの新しいアップグレードは最新です。\n",
        "# しかし、それは1分かかるかもしれません、そして、出力にたくさん印刷するでしょう\n",
        "\n",
        "!conda env update -f ../environment.yml"
      ]
    },
    {
      "cell_type": "markdown",
      "id": "4688baaf-a72c-41b5-90b6-474cb24790a7",
      "metadata": {},
      "source": [
        "# コースで遭遇する小さなこと\n",
        "\n",
        "これは必ずしもJupyterの機能ではありませんが、Jupyter Labsで役立つことを知っておくのに最適なパッケージであり、コースで使用しています。\n",
        "\n",
        "パッケージ「TQDM」は、繰り返し可能な場合、素敵な進行状況バーを印刷します。"
      ]
    },
    {
      "cell_type": "code",
      "execution_count": null,
      "id": "2646a4e5-3c23-4aee-a34d-d623815187d2",
      "metadata": {},
      "outputs": [],
      "source": [
        "# これが進行状況のないコードです\n",
        "# 何がハッピングされているのだろうと思っている間、10秒かかります。\n",
        "\n",
        "import time\n",
        "\n",
        "spams = [\"spam\"] * 1000\n",
        "\n",
        "for spam in spams:\n",
        "    time.sleep(0.01)"
      ]
    },
    {
      "cell_type": "code",
      "execution_count": null,
      "id": "6e96be3d-fa82-42a3-a8aa-b81dd20563a5",
      "metadata": {},
      "outputs": [],
      "source": [
        "# そして今、素敵な小さな進歩バーで：\n",
        "\n",
        "import time\n",
        "from tqdm import tqdm\n",
        "\n",
        "spams = [\"spam\"] * 1000\n",
        "\n",
        "for spam in tqdm(spams):\n",
        "    time.sleep(0.01)"
      ]
    },
    {
      "cell_type": "code",
      "execution_count": null,
      "id": "63c788dd-4618-4bb4-a5ce-204411a38ade",
      "metadata": {},
      "outputs": [],
      "source": [
        "# 別のトピックでは、Markdownで出力を印刷する便利な方法を次に示します\n",
        "\n",
        "from IPython.display import Markdown, display\n",
        "\n",
        "display(Markdown(\"# これは大きな見出しです！\n"
      ]
    },
    {
      "cell_type": "markdown",
      "id": "9d14c1fb-3321-4387-b6ca-9af27676f980",
      "metadata": {},
      "source": [
        "# それでおしまい！ Jupyter Labでスピードを上げています。\n",
        "\n",
        "##さらに高度になりたいですか？\n",
        "\n",
        "Jupyter Labのプロになりたい場合は、チュートリアルXX_MARKDOWN_LINK_XXを読むことができます。しかし、これは私たちのコースには必要ありません。 Shift + Returnを打って結果を楽しむための良いテクニックです！"
      ]
    }
  ],
  "metadata": {
    "kernelspec": {
      "display_name": "Python 3 (ipykernel)",
      "language": "python",
      "name": "python3"
    },
    "language_info": {
      "codemirror_mode": {
        "name": "ipython",
        "version": 3
      },
      "file_extension": ".py",
      "mimetype": "text/x-python",
      "name": "python",
      "nbconvert_exporter": "python",
      "pygments_lexer": "ipython3",
      "version": "3.11.11"
    }
  },
  "nbformat": 4,
  "nbformat_minor": 5
}