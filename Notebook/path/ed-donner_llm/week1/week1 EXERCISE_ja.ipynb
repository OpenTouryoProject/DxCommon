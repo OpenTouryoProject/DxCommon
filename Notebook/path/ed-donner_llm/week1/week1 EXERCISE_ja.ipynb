{
  "cells": [
    {
      "cell_type": "markdown",
      "id": "fe12c203-e6a6-452c-a655-afb8a03a4ff5",
      "metadata": {},
      "source": [
        "# 1週目のエクササイズ\n",
        "\n",
        "Openai APIとOllamaに精通していることを示すために、技術的な質問をするツールを作成する、  \n",
        "説明で応答します。これは、コース中に自分自身を使用できるツールです！"
      ]
    },
    {
      "cell_type": "code",
      "execution_count": null,
      "id": "c1070317-3ed9-4659-abe3-828943230e03",
      "metadata": {},
      "outputs": [],
      "source": [
        "# 輸入"
      ]
    },
    {
      "cell_type": "code",
      "execution_count": null,
      "id": "4a456906-915a-4bfd-bb9d-57e505c5093f",
      "metadata": {},
      "outputs": [],
      "source": [
        "# 定数\n",
        "\n",
        "MODEL_GPT = 'gpt-4o-mini'\n",
        "MODEL_LLAMA = 'llama3.2'"
      ]
    },
    {
      "cell_type": "code",
      "execution_count": null,
      "id": "a8d7923c-5f28-4c30-8556-342d7c8497c1",
      "metadata": {},
      "outputs": [],
      "source": [
        "# 環境を設定します"
      ]
    },
    {
      "cell_type": "code",
      "execution_count": null,
      "id": "3f0d0137-52b0-47a8-81a8-11a90a010798",
      "metadata": {},
      "outputs": [],
      "source": [
        "# これが質問です。これを入力して、何か新しいことを尋ねます\n",
        "\n",
        "question = \"\"\"\n",
        "Please explain what this code does and why:\n",
        "yield from {book.get(\"author\") for book in books if book.get(\"author\")}\n",
        "\"\"\""
      ]
    },
    {
      "cell_type": "code",
      "execution_count": null,
      "id": "60ce7000-a4a5-4cce-a261-e75ef45063b4",
      "metadata": {},
      "outputs": [],
      "source": [
        "# GPT-4O-MINIをストリーミングで回答してください"
      ]
    },
    {
      "cell_type": "code",
      "execution_count": null,
      "id": "8f7c8ea8-4082-4ad0-8751-3301adcf6538",
      "metadata": {},
      "outputs": [],
      "source": [
        "# llama 3.2を取得してください"
      ]
    }
  ],
  "metadata": {
    "kernelspec": {
      "display_name": "Python 3 (ipykernel)",
      "language": "python",
      "name": "python3"
    },
    "language_info": {
      "codemirror_mode": {
        "name": "ipython",
        "version": 3
      },
      "file_extension": ".py",
      "mimetype": "text/x-python",
      "name": "python",
      "nbconvert_exporter": "python",
      "pygments_lexer": "ipython3",
      "version": "3.11.11"
    }
  },
  "nbformat": 4,
  "nbformat_minor": 5
}