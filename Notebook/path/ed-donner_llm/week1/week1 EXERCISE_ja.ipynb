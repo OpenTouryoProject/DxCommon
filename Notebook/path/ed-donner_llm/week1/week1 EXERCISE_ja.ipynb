{
 "cells": [
  {
   "cell_type": "markdown",
   "id": "fe12c203-e6a6-452c-a655-afb8a03a4ff5",
   "metadata": {},
   "source": [
    "# 1週目のエクササイズ\n",
    "\n",
    "Openai APIとOllamaに精通していることを示すために、技術的な質問をするツールを作成する、説明で応答します。これは、コース中に自分自身を使用できるツールです！\n",
    "\n",
    "https://github.com/ed-donner/llm_engineering/blob/main/week1/community-contributions/week1_EXERCISE.ipynb"
   ]
  },
  {
   "cell_type": "code",
   "execution_count": 1,
   "id": "c1070317-3ed9-4659-abe3-828943230e03",
   "metadata": {},
   "outputs": [],
   "source": [
    "# imports\n",
    "\n",
    "import os\n",
    "import requests\n",
    "import json\n",
    "from typing import List\n",
    "from dotenv import load_dotenv\n",
    "from bs4 import BeautifulSoup\n",
    "from IPython.display import Markdown, display, update_display\n",
    "from openai import OpenAI\n",
    "import ollama"
   ]
  },
  {
   "cell_type": "code",
   "execution_count": 2,
   "id": "4a456906-915a-4bfd-bb9d-57e505c5093f",
   "metadata": {},
   "outputs": [],
   "source": [
    "# constants\n",
    "\n",
    "MODEL_GPT = 'gpt-4o-mini'\n",
    "MODEL_LLAMA = 'llama3.2:1b'"
   ]
  },
  {
   "cell_type": "code",
   "execution_count": 3,
   "id": "a8d7923c-5f28-4c30-8556-342d7c8497c1",
   "metadata": {},
   "outputs": [
    {
     "name": "stdout",
     "output_type": "stream",
     "text": [
      "API key looks good so far\n"
     ]
    }
   ],
   "source": [
    "# set up environment\n",
    "\n",
    "load_dotenv()\n",
    "api_key = os.getenv('OPENAI_API_KEY')\n",
    "\n",
    "if api_key and api_key.startswith('sk-proj-') and len(api_key)>10:\n",
    "    print(\"API key looks good so far\")\n",
    "else:\n",
    "    print(\"There might be a problem with your API key? Please visit the troubleshooting notebook!\")\n",
    "    \n",
    "openai = OpenAI()"
   ]
  },
  {
   "cell_type": "code",
   "execution_count": 4,
   "id": "3f0d0137-52b0-47a8-81a8-11a90a010798",
   "metadata": {},
   "outputs": [],
   "source": [
    "#prompts\n",
    "\n",
    "system_prompt = \"あなたはコンピュータ・サイエンス分野に関連する質問に答える技術チューターです。\\\n",
    "回答は、ソフトウェア開発、人工知能、大規模言語モデルの分野における最新の進歩を反映したものにしてください。マークダウン形式で回答してください。\\\n",
    "学習者がトピックについてより詳しい情報を得るのに役立つリソースを含めてください。\"\n",
    "\n",
    "user_prompt = \"コンピュータサイエンスや AI のバックグラウンドを持たない人に LLM をどのように説明しますか？\""
   ]
  },
  {
   "cell_type": "code",
   "execution_count": 5,
   "id": "60ce7000-a4a5-4cce-a261-e75ef45063b4",
   "metadata": {},
   "outputs": [
    {
     "data": {
      "text/markdown": [
       "大規模言語モデル（LLM: Large Language Model）をコンピュータサイエンスやAIのバックグラウンドを持たない人に説明する際は、以下のポイントを考えると良いでしょう。\n",
       "\n",
       "### LLMの基本的な説明\n",
       "\n",
       "1. **言語の理解と生成**:\n",
       "   LLMは非常に大量のテキストデータから学習し、人間のように自然な文章を理解し、生成する能力を持つプログラムです。これは、人間の言葉を「読んで」理解し、文章を書く技術に似ています。\n",
       "\n",
       "2. **膨大な情報源**:\n",
       "   LLMは本、記事、ウェブサイトなど、さまざまな情報源から収集されたデータを基にトレーニングされており、そのため多岐にわたるトピックについて知識を持っています。\n",
       "\n",
       "3. **コンテキストを把握**:\n",
       "   LLMは与えられた文章や質問の文脈を理解し、それに適した答えを生成します。つまり、会話の流れに合わせて賢く応答する能力があります。\n",
       "\n",
       "4. **応用例**:\n",
       "   - **チャットボット**: 顧客サポートや情報提供のために使用。\n",
       "   - **コンテンツ生成**: 記事やブログのタイトル、ソーシャルメディア投稿の作成。\n",
       "   - **言語翻訳**: 異なる言語間の翻訳作業。\n",
       "\n",
       "### LLMの仕組みをわかりやすく\n",
       "\n",
       "- **トレーニング**:\n",
       "  LLMは多くの文章を解析するときに「単語のパターン」を学びます。これにより、新しい文章でも自然に感じられるような文を作ることができます。\n",
       "\n",
       "- **ニューラルネットワーク**:\n",
       "  LLMは「ニューラルネットワーク」と呼ばれる構造を使っており、これは脳の神経細胞の働きに似たモデルです。これによって、複雑なパターンや関連性を学ぶことができます。\n",
       "\n",
       "### 更なる理解を深めるためのリソース\n",
       "\n",
       "- **オンラインコース**:\n",
       "  - [Coursera: AI For Everyone](https://www.coursera.org/learn/ai-for-everyone): AIの基礎を理解するためのコース。\n",
       "  - [edX:Introduction to Artificial Intelligence](https://www.edx.org/course/introduction-to-artificial-intelligence-ai): AIに関する包括的な紹介。\n",
       "\n",
       "- **書籍**:\n",
       "  - 「Deep Learning」 by Ian Goodfellow, Yoshua Bengio, and Aaron Courville: 深層学習の入門書で、基礎を学ぶのに役立つ。\n",
       "  - 「Artificial Intelligence: A Guide to Intelligent Systems」 by Michael Negnevitsky: AIの基本的な概念を理解するための良書。\n",
       "\n",
       "- **動画**:\n",
       "  - [YouTube: What Are Large Language Models?](https://www.youtube.com/results?search_query=What+Are+Large+Language+Models%3F): LLMに関する簡単な説明動画。\n",
       "\n",
       "### まとめ\n",
       "\n",
       "大規模言語モデル（LLM）は、テキストを理解し、人間らしい文章を生成する能力を持つ技術です。自然な会話や情報提供など、さまざまな分野で活用されています。興味がある方は、上記のリソースでさらなる学習を進めることをお勧めします。"
      ],
      "text/plain": [
       "<IPython.core.display.Markdown object>"
      ]
     },
     "metadata": {},
     "output_type": "display_data"
    }
   ],
   "source": [
    "# Get gpt-4o-mini to answer, with streaming\n",
    "\n",
    "stream = openai.chat.completions.create(\n",
    "    model=MODEL_GPT,\n",
    "    messages=[\n",
    "        {\"role\": \"system\", \"content\": system_prompt},\n",
    "        {\"role\": \"user\", \"content\": user_prompt}\n",
    "        ],\n",
    "    stream=True\n",
    "    )\n",
    "\n",
    "response = \"\"\n",
    "display_handle = display(Markdown(\"\"), display_id=True)\n",
    "\n",
    "for chunk in stream:\n",
    "    response += chunk.choices[0].delta.content or ''\n",
    "    response = response.replace(\"```\",\"\").replace(\"markdown\", \"\")\n",
    "    update_display(Markdown(response), display_id=display_handle.display_id)"
   ]
  },
  {
   "cell_type": "code",
   "execution_count": 6,
   "id": "8f7c8ea8-4082-4ad0-8751-3301adcf6538",
   "metadata": {},
   "outputs": [
    {
     "data": {
      "text/markdown": [
       "コンピュータ・サイエンス分野に関連する質問に答える技術チューターとして、以下をご紹介します。\n",
       "\n",
       "コンピュータ・サイエンスとは、情報が実体上に現れ、その情報を操作し理解するための計算機の基本的な概念です。コンピュータ・サイエンスは、記憶、感覚、思考などの機能を含む多様な分野であり、AIとLLM（Large Language Model）はそれぞれ重要な側面です。\n",
       "\n",
       "**コンピュータ・サイエンス**\n",
       "\n",
       "コンピュータ・サイエンスは、情報が計算機の内部に記録され、それを操作して解釈するプロセスを含む。コンピュータによって生成されたテキストや画像などのデータを分析し、推論し、予測することで、人間の知能を超えた思考能力を作成できます。\n",
       "\n",
       "**Large Language Model (LLM)**\n",
       "\n",
       " Large Language Model は、大規模な言語モデルの一種です。これは、複雑な情報とテキストを理解して情報に基づいた決定を下すために使用される AI です。LLM は、現代の世界で広く使用されている、自然言語の分析、生成、表現に関するさまざまな機能を持つ。\n",
       "\n",
       "**コンピュータ・サイエンスと LLM の関係**\n",
       "\n",
       "コンピュータ・サイエンス分野における LLM の重要性は、LLM が人々がコミュニケーションし、情報を共有するための基本的なツールであるということです。LLM は、人が手動で行うより効果的かつ直感的なコミュニケーション方法に代わって人間の思考と言語 processing能力を現実化できます。\n",
       "\n",
       "**LLM の利用**\n",
       "\n",
       "LLM を使用することで、人々はさまざまな状況で情報を共有し、個人的な経験や関心事に基づいて合うことができ、コミュニケーションがより効果的になります。\n",
       "\n",
       "**リソース**\n",
       "\n",
       "*   [OpenAI LLM](https://www.llaushub.com/): 2019 年、Googleによって開発されたLLMを使用した初期のリッジマッチ型LSTMで構成されているLLM。\n",
       "*   [Hugging Face Transformers](https://huggingface.co transformers): Hugging Face が開発したTransformer言語モデルのベースで構成されているLLM。 \n",
       "*   [Stanford Question Answering Dataset (SQuAD)](https://www.squad.ai/): Stanford大学によって発見されたQ&Aトレードマークの文書データセット、すでにLLMを使用したテスト結果として提示されています。\n",
       "*   [Microsoft Cognitive Services](https://docs.microsoft.com/en-us/azure/cognitive-services/affective-detection): Microsoftの感情認識サービスへのアクセスにより、LLM へのアクセスが可能になりました。\n",
       "\n",
       "コンピュータ・サイエンス分野におけるLLM の重要性は、人々がコミュニケーションし、情報を共有するための基本的なツールであるということです。LLM を使用することで、人間の思考と言語 processing能力を現実化できます。\n",
       "\n",
       "*   [IBM Watson](https://www.ibm.com/watson/): IBMが開発したAIシステムで、LLM のベースとなるAIです。\n",
       "*   [Microsoft Bot Framework](https://docs.microsoft.com/en-us/azure/bot-service/bots-builders): MicrosoftのBotsフレームワークで構成されたLLMベースのAIです。\n",
       "\n",
       "上記は、コンピュータ・サイエンス分野におけるLLM の重要性と、LLM を使用することで人々がコミュニケーションし、情報を共有するための基本的なツールであることについてお詫びしています。"
      ],
      "text/plain": [
       "<IPython.core.display.Markdown object>"
      ]
     },
     "metadata": {},
     "output_type": "display_data"
    }
   ],
   "source": [
    "# Get Llama 3.2 to answer\n",
    "\n",
    "OLLAMA_API = \"http://localhost:11434/api/chat\"\n",
    "\n",
    "messages=[\n",
    "    {\"role\": \"system\", \"content\": system_prompt},\n",
    "    {\"role\": \"user\", \"content\": user_prompt}\n",
    "    ]\n",
    "\n",
    "payload = {\n",
    "    \"model\": MODEL_LLAMA,\n",
    "    \"messages\": messages,\n",
    "    \"stream\": True\n",
    "    }\n",
    "\n",
    "response = ollama.chat(model=MODEL_LLAMA, messages=messages)\n",
    "reply = response['message']['content']\n",
    "display(Markdown(reply))"
   ]
  }
 ],
 "metadata": {
  "kernelspec": {
   "display_name": "Python 3 (ipykernel)",
   "language": "python",
   "name": "python3"
  },
  "language_info": {
   "codemirror_mode": {
    "name": "ipython",
    "version": 3
   },
   "file_extension": ".py",
   "mimetype": "text/x-python",
   "name": "python",
   "nbconvert_exporter": "python",
   "pygments_lexer": "ipython3",
   "version": "3.12.3"
  }
 },
 "nbformat": 4,
 "nbformat_minor": 5
}
