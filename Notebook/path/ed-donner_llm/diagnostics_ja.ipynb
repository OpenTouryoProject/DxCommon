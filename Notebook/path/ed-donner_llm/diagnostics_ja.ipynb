{
 "cells": [
  {
   "cell_type": "markdown",
   "id": "73287ed4-81e3-496a-9e47-f0e8c3770ce9",
   "metadata": {},
   "source": [
    "# 重要な診断情報を収集します\n",
    "\n",
    "## この次のセルを実行して、いくつかの重要なデータを収集してください\n",
    "\n",
    "次のセルを実行してください。実行には1分ほどかかります（主にネットワークテスト）。\n",
    "\n",
    "最後のセルの出力をed@edwarddonner.comまでメールでお送りください。\n",
    "\n",
    "または、report.txtというファイルが作成されますので、メールに添付してください。"
   ]
  },
  {
   "cell_type": "code",
   "execution_count": null,
   "id": "ed8056e8-efa2-4b6f-a4bb-e7ceb733c517",
   "metadata": {},
   "outputs": [],
   "source": [
    "# 私の診断レポートを実行して、デバッグのための重要な情報を収集する\n",
    "# 結果をメールで送ってください。出力をコピーして貼り付けるか、ファイルレポートを添付してください。txt\n",
    "\n",
    "!pip install -q requests speedtest-cli psutil setuptools\n",
    "from diagnostics import Diagnostics\n",
    "Diagnostics().run()"
   ]
  }
 ],
 "metadata": {
  "kernelspec": {
   "display_name": "Python 3 (ipykernel)",
   "language": "python",
   "name": "python3"
  },
  "language_info": {
   "codemirror_mode": {
    "name": "ipython",
    "version": 3
   },
   "file_extension": ".py",
   "mimetype": "text/x-python",
   "name": "python",
   "nbconvert_exporter": "python",
   "pygments_lexer": "ipython3",
   "version": "3.12.3"
  }
 },
 "nbformat": 4,
 "nbformat_minor": 5
}
