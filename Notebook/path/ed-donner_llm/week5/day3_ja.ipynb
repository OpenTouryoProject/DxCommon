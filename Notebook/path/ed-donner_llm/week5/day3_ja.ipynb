{
  "cells": [
    {
      "cell_type": "markdown",
      "id": "dfe37963-1af6-44fc-a841-8e462443f5e6",
      "metadata": {},
      "source": [
        "## 専門知識労働者\n",
        "\n",
        "###専門知識労働者である質問者が\n",
        "###保険技術会社であるInsurellmの従業員が使用する\n",
        "###エージェントは正確である必要があり、ソリューションは低コストでなければなりません。\n",
        "\n",
        "このプロジェクトでは、RAG（検索拡張生成）を使用して、質問/回答アシスタントが高い精度を確保します。"
      ]
    },
    {
      "cell_type": "code",
      "execution_count": null,
      "id": "ba2779af-84ef-4227-9e9e-6eaf0df87e77",
      "metadata": {},
      "outputs": [],
      "source": [
        "# 輸入\n",
        "\n",
        "import os\n",
        "import glob\n",
        "from dotenv import load_dotenv\n",
        "import gradio as gr"
      ]
    },
    {
      "cell_type": "code",
      "execution_count": null,
      "id": "802137aa-8a74-45e0-a487-d1974927d7ca",
      "metadata": {},
      "outputs": [],
      "source": [
        "# LangchainとChromaの輸入と陰謀\n",
        "\n",
        "from langchain.document_loaders import DirectoryLoader, TextLoader\n",
        "from langchain.text_splitter import CharacterTextSplitter\n",
        "from langchain.schema import Document\n",
        "from langchain_openai import OpenAIEmbeddings, ChatOpenAI\n",
        "from langchain_chroma import Chroma\n",
        "import numpy as np\n",
        "from sklearn.manifold import TSNE\n",
        "import plotly.graph_objects as go"
      ]
    },
    {
      "cell_type": "code",
      "execution_count": null,
      "id": "58c85082-e417-4708-9efe-81a5d55d1424",
      "metadata": {},
      "outputs": [],
      "source": [
        "# 価格は当社の要因であるため、低コストモデルを使用します\n",
        "\n",
        "MODEL = \"gpt-4o-mini\"\n",
        "db_name = \"vector_db\""
      ]
    },
    {
      "cell_type": "code",
      "execution_count": null,
      "id": "ee78efcb-60fe-449e-a944-40bab26261af",
      "metadata": {},
      "outputs": [],
      "source": [
        "# .envというファイルに環境変数をロードします\n",
        "\n",
        "load_dotenv(override=True)\n",
        "os.environ['OPENAI_API_KEY'] = os.getenv('OPENAI_API_KEY', 'your-key-if-not-using-env')"
      ]
    },
    {
      "cell_type": "code",
      "execution_count": null,
      "id": "730711a9-6ffe-4eee-8f48-d6cfb7314905",
      "metadata": {},
      "outputs": [],
      "source": [
        "# Langchainのローダーを使用してドキュメントを読んでください\n",
        "# 知識ベースのすべてのサブフォルダーにすべてを取ります\n",
        "\n",
        "folders = glob.glob(\"knowledge-base/*\")\n",
        "\n",
        "# 一部のユーザーに必要なこの修正については、コースの学生であるCGとJon Rに感謝します\n",
        "text_loader_kwargs = {'encoding': 'utf-8'}\n",
        "# それがうまくいかない場合、一部のWindowsユーザーは代わりに次の行を除外する必要があるかもしれません\n",
        "# text_loader_kwargs = {'autodetect_encoding'：true}\n",
        "\n",
        "documents = []\n",
        "for folder in folders:\n",
        "    doc_type = os.path.basename(folder)\n",
        "    loader = DirectoryLoader(folder, glob=\"**/*.md\", loader_cls=TextLoader, loader_kwargs=text_loader_kwargs)\n",
        "    folder_docs = loader.load()\n",
        "    for doc in folder_docs:\n",
        "        doc.metadata[\"doc_type\"] = doc_type\n",
        "        documents.append(doc)"
      ]
    },
    {
      "cell_type": "markdown",
      "id": "f065d4b1-80b7-4e15-abd4-60a83e752ea8",
      "metadata": {},
      "source": [
        "# ご注意ください：\n",
        "\n",
        "次のセルでは、テキストをチャンクに分割します。\n",
        "\n",
        "2人の学生が、次のセルがコンピューターをクラッシュさせたことを教えてくれました。  \n",
        "Chunk_sizeを1,000から2,000に変更し、Chunk_overlapを200から400に変更することで修正することができました。  \n",
        "これは必須ではありません。しかし、それがあなたに起こったら、その変更をしてください！  \n",
        "（Langchainは、チャンクが1,000を超えることについて警告を発する可能性があることに注意してください - これは安全に無視できます）。\n",
        "\n",
        "_この貴重な貢献についてSteven WとNir Pに感謝します。_"
      ]
    },
    {
      "cell_type": "code",
      "execution_count": null,
      "id": "7310c9c8-03c1-4efc-a104-5e89aec6db1a",
      "metadata": {},
      "outputs": [],
      "source": [
        "text_splitter = CharacterTextSplitter(chunk_size=1000, chunk_overlap=200)\n",
        "chunks = text_splitter.split_documents(documents)"
      ]
    },
    {
      "cell_type": "code",
      "execution_count": null,
      "id": "cd06e02f-6d9b-44cc-a43d-e1faa8acc7bb",
      "metadata": {},
      "outputs": [],
      "source": [
        "len(chunks)"
      ]
    },
    {
      "cell_type": "code",
      "execution_count": null,
      "id": "2c54b4b6-06da-463d-bee7-4dd456c2b887",
      "metadata": {},
      "outputs": [],
      "source": [
        "doc_types = set(chunk.metadata['doc_type'] for chunk in chunks)\n",
        "print(f\"Document types found: {', '.join(doc_types)}\")"
      ]
    },
    {
      "cell_type": "markdown",
      "id": "77f7d2a6-ccfa-425b-a1c3-5e55b23bd013",
      "metadata": {},
      "source": [
        "## 埋め込みのサイドノート、および「自動エンコードLLMS」\n",
        "\n",
        "テキストの各塊を、埋め込みとして知られるテキストの意味を表すベクトルにマッピングします。\n",
        "\n",
        "Openaiはこれを行うためのモデルを提供します。これをLangchainコードでAPIを呼び出すことで使用します。\n",
        "\n",
        "このモデルは、完全な入力が与えられた出力を生成する「自動エンコードLLM」の例です。\n",
        "「自動回帰LLM」として知られている今日説明した他のすべてのLLMとは異なり、過去のコンテキストのみに基づいて将来のトークンを生成します。\n",
        "\n",
        "自動エンコードLLMの別の例は、GoogleのBertです。埋め込みに加えて、自動エンコードLLMが分類に使用されることがよくあります。\n",
        "\n",
        "###サイドノート\n",
        "\n",
        "第8週には、RAGおよびベクトルの埋め込みに戻り、オープンソースベクトルエンコーダを使用して、データがコンピューターを離れることはありません。これは、エンタープライズシステムとデータが内部を維持する必要がある場合に重要な考慮事項です。"
      ]
    },
    {
      "cell_type": "code",
      "execution_count": null,
      "id": "78998399-ac17-4e28-b15f-0b5f51e6ee23",
      "metadata": {},
      "outputs": [],
      "source": [
        "# データの塊を、各チャンクと埋め込むベクトルを関連付けるベクトルストアに入れます\n",
        "\n",
        "embeddings = OpenAIEmbeddings()\n",
        "\n",
        "# あなたがむしろHuggingface文と変換者からのフリーベクトル埋め込みを使用したい場合\n",
        "# 次に、埋め込み= openAiembedings（）を交換します\n",
        "# と：\n",
        "# langchain.embeddingsからImport Huggingfacembeddingsから\n",
        "# Embeddings = HuggingfaceMbedings（model_name = \"cente-transformers/all-minilm-l6-v2\"）"
      ]
    },
    {
      "cell_type": "code",
      "execution_count": null,
      "id": "763e51ff-5787-4a56-8176-36b7c5796fe3",
      "metadata": {},
      "outputs": [],
      "source": [
        "# Chroma DataStoreがすでに存在するかどうかを確認してください - もしそうなら、コレクションを削除してゼロから始める\n",
        "\n",
        "if os.path.exists(db_name):\n",
        "    Chroma(persist_directory=db_name, embedding_function=embeddings).delete_collection()"
      ]
    },
    {
      "cell_type": "code",
      "execution_count": null,
      "id": "99fe3a37-480f-4d55-be48-120588d5846b",
      "metadata": {},
      "outputs": [],
      "source": [
        "# Chroma VectorStoreを作成してください！\n",
        "\n",
        "vectorstore = Chroma.from_documents(documents=chunks, embedding=embeddings, persist_directory=db_name)\n",
        "print(f\"Vectorstore created with {vectorstore._collection.count()} documents\")"
      ]
    },
    {
      "cell_type": "code",
      "execution_count": null,
      "id": "057868f6-51a6-4087-94d1-380145821550",
      "metadata": {},
      "outputs": [],
      "source": [
        "# 1つのベクトルを取得して、それが持っている寸法の数を見つけます\n",
        "\n",
        "collection = vectorstore._collection\n",
        "sample_embedding = collection.get(limit=1, include=[\"embeddings\"])[\"embeddings\"][0]\n",
        "dimensions = len(sample_embedding)\n",
        "print(f\"The vectors have {dimensions:,} dimensions\")"
      ]
    },
    {
      "cell_type": "code",
      "execution_count": null,
      "id": "61e393a0-dd4c-419f-842f-60c1cb3b716b",
      "metadata": {},
      "outputs": [],
      "source": []
    },
    {
      "cell_type": "markdown",
      "id": "b0d45462-a818-441c-b010-b85b32bcf618",
      "metadata": {},
      "source": [
        "## ベクトルストアの視覚化\n",
        "\n",
        "ドキュメントとその埋め込みベクトルを見て、何が起こっているのかを確認しましょう。"
      ]
    },
    {
      "cell_type": "code",
      "execution_count": null,
      "id": "b98adf5e-d464-4bd2-9bdf-bc5b6770263b",
      "metadata": {},
      "outputs": [],
      "source": [
        "# プレウォーク\n",
        "\n",
        "result = collection.get(include=['embeddings', 'documents', 'metadatas'])\n",
        "vectors = np.array(result['embeddings'])\n",
        "documents = result['documents']\n",
        "doc_types = [metadata['doc_type'] for metadata in result['metadatas']]\n",
        "colors = [['blue', 'green', 'red', 'orange'][['products', 'employees', 'contracts', 'company'].index(t)] for t in doc_types]"
      ]
    },
    {
      "cell_type": "code",
      "execution_count": null,
      "id": "427149d5-e5d8-4abd-bb6f-7ef0333cca21",
      "metadata": {},
      "outputs": [],
      "source": [
        "# 私たち人間は、2Dで物事を視覚化する方が簡単だと感じています！\n",
        "# T-SNEを使用して、ベクターの寸法を2Dに減らします\n",
        "# （t分配された確率的隣接埋め込み）\n",
        "\n",
        "tsne = TSNE(n_components=2, random_state=42)\n",
        "reduced_vectors = tsne.fit_transform(vectors)\n",
        "\n",
        "# 2D散布図を作成します\n",
        "fig = go.Figure(data=[go.Scatter(\n",
        "    x=reduced_vectors[:, 0],\n",
        "    y=reduced_vectors[:, 1],\n",
        "    mode='markers',\n",
        "    marker=dict(size=5, color=colors, opacity=0.8),\n",
        "    text=[f\"Type: {t}<br>Text: {d[:100]}...\" for t, d in zip(doc_types, documents)],\n",
        "    hoverinfo='text'\n",
        ")])\n",
        "\n",
        "fig.update_layout(\n",
        "    title='2D Chroma Vector Store Visualization',\n",
        "    scene=dict(xaxis_title='x',yaxis_title='y'),\n",
        "    width=800,\n",
        "    height=600,\n",
        "    margin=dict(r=20, b=10, l=10, t=40)\n",
        ")\n",
        "\n",
        "fig.show()"
      ]
    },
    {
      "cell_type": "code",
      "execution_count": null,
      "id": "e1418e88-acd5-460a-bf2b-4e6efc88e3dd",
      "metadata": {},
      "outputs": [],
      "source": [
        "# 3Dを試してみましょう！\n",
        "\n",
        "tsne = TSNE(n_components=3, random_state=42)\n",
        "reduced_vectors = tsne.fit_transform(vectors)\n",
        "\n",
        "# 3D散布図を作成します\n",
        "fig = go.Figure(data=[go.Scatter3d(\n",
        "    x=reduced_vectors[:, 0],\n",
        "    y=reduced_vectors[:, 1],\n",
        "    z=reduced_vectors[:, 2],\n",
        "    mode='markers',\n",
        "    marker=dict(size=5, color=colors, opacity=0.8),\n",
        "    text=[f\"Type: {t}<br>Text: {d[:100]}...\" for t, d in zip(doc_types, documents)],\n",
        "    hoverinfo='text'\n",
        ")])\n",
        "\n",
        "fig.update_layout(\n",
        "    title='3D Chroma Vector Store Visualization',\n",
        "    scene=dict(xaxis_title='x', yaxis_title='y', zaxis_title='z'),\n",
        "    width=900,\n",
        "    height=700,\n",
        "    margin=dict(r=20, b=10, l=10, t=40)\n",
        ")\n",
        "\n",
        "fig.show()"
      ]
    },
    {
      "cell_type": "code",
      "execution_count": null,
      "id": "9b3ada26-b4b7-42fc-b943-933c14adf89b",
      "metadata": {},
      "outputs": [],
      "source": []
    }
  ],
  "metadata": {
    "kernelspec": {
      "display_name": "Python 3 (ipykernel)",
      "language": "python",
      "name": "python3"
    },
    "language_info": {
      "codemirror_mode": {
        "name": "ipython",
        "version": 3
      },
      "file_extension": ".py",
      "mimetype": "text/x-python",
      "name": "python",
      "nbconvert_exporter": "python",
      "pygments_lexer": "ipython3",
      "version": "3.11.12"
    }
  },
  "nbformat": 4,
  "nbformat_minor": 5
}