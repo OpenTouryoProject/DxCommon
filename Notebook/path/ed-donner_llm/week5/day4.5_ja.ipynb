{
  "cells": [
    {
      "cell_type": "markdown",
      "id": "dfe37963-1af6-44fc-a841-8e462443f5e6",
      "metadata": {},
      "source": [
        "## 専門知識労働者\n",
        "\n",
        "## extra jupyterノートブック -  4.5日 - ファイスのクロマを切り替えてください！\n",
        "\n",
        "FAISSはFacebook AIの類似性検索です"
      ]
    },
    {
      "cell_type": "code",
      "execution_count": null,
      "id": "ba2779af-84ef-4227-9e9e-6eaf0df87e77",
      "metadata": {},
      "outputs": [],
      "source": [
        "# 輸入\n",
        "\n",
        "import os\n",
        "import glob\n",
        "from dotenv import load_dotenv\n",
        "import gradio as gr"
      ]
    },
    {
      "cell_type": "code",
      "execution_count": null,
      "id": "94a564ed-5cda-42d9-aada-2a5e85d02d15",
      "metadata": {},
      "outputs": [],
      "source": [
        "# FAISS-CPUをインストールしてください！\n",
        "# Macユーザー - 最近のバージョンのmacosを持っていない場合、これは失敗する可能性があります\n",
        "# その場合、このラボをスキップすることをお勧めします。FAISSは必須ではありません！ （または、必要に応じてmacosをアップグレードします。）\n",
        "\n",
        "!pip install faiss-cpu"
      ]
    },
    {
      "cell_type": "code",
      "execution_count": null,
      "id": "802137aa-8a74-45e0-a487-d1974927d7ca",
      "metadata": {},
      "outputs": [],
      "source": [
        "# Langchainの輸入\n",
        "\n",
        "from langchain.document_loaders import DirectoryLoader, TextLoader\n",
        "from langchain.text_splitter import CharacterTextSplitter\n",
        "from langchain.schema import Document\n",
        "from langchain_openai import OpenAIEmbeddings, ChatOpenAI\n",
        "# langchain_chromaインポートクロマから\n",
        "from langchain.vectorstores import FAISS\n",
        "import numpy as np\n",
        "from sklearn.manifold import TSNE\n",
        "import plotly.graph_objects as go\n",
        "from langchain.memory import ConversationBufferMemory\n",
        "from langchain.chains import ConversationalRetrievalChain"
      ]
    },
    {
      "cell_type": "code",
      "execution_count": null,
      "id": "58c85082-e417-4708-9efe-81a5d55d1424",
      "metadata": {},
      "outputs": [],
      "source": [
        "# 価格は当社の要因であるため、低コストモデルを使用します\n",
        "\n",
        "MODEL = \"gpt-4o-mini\"\n",
        "db_name = \"vector_db\""
      ]
    },
    {
      "cell_type": "code",
      "execution_count": null,
      "id": "ee78efcb-60fe-449e-a944-40bab26261af",
      "metadata": {},
      "outputs": [],
      "source": [
        "# .envというファイルに環境変数をロードします\n",
        "\n",
        "load_dotenv(override=True)\n",
        "os.environ['OPENAI_API_KEY'] = os.getenv('OPENAI_API_KEY', 'your-key-if-not-using-env')"
      ]
    },
    {
      "cell_type": "code",
      "execution_count": null,
      "id": "730711a9-6ffe-4eee-8f48-d6cfb7314905",
      "metadata": {},
      "outputs": [],
      "source": [
        "# Langchainのローダーを使用してドキュメントを読んでください\n",
        "# 知識ベースのすべてのサブフォルダーにすべてを取ります\n",
        "\n",
        "folders = glob.glob(\"knowledge-base/*\")\n",
        "\n",
        "# 一部のユーザーに必要なこの修正については、コースの学生であるCGとJon Rに感謝します\n",
        "text_loader_kwargs = {'encoding': 'utf-8'}\n",
        "# それがうまくいかない場合、一部のWindowsユーザーは代わりに次の行を除外する必要があるかもしれません\n",
        "# text_loader_kwargs = {'autodetect_encoding'：true}\n",
        "\n",
        "documents = []\n",
        "for folder in folders:\n",
        "    doc_type = os.path.basename(folder)\n",
        "    loader = DirectoryLoader(folder, glob=\"**/*.md\", loader_cls=TextLoader, loader_kwargs=text_loader_kwargs)\n",
        "    folder_docs = loader.load()\n",
        "    for doc in folder_docs:\n",
        "        doc.metadata[\"doc_type\"] = doc_type\n",
        "        documents.append(doc)"
      ]
    },
    {
      "cell_type": "code",
      "execution_count": null,
      "id": "7310c9c8-03c1-4efc-a104-5e89aec6db1a",
      "metadata": {},
      "outputs": [],
      "source": [
        "text_splitter = CharacterTextSplitter(chunk_size=1000, chunk_overlap=200)\n",
        "chunks = text_splitter.split_documents(documents)"
      ]
    },
    {
      "cell_type": "code",
      "execution_count": null,
      "id": "cd06e02f-6d9b-44cc-a43d-e1faa8acc7bb",
      "metadata": {},
      "outputs": [],
      "source": [
        "len(chunks)"
      ]
    },
    {
      "cell_type": "code",
      "execution_count": null,
      "id": "2c54b4b6-06da-463d-bee7-4dd456c2b887",
      "metadata": {},
      "outputs": [],
      "source": [
        "doc_types = set(chunk.metadata['doc_type'] for chunk in chunks)\n",
        "print(f\"Document types found: {', '.join(doc_types)}\")"
      ]
    },
    {
      "cell_type": "markdown",
      "id": "77f7d2a6-ccfa-425b-a1c3-5e55b23bd013",
      "metadata": {},
      "source": [
        "## 埋め込みのサイドノート、および「自動エンコードLLMS」\n",
        "\n",
        "テキストの各塊を、埋め込みとして知られるテキストの意味を表すベクトルにマッピングします。\n",
        "\n",
        "Openaiはこれを行うためのモデルを提供します。これをLangchainコードでAPIを呼び出すことで使用します。\n",
        "\n",
        "このモデルは、完全な入力が与えられた出力を生成する「自動エンコードLLM」の例です。\n",
        "「自動回帰LLM」として知られている今日説明した他のすべてのLLMとは異なり、過去のコンテキストのみに基づいて将来のトークンを生成します。\n",
        "\n",
        "自動エンコードLLMの別の例は、GoogleのBertです。埋め込みに加えて、自動エンコードLLMが分類に使用されることがよくあります。\n",
        "\n",
        "###サイドノート\n",
        "\n",
        "第8週には、RAGおよびベクトルの埋め込みに戻り、オープンソースベクトルエンコーダを使用して、データがコンピューターを離れることはありません。これは、エンタープライズシステムとデータが内部を維持する必要がある場合に重要な考慮事項です。"
      ]
    },
    {
      "cell_type": "code",
      "execution_count": null,
      "id": "78998399-ac17-4e28-b15f-0b5f51e6ee23",
      "metadata": {},
      "outputs": [],
      "source": [
        "# データの塊を、各チャンクと埋め込むベクトルを関連付けるベクトルストアに入れます\n",
        "# ChromaはSQLLITEに基づいた人気のオープンソースベクトルデータベースです\n",
        "\n",
        "embeddings = OpenAIEmbeddings()\n",
        "\n",
        "# VectorStoreを作成します\n",
        "\n",
        "# 前に\n",
        "# vectorStore = chroma.from_documents（documents = chunks、embedding = embeddings、fersting_directory = db_name）\n",
        "\n",
        "# 後\n",
        "vectorstore = FAISS.from_documents(chunks, embedding=embeddings)\n",
        "\n",
        "total_vectors = vectorstore.index.ntotal\n",
        "dimensions = vectorstore.index.d\n",
        "\n",
        "print(f\"There are {total_vectors} vectors with {dimensions:,} dimensions in the vector store\")"
      ]
    },
    {
      "cell_type": "code",
      "execution_count": null,
      "id": "057868f6-51a6-4087-94d1-380145821550",
      "metadata": {},
      "outputs": [],
      "source": [
        "# プレウォーク\n",
        "vectors = []\n",
        "documents = []\n",
        "doc_types = []\n",
        "colors = []\n",
        "color_map = {'products':'blue', 'employees':'green', 'contracts':'red', 'company':'orange'}\n",
        "\n",
        "for i in range(total_vectors):\n",
        "    vectors.append(vectorstore.index.reconstruct(i))\n",
        "    doc_id = vectorstore.index_to_docstore_id[i]\n",
        "    document = vectorstore.docstore.search(doc_id)\n",
        "    documents.append(document.page_content)\n",
        "    doc_type = document.metadata['doc_type']\n",
        "    doc_types.append(doc_type)\n",
        "    colors.append(color_map[doc_type])\n",
        "    \n",
        "vectors = np.array(vectors)"
      ]
    },
    {
      "cell_type": "markdown",
      "id": "b0d45462-a818-441c-b010-b85b32bcf618",
      "metadata": {},
      "source": [
        "## ベクトルストアの視覚化\n",
        "\n",
        "ドキュメントとその埋め込みベクトルを見て、何が起こっているのかを確認しましょう。\n",
        "\n",
        "（サイドノートとして、私たちが実際にここで見ているのは、FAISSから取得されたOpenAiembedingsによって生成されたベクトルの分布です。したがって、それらが「FaissまたはChromaから」であるかどうかを驚かせることはありません。）"
      ]
    },
    {
      "cell_type": "code",
      "execution_count": null,
      "id": "427149d5-e5d8-4abd-bb6f-7ef0333cca21",
      "metadata": {},
      "outputs": [],
      "source": [
        "# 私たち人間は、2Dで物事を視覚化する方が簡単だと感じています！\n",
        "# T-SNEを使用して、ベクターの寸法を2Dに減らします\n",
        "# （t分配された確率的隣接埋め込み）\n",
        "\n",
        "tsne = TSNE(n_components=2, random_state=42)\n",
        "reduced_vectors = tsne.fit_transform(vectors)\n",
        "\n",
        "# 2D散布図を作成します\n",
        "fig = go.Figure(data=[go.Scatter(\n",
        "    x=reduced_vectors[:, 0],\n",
        "    y=reduced_vectors[:, 1],\n",
        "    mode='markers',\n",
        "    marker=dict(size=5, color=colors, opacity=0.8),\n",
        "    text=[f\"Type: {t}<br>Text: {d[:100]}...\" for t, d in zip(doc_types, documents)],\n",
        "    hoverinfo='text'\n",
        ")])\n",
        "\n",
        "fig.update_layout(\n",
        "    title='2D FAISS Vector Store Visualization',\n",
        "    scene=dict(xaxis_title='x',yaxis_title='y'),\n",
        "    width=800,\n",
        "    height=600,\n",
        "    margin=dict(r=20, b=10, l=10, t=40)\n",
        ")\n",
        "\n",
        "fig.show()"
      ]
    },
    {
      "cell_type": "code",
      "execution_count": null,
      "id": "e1418e88-acd5-460a-bf2b-4e6efc88e3dd",
      "metadata": {},
      "outputs": [],
      "source": [
        "# 3Dを試してみましょう！\n",
        "\n",
        "tsne = TSNE(n_components=3, random_state=42)\n",
        "reduced_vectors = tsne.fit_transform(vectors)\n",
        "\n",
        "# 3D散布図を作成します\n",
        "fig = go.Figure(data=[go.Scatter3d(\n",
        "    x=reduced_vectors[:, 0],\n",
        "    y=reduced_vectors[:, 1],\n",
        "    z=reduced_vectors[:, 2],\n",
        "    mode='markers',\n",
        "    marker=dict(size=5, color=colors, opacity=0.8),\n",
        "    text=[f\"Type: {t}<br>Text: {d[:100]}...\" for t, d in zip(doc_types, documents)],\n",
        "    hoverinfo='text'\n",
        ")])\n",
        "\n",
        "fig.update_layout(\n",
        "    title='3D FAISS Vector Store Visualization',\n",
        "    scene=dict(xaxis_title='x', yaxis_title='y', zaxis_title='z'),\n",
        "    width=900,\n",
        "    height=700,\n",
        "    margin=dict(r=20, b=10, l=10, t=40)\n",
        ")\n",
        "\n",
        "fig.show()"
      ]
    },
    {
      "cell_type": "markdown",
      "id": "9468860b-86a2-41df-af01-b2400cc985be",
      "metadata": {},
      "source": [
        "## Langchainを使用してすべてをまとめる時間です"
      ]
    },
    {
      "cell_type": "code",
      "execution_count": null,
      "id": "129c7d1e-0094-4479-9459-f9360b95f244",
      "metadata": {},
      "outputs": [],
      "source": [
        "# Openaiとの新しいチャットを作成します\n",
        "llm = ChatOpenAI(temperature=0.7, model_name=MODEL)\n",
        "\n",
        "# チャットの会話メモリを設定します\n",
        "memory = ConversationBufferMemory(memory_key='chat_history', return_messages=True)\n",
        "\n",
        "# レトリーバーは、ぼろきれに使用されるベクターストアを抽象化しています\n",
        "retriever = vectorstore.as_retriever()\n",
        "\n",
        "# それをまとめる：GPT 3.5 LLM、ベクトルストア、メモリで会話チェーンをセットアップします\n",
        "conversation_chain = ConversationalRetrievalChain.from_llm(llm=llm, retriever=retriever, memory=memory)"
      ]
    },
    {
      "cell_type": "code",
      "execution_count": null,
      "id": "968e7bf2-e862-4679-a11f-6c1efb6ec8ca",
      "metadata": {},
      "outputs": [],
      "source": [
        "query = \"Can you describe Insurellm in a few sentences\"\n",
        "result = conversation_chain.invoke({\"question\":query})\n",
        "print(result[\"answer\"])"
      ]
    },
    {
      "cell_type": "code",
      "execution_count": null,
      "id": "987dadc5-5d09-4059-8f2e-733d66ecc696",
      "metadata": {},
      "outputs": [],
      "source": [
        "memory = ConversationBufferMemory(memory_key='chat_history', return_messages=True)\n",
        "conversation_chain = ConversationalRetrievalChain.from_llm(llm=llm, retriever=retriever, memory=memory)"
      ]
    },
    {
      "cell_type": "markdown",
      "id": "bbbcb659-13ce-47ab-8a5e-01b930494964",
      "metadata": {},
      "source": [
        "## チャットインターフェイスを使用して、これをグラデーションで紹介します - \n",
        "\n",
        "LLMとのチャットをプロトタイプする迅速かつ簡単な方法"
      ]
    },
    {
      "cell_type": "code",
      "execution_count": null,
      "id": "c3536590-85c7-4155-bd87-ae78a1467670",
      "metadata": {},
      "outputs": [],
      "source": [
        "# それを関数で包みます\n",
        "\n",
        "def chat(message, history):\n",
        "    result = conversation_chain.invoke({\"question\": message})\n",
        "    return result[\"answer\"]"
      ]
    },
    {
      "cell_type": "code",
      "execution_count": null,
      "id": "b252d8c1-61a8-406d-b57a-8f708a62b014",
      "metadata": {},
      "outputs": [],
      "source": [
        "# そしてグラデーションで：\n",
        "\n",
        "view = gr.ChatInterface(chat, type=\"messages\").launch(inbrowser=True)"
      ]
    },
    {
      "cell_type": "code",
      "execution_count": null,
      "id": "5435b2b9-935c-48cd-aaf3-73a837ecde49",
      "metadata": {},
      "outputs": [],
      "source": []
    }
  ],
  "metadata": {
    "kernelspec": {
      "display_name": "Python 3 (ipykernel)",
      "language": "python",
      "name": "python3"
    },
    "language_info": {
      "codemirror_mode": {
        "name": "ipython",
        "version": 3
      },
      "file_extension": ".py",
      "mimetype": "text/x-python",
      "name": "python",
      "nbconvert_exporter": "python",
      "pygments_lexer": "ipython3",
      "version": "3.11.13"
    }
  },
  "nbformat": 4,
  "nbformat_minor": 5
}