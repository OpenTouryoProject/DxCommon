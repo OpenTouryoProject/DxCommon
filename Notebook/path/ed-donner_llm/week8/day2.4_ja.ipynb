{
 "cells": [
  {
   "cell_type": "markdown",
   "id": "40d49349-faaa-420c-9b65-0bdc9edfabce",
   "metadata": {
    "id": "40d49349-faaa-420c-9b65-0bdc9edfabce"
   },
   "source": [
    "# 価格は適正\n",
    "\n",
    "今日、商品の価格を推定するためのより複雑なソリューションを構築しています。\n",
    "\n",
    "1. Day2.0ノートブック：RAG-DB作成\n",
    "2. Day2.1ノートブック：2Dで視覚化\n",
    "3. Day2.2ノートブック：3Dで視覚化\n",
    "4. Day2.3ノートブック：GPT-4o miniでRAGパイプラインを構築してテスト\n",
    "5. Day2.4ノートブック：(a) ランダムフォレストプライザー (b)アンサンブルプライザーを作成\n",
    "\n",
    "うーん！それは一日で乗り越えるのにたくさんのことです！\n",
    "\n",
    "## ご注意ください：\n",
    "\n",
    "私たちはすでに、独自のファインチューニングされたLLMを使用して非常に強力な製品推定器を持っています。  \n",
    "\n",
    "ほとんどの人はそれに非常に満足するでしょう！これらの追加の手順を追加する主な理由は、RAGとエージェント・ワークフローで専門知識を深めることです。\n",
    "\n",
    "## ランダム・フォレストとアンサンブル学習で仕上"
   ]
  },
  {
   "cell_type": "code",
   "execution_count": 1,
   "id": "fbcdfea8-7241-46d7-a771-c0381a3e7063",
   "metadata": {
    "id": "fbcdfea8-7241-46d7-a771-c0381a3e7063"
   },
   "outputs": [],
   "source": [
    "# import\n",
    "\n",
    "# 基本的な\n",
    "import os\n",
    "import re\n",
    "import math\n",
    "import json\n",
    "import random\n",
    "import pickle\n",
    "import joblib\n",
    "\n",
    "# HF\n",
    "from dotenv import load_dotenv\n",
    "from huggingface_hub import login\n",
    "from datasets import load_dataset\n",
    "\n",
    "# RAG\n",
    "import chromadb\n",
    "from sentence_transformers import SentenceTransformer\n",
    "\n",
    "# LLM\n",
    "from openai import OpenAI\n",
    "\n",
    "# 機械学習\n",
    "import numpy as np\n",
    "import pandas as pd\n",
    "from tqdm import tqdm\n",
    "from sklearn.ensemble import RandomForestRegressor\n",
    "from sklearn.linear_model import LinearRegression\n",
    "from sklearn.metrics import mean_squared_error, r2_score\n",
    "\n",
    "# *.py からの import\n",
    "from items import Item\n",
    "from testing import Tester"
   ]
  },
  {
   "cell_type": "code",
   "execution_count": 2,
   "id": "98666e73-938e-469d-8987-e6e55ba5e034",
   "metadata": {
    "id": "98666e73-938e-469d-8987-e6e55ba5e034"
   },
   "outputs": [],
   "source": [
    "# .envファイルから環境変数をロード\n",
    "\n",
    "load_dotenv(override=True)\n",
    "os.environ['OPENAI_API_KEY'] = os.getenv('OPENAI_API_KEY', 'your-key-if-not-using-env')\n",
    "os.environ['HF_TOKEN'] = os.getenv('HF_TOKEN', 'your-key-if-not-using-env')"
   ]
  },
  {
   "cell_type": "code",
   "execution_count": 3,
   "id": "1006966f-96b7-4e1a-93f0-2bb9a09057c8",
   "metadata": {
    "id": "1006966f-96b7-4e1a-93f0-2bb9a09057c8"
   },
   "outputs": [
    {
     "name": "stderr",
     "output_type": "stream",
     "text": [
      "Token has not been saved to git credential helper.\n",
      "Note: Environment variable`HF_TOKEN` is set and is the current active token independently from the token you've just configured.\n"
     ]
    },
    {
     "name": "stdout",
     "output_type": "stream",
     "text": [
      "\u001b[1m\u001b[31mCannot authenticate through git-credential as no helper is defined on your machine.\n",
      "You might have to re-authenticate when pushing to the Hugging Face Hub.\n",
      "Run the following command in your terminal in case you want to set the 'store' credential helper as default.\n",
      "\n",
      "git config --global credential.helper store\n",
      "\n",
      "Read https://git-scm.com/book/en/v2/Git-Tools-Credential-Storage for more details.\u001b[0m\n"
     ]
    }
   ],
   "source": [
    "# Hugging Faceにログイン\n",
    "\n",
    "hf_token = os.environ['HF_TOKEN']\n",
    "login(hf_token, add_to_git_credential=True)"
   ]
  },
  {
   "cell_type": "code",
   "execution_count": 4,
   "id": "d26a1104-cd11-4361-ab25-85fb576e0582",
   "metadata": {
    "id": "d26a1104-cd11-4361-ab25-85fb576e0582"
   },
   "outputs": [],
   "source": [
    "# VDBのコレクション\n",
    "DB = \"products_vectorstore\"\n",
    "client = chromadb.PersistentClient(path=DB)\n",
    "collection = client.get_or_create_collection('products')"
   ]
  },
  {
   "cell_type": "markdown",
   "id": "55e5b0eb-76dd-42f3-a2b6-ba5d4ae711cd",
   "metadata": {
    "id": "55e5b0eb-76dd-42f3-a2b6-ba5d4ae711cd"
   },
   "source": [
    "以下のコードは性能的に厳しいので改修\n",
    "```python\n",
    "# 埋込ベクトル / メタデータ → 価格\n",
    "result = collection.get(include=['embeddings', 'documents', 'metadatas'])\n",
    "vectors = np.array(result['embeddings'])\n",
    "#documents = result['documents'] # 不要\n",
    "prices = [metadata['price'] for metadata in result['metadatas']]\n",
    "```"
   ]
  },
  {
   "cell_type": "code",
   "execution_count": null,
   "id": "b9c1b3c1-dcf8-43d2-955c-4595be8fadac",
   "metadata": {
    "id": "b9c1b3c1-dcf8-43d2-955c-4595be8fadac"
   },
   "outputs": [],
   "source": [
    "# 以下のようにバッチ分割し、処理時間は15分程度\n",
    "\n",
    "offset = 0\n",
    "batch_size = 10000\n",
    "\n",
    "batch_index = 0\n",
    "temp_dir = \"temp_batches\"\n",
    "\n",
    "# 一時ディレクトリ作成\n",
    "os.makedirs(temp_dir, exist_ok=True)\n",
    "\n",
    "# まず総件数を取得（全件は取らない）\n",
    "total_count = collection.count()\n",
    "\n",
    "# -----------------------------\n",
    "# バッチ単位に処理してファイル出力\n",
    "# -----------------------------\n",
    "with tqdm(total=total_count, desc=\"Loading vectors\") as pbar:\n",
    "    while True:\n",
    "        result = collection.get(\n",
    "            include=['embeddings', 'metadatas'],\n",
    "            limit=batch_size,\n",
    "            offset=offset\n",
    "        )\n",
    "\n",
    "        # データが無ければ終了 # 要素数で終了判定\n",
    "        if len(result['embeddings']) == 0:\n",
    "            break\n",
    "\n",
    "        vectors = np.array(result['embeddings'])\n",
    "        prices = [metadata['price'] for metadata in result['metadatas']]\n",
    "\n",
    "        # バッチごとにファイル保存\n",
    "        np.save(os.path.join(temp_dir, f\"vectors_{batch_index}.npy\"), vectors)\n",
    "        np.savetxt(os.path.join(temp_dir, f\"prices_{batch_index}.txt\"), prices, fmt='%s')\n",
    "\n",
    "        # インクリメント\n",
    "        batch_index += 1\n",
    "        offset += batch_size\n",
    "        # 進捗の更新\n",
    "        pbar.update(len(vectors))"
   ]
  },
  {
   "cell_type": "markdown",
   "id": "2ec89341-01d5-4a5b-a534-25406c618999",
   "metadata": {
    "id": "2ec89341-01d5-4a5b-a534-25406c618999"
   },
   "source": [
    "### 必要に応じて Google Colab で実行\n",
    "（40万件を学習する）リソース消費が大きいため、データ準備含めローカルでカーネル・リスタートが発生する。必要に応じて、以下、学習まで Google Colab で実行する。"
   ]
  },
  {
   "cell_type": "code",
   "execution_count": null,
   "id": "uNGulf8Ei-j7",
   "metadata": {
    "executionInfo": {
     "elapsed": 2171,
     "status": "ok",
     "timestamp": 1755144434107,
     "user": {
      "displayName": "nishi74322014",
      "userId": "01757379033152841336"
     },
     "user_tz": -540
    },
    "id": "uNGulf8Ei-j7"
   },
   "outputs": [],
   "source": [
    "# import # 再実行はエラーになりそうなので最小限で\n",
    "\n",
    "# 基本的な\n",
    "import os\n",
    "import random\n",
    "import joblib\n",
    "\n",
    "# 機械学習\n",
    "import numpy as np\n",
    "from sklearn.ensemble import RandomForestRegressor"
   ]
  },
  {
   "cell_type": "code",
   "execution_count": null,
   "id": "29TiGm521q84",
   "metadata": {
    "colab": {
     "base_uri": "https://localhost:8080/"
    },
    "executionInfo": {
     "elapsed": 27,
     "status": "ok",
     "timestamp": 1755144434128,
     "user": {
      "displayName": "nishi74322014",
      "userId": "01757379033152841336"
     },
     "user_tz": -540
    },
    "id": "29TiGm521q84",
    "outputId": "5b0d7e9a-0e42-4851-f082-7ab134d53b0f"
   },
   "outputs": [],
   "source": [
    "# Colab Runtime環境で利用可能なCPUコアとRAMを確認してプリント\n",
    "# これはデータ処理に使用されるリソースを理解するのに役立つ\n",
    "import psutil\n",
    "print(f\"CPU cores: {psutil.cpu_count()}\")\n",
    "print(f\"Available RAM: {psutil.virtual_memory().available / (1024**3):.1f} GB\")"
   ]
  },
  {
   "cell_type": "code",
   "execution_count": null,
   "id": "ef874242-3164-4430-99eb-0335bc28c9b0",
   "metadata": {
    "colab": {
     "base_uri": "https://localhost:8080/"
    },
    "executionInfo": {
     "elapsed": 20895,
     "status": "ok",
     "timestamp": 1755144456513,
     "user": {
      "displayName": "nishi74322014",
      "userId": "01757379033152841336"
     },
     "user_tz": -540
    },
    "id": "ef874242-3164-4430-99eb-0335bc28c9b0",
    "outputId": "4c5f76e7-0f56-4959-d6a3-06ec4716d51c"
   },
   "outputs": [],
   "source": [
    "# Googleドライブをマウントして、ドライブ内のファイルにアクセス\n",
    "from google.colab import drive\n",
    "drive.mount('/content/drive')"
   ]
  },
  {
   "cell_type": "code",
   "execution_count": null,
   "id": "c3f6914e-5acd-4a93-87e3-f9b692442363",
   "metadata": {
    "executionInfo": {
     "elapsed": 92962,
     "status": "ok",
     "timestamp": 1755144550513,
     "user": {
      "displayName": "nishi74322014",
      "userId": "01757379033152841336"
     },
     "user_tz": -540
    },
    "id": "c3f6914e-5acd-4a93-87e3-f9b692442363"
   },
   "outputs": [],
   "source": [
    "# 必要に応じ設定し直す（再起動時、Google Colab で実行時\n",
    "batch_index = 39\n",
    "temp_dir = \"/content/drive/My Drive/\" + \"temp_batches\"\n",
    "\n",
    "# -----------------------------\n",
    "# 最後にバッチ分割ファイルを統合\n",
    "# -----------------------------\n",
    "all_vectors_list = [] # list型\n",
    "for i in range(batch_index):\n",
    "    batch_vectors = np.load(os.path.join(temp_dir, f\"vectors_{i}.npy\"))\n",
    "    all_vectors_list.append(batch_vectors) # バッチ毎のベクトル配列を一時保存\n",
    "\n",
    "all_prices_list = [] # list型\n",
    "for i in range(batch_index):\n",
    "    batch_prices = np.loadtxt(os.path.join(temp_dir, f\"prices_{i}.txt\"), dtype=str)\n",
    "    all_prices_list.extend(batch_prices) # バッチ毎のリストを単純に追加\n",
    "\n",
    "# バッチ事のベクトル配列を np.vstack で縦結合\n",
    "all_vectors = np.vstack(all_vectors_list) # numpy.ndarray型"
   ]
  },
  {
   "cell_type": "markdown",
   "id": "bf6492cb-b11a-4ad5-859b-a71a78ffb949",
   "metadata": {
    "id": "bf6492cb-b11a-4ad5-859b-a71a78ffb949"
   },
   "source": [
    "# ランダム・フォレスト\n",
    "\n",
    "これで、ランダム・フォレストのモデルを訓練します。\n",
    "\n",
    "第6週との違いを見つけることができますか？ 第6週には、Word2Vecでベクトル化しましたが、今回は、Chromaに格納したSentencetransformerでベクトル化したデータ使用します。"
   ]
  },
  {
   "cell_type": "markdown",
   "id": "6Jcqj9KKuiBA",
   "metadata": {
    "id": "6Jcqj9KKuiBA"
   },
   "source": [
    "M1 Macで1時間と言うが、ローカルや Google Colab で完了しない。\n",
    "```python\n",
    "rf_model = RandomForestRegressor(n_estimators=100, random_state=42, n_jobs=-1)\n",
    "rf_model.fit(all_vectors, all_prices_list) #.fit(vectors, prices)\n",
    "# rf_modelのテストは、agents.random_forest_agentのテストとして行う。\n",
    "# agents.random_forest_agentにファイルI/Fで学習済みモデルを渡す\n",
    "joblib.dump(rf_model, '/content/drive/My Drive/' + 'random_forest_model.pkl')\n",
    "```"
   ]
  },
  {
   "cell_type": "markdown",
   "id": "2_sTqTSf2-PQ",
   "metadata": {
    "id": "2_sTqTSf2-PQ"
   },
   "source": [
    "...ローカルや Google Colab で完了しないのでバッチごと追加学習可能な LightGBM に置き換え"
   ]
  },
  {
   "cell_type": "code",
   "execution_count": null,
   "id": "lBUiVW4jvAYP",
   "metadata": {
    "colab": {
     "base_uri": "https://localhost:8080/"
    },
    "executionInfo": {
     "elapsed": 5646,
     "status": "ok",
     "timestamp": 1755145375467,
     "user": {
      "displayName": "nishi74322014",
      "userId": "01757379033152841336"
     },
     "user_tz": -540
    },
    "id": "lBUiVW4jvAYP",
    "outputId": "4f1bd779-5c85-4e7b-8a56-60ca4bae48c7"
   },
   "outputs": [],
   "source": [
    "!pip install lightgbm==4.6.0"
   ]
  },
  {
   "cell_type": "code",
   "execution_count": null,
   "id": "WrsNq3XkvAmj",
   "metadata": {
    "colab": {
     "base_uri": "https://localhost:8080/"
    },
    "executionInfo": {
     "elapsed": 373868,
     "status": "ok",
     "timestamp": 1755145857819,
     "user": {
      "displayName": "nishi74322014",
      "userId": "01757379033152841336"
     },
     "user_tz": -540
    },
    "id": "WrsNq3XkvAmj",
    "outputId": "ed121c72-eeb3-4f18-f280-f5d55f1ec518"
   },
   "outputs": [],
   "source": [
    "# Google Colab 上で6分ぐらいで完了する\n",
    "import lightgbm as lgb\n",
    "import numpy as np\n",
    "\n",
    "# X, y を batch_size ごとに小分けして返すジェネレータ。\n",
    "def iter_minibatches(X, y, batch_size):\n",
    "    n = len(y)\n",
    "    for i in range(0, n, batch_size):\n",
    "        j = min(i + batch_size, n)\n",
    "\n",
    "        # yield を使い順次処理できる。\n",
    "        yield X[i:j], y[i:j]\n",
    "\n",
    "params = {\n",
    "    \"objective\": \"regression\",     # 回帰問題\n",
    "    \"metric\": \"rmse\",              # 評価指標\n",
    "    \"learning_rate\": 0.05,         # 学習率\n",
    "    \"num_leaves\": 64,              # 木の複雑さ\n",
    "    \"feature_fraction\": 0.8,       # 列方向サンプリング\n",
    "    \"bagging_fraction\": 0.8,       # 行方向サンプリング\n",
    "    \"bagging_freq\": 1,             # バギング実行頻度\n",
    "    \"verbosity\": 1,                # 情報・警告ログを表示（8回繰り返すと終わる\n",
    "}\n",
    "\n",
    "booster = None\n",
    "for Xb, yb in iter_minibatches(\n",
    "    all_vectors.astype(np.float32),\n",
    "    np.asarray(all_prices_list, dtype=np.float32),\n",
    "    batch_size=50000): # 400,000 / 50,000 = 8回繰り返す\n",
    "\n",
    "    train_set = lgb.Dataset(Xb, label=yb, free_raw_data=True)\n",
    "    booster = lgb.train(params, train_set,\n",
    "        num_boost_round=200,          # バッチごとに追加する木の本数\n",
    "        init_model=booster,           # 直前までのモデルを継続\n",
    "        keep_training_booster=True    # 木を追加して継続学習\n",
    "    )"
   ]
  },
  {
   "cell_type": "code",
   "execution_count": null,
   "id": "odt4d1p4vApV",
   "metadata": {
    "colab": {
     "base_uri": "https://localhost:8080/"
    },
    "executionInfo": {
     "elapsed": 11,
     "status": "ok",
     "timestamp": 1755145999936,
     "user": {
      "displayName": "nishi74322014",
      "userId": "01757379033152841336"
     },
     "user_tz": -540
    },
    "id": "odt4d1p4vApV",
    "outputId": "7b2e6294-2c3d-42c8-d9c2-4efac8b3742c"
   },
   "outputs": [],
   "source": [
    "# 予測（自分で書いたので一応テスト）\n",
    "y_pred = booster.predict([all_vectors[0].astype(np.float32)])[0]\n",
    "y_pred"
   ]
  },
  {
   "cell_type": "code",
   "execution_count": null,
   "id": "uwmUunrxwm8q",
   "metadata": {
    "colab": {
     "base_uri": "https://localhost:8080/"
    },
    "executionInfo": {
     "elapsed": 448,
     "status": "ok",
     "timestamp": 1755146674339,
     "user": {
      "displayName": "nishi74322014",
      "userId": "01757379033152841336"
     },
     "user_tz": -540
    },
    "id": "uwmUunrxwm8q",
    "outputId": "c37a507f-4ddc-4d11-ba48-73400b5ed6e1"
   },
   "outputs": [],
   "source": [
    "# agents.lightgbm_agentにファイルI/Fで学習済みモデルを渡す\n",
    "joblib.dump(booster, '/content/drive/My Drive/' + 'lightgbm_model.pkl')"
   ]
  },
  {
   "cell_type": "markdown",
   "id": "dfd5f48d-8814-4c13-bc93-41cc2674d20d",
   "metadata": {
    "id": "dfd5f48d-8814-4c13-bc93-41cc2674d20d"
   },
   "source": [
    "# アンサンブル・モデル\n",
    "\n",
    "3つのモデルの推定結果を使用して線形回帰モデルでアンサンブル学習する的な"
   ]
  },
  {
   "cell_type": "markdown",
   "id": "41e3c7a1-06fe-449a-ba29-cbce09c2717f",
   "metadata": {},
   "source": [
    "## アンサンブル学習の準備"
   ]
  },
  {
   "cell_type": "code",
   "execution_count": 5,
   "id": "5d438dec-8e5b-4e60-bb6f-c3f82e522dd9",
   "metadata": {
    "id": "5d438dec-8e5b-4e60-bb6f-c3f82e522dd9"
   },
   "outputs": [],
   "source": [
    "# `./agents/xxxx_agent.py`\n",
    "# ファインチューニングされたLLMを実行するエージェント（Modal上）\n",
    "from agents.specialist_agent import SpecialistAgent\n",
    "# Frontier LLM ＋ RAG のエージェント\n",
    "from agents.frontier_agent import FrontierAgent\n",
    "# ランダム・フォレスト・モデルのエージェント\n",
    "#from agents.random_forest_agent import RandomForestAgent\n",
    "# LightGBMのエージェント\n",
    "from agents.lightgbm_agent import LightGBMAgent"
   ]
  },
  {
   "cell_type": "code",
   "execution_count": 6,
   "id": "afc39369-b97b-4a90-b17e-b20ef501d3c9",
   "metadata": {
    "id": "afc39369-b97b-4a90-b17e-b20ef501d3c9"
   },
   "outputs": [],
   "source": [
    "# 各エージェントの初期化\n",
    "specialist = SpecialistAgent()\n",
    "frontier = FrontierAgent(collection)\n",
    "#random_forest = RandomForestAgent()\n",
    "lightgbm = LightGBMAgent()"
   ]
  },
  {
   "cell_type": "code",
   "execution_count": 7,
   "id": "8e2d0d0a-8bb8-4b39-b046-322828c39244",
   "metadata": {
    "id": "8e2d0d0a-8bb8-4b39-b046-322828c39244"
   },
   "outputs": [],
   "source": [
    "# プロンプトから「商品の説明文」だけを抽出\n",
    "# ・冒頭の定型文を削除\n",
    "# ・末端の価格行を削除\n",
    "def description(item):\n",
    "    return item.prompt.split(\"to the nearest dollar?\\n\\n\")[1].split(\"\\n\\nPrice is $\")[0]"
   ]
  },
  {
   "cell_type": "code",
   "execution_count": 8,
   "id": "bfe0434f-b29e-4cc0-bad9-b07624665727",
   "metadata": {
    "id": "bfe0434f-b29e-4cc0-bad9-b07624665727"
   },
   "outputs": [],
   "source": [
    "# 埋め込みベクトルからランダム・フォレスト・モデルのエージェントが推定した値を返す\n",
    "#def rf(item):\n",
    "#    return random_forest.price(description(item))\n",
    "\n",
    "# 埋め込みベクトルからLightGBMのエージェントが推定した値を返す\n",
    "def booster(item):\n",
    "    return lightgbm.price(description(item))"
   ]
  },
  {
   "cell_type": "code",
   "execution_count": 9,
   "id": "dc696493-0b6f-48aa-9fa8-b1ae0ecaf3cd",
   "metadata": {
    "id": "dc696493-0b6f-48aa-9fa8-b1ae0ecaf3cd"
   },
   "outputs": [],
   "source": [
    "# test.pklファイルをロード ... 取得手順は、`day2.0_ja.ipynb` を参照の事。\n",
    "\n",
    "with open('test.pkl', 'rb') as file:\n",
    "    test = pickle.load(file)"
   ]
  },
  {
   "cell_type": "code",
   "execution_count": 10,
   "id": "cdf233ec-264f-4b34-9f2b-27c39692137b",
   "metadata": {
    "id": "cdf233ec-264f-4b34-9f2b-27c39692137b"
   },
   "outputs": [
    {
     "name": "stdout",
     "output_type": "stream",
     "text": [
      "\u001b[92m1: Guess: $314.29 Truth: $374.41 Error: $60.12 SLE: 0.03 Item: OEM AC Compressor w/A/C Repair Kit For F...\u001b[0m\n",
      "\u001b[91m2: Guess: $104.15 Truth: $225.11 Error: $120.96 SLE: 0.59 Item: Motorcraft YB3125 Fan Clutch\u001b[0m\n",
      "\u001b[91m3: Guess: $213.22 Truth: $61.68 Error: $151.54 SLE: 1.51 Item: Dorman 603-159 Front Washer Fluid Reserv...\u001b[0m\n",
      "\u001b[93m4: Guess: $371.39 Truth: $599.99 Error: $228.60 SLE: 0.23 Item: HP Premium 17.3-inch HD Plus Touchscreen...\u001b[0m\n",
      "\u001b[91m5: Guess: $131.82 Truth: $16.99 Error: $114.83 SLE: 4.00 Item: 5-Position Super Switch Pickup Selector ...\u001b[0m\n",
      "\u001b[92m6: Guess: $39.98 Truth: $31.99 Error: $7.99 SLE: 0.05 Item: Horror Bookmarks, Resin Horror Bookmarks...\u001b[0m\n",
      "\u001b[91m7: Guess: $302.27 Truth: $101.79 Error: $200.48 SLE: 1.17 Item: SK6241 - Stinger 4 Gauge 6000 Series Pow...\u001b[0m\n",
      "\u001b[92m8: Guess: $243.70 Truth: $289.00 Error: $45.30 SLE: 0.03 Item: Godox ML60Bi LED Light Kit, Handheld LED...\u001b[0m\n",
      "\u001b[93m9: Guess: $442.72 Truth: $635.86 Error: $193.14 SLE: 0.13 Item: Randall RG75DG3PLUS G3 Plus 100-Watt Com...\u001b[0m\n",
      "\u001b[92m10: Guess: $95.88 Truth: $65.99 Error: $29.89 SLE: 0.14 Item: HOLDWILL 6 Pack LED Shop Light, 4FT 24W ...\u001b[0m\n",
      "\u001b[92m11: Guess: $249.51 Truth: $254.21 Error: $4.70 SLE: 0.00 Item: Viking Horns V103C/1005ATK 3 Gallon Air ...\u001b[0m\n",
      "\u001b[92m12: Guess: $393.55 Truth: $412.99 Error: $19.44 SLE: 0.00 Item: CURT 70110 Custom Tow Bar Base Plate Bra...\u001b[0m\n",
      "\u001b[92m13: Guess: $180.60 Truth: $205.50 Error: $24.90 SLE: 0.02 Item: 10-Pack Solar HAMMERED BRONZE Finish Pos...\u001b[0m\n",
      "\u001b[92m14: Guess: $294.44 Truth: $248.23 Error: $46.21 SLE: 0.03 Item: COSTWAY Electric Tumble Dryer, Sliver\u001b[0m\n",
      "\u001b[93m15: Guess: $292.52 Truth: $399.00 Error: $106.48 SLE: 0.10 Item: FREE SIGNAL TV Transit 32\" 12 Volt DC Po...\u001b[0m\n",
      "\u001b[92m16: Guess: $315.59 Truth: $373.94 Error: $58.35 SLE: 0.03 Item: Bilstein 5100 Monotube Gas Shock Set com...\u001b[0m\n",
      "\u001b[91m17: Guess: $283.69 Truth: $92.89 Error: $190.80 SLE: 1.23 Item: Sangean K-200 Multi-Function Upright AM/...\u001b[0m\n",
      "\u001b[93m18: Guess: $126.02 Truth: $51.99 Error: $74.03 SLE: 0.76 Item: Charles Leonard Magnetic Lapboard Class ...\u001b[0m\n",
      "\u001b[91m19: Guess: $259.15 Truth: $179.00 Error: $80.15 SLE: 0.14 Item: Gigabyte AMD Radeon HD 7870 2 GB GDDR5 D...\u001b[0m\n",
      "\u001b[92m20: Guess: $0.00 Truth: $19.42 Error: $19.42 SLE: 9.10 Item: 3dRose LLC 8 x 8 x 0.25 Inches Bull Terr...\u001b[0m\n",
      "\u001b[93m21: Guess: $362.99 Truth: $539.95 Error: $176.96 SLE: 0.16 Item: ROKINON 85mm F1.4 Auto Focus Full Frame ...\u001b[0m\n",
      "\u001b[91m22: Guess: $245.19 Truth: $147.67 Error: $97.52 SLE: 0.25 Item: AUTOSAVER88 Headlight Assembly Compatibl...\u001b[0m\n",
      "\u001b[91m23: Guess: $183.63 Truth: $24.99 Error: $158.64 SLE: 3.84 Item: ASI NAUTICAL 2.5 Inches Opera Glasses Bi...\u001b[0m\n",
      "\u001b[91m24: Guess: $231.09 Truth: $149.00 Error: $82.09 SLE: 0.19 Item: Behringer TUBE OVERDRIVE TO100 Authentic...\u001b[0m\n",
      "\u001b[92m25: Guess: $30.47 Truth: $16.99 Error: $13.48 SLE: 0.31 Item: Fun Express Insect Finger Puppets - 24 f...\u001b[0m\n",
      "\u001b[91m26: Guess: $90.94 Truth: $7.99 Error: $82.95 SLE: 5.41 Item: WAFJAMF Roller Stamp Identity Theft Stam...\u001b[0m\n",
      "\u001b[92m27: Guess: $189.20 Truth: $199.99 Error: $10.79 SLE: 0.00 Item: Capulina Tiffany Floor Lamp 2-Light 16\" ...\u001b[0m\n",
      "\u001b[92m28: Guess: $252.92 Truth: $251.45 Error: $1.47 SLE: 0.00 Item: Apple Watch Series 6 (GPS, 44mm) - Space...\u001b[0m\n",
      "\u001b[93m29: Guess: $139.18 Truth: $231.62 Error: $92.44 SLE: 0.26 Item: ICON 01725 Tandem Axle Fender Skirt FS17...\u001b[0m\n",
      "\u001b[92m30: Guess: $174.37 Truth: $135.00 Error: $39.37 SLE: 0.06 Item: SanDisk 128GB Ultra (10 Pack) MicroSD Cl...\u001b[0m\n",
      "\u001b[93m31: Guess: $223.54 Truth: $356.62 Error: $133.08 SLE: 0.22 Item: Velvac 2020,L,C/Hr,W,E2003,102\",Bk - 715...\u001b[0m\n",
      "\u001b[92m32: Guess: $269.43 Truth: $257.99 Error: $11.44 SLE: 0.00 Item: TCMT Passenger Backrest Sissy Bar & Lugg...\u001b[0m\n",
      "\u001b[91m33: Guess: $245.21 Truth: $27.99 Error: $217.22 SLE: 4.58 Item: Alnicov 63.5MM Brass Tremolo Block，Tremo...\u001b[0m\n",
      "\u001b[93m34: Guess: $217.16 Truth: $171.20 Error: $45.96 SLE: 0.06 Item: Subaru Forester Outback Legacy OEM Engin...\u001b[0m\n",
      "\u001b[92m35: Guess: $266.91 Truth: $225.00 Error: $41.91 SLE: 0.03 Item: Richmond Auto Upholstery - 2012 Dodge Ra...\u001b[0m\n",
      "\u001b[93m36: Guess: $180.27 Truth: $105.00 Error: $75.27 SLE: 0.29 Item: AP-39 Automotive Paint Primer Grey 2K Ur...\u001b[0m\n",
      "\u001b[92m37: Guess: $306.51 Truth: $299.99 Error: $6.52 SLE: 0.00 Item: Road Top Wireless Carplay Retrofit Kit D...\u001b[0m\n",
      "\u001b[92m38: Guess: $587.09 Truth: $535.09 Error: $52.00 SLE: 0.01 Item: Gibson Performance Exhaust 5658 Aluminiz...\u001b[0m\n",
      "\u001b[93m39: Guess: $75.57 Truth: $12.33 Error: $63.24 SLE: 3.06 Item: Bella Tunno Happy Links - Baby Montessor...\u001b[0m\n",
      "\u001b[92m40: Guess: $92.36 Truth: $84.99 Error: $7.37 SLE: 0.01 Item: CANMORE H300 Handheld GPS Golf Device, S...\u001b[0m\n",
      "\u001b[91m41: Guess: $100.74 Truth: $15.99 Error: $84.75 SLE: 3.20 Item: DCPOWER AC Adapter Compatible Replacemen...\u001b[0m\n",
      "\u001b[93m42: Guess: $121.97 Truth: $62.44 Error: $59.53 SLE: 0.44 Item: Sharp, VX2128V, Commercial Desktop Calcu...\u001b[0m\n",
      "\u001b[93m43: Guess: $18.92 Truth: $82.99 Error: $64.07 SLE: 2.07 Item: Melissa & Doug Lifelike Plush Stork Gian...\u001b[0m\n",
      "\u001b[92m44: Guess: $579.46 Truth: $599.95 Error: $20.49 SLE: 0.00 Item: Sony SSCS8 2-Way 3-Driver Center Channel...\u001b[0m\n",
      "\u001b[93m45: Guess: $274.10 Truth: $194.99 Error: $79.11 SLE: 0.11 Item: ASUS Chromebook CX1, 14\" Full HD NanoEdg...\u001b[0m\n",
      "\u001b[93m46: Guess: $268.38 Truth: $344.95 Error: $76.57 SLE: 0.06 Item: FiiO X7 32GB Hi-Res Lossless Music Playe...\u001b[0m\n",
      "\u001b[92m47: Guess: $11.84 Truth: $37.99 Error: $26.15 SLE: 1.23 Item: TORRO Leather Case Compatible with iPhon...\u001b[0m\n",
      "\u001b[92m48: Guess: $234.47 Truth: $224.35 Error: $10.12 SLE: 0.00 Item: Universal Air Conditioner KT 1031 A/C Co...\u001b[0m\n",
      "\u001b[92m49: Guess: $843.80 Truth: $814.00 Error: $29.80 SLE: 0.00 Item: Street Series Stainless Performance Cat-...\u001b[0m\n",
      "\u001b[91m50: Guess: $621.02 Truth: $439.88 Error: $181.14 SLE: 0.12 Item: Lenovo IdeaPad 3 14-inch Laptop, 14.0-in...\u001b[0m\n",
      "\u001b[93m51: Guess: $248.52 Truth: $341.43 Error: $92.91 SLE: 0.10 Item: Access Bed Covers TonnoSport 22050219 - ...\u001b[0m\n",
      "\u001b[92m52: Guess: $51.82 Truth: $46.78 Error: $5.04 SLE: 0.01 Item: G.I. JOE Hasbro 3 3/4\" Wave 5 Action Fig...\u001b[0m\n",
      "\u001b[93m53: Guess: $249.27 Truth: $171.44 Error: $77.83 SLE: 0.14 Item: T&S Brass B-0232-BST Double Pantry Fauce...\u001b[0m\n",
      "\u001b[91m54: Guess: $229.82 Truth: $458.00 Error: $228.18 SLE: 0.47 Item: ZTUOAUMA Fuel Injection Pump 3090942 309...\u001b[0m\n",
      "\u001b[91m55: Guess: $265.74 Truth: $130.75 Error: $134.99 SLE: 0.50 Item: 2AP18AA#ABA Hp Prime Graphing Calculator...\u001b[0m\n",
      "\u001b[91m56: Guess: $201.42 Truth: $83.81 Error: $117.61 SLE: 0.76 Item: Lowrance 000-0119-83 Nmea 2000 25' Exten...\u001b[0m\n",
      "\u001b[91m57: Guess: $134.75 Truth: $386.39 Error: $251.64 SLE: 1.10 Item: Jeep Genuine Accessories 82213051 Hood L...\u001b[0m\n",
      "\u001b[93m58: Guess: $248.62 Truth: $169.00 Error: $79.62 SLE: 0.15 Item: GODOX CB-06 Hard Carrying Case with Whee...\u001b[0m\n",
      "\u001b[93m59: Guess: $68.06 Truth: $17.95 Error: $50.11 SLE: 1.67 Item: Au-Tomotive Gold, INC. Ford Black Valet ...\u001b[0m\n",
      "\u001b[92m60: Guess: $268.94 Truth: $269.00 Error: $0.06 SLE: 0.00 Item: Snailfly Black Roof Rack Rail + Cross Ba...\u001b[0m\n",
      "\u001b[91m61: Guess: $246.72 Truth: $77.77 Error: $168.95 SLE: 1.31 Item: KING SHA Anti Glare LED Track Lighting H...\u001b[0m\n",
      "\u001b[93m62: Guess: $141.92 Truth: $88.99 Error: $52.93 SLE: 0.21 Item: APS Compatible with Chevy Silverado 1500...\u001b[0m\n",
      "\u001b[92m63: Guess: $292.78 Truth: $364.41 Error: $71.63 SLE: 0.05 Item: Wilwood Engineering 14011291R Brake Cali...\u001b[0m\n",
      "\u001b[92m64: Guess: $115.39 Truth: $127.03 Error: $11.64 SLE: 0.01 Item: ACDelco Gold 336-1925A Starter, Remanufa...\u001b[0m\n",
      "\u001b[92m65: Guess: $647.49 Truth: $778.95 Error: $131.46 SLE: 0.03 Item: UWS EC10783 69-Inch Matte Black Heavy-Wa...\u001b[0m\n",
      "\u001b[93m66: Guess: $271.29 Truth: $206.66 Error: $64.63 SLE: 0.07 Item: Dell Latitude E5440 14in Business Laptop...\u001b[0m\n",
      "\u001b[91m67: Guess: $199.59 Truth: $35.94 Error: $163.65 SLE: 2.86 Item: (Plug and Play) Spare Tire Brake Light W...\u001b[0m\n",
      "\u001b[91m68: Guess: $342.74 Truth: $149.00 Error: $193.74 SLE: 0.69 Item: The Ultimate Roadside Rescue Assistant\u001b[0m\n",
      "\u001b[93m69: Guess: $180.09 Truth: $251.98 Error: $71.89 SLE: 0.11 Item: Brand New 18\" x 8.5\" Replacement Wheel f...\u001b[0m\n",
      "\u001b[91m70: Guess: $243.59 Truth: $160.00 Error: $83.59 SLE: 0.17 Item: Headlight Headlamp LH Left & RH Right Pa...\u001b[0m\n",
      "\u001b[91m71: Guess: $124.72 Truth: $39.99 Error: $84.73 SLE: 1.26 Item: Lilo And Stitch Deluxe Oversize Print La...\u001b[0m\n",
      "\u001b[93m72: Guess: $236.00 Truth: $362.41 Error: $126.41 SLE: 0.18 Item: AC Compressor & A/C Clutch For Hyundai A...\u001b[0m\n",
      "\u001b[93m73: Guess: $238.60 Truth: $344.00 Error: $105.40 SLE: 0.13 Item: House Of Troy PIN475-AB Pinnacle Collect...\u001b[0m\n",
      "\u001b[91m74: Guess: $284.50 Truth: $25.09 Error: $259.41 SLE: 5.72 Item: Juno T29 WH Floating Electrical Feed Sin...\u001b[0m\n",
      "\u001b[93m75: Guess: $132.43 Truth: $175.95 Error: $43.52 SLE: 0.08 Item: Sherman GO-PARTS - for 2013-2016 Toyota ...\u001b[0m\n",
      "\u001b[91m76: Guess: $258.50 Truth: $132.64 Error: $125.86 SLE: 0.44 Item: Roland RPU-3 Electronic Keyboard Pedal o...\u001b[0m\n",
      "\u001b[93m77: Guess: $291.77 Truth: $422.99 Error: $131.22 SLE: 0.14 Item: Rockland VMI14 12,000 Pound 12 Volt DC E...\u001b[0m\n",
      "\u001b[92m78: Guess: $177.45 Truth: $146.48 Error: $30.97 SLE: 0.04 Item: Max Advanced Brakes Elite XDS Front Cros...\u001b[0m\n",
      "\u001b[92m79: Guess: $190.58 Truth: $156.83 Error: $33.75 SLE: 0.04 Item: Quality-Built 11030 Premium Quality Alte...\u001b[0m\n",
      "\u001b[92m80: Guess: $288.43 Truth: $251.99 Error: $36.44 SLE: 0.02 Item: Lucida LG-510 Student Classical Guitar, ...\u001b[0m\n",
      "\u001b[91m81: Guess: $167.13 Truth: $940.33 Error: $773.20 SLE: 2.97 Item: Longacre 52-79800 Aluminum Turn Plates\u001b[0m\n",
      "\u001b[92m82: Guess: $69.24 Truth: $52.99 Error: $16.25 SLE: 0.07 Item: Motion Pro 08-0380 Adjustable Torque Wre...\u001b[0m\n",
      "\u001b[91m83: Guess: $87.01 Truth: $219.95 Error: $132.94 SLE: 0.85 Item: Glyph Thunderbolt 3 NVMe Dock (0 GB)\u001b[0m\n",
      "\u001b[93m84: Guess: $314.75 Truth: $441.03 Error: $126.28 SLE: 0.11 Item: TOYO Open Country MT Performance Radial ...\u001b[0m\n",
      "\u001b[91m85: Guess: $292.46 Truth: $168.98 Error: $123.48 SLE: 0.30 Item: Razer Seiren X USB Streaming Microphone ...\u001b[0m\n",
      "\u001b[92m86: Guess: $0.00 Truth: $2.49 Error: $2.49 SLE: 1.56 Item: Happy Birthday to Dad From Your Daughter...\u001b[0m\n",
      "\u001b[92m87: Guess: $72.16 Truth: $98.62 Error: $26.46 SLE: 0.10 Item: Little Tikes My Real Jam First Concert S...\u001b[0m\n",
      "\u001b[92m88: Guess: $282.33 Truth: $256.95 Error: $25.38 SLE: 0.01 Item: Studio M Peace and Harmony Art Pole Comm...\u001b[0m\n",
      "\u001b[91m89: Guess: $136.84 Truth: $30.99 Error: $105.85 SLE: 2.13 Item: MyVolts 12V Power Supply Adaptor Compati...\u001b[0m\n",
      "\u001b[92m90: Guess: $514.58 Truth: $569.84 Error: $55.26 SLE: 0.01 Item: Dell Latitude 7212 Rugged Extreme Tablet...\u001b[0m\n",
      "\u001b[92m91: Guess: $197.16 Truth: $177.99 Error: $19.17 SLE: 0.01 Item: Covermates Contour Fit Car Cover - Light...\u001b[0m\n",
      "\u001b[92m92: Guess: $840.81 Truth: $997.99 Error: $157.18 SLE: 0.03 Item: Westin 57-4025 Black HDX Grille Guard fi...\u001b[0m\n",
      "\u001b[91m93: Guess: $99.29 Truth: $219.00 Error: $119.71 SLE: 0.62 Item: Fieldpiece JL2 Job Link Wireless App Tra...\u001b[0m\n",
      "\u001b[92m94: Guess: $193.41 Truth: $225.55 Error: $32.14 SLE: 0.02 Item: hansgrohe Talis S Modern Premium Easy Cl...\u001b[0m\n",
      "\u001b[92m95: Guess: $455.08 Truth: $495.95 Error: $40.87 SLE: 0.01 Item: G-Technology G-SPEED eS PRO High-Perform...\u001b[0m\n",
      "\u001b[92m96: Guess: $928.65 Truth: $942.37 Error: $13.72 SLE: 0.00 Item: DreamLine SHDR-1960723L-01 Shower Door, ...\u001b[0m\n",
      "\u001b[91m97: Guess: $255.54 Truth: $1.94 Error: $253.60 SLE: 19.97 Item: Sanctuary Square Backplate Finish: Oiled...\u001b[0m\n",
      "\u001b[92m98: Guess: $329.74 Truth: $284.34 Error: $45.40 SLE: 0.02 Item: Pelican Protector 1750 Long Case - Multi...\u001b[0m\n",
      "\u001b[92m99: Guess: $163.85 Truth: $171.90 Error: $8.05 SLE: 0.00 Item: Brock Replacement Driver and Passenger H...\u001b[0m\n",
      "\u001b[93m100: Guess: $213.70 Truth: $144.99 Error: $68.71 SLE: 0.15 Item: Carlinkit Ai Box Mini, Android 11, Multi...\u001b[0m\n",
      "\u001b[93m101: Guess: $286.77 Truth: $470.47 Error: $183.70 SLE: 0.24 Item: StarDot NetCamLIVE2 YouTube Live Stream ...\u001b[0m\n",
      "\u001b[91m102: Guess: $161.00 Truth: $66.95 Error: $94.05 SLE: 0.75 Item: Atomic Compatible FILXXCAR0016 16x25x5 M...\u001b[0m\n",
      "\u001b[92m103: Guess: $109.54 Truth: $117.00 Error: $7.46 SLE: 0.00 Item: Bandai Awakening of S. H. s.h.figuarts s...\u001b[0m\n",
      "\u001b[91m104: Guess: $291.41 Truth: $172.14 Error: $119.27 SLE: 0.27 Item: Fit System 62135G Passenger Side Towing ...\u001b[0m\n",
      "\u001b[93m105: Guess: $296.03 Truth: $392.74 Error: $96.71 SLE: 0.08 Item: Black Horse Black Aluminum Exceed Runnin...\u001b[0m\n",
      "\u001b[92m106: Guess: $27.91 Truth: $16.99 Error: $10.92 SLE: 0.23 Item: Dearsun Twinkle Star Color Night Light P...\u001b[0m\n",
      "\u001b[92m107: Guess: $1.17 Truth: $1.34 Error: $0.17 SLE: 0.01 Item: Pokemon - Gallade Spirit Link (83/108) -...\u001b[0m\n",
      "\u001b[93m108: Guess: $247.15 Truth: $349.98 Error: $102.83 SLE: 0.12 Item: Ibanez GA34STCE-NT GIO Series Classical ...\u001b[0m\n",
      "\u001b[93m109: Guess: $260.25 Truth: $370.71 Error: $110.46 SLE: 0.12 Item: Set 2 Heavy Duty 12-16.5 12x16.5 12 Ply ...\u001b[0m\n",
      "\u001b[93m110: Guess: $144.60 Truth: $65.88 Error: $78.72 SLE: 0.61 Item: Hairpin Table Legs 28\" Heavy Duty Hairpi...\u001b[0m\n",
      "\u001b[91m111: Guess: $328.32 Truth: $229.99 Error: $98.33 SLE: 0.13 Item: Marada Racing Seat with Adjustable Slide...\u001b[0m\n",
      "\u001b[91m112: Guess: $168.92 Truth: $9.14 Error: $159.78 SLE: 7.95 Item: Remington Industries 24UL1007STRWHI25 24...\u001b[0m\n",
      "\u001b[91m113: Guess: $464.74 Truth: $199.00 Error: $265.74 SLE: 0.71 Item: Acer S3-391-6046 13.3-inch Ultrabook, In...\u001b[0m\n",
      "\u001b[93m114: Guess: $159.74 Truth: $109.99 Error: $49.75 SLE: 0.14 Item: ICBEAMER 7\" RGB LED Headlights Bulb Halo...\u001b[0m\n",
      "\u001b[92m115: Guess: $484.55 Truth: $570.42 Error: $85.87 SLE: 0.03 Item: R1 Concepts Front Rear Brakes and Rotors...\u001b[0m\n",
      "\u001b[92m116: Guess: $253.05 Truth: $279.99 Error: $26.94 SLE: 0.01 Item: Camplux 2.64 GPM Tankless , Outdoor Port...\u001b[0m\n",
      "\u001b[92m117: Guess: $0.00 Truth: $30.99 Error: $30.99 SLE: 12.01 Item: KNOKLOCK 10 Pack 3.75 Inch(96mm) Kitchen...\u001b[0m\n",
      "\u001b[91m118: Guess: $206.07 Truth: $31.99 Error: $174.08 SLE: 3.37 Item: Valley Enterprises Yaesu USB FTDI CT-62 ...\u001b[0m\n",
      "\u001b[91m119: Guess: $141.19 Truth: $15.90 Error: $125.29 SLE: 4.54 Item: G9 LED Light Bulbs，8W，75W 100W replaceme...\u001b[0m\n",
      "\u001b[93m120: Guess: $125.72 Truth: $45.99 Error: $79.73 SLE: 0.98 Item: ZCHAOZ 4 Lights Antique White Farmhouse ...\u001b[0m\n",
      "\u001b[91m121: Guess: $217.18 Truth: $113.52 Error: $103.66 SLE: 0.42 Item: Honeywell TH8320R1003 Honeywell VisionPr...\u001b[0m\n",
      "\u001b[91m122: Guess: $291.85 Truth: $516.99 Error: $225.14 SLE: 0.33 Item: Patriot Exhaust H8013-1 1-7/8\" Clippster...\u001b[0m\n",
      "\u001b[92m123: Guess: $209.65 Truth: $196.99 Error: $12.66 SLE: 0.00 Item: Fitrite Autopart New Front Left Driver S...\u001b[0m\n",
      "\u001b[92m124: Guess: $67.51 Truth: $46.55 Error: $20.96 SLE: 0.13 Item: Technical Precision Replacement for GE G...\u001b[0m\n",
      "\u001b[93m125: Guess: $275.63 Truth: $356.99 Error: $81.36 SLE: 0.07 Item: Covercraft Carhartt SeatSaver Front Row ...\u001b[0m\n",
      "\u001b[93m126: Guess: $221.86 Truth: $319.95 Error: $98.09 SLE: 0.13 Item: Sennheiser SD Pro 2 (506008) - Double-Si...\u001b[0m\n",
      "\u001b[91m127: Guess: $222.33 Truth: $96.06 Error: $126.27 SLE: 0.69 Item: Hitachi MAF0110 Mass Air Flow Sensor\u001b[0m\n",
      "\u001b[91m128: Guess: $324.23 Truth: $190.99 Error: $133.24 SLE: 0.28 Item: AmScope SE305R-P-LED-PS36A 10X-30X LED C...\u001b[0m\n",
      "\u001b[91m129: Guess: $151.83 Truth: $257.95 Error: $106.12 SLE: 0.28 Item: Front Left Driver Side Window Regulator ...\u001b[0m\n",
      "\u001b[91m130: Guess: $191.78 Truth: $62.95 Error: $128.83 SLE: 1.22 Item: Premium Replica Hubcap Set, Fits Nissan ...\u001b[0m\n",
      "\u001b[92m131: Guess: $46.83 Truth: $47.66 Error: $0.83 SLE: 0.00 Item: Excellerations Phonics Spelling Game for...\u001b[0m\n",
      "\u001b[93m132: Guess: $301.31 Truth: $226.99 Error: $74.32 SLE: 0.08 Item: RC4WD BigDog Dual Axle Scale Car/Truck T...\u001b[0m\n",
      "\u001b[93m133: Guess: $440.65 Truth: $359.95 Error: $80.70 SLE: 0.04 Item: Unknown Stage 2 Clutch Kit - Low Altitud...\u001b[0m\n",
      "\u001b[91m134: Guess: $170.43 Truth: $78.40 Error: $92.03 SLE: 0.59 Item: 2002-2008 Dodge Ram 1500 Mopar 4X4 Emble...\u001b[0m\n",
      "\u001b[93m135: Guess: $221.36 Truth: $172.77 Error: $48.59 SLE: 0.06 Item: Pro Comp Alloys Series 89 Wheel with Pol...\u001b[0m\n",
      "\u001b[91m136: Guess: $182.03 Truth: $316.45 Error: $134.42 SLE: 0.30 Item: Detroit Axle - Front Rear Strut & Coil S...\u001b[0m\n",
      "\u001b[92m137: Guess: $86.99 Truth: $87.99 Error: $1.00 SLE: 0.00 Item: ECCPP Rear Wheel Axle Replacement fit fo...\u001b[0m\n",
      "\u001b[91m138: Guess: $132.37 Truth: $226.63 Error: $94.26 SLE: 0.29 Item: Dell Latitude E6520 Intel i7-2720QM 2.20...\u001b[0m\n",
      "\u001b[91m139: Guess: $134.87 Truth: $31.49 Error: $103.38 SLE: 2.05 Item: F FIERCE CYCLE 251pcs Black Universal Mo...\u001b[0m\n",
      "\u001b[92m140: Guess: $199.06 Truth: $196.00 Error: $3.06 SLE: 0.00 Item: Flash Furniture 4 Pk. HERCULES Series 88...\u001b[0m\n",
      "\u001b[91m141: Guess: $223.24 Truth: $78.40 Error: $144.84 SLE: 1.08 Item: B&M 30287 Throttle Valve/Kickdown Cable,...\u001b[0m\n",
      "\u001b[93m142: Guess: $170.87 Truth: $116.25 Error: $54.62 SLE: 0.15 Item: Gates TCK226 PowerGrip Premium Timing Be...\u001b[0m\n",
      "\u001b[92m143: Guess: $140.05 Truth: $112.78 Error: $27.27 SLE: 0.05 Item: Monroe Shocks & Struts Quick-Strut 17149...\u001b[0m\n",
      "\u001b[91m144: Guess: $193.12 Truth: $27.32 Error: $165.80 SLE: 3.71 Item: Feit Electric BPMR16/GU10/930CA/6 35W EQ...\u001b[0m\n",
      "\u001b[92m145: Guess: $114.71 Truth: $145.91 Error: $31.20 SLE: 0.06 Item: Yellow Jacket 2806 Contractor Extension ...\u001b[0m\n",
      "\u001b[93m146: Guess: $241.25 Truth: $171.09 Error: $70.16 SLE: 0.12 Item: Garage-Pro Tailgate SET Compatible with ...\u001b[0m\n",
      "\u001b[91m147: Guess: $252.55 Truth: $167.95 Error: $84.60 SLE: 0.16 Item: 3M Perfect It Buffing and Polishing Kit ...\u001b[0m\n",
      "\u001b[91m148: Guess: $116.04 Truth: $28.49 Error: $87.55 SLE: 1.90 Item: Chinese Style Dollhouse Model DIY Miniat...\u001b[0m\n",
      "\u001b[92m149: Guess: $107.32 Truth: $122.23 Error: $14.91 SLE: 0.02 Item: Generic NRG Innovations SRK-161H Steerin...\u001b[0m\n",
      "\u001b[92m150: Guess: $44.33 Truth: $32.99 Error: $11.34 SLE: 0.08 Item: Learning Resources Coding Critters Range...\u001b[0m\n",
      "\u001b[92m151: Guess: $75.40 Truth: $71.20 Error: $4.20 SLE: 0.00 Item: Bosch Automotive 15463 Oxygen Sensor, OE...\u001b[0m\n",
      "\u001b[92m152: Guess: $87.90 Truth: $112.75 Error: $24.85 SLE: 0.06 Item: Case of 24-2 Inch Blue Painters Tape - 6...\u001b[0m\n",
      "\u001b[93m153: Guess: $200.60 Truth: $142.43 Error: $58.17 SLE: 0.12 Item: MOCA Engine Water Pump & Fan Clutch fit ...\u001b[0m\n",
      "\u001b[93m154: Guess: $241.33 Truth: $398.99 Error: $157.66 SLE: 0.25 Item: SAREMAS Foot Step Bars for Hyundai Palis...\u001b[0m\n",
      "\u001b[92m155: Guess: $404.79 Truth: $449.00 Error: $44.21 SLE: 0.01 Item: Gretsch G9210 Square Neck Boxcar Mahogan...\u001b[0m\n",
      "\u001b[93m156: Guess: $128.25 Truth: $189.00 Error: $60.75 SLE: 0.15 Item: NikoMaku Mirror Dash Cam Front and Rear ...\u001b[0m\n",
      "\u001b[91m157: Guess: $218.36 Truth: $120.91 Error: $97.45 SLE: 0.35 Item: Fenix HP25R v2.0 USB-C Rechargeable Head...\u001b[0m\n",
      "\u001b[92m158: Guess: $235.97 Truth: $203.53 Error: $32.44 SLE: 0.02 Item: R&L Racing Heavy Duty Roll-Up Soft Tonne...\u001b[0m\n",
      "\u001b[92m159: Guess: $349.70 Truth: $349.99 Error: $0.29 SLE: 0.00 Item: Garmin 010-02258-10 GPSMAP 64sx, Handhel...\u001b[0m\n",
      "\u001b[92m160: Guess: $0.00 Truth: $34.35 Error: $34.35 SLE: 12.71 Item: Brown 5-7/8\" X 8-1/2\" X 3/16\" Thick Heav...\u001b[0m\n",
      "\u001b[93m161: Guess: $259.24 Truth: $384.99 Error: $125.75 SLE: 0.16 Item: GAOMON PD2200 Pen Display & 20 Pen Nibs ...\u001b[0m\n",
      "\u001b[93m162: Guess: $153.99 Truth: $211.00 Error: $57.01 SLE: 0.10 Item: VXMOTOR for 97-03 Ford F150/F250 Lightdu...\u001b[0m\n",
      "\u001b[91m163: Guess: $249.89 Truth: $129.00 Error: $120.89 SLE: 0.43 Item: HP EliteBook 2540p Intel Core i7-640LM X...\u001b[0m\n",
      "\u001b[91m164: Guess: $22.08 Truth: $111.45 Error: $89.37 SLE: 2.51 Item: Green EPX Mixing Nozzles 100-Pack-fits 3...\u001b[0m\n",
      "\u001b[91m165: Guess: $179.30 Truth: $81.12 Error: $98.18 SLE: 0.62 Item: Box Partners 6 1/4 x 3 1/8\" 13 Pt. Manil...\u001b[0m\n",
      "\u001b[93m166: Guess: $282.34 Truth: $457.08 Error: $174.74 SLE: 0.23 Item: Vixen Air 1/2\" NPT Air Ride Suspension H...\u001b[0m\n",
      "\u001b[93m167: Guess: $92.44 Truth: $49.49 Error: $42.95 SLE: 0.38 Item: Smart Floor Lamp, 2700-6500K+RGBPink Mul...\u001b[0m\n",
      "\u001b[91m168: Guess: $207.50 Truth: $80.56 Error: $126.94 SLE: 0.88 Item: SOZG 324mm Wheelbase Body Shell RC Car B...\u001b[0m\n",
      "\u001b[92m169: Guess: $278.57 Truth: $278.39 Error: $0.18 SLE: 0.00 Item: Mickey Thompson ET Street S/S Racing Rad...\u001b[0m\n",
      "\u001b[93m170: Guess: $248.54 Truth: $364.50 Error: $115.96 SLE: 0.15 Item: Pirelli 275/40R20 106W XL RFT P0 PZ4-LUX...\u001b[0m\n",
      "\u001b[92m171: Guess: $316.96 Truth: $378.99 Error: $62.03 SLE: 0.03 Item: Torklift C3212 Rear Tie Down\u001b[0m\n",
      "\u001b[92m172: Guess: $204.36 Truth: $165.28 Error: $39.08 SLE: 0.04 Item: Cardone 78-4226 Remanufactured Ford Comp...\u001b[0m\n",
      "\u001b[92m173: Guess: $96.05 Truth: $56.74 Error: $39.31 SLE: 0.27 Item: Kidde AccessPoint 001798 Supra TouchPoin...\u001b[0m\n",
      "\u001b[93m174: Guess: $232.08 Truth: $307.95 Error: $75.87 SLE: 0.08 Item: 3M Protecta 3100414 Self Retracting Life...\u001b[0m\n",
      "\u001b[91m175: Guess: $127.62 Truth: $38.00 Error: $89.62 SLE: 1.42 Item: Plantronics 89435-01 Wired Headset, Blac...\u001b[0m\n",
      "\u001b[91m176: Guess: $159.61 Truth: $53.00 Error: $106.61 SLE: 1.19 Item: Logitech K750 Wireless Solar Keyboard fo...\u001b[0m\n",
      "\u001b[92m177: Guess: $402.23 Truth: $498.00 Error: $95.77 SLE: 0.05 Item: Olympus PEN E-PL9 Body Only with 3-Inch ...\u001b[0m\n",
      "\u001b[91m178: Guess: $189.27 Truth: $53.99 Error: $135.28 SLE: 1.54 Item: Beck/Arnley 051-6066 Hub & Bearing Assem...\u001b[0m\n",
      "\u001b[93m179: Guess: $263.59 Truth: $350.00 Error: $86.41 SLE: 0.08 Item: Eibach Pro-Kit Performance Springs E10-6...\u001b[0m\n",
      "\u001b[93m180: Guess: $185.48 Truth: $299.95 Error: $114.47 SLE: 0.23 Item: LEGO DC Batman 1989 Batwing 76161 Displa...\u001b[0m\n",
      "\u001b[93m181: Guess: $140.06 Truth: $94.93 Error: $45.13 SLE: 0.15 Item: Kingston Brass KS3608PL Restoration 4-In...\u001b[0m\n",
      "\u001b[92m182: Guess: $310.47 Truth: $379.00 Error: $68.53 SLE: 0.04 Item: Polk Vanishing Series 265-LS In-Wall 3-W...\u001b[0m\n",
      "\u001b[92m183: Guess: $318.52 Truth: $299.95 Error: $18.57 SLE: 0.00 Item: Spec-D Tuning LED Projector Headlights G...\u001b[0m\n",
      "\u001b[92m184: Guess: $36.74 Truth: $24.99 Error: $11.75 SLE: 0.14 Item: RICHMOND & FINCH Airpod Pro Case, Green ...\u001b[0m\n",
      "\u001b[91m185: Guess: $151.74 Truth: $41.04 Error: $110.70 SLE: 1.66 Item: LFA Industries 43B-5A-33JT 1/16-1/2-1.5-...\u001b[0m\n",
      "\u001b[93m186: Guess: $205.04 Truth: $327.90 Error: $122.86 SLE: 0.22 Item: SAUTVS LED Headlight Assembly for Slings...\u001b[0m\n",
      "\u001b[93m187: Guess: $83.96 Truth: $10.99 Error: $72.97 SLE: 3.83 Item: 2 Pack Combo Womens Safety Glasses Impac...\u001b[0m\n",
      "\u001b[91m188: Guess: $142.71 Truth: $14.99 Error: $127.72 SLE: 4.82 Item: Arepa - Venezuelan cuisine - Venezuela P...\u001b[0m\n",
      "\u001b[92m189: Guess: $112.76 Truth: $84.95 Error: $27.81 SLE: 0.08 Item: Schlage Lock Company KS23D2300 Padlock, ...\u001b[0m\n",
      "\u001b[93m190: Guess: $178.94 Truth: $111.00 Error: $67.94 SLE: 0.22 Item: Techni Mobili White Sit to Stand Mobile ...\u001b[0m\n",
      "\u001b[92m191: Guess: $93.47 Truth: $123.73 Error: $30.26 SLE: 0.08 Item: Special Lite Products Contemporary Wall ...\u001b[0m\n",
      "\u001b[91m192: Guess: $262.06 Truth: $557.38 Error: $295.32 SLE: 0.57 Item: Tascam DP-24SD 24-Track Digital Portastu...\u001b[0m\n",
      "\u001b[91m193: Guess: $259.92 Truth: $95.55 Error: $164.37 SLE: 0.99 Item: Glow Lighting 636CC10SP Vista Crystal Fl...\u001b[0m\n",
      "\u001b[91m194: Guess: $249.10 Truth: $154.00 Error: $95.10 SLE: 0.23 Item: Z3 Wind Deflector, Smoke Tint, Lexan, Wi...\u001b[0m\n",
      "\u001b[91m195: Guess: $279.40 Truth: $198.99 Error: $80.41 SLE: 0.11 Item: Olympus E-20 5MP Digital Camera w/ 4x Op...\u001b[0m\n",
      "\u001b[91m196: Guess: $173.20 Truth: $430.44 Error: $257.24 SLE: 0.82 Item: PHYNEDI 1:1000 World Trade Center (1973-...\u001b[0m\n",
      "\u001b[93m197: Guess: $0.00 Truth: $45.67 Error: $45.67 SLE: 14.77 Item: YANGHUAN Unstable Unicorns Adventure Car...\u001b[0m\n",
      "\u001b[92m198: Guess: $202.13 Truth: $249.00 Error: $46.87 SLE: 0.04 Item: Interlogix NX-1820E NetworX Touch Screen...\u001b[0m\n",
      "\u001b[91m199: Guess: $145.63 Truth: $42.99 Error: $102.64 SLE: 1.45 Item: Steering Damper,Universal Motorcycle Han...\u001b[0m\n",
      "\u001b[92m200: Guess: $152.43 Truth: $181.33 Error: $28.90 SLE: 0.03 Item: Amprobe TIC 410A Hot Stick Attachment\u001b[0m\n",
      "\u001b[93m201: Guess: $79.00 Truth: $6.03 Error: $72.97 SLE: 5.91 Item: MyCableMart 3.5mm Plug/Jack, 4 Conductor...\u001b[0m\n",
      "\u001b[93m202: Guess: $90.06 Truth: $29.99 Error: $60.07 SLE: 1.16 Item: OtterBox + Pop Symmetry Series Case for ...\u001b[0m\n",
      "\u001b[93m203: Guess: $583.93 Truth: $899.00 Error: $315.07 SLE: 0.19 Item: Dell XPS X8700-1572BLK Desktop ( Intel C...\u001b[0m\n",
      "\u001b[92m204: Guess: $401.18 Truth: $399.99 Error: $1.19 SLE: 0.00 Item: Franklin Iron Works Sperry Industrial Br...\u001b[0m\n",
      "\u001b[91m205: Guess: $104.87 Truth: $4.66 Error: $100.21 SLE: 8.58 Item: Avery Legal Dividers, Standard Collated ...\u001b[0m\n",
      "\u001b[92m206: Guess: $296.46 Truth: $261.41 Error: $35.05 SLE: 0.02 Item: Moen 8346 Commercial Posi-Temp Pressure ...\u001b[0m\n",
      "\u001b[93m207: Guess: $177.21 Truth: $136.97 Error: $40.24 SLE: 0.07 Item: Carlisle Versa Trail ATR All Terrain Rad...\u001b[0m\n",
      "\u001b[92m208: Guess: $64.75 Truth: $79.00 Error: $14.25 SLE: 0.04 Item: SUNWAYFOTO 44mm Tripod Ball Head Arca Co...\u001b[0m\n",
      "\u001b[93m209: Guess: $326.48 Truth: $444.99 Error: $118.51 SLE: 0.10 Item: NanoBeam AC NBE-5AC-Gen2-US 4 Units 5GHz...\u001b[0m\n",
      "\u001b[93m210: Guess: $326.02 Truth: $411.94 Error: $85.92 SLE: 0.05 Item: WULF 4\" Front 2\" Rear Leveling Lift Kit ...\u001b[0m\n",
      "\u001b[91m211: Guess: $272.52 Truth: $148.40 Error: $124.12 SLE: 0.37 Item: Alera ALEVABFMC Valencia Series Mobile B...\u001b[0m\n",
      "\u001b[93m212: Guess: $173.02 Truth: $244.99 Error: $71.97 SLE: 0.12 Item: YU-GI-OH! Ignition Assault Booster Box\u001b[0m\n",
      "\u001b[92m213: Guess: $109.03 Truth: $86.50 Error: $22.53 SLE: 0.05 Item: 48\" x 36\" Extra-Large Framed Magnetic Bl...\u001b[0m\n",
      "\u001b[92m214: Guess: $261.37 Truth: $297.95 Error: $36.58 SLE: 0.02 Item: Dell Latitude D620 Renewed Notebook PC\u001b[0m\n",
      "\u001b[93m215: Guess: $543.90 Truth: $399.99 Error: $143.91 SLE: 0.09 Item: acer Aspire 5 Laptop, AMD Ryzen 3 5300U ...\u001b[0m\n",
      "\u001b[91m216: Guess: $268.95 Truth: $599.00 Error: $330.05 SLE: 0.64 Item: Elk 31080/6RC-GRN 30 by 6-Inch Viva 6-Li...\u001b[0m\n",
      "\u001b[91m217: Guess: $332.92 Truth: $105.99 Error: $226.93 SLE: 1.30 Item: Barbie Top Model Doll\u001b[0m\n",
      "\u001b[91m218: Guess: $404.48 Truth: $689.00 Error: $284.52 SLE: 0.28 Item: Danby Designer 20-In. Electric Range wit...\u001b[0m\n",
      "\u001b[93m219: Guess: $263.06 Truth: $404.99 Error: $141.93 SLE: 0.19 Item: FixtureDisplays® Metal Truss Podium Doub...\u001b[0m\n",
      "\u001b[92m220: Guess: $249.24 Truth: $207.76 Error: $41.48 SLE: 0.03 Item: ACDelco 13597235 GM Original Equipment A...\u001b[0m\n",
      "\u001b[92m221: Guess: $176.60 Truth: $171.82 Error: $4.78 SLE: 0.00 Item: EBC S1KF1135 Stage-1 Premium Street Brak...\u001b[0m\n",
      "\u001b[93m222: Guess: $351.92 Truth: $293.24 Error: $58.68 SLE: 0.03 Item: FXR Men's Boost FX Jacket (Black/Orange/...\u001b[0m\n",
      "\u001b[92m223: Guess: $359.55 Truth: $374.95 Error: $15.40 SLE: 0.00 Item: SuperATV Scratch Resistant 3-in-1 Flip W...\u001b[0m\n",
      "\u001b[93m224: Guess: $163.19 Truth: $111.99 Error: $51.20 SLE: 0.14 Item: SBU 3 Layer All Weather Mini Van Car Cov...\u001b[0m\n",
      "\u001b[93m225: Guess: $87.42 Truth: $42.99 Error: $44.43 SLE: 0.49 Item: 2 Pack Outdoor Brochure Holder Advertisi...\u001b[0m\n",
      "\u001b[93m226: Guess: $67.59 Truth: $116.71 Error: $49.12 SLE: 0.29 Item: Monroe Shocks & Struts Quick-Strut 17158...\u001b[0m\n",
      "\u001b[91m227: Guess: $201.49 Truth: $118.61 Error: $82.88 SLE: 0.28 Item: Elements of Design Magellan EB235AL Thre...\u001b[0m\n",
      "\u001b[92m228: Guess: $158.65 Truth: $147.12 Error: $11.53 SLE: 0.01 Item: GM Genuine Parts 15-62961 Air Conditioni...\u001b[0m\n",
      "\u001b[93m229: Guess: $188.84 Truth: $119.99 Error: $68.85 SLE: 0.20 Item: Baseus 17-in-1 USB C Docking Station to ...\u001b[0m\n",
      "\u001b[92m230: Guess: $315.03 Truth: $369.98 Error: $54.95 SLE: 0.03 Item: Whitehall™ Personalized Whitehall Capito...\u001b[0m\n",
      "\u001b[91m231: Guess: $125.57 Truth: $315.55 Error: $189.98 SLE: 0.84 Item: Pro Circuit Works Pipe PY05250 for 02-19...\u001b[0m\n",
      "\u001b[91m232: Guess: $340.87 Truth: $190.99 Error: $149.88 SLE: 0.33 Item: HYANKA 15 \"1200W Professional DJ Speaker...\u001b[0m\n",
      "\u001b[92m233: Guess: $164.84 Truth: $155.00 Error: $9.84 SLE: 0.00 Item: Bluetooth X6BT Card Reader Writer Encode...\u001b[0m\n",
      "\u001b[92m234: Guess: $322.75 Truth: $349.99 Error: $27.24 SLE: 0.01 Item: AIRAID Cold Air Intake System by K&N: In...\u001b[0m\n",
      "\u001b[92m235: Guess: $277.11 Truth: $249.99 Error: $27.12 SLE: 0.01 Item: Bostingner Shower Faucets Sets Complete,...\u001b[0m\n",
      "\u001b[91m236: Guess: $218.61 Truth: $42.99 Error: $175.62 SLE: 2.59 Item: PIT66 Front Bumper Turn Signal Lights, C...\u001b[0m\n",
      "\u001b[92m237: Guess: $18.58 Truth: $17.99 Error: $0.59 SLE: 0.00 Item: Caseology Bumpy Compatible with Google P...\u001b[0m\n",
      "\u001b[92m238: Guess: $356.94 Truth: $425.00 Error: $68.06 SLE: 0.03 Item: Fleck 2510 Timer Mechanical Filter Contr...\u001b[0m\n",
      "\u001b[91m239: Guess: $351.86 Truth: $249.99 Error: $101.87 SLE: 0.12 Item: Haloview MC7108 Wireless RV Backup Camer...\u001b[0m\n",
      "\u001b[93m240: Guess: $96.72 Truth: $138.23 Error: $41.51 SLE: 0.13 Item: Schmidt Spiele - Manhattan\u001b[0m\n",
      "\u001b[93m241: Guess: $309.10 Truth: $414.99 Error: $105.89 SLE: 0.09 Item: Corsa 14333 Tip Kit (Ford Mustang GT)\u001b[0m\n",
      "\u001b[93m242: Guess: $118.47 Truth: $168.28 Error: $49.81 SLE: 0.12 Item: Hoshizaki FM116A Fan Motor Kit 1\u001b[0m\n",
      "\u001b[92m243: Guess: $174.57 Truth: $199.99 Error: $25.42 SLE: 0.02 Item: BAINUO Antler Chandelier Lighting,6 Ligh...\u001b[0m\n",
      "\u001b[93m244: Guess: $206.29 Truth: $126.70 Error: $79.59 SLE: 0.23 Item: DNA MOTORING HL-OH-FEXP06-SM-AM Smoke Le...\u001b[0m\n",
      "\u001b[92m245: Guess: $42.95 Truth: $5.91 Error: $37.04 SLE: 3.42 Item: Wera Stainless 3840/1 TS 2.5mm Hex Inser...\u001b[0m\n",
      "\u001b[91m246: Guess: $278.01 Truth: $193.06 Error: $84.95 SLE: 0.13 Item: Celestron - PowerSeeker 127EQ Telescope ...\u001b[0m\n",
      "\u001b[93m247: Guess: $196.47 Truth: $249.99 Error: $53.52 SLE: 0.06 Item: NHOPEEW 10.1inch Android Car Radio Carpl...\u001b[0m\n",
      "\u001b[91m248: Guess: $227.02 Truth: $64.12 Error: $162.90 SLE: 1.57 Item: Other Harmonica (Suzuki-2Timer24- A)\u001b[0m\n",
      "\u001b[93m249: Guess: $172.54 Truth: $114.99 Error: $57.55 SLE: 0.16 Item: Harley Air Filter Venturi Intake Air Cle...\u001b[0m\n",
      "\u001b[91m250: Guess: $366.21 Truth: $926.00 Error: $559.79 SLE: 0.86 Item: Elite Screens Edge Free Ambient Light Re...\u001b[0m\n"
     ]
    },
    {
     "data": {
      "image/png": "[encoded data removed]",
      "text/plain": [
       "<Figure size 1200x800 with 1 Axes>"
      ]
     },
     "metadata": {},
     "output_type": "display_data"
    }
   ],
   "source": [
    "# TestRunnerを実行\n",
    "#Tester.test(rf, test)\n",
    "Tester.test(booster, test)"
   ]
  },
  {
   "cell_type": "code",
   "execution_count": 11,
   "id": "e44dbd25-fb95-4b6b-bbbb-8da5fc817105",
   "metadata": {
    "id": "e44dbd25-fb95-4b6b-bbbb-8da5fc817105"
   },
   "outputs": [
    {
     "name": "stdout",
     "output_type": "stream",
     "text": [
      "189.0\n",
      "195.19\n",
      "171.17597789068463\n"
     ]
    }
   ],
   "source": [
    "# 各エージェントの推論を１回、試してみる\n",
    "product = \"Quadcast HyperX condenser mic for high quality audio for podcasting\"\n",
    "print(specialist.price(product))\n",
    "print(frontier.price(product))\n",
    "#print(random_forest.price(product))\n",
    "print(lightgbm.price(product))"
   ]
  },
  {
   "cell_type": "markdown",
   "id": "398e2501-9211-4909-961d-5b03e68b60ce",
   "metadata": {},
   "source": [
    "## アンサンブル学習の実行"
   ]
  },
  {
   "cell_type": "code",
   "execution_count": null,
   "id": "1779b353-e2bb-4fc7-be7c-93057e4d688a",
   "metadata": {
    "id": "1779b353-e2bb-4fc7-be7c-93057e4d688a"
   },
   "outputs": [],
   "source": [
    "# 各エージェントでｘ回の推論を実施\n",
    "specialists = []\n",
    "frontiers = []\n",
    "#random_forests = []\n",
    "lightgbms = []\n",
    "\n",
    "prices = []\n",
    "for item in tqdm(test[1000:1250]):\n",
    "    text = description(item)\n",
    "    specialists.append(specialist.price(text))\n",
    "    frontiers.append(frontier.price(text))\n",
    "    #random_forests.append(random_forest.price(text))\n",
    "    lightgbms.append(lightgbm.price(text))\n",
    "    prices.append(item.price)"
   ]
  },
  {
   "cell_type": "code",
   "execution_count": null,
   "id": "f0bca725-4e34-405b-8d90-41d67086a25d",
   "metadata": {
    "id": "f0bca725-4e34-405b-8d90-41d67086a25d"
   },
   "outputs": [],
   "source": [
    "# 各データ点ごとに、3モデルの予測値の最小値・最大値を計算。\n",
    "# 予測結果から派生した特徴量を追加、線形回帰がより柔軟に重み付け可能に。\n",
    "# 例えば、外れ値を避けるために最小値や最大値が役立つこともある。\n",
    "mins = [min(s,f,r) for s,f,r in zip(specialists, frontiers, lightgbms)] #random_forests)]\n",
    "maxes = [max(s,f,r) for s,f,r in zip(specialists, frontiers, lightgbms)] #random_forests)]\n",
    "\n",
    "# 説明変数 xをDataFrameに変換\n",
    "X = pd.DataFrame({\n",
    "    # 3モデルの予測値\n",
    "    'Specialist': specialists,\n",
    "    'Frontier': frontiers,\n",
    "    #'RandomForest': random_forests,\n",
    "    'LightGBM': lightgbms,\n",
    "    # 集約特徴量\n",
    "    'Min': mins,\n",
    "    'Max': maxes,\n",
    "})\n",
    "\n",
    "# 目的変数 yをSeriesに変換\n",
    "y = pd.Series(prices)"
   ]
  },
  {
   "cell_type": "code",
   "execution_count": null,
   "id": "1be5be8a-3e7f-42a2-be54-0c7e380f7cc4",
   "metadata": {
    "id": "1be5be8a-3e7f-42a2-be54-0c7e380f7cc4"
   },
   "outputs": [],
   "source": [
    "# 線形回帰を訓練\n",
    "np.random.seed(42)\n",
    "\n",
    "lr = LinearRegression()\n",
    "lr.fit(X, y)\n",
    "\n",
    "# 各特徴量の回帰係数を表示。係数が大きいほど、その特徴量が予測に強く寄与\n",
    "feature_columns = X.columns.tolist()\n",
    "for feature, coef in zip(feature_columns, lr.coef_):\n",
    "    print(f\"{feature}: {coef:.2f}\")\n",
    "print(f\"Intercept={lr.intercept_:.2f}\")"
   ]
  },
  {
   "cell_type": "code",
   "execution_count": null,
   "id": "0bdf6e68-28a3-4ed2-b17e-de0ede923d34",
   "metadata": {
    "id": "0bdf6e68-28a3-4ed2-b17e-de0ede923d34"
   },
   "outputs": [],
   "source": [
    "# agents.ensemble_agentにファイルI/Fで学習済みモデルを渡す\n",
    "joblib.dump(lr, 'ensemble_model.pkl')"
   ]
  },
  {
   "cell_type": "markdown",
   "id": "fb635668-858e-4da3-b1c3-9b2c0c514103",
   "metadata": {},
   "source": [
    "## アンサンブル・モデルで推定"
   ]
  },
  {
   "cell_type": "markdown",
   "id": "599ebacf-2896-4753-bd92-8f1032301f5d",
   "metadata": {},
   "source": [
    "#### EnsembleAgent\n",
    "\n",
    "```python\n",
    "# 各エージェントをまとめるアンサンブル・エージェントの初期化\n",
    "from agents.ensemble_agent import EnsembleAgent\n",
    "ensemble = EnsembleAgent(collection)\n",
    "\n",
    "# 推論の単体テスト\n",
    "ensemble.price(product)\n",
    "\n",
    "# 埋め込みベクトルからアンサンブル・モデルが推定した値を返す\n",
    "def ensemble_pricer(item):\n",
    "    return max(0,ensemble.price(description(item)))\n",
    "\n",
    "# TestRunnerを実行\n",
    "Tester.test(ensemble_pricer, test)\n",
    "```\n",
    "\n",
    "#### Ensemble2Agent"
   ]
  },
  {
   "cell_type": "code",
   "execution_count": 12,
   "id": "e762441a-9470-4dd7-8a8f-ec0430e908c7",
   "metadata": {
    "id": "e762441a-9470-4dd7-8a8f-ec0430e908c7"
   },
   "outputs": [],
   "source": [
    "# 各エージェントをまとめるアンサンブル・エージェントの初期化\n",
    "from agents.ensemble2_agent import Ensemble2Agent\n",
    "ensemble2 = Ensemble2Agent(collection)"
   ]
  },
  {
   "cell_type": "code",
   "execution_count": 13,
   "id": "1a29f03c-8010-43b7-ae7d-1bc85ca6e8e2",
   "metadata": {
    "id": "1a29f03c-8010-43b7-ae7d-1bc85ca6e8e2"
   },
   "outputs": [
    {
     "data": {
      "text/plain": [
       "209.95298049303565"
      ]
     },
     "execution_count": 13,
     "metadata": {},
     "output_type": "execute_result"
    }
   ],
   "source": [
    "# 推論の単体テスト\n",
    "ensemble2.price(product)"
   ]
  },
  {
   "cell_type": "code",
   "execution_count": 14,
   "id": "e6a5e226-a508-43d5-aa42-cefbde72ffdf",
   "metadata": {
    "id": "e6a5e226-a508-43d5-aa42-cefbde72ffdf"
   },
   "outputs": [],
   "source": [
    "# 埋め込みベクトルからアンサンブル・モデルが推定した値を返す\n",
    "def ensemble2_pricer(item):\n",
    "    return max(0, ensemble2.price(description(item)))"
   ]
  },
  {
   "cell_type": "code",
   "execution_count": 15,
   "id": "8397b1ef-2ea3-4af8-bb34-36594e0600cc",
   "metadata": {
    "id": "8397b1ef-2ea3-4af8-bb34-36594e0600cc"
   },
   "outputs": [
    {
     "name": "stdout",
     "output_type": "stream",
     "text": [
      "\u001b[92m1: Guess: $405.71 Truth: $374.41 Error: $31.30 SLE: 0.01 Item: OEM AC Compressor w/A/C Repair Kit For F...\u001b[0m\n",
      "\u001b[92m2: Guess: $199.24 Truth: $225.11 Error: $25.87 SLE: 0.01 Item: Motorcraft YB3125 Fan Clutch\u001b[0m\n",
      "\u001b[92m3: Guess: $47.48 Truth: $61.68 Error: $14.20 SLE: 0.07 Item: Dorman 603-159 Front Washer Fluid Reserv...\u001b[0m\n",
      "\u001b[93m4: Guess: $406.71 Truth: $599.99 Error: $193.28 SLE: 0.15 Item: HP Premium 17.3-inch HD Plus Touchscreen...\u001b[0m\n",
      "\u001b[92m5: Guess: $32.64 Truth: $16.99 Error: $15.65 SLE: 0.39 Item: 5-Position Super Switch Pickup Selector ...\u001b[0m\n",
      "\u001b[92m6: Guess: $30.80 Truth: $31.99 Error: $1.19 SLE: 0.00 Item: Horror Bookmarks, Resin Horror Bookmarks...\u001b[0m\n",
      "\u001b[92m7: Guess: $121.99 Truth: $101.79 Error: $20.20 SLE: 0.03 Item: SK6241 - Stinger 4 Gauge 6000 Series Pow...\u001b[0m\n",
      "\u001b[93m8: Guess: $349.41 Truth: $289.00 Error: $60.41 SLE: 0.04 Item: Godox ML60Bi LED Light Kit, Handheld LED...\u001b[0m\n",
      "\u001b[93m9: Guess: $857.04 Truth: $635.86 Error: $221.18 SLE: 0.09 Item: Randall RG75DG3PLUS G3 Plus 100-Watt Com...\u001b[0m\n",
      "\u001b[92m10: Guess: $70.23 Truth: $65.99 Error: $4.24 SLE: 0.00 Item: HOLDWILL 6 Pack LED Shop Light, 4FT 24W ...\u001b[0m\n",
      "\u001b[92m11: Guess: $249.43 Truth: $254.21 Error: $4.78 SLE: 0.00 Item: Viking Horns V103C/1005ATK 3 Gallon Air ...\u001b[0m\n",
      "\u001b[92m12: Guess: $428.35 Truth: $412.99 Error: $15.36 SLE: 0.00 Item: CURT 70110 Custom Tow Bar Base Plate Bra...\u001b[0m\n",
      "\u001b[93m13: Guess: $247.56 Truth: $205.50 Error: $42.06 SLE: 0.03 Item: 10-Pack Solar HAMMERED BRONZE Finish Pos...\u001b[0m\n",
      "\u001b[92m14: Guess: $295.45 Truth: $248.23 Error: $47.22 SLE: 0.03 Item: COSTWAY Electric Tumble Dryer, Sliver\u001b[0m\n",
      "\u001b[92m15: Guess: $354.85 Truth: $399.00 Error: $44.15 SLE: 0.01 Item: FREE SIGNAL TV Transit 32\" 12 Volt DC Po...\u001b[0m\n",
      "\u001b[92m16: Guess: $388.13 Truth: $373.94 Error: $14.19 SLE: 0.00 Item: Bilstein 5100 Monotube Gas Shock Set com...\u001b[0m\n",
      "\u001b[92m17: Guess: $127.01 Truth: $92.89 Error: $34.12 SLE: 0.10 Item: Sangean K-200 Multi-Function Upright AM/...\u001b[0m\n",
      "\u001b[92m18: Guess: $78.21 Truth: $51.99 Error: $26.22 SLE: 0.16 Item: Charles Leonard Magnetic Lapboard Class ...\u001b[0m\n",
      "\u001b[91m19: Guess: $319.95 Truth: $179.00 Error: $140.95 SLE: 0.33 Item: Gigabyte AMD Radeon HD 7870 2 GB GDDR5 D...\u001b[0m\n",
      "\u001b[92m20: Guess: $31.68 Truth: $19.42 Error: $12.26 SLE: 0.22 Item: 3dRose LLC 8 x 8 x 0.25 Inches Bull Terr...\u001b[0m\n",
      "\u001b[92m21: Guess: $504.15 Truth: $539.95 Error: $35.80 SLE: 0.00 Item: ROKINON 85mm F1.4 Auto Focus Full Frame ...\u001b[0m\n",
      "\u001b[92m22: Guess: $156.26 Truth: $147.67 Error: $8.59 SLE: 0.00 Item: AUTOSAVER88 Headlight Assembly Compatibl...\u001b[0m\n",
      "\u001b[92m23: Guess: $33.28 Truth: $24.99 Error: $8.29 SLE: 0.08 Item: ASI NAUTICAL 2.5 Inches Opera Glasses Bi...\u001b[0m\n",
      "\u001b[93m24: Guess: $87.17 Truth: $149.00 Error: $61.83 SLE: 0.28 Item: Behringer TUBE OVERDRIVE TO100 Authentic...\u001b[0m\n",
      "\u001b[92m25: Guess: $28.47 Truth: $16.99 Error: $11.48 SLE: 0.24 Item: Fun Express Insect Finger Puppets - 24 f...\u001b[0m\n",
      "\u001b[92m26: Guess: $21.74 Truth: $7.99 Error: $13.75 SLE: 0.86 Item: WAFJAMF Roller Stamp Identity Theft Stam...\u001b[0m\n",
      "\u001b[92m27: Guess: $211.03 Truth: $199.99 Error: $11.04 SLE: 0.00 Item: Capulina Tiffany Floor Lamp 2-Light 16\" ...\u001b[0m\n",
      "\u001b[93m28: Guess: $311.86 Truth: $251.45 Error: $60.41 SLE: 0.05 Item: Apple Watch Series 6 (GPS, 44mm) - Space...\u001b[0m\n",
      "\u001b[92m29: Guess: $252.97 Truth: $231.62 Error: $21.35 SLE: 0.01 Item: ICON 01725 Tandem Axle Fender Skirt FS17...\u001b[0m\n",
      "\u001b[92m30: Guess: $143.51 Truth: $135.00 Error: $8.51 SLE: 0.00 Item: SanDisk 128GB Ultra (10 Pack) MicroSD Cl...\u001b[0m\n",
      "\u001b[92m31: Guess: $414.30 Truth: $356.62 Error: $57.68 SLE: 0.02 Item: Velvac 2020,L,C/Hr,W,E2003,102\",Bk - 715...\u001b[0m\n",
      "\u001b[92m32: Guess: $309.49 Truth: $257.99 Error: $51.50 SLE: 0.03 Item: TCMT Passenger Backrest Sissy Bar & Lugg...\u001b[0m\n",
      "\u001b[92m33: Guess: $44.67 Truth: $27.99 Error: $16.68 SLE: 0.21 Item: Alnicov 63.5MM Brass Tremolo Block，Tremo...\u001b[0m\n",
      "\u001b[93m34: Guess: $119.62 Truth: $171.20 Error: $51.58 SLE: 0.13 Item: Subaru Forester Outback Legacy OEM Engin...\u001b[0m\n",
      "\u001b[91m35: Guess: $427.91 Truth: $225.00 Error: $202.91 SLE: 0.41 Item: Richmond Auto Upholstery - 2012 Dodge Ra...\u001b[0m\n",
      "\u001b[91m36: Guess: $193.63 Truth: $105.00 Error: $88.63 SLE: 0.37 Item: AP-39 Automotive Paint Primer Grey 2K Ur...\u001b[0m\n",
      "\u001b[92m37: Guess: $325.04 Truth: $299.99 Error: $25.05 SLE: 0.01 Item: Road Top Wireless Carplay Retrofit Kit D...\u001b[0m\n",
      "\u001b[93m38: Guess: $696.45 Truth: $535.09 Error: $161.36 SLE: 0.07 Item: Gibson Performance Exhaust 5658 Aluminiz...\u001b[0m\n",
      "\u001b[92m39: Guess: $32.15 Truth: $12.33 Error: $19.82 SLE: 0.83 Item: Bella Tunno Happy Links - Baby Montessor...\u001b[0m\n",
      "\u001b[93m40: Guess: $132.38 Truth: $84.99 Error: $47.39 SLE: 0.19 Item: CANMORE H300 Handheld GPS Golf Device, S...\u001b[0m\n",
      "\u001b[92m41: Guess: $28.28 Truth: $15.99 Error: $12.29 SLE: 0.30 Item: DCPOWER AC Adapter Compatible Replacemen...\u001b[0m\n",
      "\u001b[92m42: Guess: $61.76 Truth: $62.44 Error: $0.68 SLE: 0.00 Item: Sharp, VX2128V, Commercial Desktop Calcu...\u001b[0m\n",
      "\u001b[92m43: Guess: $97.04 Truth: $82.99 Error: $14.05 SLE: 0.02 Item: Melissa & Doug Lifelike Plush Stork Gian...\u001b[0m\n",
      "\u001b[91m44: Guess: $345.58 Truth: $599.95 Error: $254.37 SLE: 0.30 Item: Sony SSCS8 2-Way 3-Driver Center Channel...\u001b[0m\n",
      "\u001b[93m45: Guess: $248.62 Truth: $194.99 Error: $53.63 SLE: 0.06 Item: ASUS Chromebook CX1, 14\" Full HD NanoEdg...\u001b[0m\n",
      "\u001b[92m46: Guess: $335.14 Truth: $344.95 Error: $9.81 SLE: 0.00 Item: FiiO X7 32GB Hi-Res Lossless Music Playe...\u001b[0m\n",
      "\u001b[92m47: Guess: $52.03 Truth: $37.99 Error: $14.04 SLE: 0.09 Item: TORRO Leather Case Compatible with iPhon...\u001b[0m\n",
      "\u001b[92m48: Guess: $239.26 Truth: $224.35 Error: $14.91 SLE: 0.00 Item: Universal Air Conditioner KT 1031 A/C Co...\u001b[0m\n",
      "\u001b[92m49: Guess: $892.69 Truth: $814.00 Error: $78.69 SLE: 0.01 Item: Street Series Stainless Performance Cat-...\u001b[0m\n",
      "\u001b[93m50: Guess: $347.66 Truth: $439.88 Error: $92.22 SLE: 0.06 Item: Lenovo IdeaPad 3 14-inch Laptop, 14.0-in...\u001b[0m\n",
      "\u001b[92m51: Guess: $357.66 Truth: $341.43 Error: $16.23 SLE: 0.00 Item: Access Bed Covers TonnoSport 22050219 - ...\u001b[0m\n",
      "\u001b[92m52: Guess: $68.39 Truth: $46.78 Error: $21.61 SLE: 0.14 Item: G.I. JOE Hasbro 3 3/4\" Wave 5 Action Fig...\u001b[0m\n",
      "\u001b[93m53: Guess: $218.96 Truth: $171.44 Error: $47.52 SLE: 0.06 Item: T&S Brass B-0232-BST Double Pantry Fauce...\u001b[0m\n",
      "\u001b[92m54: Guess: $478.02 Truth: $458.00 Error: $20.02 SLE: 0.00 Item: ZTUOAUMA Fuel Injection Pump 3090942 309...\u001b[0m\n",
      "\u001b[92m55: Guess: $149.09 Truth: $130.75 Error: $18.34 SLE: 0.02 Item: 2AP18AA#ABA Hp Prime Graphing Calculator...\u001b[0m\n",
      "\u001b[92m56: Guess: $62.18 Truth: $83.81 Error: $21.63 SLE: 0.09 Item: Lowrance 000-0119-83 Nmea 2000 25' Exten...\u001b[0m\n",
      "\u001b[91m57: Guess: $179.47 Truth: $386.39 Error: $206.92 SLE: 0.58 Item: Jeep Genuine Accessories 82213051 Hood L...\u001b[0m\n",
      "\u001b[92m58: Guess: $162.02 Truth: $169.00 Error: $6.98 SLE: 0.00 Item: GODOX CB-06 Hard Carrying Case with Whee...\u001b[0m\n",
      "\u001b[92m59: Guess: $29.95 Truth: $17.95 Error: $12.00 SLE: 0.24 Item: Au-Tomotive Gold, INC. Ford Black Valet ...\u001b[0m\n",
      "\u001b[92m60: Guess: $302.91 Truth: $269.00 Error: $33.91 SLE: 0.01 Item: Snailfly Black Roof Rack Rail + Cross Ba...\u001b[0m\n",
      "\u001b[92m61: Guess: $95.87 Truth: $77.77 Error: $18.10 SLE: 0.04 Item: KING SHA Anti Glare LED Track Lighting H...\u001b[0m\n",
      "\u001b[92m62: Guess: $98.99 Truth: $88.99 Error: $10.00 SLE: 0.01 Item: APS Compatible with Chevy Silverado 1500...\u001b[0m\n",
      "\u001b[92m63: Guess: $341.61 Truth: $364.41 Error: $22.80 SLE: 0.00 Item: Wilwood Engineering 14011291R Brake Cali...\u001b[0m\n",
      "\u001b[93m64: Guess: $169.88 Truth: $127.03 Error: $42.85 SLE: 0.08 Item: ACDelco Gold 336-1925A Starter, Remanufa...\u001b[0m\n",
      "\u001b[92m65: Guess: $731.51 Truth: $778.95 Error: $47.44 SLE: 0.00 Item: UWS EC10783 69-Inch Matte Black Heavy-Wa...\u001b[0m\n",
      "\u001b[92m66: Guess: $212.45 Truth: $206.66 Error: $5.79 SLE: 0.00 Item: Dell Latitude E5440 14in Business Laptop...\u001b[0m\n",
      "\u001b[92m67: Guess: $56.09 Truth: $35.94 Error: $20.15 SLE: 0.19 Item: (Plug and Play) Spare Tire Brake Light W...\u001b[0m\n",
      "\u001b[93m68: Guess: $191.19 Truth: $149.00 Error: $42.19 SLE: 0.06 Item: The Ultimate Roadside Rescue Assistant\u001b[0m\n",
      "\u001b[92m69: Guess: $239.82 Truth: $251.98 Error: $12.16 SLE: 0.00 Item: Brand New 18\" x 8.5\" Replacement Wheel f...\u001b[0m\n",
      "\u001b[93m70: Guess: $238.55 Truth: $160.00 Error: $78.55 SLE: 0.16 Item: Headlight Headlamp LH Left & RH Right Pa...\u001b[0m\n",
      "\u001b[92m71: Guess: $55.22 Truth: $39.99 Error: $15.23 SLE: 0.10 Item: Lilo And Stitch Deluxe Oversize Print La...\u001b[0m\n",
      "\u001b[93m72: Guess: $281.42 Truth: $362.41 Error: $80.99 SLE: 0.06 Item: AC Compressor & A/C Clutch For Hyundai A...\u001b[0m\n",
      "\u001b[93m73: Guess: $425.26 Truth: $344.00 Error: $81.26 SLE: 0.04 Item: House Of Troy PIN475-AB Pinnacle Collect...\u001b[0m\n",
      "\u001b[92m74: Guess: $40.85 Truth: $25.09 Error: $15.76 SLE: 0.22 Item: Juno T29 WH Floating Electrical Feed Sin...\u001b[0m\n",
      "\u001b[93m75: Guess: $98.53 Truth: $175.95 Error: $77.42 SLE: 0.33 Item: Sherman GO-PARTS - for 2013-2016 Toyota ...\u001b[0m\n",
      "\u001b[91m76: Guess: $347.24 Truth: $132.64 Error: $214.60 SLE: 0.92 Item: Roland RPU-3 Electronic Keyboard Pedal o...\u001b[0m\n",
      "\u001b[93m77: Guess: $273.18 Truth: $422.99 Error: $149.81 SLE: 0.19 Item: Rockland VMI14 12,000 Pound 12 Volt DC E...\u001b[0m\n",
      "\u001b[92m78: Guess: $174.46 Truth: $146.48 Error: $27.98 SLE: 0.03 Item: Max Advanced Brakes Elite XDS Front Cros...\u001b[0m\n",
      "\u001b[92m79: Guess: $194.10 Truth: $156.83 Error: $37.27 SLE: 0.04 Item: Quality-Built 11030 Premium Quality Alte...\u001b[0m\n",
      "\u001b[93m80: Guess: $196.17 Truth: $251.99 Error: $55.82 SLE: 0.06 Item: Lucida LG-510 Student Classical Guitar, ...\u001b[0m\n",
      "\u001b[91m81: Guess: $319.15 Truth: $940.33 Error: $621.18 SLE: 1.16 Item: Longacre 52-79800 Aluminum Turn Plates\u001b[0m\n",
      "\u001b[92m82: Guess: $69.36 Truth: $52.99 Error: $16.37 SLE: 0.07 Item: Motion Pro 08-0380 Adjustable Torque Wre...\u001b[0m\n",
      "\u001b[93m83: Guess: $288.48 Truth: $219.95 Error: $68.53 SLE: 0.07 Item: Glyph Thunderbolt 3 NVMe Dock (0 GB)\u001b[0m\n",
      "\u001b[92m84: Guess: $459.16 Truth: $441.03 Error: $18.13 SLE: 0.00 Item: TOYO Open Country MT Performance Radial ...\u001b[0m\n",
      "\u001b[92m85: Guess: $175.15 Truth: $168.98 Error: $6.17 SLE: 0.00 Item: Razer Seiren X USB Streaming Microphone ...\u001b[0m\n",
      "\u001b[92m86: Guess: $16.44 Truth: $2.49 Error: $13.95 SLE: 2.59 Item: Happy Birthday to Dad From Your Daughter...\u001b[0m\n",
      "\u001b[92m87: Guess: $101.71 Truth: $98.62 Error: $3.09 SLE: 0.00 Item: Little Tikes My Real Jam First Concert S...\u001b[0m\n",
      "\u001b[92m88: Guess: $223.23 Truth: $256.95 Error: $33.72 SLE: 0.02 Item: Studio M Peace and Harmony Art Pole Comm...\u001b[0m\n",
      "\u001b[92m89: Guess: $39.73 Truth: $30.99 Error: $8.74 SLE: 0.06 Item: MyVolts 12V Power Supply Adaptor Compati...\u001b[0m\n",
      "\u001b[91m90: Guess: $838.04 Truth: $569.84 Error: $268.20 SLE: 0.15 Item: Dell Latitude 7212 Rugged Extreme Tablet...\u001b[0m\n",
      "\u001b[92m91: Guess: $194.13 Truth: $177.99 Error: $16.14 SLE: 0.01 Item: Covermates Contour Fit Car Cover - Light...\u001b[0m\n",
      "\u001b[92m92: Guess: $1,031.55 Truth: $997.99 Error: $33.56 SLE: 0.00 Item: Westin 57-4025 Black HDX Grille Guard fi...\u001b[0m\n",
      "\u001b[93m93: Guess: $172.09 Truth: $219.00 Error: $46.91 SLE: 0.06 Item: Fieldpiece JL2 Job Link Wireless App Tra...\u001b[0m\n",
      "\u001b[92m94: Guess: $251.08 Truth: $225.55 Error: $25.53 SLE: 0.01 Item: hansgrohe Talis S Modern Premium Easy Cl...\u001b[0m\n",
      "\u001b[91m95: Guess: $718.11 Truth: $495.95 Error: $222.16 SLE: 0.14 Item: G-Technology G-SPEED eS PRO High-Perform...\u001b[0m\n",
      "\u001b[92m96: Guess: $1,021.84 Truth: $942.37 Error: $79.47 SLE: 0.01 Item: DreamLine SHDR-1960723L-01 Shower Door, ...\u001b[0m\n",
      "\u001b[92m97: Guess: $21.11 Truth: $1.94 Error: $19.17 SLE: 4.07 Item: Sanctuary Square Backplate Finish: Oiled...\u001b[0m\n",
      "\u001b[92m98: Guess: $287.63 Truth: $284.34 Error: $3.29 SLE: 0.00 Item: Pelican Protector 1750 Long Case - Multi...\u001b[0m\n",
      "\u001b[92m99: Guess: $187.39 Truth: $171.90 Error: $15.49 SLE: 0.01 Item: Brock Replacement Driver and Passenger H...\u001b[0m\n",
      "\u001b[93m100: Guess: $203.71 Truth: $144.99 Error: $58.72 SLE: 0.11 Item: Carlinkit Ai Box Mini, Android 11, Multi...\u001b[0m\n",
      "\u001b[93m101: Guess: $357.48 Truth: $470.47 Error: $112.99 SLE: 0.08 Item: StarDot NetCamLIVE2 YouTube Live Stream ...\u001b[0m\n",
      "\u001b[92m102: Guess: $83.50 Truth: $66.95 Error: $16.55 SLE: 0.05 Item: Atomic Compatible FILXXCAR0016 16x25x5 M...\u001b[0m\n",
      "\u001b[92m103: Guess: $117.36 Truth: $117.00 Error: $0.36 SLE: 0.00 Item: Bandai Awakening of S. H. s.h.figuarts s...\u001b[0m\n",
      "\u001b[91m104: Guess: $282.95 Truth: $172.14 Error: $110.81 SLE: 0.24 Item: Fit System 62135G Passenger Side Towing ...\u001b[0m\n",
      "\u001b[92m105: Guess: $370.93 Truth: $392.74 Error: $21.81 SLE: 0.00 Item: Black Horse Black Aluminum Exceed Runnin...\u001b[0m\n",
      "\u001b[92m106: Guess: $39.55 Truth: $16.99 Error: $22.56 SLE: 0.66 Item: Dearsun Twinkle Star Color Night Light P...\u001b[0m\n",
      "\u001b[92m107: Guess: $15.05 Truth: $1.34 Error: $13.71 SLE: 3.71 Item: Pokemon - Gallade Spirit Link (83/108) -...\u001b[0m\n",
      "\u001b[93m108: Guess: $272.05 Truth: $349.98 Error: $77.93 SLE: 0.06 Item: Ibanez GA34STCE-NT GIO Series Classical ...\u001b[0m\n",
      "\u001b[92m109: Guess: $416.60 Truth: $370.71 Error: $45.89 SLE: 0.01 Item: Set 2 Heavy Duty 12-16.5 12x16.5 12 Ply ...\u001b[0m\n",
      "\u001b[92m110: Guess: $74.08 Truth: $65.88 Error: $8.20 SLE: 0.01 Item: Hairpin Table Legs 28\" Heavy Duty Hairpi...\u001b[0m\n",
      "\u001b[92m111: Guess: $273.19 Truth: $229.99 Error: $43.20 SLE: 0.03 Item: Marada Racing Seat with Adjustable Slide...\u001b[0m\n",
      "\u001b[92m112: Guess: $23.06 Truth: $9.14 Error: $13.92 SLE: 0.75 Item: Remington Industries 24UL1007STRWHI25 24...\u001b[0m\n",
      "\u001b[91m113: Guess: $428.10 Truth: $199.00 Error: $229.10 SLE: 0.58 Item: Acer S3-391-6046 13.3-inch Ultrabook, In...\u001b[0m\n",
      "\u001b[91m114: Guess: $212.07 Truth: $109.99 Error: $102.08 SLE: 0.43 Item: ICBEAMER 7\" RGB LED Headlights Bulb Halo...\u001b[0m\n",
      "\u001b[93m115: Guess: $422.01 Truth: $570.42 Error: $148.41 SLE: 0.09 Item: R1 Concepts Front Rear Brakes and Rotors...\u001b[0m\n",
      "\u001b[92m116: Guess: $249.09 Truth: $279.99 Error: $30.90 SLE: 0.01 Item: Camplux 2.64 GPM Tankless , Outdoor Port...\u001b[0m\n",
      "\u001b[92m117: Guess: $37.10 Truth: $30.99 Error: $6.11 SLE: 0.03 Item: KNOKLOCK 10 Pack 3.75 Inch(96mm) Kitchen...\u001b[0m\n",
      "\u001b[92m118: Guess: $49.18 Truth: $31.99 Error: $17.19 SLE: 0.18 Item: Valley Enterprises Yaesu USB FTDI CT-62 ...\u001b[0m\n",
      "\u001b[93m119: Guess: $59.96 Truth: $15.90 Error: $44.06 SLE: 1.65 Item: G9 LED Light Bulbs，8W，75W 100W replaceme...\u001b[0m\n",
      "\u001b[93m120: Guess: $115.42 Truth: $45.99 Error: $69.43 SLE: 0.82 Item: ZCHAOZ 4 Lights Antique White Farmhouse ...\u001b[0m\n",
      "\u001b[91m121: Guess: $242.63 Truth: $113.52 Error: $129.11 SLE: 0.57 Item: Honeywell TH8320R1003 Honeywell VisionPr...\u001b[0m\n",
      "\u001b[92m122: Guess: $489.01 Truth: $516.99 Error: $27.98 SLE: 0.00 Item: Patriot Exhaust H8013-1 1-7/8\" Clippster...\u001b[0m\n",
      "\u001b[93m123: Guess: $129.94 Truth: $196.99 Error: $67.05 SLE: 0.17 Item: Fitrite Autopart New Front Left Driver S...\u001b[0m\n",
      "\u001b[93m124: Guess: $95.46 Truth: $46.55 Error: $48.91 SLE: 0.50 Item: Technical Precision Replacement for GE G...\u001b[0m\n",
      "\u001b[92m125: Guess: $298.31 Truth: $356.99 Error: $58.68 SLE: 0.03 Item: Covercraft Carhartt SeatSaver Front Row ...\u001b[0m\n",
      "\u001b[93m126: Guess: $251.12 Truth: $319.95 Error: $68.83 SLE: 0.06 Item: Sennheiser SD Pro 2 (506008) - Double-Si...\u001b[0m\n",
      "\u001b[92m127: Guess: $121.92 Truth: $96.06 Error: $25.86 SLE: 0.06 Item: Hitachi MAF0110 Mass Air Flow Sensor\u001b[0m\n",
      "\u001b[92m128: Guess: $223.36 Truth: $190.99 Error: $32.37 SLE: 0.02 Item: AmScope SE305R-P-LED-PS36A 10X-30X LED C...\u001b[0m\n",
      "\u001b[91m129: Guess: $142.75 Truth: $257.95 Error: $115.20 SLE: 0.35 Item: Front Left Driver Side Window Regulator ...\u001b[0m\n",
      "\u001b[92m130: Guess: $89.07 Truth: $62.95 Error: $26.12 SLE: 0.12 Item: Premium Replica Hubcap Set, Fits Nissan ...\u001b[0m\n",
      "\u001b[92m131: Guess: $76.26 Truth: $47.66 Error: $28.60 SLE: 0.21 Item: Excellerations Phonics Spelling Game for...\u001b[0m\n",
      "\u001b[92m132: Guess: $202.05 Truth: $226.99 Error: $24.94 SLE: 0.01 Item: RC4WD BigDog Dual Axle Scale Car/Truck T...\u001b[0m\n",
      "\u001b[92m133: Guess: $344.46 Truth: $359.95 Error: $15.49 SLE: 0.00 Item: Unknown Stage 2 Clutch Kit - Low Altitud...\u001b[0m\n",
      "\u001b[92m134: Guess: $88.65 Truth: $78.40 Error: $10.25 SLE: 0.01 Item: 2002-2008 Dodge Ram 1500 Mopar 4X4 Emble...\u001b[0m\n",
      "\u001b[92m135: Guess: $172.43 Truth: $172.77 Error: $0.34 SLE: 0.00 Item: Pro Comp Alloys Series 89 Wheel with Pol...\u001b[0m\n",
      "\u001b[92m136: Guess: $327.10 Truth: $316.45 Error: $10.65 SLE: 0.00 Item: Detroit Axle - Front Rear Strut & Coil S...\u001b[0m\n",
      "\u001b[92m137: Guess: $97.46 Truth: $87.99 Error: $9.47 SLE: 0.01 Item: ECCPP Rear Wheel Axle Replacement fit fo...\u001b[0m\n",
      "\u001b[92m138: Guess: $200.50 Truth: $226.63 Error: $26.13 SLE: 0.01 Item: Dell Latitude E6520 Intel i7-2720QM 2.20...\u001b[0m\n",
      "\u001b[92m139: Guess: $45.92 Truth: $31.49 Error: $14.43 SLE: 0.14 Item: F FIERCE CYCLE 251pcs Black Universal Mo...\u001b[0m\n",
      "\u001b[93m140: Guess: $254.50 Truth: $196.00 Error: $58.50 SLE: 0.07 Item: Flash Furniture 4 Pk. HERCULES Series 88...\u001b[0m\n",
      "\u001b[92m141: Guess: $61.93 Truth: $78.40 Error: $16.47 SLE: 0.05 Item: B&M 30287 Throttle Valve/Kickdown Cable,...\u001b[0m\n",
      "\u001b[92m142: Guess: $98.61 Truth: $116.25 Error: $17.64 SLE: 0.03 Item: Gates TCK226 PowerGrip Premium Timing Be...\u001b[0m\n",
      "\u001b[92m143: Guess: $144.69 Truth: $112.78 Error: $31.91 SLE: 0.06 Item: Monroe Shocks & Struts Quick-Strut 17149...\u001b[0m\n",
      "\u001b[93m144: Guess: $79.64 Truth: $27.32 Error: $52.32 SLE: 1.09 Item: Feit Electric BPMR16/GU10/930CA/6 35W EQ...\u001b[0m\n",
      "\u001b[92m145: Guess: $129.93 Truth: $145.91 Error: $15.98 SLE: 0.01 Item: Yellow Jacket 2806 Contractor Extension ...\u001b[0m\n",
      "\u001b[92m146: Guess: $203.11 Truth: $171.09 Error: $32.02 SLE: 0.03 Item: Garage-Pro Tailgate SET Compatible with ...\u001b[0m\n",
      "\u001b[92m147: Guess: $145.86 Truth: $167.95 Error: $22.09 SLE: 0.02 Item: 3M Perfect It Buffing and Polishing Kit ...\u001b[0m\n",
      "\u001b[92m148: Guess: $47.34 Truth: $28.49 Error: $18.85 SLE: 0.24 Item: Chinese Style Dollhouse Model DIY Miniat...\u001b[0m\n",
      "\u001b[92m149: Guess: $144.53 Truth: $122.23 Error: $22.30 SLE: 0.03 Item: Generic NRG Innovations SRK-161H Steerin...\u001b[0m\n",
      "\u001b[92m150: Guess: $51.02 Truth: $32.99 Error: $18.03 SLE: 0.18 Item: Learning Resources Coding Critters Range...\u001b[0m\n",
      "\u001b[93m151: Guess: $116.72 Truth: $71.20 Error: $45.52 SLE: 0.24 Item: Bosch Automotive 15463 Oxygen Sensor, OE...\u001b[0m\n",
      "\u001b[92m152: Guess: $83.25 Truth: $112.75 Error: $29.50 SLE: 0.09 Item: Case of 24-2 Inch Blue Painters Tape - 6...\u001b[0m\n",
      "\u001b[92m153: Guess: $114.58 Truth: $142.43 Error: $27.85 SLE: 0.05 Item: MOCA Engine Water Pump & Fan Clutch fit ...\u001b[0m\n",
      "\u001b[93m154: Guess: $306.36 Truth: $398.99 Error: $92.63 SLE: 0.07 Item: SAREMAS Foot Step Bars for Hyundai Palis...\u001b[0m\n",
      "\u001b[93m155: Guess: $614.55 Truth: $449.00 Error: $165.55 SLE: 0.10 Item: Gretsch G9210 Square Neck Boxcar Mahogan...\u001b[0m\n",
      "\u001b[92m156: Guess: $204.92 Truth: $189.00 Error: $15.92 SLE: 0.01 Item: NikoMaku Mirror Dash Cam Front and Rear ...\u001b[0m\n",
      "\u001b[92m157: Guess: $117.40 Truth: $120.91 Error: $3.51 SLE: 0.00 Item: Fenix HP25R v2.0 USB-C Rechargeable Head...\u001b[0m\n",
      "\u001b[92m158: Guess: $191.69 Truth: $203.53 Error: $11.84 SLE: 0.00 Item: R&L Racing Heavy Duty Roll-Up Soft Tonne...\u001b[0m\n",
      "\u001b[92m159: Guess: $363.87 Truth: $349.99 Error: $13.88 SLE: 0.00 Item: Garmin 010-02258-10 GPSMAP 64sx, Handhel...\u001b[0m\n",
      "\u001b[92m160: Guess: $29.35 Truth: $34.35 Error: $5.00 SLE: 0.02 Item: Brown 5-7/8\" X 8-1/2\" X 3/16\" Thick Heav...\u001b[0m\n",
      "\u001b[92m161: Guess: $351.14 Truth: $384.99 Error: $33.85 SLE: 0.01 Item: GAOMON PD2200 Pen Display & 20 Pen Nibs ...\u001b[0m\n",
      "\u001b[92m162: Guess: $247.07 Truth: $211.00 Error: $36.07 SLE: 0.02 Item: VXMOTOR for 97-03 Ford F150/F250 Lightdu...\u001b[0m\n",
      "\u001b[91m163: Guess: $211.17 Truth: $129.00 Error: $82.17 SLE: 0.24 Item: HP EliteBook 2540p Intel Core i7-640LM X...\u001b[0m\n",
      "\u001b[93m164: Guess: $33.65 Truth: $111.45 Error: $77.80 SLE: 1.39 Item: Green EPX Mixing Nozzles 100-Pack-fits 3...\u001b[0m\n",
      "\u001b[92m165: Guess: $50.06 Truth: $81.12 Error: $31.06 SLE: 0.23 Item: Box Partners 6 1/4 x 3 1/8\" 13 Pt. Manil...\u001b[0m\n",
      "\u001b[92m166: Guess: $441.72 Truth: $457.08 Error: $15.36 SLE: 0.00 Item: Vixen Air 1/2\" NPT Air Ride Suspension H...\u001b[0m\n",
      "\u001b[92m167: Guess: $79.73 Truth: $49.49 Error: $30.24 SLE: 0.22 Item: Smart Floor Lamp, 2700-6500K+RGBPink Mul...\u001b[0m\n",
      "\u001b[93m168: Guess: $123.78 Truth: $80.56 Error: $43.22 SLE: 0.18 Item: SOZG 324mm Wheelbase Body Shell RC Car B...\u001b[0m\n",
      "\u001b[92m169: Guess: $329.00 Truth: $278.39 Error: $50.61 SLE: 0.03 Item: Mickey Thompson ET Street S/S Racing Rad...\u001b[0m\n",
      "\u001b[92m170: Guess: $415.85 Truth: $364.50 Error: $51.35 SLE: 0.02 Item: Pirelli 275/40R20 106W XL RFT P0 PZ4-LUX...\u001b[0m\n",
      "\u001b[91m171: Guess: $543.74 Truth: $378.99 Error: $164.75 SLE: 0.13 Item: Torklift C3212 Rear Tie Down\u001b[0m\n",
      "\u001b[92m172: Guess: $200.95 Truth: $165.28 Error: $35.67 SLE: 0.04 Item: Cardone 78-4226 Remanufactured Ford Comp...\u001b[0m\n",
      "\u001b[92m173: Guess: $84.23 Truth: $56.74 Error: $27.49 SLE: 0.15 Item: Kidde AccessPoint 001798 Supra TouchPoin...\u001b[0m\n",
      "\u001b[93m174: Guess: $216.71 Truth: $307.95 Error: $91.24 SLE: 0.12 Item: 3M Protecta 3100414 Self Retracting Life...\u001b[0m\n",
      "\u001b[93m175: Guess: $106.97 Truth: $38.00 Error: $68.97 SLE: 1.04 Item: Plantronics 89435-01 Wired Headset, Blac...\u001b[0m\n",
      "\u001b[92m176: Guess: $90.84 Truth: $53.00 Error: $37.84 SLE: 0.28 Item: Logitech K750 Wireless Solar Keyboard fo...\u001b[0m\n",
      "\u001b[92m177: Guess: $566.72 Truth: $498.00 Error: $68.72 SLE: 0.02 Item: Olympus PEN E-PL9 Body Only with 3-Inch ...\u001b[0m\n",
      "\u001b[93m178: Guess: $125.00 Truth: $53.99 Error: $71.01 SLE: 0.69 Item: Beck/Arnley 051-6066 Hub & Bearing Assem...\u001b[0m\n",
      "\u001b[92m179: Guess: $367.35 Truth: $350.00 Error: $17.35 SLE: 0.00 Item: Eibach Pro-Kit Performance Springs E10-6...\u001b[0m\n",
      "\u001b[92m180: Guess: $325.28 Truth: $299.95 Error: $25.33 SLE: 0.01 Item: LEGO DC Batman 1989 Batwing 76161 Displa...\u001b[0m\n",
      "\u001b[92m181: Guess: $100.84 Truth: $94.93 Error: $5.91 SLE: 0.00 Item: Kingston Brass KS3608PL Restoration 4-In...\u001b[0m\n",
      "\u001b[92m182: Guess: $354.63 Truth: $379.00 Error: $24.37 SLE: 0.00 Item: Polk Vanishing Series 265-LS In-Wall 3-W...\u001b[0m\n",
      "\u001b[92m183: Guess: $260.57 Truth: $299.95 Error: $39.38 SLE: 0.02 Item: Spec-D Tuning LED Projector Headlights G...\u001b[0m\n",
      "\u001b[92m184: Guess: $30.01 Truth: $24.99 Error: $5.02 SLE: 0.03 Item: RICHMOND & FINCH Airpod Pro Case, Green ...\u001b[0m\n",
      "\u001b[91m185: Guess: $146.00 Truth: $41.04 Error: $104.96 SLE: 1.57 Item: LFA Industries 43B-5A-33JT 1/16-1/2-1.5-...\u001b[0m\n",
      "\u001b[92m186: Guess: $266.57 Truth: $327.90 Error: $61.33 SLE: 0.04 Item: SAUTVS LED Headlight Assembly for Slings...\u001b[0m\n",
      "\u001b[92m187: Guess: $33.97 Truth: $10.99 Error: $22.98 SLE: 1.15 Item: 2 Pack Combo Womens Safety Glasses Impac...\u001b[0m\n",
      "\u001b[92m188: Guess: $28.08 Truth: $14.99 Error: $13.09 SLE: 0.36 Item: Arepa - Venezuelan cuisine - Venezuela P...\u001b[0m\n",
      "\u001b[93m189: Guess: $36.95 Truth: $84.95 Error: $48.00 SLE: 0.67 Item: Schlage Lock Company KS23D2300 Padlock, ...\u001b[0m\n",
      "\u001b[92m190: Guess: $113.72 Truth: $111.00 Error: $2.72 SLE: 0.00 Item: Techni Mobili White Sit to Stand Mobile ...\u001b[0m\n",
      "\u001b[92m191: Guess: $161.74 Truth: $123.73 Error: $38.01 SLE: 0.07 Item: Special Lite Products Contemporary Wall ...\u001b[0m\n",
      "\u001b[92m192: Guess: $530.20 Truth: $557.38 Error: $27.18 SLE: 0.00 Item: Tascam DP-24SD 24-Track Digital Portastu...\u001b[0m\n",
      "\u001b[92m193: Guess: $110.95 Truth: $95.55 Error: $15.40 SLE: 0.02 Item: Glow Lighting 636CC10SP Vista Crystal Fl...\u001b[0m\n",
      "\u001b[92m194: Guess: $192.06 Truth: $154.00 Error: $38.06 SLE: 0.05 Item: Z3 Wind Deflector, Smoke Tint, Lexan, Wi...\u001b[0m\n",
      "\u001b[92m195: Guess: $196.65 Truth: $198.99 Error: $2.34 SLE: 0.00 Item: Olympus E-20 5MP Digital Camera w/ 4x Op...\u001b[0m\n",
      "\u001b[91m196: Guess: $243.22 Truth: $430.44 Error: $187.22 SLE: 0.32 Item: PHYNEDI 1:1000 World Trade Center (1973-...\u001b[0m\n",
      "\u001b[92m197: Guess: $35.88 Truth: $45.67 Error: $9.79 SLE: 0.06 Item: YANGHUAN Unstable Unicorns Adventure Car...\u001b[0m\n",
      "\u001b[92m198: Guess: $204.22 Truth: $249.00 Error: $44.78 SLE: 0.04 Item: Interlogix NX-1820E NetworX Touch Screen...\u001b[0m\n",
      "\u001b[92m199: Guess: $55.69 Truth: $42.99 Error: $12.70 SLE: 0.06 Item: Steering Damper,Universal Motorcycle Han...\u001b[0m\n",
      "\u001b[93m200: Guess: $233.08 Truth: $181.33 Error: $51.75 SLE: 0.06 Item: Amprobe TIC 410A Hot Stick Attachment\u001b[0m\n",
      "\u001b[92m201: Guess: $19.53 Truth: $6.03 Error: $13.50 SLE: 1.15 Item: MyCableMart 3.5mm Plug/Jack, 4 Conductor...\u001b[0m\n",
      "\u001b[92m202: Guess: $63.16 Truth: $29.99 Error: $33.17 SLE: 0.53 Item: OtterBox + Pop Symmetry Series Case for ...\u001b[0m\n",
      "\u001b[92m203: Guess: $794.28 Truth: $899.00 Error: $104.72 SLE: 0.02 Item: Dell XPS X8700-1572BLK Desktop ( Intel C...\u001b[0m\n",
      "\u001b[93m204: Guess: $521.54 Truth: $399.99 Error: $121.55 SLE: 0.07 Item: Franklin Iron Works Sperry Industrial Br...\u001b[0m\n",
      "\u001b[92m205: Guess: $19.24 Truth: $4.66 Error: $14.58 SLE: 1.62 Item: Avery Legal Dividers, Standard Collated ...\u001b[0m\n",
      "\u001b[92m206: Guess: $247.39 Truth: $261.41 Error: $14.02 SLE: 0.00 Item: Moen 8346 Commercial Posi-Temp Pressure ...\u001b[0m\n",
      "\u001b[92m207: Guess: $161.32 Truth: $136.97 Error: $24.35 SLE: 0.03 Item: Carlisle Versa Trail ATR All Terrain Rad...\u001b[0m\n",
      "\u001b[92m208: Guess: $103.57 Truth: $79.00 Error: $24.57 SLE: 0.07 Item: SUNWAYFOTO 44mm Tripod Ball Head Arca Co...\u001b[0m\n",
      "\u001b[93m209: Guess: $349.65 Truth: $444.99 Error: $95.34 SLE: 0.06 Item: NanoBeam AC NBE-5AC-Gen2-US 4 Units 5GHz...\u001b[0m\n",
      "\u001b[92m210: Guess: $483.48 Truth: $411.94 Error: $71.54 SLE: 0.03 Item: WULF 4\" Front 2\" Rear Leveling Lift Kit ...\u001b[0m\n",
      "\u001b[93m211: Guess: $205.86 Truth: $148.40 Error: $57.46 SLE: 0.11 Item: Alera ALEVABFMC Valencia Series Mobile B...\u001b[0m\n",
      "\u001b[93m212: Guess: $170.53 Truth: $244.99 Error: $74.46 SLE: 0.13 Item: YU-GI-OH! Ignition Assault Booster Box\u001b[0m\n",
      "\u001b[92m213: Guess: $104.81 Truth: $86.50 Error: $18.31 SLE: 0.04 Item: 48\" x 36\" Extra-Large Framed Magnetic Bl...\u001b[0m\n",
      "\u001b[91m214: Guess: $144.77 Truth: $297.95 Error: $153.18 SLE: 0.52 Item: Dell Latitude D620 Renewed Notebook PC\u001b[0m\n",
      "\u001b[92m215: Guess: $458.63 Truth: $399.99 Error: $58.64 SLE: 0.02 Item: acer Aspire 5 Laptop, AMD Ryzen 3 5300U ...\u001b[0m\n",
      "\u001b[92m216: Guess: $673.20 Truth: $599.00 Error: $74.20 SLE: 0.01 Item: Elk 31080/6RC-GRN 30 by 6-Inch Viva 6-Li...\u001b[0m\n",
      "\u001b[92m217: Guess: $103.44 Truth: $105.99 Error: $2.55 SLE: 0.00 Item: Barbie Top Model Doll\u001b[0m\n",
      "\u001b[92m218: Guess: $561.82 Truth: $689.00 Error: $127.18 SLE: 0.04 Item: Danby Designer 20-In. Electric Range wit...\u001b[0m\n",
      "\u001b[92m219: Guess: $360.29 Truth: $404.99 Error: $44.70 SLE: 0.01 Item: FixtureDisplays® Metal Truss Podium Doub...\u001b[0m\n",
      "\u001b[92m220: Guess: $225.74 Truth: $207.76 Error: $17.98 SLE: 0.01 Item: ACDelco 13597235 GM Original Equipment A...\u001b[0m\n",
      "\u001b[92m221: Guess: $187.26 Truth: $171.82 Error: $15.44 SLE: 0.01 Item: EBC S1KF1135 Stage-1 Premium Street Brak...\u001b[0m\n",
      "\u001b[92m222: Guess: $308.44 Truth: $293.24 Error: $15.20 SLE: 0.00 Item: FXR Men's Boost FX Jacket (Black/Orange/...\u001b[0m\n",
      "\u001b[92m223: Guess: $401.17 Truth: $374.95 Error: $26.22 SLE: 0.00 Item: SuperATV Scratch Resistant 3-in-1 Flip W...\u001b[0m\n",
      "\u001b[92m224: Guess: $129.55 Truth: $111.99 Error: $17.56 SLE: 0.02 Item: SBU 3 Layer All Weather Mini Van Car Cov...\u001b[0m\n",
      "\u001b[92m225: Guess: $61.27 Truth: $42.99 Error: $18.28 SLE: 0.12 Item: 2 Pack Outdoor Brochure Holder Advertisi...\u001b[0m\n",
      "\u001b[92m226: Guess: $135.69 Truth: $116.71 Error: $18.98 SLE: 0.02 Item: Monroe Shocks & Struts Quick-Strut 17158...\u001b[0m\n",
      "\u001b[93m227: Guess: $186.80 Truth: $118.61 Error: $68.19 SLE: 0.20 Item: Elements of Design Magellan EB235AL Thre...\u001b[0m\n",
      "\u001b[92m228: Guess: $154.05 Truth: $147.12 Error: $6.93 SLE: 0.00 Item: GM Genuine Parts 15-62961 Air Conditioni...\u001b[0m\n",
      "\u001b[93m229: Guess: $192.51 Truth: $119.99 Error: $72.52 SLE: 0.22 Item: Baseus 17-in-1 USB C Docking Station to ...\u001b[0m\n",
      "\u001b[93m230: Guess: $484.16 Truth: $369.98 Error: $114.18 SLE: 0.07 Item: Whitehall™ Personalized Whitehall Capito...\u001b[0m\n",
      "\u001b[92m231: Guess: $287.35 Truth: $315.55 Error: $28.20 SLE: 0.01 Item: Pro Circuit Works Pipe PY05250 for 02-19...\u001b[0m\n",
      "\u001b[93m232: Guess: $257.87 Truth: $190.99 Error: $66.88 SLE: 0.09 Item: HYANKA 15 \"1200W Professional DJ Speaker...\u001b[0m\n",
      "\u001b[93m233: Guess: $197.09 Truth: $155.00 Error: $42.09 SLE: 0.06 Item: Bluetooth X6BT Card Reader Writer Encode...\u001b[0m\n",
      "\u001b[92m234: Guess: $373.94 Truth: $349.99 Error: $23.95 SLE: 0.00 Item: AIRAID Cold Air Intake System by K&N: In...\u001b[0m\n",
      "\u001b[92m235: Guess: $291.00 Truth: $249.99 Error: $41.01 SLE: 0.02 Item: Bostingner Shower Faucets Sets Complete,...\u001b[0m\n",
      "\u001b[92m236: Guess: $55.88 Truth: $42.99 Error: $12.89 SLE: 0.07 Item: PIT66 Front Bumper Turn Signal Lights, C...\u001b[0m\n",
      "\u001b[92m237: Guess: $29.48 Truth: $17.99 Error: $11.49 SLE: 0.22 Item: Caseology Bumpy Compatible with Google P...\u001b[0m\n",
      "\u001b[92m238: Guess: $350.82 Truth: $425.00 Error: $74.18 SLE: 0.04 Item: Fleck 2510 Timer Mechanical Filter Contr...\u001b[0m\n",
      "\u001b[92m239: Guess: $288.49 Truth: $249.99 Error: $38.50 SLE: 0.02 Item: Haloview MC7108 Wireless RV Backup Camer...\u001b[0m\n",
      "\u001b[93m240: Guess: $58.98 Truth: $138.23 Error: $79.25 SLE: 0.71 Item: Schmidt Spiele - Manhattan\u001b[0m\n",
      "\u001b[93m241: Guess: $508.23 Truth: $414.99 Error: $93.24 SLE: 0.04 Item: Corsa 14333 Tip Kit (Ford Mustang GT)\u001b[0m\n",
      "\u001b[93m242: Guess: $220.86 Truth: $168.28 Error: $52.58 SLE: 0.07 Item: Hoshizaki FM116A Fan Motor Kit 1\u001b[0m\n",
      "\u001b[93m243: Guess: $243.38 Truth: $199.99 Error: $43.39 SLE: 0.04 Item: BAINUO Antler Chandelier Lighting,6 Ligh...\u001b[0m\n",
      "\u001b[92m244: Guess: $161.34 Truth: $126.70 Error: $34.64 SLE: 0.06 Item: DNA MOTORING HL-OH-FEXP06-SM-AM Smoke Le...\u001b[0m\n",
      "\u001b[92m245: Guess: $21.55 Truth: $5.91 Error: $15.64 SLE: 1.40 Item: Wera Stainless 3840/1 TS 2.5mm Hex Inser...\u001b[0m\n",
      "\u001b[92m246: Guess: $209.70 Truth: $193.06 Error: $16.64 SLE: 0.01 Item: Celestron - PowerSeeker 127EQ Telescope ...\u001b[0m\n",
      "\u001b[93m247: Guess: $194.87 Truth: $249.99 Error: $55.12 SLE: 0.06 Item: NHOPEEW 10.1inch Android Car Radio Carpl...\u001b[0m\n",
      "\u001b[92m248: Guess: $82.76 Truth: $64.12 Error: $18.64 SLE: 0.06 Item: Other Harmonica (Suzuki-2Timer24- A)\u001b[0m\n",
      "\u001b[91m249: Guess: $200.70 Truth: $114.99 Error: $85.71 SLE: 0.31 Item: Harley Air Filter Venturi Intake Air Cle...\u001b[0m\n",
      "\u001b[93m250: Guess: $619.63 Truth: $926.00 Error: $306.37 SLE: 0.16 Item: Elite Screens Edge Free Ambient Light Re...\u001b[0m\n"
     ]
    },
    {
     "data": {
      "image/png": "[encoded data removed]",
      "text/plain": [
       "<Figure size 1200x800 with 1 Axes>"
      ]
     },
     "metadata": {},
     "output_type": "display_data"
    }
   ],
   "source": [
    "# TestRunnerを実行\n",
    "Tester.test(ensemble2_pricer, test)"
   ]
  },
  {
   "cell_type": "markdown",
   "id": "347c5350-d4b5-42ae-96f6-ec94f6ab41d7",
   "metadata": {
    "id": "347c5350-d4b5-42ae-96f6-ec94f6ab41d7"
   },
   "source": [
    "# なんて日だ（笑）\n",
    "\n",
    "フロンティアモデルのRAGパイプライン、Transformerベースのエンコーディングを使用したランダム・フォレスト・モデル、アンサンブル・モデルなど、多くのことができました。\n",
    "\n",
    "確かにあなたはもっとうまくやることができます！これをファインチューニングし、コンポーネントをアンサンブルに追加して、パフォーマンスを打ち負かしてみてください。"
   ]
  }
 ],
 "metadata": {
  "colab": {
   "provenance": []
  },
  "kernelspec": {
   "display_name": "Python 3 (ipykernel)",
   "language": "python",
   "name": "python3"
  },
  "language_info": {
   "codemirror_mode": {
    "name": "ipython",
    "version": 3
   },
   "file_extension": ".py",
   "mimetype": "text/x-python",
   "name": "python",
   "nbconvert_exporter": "python",
   "pygments_lexer": "ipython3",
   "version": "3.12.3"
  }
 },
 "nbformat": 4,
 "nbformat_minor": 5
}
