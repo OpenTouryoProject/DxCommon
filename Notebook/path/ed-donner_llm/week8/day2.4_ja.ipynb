{
 "cells": [
  {
   "cell_type": "markdown",
   "id": "40d49349-faaa-420c-9b65-0bdc9edfabce",
   "metadata": {
    "id": "40d49349-faaa-420c-9b65-0bdc9edfabce"
   },
   "source": [
    "# 価格は適正\n",
    "\n",
    "今日、商品の価格を推定するためのより複雑なソリューションを構築しています。\n",
    "\n",
    "1. Day2.0ノートブック：RAG-DB作成\n",
    "2. Day2.1ノートブック：2Dで視覚化\n",
    "3. Day2.2ノートブック：3Dで視覚化\n",
    "4. Day2.3ノートブック：GPT-4o miniでRAGパイプラインを構築してテスト\n",
    "5. Day2.4ノートブック：(a) ランダムフォレストプライザー (b)アンサンブルプライザーを作成\n",
    "\n",
    "うーん！それは一日で乗り越えるのにたくさんのことです！\n",
    "\n",
    "## ご注意ください：\n",
    "\n",
    "私たちはすでに、独自のファインチューニングされたLLMを使用して非常に強力な製品推定器を持っています。  \n",
    "\n",
    "ほとんどの人はそれに非常に満足するでしょう！これらの追加の手順を追加する主な理由は、RAGとエージェント・ワークフローで専門知識を深めることです。\n",
    "\n",
    "## ランダム・フォレストとアンサンブル学習で仕上"
   ]
  },
  {
   "cell_type": "code",
   "execution_count": 1,
   "id": "fbcdfea8-7241-46d7-a771-c0381a3e7063",
   "metadata": {
    "id": "fbcdfea8-7241-46d7-a771-c0381a3e7063"
   },
   "outputs": [],
   "source": [
    "# import\n",
    "\n",
    "# 基本的な\n",
    "import os\n",
    "import re\n",
    "import math\n",
    "import json\n",
    "import random\n",
    "import pickle\n",
    "import joblib\n",
    "\n",
    "# HF\n",
    "from dotenv import load_dotenv\n",
    "from huggingface_hub import login\n",
    "from datasets import load_dataset\n",
    "\n",
    "# RAG\n",
    "import chromadb\n",
    "from sentence_transformers import SentenceTransformer\n",
    "\n",
    "# LLM\n",
    "from openai import OpenAI\n",
    "\n",
    "# 機械学習\n",
    "import numpy as np\n",
    "import pandas as pd\n",
    "from tqdm import tqdm\n",
    "from sklearn.ensemble import RandomForestRegressor\n",
    "from sklearn.linear_model import LinearRegression\n",
    "from sklearn.metrics import mean_squared_error, r2_score\n",
    "\n",
    "# *.py からの import\n",
    "from items import Item\n",
    "from testing import Tester"
   ]
  },
  {
   "cell_type": "code",
   "execution_count": 2,
   "id": "98666e73-938e-469d-8987-e6e55ba5e034",
   "metadata": {
    "id": "98666e73-938e-469d-8987-e6e55ba5e034"
   },
   "outputs": [],
   "source": [
    "# .envファイルから環境変数をロード\n",
    "\n",
    "load_dotenv(override=True)\n",
    "os.environ['OPENAI_API_KEY'] = os.getenv('OPENAI_API_KEY', 'your-key-if-not-using-env')\n",
    "os.environ['HF_TOKEN'] = os.getenv('HF_TOKEN', 'your-key-if-not-using-env')"
   ]
  },
  {
   "cell_type": "code",
   "execution_count": 3,
   "id": "1006966f-96b7-4e1a-93f0-2bb9a09057c8",
   "metadata": {
    "id": "1006966f-96b7-4e1a-93f0-2bb9a09057c8"
   },
   "outputs": [
    {
     "name": "stderr",
     "output_type": "stream",
     "text": [
      "Token has not been saved to git credential helper.\n",
      "Note: Environment variable`HF_TOKEN` is set and is the current active token independently from the token you've just configured.\n"
     ]
    },
    {
     "name": "stdout",
     "output_type": "stream",
     "text": [
      "\u001b[1m\u001b[31mCannot authenticate through git-credential as no helper is defined on your machine.\n",
      "You might have to re-authenticate when pushing to the Hugging Face Hub.\n",
      "Run the following command in your terminal in case you want to set the 'store' credential helper as default.\n",
      "\n",
      "git config --global credential.helper store\n",
      "\n",
      "Read https://git-scm.com/book/en/v2/Git-Tools-Credential-Storage for more details.\u001b[0m\n"
     ]
    }
   ],
   "source": [
    "# Hugging Faceにログイン\n",
    "\n",
    "hf_token = os.environ['HF_TOKEN']\n",
    "login(hf_token, add_to_git_credential=True)"
   ]
  },
  {
   "cell_type": "code",
   "execution_count": 4,
   "id": "d26a1104-cd11-4361-ab25-85fb576e0582",
   "metadata": {
    "id": "d26a1104-cd11-4361-ab25-85fb576e0582"
   },
   "outputs": [],
   "source": [
    "# VDBのコレクション\n",
    "DB = \"products_vectorstore\"\n",
    "client = chromadb.PersistentClient(path=DB)\n",
    "collection = client.get_or_create_collection('products')"
   ]
  },
  {
   "cell_type": "markdown",
   "id": "55e5b0eb-76dd-42f3-a2b6-ba5d4ae711cd",
   "metadata": {
    "id": "55e5b0eb-76dd-42f3-a2b6-ba5d4ae711cd"
   },
   "source": [
    "以下のコードは性能的に厳しいので改修\n",
    "```python\n",
    "# 埋込ベクトル / メタデータ → 価格\n",
    "result = collection.get(include=['embeddings', 'documents', 'metadatas'])\n",
    "vectors = np.array(result['embeddings'])\n",
    "#documents = result['documents'] # 不要\n",
    "prices = [metadata['price'] for metadata in result['metadatas']]\n",
    "```"
   ]
  },
  {
   "cell_type": "code",
   "execution_count": null,
   "id": "b9c1b3c1-dcf8-43d2-955c-4595be8fadac",
   "metadata": {
    "id": "b9c1b3c1-dcf8-43d2-955c-4595be8fadac"
   },
   "outputs": [],
   "source": [
    "# 以下のようにバッチ分割し、処理時間は15分程度\n",
    "\n",
    "offset = 0\n",
    "batch_size = 10000\n",
    "\n",
    "batch_index = 0\n",
    "temp_dir = \"temp_batches\"\n",
    "\n",
    "# 一時ディレクトリ作成\n",
    "os.makedirs(temp_dir, exist_ok=True)\n",
    "\n",
    "# まず総件数を取得（全件は取らない）\n",
    "total_count = collection.count()\n",
    "\n",
    "# -----------------------------\n",
    "# バッチ単位にファイル出力\n",
    "# -----------------------------\n",
    "with tqdm(total=total_count, desc=\"Loading vectors\") as pbar:\n",
    "    while True:\n",
    "        result = collection.get(\n",
    "            include=['embeddings', 'metadatas'],\n",
    "            limit=batch_size,\n",
    "            offset=offset\n",
    "        )\n",
    "\n",
    "        # データが無ければ終了 # 要素数で終了判定\n",
    "        if len(result['embeddings']) == 0:\n",
    "            break\n",
    "\n",
    "        vectors = np.array(result['embeddings'])\n",
    "        prices = [metadata['price'] for metadata in result['metadatas']]\n",
    "\n",
    "        # バッチごとにファイル保存\n",
    "        np.save(os.path.join(temp_dir, f\"vectors_{batch_index}.npy\"), vectors)\n",
    "        np.savetxt(os.path.join(temp_dir, f\"prices_{batch_index}.txt\"), prices, fmt='%s')\n",
    "\n",
    "        # インクリメント\n",
    "        batch_index += 1\n",
    "        offset += batch_size\n",
    "        # 進捗の更新\n",
    "        pbar.update(len(vectors))"
   ]
  },
  {
   "cell_type": "markdown",
   "id": "bf6492cb-b11a-4ad5-859b-a71a78ffb949",
   "metadata": {
    "id": "bf6492cb-b11a-4ad5-859b-a71a78ffb949"
   },
   "source": [
    "# ランダム・フォレスト\n",
    "\n",
    "これで、ランダム・フォレストのモデルを訓練します。第6週との違いを見つけることができますか？\n",
    "\n",
    "第6週には、Word2Vecでベクトル化しましたが、今回は、Chromaに格納したSentencetransformerでベクトル化したデータ使用します。"
   ]
  },
  {
   "cell_type": "markdown",
   "id": "6Jcqj9KKuiBA",
   "metadata": {
    "id": "6Jcqj9KKuiBA"
   },
   "source": [
    "M1 Macで1時間と言うが、ローカルで完了しない（未検証だが、オプションを弄ってみるのも良いかも）。\n",
    "\n",
    "```python\n",
    "rf_model = RandomForestRegressor(n_estimators=100, random_state=42, n_jobs=-1)\n",
    "rf_model.fit(vectors, prices)\n",
    "\n",
    "# rf_modelのテストは、agents.random_forest_agentのテストとして行う。\n",
    "\n",
    "# agents.random_forest_agentにファイルI/Fで学習済みモデルを渡す\n",
    "joblib.dump(rf_model, 'random_forest_model.pkl')\n",
    "```"
   ]
  },
  {
   "cell_type": "markdown",
   "id": "2_sTqTSf2-PQ",
   "metadata": {
    "id": "2_sTqTSf2-PQ"
   },
   "source": [
    "...ローカルで完了しないので、バッチごと追加学習可能な LightGBM に置き換え、Google Colabで実行する事にした。"
   ]
  },
  {
   "cell_type": "code",
   "execution_count": null,
   "id": "lBUiVW4jvAYP",
   "metadata": {
    "executionInfo": {
     "elapsed": 28,
     "status": "ok",
     "timestamp": 1755180266314,
     "user": {
      "displayName": "nishi74322014",
      "userId": "01757379033152841336"
     },
     "user_tz": -540
    },
    "id": "lBUiVW4jvAYP"
   },
   "outputs": [],
   "source": [
    "# import\n",
    "\n",
    "import os\n",
    "import random\n",
    "import joblib\n",
    "import numpy as np"
   ]
  },
  {
   "cell_type": "code",
   "execution_count": null,
   "id": "3c1b122b-a898-4060-a80c-1bdbfc394271",
   "metadata": {
    "colab": {
     "base_uri": "https://localhost:8080/"
    },
    "executionInfo": {
     "elapsed": 17805,
     "status": "ok",
     "timestamp": 1755180284920,
     "user": {
      "displayName": "nishi74322014",
      "userId": "01757379033152841336"
     },
     "user_tz": -540
    },
    "id": "3c1b122b-a898-4060-a80c-1bdbfc394271",
    "outputId": "fd2753d5-f1f5-42ac-a003-e3b23bf54445"
   },
   "outputs": [],
   "source": [
    "# Googleドライブをマウントして、トレーニング成果物を保存\n",
    "from google.colab import drive\n",
    "drive.mount('/content/drive')"
   ]
  },
  {
   "cell_type": "code",
   "execution_count": null,
   "id": "WrsNq3XkvAmj",
   "metadata": {
    "colab": {
     "base_uri": "https://localhost:8080/"
    },
    "executionInfo": {
     "elapsed": 5556988,
     "status": "ok",
     "timestamp": 1755185844574,
     "user": {
      "displayName": "nishi74322014",
      "userId": "01757379033152841336"
     },
     "user_tz": -540
    },
    "id": "WrsNq3XkvAmj",
    "outputId": "c5209ef3-caa9-4785-a416-e679403d2451"
   },
   "outputs": [],
   "source": [
    "# Google Colabで1.5時間ぐらいで完了（LightGBMが高性能なのかparamsが効いているのか未検証）\n",
    "import lightgbm as lgb\n",
    "from datetime import datetime\n",
    "\n",
    "# 必要に応じ設定し直す（再起動時\n",
    "batch_index = 39\n",
    "temp_dir = \"/content/drive/MyDrive/temp_batches\"\n",
    "\n",
    "# データのログ出力用\n",
    "def print_limited(value, length=50):\n",
    "    s = str(value)  # 文字列化\n",
    "    if len(s) > length: # 指定長さ-3分だけ切って \"...\" を追加\n",
    "        s = s[:length - 3] + \"...\"\n",
    "    print(s)\n",
    "\n",
    "# ファイルを読み込みながら返すジェネレータ\n",
    "def iter_minibatches(batch_index, temp_dir):\n",
    "    for i in range(batch_index):\n",
    "        # 説明変数の読み込み\n",
    "        Xb = np.load(os.path.join(temp_dir, f\"vectors_{i}.npy\")).astype(np.float32)\n",
    "        # 目的変数の読み込み\n",
    "        yb = np.loadtxt(os.path.join(temp_dir, f\"prices_{i}.txt\"), dtype=np.float32)\n",
    "        # ログ出力\n",
    "        print(f\"batch_index = {i} のデータロード\")\n",
    "        print_limited(Xb[0]) # データの確認\n",
    "        # XYを変えす\n",
    "        yield Xb, yb\n",
    "\n",
    "params = {\n",
    "    \"objective\": \"regression\",     # 回帰問題\n",
    "    \"metric\": \"rmse\",              # 評価指標\n",
    "    \"learning_rate\": 0.02,         # 学習率\n",
    "    \"num_leaves\": 128,             # 木の複雑さA\n",
    "    \"max_depth\": 15,               # 木の複雑さB\n",
    "    \"feature_fraction\": 0.9,       # 列方向サンプリング\n",
    "    \"bagging_fraction\": 0.9,       # 行方向サンプリング\n",
    "    \"bagging_freq\": 1,             # バギング実行頻度\n",
    "    \"verbosity\": -1,               # ログ出力しない\n",
    "}\n",
    "\n",
    "counter=0\n",
    "booster = None\n",
    "# -----------------------------\n",
    "# バッチ単位に追加学習\n",
    "# -----------------------------\n",
    "for Xb, yb in iter_minibatches(batch_index, temp_dir):\n",
    "    train_set = lgb.Dataset(Xb, label=yb, free_raw_data=True)\n",
    "    booster = lgb.train(params, train_set,\n",
    "        num_boost_round=500,          # バッチごとに追加する木の本数\n",
    "        init_model=booster,           # 直前までのモデルを継続\n",
    "        keep_training_booster=True    # 木を追加して継続学習\n",
    "    )\n",
    "    counter+=1\n",
    "    print(f\"{counter} 回終了\" + datetime.now().strftime(\"%Y-%m-%d %H:%M:%S\"))"
   ]
  },
  {
   "cell_type": "code",
   "execution_count": null,
   "id": "uwmUunrxwm8q",
   "metadata": {
    "colab": {
     "base_uri": "https://localhost:8080/"
    },
    "executionInfo": {
     "elapsed": 13575,
     "status": "ok",
     "timestamp": 1755185858145,
     "user": {
      "displayName": "nishi74322014",
      "userId": "01757379033152841336"
     },
     "user_tz": -540
    },
    "id": "uwmUunrxwm8q",
    "outputId": "10c20b5e-4d73-4587-ecc8-d0de5dda04d9"
   },
   "outputs": [],
   "source": [
    "# agents.lightgbm_agentにファイルI/Fで学習済みモデルを渡す\n",
    "joblib.dump(booster, '/content/drive/MyDrive/'+'lightgbm_model.pkl')"
   ]
  },
  {
   "cell_type": "code",
   "execution_count": null,
   "id": "odt4d1p4vApV",
   "metadata": {
    "colab": {
     "base_uri": "https://localhost:8080/"
    },
    "executionInfo": {
     "elapsed": 311,
     "status": "ok",
     "timestamp": 1755185858440,
     "user": {
      "displayName": "nishi74322014",
      "userId": "01757379033152841336"
     },
     "user_tz": -540
    },
    "id": "odt4d1p4vApV",
    "outputId": "a2a43ddc-a964-4c1b-8b9f-7c2a5f5b0271"
   },
   "outputs": [],
   "source": [
    "# 予測（自分で書いたので一応テスト）\n",
    "batch_vectors = np.load(os.path.join(temp_dir, f\"vectors_0.npy\"))\n",
    "y_pred = booster.predict([batch_vectors[0].astype(np.float32)])[0]\n",
    "y_pred"
   ]
  },
  {
   "cell_type": "markdown",
   "id": "dfd5f48d-8814-4c13-bc93-41cc2674d20d",
   "metadata": {
    "id": "dfd5f48d-8814-4c13-bc93-41cc2674d20d"
   },
   "source": [
    "# アンサンブル・モデル\n",
    "\n",
    "3つのモデルの推定結果を使用して線形回帰モデルでアンサンブル学習する的な"
   ]
  },
  {
   "cell_type": "markdown",
   "id": "41e3c7a1-06fe-449a-ba29-cbce09c2717f",
   "metadata": {
    "id": "41e3c7a1-06fe-449a-ba29-cbce09c2717f"
   },
   "source": [
    "## アンサンブル学習の準備"
   ]
  },
  {
   "cell_type": "code",
   "execution_count": 5,
   "id": "5d438dec-8e5b-4e60-bb6f-c3f82e522dd9",
   "metadata": {
    "id": "5d438dec-8e5b-4e60-bb6f-c3f82e522dd9"
   },
   "outputs": [],
   "source": [
    "# `./agents/xxxx_agent.py`\n",
    "# ファインチューニングされたLLMを実行するエージェント（Modal上）\n",
    "from agents.specialist_agent import SpecialistAgent\n",
    "# Frontier LLM ＋ RAG のエージェント\n",
    "from agents.frontier_agent import FrontierAgent\n",
    "# ランダム・フォレスト・モデルのエージェント\n",
    "#from agents.random_forest_agent import RandomForestAgent\n",
    "# LightGBMのエージェント\n",
    "from agents.lightgbm_agent import LightGBMAgent"
   ]
  },
  {
   "cell_type": "code",
   "execution_count": 6,
   "id": "afc39369-b97b-4a90-b17e-b20ef501d3c9",
   "metadata": {
    "id": "afc39369-b97b-4a90-b17e-b20ef501d3c9"
   },
   "outputs": [],
   "source": [
    "# 各エージェントの初期化\n",
    "specialist = SpecialistAgent()\n",
    "frontier = FrontierAgent(collection)\n",
    "#random_forest = RandomForestAgent()\n",
    "lightgbm = LightGBMAgent()"
   ]
  },
  {
   "cell_type": "code",
   "execution_count": 7,
   "id": "8e2d0d0a-8bb8-4b39-b046-322828c39244",
   "metadata": {
    "id": "8e2d0d0a-8bb8-4b39-b046-322828c39244"
   },
   "outputs": [],
   "source": [
    "# プロンプトから「商品の説明文」だけを抽出\n",
    "# ・冒頭の定型文を削除\n",
    "# ・末端の価格行を削除\n",
    "def description(item):\n",
    "    return item.prompt.split(\"to the nearest dollar?\\n\\n\")[1].split(\"\\n\\nPrice is $\")[0]"
   ]
  },
  {
   "cell_type": "code",
   "execution_count": 8,
   "id": "bfe0434f-b29e-4cc0-bad9-b07624665727",
   "metadata": {
    "id": "bfe0434f-b29e-4cc0-bad9-b07624665727"
   },
   "outputs": [],
   "source": [
    "# 埋め込みベクトルからランダム・フォレスト・モデルのエージェントが推定した値を返す\n",
    "#def rf(item):\n",
    "#    return random_forest.price(description(item))\n",
    "\n",
    "# 埋め込みベクトルからLightGBMのエージェントが推定した値を返す\n",
    "def booster(item):\n",
    "    return lightgbm.price(description(item))"
   ]
  },
  {
   "cell_type": "code",
   "execution_count": 9,
   "id": "dc696493-0b6f-48aa-9fa8-b1ae0ecaf3cd",
   "metadata": {
    "id": "dc696493-0b6f-48aa-9fa8-b1ae0ecaf3cd"
   },
   "outputs": [],
   "source": [
    "# test.pklファイルをロード ... 取得手順は、`day2.0_ja.ipynb` を参照の事。\n",
    "\n",
    "with open('test.pkl', 'rb') as file:\n",
    "    test = pickle.load(file)"
   ]
  },
  {
   "cell_type": "code",
   "execution_count": 10,
   "id": "cdf233ec-264f-4b34-9f2b-27c39692137b",
   "metadata": {
    "id": "cdf233ec-264f-4b34-9f2b-27c39692137b"
   },
   "outputs": [
    {
     "name": "stdout",
     "output_type": "stream",
     "text": [
      "\u001b[93m1: Guess: $278.85 Truth: $374.41 Error: $95.56 SLE: 0.09 Item: OEM AC Compressor w/A/C Repair Kit For F...\u001b[0m\n",
      "\u001b[92m2: Guess: $253.53 Truth: $225.11 Error: $28.42 SLE: 0.01 Item: Motorcraft YB3125 Fan Clutch\u001b[0m\n",
      "\u001b[92m3: Guess: $22.91 Truth: $61.68 Error: $38.77 SLE: 0.93 Item: Dorman 603-159 Front Washer Fluid Reserv...\u001b[0m\n",
      "\u001b[92m4: Guess: $501.63 Truth: $599.99 Error: $98.36 SLE: 0.03 Item: HP Premium 17.3-inch HD Plus Touchscreen...\u001b[0m\n",
      "\u001b[92m5: Guess: $47.54 Truth: $16.99 Error: $30.55 SLE: 0.99 Item: 5-Position Super Switch Pickup Selector ...\u001b[0m\n",
      "\u001b[92m6: Guess: $49.73 Truth: $31.99 Error: $17.74 SLE: 0.19 Item: Horror Bookmarks, Resin Horror Bookmarks...\u001b[0m\n",
      "\u001b[91m7: Guess: $244.89 Truth: $101.79 Error: $143.10 SLE: 0.76 Item: SK6241 - Stinger 4 Gauge 6000 Series Pow...\u001b[0m\n",
      "\u001b[93m8: Guess: $395.10 Truth: $289.00 Error: $106.10 SLE: 0.10 Item: Godox ML60Bi LED Light Kit, Handheld LED...\u001b[0m\n",
      "\u001b[91m9: Guess: $303.44 Truth: $635.86 Error: $332.42 SLE: 0.54 Item: Randall RG75DG3PLUS G3 Plus 100-Watt Com...\u001b[0m\n",
      "\u001b[91m10: Guess: $204.76 Truth: $65.99 Error: $138.77 SLE: 1.26 Item: HOLDWILL 6 Pack LED Shop Light, 4FT 24W ...\u001b[0m\n",
      "\u001b[91m11: Guess: $83.30 Truth: $254.21 Error: $170.91 SLE: 1.23 Item: Viking Horns V103C/1005ATK 3 Gallon Air ...\u001b[0m\n",
      "\u001b[92m12: Guess: $408.87 Truth: $412.99 Error: $4.12 SLE: 0.00 Item: CURT 70110 Custom Tow Bar Base Plate Bra...\u001b[0m\n",
      "\u001b[91m13: Guess: $87.95 Truth: $205.50 Error: $117.55 SLE: 0.71 Item: 10-Pack Solar HAMMERED BRONZE Finish Pos...\u001b[0m\n",
      "\u001b[92m14: Guess: $263.81 Truth: $248.23 Error: $15.58 SLE: 0.00 Item: COSTWAY Electric Tumble Dryer, Sliver\u001b[0m\n",
      "\u001b[92m15: Guess: $467.31 Truth: $399.00 Error: $68.31 SLE: 0.02 Item: FREE SIGNAL TV Transit 32\" 12 Volt DC Po...\u001b[0m\n",
      "\u001b[92m16: Guess: $378.31 Truth: $373.94 Error: $4.37 SLE: 0.00 Item: Bilstein 5100 Monotube Gas Shock Set com...\u001b[0m\n",
      "\u001b[91m17: Guess: $377.77 Truth: $92.89 Error: $284.88 SLE: 1.95 Item: Sangean K-200 Multi-Function Upright AM/...\u001b[0m\n",
      "\u001b[91m18: Guess: $153.76 Truth: $51.99 Error: $101.77 SLE: 1.15 Item: Charles Leonard Magnetic Lapboard Class ...\u001b[0m\n",
      "\u001b[91m19: Guess: $523.00 Truth: $179.00 Error: $344.00 SLE: 1.14 Item: Gigabyte AMD Radeon HD 7870 2 GB GDDR5 D...\u001b[0m\n",
      "\u001b[92m20: Guess: $23.73 Truth: $19.42 Error: $4.31 SLE: 0.04 Item: 3dRose LLC 8 x 8 x 0.25 Inches Bull Terr...\u001b[0m\n",
      "\u001b[93m21: Guess: $720.14 Truth: $539.95 Error: $180.19 SLE: 0.08 Item: ROKINON 85mm F1.4 Auto Focus Full Frame ...\u001b[0m\n",
      "\u001b[91m22: Guess: $240.26 Truth: $147.67 Error: $92.59 SLE: 0.23 Item: AUTOSAVER88 Headlight Assembly Compatibl...\u001b[0m\n",
      "\u001b[93m23: Guess: $70.70 Truth: $24.99 Error: $45.71 SLE: 1.03 Item: ASI NAUTICAL 2.5 Inches Opera Glasses Bi...\u001b[0m\n",
      "\u001b[91m24: Guess: $293.03 Truth: $149.00 Error: $144.03 SLE: 0.45 Item: Behringer TUBE OVERDRIVE TO100 Authentic...\u001b[0m\n",
      "\u001b[92m25: Guess: $34.81 Truth: $16.99 Error: $17.82 SLE: 0.47 Item: Fun Express Insect Finger Puppets - 24 f...\u001b[0m\n",
      "\u001b[91m26: Guess: $116.94 Truth: $7.99 Error: $108.95 SLE: 6.63 Item: WAFJAMF Roller Stamp Identity Theft Stam...\u001b[0m\n",
      "\u001b[93m27: Guess: $120.60 Truth: $199.99 Error: $79.39 SLE: 0.25 Item: Capulina Tiffany Floor Lamp 2-Light 16\" ...\u001b[0m\n",
      "\u001b[93m28: Guess: $338.16 Truth: $251.45 Error: $86.71 SLE: 0.09 Item: Apple Watch Series 6 (GPS, 44mm) - Space...\u001b[0m\n",
      "\u001b[93m29: Guess: $314.04 Truth: $231.62 Error: $82.42 SLE: 0.09 Item: ICON 01725 Tandem Axle Fender Skirt FS17...\u001b[0m\n",
      "\u001b[92m30: Guess: $162.99 Truth: $135.00 Error: $27.99 SLE: 0.04 Item: SanDisk 128GB Ultra (10 Pack) MicroSD Cl...\u001b[0m\n",
      "\u001b[92m31: Guess: $357.18 Truth: $356.62 Error: $0.56 SLE: 0.00 Item: Velvac 2020,L,C/Hr,W,E2003,102\",Bk - 715...\u001b[0m\n",
      "\u001b[92m32: Guess: $296.80 Truth: $257.99 Error: $38.81 SLE: 0.02 Item: TCMT Passenger Backrest Sissy Bar & Lugg...\u001b[0m\n",
      "\u001b[91m33: Guess: $329.49 Truth: $27.99 Error: $301.50 SLE: 5.92 Item: Alnicov 63.5MM Brass Tremolo Block，Tremo...\u001b[0m\n",
      "\u001b[91m34: Guess: $323.91 Truth: $171.20 Error: $152.71 SLE: 0.40 Item: Subaru Forester Outback Legacy OEM Engin...\u001b[0m\n",
      "\u001b[91m35: Guess: $75.27 Truth: $225.00 Error: $149.73 SLE: 1.18 Item: Richmond Auto Upholstery - 2012 Dodge Ra...\u001b[0m\n",
      "\u001b[92m36: Guess: $95.17 Truth: $105.00 Error: $9.83 SLE: 0.01 Item: AP-39 Automotive Paint Primer Grey 2K Ur...\u001b[0m\n",
      "\u001b[91m37: Guess: $161.82 Truth: $299.99 Error: $138.17 SLE: 0.38 Item: Road Top Wireless Carplay Retrofit Kit D...\u001b[0m\n",
      "\u001b[93m38: Guess: $654.40 Truth: $535.09 Error: $119.31 SLE: 0.04 Item: Gibson Performance Exhaust 5658 Aluminiz...\u001b[0m\n",
      "\u001b[93m39: Guess: $76.11 Truth: $12.33 Error: $63.78 SLE: 3.08 Item: Bella Tunno Happy Links - Baby Montessor...\u001b[0m\n",
      "\u001b[93m40: Guess: $135.36 Truth: $84.99 Error: $50.37 SLE: 0.21 Item: CANMORE H300 Handheld GPS Golf Device, S...\u001b[0m\n",
      "\u001b[92m41: Guess: $0.00 Truth: $15.99 Error: $15.99 SLE: 8.02 Item: DCPOWER AC Adapter Compatible Replacemen...\u001b[0m\n",
      "\u001b[93m42: Guess: $0.00 Truth: $62.44 Error: $62.44 SLE: 17.22 Item: Sharp, VX2128V, Commercial Desktop Calcu...\u001b[0m\n",
      "\u001b[91m43: Guess: $165.03 Truth: $82.99 Error: $82.04 SLE: 0.46 Item: Melissa & Doug Lifelike Plush Stork Gian...\u001b[0m\n",
      "\u001b[91m44: Guess: $255.21 Truth: $599.95 Error: $344.74 SLE: 0.73 Item: Sony SSCS8 2-Way 3-Driver Center Channel...\u001b[0m\n",
      "\u001b[92m45: Guess: $199.13 Truth: $194.99 Error: $4.14 SLE: 0.00 Item: ASUS Chromebook CX1, 14\" Full HD NanoEdg...\u001b[0m\n",
      "\u001b[93m46: Guess: $419.75 Truth: $344.95 Error: $74.80 SLE: 0.04 Item: FiiO X7 32GB Hi-Res Lossless Music Playe...\u001b[0m\n",
      "\u001b[92m47: Guess: $0.00 Truth: $37.99 Error: $37.99 SLE: 13.42 Item: TORRO Leather Case Compatible with iPhon...\u001b[0m\n",
      "\u001b[91m48: Guess: $373.13 Truth: $224.35 Error: $148.78 SLE: 0.26 Item: Universal Air Conditioner KT 1031 A/C Co...\u001b[0m\n",
      "\u001b[92m49: Guess: $937.49 Truth: $814.00 Error: $123.49 SLE: 0.02 Item: Street Series Stainless Performance Cat-...\u001b[0m\n",
      "\u001b[92m50: Guess: $403.48 Truth: $439.88 Error: $36.40 SLE: 0.01 Item: Lenovo IdeaPad 3 14-inch Laptop, 14.0-in...\u001b[0m\n",
      "\u001b[93m51: Guess: $266.84 Truth: $341.43 Error: $74.59 SLE: 0.06 Item: Access Bed Covers TonnoSport 22050219 - ...\u001b[0m\n",
      "\u001b[93m52: Guess: $0.00 Truth: $46.78 Error: $46.78 SLE: 14.95 Item: G.I. JOE Hasbro 3 3/4\" Wave 5 Action Fig...\u001b[0m\n",
      "\u001b[93m53: Guess: $121.11 Truth: $171.44 Error: $50.33 SLE: 0.12 Item: T&S Brass B-0232-BST Double Pantry Fauce...\u001b[0m\n",
      "\u001b[91m54: Guess: $228.43 Truth: $458.00 Error: $229.57 SLE: 0.48 Item: ZTUOAUMA Fuel Injection Pump 3090942 309...\u001b[0m\n",
      "\u001b[92m55: Guess: $155.07 Truth: $130.75 Error: $24.32 SLE: 0.03 Item: 2AP18AA#ABA Hp Prime Graphing Calculator...\u001b[0m\n",
      "\u001b[91m56: Guess: $227.00 Truth: $83.81 Error: $143.19 SLE: 0.98 Item: Lowrance 000-0119-83 Nmea 2000 25' Exten...\u001b[0m\n",
      "\u001b[91m57: Guess: $145.80 Truth: $386.39 Error: $240.59 SLE: 0.94 Item: Jeep Genuine Accessories 82213051 Hood L...\u001b[0m\n",
      "\u001b[92m58: Guess: $152.33 Truth: $169.00 Error: $16.67 SLE: 0.01 Item: GODOX CB-06 Hard Carrying Case with Whee...\u001b[0m\n",
      "\u001b[92m59: Guess: $56.71 Truth: $17.95 Error: $38.76 SLE: 1.24 Item: Au-Tomotive Gold, INC. Ford Black Valet ...\u001b[0m\n",
      "\u001b[93m60: Guess: $179.02 Truth: $269.00 Error: $89.98 SLE: 0.16 Item: Snailfly Black Roof Rack Rail + Cross Ba...\u001b[0m\n",
      "\u001b[91m61: Guess: $214.90 Truth: $77.77 Error: $137.13 SLE: 1.02 Item: KING SHA Anti Glare LED Track Lighting H...\u001b[0m\n",
      "\u001b[93m62: Guess: $153.60 Truth: $88.99 Error: $64.61 SLE: 0.29 Item: APS Compatible with Chevy Silverado 1500...\u001b[0m\n",
      "\u001b[92m63: Guess: $410.09 Truth: $364.41 Error: $45.68 SLE: 0.01 Item: Wilwood Engineering 14011291R Brake Cali...\u001b[0m\n",
      "\u001b[92m64: Guess: $162.61 Truth: $127.03 Error: $35.58 SLE: 0.06 Item: ACDelco Gold 336-1925A Starter, Remanufa...\u001b[0m\n",
      "\u001b[92m65: Guess: $734.96 Truth: $778.95 Error: $43.99 SLE: 0.00 Item: UWS EC10783 69-Inch Matte Black Heavy-Wa...\u001b[0m\n",
      "\u001b[91m66: Guess: $40.62 Truth: $206.66 Error: $166.04 SLE: 2.58 Item: Dell Latitude E5440 14in Business Laptop...\u001b[0m\n",
      "\u001b[91m67: Guess: $145.48 Truth: $35.94 Error: $109.54 SLE: 1.90 Item: (Plug and Play) Spare Tire Brake Light W...\u001b[0m\n",
      "\u001b[91m68: Guess: $451.73 Truth: $149.00 Error: $302.73 SLE: 1.22 Item: The Ultimate Roadside Rescue Assistant\u001b[0m\n",
      "\u001b[93m69: Guess: $348.58 Truth: $251.98 Error: $96.60 SLE: 0.10 Item: Brand New 18\" x 8.5\" Replacement Wheel f...\u001b[0m\n",
      "\u001b[91m70: Guess: $359.70 Truth: $160.00 Error: $199.70 SLE: 0.65 Item: Headlight Headlamp LH Left & RH Right Pa...\u001b[0m\n",
      "\u001b[92m71: Guess: $0.00 Truth: $39.99 Error: $39.99 SLE: 13.79 Item: Lilo And Stitch Deluxe Oversize Print La...\u001b[0m\n",
      "\u001b[92m72: Guess: $308.80 Truth: $362.41 Error: $53.61 SLE: 0.03 Item: AC Compressor & A/C Clutch For Hyundai A...\u001b[0m\n",
      "\u001b[92m73: Guess: $285.65 Truth: $344.00 Error: $58.35 SLE: 0.03 Item: House Of Troy PIN475-AB Pinnacle Collect...\u001b[0m\n",
      "\u001b[92m74: Guess: $44.70 Truth: $25.09 Error: $19.61 SLE: 0.31 Item: Juno T29 WH Floating Electrical Feed Sin...\u001b[0m\n",
      "\u001b[93m75: Guess: $121.61 Truth: $175.95 Error: $54.34 SLE: 0.13 Item: Sherman GO-PARTS - for 2013-2016 Toyota ...\u001b[0m\n",
      "\u001b[91m76: Guess: $476.39 Truth: $132.64 Error: $343.75 SLE: 1.62 Item: Roland RPU-3 Electronic Keyboard Pedal o...\u001b[0m\n",
      "\u001b[93m77: Guess: $254.56 Truth: $422.99 Error: $168.43 SLE: 0.26 Item: Rockland VMI14 12,000 Pound 12 Volt DC E...\u001b[0m\n",
      "\u001b[92m78: Guess: $149.13 Truth: $146.48 Error: $2.65 SLE: 0.00 Item: Max Advanced Brakes Elite XDS Front Cros...\u001b[0m\n",
      "\u001b[93m79: Guess: $203.27 Truth: $156.83 Error: $46.44 SLE: 0.07 Item: Quality-Built 11030 Premium Quality Alte...\u001b[0m\n",
      "\u001b[92m80: Guess: $270.95 Truth: $251.99 Error: $18.96 SLE: 0.01 Item: Lucida LG-510 Student Classical Guitar, ...\u001b[0m\n",
      "\u001b[91m81: Guess: $265.38 Truth: $940.33 Error: $674.95 SLE: 1.59 Item: Longacre 52-79800 Aluminum Turn Plates\u001b[0m\n",
      "\u001b[93m82: Guess: $0.00 Truth: $52.99 Error: $52.99 SLE: 15.91 Item: Motion Pro 08-0380 Adjustable Torque Wre...\u001b[0m\n",
      "\u001b[91m83: Guess: $0.55 Truth: $219.95 Error: $219.40 SLE: 24.61 Item: Glyph Thunderbolt 3 NVMe Dock (0 GB)\u001b[0m\n",
      "\u001b[92m84: Guess: $416.38 Truth: $441.03 Error: $24.65 SLE: 0.00 Item: TOYO Open Country MT Performance Radial ...\u001b[0m\n",
      "\u001b[92m85: Guess: $134.28 Truth: $168.98 Error: $34.70 SLE: 0.05 Item: Razer Seiren X USB Streaming Microphone ...\u001b[0m\n",
      "\u001b[93m86: Guess: $60.61 Truth: $2.49 Error: $58.12 SLE: 8.24 Item: Happy Birthday to Dad From Your Daughter...\u001b[0m\n",
      "\u001b[91m87: Guess: $270.60 Truth: $98.62 Error: $171.98 SLE: 1.01 Item: Little Tikes My Real Jam First Concert S...\u001b[0m\n",
      "\u001b[91m88: Guess: $94.77 Truth: $256.95 Error: $162.18 SLE: 0.98 Item: Studio M Peace and Harmony Art Pole Comm...\u001b[0m\n",
      "\u001b[93m89: Guess: $95.34 Truth: $30.99 Error: $64.35 SLE: 1.22 Item: MyVolts 12V Power Supply Adaptor Compati...\u001b[0m\n",
      "\u001b[93m90: Guess: $443.58 Truth: $569.84 Error: $126.26 SLE: 0.06 Item: Dell Latitude 7212 Rugged Extreme Tablet...\u001b[0m\n",
      "\u001b[91m91: Guess: $31.83 Truth: $177.99 Error: $146.16 SLE: 2.88 Item: Covermates Contour Fit Car Cover - Light...\u001b[0m\n",
      "\u001b[92m92: Guess: $811.62 Truth: $997.99 Error: $186.37 SLE: 0.04 Item: Westin 57-4025 Black HDX Grille Guard fi...\u001b[0m\n",
      "\u001b[93m93: Guess: $153.23 Truth: $219.00 Error: $65.77 SLE: 0.13 Item: Fieldpiece JL2 Job Link Wireless App Tra...\u001b[0m\n",
      "\u001b[91m94: Guess: $89.23 Truth: $225.55 Error: $136.32 SLE: 0.85 Item: hansgrohe Talis S Modern Premium Easy Cl...\u001b[0m\n",
      "\u001b[93m95: Guess: $370.56 Truth: $495.95 Error: $125.39 SLE: 0.08 Item: G-Technology G-SPEED eS PRO High-Perform...\u001b[0m\n",
      "\u001b[92m96: Guess: $923.15 Truth: $942.37 Error: $19.22 SLE: 0.00 Item: DreamLine SHDR-1960723L-01 Shower Door, ...\u001b[0m\n",
      "\u001b[93m97: Guess: $70.18 Truth: $1.94 Error: $68.24 SLE: 10.16 Item: Sanctuary Square Backplate Finish: Oiled...\u001b[0m\n",
      "\u001b[92m98: Guess: $281.34 Truth: $284.34 Error: $3.00 SLE: 0.00 Item: Pelican Protector 1750 Long Case - Multi...\u001b[0m\n",
      "\u001b[93m99: Guess: $120.47 Truth: $171.90 Error: $51.43 SLE: 0.12 Item: Brock Replacement Driver and Passenger H...\u001b[0m\n",
      "\u001b[92m100: Guess: $115.01 Truth: $144.99 Error: $29.98 SLE: 0.05 Item: Carlinkit Ai Box Mini, Android 11, Multi...\u001b[0m\n",
      "\u001b[91m101: Guess: $254.47 Truth: $470.47 Error: $216.00 SLE: 0.38 Item: StarDot NetCamLIVE2 YouTube Live Stream ...\u001b[0m\n",
      "\u001b[93m102: Guess: $116.91 Truth: $66.95 Error: $49.96 SLE: 0.30 Item: Atomic Compatible FILXXCAR0016 16x25x5 M...\u001b[0m\n",
      "\u001b[93m103: Guess: $37.22 Truth: $117.00 Error: $79.78 SLE: 1.27 Item: Bandai Awakening of S. H. s.h.figuarts s...\u001b[0m\n",
      "\u001b[91m104: Guess: $334.24 Truth: $172.14 Error: $162.10 SLE: 0.44 Item: Fit System 62135G Passenger Side Towing ...\u001b[0m\n",
      "\u001b[93m105: Guess: $488.81 Truth: $392.74 Error: $96.07 SLE: 0.05 Item: Black Horse Black Aluminum Exceed Runnin...\u001b[0m\n",
      "\u001b[92m106: Guess: $0.00 Truth: $16.99 Error: $16.99 SLE: 8.35 Item: Dearsun Twinkle Star Color Night Light P...\u001b[0m\n",
      "\u001b[93m107: Guess: $77.31 Truth: $1.34 Error: $75.97 SLE: 12.32 Item: Pokemon - Gallade Spirit Link (83/108) -...\u001b[0m\n",
      "\u001b[93m108: Guess: $268.78 Truth: $349.98 Error: $81.20 SLE: 0.07 Item: Ibanez GA34STCE-NT GIO Series Classical ...\u001b[0m\n",
      "\u001b[92m109: Guess: $348.69 Truth: $370.71 Error: $22.02 SLE: 0.00 Item: Set 2 Heavy Duty 12-16.5 12x16.5 12 Ply ...\u001b[0m\n",
      "\u001b[93m110: Guess: $0.00 Truth: $65.88 Error: $65.88 SLE: 17.66 Item: Hairpin Table Legs 28\" Heavy Duty Hairpi...\u001b[0m\n",
      "\u001b[92m111: Guess: $267.17 Truth: $229.99 Error: $37.18 SLE: 0.02 Item: Marada Racing Seat with Adjustable Slide...\u001b[0m\n",
      "\u001b[92m112: Guess: $18.07 Truth: $9.14 Error: $8.93 SLE: 0.40 Item: Remington Industries 24UL1007STRWHI25 24...\u001b[0m\n",
      "\u001b[91m113: Guess: $663.32 Truth: $199.00 Error: $464.32 SLE: 1.44 Item: Acer S3-391-6046 13.3-inch Ultrabook, In...\u001b[0m\n",
      "\u001b[91m114: Guess: $306.68 Truth: $109.99 Error: $196.69 SLE: 1.04 Item: ICBEAMER 7\" RGB LED Headlights Bulb Halo...\u001b[0m\n",
      "\u001b[92m115: Guess: $459.29 Truth: $570.42 Error: $111.13 SLE: 0.05 Item: R1 Concepts Front Rear Brakes and Rotors...\u001b[0m\n",
      "\u001b[93m116: Guess: $196.94 Truth: $279.99 Error: $83.05 SLE: 0.12 Item: Camplux 2.64 GPM Tankless , Outdoor Port...\u001b[0m\n",
      "\u001b[91m117: Guess: $190.84 Truth: $30.99 Error: $159.85 SLE: 3.21 Item: KNOKLOCK 10 Pack 3.75 Inch(96mm) Kitchen...\u001b[0m\n",
      "\u001b[91m118: Guess: $202.41 Truth: $31.99 Error: $170.42 SLE: 3.31 Item: Valley Enterprises Yaesu USB FTDI CT-62 ...\u001b[0m\n",
      "\u001b[92m119: Guess: $0.00 Truth: $15.90 Error: $15.90 SLE: 7.99 Item: G9 LED Light Bulbs，8W，75W 100W replaceme...\u001b[0m\n",
      "\u001b[93m120: Guess: $95.34 Truth: $45.99 Error: $49.35 SLE: 0.52 Item: ZCHAOZ 4 Lights Antique White Farmhouse ...\u001b[0m\n",
      "\u001b[92m121: Guess: $131.75 Truth: $113.52 Error: $18.23 SLE: 0.02 Item: Honeywell TH8320R1003 Honeywell VisionPr...\u001b[0m\n",
      "\u001b[91m122: Guess: $297.22 Truth: $516.99 Error: $219.77 SLE: 0.30 Item: Patriot Exhaust H8013-1 1-7/8\" Clippster...\u001b[0m\n",
      "\u001b[91m123: Guess: $32.56 Truth: $196.99 Error: $164.43 SLE: 3.15 Item: Fitrite Autopart New Front Left Driver S...\u001b[0m\n",
      "\u001b[92m124: Guess: $48.17 Truth: $46.55 Error: $1.62 SLE: 0.00 Item: Technical Precision Replacement for GE G...\u001b[0m\n",
      "\u001b[93m125: Guess: $248.56 Truth: $356.99 Error: $108.43 SLE: 0.13 Item: Covercraft Carhartt SeatSaver Front Row ...\u001b[0m\n",
      "\u001b[93m126: Guess: $207.06 Truth: $319.95 Error: $112.89 SLE: 0.19 Item: Sennheiser SD Pro 2 (506008) - Double-Si...\u001b[0m\n",
      "\u001b[92m127: Guess: $68.85 Truth: $96.06 Error: $27.21 SLE: 0.11 Item: Hitachi MAF0110 Mass Air Flow Sensor\u001b[0m\n",
      "\u001b[91m128: Guess: $314.04 Truth: $190.99 Error: $123.05 SLE: 0.25 Item: AmScope SE305R-P-LED-PS36A 10X-30X LED C...\u001b[0m\n",
      "\u001b[91m129: Guess: $105.30 Truth: $257.95 Error: $152.65 SLE: 0.79 Item: Front Left Driver Side Window Regulator ...\u001b[0m\n",
      "\u001b[93m130: Guess: $110.94 Truth: $62.95 Error: $47.99 SLE: 0.31 Item: Premium Replica Hubcap Set, Fits Nissan ...\u001b[0m\n",
      "\u001b[92m131: Guess: $24.93 Truth: $47.66 Error: $22.73 SLE: 0.40 Item: Excellerations Phonics Spelling Game for...\u001b[0m\n",
      "\u001b[91m132: Guess: $318.45 Truth: $226.99 Error: $91.46 SLE: 0.11 Item: RC4WD BigDog Dual Axle Scale Car/Truck T...\u001b[0m\n",
      "\u001b[92m133: Guess: $423.10 Truth: $359.95 Error: $63.15 SLE: 0.03 Item: Unknown Stage 2 Clutch Kit - Low Altitud...\u001b[0m\n",
      "\u001b[92m134: Guess: $89.74 Truth: $78.40 Error: $11.34 SLE: 0.02 Item: 2002-2008 Dodge Ram 1500 Mopar 4X4 Emble...\u001b[0m\n",
      "\u001b[93m135: Guess: $127.37 Truth: $172.77 Error: $45.40 SLE: 0.09 Item: Pro Comp Alloys Series 89 Wheel with Pol...\u001b[0m\n",
      "\u001b[91m136: Guess: $91.70 Truth: $316.45 Error: $224.75 SLE: 1.52 Item: Detroit Axle - Front Rear Strut & Coil S...\u001b[0m\n",
      "\u001b[93m137: Guess: $130.37 Truth: $87.99 Error: $42.38 SLE: 0.15 Item: ECCPP Rear Wheel Axle Replacement fit fo...\u001b[0m\n",
      "\u001b[91m138: Guess: $414.54 Truth: $226.63 Error: $187.91 SLE: 0.36 Item: Dell Latitude E6520 Intel i7-2720QM 2.20...\u001b[0m\n",
      "\u001b[91m139: Guess: $125.62 Truth: $31.49 Error: $94.13 SLE: 1.85 Item: F FIERCE CYCLE 251pcs Black Universal Mo...\u001b[0m\n",
      "\u001b[92m140: Guess: $164.52 Truth: $196.00 Error: $31.48 SLE: 0.03 Item: Flash Furniture 4 Pk. HERCULES Series 88...\u001b[0m\n",
      "\u001b[91m141: Guess: $277.58 Truth: $78.40 Error: $199.18 SLE: 1.58 Item: B&M 30287 Throttle Valve/Kickdown Cable,...\u001b[0m\n",
      "\u001b[92m142: Guess: $81.88 Truth: $116.25 Error: $34.37 SLE: 0.12 Item: Gates TCK226 PowerGrip Premium Timing Be...\u001b[0m\n",
      "\u001b[93m143: Guess: $45.93 Truth: $112.78 Error: $66.85 SLE: 0.78 Item: Monroe Shocks & Struts Quick-Strut 17149...\u001b[0m\n",
      "\u001b[91m144: Guess: $205.43 Truth: $27.32 Error: $178.11 SLE: 3.95 Item: Feit Electric BPMR16/GU10/930CA/6 35W EQ...\u001b[0m\n",
      "\u001b[91m145: Guess: $7.15 Truth: $145.91 Error: $138.76 SLE: 8.36 Item: Yellow Jacket 2806 Contractor Extension ...\u001b[0m\n",
      "\u001b[92m146: Guess: $188.64 Truth: $171.09 Error: $17.55 SLE: 0.01 Item: Garage-Pro Tailgate SET Compatible with ...\u001b[0m\n",
      "\u001b[92m147: Guess: $137.34 Truth: $167.95 Error: $30.61 SLE: 0.04 Item: 3M Perfect It Buffing and Polishing Kit ...\u001b[0m\n",
      "\u001b[92m148: Guess: $29.43 Truth: $28.49 Error: $0.94 SLE: 0.00 Item: Chinese Style Dollhouse Model DIY Miniat...\u001b[0m\n",
      "\u001b[93m149: Guess: $70.20 Truth: $122.23 Error: $52.03 SLE: 0.30 Item: Generic NRG Innovations SRK-161H Steerin...\u001b[0m\n",
      "\u001b[92m150: Guess: $4.87 Truth: $32.99 Error: $28.12 SLE: 3.08 Item: Learning Resources Coding Critters Range...\u001b[0m\n",
      "\u001b[92m151: Guess: $95.69 Truth: $71.20 Error: $24.49 SLE: 0.09 Item: Bosch Automotive 15463 Oxygen Sensor, OE...\u001b[0m\n",
      "\u001b[91m152: Guess: $403.04 Truth: $112.75 Error: $290.29 SLE: 1.61 Item: Case of 24-2 Inch Blue Painters Tape - 6...\u001b[0m\n",
      "\u001b[92m153: Guess: $171.35 Truth: $142.43 Error: $28.92 SLE: 0.03 Item: MOCA Engine Water Pump & Fan Clutch fit ...\u001b[0m\n",
      "\u001b[91m154: Guess: $111.79 Truth: $398.99 Error: $287.20 SLE: 1.60 Item: SAREMAS Foot Step Bars for Hyundai Palis...\u001b[0m\n",
      "\u001b[93m155: Guess: $559.34 Truth: $449.00 Error: $110.34 SLE: 0.05 Item: Gretsch G9210 Square Neck Boxcar Mahogan...\u001b[0m\n",
      "\u001b[93m156: Guess: $128.83 Truth: $189.00 Error: $60.17 SLE: 0.14 Item: NikoMaku Mirror Dash Cam Front and Rear ...\u001b[0m\n",
      "\u001b[93m157: Guess: $184.40 Truth: $120.91 Error: $63.49 SLE: 0.18 Item: Fenix HP25R v2.0 USB-C Rechargeable Head...\u001b[0m\n",
      "\u001b[91m158: Guess: $375.42 Truth: $203.53 Error: $171.89 SLE: 0.37 Item: R&L Racing Heavy Duty Roll-Up Soft Tonne...\u001b[0m\n",
      "\u001b[92m159: Guess: $404.04 Truth: $349.99 Error: $54.05 SLE: 0.02 Item: Garmin 010-02258-10 GPSMAP 64sx, Handhel...\u001b[0m\n",
      "\u001b[92m160: Guess: $9.47 Truth: $34.35 Error: $24.88 SLE: 1.48 Item: Brown 5-7/8\" X 8-1/2\" X 3/16\" Thick Heav...\u001b[0m\n",
      "\u001b[92m161: Guess: $331.30 Truth: $384.99 Error: $53.69 SLE: 0.02 Item: GAOMON PD2200 Pen Display & 20 Pen Nibs ...\u001b[0m\n",
      "\u001b[92m162: Guess: $178.49 Truth: $211.00 Error: $32.51 SLE: 0.03 Item: VXMOTOR for 97-03 Ford F150/F250 Lightdu...\u001b[0m\n",
      "\u001b[92m163: Guess: $109.23 Truth: $129.00 Error: $19.77 SLE: 0.03 Item: HP EliteBook 2540p Intel Core i7-640LM X...\u001b[0m\n",
      "\u001b[92m164: Guess: $136.48 Truth: $111.45 Error: $25.03 SLE: 0.04 Item: Green EPX Mixing Nozzles 100-Pack-fits 3...\u001b[0m\n",
      "\u001b[93m165: Guess: $26.59 Truth: $81.12 Error: $54.53 SLE: 1.19 Item: Box Partners 6 1/4 x 3 1/8\" 13 Pt. Manil...\u001b[0m\n",
      "\u001b[93m166: Guess: $329.72 Truth: $457.08 Error: $127.36 SLE: 0.11 Item: Vixen Air 1/2\" NPT Air Ride Suspension H...\u001b[0m\n",
      "\u001b[91m167: Guess: $201.89 Truth: $49.49 Error: $152.40 SLE: 1.93 Item: Smart Floor Lamp, 2700-6500K+RGBPink Mul...\u001b[0m\n",
      "\u001b[92m168: Guess: $97.91 Truth: $80.56 Error: $17.35 SLE: 0.04 Item: SOZG 324mm Wheelbase Body Shell RC Car B...\u001b[0m\n",
      "\u001b[92m169: Guess: $323.15 Truth: $278.39 Error: $44.76 SLE: 0.02 Item: Mickey Thompson ET Street S/S Racing Rad...\u001b[0m\n",
      "\u001b[91m170: Guess: $544.70 Truth: $364.50 Error: $180.20 SLE: 0.16 Item: Pirelli 275/40R20 106W XL RFT P0 PZ4-LUX...\u001b[0m\n",
      "\u001b[91m171: Guess: $218.39 Truth: $378.99 Error: $160.60 SLE: 0.30 Item: Torklift C3212 Rear Tie Down\u001b[0m\n",
      "\u001b[93m172: Guess: $228.50 Truth: $165.28 Error: $63.22 SLE: 0.10 Item: Cardone 78-4226 Remanufactured Ford Comp...\u001b[0m\n",
      "\u001b[92m173: Guess: $73.96 Truth: $56.74 Error: $17.22 SLE: 0.07 Item: Kidde AccessPoint 001798 Supra TouchPoin...\u001b[0m\n",
      "\u001b[92m174: Guess: $342.05 Truth: $307.95 Error: $34.10 SLE: 0.01 Item: 3M Protecta 3100414 Self Retracting Life...\u001b[0m\n",
      "\u001b[92m175: Guess: $0.00 Truth: $38.00 Error: $38.00 SLE: 13.42 Item: Plantronics 89435-01 Wired Headset, Blac...\u001b[0m\n",
      "\u001b[91m176: Guess: $148.36 Truth: $53.00 Error: $95.36 SLE: 1.03 Item: Logitech K750 Wireless Solar Keyboard fo...\u001b[0m\n",
      "\u001b[92m177: Guess: $544.16 Truth: $498.00 Error: $46.16 SLE: 0.01 Item: Olympus PEN E-PL9 Body Only with 3-Inch ...\u001b[0m\n",
      "\u001b[93m178: Guess: $1.74 Truth: $53.99 Error: $52.25 SLE: 8.99 Item: Beck/Arnley 051-6066 Hub & Bearing Assem...\u001b[0m\n",
      "\u001b[92m179: Guess: $342.71 Truth: $350.00 Error: $7.29 SLE: 0.00 Item: Eibach Pro-Kit Performance Springs E10-6...\u001b[0m\n",
      "\u001b[93m180: Guess: $205.17 Truth: $299.95 Error: $94.78 SLE: 0.14 Item: LEGO DC Batman 1989 Batwing 76161 Displa...\u001b[0m\n",
      "\u001b[92m181: Guess: $128.79 Truth: $94.93 Error: $33.86 SLE: 0.09 Item: Kingston Brass KS3608PL Restoration 4-In...\u001b[0m\n",
      "\u001b[93m182: Guess: $483.41 Truth: $379.00 Error: $104.41 SLE: 0.06 Item: Polk Vanishing Series 265-LS In-Wall 3-W...\u001b[0m\n",
      "\u001b[91m183: Guess: $420.92 Truth: $299.95 Error: $120.97 SLE: 0.11 Item: Spec-D Tuning LED Projector Headlights G...\u001b[0m\n",
      "\u001b[93m184: Guess: $91.69 Truth: $24.99 Error: $66.70 SLE: 1.62 Item: RICHMOND & FINCH Airpod Pro Case, Green ...\u001b[0m\n",
      "\u001b[93m185: Guess: $109.85 Truth: $41.04 Error: $68.81 SLE: 0.94 Item: LFA Industries 43B-5A-33JT 1/16-1/2-1.5-...\u001b[0m\n",
      "\u001b[91m186: Guess: $159.84 Truth: $327.90 Error: $168.06 SLE: 0.51 Item: SAUTVS LED Headlight Assembly for Slings...\u001b[0m\n",
      "\u001b[92m187: Guess: $0.00 Truth: $10.99 Error: $10.99 SLE: 6.17 Item: 2 Pack Combo Womens Safety Glasses Impac...\u001b[0m\n",
      "\u001b[92m188: Guess: $15.53 Truth: $14.99 Error: $0.54 SLE: 0.00 Item: Arepa - Venezuelan cuisine - Venezuela P...\u001b[0m\n",
      "\u001b[91m189: Guess: $0.00 Truth: $84.95 Error: $84.95 SLE: 19.84 Item: Schlage Lock Company KS23D2300 Padlock, ...\u001b[0m\n",
      "\u001b[93m190: Guess: $163.41 Truth: $111.00 Error: $52.41 SLE: 0.15 Item: Techni Mobili White Sit to Stand Mobile ...\u001b[0m\n",
      "\u001b[91m191: Guess: $321.43 Truth: $123.73 Error: $197.70 SLE: 0.90 Item: Special Lite Products Contemporary Wall ...\u001b[0m\n",
      "\u001b[91m192: Guess: $23.97 Truth: $557.38 Error: $533.41 SLE: 9.65 Item: Tascam DP-24SD 24-Track Digital Portastu...\u001b[0m\n",
      "\u001b[92m193: Guess: $117.05 Truth: $95.55 Error: $21.50 SLE: 0.04 Item: Glow Lighting 636CC10SP Vista Crystal Fl...\u001b[0m\n",
      "\u001b[93m194: Guess: $233.59 Truth: $154.00 Error: $79.59 SLE: 0.17 Item: Z3 Wind Deflector, Smoke Tint, Lexan, Wi...\u001b[0m\n",
      "\u001b[93m195: Guess: $250.47 Truth: $198.99 Error: $51.48 SLE: 0.05 Item: Olympus E-20 5MP Digital Camera w/ 4x Op...\u001b[0m\n",
      "\u001b[91m196: Guess: $11.25 Truth: $430.44 Error: $419.19 SLE: 12.68 Item: PHYNEDI 1:1000 World Trade Center (1973-...\u001b[0m\n",
      "\u001b[91m197: Guess: $155.40 Truth: $45.67 Error: $109.73 SLE: 1.46 Item: YANGHUAN Unstable Unicorns Adventure Car...\u001b[0m\n",
      "\u001b[92m198: Guess: $291.83 Truth: $249.00 Error: $42.83 SLE: 0.03 Item: Interlogix NX-1820E NetworX Touch Screen...\u001b[0m\n",
      "\u001b[91m199: Guess: $145.63 Truth: $42.99 Error: $102.64 SLE: 1.45 Item: Steering Damper,Universal Motorcycle Han...\u001b[0m\n",
      "\u001b[91m200: Guess: $67.14 Truth: $181.33 Error: $114.19 SLE: 0.97 Item: Amprobe TIC 410A Hot Stick Attachment\u001b[0m\n",
      "\u001b[92m201: Guess: $0.00 Truth: $6.03 Error: $6.03 SLE: 3.80 Item: MyCableMart 3.5mm Plug/Jack, 4 Conductor...\u001b[0m\n",
      "\u001b[91m202: Guess: $117.78 Truth: $29.99 Error: $87.79 SLE: 1.81 Item: OtterBox + Pop Symmetry Series Case for ...\u001b[0m\n",
      "\u001b[91m203: Guess: $528.56 Truth: $899.00 Error: $370.44 SLE: 0.28 Item: Dell XPS X8700-1572BLK Desktop ( Intel C...\u001b[0m\n",
      "\u001b[92m204: Guess: $453.26 Truth: $399.99 Error: $53.27 SLE: 0.02 Item: Franklin Iron Works Sperry Industrial Br...\u001b[0m\n",
      "\u001b[91m205: Guess: $155.90 Truth: $4.66 Error: $151.24 SLE: 11.04 Item: Avery Legal Dividers, Standard Collated ...\u001b[0m\n",
      "\u001b[93m206: Guess: $336.22 Truth: $261.41 Error: $74.81 SLE: 0.06 Item: Moen 8346 Commercial Posi-Temp Pressure ...\u001b[0m\n",
      "\u001b[91m207: Guess: $0.00 Truth: $136.97 Error: $136.97 SLE: 24.28 Item: Carlisle Versa Trail ATR All Terrain Rad...\u001b[0m\n",
      "\u001b[93m208: Guess: $125.39 Truth: $79.00 Error: $46.39 SLE: 0.21 Item: SUNWAYFOTO 44mm Tripod Ball Head Arca Co...\u001b[0m\n",
      "\u001b[91m209: Guess: $133.85 Truth: $444.99 Error: $311.14 SLE: 1.43 Item: NanoBeam AC NBE-5AC-Gen2-US 4 Units 5GHz...\u001b[0m\n",
      "\u001b[92m210: Guess: $356.09 Truth: $411.94 Error: $55.85 SLE: 0.02 Item: WULF 4\" Front 2\" Rear Leveling Lift Kit ...\u001b[0m\n",
      "\u001b[91m211: Guess: $348.85 Truth: $148.40 Error: $200.45 SLE: 0.72 Item: Alera ALEVABFMC Valencia Series Mobile B...\u001b[0m\n",
      "\u001b[93m212: Guess: $188.22 Truth: $244.99 Error: $56.77 SLE: 0.07 Item: YU-GI-OH! Ignition Assault Booster Box\u001b[0m\n",
      "\u001b[91m213: Guess: $0.00 Truth: $86.50 Error: $86.50 SLE: 20.00 Item: 48\" x 36\" Extra-Large Framed Magnetic Bl...\u001b[0m\n",
      "\u001b[93m214: Guess: $363.05 Truth: $297.95 Error: $65.10 SLE: 0.04 Item: Dell Latitude D620 Renewed Notebook PC\u001b[0m\n",
      "\u001b[92m215: Guess: $433.70 Truth: $399.99 Error: $33.71 SLE: 0.01 Item: acer Aspire 5 Laptop, AMD Ryzen 3 5300U ...\u001b[0m\n",
      "\u001b[91m216: Guess: $144.67 Truth: $599.00 Error: $454.33 SLE: 2.00 Item: Elk 31080/6RC-GRN 30 by 6-Inch Viva 6-Li...\u001b[0m\n",
      "\u001b[93m217: Guess: $171.77 Truth: $105.99 Error: $65.78 SLE: 0.23 Item: Barbie Top Model Doll\u001b[0m\n",
      "\u001b[92m218: Guess: $552.66 Truth: $689.00 Error: $136.34 SLE: 0.05 Item: Danby Designer 20-In. Electric Range wit...\u001b[0m\n",
      "\u001b[91m219: Guess: $191.82 Truth: $404.99 Error: $213.17 SLE: 0.55 Item: FixtureDisplays® Metal Truss Podium Doub...\u001b[0m\n",
      "\u001b[91m220: Guess: $339.50 Truth: $207.76 Error: $131.74 SLE: 0.24 Item: ACDelco 13597235 GM Original Equipment A...\u001b[0m\n",
      "\u001b[93m221: Guess: $214.46 Truth: $171.82 Error: $42.64 SLE: 0.05 Item: EBC S1KF1135 Stage-1 Premium Street Brak...\u001b[0m\n",
      "\u001b[92m222: Guess: $346.00 Truth: $293.24 Error: $52.76 SLE: 0.03 Item: FXR Men's Boost FX Jacket (Black/Orange/...\u001b[0m\n",
      "\u001b[92m223: Guess: $377.20 Truth: $374.95 Error: $2.25 SLE: 0.00 Item: SuperATV Scratch Resistant 3-in-1 Flip W...\u001b[0m\n",
      "\u001b[93m224: Guess: $164.31 Truth: $111.99 Error: $52.32 SLE: 0.14 Item: SBU 3 Layer All Weather Mini Van Car Cov...\u001b[0m\n",
      "\u001b[93m225: Guess: $86.71 Truth: $42.99 Error: $43.72 SLE: 0.48 Item: 2 Pack Outdoor Brochure Holder Advertisi...\u001b[0m\n",
      "\u001b[93m226: Guess: $75.72 Truth: $116.71 Error: $40.99 SLE: 0.18 Item: Monroe Shocks & Struts Quick-Strut 17158...\u001b[0m\n",
      "\u001b[91m227: Guess: $0.00 Truth: $118.61 Error: $118.61 SLE: 22.89 Item: Elements of Design Magellan EB235AL Thre...\u001b[0m\n",
      "\u001b[92m228: Guess: $148.23 Truth: $147.12 Error: $1.11 SLE: 0.00 Item: GM Genuine Parts 15-62961 Air Conditioni...\u001b[0m\n",
      "\u001b[91m229: Guess: $212.12 Truth: $119.99 Error: $92.13 SLE: 0.32 Item: Baseus 17-in-1 USB C Docking Station to ...\u001b[0m\n",
      "\u001b[92m230: Guess: $408.56 Truth: $369.98 Error: $38.58 SLE: 0.01 Item: Whitehall™ Personalized Whitehall Capito...\u001b[0m\n",
      "\u001b[91m231: Guess: $459.98 Truth: $315.55 Error: $144.43 SLE: 0.14 Item: Pro Circuit Works Pipe PY05250 for 02-19...\u001b[0m\n",
      "\u001b[91m232: Guess: $395.96 Truth: $190.99 Error: $204.97 SLE: 0.53 Item: HYANKA 15 \"1200W Professional DJ Speaker...\u001b[0m\n",
      "\u001b[92m233: Guess: $132.86 Truth: $155.00 Error: $22.14 SLE: 0.02 Item: Bluetooth X6BT Card Reader Writer Encode...\u001b[0m\n",
      "\u001b[92m234: Guess: $313.41 Truth: $349.99 Error: $36.58 SLE: 0.01 Item: AIRAID Cold Air Intake System by K&N: In...\u001b[0m\n",
      "\u001b[91m235: Guess: $353.61 Truth: $249.99 Error: $103.62 SLE: 0.12 Item: Bostingner Shower Faucets Sets Complete,...\u001b[0m\n",
      "\u001b[91m236: Guess: $277.92 Truth: $42.99 Error: $234.93 SLE: 3.41 Item: PIT66 Front Bumper Turn Signal Lights, C...\u001b[0m\n",
      "\u001b[92m237: Guess: $11.30 Truth: $17.99 Error: $6.69 SLE: 0.19 Item: Caseology Bumpy Compatible with Google P...\u001b[0m\n",
      "\u001b[91m238: Guess: $103.57 Truth: $425.00 Error: $321.43 SLE: 1.97 Item: Fleck 2510 Timer Mechanical Filter Contr...\u001b[0m\n",
      "\u001b[91m239: Guess: $441.99 Truth: $249.99 Error: $192.00 SLE: 0.32 Item: Haloview MC7108 Wireless RV Backup Camer...\u001b[0m\n",
      "\u001b[91m240: Guess: $0.00 Truth: $138.23 Error: $138.23 SLE: 24.37 Item: Schmidt Spiele - Manhattan\u001b[0m\n",
      "\u001b[93m241: Guess: $515.87 Truth: $414.99 Error: $100.88 SLE: 0.05 Item: Corsa 14333 Tip Kit (Ford Mustang GT)\u001b[0m\n",
      "\u001b[91m242: Guess: $52.80 Truth: $168.28 Error: $115.48 SLE: 1.31 Item: Hoshizaki FM116A Fan Motor Kit 1\u001b[0m\n",
      "\u001b[93m243: Guess: $136.82 Truth: $199.99 Error: $63.17 SLE: 0.14 Item: BAINUO Antler Chandelier Lighting,6 Ligh...\u001b[0m\n",
      "\u001b[91m244: Guess: $254.40 Truth: $126.70 Error: $127.70 SLE: 0.48 Item: DNA MOTORING HL-OH-FEXP06-SM-AM Smoke Le...\u001b[0m\n",
      "\u001b[93m245: Guess: $46.27 Truth: $5.91 Error: $40.36 SLE: 3.70 Item: Wera Stainless 3840/1 TS 2.5mm Hex Inser...\u001b[0m\n",
      "\u001b[92m246: Guess: $211.50 Truth: $193.06 Error: $18.44 SLE: 0.01 Item: Celestron - PowerSeeker 127EQ Telescope ...\u001b[0m\n",
      "\u001b[91m247: Guess: $128.13 Truth: $249.99 Error: $121.86 SLE: 0.44 Item: NHOPEEW 10.1inch Android Car Radio Carpl...\u001b[0m\n",
      "\u001b[91m248: Guess: $210.33 Truth: $64.12 Error: $146.21 SLE: 1.39 Item: Other Harmonica (Suzuki-2Timer24- A)\u001b[0m\n",
      "\u001b[93m249: Guess: $175.45 Truth: $114.99 Error: $60.46 SLE: 0.18 Item: Harley Air Filter Venturi Intake Air Cle...\u001b[0m\n",
      "\u001b[91m250: Guess: $341.83 Truth: $926.00 Error: $584.17 SLE: 0.99 Item: Elite Screens Edge Free Ambient Light Re...\u001b[0m\n"
     ]
    },
    {
     "data": {
      "image/png": "[encoded data removed]",
      "text/plain": [
       "<Figure size 1200x800 with 1 Axes>"
      ]
     },
     "metadata": {},
     "output_type": "display_data"
    }
   ],
   "source": [
    "# TestRunnerを実行\n",
    "#Tester.test(rf, test)      # Error 100$ぐらいらしい\n",
    "Tester.test(booster, test)  # Error 103$...まぁ及第点"
   ]
  },
  {
   "cell_type": "code",
   "execution_count": null,
   "id": "e44dbd25-fb95-4b6b-bbbb-8da5fc817105",
   "metadata": {
    "id": "e44dbd25-fb95-4b6b-bbbb-8da5fc817105"
   },
   "outputs": [],
   "source": [
    "# 各エージェントの推論を１回、試してみる\n",
    "product = \"Quadcast HyperX condenser mic for high quality audio for podcasting\"\n",
    "print(specialist.price(product))\n",
    "print(frontier.price(product))\n",
    "#print(random_forest.price(product))\n",
    "print(lightgbm.price(product))"
   ]
  },
  {
   "cell_type": "markdown",
   "id": "398e2501-9211-4909-961d-5b03e68b60ce",
   "metadata": {
    "id": "398e2501-9211-4909-961d-5b03e68b60ce"
   },
   "source": [
    "## アンサンブル学習の実行"
   ]
  },
  {
   "cell_type": "code",
   "execution_count": null,
   "id": "1779b353-e2bb-4fc7-be7c-93057e4d688a",
   "metadata": {
    "id": "1779b353-e2bb-4fc7-be7c-93057e4d688a"
   },
   "outputs": [],
   "source": [
    "# 各エージェントでｘ回の推論を実施\n",
    "specialists = []\n",
    "frontiers = []\n",
    "#random_forests = []\n",
    "lightgbms = []\n",
    "\n",
    "prices = []\n",
    "for item in tqdm(test[1000:1250]):\n",
    "    text = description(item)\n",
    "    specialists.append(specialist.price(text))\n",
    "    frontiers.append(frontier.price(text))\n",
    "    #random_forests.append(random_forest.price(text))\n",
    "    lightgbms.append(lightgbm.price(text))\n",
    "    prices.append(item.price)"
   ]
  },
  {
   "cell_type": "code",
   "execution_count": null,
   "id": "f0bca725-4e34-405b-8d90-41d67086a25d",
   "metadata": {
    "id": "f0bca725-4e34-405b-8d90-41d67086a25d"
   },
   "outputs": [],
   "source": [
    "# 各データ点ごとに、3モデルの予測値の最小値・最大値を計算。\n",
    "# 予測結果から派生した特徴量を追加、線形回帰がより柔軟に重み付け可能に。\n",
    "# 例えば、外れ値を避けるために最小値や最大値が役立つこともある。\n",
    "mins = [min(s,f,r) for s,f,r in zip(specialists, frontiers, lightgbms)] #random_forests)]\n",
    "maxes = [max(s,f,r) for s,f,r in zip(specialists, frontiers, lightgbms)] #random_forests)]\n",
    "\n",
    "# 説明変数 xをDataFrameに変換\n",
    "X = pd.DataFrame({\n",
    "    # 3モデルの予測値\n",
    "    'Specialist': specialists,\n",
    "    'Frontier': frontiers,\n",
    "    #'RandomForest': random_forests,\n",
    "    'LightGBM': lightgbms,\n",
    "    # 集約特徴量\n",
    "    'Min': mins,\n",
    "    'Max': maxes,\n",
    "})\n",
    "\n",
    "# 目的変数 yをSeriesに変換\n",
    "y = pd.Series(prices)"
   ]
  },
  {
   "cell_type": "markdown",
   "id": "3a5c89a0-ed27-46a2-a46e-da3e39eb86f0",
   "metadata": {},
   "source": [
    "...ローカルで完了しないので、一旦保存し、リスタート後に実行する事にした。"
   ]
  },
  {
   "cell_type": "code",
   "execution_count": null,
   "id": "3cbb7013-354a-4667-a9e7-a245718b716a",
   "metadata": {},
   "outputs": [],
   "source": [
    "with open('ensemble_X.pkl', 'wb') as file:\n",
    "    pickle.dump(X, file)\n",
    "with open('ensemble_y.pkl', 'wb') as file:\n",
    "    pickle.dump(y, file)"
   ]
  },
  {
   "cell_type": "code",
   "execution_count": null,
   "id": "ceb4b73b-9dfd-4f3a-a37a-bb82f48f97de",
   "metadata": {},
   "outputs": [],
   "source": [
    "# カーネル・リスタート"
   ]
  },
  {
   "cell_type": "code",
   "execution_count": null,
   "id": "40f3e4d8-5c2c-4a0f-b4b9-6c54e5b45222",
   "metadata": {},
   "outputs": [],
   "source": [
    "with open('ensemble_X.pkl', 'rb') as file:\n",
    "    X = pickle.load(file)\n",
    "with open('ensemble_y.pkl', 'rb') as file:\n",
    "    y = pickle.load(file)"
   ]
  },
  {
   "cell_type": "code",
   "execution_count": null,
   "id": "1be5be8a-3e7f-42a2-be54-0c7e380f7cc4",
   "metadata": {
    "id": "1be5be8a-3e7f-42a2-be54-0c7e380f7cc4"
   },
   "outputs": [],
   "source": [
    "# 線形回帰を訓練\n",
    "np.random.seed(42)\n",
    "\n",
    "lr = LinearRegression()\n",
    "lr.fit(X, y)\n",
    "\n",
    "# 各特徴量の回帰係数を表示。係数が大きいほど、その特徴量が予測に強く寄与\n",
    "feature_columns = X.columns.tolist()\n",
    "for feature, coef in zip(feature_columns, lr.coef_):\n",
    "    print(f\"{feature}: {coef:.2f}\")\n",
    "print(f\"Intercept={lr.intercept_:.2f}\")"
   ]
  },
  {
   "cell_type": "code",
   "execution_count": null,
   "id": "0bdf6e68-28a3-4ed2-b17e-de0ede923d34",
   "metadata": {
    "id": "0bdf6e68-28a3-4ed2-b17e-de0ede923d34"
   },
   "outputs": [],
   "source": [
    "# agents.ensemble_agentにファイルI/Fで学習済みモデルを渡す\n",
    "joblib.dump(lr, 'ensemble_model.pkl')"
   ]
  },
  {
   "cell_type": "markdown",
   "id": "fb635668-858e-4da3-b1c3-9b2c0c514103",
   "metadata": {
    "id": "fb635668-858e-4da3-b1c3-9b2c0c514103"
   },
   "source": [
    "## アンサンブル・モデルで推定"
   ]
  },
  {
   "cell_type": "markdown",
   "id": "599ebacf-2896-4753-bd92-8f1032301f5d",
   "metadata": {
    "id": "599ebacf-2896-4753-bd92-8f1032301f5d"
   },
   "source": [
    "#### EnsembleAgent\n",
    "\n",
    "```python\n",
    "# 各エージェントをまとめるアンサンブル・エージェントの初期化\n",
    "from agents.ensemble_agent import EnsembleAgent\n",
    "ensemble = EnsembleAgent(collection)\n",
    "\n",
    "# 推論の単体テスト\n",
    "ensemble.price(product)\n",
    "\n",
    "# 埋め込みベクトルからアンサンブル・モデルが推定した値を返す\n",
    "def ensemble_pricer(item):\n",
    "    return max(0,ensemble.price(description(item)))\n",
    "\n",
    "# TestRunnerを実行\n",
    "Tester.test(ensemble_pricer, test)\n",
    "```\n",
    "\n",
    "#### Ensemble2Agent"
   ]
  },
  {
   "cell_type": "code",
   "execution_count": 5,
   "id": "e762441a-9470-4dd7-8a8f-ec0430e908c7",
   "metadata": {
    "id": "e762441a-9470-4dd7-8a8f-ec0430e908c7"
   },
   "outputs": [],
   "source": [
    "# 各エージェントをまとめるアンサンブル・エージェントの初期化\n",
    "from agents.ensemble2_agent import Ensemble2Agent\n",
    "ensemble2 = Ensemble2Agent(collection)"
   ]
  },
  {
   "cell_type": "code",
   "execution_count": 10,
   "id": "33617b42-6abe-4ad2-a6e5-8b33a5e84f36",
   "metadata": {},
   "outputs": [],
   "source": [
    "# 要再実行\n",
    "product = \"Quadcast HyperX condenser mic for high quality audio for podcasting\"\n",
    "with open('test.pkl', 'rb') as file:\n",
    "    test = pickle.load(file)\n",
    "def description(item):\n",
    "    return item.prompt.split(\"to the nearest dollar?\\n\\n\")[1].split(\"\\n\\nPrice is $\")[0]"
   ]
  },
  {
   "cell_type": "code",
   "execution_count": 11,
   "id": "1a29f03c-8010-43b7-ae7d-1bc85ca6e8e2",
   "metadata": {
    "id": "1a29f03c-8010-43b7-ae7d-1bc85ca6e8e2"
   },
   "outputs": [
    {
     "data": {
      "text/plain": [
       "200.75863500711307"
      ]
     },
     "execution_count": 11,
     "metadata": {},
     "output_type": "execute_result"
    }
   ],
   "source": [
    "# 推論の単体テスト\n",
    "ensemble2.price(product)"
   ]
  },
  {
   "cell_type": "code",
   "execution_count": 12,
   "id": "e6a5e226-a508-43d5-aa42-cefbde72ffdf",
   "metadata": {
    "id": "e6a5e226-a508-43d5-aa42-cefbde72ffdf"
   },
   "outputs": [],
   "source": [
    "# 埋め込みベクトルからアンサンブル・モデルが推定した値を返す\n",
    "def ensemble2_pricer(item):\n",
    "    return max(0, ensemble2.price(description(item)))"
   ]
  },
  {
   "cell_type": "code",
   "execution_count": 13,
   "id": "8397b1ef-2ea3-4af8-bb34-36594e0600cc",
   "metadata": {
    "id": "8397b1ef-2ea3-4af8-bb34-36594e0600cc"
   },
   "outputs": [
    {
     "name": "stdout",
     "output_type": "stream",
     "text": [
      "\u001b[92m1: Guess: $396.56 Truth: $374.41 Error: $22.15 SLE: 0.00 Item: OEM AC Compressor w/A/C Repair Kit For F...\u001b[0m\n",
      "\u001b[92m2: Guess: $192.48 Truth: $225.11 Error: $32.63 SLE: 0.02 Item: Motorcraft YB3125 Fan Clutch\u001b[0m\n",
      "\u001b[92m3: Guess: $45.46 Truth: $61.68 Error: $16.22 SLE: 0.09 Item: Dorman 603-159 Front Washer Fluid Reserv...\u001b[0m\n",
      "\u001b[93m4: Guess: $380.91 Truth: $599.99 Error: $219.08 SLE: 0.21 Item: HP Premium 17.3-inch HD Plus Touchscreen...\u001b[0m\n",
      "\u001b[92m5: Guess: $29.25 Truth: $16.99 Error: $12.26 SLE: 0.27 Item: 5-Position Super Switch Pickup Selector ...\u001b[0m\n",
      "\u001b[92m6: Guess: $27.93 Truth: $31.99 Error: $4.06 SLE: 0.02 Item: Horror Bookmarks, Resin Horror Bookmarks...\u001b[0m\n",
      "\u001b[92m7: Guess: $132.61 Truth: $101.79 Error: $30.82 SLE: 0.07 Item: SK6241 - Stinger 4 Gauge 6000 Series Pow...\u001b[0m\n",
      "\u001b[92m8: Guess: $326.96 Truth: $289.00 Error: $37.96 SLE: 0.02 Item: Godox ML60Bi LED Light Kit, Handheld LED...\u001b[0m\n",
      "\u001b[91m9: Guess: $932.76 Truth: $635.86 Error: $296.90 SLE: 0.15 Item: Randall RG75DG3PLUS G3 Plus 100-Watt Com...\u001b[0m\n",
      "\u001b[92m10: Guess: $77.72 Truth: $65.99 Error: $11.73 SLE: 0.03 Item: HOLDWILL 6 Pack LED Shop Light, 4FT 24W ...\u001b[0m\n",
      "\u001b[92m11: Guess: $276.67 Truth: $254.21 Error: $22.46 SLE: 0.01 Item: Viking Horns V103C/1005ATK 3 Gallon Air ...\u001b[0m\n",
      "\u001b[92m12: Guess: $390.79 Truth: $412.99 Error: $22.20 SLE: 0.00 Item: CURT 70110 Custom Tow Bar Base Plate Bra...\u001b[0m\n",
      "\u001b[93m13: Guess: $250.88 Truth: $205.50 Error: $45.38 SLE: 0.04 Item: 10-Pack Solar HAMMERED BRONZE Finish Pos...\u001b[0m\n",
      "\u001b[92m14: Guess: $270.79 Truth: $248.23 Error: $22.56 SLE: 0.01 Item: COSTWAY Electric Tumble Dryer, Sliver\u001b[0m\n",
      "\u001b[92m15: Guess: $334.64 Truth: $399.00 Error: $64.36 SLE: 0.03 Item: FREE SIGNAL TV Transit 32\" 12 Volt DC Po...\u001b[0m\n",
      "\u001b[92m16: Guess: $355.67 Truth: $373.94 Error: $18.27 SLE: 0.00 Item: Bilstein 5100 Monotube Gas Shock Set com...\u001b[0m\n",
      "\u001b[93m17: Guess: $151.25 Truth: $92.89 Error: $58.36 SLE: 0.23 Item: Sangean K-200 Multi-Function Upright AM/...\u001b[0m\n",
      "\u001b[92m18: Guess: $83.14 Truth: $51.99 Error: $31.15 SLE: 0.21 Item: Charles Leonard Magnetic Lapboard Class ...\u001b[0m\n",
      "\u001b[91m19: Guess: $318.20 Truth: $179.00 Error: $139.20 SLE: 0.33 Item: Gigabyte AMD Radeon HD 7870 2 GB GDDR5 D...\u001b[0m\n",
      "\u001b[92m20: Guess: $26.23 Truth: $19.42 Error: $6.81 SLE: 0.08 Item: 3dRose LLC 8 x 8 x 0.25 Inches Bull Terr...\u001b[0m\n",
      "\u001b[92m21: Guess: $495.22 Truth: $539.95 Error: $44.73 SLE: 0.01 Item: ROKINON 85mm F1.4 Auto Focus Full Frame ...\u001b[0m\n",
      "\u001b[92m22: Guess: $151.95 Truth: $147.67 Error: $4.28 SLE: 0.00 Item: AUTOSAVER88 Headlight Assembly Compatibl...\u001b[0m\n",
      "\u001b[92m23: Guess: $33.24 Truth: $24.99 Error: $8.25 SLE: 0.08 Item: ASI NAUTICAL 2.5 Inches Opera Glasses Bi...\u001b[0m\n",
      "\u001b[93m24: Guess: $107.57 Truth: $149.00 Error: $41.43 SLE: 0.10 Item: Behringer TUBE OVERDRIVE TO100 Authentic...\u001b[0m\n",
      "\u001b[92m25: Guess: $23.72 Truth: $16.99 Error: $6.73 SLE: 0.10 Item: Fun Express Insect Finger Puppets - 24 f...\u001b[0m\n",
      "\u001b[92m26: Guess: $28.95 Truth: $7.99 Error: $20.96 SLE: 1.45 Item: WAFJAMF Roller Stamp Identity Theft Stam...\u001b[0m\n",
      "\u001b[92m27: Guess: $201.10 Truth: $199.99 Error: $1.11 SLE: 0.00 Item: Capulina Tiffany Floor Lamp 2-Light 16\" ...\u001b[0m\n",
      "\u001b[92m28: Guess: $288.93 Truth: $251.45 Error: $37.48 SLE: 0.02 Item: Apple Watch Series 6 (GPS, 44mm) - Space...\u001b[0m\n",
      "\u001b[92m29: Guess: $244.44 Truth: $231.62 Error: $12.82 SLE: 0.00 Item: ICON 01725 Tandem Axle Fender Skirt FS17...\u001b[0m\n",
      "\u001b[92m30: Guess: $158.17 Truth: $135.00 Error: $23.17 SLE: 0.02 Item: SanDisk 128GB Ultra (10 Pack) MicroSD Cl...\u001b[0m\n",
      "\u001b[92m31: Guess: $400.71 Truth: $356.62 Error: $44.09 SLE: 0.01 Item: Velvac 2020,L,C/Hr,W,E2003,102\",Bk - 715...\u001b[0m\n",
      "\u001b[92m32: Guess: $280.37 Truth: $257.99 Error: $22.38 SLE: 0.01 Item: TCMT Passenger Backrest Sissy Bar & Lugg...\u001b[0m\n",
      "\u001b[93m33: Guess: $70.69 Truth: $27.99 Error: $42.70 SLE: 0.82 Item: Alnicov 63.5MM Brass Tremolo Block，Tremo...\u001b[0m\n",
      "\u001b[92m34: Guess: $136.04 Truth: $171.20 Error: $35.16 SLE: 0.05 Item: Subaru Forester Outback Legacy OEM Engin...\u001b[0m\n",
      "\u001b[91m35: Guess: $482.87 Truth: $225.00 Error: $257.87 SLE: 0.58 Item: Richmond Auto Upholstery - 2012 Dodge Ra...\u001b[0m\n",
      "\u001b[91m36: Guess: $193.02 Truth: $105.00 Error: $88.02 SLE: 0.37 Item: AP-39 Automotive Paint Primer Grey 2K Ur...\u001b[0m\n",
      "\u001b[92m37: Guess: $314.66 Truth: $299.99 Error: $14.67 SLE: 0.00 Item: Road Top Wireless Carplay Retrofit Kit D...\u001b[0m\n",
      "\u001b[93m38: Guess: $645.52 Truth: $535.09 Error: $110.43 SLE: 0.04 Item: Gibson Performance Exhaust 5658 Aluminiz...\u001b[0m\n",
      "\u001b[92m39: Guess: $32.04 Truth: $12.33 Error: $19.71 SLE: 0.82 Item: Bella Tunno Happy Links - Baby Montessor...\u001b[0m\n",
      "\u001b[92m40: Guess: $119.51 Truth: $84.99 Error: $34.52 SLE: 0.11 Item: CANMORE H300 Handheld GPS Golf Device, S...\u001b[0m\n",
      "\u001b[92m41: Guess: $24.67 Truth: $15.99 Error: $8.68 SLE: 0.17 Item: DCPOWER AC Adapter Compatible Replacemen...\u001b[0m\n",
      "\u001b[92m42: Guess: $63.69 Truth: $62.44 Error: $1.25 SLE: 0.00 Item: Sharp, VX2128V, Commercial Desktop Calcu...\u001b[0m\n",
      "\u001b[92m43: Guess: $98.94 Truth: $82.99 Error: $15.95 SLE: 0.03 Item: Melissa & Doug Lifelike Plush Stork Gian...\u001b[0m\n",
      "\u001b[91m44: Guess: $349.99 Truth: $599.95 Error: $249.96 SLE: 0.29 Item: Sony SSCS8 2-Way 3-Driver Center Channel...\u001b[0m\n",
      "\u001b[92m45: Guess: $234.32 Truth: $194.99 Error: $39.33 SLE: 0.03 Item: ASUS Chromebook CX1, 14\" Full HD NanoEdg...\u001b[0m\n",
      "\u001b[92m46: Guess: $316.19 Truth: $344.95 Error: $28.76 SLE: 0.01 Item: FiiO X7 32GB Hi-Res Lossless Music Playe...\u001b[0m\n",
      "\u001b[92m47: Guess: $52.43 Truth: $37.99 Error: $14.44 SLE: 0.10 Item: TORRO Leather Case Compatible with iPhon...\u001b[0m\n",
      "\u001b[92m48: Guess: $232.83 Truth: $224.35 Error: $8.48 SLE: 0.00 Item: Universal Air Conditioner KT 1031 A/C Co...\u001b[0m\n",
      "\u001b[92m49: Guess: $820.83 Truth: $814.00 Error: $6.83 SLE: 0.00 Item: Street Series Stainless Performance Cat-...\u001b[0m\n",
      "\u001b[93m50: Guess: $331.94 Truth: $439.88 Error: $107.94 SLE: 0.08 Item: Lenovo IdeaPad 3 14-inch Laptop, 14.0-in...\u001b[0m\n",
      "\u001b[92m51: Guess: $341.24 Truth: $341.43 Error: $0.19 SLE: 0.00 Item: Access Bed Covers TonnoSport 22050219 - ...\u001b[0m\n",
      "\u001b[92m52: Guess: $66.74 Truth: $46.78 Error: $19.96 SLE: 0.12 Item: G.I. JOE Hasbro 3 3/4\" Wave 5 Action Fig...\u001b[0m\n",
      "\u001b[92m53: Guess: $209.64 Truth: $171.44 Error: $38.20 SLE: 0.04 Item: T&S Brass B-0232-BST Double Pantry Fauce...\u001b[0m\n",
      "\u001b[92m54: Guess: $502.82 Truth: $458.00 Error: $44.82 SLE: 0.01 Item: ZTUOAUMA Fuel Injection Pump 3090942 309...\u001b[0m\n",
      "\u001b[92m55: Guess: $135.53 Truth: $130.75 Error: $4.78 SLE: 0.00 Item: 2AP18AA#ABA Hp Prime Graphing Calculator...\u001b[0m\n",
      "\u001b[92m56: Guess: $76.55 Truth: $83.81 Error: $7.26 SLE: 0.01 Item: Lowrance 000-0119-83 Nmea 2000 25' Exten...\u001b[0m\n",
      "\u001b[91m57: Guess: $171.62 Truth: $386.39 Error: $214.77 SLE: 0.65 Item: Jeep Genuine Accessories 82213051 Hood L...\u001b[0m\n",
      "\u001b[92m58: Guess: $147.89 Truth: $169.00 Error: $21.11 SLE: 0.02 Item: GODOX CB-06 Hard Carrying Case with Whee...\u001b[0m\n",
      "\u001b[92m59: Guess: $27.65 Truth: $17.95 Error: $9.70 SLE: 0.17 Item: Au-Tomotive Gold, INC. Ford Black Valet ...\u001b[0m\n",
      "\u001b[92m60: Guess: $298.04 Truth: $269.00 Error: $29.04 SLE: 0.01 Item: Snailfly Black Roof Rack Rail + Cross Ba...\u001b[0m\n",
      "\u001b[92m61: Guess: $108.61 Truth: $77.77 Error: $30.84 SLE: 0.11 Item: KING SHA Anti Glare LED Track Lighting H...\u001b[0m\n",
      "\u001b[92m62: Guess: $94.74 Truth: $88.99 Error: $5.75 SLE: 0.00 Item: APS Compatible with Chevy Silverado 1500...\u001b[0m\n",
      "\u001b[92m63: Guess: $317.40 Truth: $364.41 Error: $47.01 SLE: 0.02 Item: Wilwood Engineering 14011291R Brake Cali...\u001b[0m\n",
      "\u001b[92m64: Guess: $161.00 Truth: $127.03 Error: $33.97 SLE: 0.06 Item: ACDelco Gold 336-1925A Starter, Remanufa...\u001b[0m\n",
      "\u001b[92m65: Guess: $679.02 Truth: $778.95 Error: $99.93 SLE: 0.02 Item: UWS EC10783 69-Inch Matte Black Heavy-Wa...\u001b[0m\n",
      "\u001b[92m66: Guess: $219.67 Truth: $206.66 Error: $13.01 SLE: 0.00 Item: Dell Latitude E5440 14in Business Laptop...\u001b[0m\n",
      "\u001b[92m67: Guess: $60.60 Truth: $35.94 Error: $24.66 SLE: 0.26 Item: (Plug and Play) Spare Tire Brake Light W...\u001b[0m\n",
      "\u001b[93m68: Guess: $209.64 Truth: $149.00 Error: $60.64 SLE: 0.12 Item: The Ultimate Roadside Rescue Assistant\u001b[0m\n",
      "\u001b[92m69: Guess: $233.15 Truth: $251.98 Error: $18.83 SLE: 0.01 Item: Brand New 18\" x 8.5\" Replacement Wheel f...\u001b[0m\n",
      "\u001b[93m70: Guess: $230.61 Truth: $160.00 Error: $70.61 SLE: 0.13 Item: Headlight Headlamp LH Left & RH Right Pa...\u001b[0m\n",
      "\u001b[92m71: Guess: $53.63 Truth: $39.99 Error: $13.64 SLE: 0.08 Item: Lilo And Stitch Deluxe Oversize Print La...\u001b[0m\n",
      "\u001b[93m72: Guess: $258.99 Truth: $362.41 Error: $103.42 SLE: 0.11 Item: AC Compressor & A/C Clutch For Hyundai A...\u001b[0m\n",
      "\u001b[93m73: Guess: $433.19 Truth: $344.00 Error: $89.19 SLE: 0.05 Item: House Of Troy PIN475-AB Pinnacle Collect...\u001b[0m\n",
      "\u001b[92m74: Guess: $37.34 Truth: $25.09 Error: $12.25 SLE: 0.15 Item: Juno T29 WH Floating Electrical Feed Sin...\u001b[0m\n",
      "\u001b[91m75: Guess: $90.30 Truth: $175.95 Error: $85.65 SLE: 0.44 Item: Sherman GO-PARTS - for 2013-2016 Toyota ...\u001b[0m\n",
      "\u001b[91m76: Guess: $336.27 Truth: $132.64 Error: $203.63 SLE: 0.86 Item: Roland RPU-3 Electronic Keyboard Pedal o...\u001b[0m\n",
      "\u001b[93m77: Guess: $274.37 Truth: $422.99 Error: $148.62 SLE: 0.19 Item: Rockland VMI14 12,000 Pound 12 Volt DC E...\u001b[0m\n",
      "\u001b[92m78: Guess: $167.26 Truth: $146.48 Error: $20.78 SLE: 0.02 Item: Max Advanced Brakes Elite XDS Front Cros...\u001b[0m\n",
      "\u001b[92m79: Guess: $178.10 Truth: $156.83 Error: $21.27 SLE: 0.02 Item: Quality-Built 11030 Premium Quality Alte...\u001b[0m\n",
      "\u001b[93m80: Guess: $189.95 Truth: $251.99 Error: $62.04 SLE: 0.08 Item: Lucida LG-510 Student Classical Guitar, ...\u001b[0m\n",
      "\u001b[91m81: Guess: $312.28 Truth: $940.33 Error: $628.05 SLE: 1.21 Item: Longacre 52-79800 Aluminum Turn Plates\u001b[0m\n",
      "\u001b[92m82: Guess: $67.44 Truth: $52.99 Error: $14.45 SLE: 0.06 Item: Motion Pro 08-0380 Adjustable Torque Wre...\u001b[0m\n",
      "\u001b[91m83: Guess: $328.86 Truth: $219.95 Error: $108.91 SLE: 0.16 Item: Glyph Thunderbolt 3 NVMe Dock (0 GB)\u001b[0m\n",
      "\u001b[92m84: Guess: $432.03 Truth: $441.03 Error: $9.00 SLE: 0.00 Item: TOYO Open Country MT Performance Radial ...\u001b[0m\n",
      "\u001b[92m85: Guess: $172.28 Truth: $168.98 Error: $3.30 SLE: 0.00 Item: Razer Seiren X USB Streaming Microphone ...\u001b[0m\n",
      "\u001b[92m86: Guess: $17.04 Truth: $2.49 Error: $14.55 SLE: 2.70 Item: Happy Birthday to Dad From Your Daughter...\u001b[0m\n",
      "\u001b[92m87: Guess: $110.83 Truth: $98.62 Error: $12.21 SLE: 0.01 Item: Little Tikes My Real Jam First Concert S...\u001b[0m\n",
      "\u001b[92m88: Guess: $254.03 Truth: $256.95 Error: $2.92 SLE: 0.00 Item: Studio M Peace and Harmony Art Pole Comm...\u001b[0m\n",
      "\u001b[92m89: Guess: $40.84 Truth: $30.99 Error: $9.85 SLE: 0.07 Item: MyVolts 12V Power Supply Adaptor Compati...\u001b[0m\n",
      "\u001b[91m90: Guess: $886.03 Truth: $569.84 Error: $316.19 SLE: 0.19 Item: Dell Latitude 7212 Rugged Extreme Tablet...\u001b[0m\n",
      "\u001b[92m91: Guess: $201.49 Truth: $177.99 Error: $23.50 SLE: 0.02 Item: Covermates Contour Fit Car Cover - Light...\u001b[0m\n",
      "\u001b[92m92: Guess: $983.77 Truth: $997.99 Error: $14.22 SLE: 0.00 Item: Westin 57-4025 Black HDX Grille Guard fi...\u001b[0m\n",
      "\u001b[93m93: Guess: $149.35 Truth: $219.00 Error: $69.65 SLE: 0.14 Item: Fieldpiece JL2 Job Link Wireless App Tra...\u001b[0m\n",
      "\u001b[92m94: Guess: $259.11 Truth: $225.55 Error: $33.56 SLE: 0.02 Item: hansgrohe Talis S Modern Premium Easy Cl...\u001b[0m\n",
      "\u001b[91m95: Guess: $753.71 Truth: $495.95 Error: $257.76 SLE: 0.17 Item: G-Technology G-SPEED eS PRO High-Perform...\u001b[0m\n",
      "\u001b[92m96: Guess: $944.72 Truth: $942.37 Error: $2.35 SLE: 0.00 Item: DreamLine SHDR-1960723L-01 Shower Door, ...\u001b[0m\n",
      "\u001b[92m97: Guess: $24.44 Truth: $1.94 Error: $22.50 SLE: 4.66 Item: Sanctuary Square Backplate Finish: Oiled...\u001b[0m\n",
      "\u001b[92m98: Guess: $269.34 Truth: $284.34 Error: $15.00 SLE: 0.00 Item: Pelican Protector 1750 Long Case - Multi...\u001b[0m\n",
      "\u001b[92m99: Guess: $177.04 Truth: $171.90 Error: $5.14 SLE: 0.00 Item: Brock Replacement Driver and Passenger H...\u001b[0m\n",
      "\u001b[93m100: Guess: $212.51 Truth: $144.99 Error: $67.52 SLE: 0.14 Item: Carlinkit Ai Box Mini, Android 11, Multi...\u001b[0m\n",
      "\u001b[93m101: Guess: $342.98 Truth: $470.47 Error: $127.49 SLE: 0.10 Item: StarDot NetCamLIVE2 YouTube Live Stream ...\u001b[0m\n",
      "\u001b[92m102: Guess: $81.61 Truth: $66.95 Error: $14.66 SLE: 0.04 Item: Atomic Compatible FILXXCAR0016 16x25x5 M...\u001b[0m\n",
      "\u001b[92m103: Guess: $127.05 Truth: $117.00 Error: $10.05 SLE: 0.01 Item: Bandai Awakening of S. H. s.h.figuarts s...\u001b[0m\n",
      "\u001b[91m104: Guess: $263.96 Truth: $172.14 Error: $91.82 SLE: 0.18 Item: Fit System 62135G Passenger Side Towing ...\u001b[0m\n",
      "\u001b[92m105: Guess: $355.89 Truth: $392.74 Error: $36.85 SLE: 0.01 Item: Black Horse Black Aluminum Exceed Runnin...\u001b[0m\n",
      "\u001b[92m106: Guess: $39.51 Truth: $16.99 Error: $22.52 SLE: 0.66 Item: Dearsun Twinkle Star Color Night Light P...\u001b[0m\n",
      "\u001b[92m107: Guess: $17.82 Truth: $1.34 Error: $16.48 SLE: 4.35 Item: Pokemon - Gallade Spirit Link (83/108) -...\u001b[0m\n",
      "\u001b[93m108: Guess: $256.39 Truth: $349.98 Error: $93.59 SLE: 0.10 Item: Ibanez GA34STCE-NT GIO Series Classical ...\u001b[0m\n",
      "\u001b[92m109: Guess: $404.38 Truth: $370.71 Error: $33.67 SLE: 0.01 Item: Set 2 Heavy Duty 12-16.5 12x16.5 12 Ply ...\u001b[0m\n",
      "\u001b[92m110: Guess: $78.48 Truth: $65.88 Error: $12.60 SLE: 0.03 Item: Hairpin Table Legs 28\" Heavy Duty Hairpi...\u001b[0m\n",
      "\u001b[92m111: Guess: $258.91 Truth: $229.99 Error: $28.92 SLE: 0.01 Item: Marada Racing Seat with Adjustable Slide...\u001b[0m\n",
      "\u001b[92m112: Guess: $20.15 Truth: $9.14 Error: $11.01 SLE: 0.54 Item: Remington Industries 24UL1007STRWHI25 24...\u001b[0m\n",
      "\u001b[91m113: Guess: $418.40 Truth: $199.00 Error: $219.40 SLE: 0.55 Item: Acer S3-391-6046 13.3-inch Ultrabook, In...\u001b[0m\n",
      "\u001b[91m114: Guess: $207.05 Truth: $109.99 Error: $97.06 SLE: 0.39 Item: ICBEAMER 7\" RGB LED Headlights Bulb Halo...\u001b[0m\n",
      "\u001b[93m115: Guess: $393.96 Truth: $570.42 Error: $176.46 SLE: 0.14 Item: R1 Concepts Front Rear Brakes and Rotors...\u001b[0m\n",
      "\u001b[92m116: Guess: $235.19 Truth: $279.99 Error: $44.80 SLE: 0.03 Item: Camplux 2.64 GPM Tankless , Outdoor Port...\u001b[0m\n",
      "\u001b[92m117: Guess: $51.39 Truth: $30.99 Error: $20.40 SLE: 0.24 Item: KNOKLOCK 10 Pack 3.75 Inch(96mm) Kitchen...\u001b[0m\n",
      "\u001b[92m118: Guess: $62.90 Truth: $31.99 Error: $30.91 SLE: 0.44 Item: Valley Enterprises Yaesu USB FTDI CT-62 ...\u001b[0m\n",
      "\u001b[93m119: Guess: $66.15 Truth: $15.90 Error: $50.25 SLE: 1.90 Item: G9 LED Light Bulbs，8W，75W 100W replaceme...\u001b[0m\n",
      "\u001b[93m120: Guess: $106.58 Truth: $45.99 Error: $60.59 SLE: 0.69 Item: ZCHAOZ 4 Lights Antique White Farmhouse ...\u001b[0m\n",
      "\u001b[91m121: Guess: $253.18 Truth: $113.52 Error: $139.66 SLE: 0.64 Item: Honeywell TH8320R1003 Honeywell VisionPr...\u001b[0m\n",
      "\u001b[92m122: Guess: $490.76 Truth: $516.99 Error: $26.23 SLE: 0.00 Item: Patriot Exhaust H8013-1 1-7/8\" Clippster...\u001b[0m\n",
      "\u001b[92m123: Guess: $161.78 Truth: $196.99 Error: $35.21 SLE: 0.04 Item: Fitrite Autopart New Front Left Driver S...\u001b[0m\n",
      "\u001b[93m124: Guess: $88.77 Truth: $46.55 Error: $42.22 SLE: 0.40 Item: Technical Precision Replacement for GE G...\u001b[0m\n",
      "\u001b[93m125: Guess: $281.25 Truth: $356.99 Error: $75.74 SLE: 0.06 Item: Covercraft Carhartt SeatSaver Front Row ...\u001b[0m\n",
      "\u001b[93m126: Guess: $233.00 Truth: $319.95 Error: $86.95 SLE: 0.10 Item: Sennheiser SD Pro 2 (506008) - Double-Si...\u001b[0m\n",
      "\u001b[93m127: Guess: $140.09 Truth: $96.06 Error: $44.03 SLE: 0.14 Item: Hitachi MAF0110 Mass Air Flow Sensor\u001b[0m\n",
      "\u001b[92m128: Guess: $216.06 Truth: $190.99 Error: $25.07 SLE: 0.02 Item: AmScope SE305R-P-LED-PS36A 10X-30X LED C...\u001b[0m\n",
      "\u001b[91m129: Guess: $131.33 Truth: $257.95 Error: $126.62 SLE: 0.45 Item: Front Left Driver Side Window Regulator ...\u001b[0m\n",
      "\u001b[92m130: Guess: $83.95 Truth: $62.95 Error: $21.00 SLE: 0.08 Item: Premium Replica Hubcap Set, Fits Nissan ...\u001b[0m\n",
      "\u001b[92m131: Guess: $80.47 Truth: $47.66 Error: $32.81 SLE: 0.27 Item: Excellerations Phonics Spelling Game for...\u001b[0m\n",
      "\u001b[92m132: Guess: $203.48 Truth: $226.99 Error: $23.51 SLE: 0.01 Item: RC4WD BigDog Dual Axle Scale Car/Truck T...\u001b[0m\n",
      "\u001b[92m133: Guess: $326.92 Truth: $359.95 Error: $33.03 SLE: 0.01 Item: Unknown Stage 2 Clutch Kit - Low Altitud...\u001b[0m\n",
      "\u001b[92m134: Guess: $81.03 Truth: $78.40 Error: $2.63 SLE: 0.00 Item: 2002-2008 Dodge Ram 1500 Mopar 4X4 Emble...\u001b[0m\n",
      "\u001b[92m135: Guess: $164.46 Truth: $172.77 Error: $8.31 SLE: 0.00 Item: Pro Comp Alloys Series 89 Wheel with Pol...\u001b[0m\n",
      "\u001b[92m136: Guess: $351.44 Truth: $316.45 Error: $34.99 SLE: 0.01 Item: Detroit Axle - Front Rear Strut & Coil S...\u001b[0m\n",
      "\u001b[92m137: Guess: $90.05 Truth: $87.99 Error: $2.06 SLE: 0.00 Item: ECCPP Rear Wheel Axle Replacement fit fo...\u001b[0m\n",
      "\u001b[92m138: Guess: $211.02 Truth: $226.63 Error: $15.61 SLE: 0.01 Item: Dell Latitude E6520 Intel i7-2720QM 2.20...\u001b[0m\n",
      "\u001b[92m139: Guess: $49.35 Truth: $31.49 Error: $17.86 SLE: 0.19 Item: F FIERCE CYCLE 251pcs Black Universal Mo...\u001b[0m\n",
      "\u001b[93m140: Guess: $247.29 Truth: $196.00 Error: $51.29 SLE: 0.05 Item: Flash Furniture 4 Pk. HERCULES Series 88...\u001b[0m\n",
      "\u001b[92m141: Guess: $82.69 Truth: $78.40 Error: $4.29 SLE: 0.00 Item: B&M 30287 Throttle Valve/Kickdown Cable,...\u001b[0m\n",
      "\u001b[92m142: Guess: $87.60 Truth: $116.25 Error: $28.65 SLE: 0.08 Item: Gates TCK226 PowerGrip Premium Timing Be...\u001b[0m\n",
      "\u001b[92m143: Guess: $145.01 Truth: $112.78 Error: $32.23 SLE: 0.06 Item: Monroe Shocks & Struts Quick-Strut 17149...\u001b[0m\n",
      "\u001b[93m144: Guess: $90.55 Truth: $27.32 Error: $63.23 SLE: 1.38 Item: Feit Electric BPMR16/GU10/930CA/6 35W EQ...\u001b[0m\n",
      "\u001b[92m145: Guess: $141.87 Truth: $145.91 Error: $4.04 SLE: 0.00 Item: Yellow Jacket 2806 Contractor Extension ...\u001b[0m\n",
      "\u001b[92m146: Guess: $181.75 Truth: $171.09 Error: $10.66 SLE: 0.00 Item: Garage-Pro Tailgate SET Compatible with ...\u001b[0m\n",
      "\u001b[92m147: Guess: $135.08 Truth: $167.95 Error: $32.87 SLE: 0.05 Item: 3M Perfect It Buffing and Polishing Kit ...\u001b[0m\n",
      "\u001b[92m148: Guess: $41.79 Truth: $28.49 Error: $13.30 SLE: 0.14 Item: Chinese Style Dollhouse Model DIY Miniat...\u001b[0m\n",
      "\u001b[92m149: Guess: $140.97 Truth: $122.23 Error: $18.74 SLE: 0.02 Item: Generic NRG Innovations SRK-161H Steerin...\u001b[0m\n",
      "\u001b[92m150: Guess: $48.94 Truth: $32.99 Error: $15.95 SLE: 0.15 Item: Learning Resources Coding Critters Range...\u001b[0m\n",
      "\u001b[93m151: Guess: $113.59 Truth: $71.20 Error: $42.39 SLE: 0.21 Item: Bosch Automotive 15463 Oxygen Sensor, OE...\u001b[0m\n",
      "\u001b[92m152: Guess: $113.07 Truth: $112.75 Error: $0.32 SLE: 0.00 Item: Case of 24-2 Inch Blue Painters Tape - 6...\u001b[0m\n",
      "\u001b[92m153: Guess: $110.32 Truth: $142.43 Error: $32.11 SLE: 0.06 Item: MOCA Engine Water Pump & Fan Clutch fit ...\u001b[0m\n",
      "\u001b[93m154: Guess: $311.00 Truth: $398.99 Error: $87.99 SLE: 0.06 Item: SAREMAS Foot Step Bars for Hyundai Palis...\u001b[0m\n",
      "\u001b[93m155: Guess: $603.07 Truth: $449.00 Error: $154.07 SLE: 0.09 Item: Gretsch G9210 Square Neck Boxcar Mahogan...\u001b[0m\n",
      "\u001b[92m156: Guess: $208.52 Truth: $189.00 Error: $19.52 SLE: 0.01 Item: NikoMaku Mirror Dash Cam Front and Rear ...\u001b[0m\n",
      "\u001b[92m157: Guess: $115.90 Truth: $120.91 Error: $5.01 SLE: 0.00 Item: Fenix HP25R v2.0 USB-C Rechargeable Head...\u001b[0m\n",
      "\u001b[92m158: Guess: $195.23 Truth: $203.53 Error: $8.30 SLE: 0.00 Item: R&L Racing Heavy Duty Roll-Up Soft Tonne...\u001b[0m\n",
      "\u001b[92m159: Guess: $338.81 Truth: $349.99 Error: $11.18 SLE: 0.00 Item: Garmin 010-02258-10 GPSMAP 64sx, Handhel...\u001b[0m\n",
      "\u001b[92m160: Guess: $25.03 Truth: $34.35 Error: $9.32 SLE: 0.09 Item: Brown 5-7/8\" X 8-1/2\" X 3/16\" Thick Heav...\u001b[0m\n",
      "\u001b[92m161: Guess: $337.08 Truth: $384.99 Error: $47.91 SLE: 0.02 Item: GAOMON PD2200 Pen Display & 20 Pen Nibs ...\u001b[0m\n",
      "\u001b[92m162: Guess: $242.89 Truth: $211.00 Error: $31.89 SLE: 0.02 Item: VXMOTOR for 97-03 Ford F150/F250 Lightdu...\u001b[0m\n",
      "\u001b[91m163: Guess: $217.93 Truth: $129.00 Error: $88.93 SLE: 0.27 Item: HP EliteBook 2540p Intel Core i7-640LM X...\u001b[0m\n",
      "\u001b[93m164: Guess: $40.03 Truth: $111.45 Error: $71.42 SLE: 1.02 Item: Green EPX Mixing Nozzles 100-Pack-fits 3...\u001b[0m\n",
      "\u001b[92m165: Guess: $49.49 Truth: $81.12 Error: $31.63 SLE: 0.24 Item: Box Partners 6 1/4 x 3 1/8\" 13 Pt. Manil...\u001b[0m\n",
      "\u001b[92m166: Guess: $431.00 Truth: $457.08 Error: $26.08 SLE: 0.00 Item: Vixen Air 1/2\" NPT Air Ride Suspension H...\u001b[0m\n",
      "\u001b[92m167: Guess: $85.37 Truth: $49.49 Error: $35.88 SLE: 0.29 Item: Smart Floor Lamp, 2700-6500K+RGBPink Mul...\u001b[0m\n",
      "\u001b[92m168: Guess: $118.76 Truth: $80.56 Error: $38.20 SLE: 0.15 Item: SOZG 324mm Wheelbase Body Shell RC Car B...\u001b[0m\n",
      "\u001b[92m169: Guess: $299.96 Truth: $278.39 Error: $21.57 SLE: 0.01 Item: Mickey Thompson ET Street S/S Racing Rad...\u001b[0m\n",
      "\u001b[92m170: Guess: $407.20 Truth: $364.50 Error: $42.70 SLE: 0.01 Item: Pirelli 275/40R20 106W XL RFT P0 PZ4-LUX...\u001b[0m\n",
      "\u001b[91m171: Guess: $627.81 Truth: $378.99 Error: $248.82 SLE: 0.25 Item: Torklift C3212 Rear Tie Down\u001b[0m\n",
      "\u001b[92m172: Guess: $190.16 Truth: $165.28 Error: $24.88 SLE: 0.02 Item: Cardone 78-4226 Remanufactured Ford Comp...\u001b[0m\n",
      "\u001b[92m173: Guess: $78.36 Truth: $56.74 Error: $21.62 SLE: 0.10 Item: Kidde AccessPoint 001798 Supra TouchPoin...\u001b[0m\n",
      "\u001b[93m174: Guess: $220.76 Truth: $307.95 Error: $87.19 SLE: 0.11 Item: 3M Protecta 3100414 Self Retracting Life...\u001b[0m\n",
      "\u001b[93m175: Guess: $117.81 Truth: $38.00 Error: $79.81 SLE: 1.24 Item: Plantronics 89435-01 Wired Headset, Blac...\u001b[0m\n",
      "\u001b[92m176: Guess: $88.94 Truth: $53.00 Error: $35.94 SLE: 0.26 Item: Logitech K750 Wireless Solar Keyboard fo...\u001b[0m\n",
      "\u001b[92m177: Guess: $528.25 Truth: $498.00 Error: $30.25 SLE: 0.00 Item: Olympus PEN E-PL9 Body Only with 3-Inch ...\u001b[0m\n",
      "\u001b[91m178: Guess: $156.10 Truth: $53.99 Error: $102.11 SLE: 1.10 Item: Beck/Arnley 051-6066 Hub & Bearing Assem...\u001b[0m\n",
      "\u001b[92m179: Guess: $340.27 Truth: $350.00 Error: $9.73 SLE: 0.00 Item: Eibach Pro-Kit Performance Springs E10-6...\u001b[0m\n",
      "\u001b[92m180: Guess: $294.86 Truth: $299.95 Error: $5.09 SLE: 0.00 Item: LEGO DC Batman 1989 Batwing 76161 Displa...\u001b[0m\n",
      "\u001b[92m181: Guess: $93.47 Truth: $94.93 Error: $1.46 SLE: 0.00 Item: Kingston Brass KS3608PL Restoration 4-In...\u001b[0m\n",
      "\u001b[92m182: Guess: $336.60 Truth: $379.00 Error: $42.40 SLE: 0.01 Item: Polk Vanishing Series 265-LS In-Wall 3-W...\u001b[0m\n",
      "\u001b[92m183: Guess: $259.09 Truth: $299.95 Error: $40.86 SLE: 0.02 Item: Spec-D Tuning LED Projector Headlights G...\u001b[0m\n",
      "\u001b[92m184: Guess: $31.79 Truth: $24.99 Error: $6.80 SLE: 0.05 Item: RICHMOND & FINCH Airpod Pro Case, Green ...\u001b[0m\n",
      "\u001b[91m185: Guess: $134.33 Truth: $41.04 Error: $93.29 SLE: 1.37 Item: LFA Industries 43B-5A-33JT 1/16-1/2-1.5-...\u001b[0m\n",
      "\u001b[92m186: Guess: $279.03 Truth: $327.90 Error: $48.87 SLE: 0.03 Item: SAUTVS LED Headlight Assembly for Slings...\u001b[0m\n",
      "\u001b[92m187: Guess: $32.58 Truth: $10.99 Error: $21.59 SLE: 1.06 Item: 2 Pack Combo Womens Safety Glasses Impac...\u001b[0m\n",
      "\u001b[92m188: Guess: $21.83 Truth: $14.99 Error: $6.84 SLE: 0.13 Item: Arepa - Venezuelan cuisine - Venezuela P...\u001b[0m\n",
      "\u001b[93m189: Guess: $37.97 Truth: $84.95 Error: $46.98 SLE: 0.63 Item: Schlage Lock Company KS23D2300 Padlock, ...\u001b[0m\n",
      "\u001b[92m190: Guess: $110.46 Truth: $111.00 Error: $0.54 SLE: 0.00 Item: Techni Mobili White Sit to Stand Mobile ...\u001b[0m\n",
      "\u001b[93m191: Guess: $167.02 Truth: $123.73 Error: $43.29 SLE: 0.09 Item: Special Lite Products Contemporary Wall ...\u001b[0m\n",
      "\u001b[92m192: Guess: $604.51 Truth: $557.38 Error: $47.13 SLE: 0.01 Item: Tascam DP-24SD 24-Track Digital Portastu...\u001b[0m\n",
      "\u001b[92m193: Guess: $110.14 Truth: $95.55 Error: $14.59 SLE: 0.02 Item: Glow Lighting 636CC10SP Vista Crystal Fl...\u001b[0m\n",
      "\u001b[92m194: Guess: $184.18 Truth: $154.00 Error: $30.18 SLE: 0.03 Item: Z3 Wind Deflector, Smoke Tint, Lexan, Wi...\u001b[0m\n",
      "\u001b[91m195: Guess: $283.61 Truth: $198.99 Error: $84.62 SLE: 0.12 Item: Olympus E-20 5MP Digital Camera w/ 4x Op...\u001b[0m\n",
      "\u001b[93m196: Guess: $260.91 Truth: $430.44 Error: $169.53 SLE: 0.25 Item: PHYNEDI 1:1000 World Trade Center (1973-...\u001b[0m\n",
      "\u001b[92m197: Guess: $45.94 Truth: $45.67 Error: $0.27 SLE: 0.00 Item: YANGHUAN Unstable Unicorns Adventure Car...\u001b[0m\n",
      "\u001b[92m198: Guess: $204.24 Truth: $249.00 Error: $44.76 SLE: 0.04 Item: Interlogix NX-1820E NetworX Touch Screen...\u001b[0m\n",
      "\u001b[92m199: Guess: $47.27 Truth: $42.99 Error: $4.28 SLE: 0.01 Item: Steering Damper,Universal Motorcycle Han...\u001b[0m\n",
      "\u001b[93m200: Guess: $249.96 Truth: $181.33 Error: $68.63 SLE: 0.10 Item: Amprobe TIC 410A Hot Stick Attachment\u001b[0m\n",
      "\u001b[92m201: Guess: $14.88 Truth: $6.03 Error: $8.85 SLE: 0.66 Item: MyCableMart 3.5mm Plug/Jack, 4 Conductor...\u001b[0m\n",
      "\u001b[92m202: Guess: $64.83 Truth: $29.99 Error: $34.84 SLE: 0.57 Item: OtterBox + Pop Symmetry Series Case for ...\u001b[0m\n",
      "\u001b[92m203: Guess: $785.83 Truth: $899.00 Error: $113.17 SLE: 0.02 Item: Dell XPS X8700-1572BLK Desktop ( Intel C...\u001b[0m\n",
      "\u001b[93m204: Guess: $488.89 Truth: $399.99 Error: $88.90 SLE: 0.04 Item: Franklin Iron Works Sperry Industrial Br...\u001b[0m\n",
      "\u001b[92m205: Guess: $31.82 Truth: $4.66 Error: $27.16 SLE: 3.09 Item: Avery Legal Dividers, Standard Collated ...\u001b[0m\n",
      "\u001b[92m206: Guess: $238.75 Truth: $261.41 Error: $22.66 SLE: 0.01 Item: Moen 8346 Commercial Posi-Temp Pressure ...\u001b[0m\n",
      "\u001b[92m207: Guess: $166.66 Truth: $136.97 Error: $29.69 SLE: 0.04 Item: Carlisle Versa Trail ATR All Terrain Rad...\u001b[0m\n",
      "\u001b[92m208: Guess: $96.28 Truth: $79.00 Error: $17.28 SLE: 0.04 Item: SUNWAYFOTO 44mm Tripod Ball Head Arca Co...\u001b[0m\n",
      "\u001b[92m209: Guess: $365.80 Truth: $444.99 Error: $79.19 SLE: 0.04 Item: NanoBeam AC NBE-5AC-Gen2-US 4 Units 5GHz...\u001b[0m\n",
      "\u001b[92m210: Guess: $473.86 Truth: $411.94 Error: $61.92 SLE: 0.02 Item: WULF 4\" Front 2\" Rear Leveling Lift Kit ...\u001b[0m\n",
      "\u001b[93m211: Guess: $202.08 Truth: $148.40 Error: $53.68 SLE: 0.09 Item: Alera ALEVABFMC Valencia Series Mobile B...\u001b[0m\n",
      "\u001b[91m212: Guess: $135.62 Truth: $244.99 Error: $109.37 SLE: 0.35 Item: YU-GI-OH! Ignition Assault Booster Box\u001b[0m\n",
      "\u001b[92m213: Guess: $112.66 Truth: $86.50 Error: $26.16 SLE: 0.07 Item: 48\" x 36\" Extra-Large Framed Magnetic Bl...\u001b[0m\n",
      "\u001b[91m214: Guess: $158.53 Truth: $297.95 Error: $139.42 SLE: 0.39 Item: Dell Latitude D620 Renewed Notebook PC\u001b[0m\n",
      "\u001b[92m215: Guess: $437.32 Truth: $399.99 Error: $37.33 SLE: 0.01 Item: acer Aspire 5 Laptop, AMD Ryzen 3 5300U ...\u001b[0m\n",
      "\u001b[93m216: Guess: $740.35 Truth: $599.00 Error: $141.35 SLE: 0.04 Item: Elk 31080/6RC-GRN 30 by 6-Inch Viva 6-Li...\u001b[0m\n",
      "\u001b[92m217: Guess: $103.27 Truth: $105.99 Error: $2.72 SLE: 0.00 Item: Barbie Top Model Doll\u001b[0m\n",
      "\u001b[93m218: Guess: $542.84 Truth: $689.00 Error: $146.16 SLE: 0.06 Item: Danby Designer 20-In. Electric Range wit...\u001b[0m\n",
      "\u001b[92m219: Guess: $375.47 Truth: $404.99 Error: $29.52 SLE: 0.01 Item: FixtureDisplays® Metal Truss Podium Doub...\u001b[0m\n",
      "\u001b[92m220: Guess: $218.45 Truth: $207.76 Error: $10.69 SLE: 0.00 Item: ACDelco 13597235 GM Original Equipment A...\u001b[0m\n",
      "\u001b[92m221: Guess: $175.69 Truth: $171.82 Error: $3.87 SLE: 0.00 Item: EBC S1KF1135 Stage-1 Premium Street Brak...\u001b[0m\n",
      "\u001b[92m222: Guess: $285.46 Truth: $293.24 Error: $7.78 SLE: 0.00 Item: FXR Men's Boost FX Jacket (Black/Orange/...\u001b[0m\n",
      "\u001b[92m223: Guess: $362.99 Truth: $374.95 Error: $11.96 SLE: 0.00 Item: SuperATV Scratch Resistant 3-in-1 Flip W...\u001b[0m\n",
      "\u001b[92m224: Guess: $119.99 Truth: $111.99 Error: $8.00 SLE: 0.00 Item: SBU 3 Layer All Weather Mini Van Car Cov...\u001b[0m\n",
      "\u001b[92m225: Guess: $58.37 Truth: $42.99 Error: $15.38 SLE: 0.09 Item: 2 Pack Outdoor Brochure Holder Advertisi...\u001b[0m\n",
      "\u001b[92m226: Guess: $132.85 Truth: $116.71 Error: $16.14 SLE: 0.02 Item: Monroe Shocks & Struts Quick-Strut 17158...\u001b[0m\n",
      "\u001b[91m227: Guess: $212.79 Truth: $118.61 Error: $94.18 SLE: 0.34 Item: Elements of Design Magellan EB235AL Thre...\u001b[0m\n",
      "\u001b[92m228: Guess: $137.71 Truth: $147.12 Error: $9.41 SLE: 0.00 Item: GM Genuine Parts 15-62961 Air Conditioni...\u001b[0m\n",
      "\u001b[93m229: Guess: $176.03 Truth: $119.99 Error: $56.04 SLE: 0.14 Item: Baseus 17-in-1 USB C Docking Station to ...\u001b[0m\n",
      "\u001b[93m230: Guess: $462.91 Truth: $369.98 Error: $92.93 SLE: 0.05 Item: Whitehall™ Personalized Whitehall Capito...\u001b[0m\n",
      "\u001b[92m231: Guess: $293.40 Truth: $315.55 Error: $22.15 SLE: 0.01 Item: Pro Circuit Works Pipe PY05250 for 02-19...\u001b[0m\n",
      "\u001b[93m232: Guess: $253.71 Truth: $190.99 Error: $62.72 SLE: 0.08 Item: HYANKA 15 \"1200W Professional DJ Speaker...\u001b[0m\n",
      "\u001b[92m233: Guess: $187.93 Truth: $155.00 Error: $32.93 SLE: 0.04 Item: Bluetooth X6BT Card Reader Writer Encode...\u001b[0m\n",
      "\u001b[92m234: Guess: $345.13 Truth: $349.99 Error: $4.86 SLE: 0.00 Item: AIRAID Cold Air Intake System by K&N: In...\u001b[0m\n",
      "\u001b[92m235: Guess: $282.20 Truth: $249.99 Error: $32.21 SLE: 0.01 Item: Bostingner Shower Faucets Sets Complete,...\u001b[0m\n",
      "\u001b[92m236: Guess: $76.69 Truth: $42.99 Error: $33.70 SLE: 0.32 Item: PIT66 Front Bumper Turn Signal Lights, C...\u001b[0m\n",
      "\u001b[92m237: Guess: $22.38 Truth: $17.99 Error: $4.39 SLE: 0.04 Item: Caseology Bumpy Compatible with Google P...\u001b[0m\n",
      "\u001b[92m238: Guess: $374.68 Truth: $425.00 Error: $50.32 SLE: 0.02 Item: Fleck 2510 Timer Mechanical Filter Contr...\u001b[0m\n",
      "\u001b[92m239: Guess: $285.19 Truth: $249.99 Error: $35.20 SLE: 0.02 Item: Haloview MC7108 Wireless RV Backup Camer...\u001b[0m\n",
      "\u001b[93m240: Guess: $62.05 Truth: $138.23 Error: $76.18 SLE: 0.63 Item: Schmidt Spiele - Manhattan\u001b[0m\n",
      "\u001b[92m241: Guess: $480.09 Truth: $414.99 Error: $65.10 SLE: 0.02 Item: Corsa 14333 Tip Kit (Ford Mustang GT)\u001b[0m\n",
      "\u001b[93m242: Guess: $235.02 Truth: $168.28 Error: $66.74 SLE: 0.11 Item: Hoshizaki FM116A Fan Motor Kit 1\u001b[0m\n",
      "\u001b[93m243: Guess: $240.04 Truth: $199.99 Error: $40.05 SLE: 0.03 Item: BAINUO Antler Chandelier Lighting,6 Ligh...\u001b[0m\n",
      "\u001b[92m244: Guess: $158.12 Truth: $126.70 Error: $31.42 SLE: 0.05 Item: DNA MOTORING HL-OH-FEXP06-SM-AM Smoke Le...\u001b[0m\n",
      "\u001b[92m245: Guess: $19.66 Truth: $5.91 Error: $13.75 SLE: 1.20 Item: Wera Stainless 3840/1 TS 2.5mm Hex Inser...\u001b[0m\n",
      "\u001b[92m246: Guess: $189.99 Truth: $193.06 Error: $3.07 SLE: 0.00 Item: Celestron - PowerSeeker 127EQ Telescope ...\u001b[0m\n",
      "\u001b[93m247: Guess: $185.82 Truth: $249.99 Error: $64.17 SLE: 0.09 Item: NHOPEEW 10.1inch Android Car Radio Carpl...\u001b[0m\n",
      "\u001b[92m248: Guess: $92.96 Truth: $64.12 Error: $28.84 SLE: 0.13 Item: Other Harmonica (Suzuki-2Timer24- A)\u001b[0m\n",
      "\u001b[93m249: Guess: $187.24 Truth: $114.99 Error: $72.25 SLE: 0.23 Item: Harley Air Filter Venturi Intake Air Cle...\u001b[0m\n",
      "\u001b[93m250: Guess: $639.02 Truth: $926.00 Error: $286.98 SLE: 0.14 Item: Elite Screens Edge Free Ambient Light Re...\u001b[0m\n"
     ]
    },
    {
     "data": {
      "image/png": "[encoded data removed]",
      "text/plain": [
       "<Figure size 1200x800 with 1 Axes>"
      ]
     },
     "metadata": {},
     "output_type": "display_data"
    }
   ],
   "source": [
    "# TestRunnerを実行\n",
    "Tester.test(ensemble2_pricer, test)"
   ]
  },
  {
   "cell_type": "markdown",
   "id": "347c5350-d4b5-42ae-96f6-ec94f6ab41d7",
   "metadata": {
    "id": "347c5350-d4b5-42ae-96f6-ec94f6ab41d7"
   },
   "source": [
    "# なんて日だ（笑）\n",
    "\n",
    "フロンティアモデルのRAGパイプライン、Transformerベースのエンコーディングを使用したランダム・フォレスト・モデル、アンサンブル・モデルなど、多くのことができました。\n",
    "\n",
    "確かにあなたはもっとうまくやることができます！これをファインチューニングし、コンポーネントをアンサンブルに追加して、パフォーマンスを打ち負かしてみてください。"
   ]
  }
 ],
 "metadata": {
  "colab": {
   "provenance": []
  },
  "kernelspec": {
   "display_name": "Python 3 (ipykernel)",
   "language": "python",
   "name": "python3"
  },
  "language_info": {
   "codemirror_mode": {
    "name": "ipython",
    "version": 3
   },
   "file_extension": ".py",
   "mimetype": "text/x-python",
   "name": "python",
   "nbconvert_exporter": "python",
   "pygments_lexer": "ipython3",
   "version": "3.12.3"
  }
 },
 "nbformat": 4,
 "nbformat_minor": 5
}
