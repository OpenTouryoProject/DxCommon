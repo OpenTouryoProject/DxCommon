{
 "cells": [
  {
   "cell_type": "markdown",
   "id": "23f53670-1a73-46ba-a754-4a497e8e0e64",
   "metadata": {},
   "source": [
    "# 価格は適正\n",
    "\n",
    "まず、さらに2つのシンプルなエージェントを磨きます。\n",
    "\n",
    "**メッセージング・エージェント**プッシュ通知を送信します。\n",
    "\n",
    "**計画エージェント**アクティビティを調整する。\n",
    "\n",
    "次に、すべてをエージェント・フレームワークにまとめます。\n",
    "\n",
    "プッシュ通知のために、<a href=\"https://pushover.net/\">Pushover</a>と呼ばれるプラットフォームを使用します。  \n",
    "無料アカウントを設定し、 `.env`ファイルに2つのトークンを追加する必要があります。\n",
    "\n",
    "```env\n",
    "# サインアップ作成後に発行される、Your User Key\n",
    "PUSHOVER_USER=xxx\n",
    "# アプリケーション作成後に発行される、API Token/Key\n",
    "PUSHOVER_TOKEN=xxx\n",
    "```"
   ]
  },
  {
   "cell_type": "code",
   "execution_count": 1,
   "id": "80d683d9-9e92-44ae-af87-a413ca84db21",
   "metadata": {},
   "outputs": [],
   "source": [
    "from dotenv import load_dotenv\n",
    "# `./agents/messaging_agent.py`\n",
    "from agents.messaging_agent import MessagingAgent\n",
    "\n",
    "import chromadb\n",
    "# `./agents/planning_agent.py`\n",
    "from agents.planning_agent import PlanningAgent"
   ]
  },
  {
   "cell_type": "code",
   "execution_count": 2,
   "id": "5ba769cc-5301-4810-b01f-cab584cfb3b3",
   "metadata": {},
   "outputs": [
    {
     "data": {
      "text/plain": [
       "False"
      ]
     },
     "execution_count": 2,
     "metadata": {},
     "output_type": "execute_result"
    }
   ],
   "source": [
    "# 設定\n",
    "load_dotenv(override=True)"
   ]
  },
  {
   "cell_type": "code",
   "execution_count": 3,
   "id": "e05cc427-3d2c-4792-ade1-d356f95a82a9",
   "metadata": {},
   "outputs": [],
   "source": [
    "# 実行\n",
    "agent = MessagingAgent()\n",
    "agent.push(\"MASSIVE NEWS!!!\")"
   ]
  },
  {
   "cell_type": "markdown",
   "id": "7f2781ad-e122-4570-8fad-a2fe6452414e",
   "metadata": {},
   "source": [
    "<table style=\"margin: 0; text-align: left;\">\n",
    "    <tr>\n",
    "        <td style=\"width: 150px; height: 150px; vertical-align: middle;\">\n",
    "            <img src=\"../resources.jpg\" width=\"150\" height=\"150\" style=\"display: block;\" />\n",
    "        </td>\n",
    "        <td>\n",
    "            <h2 style=\"color:#f71;\">追加リソース：より洗練された計画エージェント</h2>\n",
    "            <span style=\"color:#f71;\">\n",
    "                次のセルで使用する計画エージェントは、他のエージェントを呼び出すだけのPythonスクリプトです。正直なところ、このプロジェクトに必要なのはこれだけです。しかし、計画エージェントにツールを与え、どのエージェントを呼び出すかをエージェントが決定できる、より自律的なバージョンに興味がある場合は、関連リポジトリ<a href=\"https://github.com/ed-donner/agentic\">Agentic</a>にある<a href=\"https://github.com/ed-donner/agentic/blob/main/workshop/price_agents/autonomous_planning_agent.py\">AutonomousPlanningAgent</a>の実装をご覧ください。これは、呼び出す関数を動的に決定する複数のツールを備えた例です。\n",
    "            </span>\n",
    "        </td>\n",
    "    </tr>\n",
    "</table>"
   ]
  },
  {
   "cell_type": "code",
   "execution_count": 4,
   "id": "57b3a014-0b15-425a-a29b-6fefc5006dee",
   "metadata": {},
   "outputs": [],
   "source": [
    "# 設定\n",
    "DB = \"products_vectorstore\"\n",
    "client = chromadb.PersistentClient(path=DB)\n",
    "collection = client.get_or_create_collection('products')"
   ]
  },
  {
   "cell_type": "code",
   "execution_count": 5,
   "id": "a5c31c39-e357-446e-9cec-b4775c298941",
   "metadata": {},
   "outputs": [
    {
     "data": {
      "text/plain": [
       "Opportunity(deal=Deal(product_description='The EcoFlow Delta 2 is a powerful portable power station with a 1,024Wh capacity. It features multiple charging options including AC, USB, and solar input systems, though a solar panel is not included. With 4 USB ports and 2 USB-C ports, it provides ample connectivity for all your devices. This model is perfect for camping, outdoor events, or as a backup power source in emergencies.', price=490.0, url='https://www.dealnews.com/products/Eco-Flow/Eco-Flow-Delta-2-1-024-Wh-Portable-Power-Station/473744.html?iref=rss-c142'), estimate=973.984944272609, discount=483.984944272609)"
      ]
     },
     "execution_count": 5,
     "metadata": {},
     "output_type": "execute_result"
    }
   ],
   "source": [
    "# 実行\n",
    "planner = PlanningAgent(collection)\n",
    "planner.plan()"
   ]
  },
  {
   "cell_type": "code",
   "execution_count": 1,
   "id": "a8af923c-8237-4c6f-8129-9e0d1a573913",
   "metadata": {},
   "outputs": [
    {
     "name": "stdout",
     "output_type": "stream",
     "text": [
      "[2025-08-16 00:01:37 +0900] [Agents] [INFO] Anonymized telemetry enabled. See                     https://docs.trychroma.com/telemetry for more information.\n",
      "[2025-08-16 00:01:38 +0900] [Agents] [INFO] \u001b[44m\u001b[37m[Agent Framework] Initializing Agent Framework\u001b[0m\n",
      "[2025-08-16 00:01:38 +0900] [Agents] [INFO] \u001b[40m\u001b[32m[Planning Agent] Planning Agent is initializing\u001b[0m\n",
      "[2025-08-16 00:01:38 +0900] [Agents] [INFO] \u001b[40m\u001b[36m[Scanner Agent] Scanner Agent is initializing\u001b[0m\n",
      "[2025-08-16 00:01:38 +0900] [Agents] [INFO] \u001b[40m\u001b[36m[Scanner Agent] Scanner Agent is ready\u001b[0m\n",
      "[2025-08-16 00:01:38 +0900] [Agents] [INFO] \u001b[40m\u001b[33m[Ensemble2 Agent] Initializing Ensemble Agent\u001b[0m\n",
      "[2025-08-16 00:01:38 +0900] [Agents] [INFO] \u001b[40m\u001b[31m[Specialist Agent] Specialist Agent is initializing - connecting to modal\u001b[0m\n",
      "[2025-08-16 00:01:38 +0900] [Agents] [INFO] \u001b[40m\u001b[31m[Specialist Agent] Specialist Agent is ready\u001b[0m\n",
      "[2025-08-16 00:01:38 +0900] [Agents] [INFO] \u001b[40m\u001b[34m[Frontier Agent] Initializing Frontier Agent\u001b[0m\n",
      "[2025-08-16 00:01:38 +0900] [Agents] [INFO] \u001b[40m\u001b[34m[Frontier Agent] Frontier Agent is setting up with OpenAI\u001b[0m\n",
      "[2025-08-16 00:01:38 +0900] [Agents] [INFO] Use pytorch device_name: cpu\n",
      "[2025-08-16 00:01:38 +0900] [Agents] [INFO] Load pretrained SentenceTransformer: sentence-transformers/all-MiniLM-L6-v2\n",
      "[2025-08-16 00:01:42 +0900] [Agents] [INFO] \u001b[40m\u001b[34m[Frontier Agent] Frontier Agent is ready\u001b[0m\n",
      "[2025-08-16 00:01:42 +0900] [Agents] [INFO] \u001b[40m\u001b[35m[LightGBM Agent] LightGBM Agent is initializing\u001b[0m\n",
      "[2025-08-16 00:01:42 +0900] [Agents] [INFO] Use pytorch device_name: cpu\n",
      "[2025-08-16 00:01:42 +0900] [Agents] [INFO] Load pretrained SentenceTransformer: sentence-transformers/all-MiniLM-L6-v2\n",
      "[2025-08-16 00:01:51 +0900] [Agents] [INFO] \u001b[40m\u001b[35m[LightGBM Agent] LightGBM Agent is ready\u001b[0m\n",
      "[2025-08-16 00:01:51 +0900] [Agents] [INFO] \u001b[40m\u001b[33m[Ensemble2 Agent] Ensemble Agent is ready\u001b[0m\n",
      "[2025-08-16 00:01:51 +0900] [Agents] [INFO] \u001b[40m\u001b[37m[Messaging Agent] Messaging Agent is initializing\u001b[0m\n",
      "[2025-08-16 00:01:51 +0900] [Agents] [INFO] \u001b[40m\u001b[37m[Messaging Agent] Messaging Agent has initialized Pushover\u001b[0m\n",
      "[2025-08-16 00:01:51 +0900] [Agents] [INFO] \u001b[40m\u001b[32m[Planning Agent] Planning Agent is ready\u001b[0m\n",
      "[2025-08-16 00:01:51 +0900] [Agents] [INFO] \u001b[44m\u001b[37m[Agent Framework] Agent Framework is ready\u001b[0m\n",
      "[2025-08-16 00:01:51 +0900] [Agents] [INFO] Kicking off Planning Agent\n",
      "[2025-08-16 00:01:51 +0900] [Agents] [INFO] \u001b[40m\u001b[32m[Planning Agent] Planning Agent is kicking off a run\u001b[0m\n",
      "[2025-08-16 00:01:51 +0900] [Agents] [INFO] \u001b[40m\u001b[36m[Scanner Agent] Scanner Agent is about to fetch deals from RSS feed\u001b[0m\n",
      "[2025-08-16 00:03:05 +0900] [Agents] [INFO] \u001b[40m\u001b[36m[Scanner Agent] Scanner Agent received 25 deals not already scraped\u001b[0m\n",
      "[2025-08-16 00:03:05 +0900] [Agents] [INFO] \u001b[40m\u001b[36m[Scanner Agent] Scanner Agent is calling OpenAI using Structured Output\u001b[0m\n",
      "[2025-08-16 00:03:20 +0900] [Agents] [INFO] HTTP Request: POST https://api.openai.com/v1/chat/completions \"HTTP/1.1 200 OK\"\n",
      "[2025-08-16 00:03:20 +0900] [Agents] [INFO] \u001b[40m\u001b[36m[Scanner Agent] Scanner Agent received 5 selected deals with price>0 from OpenAI\u001b[0m\n",
      "[2025-08-16 00:03:20 +0900] [Agents] [INFO] \u001b[40m\u001b[32m[Planning Agent] Planning Agent is pricing up a potential deal\u001b[0m\n",
      "[2025-08-16 00:03:20 +0900] [Agents] [INFO] \u001b[40m\u001b[33m[Ensemble2 Agent] Running Ensemble Agent - collaborating with specialist, frontier and LightGBM agents\u001b[0m\n",
      "[2025-08-16 00:03:20 +0900] [Agents] [INFO] \u001b[40m\u001b[31m[Specialist Agent] Specialist Agent is calling remote fine-tuned model\u001b[0m\n",
      "[2025-08-16 00:04:08 +0900] [Agents] [INFO] \u001b[40m\u001b[31m[Specialist Agent] Specialist Agent completed - predicting $54.00\u001b[0m\n",
      "[2025-08-16 00:04:08 +0900] [Agents] [INFO] \u001b[40m\u001b[34m[Frontier Agent] Frontier Agent is performing a RAG search of the Chroma datastore to find 5 similar products\u001b[0m\n",
      "Batches: 100%|████████████████████████████████████| 1/1 [00:00<00:00,  4.57it/s]\n",
      "[2025-08-16 00:05:55 +0900] [Agents] [INFO] \u001b[40m\u001b[34m[Frontier Agent] Frontier Agent has found similar products\u001b[0m\n",
      "[2025-08-16 00:05:55 +0900] [Agents] [INFO] \u001b[40m\u001b[34m[Frontier Agent] Frontier Agent is about to call gpt-4o-mini with context including 5 similar products\u001b[0m\n",
      "[2025-08-16 00:05:59 +0900] [Agents] [INFO] HTTP Request: POST https://api.openai.com/v1/chat/completions \"HTTP/1.1 200 OK\"\n",
      "[2025-08-16 00:05:59 +0900] [Agents] [INFO] \u001b[40m\u001b[34m[Frontier Agent] Frontier Agent completed - predicting $79.99\u001b[0m\n",
      "[2025-08-16 00:05:59 +0900] [Agents] [INFO] \u001b[40m\u001b[35m[LightGBM Agent] LightGBM Agent is starting a prediction\u001b[0m\n",
      "Batches: 100%|████████████████████████████████████| 1/1 [00:00<00:00, 30.14it/s]\n",
      "[2025-08-16 00:05:59 +0900] [Agents] [INFO] \u001b[40m\u001b[35m[LightGBM Agent] RLightGBM Agent completed - predicting $72.52\u001b[0m\n",
      "[2025-08-16 00:05:59 +0900] [Agents] [INFO] \u001b[40m\u001b[33m[Ensemble2 Agent] Ensemble Agent complete - returning $69.14\u001b[0m\n",
      "[2025-08-16 00:05:59 +0900] [Agents] [INFO] \u001b[40m\u001b[32m[Planning Agent] Planning Agent has processed a deal with discount $36.14\u001b[0m\n",
      "[2025-08-16 00:05:59 +0900] [Agents] [INFO] \u001b[40m\u001b[32m[Planning Agent] Planning Agent is pricing up a potential deal\u001b[0m\n",
      "[2025-08-16 00:05:59 +0900] [Agents] [INFO] \u001b[40m\u001b[33m[Ensemble2 Agent] Running Ensemble Agent - collaborating with specialist, frontier and LightGBM agents\u001b[0m\n",
      "[2025-08-16 00:05:59 +0900] [Agents] [INFO] \u001b[40m\u001b[31m[Specialist Agent] Specialist Agent is calling remote fine-tuned model\u001b[0m\n",
      "[2025-08-16 00:06:40 +0900] [Agents] [INFO] \u001b[40m\u001b[31m[Specialist Agent] Specialist Agent completed - predicting $950.00\u001b[0m\n",
      "[2025-08-16 00:06:40 +0900] [Agents] [INFO] \u001b[40m\u001b[34m[Frontier Agent] Frontier Agent is performing a RAG search of the Chroma datastore to find 5 similar products\u001b[0m\n",
      "Batches: 100%|████████████████████████████████████| 1/1 [00:00<00:00, 14.32it/s]\n",
      "[2025-08-16 00:06:40 +0900] [Agents] [INFO] \u001b[40m\u001b[34m[Frontier Agent] Frontier Agent has found similar products\u001b[0m\n",
      "[2025-08-16 00:06:40 +0900] [Agents] [INFO] \u001b[40m\u001b[34m[Frontier Agent] Frontier Agent is about to call gpt-4o-mini with context including 5 similar products\u001b[0m\n",
      "[2025-08-16 00:06:41 +0900] [Agents] [INFO] HTTP Request: POST https://api.openai.com/v1/chat/completions \"HTTP/1.1 200 OK\"\n",
      "[2025-08-16 00:06:41 +0900] [Agents] [INFO] \u001b[40m\u001b[34m[Frontier Agent] Frontier Agent completed - predicting $699.99\u001b[0m\n",
      "[2025-08-16 00:06:41 +0900] [Agents] [INFO] \u001b[40m\u001b[35m[LightGBM Agent] LightGBM Agent is starting a prediction\u001b[0m\n",
      "Batches: 100%|████████████████████████████████████| 1/1 [00:00<00:00, 29.44it/s]\n",
      "[2025-08-16 00:06:42 +0900] [Agents] [INFO] \u001b[40m\u001b[35m[LightGBM Agent] RLightGBM Agent completed - predicting $594.59\u001b[0m\n",
      "[2025-08-16 00:06:42 +0900] [Agents] [INFO] \u001b[40m\u001b[33m[Ensemble2 Agent] Ensemble Agent complete - returning $907.81\u001b[0m\n",
      "[2025-08-16 00:06:42 +0900] [Agents] [INFO] \u001b[40m\u001b[32m[Planning Agent] Planning Agent has processed a deal with discount $527.81\u001b[0m\n",
      "[2025-08-16 00:06:42 +0900] [Agents] [INFO] \u001b[40m\u001b[32m[Planning Agent] Planning Agent is pricing up a potential deal\u001b[0m\n",
      "[2025-08-16 00:06:42 +0900] [Agents] [INFO] \u001b[40m\u001b[33m[Ensemble2 Agent] Running Ensemble Agent - collaborating with specialist, frontier and LightGBM agents\u001b[0m\n",
      "[2025-08-16 00:06:42 +0900] [Agents] [INFO] \u001b[40m\u001b[31m[Specialist Agent] Specialist Agent is calling remote fine-tuned model\u001b[0m\n",
      "[2025-08-16 00:06:43 +0900] [Agents] [INFO] \u001b[40m\u001b[31m[Specialist Agent] Specialist Agent completed - predicting $250.00\u001b[0m\n",
      "[2025-08-16 00:06:43 +0900] [Agents] [INFO] \u001b[40m\u001b[34m[Frontier Agent] Frontier Agent is performing a RAG search of the Chroma datastore to find 5 similar products\u001b[0m\n",
      "Batches: 100%|████████████████████████████████████| 1/1 [00:00<00:00, 18.50it/s]\n",
      "[2025-08-16 00:06:43 +0900] [Agents] [INFO] \u001b[40m\u001b[34m[Frontier Agent] Frontier Agent has found similar products\u001b[0m\n",
      "[2025-08-16 00:06:43 +0900] [Agents] [INFO] \u001b[40m\u001b[34m[Frontier Agent] Frontier Agent is about to call gpt-4o-mini with context including 5 similar products\u001b[0m\n",
      "[2025-08-16 00:06:44 +0900] [Agents] [INFO] HTTP Request: POST https://api.openai.com/v1/chat/completions \"HTTP/1.1 200 OK\"\n",
      "[2025-08-16 00:06:44 +0900] [Agents] [INFO] \u001b[40m\u001b[34m[Frontier Agent] Frontier Agent completed - predicting $99.99\u001b[0m\n",
      "[2025-08-16 00:06:44 +0900] [Agents] [INFO] \u001b[40m\u001b[35m[LightGBM Agent] LightGBM Agent is starting a prediction\u001b[0m\n",
      "Batches: 100%|████████████████████████████████████| 1/1 [00:00<00:00, 28.27it/s]\n",
      "[2025-08-16 00:06:44 +0900] [Agents] [INFO] \u001b[40m\u001b[35m[LightGBM Agent] RLightGBM Agent completed - predicting $52.58\u001b[0m\n",
      "[2025-08-16 00:06:44 +0900] [Agents] [INFO] \u001b[40m\u001b[33m[Ensemble2 Agent] Ensemble Agent complete - returning $241.99\u001b[0m\n",
      "[2025-08-16 00:06:44 +0900] [Agents] [INFO] \u001b[40m\u001b[32m[Planning Agent] Planning Agent has processed a deal with discount $211.99\u001b[0m\n",
      "[2025-08-16 00:06:44 +0900] [Agents] [INFO] \u001b[40m\u001b[32m[Planning Agent] Planning Agent is pricing up a potential deal\u001b[0m\n",
      "[2025-08-16 00:06:44 +0900] [Agents] [INFO] \u001b[40m\u001b[33m[Ensemble2 Agent] Running Ensemble Agent - collaborating with specialist, frontier and LightGBM agents\u001b[0m\n",
      "[2025-08-16 00:06:44 +0900] [Agents] [INFO] \u001b[40m\u001b[31m[Specialist Agent] Specialist Agent is calling remote fine-tuned model\u001b[0m\n",
      "[2025-08-16 00:06:46 +0900] [Agents] [INFO] \u001b[40m\u001b[31m[Specialist Agent] Specialist Agent completed - predicting $950.00\u001b[0m\n",
      "[2025-08-16 00:06:46 +0900] [Agents] [INFO] \u001b[40m\u001b[34m[Frontier Agent] Frontier Agent is performing a RAG search of the Chroma datastore to find 5 similar products\u001b[0m\n",
      "Batches: 100%|████████████████████████████████████| 1/1 [00:00<00:00, 26.74it/s]\n",
      "[2025-08-16 00:06:46 +0900] [Agents] [INFO] \u001b[40m\u001b[34m[Frontier Agent] Frontier Agent has found similar products\u001b[0m\n",
      "[2025-08-16 00:06:46 +0900] [Agents] [INFO] \u001b[40m\u001b[34m[Frontier Agent] Frontier Agent is about to call gpt-4o-mini with context including 5 similar products\u001b[0m\n",
      "[2025-08-16 00:06:47 +0900] [Agents] [INFO] HTTP Request: POST https://api.openai.com/v1/chat/completions \"HTTP/1.1 200 OK\"\n",
      "[2025-08-16 00:06:47 +0900] [Agents] [INFO] \u001b[40m\u001b[34m[Frontier Agent] Frontier Agent completed - predicting $999.99\u001b[0m\n",
      "[2025-08-16 00:06:47 +0900] [Agents] [INFO] \u001b[40m\u001b[35m[LightGBM Agent] LightGBM Agent is starting a prediction\u001b[0m\n",
      "Batches: 100%|████████████████████████████████████| 1/1 [00:00<00:00, 24.29it/s]\n",
      "[2025-08-16 00:06:47 +0900] [Agents] [INFO] \u001b[40m\u001b[35m[LightGBM Agent] RLightGBM Agent completed - predicting $495.42\u001b[0m\n",
      "[2025-08-16 00:06:47 +0900] [Agents] [INFO] \u001b[40m\u001b[33m[Ensemble2 Agent] Ensemble Agent complete - returning $1008.61\u001b[0m\n",
      "[2025-08-16 00:06:47 +0900] [Agents] [INFO] \u001b[40m\u001b[32m[Planning Agent] Planning Agent has processed a deal with discount $438.61\u001b[0m\n",
      "[2025-08-16 00:06:47 +0900] [Agents] [INFO] \u001b[40m\u001b[32m[Planning Agent] Planning Agent is pricing up a potential deal\u001b[0m\n",
      "[2025-08-16 00:06:47 +0900] [Agents] [INFO] \u001b[40m\u001b[33m[Ensemble2 Agent] Running Ensemble Agent - collaborating with specialist, frontier and LightGBM agents\u001b[0m\n",
      "[2025-08-16 00:06:47 +0900] [Agents] [INFO] \u001b[40m\u001b[31m[Specialist Agent] Specialist Agent is calling remote fine-tuned model\u001b[0m\n",
      "[2025-08-16 00:06:49 +0900] [Agents] [INFO] \u001b[40m\u001b[31m[Specialist Agent] Specialist Agent completed - predicting $500.00\u001b[0m\n",
      "[2025-08-16 00:06:49 +0900] [Agents] [INFO] \u001b[40m\u001b[34m[Frontier Agent] Frontier Agent is performing a RAG search of the Chroma datastore to find 5 similar products\u001b[0m\n",
      "Batches: 100%|████████████████████████████████████| 1/1 [00:00<00:00, 21.91it/s]\n",
      "[2025-08-16 00:06:49 +0900] [Agents] [INFO] \u001b[40m\u001b[34m[Frontier Agent] Frontier Agent has found similar products\u001b[0m\n",
      "[2025-08-16 00:06:49 +0900] [Agents] [INFO] \u001b[40m\u001b[34m[Frontier Agent] Frontier Agent is about to call gpt-4o-mini with context including 5 similar products\u001b[0m\n",
      "[2025-08-16 00:06:51 +0900] [Agents] [INFO] HTTP Request: POST https://api.openai.com/v1/chat/completions \"HTTP/1.1 200 OK\"\n",
      "[2025-08-16 00:06:51 +0900] [Agents] [INFO] \u001b[40m\u001b[34m[Frontier Agent] Frontier Agent completed - predicting $399.99\u001b[0m\n",
      "[2025-08-16 00:06:51 +0900] [Agents] [INFO] \u001b[40m\u001b[35m[LightGBM Agent] LightGBM Agent is starting a prediction\u001b[0m\n",
      "Batches: 100%|████████████████████████████████████| 1/1 [00:00<00:00, 28.91it/s]\n",
      "[2025-08-16 00:06:51 +0900] [Agents] [INFO] \u001b[40m\u001b[35m[LightGBM Agent] RLightGBM Agent completed - predicting $290.59\u001b[0m\n",
      "[2025-08-16 00:06:51 +0900] [Agents] [INFO] \u001b[40m\u001b[33m[Ensemble2 Agent] Ensemble Agent complete - returning $492.49\u001b[0m\n",
      "[2025-08-16 00:06:51 +0900] [Agents] [INFO] \u001b[40m\u001b[32m[Planning Agent] Planning Agent has processed a deal with discount $372.49\u001b[0m\n",
      "[2025-08-16 00:06:51 +0900] [Agents] [INFO] \u001b[40m\u001b[32m[Planning Agent] Planning Agent has identified the best deal has discount $527.81\u001b[0m\n",
      "[2025-08-16 00:06:51 +0900] [Agents] [INFO] \u001b[40m\u001b[37m[Messaging Agent] Messaging Agent is sending a push notification\u001b[0m\n",
      "[2025-08-16 00:06:52 +0900] [Agents] [INFO] \u001b[40m\u001b[37m[Messaging Agent] Messaging Agent has completed\u001b[0m\n",
      "[2025-08-16 00:06:52 +0900] [Agents] [INFO] \u001b[40m\u001b[32m[Planning Agent] Planning Agent has completed a run\u001b[0m\n",
      "[2025-08-16 00:06:52 +0900] [Agents] [INFO] Planning Agent has completed and returned: deal=Deal(product_description='The Toshiba M550 Series 65M550NU is a 65\" 4K HDR LED UHD Smart Fire TV that delivers stunning picture quality with its 4K resolution and supports Dolby Vision HDR10, HDR10+, and HLG. It includes four HDMI ports for multiple device connections and has Amazon Alexa built-in for voice-controlled operation. Ideal for streaming and gaming, this TV provides an immersive viewing experience with vibrant colors and sharp details.', price=380.0, url='https://www.dealnews.com/products/Toshiba/Toshiba-M550-Series-65-M550-NU-65-4-K-HDR-LED-UHD-Smart-Fire-TV/492835.html?iref=rss-c142') estimate=907.8056411384323 discount=527.8056411384323\n",
      "/mnt/d/git/local/OpenTouryoProject/DxCommon/Notebook/path/ed-donner_llm/week8/deal_agent_framework.py:90: PydanticDeprecatedSince20: The `dict` method is deprecated; use `model_dump` instead. Deprecated in Pydantic V2.0 to be removed in V3.0. See Pydantic V2 Migration Guide at https://errors.pydantic.dev/2.11/migration/\n",
      "  data = [opportunity.dict() for opportunity in self.memory]\n"
     ]
    }
   ],
   "source": [
    "# deal_agent_framework.py から実行\n",
    "!python deal_agent_framework.py"
   ]
  }
 ],
 "metadata": {
  "kernelspec": {
   "display_name": "Python 3 (ipykernel)",
   "language": "python",
   "name": "python3"
  },
  "language_info": {
   "codemirror_mode": {
    "name": "ipython",
    "version": 3
   },
   "file_extension": ".py",
   "mimetype": "text/x-python",
   "name": "python",
   "nbconvert_exporter": "python",
   "pygments_lexer": "ipython3",
   "version": "3.12.3"
  }
 },
 "nbformat": 4,
 "nbformat_minor": 5
}
