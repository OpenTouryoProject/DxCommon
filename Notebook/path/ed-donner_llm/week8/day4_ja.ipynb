{
 "cells": [
  {
   "cell_type": "markdown",
   "id": "23f53670-1a73-46ba-a754-4a497e8e0e64",
   "metadata": {},
   "source": [
    "# 価格は正しいです\n",
    "\n",
    "まず、さらに2つのシンプルなエージェントを磨きます。\n",
    "\n",
    "**メッセージングエージェント**プッシュ通知を送信します\n",
    "\n",
    "**計画エージェント**アクティビティを調整する\n",
    "\n",
    "次に、すべてをエージェントフレームワークにまとめます。\n",
    "\n",
    "プッシュ通知のために、プッシュオーバーと呼ばれる気の利いたプラットフォームを使用します。  \n",
    "無料アカウントを設定し、 `.env`ファイルに2つのトークンを追加する必要があります。\n",
    "\n",
    "```\n",
    "PUSHOVER_USER=xxx\n",
    "PUSHOVER_TOKEN=xxx\n",
    "```"
   ]
  },
  {
   "cell_type": "code",
   "execution_count": null,
   "id": "80d683d9-9e92-44ae-af87-a413ca84db21",
   "metadata": {},
   "outputs": [],
   "source": [
    "from dotenv import load_dotenv\n",
    "from agents.messaging_agent import MessagingAgent"
   ]
  },
  {
   "cell_type": "code",
   "execution_count": null,
   "id": "5ba769cc-5301-4810-b01f-cab584cfb3b3",
   "metadata": {},
   "outputs": [],
   "source": [
    "load_dotenv(override=True)\n",
    "DB = \"products_vectorstore\""
   ]
  },
  {
   "cell_type": "code",
   "execution_count": null,
   "id": "e05cc427-3d2c-4792-ade1-d356f95a82a9",
   "metadata": {},
   "outputs": [],
   "source": [
    "agent = MessagingAgent()"
   ]
  },
  {
   "cell_type": "code",
   "execution_count": null,
   "id": "5ec518f5-dae4-44b1-a185-d7eaf853ec00",
   "metadata": {},
   "outputs": [],
   "source": [
    "agent.push(\"MASSIVE NEWS!!!\")"
   ]
  },
  {
   "cell_type": "markdown",
   "id": "7f2781ad-e122-4570-8fad-a2fe6452414e",
   "metadata": {},
   "source": [
    "<テーブルスタイル= \"マージン：0;テキストアライグ：左;\">\n",
    "    <tr>\n",
    "        <td style = \"width：150px; height：150px; vertical-align：middle;\">\n",
    "            <img src = \"../ resources.jpg\" width = \"150\" height = \"150\" style = \"display：block;\" />\n",
    "        </td>\n",
    "        <td>\n",
    "            <h2 style = \"color：＃f71;\">追加リソース：より洗練された計画エージェント</h2>\n",
    "            <Span style = \"color：＃f71;\">次のセルで使用する計画エージェントは、他のエージェントを呼び出すPythonスクリプトです。率直に言って、このプロジェクトに必要なのはそれだけです。しかし、計画エージェントツールを提供し、どのエージェントを呼び出すかを決定できるより自律的なバージョンを見たいと思っている場合は、<a href = \"https://github.com/ed-donner/agentic/blob/main/workshop/price_agents/autonomous_planning_planning_agent.p0/autongent.planning_planning_planning_planning_planning_planning_planningの実装を参照してください。 <a href = \"https://github.com/ed-donner/agentic\"> agentic </a>。これは、呼び出す関数を動的に決定する複数のツールを備えた例です。\n",
    "            </span>\n",
    "        </td>\n",
    "    </tr>\n",
    "</table>"
   ]
  },
  {
   "cell_type": "code",
   "execution_count": null,
   "id": "57b3a014-0b15-425a-a29b-6fefc5006dee",
   "metadata": {},
   "outputs": [],
   "source": [
    "import chromadb\n",
    "DB = \"products_vectorstore\"\n",
    "client = chromadb.PersistentClient(path=DB)\n",
    "collection = client.get_or_create_collection('products')\n",
    "from agents.planning_agent import PlanningAgent"
   ]
  },
  {
   "cell_type": "code",
   "execution_count": null,
   "id": "a5c31c39-e357-446e-9cec-b4775c298941",
   "metadata": {},
   "outputs": [],
   "source": [
    "planner = PlanningAgent(collection)"
   ]
  },
  {
   "cell_type": "code",
   "execution_count": null,
   "id": "d9ac771b-ea12-41c0-a7ce-05f12e27ad9e",
   "metadata": {},
   "outputs": [],
   "source": [
    "planner.plan()"
   ]
  },
  {
   "cell_type": "code",
   "execution_count": null,
   "id": "8dd94a70-3202-452b-9ef0-551d6feb159b",
   "metadata": {},
   "outputs": [],
   "source": []
  }
 ],
 "metadata": {
  "kernelspec": {
   "display_name": "Python 3 (ipykernel)",
   "language": "python",
   "name": "python3"
  },
  "language_info": {
   "codemirror_mode": {
    "name": "ipython",
    "version": 3
   },
   "file_extension": ".py",
   "mimetype": "text/x-python",
   "name": "python",
   "nbconvert_exporter": "python",
   "pygments_lexer": "ipython3",
   "version": "3.12.3"
  }
 },
 "nbformat": 4,
 "nbformat_minor": 5
}
