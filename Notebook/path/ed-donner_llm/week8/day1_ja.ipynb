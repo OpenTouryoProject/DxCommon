{
 "cells": [
  {
   "cell_type": "markdown",
   "id": "e426cd04-c053-43e8-b505-63cee7956a53",
   "metadata": {},
   "source": [
    "# 非常に忙しい第週8フォルダーへようこそ\n",
    "\n",
    "## 今週はたくさんあります！\n",
    "\n",
    "特に熟練したLLMエンジニアになっているので、通常よりも速いペースで移動します。\n"
   ]
  },
  {
   "cell_type": "markdown",
   "id": "b3cf5389-93c5-4523-bc48-78fabb91d8f6",
   "metadata": {},
   "source": [
    "<table style=\"margin: 0; text-align: left;\">\n",
    "    <tr>\n",
    "        <td style=\"width: 150px; height: 150px; vertical-align: middle;\">\n",
    "            <img src=\"../important.jpg\" width=\"150\" height=\"150\" style=\"display: block;\" />\n",
    "        </td>\n",
    "        <td>\n",
    "            <h2 style=\"color:#900;\">今週特に重要なのは、最新のコードを取得することです。</h2>\n",
    "            <span style=\"color:#900;\">\n",
    "                これらのラボは継続的に改善しており、例題や演習を追加しています。毎週初めに、最新のコードを使用していることを確認してください。<br/>\n",
    "                先ずは、<a href=\"https://chatgpt.com/share/6734e705-3270-8012-a074-421661af6ba9\">git pullを実行し、必要に応じて変更をマージしてください</a>。 何か問題がありましたら、ChatGPTにマージ方法を尋ねるか、私にご連絡ください。<br/><br/>\n",
    "                コードをプルした後、llm_engineeringディレクトリからAnacondaプロンプト（PC）またはターミナル（Mac）で次のコマンドを実行してください。：<br/>\n",
    "                <code>conda env update --f environment.yml --prune</code><br/>\n",
    "                Anacondaではなくvirtualenvを使用した場合は、Powershell（PC）またはターミナル（Mac）で、有効化した環境から次のコマンドを実行してください。：<br/>\n",
    "                <code>pip install -r requirements.txt</code><br/>\n",
    "                変更を反映させるため、カーネルを再起動してください（「カーネル」メニュー >> 「カーネルを再起動してすべてのセルの出力をクリア」）。\n",
    "            </span>\n",
    "        </td>\n",
    "    </tr>\n",
    "</table>"
   ]
  },
  {
   "cell_type": "code",
   "execution_count": null,
   "id": "a8d89b1f-8a2c-45a6-8729-5b7c55151f3d",
   "metadata": {},
   "outputs": [],
   "source": [
    "# 具合が悪くなったので 新仮想環境で、requirements.txt 使う。\n",
    "#!pip install -r ../requirements.txt"
   ]
  },
  {
   "cell_type": "code",
   "execution_count": null,
   "id": "bc0e1c1c-be6a-4395-bbbd-eeafc9330d7e",
   "metadata": {},
   "outputs": [],
   "source": [
    "# クラウド環境でAI系ワークロードを実行するためのクライアント・ライブラリ（FaaSではないらしい）\n",
    "# https://qiita.com/cacaoMath/items/25b4561ed6335d3ed909\n",
    "import modal"
   ]
  },
  {
   "cell_type": "markdown",
   "id": "ab5c8533-9f66-448f-b9b2-133d1ff50639",
   "metadata": {},
   "source": [
    "# モーダルトークンのセットアップ\n",
    "\n",
    "初めて実行する際は、次の行のコメントを解除して実行してください。\n",
    "これは、コマンドラインから `modal setup` を実行するのと同じです。モーダルに接続し、トークンをインストールします。  \n",
    "\n",
    "## Windowsでいくつかの一般的な問題をデバッグします\n",
    "\n",
    "このコマンドが次のセルで失敗するか、`!` 付きのモーダルコマンドが失敗する場合は、アクティブ化された環境でコマンドラインから直接実行してみてください（`!` は使用しないでください）。\n",
    "\n",
    "Windows の学生から、Windows では、アクティブ化された環境でコマンドプロンプトから次のコマンドを実行する必要があるかもしれないという報告がありました。：\n",
    "`modal token new`  \n",
    "（エドBに感謝します！）\n",
    "\n",
    "別の Windows の学生 Minh N. さんから、アクティブ化された環境でコマンドラインから次のコマンドを実行する必要があるかもしれないという報告がありました。：\n",
    "`modal token set --token-id <your_token_id> --token-secret <your_token_secret>`\n",
    "\n",
    "また、David S. さんは次のように報告しました。：  \n",
    "> Windowsを使用している他の誰かがこの問題にヒットした場合：コマンドプロンプトから `modal token new` を実行する必要がある場合、生成されたトークンファイルを移動する必要があります。トークンファイル（.modal.toml）をWindowsプロファイルフォルダーに展開します。仮想環境はその場所を見ることができませんでした（奇妙なことに、環境変数を設定して再起動した後でもできませんでした）。そのトークンファイルをラボで操作しているフォルダーに移動し、認証エラーのスローを停止しました。\n",
    "\n",
    "そして、別のWindowsの学生（Robert M. - ありがとう!!）別の可能なステップを追加しました：\n",
    "\n",
    ">「.modal.toml」ファイルを「week8」フォルダーにコピーしてjupyterlabを再起動した後でも、トークンを見るためにモーダルを取得できませんでした（「authエラー」になります）。修正は、環境変数（標準的な方法）を手動で設定することでした。この構成方法は、[モーダルのサイト](https://modal.com/docs/reference/modal.config)によって説明されます  \n",
    "```\n",
    "import os\n",
    "os.environ[\"MODAL_TOKEN_ID\"] = \"xxx\"\n",
    "os.environ[\"MODAL_TOKEN_SECRET\"] = \"yyy\" \n",
    "```\n",
    "\n",
    "最後に、状況によっては、これを実行した後、このJupyterノートブックのカーネルを再起動する必要があるかもしれないと聞きました（カーネルメニュー>>すべてのセルのカーネルとクリア出力を再起動します）。"
   ]
  },
  {
   "cell_type": "code",
   "execution_count": null,
   "id": "0d240622-8422-4c99-8464-c04d063e4cb6",
   "metadata": {},
   "outputs": [],
   "source": [
    "# 以下の「#」を削除して実行する。\n",
    "# 以下では、表示されたURLから、modalサイトへのログインとOAuth系認証によるトークン発行を行う。\n",
    "# Windowsの場合、コマンドプロンプトから「!」なしで実行する必要があるらしい。\n",
    "!modal setup"
   ]
  },
  {
   "cell_type": "code",
   "execution_count": null,
   "id": "469dbc96-b965-4edf-bc98-3a9ccd0395a1",
   "metadata": {},
   "outputs": [],
   "source": [
    "!modal token new # トークンを再取得する場合"
   ]
  },
  {
   "cell_type": "code",
   "execution_count": null,
   "id": "43d44889-80f6-4d6a-828e-7d4a67f6002d",
   "metadata": {},
   "outputs": [],
   "source": [
    "!modal run get_started.py # Geting startedの内容に従って..."
   ]
  },
  {
   "cell_type": "code",
   "execution_count": null,
   "id": "3b133701-f550-44a1-a67f-eb7ccc4769a9",
   "metadata": {},
   "outputs": [],
   "source": [
    "# ここのimportは、`hello.py` から行っている。\n",
    "from hello import app, hello, hello_europe"
   ]
  },
  {
   "cell_type": "code",
   "execution_count": null,
   "id": "0f3f73ae-1295-49f3-9099-b8b41fc3429b",
   "metadata": {},
   "outputs": [],
   "source": [
    "# helloをローカル実行\n",
    "with app.run():\n",
    "    reply=hello.local()\n",
    "reply\n",
    "\n",
    "# 出力例\n",
    "# 'Hello from Tokyo, Tokyo, JP!!'"
   ]
  },
  {
   "cell_type": "code",
   "execution_count": null,
   "id": "c1d8c6f9-edc7-4e52-9b3a-c07d7cff1ac7",
   "metadata": {},
   "outputs": [],
   "source": [
    "# helloをリモート実行\n",
    "with app.run():\n",
    "    reply=hello.remote()\n",
    "reply\n",
    "\n",
    "# 出力例\n",
    "# 'Hello from Ashburn, Virginia, US!!'\n",
    "# 'Hello from Montréal, Quebec, CA!!'"
   ]
  },
  {
   "cell_type": "markdown",
   "id": "a1c075e9-49c7-4ebd-812f-83196d32de32",
   "metadata": {},
   "source": [
    "## Student Tue Hに感謝します。\n",
    "\n",
    "`hello.py` に単純な機能 `hello_europe` を追加しました。\n",
    "\n",
    "それはデコレーターを使用します：  \n",
    "`@app.function(image=image, region=\"eu\")`\n",
    "\n",
    "以下の結果を参照してください！より多くの領域固有の設定は [ココ](https://modal.com/docs/guide/region-selection) です\n",
    "\n",
    "地域を指定するために、わずかに多くのクレジットを消費していることに注意してください。"
   ]
  },
  {
   "cell_type": "code",
   "execution_count": null,
   "id": "b027da1a-c79d-42cb-810d-32ddca31aa02",
   "metadata": {},
   "outputs": [],
   "source": [
    "# hello_europeをリモート実行\n",
    "with app.run():\n",
    "    reply=hello_europe.remote()\n",
    "reply\n",
    "\n",
    "# 出力例\n",
    "# 'Hello from Brussels, Brussels Capital, BE!!'\n",
    "# 'Hello from Frankfurt am Main, Hesse, DE!!'"
   ]
  },
  {
   "cell_type": "markdown",
   "id": "22e8d804-c027-45fb-8fef-06e7bba6295a",
   "metadata": {},
   "source": [
    "# 次に進む前に -\n",
    "\n",
    "## Hugging FaceトークンをModalのシークレットとして設定する必要があります。\n",
    "\n",
    "1. modal.comにアクセスし、サインインしてダッシュボードに移動します。\n",
    "2. ナビゲーションバーの「Secrets」をクリックします。\n",
    "3. 新しいシークレットを作成し、Hugging Faceをクリックします。この新しいシークレットは `hf-secret` という名前にする必要があります。これは、コード内でこのトークンを参照するためです。\n",
    "4. プロンプトが表示されたら、HF_TOKENを入力してください。\n",
    "\n",
    "### さあ、本題に戻りましょう。Llamaを使い始めましょう。"
   ]
  },
  {
   "cell_type": "code",
   "execution_count": null,
   "id": "cb8b6c41-8259-4329-b1c4-a1f67d26d1be",
   "metadata": {},
   "outputs": [],
   "source": [
    "# このインポートは、Dockerコンテナにpipインストールすることについての非推奨警告を与える可能性があります\n",
    "# その警告は安全に無視できます。他の場所でも同じ警告が表示される場合があります。\n",
    "\n",
    "# ここのimportは、`llama.py` から行っている。\n",
    "from llama import app, generate"
   ]
  },
  {
   "cell_type": "code",
   "execution_count": null,
   "id": "db4a718a-d95d-4f61-9688-c9df21d88fe6",
   "metadata": {},
   "outputs": [],
   "source": [
    "# プロンプトの後続を、最大5トークンだけ新規生成\n",
    "with modal.enable_output():\n",
    "    with app.run():\n",
    "        result=generate.remote(\"Life is a mystery, everyone must stand alone, I hear\")\n",
    "result\n",
    "# 出力例 完全再現性あり（シード固定）\n",
    "# '<|begin_of_text|>Life is a mystery, everyone must stand alone, I hear you call my name,'"
   ]
  },
  {
   "cell_type": "code",
   "execution_count": null,
   "id": "9a9a6844-29ec-4264-8e72-362d976b3968",
   "metadata": {},
   "outputs": [],
   "source": [
    "# ここのimportは、`pricer_ephemeral.py` から行っている。\n",
    "import modal\n",
    "from pricer_ephemeral import app, price"
   ]
  },
  {
   "cell_type": "code",
   "execution_count": null,
   "id": "50e6cf99-8959-4ae3-ba02-e325cb7fff94",
   "metadata": {},
   "outputs": [],
   "source": [
    "# ファインチューニングしたモデルで製品価格を予測\n",
    "with modal.enable_output():\n",
    "    with app.run():\n",
    "        result=price.remote(\"Quadcast HyperX condenser mic, connects via usb-c to your computer for crystal clear audio\")\n",
    "result\n",
    "\n",
    "# 出力例 完全再現性あり（シード固定）\n",
    "# 133.0"
   ]
  },
  {
   "cell_type": "markdown",
   "id": "04d8747f-8452-4077-8af6-27e03888508a",
   "metadata": {},
   "source": [
    "## 一時的なアプリからデプロイ済みアプリへの移行\n",
    "\n",
    "コマンドラインから `modal deploy xxx` を実行すると、コードがデプロイ済みアプリとしてデプロイされます。\n",
    "\n",
    "この方法で、AI サービスを API の背後にパッケージ化し、本番システムで使用できます。\n",
    "\n",
    "REST エンドポイントも簡単に構築できますが、Python から直接呼び出すため、ここでは説明しません。\n",
    "\n",
    "## シークレットに関する重要な注意事項\n",
    "\n",
    "`pricer_service.py` と `pricer_service2.py` の両方のファイルの上部に、次のようなコードがあります。\n",
    "`secrets = [modal.Secret.from_name(\"hf-secret\")]`\n",
    "\n",
    "modal でのシークレットの設定によっては、`hf-secret` から `huggingface-secret` に変更する必要がある場合があります。\n",
    "確認するには、このページにアクセスし、最初の列を確認してください。\n",
    "https://modal.com/secrets/\n",
    "\n",
    "※ コレは、既定値が違うだけなので、一律 `hf-secret` で設定すれば問題は起きなさそう。\n",
    "\n",
    "## Windowsの人々の重要なメモ：\n",
    "\n",
    "次の行では、Jupyter Lab内から`modal deploy`を呼び出しています。Windowsの一部のバージョンでは、modalが出力に表示できない絵文字を出力するため、奇妙なUnicodeエラーが発生すると聞いています。その場合は、Anaconda PromptウィンドウまたはPowerShellで環境を有効化し、`modal deploy pricer_service`と入力してください。次回`!modal deploy`を実行する際も、同じ手順で実行してください。\n",
    "\n",
    "別の方法として、何人かの受講生から、このコードをJupyter Lab内で実行できるという報告がありました。こちらから実行したい場合は、以下の手順に従ってください。\n",
    "\n",
    "```python\n",
    "# Check the default encoding\n",
    "print(locale.getpreferredencoding())  # Should print 'UTF-8'\n",
    "\n",
    "# Ensure UTF-8 encoding\n",
    "os.environ['PYTHONIOENCODING'] = 'utf-8'\n",
    "```"
   ]
  },
  {
   "cell_type": "code",
   "execution_count": null,
   "id": "7f90d857-2f12-4521-bb90-28efd917f7d1",
   "metadata": {},
   "outputs": [],
   "source": [
    "# pricer_service.py は、pricer_ephemeral.py とほぼ同じ\n",
    "!modal deploy -m pricer_service"
   ]
  },
  {
   "cell_type": "code",
   "execution_count": null,
   "id": "1dec70ff-1986-4405-8624-9bbbe0ce1f4a",
   "metadata": {},
   "outputs": [],
   "source": [
    "# アプリケーション・インスタンス（関数のハンドラ）を取得するみたいな\n",
    "pricer = modal.Function.from_name(\"pricer-service\", \"price\")"
   ]
  },
  {
   "cell_type": "code",
   "execution_count": null,
   "id": "17776139-0d9e-4ad0-bcd0-82d3a92ca61f",
   "metadata": {},
   "outputs": [],
   "source": [
    "# デプロイ済みアプリだが、ステートレスな関数実装なので時間がかかる。\n",
    "# ２回目以降がコールドスタートでなければダウンロード時間だけ省略できる。\n",
    "pricer.remote(\"Quadcast HyperX condenser mic, connects via usb-c to your computer for crystal clear audio\")\n",
    "\n",
    "# 出力例 完全再現性あり（シード固定）\n",
    "# 133.0"
   ]
  },
  {
   "cell_type": "code",
   "execution_count": null,
   "id": "f56d1e55-2a03-4ce2-bb47-2ab6b9175a02",
   "metadata": {},
   "outputs": [],
   "source": [
    "# pricer_service2.py は、pricer_service.py を関数からクラスに変更した実装\n",
    "!modal deploy -m pricer_service2"
   ]
  },
  {
   "cell_type": "code",
   "execution_count": null,
   "id": "9e19daeb-1281-484b-9d2f-95cc6fed2622",
   "metadata": {},
   "outputs": [],
   "source": [
    "# アプリケーション・インスタンス（クラスのハンドラ）を取得するみたいな\n",
    "Pricer = modal.Cls.from_name(\"pricer-service\", \"Pricer\")\n",
    "pricer = Pricer() # コレはクラスのインスタンス化みたいなことか。"
   ]
  },
  {
   "cell_type": "code",
   "execution_count": null,
   "id": "57b61b47-1bab-4148-b6e4-15208a54a4f3",
   "metadata": {},
   "outputs": [],
   "source": [
    "# ステートフルなクラス実装に変更したデプロイ済みアプリなので初回以降は高速\n",
    "# ２回目以降がコールドスタートでなければ初期化処理を全て省略できる。\n",
    "pricer.price.remote(\"Quadcast HyperX condenser mic, connects via usb-c to your computer for crystal clear audio\")\n",
    "\n",
    "# 出力例 完全再現性あり（シード固定）\n",
    "# 133.0"
   ]
  },
  {
   "cell_type": "markdown",
   "id": "9c1b1451-6249-4462-bf2d-5937c059926c",
   "metadata": {},
   "source": [
    "# オプション：モーダルを暖かく保つ\n",
    "\n",
    "## Modal Pricerサービスの速度を向上させる方法\n",
    "\n",
    "このモーダルクラスを初めて実行するときは、構築に10分もかかる場合があります。  \n",
    "その後、はるかに高速になるはずです。目を覚ます必要がある場合は30秒、そうでなければ2秒。  \n",
    "常に2秒にしたい場合は、Pricer_Service2.pyでこの定数を編集して、コンテナが眠りにつくことができます。\n",
    "\n",
    "`min_containers = 0`\n",
    "\n",
    "コンテナを生かし続けるために1にします。  \n",
    "ただし、注意してください：これはクレジットを消費します！継続的にプロセスを実行するのが快適である場合にのみこれを行います。\n"
   ]
  },
  {
   "cell_type": "markdown",
   "id": "3754cfdd-ae28-47c8-91f2-6e060e2c91b3",
   "metadata": {},
   "source": [
    "## そして今、私たちのエージェントクラスを紹介します"
   ]
  },
  {
   "cell_type": "code",
   "execution_count": null,
   "id": "ba9aedca-6a7b-4d30-9f64-59d76f76fb6d",
   "metadata": {},
   "outputs": [],
   "source": [
    "# `./agents/specialist_agent.py` は 単純なラッパークラス\n",
    "from agents.specialist_agent import SpecialistAgent"
   ]
  },
  {
   "cell_type": "code",
   "execution_count": null,
   "id": "fe5843e5-e958-4a65-8326-8f5b4686de7f",
   "metadata": {},
   "outputs": [],
   "source": [
    "agent = SpecialistAgent()\n",
    "agent.price(\"iPad Pro 2nd generation\")\n",
    "\n",
    "# 出力例 完全再現性あり（シード固定）\n",
    "# 299.0"
   ]
  }
 ],
 "metadata": {
  "kernelspec": {
   "display_name": "Python 3 (ipykernel)",
   "language": "python",
   "name": "python3"
  },
  "language_info": {
   "codemirror_mode": {
    "name": "ipython",
    "version": 3
   },
   "file_extension": ".py",
   "mimetype": "text/x-python",
   "name": "python",
   "nbconvert_exporter": "python",
   "pygments_lexer": "ipython3",
   "version": "3.12.3"
  }
 },
 "nbformat": 4,
 "nbformat_minor": 5
}
