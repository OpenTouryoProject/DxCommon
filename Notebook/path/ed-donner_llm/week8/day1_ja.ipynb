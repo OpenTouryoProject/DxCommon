{
 "cells": [
  {
   "cell_type": "markdown",
   "id": "e426cd04-c053-43e8-b505-63cee7956a53",
   "metadata": {},
   "source": [
    "＃非常に忙しい週8フォルダーへようこそ\n",
    "\n",
    "##今週はたくさんあります！\n",
    "\n",
    "特に熟練したLLMエンジニアになっているので、通常よりも速いペースで移動します。\n"
   ]
  },
  {
   "cell_type": "markdown",
   "id": "b3cf5389-93c5-4523-bc48-78fabb91d8f6",
   "metadata": {},
   "source": [
    "<テーブルスタイル= \"マージン：0;テキストアライグ：左;\">\n",
    "    <tr>\n",
    "        <td style = \"width：150px; height：150px; vertical-align：middle;\">\n",
    "            <img src = \"../ fality.jpg\" width = \"150\" height = \"150\" style = \"display：block;\" />\n",
    "        </td>\n",
    "        <td>\n",
    "            <h2 style = \"color：＃900;\">今週は特に重要：最新の</h2>を引きます\n",
    "            <SPAN STYLE = \"Color：＃900;\">これらのラボを継続的に改善し、より多くの例とエクササイズを追加しています。\n",
    "            毎週の初めに、最新のコードがあることを確認する価値があります。<br/>\n",
    "            最初にa <a href = \"https://chatgpt.com/share/6734E705-3270-8012-A074-421661AF6BA9\">必要に応じて変更をプルしてマージします</a>。何か問題がありますか？ chatgptにマージの方法を明確にするように頼んでみてください - または私に連絡してください！<br/> <br/>\n",
    "            LLM_Engineeringディレクトリからコードをプルした後、Anacondaプロンプト（PC）またはターミナル（MAC）で、実行してください：<br/>\n",
    "            <code> conda env update  -  f Environment.yml -prune </code> <br/>\n",
    "            または、AnacondaではなくVirtualenvを使用した場合は、PowerShell（PC）またはターミナル（MAC）でアクティブ化された環境からこれを実行します。<br/>\n",
    "            <code> pip install -r requistence.txt </code>\n",
    "            <br/>次に、カーネル（カーネルメニュー>>カーネルの再起動とすべてのセルのクリア出力）を再起動して、変更を拾います。\n",
    "            </span>\n",
    "        </td>\n",
    "    </tr>\n",
    "</table>"
   ]
  },
  {
   "cell_type": "code",
   "execution_count": null,
   "id": "bc0e1c1c-be6a-4395-bbbd-eeafc9330d7e",
   "metadata": {},
   "outputs": [],
   "source": [
    "# 最初から1つのインポート!!\n",
    "\n",
    "import modal"
   ]
  },
  {
   "cell_type": "markdown",
   "id": "ab5c8533-9f66-448f-b9b2-133d1ff50639",
   "metadata": {},
   "source": [
    "# モーダルトークンのセットアップ\n",
    "\n",
    "これを初めて実行したときは、次の行を外して実行してください。  \n",
    "これは、コマンドラインから「モーダルセットアップ」を実行するのと同じです。モーダルに接続し、トークンをインストールします。  \n",
    "\n",
    "## Windowsでいくつかの一般的な問題をデバッグします\n",
    "\n",
    "このコマンドが次のセルで故障した場合、または「！」のあるモーダルコマンドのいずれかが失敗した場合、アクティブ化された環境でコマンドラインで直接実行してみてください（ `！`）\n",
    "\n",
    "Windowsの学生は、Windowsで、その後アクティブ化された環境でコマンドプロンプトからこのコマンドを実行する必要があるかもしれないと述べました。  \n",
    "「モーダルトークンNew」  \n",
    "（エドBに感謝します！）\n",
    "\n",
    "別のWindows学生Minh N.は、コマンドラインのアクティブ化された環境から、このアプローチを使用する必要があるかもしれないと述べました。  \n",
    "`モーダルトークンセット-token-id <your_token_id>  -  token-secret <your_token_secret>`\n",
    "\n",
    "また、学生のデイビッド・Sは以下に言及しました：  \n",
    "> Windowsを使用している他の誰かがこの問題にヒットした場合：コマンドプロンプトから「モーダルトークンnew」を実行する必要がある場合、生成されたトークンファイルを移動する必要があります。トークンファイル（.modal.toml）をWindowsプロファイルフォルダーに展開します。仮想環境はその場所を見ることができませんでした（奇妙なことに、環境変数を設定して再起動した後でもできませんでした）。そのトークンファイルをラボで操作しているフォルダーに移動し、認証エラーのスローを停止しました。\n",
    "\n",
    "そして、別のWindowsの学生（Robert M.-ありがとう!!）別の可能なステップを追加しました：\n",
    "\n",
    "\n",
    ">「.modal.toml」ファイルを「week8」フォルダーにコピーしてjupyterlabを再起動した後でも、トークンを見るためにモーダルを取得できませんでした（「authエラー」になります）。修正は、環境変数（標準的な方法）を手動で設定することでした。この構成方法は、XX_MARKDOWN_LINK_XXのモーダルによって説明されます  \n",
    "```\n",
    "import os\n",
    "os.environ[\"MODAL_TOKEN_ID\"] = \"xxx\"\n",
    "os.environ[\"MODAL_TOKEN_SECRET\"] = \"yyy\" \n",
    "```\n",
    "\n",
    "最後に、状況によっては、これを実行した後、このJupyterノートブックのカーネルを再起動する必要があるかもしれないと聞きました。 （カーネルメニュー>>すべてのセルのカーネルとクリア出力を再起動します）。"
   ]
  },
  {
   "cell_type": "code",
   "execution_count": null,
   "id": "0d240622-8422-4c99-8464-c04d063e4cb6",
   "metadata": {},
   "outputs": [],
   "source": [
    "# 次の行から「＃」を削除してセルを実行するか、アクティブ化されたコマンドプロンプトからエクスカラメーションマークなしでこのコマンドを実行します\n",
    "# ！モーダルセットアップ"
   ]
  },
  {
   "cell_type": "code",
   "execution_count": null,
   "id": "3b133701-f550-44a1-a67f-eb7ccc4769a9",
   "metadata": {},
   "outputs": [],
   "source": [
    "from hello import app, hello, hello_europe"
   ]
  },
  {
   "cell_type": "code",
   "execution_count": null,
   "id": "0f3f73ae-1295-49f3-9099-b8b41fc3429b",
   "metadata": {},
   "outputs": [],
   "source": [
    "with app.run():\n",
    "    reply=hello.local()\n",
    "reply"
   ]
  },
  {
   "cell_type": "code",
   "execution_count": null,
   "id": "c1d8c6f9-edc7-4e52-9b3a-c07d7cff1ac7",
   "metadata": {},
   "outputs": [],
   "source": [
    "with app.run():\n",
    "    reply=hello.remote()\n",
    "reply"
   ]
  },
  {
   "cell_type": "markdown",
   "id": "a1c075e9-49c7-4ebd-812f-83196d32de32",
   "metadata": {},
   "source": [
    "## Student Tue Hに感謝します。\n",
    "\n",
    "hello.pyを見ると、単純な機能を追加しましたhello_europeを追加しました\n",
    "\n",
    "それはデコレーターを使用します：  \n",
    "`@app.function（image = image、region =\" eu \"）`\n",
    "\n",
    "以下の結果を参照してください！より多くの領域固有の設定は、[here](https://modal.com/docs/guide/region-selection)です\n",
    "\n",
    "地域を指定するために、わずかに多くのクレジットを消費していることに注意してください。"
   ]
  },
  {
   "cell_type": "code",
   "execution_count": null,
   "id": "b027da1a-c79d-42cb-810d-32ddca31aa02",
   "metadata": {},
   "outputs": [],
   "source": [
    "with app.run():\n",
    "    reply=hello_europe.remote()\n",
    "reply"
   ]
  },
  {
   "cell_type": "markdown",
   "id": "22e8d804-c027-45fb-8fef-06e7bba6295a",
   "metadata": {},
   "source": [
    "# 先に進む前に - \n",
    "\n",
    "##モーダルの秘密としてあなたのハギングフェイストークンを設定する必要があります\n",
    "\n",
    "1。モーダル。に移動して、サインインしてダッシュボードに移動します\n",
    "2。ナビゲーションバーの秘密をクリックします\n",
    "3.新しい秘密を作成し、顔を抱き締めることをクリックしてください、この新しい秘密は** hf-secret **と呼ばれる必要がありますそれは私たちがコードでそれを参照する方法だからです\n",
    "4. HF_TOKENを紹介してください\n",
    "\n",
    "###そして今ビジネスに戻る：llamaと仕事をする時間"
   ]
  },
  {
   "cell_type": "code",
   "execution_count": null,
   "id": "cb8b6c41-8259-4329-b1c4-a1f67d26d1be",
   "metadata": {},
   "outputs": [],
   "source": [
    "# このインポートは、画像にローカルPythonモジュールを追加することについての非推奨警告を与える可能性があります\n",
    "# その警告は安全に無視できます。他の場所でも同じ警告が表示される場合があります。\n",
    "\n",
    "from llama import app, generate"
   ]
  },
  {
   "cell_type": "code",
   "execution_count": null,
   "id": "db4a718a-d95d-4f61-9688-c9df21d88fe6",
   "metadata": {},
   "outputs": [],
   "source": [
    "with modal.enable_output():\n",
    "    with app.run():\n",
    "        result=generate.remote(\"Life is a mystery, everyone must stand alone, I hear\")\n",
    "result"
   ]
  },
  {
   "cell_type": "code",
   "execution_count": null,
   "id": "9a9a6844-29ec-4264-8e72-362d976b3968",
   "metadata": {},
   "outputs": [],
   "source": [
    "import modal\n",
    "from pricer_ephemeral import app, price"
   ]
  },
  {
   "cell_type": "code",
   "execution_count": null,
   "id": "50e6cf99-8959-4ae3-ba02-e325cb7fff94",
   "metadata": {},
   "outputs": [],
   "source": [
    "with modal.enable_output():\n",
    "    with app.run():\n",
    "        result=price.remote(\"Quadcast HyperX condenser mic, connects via usb-c to your computer for crystal clear audio\")\n",
    "result"
   ]
  },
  {
   "cell_type": "markdown",
   "id": "04d8747f-8452-4077-8af6-27e03888508a",
   "metadata": {},
   "source": [
    "## 一時的なアプリから展開されたアプリへの移行\n",
    "\n",
    "コマンドラインから、 `Modal Deployxxx`は展開されたアプリとしてコードを展開します\n",
    "\n",
    "これは、APIの後ろにAIサービスをパッケージ化して、生産システムで使用する方法です。\n",
    "\n",
    "パイソンから直接電話をかけるので、それをカバーすることはできませんが、レストエンドポイントを簡単に構築することもできます。\n",
    "\n",
    "##秘密に関する重要な注意\n",
    "\n",
    "両方のファイルで `pricer_service.py`と` pricer_service2.py`  \n",
    "`secrets = [modal.secret.from_name（\" hf-secret \"）]]`  \n",
    "秘密がモーダルで構成されている方法に応じて、「HF-Secret」から「Huggingface-Secret」に変更する必要がある場合があります。  \n",
    "確認するには、このページにアクセスして、最初の列をご覧ください。  \n",
    "https://modal.com/secrets/\n",
    "\n",
    "## Windowsの人々の重要なメモ：\n",
    "\n",
    "次の行では、Jupyter Lab内から「Modal Deploy」を呼び出します。 Windowsの一部のバージョンでは、モーダルが絵文字を表示できない出力に絵文字を印刷するため、奇妙なユニコードエラーが発生します。それが発生した場合は、代わりにAnacondaプロンプトウィンドウまたはPowerShellを使用して、環境をアクティブにして、そこに `Modal Deploy Pricer_Service`を入力してください。次回「！モーダルデプロイ」も行うときに同じアプローチに従ってください。\n",
    "\n",
    "別の方法として、ここから実行したい場合は、Jupyter Lab内でこのコードを実行できると言及しています。\n",
    "```\n",
    "# Check the default encoding\n",
    "print(locale.getpreferredencoding())  # Should print 'UTF-8'\n",
    "\n",
    "# Ensure UTF-8 encoding\n",
    "os.environ['PYTHONIOENCODING'] = 'utf-8'\n",
    "```"
   ]
  },
  {
   "cell_type": "code",
   "execution_count": null,
   "id": "7f90d857-2f12-4521-bb90-28efd917f7d1",
   "metadata": {},
   "outputs": [],
   "source": [
    "# アクティブ化された環境でコマンドラインで「Modal Deploy -M Pricer_Service」を実行することもできます\n",
    "!modal deploy -m pricer_service"
   ]
  },
  {
   "cell_type": "code",
   "execution_count": null,
   "id": "1dec70ff-1986-4405-8624-9bbbe0ce1f4a",
   "metadata": {},
   "outputs": [],
   "source": [
    "pricer = modal.Function.from_name(\"pricer-service\", \"price\")"
   ]
  },
  {
   "cell_type": "code",
   "execution_count": null,
   "id": "17776139-0d9e-4ad0-bcd0-82d3a92ca61f",
   "metadata": {},
   "outputs": [],
   "source": [
    "# これにはしばらく時間がかかります！まもなくより高速なアプローチを使用します\n",
    "\n",
    "pricer.remote(\"Quadcast HyperX condenser mic, connects via usb-c to your computer for crystal clear audio\")"
   ]
  },
  {
   "cell_type": "code",
   "execution_count": null,
   "id": "f56d1e55-2a03-4ce2-bb47-2ab6b9175a02",
   "metadata": {},
   "outputs": [],
   "source": [
    "# アクティブ化された環境でコマンドラインで「Modal Deploy -M Pricer_Service2」を実行することもできます\n",
    "\n",
    "!modal deploy -m pricer_service2"
   ]
  },
  {
   "cell_type": "code",
   "execution_count": null,
   "id": "9e19daeb-1281-484b-9d2f-95cc6fed2622",
   "metadata": {},
   "outputs": [],
   "source": [
    "Pricer = modal.Cls.from_name(\"pricer-service\", \"Pricer\")\n",
    "pricer = Pricer()\n",
    "reply = pricer.price.remote(\"Quadcast HyperX condenser mic, connects via usb-c to your computer for crystal clear audio\")\n",
    "print(reply)"
   ]
  },
  {
   "cell_type": "markdown",
   "id": "9c1b1451-6249-4462-bf2d-5937c059926c",
   "metadata": {},
   "source": [
    "＃オプション：モーダルを暖かく保つ\n",
    "\n",
    "## Modal Pricerサービスの速度を向上させる方法\n",
    "\n",
    "このモーダルクラスを初めて実行するときは、構築に10分もかかる場合があります。  \n",
    "その後、はるかに高速になるはずです。目を覚ます必要がある場合は30秒、そうでなければ2秒。  \n",
    "常に2秒にしたい場合は、Pricer_Service2.pyでこの定数を編集して、コンテナが眠りにつくことができます。\n",
    "\n",
    "`min_containers = 0`\n",
    "\n",
    "コンテナを生かし続けるために1にします。  \n",
    "ただし、注意してください：これはクレジットを食べます！継続的にプロセスを実行するのが快適である場合にのみこれを行います。\n"
   ]
  },
  {
   "cell_type": "markdown",
   "id": "3754cfdd-ae28-47c8-91f2-6e060e2c91b3",
   "metadata": {},
   "source": [
    "## そして今、私たちのエージェントクラスを紹介します"
   ]
  },
  {
   "cell_type": "code",
   "execution_count": null,
   "id": "ba9aedca-6a7b-4d30-9f64-59d76f76fb6d",
   "metadata": {},
   "outputs": [],
   "source": [
    "from agents.specialist_agent import SpecialistAgent"
   ]
  },
  {
   "cell_type": "code",
   "execution_count": null,
   "id": "fe5843e5-e958-4a65-8326-8f5b4686de7f",
   "metadata": {},
   "outputs": [],
   "source": [
    "agent = SpecialistAgent()\n",
    "agent.price(\"iPad Pro 2nd generation\")"
   ]
  },
  {
   "cell_type": "code",
   "execution_count": null,
   "id": "f5a3181b-1310-4102-8d7d-52caf4c00538",
   "metadata": {},
   "outputs": [],
   "source": []
  }
 ],
 "metadata": {
  "kernelspec": {
   "display_name": "Python 3 (ipykernel)",
   "language": "python",
   "name": "python3"
  },
  "language_info": {
   "codemirror_mode": {
    "name": "ipython",
    "version": 3
   },
   "file_extension": ".py",
   "mimetype": "text/x-python",
   "name": "python",
   "nbconvert_exporter": "python",
   "pygments_lexer": "ipython3",
   "version": "3.12.3"
  }
 },
 "nbformat": 4,
 "nbformat_minor": 5
}
