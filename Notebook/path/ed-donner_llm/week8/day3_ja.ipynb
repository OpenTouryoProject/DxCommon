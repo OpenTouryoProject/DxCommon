{
 "cells": [
  {
   "cell_type": "markdown",
   "id": "0df0d850-49eb-4a0b-a27a-146969db710d",
   "metadata": {},
   "source": [
    "# 価格は適正\n",
    "\n",
    "今日は、パズルのもう 1 つのピース、つまり RSS フィードを購読して有望な取引を探す ScanningAgent を構築します。\n",
    "\n",
    "（OpenAI の構造化出力（Structured Output）機能。以前はこういうコードは書けなかったが、LLMで実現可能になってきた。）"
   ]
  },
  {
   "cell_type": "code",
   "execution_count": 1,
   "id": "d3763a79-8a5a-4300-8de4-93e85475af10",
   "metadata": {},
   "outputs": [],
   "source": [
    "# import\n",
    "\n",
    "import os\n",
    "import json\n",
    "from dotenv import load_dotenv\n",
    "from openai import OpenAI\n",
    "\n",
    "# `./agents/deals.py`\n",
    "from agents.deals import ScrapedDeal, DealSelection\n",
    "\n",
    "# `./agents/scanner_agent.py`\n",
    "from agents.scanner_agent import ScannerAgent"
   ]
  },
  {
   "cell_type": "code",
   "execution_count": 2,
   "id": "c6469e32-16c3-4443-9475-ade710ef6933",
   "metadata": {},
   "outputs": [],
   "source": [
    "# 初期化と定数\n",
    "\n",
    "load_dotenv(override=True)\n",
    "os.environ['OPENAI_API_KEY'] = os.getenv('OPENAI_API_KEY', 'your-key-if-not-using-env')\n",
    "MODEL = 'gpt-4o-mini'\n",
    "openai = OpenAI()"
   ]
  },
  {
   "cell_type": "markdown",
   "id": "429feae7-bef7-4390-8994-ff5f029b8052",
   "metadata": {},
   "source": [
    "## ScrapedDeal, DealSelection"
   ]
  },
  {
   "cell_type": "code",
   "execution_count": 3,
   "id": "afece9db-8cd4-46be-ac57-0b472e84da7d",
   "metadata": {},
   "outputs": [
    {
     "name": "stderr",
     "output_type": "stream",
     "text": [
      "100%|██████████████████████████████████████████████████████████████████████████████████████████████████| 5/5 [01:14<00:00, 14.81s/it]\n"
     ]
    }
   ],
   "source": [
    "# 複数のRSSフィードからScrapedDealのリストを生成\n",
    "deals = ScrapedDeal.fetch(show_progress=True)"
   ]
  },
  {
   "cell_type": "code",
   "execution_count": 4,
   "id": "8cd15c4d-eb44-4601-bf0c-f945c1d8e3ec",
   "metadata": {},
   "outputs": [
    {
     "data": {
      "text/plain": [
       "25"
      ]
     },
     "execution_count": 4,
     "metadata": {},
     "output_type": "execute_result"
    }
   ],
   "source": [
    "# 最新5件 * 5 RSSフィード = 25件\n",
    "len(deals)"
   ]
  },
  {
   "cell_type": "code",
   "execution_count": 5,
   "id": "4259f30a-6455-49ed-8863-2f9ddd4776cb",
   "metadata": {},
   "outputs": [
    {
     "data": {
      "text/plain": [
       "\"Title: Harbor Freight Tools Scratch and Dent Sale: Up to 45% off + free shipping\\nDetails: Save up to 45% off a range of tool storage chests and stainless steel worktops. We've pictured the Icon 19 In. Professional End Cabinet for $629 ($270 off) Stock is limited. Items ship for free, although you're responsible for un-palletizing and setup. You need to call the number on the sale page to place an order for these items. Shop Now at Harbor Freight Tools\\nFeatures: \\nURL: https://www.dealnews.com/Harbor-Freight-Tools-Scratch-and-Dent-Sale-Up-to-45-off-free-shipping/21760435.html?iref=rss-c196\""
      ]
     },
     "execution_count": 5,
     "metadata": {},
     "output_type": "execute_result"
    }
   ],
   "source": [
    "# 0-4 が Electronics、5-9 が Computers、10-14 が Automotive、15-19 が Smart-Home、20-24 が Home-Garden、\n",
    "deals[22].describe()"
   ]
  },
  {
   "cell_type": "code",
   "execution_count": 6,
   "id": "8100e5ac-38f5-40c1-a712-08ae12c85038",
   "metadata": {},
   "outputs": [],
   "source": [
    "# OpenAI の構造化出力（Structured Output）機能を使うプロンプト\n",
    "# JSON手書きかよ...と思ったが、JSONは必須ではなくっなっているらしい。\n",
    "\n",
    "system_prompt = \"\"\"You identify and summarize the 5 most detailed deals from a list, by selecting deals that have the most detailed, high quality description and the most clear price.\n",
    "Respond strictly in JSON with no explanation, using this format. You should provide the price as a number derived from the description. If the price of a deal isn't clear, do not include that deal in your response.\n",
    "Most important is that you respond with the 5 deals that have the most detailed product description with price. It's not important to mention the terms of the deal; most important is a thorough description of the product.\n",
    "Be careful with products that are described as \"$XXX off\" or \"reduced by $XXX\" - this isn't the actual price of the product. Only respond with products when you are highly confident about the price. \n",
    "\n",
    "{\"deals\": [\n",
    "    {\n",
    "        \"product_description\": \"Your clearly expressed summary of the product in 4-5 sentences. Details of the item are much more important than why it's a good deal. Avoid mentioning discounts and coupons; focus on the item itself. There should be a paragpraph of text for each item you choose.\",\n",
    "        \"price\": 99.99,\n",
    "        \"url\": \"the url as provided\"\n",
    "    },\n",
    "    ...\n",
    "]}\"\"\"\n",
    "\n",
    "_system_prompt = \"\"\"リストから、最も詳細で質の高い説明と明確な価格を持つ5つの取引を抽出し、要約します。\n",
    "この形式を使用し、説明を一切含まないJSON形式で応答してください。価格は説明から導き出された数値で提供してください。取引の価格が明確でない場合は、その取引を応答に含めないでください。\n",
    "最も重要なのは、価格を含む最も詳細な商品説明を持つ5つの取引を応答することです。取引条件に言及することは重要ではなく、商品の詳細な説明です。\n",
    "「$XXXオフ」や「$XXX値下げ」と説明されている商品には注意してください。これは商品の実際の価格ではありません。価格に十分な確信がある場合にのみ、商品情報を応答してください。\n",
    "\n",
    "{\"deals\": [\n",
    "    {\n",
    "        \"product_description\": \"4～5文で商品の概要を明確に表現してください。なぜお得なのかよりも、商品の詳細の方がはるかに重要です。割引やクーポンに関する言及は避け、商品そのものに焦点を当ててください。選択した商品ごとに段落ごとにテキストを記載する必要があります。\",\n",
    "        \"price\": 99.99,\n",
    "        \"url\": \"提供されたURL\"\n",
    "    },\n",
    "    ...\n",
    "]}\"\"\""
   ]
  },
  {
   "cell_type": "code",
   "execution_count": 7,
   "id": "f4bca170-af71-40c9-9597-1d72980c74d8",
   "metadata": {},
   "outputs": [],
   "source": [
    "user_prompt = \"\"\"Respond with the most promising 5 deals from this list, selecting those which have the most detailed, high quality product description and a clear price.\n",
    "Respond strictly in JSON, and only JSON. You should rephrase the description to be a summary of the product itself, not the terms of the deal.\n",
    "Remember to respond with a paragraph of text in the product_description field for each of the 5 items that you select.\n",
    "Be careful with products that are described as \"$XXX off\" or \"reduced by $XXX\" - this isn't the actual price of the product. Only respond with products when you are highly confident about the price. \n",
    "\n",
    "Deals:\n",
    "\n",
    "\"\"\"\n",
    "\n",
    "_user_prompt = \"\"\"このリストから、最も有望な5つの取引を返信してください。中でも、最も詳細で質の高い商品説明と明確な価格があるものを選んでください。\n",
    "返信はJSON形式のみで行ってください。商品説明は、取引条件ではなく、商品自体の概要となるように書き換えてください。\n",
    "選択した5つの商品それぞれについて、product_descriptionフィールドに1段落分のテキストを返信してください。\n",
    "「$XXXオフ」や「$XXX値下げ」などと記載されている商品にはご注意ください。これは実際の価格ではありません。価格に十分な確信がある場合のみ、商品情報を返信してください。\n",
    "\n",
    "取引：\n",
    "\n",
    "\"\"\"\n",
    "\n",
    "user_prompt += '\\n\\n'.join([deal.describe() for deal in deals])"
   ]
  },
  {
   "cell_type": "code",
   "execution_count": 8,
   "id": "020947a6-561b-417b-98a0-a085e31d2ce3",
   "metadata": {},
   "outputs": [
    {
     "name": "stdout",
     "output_type": "stream",
     "text": [
      "Respond with the most promising 5 deals from this list, selecting those which have the most detailed, high quality product description and a clear price.\n",
      "Respond strictly in JSON, and only JSON. You should rephrase the description to be a summary of the product itself, not the terms of the deal.\n",
      "Remember to respond with a paragraph of text in the product_description field for each of the 5 items that you select.\n",
      "Be careful with products that are described as \"$XXX off\" or \"reduced by $XXX\" - this isn't the actual price of the product. Only respond with products when you are highly confident about the price. \n",
      "\n",
      "Deals:\n",
      "\n",
      "Title: EcoFlow Delta 2 1,024Wh Portable Power Station for $490 + free shipping\n",
      "Details: It's $19 under Amazon and the lowest price we could find. Buy Now at Walmart\n",
      "Features: AC charge input and output  solar input (solar panel not included)  4 USB charging ports 2 USB-C charging ports Model: EFD330-2\n",
      "URL: https://www.dealnews.com/products/Eco-Flow/Eco-Flow-Delta-2-1-024-Wh-Portable-Power-Station/473744.html?iref=rss-c142\n",
      "\n",
      "Title: Open-Box Beats Pill Portable Bluetooth Speaker for $75 + free shipping\n",
      "Details: That's $25 less than you'd pay for a factory-sealed speaker at Amazon today. It comes with a 1-year warranty, although it's not clear who backs it. Buy Now at StackSocial\n",
      "Features: 100W max output Bluetooth & USB connections IP67-rated for dust and water resistance pairs to other Beats Pill speakers in Amplify mode or Stereo mode Model: MW443LL/A\n",
      "URL: https://www.dealnews.com/products/Beats/Beats-Pill-Portable-Bluetooth-Speaker/488557.html?iref=rss-c142\n",
      "\n",
      "Title: My Notes AI Pro Plan: Lifetime subscription for $40\n",
      "Details: Save $259 on a lifetime subscription to this software. This app for Macs, iPhones, and iPads records and transcribes audio, with summaries and exports available. This deal is for new users only. Buy Now at StackSocial\n",
      "Features: \n",
      "URL: https://www.dealnews.com/My-Notes-AI-Pro-Plan-Lifetime-subscription-for-40/21760280.html?iref=rss-c1\n"
     ]
    }
   ],
   "source": [
    "# 先頭2000文字表示\n",
    "print(user_prompt[:2000])"
   ]
  },
  {
   "cell_type": "code",
   "execution_count": 9,
   "id": "7de46f74-868c-4127-8a68-cf2da7d600bb",
   "metadata": {},
   "outputs": [],
   "source": [
    "def get_recommendations():\n",
    "    # OpenAI の構造化出力（Structured Output）機能\n",
    "    completion = openai.beta.chat.completions.parse(\n",
    "        # OpenAIのモデル\n",
    "        model=\"gpt-4o-mini\",\n",
    "        # モデルへのプロンプト\n",
    "        messages=[\n",
    "            {\"role\": \"system\", \"content\": system_prompt},\n",
    "            {\"role\": \"user\", \"content\": user_prompt}\n",
    "        ],\n",
    "        # Python の特定の型（DealSelection）...\n",
    "        response_format=DealSelection\n",
    "    )\n",
    "    # 実行結果をDealSelection型にパース\n",
    "    result = completion.choices[0].message.parsed\n",
    "    return result # DealSelection = Dealのlist"
   ]
  },
  {
   "cell_type": "code",
   "execution_count": 10,
   "id": "84e62845-3338-441a-8161-c70097af4773",
   "metadata": {},
   "outputs": [
    {
     "name": "stdout",
     "output_type": "stream",
     "text": [
      "5\n",
      "deals=[Deal(product_description='The EcoFlow Delta 2 is a portable power station featuring a 1,024Wh capacity, making it perfect for camping trips or emergency power supply. With multiple charging options, including AC, USB, and solar inputs, it ensures that your devices stay powered even off grid. It includes four USB charging ports and two USB-C ports for versatile charging needs. The model is identified as EFD330-2, emphasizing its robust design and reliability for outdoor activities and home backups.', price=490.0, url='https://www.dealnews.com/products/Eco-Flow/Eco-Flow-Delta-2-1-024-Wh-Portable-Power-Station/473744.html?iref=rss-c142'), Deal(product_description=\"The Open-Box Beats Pill Portable Bluetooth Speaker delivers high-quality sound with a maximum output of 100W. This speaker supports Bluetooth and USB connections, ensuring versatile compatibility with most devices. It's rated IP67, providing excellent protection against dust and water, making it ideal for outdoor use. Additionally, it can pair with other Beats Pill speakers in either Amplify or Stereo mode, enhancing your music experience. The model is MW443LL/A, showcasing its premium design.\", price=75.0, url='https://www.dealnews.com/products/Beats/Beats-Pill-Portable-Bluetooth-Speaker/488557.html?iref=rss-c142'), Deal(product_description='The Samsung QN80F Series features a massive 100-inch 4K HDR Neo QLED Smart TV designed for a truly immersive viewing experience. With a native resolution of 3840x2160 and support for HDR10+ and HLG, it provides stunning picture quality. The Tizen Smart OS offers compatibility with Alexa and Google Assistant, adding smart functionality to your viewing. It includes 4 HDMI inputs for versatile connectivity. This model, QN100QN80FFXZA, is perfect for home theaters and large living spaces.', price=6000.0, url='https://www.dealnews.com/products/Samsung/Samsung-QN80-F-Series-QN100-QN80-FFXZA-100-4-K-HDR-120-Hz-Neo-QLED-Smart-TV-2025/492808.html?iref=rss-c142'), Deal(product_description='The Dell 15 Laptop is powered by the 13th Generation Intel Core i7-1355U processor running at 3.7GHz, combined with a 15.6-inch 1920 x 1080 touchscreen display. It features 16GB of RAM and a spacious 1TB M.2 PCIe SSD, providing ample storage for all your applications and files. Ideal for work and entertainment, the laptop runs on Windows 11 Home, ensuring a modern user experience. This powerful device is designed to handle multitasking with ease.', price=600.0, url='https://www.dealnews.com/Dell-15-13-th-Gen-i7-15-6-Touch-Laptop-w-16-GB-RAM-and-1-TB-SSD-for-600-free-shipping/21760454.html?iref=rss-c39'), Deal(product_description='The Blink Outdoor 4 Camera System includes five high-definition cameras with enhanced motion detection and two-way audio communication. Each camera offers 1080p HD video and night vision capabilities. The system is designed for easy installation and use, with a two-year battery life for long-lasting performance. It integrates seamlessly with Alexa for voice control, making home security more convenient. This package is a perfect solution for monitoring your property effectively.', price=120.0, url='https://www.dealnews.com/products/Blink/Blink-Outdoor-4-5-Camera-System/491527.html?iref=rss-f1912')]\n"
     ]
    }
   ],
   "source": [
    "# 構造化出力\n",
    "result = get_recommendations()\n",
    "print(len(result.deals))\n",
    "print(result)"
   ]
  },
  {
   "cell_type": "markdown",
   "id": "6e31bdab-d3ce-4802-940d-70f72fa4ecf3",
   "metadata": {},
   "source": [
    "## ScannerAgent\n",
    "上記を全てラップしたエージェントを実行"
   ]
  },
  {
   "cell_type": "code",
   "execution_count": 11,
   "id": "132278bc-217a-43a6-b6c4-724140c6a225",
   "metadata": {},
   "outputs": [
    {
     "name": "stdout",
     "output_type": "stream",
     "text": [
      "deals=[Deal(product_description=\"The EcoFlow Delta 2 is a powerful portable power station with a capacity of 1,024Wh, perfect for outdoor adventures or emergency backup. It features an AC charge input and output, allowing you to power devices efficiently. With four USB charging ports and two USB-C charging ports, this power station offers versatility for various electronic devices. Whether it's charging phones or running small appliances, the Delta 2 ensures you stay connected and powered up even off the grid.\", price=490.0, url='https://www.dealnews.com/products/Eco-Flow/Eco-Flow-Delta-2-1-024-Wh-Portable-Power-Station/473744.html?iref=rss-c142'), Deal(product_description='The Beats Pill Portable Bluetooth Speaker is a compact yet powerful audio device with a maximum output of 100W. It supports Bluetooth and USB connections and is designed to be IP67-rated, making it both dust and water-resistant. This speaker can pair with other Beats Pill speakers for an enhanced sound experience, whether in Amplify mode or Stereo mode. Its portability and robust sound quality make it ideal for on-the-go listening in various environments.', price=75.0, url='https://www.dealnews.com/products/Beats/Beats-Pill-Portable-Bluetooth-Speaker/488557.html?iref=rss-c142'), Deal(product_description='The Samsung QN80F Series 100\" 4K HDR Neo QLED Smart TV features an impressive 3840x2160 native resolution, delivering stunning picture quality with vibrant colors and deep contrasts. It supports HDR10+ and HLG for an enhanced viewing experience and operates on the Tizen Smart OS, which provides easy access to popular streaming apps and compatibility with Alexa and Google Assistant. This massive display is ideal for home theaters and offers multiple HDMI inputs for connectivity.', price=6000.0, url='https://www.dealnews.com/products/Samsung/Samsung-QN80-F-Series-QN100-QN80-FFXZA-100-4-K-HDR-120-Hz-Neo-QLED-Smart-TV-2025/492808.html?iref=rss-c142'), Deal(product_description='The Dell 15 13th-Gen. i7 laptop is a high-performance machine featuring a 13th Generation Intel Core i7-1355U CPU, with a clock speed of up to 3.7GHz. It boasts a 15.6\" Full HD display with a resolution of 1920 x 1080, making it perfect for productivity and multimedia tasks. With 16GB of RAM and a 1TB M.2 PCIe SSD, it offers ample storage and fast data access, ideal for both everyday users and professionals. This laptop running Windows 11 Home comes with a sleek touchscreen interface for added convenience.', price=600.0, url='https://www.dealnews.com/Dell-15-13-th-Gen-i7-15-6-Touch-Laptop-w-16-GB-RAM-and-1-TB-SSD-for-600-free-shipping/21760454.html?iref=rss-c39'), Deal(product_description='The TCL QM5K Series is a 50\" 4K HDR QD-Mini LED UHD Smart TV that delivers stunning visuals with its 3840x2160 resolution. This television supports HDR10+ for enhanced brightness and color depth, making it excellent for streaming and gaming. Google TV provides a seamless user experience, compatible with various smart home devices such as Google Home and Amazon Alexa. It is a Best Buy exclusive, providing an affordable entry into high-definition viewing for any living space.', price=350.0, url='https://www.dealnews.com/products/TCL/TCL-QM5-K-Series-50-QM5-K-50-4-K-HDR-QD-Mini-LED-UHD-Smart-TV/492276.html?iref=rss-f1912')]\n"
     ]
    }
   ],
   "source": [
    "# RSSフィードをスキャンし構造化出力\n",
    "agent = ScannerAgent()\n",
    "result = agent.scan()\n",
    "print(result)"
   ]
  }
 ],
 "metadata": {
  "kernelspec": {
   "display_name": "Python 3 (ipykernel)",
   "language": "python",
   "name": "python3"
  },
  "language_info": {
   "codemirror_mode": {
    "name": "ipython",
    "version": 3
   },
   "file_extension": ".py",
   "mimetype": "text/x-python",
   "name": "python",
   "nbconvert_exporter": "python",
   "pygments_lexer": "ipython3",
   "version": "3.12.3"
  }
 },
 "nbformat": 4,
 "nbformat_minor": 5
}
