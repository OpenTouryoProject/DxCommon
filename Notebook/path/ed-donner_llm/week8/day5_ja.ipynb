{
 "cells": [
  {
   "cell_type": "markdown",
   "id": "a71ed017-e1b0-4299-88b3-f0eb05adc4df",
   "metadata": {},
   "source": [
    "# 価格は正しいです\n",
    "\n",
    "最後のステップはユーザーインターフェースの構築です。\n",
    "\n",
    "Gradio のより高度な機能を活用し、一つずつ構築していきます。"
   ]
  },
  {
   "cell_type": "code",
   "execution_count": null,
   "id": "614c6202-4575-448d-98ee-78b735775d2b",
   "metadata": {},
   "outputs": [],
   "source": [
    "import gradio as gr\n",
    "\n",
    "# `./agents/deals.py`\n",
    "from agents.deals import Opportunity, Deal\n",
    "# `deal_agent_framework.py`\n",
    "from deal_agent_framework import DealAgentFramework"
   ]
  },
  {
   "cell_type": "code",
   "execution_count": null,
   "id": "0534e714-5a9c-45c6-998c-3472ac0bb8b5",
   "metadata": {},
   "outputs": [],
   "source": [
    "with gr.Blocks(title=\"The Price is Right\", fill_width=True) as ui:\n",
    "\n",
    "    with gr.Row():\n",
    "        gr.Markdown(\n",
    "            #'<div style=\"text-align: center;font-size:24px\">The Price is Right - Deal Hunting Agentic AI</div>'\n",
    "            '<div style=\"text-align: center;font-size:24px\">価格は適正 - お得な情報を探すエージェント型AI</div>'\n",
    "        )\n",
    "        \n",
    "    with gr.Row():\n",
    "        gr.Markdown(\n",
    "            #'<div style=\"text-align: center;font-size:14px\">Autonomous agent framework that finds online deals, collaborating with a proprietary fine-tuned LLM deployed on Modal, and a RAG pipeline with a frontier model and Chroma.</div>')\n",
    "            '<div style=\"text-align: center;font-size:14px\">Modal に展開された独自の微調整された LLM と連携し、フロンティア モデルと Chroma を備えた RAG パイプラインを使用して、オンライン取引を検索する自律エージェント フレームワークです。</div>')\n",
    "ui.launch(inbrowser=True)"
   ]
  },
  {
   "cell_type": "code",
   "execution_count": null,
   "id": "18c12c10-750c-4da3-8df5-f2bc3393f9e0",
   "metadata": {},
   "outputs": [],
   "source": [
    "# グレードV5の変更により、高さからmax_heightに変更するように更新されました\n",
    "# これを上げてくれた学生のエド・Bに感謝します\n",
    "\n",
    "with gr.Blocks(title=\"The Price is Right\", fill_width=True) as ui:\n",
    "\n",
    "    initial_deal = Deal(product_description=\"Example description\", price=100.0, url=\"https://cnn.com\")\n",
    "    initial_opportunity = Opportunity(deal=initial_deal, estimate=200.0, discount=100.0)\n",
    "    opportunities = gr.State([initial_opportunity])\n",
    "\n",
    "    def get_table(opps):\n",
    "        return [[opp.deal.product_description, opp.deal.price, opp.estimate, opp.discount, opp.deal.url] for opp in opps]\n",
    "\n",
    "    with gr.Row():\n",
    "        gr.Markdown(\n",
    "            #'<div style=\"text-align: center;font-size:24px\">\"The Price is Right\" - Deal Hunting Agentic AI</div>'\n",
    "            '<div style=\"text-align: center;font-size:24px\">「価格は適正」 - 掘り出し物探しエージェントAI</div>'\n",
    "        )\n",
    "    with gr.Row():\n",
    "        gr.Markdown(\n",
    "            #'<div style=\"text-align: center;font-size:14px\">Deals surfaced so far:</div>'\n",
    "            '<div style=\"text-align: center;font-size:14px\">これまでに浮上した取引:</div>'\n",
    "        )\n",
    "    with gr.Row():\n",
    "        opportunities_dataframe = gr.Dataframe(\n",
    "            headers=[\n",
    "                #\"Description\", \"Price\", \"Estimate\", \"Discount\", \"URL\"\n",
    "                \"説明\", \"価格\", \"見積\", \"割引\", \"URL\"\n",
    "            ],\n",
    "            wrap=True,\n",
    "            column_widths=[4, 1, 1, 1, 2],\n",
    "            row_count=10,\n",
    "            col_count=5,\n",
    "            max_height=400,\n",
    "        )\n",
    "\n",
    "    ui.load(get_table, inputs=[opportunities], outputs=[opportunities_dataframe])\n",
    "\n",
    "ui.launch(inbrowser=True)"
   ]
  },
  {
   "cell_type": "code",
   "execution_count": null,
   "id": "87106328-a17a-447e-90b9-c547613468da",
   "metadata": {},
   "outputs": [],
   "source": [
    "agent_framework = DealAgentFramework()\n",
    "agent_framework.init_agents_as_needed()\n",
    "\n",
    "with gr.Blocks(title=\"The Price is Right\", fill_width=True) as ui:\n",
    "\n",
    "    initial_deal = Deal(product_description=\"Example description\", price=100.0, url=\"https://cnn.com\")\n",
    "    initial_opportunity = Opportunity(deal=initial_deal, estimate=200.0, discount=100.0)\n",
    "    opportunities = gr.State([initial_opportunity])\n",
    "\n",
    "    def get_table(opps):\n",
    "        return [[opp.deal.product_description, opp.deal.price, opp.estimate, opp.discount, opp.deal.url] for opp in opps]\n",
    "\n",
    "    # この関数は Gradio のテーブルでユーザーが選んだ案件を取り出し、メッセンジャーを使ってアラート通知を行う\n",
    "    def do_select(opportunities, selected_index: gr.SelectData):\n",
    "        row = selected_index.index[0]\n",
    "        opportunity = opportunities[row]\n",
    "        # エージェントフレームワークのメッセンジャーで通知\n",
    "        agent_framework.planner.messenger.alert(opportunity)\n",
    "\n",
    "    with gr.Row():\n",
    "        gr.Markdown(\n",
    "            #'<div style=\"text-align: center;font-size:24px\">\"The Price is Right\" - Deal Hunting Agentic AI</div>'\n",
    "            '<div style=\"text-align: center;font-size:24px\">「価格は適正」 - 掘り出し物探しエージェントAI</div>'\n",
    "        )\n",
    "    with gr.Row():\n",
    "        gr.Markdown(\n",
    "            #'<div style=\"text-align: center;font-size:14px\">Deals surfaced so far:</div>'\n",
    "            '<div style=\"text-align: center;font-size:14px\">これまでに浮上した取引:</div>'\n",
    "        )\n",
    "    with gr.Row():\n",
    "        opportunities_dataframe = gr.Dataframe(\n",
    "            headers=[\n",
    "                #\"Description\", \"Price\", \"Estimate\", \"Discount\", \"URL\"\n",
    "                \"説明\", \"価格\", \"見積\", \"割引\", \"URL\"\n",
    "            ],\n",
    "            wrap=True,\n",
    "            column_widths=[4, 1, 1, 1, 2],\n",
    "            row_count=10,\n",
    "            col_count=5,\n",
    "            max_height=400,\n",
    "        )\n",
    "\n",
    "    ui.load(get_table, inputs=[opportunities], outputs=[opportunities_dataframe])\n",
    "    opportunities_dataframe.select(do_select, inputs=[opportunities], outputs=[])\n",
    "\n",
    "ui.launch(inbrowser=True)"
   ]
  },
  {
   "cell_type": "markdown",
   "id": "ecfed67b-ebcb-4e17-ad15-a7151f940119",
   "metadata": {},
   "source": [
    "# コードの時間\n",
    "\n",
    "そして今、私たちは`rish_is_right.py`コードに移動し、その後に`furce_is_right_final.py`が続きます"
   ]
  },
  {
   "cell_type": "markdown",
   "id": "d783af8a-08a8-4e59-886a-7ca32f16bcf5",
   "metadata": {},
   "source": [
    "# 最終製品を実行します\n",
    "\n",
    "## Shift +次のセルに入るだけで、取引を流してください!!\n",
    "\n",
    "フロンティアエージェントは、.envファイルにdeepseek_api_keyがある場合、deepseekを使用することに注意してください。"
   ]
  },
  {
   "cell_type": "code",
   "execution_count": null,
   "id": "48506465-1c7a-433f-a665-b277a8b4665c",
   "metadata": {},
   "outputs": [],
   "source": [
    "!python price_is_right_final.py"
   ]
  },
  {
   "cell_type": "markdown",
   "id": "242d1243-fbec-4807-988b-8f70c8c9b806",
   "metadata": {},
   "source": [
    "<table style=\"margin: 0; text-align: left;\">\n",
    "    <tr>\n",
    "        <td style=\"width: 150px; height: 150px; vertical-align: middle;\">\n",
    "            <img src=\"../important.jpg\" width=\"150\" height=\"150\" style=\"display: block;\" />\n",
    "        </td>\n",
    "        <td>\n",
    "            <h2 style=\"color:#900;\">でも待ってください！まだありますよ…</h2>\n",
    "            <span style=\"color:#900;\">まだ商品の価格設定に飽きていないなら😂 もっといろいろ作ってみました！<br/>\n",
    "            私のリポジトリ <a href=\"https://github.com/ed-donner/tech2ai\">tech2ai</a> の segment3/lab1 を見ると、純粋な PyTorch でプライサーをニューラルネットワークで実装したものが載っています。なかなか良い出来です。<br/>\n",
    "            また、私のリポジトリ <a href=\"https://github.com/ed-donner/agentic\">Agentic</a> の workshop フォルダを見ると、同じ Agent プロジェクトがさらに進化しています。複数のツールを使う PlanningAgent の新しいバージョンである AutonomousPlanningAgent と、claude-3.7 を使ってテキストを書き込む MessagingAgent があります。AutonomousPlanningAgent は、素晴らしい OpenAI Agents SDK と Anthropic の強力な MCP プロトコルを使用しています。<br/>\n",
    "            エージェントと MCP に興味があり、さらに詳しく知りたい場合は、<a href=\"https://edwarddonner.com/2025/05/28/connecting-my-courses-become-an-llm-expert-and-leader/\">Complete Agentic AI Engineering Course</a> という関連コースも用意していますので、こちらもご興味があるかもしれません (まだ私のコースに飽きていない場合はぜひ受講してください)。また、LLM を使用して価値あるビジネスを構築したいと考えているリーダーや創業者向けのコースもあります。\n",
    "            </span>\n",
    "        </td>\n",
    "    </tr>\n",
    "</table>"
   ]
  },
  {
   "cell_type": "markdown",
   "id": "331a2044-566f-4866-be4d-7542b7dfdf3f",
   "metadata": {},
   "source": [
    "<table style=\"margin: 0; text-align: left;\">\n",
    "    <tr>\n",
    "        <td style=\"width: 150px; height: 150px; vertical-align: middle;\">\n",
    "            <img src=\"../thankyou.jpg\" width=\"150\" height=\"150\" style=\"display: block;\" />\n",
    "        </td>\n",
    "        <td>\n",
    "            <h2 style=\"color:#090;\">おめでとうございます！そしてありがとうございます！</h2>\n",
    "            <span style=\"color:#090;\">\n",
    "                最後まで読んでいただき、本当に素晴らしいです！心からお祝い申し上げます。これからも連絡を取り合いましょう！もしまだ繋がっていないようでしたら、<a href=\"https://www.linkedin.com/in/eddonner/\">LinkedIn</a>LinkedInでも連絡を取り合っています。Xでは<a href=\"https://x.com/edwarddonner\">@edwarddonner</a>です。最後にもう一度言わないと編集者に怒られてしまうかもしれませんが、Udemyでこのコースを受講生が評価してくれるかどうかは、Udemyがこのコースを他の受講生に公開するかどうかを決める主な基準の一つです。<br/><br/>8週間もの間、最後までお付き合いいただき、本当にありがとうございました！LLMエンジニアとしてのあなたのキャリアについて、ぜひお聞かせください。コース修了についてLinkedInに投稿して、私をタグ付けしていただければ、あなたの功績をもっと大きく伝えます。<br/><b>この分野に参入するのに、これ以上ない絶好のタイミングだったと思います。</b>\n",
    "            </span>\n",
    "        </td>\n",
    "    </tr>\n",
    "</table>"
   ]
  },
  {
   "cell_type": "code",
   "execution_count": null,
   "id": "81f4dbf7-0f3c-4787-8fbc-e3c21bdb932a",
   "metadata": {},
   "outputs": [],
   "source": []
  }
 ],
 "metadata": {
  "kernelspec": {
   "display_name": "Python 3 (ipykernel)",
   "language": "python",
   "name": "python3"
  },
  "language_info": {
   "codemirror_mode": {
    "name": "ipython",
    "version": 3
   },
   "file_extension": ".py",
   "mimetype": "text/x-python",
   "name": "python",
   "nbconvert_exporter": "python",
   "pygments_lexer": "ipython3",
   "version": "3.12.3"
  }
 },
 "nbformat": 4,
 "nbformat_minor": 5
}
