{
 "cells": [
  {
   "cell_type": "markdown",
   "id": "1f2ed49d-7873-4a03-bdc8-bda1c23cb979",
   "metadata": {},
   "source": [
    "# HuggingFace pipelines\n",
    "\n",
    "このセッションでは、Google Colabにアクセスして、このノートブックを使用して、Hugging Faceの高レベルAPI、pipelinesを探索します。\n",
    "\n",
    "https://colab.research.google.com/drive/1aMaEw8A56xs0bRM4lu8z7ou18jqyybGm?usp=sharing\n",
    "\n",
    "このノートブックには、低コスト（または無料）T4 GPUランタイムを使用できます。\n",
    "\n",
    "ノートブックには、Hugging Faceトークンを設定し、ノートブックに秘密として含めるための指示があります。"
   ]
  },
  {
   "cell_type": "markdown",
   "id": "ea2c3ea0-69d7-4db2-90bb-8d9dd8a90c14",
   "metadata": {},
   "source": [
    "余談ですが、上記のファイルを`day2_pipelines.ipynb`、`day2_pipelines_ja.ipynb`として保存しました。\n",
    "\n",
    "`day2_pipelines_ja.ipynb`については、Google ColabのT4での実行結果を含めてあります。"
   ]
  }
 ],
 "metadata": {
  "kernelspec": {
   "display_name": "Python 3 (ipykernel)",
   "language": "python",
   "name": "python3"
  },
  "language_info": {
   "codemirror_mode": {
    "name": "ipython",
    "version": 3
   },
   "file_extension": ".py",
   "mimetype": "text/x-python",
   "name": "python",
   "nbconvert_exporter": "python",
   "pygments_lexer": "ipython3",
   "version": "3.12.3"
  }
 },
 "nbformat": 4,
 "nbformat_minor": 5
}
