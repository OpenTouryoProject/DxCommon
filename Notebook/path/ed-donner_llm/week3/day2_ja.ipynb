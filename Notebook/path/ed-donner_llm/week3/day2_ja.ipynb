{
  "cells": [
    {
      "cell_type": "markdown",
      "id": "1f2ed49d-7873-4a03-bdc8-bda1c23cb979",
      "metadata": {},
      "source": [
        "# ハギングフェイスパイプライン\n",
        "\n",
        "このセッションでは、Google Colabにアクセスして、このノートブックを使用して、ハギングフェイスの高レベルAPI、パイプラインを探索します。\n",
        "\n",
        "https://colab.research.google.com/drive/1amaew8a56xs0brm4lu8z7ou18jqyybgm？usp = sharing\n",
        "\n",
        "このノートブックには、低コスト（または無料）T4 GPUランタイムを使用できます。\n",
        "\n",
        "ノートブックには、Huggingfaceトークンを設定し、ノートブックに秘密として含めるための指示があります。"
      ]
    },
    {
      "cell_type": "code",
      "execution_count": null,
      "id": "d5d84b78-0a02-4a35-8f10-e3f7451d352f",
      "metadata": {},
      "outputs": [],
      "source": []
    }
  ],
  "metadata": {
    "kernelspec": {
      "display_name": "Python 3 (ipykernel)",
      "language": "python",
      "name": "python3"
    },
    "language_info": {
      "codemirror_mode": {
        "name": "ipython",
        "version": 3
      },
      "file_extension": ".py",
      "mimetype": "text/x-python",
      "name": "python",
      "nbconvert_exporter": "python",
      "pygments_lexer": "ipython3",
      "version": "3.11.11"
    }
  },
  "nbformat": 4,
  "nbformat_minor": 5
}