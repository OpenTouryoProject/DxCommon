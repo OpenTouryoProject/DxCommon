{
 "cells": [
  {
   "cell_type": "markdown",
   "id": "61f56afc-bc15-46a4-8eb1-d940c332cf52",
   "metadata": {},
   "source": [
    "# Google Colabの紹介\n",
    "\n",
    "（まだ持っていない場合）[ココ](https://colab.research.google.com/)からGoogle Colabについて学び、Googleアカウントを設定します\n",
    "\n",
    "クラス内のすべてのプロジェクトを完了するために、無料層または最小限の支出を使用できるはずです。私は個人的にColab Pro+にサインアップしましたが、私はそれを愛していますが、それは必須ではありません。\n",
    "\n",
    "Colabができることのいくつかを確認するには、以下のリンクをフォローしてください！\n",
    "\n",
    "https://colab.research.google.com/drive/1DjcrYDZldAXKJ08x1uYIVCtItoLPk1Wr?usp=sharing"
   ]
  },
  {
   "cell_type": "markdown",
   "id": "e0fd24a0-2ba3-45de-bdae-aabb62d5a2de",
   "metadata": {},
   "source": [
    "余談ですが、上記のファイルを`day1_colab.ipynb`、`day1_colab_ja.ipynb`として保存しました。"
   ]
  }
 ],
 "metadata": {
  "kernelspec": {
   "display_name": "Python 3 (ipykernel)",
   "language": "python",
   "name": "python3"
  },
  "language_info": {
   "codemirror_mode": {
    "name": "ipython",
    "version": 3
   },
   "file_extension": ".py",
   "mimetype": "text/x-python",
   "name": "python",
   "nbconvert_exporter": "python",
   "pygments_lexer": "ipython3",
   "version": "3.12.3"
  }
 },
 "nbformat": 4,
 "nbformat_minor": 5
}
