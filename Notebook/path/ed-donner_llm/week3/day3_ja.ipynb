{
 "cells": [
  {
   "cell_type": "markdown",
   "id": "61f56afc-bc15-46a4-8eb1-d940c332cf52",
   "metadata": {},
   "source": [
    "# トークンザー\n",
    "\n",
    "ぜひ、素晴らしい Google Colab に戻って、さまざまなトークナイザーを見てみましょう。：\n",
    "\n",
    "https://colab.research.google.com/drive/1WD6Y2N7ctQi1X9wa6rpkg8UfyA4iSVuz?usp=sharing"
   ]
  },
  {
   "cell_type": "markdown",
   "id": "5ff4e4df-528e-43dc-839e-63e09c602f41",
   "metadata": {},
   "source": [
    "余談ですが、上記のファイルを`day3_tokenizers.ipynb`、`day3_tokenizers_ja.ipynb`として保存しました。\n",
    "\n",
    "`day3_tokenizers_ja.ipynb`については、Google ColabのT4での実行結果を含めてあります。"
   ]
  }
 ],
 "metadata": {
  "kernelspec": {
   "display_name": "Python 3 (ipykernel)",
   "language": "python",
   "name": "python3"
  },
  "language_info": {
   "codemirror_mode": {
    "name": "ipython",
    "version": 3
   },
   "file_extension": ".py",
   "mimetype": "text/x-python",
   "name": "python",
   "nbconvert_exporter": "python",
   "pygments_lexer": "ipython3",
   "version": "3.12.3"
  }
 },
 "nbformat": 4,
 "nbformat_minor": 5
}
