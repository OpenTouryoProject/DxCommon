{
  "cells": [
    {
      "cell_type": "markdown",
      "id": "61f56afc-bc15-46a4-8eb1-d940c332cf52",
      "metadata": {},
      "source": [
        "# 会議議事録作成者\n",
        "\n",
        "このコラブでは、会議議事録プログラムを作成します。\n",
        "\n",
        "Googleドライブをコラブに接続するための便利なコードが含まれています。\n",
        "\n",
        "独自のオーディオをアップロードして、この作業を行います!!\n",
        "\n",
        "https://colab.research.google.com/drive/1ksmxocprsl1qrpt_rq0uqcaymtpqdqyx？usp = sharing\n",
        "\n",
        "これは、低コストまたは無料のT4ボックスでうまく実行されるはずです。"
      ]
    },
    {
      "cell_type": "code",
      "execution_count": null,
      "id": "e9289ba7-200c-43a9-b67a-c5ce826c9537",
      "metadata": {},
      "outputs": [],
      "source": []
    }
  ],
  "metadata": {
    "kernelspec": {
      "display_name": "Python 3 (ipykernel)",
      "language": "python",
      "name": "python3"
    },
    "language_info": {
      "codemirror_mode": {
        "name": "ipython",
        "version": 3
      },
      "file_extension": ".py",
      "mimetype": "text/x-python",
      "name": "python",
      "nbconvert_exporter": "python",
      "pygments_lexer": "ipython3",
      "version": "3.11.11"
    }
  },
  "nbformat": 4,
  "nbformat_minor": 5
}