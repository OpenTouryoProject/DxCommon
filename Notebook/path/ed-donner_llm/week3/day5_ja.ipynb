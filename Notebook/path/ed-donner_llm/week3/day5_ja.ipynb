{
 "cells": [
  {
   "cell_type": "markdown",
   "id": "61f56afc-bc15-46a4-8eb1-d940c332cf52",
   "metadata": {},
   "source": [
    "# 会議議事録creator\n",
    "このColabでは、会議議事録プログラムを作成します。\n",
    "\n",
    "GoogleドライブをColabに接続するための便利なコードが含まれています。\n",
    "\n",
    "独自のオーディオをアップロードして、この作業を行います!!\n",
    "\n",
    "https://colab.research.google.com/drive/1KSMxOCprsl1QRpt_Rq0UqCAyMtPqDQYx?usp=sharing\n",
    "\n",
    "これは、低コストまたは無料のT4ボックスでうまく実行されるはずです。"
   ]
  }
 ],
 "metadata": {
  "kernelspec": {
   "display_name": "Python 3 (ipykernel)",
   "language": "python",
   "name": "python3"
  },
  "language_info": {
   "codemirror_mode": {
    "name": "ipython",
    "version": 3
   },
   "file_extension": ".py",
   "mimetype": "text/x-python",
   "name": "python",
   "nbconvert_exporter": "python",
   "pygments_lexer": "ipython3",
   "version": "3.12.3"
  }
 },
 "nbformat": 4,
 "nbformat_minor": 5
}
