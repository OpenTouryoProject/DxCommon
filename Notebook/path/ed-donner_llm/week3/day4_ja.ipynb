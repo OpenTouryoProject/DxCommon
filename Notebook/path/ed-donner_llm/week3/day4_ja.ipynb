{
  "cells": [
    {
      "cell_type": "markdown",
      "id": "61f56afc-bc15-46a4-8eb1-d940c332cf52",
      "metadata": {},
      "source": [
        "# モデル\n",
        "\n",
        "そして今 - このコラブは、変圧器ライブラリの心（または脳？）を明らかにします - モデル：\n",
        "\n",
        "https://colab.research.google.com/drive/1hhr9z-yqjue7pjjvqw4c74z_v3vchly?usp=sharing\n",
        "\n",
        "これは、低コストまたは無料のT4ボックスでうまく実行されるはずです。"
      ]
    }
  ],
  "metadata": {
    "kernelspec": {
      "display_name": "Python 3 (ipykernel)",
      "language": "python",
      "name": "python3"
    },
    "language_info": {
      "codemirror_mode": {
        "name": "ipython",
        "version": 3
      },
      "file_extension": ".py",
      "mimetype": "text/x-python",
      "name": "python",
      "nbconvert_exporter": "python",
      "pygments_lexer": "ipython3",
      "version": "3.11.11"
    }
  },
  "nbformat": 4,
  "nbformat_minor": 5
}