{
 "cells": [
  {
   "cell_type": "markdown",
   "metadata": {
    "id": "It89APiAtTUF"
   },
   "source": [
    "# オーディオファイルから会議議事録を作成します\n",
    "\n",
    "デンバー市議会の会議議事録をいくつかダウンロードし、会議の一部を選択して、転写するようにしました。ここからダウンロードできます：  \n",
    "https://drive.google.com/file/d/1N_kpSojRR5RYzupz6nqM8hMSoEF_R7pU/view?usp=sharing\n",
    "\n",
    "元のデータを操作したい場合は、Hugging Faceデータセットは[ココ](https://huggingface.co/datasets/huuuyeah/meetingbank)であり、オーディオは[ココ](https://huggingface.co/datasets/huuuyeah/MeetingBank_Audio/tree/main)からダウンロードできます。\n",
    "\n",
    "この製品の目標は、オーディオを使用して、アクションを含む会議議事録を生成することです。\n",
    "\n",
    "このプロジェクトでは、デンバーの会議議事録を使用するか、自分のものを録音することができます！\n"
   ]
  },
  {
   "cell_type": "markdown",
   "metadata": {
    "id": "sJPSCwPX3MOV"
   },
   "source": [
    "## リマインダー：Colabを使用するための2つの重要なプロチップ：\n",
    "\n",
    "**Pro-tip 1:**\n",
    "\n",
    "すべてのColabの上部には、いくつかのpipインストールがあります。これを実行すると、pipからエラーを受信する場合があります。\n",
    "\n",
    "> gcsfs 2025.3.2 requires fsspec==2025.3.2, but you have fsspec 2025.3.0 which is incompatible.\n",
    "\n",
    "これらのpip互換性エラーは安全に無視できます。そして、バージョン番号を変更することでそれらを修正しようとするのは魅力的ですが、実際に実際の問題を導入します！\n",
    "\n",
    "**Pro-tip 2:**\n",
    "\n",
    "Colabを実行している最中に、次のようなエラーが発生する可能性があります。\n",
    "\n",
    "> Runtime error: CUDA is required but not available for bitsandbytes. Please consider installing [...]\n",
    "\n",
    "これは非常に誤解を招くエラーメッセージです。パッケージのバージョンを変更しないでください。\n",
    "\n",
    "これは、GoogleがColabランタイムを切り替えたために実際に起こります。おそらくGoogle Colabが忙しすぎたためです。解決策は次のとおりです。\n",
    "\n",
    "1. カーネルメニュー >> ランタイムを切断して削除\n",
    "2. 新鮮なメニューからColabをリロードし、メニュー >> すべての出力をクリア\n",
    "3. 右上のボタンを使用して新しいT4に接続\n",
    "4. 右上のメニューから「リソースを表示」を選択して、GPUがあることを確認\n",
    "5. Colab内のセルを上から下へ、pipのインストールから始めて再実行\n",
    "\n",
    "そして、すべてがうまくいくはずです - そうでなければ、私に尋ねてください！"
   ]
  },
  {
   "cell_type": "code",
   "execution_count": 1,
   "metadata": {
    "executionInfo": {
     "elapsed": 26090,
     "status": "ok",
     "timestamp": 1753879987114,
     "user": {
      "displayName": "osscjpdevinfra部長アカ",
      "userId": "05817968951108036520"
     },
     "user_tz": -540
    },
    "id": "f2vvgnFpHpID"
   },
   "outputs": [],
   "source": [
    "# これにより、pip依存関係の競合に関する「エラー」が得られる場合は、それを無視してください！それは何にも影響しません。\n",
    "!pip install -q --upgrade torch==2.5.1+cu124 torchvision==0.20.1+cu124 torchaudio==2.5.1+cu124 --index-url https://download.pytorch.org/whl/cu124\n",
    "!pip install -q requests bitsandbytes==0.46.0 transformers==4.48.3 accelerate==1.3.0 openai"
   ]
  },
  {
   "cell_type": "code",
   "execution_count": 2,
   "metadata": {
    "executionInfo": {
     "elapsed": 22696,
     "status": "ok",
     "timestamp": 1753880019262,
     "user": {
      "displayName": "osscjpdevinfra部長アカ",
      "userId": "05817968951108036520"
     },
     "user_tz": -540
    },
    "id": "FW8nl3XRFrz0"
   },
   "outputs": [],
   "source": [
    "# import\n",
    "\n",
    "# 基本機能\n",
    "import os\n",
    "# HTTP通信\n",
    "import requests\n",
    "# Notebook系IPython環境での表示制御\n",
    "from IPython.display import Markdown, display, update_display\n",
    "\n",
    "# OpenAI\n",
    "from openai import OpenAI\n",
    "# PyTorch\n",
    "import torch\n",
    "\n",
    "# Google Colab でSecretを安全に使う\n",
    "from google.colab import userdata\n",
    "# Google Colab で Google drive を使う\n",
    "from google.colab import drive\n",
    "# Hugging Face Hub にログイン\n",
    "from huggingface_hub import login\n",
    "# Hugging Face の transformers の ライブラリ\n",
    "from transformers import AutoTokenizer, AutoModelForCausalLM, TextStreamer, BitsAndBytesConfig"
   ]
  },
  {
   "cell_type": "code",
   "execution_count": 3,
   "metadata": {
    "executionInfo": {
     "elapsed": 8,
     "status": "ok",
     "timestamp": 1753880021007,
     "user": {
      "displayName": "osscjpdevinfra部長アカ",
      "userId": "05817968951108036520"
     },
     "user_tz": -540
    },
    "id": "q3D1_T0uG_Qh"
   },
   "outputs": [],
   "source": [
    "# 定数\n",
    "\n",
    "AUDIO_MODEL = \"whisper-1\"\n",
    "LLAMA = \"meta-llama/Meta-Llama-3.1-8B-Instruct\""
   ]
  },
  {
   "cell_type": "code",
   "execution_count": 4,
   "metadata": {
    "colab": {
     "base_uri": "https://localhost:8080/"
    },
    "executionInfo": {
     "elapsed": 2094,
     "status": "ok",
     "timestamp": 1753880026303,
     "user": {
      "displayName": "osscjpdevinfra部長アカ",
      "userId": "05817968951108036520"
     },
     "user_tz": -540
    },
    "id": "Es9GkQ0FGCMt",
    "outputId": "b8fb8a6a-bcfa-4d59-f8f1-3121e820be9e"
   },
   "outputs": [
    {
     "name": "stdout",
     "output_type": "stream",
     "text": [
      "Drive already mounted at /content/drive; to attempt to forcibly remount, call drive.mount(\"/content/drive\", force_remount=True).\n"
     ]
    }
   ],
   "source": [
    "# 新しい機能 - このColabを私のGoogleドライブに接続する\n",
    "# denver_extract.mp3を取得するための指示については、このすぐ下を参照\n",
    "\n",
    "drive.mount(\"/content/drive\")\n",
    "audio_filename = \"/content/drive/MyDrive/llms/denver_extract.mp3\""
   ]
  },
  {
   "cell_type": "markdown",
   "metadata": {
    "id": "HTl3mcjyzIEE"
   },
   "source": [
    "# denver_extract.mp3をダウンロードします\n",
    "あなたは私と同じファイル、デンバー市議会議事録からの抜粋を使用するか、自分で試すことができます。\n",
    "\n",
    "私と同じものを使用したい場合は、ここから私の抽出物をダウンロードして、これをGoogleドライブに載せてください。  \n",
    "https://drive.google.com/file/d/1N_kpSojRR5RYzupz6nqM8hMSoEF_R7pU/view?usp=sharing\n"
   ]
  },
  {
   "cell_type": "code",
   "execution_count": 5,
   "metadata": {
    "executionInfo": {
     "elapsed": 1262,
     "status": "ok",
     "timestamp": 1753880031179,
     "user": {
      "displayName": "osscjpdevinfra部長アカ",
      "userId": "05817968951108036520"
     },
     "user_tz": -540
    },
    "id": "xYW8kQYtF-3L"
   },
   "outputs": [],
   "source": [
    "# Hugging Face Hub にプログラムからログイン\n",
    "hf_token = userdata.get('HF_TOKEN')\n",
    "login(hf_token, add_to_git_credential=True)"
   ]
  },
  {
   "cell_type": "code",
   "execution_count": 6,
   "metadata": {
    "executionInfo": {
     "elapsed": 1068,
     "status": "ok",
     "timestamp": 1753880034203,
     "user": {
      "displayName": "osscjpdevinfra部長アカ",
      "userId": "05817968951108036520"
     },
     "user_tz": -540
    },
    "id": "qP6OB2OeGC2C"
   },
   "outputs": [],
   "source": [
    "# ColabのシークレットでOpenAIのAPI_Keyを指定\n",
    "openai_api_key = userdata.get('OPENAI_API_KEY')\n",
    "openai = OpenAI(api_key=openai_api_key)"
   ]
  },
  {
   "cell_type": "code",
   "execution_count": 7,
   "metadata": {
    "colab": {
     "base_uri": "https://localhost:8080/"
    },
    "executionInfo": {
     "elapsed": 43880,
     "status": "ok",
     "timestamp": 1753880079133,
     "user": {
      "displayName": "osscjpdevinfra部長アカ",
      "userId": "05817968951108036520"
     },
     "user_tz": -540
    },
    "id": "GMShdVGlGGr4",
    "outputId": "d33711f4-6635-4dd7-d1f0-bc14e0e122ac"
   },
   "outputs": [
    {
     "name": "stdout",
     "output_type": "stream",
     "text": [
      "and kind of the confluence of this whole idea of the confluence week, the merging of two rivers and as we've kind of seen recently in politics and in the world, there's a lot of situations where water is very important right now and it's a very big issue. So that is the reason that the back of the logo is considered water. So let me see the creation of the logo here. So that basically kind of sums up the reason behind the logo and all the meanings behind the symbolism and you'll hear a little bit more about our confluence week is basically highlighting all of these indigenous events and things that are happening around Denver so that we can kind of bring more people together and kind of share this whole idea of Indigenous People's Day. So thank you. Thank you so much and thanks for your leadership. All right. Welcome to the Denver City Council meeting of Monday, October 9th. Please rise with the Pledge of Allegiance by Councilman Lopez. I pledge allegiance to the flag of the United States of America, and to the republic for which it stands, one nation, under God, indivisible, with liberty and justice for all. All right. Thank you, Councilman Lopez. Madam Secretary, roll call. Clerk. Here. Espinosa. Here. Flynn. Here. Gilmour. Here. Here. Cashman. Here. Kenneche. Here. Lopez. Here. New. Here. Ortega. Here. Sussman. Here. Mr. President. Here. 11 present. 11 members present. We do have a quorum. Approval of the minutes. Seeing none. Minutes of October 2nd stand approved. Council announcements. Are there any announcements by members of Council? Councilman Clark. Thank you, Mr. President. I just wanted to invite everyone down to the first ever Halloween parade on Broadway in Lucky District 7. It will happen on Saturday, October 21st at 6 o'clock p.m. It will move along Broadway from 3rd to Alameda. It's going to be a fun, family-friendly event. Everyone's invited to come down, wear a costume. There will be candy for the kids and there are tiki zombies and 29 hearses and all kinds of fun and funky stuff on the fun and funky part of Broadway. So please join us October 21st at 6 o'clock for the Broadway Halloween parade. Thank you, Mr. President. All right. Thank you, Councilman Clark. I will be there. All right. Presentations. Madam Secretary, do we have any presentations? None, Mr. President. Communications. Do we have any communications? None, Mr. President. We do have one proclamation this evening. Proclamation 1127, an observance of the annual Indigenous Peoples Day in the City and County of Denver. Councilman Lopez, will you please read it? Thank you, Mr. President, with pride. Proclamation number 17, well, let me just say this differently. Proclamation number 1127, series of 2017, an observance of the second annual Indigenous Peoples Day in the City and County of Denver. Whereas the Council of the City and County of Denver recognizes that the Indigenous Peoples have lived and flourished on the lands known as the Americas since time immemorial and that Denver and the surrounding communities are built upon the ancestral homelands of numerous Indigenous tribes, which include the Southern Ute, the Ute Mountain, Ute tribes of Colorado. And whereas the tribal homelands and seasonal encampments of the Arapaho and Cheyenne people along the banks of the Cherry Creek and South Platte River confluence gave bearing to the future settlements that would become the birthplace of the Mile High City. And whereas Colorado encompasses the ancestral homelands of 48 tribes and the City and County of Denver and surrounding communities are home to the descendants of approximately 100 tribal nations. And whereas on October 3rd, 2016, the City and County of Denver unanimously passed Council Bill 801, series of 2016, officially designating the second Monday of October of each year as Indigenous Peoples Day in Denver, Colorado. And whereas the Council of the City and County of Denver continues to recognize and value the vast contributions made to the community through Indigenous Peoples' knowledge, science, philosophy, arts, and culture. And through these contributions, the City of Denver has developed and thrived. Whereas the Indigenous community, especially youth, have made great efforts this year to draw attention to the contributions of Indigenous people, including Confluence Week, drawing record attendance to a National Indigenous Youth Leadership Conference, leading conversations on inclusion with their peers, and supporting increased Indigenous youth participation in science and engineering. Now, therefore, be it proclaimed by the Council of the City and County of Denver, Section 1, that the Council of the City and County of Denver celebrates and honors the cultural and foundational contributions of Indigenous people to our history, our past, our present, and future, and continues to promote the education of the Denver community about these historical and contemporary contributions of Indigenous people. Section 2, that the City and County of Denver, Colorado, does hereby observe October 9th, 2017, as Indigenous Peoples Day. Section 3, that the Clerk of the City and County of Denver shall attest and affix the seal of the City and County of Denver to this proclamation, and that a copy be transmitted to the Denver American Indian Commission, the City and County of Denver School District No. 1, and the Colorado Commission on Indian Affairs. Thank you, Councilman Lopez. Your motion to adopt. Mr. President, I move that Proclamation No. 1127, Series of 2017, be adopted. All right. It has been moved and seconded. It comes from the members of Council. Councilman Lopez. Thank you, Mr. President. It gives me a lot of pleasure and pride to read this proclamation officially for the third time, but as Indigenous Peoples Day in Denver, officially for the second time. It's always awesome to be able to see not just this proclamation come by my desk, but to see so many different people from our community in our Council Chambers. It was a very beautiful piece of artwork that you presented to us earlier, and it is exactly the spirit that we drafted this proclamation and this actual, the ordinance that created Indigenous Peoples Day when we sat down and wrote it, and as a community, we couldn't think of anything else to begin except for the confluence of the two rivers, and those confluence of the two rivers created such a great city, and we live in such an amazing city, and we're all proud of it, and sometimes we, and a lot of people from all over the country or all over the world are proud of it, and sometimes a little too proud of it is telling them to go back home, but I'm kidding when I say that, but the really nice thing about this is that we are celebrating Indigenous Peoples Day out of pride for who we are, who we are as a city, and the contributions of Indigenous people to the city, not out of spite, not out of a replacement of one culture over the other, or out of contempt or disrespect. You know, I think of a quote that Cesar Chavez made very popular, and it stuck with me for a very long time, and any time I have the opportunity to speak in front of children, and especially children in our community that, you know, they often second guess themselves on where they're coming from, who they are, and I always say that, you know, it's very important to be proud of who you're from, and the quote that I use from Cesar Chavez is, you know, pride in one's own cultures does not require contempt or disrespect of another, right? And that's very important. It's very important for us to recognize that, no matter who we are, where we come from in this society, that your pride in your own culture doesn't require, should not require the contempt or disrespect of another. And man, what a year to be, for that to just sit on our shoulders for a while, for us to think about, right? And so, I wanted to, just to thank you all, to thank the commission, there's going to be a couple individuals that are going to come speak, thank you for your art, your lovely artwork, for us to see what's in your heart and what now has become, probably is going to be a very important symbol for the community. And also, just for the work, the daily work, every single day, we still have a lot of brothers and sisters whose ancestors once lived in these lands freely, now stand on street corners, right? In poverty, without access to services, right? Without access to sobriety or even housing or jobs. And what a, what a, what a cruel way to pay back a culture that has paved the way for the city to be built upon its shores, right? So, we have a lot of work to do. And these kind of proclamations and this day is not a day off, it's a day on in Denver, right? And addressing those critical issues. So, I know that my colleagues are very supportive, I'm going to ask you to support this proclamation, as I know you always have done in the past, I'm very proud of today. Oh, and we made Time Magazine and Newsweek once again, today, as being a leader in terms of the cities that are celebrating Indigenous Peoples Day. I wanted to make a point out of that. Thank you, Councilman Lopez, and thank you for sponsoring this. Councilman Ortega? Mr. President, I want to ask that my name be added. I don't think I could add much more to what Councilman Lopez has shared with us. I want to thank him for bringing this forward and really just appreciate all the contributions that our Native American community has contributed to this great city and great state. I worked in the Lieutenant Governor's Office when the Commission on Indian Affairs was created, and had the benefit of being able to go down to the Four Corners for a peace treaty signing ceremony between the Utes and the Comanches that had been sort of at odds with each other for about a hundred years, and just being able to participate in that powwow was pretty awesome. And for those of you who continue to participate in the annual powwow, it's such a great opportunity for everybody else to enjoy so many of the contributions of the culture. I mean, to see that the dance continues to be carried on as well as the Native language from generation to generation is just so incredible because in so many cultures, you know, people have come here and assimilated to the, you know, the norms here and they lose their language and lose a lot of the culture. And in the Native community, that hasn't happened. That, you know, commitment to just passing that on from generation to generation is so important. And so I'm happy to be a co-sponsor of this tonight. Thank you. All right. Thank you, Councilwoman Ortega. Councilwoman Kaneech. Thank you very much, and I also want to thank my colleague for bringing this forward. And I just wanted to say a word to the artist about how beautiful and moving I thought this logo was and your description of it. And I think one of the things that is clear is, you know, the words sometimes don't convey the power of imagery or music or the other pieces that make up culture, and so I think the art is so important. And when you talked about water, I was also thinking about land, and I guess I just wanted to say thank you. Many of the Native American peoples of Colorado have been at the forefront, or actually nationally, of defending some of the public lands that have been protected over the last few years that are under attack right now. And there are places that the communities have fought to protect but that everyone gets to enjoy. And so I just think that it's an example of where cultural preservation intersects with environmental protection, with, you know, recreation and all of the other ways that public lands are so important. And so I think I just wanted to say thank you for that because I think we have some very sacred places in our country that are at risk right now. And so as we celebrate, I appreciate that there's still a piece of resistance in here, and I think that I just want to mention a solidarity and mention a feeling of solidarity with that resistance. So thank you, and happy Confluence Week. Thank you, Councilwoman Knitsch. And seeing no other comments, I'll just say a couple. And in a time of such divisive ugliness and just despicable behavior from our leadership, the reason I'm so supportive of Indigenous Peoples' Day is because it means inclusivity. It means respecting all, respecting those who have been silenced on purpose for a long time and whose history has not been told. And so we celebrate inclusivity in the face of such evil times, honestly.\n",
      "\n"
     ]
    }
   ],
   "source": [
    "# OpenAI Whisperモデルを使用して、オーディオをテキストに変換\n",
    "# OSSモデルを使用したい場合は、このColabの最後に貢献が追加されている。\n",
    "audio_file = open(audio_filename, \"rb\")\n",
    "transcription = openai.audio.transcriptions.create(model=AUDIO_MODEL, file=audio_file, response_format=\"text\")\n",
    "print(transcription)"
   ]
  },
  {
   "cell_type": "code",
   "execution_count": 8,
   "metadata": {
    "executionInfo": {
     "elapsed": 4,
     "status": "ok",
     "timestamp": 1753880083396,
     "user": {
      "displayName": "osscjpdevinfra部長アカ",
      "userId": "05817968951108036520"
     },
     "user_tz": -540
    },
    "id": "piEMmcSfMH-O"
   },
   "outputs": [],
   "source": [
    "# あなたは、議事録から、要約、主要な議論のポイント、持ち帰り内容、所有者とのアクション項目をマークダウン形式で作成するアシスタントです。\n",
    "system_message = \"You are an assistant that produces minutes of meetings from transcripts, with summary, key discussion points, takeaways and action items with owners, in markdown.\"\n",
    "\n",
    "# 以下はデンバー市議会の議事録抜粋です。出席者、場所、日付、議論のポイント、まとめ、そしてオーナーとのアクション項目を含む議事録をマークダウン形式でご記入ください。\\n{transcription}\n",
    "user_prompt = f\"Below is an extract transcript of a Denver council meeting. Please write minutes in markdown, including a summary with attendees, location and date; discussion points; takeaways; and action items with owners.\\n{transcription}\"\n",
    "\n",
    "messages = [\n",
    "    {\"role\": \"system\", \"content\": system_message},\n",
    "    {\"role\": \"user\", \"content\": user_prompt}\n",
    "  ]"
   ]
  },
  {
   "cell_type": "code",
   "execution_count": 9,
   "metadata": {
    "executionInfo": {
     "elapsed": 11,
     "status": "ok",
     "timestamp": 1753880087216,
     "user": {
      "displayName": "osscjpdevinfra部長アカ",
      "userId": "05817968951108036520"
     },
     "user_tz": -540
    },
    "id": "UcRKUgcxMew6"
   },
   "outputs": [],
   "source": [
    "# 量子化構成\n",
    "quant_config = BitsAndBytesConfig(\n",
    "    load_in_4bit=True,\n",
    "    bnb_4bit_use_double_quant=True,\n",
    "    bnb_4bit_compute_dtype=torch.bfloat16,\n",
    "    bnb_4bit_quant_type=\"nf4\"\n",
    ")"
   ]
  },
  {
   "cell_type": "code",
   "execution_count": 10,
   "metadata": {
    "colab": {
     "base_uri": "https://localhost:8080/",
     "height": 895,
     "referenced_widgets": [
      "4cc46646a65a4481bb1d0572490e094c",
      "c3af1782c3544b9abb2b44737847248d",
      "0d8090f002f74ac68a69a678c2df3071",
      "28db585709314cb3ace30f35f3ffff55",
      "a3dbe00df00c4658823700fe229d2c80",
      "6c0b85a602fe45698507d3053545db44",
      "0a04006fc0d04f6ba0ea1d6a19847fd0",
      "78e4d95e346343649f9ef24829635d26",
      "63c2b4f114dd49dba211868f7f4d6408",
      "31b5b3fd7c7a406899e7fac2f333bb17",
      "b920a680f6584a3ab4e07fe5e5f94942"
     ]
    },
    "executionInfo": {
     "elapsed": 155934,
     "status": "ok",
     "timestamp": 1753880245281,
     "user": {
      "displayName": "osscjpdevinfra部長アカ",
      "userId": "05817968951108036520"
     },
     "user_tz": -540
    },
    "id": "6CujZRAgMimy",
    "outputId": "d4081431-a507-4db4-835c-808f80f1f44e"
   },
   "outputs": [
    {
     "data": {
      "application/vnd.jupyter.widget-view+json": {
       "model_id": "4cc46646a65a4481bb1d0572490e094c",
       "version_major": 2,
       "version_minor": 0
      },
      "text/plain": [
       "Loading checkpoint shards:   0%|          | 0/4 [00:00<?, ?it/s]"
      ]
     },
     "metadata": {},
     "output_type": "display_data"
    },
    {
     "name": "stderr",
     "output_type": "stream",
     "text": [
      "The attention mask and the pad token id were not set. As a consequence, you may observe unexpected behavior. Please pass your input's `attention_mask` to obtain reliable results.\n",
      "Setting `pad_token_id` to `eos_token_id`:128001 for open-end generation.\n",
      "The attention mask is not set and cannot be inferred from input because pad token is same as eos token. As a consequence, you may observe unexpected behavior. Please pass your input's `attention_mask` to obtain reliable results.\n"
     ]
    },
    {
     "name": "stdout",
     "output_type": "stream",
     "text": [
      "<|begin_of_text|><|start_header_id|>system<|end_header_id|>\n",
      "\n",
      "Cutting Knowledge Date: December 2023\n",
      "Today Date: 26 Jul 2024\n",
      "\n",
      "You are an assistant that produces minutes of meetings from transcripts, with summary, key discussion points, takeaways and action items with owners, in markdown.<|eot_id|><|start_header_id|>user<|end_header_id|>\n",
      "\n",
      "Below is an extract transcript of a Denver council meeting. Please write minutes in markdown, including a summary with attendees, location and date; discussion points; takeaways; and action items with owners.\n",
      "and kind of the confluence of this whole idea of the confluence week, the merging of two rivers and as we've kind of seen recently in politics and in the world, there's a lot of situations where water is very important right now and it's a very big issue. So that is the reason that the back of the logo is considered water. So let me see the creation of the logo here. So that basically kind of sums up the reason behind the logo and all the meanings behind the symbolism and you'll hear a little bit more about our confluence week is basically highlighting all of these indigenous events and things that are happening around Denver so that we can kind of bring more people together and kind of share this whole idea of Indigenous People's Day. So thank you. Thank you so much and thanks for your leadership. All right. Welcome to the Denver City Council meeting of Monday, October 9th. Please rise with the Pledge of Allegiance by Councilman Lopez. I pledge allegiance to the flag of the United States of America, and to the republic for which it stands, one nation, under God, indivisible, with liberty and justice for all. All right. Thank you, Councilman Lopez. Madam Secretary, roll call. Clerk. Here. Espinosa. Here. Flynn. Here. Gilmour. Here. Here. Cashman. Here. Kenneche. Here. Lopez. Here. New. Here. Ortega. Here. Sussman. Here. Mr. President. Here. 11 present. 11 members present. We do have a quorum. Approval of the minutes. Seeing none. Minutes of October 2nd stand approved. Council announcements. Are there any announcements by members of Council? Councilman Clark. Thank you, Mr. President. I just wanted to invite everyone down to the first ever Halloween parade on Broadway in Lucky District 7. It will happen on Saturday, October 21st at 6 o'clock p.m. It will move along Broadway from 3rd to Alameda. It's going to be a fun, family-friendly event. Everyone's invited to come down, wear a costume. There will be candy for the kids and there are tiki zombies and 29 hearses and all kinds of fun and funky stuff on the fun and funky part of Broadway. So please join us October 21st at 6 o'clock for the Broadway Halloween parade. Thank you, Mr. President. All right. Thank you, Councilman Clark. I will be there. All right. Presentations. Madam Secretary, do we have any presentations? None, Mr. President. Communications. Do we have any communications? None, Mr. President. We do have one proclamation this evening. Proclamation 1127, an observance of the annual Indigenous Peoples Day in the City and County of Denver. Councilman Lopez, will you please read it? Thank you, Mr. President, with pride. Proclamation number 17, well, let me just say this differently. Proclamation number 1127, series of 2017, an observance of the second annual Indigenous Peoples Day in the City and County of Denver. Whereas the Council of the City and County of Denver recognizes that the Indigenous Peoples have lived and flourished on the lands known as the Americas since time immemorial and that Denver and the surrounding communities are built upon the ancestral homelands of numerous Indigenous tribes, which include the Southern Ute, the Ute Mountain, Ute tribes of Colorado. And whereas the tribal homelands and seasonal encampments of the Arapaho and Cheyenne people along the banks of the Cherry Creek and South Platte River confluence gave bearing to the future settlements that would become the birthplace of the Mile High City. And whereas Colorado encompasses the ancestral homelands of 48 tribes and the City and County of Denver and surrounding communities are home to the descendants of approximately 100 tribal nations. And whereas on October 3rd, 2016, the City and County of Denver unanimously passed Council Bill 801, series of 2016, officially designating the second Monday of October of each year as Indigenous Peoples Day in Denver, Colorado. And whereas the Council of the City and County of Denver continues to recognize and value the vast contributions made to the community through Indigenous Peoples' knowledge, science, philosophy, arts, and culture. And through these contributions, the City of Denver has developed and thrived. Whereas the Indigenous community, especially youth, have made great efforts this year to draw attention to the contributions of Indigenous people, including Confluence Week, drawing record attendance to a National Indigenous Youth Leadership Conference, leading conversations on inclusion with their peers, and supporting increased Indigenous youth participation in science and engineering. Now, therefore, be it proclaimed by the Council of the City and County of Denver, Section 1, that the Council of the City and County of Denver celebrates and honors the cultural and foundational contributions of Indigenous people to our history, our past, our present, and future, and continues to promote the education of the Denver community about these historical and contemporary contributions of Indigenous people. Section 2, that the City and County of Denver, Colorado, does hereby observe October 9th, 2017, as Indigenous Peoples Day. Section 3, that the Clerk of the City and County of Denver shall attest and affix the seal of the City and County of Denver to this proclamation, and that a copy be transmitted to the Denver American Indian Commission, the City and County of Denver School District No. 1, and the Colorado Commission on Indian Affairs. Thank you, Councilman Lopez. Your motion to adopt. Mr. President, I move that Proclamation No. 1127, Series of 2017, be adopted. All right. It has been moved and seconded. It comes from the members of Council. Councilman Lopez. Thank you, Mr. President. It gives me a lot of pleasure and pride to read this proclamation officially for the third time, but as Indigenous Peoples Day in Denver, officially for the second time. It's always awesome to be able to see not just this proclamation come by my desk, but to see so many different people from our community in our Council Chambers. It was a very beautiful piece of artwork that you presented to us earlier, and it is exactly the spirit that we drafted this proclamation and this actual, the ordinance that created Indigenous Peoples Day when we sat down and wrote it, and as a community, we couldn't think of anything else to begin except for the confluence of the two rivers, and those confluence of the two rivers created such a great city, and we live in such an amazing city, and we're all proud of it, and sometimes we, and a lot of people from all over the country or all over the world are proud of it, and sometimes a little too proud of it is telling them to go back home, but I'm kidding when I say that, but the really nice thing about this is that we are celebrating Indigenous Peoples Day out of pride for who we are, who we are as a city, and the contributions of Indigenous people to the city, not out of spite, not out of a replacement of one culture over the other, or out of contempt or disrespect. You know, I think of a quote that Cesar Chavez made very popular, and it stuck with me for a very long time, and any time I have the opportunity to speak in front of children, and especially children in our community that, you know, they often second guess themselves on where they're coming from, who they are, and I always say that, you know, it's very important to be proud of who you're from, and the quote that I use from Cesar Chavez is, you know, pride in one's own cultures does not require contempt or disrespect of another, right? And that's very important. It's very important for us to recognize that, no matter who we are, where we come from in this society, that your pride in your own culture doesn't require, should not require the contempt or disrespect of another. And man, what a year to be, for that to just sit on our shoulders for a while, for us to think about, right? And so, I wanted to, just to thank you all, to thank the commission, there's going to be a couple individuals that are going to come speak, thank you for your art, your lovely artwork, for us to see what's in your heart and what now has become, probably is going to be a very important symbol for the community. And also, just for the work, the daily work, every single day, we still have a lot of brothers and sisters whose ancestors once lived in these lands freely, now stand on street corners, right? In poverty, without access to services, right? Without access to sobriety or even housing or jobs. And what a, what a, what a cruel way to pay back a culture that has paved the way for the city to be built upon its shores, right? So, we have a lot of work to do. And these kind of proclamations and this day is not a day off, it's a day on in Denver, right? And addressing those critical issues. So, I know that my colleagues are very supportive, I'm going to ask you to support this proclamation, as I know you always have done in the past, I'm very proud of today. Oh, and we made Time Magazine and Newsweek once again, today, as being a leader in terms of the cities that are celebrating Indigenous Peoples Day. I wanted to make a point out of that. Thank you, Councilman Lopez, and thank you for sponsoring this. Councilman Ortega? Mr. President, I want to ask that my name be added. I don't think I could add much more to what Councilman Lopez has shared with us. I want to thank him for bringing this forward and really just appreciate all the contributions that our Native American community has contributed to this great city and great state. I worked in the Lieutenant Governor's Office when the Commission on Indian Affairs was created, and had the benefit of being able to go down to the Four Corners for a peace treaty signing ceremony between the Utes and the Comanches that had been sort of at odds with each other for about a hundred years, and just being able to participate in that powwow was pretty awesome. And for those of you who continue to participate in the annual powwow, it's such a great opportunity for everybody else to enjoy so many of the contributions of the culture. I mean, to see that the dance continues to be carried on as well as the Native language from generation to generation is just so incredible because in so many cultures, you know, people have come here and assimilated to the, you know, the norms here and they lose their language and lose a lot of the culture. And in the Native community, that hasn't happened. That, you know, commitment to just passing that on from generation to generation is so important. And so I'm happy to be a co-sponsor of this tonight. Thank you. All right. Thank you, Councilwoman Ortega. Councilwoman Kaneech. Thank you very much, and I also want to thank my colleague for bringing this forward. And I just wanted to say a word to the artist about how beautiful and moving I thought this logo was and your description of it. And I think one of the things that is clear is, you know, the words sometimes don't convey the power of imagery or music or the other pieces that make up culture, and so I think the art is so important. And when you talked about water, I was also thinking about land, and I guess I just wanted to say thank you. Many of the Native American peoples of Colorado have been at the forefront, or actually nationally, of defending some of the public lands that have been protected over the last few years that are under attack right now. And there are places that the communities have fought to protect but that everyone gets to enjoy. And so I just think that it's an example of where cultural preservation intersects with environmental protection, with, you know, recreation and all of the other ways that public lands are so important. And so I think I just wanted to say thank you for that because I think we have some very sacred places in our country that are at risk right now. And so as we celebrate, I appreciate that there's still a piece of resistance in here, and I think that I just want to mention a solidarity and mention a feeling of solidarity with that resistance. So thank you, and happy Confluence Week. Thank you, Councilwoman Knitsch. And seeing no other comments, I'll just say a couple. And in a time of such divisive ugliness and just despicable behavior from our leadership, the reason I'm so supportive of Indigenous Peoples' Day is because it means inclusivity. It means respecting all, respecting those who have been silenced on purpose for a long time and whose history has not been told. And so we celebrate inclusivity in the face of such evil times, honestly.<|eot_id|><|start_header_id|>assistant<|end_header_id|>\n",
      "\n",
      "**Minutes of the Denver City Council Meeting**\n",
      "**Date:** October 9th, 2017\n",
      "**Location:** Denver City Council Chambers\n",
      "**Attendees:** Councilman Lopez, Councilman Clark, Councilwoman Ortega, Councilwoman Knitsch, Clerk, and other members of the council\n",
      "\n",
      "**Summary:**\n",
      "The Denver City Council met on October 9th, 2017, to discuss and adopt Proclamation No. 1127, Series of 2017, an observance of the second annual Indigenous Peoples Day in the City and County of Denver. The council recognized the cultural and foundational contributions of Indigenous people to the city's history, past, present, and future.\n",
      "\n",
      "**Discussion Points:**\n",
      "\n",
      "* The council acknowledged the importance of Indigenous Peoples Day and its significance in promoting inclusivity and respect for all cultures.\n",
      "* Councilman Lopez highlighted the confluence of the two rivers, which created the city of Denver, and emphasized the need to celebrate Indigenous Peoples Day out of pride for the city's history and contributions.\n",
      "* Councilwoman Ortega shared her experiences with the Native American community and highlighted the importance of preserving Native language and culture.\n",
      "* Councilwoman Knitsch expressed her solidarity with the resistance to protect public lands and emphasized the importance of environmental protection.\n",
      "\n",
      "**Takeaways:**\n",
      "\n",
      "* The council recognized the cultural and foundational contributions of Indigenous people to the city's history.\n",
      "* The council emphasized the importance of inclusivity and respect for all cultures.\n",
      "* The council highlighted the significance of Indigenous Peoples Day in promoting cultural preservation and environmental protection.\n",
      "\n",
      "**Action Items:**\n",
      "\n",
      "* Adopt Proclamation No. 1127, Series of 2017, an observance of the second annual Indigenous Peoples Day in the City and County of Denver.\n",
      "* Recognize the cultural and foundational contributions of Indigenous people to the city's history.\n",
      "* Promote inclusivity and respect for all cultures.\n",
      "\n",
      "**Owners:**\n",
      "\n",
      "* Councilman Lopez: Sponsored the proclamation and emphasized the importance of Indigenous Peoples Day.\n",
      "* Councilwoman Ortega: Co-sponsored the proclamation and highlighted the importance of preserving Native language and culture.\n",
      "* Councilwoman Knitsch: Expressed her solidarity with the resistance to protect public lands and emphasized the importance of environmental protection.<|eot_id|>\n"
     ]
    }
   ],
   "source": [
    "# トークナイズし、量子化されたモデルに渡してGPU上で、\n",
    "# 最大2000トークン分（約8000英字）を生成（入力は1,2000英字）\n",
    "tokenizer = AutoTokenizer.from_pretrained(LLAMA)\n",
    "tokenizer.pad_token = tokenizer.eos_token\n",
    "inputs = tokenizer.apply_chat_template(messages, return_tensors=\"pt\").to(\"cuda\")\n",
    "streamer = TextStreamer(tokenizer)\n",
    "model = AutoModelForCausalLM.from_pretrained(LLAMA, device_map=\"auto\", quantization_config=quant_config)\n",
    "outputs = model.generate(inputs, max_new_tokens=2000, streamer=streamer)"
   ]
  },
  {
   "cell_type": "code",
   "execution_count": 11,
   "metadata": {
    "executionInfo": {
     "elapsed": 55,
     "status": "ok",
     "timestamp": 1753880253194,
     "user": {
      "displayName": "osscjpdevinfra部長アカ",
      "userId": "05817968951108036520"
     },
     "user_tz": -540
    },
    "id": "102tdU_3Peam"
   },
   "outputs": [],
   "source": [
    "# Decode\n",
    "response = tokenizer.decode(outputs[0])"
   ]
  },
  {
   "cell_type": "code",
   "execution_count": 12,
   "metadata": {
    "colab": {
     "base_uri": "https://localhost:8080/",
     "height": 1000
    },
    "executionInfo": {
     "elapsed": 44,
     "status": "ok",
     "timestamp": 1753880254230,
     "user": {
      "displayName": "osscjpdevinfra部長アカ",
      "userId": "05817968951108036520"
     },
     "user_tz": -540
    },
    "id": "KlomN6CwMdoN",
    "outputId": "c9423e6a-c270-4b91-a4d5-801c25da9b14"
   },
   "outputs": [
    {
     "data": {
      "text/markdown": [
       "<|begin_of_text|><|start_header_id|>system<|end_header_id|>\n",
       "\n",
       "Cutting Knowledge Date: December 2023\n",
       "Today Date: 26 Jul 2024\n",
       "\n",
       "You are an assistant that produces minutes of meetings from transcripts, with summary, key discussion points, takeaways and action items with owners, in markdown.<|eot_id|><|start_header_id|>user<|end_header_id|>\n",
       "\n",
       "Below is an extract transcript of a Denver council meeting. Please write minutes in markdown, including a summary with attendees, location and date; discussion points; takeaways; and action items with owners.\n",
       "and kind of the confluence of this whole idea of the confluence week, the merging of two rivers and as we've kind of seen recently in politics and in the world, there's a lot of situations where water is very important right now and it's a very big issue. So that is the reason that the back of the logo is considered water. So let me see the creation of the logo here. So that basically kind of sums up the reason behind the logo and all the meanings behind the symbolism and you'll hear a little bit more about our confluence week is basically highlighting all of these indigenous events and things that are happening around Denver so that we can kind of bring more people together and kind of share this whole idea of Indigenous People's Day. So thank you. Thank you so much and thanks for your leadership. All right. Welcome to the Denver City Council meeting of Monday, October 9th. Please rise with the Pledge of Allegiance by Councilman Lopez. I pledge allegiance to the flag of the United States of America, and to the republic for which it stands, one nation, under God, indivisible, with liberty and justice for all. All right. Thank you, Councilman Lopez. Madam Secretary, roll call. Clerk. Here. Espinosa. Here. Flynn. Here. Gilmour. Here. Here. Cashman. Here. Kenneche. Here. Lopez. Here. New. Here. Ortega. Here. Sussman. Here. Mr. President. Here. 11 present. 11 members present. We do have a quorum. Approval of the minutes. Seeing none. Minutes of October 2nd stand approved. Council announcements. Are there any announcements by members of Council? Councilman Clark. Thank you, Mr. President. I just wanted to invite everyone down to the first ever Halloween parade on Broadway in Lucky District 7. It will happen on Saturday, October 21st at 6 o'clock p.m. It will move along Broadway from 3rd to Alameda. It's going to be a fun, family-friendly event. Everyone's invited to come down, wear a costume. There will be candy for the kids and there are tiki zombies and 29 hearses and all kinds of fun and funky stuff on the fun and funky part of Broadway. So please join us October 21st at 6 o'clock for the Broadway Halloween parade. Thank you, Mr. President. All right. Thank you, Councilman Clark. I will be there. All right. Presentations. Madam Secretary, do we have any presentations? None, Mr. President. Communications. Do we have any communications? None, Mr. President. We do have one proclamation this evening. Proclamation 1127, an observance of the annual Indigenous Peoples Day in the City and County of Denver. Councilman Lopez, will you please read it? Thank you, Mr. President, with pride. Proclamation number 17, well, let me just say this differently. Proclamation number 1127, series of 2017, an observance of the second annual Indigenous Peoples Day in the City and County of Denver. Whereas the Council of the City and County of Denver recognizes that the Indigenous Peoples have lived and flourished on the lands known as the Americas since time immemorial and that Denver and the surrounding communities are built upon the ancestral homelands of numerous Indigenous tribes, which include the Southern Ute, the Ute Mountain, Ute tribes of Colorado. And whereas the tribal homelands and seasonal encampments of the Arapaho and Cheyenne people along the banks of the Cherry Creek and South Platte River confluence gave bearing to the future settlements that would become the birthplace of the Mile High City. And whereas Colorado encompasses the ancestral homelands of 48 tribes and the City and County of Denver and surrounding communities are home to the descendants of approximately 100 tribal nations. And whereas on October 3rd, 2016, the City and County of Denver unanimously passed Council Bill 801, series of 2016, officially designating the second Monday of October of each year as Indigenous Peoples Day in Denver, Colorado. And whereas the Council of the City and County of Denver continues to recognize and value the vast contributions made to the community through Indigenous Peoples' knowledge, science, philosophy, arts, and culture. And through these contributions, the City of Denver has developed and thrived. Whereas the Indigenous community, especially youth, have made great efforts this year to draw attention to the contributions of Indigenous people, including Confluence Week, drawing record attendance to a National Indigenous Youth Leadership Conference, leading conversations on inclusion with their peers, and supporting increased Indigenous youth participation in science and engineering. Now, therefore, be it proclaimed by the Council of the City and County of Denver, Section 1, that the Council of the City and County of Denver celebrates and honors the cultural and foundational contributions of Indigenous people to our history, our past, our present, and future, and continues to promote the education of the Denver community about these historical and contemporary contributions of Indigenous people. Section 2, that the City and County of Denver, Colorado, does hereby observe October 9th, 2017, as Indigenous Peoples Day. Section 3, that the Clerk of the City and County of Denver shall attest and affix the seal of the City and County of Denver to this proclamation, and that a copy be transmitted to the Denver American Indian Commission, the City and County of Denver School District No. 1, and the Colorado Commission on Indian Affairs. Thank you, Councilman Lopez. Your motion to adopt. Mr. President, I move that Proclamation No. 1127, Series of 2017, be adopted. All right. It has been moved and seconded. It comes from the members of Council. Councilman Lopez. Thank you, Mr. President. It gives me a lot of pleasure and pride to read this proclamation officially for the third time, but as Indigenous Peoples Day in Denver, officially for the second time. It's always awesome to be able to see not just this proclamation come by my desk, but to see so many different people from our community in our Council Chambers. It was a very beautiful piece of artwork that you presented to us earlier, and it is exactly the spirit that we drafted this proclamation and this actual, the ordinance that created Indigenous Peoples Day when we sat down and wrote it, and as a community, we couldn't think of anything else to begin except for the confluence of the two rivers, and those confluence of the two rivers created such a great city, and we live in such an amazing city, and we're all proud of it, and sometimes we, and a lot of people from all over the country or all over the world are proud of it, and sometimes a little too proud of it is telling them to go back home, but I'm kidding when I say that, but the really nice thing about this is that we are celebrating Indigenous Peoples Day out of pride for who we are, who we are as a city, and the contributions of Indigenous people to the city, not out of spite, not out of a replacement of one culture over the other, or out of contempt or disrespect. You know, I think of a quote that Cesar Chavez made very popular, and it stuck with me for a very long time, and any time I have the opportunity to speak in front of children, and especially children in our community that, you know, they often second guess themselves on where they're coming from, who they are, and I always say that, you know, it's very important to be proud of who you're from, and the quote that I use from Cesar Chavez is, you know, pride in one's own cultures does not require contempt or disrespect of another, right? And that's very important. It's very important for us to recognize that, no matter who we are, where we come from in this society, that your pride in your own culture doesn't require, should not require the contempt or disrespect of another. And man, what a year to be, for that to just sit on our shoulders for a while, for us to think about, right? And so, I wanted to, just to thank you all, to thank the commission, there's going to be a couple individuals that are going to come speak, thank you for your art, your lovely artwork, for us to see what's in your heart and what now has become, probably is going to be a very important symbol for the community. And also, just for the work, the daily work, every single day, we still have a lot of brothers and sisters whose ancestors once lived in these lands freely, now stand on street corners, right? In poverty, without access to services, right? Without access to sobriety or even housing or jobs. And what a, what a, what a cruel way to pay back a culture that has paved the way for the city to be built upon its shores, right? So, we have a lot of work to do. And these kind of proclamations and this day is not a day off, it's a day on in Denver, right? And addressing those critical issues. So, I know that my colleagues are very supportive, I'm going to ask you to support this proclamation, as I know you always have done in the past, I'm very proud of today. Oh, and we made Time Magazine and Newsweek once again, today, as being a leader in terms of the cities that are celebrating Indigenous Peoples Day. I wanted to make a point out of that. Thank you, Councilman Lopez, and thank you for sponsoring this. Councilman Ortega? Mr. President, I want to ask that my name be added. I don't think I could add much more to what Councilman Lopez has shared with us. I want to thank him for bringing this forward and really just appreciate all the contributions that our Native American community has contributed to this great city and great state. I worked in the Lieutenant Governor's Office when the Commission on Indian Affairs was created, and had the benefit of being able to go down to the Four Corners for a peace treaty signing ceremony between the Utes and the Comanches that had been sort of at odds with each other for about a hundred years, and just being able to participate in that powwow was pretty awesome. And for those of you who continue to participate in the annual powwow, it's such a great opportunity for everybody else to enjoy so many of the contributions of the culture. I mean, to see that the dance continues to be carried on as well as the Native language from generation to generation is just so incredible because in so many cultures, you know, people have come here and assimilated to the, you know, the norms here and they lose their language and lose a lot of the culture. And in the Native community, that hasn't happened. That, you know, commitment to just passing that on from generation to generation is so important. And so I'm happy to be a co-sponsor of this tonight. Thank you. All right. Thank you, Councilwoman Ortega. Councilwoman Kaneech. Thank you very much, and I also want to thank my colleague for bringing this forward. And I just wanted to say a word to the artist about how beautiful and moving I thought this logo was and your description of it. And I think one of the things that is clear is, you know, the words sometimes don't convey the power of imagery or music or the other pieces that make up culture, and so I think the art is so important. And when you talked about water, I was also thinking about land, and I guess I just wanted to say thank you. Many of the Native American peoples of Colorado have been at the forefront, or actually nationally, of defending some of the public lands that have been protected over the last few years that are under attack right now. And there are places that the communities have fought to protect but that everyone gets to enjoy. And so I just think that it's an example of where cultural preservation intersects with environmental protection, with, you know, recreation and all of the other ways that public lands are so important. And so I think I just wanted to say thank you for that because I think we have some very sacred places in our country that are at risk right now. And so as we celebrate, I appreciate that there's still a piece of resistance in here, and I think that I just want to mention a solidarity and mention a feeling of solidarity with that resistance. So thank you, and happy Confluence Week. Thank you, Councilwoman Knitsch. And seeing no other comments, I'll just say a couple. And in a time of such divisive ugliness and just despicable behavior from our leadership, the reason I'm so supportive of Indigenous Peoples' Day is because it means inclusivity. It means respecting all, respecting those who have been silenced on purpose for a long time and whose history has not been told. And so we celebrate inclusivity in the face of such evil times, honestly.<|eot_id|><|start_header_id|>assistant<|end_header_id|>\n",
       "\n",
       "**Minutes of the Denver City Council Meeting**\n",
       "**Date:** October 9th, 2017\n",
       "**Location:** Denver City Council Chambers\n",
       "**Attendees:** Councilman Lopez, Councilman Clark, Councilwoman Ortega, Councilwoman Knitsch, Clerk, and other members of the council\n",
       "\n",
       "**Summary:**\n",
       "The Denver City Council met on October 9th, 2017, to discuss and adopt Proclamation No. 1127, Series of 2017, an observance of the second annual Indigenous Peoples Day in the City and County of Denver. The council recognized the cultural and foundational contributions of Indigenous people to the city's history, past, present, and future.\n",
       "\n",
       "**Discussion Points:**\n",
       "\n",
       "* The council acknowledged the importance of Indigenous Peoples Day and its significance in promoting inclusivity and respect for all cultures.\n",
       "* Councilman Lopez highlighted the confluence of the two rivers, which created the city of Denver, and emphasized the need to celebrate Indigenous Peoples Day out of pride for the city's history and contributions.\n",
       "* Councilwoman Ortega shared her experiences with the Native American community and highlighted the importance of preserving Native language and culture.\n",
       "* Councilwoman Knitsch expressed her solidarity with the resistance to protect public lands and emphasized the importance of environmental protection.\n",
       "\n",
       "**Takeaways:**\n",
       "\n",
       "* The council recognized the cultural and foundational contributions of Indigenous people to the city's history.\n",
       "* The council emphasized the importance of inclusivity and respect for all cultures.\n",
       "* The council highlighted the significance of Indigenous Peoples Day in promoting cultural preservation and environmental protection.\n",
       "\n",
       "**Action Items:**\n",
       "\n",
       "* Adopt Proclamation No. 1127, Series of 2017, an observance of the second annual Indigenous Peoples Day in the City and County of Denver.\n",
       "* Recognize the cultural and foundational contributions of Indigenous people to the city's history.\n",
       "* Promote inclusivity and respect for all cultures.\n",
       "\n",
       "**Owners:**\n",
       "\n",
       "* Councilman Lopez: Sponsored the proclamation and emphasized the importance of Indigenous Peoples Day.\n",
       "* Councilwoman Ortega: Co-sponsored the proclamation and highlighted the importance of preserving Native language and culture.\n",
       "* Councilwoman Knitsch: Expressed her solidarity with the resistance to protect public lands and emphasized the importance of environmental protection.<|eot_id|>"
      ],
      "text/plain": [
       "<IPython.core.display.Markdown object>"
      ]
     },
     "metadata": {},
     "output_type": "display_data"
    }
   ],
   "source": [
    "# Markdown\n",
    "display(Markdown(response))"
   ]
  },
  {
   "cell_type": "markdown",
   "metadata": {
    "id": "kuxYecT2QDQ9"
   },
   "source": [
    "# 学生の貢献\n",
    "\n",
    "Student Emad S.は、「TextiteratorStreamer」を使用して結果をグラデーションUIにストリーミングするこの強力なバリエーションを作成し、パフォーマンスのためにバックグラウンドスレッドを利用しています！非常に興味深い仕事を見てみたいなら、ここで共有しています。ありがとう、エマド！\n",
    "\n",
    "https://colab.research.google.com/drive/1ja5zyniyjo5y8s1lkectskb2xydpot6d"
   ]
  },
  {
   "cell_type": "markdown",
   "metadata": {
    "id": "AU3uAEyU3a-o"
   },
   "source": [
    "## 代替実装\n",
    "\n",
    "クラスの学生Youssefは、OSSモデルを使用して会議のオーディオを転写するこのバリエーションに貢献。Youssefありがとう！"
   ]
  },
  {
   "cell_type": "code",
   "execution_count": null,
   "metadata": {
    "id": "HdQnWEzW3lzP"
   },
   "outputs": [],
   "source": [
    "AUDIO_MODEL = \"openai/whisper-medium\"\n",
    "speech_model = AutoModelForSpeechSeq2Seq.from_pretrained(AUDIO_MODEL, torch_dtype=torch.float16, low_cpu_mem_usage=True, use_safetensors=True)\n",
    "speech_model.to('cuda')\n",
    "processor = AutoProcessor.from_pretrained(AUDIO_MODEL)\n",
    "\n",
    "pipe = pipeline(\n",
    "    \"automatic-speech-recognition\",\n",
    "    model=speech_model,\n",
    "    tokenizer=processor.tokenizer,\n",
    "    feature_extractor=processor.feature_extractor,\n",
    "    torch_dtype=torch.float16,\n",
    "    device='cuda',\n",
    ")"
   ]
  },
  {
   "cell_type": "code",
   "execution_count": null,
   "metadata": {
    "id": "nrQjKtD53omJ"
   },
   "outputs": [],
   "source": [
    "# whisper openaiモデルを使用して、オーディオをテキストに変換します\n",
    "result = pipe(audio_filename)"
   ]
  },
  {
   "cell_type": "code",
   "execution_count": null,
   "metadata": {
    "id": "G_XSljOY3tDf"
   },
   "outputs": [],
   "source": [
    "transcription = result[\"text\"]\n",
    "print(transcription)"
   ]
  },
  {
   "cell_type": "markdown",
   "metadata": {
    "id": "u0XjEfQ9L9O1"
   },
   "source": [
    "# 練習問題 - Gradio UIで議事録アプリ\n",
    "https://github.com/ed-donner/llm_engineering/blob/main/week3/community-contributions/Week_3_Day_5_Meeting_Minutes_product_with_Gradio.ipynb"
   ]
  },
  {
   "cell_type": "code",
   "execution_count": 13,
   "metadata": {
    "colab": {
     "base_uri": "https://localhost:8080/"
    },
    "executionInfo": {
     "elapsed": 6855,
     "status": "ok",
     "timestamp": 1753880269821,
     "user": {
      "displayName": "osscjpdevinfra部長アカ",
      "userId": "05817968951108036520"
     },
     "user_tz": -540
    },
    "id": "DYkMyD4rL9O1",
    "outputId": "5dabdfd9-c3f1-40f7-8d0c-ad02daebcc20"
   },
   "outputs": [
    {
     "name": "stdout",
     "output_type": "stream",
     "text": [
      "Requirement already satisfied: pydub in /usr/local/lib/python3.11/dist-packages (0.25.1)\n",
      "Reading package lists... Done\n",
      "Building dependency tree... Done\n",
      "Reading state information... Done\n",
      "ffmpeg is already the newest version (7:4.4.2-0ubuntu0.22.04.1).\n",
      "0 upgraded, 0 newly installed, 0 to remove and 35 not upgraded.\n"
     ]
    }
   ],
   "source": [
    "!pip install pydub\n",
    "!apt-get install ffmpeg"
   ]
  },
  {
   "cell_type": "code",
   "execution_count": 14,
   "metadata": {
    "executionInfo": {
     "elapsed": 45,
     "status": "ok",
     "timestamp": 1753880581376,
     "user": {
      "displayName": "osscjpdevinfra部長アカ",
      "userId": "05817968951108036520"
     },
     "user_tz": -540
    },
    "id": "AhOar7OvWTI4"
   },
   "outputs": [],
   "source": [
    "import tempfile\n",
    "import soundfile as sf\n",
    "from pydub import AudioSegment\n",
    "\n",
    "def save_as_mp3(audio_np):\n",
    "    sr, data = audio_np\n",
    "    # Convert float32 or int16 to PCM wav and then mp3\n",
    "    wav_path = tempfile.NamedTemporaryFile(suffix=\".wav\", delete=False).name\n",
    "    mp3_path = tempfile.NamedTemporaryFile(suffix=\".mp3\", delete=False).name\n",
    "\n",
    "    sf.write(wav_path, data, sr)\n",
    "    audio_segment = AudioSegment.from_wav(wav_path)\n",
    "    audio_segment.export(mp3_path, format=\"mp3\", bitrate=\"64k\")  # Low bitrate = small file\n",
    "    return mp3_path"
   ]
  },
  {
   "cell_type": "code",
   "execution_count": 15,
   "metadata": {
    "executionInfo": {
     "elapsed": 49,
     "status": "ok",
     "timestamp": 1753880584813,
     "user": {
      "displayName": "osscjpdevinfra部長アカ",
      "userId": "05817968951108036520"
     },
     "user_tz": -540
    },
    "id": "JKERwC6kL9O3"
   },
   "outputs": [],
   "source": [
    "from pydub import AudioSegment\n",
    "\n",
    "# オーディオ入力を numpy 配列として処理し、更新されたチャット履歴を返します\n",
    "def speak_send(audio_np):\n",
    "\n",
    "    # If use numpy as input: audio_input = gr.Audio(sources=\"upload\", type=\"numpy\", label=\"Upload audio file to generate meeting minutes\")\n",
    "    # type=\"filepath\" を指定すると、audio_np は、ファイルパスの形式になり、type=\"numpy\" を指定すると (sr, data) の形式になる。\n",
    "\n",
    "    # type=\"numpy\"\n",
    "    mp3_path = save_as_mp3(audio_np)\n",
    "    with open(mp3_path, \"rb\") as audio_file:\n",
    "        transcription = openai.audio.transcriptions.create(\n",
    "            model=AUDIO_MODEL,\n",
    "            file=audio_file,\n",
    "            response_format=\"text\"\n",
    "        )\n",
    "\n",
    "    # type=\"filepath\"\n",
    "    \"\"\"\n",
    "    audio = AudioSegment.from_file(audio_np)\n",
    "    with tempfile.NamedTemporaryFile(suffix=\".mp3\", delete=False) as tmpfile:\n",
    "        audio.export(tmpfile.name, format=\"mp3\")\n",
    "        with open(tmpfile.name, \"rb\") as file:\n",
    "            transcript = openai.audio.transcriptions.create(\n",
    "                model=AUDIO_MODEL,\n",
    "                file=file,\n",
    "                response_format=\"text\"\n",
    "            )\n",
    "    \"\"\"\n",
    "\n",
    "    # 同様に\n",
    "    system_message = \"You are an assistant that produces minutes of meetings from transcripts, with summary, key discussion points, takeaways and action items with owners, in markdown.\"\n",
    "    user_prompt = f\"Below is an extract transcript of a Denver council meeting. Please write minutes in markdown, including a summary with attendees, location and date; discussion points; takeaways; and action items with owners.\\n{transcription}\"\n",
    "    messages = [\n",
    "        {\"role\": \"system\", \"content\": system_message},\n",
    "        {\"role\": \"user\", \"content\": user_prompt}\n",
    "    ]\n",
    "\n",
    "    inputs = tokenizer.apply_chat_template(messages, return_tensors=\"pt\").to(\"cuda\")\n",
    "    outputs = model.generate(inputs, max_new_tokens=2000)\n",
    "\n",
    "    _, _, after = tokenizer.decode(outputs[0]).partition(\"assistant<|end_header_id|>\")\n",
    "    return after.strip()\n"
   ]
  },
  {
   "cell_type": "code",
   "execution_count": null,
   "metadata": {
    "colab": {
     "base_uri": "https://localhost:8080/",
     "height": 687
    },
    "id": "JiH1ubqqL9O3",
    "outputId": "5c4fe77c-c34c-4715-c778-11797c49a991"
   },
   "outputs": [
    {
     "name": "stdout",
     "output_type": "stream",
     "text": [
      "It looks like you are running Gradio on a hosted Jupyter notebook, which requires `share=True`. Automatically setting `share=True` (you can turn this off by setting `share=False` in `launch()` explicitly).\n",
      "\n",
      "Colab notebook detected. This cell will run indefinitely so that you can see errors and logs. To turn off, set debug=False in launch().\n",
      "* Running on public URL: https://8914b0826fa351628b.gradio.live\n",
      "\n",
      "This share link expires in 1 week. For free permanent hosting and GPU upgrades, run `gradio deploy` from the terminal in the working directory to deploy to Hugging Face Spaces (https://huggingface.co/spaces)\n"
     ]
    },
    {
     "data": {
      "text/html": [
       "<div><iframe src=\"https://8914b0826fa351628b.gradio.live\" width=\"100%\" height=\"500\" allow=\"autoplay; camera; microphone; clipboard-read; clipboard-write;\" frameborder=\"0\" allowfullscreen></iframe></div>"
      ],
      "text/plain": [
       "<IPython.core.display.HTML object>"
      ]
     },
     "metadata": {},
     "output_type": "display_data"
    },
    {
     "name": "stderr",
     "output_type": "stream",
     "text": [
      "The attention mask and the pad token id were not set. As a consequence, you may observe unexpected behavior. Please pass your input's `attention_mask` to obtain reliable results.\n",
      "Setting `pad_token_id` to `eos_token_id`:128001 for open-end generation.\n"
     ]
    }
   ],
   "source": [
    "import gradio as gr\n",
    "\n",
    "with gr.Blocks() as demo:\n",
    "\n",
    "    with gr.Row():\n",
    "        audio_input = gr.Audio(sources=\"upload\", type=\"numpy\", label=\"Upload audio file to generate meeting minutes\")\n",
    "    with gr.Row():\n",
    "        audio_submit = gr.Button(\"Send\")\n",
    "    with gr.Row():\n",
    "      outputs = [gr.Markdown(label=\"Meeting minutes:\")]\n",
    "\n",
    "    audio_submit.click(speak_send, inputs=audio_input, outputs=outputs)\n",
    "\n",
    "demo.launch(debug=True)\n"
   ]
  }
 ],
 "metadata": {
  "accelerator": "GPU",
  "colab": {
   "gpuType": "T4",
   "provenance": [
    {
     "file_id": "1KSMxOCprsl1QRpt_Rq0UqCAyMtPqDQYx",
     "timestamp": 1753776776850
    }
   ]
  },
  "kernelspec": {
   "display_name": "Python 3 (ipykernel)",
   "language": "python",
   "name": "python3"
  },
  "language_info": {
   "codemirror_mode": {
    "name": "ipython",
    "version": 3
   },
   "file_extension": ".py",
   "mimetype": "text/x-python",
   "name": "python",
   "nbconvert_exporter": "python",
   "pygments_lexer": "ipython3",
   "version": "3.12.3"
  },
  "widgets": {
   "application/vnd.jupyter.widget-state+json": {
    "0a04006fc0d04f6ba0ea1d6a19847fd0": {
     "model_module": "@jupyter-widgets/controls",
     "model_module_version": "1.5.0",
     "model_name": "DescriptionStyleModel",
     "state": {
      "_model_module": "@jupyter-widgets/controls",
      "_model_module_version": "1.5.0",
      "_model_name": "DescriptionStyleModel",
      "_view_count": null,
      "_view_module": "@jupyter-widgets/base",
      "_view_module_version": "1.2.0",
      "_view_name": "StyleView",
      "description_width": ""
     }
    },
    "0d8090f002f74ac68a69a678c2df3071": {
     "model_module": "@jupyter-widgets/controls",
     "model_module_version": "1.5.0",
     "model_name": "FloatProgressModel",
     "state": {
      "_dom_classes": [],
      "_model_module": "@jupyter-widgets/controls",
      "_model_module_version": "1.5.0",
      "_model_name": "FloatProgressModel",
      "_view_count": null,
      "_view_module": "@jupyter-widgets/controls",
      "_view_module_version": "1.5.0",
      "_view_name": "ProgressView",
      "bar_style": "success",
      "description": "",
      "description_tooltip": null,
      "layout": "IPY_MODEL_78e4d95e346343649f9ef24829635d26",
      "max": 4,
      "min": 0,
      "orientation": "horizontal",
      "style": "IPY_MODEL_63c2b4f114dd49dba211868f7f4d6408",
      "value": 4
     }
    },
    "28db585709314cb3ace30f35f3ffff55": {
     "model_module": "@jupyter-widgets/controls",
     "model_module_version": "1.5.0",
     "model_name": "HTMLModel",
     "state": {
      "_dom_classes": [],
      "_model_module": "@jupyter-widgets/controls",
      "_model_module_version": "1.5.0",
      "_model_name": "HTMLModel",
      "_view_count": null,
      "_view_module": "@jupyter-widgets/controls",
      "_view_module_version": "1.5.0",
      "_view_name": "HTMLView",
      "description": "",
      "description_tooltip": null,
      "layout": "IPY_MODEL_31b5b3fd7c7a406899e7fac2f333bb17",
      "placeholder": "​",
      "style": "IPY_MODEL_b920a680f6584a3ab4e07fe5e5f94942",
      "value": " 4/4 [01:12&lt;00:00, 15.72s/it]"
     }
    },
    "31b5b3fd7c7a406899e7fac2f333bb17": {
     "model_module": "@jupyter-widgets/base",
     "model_module_version": "1.2.0",
     "model_name": "LayoutModel",
     "state": {
      "_model_module": "@jupyter-widgets/base",
      "_model_module_version": "1.2.0",
      "_model_name": "LayoutModel",
      "_view_count": null,
      "_view_module": "@jupyter-widgets/base",
      "_view_module_version": "1.2.0",
      "_view_name": "LayoutView",
      "align_content": null,
      "align_items": null,
      "align_self": null,
      "border": null,
      "bottom": null,
      "display": null,
      "flex": null,
      "flex_flow": null,
      "grid_area": null,
      "grid_auto_columns": null,
      "grid_auto_flow": null,
      "grid_auto_rows": null,
      "grid_column": null,
      "grid_gap": null,
      "grid_row": null,
      "grid_template_areas": null,
      "grid_template_columns": null,
      "grid_template_rows": null,
      "height": null,
      "justify_content": null,
      "justify_items": null,
      "left": null,
      "margin": null,
      "max_height": null,
      "max_width": null,
      "min_height": null,
      "min_width": null,
      "object_fit": null,
      "object_position": null,
      "order": null,
      "overflow": null,
      "overflow_x": null,
      "overflow_y": null,
      "padding": null,
      "right": null,
      "top": null,
      "visibility": null,
      "width": null
     }
    },
    "4cc46646a65a4481bb1d0572490e094c": {
     "model_module": "@jupyter-widgets/controls",
     "model_module_version": "1.5.0",
     "model_name": "HBoxModel",
     "state": {
      "_dom_classes": [],
      "_model_module": "@jupyter-widgets/controls",
      "_model_module_version": "1.5.0",
      "_model_name": "HBoxModel",
      "_view_count": null,
      "_view_module": "@jupyter-widgets/controls",
      "_view_module_version": "1.5.0",
      "_view_name": "HBoxView",
      "box_style": "",
      "children": [
       "IPY_MODEL_c3af1782c3544b9abb2b44737847248d",
       "IPY_MODEL_0d8090f002f74ac68a69a678c2df3071",
       "IPY_MODEL_28db585709314cb3ace30f35f3ffff55"
      ],
      "layout": "IPY_MODEL_a3dbe00df00c4658823700fe229d2c80"
     }
    },
    "63c2b4f114dd49dba211868f7f4d6408": {
     "model_module": "@jupyter-widgets/controls",
     "model_module_version": "1.5.0",
     "model_name": "ProgressStyleModel",
     "state": {
      "_model_module": "@jupyter-widgets/controls",
      "_model_module_version": "1.5.0",
      "_model_name": "ProgressStyleModel",
      "_view_count": null,
      "_view_module": "@jupyter-widgets/base",
      "_view_module_version": "1.2.0",
      "_view_name": "StyleView",
      "bar_color": null,
      "description_width": ""
     }
    },
    "6c0b85a602fe45698507d3053545db44": {
     "model_module": "@jupyter-widgets/base",
     "model_module_version": "1.2.0",
     "model_name": "LayoutModel",
     "state": {
      "_model_module": "@jupyter-widgets/base",
      "_model_module_version": "1.2.0",
      "_model_name": "LayoutModel",
      "_view_count": null,
      "_view_module": "@jupyter-widgets/base",
      "_view_module_version": "1.2.0",
      "_view_name": "LayoutView",
      "align_content": null,
      "align_items": null,
      "align_self": null,
      "border": null,
      "bottom": null,
      "display": null,
      "flex": null,
      "flex_flow": null,
      "grid_area": null,
      "grid_auto_columns": null,
      "grid_auto_flow": null,
      "grid_auto_rows": null,
      "grid_column": null,
      "grid_gap": null,
      "grid_row": null,
      "grid_template_areas": null,
      "grid_template_columns": null,
      "grid_template_rows": null,
      "height": null,
      "justify_content": null,
      "justify_items": null,
      "left": null,
      "margin": null,
      "max_height": null,
      "max_width": null,
      "min_height": null,
      "min_width": null,
      "object_fit": null,
      "object_position": null,
      "order": null,
      "overflow": null,
      "overflow_x": null,
      "overflow_y": null,
      "padding": null,
      "right": null,
      "top": null,
      "visibility": null,
      "width": null
     }
    },
    "78e4d95e346343649f9ef24829635d26": {
     "model_module": "@jupyter-widgets/base",
     "model_module_version": "1.2.0",
     "model_name": "LayoutModel",
     "state": {
      "_model_module": "@jupyter-widgets/base",
      "_model_module_version": "1.2.0",
      "_model_name": "LayoutModel",
      "_view_count": null,
      "_view_module": "@jupyter-widgets/base",
      "_view_module_version": "1.2.0",
      "_view_name": "LayoutView",
      "align_content": null,
      "align_items": null,
      "align_self": null,
      "border": null,
      "bottom": null,
      "display": null,
      "flex": null,
      "flex_flow": null,
      "grid_area": null,
      "grid_auto_columns": null,
      "grid_auto_flow": null,
      "grid_auto_rows": null,
      "grid_column": null,
      "grid_gap": null,
      "grid_row": null,
      "grid_template_areas": null,
      "grid_template_columns": null,
      "grid_template_rows": null,
      "height": null,
      "justify_content": null,
      "justify_items": null,
      "left": null,
      "margin": null,
      "max_height": null,
      "max_width": null,
      "min_height": null,
      "min_width": null,
      "object_fit": null,
      "object_position": null,
      "order": null,
      "overflow": null,
      "overflow_x": null,
      "overflow_y": null,
      "padding": null,
      "right": null,
      "top": null,
      "visibility": null,
      "width": null
     }
    },
    "a3dbe00df00c4658823700fe229d2c80": {
     "model_module": "@jupyter-widgets/base",
     "model_module_version": "1.2.0",
     "model_name": "LayoutModel",
     "state": {
      "_model_module": "@jupyter-widgets/base",
      "_model_module_version": "1.2.0",
      "_model_name": "LayoutModel",
      "_view_count": null,
      "_view_module": "@jupyter-widgets/base",
      "_view_module_version": "1.2.0",
      "_view_name": "LayoutView",
      "align_content": null,
      "align_items": null,
      "align_self": null,
      "border": null,
      "bottom": null,
      "display": null,
      "flex": null,
      "flex_flow": null,
      "grid_area": null,
      "grid_auto_columns": null,
      "grid_auto_flow": null,
      "grid_auto_rows": null,
      "grid_column": null,
      "grid_gap": null,
      "grid_row": null,
      "grid_template_areas": null,
      "grid_template_columns": null,
      "grid_template_rows": null,
      "height": null,
      "justify_content": null,
      "justify_items": null,
      "left": null,
      "margin": null,
      "max_height": null,
      "max_width": null,
      "min_height": null,
      "min_width": null,
      "object_fit": null,
      "object_position": null,
      "order": null,
      "overflow": null,
      "overflow_x": null,
      "overflow_y": null,
      "padding": null,
      "right": null,
      "top": null,
      "visibility": null,
      "width": null
     }
    },
    "b920a680f6584a3ab4e07fe5e5f94942": {
     "model_module": "@jupyter-widgets/controls",
     "model_module_version": "1.5.0",
     "model_name": "DescriptionStyleModel",
     "state": {
      "_model_module": "@jupyter-widgets/controls",
      "_model_module_version": "1.5.0",
      "_model_name": "DescriptionStyleModel",
      "_view_count": null,
      "_view_module": "@jupyter-widgets/base",
      "_view_module_version": "1.2.0",
      "_view_name": "StyleView",
      "description_width": ""
     }
    },
    "c3af1782c3544b9abb2b44737847248d": {
     "model_module": "@jupyter-widgets/controls",
     "model_module_version": "1.5.0",
     "model_name": "HTMLModel",
     "state": {
      "_dom_classes": [],
      "_model_module": "@jupyter-widgets/controls",
      "_model_module_version": "1.5.0",
      "_model_name": "HTMLModel",
      "_view_count": null,
      "_view_module": "@jupyter-widgets/controls",
      "_view_module_version": "1.5.0",
      "_view_name": "HTMLView",
      "description": "",
      "description_tooltip": null,
      "layout": "IPY_MODEL_6c0b85a602fe45698507d3053545db44",
      "placeholder": "​",
      "style": "IPY_MODEL_0a04006fc0d04f6ba0ea1d6a19847fd0",
      "value": "Loading checkpoint shards: 100%"
     }
    }
   }
  }
 },
 "nbformat": 4,
 "nbformat_minor": 4
}
