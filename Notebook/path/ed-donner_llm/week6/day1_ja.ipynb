{
  "cells": [
    {
      "cell_type": "markdown",
      "id": "28a0673e-96b5-43f2-8a8b-bd033bf851b0",
      "metadata": {},
      "source": [
        "# 大きなプロジェクトが始まります!!\n",
        "\n",
        "##製品プライサー\n",
        "\n",
        "その説明から、何かがどれだけの費用がかかるかを推定できるモデル。\n",
        "\n",
        "##データキュレーションパート1\n",
        "\n",
        "今日は、データのサブセットであるHome Appliancesに焦点を当てることにより、スクラブとキュレーションを開始します。\n",
        "\n",
        "データセットはこちらです：  \n",
        "https://huggingface.co/datasets/mcauley-lab/amazon-reviews-2023\n",
        "\n",
        "すべての製品データセットを備えたフォルダーはこちらです。  \n",
        "https://huggingface.co/datasets/mcauley-lab/amazon-reviews-2023/tree/main/raw/meta_categories"
      ]
    },
    {
      "cell_type": "code",
      "execution_count": null,
      "id": "67cedf85-8125-4322-998e-9375fe745597",
      "metadata": {},
      "outputs": [],
      "source": [
        "# 輸入\n",
        "\n",
        "import os\n",
        "from dotenv import load_dotenv\n",
        "from huggingface_hub import login\n",
        "from datasets import load_dataset, Dataset, DatasetDict\n",
        "import matplotlib.pyplot as plt"
      ]
    },
    {
      "cell_type": "code",
      "execution_count": null,
      "id": "7390a6aa-79cb-4dea-b6d7-de7e4b13e472",
      "metadata": {},
      "outputs": [],
      "source": [
        "# 環境\n",
        "\n",
        "load_dotenv(override=True)\n",
        "os.environ['OPENAI_API_KEY'] = os.getenv('OPENAI_API_KEY', 'your-key-if-not-using-env')\n",
        "os.environ['ANTHROPIC_API_KEY'] = os.getenv('ANTHROPIC_API_KEY', 'your-key-if-not-using-env')\n",
        "os.environ['HF_TOKEN'] = os.getenv('HF_TOKEN', 'your-key-if-not-using-env')"
      ]
    },
    {
      "cell_type": "code",
      "execution_count": null,
      "id": "0732274a-aa6a-44fc-aee2-40dc8a8e4451",
      "metadata": {},
      "outputs": [],
      "source": [
        "# Huggingfaceにログインします\n",
        "\n",
        "hf_token = os.environ['HF_TOKEN']\n",
        "login(hf_token, add_to_git_credential=True)"
      ]
    },
    {
      "cell_type": "markdown",
      "id": "e7cb2e20-7fac-44c1-8a4b-131dd37ee06e",
      "metadata": {},
      "source": [
        "## もう1つのインポート - アイテムクラス\n",
        "\n",
        "これを実行するときにメタの用語に同意する必要があるエラーが発生した場合は、提供するリンクに従って、指示に従ってください。数分以内にメタによって承認される必要があります。\n",
        "\n",
        "メタが承認しない場合は、XX_MARKDOWN_LINK_XXの最後のセルを参照してください。\n",
        "\n",
        "いずれかの問題 - 私にメッセージを送るか、私にメールしてください！  \n",
        "\n",
        "HFにサインインした後にこの輸入品が来る必要があることを指摘してくれた学生ジョンS.に感謝します"
      ]
    },
    {
      "cell_type": "code",
      "execution_count": null,
      "id": "b5521526-0da9-42d7-99e3-f950fab71662",
      "metadata": {},
      "outputs": [],
      "source": [
        "from items import Item"
      ]
    },
    {
      "cell_type": "code",
      "execution_count": null,
      "id": "1adcf323-de9d-4c24-a9c3-d7ae554d06ca",
      "metadata": {},
      "outputs": [],
      "source": [
        "%matplotlib inline"
      ]
    },
    {
      "cell_type": "markdown",
      "id": "cd6d801e-d195-45fe-898e-495dbcb19d7d",
      "metadata": {},
      "source": [
        "## データセットをロードします\n",
        "\n",
        "次のセルでは、Huggingfaceからデータセットにロードします。\n",
        "\n",
        "これにより、「trust_remote_codeがサポートされなくなった」などのエラーが発生した場合は、新しいセルでこのコマンドを実行してください： `！pipインストールデータセット== 3.6.0`を実行してからカーネルを再起動して、もう一度やり直してください。"
      ]
    },
    {
      "cell_type": "code",
      "execution_count": null,
      "id": "049885d4-fdfa-4ff0-a932-4a2ed73928e2",
      "metadata": {},
      "outputs": [],
      "source": [
        "dataset = load_dataset(\"McAuley-Lab/Amazon-Reviews-2023\", f\"raw_meta_Appliances\", split=\"full\", trust_remote_code=True)"
      ]
    },
    {
      "cell_type": "code",
      "execution_count": null,
      "id": "cde08860-b393-49b8-a620-06a8c0990a64",
      "metadata": {},
      "outputs": [],
      "source": [
        "print(f\"Number of Appliances: {len(dataset):,}\")"
      ]
    },
    {
      "cell_type": "code",
      "execution_count": null,
      "id": "3e29a5ab-ca61-41cc-9b33-22d374681b85",
      "metadata": {},
      "outputs": [],
      "source": [
        "# 特定のデータポイントを調査します\n",
        "datapoint = dataset[2]\n"
      ]
    },
    {
      "cell_type": "code",
      "execution_count": null,
      "id": "40a4e10f-6710-4780-a95e-6c0030c3fb87",
      "metadata": {},
      "outputs": [],
      "source": [
        "# 調査する\n",
        "\n",
        "print(datapoint[\"title\"])\n",
        "print(datapoint[\"description\"])\n",
        "print(datapoint[\"features\"])\n",
        "print(datapoint[\"details\"])\n",
        "print(datapoint[\"price\"])"
      ]
    },
    {
      "cell_type": "code",
      "execution_count": null,
      "id": "9d356c6f-b6e8-4e01-98cd-c562d132aafa",
      "metadata": {},
      "outputs": [],
      "source": [
        "# 価格はいくつありますか？\n",
        "\n",
        "prices = 0\n",
        "for datapoint in dataset:\n",
        "    try:\n",
        "        price = float(datapoint[\"price\"])\n",
        "        if price > 0:\n",
        "            prices += 1\n",
        "    except ValueError as e:\n",
        "        pass\n",
        "\n",
        "print(f\"There are {prices:,} with prices which is {prices/len(dataset)*100:,.1f}%\")"
      ]
    },
    {
      "cell_type": "code",
      "execution_count": null,
      "id": "bd890259-aa25-4097-9524-f91c2bdd719b",
      "metadata": {},
      "outputs": [],
      "source": [
        "# 価格がある人のために、価格と長さを集めます\n",
        "\n",
        "prices = []\n",
        "lengths = []\n",
        "for datapoint in dataset:\n",
        "    try:\n",
        "        price = float(datapoint[\"price\"])\n",
        "        if price > 0:\n",
        "            prices.append(price)\n",
        "            contents = datapoint[\"title\"] + str(datapoint[\"description\"]) + str(datapoint[\"features\"]) + str(datapoint[\"details\"])\n",
        "            lengths.append(len(contents))\n",
        "    except ValueError as e:\n",
        "        pass"
      ]
    },
    {
      "cell_type": "code",
      "execution_count": null,
      "id": "89078cb1-9679-4eb0-b295-599b8586bcd1",
      "metadata": {},
      "outputs": [],
      "source": [
        "# 長さの分布をプロットします\n",
        "\n",
        "plt.figure(figsize=(15, 6))\n",
        "plt.title(f\"Lengths: Avg {sum(lengths)/len(lengths):,.0f} and highest {max(lengths):,}\\n\")\n",
        "plt.xlabel('Length (chars)')\n",
        "plt.ylabel('Count')\n",
        "plt.hist(lengths, rwidth=0.7, color=\"lightblue\", bins=range(0, 6000, 100))\n",
        "plt.show()"
      ]
    },
    {
      "cell_type": "code",
      "execution_count": null,
      "id": "c38e0c43-9f7a-450e-a911-c94d37d9b9c3",
      "metadata": {},
      "outputs": [],
      "source": [
        "# 価格の分布をプロットします\n",
        "\n",
        "plt.figure(figsize=(15, 6))\n",
        "plt.title(f\"Prices: Avg {sum(prices)/len(prices):,.2f} and highest {max(prices):,}\\n\")\n",
        "plt.xlabel('Price ($)')\n",
        "plt.ylabel('Count')\n",
        "plt.hist(prices, rwidth=0.7, color=\"orange\", bins=range(0, 1000, 10))\n",
        "plt.show()"
      ]
    },
    {
      "cell_type": "code",
      "execution_count": null,
      "id": "eabc7c61-0cd2-41f4-baa1-b85400bbf87f",
      "metadata": {},
      "outputs": [],
      "source": [
        "# それで、このアイテムは何ですか？\n",
        "\n",
        "for datapoint in dataset:\n",
        "    try:\n",
        "        price = float(datapoint[\"price\"])\n",
        "        if price > 21000:\n",
        "            print(datapoint['title'])\n",
        "    except ValueError as e:\n",
        "        pass"
      ]
    },
    {
      "cell_type": "markdown",
      "id": "3668ae25-3461-4e6e-9ccb-221c1925a497",
      "metadata": {},
      "source": [
        "これは私が見つけることができる最も近いものです - それは掘り出し物の価格で進んでいるように見えます!!\n",
        "\n",
        "https://www.amazon.com/turbochef-electric-countertop-microwave-convection/dp/b01d05u9no/"
      ]
    },
    {
      "cell_type": "markdown",
      "id": "a0d02f58-23f6-4f81-a779-7c0555afd13d",
      "metadata": {},
      "source": [
        "##今度はデータセットをキュレートする時が来ました\n",
        "\n",
        "1〜999米ドルの間のアイテムを選択します\n",
        "\n",
        "アイテムインスタンスを作成します。このインスタンスは、適切なトークンザーを使用して180トークンに収まるようにテキストを切り捨てます\n",
        "\n",
        "トレーニング中に使用するプロンプトを作成します。\n",
        "\n",
        "十分な文字がない場合、アイテムは拒否されます。\n",
        "\n",
        "##しかし、なぜ180トークン？\n",
        "\n",
        "学生が私に素晴らしい質問をしました - なぜ私たちは180トークンに切り捨てられているのですか？その数をどのように判断しましたか？ （Moataz A.素晴らしい質問をありがとう）。\n",
        "\n",
        "答え：これは「ハイパーパラメーター」の例です。言い換えれば、それは基本的に試行錯誤です！価格を測定するのに十分な有用な情報があるように、十分に多数のトークンが必要です。しかし、効率的にトレーニングできるように、数を低く抑えたいと考えています。これは7週目に動作していることがわかります。\n",
        "\n",
        "私は、合理的と思われる数字から始め、180に落ち着く前にいくつかのバリエーションを実験しました。時間があれば、同じことをする必要があります！より良いバランスを見つけることで、私の結果を打ち負かすことができるかもしれません。この種の試行錯誤は少し不十分に聞こえるかもしれませんが、それはデータサイエンスの研究開発プロセスの重要な部分です。\n",
        "\n",
        "トレーニングデータのトークンの数が少なくなる可能性がある別の興味深い理由があります。最終的に推論時にモデルを使用できるようになったら、新製品を提供し、価格を見積もらせたいと思います。そして、1-2文のような製品の短い説明を使用します。最高のパフォーマンスのために、推論時に提供する入力と同様にトレーニングデータをサイズする必要があります。\n",
        "\n",
        "##しかし、私はitems.pyで表示されますそれは160トークンに入力を制約しますか？\n",
        "\n",
        "Moataz A.からのもう1つの素晴らしい質問！製品の説明は、説明の前後にさらにテキストを追加してプロンプトに変えるため、160トークンに制限されています。これにより、合計で約180トークンになります。\n"
      ]
    },
    {
      "cell_type": "code",
      "execution_count": null,
      "id": "430b432f-b769-41da-9506-a238cb5cf1b6",
      "metadata": {},
      "outputs": [],
      "source": [
        "# 価格でそれぞれのアイテムオブジェクトを作成します\n",
        "\n",
        "items = []\n",
        "for datapoint in dataset:\n",
        "    try:\n",
        "        price = float(datapoint[\"price\"])\n",
        "        if price > 0:\n",
        "            item = Item(datapoint, price)\n",
        "            if item.include:\n",
        "                items.append(item)\n",
        "    except ValueError as e:\n",
        "        pass\n",
        "\n",
        "print(f\"There are {len(items):,} items\")"
      ]
    },
    {
      "cell_type": "code",
      "execution_count": null,
      "id": "0d570794-6f1d-462e-b567-a46bae3556a1",
      "metadata": {},
      "outputs": [],
      "source": [
        "# 最初のアイテムを見てください\n",
        "\n",
        "items[1]"
      ]
    },
    {
      "cell_type": "code",
      "execution_count": null,
      "id": "70219e99-22cc-4e08-9121-51f9707caef0",
      "metadata": {},
      "outputs": [],
      "source": [
        "# トレーニング中に使用されるプロンプトを調査する - モデルはこれを完了することを学びます\n",
        "\n",
        "print(items[100].prompt)"
      ]
    },
    {
      "cell_type": "code",
      "execution_count": null,
      "id": "d9998b8d-d746-4541-9ac2-701108e0e8fb",
      "metadata": {},
      "outputs": [],
      "source": [
        "# テスト中に使用されるプロンプトを調査する - モデルはこれを完了する必要があります\n",
        "\n",
        "print(items[100].test_prompt())"
      ]
    },
    {
      "cell_type": "code",
      "execution_count": null,
      "id": "7a116369-335a-412b-b70c-2add6675c2e3",
      "metadata": {},
      "outputs": [],
      "source": [
        "# トークンカウントの分布をプロットします\n",
        "\n",
        "tokens = [item.token_count for item in items]\n",
        "plt.figure(figsize=(15, 6))\n",
        "plt.title(f\"Token counts: Avg {sum(tokens)/len(tokens):,.1f} and highest {max(tokens):,}\\n\")\n",
        "plt.xlabel('Length (tokens)')\n",
        "plt.ylabel('Count')\n",
        "plt.hist(tokens, rwidth=0.7, color=\"green\", bins=range(0, 300, 10))\n",
        "plt.show()"
      ]
    },
    {
      "cell_type": "code",
      "execution_count": null,
      "id": "8d1744aa-71e7-435e-876e-91f06583211a",
      "metadata": {},
      "outputs": [],
      "source": [
        "# 価格の分布をプロットします\n",
        "\n",
        "prices = [item.price for item in items]\n",
        "plt.figure(figsize=(15, 6))\n",
        "plt.title(f\"Prices: Avg {sum(prices)/len(prices):,.1f} and highest {max(prices):,}\\n\")\n",
        "plt.xlabel('Price ($)')\n",
        "plt.ylabel('Count')\n",
        "plt.hist(prices, rwidth=0.7, color=\"purple\", bins=range(0, 300, 10))\n",
        "plt.show()"
      ]
    },
    {
      "cell_type": "markdown",
      "id": "2b58dc61-747f-46f7-b9e0-c205db4f3e5e",
      "metadata": {},
      "source": [
        "## サイドノート\n",
        "\n",
        "Matplotlibがチャートで使用できるさまざまな色が気に入っている場合は、これをブックマークする必要があります。\n",
        "\n",
        "https://matplotlib.org/stable/gallery/color/named_colors.html\n",
        "\n",
        "あなたのための##Dodos：\n",
        "\n",
        " - アイテムのクラスを確認し、あなたがそれに満足していることを確認してください\n",
        " - いくつかのアイテムオブジェクトを調べ、トレーニングプロンプトを「item.prompt」で見て、 `item.test_prompt（）でプロンプトをテストします`\n",
        " - データをよりよく理解するために、さらにヒストグラムを作成します\n",
        "\n",
        "##次回は他の多くの種類の製品と組み合わせます\n",
        "\n",
        "エレクトロニクスや自動車のように。これにより、大規模なデータセットが得られ、トレーニングに最も適したサブセットを選択することにうるさくなります。"
      ]
    },
    {
      "cell_type": "code",
      "execution_count": null,
      "id": "01401283-d111-40a7-96e5-0ca05bb20857",
      "metadata": {},
      "outputs": [],
      "source": []
    }
  ],
  "metadata": {
    "kernelspec": {
      "display_name": "Python 3 (ipykernel)",
      "language": "python",
      "name": "python3"
    },
    "language_info": {
      "codemirror_mode": {
        "name": "ipython",
        "version": 3
      },
      "file_extension": ".py",
      "mimetype": "text/x-python",
      "name": "python",
      "nbconvert_exporter": "python",
      "pygments_lexer": "ipython3",
      "version": "3.11.13"
    }
  },
  "nbformat": 4,
  "nbformat_minor": 5
}