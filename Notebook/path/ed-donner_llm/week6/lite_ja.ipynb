{
  "cells": [
    {
      "cell_type": "markdown",
      "id": "28a0673e-96b5-43f2-8a8b-bd033bf851b0",
      "metadata": {},
      "source": [
        "# 製品プライサーは継続しました\n",
        "\n",
        "その説明から、何かがどれだけの費用がかかるかを推定できるモデル。\n",
        "\n",
        "##データキュレーションパート2\n",
        "\n",
        "今日は、データセットをより大きなカバレッジに拡張し、トレーニング用の優れたデータセットに作成します。\n",
        "\n",
        "データセットはこちらです：  \n",
        "https://huggingface.co/datasets/mcauley-lab/amazon-reviews-2023\n",
        "\n",
        "すべての製品データセットを備えたフォルダーはこちらです。  \n",
        "https://huggingface.co/datasets/mcauley-lab/amazon-reviews-2023/tree/main/raw/meta_categories\n",
        "\n",
        "## liteデータセット\n",
        "\n",
        "このノートブックは、「Day2.ipynb」に代わるものです。これは、家電製品のみの小さなデータセットを作成し、トレーニングを迅速に維持し、コストを抑えます。将来のノートブックの名前を更新して、完全なデータセットではなく「Lite」データセットを構築したことを反映する必要がある場合があります。"
      ]
    },
    {
      "cell_type": "code",
      "execution_count": null,
      "id": "67cedf85-8125-4322-998e-9375fe745597",
      "metadata": {},
      "outputs": [],
      "source": [
        "# 輸入\n",
        "\n",
        "import os\n",
        "import random\n",
        "from dotenv import load_dotenv\n",
        "from huggingface_hub import login\n",
        "from datasets import load_dataset, Dataset, DatasetDict\n",
        "import matplotlib.pyplot as plt\n",
        "from collections import Counter, defaultdict\n",
        "import numpy as np\n",
        "import pickle"
      ]
    },
    {
      "cell_type": "code",
      "execution_count": null,
      "id": "7390a6aa-79cb-4dea-b6d7-de7e4b13e472",
      "metadata": {},
      "outputs": [],
      "source": [
        "# 環境\n",
        "\n",
        "load_dotenv()\n",
        "os.environ['OPENAI_API_KEY'] = os.getenv('OPENAI_API_KEY', 'your-key-if-not-using-env')\n",
        "os.environ['ANTHROPIC_API_KEY'] = os.getenv('ANTHROPIC_API_KEY', 'your-key-if-not-using-env')\n",
        "os.environ['HF_TOKEN'] = os.getenv('HF_TOKEN', 'your-key-if-not-using-env')"
      ]
    },
    {
      "cell_type": "code",
      "execution_count": null,
      "id": "0732274a-aa6a-44fc-aee2-40dc8a8e4451",
      "metadata": {},
      "outputs": [],
      "source": [
        "# Huggingfaceにログインします\n",
        "\n",
        "hf_token = os.environ['HF_TOKEN']\n",
        "login(hf_token, add_to_git_credential=True)"
      ]
    },
    {
      "cell_type": "code",
      "execution_count": null,
      "id": "767081df-ee34-4309-ab4c-46d62b4ae367",
      "metadata": {},
      "outputs": [],
      "source": [
        "# さらにいくつかのインポート -  HFログイン後にこれらを行う必要があることを指摘してくれたAlex Cに感謝します。\n",
        "\n",
        "from items import Item\n",
        "from loaders import ItemLoader"
      ]
    },
    {
      "cell_type": "code",
      "execution_count": null,
      "id": "1adcf323-de9d-4c24-a9c3-d7ae554d06ca",
      "metadata": {},
      "outputs": [],
      "source": [
        "%matplotlib inline"
      ]
    },
    {
      "cell_type": "markdown",
      "id": "01065d69-765c-42c8-9f90-68b8c8754068",
      "metadata": {},
      "source": [
        "## アイテムローダーコード\n",
        "\n",
        "Loaders.pyを見る - 私たちの生活を楽にするための便利なコードがいくつかあります"
      ]
    },
    {
      "cell_type": "markdown",
      "id": "e2b6dc50-ac5c-4cf2-af2e-968ed8ef86d7",
      "metadata": {},
      "source": [
        "## 今、スケールアップします\n",
        "\n",
        "大規模なホーム小売店で見つけるかもしれないすべてのアイテムのすべてのデータセットを見てみましょう - 電気、電子、オフィス、関連するが、衣服 /美しさ /本ではありません。"
      ]
    },
    {
      "cell_type": "code",
      "execution_count": null,
      "id": "d1d06cd3-f3c2-44f0-a9f2-13b54ff8be5c",
      "metadata": {},
      "outputs": [],
      "source": [
        "dataset_names = [\n",
        "    # 「自動車」、\n",
        "    # \"エレクトロニクス\"、\n",
        "    # 「Office_Products」、\n",
        "    # 「tools_and_home_improvement」、\n",
        "    # 「cell_phones_and_accessories」、\n",
        "    # 「Toys_and_games」、\n",
        "    \"Appliances\",\n",
        "    # 「Musical_instruments」、\n",
        "]"
      ]
    },
    {
      "cell_type": "code",
      "execution_count": null,
      "id": "aa8fd0f0-509a-4298-8fcc-e499a061e1be",
      "metadata": {},
      "outputs": [],
      "source": [
        "items = []\n",
        "for dataset_name in dataset_names:\n",
        "    loader = ItemLoader(dataset_name)\n",
        "    items.extend(loader.load())"
      ]
    },
    {
      "cell_type": "code",
      "execution_count": null,
      "id": "3e29a5ab-ca61-41cc-9b33-22d374681b85",
      "metadata": {},
      "outputs": [],
      "source": [
        "print(f\"A grand total of {len(items):,} items\")"
      ]
    },
    {
      "cell_type": "code",
      "execution_count": null,
      "id": "89078cb1-9679-4eb0-b295-599b8586bcd1",
      "metadata": {},
      "outputs": [],
      "source": [
        "# トークンカウントの分布を再度プロットします\n",
        "\n",
        "tokens = [item.token_count for item in items]\n",
        "plt.figure(figsize=(15, 6))\n",
        "plt.title(f\"Token counts: Avg {sum(tokens)/len(tokens):,.1f} and highest {max(tokens):,}\\n\")\n",
        "plt.xlabel('Length (tokens)')\n",
        "plt.ylabel('Count')\n",
        "plt.hist(tokens, rwidth=0.7, color=\"skyblue\", bins=range(0, 300, 10))\n",
        "plt.show()"
      ]
    },
    {
      "cell_type": "code",
      "execution_count": null,
      "id": "c38e0c43-9f7a-450e-a911-c94d37d9b9c3",
      "metadata": {},
      "outputs": [],
      "source": [
        "# 価格の分布をプロットします\n",
        "\n",
        "prices = [item.price for item in items]\n",
        "plt.figure(figsize=(15, 6))\n",
        "plt.title(f\"Prices: Avg {sum(prices)/len(prices):,.1f} and highest {max(prices):,}\\n\")\n",
        "plt.xlabel('Price ($)')\n",
        "plt.ylabel('Count')\n",
        "plt.hist(prices, rwidth=0.7, color=\"blueviolet\", bins=range(0, 1000, 10))\n",
        "plt.show()"
      ]
    },
    {
      "cell_type": "markdown",
      "id": "ac046cc1-2717-415b-96ad-b73b2950d235",
      "metadata": {},
      "source": [
        "# データセットキュレーション！\n",
        "\n",
        "優れたデータセットを作成しました。\n",
        "\n",
        "いくつかの最終チェックをしましょう"
      ]
    },
    {
      "cell_type": "code",
      "execution_count": null,
      "id": "70219e99-22cc-4e08-9121-51f9707caef0",
      "metadata": {},
      "outputs": [],
      "source": [
        "# プロンプトの文字カウントによって価格はどのように異なりますか？\n",
        "\n",
        "sample = items\n",
        "\n",
        "sizes = [len(item.prompt) for item in sample]\n",
        "prices = [item.price for item in sample]\n",
        "\n",
        "# 散布図を作成します\n",
        "plt.figure(figsize=(15, 8))\n",
        "plt.scatter(sizes, prices, s=0.2, color=\"red\")\n",
        "\n",
        "# ラベルとタイトルを追加します\n",
        "plt.xlabel('Size')\n",
        "plt.ylabel('Price')\n",
        "plt.title('Is there a simple correlation?')\n",
        "\n",
        "# プロットを表示します\n",
        "plt.show()"
      ]
    },
    {
      "cell_type": "code",
      "execution_count": null,
      "id": "30ae1453-b9fc-40db-8310-65d850c4b1da",
      "metadata": {},
      "outputs": [],
      "source": [
        "def report(item):\n",
        "    prompt = item.prompt\n",
        "    tokens = Item.tokenizer.encode(item.prompt)\n",
        "    print(prompt)\n",
        "    print(tokens[-10:])\n",
        "    print(Item.tokenizer.batch_decode(tokens[-10:]))"
      ]
    },
    {
      "cell_type": "code",
      "execution_count": null,
      "id": "d9998b8d-d746-4541-9ac2-701108e0e8fb",
      "metadata": {},
      "outputs": [],
      "source": [
        "report(sample[50])"
      ]
    },
    {
      "cell_type": "markdown",
      "id": "7aa0a3fc-d2fe-4e6e-8fdb-96913df2f588",
      "metadata": {},
      "source": [
        "## 観察\n",
        "\n",
        "Llamaトークナイザーの興味深い点は、GPT-4oで見たように、1〜999のすべての数値が1トークンにマッピングされることです。同じことは、すべての数字をトークンにマッピングするQWEN2、GEMMA、およびPHI3にも当てはまりません。これは、私たちのプロジェクトにとって少し便利であることが判明しますが、重要な要件ではありません。"
      ]
    },
    {
      "cell_type": "markdown",
      "id": "0f03c0ee-3103-4603-af5c-b484884a3aa2",
      "metadata": {},
      "source": [
        "＃ ついに\n",
        "\n",
        "データをトレーニング、テスト、検証データセットに分割する時が来ました。\n",
        "\n",
        "テスト目的でデータの5％〜10％を使用することが典型的ですが、実際にはこの時点で必要なものよりもはるかに多くあります。トレーニングには25,000ポイントを獲得し、テスト用に2,000ポイントを予約しますが、すべてを使用することはありません。\n"
      ]
    },
    {
      "cell_type": "code",
      "execution_count": null,
      "id": "3b163ca2-18ef-4c26-8e9d-88eb55f114f6",
      "metadata": {},
      "outputs": [],
      "source": [
        "random.seed(42)\n",
        "random.shuffle(sample)\n",
        "train = sample[:25_000]\n",
        "test = sample[25_000:27_000]\n",
        "print(f\"Divided into a training set of {len(train):,} items and test set of {len(test):,} items\")"
      ]
    },
    {
      "cell_type": "code",
      "execution_count": null,
      "id": "299b9816-8885-4798-829a-69d66d60eb01",
      "metadata": {},
      "outputs": [],
      "source": [
        "print(train[0].prompt)"
      ]
    },
    {
      "cell_type": "code",
      "execution_count": null,
      "id": "97222da3-9f2c-4d15-a5cd-5e5f8dbde6cc",
      "metadata": {},
      "outputs": [],
      "source": [
        "print(test[0].test_prompt())"
      ]
    },
    {
      "cell_type": "code",
      "execution_count": null,
      "id": "7a116369-335a-412b-b70c-2add6675c2e3",
      "metadata": {},
      "outputs": [],
      "source": [
        "# 最初の250テストポイントで価格の分布をプロットする\n",
        "\n",
        "prices = [float(item.price) for item in test[:250]]\n",
        "plt.figure(figsize=(15, 6))\n",
        "plt.title(f\"Avg {sum(prices)/len(prices):.2f} and highest {max(prices):,.2f}\\n\")\n",
        "plt.xlabel('Price ($)')\n",
        "plt.ylabel('Count')\n",
        "plt.hist(prices, rwidth=0.7, color=\"darkblue\", bins=range(0, 1000, 10))\n",
        "plt.show()"
      ]
    },
    {
      "cell_type": "markdown",
      "id": "d522d752-6f66-4786-a4dc-8ef51842558c",
      "metadata": {},
      "source": [
        "# 最後に - 新しいデータセットをアップロードします\n",
        "\n",
        "プロンプトに変換し、ハグFaceハブにアップロードします"
      ]
    },
    {
      "cell_type": "code",
      "execution_count": null,
      "id": "fa11b3e5-fcf4-4efc-a573-f6f67fec3e73",
      "metadata": {},
      "outputs": [],
      "source": [
        "train_prompts = [item.prompt for item in train]\n",
        "train_prices = [item.price for item in train]\n",
        "test_prompts = [item.test_prompt() for item in test]\n",
        "test_prices = [item.price for item in test]"
      ]
    },
    {
      "cell_type": "code",
      "execution_count": null,
      "id": "b020ab1b-7153-4e5f-b8a3-d5bc2fafb6df",
      "metadata": {},
      "outputs": [],
      "source": [
        "# リストからデータセットを作成します\n",
        "\n",
        "train_dataset = Dataset.from_dict({\"text\": train_prompts, \"price\": train_prices})\n",
        "test_dataset = Dataset.from_dict({\"text\": test_prompts, \"price\": test_prices})\n",
        "dataset = DatasetDict({\n",
        "    \"train\": train_dataset,\n",
        "    \"test\": test_dataset\n",
        "})"
      ]
    },
    {
      "cell_type": "code",
      "execution_count": null,
      "id": "17639641-fb55-44e2-a463-b0b394d00f32",
      "metadata": {},
      "outputs": [],
      "source": [
        "DATASET_NAME = \"ed-donner/lite-data\"\n",
        "dataset.push_to_hub(DATASET_NAME, private=True)"
      ]
    },
    {
      "cell_type": "code",
      "execution_count": null,
      "id": "b85733ba-d165-4f07-b055-46803543edfe",
      "metadata": {},
      "outputs": [],
      "source": [
        "# もう一つ！\n",
        "# 次回、このコードをすべて実行する必要がないように、トレーニングとテストデータセットを漬けてみましょう！\n",
        "\n",
        "with open('train_lite.pkl', 'wb') as file:\n",
        "    pickle.dump(train, file)\n",
        "\n",
        "with open('test_lite.pkl', 'wb') as file:\n",
        "    pickle.dump(test, file)"
      ]
    },
    {
      "cell_type": "markdown",
      "id": "2b58dc61-747f-46f7-b9e0-c205db4f3e5e",
      "metadata": {},
      "source": [
        "## あなたのためのトドス：\n",
        "\n",
        " - データセットをもっと調査してください！\n",
        " - トークンザーが3桁すべての価格を1つのトークンにトークン化することを確認します"
      ]
    }
  ],
  "metadata": {
    "kernelspec": {
      "display_name": "Python 3 (ipykernel)",
      "language": "python",
      "name": "python3"
    },
    "language_info": {
      "codemirror_mode": {
        "name": "ipython",
        "version": 3
      },
      "file_extension": ".py",
      "mimetype": "text/x-python",
      "name": "python",
      "nbconvert_exporter": "python",
      "pygments_lexer": "ipython3",
      "version": "3.11.13"
    }
  },
  "nbformat": 4,
  "nbformat_minor": 5
}