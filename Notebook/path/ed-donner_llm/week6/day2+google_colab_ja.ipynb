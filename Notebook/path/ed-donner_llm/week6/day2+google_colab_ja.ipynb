{
 "cells": [
  {
   "cell_type": "markdown",
   "metadata": {
    "id": "91ae778b"
   },
   "source": [
    "# はじめる\n",
    "\n",
    "このノートブックを実行する前に、次のことを確認してください。\n",
    "\n",
    "1。**ローカルモジュール：**必要なローカルPythonファイル（ `items.py`、` loaders.py`、 `test.py`）をColab Runtimeの一時ストレージにアップロードします。これを行うには、左サイドバーのフォルダーアイコン、次にアップロードアイコンをクリックして、ファイルを選択します。\n",
    "2。左側のサイドバーのキーアイコンをクリックし、[新しいシークレット]をクリックし、「hf_token」という名前のトークンを追加します。\n",
    "3。\n",
    "\n",
    "これらの手順が完了したら、残りのノートブックセルを順番に実行できます。"
   ]
  },
  {
   "cell_type": "code",
   "execution_count": null,
   "metadata": {
    "id": "_fj3pImYM5dw"
   },
   "outputs": [],
   "source": [
    "# コースの環境に合わせて、ローカル環境から正確なバージョンをインストールする\n",
    "!pip install --upgrade pip\n",
    "\n",
    "# 必要なライブラリの特定のバージョンをインストールします\n",
    "!pip install datasets==3.6.0\n",
    "!pip install transformers==4.51.3\n",
    "!pip install huggingface_hub==0.31.2\n",
    "!pip install matplotlib==3.10.3\n",
    "!pip install numpy==1.26.4\n",
    "!pip install python-dotenv==1.1.0\n",
    "!pip install tqdm==4.67.1"
   ]
  },
  {
   "cell_type": "code",
   "execution_count": null,
   "metadata": {
    "id": "YQHruTKgPMRX"
   },
   "outputs": [],
   "source": [
    "# 必要なライブラリをインポートします\n",
    "import os\n",
    "import random\n",
    "from dotenv import load_dotenv\n",
    "from huggingface_hub import login\n",
    "from datasets import load_dataset, Dataset, DatasetDict\n",
    "import matplotlib.pyplot as plt\n",
    "from collections import Counter, defaultdict\n",
    "import numpy as np\n",
    "import pickle"
   ]
  },
  {
   "cell_type": "code",
   "execution_count": null,
   "metadata": {
    "id": "jBdHkdyVNj_f"
   },
   "outputs": [],
   "source": [
    "# Colabのユーザーデータの秘密からハグするフェイスアクセストークンを取得する\n",
    "# このトークンは、ハグする顔のハブと対話するために必要です\n",
    "from google.colab import userdata\n",
    "userdata.get('HF_TOKEN')"
   ]
  },
  {
   "cell_type": "code",
   "execution_count": null,
   "metadata": {
    "id": "FdBT3PPzNmq3"
   },
   "outputs": [],
   "source": [
    "# ローカルファイルからカスタムクラスをインポートする（items.pyおよびloaders.py）\n",
    "# これらのファイルは、Colab Runtimeの一時ストレージに手動で追加されました\n",
    "from loaders import ItemLoader\n",
    "from items import Item"
   ]
  },
  {
   "cell_type": "code",
   "execution_count": null,
   "metadata": {
    "id": "vynEBaq6OGEZ"
   },
   "outputs": [],
   "source": [
    "# Matplotlibのバックエンドを設定して、ノートブックにインラインでプロットを表示する\n",
    "%matplotlib inline"
   ]
  },
  {
   "cell_type": "code",
   "execution_count": null,
   "metadata": {
    "id": "OFOJtH6FOG2u"
   },
   "outputs": [],
   "source": [
    "# カスタムアイテムローダーを使用して、単一のデータセット（ \"all_beauty\"）をロードします\n",
    "# これはおそらく最初のテストまたは例の読み込みステップでした\n",
    "items = ItemLoader(\"Appliances\").load()"
   ]
  },
  {
   "cell_type": "code",
   "execution_count": null,
   "metadata": {
    "id": "rkLXYtfhOJNn"
   },
   "outputs": [],
   "source": [
    "# ロードされるデータセット名（Amazon製品カテゴリ）のリストを定義する\n",
    "dataset_names = [\n",
    "    \"Automotive\",\n",
    "    \"Electronics\",\n",
    "    \"Office_Products\",\n",
    "    \"Tools_and_Home_Improvement\",\n",
    "    \"Cell_Phones_and_Accessories\",\n",
    "    \"Toys_and_Games\",\n",
    "    \"Appliances\",\n",
    "    \"Musical_Instruments\",\n",
    "]"
   ]
  },
  {
   "cell_type": "code",
   "execution_count": null,
   "metadata": {
    "id": "1oQSUpovOfKs"
   },
   "outputs": [],
   "source": [
    "# コラブランタイム環境で利用可能なCPUコアとRAMを確認して印刷します\n",
    "# これにより、データ処理に利用できるリソースを理解するのに役立ちます\n",
    "import psutil\n",
    "print(f\"CPU cores: {psutil.cpu_count()}\")\n",
    "print(f\"Available RAM: {psutil.virtual_memory().available / (1024**3):.1f} GB\")"
   ]
  },
  {
   "cell_type": "code",
   "execution_count": null,
   "metadata": {
    "id": "UcV9RB2Go8nC"
   },
   "outputs": [],
   "source": [
    "items = []\n",
    "for dataset_name in dataset_names:\n",
    "    loader = ItemLoader(dataset_name)\n",
    "    items.extend(loader.load(workers=8))\n",
    "\n",
    "# さて、コーヒーブレイクの時間!!\n",
    "# ちなみに、私は最大のデータセットを最初に置きます。それはより速くなります。"
   ]
  },
  {
   "cell_type": "code",
   "execution_count": null,
   "metadata": {
    "id": "YdkGJ_X3oI1g"
   },
   "outputs": [],
   "source": [
    "# すべてのデータセットからロードされたアイテムの総数を印刷します\n",
    "print(f\"A grand total of {len(items):,} items\")"
   ]
  },
  {
   "cell_type": "code",
   "execution_count": null,
   "metadata": {
    "id": "8VzKJ7neo-wp"
   },
   "outputs": [],
   "source": [
    "# すべてのロードされたアイテムからトークンカウントを抽出します\n",
    "tokens = [item.token_count for item in items]\n",
    "# トークンカウントのヒストグラムを作成して表示します\n",
    "plt.figure(figsize=(15, 6))\n",
    "plt.title(f\"Token counts: Avg {sum(tokens)/len(tokens):,.1f} and highest {max(tokens):,}\\n\")\n",
    "plt.xlabel('Length (tokens)')\n",
    "plt.ylabel('Count')\n",
    "plt.hist(tokens, rwidth=0.7, color=\"skyblue\", bins=range(0, 300, 10))\n",
    "plt.show()"
   ]
  },
  {
   "cell_type": "code",
   "execution_count": null,
   "metadata": {
    "id": "ZLFJycNZpDak"
   },
   "outputs": [],
   "source": [
    "# すべてのロードされたアイテムから価格を抽出します\n",
    "prices = [item.price for item in items]\n",
    "# アイテム価格のヒストグラムを作成して表示します\n",
    "plt.figure(figsize=(15, 6))\n",
    "plt.title(f\"Prices: Avg {sum(prices)/len(prices):,.1f} and highest {max(prices):,}\\n\")\n",
    "plt.xlabel('Price ($)')\n",
    "plt.ylabel('Count')\n",
    "plt.hist(prices, rwidth=0.7, color=\"blueviolet\", bins=range(0, 1000, 10))\n",
    "plt.show()"
   ]
  },
  {
   "cell_type": "code",
   "execution_count": null,
   "metadata": {
    "id": "6oRa8rI6pGb0"
   },
   "outputs": [],
   "source": [
    "# ロードされたアイテムの各カテゴリの発生を数えます\n",
    "category_counts = Counter()\n",
    "for item in items:\n",
    "    category_counts[item.category]+=1\n",
    "\n",
    "# カテゴリとプロットのカウントを抽出します\n",
    "categories = category_counts.keys()\n",
    "counts = [category_counts[category] for category in categories]\n",
    "\n",
    "# カテゴリごとのアイテムのカウントを示すバーチャートを作成して表示します\n",
    "plt.figure(figsize=(15, 6))\n",
    "plt.bar(categories, counts, color=\"goldenrod\")\n",
    "plt.title('How many in each category')\n",
    "plt.xlabel('Categories')\n",
    "plt.ylabel('Count')\n",
    "\n",
    "# 読みやすくするためにX軸ラベルを回転させます\n",
    "plt.xticks(rotation=30, ha='right')\n",
    "\n",
    "# 明確にするために、各バーの上に値ラベルを追加します\n",
    "for i, v in enumerate(counts):\n",
    "    plt.text(i, v, f\"{v:,}\", ha='center', va='bottom')\n",
    "\n",
    "# チャートを表示します\n",
    "plt.show()"
   ]
  },
  {
   "cell_type": "code",
   "execution_count": null,
   "metadata": {
    "id": "7mT5ZubkpJ06"
   },
   "outputs": [],
   "source": [
    "# キーが丸い価格であり、価値がその価格のアイテムのリストである辞書を作成します\n",
    "# これは、サンプリングの価格でアイテムをグループ化するために行われます\n",
    "slots = defaultdict(list)\n",
    "for item in items:\n",
    "    slots[round(item.price)].append(item)"
   ]
  },
  {
   "cell_type": "code",
   "execution_count": null,
   "metadata": {
    "id": "qHJdXynopMBp"
   },
   "outputs": [],
   "source": [
    "# 価格のより均一な分布と「自動車」カテゴリへのバイアスを削減したキュレートサンプルデータセットを作成する\n",
    "# 価格のアイテム> = $ 240は完全に含まれています\n",
    "# 価格<$ 240の場合、アイテムの数が<= 1200の場合、すべてが含まれています\n",
    "# 1200を超えるアイテムの数がある場合、1200アイテムの加重ランダムサンプルが採取されます、\n",
    "# 非自動型アイテムにより高い重量を与える\n",
    "\n",
    "# 再現性のためにランダムシードを設定します\n",
    "np.random.seed(42)\n",
    "random.seed(42)\n",
    "sample = []\n",
    "for i in range(1, 1000):\n",
    "    slot = slots[i]\n",
    "    if i>=240:\n",
    "        sample.extend(slot)\n",
    "    elif len(slot) <= 1200:\n",
    "        sample.extend(slot)\n",
    "    else:\n",
    "        # 重みを割り当てます：「自動車」の場合は1、他のカテゴリには5\n",
    "        weights = np.array([1 if item.category=='Automotive' else 5 for item in slot])\n",
    "        # 重みを正規化します\n",
    "        weights = weights / np.sum(weights)\n",
    "        # 重みに基づいて1200インデックスをランダムに選択します\n",
    "        selected_indices = np.random.choice(len(slot), size=1200, replace=False, p=weights)\n",
    "        # 選択したインデックスに対応するアイテムを選択します\n",
    "        selected = [slot[i] for i in selected_indices]\n",
    "        sample.extend(selected)\n",
    "\n",
    "# キュレーションされたサンプルにアイテムの総数を印刷する\n",
    "print(f\"There are {len(sample):,} items in the sample\")"
   ]
  },
  {
   "cell_type": "code",
   "execution_count": null,
   "metadata": {
    "id": "gtBkOdPGpOou"
   },
   "outputs": [],
   "source": [
    "# キュレーションされたサンプルから価格を抽出します\n",
    "prices = [float(item.price) for item in sample]\n",
    "# サンプルデータセットの価格のヒストグラムを作成して表示する\n",
    "# これにより、サンプリングプロセスが価格分布に及ぼす影響を視覚化するのに役立ちます\n",
    "plt.figure(figsize=(15, 10))\n",
    "plt.title(f\"Avg {sum(prices)/len(prices):.2f} and highest {max(prices):,.2f}\\n\")\n",
    "plt.xlabel('Price ($)')\n",
    "plt.ylabel('Count')\n",
    "plt.hist(prices, rwidth=0.7, color=\"darkblue\", bins=range(0, 1000, 10))\n",
    "plt.show()"
   ]
  },
  {
   "cell_type": "code",
   "execution_count": null,
   "metadata": {
    "id": "-lYpt40jpTE1"
   },
   "outputs": [],
   "source": [
    "# キュレーションされたサンプルの各カテゴリの発生をカウントします\n",
    "category_counts = Counter()\n",
    "for item in sample:\n",
    "    category_counts[item.category]+=1\n",
    "\n",
    "# カテゴリとプロットのカウントを抽出します\n",
    "categories = category_counts.keys()\n",
    "counts = [category_counts[category] for category in categories]\n",
    "\n",
    "# サンプル内のカテゴリごとのアイテムのカウントを示すバーチャートを作成して表示します\n",
    "# これは、カテゴリの分布に対する加重サンプリングの効果を視覚化するのに役立ちます\n",
    "plt.figure(figsize=(15, 6))\n",
    "plt.bar(categories, counts, color=\"lightgreen\")\n",
    "\n",
    "# チャートをカスタマイズします\n",
    "plt.title('How many in each category')\n",
    "plt.xlabel('Categories')\n",
    "plt.ylabel('Count')\n",
    "\n",
    "# 読みやすくするためにX軸ラベルを回転させます\n",
    "plt.xticks(rotation=30, ha='right')\n",
    "\n",
    "# 明確にするために、各バーの上に値ラベルを追加します\n",
    "for i, v in enumerate(counts):\n",
    "    plt.text(i, v, f\"{v:,}\", ha='center', va='bottom')\n",
    "\n",
    "# チャートを表示します\n",
    "plt.show()"
   ]
  },
  {
   "cell_type": "code",
   "execution_count": null,
   "metadata": {
    "id": "5QPV4m2LpV3g"
   },
   "outputs": [],
   "source": [
    "# サンプル内のカテゴリ間のアイテムの分布の割合を示すパイチャートを作成して表示します\n",
    "plt.figure(figsize=(12, 10))\n",
    "plt.pie(counts, labels=categories, autopct='%1.0f%%', startangle=90)\n",
    "\n",
    "# 中央に円を追加してドーナツチャートを作成します（オプション）\n",
    "centre_circle = plt.Circle((0,0), 0.70, fc='white')\n",
    "fig = plt.gcf()\n",
    "fig.gca().add_artist(centre_circle)\n",
    "plt.title('Categories')\n",
    "\n",
    "# 平等なアスペクト比は、パイが円として描かれることを保証します\n",
    "plt.axis('equal')\n",
    "\n",
    "plt.show()"
   ]
  },
  {
   "cell_type": "code",
   "execution_count": null,
   "metadata": {
    "id": "3Xc2ZxjapZ0a"
   },
   "outputs": [],
   "source": [
    "# マークダウンセルは、データセットのキュレーションが完了しており、最終チェックの準備ができていることを示しています\n",
    "# データセットキュレーション！\n",
    "\n",
    "# 優れたデータセットを作成しました。\n",
    "\n",
    "# いくつかの最終チェックをしましょう"
   ]
  },
  {
   "cell_type": "code",
   "execution_count": null,
   "metadata": {
    "id": "VXYQkVarpceE"
   },
   "outputs": [],
   "source": [
    "# キュレーションされたサンプルからプロンプトの長さ（文字カウント）と価格を抽出する\n",
    "sizes = [len(item.prompt) for item in sample]\n",
    "prices = [item.price for item in sample]\n",
    "\n",
    "# プロンプトのサイズと価格の関係を視覚化するための散布図を作成して表示します\n",
    "# これは、2つの間の単純な相関を確認するのに役立ちます\n",
    "plt.figure(figsize=(15, 8))\n",
    "plt.scatter(sizes, prices, s=0.2, color=\"red\")\n",
    "\n",
    "# ラベルとタイトルを追加します\n",
    "plt.xlabel('Size')\n",
    "plt.ylabel('Price')\n",
    "plt.title('Is there a simple correlation?')\n",
    "\n",
    "# プロットを表示します\n",
    "plt.show()"
   ]
  },
  {
   "cell_type": "code",
   "execution_count": null,
   "metadata": {
    "id": "1BBJNDAKpgL_"
   },
   "outputs": [],
   "source": [
    "# ヘルパー関数を定義して、アイテムに関する情報を報告する\n",
    "# アイテムのプロンプト、最後の10トークンID、およびデコードされた最後の10トークンを印刷します\n",
    "def report(item):\n",
    "    prompt = item.prompt\n",
    "    tokens = Item.tokenizer.encode(item.prompt)\n",
    "    print(prompt)\n",
    "    print(tokens[-10:])\n",
    "    print(Item.tokenizer.batch_decode(tokens[-10:]))"
   ]
  },
  {
   "cell_type": "code",
   "execution_count": null,
   "metadata": {
    "id": "ZO2zF09wpiPp"
   },
   "outputs": [],
   "source": [
    "# レポート関数を使用して、サンプル内の特定のアイテムに関する情報を表示します\n",
    "# これにより、データとトークナー剤の動作を検査するのに役立ちます\n",
    "report(sample[398000])"
   ]
  },
  {
   "cell_type": "markdown",
   "metadata": {
    "id": "GCkwmt_VpsaU"
   },
   "source": [
    "## 観察\n",
    "\n",
    "Llamaトークナイザーの興味深い点は、GPT-4oで見たように、1〜999のすべての数値が1トークンにマッピングされることです。同じことは、すべての数字をトークンにマッピングするQWEN2、GEMMA、およびPHI3にも当てはまりません。これは、私たちのプロジェクトにとって少し便利であることが判明しますが、重要な要件ではありません。"
   ]
  },
  {
   "cell_type": "markdown",
   "metadata": {
    "id": "dy6WGVAmpx0g"
   },
   "source": [
    "＃ ついに\n",
    "\n",
    "データをトレーニング、テスト、検証データセットに分割する時が来ました。\n",
    "\n",
    "テスト目的でデータの5％〜10％を使用することが典型的ですが、実際にはこの時点で必要なものよりもはるかに多くあります。トレーニングには400,000ポイントを獲得し、テスト用に2,000ポイントを予約しますが、すべてを使用することはありません。\n"
   ]
  },
  {
   "cell_type": "code",
   "execution_count": null,
   "metadata": {
    "id": "oY1ZSkW7p0VS"
   },
   "outputs": [],
   "source": [
    "# サンプルをシャッフルして分割する前に、再現性のためにランダムシードを設定します\n",
    "random.seed(42)\n",
    "# キュレーションされたサンプルデータセットをシャッフルします\n",
    "random.shuffle(sample)\n",
    "# シャッフルサンプルをトレーニング（400,000アイテム）とテスト（2,000アイテム）セットに分割します\n",
    "train = sample[:400_000]\n",
    "test = sample[400_000:402_000]\n",
    "# トレーニングとテストセットのサイズを印刷します\n",
    "print(f\"Divided into a training set of {len(train):,} items and test set of {len(test):,} items\")"
   ]
  },
  {
   "cell_type": "code",
   "execution_count": null,
   "metadata": {
    "id": "nLnRpUbtp17N"
   },
   "outputs": [],
   "source": [
    "# テストセットの最初の250アイテムから価格を抽出します\n",
    "prices = [float(item.price) for item in test[:250]]\n",
    "# 最初の250のテスト項目の価格のヒストグラムを作成して表示する\n",
    "# これにより、テストデータのごく一部の価格分布を簡単に確認できます。\n",
    "plt.figure(figsize=(15, 6))\n",
    "plt.title(f\"Avg {sum(prices)/len(prices):.2f} and highest {max(prices):,.2f}\\n\")\n",
    "plt.xlabel('Price ($)')\n",
    "plt.ylabel('Count')\n",
    "plt.hist(prices, rwidth=0.7, color=\"darkblue\", bins=range(0, 1000, 10))\n",
    "plt.show()"
   ]
  },
  {
   "cell_type": "code",
   "execution_count": null,
   "metadata": {
    "id": "kpw1Y8IIp6kw"
   },
   "outputs": [],
   "source": [
    "# トレーニングセットからプロンプトを抽出します\n",
    "train_prompts = [item.prompt for item in train]\n",
    "# トレーニングセットから価格を抽出します\n",
    "train_prices = [item.price for item in train]\n",
    "# テストセットからテストプロンプト（test_promptメソッドを使用）を抽出する\n",
    "test_prompts = [item.test_prompt() for item in test]\n",
    "# テストセットから価格を抽出します\n",
    "test_prices = [item.price for item in test]"
   ]
  },
  {
   "cell_type": "code",
   "execution_count": null,
   "metadata": {
    "id": "WtEFiTlvp8hL"
   },
   "outputs": [],
   "source": [
    "# トレーニングおよびテストデータから抱き合うフェイスデータセットオブジェクトを作成する\n",
    "train_dataset = Dataset.from_dict({\"text\": train_prompts, \"price\": train_prices})\n",
    "test_dataset = Dataset.from_dict({\"text\": test_prompts, \"price\": test_prices})\n",
    "# トレーニングおよびテストデータセットを含むデータセットディクションを作成します\n",
    "dataset = DatasetDict({\n",
    "    \"train\": train_dataset,\n",
    "    \"test\": test_dataset\n",
    "})"
   ]
  },
  {
   "cell_type": "code",
   "execution_count": null,
   "metadata": {
    "id": "sSnwZIxHp-VJ"
   },
   "outputs": [],
   "source": [
    "# 作成されたDataSetDictを抱きしめるフェイスハブにプッシュします\n",
    "# 「アーロン」を抱きしめる顔のユーザー名に「アーロン」を置き換えます\n",
    "# データセットには「Your-Username/Pricer-Data」という名前が付けられ、プライベートになります\n",
    "# hf_user = \"aaron-official\"＃uncommentとhfユーザー名に置き換えます\n",
    "# dataset_name = f \"{hf_user}/pricer-data\"＃uncomment\n",
    "# dataset.push_to_hub（dataset_name、private = true）＃ハブにプッシュするuncomment"
   ]
  },
  {
   "cell_type": "code",
   "execution_count": null,
   "metadata": {
    "id": "WRawIsrOqMQ-"
   },
   "outputs": [],
   "source": [
    "# ピクルス（シリアル化）トレーニングおよびテストデータセットをファイルとして保存します\n",
    "# これにより、将来のセッションで処理されたデータをすばやく読み込むことができます\n",
    "with open('train.pkl', 'wb') as file:\n",
    "    pickle.dump(train, file)\n",
    "\n",
    "with open('test.pkl', 'wb') as file:\n",
    "    pickle.dump(test, file)"
   ]
  },
  {
   "cell_type": "code",
   "execution_count": null,
   "metadata": {
    "id": "bd72e246"
   },
   "outputs": [],
   "source": [
    "# Googleドライブをマウントして、ドライブ内のファイルにアクセスします\n",
    "from google.colab import drive\n",
    "drive.mount('/content/drive')"
   ]
  },
  {
   "cell_type": "markdown",
   "metadata": {
    "id": "6fc5d915"
   },
   "source": [
    "Googleドライブがマウントされたら、ドライブのフォルダーにファイルをコピーできます。 「私のドライブ/your_folder_name」を、ファイルを保存するフォルダーへのパスに置き換えます。"
   ]
  },
  {
   "cell_type": "code",
   "execution_count": null,
   "metadata": {
    "id": "f319129b"
   },
   "outputs": [],
   "source": [
    "# ファイル操作のためにShotilモジュールをインポートします\n",
    "import shutil\n",
    "\n",
    "# Googleドライブの宛先パスと、ピクルストレーニングデータのソースパスを定義します\n",
    "# Googleドライブの目的のフォルダーパスに「My Drive/Your_folder_name」を交換してください\n",
    "destination_path = '/content/drive/My Drive/train.pkl'\n",
    "source_path = '/content/train.pkl'\n",
    "\n",
    "# Colab環境からGoogleドライブに漬けられたトレーニングデータファイルをコピーする\n",
    "shutil.copyfile(source_path, destination_path)\n",
    "\n",
    "# 確認メッセージを印刷します\n",
    "print(f\"Copied {source_path} to {destination_path}\")"
   ]
  },
  {
   "cell_type": "code",
   "execution_count": null,
   "metadata": {
    "id": "d23d6cf0"
   },
   "outputs": [],
   "source": [
    "# ファイル操作のためにShotilモジュールをインポートします\n",
    "import shutil\n",
    "\n",
    "# Googleドライブの宛先パスとピクルステストデータのソースパスを定義する\n",
    "# Googleドライブの目的のフォルダーパスに「My Drive/Your_folder_name」を交換してください\n",
    "destination_path = '/content/drive/My Drive/test.pkl'\n",
    "source_path = '/content/test.pkl'\n",
    "\n",
    "# Colab環境からGoogleドライブに漬物のテストデータファイルをコピーする\n",
    "shutil.copyfile(source_path, destination_path)\n",
    "\n",
    "# 確認メッセージを印刷します\n",
    "print(f\"Copied {source_path} to {destination_path}\")"
   ]
  }
 ],
 "metadata": {
  "colab": {
   "provenance": []
  },
  "kernelspec": {
   "display_name": "Python 3 (ipykernel)",
   "language": "python",
   "name": "python3"
  },
  "language_info": {
   "codemirror_mode": {
    "name": "ipython",
    "version": 3
   },
   "file_extension": ".py",
   "mimetype": "text/x-python",
   "name": "python",
   "nbconvert_exporter": "python",
   "pygments_lexer": "ipython3",
   "version": "3.12.3"
  }
 },
 "nbformat": 4,
 "nbformat_minor": 4
}
