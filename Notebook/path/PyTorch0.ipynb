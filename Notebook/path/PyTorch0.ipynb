{
 "cells": [
  {
   "cell_type": "markdown",
   "id": "4fe59fb7-e68d-4e4b-8901-5902d5343ed8",
   "metadata": {},
   "source": [
    "# PyTorchのトレーニング♨\n",
    "\n",
    "## 環境準備、共通的データ処理 編\n",
    "\n",
    "## [目次](TableOfContents.ipynb)\n",
    "- [環境準備](#環境準備)\n",
    "  - [インストール](#インストール)\n",
    "  - [インポート](#インポート)\n",
    "  - [プロキシ設定](#プロキシ設定)\n",
    "- [共通処理](#共通処理)\n",
    "  - [勾配降下法アルゴリズムの選択](#勾配降下法アルゴリズムの選択)\n",
    "  - [モデルの定義とコンパイル](#モデルの定義とコンパイル)\n",
    "  - [モデルの学習と推論](#モデルの学習と推論モデルの保存と復元)\n",
    "  - [モデルの保存と復元](#モデルの保存と復元)\n",
    "  - [過学習の抑止](#過学習の抑止)"
   ]
  },
  {
   "cell_type": "markdown",
   "id": "d48958bb-e085-40a2-a6e1-f00c80080d20",
   "metadata": {},
   "source": [
    "## 環境準備"
   ]
  },
  {
   "cell_type": "markdown",
   "id": "de8cfdd3-319a-4068-89ae-c39fb2c141ff",
   "metadata": {},
   "source": [
    "### インストール"
   ]
  },
  {
   "cell_type": "markdown",
   "id": "f6721d4f-485f-44e9-976d-ae526a3c4816",
   "metadata": {},
   "source": [
    "#### 基本的なライブラリ"
   ]
  },
  {
   "cell_type": "code",
   "execution_count": null,
   "id": "7911c97f-77cf-4e25-acca-07d2c9fd2975",
   "metadata": {},
   "outputs": [],
   "source": [
    "!pip install numpy\n",
    "!pip install pandas\n",
    "!pip install seaborn\n",
    "!pip install statsmodels\n",
    "!pip install tqdm # プログレスバー（学習関数で使用する"
   ]
  },
  {
   "cell_type": "markdown",
   "id": "e43802e8-7f76-4c87-bcae-231b9cede71d",
   "metadata": {},
   "source": [
    "#### scikit-learn"
   ]
  },
  {
   "cell_type": "code",
   "execution_count": null,
   "id": "0cde9a17-2de9-40c3-9fc7-2d18f22d22f1",
   "metadata": {},
   "outputs": [],
   "source": [
    "!pip install scikit-learn"
   ]
  },
  {
   "cell_type": "markdown",
   "id": "2c41916e-367f-4c72-82cf-7ef92fd73dbb",
   "metadata": {},
   "source": [
    "#### PyTorch"
   ]
  },
  {
   "cell_type": "code",
   "execution_count": null,
   "id": "4dea053e-b265-4400-b7ec-c53972a5eab3",
   "metadata": {},
   "outputs": [],
   "source": [
    "! pip install torch\n",
    "! pip install torchvision"
   ]
  },
  {
   "cell_type": "markdown",
   "id": "9b9a8de7-cd0b-447c-a675-be91688fa3f4",
   "metadata": {},
   "source": [
    "#### opencv"
   ]
  },
  {
   "cell_type": "code",
   "execution_count": null,
   "id": "6ba915e5-4af8-4339-866b-2a2a380eb3b9",
   "metadata": {},
   "outputs": [],
   "source": [
    "!pip install opencv-python"
   ]
  },
  {
   "cell_type": "markdown",
   "id": "b69a16e1-7764-4035-8a92-72b398b81aaf",
   "metadata": {},
   "source": [
    "### インポート"
   ]
  },
  {
   "cell_type": "markdown",
   "id": "3b0ed51d-9ab1-44d9-92c8-9a029b1bff41",
   "metadata": {},
   "source": [
    "#### 基本的なライブラリ"
   ]
  },
  {
   "cell_type": "code",
   "execution_count": null,
   "id": "53109095-5c74-41e0-928c-f06d31d940a6",
   "metadata": {},
   "outputs": [],
   "source": [
    "import io\n",
    "import requests\n",
    "\n",
    "import pandas as pd\n",
    "import numpy as np\n",
    "import matplotlib.pyplot as plt\n",
    "import seaborn as sns"
   ]
  },
  {
   "cell_type": "markdown",
   "id": "30ed5da8-a115-4918-a97f-ff3e63d2b5b3",
   "metadata": {},
   "source": [
    "#### scikit-learn"
   ]
  },
  {
   "cell_type": "code",
   "execution_count": null,
   "id": "fd3a0cc2-703c-4ecb-b06d-b06f3cc8e21e",
   "metadata": {},
   "outputs": [],
   "source": [
    "from sklearn import datasets\n",
    "from sklearn import metrics\n",
    "from sklearn.preprocessing import StandardScaler\n",
    "from sklearn.model_selection import train_test_split\n",
    "from sklearn.metrics import confusion_matrix"
   ]
  },
  {
   "cell_type": "markdown",
   "id": "c4db70d6-ceff-49c7-8c0e-f9f51df1e708",
   "metadata": {},
   "source": [
    "#### PyTorch"
   ]
  },
  {
   "cell_type": "code",
   "execution_count": null,
   "id": "e7b61b70-aef7-4ea7-9852-fa0032ed72cd",
   "metadata": {},
   "outputs": [],
   "source": [
    "import torch\n",
    "import torchvision\n",
    "print(\"torch ver : \" + torch.__version__)\n",
    "print(\"torchvision ver : \" + torchvision.__version__)"
   ]
  },
  {
   "cell_type": "code",
   "execution_count": null,
   "id": "db5bc3cc-0c3f-40fd-94e9-4fea168c72c6",
   "metadata": {},
   "outputs": [],
   "source": [
    "#モデル定義ライブラリ\n",
    "import torch.nn as nn\n",
    "import torch.nn.functional as F\n",
    "\n",
    "# 最適化関数ライブラリ\n",
    "import torch.optim as optim"
   ]
  },
  {
   "cell_type": "markdown",
   "id": "fdf7dcbc-aa26-4652-9eb8-dbf5dfada438",
   "metadata": {},
   "source": [
    "#### その他"
   ]
  },
  {
   "cell_type": "code",
   "execution_count": null,
   "id": "8acef2e0-0df0-47f4-9e88-ece40279703e",
   "metadata": {},
   "outputs": [],
   "source": [
    "import warnings\n",
    "warnings.filterwarnings('ignore')\n",
    "%matplotlib inline"
   ]
  },
  {
   "cell_type": "markdown",
   "id": "0bd620cf-dd4a-4da0-b4c8-1de4d6f48f68",
   "metadata": {},
   "source": [
    "### プロキシ設定"
   ]
  },
  {
   "cell_type": "code",
   "execution_count": null,
   "id": "609f3dce-8d41-45f6-9436-788e0097bdda",
   "metadata": {},
   "outputs": [],
   "source": [
    "import os\n",
    "proxies = {\n",
    "    \"http\": os.getenv(\"HTTP_PROXY\"),\n",
    "    \"https\": os.getenv(\"HTTPS_PROXY\")\n",
    "}"
   ]
  },
  {
   "cell_type": "markdown",
   "id": "30e6ac99-5db3-4c85-b8bd-e089d77d0e72",
   "metadata": {},
   "source": [
    "## 共通処理"
   ]
  },
  {
   "cell_type": "markdown",
   "id": "8e2b5ba9-dced-4d3b-a1fc-52b210d3de45",
   "metadata": {},
   "source": [
    "### torch.Tensor"
   ]
  },
  {
   "cell_type": "markdown",
   "id": "ce11329a-1fb1-47c9-a3da-ffde439ca8e6",
   "metadata": {
    "tags": []
   },
   "source": [
    "#### numpy.ndarrayとtorch.Tensor"
   ]
  },
  {
   "cell_type": "markdown",
   "id": "34aaf0db-8b79-4a0a-9148-17b870eae458",
   "metadata": {},
   "source": [
    "##### numpy.ndarrayとtorch.Tensorの生成"
   ]
  },
  {
   "cell_type": "code",
   "execution_count": null,
   "id": "4ccb3015-24b7-4327-977d-85c5138c9b93",
   "metadata": {},
   "outputs": [],
   "source": [
    "# numpy.ndarrayの作成\n",
    "numpy_array = np.array([0, 1, 2])\n",
    "numpy_array"
   ]
  },
  {
   "cell_type": "code",
   "execution_count": null,
   "id": "f1ee8967-639c-4d93-8fd7-b85c56270411",
   "metadata": {},
   "outputs": [],
   "source": [
    "# torch.Tensorの作成\n",
    "torch_tensor = torch.tensor([0, 1, 2])\n",
    "torch_tensor"
   ]
  },
  {
   "cell_type": "markdown",
   "id": "950469f7-2ba7-4ebc-96bd-adbaf7a0516a",
   "metadata": {},
   "source": [
    "##### numpy.ndarrayとtorch.Tensorの相互変換"
   ]
  },
  {
   "cell_type": "code",
   "execution_count": null,
   "id": "2091a6c0-2b35-48d1-afce-087458ccf615",
   "metadata": {},
   "outputs": [],
   "source": [
    "# torch → numpy変換\n",
    "torch_array = torch.from_numpy(numpy_array)\n",
    "torch_array"
   ]
  },
  {
   "cell_type": "code",
   "execution_count": null,
   "id": "d56c815e-e2af-420b-94b3-b29f82d08861",
   "metadata": {},
   "outputs": [],
   "source": [
    "numpy_array = torch_array.numpy()\n",
    "numpy_array"
   ]
  },
  {
   "cell_type": "markdown",
   "id": "71b23ace-90e8-4d3b-89f7-5dc4c9158822",
   "metadata": {},
   "source": [
    "#### torch.Tensorの操作\n",
    "torch.view()とtorch.transpose()"
   ]
  },
  {
   "cell_type": "markdown",
   "id": "9be3fb2d-cc5d-47ee-99b5-9a62b8103a9e",
   "metadata": {},
   "source": [
    "##### torch.view()\n",
    "ndarray.reshape的な"
   ]
  },
  {
   "cell_type": "code",
   "execution_count": null,
   "id": "8c4a0ce7-32af-4cb8-a73c-5aea5b136c84",
   "metadata": {},
   "outputs": [],
   "source": [
    "# 2行3列のtorch.Tensorの作成\n",
    "torch_array = torch.tensor([[1, 2, 3], [4, 5, 6]])\n",
    "print(torch_array)\n",
    "print(torch_array.size())"
   ]
  },
  {
   "cell_type": "code",
   "execution_count": null,
   "id": "d030f475-eda7-4eb4-b1dc-73817c28b87c",
   "metadata": {},
   "outputs": [],
   "source": [
    "# 3行2列に形状変化（reshape的な）\n",
    "torch_array = torch_array.view(3, 2)\n",
    "print(torch_array)\n",
    "print(torch_array.size())"
   ]
  },
  {
   "cell_type": "code",
   "execution_count": null,
   "id": "51bef2ba-e18a-4f18-9398-0fd2d4ddfa1b",
   "metadata": {},
   "outputs": [],
   "source": [
    "# ｎ行３列に形状変化（ｎは自動計算）\n",
    "torch_array = torch_array.view(-1, 3)\n",
    "print(torch_array)\n",
    "print(torch_array.size())"
   ]
  },
  {
   "cell_type": "markdown",
   "id": "b06ccc6d-3713-4528-8ab5-1a9c18d39448",
   "metadata": {},
   "source": [
    "##### torch.transpose()\n",
    "ndarray.transpose的な"
   ]
  },
  {
   "cell_type": "code",
   "execution_count": null,
   "id": "debaa734-1d42-4850-855f-00bfb59e09af",
   "metadata": {},
   "outputs": [],
   "source": [
    "# 3行3列のtorch.tensorの作成\n",
    "torch_array = torch.tensor([[1, 2, 3], [4, 5, 6], [7, 8, 9]]) \n",
    "print(torch_array)\n",
    "print(torch_array.size())"
   ]
  },
  {
   "cell_type": "code",
   "execution_count": null,
   "id": "f12f0050-e453-4c00-aec8-a8faffe6650a",
   "metadata": {},
   "outputs": [],
   "source": [
    "# 転置\n",
    "torch_array = torch_array.transpose(0, 1) #２軸を指定可\n",
    "print(torch_array)\n",
    "print(torch_array.size())"
   ]
  },
  {
   "cell_type": "code",
   "execution_count": null,
   "id": "b5734e6a-fb56-4227-92bf-3b9e6a797948",
   "metadata": {},
   "outputs": [],
   "source": [
    "# 転置\n",
    "torch_array = torch_array.t() # 行列時の略記法\n",
    "print(torch_array)"
   ]
  },
  {
   "cell_type": "markdown",
   "id": "8643fa0b-3dbf-465b-a765-321f0c506233",
   "metadata": {
    "tags": []
   },
   "source": [
    "### モデルの定義とコンパイル\n",
    "以下は、DNNによる回帰"
   ]
  },
  {
   "cell_type": "markdown",
   "id": "9c2c2386-f251-4b60-9bc6-4ad6514648fb",
   "metadata": {},
   "source": [
    "#### モデルの定義"
   ]
  },
  {
   "cell_type": "markdown",
   "id": "ab6fb05e-d690-4ee5-9cc6-14dc95fa3546",
   "metadata": {},
   "source": [
    "##### torch.nn.Moduleのサブクラスを定義してモデルを構築\n",
    "一方通行ではない複雑なモデル（ネットワーク）の場合"
   ]
  },
  {
   "cell_type": "markdown",
   "id": "84f515ed-6214-41ab-b044-76882dd3bcbd",
   "metadata": {},
   "source": [
    "```python\n",
    "class Model(nn.Module):\n",
    "    # 各層を__init__に定義する\n",
    "    def __init__(self):\n",
    "        # 親クラスの継承\n",
    "        super(Model, self).__init__()\n",
    "        \n",
    "        # 全結合層の定義\n",
    "        # nn.Linear(入力層の数, 出力層の数)\n",
    "        self.fc1 = nn.Linear(784, 900)\n",
    "        self.fc2 = nn.Linear(900, 1000)\n",
    "        self.fc3 = nn.Linear(1000, 500)\n",
    "        self.output = nn.Linear(500, 10)\n",
    "        \n",
    "    # 順伝搬の計算の定義\n",
    "    def forward(self, x):\n",
    "        x = F.relu(self.fc1(x))\n",
    "        x = F.relu(self.fc2(x))\n",
    "        x = F.relu(self.fc3(x))\n",
    "        \n",
    "        return F.relu(self.output(x))\n",
    "```"
   ]
  },
  {
   "cell_type": "markdown",
   "id": "0b196b87-90b5-4408-be00-ef7a5ba1c5e9",
   "metadata": {},
   "source": [
    "##### torch.nn.Sequentialでモデルを構築\n",
    "一方通行のシンプルなモデル（ネットワーク）の場合"
   ]
  },
  {
   "cell_type": "code",
   "execution_count": null,
   "id": "3c32e34a-f5d8-4bc4-9ee6-693c93a601bd",
   "metadata": {},
   "outputs": [],
   "source": [
    "class Model(nn.Module):\n",
    "    # 各層を__init__に定義する\n",
    "    def __init__(self):\n",
    "        # 親クラスの継承\n",
    "        super(Model, self).__init__()\n",
    "        \n",
    "        # nn.Sequentalで処理をまとめる\n",
    "        self.layers = nn.Sequential(\n",
    "            # nn.Linear(入力層の数, 出力層の数)\n",
    "            nn.Linear(13, 64),\n",
    "            # inplace=Trueを指定することでメモリを節約できる(推奨)\n",
    "            nn.ReLU(inplace=True),\n",
    "            \n",
    "            nn.Linear(64, 1),\n",
    "            nn.ReLU(inplace=True)\n",
    "        )\n",
    "        \n",
    "    # 順伝搬の計算の定義\n",
    "    def forward(self, x):\n",
    "        return self.layers(x)"
   ]
  },
  {
   "cell_type": "markdown",
   "id": "a152f065-2ea2-4ac7-a424-5a1bf4efaa1d",
   "metadata": {},
   "source": [
    "#### モデルのコンパイル"
   ]
  },
  {
   "cell_type": "code",
   "execution_count": null,
   "id": "7fecd7a4-48f7-4e25-bc17-56b4e47b15cb",
   "metadata": {},
   "outputs": [],
   "source": [
    "# ネットワークの呼び出し\n",
    "model = Model()"
   ]
  },
  {
   "cell_type": "markdown",
   "id": "87c8032f-add1-44c1-a7d2-927c7eb18532",
   "metadata": {
    "tags": []
   },
   "source": [
    "### 勾配降下法アルゴリズムの選択\n",
    "PyTorchではmodel定義がないと動かない。  \n",
    "https://dotnetdevelopmentinfrastructure.osscons.jp/index.php?%E6%B7%B1%E5%B1%A4%E5%AD%A6%E7%BF%92%E3%81%AE%E3%83%86%E3%82%AF%E3%83%8B%E3%83%83%E3%82%AF#ma318ba7"
   ]
  },
  {
   "cell_type": "markdown",
   "id": "fce1c63b-76ae-4035-b5ea-f341cfaae64a",
   "metadata": {},
   "source": [
    "#### SGD\n",
    "詳しくは[コチラ](TensorFlowAndKeras0.ipynb)"
   ]
  },
  {
   "cell_type": "code",
   "execution_count": null,
   "id": "9d7483e3-7220-41c9-a8ba-b65704aaf4cb",
   "metadata": {},
   "outputs": [],
   "source": [
    "# lr: 学習率，momentum: 慣性項 \n",
    "optimizer = optim.SGD(model.parameters(), lr=0.001, momentum=0.9) "
   ]
  },
  {
   "cell_type": "markdown",
   "id": "ee591dda-0dd3-41f8-a5f7-6fb913c65e38",
   "metadata": {},
   "source": [
    "#### MomentumSGD\n",
    "詳しくは[コチラ](TensorFlowAndKeras0.ipynb)"
   ]
  },
  {
   "cell_type": "code",
   "execution_count": null,
   "id": "2acb15e4-b8c7-4adb-8c40-d3b69c7bb505",
   "metadata": {},
   "outputs": [],
   "source": [
    "#optimizer = optim.SGD(model.parameters(), lr=0.01, momentum=0.9)"
   ]
  },
  {
   "cell_type": "markdown",
   "id": "94b47dc4-a6d9-4792-92d0-775dbcbdc0ce",
   "metadata": {},
   "source": [
    "#### NesterovAG \n",
    "詳しくは[コチラ](TensorFlowAndKeras0.ipynb)"
   ]
  },
  {
   "cell_type": "code",
   "execution_count": null,
   "id": "d0f4bd15-7845-4bfe-bf83-27902d082436",
   "metadata": {},
   "outputs": [],
   "source": [
    "#optimizer = optim.SGD(model.parameters(), lr=0.01, momentum=0.9, nesterov=True)"
   ]
  },
  {
   "cell_type": "markdown",
   "id": "318c508b-8ef3-41f9-8eff-62035c65553b",
   "metadata": {},
   "source": [
    "#### Adagrad\n",
    "詳しくは[コチラ](TensorFlowAndKeras0.ipynb)"
   ]
  },
  {
   "cell_type": "code",
   "execution_count": null,
   "id": "efcc9c29-608f-4375-acd2-13edcd4c908a",
   "metadata": {},
   "outputs": [],
   "source": [
    "#optimizer = optim.Adagrad(model.parameters(), lr=0.01, eps=1e-10)"
   ]
  },
  {
   "cell_type": "markdown",
   "id": "771ad9e2-0c5e-46cd-ba81-6ef564bbfaec",
   "metadata": {},
   "source": [
    "#### RMSprop\n",
    "詳しくは[コチラ](TensorFlowAndKeras0.ipynb)"
   ]
  },
  {
   "cell_type": "code",
   "execution_count": null,
   "id": "08a8c301-6526-4064-b25d-f10dcd96381d",
   "metadata": {},
   "outputs": [],
   "source": [
    "#optimizer = optim.RMSprop(model.parameters(), lr=0.01, alpha=0.99, eps=1e-08)"
   ]
  },
  {
   "cell_type": "markdown",
   "id": "ae10afb9-5c32-4477-8871-a514c08ac544",
   "metadata": {},
   "source": [
    "#### Adadelta\n",
    "詳しくは[コチラ](TensorFlowAndKeras0.ipynb)"
   ]
  },
  {
   "cell_type": "code",
   "execution_count": null,
   "id": "3a7dae7b-700f-40a1-a2d8-33e07734ea39",
   "metadata": {},
   "outputs": [],
   "source": [
    "#optimizer = optim.Adadelta(model.parameters(),lr=1.0, rho=0.9, eps=1e-06)"
   ]
  },
  {
   "cell_type": "markdown",
   "id": "652a5cd3-b740-4f2d-9adb-cad88e506b1c",
   "metadata": {},
   "source": [
    "#### Adam\n",
    "詳しくは[コチラ](TensorFlowAndKeras0.ipynb)"
   ]
  },
  {
   "cell_type": "code",
   "execution_count": null,
   "id": "b07691d4-6d1f-4b4f-80ee-5d689ed59fd7",
   "metadata": {},
   "outputs": [],
   "source": [
    "#optimizer = optim.Adam(model.parameters(), lr=0.001, betas=(0.9, 0.999), eps=1e-08)"
   ]
  },
  {
   "cell_type": "markdown",
   "id": "4643ff92-71ff-42e9-826f-17b82d331aee",
   "metadata": {},
   "source": [
    "### モデルの定義とコンパイル\n",
    "一先ず[PyTorch3.ipynb](PyTorch3.ipynb)を参照。\n",
    "\n",
    "### モデルの学習と推論\n",
    "一先ず[PyTorch3.ipynb](PyTorch3.ipynb)を参照。\n",
    "\n",
    "### モデルの保存と復元\n",
    "一先ず[PyTorch3.ipynb](PyTorch3.ipynb)を参照。\n",
    "\n",
    "### 過学習の抑止\n",
    "一先ず[PyTorch3.ipynb](PyTorch3.ipynb)を参照。"
   ]
  }
 ],
 "metadata": {
  "kernelspec": {
   "display_name": "Python 3 (ipykernel)",
   "language": "python",
   "name": "python3"
  },
  "language_info": {
   "codemirror_mode": {
    "name": "ipython",
    "version": 3
   },
   "file_extension": ".py",
   "mimetype": "text/x-python",
   "name": "python",
   "nbconvert_exporter": "python",
   "pygments_lexer": "ipython3",
   "version": "3.10.6"
  }
 },
 "nbformat": 4,
 "nbformat_minor": 5
}
