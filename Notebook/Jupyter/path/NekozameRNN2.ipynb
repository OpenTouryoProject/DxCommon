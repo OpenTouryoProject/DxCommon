{
 "cells": [
  {
   "cell_type": "markdown",
   "id": "c87b4d10-5704-4796-8d16-5797523647c9",
   "metadata": {},
   "source": [
    "# o'reillyのネゴザメ言語モデルの本\n",
    "長短期記憶ニューラルネットワーク（LSTM）\n",
    "\n",
    "## [目次](TableOfContents.ipynb)\n",
    "- [環境準備](#環境準備)\n",
    "  - [インストール](#インストール)\n",
    "  - [インポート](#インポート)\n",
    "- [RNNの問題、勾配爆発・消失](#RNNの問題、勾配爆発・消失)\n",
    "  - [勾配爆発対策の勾配クリッピング](#勾配爆発対策の勾配クリッピング)\n",
    "  - [勾配消失対策はLSTM自体が特性による。](#勾配消失対策はLSTM自体が特性による。)\n",
    "- [長短期記憶ニューラルネットワーク（LSTM）](#長短期記憶ニューラルネットワーク（LSTM）)\n",
    "  - [先ずは、LSTMレイヤの実装](#先ずは、LSTMレイヤの実装)\n",
    "  - [T個の時系列データの処理を行うTime LSTM実装](#T個の時系列データの処理を行うTime_LSTM実装)\n",
    "  - [LSTMを使用した言語モデル、SimpleLstmlmの実装](#LSTMを使用した言語モデル、SimpleLstmlmの実装)\n",
    "  - [LSTMを使用した言語モデル、BetterLstmlmの実装](#LSTMを使用した言語モデル、BetterLstmlmの実装)\n",
    "  - [LSTMを使用した言語モデルで次単語予測の文書生成](#LSTMを使用した言語モデルで次単語予測の文書生成)\n",
    "\n",
    "## 参考\n",
    "- https://github.com/oreilly-japan/deep-learning-from-scratch-2/tree/master/ch06\n",
    "- https://github.com/oreilly-japan/deep-learning-from-scratch-2/blob/master/ch07\n",
    "- [長短期記憶ニューラルネットワーク（LSTM） - 開発基盤部会 Wiki](https://dotnetdevelopmentinfrastructure.osscons.jp/index.php?%E9%95%B7%E7%9F%AD%E6%9C%9F%E8%A8%98%E6%86%B6%E3%83%8B%E3%83%A5%E3%83%BC%E3%83%A9%E3%83%AB%E3%83%8D%E3%83%83%E3%83%88%E3%83%AF%E3%83%BC%E3%82%AF%EF%BC%88LSTM%EF%BC%89)"
   ]
  },
  {
   "cell_type": "markdown",
   "id": "94f149dd-6504-4850-99b9-626887faba7d",
   "metadata": {},
   "source": [
    "## 環境準備"
   ]
  },
  {
   "cell_type": "markdown",
   "id": "529d975a-b9ce-4eff-a3f5-ae65d56655a9",
   "metadata": {},
   "source": [
    "### インストール"
   ]
  },
  {
   "cell_type": "code",
   "execution_count": null,
   "id": "89147361-440c-47a1-b02b-942f39590bed",
   "metadata": {},
   "outputs": [],
   "source": [
    "!pip install numpy\n",
    "!pip install matplotlib"
   ]
  },
  {
   "cell_type": "markdown",
   "id": "a377a319-9b97-4c21-9d8f-8664c955b33e",
   "metadata": {},
   "source": [
    "### インポート"
   ]
  },
  {
   "cell_type": "code",
   "execution_count": null,
   "id": "814784dc-0f79-448a-9608-e9952549ed93",
   "metadata": {},
   "outputs": [],
   "source": [
    "import numpy as np\n",
    "import matplotlib.pyplot as plt"
   ]
  },
  {
   "cell_type": "code",
   "execution_count": null,
   "id": "2b638958-9d39-4dd1-9d46-f2f97d5849fe",
   "metadata": {},
   "outputs": [],
   "source": [
    "import warnings\n",
    "warnings.filterwarnings('ignore')\n",
    "import sys, os\n",
    "sys.path.append(os.pardir)  # 親ディレクトリのファイルをインポートするための設定"
   ]
  },
  {
   "cell_type": "code",
   "execution_count": null,
   "id": "91c0a262-8fea-4c8a-838f-a96b7e176f2d",
   "metadata": {},
   "outputs": [],
   "source": [
    "from nekozame.common.functions import sigmoid\n",
    "from nekozame.common.functions import softmax"
   ]
  },
  {
   "cell_type": "markdown",
   "id": "a31ca02d-c9a1-40ff-8744-8c6ac7a16cc0",
   "metadata": {},
   "source": [
    "## RNNの問題、勾配爆発・消失"
   ]
  },
  {
   "cell_type": "code",
   "execution_count": null,
   "id": "6ec86c9c-256e-49df-96e8-a746c9230519",
   "metadata": {},
   "outputs": [],
   "source": [
    "flag = True"
   ]
  },
  {
   "cell_type": "code",
   "execution_count": null,
   "id": "c837cd01-2c52-4bd6-9938-665761199268",
   "metadata": {},
   "outputs": [],
   "source": [
    "# バッチサイズ\n",
    "N = 2\n",
    "# 時間サイズ\n",
    "T = 20\n",
    "# 隠れ状態ベクトルの次元を指定\n",
    "H = 3\n",
    "\n",
    "dh = np.ones((N, H))\n",
    "\n",
    "np.random.seed(3)\n",
    "\n",
    "print(flag)\n",
    "\n",
    "if (flag):\n",
    "    # 勾配爆発\n",
    "    Wh = np.random.randn(H, H)\n",
    "else:\n",
    "    # 勾配消失\n",
    "    Wh = np.random.randn(H, H) * 0.5\n",
    "    \n",
    "# 勾配爆発 or 消失切替\n",
    "flag = not flag\n",
    "\n",
    "norm_list = []\n",
    "for t in range(T):\n",
    "    dh = np.dot(dh, Wh.T)\n",
    "    norm = np.sqrt(np.sum(dh**2)) / N\n",
    "    # L2ノルムはユークリッド距離\n",
    "    norm_list.append(norm)\n",
    "\n",
    "print(norm_list)\n",
    "\n",
    "# グラフの描画\n",
    "plt.plot(np.arange(len(norm_list)), norm_list)\n",
    "plt.xticks([0, 4, 9, 14, 19], [1, 5, 10, 15, 20])\n",
    "plt.xlabel('time step')\n",
    "plt.ylabel('norm')\n",
    "plt.show()"
   ]
  },
  {
   "cell_type": "markdown",
   "id": "0e62f462-b313-43b6-a234-3edecafc2e61",
   "metadata": {},
   "source": [
    "#### 勾配爆発対策の勾配クリッピング\n",
    "パラメタの勾配のL2ノルムが制限されるようにする。"
   ]
  },
  {
   "cell_type": "markdown",
   "id": "8626f59f-c378-43c3-86b3-d2b29d8c354d",
   "metadata": {},
   "source": [
    "##### 関数"
   ]
  },
  {
   "cell_type": "code",
   "execution_count": null,
   "id": "c4183498-e6a4-4787-aa75-5d04e5e439fc",
   "metadata": {},
   "outputs": [],
   "source": [
    "def clip_grads(grads, max_norm):\n",
    "    \n",
    "    # L2ノルムを計算\n",
    "    total_norm = 0\n",
    "    \n",
    "    for grad in grads:\n",
    "        total_norm += np.sum(grad ** 2)\n",
    "        \n",
    "    total_norm = np.sqrt(total_norm)\n",
    "\n",
    "    # 勾配クリッピング\n",
    "    if max_norm <= total_norm : # rate < 1:\n",
    "        # レートを計算（0除算防止）\n",
    "        rate = max_norm / (total_norm + 1e-6)\n",
    "        # 勾配のL2ノルムを制限\n",
    "        for grad in grads: grad *= rate"
   ]
  },
  {
   "cell_type": "markdown",
   "id": "5f179b45-9086-4f9c-8da8-f458c38b4d72",
   "metadata": {},
   "source": [
    "##### 検証"
   ]
  },
  {
   "cell_type": "code",
   "execution_count": null,
   "id": "78d05c2b-169e-4ec7-8586-57274a922efb",
   "metadata": {},
   "outputs": [],
   "source": [
    "dW1 = np.random.rand(3, 3) * 10\n",
    "dW2 = np.random.rand(3, 3) * 10\n",
    "\n",
    "print('before:', dW1.flatten())\n",
    "clip_grads(grads = [dW1, dW2], max_norm = 5.0)\n",
    "print('after:', dW1.flatten())"
   ]
  },
  {
   "cell_type": "markdown",
   "id": "acd6b004-ee70-4991-81ce-9c9a50fe1480",
   "metadata": {},
   "source": [
    "#### 勾配消失対策はLSTM自体が特性による。\n",
    "[長短期記憶ニューラルネットワーク（LSTM） - 開発基盤部会 Wiki](https://dotnetdevelopmentinfrastructure.osscons.jp/index.php?%E9%95%B7%E7%9F%AD%E6%9C%9F%E8%A8%98%E6%86%B6%E3%83%8B%E3%83%A5%E3%83%BC%E3%83%A9%E3%83%AB%E3%83%8D%E3%83%83%E3%83%88%E3%83%AF%E3%83%BC%E3%82%AF%EF%BC%88LSTM%EF%BC%89)\n",
    "- (+)ノードでは勾配消失は起きない。\n",
    "- (*)ノードでは勾配消失は起き難い（アダマール積）\n",
    "- 記憶セルを計算する忘却ゲートベクトルを計算するアフィン変換ノードの重みは勾配消失が起き難い。"
   ]
  },
  {
   "cell_type": "markdown",
   "id": "596a5ac4-f6d3-489c-a0de-4163f11ad177",
   "metadata": {
    "tags": []
   },
   "source": [
    "## 長短期記憶ニューラルネットワーク（LSTM）"
   ]
  },
  {
   "cell_type": "markdown",
   "id": "aecf1bcd-f384-4965-8eac-2405f487ff84",
   "metadata": {},
   "source": [
    "### 先ずは、LSTMレイヤの実装"
   ]
  },
  {
   "cell_type": "markdown",
   "id": "738ddc44-451e-4e2a-9196-29a58e859ec8",
   "metadata": {},
   "source": [
    "#### 定義"
   ]
  },
  {
   "cell_type": "code",
   "execution_count": null,
   "id": "aec879de-7d6c-4fb1-baa3-1a9994b77f89",
   "metadata": {},
   "outputs": [],
   "source": [
    "class _LSTM:\n",
    "    # 初期化メソッドの定義\n",
    "    def __init__(self, Wx, Wh, b):\n",
    "        self.params = [Wx, Wh, b] # パラメータ\n",
    "        self.grads = [np.zeros_like(Wx), np.zeros_like(Wh), np.zeros_like(b)] # 勾配\n",
    "        self.cache = None\n",
    "    \n",
    "    # 順伝播メソッドの定義\n",
    "    def forward(self, x, h_prev, c_prev):\n",
    "        # パラメータと変数の形状に関する値を取得\n",
    "        Wx, Wh, b = self.params\n",
    "        N, H = h_prev.shape\n",
    "        \n",
    "        # 結合したパラメータによる重み付き和の計算\n",
    "        A = np.dot(x, Wx) + np.dot(h_prev, Wh) + b\n",
    "        \n",
    "        # 各ゲートの重み付き和を取得\n",
    "        f = A[:, :H]      # forgetゲート\n",
    "        g = A[:, H:2*H]   # 記憶セル\n",
    "        i = A[:, 2*H:3*H] # inputゲート\n",
    "        o = A[:, 3*H:]    # outputゲート\n",
    "        \n",
    "        # ゲート値に変換\n",
    "        f = sigmoid(f)\n",
    "        g = np.tanh(g)\n",
    "        i = sigmoid(i)\n",
    "        o = sigmoid(o)\n",
    "        \n",
    "        # 出力を計算\n",
    "        c_next = f * c_prev + g * i  # 記憶セル\n",
    "        h_next = o * np.tanh(c_next) # 出力データ\n",
    "        \n",
    "        # 逆伝播の計算用に変数を保存\n",
    "        self.cache = (x, h_prev, c_prev, i, f, g, o, c_next)\n",
    "        return h_next, c_next\n",
    "    \n",
    "    # 逆伝播メソッドの定義\n",
    "    def backward(self, dh_next, dc_next):\n",
    "        # 変数を取得\n",
    "        Wx, Wh, b = self.params\n",
    "        x, h_prev, c_prev, i, f, g, o, c_next = self.cache\n",
    "        \n",
    "        # 計算用に活性化記憶セルを計算\n",
    "        tanh_c_next = np.tanh(c_next)\n",
    "        \n",
    "        # 現レイヤの記憶セルの勾配を計算\n",
    "        ds = dc_next + (dh_next * o) * (1 - tanh_c_next ** 2)\n",
    "        \n",
    "        # 前レイヤの記憶セルの勾配を計算\n",
    "        dc_prev = ds * f\n",
    "        \n",
    "        # 活性化後のゲートの勾配を計算\n",
    "        di = ds * g\n",
    "        df = ds * c_prev\n",
    "        do = dh_next * tanh_c_next\n",
    "        dg = ds * i\n",
    "        \n",
    "        # 活性化前のゲートの勾配を計算\n",
    "        di *= i * (1 - i)\n",
    "        df *= f * (1 - f)\n",
    "        do *= o * (1 - o)\n",
    "        dg *= (1 - g ** 2)\n",
    "        \n",
    "        # ゲートの勾配を結合\n",
    "        dA = np.hstack((df, dg, di, do))\n",
    "        \n",
    "        # パラメータの勾配を計算\n",
    "        dWh = np.dot(h_prev.T, dA)\n",
    "        dWx = np.dot(x.T, dA)\n",
    "        db = dA.sum(axis=0)\n",
    "        \n",
    "        # パラメータの勾配を格納\n",
    "        self.grads[0][...] = dWx\n",
    "        self.grads[1][...] = dWh\n",
    "        self.grads[2][...] = db\n",
    "        \n",
    "        # 入力の勾配を計算\n",
    "        dx = np.dot(dA, Wx.T)\n",
    "        dh_prev = np.dot(dA, Wh.T)\n",
    "        \n",
    "        return dx, dh_prev, dc_prev"
   ]
  },
  {
   "cell_type": "markdown",
   "id": "beb3a807-b3e0-45ed-884c-b447d6081a0b",
   "metadata": {},
   "source": [
    "#### 実行"
   ]
  },
  {
   "cell_type": "markdown",
   "id": "1e795145-9316-4b96-b1fa-7b08fe48bb80",
   "metadata": {},
   "source": [
    "##### データの準備"
   ]
  },
  {
   "cell_type": "code",
   "execution_count": null,
   "id": "11f0abb9-d68e-4ad8-8f82-8c4bf1ee1c80",
   "metadata": {},
   "outputs": [],
   "source": [
    "# バッチサイズ\n",
    "N = 5\n",
    "# Embedベクトルの次元を指定\n",
    "D = 15\n",
    "# 隠れ状態ベクトルの次元を指定\n",
    "H = 10\n",
    "\n",
    "# 入力データに対応する重みを生成\n",
    "Wx = np.random.randn(D, H * 4)\n",
    "# 1つ前の出力に対応する重みを生成\n",
    "Wh = np.random.randn(H, H * 4)\n",
    "# バイアスを生成\n",
    "b = np.zeros(H * 4)\n",
    "\n",
    "# 順伝播の入力を生成\n",
    "x = np.random.rand(N, D) * 2 # Embedレイヤの出力\n",
    "h_prev = np.random.rand(N, H) * 2 # 1つ前のLSTMレイヤの出力\n",
    "c_prev = np.random.rand(N, H) * 2 # 1つ前のLSTMレイヤの記憶セル\n",
    "\n",
    "# 逆伝播の入力を生成\n",
    "dh_next = np.random.rand(N, H) * 2 # LSTMレイヤの出力\n",
    "dc_next = np.random.rand(N, H) * 2 # LSTMレイヤの記憶セル"
   ]
  },
  {
   "cell_type": "markdown",
   "id": "2ee1d5f3-c03a-47de-81be-cba1375d4be3",
   "metadata": {},
   "source": [
    "##### 順伝播と逆伝播"
   ]
  },
  {
   "cell_type": "code",
   "execution_count": null,
   "id": "2ad8ce1b-53de-405d-9060-9465d62be7c1",
   "metadata": {},
   "outputs": [],
   "source": [
    "# LSTMレイヤのインスタンスを作成\n",
    "layer = _LSTM(Wx, Wh, b)\n",
    "\n",
    "# 順伝播を計算\n",
    "h_next, c_next = layer.forward(x, h_prev, c_prev)\n",
    "print(np.round(h_next, 2))\n",
    "print(np.round(c_next, 2))\n",
    "\n",
    "# 逆伝播を計算\n",
    "dx, dh_prev, dc_prev = layer.backward(dh_next, dc_next)\n",
    "print(np.round(dh_prev, 2))\n",
    "print(np.round(dc_prev, 2))"
   ]
  },
  {
   "cell_type": "markdown",
   "id": "9e30d39e-fbe3-42a3-8dd3-3e78cf2ae8d2",
   "metadata": {},
   "source": [
    "### T個の時系列データの処理を行うTime_LSTM実装"
   ]
  },
  {
   "cell_type": "markdown",
   "id": "0bf12a47-bb46-480b-b72b-a4816539105a",
   "metadata": {},
   "source": [
    "#### 定義"
   ]
  },
  {
   "cell_type": "code",
   "execution_count": null,
   "id": "6ec9bcc5-d2fc-4990-9b6c-6a6a12cb4747",
   "metadata": {},
   "outputs": [],
   "source": [
    "# Time LSTMレイヤの実装\n",
    "class _TimeLSTM:\n",
    "    # 初期化メソッドの定義\n",
    "    def __init__(self, Wx, Wh, b, stateful=False):\n",
    "        self.params = [Wx, Wh, b] # パラメータ\n",
    "        self.grads = [np.zeros_like(Wx), np.zeros_like(Wh), np.zeros_like(b)] # 勾配\n",
    "        self.layers = None\n",
    "        self.h, self.c = None, None\n",
    "        self.dh = None\n",
    "        self.stateful = stateful\n",
    "    \n",
    "    # 順伝播メソッドの定義\n",
    "    def forward(self, xs):\n",
    "        # パラメータを取得\n",
    "        Wx, Wh, b = self.params\n",
    "        \n",
    "        # 形状に関する値を取得\n",
    "        N, T, D = xs.shape\n",
    "        H = Wh.shape[0]\n",
    "        \n",
    "        # 受け皿を初期化\n",
    "        self.layers = []\n",
    "        hs = np.empty((N, T, H), dtype='f')\n",
    "        \n",
    "        # 入力を初期化\n",
    "        if not self.stateful or self.h is None:\n",
    "            self.h = np.zeros((N, H), dtype='f')\n",
    "        if not self.stateful or self.c is None:\n",
    "            self.c = np.zeros((N, H), dtype='f')\n",
    "        \n",
    "        # LSTMレイヤの処理\n",
    "        for t in range(T):\n",
    "            # LSTMレイヤのインスタンスを作成\n",
    "            layer = _LSTM(*self.params)\n",
    "            \n",
    "            # 順伝播を計算\n",
    "            self.h, self.c = layer.forward(xs[:, t, :], self.h, self.c)\n",
    "            \n",
    "            # 出力データを格納\n",
    "            hs[:, t, :] = self.h\n",
    "            self.layers.append(layer)\n",
    "        \n",
    "        return hs\n",
    "    \n",
    "    # 逆伝播メソッドの定義\n",
    "    def backward(self, dhs):\n",
    "        # パラメータを取得\n",
    "        Wx, Wh, b = self.params\n",
    "        \n",
    "        # 形状に関する値を取得\n",
    "        N, T, H = dhs.shape\n",
    "        D = Wx.shape[0]\n",
    "        \n",
    "        # 出力の受け皿を初期化\n",
    "        dxs = np.empty((N, T, D), dtype='f')\n",
    "        \n",
    "        # 入力を初期化\n",
    "        dh, dc = 0, 0\n",
    "        \n",
    "        # LSTMレイヤの処理\n",
    "        grads = [0, 0, 0]\n",
    "        for t in reversed(range(T)):\n",
    "            # t番目のLSTMレイヤのを取得\n",
    "            layer = self.layers[t]\n",
    "            \n",
    "            # 逆伝播の計算\n",
    "            dx, dh, dc = layer.backward(dhs[:, t, :] + dh, dc)\n",
    "            \n",
    "            # 入力データの勾配を格納\n",
    "            dxs[:, t, :] = dx\n",
    "            \n",
    "            # 各パラメータの勾配を加算\n",
    "            for i, grad in enumerate(layer.grads):\n",
    "                grads[i] += grad\n",
    "        \n",
    "        # パラメータの勾配を格納\n",
    "        for i, grad in enumerate(grads):\n",
    "            self.grads[i][...] = grad\n",
    "        \n",
    "        # 隠れ状態の勾配を保存\n",
    "        self.dh = dh\n",
    "        return dxs\n",
    "    \n",
    "    # ネットワークの継続メソッド？\n",
    "    def set_state(self, h, c=None):\n",
    "        self.h, self.c = h, c\n",
    "    \n",
    "    # ネットワークの切断メソッド？\n",
    "    def reset_state(self):\n",
    "        self.h, self.c = None, None"
   ]
  },
  {
   "cell_type": "markdown",
   "id": "87db5c2e-e705-4f9f-ba2c-897ad0668b38",
   "metadata": {},
   "source": [
    "#### 実行"
   ]
  },
  {
   "cell_type": "markdown",
   "id": "e2dca78c-fe56-4846-8f51-d2d563f43275",
   "metadata": {},
   "source": [
    "##### データの準備"
   ]
  },
  {
   "cell_type": "code",
   "execution_count": null,
   "id": "b185d43c-b917-414b-b640-05bfa48cf6d5",
   "metadata": {},
   "outputs": [],
   "source": [
    "# バッチサイズ\n",
    "N = 5\n",
    "# 時間サイズ\n",
    "T = 7\n",
    "\n",
    "# Embedベクトルの次元を指定\n",
    "D = 12\n",
    "# 隠れ状態ベクトルの次元を指定\n",
    "H = 10\n",
    "\n",
    "# 入力データに対応する重みを生成\n",
    "Wx = np.random.randn(D, H * 4)\n",
    "# 1つ前の出力に対応する重みを生成\n",
    "Wh = np.random.randn(H, H * 4)\n",
    "# バイアスを生成\n",
    "b = np.zeros(H * 4)\n",
    "\n",
    "# 順伝播の入力を生成\n",
    "xs = np.random.rand(N, T, D) * 10\n",
    "print(np.round(xs[:, 0, :], 2)) # 0時刻の入力\n",
    "\n",
    "# 受け皿を初期化\n",
    "dxs = np.empty((N, T, D))\n",
    "\n",
    "# 逆伝播の入力を生成\n",
    "dhs = np.ones_like(np.empty((N, T, H)))"
   ]
  },
  {
   "cell_type": "markdown",
   "id": "392a6111-2af2-4c4c-94e1-f9d873c47740",
   "metadata": {},
   "source": [
    "##### 順伝播と逆伝播"
   ]
  },
  {
   "cell_type": "code",
   "execution_count": null,
   "id": "4d2433a2-1e1b-4ec0-889e-21a18353c2fe",
   "metadata": {},
   "outputs": [],
   "source": [
    "# Time LSTMレイヤのインスタンスを作成\n",
    "layer = _TimeLSTM(Wx, Wh, b)\n",
    "\n",
    "# 順伝播を計算\n",
    "hs = layer.forward(xs)\n",
    "print(np.round(hs[:, 0, :], 2)) # 0時刻の出力\n",
    "\n",
    "# 逆伝播を計算\n",
    "dxs = layer.backward(dhs)\n",
    "print(np.round(dxs[:, 0, :], 2)) # 0時刻の出力\n",
    "\n",
    "# 重み（の次元\n",
    "for name, grad in zip(['dWx', 'dWh', 'db'], layer.grads):\n",
    "    print(name, grad.shape)"
   ]
  },
  {
   "attachments": {
    "2e23c79b-c4e0-4749-9118-d6dfa272422b.png": {
     "image/png": "[encoded data removed]"
    }
   },
   "cell_type": "markdown",
   "id": "615f2a2e-c560-41a2-bf45-b6a75d38be9b",
   "metadata": {},
   "source": [
    "### LSTMを使用した言語モデル、SimpleLstmlmの実装\n",
    "<img src=\"attachment:2e23c79b-c4e0-4749-9118-d6dfa272422b.png\" width=\"25%\">"
   ]
  },
  {
   "cell_type": "markdown",
   "id": "38af5e7a-7875-4e79-980e-fd97da1d0a64",
   "metadata": {},
   "source": [
    "#### 定義"
   ]
  },
  {
   "cell_type": "code",
   "execution_count": null,
   "id": "63280fa5-c4ff-48ba-ad48-1d9d238b23ff",
   "metadata": {},
   "outputs": [],
   "source": [
    "import pickle\n",
    "\n",
    "# RNNLMの実装\n",
    "class SimpleLstmlm:\n",
    "    # 初期化メソッドの定義\n",
    "    def __init__(self, vocab_size=10000, wordvec_size=100, hidden_size=100):\n",
    "        # 形状に関する値を取得\n",
    "        V, D, H = vocab_size, wordvec_size, hidden_size\n",
    "        \n",
    "        # パラメータを初期化\n",
    "        embed_W = (np.random.randn(V, D) / 100).astype('f')\n",
    "        lstm_Wx = (np.random.randn(D, 4 * H) / np.sqrt(D)).astype('f')\n",
    "        lstm_Wh = (np.random.randn(H, 4 * H) / np.sqrt(H)).astype('f')\n",
    "        lstm_b = np.zeros(4 * H).astype('f')\n",
    "        affine_W = (np.random.randn(H, V) / np.sqrt(H)).astype('f')\n",
    "        affine_b = np.zeros(V).astype('f')\n",
    "        \n",
    "        # レイヤを作成\n",
    "        self.layers = [\n",
    "            TimeEmbedding(embed_W), \n",
    "            TimeLSTM(lstm_Wx, lstm_Wh, lstm_b, stateful=True), \n",
    "            TimeAffine(affine_W, affine_b)\n",
    "        ]\n",
    "        self.loss_layer = TimeSoftmaxWithLoss()\n",
    "        self.lstm_layer = self.layers[1]\n",
    "        \n",
    "        # パラメータと勾配を書くの\n",
    "        self.params = [] # パラメータ\n",
    "        self.grads = []  # 勾配\n",
    "        for layer in self.layers:\n",
    "            self.params += layer.params\n",
    "            self.grads += layer.grads\n",
    "    \n",
    "    # 推論メソッドの定義\n",
    "    def predict(self, xs):\n",
    "        # 各レイヤの順伝播を計算\n",
    "        for layer in self.layers:\n",
    "            xs = layer.forward(xs)\n",
    "        return xs\n",
    "    \n",
    "    # 順伝播メソッドの定義\n",
    "    def forward(self, xs, ts):\n",
    "        # スコアを計算\n",
    "        score = self.predict(xs)\n",
    "        \n",
    "        # 損失を計算\n",
    "        loss = self.loss_layer.forward(score, ts)\n",
    "        return loss\n",
    "    \n",
    "    # 逆伝播メソッドの定義\n",
    "    def backward(self, dout=1):\n",
    "        # 後のレイヤから逆伝播を計算\n",
    "        dout = self.loss_layer.backward(dout)\n",
    "        for layer in reversed(self.layers):\n",
    "            dout = layer.backward(dout)\n",
    "        return dout\n",
    "    \n",
    "    # ネットワークの継続メソッドの定義\n",
    "    def reset_state(self):\n",
    "        self.lstm_layer.reset_state()\n",
    "    \n",
    "    # 学習済みパラメータの保存メソッドの定義\n",
    "    def save_params(self, file_name='../work/Lstmlm.pkl'):\n",
    "        with open(file_name, 'rb') as f:\n",
    "            # パラメータを保存\n",
    "            pickle.dump(self.params, f)\n",
    "    \n",
    "    # 学習済みパラメータの読み込みメソッドの定義\n",
    "    def load_params(self, file_name='../work/Lstmlm.pkl'):\n",
    "        with open(file_name, 'rb') as f:\n",
    "            # パラメータを読み込む\n",
    "            self.params = pickle.load(f)"
   ]
  },
  {
   "cell_type": "markdown",
   "id": "2e6517ee-7a0b-4db9-a8a3-f3db614706bd",
   "metadata": {},
   "source": [
    "#### 実行"
   ]
  },
  {
   "cell_type": "markdown",
   "id": "1beb4fc1-55a2-4baf-8285-8def7afc11de",
   "metadata": {},
   "source": [
    "##### データの準備"
   ]
  },
  {
   "cell_type": "code",
   "execution_count": null,
   "id": "e7afb22f-6562-4bc7-9d9b-0c03e6a80cb5",
   "metadata": {},
   "outputs": [],
   "source": [
    "from nekozame.dataset import ptb\n",
    "\n",
    "# コーパスのサイズ\n",
    "corpus_size = 1000\n",
    "\n",
    "# 学習データの読み込み\n",
    "# 929589語から成る文\n",
    "corpus,      word_to_id, id_to_word = ptb.load_data('train')\n",
    "corpus_test, _,          _          = ptb.load_data('test')\n",
    "\n",
    "# コーパスの単語数\n",
    "vocab_size = len(word_to_id)\n",
    "\n",
    "# 時系列予測（次単語予測）の\n",
    "xs = corpus[:-1]  # 教師データ\n",
    "ts = corpus[1:]   # 教師ラベル\n",
    "\n",
    "print('corpus size: %d, vocabulary size: %d' % (corpus_size, vocab_size))"
   ]
  },
  {
   "cell_type": "markdown",
   "id": "93783a33-8688-4c86-96cd-3f8aa122c2ba",
   "metadata": {},
   "source": [
    "##### 学習と評価"
   ]
  },
  {
   "cell_type": "code",
   "execution_count": null,
   "id": "507eb6cd-d22a-47cb-afe7-09d6c773a1c0",
   "metadata": {},
   "outputs": [],
   "source": [
    "# ハイパーパラメタの設定\n",
    "\n",
    "# バッチサイズ\n",
    "batch_size = 20\n",
    "# 時間サイズ\n",
    "time_size = 35\n",
    "\n",
    "# Embedベクトルの次元を指定\n",
    "wordvec_size = 100\n",
    "# 隠れ状態ベクトルの次元を指定\n",
    "hidden_size = 100\n",
    "\n",
    "# 学習率\n",
    "lr = 0.1\n",
    "# エポック\n",
    "max_epoch = 1000"
   ]
  },
  {
   "cell_type": "markdown",
   "id": "ce4d8f72-d5e1-4e77-bd18-ef877f262fbb",
   "metadata": {},
   "source": [
    "###### train_custom_loop"
   ]
  },
  {
   "cell_type": "code",
   "execution_count": null,
   "id": "4a608ec0-879c-4573-bb7a-ed4c1acf386b",
   "metadata": {},
   "outputs": [],
   "source": [
    "from nekozame.common.time_layers import *\n",
    "from nekozame.common.optimizer import SGD\n",
    "\n",
    "# 学習時に使用する変数\n",
    "data_size = len(xs)\n",
    "max_iters = data_size // (batch_size * time_size)\n",
    "time_idx = 0\n",
    "total_loss = 0\n",
    "loss_count = 0\n",
    "ppl_list = []\n",
    "\n",
    "# ミニバッチの開始位置を計算\n",
    "jump = data_size // batch_size # 間隔\n",
    "offsets = [n * jump for n in range(batch_size)] # インデックス\n",
    "\n",
    "# 最適化手法のインスタンスを作成\n",
    "optimizer = SGD(lr)\n",
    "\n",
    "# モデルの生成\n",
    "model = SimpleLstmlm(vocab_size, wordvec_size, hidden_size)\n",
    "\n",
    "# エポックごとに学習\n",
    "for epoch in range(max_epoch):\n",
    "    for iter in range(max_iters):\n",
    "        \n",
    "        # ミニバッチを取得\n",
    "        batch_x = np.empty((batch_size, time_size), dtype='i')\n",
    "        batch_t = np.empty((batch_size, time_size), dtype='i')\n",
    "        for t in range(time_size):\n",
    "            for i, offset in enumerate(offsets):\n",
    "                batch_x[i, t] = xs[(offset + time_idx) % data_size]\n",
    "                batch_t[i, t] = ts[(offset + time_idx) % data_size]\n",
    "            time_idx += 1 # カウント\n",
    "        \n",
    "        # 損失を計算\n",
    "        loss = model.forward(batch_x, batch_t)\n",
    "        \n",
    "        # 勾配を計算\n",
    "        model.backward()\n",
    "        \n",
    "        # パラメータを更新\n",
    "        optimizer.update(model.params, model.grads)\n",
    "        \n",
    "        # 平均損失計算用に加算\n",
    "        total_loss += loss\n",
    "        loss_count += 1\n",
    "    \n",
    "    # パープレキシティを計算\n",
    "    ppl = np.exp(total_loss / loss_count)\n",
    "    print(\n",
    "        '| eploch ' + str(epoch + 1) + ' | perplexity: ' + str(np.round(ppl, 2))\n",
    "    )\n",
    "    ppl_list.append(float(ppl)) # 結果を記録\n",
    "    total_loss, loss_count = 0, 0 # カウントを初期化"
   ]
  },
  {
   "cell_type": "code",
   "execution_count": null,
   "id": "d29b31ab-4fe1-4ba1-8df9-57e8191ca8d9",
   "metadata": {},
   "outputs": [],
   "source": [
    "# グラフの描画\n",
    "plt.plot(np.arange(1, len(ppl_list) + 1), ppl_list)\n",
    "plt.title('Simple LSTMLM', fontsize=20)\n",
    "plt.xlabel('epoch')\n",
    "plt.ylabel('perplexity')\n",
    "plt.show()"
   ]
  },
  {
   "cell_type": "markdown",
   "id": "cd36e3e2-b5c3-48f3-86c2-cee3783ab576",
   "metadata": {},
   "source": [
    "###### train\n",
    "上記のコードをRnnlmTrainerに置き換えたバージョン"
   ]
  },
  {
   "cell_type": "code",
   "execution_count": null,
   "id": "5bb8c03a-f728-4c1d-881a-66a0485a4754",
   "metadata": {},
   "outputs": [],
   "source": [
    "from nekozame.common.optimizer import SGD\n",
    "from nekozame.common.trainer import RnnlmTrainer\n",
    "from nekozame.common.util import eval_perplexity\n",
    "\n",
    "# 学習時に使用する変数\n",
    "data_size = len(xs)\n",
    "max_iters = data_size // (batch_size * time_size)\n",
    "time_idx = 0\n",
    "total_loss = 0\n",
    "loss_count = 0\n",
    "ppl_list = []\n",
    "\n",
    "# 勾配クリッピングを適用して学習\n",
    "max_grad = 0.25\n",
    "            \n",
    "# モデルの生成\n",
    "model = SimpleLstmlm(vocab_size, wordvec_size, hidden_size)\n",
    "trainer = RnnlmTrainer(model, SGD(lr))\n",
    "\n",
    "# 勾配クリッピングを適用して学習\n",
    "trainer.fit(xs, ts, max_epoch, batch_size, time_size, max_grad, eval_interval=20)\n",
    "trainer.plot(ylim=(0, 500))\n",
    "\n",
    "# テストデータで評価\n",
    "model.reset_state()\n",
    "ppl_test = eval_perplexity(model, corpus_test)\n",
    "print('test perplexity: ', ppl_test)\n",
    "\n",
    "# パラメータの保存\n",
    "model.save_params()"
   ]
  },
  {
   "attachments": {
    "deef4cb9-b760-4848-bbe3-4f42101f45cc.png": {
     "image/png": "[encoded data removed]"
    }
   },
   "cell_type": "markdown",
   "id": "29c9f5ed-074a-4f88-ba06-f93b80c43f95",
   "metadata": {},
   "source": [
    "### LSTMを使用した言語モデル、BetterLstmlmの実装\n",
    "より良いLSTMLMの実装\n",
    "- LSTMレイヤの多層化\n",
    "- Dropoutによる過学習の抑制\n",
    "- 重みの共有（embed_W[V, D] <-(転置)-> affine_W[D, V]）\n",
    "\n",
    "<img src=\"attachment:deef4cb9-b760-4848-bbe3-4f42101f45cc.png\" width=\"50%\">"
   ]
  },
  {
   "cell_type": "markdown",
   "id": "f925a657-c3c4-4a10-b052-f65fb371ba3a",
   "metadata": {},
   "source": [
    "#### 定義"
   ]
  },
  {
   "cell_type": "code",
   "execution_count": null,
   "id": "2fb30d4d-aef4-4144-9189-8b72b49e6fdd",
   "metadata": {},
   "outputs": [],
   "source": [
    "from nekozame.common.time_layers import *\n",
    "from nekozame.common.np import *  # import numpy as np\n",
    "from nekozame.common.base_model import BaseModel\n",
    "\n",
    "class BetterLstmlm(BaseModel):\n",
    "    '''\n",
    "     LSTMレイヤを2層利用し、各層にDropoutを使うモデル\n",
    "     [1]で提案されたモデルをベースとし、weight tying[2][3]を利用\n",
    "\n",
    "     [1] Recurrent Neural Network Regularization (https://arxiv.org/abs/1409.2329)\n",
    "     [2] Using the Output Embedding to Improve Language Models (https://arxiv.org/abs/1608.05859)\n",
    "     [3] Tying Word Vectors and Word Classifiers (https://arxiv.org/pdf/1611.01462.pdf)\n",
    "    '''\n",
    "    def __init__(self, vocab_size=10000, wordvec_size=650,\n",
    "                 hidden_size=650, dropout_ratio=0.5):\n",
    "        V, D, H = vocab_size, wordvec_size, hidden_size\n",
    "        rn = np.random.randn\n",
    "\n",
    "        embed_W = (rn(V, D) / 100).astype('f')\n",
    "        lstm_Wx1 = (rn(D, 4 * H) / np.sqrt(D)).astype('f')\n",
    "        lstm_Wh1 = (rn(H, 4 * H) / np.sqrt(H)).astype('f')\n",
    "        lstm_b1 = np.zeros(4 * H).astype('f')\n",
    "        lstm_Wx2 = (rn(H, 4 * H) / np.sqrt(H)).astype('f')\n",
    "        lstm_Wh2 = (rn(H, 4 * H) / np.sqrt(H)).astype('f')\n",
    "        lstm_b2 = np.zeros(4 * H).astype('f')\n",
    "        affine_b = np.zeros(V).astype('f')\n",
    "\n",
    "        self.layers = [\n",
    "            TimeEmbedding(embed_W),\n",
    "            TimeDropout(dropout_ratio),\n",
    "            TimeLSTM(lstm_Wx1, lstm_Wh1, lstm_b1, stateful=True),\n",
    "            TimeDropout(dropout_ratio),\n",
    "            TimeLSTM(lstm_Wx2, lstm_Wh2, lstm_b2, stateful=True),\n",
    "            TimeDropout(dropout_ratio),\n",
    "            TimeAffine(embed_W.T, affine_b)  # weight tying!!\n",
    "        ]\n",
    "        self.loss_layer = TimeSoftmaxWithLoss()\n",
    "        self.lstm_layers = [self.layers[2], self.layers[4]]\n",
    "        self.drop_layers = [self.layers[1], self.layers[3], self.layers[5]]\n",
    "\n",
    "        self.params, self.grads = [], []\n",
    "        for layer in self.layers:\n",
    "            self.params += layer.params\n",
    "            self.grads += layer.grads\n",
    "\n",
    "    def predict(self, xs, train_flg=False):\n",
    "        for layer in self.drop_layers:\n",
    "            layer.train_flg = train_flg\n",
    "\n",
    "        for layer in self.layers:\n",
    "            xs = layer.forward(xs)\n",
    "        return xs\n",
    "\n",
    "    def forward(self, xs, ts, train_flg=True):\n",
    "        score = self.predict(xs, train_flg)\n",
    "        loss = self.loss_layer.forward(score, ts)\n",
    "        return loss\n",
    "\n",
    "    def backward(self, dout=1):\n",
    "        dout = self.loss_layer.backward(dout)\n",
    "        for layer in reversed(self.layers):\n",
    "            dout = layer.backward(dout)\n",
    "        return dout\n",
    "\n",
    "    def reset_state(self):\n",
    "        for layer in self.lstm_layers:\n",
    "            layer.reset_state()"
   ]
  },
  {
   "cell_type": "markdown",
   "id": "ca37184b-ab62-4397-981b-666ffbde261f",
   "metadata": {},
   "source": [
    "#### 実行"
   ]
  },
  {
   "cell_type": "markdown",
   "id": "3ca4e83d-e7ed-49df-9666-7b2bdf301035",
   "metadata": {},
   "source": [
    "##### データの準備"
   ]
  },
  {
   "cell_type": "code",
   "execution_count": null,
   "id": "f5b16638-f744-4c81-8bc5-8fb1930b07d5",
   "metadata": {},
   "outputs": [],
   "source": [
    "# SimpleLstmlmのデータを流用"
   ]
  },
  {
   "cell_type": "markdown",
   "id": "bebae1ee-d41b-4e81-92ae-f887bd515b30",
   "metadata": {},
   "source": [
    "##### 学習と評価"
   ]
  },
  {
   "cell_type": "code",
   "execution_count": null,
   "id": "26deb093-4ee9-452f-814a-685ae2d871ab",
   "metadata": {},
   "outputs": [],
   "source": [
    "# SimpleLstmlmのハイパーパラメタを流用"
   ]
  },
  {
   "cell_type": "markdown",
   "id": "d833de14-2f2f-4fd2-8b33-c3db4a9d85b1",
   "metadata": {},
   "source": [
    "###### train_custom_loop"
   ]
  },
  {
   "cell_type": "code",
   "execution_count": null,
   "id": "47c86b5b-e3f2-4b7c-a635-b8f0c51890c8",
   "metadata": {},
   "outputs": [],
   "source": [
    "from nekozame.common.optimizer import SGD\n",
    "\n",
    "# 学習時に使用する変数\n",
    "data_size = len(xs)\n",
    "max_iters = data_size // (batch_size * time_size)\n",
    "time_idx = 0\n",
    "total_loss = 0\n",
    "loss_count = 0\n",
    "ppl_list = []\n",
    "\n",
    "# ミニバッチの開始位置を計算\n",
    "jump = data_size // batch_size # 間隔\n",
    "offsets = [n * jump for n in range(batch_size)] # インデックス\n",
    "\n",
    "# 最適化手法のインスタンスを作成\n",
    "optimizer = SGD(lr)\n",
    "\n",
    "# モデルの生成\n",
    "model = BetterLstmlm(vocab_size, wordvec_size, hidden_size)\n",
    "\n",
    "# エポックごとに学習\n",
    "for epoch in range(max_epoch):\n",
    "    for iter in range(max_iters):\n",
    "        \n",
    "        # ミニバッチを取得\n",
    "        batch_x = np.empty((batch_size, time_size), dtype='i')\n",
    "        batch_t = np.empty((batch_size, time_size), dtype='i')\n",
    "        for t in range(time_size):\n",
    "            for i, offset in enumerate(offsets):\n",
    "                batch_x[i, t] = xs[(offset + time_idx) % data_size]\n",
    "                batch_t[i, t] = ts[(offset + time_idx) % data_size]\n",
    "            time_idx += 1 # カウント\n",
    "        \n",
    "        # 損失を計算\n",
    "        loss = model.forward(batch_x, batch_t)\n",
    "        \n",
    "        # 勾配を計算\n",
    "        model.backward()\n",
    "        \n",
    "        # パラメータを更新\n",
    "        optimizer.update(model.params, model.grads)\n",
    "        \n",
    "        # 平均損失計算用に加算\n",
    "        total_loss += loss\n",
    "        loss_count += 1\n",
    "    \n",
    "    # パープレキシティを計算\n",
    "    ppl = np.exp(total_loss / loss_count)\n",
    "    print(\n",
    "        '| eploch ' + str(epoch + 1) + ' | perplexity: ' + str(np.round(ppl, 2))\n",
    "    )\n",
    "    ppl_list.append(float(ppl)) # 結果を記録\n",
    "    total_loss, loss_count = 0, 0 # カウントを初期化"
   ]
  },
  {
   "cell_type": "code",
   "execution_count": null,
   "id": "093c3e29-d6a0-4a79-b5d6-dfb7ed01437d",
   "metadata": {},
   "outputs": [],
   "source": [
    "# グラフの描画\n",
    "plt.plot(np.arange(1, len(ppl_list) + 1), ppl_list)\n",
    "plt.title('Simple LSTMLM', fontsize=20)\n",
    "plt.xlabel('epoch')\n",
    "plt.ylabel('perplexity')\n",
    "plt.show()"
   ]
  },
  {
   "cell_type": "markdown",
   "id": "19d2bdaf-bf05-4e28-9001-36506d74330d",
   "metadata": {},
   "source": [
    "###### train\n",
    "上記のコードをRnnlmTrainerに置き換えたバージョン"
   ]
  },
  {
   "cell_type": "code",
   "execution_count": null,
   "id": "8d23d889-8ad7-4f19-b503-9c4c50f26682",
   "metadata": {},
   "outputs": [],
   "source": [
    "from nekozame.common.optimizer import SGD\n",
    "from nekozame.common.trainer import RnnlmTrainer\n",
    "from nekozame.common.util import eval_perplexity\n",
    "\n",
    "# 学習時に使用する変数\n",
    "data_size = len(xs)\n",
    "max_iters = data_size // (batch_size * time_size)\n",
    "time_idx = 0\n",
    "total_loss = 0\n",
    "loss_count = 0\n",
    "ppl_list = []\n",
    "\n",
    "# 勾配クリッピングを適用して学習\n",
    "max_grad = 0.25\n",
    "            \n",
    "# モデルの生成\n",
    "model = BetterLstmlm(vocab_size, wordvec_size, hidden_size)\n",
    "trainer = RnnlmTrainer(model, SGD(lr))\n",
    "\n",
    "# 勾配クリッピングを適用して学習\n",
    "trainer.fit(xs, ts, max_epoch, batch_size, time_size, max_grad, eval_interval=20)\n",
    "trainer.plot(ylim=(0, 500))\n",
    "\n",
    "# テストデータで評価\n",
    "model.reset_state()\n",
    "ppl_test = eval_perplexity(model, corpus_test)\n",
    "print('test perplexity: ', ppl_test)\n",
    "\n",
    "# パラメータの保存\n",
    "model.save_params()"
   ]
  },
  {
   "cell_type": "markdown",
   "id": "42466273-3a3c-48a1-a7f1-ac9848e42f9e",
   "metadata": {},
   "source": [
    "### LSTMを使用した言語モデルで次単語予測の文書生成"
   ]
  },
  {
   "cell_type": "markdown",
   "id": "59a19749-2b36-4b01-a406-f1cb3abd5495",
   "metadata": {},
   "source": [
    "#### 定義"
   ]
  },
  {
   "cell_type": "markdown",
   "id": "6236201c-ea92-415e-9a2b-c2a87095557d",
   "metadata": {},
   "source": [
    "##### SimpleLstmlmGen"
   ]
  },
  {
   "cell_type": "code",
   "execution_count": null,
   "id": "e128ce5a-c138-4521-a7f9-c256fdf65972",
   "metadata": {},
   "outputs": [],
   "source": [
    "class SimpleLstmlmGen(SimpleLstmlm):\n",
    "    def generate(self, start_id, skip_ids=None, sample_size=100):\n",
    "        word_ids = [start_id]\n",
    "\n",
    "        x = start_id\n",
    "        while len(word_ids) < sample_size:\n",
    "            x = np.array(x).reshape(1, 1)\n",
    "            score = self.predict(x)\n",
    "            p = softmax(score.flatten())\n",
    "\n",
    "            # 確率分布 p に従ってサンプリング\n",
    "            sampled = np.random.choice(len(p), size=1, p=p)\n",
    "            \n",
    "            # 前処理された単語をスキップする\n",
    "            if (skip_ids is None) or (sampled not in skip_ids):\n",
    "                x = sampled\n",
    "                word_ids.append(int(x))\n",
    "\n",
    "        return word_ids\n",
    "\n",
    "    def get_state(self):\n",
    "        return self.lstm_layer.h, self.lstm_layer.c\n",
    "\n",
    "    def set_state(self, state):\n",
    "        self.lstm_layer.set_state(*state)"
   ]
  },
  {
   "cell_type": "markdown",
   "id": "80b64d9d-bf44-407b-b0e1-7f1a5fb56de8",
   "metadata": {},
   "source": [
    "##### BetterLstmlmGen"
   ]
  },
  {
   "cell_type": "code",
   "execution_count": null,
   "id": "13bc389d-7919-4872-8262-ecf9dd0cfec1",
   "metadata": {},
   "outputs": [],
   "source": [
    "class BetterLstmlmGen(BetterLstmlm):\n",
    "    def generate(self, start_id, skip_ids=None, sample_size=100):\n",
    "        word_ids = [start_id]\n",
    "\n",
    "        x = start_id\n",
    "        while len(word_ids) < sample_size:\n",
    "            x = np.array(x).reshape(1, 1)\n",
    "            score = self.predict(x).flatten()\n",
    "            p = softmax(score).flatten()\n",
    "\n",
    "            # 確率分布 p に従ってサンプリング\n",
    "            sampled = np.random.choice(len(p), size=1, p=p)\n",
    "            \n",
    "            # 前処理された単語をスキップする\n",
    "            if (skip_ids is None) or (sampled not in skip_ids):\n",
    "                x = sampled\n",
    "                word_ids.append(int(x))\n",
    "\n",
    "        return word_ids\n",
    "\n",
    "    def get_state(self):\n",
    "        states = []\n",
    "        for layer in self.lstm_layers:\n",
    "            states.append((layer.h, layer.c))\n",
    "        return states\n",
    "\n",
    "    def set_state(self, states):\n",
    "        for layer, state in zip(self.lstm_layers, states):\n",
    "            layer.set_state(*state)"
   ]
  },
  {
   "cell_type": "markdown",
   "id": "dcab4811-f836-406d-baa5-929f19718713",
   "metadata": {},
   "source": [
    "#### 実行"
   ]
  },
  {
   "cell_type": "markdown",
   "id": "b76764df-ee0c-4a4d-b900-86a46e415a14",
   "metadata": {},
   "source": [
    "##### SimpleLstmlmGen"
   ]
  },
  {
   "cell_type": "code",
   "execution_count": null,
   "id": "dbe8ae9f-1b1b-404e-86b3-24dd4a59ce10",
   "metadata": {},
   "outputs": [],
   "source": [
    "from nekozame.dataset import ptb\n",
    "\n",
    "corpus, word_to_id, id_to_word = ptb.load_data('train')\n",
    "vocab_size = len(word_to_id)\n",
    "corpus_size = len(corpus)\n",
    "\n",
    "model = SimpleLstmlmGen()\n",
    "model.load_params('../work/Lstmlm.pkl')\n",
    "\n",
    "# start文字とskip文字の設定\n",
    "start_word = 'you'\n",
    "start_id = word_to_id[start_word]\n",
    "skip_words = ['N', '<unk>', '$']\n",
    "skip_ids = [word_to_id[w] for w in skip_words]\n",
    "# 文章生成\n",
    "word_ids = model.generate(start_id, skip_ids)\n",
    "txt = ' '.join([id_to_word[i] for i in word_ids])\n",
    "txt = txt.replace(' <eos>', '.\\n')\n",
    "print(txt)"
   ]
  },
  {
   "cell_type": "markdown",
   "id": "b58559ae-36e0-4b1d-a0a9-31686d33752d",
   "metadata": {},
   "source": [
    "##### BetterLstmlmGen"
   ]
  },
  {
   "cell_type": "code",
   "execution_count": null,
   "id": "771c1cab-6cd1-427f-8e3c-acd48fc1d3d9",
   "metadata": {},
   "outputs": [],
   "source": [
    "from nekozame.dataset import ptb\n",
    "\n",
    "corpus, word_to_id, id_to_word = ptb.load_data('train')\n",
    "vocab_size = len(word_to_id)\n",
    "corpus_size = len(corpus)\n",
    "\n",
    "model = BetterLstmlmGen()\n",
    "model.load_params('../work/BetterLstmlm.pkl')\n",
    "\n",
    "# start文字とskip文字の設定\n",
    "start_word = 'you'\n",
    "start_id = word_to_id[start_word]\n",
    "skip_words = ['N', '<unk>', '$']\n",
    "skip_ids = [word_to_id[w] for w in skip_words]\n",
    "# 文章生成\n",
    "word_ids = model.generate(start_id, skip_ids)\n",
    "txt = ' '.join([id_to_word[i] for i in word_ids])\n",
    "txt = txt.replace(' <eos>', '.\\n')\n",
    "print(txt)"
   ]
  }
 ],
 "metadata": {
  "kernelspec": {
   "display_name": "Python 3 (ipykernel)",
   "language": "python",
   "name": "python3"
  },
  "language_info": {
   "codemirror_mode": {
    "name": "ipython",
    "version": 3
   },
   "file_extension": ".py",
   "mimetype": "text/x-python",
   "name": "python",
   "nbconvert_exporter": "python",
   "pygments_lexer": "ipython3",
   "version": "3.10.6"
  }
 },
 "nbformat": 4,
 "nbformat_minor": 5
}
