{
 "cells": [
  {
   "cell_type": "markdown",
   "id": "4fe59fb7-e68d-4e4b-8901-5902d5343ed8",
   "metadata": {},
   "source": [
    "# scikit-learnのトレーニング♨\n",
    "\n",
    "## RNN 編\n",
    "- [環境準備](#環境準備)\n",
    "- [RNNアルゴリズム・モデル](#RNNアルゴリズム・モデル)\n",
    "  - [時系列予測](#時系列予測)\n",
    "  - [...](#...)\n",
    "\n",
    "## [目次](TableOfContents.ipynb)\n",
    "\n",
    "## 参考\n",
    "開発基盤部会 Wiki\n",
    "- データマイニング（DM）- Python - DL  \n",
    "https://dotnetdevelopmentinfrastructure.osscons.jp/index.php?%E3%83%87%E3%83%BC%E3%82%BF%E3%83%9E%E3%82%A4%E3%83%8B%E3%83%B3%E3%82%B0%EF%BC%88DM%EF%BC%89-%20Python%20-%20DL"
   ]
  },
  {
   "cell_type": "markdown",
   "id": "d48958bb-e085-40a2-a6e1-f00c80080d20",
   "metadata": {},
   "source": [
    "## 環境準備"
   ]
  },
  {
   "cell_type": "code",
   "execution_count": null,
   "id": "b99bd442-2c0f-4337-901e-c3a2c51fb899",
   "metadata": {},
   "outputs": [],
   "source": [
    "import io\n",
    "import requests\n",
    "\n",
    "import pandas as pd\n",
    "import numpy as np\n",
    "import matplotlib.pyplot as plt\n",
    "\n",
    "from sklearn import metrics\n",
    "from sklearn.metrics import confusion_matrix as cm\n",
    "from sklearn.model_selection import train_test_split\n",
    "\n",
    "import tensorflow as tf\n",
    "from tensorflow.keras.layers import BatchNormalization\n",
    "print(tf.__version__)\n",
    "\n",
    "import keras\n",
    "print(keras.__version__)\n",
    "# モデル定義\n",
    "from keras.models import Model, Sequential, model_from_json\n",
    "from keras.layers import Dense, Input, Activation, Flatten, Dropout, LSTM\n",
    "from keras.layers.convolutional import Conv2D\n",
    "from keras.layers.pooling import MaxPool2D\n",
    "from keras.callbacks import EarlyStopping, ModelCheckpoint\n",
    "from keras import optimizers\n",
    "from keras.optimizers import SGD, Adam\n",
    "# その他\n",
    "from keras.applications.vgg16 import VGG16\n",
    "from keras.utils import np_utils\n",
    "\n",
    "import warnings\n",
    "warnings.filterwarnings('ignore')\n",
    "%matplotlib inline"
   ]
  },
  {
   "cell_type": "markdown",
   "id": "38fdcdf7-6606-497e-a1a6-659d22a81811",
   "metadata": {},
   "source": [
    "## RNNアルゴリズム・モデル"
   ]
  },
  {
   "cell_type": "markdown",
   "id": "80bbb63a-a2db-421c-b9c9-4b549b060e19",
   "metadata": {},
   "source": [
    "### 時系列予測"
   ]
  },
  {
   "cell_type": "markdown",
   "id": "5ffd4ae8-618d-4234-8859-3caa7e4692b8",
   "metadata": {},
   "source": [
    "#### データ"
   ]
  },
  {
   "cell_type": "markdown",
   "id": "e41664a2-d36c-4944-9196-9b3406e08d4a",
   "metadata": {},
   "source": [
    "##### 生成"
   ]
  },
  {
   "cell_type": "code",
   "execution_count": null,
   "id": "fc364b7b-c105-4beb-b8ae-d2ab1b830540",
   "metadata": {},
   "outputs": [],
   "source": [
    "proxies = { # プロキシ設定\n",
    "\"http\":\"http://<user_name>:<password>@<proxy_host>:<proxy_port>/\",\n",
    "\"https\":\"https://<user_name>:<password>@<proxy_host>:<proxy_port>/\"\n",
    "}\n",
    "\n",
    "url = 'https://raw.githubusercontent.com/AileenNielsen/TimeSeriesAnalysisWithPython/master/data/AirPassengers.csv'\n",
    "res = requests.get(url) # , verify=False, proxies=proxies) # プロキシ\n",
    "df = pd.read_csv(io.BytesIO(res.content), encoding='shift-jis', sep=\",\")\n",
    "df"
   ]
  },
  {
   "cell_type": "markdown",
   "id": "78f92565-4a37-4377-ac2c-5ebe14bf2b9e",
   "metadata": {},
   "source": [
    "##### 加工"
   ]
  },
  {
   "cell_type": "markdown",
   "id": "6bd1b083-1998-4bd4-aa8d-d1a6b620373a",
   "metadata": {},
   "source": [
    "##### 理解"
   ]
  },
  {
   "cell_type": "markdown",
   "id": "21d97fa8-1883-4e1c-8df8-be15ba015745",
   "metadata": {},
   "source": [
    "###### 先頭"
   ]
  },
  {
   "cell_type": "code",
   "execution_count": null,
   "id": "b9b0d543-591b-4690-b291-36b0cb00d22e",
   "metadata": {},
   "outputs": [],
   "source": [
    "df.head()"
   ]
  },
  {
   "cell_type": "markdown",
   "id": "22ff953c-5f62-424c-a680-ab249ab13b74",
   "metadata": {},
   "source": [
    "###### 後尾"
   ]
  },
  {
   "cell_type": "code",
   "execution_count": null,
   "id": "77c1afd2-be2c-4dc2-bf4a-14041b089f14",
   "metadata": {},
   "outputs": [],
   "source": [
    "df.tail()"
   ]
  },
  {
   "cell_type": "markdown",
   "id": "cd611fd2-601e-4f03-92e0-a0b3d5c98e76",
   "metadata": {},
   "source": [
    "###### 列名変更"
   ]
  },
  {
   "cell_type": "code",
   "execution_count": null,
   "id": "6ea707fa-293d-4127-bdc9-320c0e8419a4",
   "metadata": {},
   "outputs": [],
   "source": [
    "df.columns = ['Month', 'Passengers']"
   ]
  },
  {
   "cell_type": "markdown",
   "id": "88273f1b-63b0-48bb-ade0-9b8f47bd0438",
   "metadata": {},
   "source": [
    "###### 可視化"
   ]
  },
  {
   "cell_type": "code",
   "execution_count": null,
   "id": "fd65ae4a-bfc5-4e91-8b8f-71a6d9ed7767",
   "metadata": {},
   "outputs": [],
   "source": [
    "plt.plot(df['Passengers'])\n",
    "plt.xticks(np.arange(0, 145, 12))\n",
    "plt.grid()\n",
    "plt.show()"
   ]
  },
  {
   "cell_type": "markdown",
   "id": "4efb0d4c-bcaf-4b17-a240-2129e6367487",
   "metadata": {},
   "source": [
    "###### 基本成分に分解\n",
    "グラフの上から\n",
    "- Observed : 原系列  \n",
    "元データのプロット\n",
    "- Trend : 傾向変動  \n",
    "全体的な変化の傾向\n",
    "- seasonal : 季節変動  \n",
    "周期的に繰り返す変動\n",
    "- residual : 不規則変動 (残差)  \n",
    "トレンドと季節性を除いたその他変動成分\n",
    "\n",
    "に分解する（[参考](https://dotnetdevelopmentinfrastructure.osscons.jp/index.php?%E3%83%8B%E3%83%A5%E3%83%BC%E3%83%A9%E3%83%AB%E3%83%8D%E3%83%83%E3%83%88%E3%83%AF%E3%83%BC%E3%82%AF#y11573fa)）。"
   ]
  },
  {
   "cell_type": "code",
   "execution_count": null,
   "id": "b5443ceb-4fa4-44d2-89e5-115b9e8a85c7",
   "metadata": {},
   "outputs": [],
   "source": [
    "from statsmodels.tsa.seasonal import seasonal_decompose\n",
    "sd = seasonal_decompose(df['Passengers'].values, period=12) # periodで周期を指定\n",
    "sd.plot()\n",
    "plt.show()"
   ]
  },
  {
   "cell_type": "markdown",
   "id": "491681f6-a23f-444a-8671-39c5e02753ad",
   "metadata": {},
   "source": [
    "##### 準備"
   ]
  },
  {
   "cell_type": "markdown",
   "id": "7b459607-7f8f-4e33-9f48-ffb26478415d",
   "metadata": {},
   "source": [
    "###### 型変換\n",
    "Kerasが扱える型に変換"
   ]
  },
  {
   "cell_type": "code",
   "execution_count": null,
   "id": "a4b6b0bc-aa8f-459b-af1e-681e922f4eec",
   "metadata": {},
   "outputs": [],
   "source": [
    "data = df['Passengers'].values.astype('f')\n",
    "data"
   ]
  },
  {
   "cell_type": "markdown",
   "id": "18690dd3-be07-459a-a826-27627e1c440f",
   "metadata": {},
   "source": [
    "###### 正規化\n",
    "- しないと上手く学習できない。\n",
    "- X・Yともに正規化するので、推論結果はscaleを掛けて戻す。"
   ]
  },
  {
   "cell_type": "code",
   "execution_count": null,
   "id": "4c7fedd4-caa4-4d16-ada2-967deda845a7",
   "metadata": {},
   "outputs": [],
   "source": [
    "scale = data.max()\n",
    "data /= scale"
   ]
  },
  {
   "cell_type": "markdown",
   "id": "f26ffd19-a876-4e03-b088-187523a6af92",
   "metadata": {},
   "source": [
    "###### 説明系列と目的系列、訓練データの作成\n",
    "このケースでは説明系列 ≒ 目的系列（-> [詳細はコチラ](https://dotnetdevelopmentinfrastructure.osscons.jp/index.php?%E3%83%8B%E3%83%A5%E3%83%BC%E3%83%A9%E3%83%AB%E3%83%8D%E3%83%83%E3%83%88%E3%83%AF%E3%83%BC%E3%82%AF#pafaec18)）"
   ]
  },
  {
   "cell_type": "code",
   "execution_count": null,
   "id": "719b98d9-474b-4748-adc2-26b0a369e134",
   "metadata": {},
   "outputs": [],
   "source": [
    "# dataは、0-143\n",
    "x = data[:-1] # 0-142\n",
    "y = data[1:]  # 1-143\n",
    "print('x:',len(x))\n",
    "print('y:', len(y))\n",
    "print('x:', x[:5])\n",
    "print('y:', y[:5])"
   ]
  },
  {
   "cell_type": "markdown",
   "id": "aea09372-7b65-4b75-ac27-060dc1c9d47f",
   "metadata": {},
   "source": [
    "###### shape変換\n",
    "Kerasの時系列解析用にshape変換\n",
    "- x : 説明系列の配列（複数の説明系列）の配列（バッチ）の可能性で３次元\n",
    "- y : 目的系列の配列（バッチ）の可能性で２次元"
   ]
  },
  {
   "cell_type": "code",
   "execution_count": null,
   "id": "58590811-2418-49cb-b21c-9b41a9fce282",
   "metadata": {},
   "outputs": [],
   "source": [
    "print('x:', np.shape(x), ' y:', np.shape(y))\n",
    "x = x.reshape(len(x), 1, 1)\n",
    "y = y.reshape(len(y), 1)\n",
    "print('x:', np.shape(x), ' y:', np.shape(y))\n",
    "print('x:', x[:3])\n",
    "print('y:', y[:3])"
   ]
  },
  {
   "cell_type": "markdown",
   "id": "cf7c75d2-a310-4848-9b92-d019d723edb2",
   "metadata": {},
   "source": [
    "###### 分割\n",
    "時系列を維持して訓練・テストのデータ分割（-> [詳細はコチラ](https://dotnetdevelopmentinfrastructure.osscons.jp/index.php?%E3%83%8B%E3%83%A5%E3%83%BC%E3%83%A9%E3%83%AB%E3%83%8D%E3%83%83%E3%83%88%E3%83%AF%E3%83%BC%E3%82%AF#af105024)）"
   ]
  },
  {
   "cell_type": "code",
   "execution_count": null,
   "id": "e3ba9bcc-4318-4fba-8a80-7d5a530f132c",
   "metadata": {},
   "outputs": [],
   "source": [
    "# 訓練データのサンプル数を指定\n",
    "train_size = int(len(data) * 0.7)\n",
    "# データの分割\n",
    "x_train = x[:train_size]\n",
    "x_test = x[train_size:]\n",
    "y_train = y[:train_size]\n",
    "y_test = y[train_size:]\n",
    "# shapeを確認\n",
    "print('x_train:', x_train.shape)\n",
    "print('x_test :', x_test.shape)\n",
    "print('y_train:', y_train.shape)\n",
    "print('y_test :', y_test.shape)"
   ]
  },
  {
   "cell_type": "markdown",
   "id": "6906b0fc-0b12-4442-8935-53140ad75c1f",
   "metadata": {},
   "source": [
    "#### モデリング"
   ]
  },
  {
   "cell_type": "markdown",
   "id": "037bacdb-ac7a-4aec-a754-1bd0896642ec",
   "metadata": {},
   "source": [
    "##### LSTMの定義\n",
    "- 30ユニットのLSTMの層 ＋ Denseレイヤ = 1つの値を予測\n",
    "- LSTM（units, batch_input_shape=batch_size, time_step, input_dim））\n",
    "  - units: 中間層のノード数（中間層の出力次元数）\n",
    "  - batch_input_shape: 入力するデータの形状を指定\n",
    "    - バッチサイズ\n",
    "    - 予測のタイムステップ\n",
    "    - 入力の次元（特徴量（説明系列）の数）"
   ]
  },
  {
   "cell_type": "code",
   "execution_count": null,
   "id": "9133c875-340c-428a-811a-d0da6186d87e",
   "metadata": {},
   "outputs": [],
   "source": [
    "model = Sequential()\n",
    "model.add(LSTM(30, batch_input_shape=(None, 1, 1))) # 中間層が30のLSTM\n",
    "model.add(Dense(1)) # 回帰なので最後の出力値は１つ"
   ]
  },
  {
   "cell_type": "markdown",
   "id": "5efe43bb-cd2b-4333-b753-70df73f0a5eb",
   "metadata": {},
   "source": [
    "##### コンパイル\n",
    "- 回帰の損失関数は誤差二乗和（mse ≒ mean_squared_error）\n",
    "- [optimizer=Adam](TensorFlowAndKeras0.ipynb)を指定する。"
   ]
  },
  {
   "cell_type": "code",
   "execution_count": null,
   "id": "2e13e08a-a242-449c-b0c2-aa757be55e22",
   "metadata": {},
   "outputs": [],
   "source": [
    "model.compile(loss='mean_squared_error', optimizer=Adam())"
   ]
  },
  {
   "cell_type": "markdown",
   "id": "20174a3b-0120-44de-99af-273ec0e82597",
   "metadata": {},
   "source": [
    "##### 確認"
   ]
  },
  {
   "cell_type": "code",
   "execution_count": null,
   "id": "176c1d76-4f04-471e-b891-fbc5c12c5988",
   "metadata": {},
   "outputs": [],
   "source": [
    "model.summary()"
   ]
  },
  {
   "cell_type": "markdown",
   "id": "06557833-305f-42b6-b1e9-6b7108113277",
   "metadata": {},
   "source": [
    "##### 実行"
   ]
  },
  {
   "cell_type": "markdown",
   "id": "14d36cb8-9de3-483f-b688-6cfbc59106a1",
   "metadata": {},
   "source": [
    "###### 学習"
   ]
  },
  {
   "cell_type": "code",
   "execution_count": null,
   "id": "140b8def-5681-4d0b-b551-e34e7607cd29",
   "metadata": {},
   "outputs": [],
   "source": [
    "batch_size = 20\n",
    "n_epoch = 200\n",
    "hist = model.fit(x_train,\n",
    "                 y_train,\n",
    "                 epochs=n_epoch,\n",
    "                 validation_data=(x_test, y_test),\n",
    "                 verbose=0,\n",
    "                 batch_size=batch_size)"
   ]
  },
  {
   "cell_type": "markdown",
   "id": "ad64dde1-aa02-4a79-b46f-1b3067c9e8cd",
   "metadata": {},
   "source": [
    "###### 推論"
   ]
  },
  {
   "cell_type": "code",
   "execution_count": null,
   "id": "736e50ca-60b4-42ab-aa60-95fbbb332dfd",
   "metadata": {},
   "outputs": [],
   "source": [
    "y_pred = model.predict(x)"
   ]
  },
  {
   "cell_type": "code",
   "execution_count": null,
   "id": "5e5bc9fa-1fdd-46ac-8288-0fe85455a01d",
   "metadata": {},
   "outputs": [],
   "source": [
    "# 出力の正規化を戻す関数\n",
    "def pred_n_passengers(y_pred, scale, year, month):\n",
    "    index = ((year - 1949) * 12) + (month - 1) # 1949/1からのデータ\n",
    "    return y_pred[index] * scale # 正規化した値を元に戻す。"
   ]
  },
  {
   "cell_type": "code",
   "execution_count": null,
   "id": "e95e5448-1259-4375-9013-436134fe4044",
   "metadata": {},
   "outputs": [],
   "source": [
    "# 試しに､1960年4月の乗客数を予測\n",
    "year = 1960\n",
    "month = 4\n",
    "print(\"org : \", data[((year - 1949) * 12) + (month - 1)] * scale)\n",
    "print(\"pred: \", pred_n_passengers(y_pred, scale, year, month))"
   ]
  },
  {
   "cell_type": "markdown",
   "id": "035eb880-e9a5-4329-9183-d0b77f226312",
   "metadata": {
    "tags": []
   },
   "source": [
    "##### 評価\n",
    "回帰なので正答率は出力しない。"
   ]
  },
  {
   "cell_type": "markdown",
   "id": "0c8df5d0-8edd-419b-b1f2-962aa18f11f6",
   "metadata": {},
   "source": [
    "###### 実測・予測を表示"
   ]
  },
  {
   "cell_type": "code",
   "execution_count": null,
   "id": "6e459097-2787-4d02-8f98-7aa1c0635b96",
   "metadata": {},
   "outputs": [],
   "source": [
    "plt.plot(data, color='blue')  # 実測値\n",
    "plt.plot(y_pred, color='red')   # 予測値\n",
    "plt.show()"
   ]
  },
  {
   "cell_type": "markdown",
   "id": "d4a68427-f1f6-465f-9d4e-a675367ddc5e",
   "metadata": {},
   "source": [
    "###### 学習履歴を表示"
   ]
  },
  {
   "cell_type": "code",
   "execution_count": null,
   "id": "29b67e84-a58e-4f25-864b-a375f6adcb9d",
   "metadata": {},
   "outputs": [],
   "source": [
    "def plot_history_loss(hist):\n",
    "    plt.plot(hist.history['loss'],label=\"loss for training\")\n",
    "    plt.plot(hist.history['val_loss'],label=\"loss for validation\")\n",
    "    plt.title('model loss')\n",
    "    plt.xlabel('epoch')\n",
    "    plt.ylabel('loss')\n",
    "    plt.legend(loc='best')\n",
    "    plt.show()"
   ]
  },
  {
   "cell_type": "code",
   "execution_count": null,
   "id": "dc9b05f2-1295-4600-86d6-f8d423344fc3",
   "metadata": {},
   "outputs": [],
   "source": [
    "plot_history_loss(hist)"
   ]
  },
  {
   "cell_type": "markdown",
   "id": "e97b2fa6-74b2-45de-99fa-7d87bda1f741",
   "metadata": {},
   "source": [
    "### ..."
   ]
  }
 ],
 "metadata": {
  "kernelspec": {
   "display_name": "Python 3 (ipykernel)",
   "language": "python",
   "name": "python3"
  },
  "language_info": {
   "codemirror_mode": {
    "name": "ipython",
    "version": 3
   },
   "file_extension": ".py",
   "mimetype": "text/x-python",
   "name": "python",
   "nbconvert_exporter": "python",
   "pygments_lexer": "ipython3",
   "version": "3.10.4"
  }
 },
 "nbformat": 4,
 "nbformat_minor": 5
}
