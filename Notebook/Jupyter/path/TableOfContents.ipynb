{
 "cells": [
  {
   "cell_type": "markdown",
   "id": "3d64e3da-9c45-4a4a-8657-1ec4c6b0922d",
   "metadata": {},
   "source": [
    "# データサイエンス系 目次"
   ]
  },
  {
   "cell_type": "markdown",
   "id": "b4e3248e-95a9-43aa-9883-5c0ce7cc99b5",
   "metadata": {
    "tags": []
   },
   "source": [
    "## 基礎"
   ]
  },
  {
   "cell_type": "markdown",
   "id": "1494bfaa-4509-4f00-a65a-7b432c061e37",
   "metadata": {
    "tags": []
   },
   "source": [
    "### Python"
   ]
  },
  {
   "cell_type": "markdown",
   "id": "ae7241f4-94d8-490b-8c62-c3eb58bd49d3",
   "metadata": {
    "tags": []
   },
   "source": [
    "#### [基礎](PythonTraining.ipynb)"
   ]
  },
  {
   "cell_type": "markdown",
   "id": "e9e193e0-797f-4dbf-9417-2a28d287282f",
   "metadata": {
    "tags": []
   },
   "source": [
    "### NumPy"
   ]
  },
  {
   "cell_type": "markdown",
   "id": "9e34a92c-4fbd-49de-8c71-907372f5c18c",
   "metadata": {},
   "source": [
    "#### [配列基礎](NumPyTraining1.ipynb)"
   ]
  },
  {
   "cell_type": "markdown",
   "id": "761a8da4-5692-424a-9798-793e9b72b86b",
   "metadata": {},
   "source": [
    "#### [行列基礎](NumPyTraining2.ipynb)"
   ]
  },
  {
   "cell_type": "markdown",
   "id": "dd3c5b35-3e19-47f9-bfbd-8bffe88ee34c",
   "metadata": {},
   "source": [
    "#### [型の変換](NumPyTraining3.ipynb)"
   ]
  },
  {
   "cell_type": "markdown",
   "id": "f4b5d670-2cca-4675-be59-8398e45e38b3",
   "metadata": {
    "tags": []
   },
   "source": [
    "### Pandas"
   ]
  },
  {
   "cell_type": "markdown",
   "id": "eef137c8-bd64-4d34-9be6-06b01bfe2e2a",
   "metadata": {},
   "source": [
    "#### [基礎](PandasTraining.ipynb)"
   ]
  },
  {
   "cell_type": "markdown",
   "id": "b4c2dbd5-cfd2-4ae2-b530-aa787efdbec9",
   "metadata": {
    "tags": []
   },
   "source": [
    "### Matplotlib"
   ]
  },
  {
   "cell_type": "markdown",
   "id": "6d66fe51-b174-44e5-85d3-30adaab10968",
   "metadata": {},
   "source": [
    "#### [基礎](MatplotlibTraining.ipynb)"
   ]
  },
  {
   "cell_type": "markdown",
   "id": "15fcaefa-b1c4-40f4-92e7-a695933b9f02",
   "metadata": {
    "tags": []
   },
   "source": [
    "## 機械学習"
   ]
  },
  {
   "cell_type": "markdown",
   "id": "a082702a-8959-49a9-b663-69d502eed923",
   "metadata": {
    "tags": []
   },
   "source": [
    "### scikit-learn"
   ]
  },
  {
   "cell_type": "markdown",
   "id": "21cae436-8bff-44e5-9047-6fb8535a03ab",
   "metadata": {},
   "source": [
    "#### [環境準備、共通的データ処理](ScikitLearnTraining0.ipynb)\n",
    "- 環境準備\n",
    "- 共通的データ処理"
   ]
  },
  {
   "cell_type": "markdown",
   "id": "f2eb1caa-e6bb-4c77-a14e-6d2e937e4222",
   "metadata": {},
   "source": [
    "#### [単回帰、重回帰分析](ScikitLearnTraining1.ipynb)\n",
    "- 単回帰分析\n",
    "- 重回帰分析"
   ]
  },
  {
   "cell_type": "markdown",
   "id": "b20f9599-c57a-4689-a669-bcff994d5bab",
   "metadata": {},
   "source": [
    "#### [多項式回帰、正則化回帰分析](ScikitLearnTraining2.ipynb)\n",
    "- 多項式回帰分析\n",
    "- 正則化回帰分析"
   ]
  },
  {
   "cell_type": "markdown",
   "id": "dfda84e6-a988-48e1-abe5-3d147773de4e",
   "metadata": {},
   "source": [
    "#### [様々な分類器（PPN、SVM、DTL、LRA）](ScikitLearnTraining3.ipynb)\n",
    "- PPN: パーセプトロン\n",
    "- SVM: サポートベクターマシン\n",
    "- DTL: 決定木（分類木）\n",
    "- LRA: ロジスティクス回帰"
   ]
  },
  {
   "cell_type": "markdown",
   "id": "f6afed76-f952-4738-9d22-d40739f2809e",
   "metadata": {},
   "source": [
    "#### [主成分分析、クラスタ分析](ScikitLearnTraining4.ipynb)\n",
    "- 主成分分析\n",
    "- クラスタ分析"
   ]
  },
  {
   "cell_type": "markdown",
   "id": "044f12d9-9e9c-4719-a0d4-524e15fc586c",
   "metadata": {},
   "source": [
    "#### [性能の評価、チューニング 編](ScikitLearnTraining5.ipynb)\n",
    "- 分類問題の性能の評価\n",
    "- 汎化性能の評価\n",
    "- チューニング"
   ]
  },
  {
   "cell_type": "markdown",
   "id": "1c5c6788-81ba-4d85-9c57-41b0224ac008",
   "metadata": {
    "tags": []
   },
   "source": [
    "#### Kaggleチュートリアル 編\n",
    "- [タイタニック生存者予測](ScikitLearnTraining6.ipynb)\n",
    "- [住宅価格予測](ScikitLearnTraining7.ipynb)"
   ]
  },
  {
   "cell_type": "markdown",
   "id": "7883333d-e53d-47eb-b83c-4afb3c8ea3b4",
   "metadata": {
    "tags": []
   },
   "source": [
    "## 深層学習"
   ]
  },
  {
   "cell_type": "markdown",
   "id": "880d18b3-891a-40a5-89f5-7fbd0c152b7b",
   "metadata": {
    "tags": []
   },
   "source": [
    "### o'reillyのカサゴ深層学習の本"
   ]
  },
  {
   "cell_type": "markdown",
   "id": "04ffd758-6bed-4d99-9d10-fab03387e10d",
   "metadata": {},
   "source": [
    "#### ニューラルネットワーク"
   ]
  },
  {
   "cell_type": "markdown",
   "id": "4421ee58-1d5a-4e71-8c5d-82efbc4ece43",
   "metadata": {},
   "source": [
    "##### [構成要素](KasagoDL1.ipynb)\n",
    "パーセプトロンと活性化関数"
   ]
  },
  {
   "cell_type": "markdown",
   "id": "3a2d16a8-ccc1-49b8-bfc8-ce63fe00fb2a",
   "metadata": {},
   "source": [
    "##### [MINST推論と学習](KasagoDL2.ipynb)\n",
    "（ディープ）ニューラルネットワークでMINSTの画像認識の\n",
    "\n",
    "- 調整済みの重みを使用した推論と\n",
    "- 数値微分＋勾配降下法による学習を\n",
    "\n",
    "行う。"
   ]
  },
  {
   "cell_type": "markdown",
   "id": "25a4c052-7ac7-46b4-823d-456049d2dfb6",
   "metadata": {},
   "source": [
    "##### [MINST学習（誤差逆伝播）](KasagoDL3.ipynb)\n",
    "（ディープ）ニューラルネットワークでMINSTの画像認識の学習を、誤差逆伝播（バックプロパゲーション）で行う。"
   ]
  },
  {
   "cell_type": "markdown",
   "id": "f7ecc77b-c775-4022-8ed2-dd26e2e7d778",
   "metadata": {},
   "source": [
    "##### [オプション](KasagoDL4.ipynb)\n",
    "（ディープ）ニューラルネットワークの学習に関する様々なオプション。"
   ]
  },
  {
   "cell_type": "markdown",
   "id": "c3b7832d-019f-4711-9f91-10c75b248bb5",
   "metadata": {},
   "source": [
    "#### 畳込ニューラルネットワーク（CNN）"
   ]
  },
  {
   "cell_type": "markdown",
   "id": "5d2709eb-1702-488a-88b9-f4954dd7bb5b",
   "metadata": {},
   "source": [
    "##### [単純なCNN](KasagoCNN1.ipynb)"
   ]
  },
  {
   "cell_type": "markdown",
   "id": "a01668b8-12d4-42de-8111-eed3b2c07da0",
   "metadata": {
    "tags": []
   },
   "source": [
    "##### [深層のCNN](KasagoCNN2.ipynb)"
   ]
  },
  {
   "cell_type": "markdown",
   "id": "dcc3cfff-602f-4c91-89cf-a855f013b7f4",
   "metadata": {
    "tags": []
   },
   "source": [
    "### o'reillyのネゴザメ言語モデルの本"
   ]
  },
  {
   "cell_type": "markdown",
   "id": "1bd816be-acd8-4cc3-a738-787145bc2e5b",
   "metadata": {
    "jp-MarkdownHeadingCollapsed": true,
    "tags": []
   },
   "source": [
    "#### [復習](NekozameDL1.ipynb)"
   ]
  },
  {
   "cell_type": "markdown",
   "id": "e28d4207-74ba-4933-948d-4d9eacb4819e",
   "metadata": {
    "tags": []
   },
   "source": [
    "#### ベクトル化"
   ]
  },
  {
   "cell_type": "markdown",
   "id": "72816432-63eb-420b-ae5a-a74b1537f192",
   "metadata": {},
   "source": [
    "##### [カウントベースの手法](NekozameVector1.ipynb)"
   ]
  },
  {
   "cell_type": "markdown",
   "id": "3f386189-63d7-45e5-a40b-5060c959636c",
   "metadata": {},
   "source": [
    "##### [推論ベースの手法](NekozameVector2.ipynb)"
   ]
  },
  {
   "cell_type": "markdown",
   "id": "94620300-ce1a-4ff8-83fb-da357d0c9704",
   "metadata": {},
   "source": [
    "##### [推論ベース手法の高速化](NekozameVector3.ipynb)"
   ]
  },
  {
   "cell_type": "markdown",
   "id": "b6b33d35-b422-4b11-bb67-d7fd9a811284",
   "metadata": {},
   "source": [
    "#### RNN"
   ]
  },
  {
   "cell_type": "markdown",
   "id": "faee766e-86d1-46b7-8f9e-5fcd548a1574",
   "metadata": {},
   "source": [
    "##### [RNN](NekozameRNN1.ipynb)"
   ]
  },
  {
   "cell_type": "markdown",
   "id": "39010b60-caeb-4c94-9906-96acb616fc78",
   "metadata": {},
   "source": [
    "##### [LSTM](NekozameRNN2.ipynb)"
   ]
  },
  {
   "cell_type": "markdown",
   "id": "4ab00f3c-5cbe-465b-8662-be78aba244b6",
   "metadata": {},
   "source": [
    "##### [RNNEncDec](NekozameRNN3.ipynb)"
   ]
  },
  {
   "cell_type": "markdown",
   "id": "1661d21e-a8e6-46ad-886d-1359f41a9c6b",
   "metadata": {},
   "source": [
    "##### [RNNSearch](NekozameRNN4.ipynb)"
   ]
  },
  {
   "cell_type": "markdown",
   "id": "8d5bf09f-ebcb-4953-96a1-b50980b89c9a",
   "metadata": {},
   "source": [
    "### o'reillyのツノガレイ強化学習の本"
   ]
  },
  {
   "cell_type": "markdown",
   "id": "9e495383-1375-4e34-bd21-17cbfba24b30",
   "metadata": {},
   "source": [
    "#### [バンディット問題と動的計画法](PlaiceDRL1.ipynb)\n",
    "#### [モンテカルロ法とTD法](PlaiceDRL2.ipynb)\n",
    "#### [深層学習で強化学習（DQN）](PlaiceDRL3.ipynb)\n",
    "#### [深層学習で方策勾配法](PlaiceDRL4.ipynb)"
   ]
  },
  {
   "cell_type": "markdown",
   "id": "6da3d9a8-239a-4a8e-8640-7635c877cb06",
   "metadata": {
    "tags": []
   },
   "source": [
    "### TensorFlow・Keras"
   ]
  },
  {
   "cell_type": "markdown",
   "id": "c232f747-c82b-47ff-8c89-62994532e11d",
   "metadata": {},
   "source": [
    "#### [環境準備、共通処理](TensorFlowAndKeras0.ipynb)"
   ]
  },
  {
   "cell_type": "markdown",
   "id": "2e92301a-6c71-416b-83be-c1cc57b2e055",
   "metadata": {},
   "source": [
    "#### [DNN](TensorFlowAndKeras1.ipynb)"
   ]
  },
  {
   "cell_type": "markdown",
   "id": "65d3938a-6d3b-4719-a111-4e4c469aabea",
   "metadata": {},
   "source": [
    "#### [RNN](TensorFlowAndKeras2.ipynb)"
   ]
  },
  {
   "cell_type": "markdown",
   "id": "039bdbee-4651-483c-bf30-9a0ea0cbfcdd",
   "metadata": {},
   "source": [
    "#### CNN\n",
    "- [初歩的なCNN](TensorFlowAndKeras3.ipynb)\n",
    "- [ちょっと高度なCNN](TensorFlowAndKeras4.ipynb)\n",
    "- [画像の前処理](TensorFlowAndKeras5.ipynb)\n",
    "- [前処理加え２値分類を手製CNNで](TensorFlowAndKeras6.ipynb)\n",
    "- [初歩編＋転移学習・ファインチューニング](TensorFlowAndKeras7.ipynb)"
   ]
  },
  {
   "cell_type": "markdown",
   "id": "83501574-6c90-40ad-a85f-cbe51c53672a",
   "metadata": {
    "tags": []
   },
   "source": [
    "### PyTorch"
   ]
  },
  {
   "cell_type": "markdown",
   "id": "f7a8745f-58cd-4544-9d3f-d0ca79c73e0a",
   "metadata": {},
   "source": [
    "#### [環境準備、共通処理](PyTorch0.ipynb)"
   ]
  },
  {
   "cell_type": "markdown",
   "id": "ee16341b-ebc1-4991-96fe-771dd8aafe4d",
   "metadata": {},
   "source": [
    "#### DNN"
   ]
  },
  {
   "cell_type": "markdown",
   "id": "8a86d5fa-0ac1-4b5d-9867-db568c227222",
   "metadata": {},
   "source": [
    "#### RNN"
   ]
  },
  {
   "cell_type": "markdown",
   "id": "03c09ca5-105d-478b-805d-9f3fb7ed4120",
   "metadata": {},
   "source": [
    "#### [CNN](PyTorch3.ipynb)"
   ]
  },
  {
   "cell_type": "markdown",
   "id": "a9e4cb29-b0dc-4120-b8b7-f9a0b6303463",
   "metadata": {},
   "source": [
    "## 分散処理"
   ]
  },
  {
   "cell_type": "markdown",
   "id": "55531896-a69e-4927-b5c1-b147c86a3947",
   "metadata": {},
   "source": [
    "### Apache Spark"
   ]
  },
  {
   "cell_type": "markdown",
   "id": "f3b5dbf4-8d3e-43dd-819f-3f55f1e4cdfe",
   "metadata": {
    "tags": []
   },
   "source": [
    "## PPT"
   ]
  },
  {
   "cell_type": "markdown",
   "id": "5999d584-18f0-493c-9e71-c2de1a6d3824",
   "metadata": {
    "tags": []
   },
   "source": [
    "### 基礎レポート"
   ]
  },
  {
   "cell_type": "markdown",
   "id": "af7f2f53-8e28-4195-bd15-0c4555e69912",
   "metadata": {},
   "source": [
    "#### [DX系プロジェクトについてのレポート](https://1drv.ms/p/s!Amfs5caPP9r5jgb4poXUCpIy_33p)"
   ]
  },
  {
   "cell_type": "markdown",
   "id": "0561a799-eafe-484c-b8ae-518def672c02",
   "metadata": {},
   "source": [
    "#### [機械学習・深層学習についてのレポート](https://1drv.ms/p/s!Amfs5caPP9r5jh-m6pIMwKgDln1N)"
   ]
  },
  {
   "cell_type": "markdown",
   "id": "7b2b3133-0436-4296-ac97-db95b5557a51",
   "metadata": {},
   "source": [
    "#### [IoTソリューションについてのレポート](https://1drv.ms/p/s!Amfs5caPP9r5jigcq1ECbtb0nqE5)"
   ]
  },
  {
   "cell_type": "markdown",
   "id": "e6400f7e-94ef-4a49-bf8d-1864bbe94b86",
   "metadata": {},
   "source": [
    "### 詳細レポート"
   ]
  },
  {
   "cell_type": "markdown",
   "id": "e16b84c7-1d48-458d-878b-ff66f38ff69c",
   "metadata": {},
   "source": [
    "#### [深層学習についてのレポート（CNN編）](https://1drv.ms/p/s!Amfs5caPP9r5jlAZEt6cg2zg_2cU)"
   ]
  },
  {
   "cell_type": "markdown",
   "id": "c5ae9d7a-81ba-4250-881f-f2491ccb3b36",
   "metadata": {},
   "source": [
    "#### [深層学習についてのレポート（RNN編）](https://1drv.ms/p/s!Amfs5caPP9r5jzVgO9xfbO2sbvkF)"
   ]
  },
  {
   "cell_type": "markdown",
   "id": "954f662e-f9e2-49b6-bab0-b0012d1dca60",
   "metadata": {},
   "source": [
    "#### [深層学習についてのレポート（LLM編）](https://1drv.ms/p/s!Amfs5caPP9r5kAtLiKqOHge-zTzs)"
   ]
  },
  {
   "cell_type": "markdown",
   "id": "2d7e627b-fc2e-4418-9668-d9c19e475f66",
   "metadata": {},
   "source": [
    "#### [深層学習についてのレポート（画像系、CNN画像認識以外）](https://1drv.ms/p/s!Amfs5caPP9r5kB89Bt35mRcy_utY)"
   ]
  },
  {
   "cell_type": "markdown",
   "id": "a68cf652-3d20-4c86-9a28-6f3536cff8a4",
   "metadata": {},
   "source": [
    "#### [深層学習についてのレポート（強化学習、深層強化学習）](https://1drv.ms/p/s!Amfs5caPP9r5kDBBIzKQ-QAF1tWl)"
   ]
  },
  {
   "cell_type": "markdown",
   "id": "70cce6dc-f959-48ca-b52b-1aed07f53d79",
   "metadata": {
    "tags": []
   },
   "source": [
    "### 活用レポート"
   ]
  },
  {
   "cell_type": "markdown",
   "id": "99e079a5-bcc1-428d-ac2b-2bb12f117952",
   "metadata": {},
   "source": [
    "#### [学びをサポートするAI活用のAS-ISとTO-BE](https://1drv.ms/p/s!Amfs5caPP9r5kAxog0vFyvOF_zsi)"
   ]
  },
  {
   "cell_type": "markdown",
   "id": "4ca34653-0ada-457d-a59d-d9047ce29730",
   "metadata": {},
   "source": [
    "#### [リサーチをサポートするAI活用のAS-ISとTO-BE]()"
   ]
  }
 ],
 "metadata": {
  "kernelspec": {
   "display_name": "Python 3 (ipykernel)",
   "language": "python",
   "name": "python3"
  },
  "language_info": {
   "codemirror_mode": {
    "name": "ipython",
    "version": 3
   },
   "file_extension": ".py",
   "mimetype": "text/x-python",
   "name": "python",
   "nbconvert_exporter": "python",
   "pygments_lexer": "ipython3",
   "version": "3.10.6"
  }
 },
 "nbformat": 4,
 "nbformat_minor": 5
}
