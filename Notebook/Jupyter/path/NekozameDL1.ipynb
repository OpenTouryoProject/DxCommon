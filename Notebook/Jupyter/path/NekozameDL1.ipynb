{
 "cells": [
  {
   "cell_type": "markdown",
   "id": "d3df4459-b70f-432f-b772-676ed4fa6be8",
   "metadata": {
    "tags": []
   },
   "source": [
    "# o'reillyのネゴザメ言語モデルの本\n",
    "\n",
    "## ニューラルネットワークの復習\n",
    "\n",
    "## [目次](TableOfContents.ipynb)\n",
    "- [環境準備](#環境準備)\n",
    "  - [インストール](#インストール)\n",
    "  - [インポート](#インポート)\n",
    "  - [共通関数](#共通関数)\n",
    "- [ニューラルネットワークの復習](#ニューラルネットワークの復習_)\n",
    "  - [順伝播のみの二層ネットワーク](#順伝播のみの二層ネットワーク)\n",
    "  - [逆伝播を含む二層ネットワーク](#逆伝播を含む二層ネットワーク)\n",
    "  \n",
    "## 参考\n",
    "- https://github.com/oreilly-japan/deep-learning-from-scratch-2/tree/master/ch01\n",
    "- [深層学習（deep learning） - 開発基盤部会 Wiki](https://dotnetdevelopmentinfrastructure.osscons.jp/index.php?%E6%B7%B1%E5%B1%A4%E5%AD%A6%E7%BF%92%EF%BC%88deep%20learning%EF%BC%89)、[o'reillyのカサゴ深層学習の本](KasagoDL1.ipynb)"
   ]
  },
  {
   "cell_type": "markdown",
   "id": "9c39e2e7-67b7-464d-b254-68521ef5a3de",
   "metadata": {},
   "source": [
    "## 環境準備"
   ]
  },
  {
   "cell_type": "markdown",
   "id": "d1ea6589-87d6-459c-b8b8-55179ed99adf",
   "metadata": {},
   "source": [
    "### インストール"
   ]
  },
  {
   "cell_type": "code",
   "execution_count": null,
   "id": "a65c1a3d-fc30-4a7f-b180-a221b11e7ea2",
   "metadata": {},
   "outputs": [],
   "source": [
    "!pip install numpy\n",
    "!pip install matplotlib"
   ]
  },
  {
   "cell_type": "markdown",
   "id": "c1e4d655-73aa-4cef-9def-0de5a4ef83d1",
   "metadata": {},
   "source": [
    "### インポート"
   ]
  },
  {
   "cell_type": "code",
   "execution_count": null,
   "id": "a9854310-e2f8-48c9-986c-e05d242744b1",
   "metadata": {},
   "outputs": [],
   "source": [
    "import numpy as np\n",
    "import matplotlib.pyplot as plt"
   ]
  },
  {
   "cell_type": "code",
   "execution_count": null,
   "id": "7d96a909-b830-4776-890f-b6cef29a456d",
   "metadata": {},
   "outputs": [],
   "source": [
    "import warnings\n",
    "warnings.filterwarnings('ignore')\n",
    "import sys, os\n",
    "sys.path.append(os.pardir)  # 親ディレクトリのファイルをインポートするための設定"
   ]
  },
  {
   "cell_type": "markdown",
   "id": "3836fb9c-95b7-4cce-9651-d948fcc6fb33",
   "metadata": {},
   "source": [
    "### 共通関数"
   ]
  },
  {
   "cell_type": "code",
   "execution_count": null,
   "id": "128fdd44-9e4d-48a2-a5a7-cc78e056e654",
   "metadata": {},
   "outputs": [],
   "source": [
    "# データ点のプロット\n",
    "def PlottingDataPoints(x, t, n = 100, cls_num = 3, markers = ['o', 'x', '^']):    \n",
    "    for i in range(cls_num):\n",
    "        plt.scatter(x[i*n:(i+1)*n, 0], x[i*n:(i+1)*n, 1], s=40, marker=markers[i])"
   ]
  },
  {
   "cell_type": "code",
   "execution_count": null,
   "id": "0199a871-0b88-4b7c-be4f-0a492f702df9",
   "metadata": {},
   "outputs": [],
   "source": [
    "# 境界領域のプロット\n",
    "def PlottingBoundaryRegion(x, h = 0.001):\n",
    "    x_min, x_max = x[:, 0].min() - .1, x[:, 0].max() + .1\n",
    "    y_min, y_max = x[:, 1].min() - .1, x[:, 1].max() + .1\n",
    "    xx, yy = np.meshgrid(np.arange(x_min, x_max, h), np.arange(y_min, y_max, h))\n",
    "    X = np.c_[xx.ravel(), yy.ravel()]\n",
    "    score = model.predict(X)\n",
    "    predict_cls = np.argmax(score, axis=1)\n",
    "    Z = predict_cls.reshape(xx.shape)\n",
    "    plt.contourf(xx, yy, Z)\n",
    "    plt.axis('off')"
   ]
  },
  {
   "cell_type": "markdown",
   "id": "fe5acd28-b5e2-4714-904b-a3b1d891fda6",
   "metadata": {},
   "source": [
    "## ニューラルネットワークの復習_"
   ]
  },
  {
   "cell_type": "markdown",
   "id": "7e2ce253-4d2c-4706-870d-551f036c9a25",
   "metadata": {},
   "source": [
    "### 順伝播のみの二層ネットワーク"
   ]
  },
  {
   "cell_type": "markdown",
   "id": "223cd582-1ce1-4424-946e-dde822c4aeb2",
   "metadata": {},
   "source": [
    "#### 定義"
   ]
  },
  {
   "cell_type": "code",
   "execution_count": null,
   "id": "8b349145-b94e-431e-9ebb-4b603414686e",
   "metadata": {},
   "outputs": [],
   "source": [
    "class Sigmoid:\n",
    "    def __init__(self):\n",
    "        self.params = []\n",
    "\n",
    "    def forward(self, x):\n",
    "        return 1 / (1 + np.exp(-x))\n",
    "\n",
    "\n",
    "class Affine:\n",
    "    def __init__(self, W, b):\n",
    "        self.params = [W, b]\n",
    "\n",
    "    def forward(self, x):\n",
    "        W, b = self.params\n",
    "        out = np.dot(x, W) + b\n",
    "        return out\n",
    "\n",
    "\n",
    "class TwoLayerNet:\n",
    "    def __init__(self, input_size, hidden_size, output_size):\n",
    "        I, H, O = input_size, hidden_size, output_size\n",
    "\n",
    "        # 重みとバイアスの初期化\n",
    "        W1 = np.random.randn(I, H)\n",
    "        b1 = np.random.randn(H)\n",
    "        W2 = np.random.randn(H, O)\n",
    "        b2 = np.random.randn(O)\n",
    "\n",
    "        # レイヤの生成\n",
    "        self.layers = [\n",
    "            Affine(W1, b1),\n",
    "            Sigmoid(),\n",
    "            Affine(W2, b2)\n",
    "        ]\n",
    "\n",
    "        # すべての重みをリストにまとめる\n",
    "        self.params = []\n",
    "        for layer in self.layers:\n",
    "            self.params += layer.params\n",
    "\n",
    "    def predict(self, x):\n",
    "        for layer in self.layers:\n",
    "            x = layer.forward(x)\n",
    "        return x"
   ]
  },
  {
   "cell_type": "markdown",
   "id": "d3025a98-f25a-43c9-8d6e-11fb4a6cfe71",
   "metadata": {},
   "source": [
    "#### 推論"
   ]
  },
  {
   "cell_type": "code",
   "execution_count": null,
   "id": "830700b1-340e-4861-9287-c2f77555eb52",
   "metadata": {},
   "outputs": [],
   "source": [
    "x = np.random.randn(10, 2)\n",
    "model = TwoLayerNet(2, 4, 3)\n",
    "s = model.predict(x)\n",
    "print(s)"
   ]
  },
  {
   "cell_type": "markdown",
   "id": "c20025a0-5633-4147-8d56-94a95ca41488",
   "metadata": {},
   "source": [
    "### 逆伝播を含む二層ネットワーク"
   ]
  },
  {
   "cell_type": "markdown",
   "id": "9d28964b-5335-457c-9318-83d9e8d9b2a5",
   "metadata": {},
   "source": [
    "#### データー"
   ]
  },
  {
   "cell_type": "code",
   "execution_count": null,
   "id": "99515445-5576-40ac-8b82-14b60ebb94f2",
   "metadata": {},
   "outputs": [],
   "source": [
    "from nekozame.dataset import spiral\n",
    "\n",
    "x, t = spiral.load_data()\n",
    "print('x', x.shape)  # (300, 2)\n",
    "print('t', t.shape)  # (300, 3)\n",
    "\n",
    "PlottingDataPoints(x, t)"
   ]
  },
  {
   "cell_type": "markdown",
   "id": "35c25dbd-5248-4502-9444-4162ee9463ff",
   "metadata": {},
   "source": [
    "#### 定義"
   ]
  },
  {
   "cell_type": "code",
   "execution_count": null,
   "id": "6305dac6-a5fc-4e14-90e8-500b580aec08",
   "metadata": {},
   "outputs": [],
   "source": [
    "from nekozame.common.layers import Affine, Sigmoid, SoftmaxWithLoss\n",
    "\n",
    "class TwoLayerNet:\n",
    "    def __init__(self, input_size, hidden_size, output_size):\n",
    "        I, H, O = input_size, hidden_size, output_size\n",
    "\n",
    "        # 重みとバイアスの初期化\n",
    "        W1 = 0.01 * np.random.randn(I, H)\n",
    "        b1 = np.zeros(H)\n",
    "        W2 = 0.01 * np.random.randn(H, O)\n",
    "        b2 = np.zeros(O)\n",
    "\n",
    "        # レイヤの生成\n",
    "        self.layers = [\n",
    "            Affine(W1, b1),\n",
    "            Sigmoid(),\n",
    "            Affine(W2, b2)\n",
    "        ]\n",
    "        self.loss_layer = SoftmaxWithLoss()\n",
    "\n",
    "        # すべての重みと勾配をリストにまとめる\n",
    "        self.params, self.grads = [], []\n",
    "        for layer in self.layers:\n",
    "            self.params += layer.params\n",
    "            self.grads += layer.grads\n",
    "\n",
    "    def predict(self, x):\n",
    "        for layer in self.layers:\n",
    "            x = layer.forward(x)\n",
    "        return x\n",
    "\n",
    "    def forward(self, x, t):\n",
    "        score = self.predict(x)\n",
    "        loss = self.loss_layer.forward(score, t)\n",
    "        return loss\n",
    "\n",
    "    def backward(self, dout=1):\n",
    "        dout = self.loss_layer.backward(dout)\n",
    "        for layer in reversed(self.layers):\n",
    "            dout = layer.backward(dout)\n",
    "        return dout"
   ]
  },
  {
   "cell_type": "markdown",
   "id": "31b5e0cb-7cd9-48ca-9793-c5af81b2c367",
   "metadata": {},
   "source": [
    "#### 学習"
   ]
  },
  {
   "cell_type": "markdown",
   "id": "385d663c-62e3-48ac-9e9b-d41eff72d738",
   "metadata": {
    "tags": []
   },
   "source": [
    "##### その１"
   ]
  },
  {
   "cell_type": "code",
   "execution_count": null,
   "id": "19d29c5a-210b-4bcf-9081-a3c0a3624271",
   "metadata": {},
   "outputs": [],
   "source": [
    "from nekozame.common.optimizer import SGD\n",
    "from nekozame.dataset import spiral\n",
    "import matplotlib.pyplot as plt\n",
    "\n",
    "# ハイパーパラメータの設定\n",
    "max_epoch = 300\n",
    "batch_size = 30\n",
    "hidden_size = 10\n",
    "learning_rate = 1.0\n",
    "\n",
    "x, t = spiral.load_data()\n",
    "model = TwoLayerNet(input_size=2, hidden_size=hidden_size, output_size=3)\n",
    "optimizer = SGD(lr=learning_rate)\n",
    "\n",
    "# 学習で使用する変数\n",
    "data_size = len(x)\n",
    "max_iters = data_size // batch_size\n",
    "total_loss = 0\n",
    "loss_count = 0\n",
    "loss_list = []\n",
    "\n",
    "for epoch in range(max_epoch):\n",
    "    # データのシャッフル\n",
    "    idx = np.random.permutation(data_size)\n",
    "    x = x[idx]\n",
    "    t = t[idx]\n",
    "\n",
    "    for iters in range(max_iters):\n",
    "        batch_x = x[iters*batch_size:(iters+1)*batch_size]\n",
    "        batch_t = t[iters*batch_size:(iters+1)*batch_size]\n",
    "\n",
    "        # 勾配を求め、パラメータを更新\n",
    "        loss = model.forward(batch_x, batch_t)\n",
    "        model.backward()\n",
    "        optimizer.update(model.params, model.grads)\n",
    "\n",
    "        total_loss += loss\n",
    "        loss_count += 1\n",
    "\n",
    "        # 定期的に学習経過を出力\n",
    "        if (iters+1) % 10 == 0:\n",
    "            avg_loss = total_loss / loss_count\n",
    "            print('| epoch %d |  iter %d / %d | loss %.2f'\n",
    "                  % (epoch + 1, iters + 1, max_iters, avg_loss))\n",
    "            loss_list.append(avg_loss)\n",
    "            total_loss, loss_count = 0, 0\n",
    "\n",
    "\n",
    "# 学習結果のプロット\n",
    "plt.plot(np.arange(len(loss_list)), loss_list, label='train')\n",
    "plt.xlabel('iterations (x10)')\n",
    "plt.ylabel('loss')\n",
    "plt.show()"
   ]
  },
  {
   "cell_type": "code",
   "execution_count": null,
   "id": "1f62e8ac-5065-4137-8855-65c7c88d0ab4",
   "metadata": {},
   "outputs": [],
   "source": [
    "# プロット\n",
    "x, t = spiral.load_data()\n",
    "PlottingBoundaryRegion(x)\n",
    "PlottingDataPoints(x, t)"
   ]
  },
  {
   "cell_type": "markdown",
   "id": "86a853d7-e777-425b-96ac-b4a19c6ff33c",
   "metadata": {
    "tags": []
   },
   "source": [
    "##### その２\n",
    "Trainerを導入したバージョン"
   ]
  },
  {
   "cell_type": "code",
   "execution_count": null,
   "id": "86378480-b44b-4344-8322-decaa3d81c27",
   "metadata": {},
   "outputs": [],
   "source": [
    "from nekozame.common.optimizer import SGD\n",
    "from nekozame.common.trainer import Trainer\n",
    "from nekozame.dataset import spiral\n",
    "\n",
    "# ハイパーパラメータの設定\n",
    "max_epoch = 300\n",
    "batch_size = 30\n",
    "hidden_size = 10\n",
    "learning_rate = 1.0\n",
    "\n",
    "x, t = spiral.load_data()\n",
    "model = TwoLayerNet(input_size=2, hidden_size=hidden_size, output_size=3)\n",
    "optimizer = SGD(lr=learning_rate)\n",
    "\n",
    "trainer = Trainer(model, optimizer)\n",
    "trainer.fit(x, t, max_epoch, batch_size, eval_interval=10)\n",
    "trainer.plot()"
   ]
  },
  {
   "cell_type": "code",
   "execution_count": null,
   "id": "d5bec0c1-1df2-4679-bedd-112ee911a5aa",
   "metadata": {},
   "outputs": [],
   "source": [
    "# プロット\n",
    "x, t = spiral.load_data()\n",
    "PlottingBoundaryRegion(x)\n",
    "PlottingDataPoints(x, t)"
   ]
  }
 ],
 "metadata": {
  "kernelspec": {
   "display_name": "Python 3 (ipykernel)",
   "language": "python",
   "name": "python3"
  },
  "language_info": {
   "codemirror_mode": {
    "name": "ipython",
    "version": 3
   },
   "file_extension": ".py",
   "mimetype": "text/x-python",
   "name": "python",
   "nbconvert_exporter": "python",
   "pygments_lexer": "ipython3",
   "version": "3.10.6"
  }
 },
 "nbformat": 4,
 "nbformat_minor": 5
}
