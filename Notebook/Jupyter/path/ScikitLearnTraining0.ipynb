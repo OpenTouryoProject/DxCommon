{
 "cells": [
  {
   "cell_type": "markdown",
   "id": "cf8af0d7-c198-4acd-921a-f3683f675ced",
   "metadata": {},
   "source": [
    "# scikit-learnのトレーニング♨\n",
    "\n",
    "## 環境準備、共通的データ処理 編\n",
    "\n",
    "## [目次](TableOfContents.ipynb)\n",
    "- [環境準備](#環境準備)\n",
    "  - [インストール](#インストール)\n",
    "  - [インポート](#インポート)\n",
    "- [共通的データ処理](#共通的データ処理)\n",
    "  - [生成](#生成)\n",
    "  - [加工](#加工)\n",
    "  - [理解](#理解)\n",
    "  - [準備](#準備)\n",
    "\n",
    "## 参考\n",
    "開発基盤部会 Wiki\n",
    "- データマイニング（DM）- Python  \n",
    "https://dotnetdevelopmentinfrastructure.osscons.jp/index.php?%E3%83%87%E3%83%BC%E3%82%BF%E3%83%9E%E3%82%A4%E3%83%8B%E3%83%B3%E3%82%B0%EF%BC%88DM%EF%BC%89-%20Python#y4054d35"
   ]
  },
  {
   "cell_type": "markdown",
   "id": "c3cbfe23-a666-4ac1-8790-fd097d812745",
   "metadata": {
    "tags": []
   },
   "source": [
    "## 環境準備"
   ]
  },
  {
   "cell_type": "markdown",
   "id": "e606c1f4-840e-4e85-a6a1-7bbe7a7678df",
   "metadata": {
    "tags": []
   },
   "source": [
    "### インストール"
   ]
  },
  {
   "cell_type": "code",
   "execution_count": null,
   "id": "83d07511-4024-4aed-b23b-3f4cf6548efd",
   "metadata": {},
   "outputs": [],
   "source": [
    "!pip install scikit-learn # scikit-learn\n",
    "!pip install openpyxl # Excel読込用\n",
    "!pip install seaborn # 散布図表示用\n",
    "!pip install mlxtend # 分類可視化用"
   ]
  },
  {
   "cell_type": "markdown",
   "id": "3a4c204c-a98d-4e6e-9501-b2af8a808d13",
   "metadata": {
    "tags": []
   },
   "source": [
    "### インポート"
   ]
  },
  {
   "cell_type": "markdown",
   "id": "f9cc2df9-1723-4f95-bf8e-d7038576b960",
   "metadata": {},
   "source": [
    "#### 基本的なライブラリ"
   ]
  },
  {
   "cell_type": "code",
   "execution_count": null,
   "id": "56cb54d8-15d2-44e6-b114-dd3f6aaf5579",
   "metadata": {},
   "outputs": [],
   "source": [
    "import io\n",
    "import requests\n",
    "\n",
    "import pandas as pd\n",
    "import numpy as np\n",
    "import matplotlib.pyplot as plt"
   ]
  },
  {
   "cell_type": "markdown",
   "id": "3f6fab67-ab98-45b6-9195-9d0b9ef719be",
   "metadata": {},
   "source": [
    "#### scikit-learn"
   ]
  },
  {
   "cell_type": "markdown",
   "id": "10e21140-afef-4c2a-afa3-2f90405c6a89",
   "metadata": {},
   "source": [
    "##### 前処理"
   ]
  },
  {
   "cell_type": "code",
   "execution_count": null,
   "id": "9bfd7674-7eba-48d8-b97d-b2c17e26d48b",
   "metadata": {},
   "outputs": [],
   "source": [
    "from sklearn import datasets                                 # サンプル・データセット\n",
    "from sklearn.datasets import make_regression                 # 回帰データセット作成\n",
    "from sklearn.datasets import make_blobs                      # 分類データセット作成\n",
    "from sklearn.preprocessing import StandardScaler             # 標準化\n",
    "from sklearn.model_selection import train_test_split         # データ分割"
   ]
  },
  {
   "cell_type": "markdown",
   "id": "0f9d88f3-d18f-4da6-a7ef-eacff146f38f",
   "metadata": {},
   "source": [
    "##### モデル"
   ]
  },
  {
   "cell_type": "code",
   "execution_count": null,
   "id": "5bb92d66-533e-4062-b16b-34ad4f0ae52d",
   "metadata": {},
   "outputs": [],
   "source": [
    "from sklearn.linear_model import LinearRegression            # 線形回帰\n",
    "from sklearn.preprocessing import PolynomialFeatures         # 多項式回帰の変数変換\n",
    "from sklearn.linear_model import Ridge                       # 多項式回帰のRidge回帰\n",
    "from sklearn.linear_model import Lasso                       # 多項式回帰のLASSO回帰\n",
    "from sklearn.linear_model import ElasticNet                  # 多項式回帰のLASSO回帰\n",
    "from sklearn.linear_model import Perceptron                  # 単純パーセプトロン線形分類器\n",
    "from sklearn.linear_model import LogisticRegression          # ロジスティク回帰\n",
    "from sklearn.svm import SVC                                  # サポートベクターマシン（SVM）分類器\n",
    "from sklearn.tree import DecisionTreeClassifier              # 決定木（分類木）\n",
    "from sklearn.ensemble import RandomForestClassifier          # ランダムフォレスト（分類木）\n",
    "from sklearn.ensemble import GradientBoostingClassifier      # 勾配ブースティング木（分類木）\n",
    "from sklearn.decomposition import PCA                        # 主成分分析\n",
    "from sklearn.cluster import KMeans                           # k-means法 クラスタ分析\n",
    "from sklearn.feature_extraction.text import CountVectorizer  # 自然言語処理ベクトル化\n",
    "from sklearn.feature_extraction.text import TfidfTransformer # 自然言語ベクトルのTF-IDF計算\n",
    "from sklearn.decomposition import LatentDirichletAllocation  # 自然言語ベクトルからLDAトピック抽出"
   ]
  },
  {
   "cell_type": "markdown",
   "id": "82df2a81-e0bb-47ca-8ef4-e2f62c53917c",
   "metadata": {},
   "source": [
    "##### 精度評価"
   ]
  },
  {
   "cell_type": "code",
   "execution_count": null,
   "id": "6ae89e4e-8da5-4ed7-8f9e-6984a78428be",
   "metadata": {},
   "outputs": [],
   "source": [
    "from sklearn import metrics                                  # モデル評価\n",
    "from sklearn.metrics import mean_squared_error as mse        # 精度評価（mse）\n",
    "from sklearn.metrics import confusion_matrix                 # 混同行列\n",
    "from sklearn.metrics import silhouette_samples               # シルエット係数\n",
    "from sklearn.model_selection import cross_val_score          # 交差検証法\n",
    "from sklearn.model_selection import KFold                    # k分割交差検証法\n",
    "from sklearn.model_selection import StratifiedKFold          # 層化交差検証法\n",
    "from sklearn.model_selection import GridSearchCV             # グリッドサーチ"
   ]
  },
  {
   "cell_type": "markdown",
   "id": "1783435c-3422-48c4-bf5c-187123adf0ac",
   "metadata": {},
   "source": [
    "#### その他"
   ]
  },
  {
   "cell_type": "markdown",
   "id": "98af9168-76b2-44ba-8291-0acf4691d907",
   "metadata": {},
   "source": [
    "##### 可視化"
   ]
  },
  {
   "cell_type": "code",
   "execution_count": null,
   "id": "56a6a79f-3796-4f57-8581-78aadd36fcc9",
   "metadata": {},
   "outputs": [],
   "source": [
    "import seaborn as sns                                       # matplotlibラッパ\n",
    "from mlxtend.plotting import plot_decision_regions          # 決定領域表示関数\n",
    "from matplotlib import cm                                   # カラーマップ処理"
   ]
  },
  {
   "cell_type": "markdown",
   "id": "48935bcc-7202-4d3a-9972-d1054f00dedc",
   "metadata": {},
   "source": [
    "##### その他"
   ]
  },
  {
   "cell_type": "code",
   "execution_count": null,
   "id": "236ebf6b-1045-4fd5-9476-2b9e17bc76f6",
   "metadata": {},
   "outputs": [],
   "source": [
    "from numpy import linalg as LA # 線形代数ライブラリ"
   ]
  },
  {
   "cell_type": "code",
   "execution_count": null,
   "id": "5996b7d2-9c99-413d-9d90-b14281dab187",
   "metadata": {},
   "outputs": [],
   "source": [
    "import warnings\n",
    "warnings.filterwarnings('ignore')"
   ]
  },
  {
   "cell_type": "markdown",
   "id": "46332d64-be51-451f-a8d8-6ed9e8d44aec",
   "metadata": {},
   "source": [
    "### jupyter上で利用するとき"
   ]
  },
  {
   "cell_type": "code",
   "execution_count": null,
   "id": "28d03bbb-fe01-487b-a85e-5a393874638e",
   "metadata": {},
   "outputs": [],
   "source": [
    "%matplotlib inline"
   ]
  },
  {
   "cell_type": "markdown",
   "id": "89e87248-5cdc-4a3f-8a8a-c6474f88276a",
   "metadata": {
    "tags": []
   },
   "source": [
    "## 共通的データ処理\n",
    "- 以下の共通的な処理では、何らかのデータをロードしてから試す。\n",
    "- 赤ワインの品質：回帰または分類モデリングのためのシンプルでクリーンな実践用データセット"
   ]
  },
  {
   "cell_type": "markdown",
   "id": "c7bae03e-2e5d-4107-b3e8-3fba071c22bb",
   "metadata": {
    "tags": []
   },
   "source": [
    "### 生成"
   ]
  },
  {
   "cell_type": "markdown",
   "id": "34059120-4317-420b-a190-888471046ea9",
   "metadata": {},
   "source": [
    "#### テストデータの作成"
   ]
  },
  {
   "cell_type": "markdown",
   "id": "4dc1e747-e79e-4a20-8bc3-51243f99c61b",
   "metadata": {},
   "source": [
    "##### 回帰データセット"
   ]
  },
  {
   "cell_type": "markdown",
   "id": "da121a30-f1fc-4995-8686-eb4a14a93a40",
   "metadata": {},
   "source": [
    "###### 生成"
   ]
  },
  {
   "cell_type": "code",
   "execution_count": null,
   "id": "d4ddea42-c67e-4565-b6a9-55b209f13c36",
   "metadata": {},
   "outputs": [],
   "source": [
    "x, y, coef = make_regression(random_state=12, \n",
    "                       n_samples=100,   # サンプル数 100\n",
    "                       n_features=4,    # 特徴量の数 4\n",
    "                       n_informative=2, # 目的変数に相関の強い特徴量の数 2\n",
    "                       noise=10.0,      # ノイズ 10.0\n",
    "                       bias=-0.0,\n",
    "                       coef=True)"
   ]
  },
  {
   "cell_type": "code",
   "execution_count": null,
   "id": "cbdaa83d-16c6-4df7-89f9-11a43b92983a",
   "metadata": {},
   "outputs": [],
   "source": [
    "# 相関係数\n",
    "coef"
   ]
  },
  {
   "cell_type": "markdown",
   "id": "5f28c942-0673-48de-afe0-c67ae13b7dff",
   "metadata": {},
   "source": [
    "###### 表示"
   ]
  },
  {
   "cell_type": "code",
   "execution_count": null,
   "id": "8b18a931-fbdb-43f2-a942-a9884a7d6c7f",
   "metadata": {},
   "outputs": [],
   "source": [
    "df_x=pd.DataFrame(x,columns=['a','b','c','d'])\n",
    "df_y=pd.DataFrame(y,columns=['y'])\n",
    "df=pd.concat([df_x, df_y],axis=1)\n",
    "\n",
    "sns.pairplot(df)\n",
    "plt.show()"
   ]
  },
  {
   "cell_type": "markdown",
   "id": "48633cf4-286a-44a4-91e9-c30e9fffa4aa",
   "metadata": {},
   "source": [
    "##### 分類データセット"
   ]
  },
  {
   "cell_type": "markdown",
   "id": "18233e34-2c58-4dd7-ac35-57d96300473e",
   "metadata": {},
   "source": [
    "###### 生成"
   ]
  },
  {
   "cell_type": "code",
   "execution_count": null,
   "id": "606a0b59-c67b-4d7f-bcd0-7fd70e10ffa4",
   "metadata": {},
   "outputs": [],
   "source": [
    "x, y = make_blobs(random_state=8,\n",
    "                  n_samples=100,   # サンプル数 100\n",
    "                  n_features=2,    # 特徴量の数を 2\n",
    "                  cluster_std=1.5, # 標準偏差\n",
    "                  centers=3)       # 塊数を3"
   ]
  },
  {
   "cell_type": "markdown",
   "id": "809f74b2-8051-4100-9022-601c3f1394dd",
   "metadata": {},
   "source": [
    "###### 表示"
   ]
  },
  {
   "cell_type": "code",
   "execution_count": null,
   "id": "f0d459ad-2684-4ee6-bd8b-843bc160b3ce",
   "metadata": {},
   "outputs": [],
   "source": [
    "# 関数\n",
    "def cluster_plot(n_clusters, x, y):\n",
    "    plt.figure()\n",
    "    for target, marker, color in zip(range(3), '>ox', 'rgb'): # 3値分類\n",
    "        # y==targetで、boolのnumpy.ndarrayベクトルが返るのでコレで行を指定している。\n",
    "        plt.scatter(x[y==target, 0], x[y==target, 1], marker=marker, color=color)\n",
    "    plt.xlabel('x1')\n",
    "    plt.ylabel('x2')\n",
    "    plt.show()\n",
    "\n",
    "# 散布\n",
    "cluster_plot(3, x, y)"
   ]
  },
  {
   "cell_type": "code",
   "execution_count": null,
   "id": "bb996ab8-01e7-4df4-b52e-c74697edd2f4",
   "metadata": {},
   "outputs": [],
   "source": [
    "# sns.pairplotで\n",
    "df1=pd.DataFrame(x,columns=['x1','x2'])\n",
    "df2=pd.DataFrame(y,columns=['y'])\n",
    "df=pd.concat([df1,df2],axis=1)\n",
    "sns.pairplot(df, hue='y')\n",
    "plt.show()"
   ]
  },
  {
   "cell_type": "markdown",
   "id": "abec6d16-dfd5-4b1c-9268-05d113c50d7a",
   "metadata": {},
   "source": [
    "##### 関数で近似できるデータセット"
   ]
  },
  {
   "cell_type": "markdown",
   "id": "1d8266ed-dc11-4f87-b5a1-a97733d9274f",
   "metadata": {},
   "source": [
    "###### 適当な関数を定義"
   ]
  },
  {
   "cell_type": "code",
   "execution_count": null,
   "id": "22f9d136-8428-487b-99cd-b43bed59f83f",
   "metadata": {},
   "outputs": [],
   "source": [
    "def GenerateData0(x):\n",
    "    y = 0.0001 * (x**3 + x**2 + x + 1)\n",
    "    return y"
   ]
  },
  {
   "cell_type": "markdown",
   "id": "0c00b715-9882-4e40-9951-f326417c6d20",
   "metadata": {},
   "source": [
    "###### 関数上のプロット"
   ]
  },
  {
   "cell_type": "code",
   "execution_count": null,
   "id": "136faa8a-b520-41f8-b164-e7a1bda6b68d",
   "metadata": {},
   "outputs": [],
   "source": [
    "# xの範囲を指定\n",
    "x_plot = np.arange(-25, 25, 0.1)\n",
    "# yを関数で指定\n",
    "y_plot = GenerateData0(x_plot)\n",
    "# 機械学習用に変換\n",
    "x_plot = x_plot.reshape(-1, 1)"
   ]
  },
  {
   "cell_type": "markdown",
   "id": "57a22c79-7ef8-4cd4-8543-74a6bf0d3cd6",
   "metadata": {},
   "source": [
    "###### サンプルの生成"
   ]
  },
  {
   "cell_type": "code",
   "execution_count": null,
   "id": "6a348149-b9e9-4e5c-8e72-425f9651f597",
   "metadata": {},
   "outputs": [],
   "source": [
    "# 乱数生成器の状態を指定\n",
    "np.random.seed(3)\n",
    "# 正規分布に従ってX個のデータ点を生成\n",
    "X = 30\n",
    "x = np.random.normal(0, 10, X)\n",
    "# 対応するyを関数で生成\n",
    "y = GenerateData0(x)\n",
    "# 正規分布に従うノイズを加える\n",
    "y += np.random.normal(0, 0.25, len(y))\n",
    "# 機械学習用に変換\n",
    "x = x.reshape(-1, 1)"
   ]
  },
  {
   "cell_type": "markdown",
   "id": "c6d3c37c-a740-46e9-9d6c-2cbfbdff213a",
   "metadata": {},
   "source": [
    "###### 関数の描画と散布図で可視化"
   ]
  },
  {
   "cell_type": "code",
   "execution_count": null,
   "id": "26788366-ca2e-4195-8188-4c50123270f1",
   "metadata": {},
   "outputs": [],
   "source": [
    "# 関数を描画\n",
    "plt.plot(x_plot, y_plot, color='gray')\n",
    "# サンプルを散布\n",
    "plt.scatter(x, y)\n",
    "# グラフを表示\n",
    "plt.show()"
   ]
  },
  {
   "cell_type": "markdown",
   "id": "c3b55341-5bde-4bdd-8a8a-527f21bf5a5d",
   "metadata": {},
   "source": [
    "#### 以下の手順で使用するデータのロード（Webから\n",
    "必要に応じて[環境変数にプロキシ設定](PythonTraining.ipynb)をしておくと良い。"
   ]
  },
  {
   "cell_type": "code",
   "execution_count": null,
   "id": "073a7ec4-56be-485c-a74d-0c2ff071808c",
   "metadata": {},
   "outputs": [],
   "source": [
    "proxies = { # プロキシ設定\n",
    "\"http\":\"http://<user_name>:<password>@<proxy_host>:<proxy_port>/\",\n",
    "\"https\":\"https://<user_name>:<password>@<proxy_host>:<proxy_port>/\"\n",
    "}\n",
    "\n",
    "url = 'https://archive.ics.uci.edu/ml/machine-learning-databases/wine-quality/winequality-red.csv'\n",
    "res = requests.get(url) # , verify=False, proxies=proxies) # プロキシ\n",
    "df = pd.read_csv(io.BytesIO(res.content), encoding='shift-jis', sep=\";\")\n",
    "df"
   ]
  },
  {
   "cell_type": "markdown",
   "id": "7183627f-751a-4064-bd33-c4da723c2713",
   "metadata": {
    "tags": []
   },
   "source": [
    "### 加工\n",
    "切出や結合など。"
   ]
  },
  {
   "cell_type": "markdown",
   "id": "e84d6e95-b28d-4e30-85c2-ccdde7966238",
   "metadata": {
    "tags": []
   },
   "source": [
    "### 理解"
   ]
  },
  {
   "cell_type": "markdown",
   "id": "82e7cab6-4f2d-4461-bc3f-c854e682e30e",
   "metadata": {
    "tags": []
   },
   "source": [
    "#### 基本統計量\n",
    "https://dotnetdevelopmentinfrastructure.osscons.jp/index.php?%E3%83%87%E3%83%BC%E3%82%BF%E5%88%86%E6%9E%90#j6ea2557"
   ]
  },
  {
   "cell_type": "code",
   "execution_count": null,
   "id": "5dbc3f7f-48a9-4ffd-b021-75de3f7141fd",
   "metadata": {},
   "outputs": [],
   "source": [
    "df.describe()"
   ]
  },
  {
   "cell_type": "markdown",
   "id": "70e5c004-33d6-4f23-acdb-ad9ad2179001",
   "metadata": {
    "tags": []
   },
   "source": [
    "#### 相関\n",
    "目的変数と相関の強い説明変数を調査。"
   ]
  },
  {
   "cell_type": "markdown",
   "id": "b93cd999-f6a1-4ac3-90ad-c073b997eec3",
   "metadata": {
    "tags": []
   },
   "source": [
    "##### 相関係数（相関行列）\n",
    "コレだと数値の和列で解り難い。  \n",
    "https://dotnetdevelopmentinfrastructure.osscons.jp/index.php?%E7%B5%B1%E8%A8%88%E8%A7%A3%E6%9E%90#bad01586"
   ]
  },
  {
   "cell_type": "code",
   "execution_count": null,
   "id": "0a24dee0-92a9-49e6-9c5c-b2fc3fe7c3d6",
   "metadata": {},
   "outputs": [],
   "source": [
    "df.corr()"
   ]
  },
  {
   "cell_type": "markdown",
   "id": "2850f545-8563-4d68-af5f-7331158352f2",
   "metadata": {
    "tags": []
   },
   "source": [
    "##### ヒートマップに表示\n",
    "ヒートマップにすると相関の強弱が解り易い。"
   ]
  },
  {
   "cell_type": "code",
   "execution_count": null,
   "id": "d3d968f3-71b9-49bd-94b7-a146c58210b8",
   "metadata": {},
   "outputs": [],
   "source": [
    "plt.figure(figsize=(15, 10))\n",
    "sns.heatmap(df.corr(), annot=True, square=True, fmt='.2f')\n",
    "plt.show()"
   ]
  },
  {
   "cell_type": "markdown",
   "id": "f2d5794c-b14b-438a-8b3e-4fbf90c42218",
   "metadata": {
    "tags": []
   },
   "source": [
    "##### 散布図行列"
   ]
  },
  {
   "cell_type": "markdown",
   "id": "f24d0ffe-e00a-49c1-940d-facbf680e4e7",
   "metadata": {},
   "source": [
    "###### 通常"
   ]
  },
  {
   "cell_type": "code",
   "execution_count": null,
   "id": "42fbf027-5ae9-4e83-a6f9-e51a923bd871",
   "metadata": {},
   "outputs": [],
   "source": [
    "# 列数が多いとハングするので注意。\n",
    "#sns.pairplot(df)\n",
    "#plt.show()"
   ]
  },
  {
   "cell_type": "markdown",
   "id": "623812d6-f312-4629-8079-84ab9e0216a7",
   "metadata": {},
   "source": [
    "###### 不要な列を削除して"
   ]
  },
  {
   "cell_type": "code",
   "execution_count": null,
   "id": "f2e06950-7166-4107-8867-3ddc0bdb1e60",
   "metadata": {},
   "outputs": [],
   "source": [
    "# 列名の確認\n",
    "df.columns"
   ]
  },
  {
   "cell_type": "code",
   "execution_count": null,
   "id": "59e02a23-2088-454c-a364-363129f42279",
   "metadata": {},
   "outputs": [],
   "source": [
    "#df2=df.drop(['削除する','列名の','リスト'], axis=1)\n",
    "df2=df.drop(['volatile acidity','citric acid','residual sugar','chlorides',\n",
    "             'free sulfur dioxide','total sulfur dioxide','sulphates'], axis=1)"
   ]
  },
  {
   "cell_type": "markdown",
   "id": "21c919bc-bf59-4b15-9144-eb47d96ceb48",
   "metadata": {},
   "source": [
    "###### 散布図行列を表示"
   ]
  },
  {
   "cell_type": "code",
   "execution_count": null,
   "id": "587dc707-5a17-4cb5-859e-d87673314b3d",
   "metadata": {},
   "outputs": [],
   "source": [
    "sns.pairplot(df2)\n",
    "plt.show()"
   ]
  },
  {
   "cell_type": "markdown",
   "id": "2709315c-fe15-4c6a-81e1-12bcebb094d4",
   "metadata": {},
   "source": [
    "###### カテゴリ分類した散布図行列を表示"
   ]
  },
  {
   "cell_type": "code",
   "execution_count": null,
   "id": "88245e35-caaa-41da-94da-1f6d6d286e45",
   "metadata": {},
   "outputs": [],
   "source": [
    "sns.pairplot(df2, hue='quality')\n",
    "plt.show()"
   ]
  },
  {
   "cell_type": "markdown",
   "id": "3fd4ca4d-3398-4ff4-bd0f-ff76440c0f39",
   "metadata": {},
   "source": [
    "###### 散布図行列で特徴量を選択\n",
    "- 回帰の場合、目的変数と相関関係が高い説明変数を選択する。\n",
    "- 分類の場合、目的変数を空間上で分離できそうな説明変数を選択する。\n",
    "- 相関関係が高い説明変数同士は問題を起こす可能性（マルチコ）。"
   ]
  },
  {
   "cell_type": "markdown",
   "id": "97e9f816-53fd-4c89-b3c2-551f510ceea3",
   "metadata": {
    "tags": []
   },
   "source": [
    "##### 欠損率の計算と確認"
   ]
  },
  {
   "cell_type": "code",
   "execution_count": null,
   "id": "fd89cdf0-c735-4f5e-adef-31a8e105b82f",
   "metadata": {},
   "outputs": [],
   "source": [
    "df.isnull().sum() / len(df) "
   ]
  },
  {
   "cell_type": "markdown",
   "id": "26f2f423-5353-4fa8-9580-83ae3a875815",
   "metadata": {
    "tags": []
   },
   "source": [
    "### 準備"
   ]
  },
  {
   "cell_type": "markdown",
   "id": "6b766b13-1d97-47f2-89b5-23d195bedb39",
   "metadata": {},
   "source": [
    "#### [データのクリーニング](PandasTraining.ipynb)\n",
    "- リストワイズ法（削除）\n",
    "- ペアワイズ法（削除）\n",
    "- 補完値で置換"
   ]
  },
  {
   "cell_type": "markdown",
   "id": "862ee70b-1b67-4e0c-85b4-56b672ef1772",
   "metadata": {},
   "source": [
    "#### [データの構築・統合](PandasTraining.ipynb)\n",
    "- 単一属性変換\n",
    "  - カテゴリ → 数値\n",
    "  - 数値 → カテゴリ\n",
    "- One-Hotエンコーディング\n",
    "  - [NumPyの場合、to_categoricalを使う。](NumPyTraining3.ipynb)\n",
    "  - [Pandasの場合、get_dummiesを使う。](PandasTraining.ipynb)（基本コッチ"
   ]
  },
  {
   "cell_type": "markdown",
   "id": "ebca582a-4722-4638-b27c-171898126aa1",
   "metadata": {},
   "source": [
    "#### （PG上ある）\n",
    "CRIPS-DM上には明記されていないが、PG的に必要。"
   ]
  },
  {
   "cell_type": "markdown",
   "id": "f35b07ee-6d28-4667-9a8f-40b4d37e7660",
   "metadata": {
    "tags": []
   },
   "source": [
    "##### 説明変数・目的変数の選択・分割"
   ]
  },
  {
   "cell_type": "markdown",
   "id": "da63977a-995b-4d5e-bb97-dcfe242b6ed8",
   "metadata": {},
   "source": [
    "##### 取り敢えず以下のサンプルを使う。"
   ]
  },
  {
   "cell_type": "markdown",
   "id": "98eadfc6-bc4e-46a7-ae18-733865c7ff0c",
   "metadata": {},
   "source": [
    "###### DFでやるか"
   ]
  },
  {
   "cell_type": "code",
   "execution_count": null,
   "id": "07fed752-5d16-4700-8fa0-3b0d2aa22c2a",
   "metadata": {},
   "outputs": [],
   "source": [
    "df_x = df2.loc[:, ['alcohol']]\n",
    "df_y = df2.loc[:, ['quality']]\n",
    "x1 = np.array(df_x)\n",
    "y1 = np.array(df_y)"
   ]
  },
  {
   "cell_type": "markdown",
   "id": "62c0d184-773e-48f6-834c-8ffc96d4e355",
   "metadata": {},
   "source": [
    "###### NPでやるか"
   ]
  },
  {
   "cell_type": "code",
   "execution_count": null,
   "id": "b07e9e3a-ece1-4235-a1b6-a3064af58ac0",
   "metadata": {},
   "outputs": [],
   "source": [
    "xy = np.array(df2)\n",
    "xy.shape"
   ]
  },
  {
   "cell_type": "code",
   "execution_count": null,
   "id": "f4aedaf5-dc7c-4054-8299-3d930780c805",
   "metadata": {},
   "outputs": [],
   "source": [
    "x2 = xy[:, 3:4]\n",
    "y2 = xy[:, 4:5]"
   ]
  },
  {
   "cell_type": "markdown",
   "id": "92d9e6c2-3310-4fa3-b9b7-ca293f5c145b",
   "metadata": {},
   "source": [
    "###### 比較してチェック"
   ]
  },
  {
   "cell_type": "code",
   "execution_count": null,
   "id": "a3ee774c-f1a0-4fa1-bf2e-34aad89a1261",
   "metadata": {},
   "outputs": [],
   "source": [
    "print(np.allclose(x1, x2))\n",
    "print(np.allclose(y1, y2))"
   ]
  },
  {
   "cell_type": "code",
   "execution_count": null,
   "id": "f27cd183-8f2e-4c02-8d51-88d536f6d3bf",
   "metadata": {},
   "outputs": [],
   "source": [
    "x=x1\n",
    "y=y1"
   ]
  },
  {
   "cell_type": "markdown",
   "id": "8d21ef0b-a314-45e2-a5b5-b373f4708bf9",
   "metadata": {
    "tags": []
   },
   "source": [
    "##### 標準化・正規化\n",
    "DFでやる方法とNPでやる方法があるが、\n",
    "[説明変数と目的変数の切出](#説明変数と目的変数の切出)基本NPでやる。"
   ]
  },
  {
   "cell_type": "code",
   "execution_count": null,
   "id": "105b1aa6-a42c-4e82-aa62-c7db7e979615",
   "metadata": {},
   "outputs": [],
   "source": [
    "# 平均\n",
    "print(x.mean())"
   ]
  },
  {
   "cell_type": "code",
   "execution_count": null,
   "id": "54c7e3ad-cb19-414f-a14a-5a02e03f64d0",
   "metadata": {},
   "outputs": [],
   "source": [
    "# 標準偏差\n",
    "print(x.std())"
   ]
  },
  {
   "cell_type": "markdown",
   "id": "17557f04-24dd-4eb5-aeff-6d432adec18d",
   "metadata": {
    "tags": []
   },
   "source": [
    "###### 標準化"
   ]
  },
  {
   "cell_type": "code",
   "execution_count": null,
   "id": "bcfbfd2c-e541-4c91-b537-30bb555d4813",
   "metadata": {},
   "outputs": [],
   "source": [
    "ss = StandardScaler()\n",
    "# 引数は numpy.ndarray\n",
    "sx = ss.fit_transform(x)"
   ]
  },
  {
   "cell_type": "code",
   "execution_count": null,
   "id": "77caf3d2-bb1a-41a1-80e4-899d3e20222e",
   "metadata": {},
   "outputs": [],
   "source": [
    "# 平均が ≒ 0\n",
    "print(sx.mean())"
   ]
  },
  {
   "cell_type": "code",
   "execution_count": null,
   "id": "5bf2f883-8c4e-4923-8ce3-9b1ff23e332d",
   "metadata": {},
   "outputs": [],
   "source": [
    "# 標準偏差が ≒ 1\n",
    "print(sx.std())"
   ]
  },
  {
   "cell_type": "markdown",
   "id": "ae154764-c2a6-4900-8d36-59463f7f514b",
   "metadata": {},
   "source": [
    "###### 正規化"
   ]
  },
  {
   "cell_type": "code",
   "execution_count": null,
   "id": "8bdd2548-0e2c-4d39-b59a-933ad05c710b",
   "metadata": {},
   "outputs": [],
   "source": [
    "from sklearn.preprocessing import MinMaxScaler\n",
    "mms = MinMaxScaler(feature_range=(0, 1))\n",
    "# 引数は numpy.ndarray\n",
    "mmsx = mms.fit_transform(x)"
   ]
  },
  {
   "cell_type": "code",
   "execution_count": null,
   "id": "ba27faa0-0eaf-4914-98f8-06f508c64985",
   "metadata": {},
   "outputs": [],
   "source": [
    "# 平均が0-1の間に。\n",
    "print(mmsx.mean())"
   ]
  },
  {
   "cell_type": "code",
   "execution_count": null,
   "id": "4924da5f-f0e1-451f-ae0f-552f6c894834",
   "metadata": {},
   "outputs": [],
   "source": [
    "# 標準偏差は\n",
    "print(mmsx.std())"
   ]
  },
  {
   "cell_type": "markdown",
   "id": "2dc6202f-46e3-4728-9618-d26c47b8d2a7",
   "metadata": {
    "tags": []
   },
   "source": [
    "##### 学習・テストデータの分割"
   ]
  },
  {
   "cell_type": "markdown",
   "id": "191485d0-f80a-4fe1-9974-49e77e738a36",
   "metadata": {
    "tags": []
   },
   "source": [
    "###### ホールド・アウト法\n",
    "- test_size = 0.3  \n",
    "train:test = 7:3 で分割。\n",
    "- random_state = 0  \n",
    "毎回同じサンプルに分割"
   ]
  },
  {
   "cell_type": "code",
   "execution_count": null,
   "id": "edab41cb-ad19-4f3c-8570-f61fddc6be85",
   "metadata": {},
   "outputs": [],
   "source": [
    "# 学習・テストデータの分割（ホールド・アウト法\n",
    "x_train, x_test, y_train, y_test = train_test_split(x, y, test_size = 0.3, random_state = 0)\n",
    "\n",
    "# データ分割の結果確認\n",
    "# (numpy.ndarray).shapeメソッドで確認できる。\n",
    "print(x_train.shape)\n",
    "print(y_train.shape)\n",
    "print(x_test.shape)\n",
    "print(y_test.shape)"
   ]
  },
  {
   "cell_type": "markdown",
   "id": "26083dff-b2d3-4999-b6ca-963409b4b331",
   "metadata": {
    "tags": []
   },
   "source": [
    "###### [交差検証法](ScikitLearnTraining5.ipynb)"
   ]
  }
 ],
 "metadata": {
  "kernelspec": {
   "display_name": "Python 3 (ipykernel)",
   "language": "python",
   "name": "python3"
  },
  "language_info": {
   "codemirror_mode": {
    "name": "ipython",
    "version": 3
   },
   "file_extension": ".py",
   "mimetype": "text/x-python",
   "name": "python",
   "nbconvert_exporter": "python",
   "pygments_lexer": "ipython3",
   "version": "3.10.4"
  }
 },
 "nbformat": 4,
 "nbformat_minor": 5
}
