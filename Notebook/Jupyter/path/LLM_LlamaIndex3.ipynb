{
 "cells": [
  {
   "cell_type": "markdown",
   "id": "6a588b2f-aa6c-44dc-9ef4-fbd6061051c6",
   "metadata": {},
   "source": [
    "# LlamaIndexでAgent"
   ]
  },
  {
   "cell_type": "markdown",
   "id": "d2a79c5e-15d5-465c-b9f5-6283775d97de",
   "metadata": {},
   "source": [
    "## 目次\n",
    "- [概要](#概要)\n",
    "- [参考](#参考)\n",
    "- [チェック](#チェック)\n",
    "- [準備](#準備)\n",
    "- [最も簡単なエージェント](#最も簡単なエージェント)\n",
    "- [エージェントにRAGを追加する](#エージェントにRAGを追加する)"
   ]
  },
  {
   "cell_type": "markdown",
   "id": "d019bec2-7b0b-41bb-95c3-f735a91fe213",
   "metadata": {},
   "source": [
    "## 概要\n",
    "- LlamaIndex（公式）をトレースして基本的な利用方法を確認する。\n",
    "- 破壊的に変更が発生するまで使えるでしょう。\n",
    "- 破壊的に変更が発生後は、公式サイトの当該バージョンの情報（≒一次情報）をあたって。"
   ]
  },
  {
   "cell_type": "markdown",
   "id": "70ab5958-4219-4f63-a243-b5590119a676",
   "metadata": {},
   "source": [
    "## 参考"
   ]
  },
  {
   "cell_type": "markdown",
   "id": "4915e0c1-5cba-4407-bae8-6481179a3f69",
   "metadata": {},
   "source": [
    "LlamaIndex - .NET 開発基盤部会 Wiki  \n",
    "https://dotnetdevelopmentinfrastructure.osscons.jp/index.php?LlamaIndex"
   ]
  },
  {
   "cell_type": "markdown",
   "id": "d0387006-4f25-4817-a3b1-d05e56305c57",
   "metadata": {},
   "source": [
    "## チェック"
   ]
  },
  {
   "cell_type": "code",
   "execution_count": 1,
   "id": "729cb641-a9ac-4b7c-ac1f-9b69d031bd97",
   "metadata": {},
   "outputs": [],
   "source": [
    "#!pip list"
   ]
  },
  {
   "cell_type": "code",
   "execution_count": 2,
   "id": "5c57768c-0bc1-4cc8-95a2-9cd89443fa14",
   "metadata": {},
   "outputs": [],
   "source": [
    "#%env"
   ]
  },
  {
   "cell_type": "markdown",
   "id": "c4f2edb3-9da5-4da5-8394-09d722c39632",
   "metadata": {},
   "source": [
    "## 準備"
   ]
  },
  {
   "cell_type": "markdown",
   "id": "be61aa29-3f93-4d47-8a85-d9d125d893ad",
   "metadata": {},
   "source": [
    "### ライブラリ読み込み"
   ]
  },
  {
   "cell_type": "code",
   "execution_count": 3,
   "id": "dacc4e79-53bb-4d2c-97df-3e80238f9b14",
   "metadata": {},
   "outputs": [],
   "source": [
    "from llama_index.llms.openai import OpenAI\n",
    "# from llama_index.llms.ollama import Ollama\n",
    "from llama_index.core.agent import ReActAgent"
   ]
  },
  {
   "cell_type": "markdown",
   "id": "afe3561b-3355-42dc-9fa0-fcb1ff6f3067",
   "metadata": {},
   "source": [
    "### LLMの設定\n",
    "エージェントでは揺らぐと困るので、temperature=0 に設定している。"
   ]
  },
  {
   "cell_type": "markdown",
   "id": "8ea6ebe1-7432-442e-9262-9c3adabbb4a2",
   "metadata": {},
   "source": [
    "#### OpenAI\n",
    "OpenAIでないと動かない場合がありそう。"
   ]
  },
  {
   "cell_type": "code",
   "execution_count": 4,
   "id": "81f2b1f1-dd73-430b-aaba-c28dc57ab2cc",
   "metadata": {},
   "outputs": [],
   "source": [
    "llm = OpenAI(model=\"gpt-3.5-turbo\", temperature=0)"
   ]
  },
  {
   "cell_type": "markdown",
   "id": "d07a3b37-e35c-4f7c-9285-f8b807648930",
   "metadata": {},
   "source": [
    "#### Ollama\n",
    "- 「mixtral:8x7b」など大規模なモデルが必要らしい。\n",
    "- Llama3の1Bなど、SLMでは動作しなかった。"
   ]
  },
  {
   "cell_type": "code",
   "execution_count": 5,
   "id": "6d068655-a511-434d-bf28-ff74f184177c",
   "metadata": {},
   "outputs": [],
   "source": [
    "#llm = Ollama(model=\"Llama3\", temperature=0, request_timeout=360.0)"
   ]
  },
  {
   "cell_type": "markdown",
   "id": "a413baeb-c61c-4b16-b4b1-675bff5cb461",
   "metadata": {},
   "source": [
    "## 最も簡単なエージェント"
   ]
  },
  {
   "cell_type": "markdown",
   "id": "5ec9198c-36bf-46ea-9b69-144cea522cd8",
   "metadata": {},
   "source": [
    "### ライブラリ読み込み"
   ]
  },
  {
   "cell_type": "code",
   "execution_count": 6,
   "id": "b0308de6-d0c4-4eba-ad9c-49cca3323202",
   "metadata": {},
   "outputs": [],
   "source": [
    "from llama_index.core.tools import FunctionTool"
   ]
  },
  {
   "cell_type": "markdown",
   "id": "d45fc77d-0e5a-449e-bfea-5589190b09b1",
   "metadata": {},
   "source": [
    "### ファンクションツールのエージェント"
   ]
  },
  {
   "cell_type": "markdown",
   "id": "352bec70-bb4f-4d47-9a4b-1e84f548c631",
   "metadata": {},
   "source": [
    "#### ファンクションツールの定義"
   ]
  },
  {
   "cell_type": "code",
   "execution_count": 7,
   "id": "104bbabd-8377-416f-a490-e12299475d3d",
   "metadata": {},
   "outputs": [],
   "source": [
    "def multiply(a: float, b: float) -> float:\n",
    "    \"\"\"Multiply two numbers and returns the product\"\"\"\n",
    "    return a * b\n",
    "\n",
    "multiply_tool = FunctionTool.from_defaults(fn=multiply)\n",
    "\n",
    "def add(a: float, b: float) -> float:\n",
    "    \"\"\"Add two numbers and returns the sum\"\"\"\n",
    "    return a + b\n",
    "\n",
    "add_tool = FunctionTool.from_defaults(fn=add)"
   ]
  },
  {
   "cell_type": "markdown",
   "id": "3d24e83f-aeb9-47fc-8bd2-e92f6031e6d3",
   "metadata": {},
   "source": [
    "#### エージェントの構成"
   ]
  },
  {
   "cell_type": "code",
   "execution_count": 8,
   "id": "855faf55-788e-4e9d-8b93-fec61ccff733",
   "metadata": {},
   "outputs": [],
   "source": [
    "agent = ReActAgent.from_tools([multiply_tool, add_tool], llm=llm, verbose=True)"
   ]
  },
  {
   "cell_type": "markdown",
   "id": "66b78160-0c8d-487d-80c2-57ecfebc0514",
   "metadata": {},
   "source": [
    "#### エージェントの実行"
   ]
  },
  {
   "cell_type": "code",
   "execution_count": 9,
   "id": "7baa0a77-906d-4a8d-942d-23b195c2c35a",
   "metadata": {},
   "outputs": [
    {
     "name": "stdout",
     "output_type": "stream",
     "text": [
      "> Running step 13c7dcfa-ea2e-4fbe-b4bc-00bf54511069. Step input: What is 20 + (2 * 4) ? Use a tool to calculate every step.\n",
      "\u001b[1;3;38;5;200mThought: The current language of the user is: English. I need to use a tool to help me answer the question.\n",
      "Action: multiply\n",
      "Action Input: {'a': 2, 'b': 4}\n",
      "\u001b[0m\u001b[1;3;34mObservation: 8\n",
      "\u001b[0m> Running step 42d28cd9-aedf-4656-bd4a-fbf7b90693dc. Step input: None\n",
      "\u001b[1;3;38;5;200mThought: I need to add 20 to the result of the multiplication.\n",
      "Action: add\n",
      "Action Input: {'a': 20, 'b': 8}\n",
      "\u001b[0m\u001b[1;3;34mObservation: 28\n",
      "\u001b[0m> Running step ed30071d-7c7d-4a80-b978-43cda3a5eef2. Step input: None\n",
      "\u001b[1;3;38;5;200mThought: I can answer without using any more tools. I'll use the user's language to answer\n",
      "Answer: The result of 20 + (2 * 4) is 28.\n",
      "\u001b[0mThe result of 20 + (2 * 4) is 28.\n"
     ]
    }
   ],
   "source": [
    "response = agent.chat(\"What is 20 + (2 * 4) ? Use a tool to calculate every step.\")\n",
    "print(response)"
   ]
  },
  {
   "cell_type": "markdown",
   "id": "b8ae4645-2329-4021-b246-8829c66c9704",
   "metadata": {},
   "source": [
    "## エージェントにRAGを追加する"
   ]
  },
  {
   "cell_type": "markdown",
   "id": "5843178f-8682-4226-89b0-066767f955fd",
   "metadata": {},
   "source": [
    "### 準備"
   ]
  },
  {
   "cell_type": "markdown",
   "id": "550afdc8-f737-4426-83a6-10be1d75fece",
   "metadata": {},
   "source": [
    "#### 使用する変数"
   ]
  },
  {
   "cell_type": "code",
   "execution_count": 10,
   "id": "d63013ab-97bf-49c9-ad27-b6d28deadac3",
   "metadata": {},
   "outputs": [],
   "source": [
    "DATA_DIR = \"./llamaindex/data/2023_canadian_budget\"\n",
    "PERSIST_DIR = \"./llamaindex/storage/2023_canadian_budget\"\n",
    "CHROMA_DIR = \"./llamaindex/chroma_db/2023_canadian_budget\""
   ]
  },
  {
   "cell_type": "markdown",
   "id": "2110f189-d281-4a84-8840-6c1e2e646a48",
   "metadata": {},
   "source": [
    "#### ライブラリ読み込み"
   ]
  },
  {
   "cell_type": "code",
   "execution_count": 11,
   "id": "e35c6b69-695b-49db-8871-70acc0e8849f",
   "metadata": {},
   "outputs": [],
   "source": [
    "from llama_index.core import VectorStoreIndex, SimpleDirectoryReader, Settings\n",
    "#from llama_index.embeddings.huggingface import HuggingFaceEmbedding"
   ]
  },
  {
   "cell_type": "markdown",
   "id": "7a4a1eea-81be-435c-a75b-9951a263caa1",
   "metadata": {},
   "source": [
    "#### 簡単なテスト（永続化付き）"
   ]
  },
  {
   "cell_type": "markdown",
   "id": "274ff8e2-5690-4d1d-9093-096e90b7df33",
   "metadata": {},
   "source": [
    "##### Settings"
   ]
  },
  {
   "cell_type": "code",
   "execution_count": 12,
   "id": "a21ccfff-885c-4eba-a81e-5b14253bed50",
   "metadata": {},
   "outputs": [],
   "source": [
    "# bge-base embedding model\n",
    "#Settings.embed_model = HuggingFaceEmbedding(model_name=\"BAAI/bge-base-en-v1.5\")\n",
    "Settings.llm = llm # 複数箇所で使うのでグローバルに設定"
   ]
  },
  {
   "cell_type": "markdown",
   "id": "d3157d6b-db67-4dee-84b2-40e43b4c3bd8",
   "metadata": {},
   "source": [
    "##### Indexing & Storing"
   ]
  },
  {
   "cell_type": "code",
   "execution_count": 13,
   "id": "b49e72d5-2826-48cd-96a4-9a84f0aa1d19",
   "metadata": {},
   "outputs": [],
   "source": [
    "import os.path\n",
    "from llama_index.core import (\n",
    "    StorageContext,\n",
    "    load_index_from_storage,\n",
    ")\n",
    "\n",
    "# check if storage already exists\n",
    "if not os.path.exists(PERSIST_DIR):\n",
    "    # load the documents and create the index\n",
    "    documents = SimpleDirectoryReader(DATA_DIR).load_data()\n",
    "    index = VectorStoreIndex.from_documents(documents)\n",
    "    # store it for later\n",
    "    index.storage_context.persist(persist_dir=PERSIST_DIR)\n",
    "else:\n",
    "    # load the existing index\n",
    "    storage_context = StorageContext.from_defaults(persist_dir=PERSIST_DIR)\n",
    "    index = load_index_from_storage(storage_context)"
   ]
  },
  {
   "cell_type": "markdown",
   "id": "dbbb3c8c-1418-4039-ae0c-982094ab7b8b",
   "metadata": {},
   "source": [
    "##### Querying"
   ]
  },
  {
   "cell_type": "code",
   "execution_count": 14,
   "id": "c62d047c-160d-4e5d-92fa-5c6b0a057ce4",
   "metadata": {},
   "outputs": [
    {
     "name": "stdout",
     "output_type": "stream",
     "text": [
      "$496.9 billion\n"
     ]
    }
   ],
   "source": [
    "# Either way we can now query the index\n",
    "query_engine = index.as_query_engine()\n",
    "response = query_engine.query(\n",
    "    \"What was the total amount of the 2023 Canadian federal budget?\"\n",
    "    \"\\n Please answer with one number.\"\n",
    ")\n",
    "print(response)"
   ]
  },
  {
   "cell_type": "markdown",
   "id": "59938a52-eff4-4968-ba2f-444f26a322a9",
   "metadata": {},
   "source": [
    "#### ツール作成"
   ]
  },
  {
   "cell_type": "markdown",
   "id": "7ae23aba-02ef-4b45-b06f-7ee065bd9de0",
   "metadata": {},
   "source": [
    "##### ファンクション・ツール"
   ]
  },
  {
   "cell_type": "code",
   "execution_count": 15,
   "id": "20e92e5b-190f-4e1d-a89b-9b7854543d88",
   "metadata": {},
   "outputs": [],
   "source": [
    "from llama_index.core.tools import FunctionTool"
   ]
  },
  {
   "cell_type": "code",
   "execution_count": 16,
   "id": "e2e9db99-0d49-4b7e-bbc9-2ae39779c8f2",
   "metadata": {},
   "outputs": [],
   "source": [
    "# function tools\n",
    "def multiply(a: float, b: float) -> float:\n",
    "    \"\"\"Multiply two numbers and returns the product\"\"\"\n",
    "    return a * b\n",
    "\n",
    "multiply_tool = FunctionTool.from_defaults(fn=multiply)\n",
    "\n",
    "def add(a: float, b: float) -> float:\n",
    "    \"\"\"Add two numbers and returns the sum\"\"\"\n",
    "    return a + b\n",
    "\n",
    "add_tool = FunctionTool.from_defaults(fn=add)"
   ]
  },
  {
   "cell_type": "markdown",
   "id": "266cb53c-6ffa-428f-b43d-8eccdb38c97c",
   "metadata": {},
   "source": [
    "##### クエリエンジンツール"
   ]
  },
  {
   "cell_type": "code",
   "execution_count": 17,
   "id": "6876db4e-f6e0-4285-9fe7-c8484efd3dde",
   "metadata": {},
   "outputs": [],
   "source": [
    "from llama_index.core.tools import QueryEngineTool"
   ]
  },
  {
   "cell_type": "code",
   "execution_count": 18,
   "id": "833a3b86-ebec-4f76-9a7b-8fc638b1a7fb",
   "metadata": {},
   "outputs": [],
   "source": [
    "budget_tool = QueryEngineTool.from_defaults(\n",
    "    query_engine,\n",
    "    name=\"canadian_budget_2023\",\n",
    "    description=\"A RAG engine with some basic facts about the 2023 Canadian federal budget.\")"
   ]
  },
  {
   "cell_type": "markdown",
   "id": "7b053119-e808-4634-9b55-e6ec4bdc6197",
   "metadata": {},
   "source": [
    "#### エージェントにツールを実行させる"
   ]
  },
  {
   "cell_type": "markdown",
   "id": "fe11e68b-4a48-400e-84d8-dfec0802eed2",
   "metadata": {},
   "source": [
    "##### ライブラリ読み込み"
   ]
  },
  {
   "cell_type": "code",
   "execution_count": 19,
   "id": "3b7779d7-aa50-431e-82cd-394e11c4d8da",
   "metadata": {},
   "outputs": [],
   "source": [
    "from llama_index.core.agent import ReActAgent"
   ]
  },
  {
   "cell_type": "markdown",
   "id": "a26727f3-35c8-454b-8cdc-3c4083410dba",
   "metadata": {},
   "source": [
    "##### RAG込エージェント定義"
   ]
  },
  {
   "cell_type": "code",
   "execution_count": 20,
   "id": "bb4641b1-50fb-41b1-9d13-212564e09816",
   "metadata": {},
   "outputs": [],
   "source": [
    "agent = ReActAgent.from_tools([multiply_tool, add_tool, budget_tool], verbose=True)"
   ]
  },
  {
   "cell_type": "markdown",
   "id": "0bc24f93-e82d-46c8-bf54-384683bdb626",
   "metadata": {},
   "source": [
    "##### RAG込エージェント実行\n",
    "- プロンプトの指示の通り、budget_toolのRAGから予算を読み込んで3倍している。\n",
    "- multiply_tool, add_toolは渡してあるが、使用しないで回答できている。\n",
    "- （チュートリアルでは、multiply_toolを使う予定ではあったものの）\n",
    "- SLMだと上手く動作しない問題。そしてデバッグと対策も不明（笑）"
   ]
  },
  {
   "cell_type": "code",
   "execution_count": 21,
   "id": "84b7a826-2296-42c8-8134-8c0e3635a8b8",
   "metadata": {},
   "outputs": [
    {
     "name": "stdout",
     "output_type": "stream",
     "text": [
      "> Running step f9980254-0d8e-4cee-a89d-7f649913c042. Step input: What is the total amount of the 2023 Canadian federal budget multiplied by 3?\n",
      "\u001b[1;3;38;5;200mThought: The current language of the user is English. I need to use a tool to help me answer the question.\n",
      "Action: canadian_budget_2023\n",
      "Action Input: {'input': 'total'}\n",
      "\u001b[0m\u001b[1;3;34mObservation: $496.9 billion\n",
      "\u001b[0m> Running step 6ee94b63-8908-42e1-a6a0-f685b930a866. Step input: None\n",
      "\u001b[1;3;38;5;200mThought: I can answer without using any more tools. I'll use the user's language to answer\n",
      "Answer: The total amount of the 2023 Canadian federal budget multiplied by 3 is $1.49 trillion.\n",
      "\u001b[0mThe total amount of the 2023 Canadian federal budget multiplied by 3 is $1.49 trillion.\n"
     ]
    }
   ],
   "source": [
    "response = agent.chat(\"What is the total amount of the 2023 Canadian federal budget multiplied by 3?\")\n",
    "print(response)"
   ]
  }
 ],
 "metadata": {
  "kernelspec": {
   "display_name": "Python 3 (ipykernel)",
   "language": "python",
   "name": "python3"
  },
  "language_info": {
   "codemirror_mode": {
    "name": "ipython",
    "version": 3
   },
   "file_extension": ".py",
   "mimetype": "text/x-python",
   "name": "python",
   "nbconvert_exporter": "python",
   "pygments_lexer": "ipython3",
   "version": "3.12.3"
  }
 },
 "nbformat": 4,
 "nbformat_minor": 5
}
