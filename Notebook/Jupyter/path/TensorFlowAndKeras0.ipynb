{
 "cells": [
  {
   "cell_type": "markdown",
   "id": "4fe59fb7-e68d-4e4b-8901-5902d5343ed8",
   "metadata": {},
   "source": [
    "# TensorFlow・Kerasのトレーニング♨\n",
    "\n",
    "## 環境準備、共通的データ処理 編\n",
    "\n",
    "## [目次](TableOfContents.ipynb)\n",
    "- [環境準備](#環境準備)\n",
    "  - [インストール](#インストール)\n",
    "  - [インポート](#インポート)\n",
    "  - [プロキシ設定](#プロキシ設定)\n",
    "- [共通処理](#共通処理)\n",
    "  - [勾配降下法アルゴリズムの選択](#勾配降下法アルゴリズムの選択)\n",
    "  - [モデルの定義とコンパイル](#モデルの定義とコンパイル)\n",
    "  - [モデルの学習と推論](#モデルの学習と推論モデルの保存と復元)\n",
    "  - [モデルの保存と復元](#モデルの保存と復元)\n",
    "  - [過学習の抑止](#過学習の抑止)\n",
    "\n",
    "## 参考\n",
    "開発基盤部会 Wiki\n",
    "- データマイニング（DM）- Python - DL  \n",
    "https://dotnetdevelopmentinfrastructure.osscons.jp/index.php?%E3%83%87%E3%83%BC%E3%82%BF%E3%83%9E%E3%82%A4%E3%83%8B%E3%83%B3%E3%82%B0%EF%BC%88DM%EF%BC%89-%20Python%20-%20DL"
   ]
  },
  {
   "cell_type": "markdown",
   "id": "d48958bb-e085-40a2-a6e1-f00c80080d20",
   "metadata": {},
   "source": [
    "## 環境準備"
   ]
  },
  {
   "cell_type": "markdown",
   "id": "de8cfdd3-319a-4068-89ae-c39fb2c141ff",
   "metadata": {},
   "source": [
    "### インストール"
   ]
  },
  {
   "cell_type": "markdown",
   "id": "f6721d4f-485f-44e9-976d-ae526a3c4816",
   "metadata": {},
   "source": [
    "#### 基本的なライブラリ"
   ]
  },
  {
   "cell_type": "code",
   "execution_count": null,
   "id": "7911c97f-77cf-4e25-acca-07d2c9fd2975",
   "metadata": {},
   "outputs": [],
   "source": [
    "!pip install numpy\n",
    "!pip install pandas\n",
    "!pip install seaborn\n",
    "!pip install statsmodels"
   ]
  },
  {
   "cell_type": "markdown",
   "id": "e43802e8-7f76-4c87-bcae-231b9cede71d",
   "metadata": {},
   "source": [
    "#### scikit-learn"
   ]
  },
  {
   "cell_type": "code",
   "execution_count": null,
   "id": "0cde9a17-2de9-40c3-9fc7-2d18f22d22f1",
   "metadata": {},
   "outputs": [],
   "source": [
    "!pip install scikit-learn"
   ]
  },
  {
   "cell_type": "markdown",
   "id": "900c16f8-ebce-429b-ad95-fea0698284df",
   "metadata": {},
   "source": [
    "#### tensorflow keras"
   ]
  },
  {
   "cell_type": "markdown",
   "id": "e43ccfbd-77e5-49c2-b69a-0c2a55c6ee54",
   "metadata": {},
   "source": [
    "##### アンイストール\n",
    "バージョン不一致の問題が起きたら一度アンイストールする。"
   ]
  },
  {
   "cell_type": "code",
   "execution_count": 3,
   "id": "d2aaef8b-6d1b-4942-a4d5-8a9f58d17b67",
   "metadata": {},
   "outputs": [],
   "source": [
    "#!echo Y | pip uninstall keras\n",
    "#!echo Y | pip uninstall tensorflow"
   ]
  },
  {
   "cell_type": "markdown",
   "id": "6e831a07-7412-4735-b9de-d4423581af3a",
   "metadata": {},
   "source": [
    "##### tensorflow"
   ]
  },
  {
   "cell_type": "markdown",
   "id": "f29a9b33-7bd7-4d16-8782-1ab052f8d85b",
   "metadata": {},
   "source": [
    "###### CPU"
   ]
  },
  {
   "cell_type": "code",
   "execution_count": null,
   "id": "db74cc37-3a96-419c-a380-1afd21a57ddf",
   "metadata": {},
   "outputs": [],
   "source": [
    "!pip install tensorflow"
   ]
  },
  {
   "cell_type": "markdown",
   "id": "20e67e8e-837a-4cde-a6e1-d317673037ec",
   "metadata": {},
   "source": [
    "###### GPU"
   ]
  },
  {
   "cell_type": "code",
   "execution_count": 5,
   "id": "9d1a3439-5764-4a8d-8534-9d19217b6de7",
   "metadata": {},
   "outputs": [],
   "source": [
    "#!pip install tensorflow-gpu"
   ]
  },
  {
   "cell_type": "code",
   "execution_count": 6,
   "id": "be91cda8-94c9-43ec-9c7c-0064272d63eb",
   "metadata": {},
   "outputs": [],
   "source": [
    "#from tensorflow.python.client import device_lib\n",
    "#device_lib.list_local_devices()"
   ]
  },
  {
   "cell_type": "code",
   "execution_count": 7,
   "id": "8c1b5682-0b6a-4651-be29-abc2d8548e4f",
   "metadata": {},
   "outputs": [],
   "source": [
    "#import tensorflow as tf\n",
    "##tf.test.is_gpu_available()\n",
    "#tf.config.list_physical_devices('GPU')"
   ]
  },
  {
   "cell_type": "markdown",
   "id": "e874e274-64b3-4a87-9b07-6a381fa9bec4",
   "metadata": {},
   "source": [
    "##### keras"
   ]
  },
  {
   "cell_type": "code",
   "execution_count": null,
   "id": "53c21683-0c59-4535-8d9c-f4971f7e61d7",
   "metadata": {},
   "outputs": [],
   "source": [
    "!pip install keras"
   ]
  },
  {
   "cell_type": "markdown",
   "id": "9b9a8de7-cd0b-447c-a675-be91688fa3f4",
   "metadata": {},
   "source": [
    "#### opencv"
   ]
  },
  {
   "cell_type": "code",
   "execution_count": null,
   "id": "6ba915e5-4af8-4339-866b-2a2a380eb3b9",
   "metadata": {},
   "outputs": [],
   "source": [
    "!pip install opencv-python"
   ]
  },
  {
   "cell_type": "markdown",
   "id": "b69a16e1-7764-4035-8a92-72b398b81aaf",
   "metadata": {},
   "source": [
    "### インポート"
   ]
  },
  {
   "cell_type": "markdown",
   "id": "3b0ed51d-9ab1-44d9-92c8-9a029b1bff41",
   "metadata": {},
   "source": [
    "#### 基本的なライブラリ"
   ]
  },
  {
   "cell_type": "code",
   "execution_count": 10,
   "id": "53109095-5c74-41e0-928c-f06d31d940a6",
   "metadata": {},
   "outputs": [],
   "source": [
    "import io\n",
    "import requests\n",
    "\n",
    "import pandas as pd\n",
    "import numpy as np\n",
    "import matplotlib.pyplot as plt\n",
    "import seaborn as sns"
   ]
  },
  {
   "cell_type": "markdown",
   "id": "30ed5da8-a115-4918-a97f-ff3e63d2b5b3",
   "metadata": {},
   "source": [
    "#### scikit-learn"
   ]
  },
  {
   "cell_type": "code",
   "execution_count": 11,
   "id": "fd3a0cc2-703c-4ecb-b06d-b06f3cc8e21e",
   "metadata": {},
   "outputs": [],
   "source": [
    "from sklearn import datasets\n",
    "from sklearn import metrics\n",
    "from sklearn.preprocessing import StandardScaler\n",
    "from sklearn.model_selection import train_test_split\n",
    "from sklearn.metrics import confusion_matrix"
   ]
  },
  {
   "cell_type": "markdown",
   "id": "5f0a61e8-1f27-4f3c-9738-d1325d848724",
   "metadata": {},
   "source": [
    "#### tensorflow"
   ]
  },
  {
   "cell_type": "code",
   "execution_count": null,
   "id": "6dff608e-31df-4d09-a193-1f438d8e2f1f",
   "metadata": {},
   "outputs": [],
   "source": [
    "import tensorflow as tf\n",
    "from tensorflow.keras.layers import BatchNormalization\n",
    "print(tf.__version__)"
   ]
  },
  {
   "cell_type": "markdown",
   "id": "10f61d55-af22-4dbc-a542-15436534f818",
   "metadata": {},
   "source": [
    "#### keras"
   ]
  },
  {
   "cell_type": "code",
   "execution_count": 13,
   "id": "0c9aaf7c-c130-4fac-9592-d385808da8d4",
   "metadata": {},
   "outputs": [
    {
     "name": "stdout",
     "output_type": "stream",
     "text": [
      "3.6.0\n"
     ]
    }
   ],
   "source": [
    "import keras\n",
    "print(keras.__version__)\n",
    "\n",
    "# モデル定義\n",
    "from keras.models import Model, Sequential, model_from_json, load_model\n",
    "from keras.layers import Dense, Input, Activation, Flatten, Dropout, LSTM\n",
    "from keras.layers import Conv2D\n",
    "from keras.layers import MaxPool2D\n",
    "from keras.callbacks import EarlyStopping, ModelCheckpoint\n",
    "from keras import optimizers\n",
    "from keras.optimizers import SGD, Adam\n",
    "\n",
    "# その他\n",
    "from keras.applications.vgg16 import VGG16\n",
    "from tensorflow.keras.utils import to_categorical"
   ]
  },
  {
   "cell_type": "markdown",
   "id": "fdf7dcbc-aa26-4652-9eb8-dbf5dfada438",
   "metadata": {},
   "source": [
    "#### その他"
   ]
  },
  {
   "cell_type": "code",
   "execution_count": 14,
   "id": "8acef2e0-0df0-47f4-9e88-ece40279703e",
   "metadata": {},
   "outputs": [],
   "source": [
    "import warnings\n",
    "warnings.filterwarnings('ignore')\n",
    "%matplotlib inline"
   ]
  },
  {
   "cell_type": "markdown",
   "id": "0bd620cf-dd4a-4da0-b4c8-1de4d6f48f68",
   "metadata": {},
   "source": [
    "### プロキシ設定"
   ]
  },
  {
   "cell_type": "code",
   "execution_count": 15,
   "id": "609f3dce-8d41-45f6-9436-788e0097bdda",
   "metadata": {},
   "outputs": [],
   "source": [
    "import os\n",
    "proxies = {\n",
    "    \"http\": os.getenv(\"HTTP_PROXY\"),\n",
    "    \"https\": os.getenv(\"HTTPS_PROXY\")\n",
    "}"
   ]
  },
  {
   "cell_type": "markdown",
   "id": "30e6ac99-5db3-4c85-b8bd-e089d77d0e72",
   "metadata": {},
   "source": [
    "## 共通処理"
   ]
  },
  {
   "cell_type": "markdown",
   "id": "87c8032f-add1-44c1-a7d2-927c7eb18532",
   "metadata": {
    "tags": []
   },
   "source": [
    "### 勾配降下法アルゴリズムの選択\n",
    "https://dotnetdevelopmentinfrastructure.osscons.jp/index.php?%E6%B7%B1%E5%B1%A4%E5%AD%A6%E7%BF%92%E3%81%AE%E3%83%86%E3%82%AF%E3%83%8B%E3%83%83%E3%82%AF#ma318ba7"
   ]
  },
  {
   "cell_type": "markdown",
   "id": "f34e46b4-3a68-47d4-a1b4-ea98c47537cf",
   "metadata": {},
   "source": [
    "#### SGD\n",
    "（Stochastic Gradient Descent）、確率的勾配降下法\n",
    "- 勾配が最も急な向きに勾配を下る手法\n",
    "- 学習率の調整が難しいため自動調整のアルゴリズムが必要。\n",
    "- lr：学習率（0以上のfloat"
   ]
  },
  {
   "cell_type": "code",
   "execution_count": null,
   "id": "5404fb9d-80ea-4afd-895c-43dfb83d55d7",
   "metadata": {},
   "outputs": [],
   "source": [
    "optimizer = optimizers.SGD(learning_rate=0.01)"
   ]
  },
  {
   "cell_type": "markdown",
   "id": "d807c360-103b-4769-a7da-5e61471f066f",
   "metadata": {},
   "source": [
    "#### MomentumSGD\n",
    "- SGDに慣性（加速・減速）の概念を加えた最適化手法｡\n",
    "- SGDのコードに「momentum」（慣性項の係数（0以上のF）を追加。\n",
    "- 谷間での無駄な往復を減らし、早く収束するが、  \n",
    "加速しているため、極小値付近で止まり難い。"
   ]
  },
  {
   "cell_type": "code",
   "execution_count": 17,
   "id": "be7b0a7a-5477-4ef1-a75f-412d93eb943c",
   "metadata": {},
   "outputs": [],
   "source": [
    "optimizer = optimizers.SGD(learning_rate=0.01, momentum=0.9)"
   ]
  },
  {
   "cell_type": "markdown",
   "id": "90018680-a47a-4df8-a6e3-03e541d571f1",
   "metadata": {},
   "source": [
    "#### NesterovAG\n",
    "（Nesterov Accelerated Gradient）\n",
    "- 極小値付近でブレーキをかける機能を加えたアルゴリズム\n",
    "- [MomentumSGD](#MomentumSGD)のコードに「nesterov=True」を追加。"
   ]
  },
  {
   "cell_type": "code",
   "execution_count": 18,
   "id": "882a2986-433d-467f-ac04-d4fcc2ffee65",
   "metadata": {},
   "outputs": [],
   "source": [
    "optimizer = optimizers.SGD(learning_rate=0.01, momentum=0.9, nesterov=True)"
   ]
  },
  {
   "cell_type": "markdown",
   "id": "99700490-c15f-4ca4-91f1-34d4af4ab28a",
   "metadata": {},
   "source": [
    "#### AdaGrad\n",
    "- 動いた量が増えたら更新が緩やかにする。\n",
    "- [NesterovAG](#NesterovAG)のブレーキ機能を学習率の減衰によって実現\n",
    "- デフォルト・パラメタが推奨\n",
    "  - lr ：学習率（0以上のfloat\n",
    "  - epsilon：分母の最小値（0以上のfloat\n",
    "  - decay ：学習率減衰（0以上のfloat"
   ]
  },
  {
   "cell_type": "code",
   "execution_count": 19,
   "id": "762848e9-9628-421b-a946-3d95fae3e8b9",
   "metadata": {},
   "outputs": [],
   "source": [
    "optimizer = optimizers.Adagrad()"
   ]
  },
  {
   "cell_type": "code",
   "execution_count": 20,
   "id": "48b548f5-bba1-4fb4-ba1c-cc2be85568f9",
   "metadata": {},
   "outputs": [],
   "source": [
    "optimizer = optimizers.Adagrad(learning_rate=0.01, epsilon=None, decay=0.0)"
   ]
  },
  {
   "cell_type": "markdown",
   "id": "27e25b1a-ebc9-49e8-95e8-3c5a5eae8d35",
   "metadata": {},
   "source": [
    "#### RMSprop\n",
    "（Root Mean Square Propagation）\n",
    "- [AdaGrad](#AdaGrad)の改良版\n",
    "  - 学習率の減衰が穏やかになる機能を追加\n",
    "  - 引数に「rho」（指数移動平均）を追加。\n",
    "- 学習率以外はデフォルト・パラメタが推奨"
   ]
  },
  {
   "cell_type": "code",
   "execution_count": 21,
   "id": "db0fc03f-3a2c-4f17-9e13-c84f380d12be",
   "metadata": {},
   "outputs": [],
   "source": [
    "optimizer = optimizers.RMSprop(learning_rate=0.001)"
   ]
  },
  {
   "cell_type": "code",
   "execution_count": 22,
   "id": "8bccb8c7-4d1a-4865-885c-b90567fa60d1",
   "metadata": {},
   "outputs": [],
   "source": [
    "optimizer = optimizers.RMSprop(learning_rate=0.001, rho=0.9, epsilon=None, decay=0.0)"
   ]
  },
  {
   "cell_type": "markdown",
   "id": "7064463a-aea8-441c-9b64-12b1cba9c7fa",
   "metadata": {},
   "source": [
    "#### AdaDelta\n",
    "- [Adagrad](#Adagrad)の改良版の[RMSprop](#RMSprop)に､もうひと工夫加えたようなアルゴリズム\n",
    "- デフォルト・パラメタが推奨"
   ]
  },
  {
   "cell_type": "code",
   "execution_count": 23,
   "id": "76aae248-8061-47c3-8af4-79150f7600ce",
   "metadata": {},
   "outputs": [],
   "source": [
    "optimizer = optimizers.Adadelta()"
   ]
  },
  {
   "cell_type": "code",
   "execution_count": 24,
   "id": "d9f490de-c610-4b12-bff0-e36c579acf42",
   "metadata": {},
   "outputs": [],
   "source": [
    "optimizer = optimizers.Adadelta(learning_rate=1.0, rho=0.95, epsilon=None, decay=0.0)"
   ]
  },
  {
   "cell_type": "markdown",
   "id": "9ed59289-21b9-4e82-8277-31b6cde31258",
   "metadata": {},
   "source": [
    "#### Adam\n",
    "（ADAptive Moment estimation）\n",
    "- [MomentumSGD](#MomentumSGD)系の慣性項と[AdaGrad](#AdaGrad)系の学習率の  \n",
    "両方の自動調整の機能を持ち合わせたアルゴリズム\n",
    "- beta_1 ：MomentumSGDのmomentum\n",
    "- beta_2 ：AdaGradのrho\n",
    "- amsgrad：AMSGradを適用するかどうか。"
   ]
  },
  {
   "cell_type": "code",
   "execution_count": 25,
   "id": "3a127553-6cbe-45dd-8b2f-03a992086608",
   "metadata": {},
   "outputs": [],
   "source": [
    "optimizer = optimizers.Adam(learning_rate=0.001, beta_1=0.9, beta_2=0.999, epsilon=None, decay=0.0, amsgrad=False)"
   ]
  },
  {
   "cell_type": "markdown",
   "id": "8643fa0b-3dbf-465b-a765-321f0c506233",
   "metadata": {
    "tags": []
   },
   "source": [
    "### モデルの定義とコンパイル\n",
    "以下は、DNNによる回帰"
   ]
  },
  {
   "cell_type": "markdown",
   "id": "9c2c2386-f251-4b60-9bc6-4ad6514648fb",
   "metadata": {},
   "source": [
    "#### モデルの定義"
   ]
  },
  {
   "cell_type": "code",
   "execution_count": 26,
   "id": "944bd439-b077-49b3-8f58-8d54f08bb23e",
   "metadata": {},
   "outputs": [],
   "source": [
    "num = 13 # x_train.shape[1] # 入力ベクトルの要素数\n",
    "model = keras.Sequential([\n",
    "    keras.layers.Dense(64, activation=tf.nn.relu,\n",
    "                       input_shape=(num,)),\n",
    "    keras.layers.Dense(64, activation=tf.nn.relu),\n",
    "    keras.layers.Dense(1)\n",
    "])"
   ]
  },
  {
   "cell_type": "markdown",
   "id": "a152f065-2ea2-4ac7-a424-5a1bf4efaa1d",
   "metadata": {},
   "source": [
    "#### モデルのコンパイル"
   ]
  },
  {
   "cell_type": "code",
   "execution_count": 27,
   "id": "7fecd7a4-48f7-4e25-bc17-56b4e47b15cb",
   "metadata": {},
   "outputs": [
    {
     "data": {
      "text/html": [
       "<pre style=\"white-space:pre;overflow-x:auto;line-height:normal;font-family:Menlo,'DejaVu Sans Mono',consolas,'Courier New',monospace\"><span style=\"font-weight: bold\">Model: \"sequential\"</span>\n",
       "</pre>\n"
      ],
      "text/plain": [
       "\u001b[1mModel: \"sequential\"\u001b[0m\n"
      ]
     },
     "metadata": {},
     "output_type": "display_data"
    },
    {
     "data": {
      "text/html": [
       "<pre style=\"white-space:pre;overflow-x:auto;line-height:normal;font-family:Menlo,'DejaVu Sans Mono',consolas,'Courier New',monospace\">┏━━━━━━━━━━━━━━━━━━━━━━━━━━━━━━━━━┳━━━━━━━━━━━━━━━━━━━━━━━━┳━━━━━━━━━━━━━━━┓\n",
       "┃<span style=\"font-weight: bold\"> Layer (type)                    </span>┃<span style=\"font-weight: bold\"> Output Shape           </span>┃<span style=\"font-weight: bold\">       Param # </span>┃\n",
       "┡━━━━━━━━━━━━━━━━━━━━━━━━━━━━━━━━━╇━━━━━━━━━━━━━━━━━━━━━━━━╇━━━━━━━━━━━━━━━┩\n",
       "│ dense (<span style=\"color: #0087ff; text-decoration-color: #0087ff\">Dense</span>)                   │ (<span style=\"color: #00d7ff; text-decoration-color: #00d7ff\">None</span>, <span style=\"color: #00af00; text-decoration-color: #00af00\">64</span>)             │           <span style=\"color: #00af00; text-decoration-color: #00af00\">896</span> │\n",
       "├─────────────────────────────────┼────────────────────────┼───────────────┤\n",
       "│ dense_1 (<span style=\"color: #0087ff; text-decoration-color: #0087ff\">Dense</span>)                 │ (<span style=\"color: #00d7ff; text-decoration-color: #00d7ff\">None</span>, <span style=\"color: #00af00; text-decoration-color: #00af00\">64</span>)             │         <span style=\"color: #00af00; text-decoration-color: #00af00\">4,160</span> │\n",
       "├─────────────────────────────────┼────────────────────────┼───────────────┤\n",
       "│ dense_2 (<span style=\"color: #0087ff; text-decoration-color: #0087ff\">Dense</span>)                 │ (<span style=\"color: #00d7ff; text-decoration-color: #00d7ff\">None</span>, <span style=\"color: #00af00; text-decoration-color: #00af00\">1</span>)              │            <span style=\"color: #00af00; text-decoration-color: #00af00\">65</span> │\n",
       "└─────────────────────────────────┴────────────────────────┴───────────────┘\n",
       "</pre>\n"
      ],
      "text/plain": [
       "┏━━━━━━━━━━━━━━━━━━━━━━━━━━━━━━━━━┳━━━━━━━━━━━━━━━━━━━━━━━━┳━━━━━━━━━━━━━━━┓\n",
       "┃\u001b[1m \u001b[0m\u001b[1mLayer (type)                   \u001b[0m\u001b[1m \u001b[0m┃\u001b[1m \u001b[0m\u001b[1mOutput Shape          \u001b[0m\u001b[1m \u001b[0m┃\u001b[1m \u001b[0m\u001b[1m      Param #\u001b[0m\u001b[1m \u001b[0m┃\n",
       "┡━━━━━━━━━━━━━━━━━━━━━━━━━━━━━━━━━╇━━━━━━━━━━━━━━━━━━━━━━━━╇━━━━━━━━━━━━━━━┩\n",
       "│ dense (\u001b[38;5;33mDense\u001b[0m)                   │ (\u001b[38;5;45mNone\u001b[0m, \u001b[38;5;34m64\u001b[0m)             │           \u001b[38;5;34m896\u001b[0m │\n",
       "├─────────────────────────────────┼────────────────────────┼───────────────┤\n",
       "│ dense_1 (\u001b[38;5;33mDense\u001b[0m)                 │ (\u001b[38;5;45mNone\u001b[0m, \u001b[38;5;34m64\u001b[0m)             │         \u001b[38;5;34m4,160\u001b[0m │\n",
       "├─────────────────────────────────┼────────────────────────┼───────────────┤\n",
       "│ dense_2 (\u001b[38;5;33mDense\u001b[0m)                 │ (\u001b[38;5;45mNone\u001b[0m, \u001b[38;5;34m1\u001b[0m)              │            \u001b[38;5;34m65\u001b[0m │\n",
       "└─────────────────────────────────┴────────────────────────┴───────────────┘\n"
      ]
     },
     "metadata": {},
     "output_type": "display_data"
    },
    {
     "data": {
      "text/html": [
       "<pre style=\"white-space:pre;overflow-x:auto;line-height:normal;font-family:Menlo,'DejaVu Sans Mono',consolas,'Courier New',monospace\"><span style=\"font-weight: bold\"> Total params: </span><span style=\"color: #00af00; text-decoration-color: #00af00\">5,121</span> (20.00 KB)\n",
       "</pre>\n"
      ],
      "text/plain": [
       "\u001b[1m Total params: \u001b[0m\u001b[38;5;34m5,121\u001b[0m (20.00 KB)\n"
      ]
     },
     "metadata": {},
     "output_type": "display_data"
    },
    {
     "data": {
      "text/html": [
       "<pre style=\"white-space:pre;overflow-x:auto;line-height:normal;font-family:Menlo,'DejaVu Sans Mono',consolas,'Courier New',monospace\"><span style=\"font-weight: bold\"> Trainable params: </span><span style=\"color: #00af00; text-decoration-color: #00af00\">5,121</span> (20.00 KB)\n",
       "</pre>\n"
      ],
      "text/plain": [
       "\u001b[1m Trainable params: \u001b[0m\u001b[38;5;34m5,121\u001b[0m (20.00 KB)\n"
      ]
     },
     "metadata": {},
     "output_type": "display_data"
    },
    {
     "data": {
      "text/html": [
       "<pre style=\"white-space:pre;overflow-x:auto;line-height:normal;font-family:Menlo,'DejaVu Sans Mono',consolas,'Courier New',monospace\"><span style=\"font-weight: bold\"> Non-trainable params: </span><span style=\"color: #00af00; text-decoration-color: #00af00\">0</span> (0.00 B)\n",
       "</pre>\n"
      ],
      "text/plain": [
       "\u001b[1m Non-trainable params: \u001b[0m\u001b[38;5;34m0\u001b[0m (0.00 B)\n"
      ]
     },
     "metadata": {},
     "output_type": "display_data"
    }
   ],
   "source": [
    "model.compile(loss='mse', optimizer=Adam(), metrics=['mae'])\n",
    "model.summary()"
   ]
  },
  {
   "cell_type": "markdown",
   "id": "94d635c3-44b1-47d7-9077-12a895cebb85",
   "metadata": {
    "tags": []
   },
   "source": [
    "### モデルの学習と推論"
   ]
  },
  {
   "cell_type": "markdown",
   "id": "71d7c1a0-19ae-466f-ae70-99bd24ebc6fb",
   "metadata": {},
   "source": [
    "#### データ"
   ]
  },
  {
   "cell_type": "code",
   "execution_count": 28,
   "id": "ae63b241-a19b-4b8d-9c11-6051233b94a5",
   "metadata": {},
   "outputs": [],
   "source": [
    "url = 'https://dotnetdevelopmentinfrastructure.osscons.jp/index.php?plugin=attach&pcmd=open&file=Boston.csv&refer=FrontPage'\n",
    "res = requests.get(url) # , verify=False, proxies=proxies) # プロキシ\n",
    "df = pd.read_csv(io.BytesIO(res.content), encoding='utf-8', sep=\",\")\n",
    "\n",
    "df=df.drop('Unnamed: 0',axis=1)\n",
    "\n",
    "x_org = np.array(df.drop(['medv'], axis=1))\n",
    "y_org = np.array(df.loc[:, ['medv']])\n",
    "\n",
    "mean = x_org.mean(axis=0)\n",
    "std = x_org.std(axis=0)\n",
    "x = (x_org - mean) / std\n",
    "\n",
    "x_train, x_test, y_train, y_test = train_test_split(x, y_org, test_size = 0.3, random_state = 0)"
   ]
  },
  {
   "cell_type": "markdown",
   "id": "19bd839f-4aea-44b3-bb5e-8b5966082128",
   "metadata": {},
   "source": [
    "#### 学習"
   ]
  },
  {
   "cell_type": "code",
   "execution_count": 29,
   "id": "3cb4ff44-9499-4b0d-baec-bfc87e352149",
   "metadata": {},
   "outputs": [
    {
     "name": "stdout",
     "output_type": "stream",
     "text": [
      "Epoch 1/200\n",
      "\u001b[1m18/18\u001b[0m \u001b[32m━━━━━━━━━━━━━━━━━━━━\u001b[0m\u001b[37m\u001b[0m \u001b[1m1s\u001b[0m 10ms/step - loss: 570.2369 - mae: 21.9684 - val_loss: 476.3999 - val_mae: 19.8117\n",
      "Epoch 2/200\n",
      "\u001b[1m18/18\u001b[0m \u001b[32m━━━━━━━━━━━━━━━━━━━━\u001b[0m\u001b[37m\u001b[0m \u001b[1m0s\u001b[0m 4ms/step - loss: 446.0331 - mae: 19.4022 - val_loss: 369.5757 - val_mae: 16.9176\n",
      "Epoch 3/200\n",
      "\u001b[1m18/18\u001b[0m \u001b[32m━━━━━━━━━━━━━━━━━━━━\u001b[0m\u001b[37m\u001b[0m \u001b[1m0s\u001b[0m 4ms/step - loss: 347.4999 - mae: 16.3055 - val_loss: 231.3416 - val_mae: 12.8928\n",
      "Epoch 4/200\n",
      "\u001b[1m18/18\u001b[0m \u001b[32m━━━━━━━━━━━━━━━━━━━━\u001b[0m\u001b[37m\u001b[0m \u001b[1m0s\u001b[0m 4ms/step - loss: 213.9186 - mae: 12.3869 - val_loss: 107.8680 - val_mae: 8.2233\n",
      "Epoch 5/200\n",
      "\u001b[1m18/18\u001b[0m \u001b[32m━━━━━━━━━━━━━━━━━━━━\u001b[0m\u001b[37m\u001b[0m \u001b[1m0s\u001b[0m 4ms/step - loss: 93.7397 - mae: 7.4348 - val_loss: 62.1478 - val_mae: 5.9538\n",
      "Epoch 6/200\n",
      "\u001b[1m18/18\u001b[0m \u001b[32m━━━━━━━━━━━━━━━━━━━━\u001b[0m\u001b[37m\u001b[0m \u001b[1m0s\u001b[0m 3ms/step - loss: 46.9747 - mae: 5.3696 - val_loss: 47.6320 - val_mae: 5.0964\n",
      "Epoch 7/200\n",
      "\u001b[1m18/18\u001b[0m \u001b[32m━━━━━━━━━━━━━━━━━━━━\u001b[0m\u001b[37m\u001b[0m \u001b[1m0s\u001b[0m 3ms/step - loss: 26.4936 - mae: 4.1588 - val_loss: 38.6712 - val_mae: 4.5598\n",
      "Epoch 8/200\n",
      "\u001b[1m18/18\u001b[0m \u001b[32m━━━━━━━━━━━━━━━━━━━━\u001b[0m\u001b[37m\u001b[0m \u001b[1m0s\u001b[0m 3ms/step - loss: 25.6928 - mae: 3.7132 - val_loss: 33.6963 - val_mae: 4.2582\n",
      "Epoch 9/200\n",
      "\u001b[1m18/18\u001b[0m \u001b[32m━━━━━━━━━━━━━━━━━━━━\u001b[0m\u001b[37m\u001b[0m \u001b[1m0s\u001b[0m 4ms/step - loss: 22.4784 - mae: 3.3353 - val_loss: 31.2821 - val_mae: 4.0709\n",
      "Epoch 10/200\n",
      "\u001b[1m18/18\u001b[0m \u001b[32m━━━━━━━━━━━━━━━━━━━━\u001b[0m\u001b[37m\u001b[0m \u001b[1m0s\u001b[0m 4ms/step - loss: 14.3457 - mae: 2.7178 - val_loss: 29.5768 - val_mae: 3.9375\n",
      "Epoch 11/200\n",
      "\u001b[1m18/18\u001b[0m \u001b[32m━━━━━━━━━━━━━━━━━━━━\u001b[0m\u001b[37m\u001b[0m \u001b[1m0s\u001b[0m 4ms/step - loss: 16.7295 - mae: 3.0022 - val_loss: 28.0494 - val_mae: 3.8429\n",
      "Epoch 12/200\n",
      "\u001b[1m18/18\u001b[0m \u001b[32m━━━━━━━━━━━━━━━━━━━━\u001b[0m\u001b[37m\u001b[0m \u001b[1m0s\u001b[0m 4ms/step - loss: 13.9341 - mae: 2.6154 - val_loss: 26.7570 - val_mae: 3.7601\n",
      "Epoch 13/200\n",
      "\u001b[1m18/18\u001b[0m \u001b[32m━━━━━━━━━━━━━━━━━━━━\u001b[0m\u001b[37m\u001b[0m \u001b[1m0s\u001b[0m 4ms/step - loss: 13.8349 - mae: 2.6535 - val_loss: 26.0135 - val_mae: 3.6825\n",
      "Epoch 14/200\n",
      "\u001b[1m18/18\u001b[0m \u001b[32m━━━━━━━━━━━━━━━━━━━━\u001b[0m\u001b[37m\u001b[0m \u001b[1m0s\u001b[0m 4ms/step - loss: 12.4027 - mae: 2.5130 - val_loss: 25.3506 - val_mae: 3.6164\n",
      "Epoch 15/200\n",
      "\u001b[1m18/18\u001b[0m \u001b[32m━━━━━━━━━━━━━━━━━━━━\u001b[0m\u001b[37m\u001b[0m \u001b[1m0s\u001b[0m 3ms/step - loss: 13.6064 - mae: 2.5649 - val_loss: 24.5827 - val_mae: 3.5638\n",
      "Epoch 16/200\n",
      "\u001b[1m18/18\u001b[0m \u001b[32m━━━━━━━━━━━━━━━━━━━━\u001b[0m\u001b[37m\u001b[0m \u001b[1m0s\u001b[0m 4ms/step - loss: 9.6655 - mae: 2.2540 - val_loss: 24.2787 - val_mae: 3.5177\n",
      "Epoch 17/200\n",
      "\u001b[1m18/18\u001b[0m \u001b[32m━━━━━━━━━━━━━━━━━━━━\u001b[0m\u001b[37m\u001b[0m \u001b[1m0s\u001b[0m 3ms/step - loss: 11.0139 - mae: 2.3612 - val_loss: 23.4792 - val_mae: 3.4916\n",
      "Epoch 18/200\n",
      "\u001b[1m18/18\u001b[0m \u001b[32m━━━━━━━━━━━━━━━━━━━━\u001b[0m\u001b[37m\u001b[0m \u001b[1m0s\u001b[0m 3ms/step - loss: 10.2058 - mae: 2.2604 - val_loss: 23.2591 - val_mae: 3.4447\n",
      "Epoch 19/200\n",
      "\u001b[1m18/18\u001b[0m \u001b[32m━━━━━━━━━━━━━━━━━━━━\u001b[0m\u001b[37m\u001b[0m \u001b[1m0s\u001b[0m 3ms/step - loss: 12.8636 - mae: 2.5057 - val_loss: 22.8466 - val_mae: 3.4107\n",
      "Epoch 20/200\n",
      "\u001b[1m18/18\u001b[0m \u001b[32m━━━━━━━━━━━━━━━━━━━━\u001b[0m\u001b[37m\u001b[0m \u001b[1m0s\u001b[0m 4ms/step - loss: 13.2523 - mae: 2.4335 - val_loss: 22.4911 - val_mae: 3.3949\n",
      "Epoch 21/200\n",
      "\u001b[1m18/18\u001b[0m \u001b[32m━━━━━━━━━━━━━━━━━━━━\u001b[0m\u001b[37m\u001b[0m \u001b[1m0s\u001b[0m 4ms/step - loss: 13.3352 - mae: 2.5336 - val_loss: 22.2312 - val_mae: 3.3471\n",
      "Epoch 22/200\n",
      "\u001b[1m18/18\u001b[0m \u001b[32m━━━━━━━━━━━━━━━━━━━━\u001b[0m\u001b[37m\u001b[0m \u001b[1m0s\u001b[0m 3ms/step - loss: 11.3990 - mae: 2.3139 - val_loss: 21.8662 - val_mae: 3.3258\n",
      "Epoch 23/200\n",
      "\u001b[1m18/18\u001b[0m \u001b[32m━━━━━━━━━━━━━━━━━━━━\u001b[0m\u001b[37m\u001b[0m \u001b[1m0s\u001b[0m 3ms/step - loss: 9.6456 - mae: 2.2166 - val_loss: 21.4656 - val_mae: 3.3021\n",
      "Epoch 24/200\n",
      "\u001b[1m18/18\u001b[0m \u001b[32m━━━━━━━━━━━━━━━━━━━━\u001b[0m\u001b[37m\u001b[0m \u001b[1m0s\u001b[0m 4ms/step - loss: 11.9640 - mae: 2.3796 - val_loss: 21.2427 - val_mae: 3.2758\n",
      "Epoch 25/200\n",
      "\u001b[1m18/18\u001b[0m \u001b[32m━━━━━━━━━━━━━━━━━━━━\u001b[0m\u001b[37m\u001b[0m \u001b[1m0s\u001b[0m 3ms/step - loss: 12.2882 - mae: 2.3872 - val_loss: 20.9863 - val_mae: 3.2513\n",
      "Epoch 26/200\n",
      "\u001b[1m18/18\u001b[0m \u001b[32m━━━━━━━━━━━━━━━━━━━━\u001b[0m\u001b[37m\u001b[0m \u001b[1m0s\u001b[0m 4ms/step - loss: 11.5268 - mae: 2.3869 - val_loss: 21.0020 - val_mae: 3.2283\n",
      "Epoch 27/200\n",
      "\u001b[1m18/18\u001b[0m \u001b[32m━━━━━━━━━━━━━━━━━━━━\u001b[0m\u001b[37m\u001b[0m \u001b[1m0s\u001b[0m 5ms/step - loss: 8.7402 - mae: 2.2244 - val_loss: 20.2579 - val_mae: 3.2148\n",
      "Epoch 28/200\n",
      "\u001b[1m18/18\u001b[0m \u001b[32m━━━━━━━━━━━━━━━━━━━━\u001b[0m\u001b[37m\u001b[0m \u001b[1m0s\u001b[0m 4ms/step - loss: 9.3152 - mae: 2.1606 - val_loss: 20.5335 - val_mae: 3.1872\n",
      "Epoch 29/200\n",
      "\u001b[1m18/18\u001b[0m \u001b[32m━━━━━━━━━━━━━━━━━━━━\u001b[0m\u001b[37m\u001b[0m \u001b[1m0s\u001b[0m 3ms/step - loss: 11.5661 - mae: 2.3971 - val_loss: 19.9624 - val_mae: 3.1748\n",
      "Epoch 30/200\n",
      "\u001b[1m18/18\u001b[0m \u001b[32m━━━━━━━━━━━━━━━━━━━━\u001b[0m\u001b[37m\u001b[0m \u001b[1m0s\u001b[0m 4ms/step - loss: 10.7936 - mae: 2.3819 - val_loss: 19.8583 - val_mae: 3.1446\n",
      "Epoch 31/200\n",
      "\u001b[1m18/18\u001b[0m \u001b[32m━━━━━━━━━━━━━━━━━━━━\u001b[0m\u001b[37m\u001b[0m \u001b[1m0s\u001b[0m 4ms/step - loss: 8.5584 - mae: 2.1122 - val_loss: 19.8971 - val_mae: 3.1346\n",
      "Epoch 32/200\n",
      "\u001b[1m18/18\u001b[0m \u001b[32m━━━━━━━━━━━━━━━━━━━━\u001b[0m\u001b[37m\u001b[0m \u001b[1m0s\u001b[0m 4ms/step - loss: 9.9377 - mae: 2.2324 - val_loss: 19.3629 - val_mae: 3.1227\n",
      "Epoch 33/200\n",
      "\u001b[1m18/18\u001b[0m \u001b[32m━━━━━━━━━━━━━━━━━━━━\u001b[0m\u001b[37m\u001b[0m \u001b[1m0s\u001b[0m 3ms/step - loss: 7.9283 - mae: 2.0962 - val_loss: 19.1663 - val_mae: 3.1035\n",
      "Epoch 34/200\n",
      "\u001b[1m18/18\u001b[0m \u001b[32m━━━━━━━━━━━━━━━━━━━━\u001b[0m\u001b[37m\u001b[0m \u001b[1m0s\u001b[0m 4ms/step - loss: 7.9349 - mae: 1.9681 - val_loss: 19.4112 - val_mae: 3.0988\n",
      "Epoch 35/200\n",
      "\u001b[1m18/18\u001b[0m \u001b[32m━━━━━━━━━━━━━━━━━━━━\u001b[0m\u001b[37m\u001b[0m \u001b[1m0s\u001b[0m 3ms/step - loss: 12.0601 - mae: 2.3823 - val_loss: 19.0008 - val_mae: 3.0881\n",
      "Epoch 36/200\n",
      "\u001b[1m18/18\u001b[0m \u001b[32m━━━━━━━━━━━━━━━━━━━━\u001b[0m\u001b[37m\u001b[0m \u001b[1m0s\u001b[0m 3ms/step - loss: 8.1442 - mae: 2.1018 - val_loss: 18.8627 - val_mae: 3.0747\n",
      "Epoch 37/200\n",
      "\u001b[1m18/18\u001b[0m \u001b[32m━━━━━━━━━━━━━━━━━━━━\u001b[0m\u001b[37m\u001b[0m \u001b[1m0s\u001b[0m 4ms/step - loss: 8.4867 - mae: 2.0840 - val_loss: 18.7414 - val_mae: 3.0564\n",
      "Epoch 38/200\n",
      "\u001b[1m18/18\u001b[0m \u001b[32m━━━━━━━━━━━━━━━━━━━━\u001b[0m\u001b[37m\u001b[0m \u001b[1m0s\u001b[0m 3ms/step - loss: 7.5023 - mae: 2.0064 - val_loss: 18.5972 - val_mae: 3.0448\n",
      "Epoch 39/200\n",
      "\u001b[1m18/18\u001b[0m \u001b[32m━━━━━━━━━━━━━━━━━━━━\u001b[0m\u001b[37m\u001b[0m \u001b[1m0s\u001b[0m 3ms/step - loss: 7.9510 - mae: 1.9991 - val_loss: 18.7706 - val_mae: 3.0391\n",
      "Epoch 40/200\n",
      "\u001b[1m18/18\u001b[0m \u001b[32m━━━━━━━━━━━━━━━━━━━━\u001b[0m\u001b[37m\u001b[0m \u001b[1m0s\u001b[0m 4ms/step - loss: 8.5388 - mae: 2.0733 - val_loss: 18.4606 - val_mae: 3.0254\n",
      "Epoch 41/200\n",
      "\u001b[1m18/18\u001b[0m \u001b[32m━━━━━━━━━━━━━━━━━━━━\u001b[0m\u001b[37m\u001b[0m \u001b[1m0s\u001b[0m 5ms/step - loss: 9.7807 - mae: 2.1504 - val_loss: 18.3937 - val_mae: 3.0179\n",
      "Epoch 42/200\n",
      "\u001b[1m18/18\u001b[0m \u001b[32m━━━━━━━━━━━━━━━━━━━━\u001b[0m\u001b[37m\u001b[0m \u001b[1m0s\u001b[0m 5ms/step - loss: 7.9678 - mae: 2.0751 - val_loss: 18.3684 - val_mae: 3.0070\n",
      "Epoch 43/200\n",
      "\u001b[1m18/18\u001b[0m \u001b[32m━━━━━━━━━━━━━━━━━━━━\u001b[0m\u001b[37m\u001b[0m \u001b[1m0s\u001b[0m 6ms/step - loss: 7.2350 - mae: 1.9566 - val_loss: 17.9325 - val_mae: 2.9862\n",
      "Epoch 44/200\n",
      "\u001b[1m18/18\u001b[0m \u001b[32m━━━━━━━━━━━━━━━━━━━━\u001b[0m\u001b[37m\u001b[0m \u001b[1m0s\u001b[0m 3ms/step - loss: 7.3222 - mae: 1.9452 - val_loss: 18.0085 - val_mae: 2.9828\n",
      "Epoch 45/200\n",
      "\u001b[1m18/18\u001b[0m \u001b[32m━━━━━━━━━━━━━━━━━━━━\u001b[0m\u001b[37m\u001b[0m \u001b[1m0s\u001b[0m 3ms/step - loss: 7.2620 - mae: 2.0638 - val_loss: 17.7333 - val_mae: 2.9689\n",
      "Epoch 46/200\n",
      "\u001b[1m18/18\u001b[0m \u001b[32m━━━━━━━━━━━━━━━━━━━━\u001b[0m\u001b[37m\u001b[0m \u001b[1m0s\u001b[0m 3ms/step - loss: 8.9954 - mae: 2.0935 - val_loss: 17.9113 - val_mae: 2.9653\n",
      "Epoch 47/200\n",
      "\u001b[1m18/18\u001b[0m \u001b[32m━━━━━━━━━━━━━━━━━━━━\u001b[0m\u001b[37m\u001b[0m \u001b[1m0s\u001b[0m 3ms/step - loss: 7.7926 - mae: 1.9149 - val_loss: 17.9491 - val_mae: 2.9692\n",
      "Epoch 48/200\n",
      "\u001b[1m18/18\u001b[0m \u001b[32m━━━━━━━━━━━━━━━━━━━━\u001b[0m\u001b[37m\u001b[0m \u001b[1m0s\u001b[0m 3ms/step - loss: 6.8101 - mae: 1.9078 - val_loss: 17.2499 - val_mae: 2.9266\n",
      "Epoch 49/200\n",
      "\u001b[1m18/18\u001b[0m \u001b[32m━━━━━━━━━━━━━━━━━━━━\u001b[0m\u001b[37m\u001b[0m \u001b[1m0s\u001b[0m 4ms/step - loss: 7.6561 - mae: 2.0378 - val_loss: 17.5162 - val_mae: 2.9396\n",
      "Epoch 50/200\n",
      "\u001b[1m18/18\u001b[0m \u001b[32m━━━━━━━━━━━━━━━━━━━━\u001b[0m\u001b[37m\u001b[0m \u001b[1m0s\u001b[0m 4ms/step - loss: 7.8661 - mae: 1.9647 - val_loss: 17.4036 - val_mae: 2.9297\n",
      "Epoch 51/200\n",
      "\u001b[1m18/18\u001b[0m \u001b[32m━━━━━━━━━━━━━━━━━━━━\u001b[0m\u001b[37m\u001b[0m \u001b[1m0s\u001b[0m 3ms/step - loss: 6.5188 - mae: 1.8986 - val_loss: 17.1974 - val_mae: 2.9185\n",
      "Epoch 52/200\n",
      "\u001b[1m18/18\u001b[0m \u001b[32m━━━━━━━━━━━━━━━━━━━━\u001b[0m\u001b[37m\u001b[0m \u001b[1m0s\u001b[0m 4ms/step - loss: 6.6581 - mae: 1.9266 - val_loss: 17.5579 - val_mae: 2.9262\n",
      "Epoch 53/200\n",
      "\u001b[1m18/18\u001b[0m \u001b[32m━━━━━━━━━━━━━━━━━━━━\u001b[0m\u001b[37m\u001b[0m \u001b[1m0s\u001b[0m 4ms/step - loss: 6.9971 - mae: 1.8613 - val_loss: 16.9207 - val_mae: 2.9006\n",
      "Epoch 54/200\n",
      "\u001b[1m18/18\u001b[0m \u001b[32m━━━━━━━━━━━━━━━━━━━━\u001b[0m\u001b[37m\u001b[0m \u001b[1m0s\u001b[0m 4ms/step - loss: 6.1936 - mae: 1.8510 - val_loss: 16.9359 - val_mae: 2.9018\n",
      "Epoch 55/200\n",
      "\u001b[1m18/18\u001b[0m \u001b[32m━━━━━━━━━━━━━━━━━━━━\u001b[0m\u001b[37m\u001b[0m \u001b[1m0s\u001b[0m 4ms/step - loss: 7.2553 - mae: 1.9226 - val_loss: 16.9190 - val_mae: 2.8995\n",
      "Epoch 56/200\n",
      "\u001b[1m18/18\u001b[0m \u001b[32m━━━━━━━━━━━━━━━━━━━━\u001b[0m\u001b[37m\u001b[0m \u001b[1m0s\u001b[0m 4ms/step - loss: 7.2294 - mae: 1.8854 - val_loss: 16.6792 - val_mae: 2.8739\n",
      "Epoch 57/200\n",
      "\u001b[1m18/18\u001b[0m \u001b[32m━━━━━━━━━━━━━━━━━━━━\u001b[0m\u001b[37m\u001b[0m \u001b[1m0s\u001b[0m 3ms/step - loss: 7.1992 - mae: 1.9652 - val_loss: 16.5852 - val_mae: 2.8770\n",
      "Epoch 58/200\n",
      "\u001b[1m18/18\u001b[0m \u001b[32m━━━━━━━━━━━━━━━━━━━━\u001b[0m\u001b[37m\u001b[0m \u001b[1m0s\u001b[0m 5ms/step - loss: 6.9998 - mae: 1.9114 - val_loss: 16.5475 - val_mae: 2.8767\n",
      "Epoch 59/200\n",
      "\u001b[1m18/18\u001b[0m \u001b[32m━━━━━━━━━━━━━━━━━━━━\u001b[0m\u001b[37m\u001b[0m \u001b[1m0s\u001b[0m 3ms/step - loss: 6.7598 - mae: 2.0178 - val_loss: 16.8044 - val_mae: 2.8953\n",
      "Epoch 60/200\n",
      "\u001b[1m18/18\u001b[0m \u001b[32m━━━━━━━━━━━━━━━━━━━━\u001b[0m\u001b[37m\u001b[0m \u001b[1m0s\u001b[0m 4ms/step - loss: 6.2946 - mae: 1.8263 - val_loss: 16.3146 - val_mae: 2.8482\n",
      "Epoch 61/200\n",
      "\u001b[1m18/18\u001b[0m \u001b[32m━━━━━━━━━━━━━━━━━━━━\u001b[0m\u001b[37m\u001b[0m \u001b[1m0s\u001b[0m 4ms/step - loss: 6.5228 - mae: 1.8622 - val_loss: 16.3094 - val_mae: 2.8658\n",
      "Epoch 62/200\n",
      "\u001b[1m18/18\u001b[0m \u001b[32m━━━━━━━━━━━━━━━━━━━━\u001b[0m\u001b[37m\u001b[0m \u001b[1m0s\u001b[0m 4ms/step - loss: 6.2393 - mae: 1.8929 - val_loss: 16.4544 - val_mae: 2.8651\n",
      "Epoch 63/200\n",
      "\u001b[1m18/18\u001b[0m \u001b[32m━━━━━━━━━━━━━━━━━━━━\u001b[0m\u001b[37m\u001b[0m \u001b[1m0s\u001b[0m 5ms/step - loss: 6.4412 - mae: 1.8199 - val_loss: 16.2799 - val_mae: 2.8440\n",
      "Epoch 64/200\n",
      "\u001b[1m18/18\u001b[0m \u001b[32m━━━━━━━━━━━━━━━━━━━━\u001b[0m\u001b[37m\u001b[0m \u001b[1m0s\u001b[0m 3ms/step - loss: 6.2162 - mae: 1.8234 - val_loss: 16.5047 - val_mae: 2.8534\n",
      "Epoch 65/200\n",
      "\u001b[1m18/18\u001b[0m \u001b[32m━━━━━━━━━━━━━━━━━━━━\u001b[0m\u001b[37m\u001b[0m \u001b[1m0s\u001b[0m 4ms/step - loss: 6.6896 - mae: 1.8560 - val_loss: 16.3022 - val_mae: 2.8562\n",
      "Epoch 66/200\n",
      "\u001b[1m18/18\u001b[0m \u001b[32m━━━━━━━━━━━━━━━━━━━━\u001b[0m\u001b[37m\u001b[0m \u001b[1m0s\u001b[0m 4ms/step - loss: 6.5874 - mae: 1.8875 - val_loss: 16.1882 - val_mae: 2.8520\n",
      "Epoch 67/200\n",
      "\u001b[1m18/18\u001b[0m \u001b[32m━━━━━━━━━━━━━━━━━━━━\u001b[0m\u001b[37m\u001b[0m \u001b[1m0s\u001b[0m 4ms/step - loss: 7.4505 - mae: 1.9662 - val_loss: 16.3963 - val_mae: 2.8388\n",
      "Epoch 68/200\n",
      "\u001b[1m18/18\u001b[0m \u001b[32m━━━━━━━━━━━━━━━━━━━━\u001b[0m\u001b[37m\u001b[0m \u001b[1m0s\u001b[0m 4ms/step - loss: 5.5163 - mae: 1.7433 - val_loss: 16.0577 - val_mae: 2.8301\n",
      "Epoch 69/200\n",
      "\u001b[1m18/18\u001b[0m \u001b[32m━━━━━━━━━━━━━━━━━━━━\u001b[0m\u001b[37m\u001b[0m \u001b[1m0s\u001b[0m 4ms/step - loss: 5.2434 - mae: 1.8010 - val_loss: 16.2587 - val_mae: 2.8366\n",
      "Epoch 70/200\n",
      "\u001b[1m18/18\u001b[0m \u001b[32m━━━━━━━━━━━━━━━━━━━━\u001b[0m\u001b[37m\u001b[0m \u001b[1m0s\u001b[0m 4ms/step - loss: 5.8169 - mae: 1.7755 - val_loss: 16.0468 - val_mae: 2.8263\n",
      "Epoch 71/200\n",
      "\u001b[1m18/18\u001b[0m \u001b[32m━━━━━━━━━━━━━━━━━━━━\u001b[0m\u001b[37m\u001b[0m \u001b[1m0s\u001b[0m 4ms/step - loss: 6.0910 - mae: 1.8519 - val_loss: 15.7632 - val_mae: 2.8174\n",
      "Epoch 72/200\n",
      "\u001b[1m18/18\u001b[0m \u001b[32m━━━━━━━━━━━━━━━━━━━━\u001b[0m\u001b[37m\u001b[0m \u001b[1m0s\u001b[0m 10ms/step - loss: 4.7751 - mae: 1.6769 - val_loss: 15.8903 - val_mae: 2.8171\n",
      "Epoch 73/200\n",
      "\u001b[1m18/18\u001b[0m \u001b[32m━━━━━━━━━━━━━━━━━━━━\u001b[0m\u001b[37m\u001b[0m \u001b[1m0s\u001b[0m 9ms/step - loss: 6.2104 - mae: 1.8624 - val_loss: 15.9066 - val_mae: 2.8246\n",
      "Epoch 74/200\n",
      "\u001b[1m18/18\u001b[0m \u001b[32m━━━━━━━━━━━━━━━━━━━━\u001b[0m\u001b[37m\u001b[0m \u001b[1m0s\u001b[0m 5ms/step - loss: 5.9288 - mae: 1.8277 - val_loss: 15.5290 - val_mae: 2.8124\n",
      "Epoch 75/200\n",
      "\u001b[1m18/18\u001b[0m \u001b[32m━━━━━━━━━━━━━━━━━━━━\u001b[0m\u001b[37m\u001b[0m \u001b[1m0s\u001b[0m 4ms/step - loss: 5.4496 - mae: 1.7755 - val_loss: 15.8633 - val_mae: 2.8161\n",
      "Epoch 76/200\n",
      "\u001b[1m18/18\u001b[0m \u001b[32m━━━━━━━━━━━━━━━━━━━━\u001b[0m\u001b[37m\u001b[0m \u001b[1m0s\u001b[0m 4ms/step - loss: 5.7189 - mae: 1.7703 - val_loss: 15.5483 - val_mae: 2.8021\n",
      "Epoch 77/200\n",
      "\u001b[1m18/18\u001b[0m \u001b[32m━━━━━━━━━━━━━━━━━━━━\u001b[0m\u001b[37m\u001b[0m \u001b[1m0s\u001b[0m 4ms/step - loss: 5.2323 - mae: 1.7140 - val_loss: 15.3734 - val_mae: 2.7970\n",
      "Epoch 78/200\n",
      "\u001b[1m18/18\u001b[0m \u001b[32m━━━━━━━━━━━━━━━━━━━━\u001b[0m\u001b[37m\u001b[0m \u001b[1m0s\u001b[0m 4ms/step - loss: 6.2774 - mae: 1.8614 - val_loss: 15.7378 - val_mae: 2.7952\n",
      "Epoch 79/200\n",
      "\u001b[1m18/18\u001b[0m \u001b[32m━━━━━━━━━━━━━━━━━━━━\u001b[0m\u001b[37m\u001b[0m \u001b[1m0s\u001b[0m 4ms/step - loss: 6.0692 - mae: 1.8474 - val_loss: 15.4851 - val_mae: 2.8100\n",
      "Epoch 80/200\n",
      "\u001b[1m18/18\u001b[0m \u001b[32m━━━━━━━━━━━━━━━━━━━━\u001b[0m\u001b[37m\u001b[0m \u001b[1m0s\u001b[0m 3ms/step - loss: 5.3750 - mae: 1.7651 - val_loss: 15.2854 - val_mae: 2.7898\n",
      "Epoch 81/200\n",
      "\u001b[1m18/18\u001b[0m \u001b[32m━━━━━━━━━━━━━━━━━━━━\u001b[0m\u001b[37m\u001b[0m \u001b[1m0s\u001b[0m 4ms/step - loss: 5.1628 - mae: 1.7046 - val_loss: 15.6742 - val_mae: 2.8035\n",
      "Epoch 82/200\n",
      "\u001b[1m18/18\u001b[0m \u001b[32m━━━━━━━━━━━━━━━━━━━━\u001b[0m\u001b[37m\u001b[0m \u001b[1m0s\u001b[0m 4ms/step - loss: 5.7978 - mae: 1.8431 - val_loss: 15.1749 - val_mae: 2.8020\n",
      "Epoch 83/200\n",
      "\u001b[1m18/18\u001b[0m \u001b[32m━━━━━━━━━━━━━━━━━━━━\u001b[0m\u001b[37m\u001b[0m \u001b[1m0s\u001b[0m 4ms/step - loss: 5.3973 - mae: 1.7286 - val_loss: 15.4906 - val_mae: 2.8180\n",
      "Epoch 84/200\n",
      "\u001b[1m18/18\u001b[0m \u001b[32m━━━━━━━━━━━━━━━━━━━━\u001b[0m\u001b[37m\u001b[0m \u001b[1m0s\u001b[0m 5ms/step - loss: 4.4164 - mae: 1.5882 - val_loss: 15.3950 - val_mae: 2.7822\n",
      "Epoch 85/200\n",
      "\u001b[1m18/18\u001b[0m \u001b[32m━━━━━━━━━━━━━━━━━━━━\u001b[0m\u001b[37m\u001b[0m \u001b[1m0s\u001b[0m 4ms/step - loss: 4.6600 - mae: 1.5915 - val_loss: 15.2538 - val_mae: 2.7830\n",
      "Epoch 86/200\n",
      "\u001b[1m18/18\u001b[0m \u001b[32m━━━━━━━━━━━━━━━━━━━━\u001b[0m\u001b[37m\u001b[0m \u001b[1m0s\u001b[0m 4ms/step - loss: 4.7811 - mae: 1.6311 - val_loss: 15.0293 - val_mae: 2.7846\n",
      "Epoch 87/200\n",
      "\u001b[1m18/18\u001b[0m \u001b[32m━━━━━━━━━━━━━━━━━━━━\u001b[0m\u001b[37m\u001b[0m \u001b[1m0s\u001b[0m 4ms/step - loss: 4.9592 - mae: 1.6687 - val_loss: 15.2998 - val_mae: 2.7734\n",
      "Epoch 88/200\n",
      "\u001b[1m18/18\u001b[0m \u001b[32m━━━━━━━━━━━━━━━━━━━━\u001b[0m\u001b[37m\u001b[0m \u001b[1m0s\u001b[0m 4ms/step - loss: 4.6835 - mae: 1.6294 - val_loss: 14.9635 - val_mae: 2.7660\n",
      "Epoch 89/200\n",
      "\u001b[1m18/18\u001b[0m \u001b[32m━━━━━━━━━━━━━━━━━━━━\u001b[0m\u001b[37m\u001b[0m \u001b[1m0s\u001b[0m 4ms/step - loss: 4.7423 - mae: 1.6587 - val_loss: 15.0615 - val_mae: 2.7626\n",
      "Epoch 90/200\n",
      "\u001b[1m18/18\u001b[0m \u001b[32m━━━━━━━━━━━━━━━━━━━━\u001b[0m\u001b[37m\u001b[0m \u001b[1m0s\u001b[0m 3ms/step - loss: 4.4246 - mae: 1.5803 - val_loss: 15.1013 - val_mae: 2.7686\n",
      "Epoch 91/200\n",
      "\u001b[1m18/18\u001b[0m \u001b[32m━━━━━━━━━━━━━━━━━━━━\u001b[0m\u001b[37m\u001b[0m \u001b[1m0s\u001b[0m 5ms/step - loss: 5.6692 - mae: 1.7690 - val_loss: 15.3156 - val_mae: 2.7790\n",
      "Epoch 92/200\n",
      "\u001b[1m18/18\u001b[0m \u001b[32m━━━━━━━━━━━━━━━━━━━━\u001b[0m\u001b[37m\u001b[0m \u001b[1m0s\u001b[0m 4ms/step - loss: 4.5808 - mae: 1.6004 - val_loss: 14.9651 - val_mae: 2.7741\n",
      "Epoch 93/200\n",
      "\u001b[1m18/18\u001b[0m \u001b[32m━━━━━━━━━━━━━━━━━━━━\u001b[0m\u001b[37m\u001b[0m \u001b[1m0s\u001b[0m 4ms/step - loss: 4.1278 - mae: 1.5748 - val_loss: 15.2759 - val_mae: 2.7805\n",
      "Epoch 94/200\n",
      "\u001b[1m18/18\u001b[0m \u001b[32m━━━━━━━━━━━━━━━━━━━━\u001b[0m\u001b[37m\u001b[0m \u001b[1m0s\u001b[0m 4ms/step - loss: 4.9074 - mae: 1.6582 - val_loss: 14.8376 - val_mae: 2.7620\n",
      "Epoch 95/200\n",
      "\u001b[1m18/18\u001b[0m \u001b[32m━━━━━━━━━━━━━━━━━━━━\u001b[0m\u001b[37m\u001b[0m \u001b[1m0s\u001b[0m 4ms/step - loss: 4.9465 - mae: 1.7002 - val_loss: 15.0587 - val_mae: 2.7841\n",
      "Epoch 96/200\n",
      "\u001b[1m18/18\u001b[0m \u001b[32m━━━━━━━━━━━━━━━━━━━━\u001b[0m\u001b[37m\u001b[0m \u001b[1m0s\u001b[0m 4ms/step - loss: 4.9036 - mae: 1.6361 - val_loss: 14.7456 - val_mae: 2.7626\n",
      "Epoch 97/200\n",
      "\u001b[1m18/18\u001b[0m \u001b[32m━━━━━━━━━━━━━━━━━━━━\u001b[0m\u001b[37m\u001b[0m \u001b[1m0s\u001b[0m 4ms/step - loss: 4.6426 - mae: 1.6313 - val_loss: 14.5135 - val_mae: 2.7478\n",
      "Epoch 98/200\n",
      "\u001b[1m18/18\u001b[0m \u001b[32m━━━━━━━━━━━━━━━━━━━━\u001b[0m\u001b[37m\u001b[0m \u001b[1m0s\u001b[0m 4ms/step - loss: 4.4545 - mae: 1.5987 - val_loss: 14.8238 - val_mae: 2.7818\n",
      "Epoch 99/200\n",
      "\u001b[1m18/18\u001b[0m \u001b[32m━━━━━━━━━━━━━━━━━━━━\u001b[0m\u001b[37m\u001b[0m \u001b[1m0s\u001b[0m 5ms/step - loss: 4.3737 - mae: 1.5862 - val_loss: 15.0261 - val_mae: 2.7600\n",
      "Epoch 100/200\n",
      "\u001b[1m18/18\u001b[0m \u001b[32m━━━━━━━━━━━━━━━━━━━━\u001b[0m\u001b[37m\u001b[0m \u001b[1m0s\u001b[0m 4ms/step - loss: 4.4834 - mae: 1.5697 - val_loss: 14.9301 - val_mae: 2.7526\n",
      "Epoch 101/200\n",
      "\u001b[1m18/18\u001b[0m \u001b[32m━━━━━━━━━━━━━━━━━━━━\u001b[0m\u001b[37m\u001b[0m \u001b[1m0s\u001b[0m 4ms/step - loss: 4.2154 - mae: 1.5662 - val_loss: 14.5587 - val_mae: 2.7585\n",
      "Epoch 102/200\n",
      "\u001b[1m18/18\u001b[0m \u001b[32m━━━━━━━━━━━━━━━━━━━━\u001b[0m\u001b[37m\u001b[0m \u001b[1m0s\u001b[0m 5ms/step - loss: 5.1410 - mae: 1.6749 - val_loss: 14.8845 - val_mae: 2.7472\n",
      "Epoch 103/200\n",
      "\u001b[1m18/18\u001b[0m \u001b[32m━━━━━━━━━━━━━━━━━━━━\u001b[0m\u001b[37m\u001b[0m \u001b[1m0s\u001b[0m 5ms/step - loss: 5.1542 - mae: 1.6669 - val_loss: 14.9636 - val_mae: 2.7996\n",
      "Epoch 104/200\n",
      "\u001b[1m18/18\u001b[0m \u001b[32m━━━━━━━━━━━━━━━━━━━━\u001b[0m\u001b[37m\u001b[0m \u001b[1m0s\u001b[0m 5ms/step - loss: 4.3183 - mae: 1.5919 - val_loss: 15.0973 - val_mae: 2.7588\n",
      "Epoch 105/200\n",
      "\u001b[1m18/18\u001b[0m \u001b[32m━━━━━━━━━━━━━━━━━━━━\u001b[0m\u001b[37m\u001b[0m \u001b[1m0s\u001b[0m 6ms/step - loss: 4.2640 - mae: 1.5656 - val_loss: 14.6828 - val_mae: 2.7489\n",
      "Epoch 106/200\n",
      "\u001b[1m18/18\u001b[0m \u001b[32m━━━━━━━━━━━━━━━━━━━━\u001b[0m\u001b[37m\u001b[0m \u001b[1m0s\u001b[0m 6ms/step - loss: 4.2432 - mae: 1.5640 - val_loss: 14.5086 - val_mae: 2.7523\n",
      "Epoch 107/200\n",
      "\u001b[1m18/18\u001b[0m \u001b[32m━━━━━━━━━━━━━━━━━━━━\u001b[0m\u001b[37m\u001b[0m \u001b[1m0s\u001b[0m 8ms/step - loss: 4.7269 - mae: 1.6735 - val_loss: 14.7920 - val_mae: 2.7493\n",
      "Epoch 108/200\n",
      "\u001b[1m18/18\u001b[0m \u001b[32m━━━━━━━━━━━━━━━━━━━━\u001b[0m\u001b[37m\u001b[0m \u001b[1m0s\u001b[0m 6ms/step - loss: 4.4170 - mae: 1.6255 - val_loss: 14.5725 - val_mae: 2.7377\n",
      "Epoch 109/200\n",
      "\u001b[1m18/18\u001b[0m \u001b[32m━━━━━━━━━━━━━━━━━━━━\u001b[0m\u001b[37m\u001b[0m \u001b[1m0s\u001b[0m 5ms/step - loss: 4.6016 - mae: 1.6320 - val_loss: 14.5077 - val_mae: 2.7318\n",
      "Epoch 110/200\n",
      "\u001b[1m18/18\u001b[0m \u001b[32m━━━━━━━━━━━━━━━━━━━━\u001b[0m\u001b[37m\u001b[0m \u001b[1m0s\u001b[0m 5ms/step - loss: 4.8586 - mae: 1.6712 - val_loss: 14.4976 - val_mae: 2.7434\n",
      "Epoch 111/200\n",
      "\u001b[1m18/18\u001b[0m \u001b[32m━━━━━━━━━━━━━━━━━━━━\u001b[0m\u001b[37m\u001b[0m \u001b[1m0s\u001b[0m 5ms/step - loss: 3.9426 - mae: 1.5323 - val_loss: 14.7336 - val_mae: 2.7402\n",
      "Epoch 112/200\n",
      "\u001b[1m18/18\u001b[0m \u001b[32m━━━━━━━━━━━━━━━━━━━━\u001b[0m\u001b[37m\u001b[0m \u001b[1m0s\u001b[0m 4ms/step - loss: 3.9054 - mae: 1.4835 - val_loss: 15.0646 - val_mae: 2.7445\n",
      "Epoch 113/200\n",
      "\u001b[1m18/18\u001b[0m \u001b[32m━━━━━━━━━━━━━━━━━━━━\u001b[0m\u001b[37m\u001b[0m \u001b[1m0s\u001b[0m 4ms/step - loss: 4.6552 - mae: 1.5845 - val_loss: 14.5965 - val_mae: 2.7432\n",
      "Epoch 114/200\n",
      "\u001b[1m18/18\u001b[0m \u001b[32m━━━━━━━━━━━━━━━━━━━━\u001b[0m\u001b[37m\u001b[0m \u001b[1m0s\u001b[0m 4ms/step - loss: 4.2446 - mae: 1.5546 - val_loss: 14.5021 - val_mae: 2.7362\n",
      "Epoch 115/200\n",
      "\u001b[1m18/18\u001b[0m \u001b[32m━━━━━━━━━━━━━━━━━━━━\u001b[0m\u001b[37m\u001b[0m \u001b[1m0s\u001b[0m 5ms/step - loss: 3.6427 - mae: 1.4477 - val_loss: 14.2438 - val_mae: 2.7496\n",
      "Epoch 116/200\n",
      "\u001b[1m18/18\u001b[0m \u001b[32m━━━━━━━━━━━━━━━━━━━━\u001b[0m\u001b[37m\u001b[0m \u001b[1m0s\u001b[0m 4ms/step - loss: 3.8942 - mae: 1.4750 - val_loss: 14.4718 - val_mae: 2.7246\n",
      "Epoch 117/200\n",
      "\u001b[1m18/18\u001b[0m \u001b[32m━━━━━━━━━━━━━━━━━━━━\u001b[0m\u001b[37m\u001b[0m \u001b[1m0s\u001b[0m 5ms/step - loss: 3.6894 - mae: 1.4830 - val_loss: 14.2287 - val_mae: 2.7226\n",
      "Epoch 118/200\n",
      "\u001b[1m18/18\u001b[0m \u001b[32m━━━━━━━━━━━━━━━━━━━━\u001b[0m\u001b[37m\u001b[0m \u001b[1m0s\u001b[0m 4ms/step - loss: 3.0843 - mae: 1.3615 - val_loss: 14.8578 - val_mae: 2.7722\n",
      "Epoch 119/200\n",
      "\u001b[1m18/18\u001b[0m \u001b[32m━━━━━━━━━━━━━━━━━━━━\u001b[0m\u001b[37m\u001b[0m \u001b[1m0s\u001b[0m 4ms/step - loss: 4.2554 - mae: 1.5956 - val_loss: 14.5580 - val_mae: 2.7205\n",
      "Epoch 120/200\n",
      "\u001b[1m18/18\u001b[0m \u001b[32m━━━━━━━━━━━━━━━━━━━━\u001b[0m\u001b[37m\u001b[0m \u001b[1m0s\u001b[0m 4ms/step - loss: 3.7763 - mae: 1.4718 - val_loss: 14.0311 - val_mae: 2.7284\n",
      "Epoch 121/200\n",
      "\u001b[1m18/18\u001b[0m \u001b[32m━━━━━━━━━━━━━━━━━━━━\u001b[0m\u001b[37m\u001b[0m \u001b[1m0s\u001b[0m 4ms/step - loss: 3.9416 - mae: 1.5172 - val_loss: 14.5425 - val_mae: 2.7337\n",
      "Epoch 122/200\n",
      "\u001b[1m18/18\u001b[0m \u001b[32m━━━━━━━━━━━━━━━━━━━━\u001b[0m\u001b[37m\u001b[0m \u001b[1m0s\u001b[0m 4ms/step - loss: 3.8251 - mae: 1.5018 - val_loss: 14.3682 - val_mae: 2.7279\n",
      "Epoch 123/200\n",
      "\u001b[1m18/18\u001b[0m \u001b[32m━━━━━━━━━━━━━━━━━━━━\u001b[0m\u001b[37m\u001b[0m \u001b[1m0s\u001b[0m 4ms/step - loss: 3.8208 - mae: 1.4904 - val_loss: 14.2372 - val_mae: 2.7376\n",
      "Epoch 124/200\n",
      "\u001b[1m18/18\u001b[0m \u001b[32m━━━━━━━━━━━━━━━━━━━━\u001b[0m\u001b[37m\u001b[0m \u001b[1m0s\u001b[0m 4ms/step - loss: 3.9296 - mae: 1.5294 - val_loss: 14.5865 - val_mae: 2.7301\n",
      "Epoch 125/200\n",
      "\u001b[1m18/18\u001b[0m \u001b[32m━━━━━━━━━━━━━━━━━━━━\u001b[0m\u001b[37m\u001b[0m \u001b[1m0s\u001b[0m 4ms/step - loss: 4.3393 - mae: 1.5394 - val_loss: 14.0153 - val_mae: 2.7028\n",
      "Epoch 126/200\n",
      "\u001b[1m18/18\u001b[0m \u001b[32m━━━━━━━━━━━━━━━━━━━━\u001b[0m\u001b[37m\u001b[0m \u001b[1m0s\u001b[0m 4ms/step - loss: 4.2169 - mae: 1.5535 - val_loss: 14.3064 - val_mae: 2.7144\n",
      "Epoch 127/200\n",
      "\u001b[1m18/18\u001b[0m \u001b[32m━━━━━━━━━━━━━━━━━━━━\u001b[0m\u001b[37m\u001b[0m \u001b[1m0s\u001b[0m 4ms/step - loss: 3.8943 - mae: 1.4911 - val_loss: 14.6582 - val_mae: 2.7150\n",
      "Epoch 128/200\n",
      "\u001b[1m18/18\u001b[0m \u001b[32m━━━━━━━━━━━━━━━━━━━━\u001b[0m\u001b[37m\u001b[0m \u001b[1m0s\u001b[0m 5ms/step - loss: 3.5325 - mae: 1.4313 - val_loss: 14.1379 - val_mae: 2.7391\n",
      "Epoch 129/200\n",
      "\u001b[1m18/18\u001b[0m \u001b[32m━━━━━━━━━━━━━━━━━━━━\u001b[0m\u001b[37m\u001b[0m \u001b[1m0s\u001b[0m 5ms/step - loss: 3.7140 - mae: 1.4862 - val_loss: 14.1119 - val_mae: 2.7104\n",
      "Epoch 130/200\n",
      "\u001b[1m18/18\u001b[0m \u001b[32m━━━━━━━━━━━━━━━━━━━━\u001b[0m\u001b[37m\u001b[0m \u001b[1m0s\u001b[0m 6ms/step - loss: 3.3495 - mae: 1.3870 - val_loss: 14.3621 - val_mae: 2.6937\n",
      "Epoch 131/200\n",
      "\u001b[1m18/18\u001b[0m \u001b[32m━━━━━━━━━━━━━━━━━━━━\u001b[0m\u001b[37m\u001b[0m \u001b[1m0s\u001b[0m 14ms/step - loss: 3.3298 - mae: 1.3770 - val_loss: 14.1677 - val_mae: 2.7096\n",
      "Epoch 132/200\n",
      "\u001b[1m18/18\u001b[0m \u001b[32m━━━━━━━━━━━━━━━━━━━━\u001b[0m\u001b[37m\u001b[0m \u001b[1m0s\u001b[0m 8ms/step - loss: 3.9930 - mae: 1.5269 - val_loss: 14.3106 - val_mae: 2.6993\n",
      "Epoch 133/200\n",
      "\u001b[1m18/18\u001b[0m \u001b[32m━━━━━━━━━━━━━━━━━━━━\u001b[0m\u001b[37m\u001b[0m \u001b[1m0s\u001b[0m 6ms/step - loss: 3.6476 - mae: 1.4558 - val_loss: 14.1285 - val_mae: 2.7017\n",
      "Epoch 134/200\n",
      "\u001b[1m18/18\u001b[0m \u001b[32m━━━━━━━━━━━━━━━━━━━━\u001b[0m\u001b[37m\u001b[0m \u001b[1m0s\u001b[0m 7ms/step - loss: 3.5826 - mae: 1.4191 - val_loss: 14.1106 - val_mae: 2.7025\n",
      "Epoch 135/200\n",
      "\u001b[1m18/18\u001b[0m \u001b[32m━━━━━━━━━━━━━━━━━━━━\u001b[0m\u001b[37m\u001b[0m \u001b[1m0s\u001b[0m 6ms/step - loss: 3.6223 - mae: 1.4639 - val_loss: 14.5484 - val_mae: 2.7022\n",
      "Epoch 136/200\n",
      "\u001b[1m18/18\u001b[0m \u001b[32m━━━━━━━━━━━━━━━━━━━━\u001b[0m\u001b[37m\u001b[0m \u001b[1m0s\u001b[0m 5ms/step - loss: 3.0858 - mae: 1.2968 - val_loss: 13.8776 - val_mae: 2.6911\n",
      "Epoch 137/200\n",
      "\u001b[1m18/18\u001b[0m \u001b[32m━━━━━━━━━━━━━━━━━━━━\u001b[0m\u001b[37m\u001b[0m \u001b[1m0s\u001b[0m 5ms/step - loss: 3.8879 - mae: 1.5044 - val_loss: 14.0487 - val_mae: 2.6989\n",
      "Epoch 138/200\n",
      "\u001b[1m18/18\u001b[0m \u001b[32m━━━━━━━━━━━━━━━━━━━━\u001b[0m\u001b[37m\u001b[0m \u001b[1m0s\u001b[0m 5ms/step - loss: 3.6437 - mae: 1.4086 - val_loss: 14.5188 - val_mae: 2.6956\n",
      "Epoch 139/200\n",
      "\u001b[1m18/18\u001b[0m \u001b[32m━━━━━━━━━━━━━━━━━━━━\u001b[0m\u001b[37m\u001b[0m \u001b[1m0s\u001b[0m 5ms/step - loss: 4.2694 - mae: 1.5434 - val_loss: 14.2569 - val_mae: 2.6912\n",
      "Epoch 140/200\n",
      "\u001b[1m18/18\u001b[0m \u001b[32m━━━━━━━━━━━━━━━━━━━━\u001b[0m\u001b[37m\u001b[0m \u001b[1m0s\u001b[0m 5ms/step - loss: 3.6232 - mae: 1.4267 - val_loss: 14.0511 - val_mae: 2.7314\n",
      "Epoch 141/200\n",
      "\u001b[1m18/18\u001b[0m \u001b[32m━━━━━━━━━━━━━━━━━━━━\u001b[0m\u001b[37m\u001b[0m \u001b[1m0s\u001b[0m 4ms/step - loss: 2.9876 - mae: 1.3205 - val_loss: 14.3406 - val_mae: 2.6962\n",
      "Epoch 142/200\n",
      "\u001b[1m18/18\u001b[0m \u001b[32m━━━━━━━━━━━━━━━━━━━━\u001b[0m\u001b[37m\u001b[0m \u001b[1m0s\u001b[0m 4ms/step - loss: 3.2356 - mae: 1.3884 - val_loss: 14.3100 - val_mae: 2.6762\n",
      "Epoch 143/200\n",
      "\u001b[1m18/18\u001b[0m \u001b[32m━━━━━━━━━━━━━━━━━━━━\u001b[0m\u001b[37m\u001b[0m \u001b[1m0s\u001b[0m 5ms/step - loss: 3.0674 - mae: 1.3483 - val_loss: 14.5217 - val_mae: 2.6959\n",
      "Epoch 144/200\n",
      "\u001b[1m18/18\u001b[0m \u001b[32m━━━━━━━━━━━━━━━━━━━━\u001b[0m\u001b[37m\u001b[0m \u001b[1m0s\u001b[0m 4ms/step - loss: 3.7718 - mae: 1.5085 - val_loss: 14.0605 - val_mae: 2.6968\n",
      "Epoch 145/200\n",
      "\u001b[1m18/18\u001b[0m \u001b[32m━━━━━━━━━━━━━━━━━━━━\u001b[0m\u001b[37m\u001b[0m \u001b[1m0s\u001b[0m 4ms/step - loss: 3.5734 - mae: 1.4190 - val_loss: 13.9962 - val_mae: 2.6818\n",
      "Epoch 146/200\n",
      "\u001b[1m18/18\u001b[0m \u001b[32m━━━━━━━━━━━━━━━━━━━━\u001b[0m\u001b[37m\u001b[0m \u001b[1m0s\u001b[0m 4ms/step - loss: 3.0838 - mae: 1.3261 - val_loss: 14.6117 - val_mae: 2.6931\n",
      "Epoch 147/200\n",
      "\u001b[1m18/18\u001b[0m \u001b[32m━━━━━━━━━━━━━━━━━━━━\u001b[0m\u001b[37m\u001b[0m \u001b[1m0s\u001b[0m 4ms/step - loss: 3.1409 - mae: 1.3703 - val_loss: 14.5136 - val_mae: 2.7575\n",
      "Epoch 148/200\n",
      "\u001b[1m18/18\u001b[0m \u001b[32m━━━━━━━━━━━━━━━━━━━━\u001b[0m\u001b[37m\u001b[0m \u001b[1m0s\u001b[0m 4ms/step - loss: 3.4894 - mae: 1.4115 - val_loss: 14.6111 - val_mae: 2.7000\n",
      "Epoch 149/200\n",
      "\u001b[1m18/18\u001b[0m \u001b[32m━━━━━━━━━━━━━━━━━━━━\u001b[0m\u001b[37m\u001b[0m \u001b[1m0s\u001b[0m 4ms/step - loss: 3.4668 - mae: 1.4374 - val_loss: 14.3682 - val_mae: 2.7005\n",
      "Epoch 150/200\n",
      "\u001b[1m18/18\u001b[0m \u001b[32m━━━━━━━━━━━━━━━━━━━━\u001b[0m\u001b[37m\u001b[0m \u001b[1m0s\u001b[0m 4ms/step - loss: 3.1171 - mae: 1.3327 - val_loss: 14.0308 - val_mae: 2.6790\n",
      "Epoch 151/200\n",
      "\u001b[1m18/18\u001b[0m \u001b[32m━━━━━━━━━━━━━━━━━━━━\u001b[0m\u001b[37m\u001b[0m \u001b[1m0s\u001b[0m 5ms/step - loss: 3.1719 - mae: 1.3774 - val_loss: 14.1009 - val_mae: 2.7094\n",
      "Epoch 152/200\n",
      "\u001b[1m18/18\u001b[0m \u001b[32m━━━━━━━━━━━━━━━━━━━━\u001b[0m\u001b[37m\u001b[0m \u001b[1m0s\u001b[0m 4ms/step - loss: 3.7663 - mae: 1.4634 - val_loss: 14.0840 - val_mae: 2.6767\n",
      "Epoch 153/200\n",
      "\u001b[1m18/18\u001b[0m \u001b[32m━━━━━━━━━━━━━━━━━━━━\u001b[0m\u001b[37m\u001b[0m \u001b[1m0s\u001b[0m 4ms/step - loss: 3.3410 - mae: 1.3973 - val_loss: 14.7036 - val_mae: 2.7318\n",
      "Epoch 154/200\n",
      "\u001b[1m18/18\u001b[0m \u001b[32m━━━━━━━━━━━━━━━━━━━━\u001b[0m\u001b[37m\u001b[0m \u001b[1m0s\u001b[0m 4ms/step - loss: 3.1716 - mae: 1.3488 - val_loss: 13.5994 - val_mae: 2.6915\n",
      "Epoch 155/200\n",
      "\u001b[1m18/18\u001b[0m \u001b[32m━━━━━━━━━━━━━━━━━━━━\u001b[0m\u001b[37m\u001b[0m \u001b[1m0s\u001b[0m 4ms/step - loss: 3.4369 - mae: 1.3888 - val_loss: 14.8485 - val_mae: 2.7018\n",
      "Epoch 156/200\n",
      "\u001b[1m18/18\u001b[0m \u001b[32m━━━━━━━━━━━━━━━━━━━━\u001b[0m\u001b[37m\u001b[0m \u001b[1m0s\u001b[0m 4ms/step - loss: 3.6715 - mae: 1.4777 - val_loss: 13.8753 - val_mae: 2.6717\n",
      "Epoch 157/200\n",
      "\u001b[1m18/18\u001b[0m \u001b[32m━━━━━━━━━━━━━━━━━━━━\u001b[0m\u001b[37m\u001b[0m \u001b[1m0s\u001b[0m 4ms/step - loss: 3.5152 - mae: 1.4180 - val_loss: 14.1884 - val_mae: 2.6888\n",
      "Epoch 158/200\n",
      "\u001b[1m18/18\u001b[0m \u001b[32m━━━━━━━━━━━━━━━━━━━━\u001b[0m\u001b[37m\u001b[0m \u001b[1m0s\u001b[0m 4ms/step - loss: 2.9339 - mae: 1.3049 - val_loss: 14.1149 - val_mae: 2.6769\n",
      "Epoch 159/200\n",
      "\u001b[1m18/18\u001b[0m \u001b[32m━━━━━━━━━━━━━━━━━━━━\u001b[0m\u001b[37m\u001b[0m \u001b[1m0s\u001b[0m 4ms/step - loss: 3.2329 - mae: 1.3655 - val_loss: 14.0210 - val_mae: 2.6721\n",
      "Epoch 160/200\n",
      "\u001b[1m18/18\u001b[0m \u001b[32m━━━━━━━━━━━━━━━━━━━━\u001b[0m\u001b[37m\u001b[0m \u001b[1m0s\u001b[0m 4ms/step - loss: 3.2387 - mae: 1.3530 - val_loss: 14.2307 - val_mae: 2.6975\n",
      "Epoch 161/200\n",
      "\u001b[1m18/18\u001b[0m \u001b[32m━━━━━━━━━━━━━━━━━━━━\u001b[0m\u001b[37m\u001b[0m \u001b[1m0s\u001b[0m 4ms/step - loss: 3.2550 - mae: 1.3694 - val_loss: 13.8190 - val_mae: 2.6964\n",
      "Epoch 162/200\n",
      "\u001b[1m18/18\u001b[0m \u001b[32m━━━━━━━━━━━━━━━━━━━━\u001b[0m\u001b[37m\u001b[0m \u001b[1m0s\u001b[0m 4ms/step - loss: 2.7095 - mae: 1.2511 - val_loss: 14.0331 - val_mae: 2.6495\n",
      "Epoch 163/200\n",
      "\u001b[1m18/18\u001b[0m \u001b[32m━━━━━━━━━━━━━━━━━━━━\u001b[0m\u001b[37m\u001b[0m \u001b[1m0s\u001b[0m 4ms/step - loss: 3.8430 - mae: 1.4584 - val_loss: 14.6855 - val_mae: 2.6795\n",
      "Epoch 164/200\n",
      "\u001b[1m18/18\u001b[0m \u001b[32m━━━━━━━━━━━━━━━━━━━━\u001b[0m\u001b[37m\u001b[0m \u001b[1m0s\u001b[0m 4ms/step - loss: 3.1070 - mae: 1.3516 - val_loss: 13.7199 - val_mae: 2.6776\n",
      "Epoch 165/200\n",
      "\u001b[1m18/18\u001b[0m \u001b[32m━━━━━━━━━━━━━━━━━━━━\u001b[0m\u001b[37m\u001b[0m \u001b[1m0s\u001b[0m 4ms/step - loss: 2.9955 - mae: 1.2975 - val_loss: 14.5489 - val_mae: 2.6754\n",
      "Epoch 166/200\n",
      "\u001b[1m18/18\u001b[0m \u001b[32m━━━━━━━━━━━━━━━━━━━━\u001b[0m\u001b[37m\u001b[0m \u001b[1m0s\u001b[0m 4ms/step - loss: 2.5826 - mae: 1.2037 - val_loss: 13.7834 - val_mae: 2.6865\n",
      "Epoch 167/200\n",
      "\u001b[1m18/18\u001b[0m \u001b[32m━━━━━━━━━━━━━━━━━━━━\u001b[0m\u001b[37m\u001b[0m \u001b[1m0s\u001b[0m 4ms/step - loss: 3.4500 - mae: 1.3911 - val_loss: 13.7982 - val_mae: 2.6774\n",
      "Epoch 168/200\n",
      "\u001b[1m18/18\u001b[0m \u001b[32m━━━━━━━━━━━━━━━━━━━━\u001b[0m\u001b[37m\u001b[0m \u001b[1m0s\u001b[0m 4ms/step - loss: 3.0627 - mae: 1.3491 - val_loss: 14.0330 - val_mae: 2.6628\n",
      "Epoch 169/200\n",
      "\u001b[1m18/18\u001b[0m \u001b[32m━━━━━━━━━━━━━━━━━━━━\u001b[0m\u001b[37m\u001b[0m \u001b[1m0s\u001b[0m 4ms/step - loss: 3.0718 - mae: 1.2757 - val_loss: 14.4533 - val_mae: 2.6714\n",
      "Epoch 170/200\n",
      "\u001b[1m18/18\u001b[0m \u001b[32m━━━━━━━━━━━━━━━━━━━━\u001b[0m\u001b[37m\u001b[0m \u001b[1m0s\u001b[0m 4ms/step - loss: 2.9684 - mae: 1.3162 - val_loss: 14.2521 - val_mae: 2.6979\n",
      "Epoch 171/200\n",
      "\u001b[1m18/18\u001b[0m \u001b[32m━━━━━━━━━━━━━━━━━━━━\u001b[0m\u001b[37m\u001b[0m \u001b[1m0s\u001b[0m 4ms/step - loss: 2.7828 - mae: 1.2527 - val_loss: 14.0525 - val_mae: 2.6545\n",
      "Epoch 172/200\n",
      "\u001b[1m18/18\u001b[0m \u001b[32m━━━━━━━━━━━━━━━━━━━━\u001b[0m\u001b[37m\u001b[0m \u001b[1m0s\u001b[0m 4ms/step - loss: 2.8988 - mae: 1.2810 - val_loss: 13.8313 - val_mae: 2.6827\n",
      "Epoch 173/200\n",
      "\u001b[1m18/18\u001b[0m \u001b[32m━━━━━━━━━━━━━━━━━━━━\u001b[0m\u001b[37m\u001b[0m \u001b[1m0s\u001b[0m 4ms/step - loss: 2.4499 - mae: 1.2019 - val_loss: 13.9359 - val_mae: 2.6654\n",
      "Epoch 174/200\n",
      "\u001b[1m18/18\u001b[0m \u001b[32m━━━━━━━━━━━━━━━━━━━━\u001b[0m\u001b[37m\u001b[0m \u001b[1m0s\u001b[0m 4ms/step - loss: 2.8537 - mae: 1.2638 - val_loss: 14.5638 - val_mae: 2.6835\n",
      "Epoch 175/200\n",
      "\u001b[1m18/18\u001b[0m \u001b[32m━━━━━━━━━━━━━━━━━━━━\u001b[0m\u001b[37m\u001b[0m \u001b[1m0s\u001b[0m 4ms/step - loss: 2.7493 - mae: 1.2693 - val_loss: 14.2744 - val_mae: 2.6696\n",
      "Epoch 176/200\n",
      "\u001b[1m18/18\u001b[0m \u001b[32m━━━━━━━━━━━━━━━━━━━━\u001b[0m\u001b[37m\u001b[0m \u001b[1m0s\u001b[0m 4ms/step - loss: 2.9614 - mae: 1.2662 - val_loss: 13.8418 - val_mae: 2.6747\n",
      "Epoch 177/200\n",
      "\u001b[1m18/18\u001b[0m \u001b[32m━━━━━━━━━━━━━━━━━━━━\u001b[0m\u001b[37m\u001b[0m \u001b[1m0s\u001b[0m 4ms/step - loss: 3.2690 - mae: 1.3449 - val_loss: 14.4996 - val_mae: 2.6889\n",
      "Epoch 178/200\n",
      "\u001b[1m18/18\u001b[0m \u001b[32m━━━━━━━━━━━━━━━━━━━━\u001b[0m\u001b[37m\u001b[0m \u001b[1m0s\u001b[0m 4ms/step - loss: 3.2323 - mae: 1.3479 - val_loss: 15.1716 - val_mae: 2.6963\n",
      "Epoch 179/200\n",
      "\u001b[1m18/18\u001b[0m \u001b[32m━━━━━━━━━━━━━━━━━━━━\u001b[0m\u001b[37m\u001b[0m \u001b[1m0s\u001b[0m 5ms/step - loss: 3.4435 - mae: 1.3874 - val_loss: 14.3658 - val_mae: 2.7219\n",
      "Epoch 180/200\n",
      "\u001b[1m18/18\u001b[0m \u001b[32m━━━━━━━━━━━━━━━━━━━━\u001b[0m\u001b[37m\u001b[0m \u001b[1m0s\u001b[0m 4ms/step - loss: 2.9234 - mae: 1.2581 - val_loss: 13.8562 - val_mae: 2.6721\n",
      "Epoch 181/200\n",
      "\u001b[1m18/18\u001b[0m \u001b[32m━━━━━━━━━━━━━━━━━━━━\u001b[0m\u001b[37m\u001b[0m \u001b[1m0s\u001b[0m 4ms/step - loss: 2.6557 - mae: 1.2274 - val_loss: 13.9123 - val_mae: 2.6651\n",
      "Epoch 182/200\n",
      "\u001b[1m18/18\u001b[0m \u001b[32m━━━━━━━━━━━━━━━━━━━━\u001b[0m\u001b[37m\u001b[0m \u001b[1m0s\u001b[0m 4ms/step - loss: 2.7051 - mae: 1.2629 - val_loss: 14.4683 - val_mae: 2.6724\n",
      "Epoch 183/200\n",
      "\u001b[1m18/18\u001b[0m \u001b[32m━━━━━━━━━━━━━━━━━━━━\u001b[0m\u001b[37m\u001b[0m \u001b[1m0s\u001b[0m 4ms/step - loss: 2.9214 - mae: 1.2493 - val_loss: 14.1601 - val_mae: 2.6701\n",
      "Epoch 184/200\n",
      "\u001b[1m18/18\u001b[0m \u001b[32m━━━━━━━━━━━━━━━━━━━━\u001b[0m\u001b[37m\u001b[0m \u001b[1m0s\u001b[0m 4ms/step - loss: 2.5268 - mae: 1.1909 - val_loss: 13.8908 - val_mae: 2.6675\n",
      "Epoch 185/200\n",
      "\u001b[1m18/18\u001b[0m \u001b[32m━━━━━━━━━━━━━━━━━━━━\u001b[0m\u001b[37m\u001b[0m \u001b[1m0s\u001b[0m 5ms/step - loss: 2.8905 - mae: 1.2697 - val_loss: 13.6612 - val_mae: 2.6777\n",
      "Epoch 186/200\n",
      "\u001b[1m18/18\u001b[0m \u001b[32m━━━━━━━━━━━━━━━━━━━━\u001b[0m\u001b[37m\u001b[0m \u001b[1m0s\u001b[0m 4ms/step - loss: 2.5809 - mae: 1.2429 - val_loss: 13.7401 - val_mae: 2.6574\n",
      "Epoch 187/200\n",
      "\u001b[1m18/18\u001b[0m \u001b[32m━━━━━━━━━━━━━━━━━━━━\u001b[0m\u001b[37m\u001b[0m \u001b[1m0s\u001b[0m 6ms/step - loss: 2.7833 - mae: 1.2250 - val_loss: 13.6869 - val_mae: 2.6676\n",
      "Epoch 188/200\n",
      "\u001b[1m18/18\u001b[0m \u001b[32m━━━━━━━━━━━━━━━━━━━━\u001b[0m\u001b[37m\u001b[0m \u001b[1m0s\u001b[0m 12ms/step - loss: 2.7970 - mae: 1.2679 - val_loss: 14.0613 - val_mae: 2.6521\n",
      "Epoch 189/200\n",
      "\u001b[1m18/18\u001b[0m \u001b[32m━━━━━━━━━━━━━━━━━━━━\u001b[0m\u001b[37m\u001b[0m \u001b[1m0s\u001b[0m 6ms/step - loss: 3.2824 - mae: 1.3559 - val_loss: 13.8940 - val_mae: 2.6645\n",
      "Epoch 190/200\n",
      "\u001b[1m18/18\u001b[0m \u001b[32m━━━━━━━━━━━━━━━━━━━━\u001b[0m\u001b[37m\u001b[0m \u001b[1m0s\u001b[0m 5ms/step - loss: 2.7989 - mae: 1.2747 - val_loss: 14.7929 - val_mae: 2.6884\n",
      "Epoch 191/200\n",
      "\u001b[1m18/18\u001b[0m \u001b[32m━━━━━━━━━━━━━━━━━━━━\u001b[0m\u001b[37m\u001b[0m \u001b[1m0s\u001b[0m 5ms/step - loss: 2.6257 - mae: 1.1912 - val_loss: 13.9907 - val_mae: 2.6769\n",
      "Epoch 192/200\n",
      "\u001b[1m18/18\u001b[0m \u001b[32m━━━━━━━━━━━━━━━━━━━━\u001b[0m\u001b[37m\u001b[0m \u001b[1m0s\u001b[0m 5ms/step - loss: 2.4499 - mae: 1.1972 - val_loss: 13.9315 - val_mae: 2.6695\n",
      "Epoch 193/200\n",
      "\u001b[1m18/18\u001b[0m \u001b[32m━━━━━━━━━━━━━━━━━━━━\u001b[0m\u001b[37m\u001b[0m \u001b[1m0s\u001b[0m 4ms/step - loss: 2.3008 - mae: 1.1568 - val_loss: 14.1613 - val_mae: 2.6733\n",
      "Epoch 194/200\n",
      "\u001b[1m18/18\u001b[0m \u001b[32m━━━━━━━━━━━━━━━━━━━━\u001b[0m\u001b[37m\u001b[0m \u001b[1m0s\u001b[0m 5ms/step - loss: 2.5074 - mae: 1.2070 - val_loss: 13.9987 - val_mae: 2.6594\n",
      "Epoch 195/200\n",
      "\u001b[1m18/18\u001b[0m \u001b[32m━━━━━━━━━━━━━━━━━━━━\u001b[0m\u001b[37m\u001b[0m \u001b[1m0s\u001b[0m 4ms/step - loss: 3.0319 - mae: 1.2705 - val_loss: 13.8133 - val_mae: 2.6640\n",
      "Epoch 196/200\n",
      "\u001b[1m18/18\u001b[0m \u001b[32m━━━━━━━━━━━━━━━━━━━━\u001b[0m\u001b[37m\u001b[0m \u001b[1m0s\u001b[0m 4ms/step - loss: 2.5223 - mae: 1.2116 - val_loss: 13.6190 - val_mae: 2.6516\n",
      "Epoch 197/200\n",
      "\u001b[1m18/18\u001b[0m \u001b[32m━━━━━━━━━━━━━━━━━━━━\u001b[0m\u001b[37m\u001b[0m \u001b[1m0s\u001b[0m 4ms/step - loss: 2.1927 - mae: 1.1394 - val_loss: 14.1910 - val_mae: 2.6603\n",
      "Epoch 198/200\n",
      "\u001b[1m18/18\u001b[0m \u001b[32m━━━━━━━━━━━━━━━━━━━━\u001b[0m\u001b[37m\u001b[0m \u001b[1m0s\u001b[0m 4ms/step - loss: 2.3922 - mae: 1.1645 - val_loss: 14.3663 - val_mae: 2.7218\n",
      "Epoch 199/200\n",
      "\u001b[1m18/18\u001b[0m \u001b[32m━━━━━━━━━━━━━━━━━━━━\u001b[0m\u001b[37m\u001b[0m \u001b[1m0s\u001b[0m 6ms/step - loss: 2.5393 - mae: 1.2186 - val_loss: 13.8414 - val_mae: 2.6969\n",
      "Epoch 200/200\n",
      "\u001b[1m18/18\u001b[0m \u001b[32m━━━━━━━━━━━━━━━━━━━━\u001b[0m\u001b[37m\u001b[0m \u001b[1m0s\u001b[0m 6ms/step - loss: 2.8855 - mae: 1.2995 - val_loss: 13.5371 - val_mae: 2.6885\n"
     ]
    }
   ],
   "source": [
    "batch_size = 20\n",
    "n_epoch = 200\n",
    "hist = model.fit(x_train, y_train,\n",
    "                 batch_size=batch_size,\n",
    "                 epochs=n_epoch,\n",
    "                 validation_data=(x_test, y_test),\n",
    "                 verbose=1)"
   ]
  },
  {
   "cell_type": "markdown",
   "id": "5f233aa0-55f7-4e4b-828f-b0e2196c9c7b",
   "metadata": {},
   "source": [
    "#### 推論"
   ]
  },
  {
   "cell_type": "code",
   "execution_count": 30,
   "id": "7467413a-a79d-4c75-b49e-fe203a47ae75",
   "metadata": {},
   "outputs": [
    {
     "name": "stdout",
     "output_type": "stream",
     "text": [
      "\u001b[1m16/16\u001b[0m \u001b[32m━━━━━━━━━━━━━━━━━━━━\u001b[0m\u001b[37m\u001b[0m \u001b[1m0s\u001b[0m 5ms/step\n"
     ]
    }
   ],
   "source": [
    "y_pred = model.predict(x)"
   ]
  },
  {
   "cell_type": "code",
   "execution_count": 31,
   "id": "e060302a-6e01-4753-89e0-db8c9935aee0",
   "metadata": {},
   "outputs": [
    {
     "data": {
      "image/png": "[encoded data removed]",
      "text/plain": [
       "<Figure size 640x480 with 1 Axes>"
      ]
     },
     "metadata": {},
     "output_type": "display_data"
    }
   ],
   "source": [
    "plt.plot(y_org, color='blue') # 実測値\n",
    "plt.plot(y_pred, color='red') # 予測値\n",
    "plt.show()"
   ]
  },
  {
   "cell_type": "markdown",
   "id": "7e32cef8-ca5d-4b53-a839-3ca28e3435a3",
   "metadata": {
    "tags": []
   },
   "source": [
    "### モデルの保存と復元"
   ]
  },
  {
   "cell_type": "markdown",
   "id": "34ef7494-3972-4d2d-af2e-3d44459ce79b",
   "metadata": {
    "tags": []
   },
   "source": [
    "#### モデルの保存"
   ]
  },
  {
   "cell_type": "code",
   "execution_count": 32,
   "id": "29bfba70-6227-435c-8869-06a7f48ef38c",
   "metadata": {},
   "outputs": [],
   "source": [
    "model.save('../work/dnn.keras', include_optimizer=False)"
   ]
  },
  {
   "cell_type": "markdown",
   "id": "2ce0d5ac-5afb-4179-b368-b1f174ecb98b",
   "metadata": {},
   "source": [
    "#### モデルの復元"
   ]
  },
  {
   "cell_type": "code",
   "execution_count": 33,
   "id": "17414dc7-4354-4ba6-be13-7204c25a0e43",
   "metadata": {},
   "outputs": [],
   "source": [
    "model = load_model('../work/dnn.keras', compile=False)"
   ]
  },
  {
   "cell_type": "markdown",
   "id": "5dc026a7-bc26-460f-8143-58ad4891b0da",
   "metadata": {},
   "source": [
    "###### 評価"
   ]
  },
  {
   "cell_type": "markdown",
   "id": "ebb0ca4b-5c79-412a-ad7d-2e1dec1f99e7",
   "metadata": {
    "tags": []
   },
   "source": [
    "### モデルの評価"
   ]
  },
  {
   "cell_type": "markdown",
   "id": "957c6360-b4f0-411a-ae79-aeda0c2337e1",
   "metadata": {},
   "source": [
    "#### 学習履歴を表示"
   ]
  },
  {
   "cell_type": "code",
   "execution_count": 34,
   "id": "1b5239dd-3e47-4f6b-b043-ed2e346dcdde",
   "metadata": {},
   "outputs": [],
   "source": [
    "# loss\n",
    "def plot_history_loss(hist):\n",
    "    plt.plot(hist.history['loss'],label=\"loss for training\")\n",
    "    plt.plot(hist.history['val_loss'],label=\"loss for validation\")\n",
    "    plt.title('model loss')\n",
    "    plt.xlabel('epoch')\n",
    "    plt.ylabel('loss')\n",
    "    plt.legend(loc='best')\n",
    "    plt.show()\n",
    "    \n",
    "#hist = model.fit(x_train, ...\n",
    "#plot_history_loss(hist)"
   ]
  },
  {
   "cell_type": "code",
   "execution_count": 35,
   "id": "23b4b2dc-d07d-4c40-9c13-2f39275829d2",
   "metadata": {},
   "outputs": [],
   "source": [
    "# mae\n",
    "def plot_history_mae(hist):\n",
    "    plt.plot(hist.history['mae'],label=\"mae for training\")\n",
    "    plt.plot(hist.history['val_mae'],label=\"mae for validation\")\n",
    "    plt.title('model mae')\n",
    "    plt.xlabel('epoch')\n",
    "    plt.ylabel('mae')\n",
    "    plt.legend(loc='best')\n",
    "    plt.show()\n",
    "    \n",
    "#hist = model.fit(x_train, ...\n",
    "#plot_history_mae(hist)"
   ]
  },
  {
   "cell_type": "code",
   "execution_count": 36,
   "id": "c24d1255-2d51-4c9c-b011-d8920861c18c",
   "metadata": {},
   "outputs": [],
   "source": [
    "# accuracy\n",
    "def plot_history_acc(hist):\n",
    "    plt.plot(hist.history['accuracy'],label=\"accuracy for training\")\n",
    "    plt.plot(hist.history['val_accuracy'],label=\"accuracy for validation\")\n",
    "    plt.title('model accuracy')\n",
    "    plt.xlabel('epoch')\n",
    "    plt.ylabel('accuracy')\n",
    "    plt.legend(loc='upper right')\n",
    "    plt.show()\n",
    "    \n",
    "#hist = model.fit(x_train, ...\n",
    "#plot_history_acc(hist)"
   ]
  },
  {
   "cell_type": "code",
   "execution_count": 37,
   "id": "f5f62b06-6482-482c-ac03-a6696fa43fcf",
   "metadata": {},
   "outputs": [
    {
     "data": {
      "image/png": "[encoded data removed]",
      "text/plain": [
       "<Figure size 640x480 with 1 Axes>"
      ]
     },
     "metadata": {},
     "output_type": "display_data"
    },
    {
     "data": {
      "image/png": "[encoded data removed]",
      "text/plain": [
       "<Figure size 640x480 with 1 Axes>"
      ]
     },
     "metadata": {},
     "output_type": "display_data"
    }
   ],
   "source": [
    "plot_history_loss(hist)\n",
    "plot_history_mae(hist)\n",
    "#plot_history_acc(hist)"
   ]
  },
  {
   "cell_type": "markdown",
   "id": "4bfed7b6-13de-436c-aa72-9d74075f4b71",
   "metadata": {
    "tags": []
   },
   "source": [
    "### 過学習の抑止"
   ]
  },
  {
   "cell_type": "markdown",
   "id": "b16619fa-071d-4e74-942f-2a949b10ed01",
   "metadata": {
    "tags": []
   },
   "source": [
    "#### 早期終了（early stopping）"
   ]
  },
  {
   "cell_type": "markdown",
   "id": "25e47e7d-aacc-4569-bbcc-f15e1f73f943",
   "metadata": {},
   "source": [
    "##### EarlyStoppingクラス\n",
    "- monitor  \n",
    "監視する値\n",
    "- patience  \n",
    "指定エポック数の間、改善がない場合、学習を停止\n",
    "- mode  \n",
    "収束判定（auto: 自動, min: 最小時, max: 最大時）\n",
    "- verbose  \n",
    "標準出力で通知をするか否か"
   ]
  },
  {
   "cell_type": "code",
   "execution_count": 38,
   "id": "5c35a245-5aba-4b32-bc39-8b740f53321d",
   "metadata": {},
   "outputs": [],
   "source": [
    "es = EarlyStopping(monitor='val_loss', patience=5, mode='min', verbose=0)\n",
    "#hist = model.fit(..., callbacks=[es]) # EarlyStoppingを適用"
   ]
  },
  {
   "cell_type": "markdown",
   "id": "345be054-c72c-4224-a2b0-1232447dddb0",
   "metadata": {},
   "source": [
    "##### ModelCheckpointクラス\n",
    "検証誤差が最も低い状態のモデルを保存\n",
    "- monitor  \n",
    "監視する値（デフォルト: val_loss）\n",
    "- mode  \n",
    "収束判定（auto: 自動, min: 最小時, max: 最大時）\n",
    "- verbose  \n",
    "標準出力で通知をするか否か\n",
    "- filepath  \n",
    "モデルを保存するファイルパス\n",
    "- save_best_only  \n",
    "最良の状態のモデルのみを保存するかどうか（bool）"
   ]
  },
  {
   "cell_type": "code",
   "execution_count": 39,
   "id": "5fb78dfc-d96c-4334-b919-2afa4291560a",
   "metadata": {},
   "outputs": [],
   "source": [
    "mc = ModelCheckpoint(monitor='val_loss', mode='min', verbose=1, filepath='./dl4.keras', save_best_only=True)\n",
    "#hist = model.fit(..., callbacks=[mc]) # ModelCheckpointを適用"
   ]
  },
  {
   "cell_type": "markdown",
   "id": "ec580cab-0af8-4cf8-9a46-1d706f7a86f6",
   "metadata": {
    "tags": []
   },
   "source": [
    "#### ドロップアウト（Dropout）\n",
    "最終層の前に以下を追加。"
   ]
  },
  {
   "cell_type": "code",
   "execution_count": 40,
   "id": "2f93fcf4-f659-4b29-9a6e-ebf124198cda",
   "metadata": {},
   "outputs": [],
   "source": [
    "# 無効化比率0.5のDropout\n",
    "#model.add(Dropout(rate=0.5))"
   ]
  },
  {
   "cell_type": "markdown",
   "id": "78227706-18cb-44ec-99dc-45f352b31095",
   "metadata": {
    "tags": []
   },
   "source": [
    "#### バッチ正規化（Batch Normalization）\n",
    "- DNNの場合、全結合層と活性化関数の間に\n",
    "- CNNの場合、「全結合層 or 畳み込み層」と活性化関数の間に以下を追加。"
   ]
  },
  {
   "cell_type": "code",
   "execution_count": 41,
   "id": "f9ba1004-b254-4553-b6f1-e9e8eb014306",
   "metadata": {},
   "outputs": [],
   "source": [
    "#model.add(BatchNormalization())"
   ]
  }
 ],
 "metadata": {
  "kernelspec": {
   "display_name": "Python 3 (ipykernel)",
   "language": "python",
   "name": "python3"
  },
  "language_info": {
   "codemirror_mode": {
    "name": "ipython",
    "version": 3
   },
   "file_extension": ".py",
   "mimetype": "text/x-python",
   "name": "python",
   "nbconvert_exporter": "python",
   "pygments_lexer": "ipython3",
   "version": "3.10.6"
  }
 },
 "nbformat": 4,
 "nbformat_minor": 5
}
