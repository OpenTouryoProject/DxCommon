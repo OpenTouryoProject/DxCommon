{
 "cells": [
  {
   "cell_type": "markdown",
   "id": "4fe59fb7-e68d-4e4b-8901-5902d5343ed8",
   "metadata": {},
   "source": [
    "# TensorFlow・Kerasのトレーニング♨\n",
    "\n",
    "## 環境準備、共通的データ処理 編\n",
    "\n",
    "## [目次](TableOfContents.ipynb)\n",
    "- [環境準備](#環境準備)\n",
    "  - [インストール](#インストール)\n",
    "  - [インポート](#インポート)\n",
    "  - [プロキシ設定](#プロキシ設定)\n",
    "- [共通処理](#共通処理)\n",
    "  - [勾配降下法アルゴリズムの選択](#勾配降下法アルゴリズムの選択)\n",
    "  - [モデルの定義とコンパイル](#モデルの定義とコンパイル)\n",
    "  - [モデルの学習と推論](#モデルの学習と推論モデルの保存と復元)\n",
    "  - [モデルの保存と復元](#モデルの保存と復元)\n",
    "  - [過学習の抑止](#過学習の抑止)\n",
    "\n",
    "## 参考\n",
    "開発基盤部会 Wiki\n",
    "- データマイニング（DM）- Python - DL  \n",
    "https://dotnetdevelopmentinfrastructure.osscons.jp/index.php?%E3%83%87%E3%83%BC%E3%82%BF%E3%83%9E%E3%82%A4%E3%83%8B%E3%83%B3%E3%82%B0%EF%BC%88DM%EF%BC%89-%20Python%20-%20DL"
   ]
  },
  {
   "cell_type": "markdown",
   "id": "d48958bb-e085-40a2-a6e1-f00c80080d20",
   "metadata": {},
   "source": [
    "## 環境準備"
   ]
  },
  {
   "cell_type": "markdown",
   "id": "de8cfdd3-319a-4068-89ae-c39fb2c141ff",
   "metadata": {},
   "source": [
    "### インストール"
   ]
  },
  {
   "cell_type": "markdown",
   "id": "f6721d4f-485f-44e9-976d-ae526a3c4816",
   "metadata": {},
   "source": [
    "#### 基本的なライブラリ"
   ]
  },
  {
   "cell_type": "code",
   "execution_count": null,
   "id": "7911c97f-77cf-4e25-acca-07d2c9fd2975",
   "metadata": {},
   "outputs": [],
   "source": [
    "!pip install numpy\n",
    "!pip install pandas\n",
    "!pip install seaborn\n",
    "!pip install statsmodels"
   ]
  },
  {
   "cell_type": "markdown",
   "id": "e43802e8-7f76-4c87-bcae-231b9cede71d",
   "metadata": {},
   "source": [
    "#### scikit-learn"
   ]
  },
  {
   "cell_type": "code",
   "execution_count": null,
   "id": "0cde9a17-2de9-40c3-9fc7-2d18f22d22f1",
   "metadata": {},
   "outputs": [],
   "source": [
    "!pip install scikit-learn"
   ]
  },
  {
   "cell_type": "markdown",
   "id": "900c16f8-ebce-429b-ad95-fea0698284df",
   "metadata": {},
   "source": [
    "#### tensorflow keras"
   ]
  },
  {
   "cell_type": "markdown",
   "id": "e43ccfbd-77e5-49c2-b69a-0c2a55c6ee54",
   "metadata": {},
   "source": [
    "##### アンイストール\n",
    "バージョン不一致の問題が起きたら一度アンイストールする。"
   ]
  },
  {
   "cell_type": "code",
   "execution_count": null,
   "id": "d2aaef8b-6d1b-4942-a4d5-8a9f58d17b67",
   "metadata": {},
   "outputs": [],
   "source": [
    "#!echo Y | pip uninstall keras\n",
    "#!echo Y | pip uninstall tensorflow"
   ]
  },
  {
   "cell_type": "markdown",
   "id": "6e831a07-7412-4735-b9de-d4423581af3a",
   "metadata": {},
   "source": [
    "##### tensorflow"
   ]
  },
  {
   "cell_type": "markdown",
   "id": "f29a9b33-7bd7-4d16-8782-1ab052f8d85b",
   "metadata": {},
   "source": [
    "###### CPU"
   ]
  },
  {
   "cell_type": "code",
   "execution_count": null,
   "id": "db74cc37-3a96-419c-a380-1afd21a57ddf",
   "metadata": {},
   "outputs": [],
   "source": [
    "!pip install tensorflow"
   ]
  },
  {
   "cell_type": "markdown",
   "id": "20e67e8e-837a-4cde-a6e1-d317673037ec",
   "metadata": {},
   "source": [
    "###### GPU"
   ]
  },
  {
   "cell_type": "code",
   "execution_count": null,
   "id": "9d1a3439-5764-4a8d-8534-9d19217b6de7",
   "metadata": {},
   "outputs": [],
   "source": [
    "#!pip install tensorflow-gpu"
   ]
  },
  {
   "cell_type": "code",
   "execution_count": null,
   "id": "be91cda8-94c9-43ec-9c7c-0064272d63eb",
   "metadata": {},
   "outputs": [],
   "source": [
    "#from tensorflow.python.client import device_lib\n",
    "#device_lib.list_local_devices()"
   ]
  },
  {
   "cell_type": "code",
   "execution_count": null,
   "id": "8c1b5682-0b6a-4651-be29-abc2d8548e4f",
   "metadata": {},
   "outputs": [],
   "source": [
    "#import tensorflow as tf\n",
    "##tf.test.is_gpu_available()\n",
    "#tf.config.list_physical_devices('GPU')"
   ]
  },
  {
   "cell_type": "markdown",
   "id": "e874e274-64b3-4a87-9b07-6a381fa9bec4",
   "metadata": {},
   "source": [
    "##### keras"
   ]
  },
  {
   "cell_type": "code",
   "execution_count": null,
   "id": "53c21683-0c59-4535-8d9c-f4971f7e61d7",
   "metadata": {},
   "outputs": [],
   "source": [
    "!pip install keras"
   ]
  },
  {
   "cell_type": "markdown",
   "id": "9b9a8de7-cd0b-447c-a675-be91688fa3f4",
   "metadata": {},
   "source": [
    "#### opencv"
   ]
  },
  {
   "cell_type": "code",
   "execution_count": null,
   "id": "6ba915e5-4af8-4339-866b-2a2a380eb3b9",
   "metadata": {},
   "outputs": [],
   "source": [
    "!pip install opencv-python"
   ]
  },
  {
   "cell_type": "markdown",
   "id": "b69a16e1-7764-4035-8a92-72b398b81aaf",
   "metadata": {},
   "source": [
    "### インポート"
   ]
  },
  {
   "cell_type": "markdown",
   "id": "3b0ed51d-9ab1-44d9-92c8-9a029b1bff41",
   "metadata": {},
   "source": [
    "#### 基本的なライブラリ"
   ]
  },
  {
   "cell_type": "code",
   "execution_count": null,
   "id": "53109095-5c74-41e0-928c-f06d31d940a6",
   "metadata": {},
   "outputs": [],
   "source": [
    "import io\n",
    "import requests\n",
    "\n",
    "import pandas as pd\n",
    "import numpy as np\n",
    "import matplotlib.pyplot as plt\n",
    "import seaborn as sns"
   ]
  },
  {
   "cell_type": "markdown",
   "id": "30ed5da8-a115-4918-a97f-ff3e63d2b5b3",
   "metadata": {},
   "source": [
    "#### scikit-learn"
   ]
  },
  {
   "cell_type": "code",
   "execution_count": null,
   "id": "fd3a0cc2-703c-4ecb-b06d-b06f3cc8e21e",
   "metadata": {},
   "outputs": [],
   "source": [
    "from sklearn import datasets\n",
    "from sklearn import metrics\n",
    "from sklearn.preprocessing import StandardScaler\n",
    "from sklearn.model_selection import train_test_split\n",
    "from sklearn.metrics import confusion_matrix"
   ]
  },
  {
   "cell_type": "markdown",
   "id": "5f0a61e8-1f27-4f3c-9738-d1325d848724",
   "metadata": {},
   "source": [
    "#### tensorflow"
   ]
  },
  {
   "cell_type": "code",
   "execution_count": null,
   "id": "6dff608e-31df-4d09-a193-1f438d8e2f1f",
   "metadata": {},
   "outputs": [],
   "source": [
    "import tensorflow as tf\n",
    "from tensorflow.keras.layers import BatchNormalization\n",
    "print(tf.__version__)"
   ]
  },
  {
   "cell_type": "markdown",
   "id": "10f61d55-af22-4dbc-a542-15436534f818",
   "metadata": {},
   "source": [
    "#### keras"
   ]
  },
  {
   "cell_type": "code",
   "execution_count": null,
   "id": "0c9aaf7c-c130-4fac-9592-d385808da8d4",
   "metadata": {},
   "outputs": [],
   "source": [
    "import keras\n",
    "print(keras.__version__)\n",
    "\n",
    "# モデル定義\n",
    "from keras.models import Model, Sequential, model_from_json, load_model\n",
    "from keras.layers import Dense, Input, Activation, Flatten, Dropout, LSTM\n",
    "from keras.layers.convolutional import Conv2D\n",
    "from keras.layers.pooling import MaxPool2D\n",
    "from keras.callbacks import EarlyStopping, ModelCheckpoint\n",
    "from keras import optimizers\n",
    "from keras.optimizers import SGD, Adam\n",
    "\n",
    "# その他\n",
    "from keras.applications.vgg16 import VGG16\n",
    "from keras.utils import to_categorical\n",
    "from keras.utils import np_utils"
   ]
  },
  {
   "cell_type": "markdown",
   "id": "fdf7dcbc-aa26-4652-9eb8-dbf5dfada438",
   "metadata": {},
   "source": [
    "#### その他"
   ]
  },
  {
   "cell_type": "code",
   "execution_count": null,
   "id": "8acef2e0-0df0-47f4-9e88-ece40279703e",
   "metadata": {},
   "outputs": [],
   "source": [
    "import warnings\n",
    "warnings.filterwarnings('ignore')\n",
    "%matplotlib inline"
   ]
  },
  {
   "cell_type": "markdown",
   "id": "0bd620cf-dd4a-4da0-b4c8-1de4d6f48f68",
   "metadata": {},
   "source": [
    "### プロキシ設定"
   ]
  },
  {
   "cell_type": "code",
   "execution_count": null,
   "id": "609f3dce-8d41-45f6-9436-788e0097bdda",
   "metadata": {},
   "outputs": [],
   "source": [
    "import os\n",
    "proxies = {\n",
    "    \"http\": os.getenv(\"HTTP_PROXY\"),\n",
    "    \"https\": os.getenv(\"HTTPS_PROXY\")\n",
    "}"
   ]
  },
  {
   "cell_type": "markdown",
   "id": "30e6ac99-5db3-4c85-b8bd-e089d77d0e72",
   "metadata": {},
   "source": [
    "## 共通処理"
   ]
  },
  {
   "cell_type": "markdown",
   "id": "87c8032f-add1-44c1-a7d2-927c7eb18532",
   "metadata": {
    "tags": []
   },
   "source": [
    "### 勾配降下法アルゴリズムの選択\n",
    "https://dotnetdevelopmentinfrastructure.osscons.jp/index.php?%E6%B7%B1%E5%B1%A4%E5%AD%A6%E7%BF%92%E3%81%AE%E3%83%86%E3%82%AF%E3%83%8B%E3%83%83%E3%82%AF#ma318ba7"
   ]
  },
  {
   "cell_type": "markdown",
   "id": "f34e46b4-3a68-47d4-a1b4-ea98c47537cf",
   "metadata": {},
   "source": [
    "#### SGD\n",
    "（Stochastic Gradient Descent）、確率的勾配降下法\n",
    "- 勾配が最も急な向きに勾配を下る手法\n",
    "- 学習率の調整が難しいため自動調整のアルゴリズムが必要。\n",
    "- lr：学習率（0以上のfloat"
   ]
  },
  {
   "cell_type": "code",
   "execution_count": null,
   "id": "5404fb9d-80ea-4afd-895c-43dfb83d55d7",
   "metadata": {},
   "outputs": [],
   "source": [
    "optimizer = optimizers.SGD(lr=0.01)"
   ]
  },
  {
   "cell_type": "markdown",
   "id": "d807c360-103b-4769-a7da-5e61471f066f",
   "metadata": {},
   "source": [
    "#### MomentumSGD\n",
    "- SGDに慣性（加速・減速）の概念を加えた最適化手法｡\n",
    "- SGDのコードに「momentum」（慣性項の係数（0以上のF）を追加。\n",
    "- 谷間での無駄な往復を減らし、早く収束するが、  \n",
    "加速しているため、極小値付近で止まり難い。"
   ]
  },
  {
   "cell_type": "code",
   "execution_count": null,
   "id": "be7b0a7a-5477-4ef1-a75f-412d93eb943c",
   "metadata": {},
   "outputs": [],
   "source": [
    "optimizer = optimizers.SGD(lr=0.01, momentum=0.9)"
   ]
  },
  {
   "cell_type": "markdown",
   "id": "90018680-a47a-4df8-a6e3-03e541d571f1",
   "metadata": {},
   "source": [
    "#### NesterovAG\n",
    "（Nesterov Accelerated Gradient）\n",
    "- 極小値付近でブレーキをかける機能を加えたアルゴリズム\n",
    "- [MomentumSGD](#MomentumSGD)のコードに「nesterov=True」を追加。"
   ]
  },
  {
   "cell_type": "code",
   "execution_count": null,
   "id": "882a2986-433d-467f-ac04-d4fcc2ffee65",
   "metadata": {},
   "outputs": [],
   "source": [
    "optimizer = optimizers.SGD(lr=0.01, momentum=0.9, nesterov=True)"
   ]
  },
  {
   "cell_type": "markdown",
   "id": "99700490-c15f-4ca4-91f1-34d4af4ab28a",
   "metadata": {},
   "source": [
    "#### AdaGrad\n",
    "- 動いた量が増えたら更新が緩やかにする。\n",
    "- [NesterovAG](#NesterovAG)のブレーキ機能を学習率の減衰によって実現\n",
    "- デフォルト・パラメタが推奨\n",
    "  - lr ：学習率（0以上のfloat\n",
    "  - epsilon：分母の最小値（0以上のfloat\n",
    "  - decay ：学習率減衰（0以上のfloat"
   ]
  },
  {
   "cell_type": "code",
   "execution_count": null,
   "id": "762848e9-9628-421b-a946-3d95fae3e8b9",
   "metadata": {},
   "outputs": [],
   "source": [
    "#optimizer = optimizers.Adagrad(lr=0.01, epsilon=None, decay=0.0)\n",
    "optimizer = optimizers.Adagrad()"
   ]
  },
  {
   "cell_type": "markdown",
   "id": "27e25b1a-ebc9-49e8-95e8-3c5a5eae8d35",
   "metadata": {},
   "source": [
    "#### RMSprop\n",
    "（Root Mean Square Propagation）\n",
    "- [AdaGrad](#AdaGrad)の改良版\n",
    "  - 学習率の減衰が穏やかになる機能を追加\n",
    "  - 引数に「rho」（指数移動平均）を追加。\n",
    "- 学習率以外はデフォルト・パラメタが推奨"
   ]
  },
  {
   "cell_type": "code",
   "execution_count": null,
   "id": "db0fc03f-3a2c-4f17-9e13-c84f380d12be",
   "metadata": {},
   "outputs": [],
   "source": [
    "# optimizer = optimizers.RMSprop(lr=0.001, rho=0.9, epsilon=None, decay=0.0)\n",
    "optimizer = optimizers.RMSprop(lr=0.001)"
   ]
  },
  {
   "cell_type": "markdown",
   "id": "7064463a-aea8-441c-9b64-12b1cba9c7fa",
   "metadata": {},
   "source": [
    "#### AdaDelta\n",
    "- [Adagrad](#Adagrad)の改良版の[RMSprop](#RMSprop)に､もうひと工夫加えたようなアルゴリズム\n",
    "- デフォルト・パラメタが推奨"
   ]
  },
  {
   "cell_type": "code",
   "execution_count": null,
   "id": "76aae248-8061-47c3-8af4-79150f7600ce",
   "metadata": {},
   "outputs": [],
   "source": [
    "# optimizer = optimizers.Adadelta(lr=1.0, rho=0.95, epsilon=None, decay=0.0)\n",
    "optimizer = optimizers.Adadelta()"
   ]
  },
  {
   "cell_type": "markdown",
   "id": "9ed59289-21b9-4e82-8277-31b6cde31258",
   "metadata": {},
   "source": [
    "#### Adam\n",
    "（ADAptive Moment estimation）\n",
    "- [MomentumSGD](#MomentumSGD)系の慣性項と[AdaGrad](#AdaGrad)系の学習率の  \n",
    "両方の自動調整の機能を持ち合わせたアルゴリズム\n",
    "- beta_1 ：MomentumSGDのmomentum\n",
    "- beta_2 ：AdaGradのrho\n",
    "- amsgrad：AMSGradを適用するかどうか。"
   ]
  },
  {
   "cell_type": "code",
   "execution_count": null,
   "id": "3a127553-6cbe-45dd-8b2f-03a992086608",
   "metadata": {},
   "outputs": [],
   "source": [
    "optimizer = optimizers.Adam(lr=0.001, beta_1=0.9, beta_2=0.999, epsilon=None, decay=0.0, amsgrad=False)"
   ]
  },
  {
   "cell_type": "markdown",
   "id": "8643fa0b-3dbf-465b-a765-321f0c506233",
   "metadata": {
    "tags": []
   },
   "source": [
    "### モデルの定義とコンパイル\n",
    "以下は、DNNによる回帰"
   ]
  },
  {
   "cell_type": "markdown",
   "id": "9c2c2386-f251-4b60-9bc6-4ad6514648fb",
   "metadata": {},
   "source": [
    "#### モデルの定義"
   ]
  },
  {
   "cell_type": "code",
   "execution_count": null,
   "id": "944bd439-b077-49b3-8f58-8d54f08bb23e",
   "metadata": {},
   "outputs": [],
   "source": [
    "num = 13 # x_train.shape[1] # 入力ベクトルの要素数\n",
    "model = keras.Sequential([\n",
    "    keras.layers.Dense(64, activation=tf.nn.relu,\n",
    "                       input_shape=(num,)),\n",
    "    keras.layers.Dense(64, activation=tf.nn.relu),\n",
    "    keras.layers.Dense(1)\n",
    "])"
   ]
  },
  {
   "cell_type": "markdown",
   "id": "a152f065-2ea2-4ac7-a424-5a1bf4efaa1d",
   "metadata": {},
   "source": [
    "#### モデルのコンパイル"
   ]
  },
  {
   "cell_type": "code",
   "execution_count": null,
   "id": "7fecd7a4-48f7-4e25-bc17-56b4e47b15cb",
   "metadata": {},
   "outputs": [],
   "source": [
    "model.compile(loss='mse', optimizer=Adam(), metrics=['mae'])\n",
    "model.summary()"
   ]
  },
  {
   "cell_type": "markdown",
   "id": "94d635c3-44b1-47d7-9077-12a895cebb85",
   "metadata": {
    "tags": []
   },
   "source": [
    "### モデルの学習と推論"
   ]
  },
  {
   "cell_type": "markdown",
   "id": "71d7c1a0-19ae-466f-ae70-99bd24ebc6fb",
   "metadata": {},
   "source": [
    "#### データ"
   ]
  },
  {
   "cell_type": "code",
   "execution_count": null,
   "id": "ae63b241-a19b-4b8d-9c11-6051233b94a5",
   "metadata": {},
   "outputs": [],
   "source": [
    "url = 'https://dotnetdevelopmentinfrastructure.osscons.jp/index.php?plugin=attach&pcmd=open&file=Boston.csv&refer=FrontPage'\n",
    "res = requests.get(url) # , verify=False, proxies=proxies) # プロキシ\n",
    "df = pd.read_csv(io.BytesIO(res.content), encoding='utf-8', sep=\",\")\n",
    "\n",
    "df=df.drop('Unnamed: 0',axis=1)\n",
    "\n",
    "x_org = np.array(df.drop(['medv'], axis=1))\n",
    "y_org = np.array(df.loc[:, ['medv']])\n",
    "\n",
    "mean = x_org.mean(axis=0)\n",
    "std = x_org.std(axis=0)\n",
    "x = (x_org - mean) / std\n",
    "\n",
    "x_train, x_test, y_train, y_test = train_test_split(x, y_org, test_size = 0.3, random_state = 0)"
   ]
  },
  {
   "cell_type": "markdown",
   "id": "19bd839f-4aea-44b3-bb5e-8b5966082128",
   "metadata": {},
   "source": [
    "#### 学習"
   ]
  },
  {
   "cell_type": "code",
   "execution_count": null,
   "id": "3cb4ff44-9499-4b0d-baec-bfc87e352149",
   "metadata": {},
   "outputs": [],
   "source": [
    "batch_size = 20\n",
    "n_epoch = 200\n",
    "hist = model.fit(x_train, y_train,\n",
    "                 batch_size=batch_size,\n",
    "                 epochs=n_epoch,\n",
    "                 validation_data=(x_test, y_test),\n",
    "                 verbose=1)"
   ]
  },
  {
   "cell_type": "markdown",
   "id": "5f233aa0-55f7-4e4b-828f-b0e2196c9c7b",
   "metadata": {},
   "source": [
    "#### 推論"
   ]
  },
  {
   "cell_type": "code",
   "execution_count": null,
   "id": "7467413a-a79d-4c75-b49e-fe203a47ae75",
   "metadata": {},
   "outputs": [],
   "source": [
    "y_pred = model.predict(x)"
   ]
  },
  {
   "cell_type": "code",
   "execution_count": null,
   "id": "e060302a-6e01-4753-89e0-db8c9935aee0",
   "metadata": {},
   "outputs": [],
   "source": [
    "plt.plot(y_org, color='blue') # 実測値\n",
    "plt.plot(y_pred, color='red') # 予測値\n",
    "plt.show()"
   ]
  },
  {
   "cell_type": "markdown",
   "id": "7e32cef8-ca5d-4b53-a839-3ca28e3435a3",
   "metadata": {
    "tags": []
   },
   "source": [
    "### モデルの保存と復元"
   ]
  },
  {
   "cell_type": "markdown",
   "id": "34ef7494-3972-4d2d-af2e-3d44459ce79b",
   "metadata": {
    "tags": []
   },
   "source": [
    "#### モデルの保存"
   ]
  },
  {
   "cell_type": "markdown",
   "id": "364deeef-f0ac-472e-8965-bcd43de4b4dd",
   "metadata": {},
   "source": [
    "##### 古い形式"
   ]
  },
  {
   "cell_type": "markdown",
   "id": "9bf30118-d6d2-452c-a6a7-d1e1954d9d09",
   "metadata": {},
   "source": [
    "```python\n",
    "# モデルはjson形式\n",
    "json_string = model.to_json()\n",
    "with open('dnn.model', 'w') as f:\n",
    "    f.write(json_string)\n",
    "# パラメータはhdf5形式\n",
    "model.save_weights('param.hdf5')\n",
    "```"
   ]
  },
  {
   "cell_type": "markdown",
   "id": "558f9e42-2b83-4959-adda-123e54caae0b",
   "metadata": {},
   "source": [
    "##### 新しい形式\n",
    "ググる重みとモデル(json or yaml)を別々に保存する例がよく出てくるがmodel.save()とload_model()でイケる。"
   ]
  },
  {
   "cell_type": "code",
   "execution_count": null,
   "id": "29bfba70-6227-435c-8869-06a7f48ef38c",
   "metadata": {},
   "outputs": [],
   "source": [
    "model.save('../work/dnn.h5', include_optimizer=False)"
   ]
  },
  {
   "cell_type": "markdown",
   "id": "2ce0d5ac-5afb-4179-b368-b1f174ecb98b",
   "metadata": {},
   "source": [
    "#### モデルの復元"
   ]
  },
  {
   "cell_type": "markdown",
   "id": "f829c9cd-bf32-4cc3-99a0-6bde077298fe",
   "metadata": {},
   "source": [
    "##### 古い形式"
   ]
  },
  {
   "cell_type": "markdown",
   "id": "a18a7772-c211-4f2a-a5e1-21fcb31f3d15",
   "metadata": {},
   "source": [
    "```python\n",
    "# モデルはjson形式\n",
    "with open('dnn.model', 'r') as f:\n",
    "    json_string = f.read()\n",
    "model = model_from_json(json_string)\n",
    "\n",
    "# パラメータはhdf5形式\n",
    "model.load_weights('param.hdf5')\n",
    "\n",
    "# 復元後、リコンパイルが必要になる。\n",
    "model.compile(loss='mse', optimizer=Adam(), metrics=['mae'])\n",
    "model.summary()\n",
    "```"
   ]
  },
  {
   "cell_type": "markdown",
   "id": "76fe70ae-3ff7-4f9a-9406-f73c8cd015ef",
   "metadata": {},
   "source": [
    "##### 新しい形式\n",
    "ググる重みとモデル(json or yaml)を別々に保存する例がよく出てくるがmodel.save()とload_model()でイケる。"
   ]
  },
  {
   "cell_type": "code",
   "execution_count": null,
   "id": "17414dc7-4354-4ba6-be13-7204c25a0e43",
   "metadata": {},
   "outputs": [],
   "source": [
    "model = load_model('../work/dnn.h5', compile=False)"
   ]
  },
  {
   "cell_type": "markdown",
   "id": "5dc026a7-bc26-460f-8143-58ad4891b0da",
   "metadata": {},
   "source": [
    "###### 評価"
   ]
  },
  {
   "cell_type": "markdown",
   "id": "ebb0ca4b-5c79-412a-ad7d-2e1dec1f99e7",
   "metadata": {
    "tags": []
   },
   "source": [
    "### モデルの評価"
   ]
  },
  {
   "cell_type": "markdown",
   "id": "957c6360-b4f0-411a-ae79-aeda0c2337e1",
   "metadata": {},
   "source": [
    "#### 学習履歴を表示"
   ]
  },
  {
   "cell_type": "code",
   "execution_count": null,
   "id": "1b5239dd-3e47-4f6b-b043-ed2e346dcdde",
   "metadata": {},
   "outputs": [],
   "source": [
    "# loss\n",
    "def plot_history_loss(hist):\n",
    "    plt.plot(hist.history['loss'],label=\"loss for training\")\n",
    "    plt.plot(hist.history['val_loss'],label=\"loss for validation\")\n",
    "    plt.title('model loss')\n",
    "    plt.xlabel('epoch')\n",
    "    plt.ylabel('loss')\n",
    "    plt.legend(loc='best')\n",
    "    plt.show()\n",
    "    \n",
    "#hist = model.fit(x_train, ...\n",
    "#plot_history_loss(hist)"
   ]
  },
  {
   "cell_type": "code",
   "execution_count": null,
   "id": "23b4b2dc-d07d-4c40-9c13-2f39275829d2",
   "metadata": {},
   "outputs": [],
   "source": [
    "# mae\n",
    "def plot_history_mae(hist):\n",
    "    plt.plot(hist.history['mae'],label=\"mae for training\")\n",
    "    plt.plot(hist.history['val_mae'],label=\"mae for validation\")\n",
    "    plt.title('model mae')\n",
    "    plt.xlabel('epoch')\n",
    "    plt.ylabel('mae')\n",
    "    plt.legend(loc='best')\n",
    "    plt.show()\n",
    "    \n",
    "#hist = model.fit(x_train, ...\n",
    "#plot_history_mae(hist)"
   ]
  },
  {
   "cell_type": "code",
   "execution_count": null,
   "id": "c24d1255-2d51-4c9c-b011-d8920861c18c",
   "metadata": {},
   "outputs": [],
   "source": [
    "# accuracy\n",
    "def plot_history_acc(hist):\n",
    "    plt.plot(hist.history['accuracy'],label=\"accuracy for training\")\n",
    "    plt.plot(hist.history['val_accuracy'],label=\"accuracy for validation\")\n",
    "    plt.title('model accuracy')\n",
    "    plt.xlabel('epoch')\n",
    "    plt.ylabel('accuracy')\n",
    "    plt.legend(loc='upper right')\n",
    "    plt.show()\n",
    "    \n",
    "#hist = model.fit(x_train, ...\n",
    "#plot_history_acc(hist)"
   ]
  },
  {
   "cell_type": "code",
   "execution_count": null,
   "id": "f5f62b06-6482-482c-ac03-a6696fa43fcf",
   "metadata": {},
   "outputs": [],
   "source": [
    "plot_history_loss(hist)\n",
    "plot_history_mae(hist)\n",
    "#plot_history_acc(hist)"
   ]
  },
  {
   "cell_type": "markdown",
   "id": "4bfed7b6-13de-436c-aa72-9d74075f4b71",
   "metadata": {
    "tags": []
   },
   "source": [
    "### 過学習の抑止"
   ]
  },
  {
   "cell_type": "markdown",
   "id": "b16619fa-071d-4e74-942f-2a949b10ed01",
   "metadata": {
    "tags": []
   },
   "source": [
    "#### 早期終了（early stopping）"
   ]
  },
  {
   "cell_type": "markdown",
   "id": "25e47e7d-aacc-4569-bbcc-f15e1f73f943",
   "metadata": {},
   "source": [
    "##### EarlyStoppingクラス\n",
    "- monitor  \n",
    "監視する値\n",
    "- patience  \n",
    "指定エポック数の間、改善がない場合、学習を停止\n",
    "- mode  \n",
    "収束判定（auto: 自動, min: 最小時, max: 最大時）\n",
    "- verbose  \n",
    "標準出力で通知をするか否か"
   ]
  },
  {
   "cell_type": "code",
   "execution_count": null,
   "id": "5c35a245-5aba-4b32-bc39-8b740f53321d",
   "metadata": {},
   "outputs": [],
   "source": [
    "es = EarlyStopping(monitor='val_loss', patience=5, mode='min', verbose=0)\n",
    "#hist = model.fit(..., callbacks=[es]) # EarlyStoppingを適用"
   ]
  },
  {
   "cell_type": "markdown",
   "id": "345be054-c72c-4224-a2b0-1232447dddb0",
   "metadata": {},
   "source": [
    "##### ModelCheckpointクラス\n",
    "検証誤差が最も低い状態のモデルを保存\n",
    "- monitor  \n",
    "監視する値（デフォルト: val_loss）\n",
    "- mode  \n",
    "収束判定（auto: 自動, min: 最小時, max: 最大時）\n",
    "- verbose  \n",
    "標準出力で通知をするか否か\n",
    "- filepath  \n",
    "モデルを保存するファイルパス\n",
    "- save_best_only  \n",
    "最良の状態のモデルのみを保存するかどうか（bool）"
   ]
  },
  {
   "cell_type": "code",
   "execution_count": null,
   "id": "5fb78dfc-d96c-4334-b919-2afa4291560a",
   "metadata": {},
   "outputs": [],
   "source": [
    "mc = ModelCheckpoint(monitor='val_loss', mode='min', verbose=1, filepath='./dl4', save_best_only=True)\n",
    "#hist = model.fit(..., callbacks=[mc]) # ModelCheckpointを適用"
   ]
  },
  {
   "cell_type": "markdown",
   "id": "ec580cab-0af8-4cf8-9a46-1d706f7a86f6",
   "metadata": {
    "tags": []
   },
   "source": [
    "#### ドロップアウト（Dropout）\n",
    "最終層の前に以下を追加。"
   ]
  },
  {
   "cell_type": "code",
   "execution_count": null,
   "id": "2f93fcf4-f659-4b29-9a6e-ebf124198cda",
   "metadata": {},
   "outputs": [],
   "source": [
    "# 無効化比率0.5のDropout\n",
    "#model.add(Dropout(rate=0.5))"
   ]
  },
  {
   "cell_type": "markdown",
   "id": "78227706-18cb-44ec-99dc-45f352b31095",
   "metadata": {
    "tags": []
   },
   "source": [
    "#### バッチ正規化（Batch Normalization）\n",
    "畳み込み層とプーリング層の間に以下を追加。"
   ]
  },
  {
   "cell_type": "code",
   "execution_count": null,
   "id": "f9ba1004-b254-4553-b6f1-e9e8eb014306",
   "metadata": {},
   "outputs": [],
   "source": [
    "#model.add(BatchNormalization())"
   ]
  }
 ],
 "metadata": {
  "kernelspec": {
   "display_name": "Python 3 (ipykernel)",
   "language": "python",
   "name": "python3"
  },
  "language_info": {
   "codemirror_mode": {
    "name": "ipython",
    "version": 3
   },
   "file_extension": ".py",
   "mimetype": "text/x-python",
   "name": "python",
   "nbconvert_exporter": "python",
   "pygments_lexer": "ipython3",
   "version": "3.10.6"
  }
 },
 "nbformat": 4,
 "nbformat_minor": 5
}
