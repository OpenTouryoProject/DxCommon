{
 "cells": [
  {
   "cell_type": "markdown",
   "id": "19ae84f0-37ff-4f1d-ba4b-58cee5bbb4dc",
   "metadata": {},
   "source": [
    "# Wikiからの情報抽出\n",
    "TOP-Kチャンクの要約"
   ]
  },
  {
   "cell_type": "markdown",
   "id": "34901495-393b-412c-b151-ada5ac6989a7",
   "metadata": {},
   "source": [
    "## 定数情報"
   ]
  },
  {
   "cell_type": "code",
   "execution_count": null,
   "id": "0eaa358e-c861-4271-9b5b-0022db6d3508",
   "metadata": {},
   "outputs": [],
   "source": [
    "# ディレクトリ\n",
    "DATA_DIR = \"./llamaindex/data/wiki\"\n",
    "PERSIST_DIR = \"./llamaindex/storage/wiki\"\n",
    "\n",
    "# プロンプト\n",
    "Information_Extraction_Prompt = \"「処理速度に関する性能」についてのノウハウを教えて下さい。\"\n",
    "#Information_Extraction_Prompt = \"「業務システムの移行マイグレーション」についてのノウハウ\"\n",
    "\n",
    "Information_Summary_Prompt = \"以下は「処理速度に関する性能」についてのノウハウを含むチャンクです。この中から、レポート化を見据えて「処理速度に関する性能」のノウハウを抽出してください。\"\n",
    "#Information_Summary_Prompt = \"以下は「業務システムの移行マイグレーション」についてのノウハウを含むチャンクです。この中から、レポート化を見据えて「処理速度に関する性能」のノウハウを抽出してください。\"\n",
    "\n",
    "# チャンク数\n",
    "Similarity_TopK = 1000\n",
    "# 類似度しきい値\n",
    "Similarity_Threshold = 0.8\n",
    "# ウィンドウサイズ（文字数）\n",
    "Window_Size = 8000"
   ]
  },
  {
   "cell_type": "markdown",
   "id": "bbbe2733-1dfe-44dd-9413-bfdba0c07bd8",
   "metadata": {},
   "source": [
    "## ライブラリ"
   ]
  },
  {
   "cell_type": "code",
   "execution_count": null,
   "id": "039b69ee-b468-476b-802f-0c9f60b04003",
   "metadata": {},
   "outputs": [],
   "source": [
    "from llama_index.core import VectorStoreIndex, SimpleDirectoryReader, Settings"
   ]
  },
  {
   "cell_type": "code",
   "execution_count": null,
   "id": "baa9e841-49a4-45d7-8364-9f611cb06002",
   "metadata": {},
   "outputs": [],
   "source": [
    "# 評価の所で使う\n",
    "from llama_index.llms.openai import OpenAI"
   ]
  },
  {
   "cell_type": "markdown",
   "id": "891e7309-fcad-4db0-9506-fdd4f45ca0a0",
   "metadata": {},
   "source": [
    "## キー"
   ]
  },
  {
   "cell_type": "code",
   "execution_count": null,
   "id": "a367d82c-6ab9-490f-a39b-3947e6e34dc7",
   "metadata": {},
   "outputs": [],
   "source": [
    "import os\n",
    "print(os.environ['OPENAI_API_KEY'])"
   ]
  },
  {
   "cell_type": "markdown",
   "id": "e95c2759-eb79-4ecb-83e5-32ca1761cc23",
   "metadata": {},
   "source": [
    "## ベクトル検索"
   ]
  },
  {
   "cell_type": "markdown",
   "id": "35bd0f93-72d7-4c44-883d-a34e44182cee",
   "metadata": {},
   "source": [
    "### 準備"
   ]
  },
  {
   "cell_type": "code",
   "execution_count": null,
   "id": "8b72f05e-ac4a-41c2-89ee-811b51eea2b5",
   "metadata": {},
   "outputs": [],
   "source": [
    "import os.path\n",
    "from llama_index.core import (\n",
    "    StorageContext,\n",
    "    load_index_from_storage,\n",
    ")\n",
    "\n",
    "# check if storage already exists\n",
    "if not os.path.exists(PERSIST_DIR):\n",
    "    print(\"load the documents and create the index\")\n",
    "    documents = SimpleDirectoryReader(DATA_DIR, recursive=True).load_data()\n",
    "    index = VectorStoreIndex.from_documents(documents)\n",
    "    # store it for later\n",
    "    index.storage_context.persist(persist_dir=PERSIST_DIR)\n",
    "else:\n",
    "    print(\"load the existing index\")\n",
    "    storage_context = StorageContext.from_defaults(persist_dir=PERSIST_DIR)\n",
    "    index = load_index_from_storage(storage_context)"
   ]
  },
  {
   "cell_type": "markdown",
   "id": "605bd6cc-4f42-4db8-afda-b044dee85ae8",
   "metadata": {},
   "source": [
    "### 試行\n",
    "通常のRAG（ベクトル検索のTOP-K）は、情報抽出の用途には適合しない。"
   ]
  },
  {
   "cell_type": "code",
   "execution_count": null,
   "id": "78a24607-d19e-43c5-8996-fcbba7498280",
   "metadata": {},
   "outputs": [],
   "source": [
    "# Either way we can now query the index\n",
    "query_engine = index.as_query_engine()\n",
    "response = query_engine.query(Information_Extraction_Prompt)\n",
    "print(response)"
   ]
  },
  {
   "cell_type": "markdown",
   "id": "8a58f7ea-3fef-4516-80f2-b4176e3f3f97",
   "metadata": {},
   "source": [
    "### Retrieve\n",
    "ベクトル検索のTOP-KをチューニングしてRetrieveする。"
   ]
  },
  {
   "cell_type": "code",
   "execution_count": null,
   "id": "35260d52-1a9f-46f4-b93d-bc0196248477",
   "metadata": {},
   "outputs": [],
   "source": [
    "retriever = index.as_retriever(similarity_top_k=Similarity_TopK) # 多目に指定\n",
    "nodes = retriever.retrieve(Information_Extraction_Prompt)\n",
    "# print(response.source_nodes) # プロパティを確認したい場合、ココを実行して出力を確認"
   ]
  },
  {
   "cell_type": "markdown",
   "id": "b553f1c2-d929-464c-a545-9250c50327c1",
   "metadata": {},
   "source": [
    "### Nodesチェック"
   ]
  },
  {
   "cell_type": "markdown",
   "id": "3903e71a-50a8-4a70-af25-c6863cd03c32",
   "metadata": {},
   "source": [
    "#### PukiWikiのダンプファイル名のデコード\n",
    "一部上手くいかないことがある。"
   ]
  },
  {
   "cell_type": "code",
   "execution_count": null,
   "id": "ef9db358-02fa-44d8-9bf2-4f2d4cf18ba6",
   "metadata": {},
   "outputs": [],
   "source": [
    "###################################################\n",
    "# pwdecode.py :\n",
    "#      Ver.0 2024-02-23\n",
    "# ■ 概要\n",
    "#     PukiWiki の wiki/ 以下のファイル名はエンコードされている。\n",
    "#     これを読めるようにする。実用上は、ls を使うはずなので、\n",
    "#     ls に対してパイプラインで実行することを想定している。\n",
    "# ■ 使用例\n",
    "#     ls -ltr | cat -n | pwdecode.py\n",
    "#     ※ cat -n を入れておくと、実際のファイル名と簡単に対応付けられる。\n",
    "###################################################\n",
    "import sys\n",
    "import re\n",
    "\n",
    "# PukiWikiは、utf-8 と euc_jp とがある。成功した方を採用。\n",
    "def try_decode(encoded_bytes):\n",
    "    try:\n",
    "        return encoded_bytes.decode('euc_jp')\n",
    "    except UnicodeDecodeError:\n",
    "        pass  \n",
    "\n",
    "    try:\n",
    "        return encoded_bytes.decode('utf-8')\n",
    "    except UnicodeDecodeError:\n",
    "        return None\n",
    "\n",
    "# 各行のデコード\n",
    "def decode_pukiwiki_filename(encoded_strings):\n",
    "    decoded_filename = ''    \n",
    "    hex_pattern = re.compile(r'([0-9A-F]{4,})(?=\\.txt$)') # エンコードされたファイル名部分を抽出\n",
    "    pos = 0\n",
    "\n",
    "    for match in hex_pattern.finditer(encoded_strings):\n",
    "        start, end = match.span()\n",
    "        decoded_filename += encoded_strings[pos:start]  # 16進数でない部分を追加\n",
    "        \n",
    "        hex_str = match.group(1)\n",
    "        decoded_bytes = bytes.fromhex(hex_str)\n",
    "        decoded_part = try_decode(decoded_bytes)\n",
    "        if decoded_part is not None:\n",
    "            decoded_filename += decoded_part\n",
    "        else:\n",
    "            decoded_filename += hex_str  # デコードに失敗した場合は元の16進数の文字列を追加\n",
    "        pos = end\n",
    "\n",
    "    decoded_filename += encoded_strings[pos:]  # 残りの部分を追加\n",
    "\n",
    "    return decoded_filename"
   ]
  },
  {
   "cell_type": "markdown",
   "id": "9b118468-1088-4274-b12d-f7cc37bee856",
   "metadata": {},
   "source": [
    "### Nodes情報のダンプ\n",
    "内容を確認する際は、コメントアウトを解除する。"
   ]
  },
  {
   "cell_type": "code",
   "execution_count": null,
   "id": "0cf0ce82-169a-4504-a917-9d7d6f259af8",
   "metadata": {},
   "outputs": [],
   "source": [
    "import codecs\n",
    "\n",
    "for i, node in enumerate(nodes, start=1):  # start=1で1から始まる\n",
    "\n",
    "    if node.score < Similarity_Threshold:\n",
    "        break\n",
    "    \"\"\"  \n",
    "    print(\"No.\", i)    \n",
    "    print(\"score \", node.score)\n",
    "    print(\"id_\", node.id_)\n",
    "    print(\"file_name\", decode_pukiwiki_filename(node.metadata[\"file_name\"]))\n",
    "    print(\"text\", node.text) # テキストを確認したい場合、ココを実行して出力を確認\n",
    "    print(\"------------------------------------------------------\")\n",
    "    \"\"\""
   ]
  },
  {
   "cell_type": "markdown",
   "id": "b7d52f2a-5ed8-4115-9782-2324ec8bc4fb",
   "metadata": {},
   "source": [
    "## 情報の要約"
   ]
  },
  {
   "cell_type": "markdown",
   "id": "5b05c750-d761-4bdd-9823-f3b6d08317f3",
   "metadata": {},
   "source": [
    "### TOP-Kチャンクの要約"
   ]
  },
  {
   "cell_type": "code",
   "execution_count": null,
   "id": "84c4823f-8b37-4ecf-95f8-1250998247cb",
   "metadata": {},
   "outputs": [],
   "source": [
    "def CallLLM(Prompt):\n",
    "    llm = OpenAI(model=\"gpt-4o\")\n",
    "    response = llm.complete(Prompt)\n",
    "    return response"
   ]
  },
  {
   "cell_type": "code",
   "execution_count": null,
   "id": "c7488850-051d-4d92-8249-f292138f2a6a",
   "metadata": {},
   "outputs": [],
   "source": [
    "buffer = []\n",
    "buffer_len = 0\n",
    "\n",
    "for i, node in enumerate(nodes, start=1):\n",
    "    \n",
    "    if node.score < Similarity_Threshold:\n",
    "        break\n",
    "        \n",
    "    text = node.text\n",
    "    text_len = len(text)\n",
    "\n",
    "    if buffer_len + text_len <= Window_Size:\n",
    "        # バッファを蓄積\n",
    "        i=i\n",
    "    else:\n",
    "        # バッファを処理\n",
    "        print(CallLLM(Information_Summary_Prompt  + \"\\n\\n\\n\" + str(buffer)))\n",
    "        print(\"------------------------------------------------------\")\n",
    "        # バッファを初期化\n",
    "        buffer = []\n",
    "        buffer_len = 0\n",
    "        \n",
    "    # バッファに追記\n",
    "    buffer.append(node)\n",
    "    buffer_len += text_len\n",
    "    \n",
    "# 最後に残ったバッファも忘れずに処理\n",
    "print(CallLLM(Information_Summary_Prompt  + \"\\n\\n\\n\" + str(buffer)))"
   ]
  },
  {
   "cell_type": "markdown",
   "id": "c341094e-7b68-4008-bba2-c1e24f9d23ef",
   "metadata": {},
   "source": [
    "### 要約の構造化\n",
    "- 構造化はドメイン知識を要する。\n",
    "- リーフページにスコープ外の情報が多いと要約がなかなか上手く行かない。"
   ]
  },
  {
   "cell_type": "code",
   "execution_count": null,
   "id": "0021d2c5-b2c6-48ff-b280-2e18a60b1aa2",
   "metadata": {},
   "outputs": [],
   "source": [
    "# ..."
   ]
  }
 ],
 "metadata": {
  "kernelspec": {
   "display_name": "Python 3 (ipykernel)",
   "language": "python",
   "name": "python3"
  },
  "language_info": {
   "codemirror_mode": {
    "name": "ipython",
    "version": 3
   },
   "file_extension": ".py",
   "mimetype": "text/x-python",
   "name": "python",
   "nbconvert_exporter": "python",
   "pygments_lexer": "ipython3",
   "version": "3.12.3"
  }
 },
 "nbformat": 4,
 "nbformat_minor": 5
}
