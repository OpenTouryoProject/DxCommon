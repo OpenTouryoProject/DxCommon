{
 "cells": [
  {
   "cell_type": "markdown",
   "id": "cf8af0d7-c198-4acd-921a-f3683f675ced",
   "metadata": {},
   "source": [
    "# scikit-learnのトレーニング♨\n",
    "\n",
    "## 性能の評価、チューニング 編\n",
    "- [分類問題の性能の評価](#分類問題の性能の評価)\n",
    "- [汎化性能の評価](#汎化性能の評価)\n",
    "- [チューニング](#チューニング)\n",
    "\n",
    "## [目次](TableOfContents.ipynb)\n",
    "\n",
    "## 参考\n",
    "開発基盤部会 Wiki\n",
    "- データマイニング（DM）- Python  \n",
    "https://dotnetdevelopmentinfrastructure.osscons.jp/index.php?%E3%83%87%E3%83%BC%E3%82%BF%E3%83%9E%E3%82%A4%E3%83%8B%E3%83%B3%E3%82%B0%EF%BC%88DM%EF%BC%89-%20Python#y4054d35"
   ]
  },
  {
   "cell_type": "markdown",
   "id": "07e2a189-ef86-40f8-89e8-857a5b6e41aa",
   "metadata": {
    "tags": []
   },
   "source": [
    "## [環境準備](ScikitLearnTraining0.ipynb)"
   ]
  },
  {
   "cell_type": "code",
   "execution_count": null,
   "id": "06435506-b010-44b9-8fc6-472e61ed518c",
   "metadata": {},
   "outputs": [],
   "source": [
    "import io\n",
    "import requests\n",
    "\n",
    "import pandas as pd\n",
    "import numpy as np\n",
    "import mglearn\n",
    "import matplotlib.pyplot as plt\n",
    "\n",
    "from sklearn import datasets                                 # サンプル・データセット\n",
    "from sklearn.datasets import make_regression                 # 回帰データセット作成\n",
    "from sklearn.datasets import make_blobs                      # 分類データセット作成\n",
    "from sklearn.preprocessing import StandardScaler             # 標準化\n",
    "from sklearn.model_selection import train_test_split         # データ分割\n",
    "\n",
    "from sklearn.linear_model import LinearRegression            # 線形回帰\n",
    "from sklearn.preprocessing import PolynomialFeatures         # 多項式回帰の変数変換\n",
    "from sklearn.linear_model import Ridge                       # 多項式回帰のRidge回帰\n",
    "from sklearn.linear_model import Lasso                       # 多項式回帰のLASSO回帰\n",
    "from sklearn.linear_model import ElasticNet                  # 多項式回帰のLASSO回帰\n",
    "from sklearn.linear_model import Perceptron                  # 単純パーセプトロン線形分類器\n",
    "from sklearn.linear_model import LogisticRegression          # ロジスティク回帰\n",
    "from sklearn.svm import SVC                                  # サポートベクターマシン（SVM）分類器\n",
    "from sklearn.tree import DecisionTreeClassifier              # 決定木（分類木）\n",
    "from sklearn.ensemble import RandomForestClassifier          # ランダムフォレスト（分類木）\n",
    "from sklearn.ensemble import GradientBoostingClassifier      # 勾配ブースティング木（分類木）\n",
    "from sklearn.decomposition import PCA                        # 主成分分析\n",
    "from sklearn.cluster import KMeans                           # k-means法 クラスタ分析\n",
    "from sklearn.feature_extraction.text import CountVectorizer  # 自然言語処理ベクトル化\n",
    "from sklearn.feature_extraction.text import TfidfTransformer # 自然言語ベクトルのTF-IDF計算\n",
    "from sklearn.decomposition import LatentDirichletAllocation  # 自然言語ベクトルからLDAトピック抽出\n",
    "\n",
    "from sklearn import metrics                                  # モデル評価\n",
    "from sklearn.metrics import mean_squared_error as mse        # 精度評価（mse）\n",
    "from sklearn.metrics import confusion_matrix                 # 混同行列\n",
    "from sklearn.metrics import silhouette_samples               # シルエット係数\n",
    "from sklearn.model_selection import cross_val_score          # 交差検証法\n",
    "from sklearn.model_selection import KFold                    # k分割交差検証法\n",
    "from sklearn.model_selection import StratifiedKFold          # 層化交差検証法\n",
    "from sklearn.model_selection import GridSearchCV             # グリッドサーチ\n",
    "\n",
    "import seaborn as sns                                        # matplotlibラッパ\n",
    "from mlxtend.plotting import plot_decision_regions           # 決定領域表示関数\n",
    "from matplotlib import cm                                    # カラーマップ処理\n",
    "\n",
    "from numpy import linalg as LA                               # 線形代数ライブラリ"
   ]
  },
  {
   "cell_type": "code",
   "execution_count": null,
   "id": "8fcacf84-b698-4fd1-9e31-3ac5b17f28ef",
   "metadata": {},
   "outputs": [],
   "source": [
    "import warnings\n",
    "warnings.filterwarnings('ignore')"
   ]
  },
  {
   "cell_type": "markdown",
   "id": "57122142-2f42-4086-acb2-446388d068fa",
   "metadata": {},
   "source": [
    "## 分類問題の性能の評価\n",
    "[分類問題のデータとアルゴリズム](ScikitLearnTraining3.ipynb)を使用。"
   ]
  },
  {
   "cell_type": "markdown",
   "id": "2ec5b023-acc6-4633-ae20-b0d72352a7dd",
   "metadata": {},
   "source": [
    "### データ"
   ]
  },
  {
   "cell_type": "code",
   "execution_count": null,
   "id": "4e86a80f-be4b-4974-9ef2-cdd920ffa906",
   "metadata": {},
   "outputs": [],
   "source": [
    "iris = datasets.load_iris()\n",
    "df_data = pd.DataFrame(iris.data, columns=iris.feature_names)\n",
    "df_target = pd.DataFrame(iris.target, columns=['species'])\n",
    "df = pd.concat([df_data, df_target], axis=1)\n",
    "\n",
    "np_arr=np.array(df)\n",
    "\n",
    "# データの標準化\n",
    "ss = StandardScaler()"
   ]
  },
  {
   "cell_type": "markdown",
   "id": "1c9aedfd-452f-4b43-9c29-3ae68fb4462c",
   "metadata": {},
   "source": [
    "#### 2値分類"
   ]
  },
  {
   "cell_type": "code",
   "execution_count": null,
   "id": "fd1ce5d9-6c4e-4548-bf24-691e2c2d938f",
   "metadata": {},
   "outputs": [],
   "source": [
    "# PetalLengthCm, PetalWidthCm列の選択\n",
    "x2=np_arr[50:150, 2:4] \n",
    "\n",
    "# Species列の選択\n",
    "y2=np.array(np_arr[50:150, 4:5],dtype=np.int64) # 要素の型をint64に変換\n",
    "\n",
    "ss.fit(x2)\n",
    "x2_std = ss.transform(x2)\n",
    "\n",
    "# 学習・テストデータの分割\n",
    "x2_train, x2_test, y2_train, y2_test = train_test_split(x2_std, y2, test_size=0.3, random_state=0)\n",
    "\n",
    "print(x2.shape)"
   ]
  },
  {
   "cell_type": "markdown",
   "id": "1dc9bb72-6c5e-4617-8844-fc54aea8fedf",
   "metadata": {},
   "source": [
    "#### 3値分類"
   ]
  },
  {
   "cell_type": "code",
   "execution_count": null,
   "id": "07e7e2ad-1d8d-46eb-bfe7-a41420aacf17",
   "metadata": {},
   "outputs": [],
   "source": [
    "x3=np_arr[:, 2:4] \n",
    "y3=np.array(np_arr[:, 4:5],dtype=np.int64) # 要素の型をint64に変換\n",
    "ss.fit(x3)\n",
    "x3_std = ss.transform(x3)\n",
    "x3_train, x3_test, y3_train, y3_test = train_test_split(x3_std, y3, test_size=0.3, random_state=0)\n",
    "\n",
    "print(x3.shape)"
   ]
  },
  {
   "cell_type": "markdown",
   "id": "e9b2abe5-1579-461f-9db7-8bfd65965df5",
   "metadata": {},
   "source": [
    "### アルゴリズム"
   ]
  },
  {
   "cell_type": "markdown",
   "id": "f710a416-f723-404e-a718-23c5e26be8d6",
   "metadata": {},
   "source": [
    "#### 単純パーセプトロン線形分類器"
   ]
  },
  {
   "cell_type": "markdown",
   "id": "bff45b5d-126a-432a-9df9-182f48660bee",
   "metadata": {},
   "source": [
    "##### ２値分類"
   ]
  },
  {
   "cell_type": "code",
   "execution_count": null,
   "id": "8d3cde97-c55c-443d-8e74-dc04e31704e9",
   "metadata": {},
   "outputs": [],
   "source": [
    "ppn2 = Perceptron(eta0=0.1) # 学習率 0.1\n",
    "ppn2.fit(x2_train, np.reshape(y2_train,(-1)))"
   ]
  },
  {
   "cell_type": "markdown",
   "id": "0bc08ec2-5ab3-4d38-9871-2160a2f71940",
   "metadata": {},
   "source": [
    "##### ３値分類"
   ]
  },
  {
   "cell_type": "code",
   "execution_count": null,
   "id": "23562989-7842-4844-88b5-c7abab818f9d",
   "metadata": {},
   "outputs": [],
   "source": [
    "ppn3 = Perceptron(eta0=0.1) # 学習率 0.1\n",
    "ppn3.fit(x3_train, np.reshape(y3_train,(-1)))"
   ]
  },
  {
   "cell_type": "markdown",
   "id": "a1ddbde2-65d9-4e30-9420-721834eb40e7",
   "metadata": {},
   "source": [
    "#### サポートベクターマシン分類器"
   ]
  },
  {
   "cell_type": "markdown",
   "id": "b9f340b5-f50c-4945-be24-215abcb852e7",
   "metadata": {},
   "source": [
    "##### ２値分類"
   ]
  },
  {
   "cell_type": "code",
   "execution_count": null,
   "id": "b8cdd2b2-d899-4bab-94a6-865336b2533c",
   "metadata": {},
   "outputs": [],
   "source": [
    "svc2 = SVC(kernel='rbf', gamma=0.1, C=10)\n",
    "svc2.fit(x2_train, np.reshape(y2_train,(-1))) "
   ]
  },
  {
   "cell_type": "markdown",
   "id": "74c26806-76bc-45a9-b805-6d694af731a9",
   "metadata": {},
   "source": [
    "##### ３値分類"
   ]
  },
  {
   "cell_type": "code",
   "execution_count": null,
   "id": "5f10d001-ec1a-4694-9bcd-430d0ecdcf3b",
   "metadata": {},
   "outputs": [],
   "source": [
    "svc3 = SVC(kernel='rbf', gamma=0.1, C=10)\n",
    "svc3.fit(x3_train, np.reshape(y3_train,(-1))) "
   ]
  },
  {
   "cell_type": "markdown",
   "id": "cc230983-f7f8-421b-9866-324119837a1a",
   "metadata": {},
   "source": [
    "#### 勾配ブースティング木"
   ]
  },
  {
   "cell_type": "markdown",
   "id": "014d5a15-74b3-4c96-9504-e769e88e2b5f",
   "metadata": {},
   "source": [
    "##### ２値分類"
   ]
  },
  {
   "cell_type": "code",
   "execution_count": null,
   "id": "2a043e58-1a1b-4451-a220-e8295027f07d",
   "metadata": {},
   "outputs": [],
   "source": [
    "tree_gbc2 = GradientBoostingClassifier(random_state=0, max_depth=3, learning_rate=0.1)\n",
    "tree_gbc2.fit(x2_train, np.reshape(y2_train,(-1)))"
   ]
  },
  {
   "cell_type": "markdown",
   "id": "ad2d9843-1425-4268-94a1-de9ebfc01035",
   "metadata": {},
   "source": [
    "##### ３値分類"
   ]
  },
  {
   "cell_type": "code",
   "execution_count": null,
   "id": "c950c642-24bb-4f42-aa18-80e377cbec7e",
   "metadata": {},
   "outputs": [],
   "source": [
    "tree_gbc3 = GradientBoostingClassifier(random_state=0, max_depth=3, learning_rate=0.1)\n",
    "tree_gbc3.fit(x3_train, np.reshape(y3_train,(-1)))"
   ]
  },
  {
   "cell_type": "markdown",
   "id": "ee100778-d7f5-439a-9efc-7f83fbea7877",
   "metadata": {
    "tags": []
   },
   "source": [
    "### 混同行列\n",
    "\n",
    "※ [AIプロジェクトのマネジメント > 詳細 > 違い > 色々な難しさ > 混同行列](https://dotnetdevelopmentinfrastructure.osscons.jp/index.php?AI%E3%83%97%E3%83%AD%E3%82%B8%E3%82%A7%E3%82%AF%E3%83%88%E3%81%AE%E3%83%9E%E3%83%8D%E3%82%B8%E3%83%A1%E3%83%B3%E3%83%88#a6b82222)"
   ]
  },
  {
   "cell_type": "markdown",
   "id": "9e946d01-c6af-40e6-a365-ed763bfcd774",
   "metadata": {},
   "source": [
    "#### 混同行列表示処理関数"
   ]
  },
  {
   "cell_type": "markdown",
   "id": "03ced8f2-9eda-47a3-85eb-f63b3cc2be04",
   "metadata": {},
   "source": [
    "#### 2クラス分類の場合"
   ]
  },
  {
   "cell_type": "markdown",
   "id": "fc58dae1-ed46-44b2-83b0-8b5733e9e9d1",
   "metadata": {},
   "source": [
    "##### 混同行列表示"
   ]
  },
  {
   "cell_type": "markdown",
   "id": "eda5c399-c51d-4b7f-8582-168b23cc5e30",
   "metadata": {},
   "source": [
    "###### 単純パーセプトロン線形分類器"
   ]
  },
  {
   "cell_type": "code",
   "execution_count": null,
   "id": "8ce32ec4-b19f-42c3-b06d-aadf22b92bf7",
   "metadata": {},
   "outputs": [],
   "source": [
    "cm_ppn2 = confusion_matrix(y2_test, ppn2.predict(x2_test))\n",
    "print(cm_ppn2.dtype)\n",
    "print(cm_ppn2)"
   ]
  },
  {
   "cell_type": "markdown",
   "id": "5ec277fc-adc9-4a77-9f2d-c22491cce5a3",
   "metadata": {},
   "source": [
    "###### サポートベクターマシン分類器"
   ]
  },
  {
   "cell_type": "code",
   "execution_count": null,
   "id": "fbc8e1f8-818c-45e8-9b96-b446704d4cdb",
   "metadata": {},
   "outputs": [],
   "source": [
    "cm_svc2 = confusion_matrix(y2_test, svc2.predict(x2_test))\n",
    "print(cm_svc2.dtype)\n",
    "print(cm_svc2)"
   ]
  },
  {
   "cell_type": "markdown",
   "id": "7535beaa-ee24-43f5-92fd-282b811797b0",
   "metadata": {},
   "source": [
    "###### 勾配ブースティング木"
   ]
  },
  {
   "cell_type": "code",
   "execution_count": null,
   "id": "224a1ef2-7d85-4947-9b50-6d88a4adca0a",
   "metadata": {},
   "outputs": [],
   "source": [
    "cm_tree2 = confusion_matrix(y2_test, tree_gbc2.predict(x2_test))\n",
    "print(cm_tree2.dtype)\n",
    "print(cm_tree2)"
   ]
  },
  {
   "cell_type": "markdown",
   "id": "85a6989e-5952-4bea-a615-642ad47fb66b",
   "metadata": {},
   "source": [
    "##### 混同行列による指標\n",
    "\n",
    "※ [データマイニング（DM）- CRISP-DM > 詳細 > 評価 > 精度の評価](https://dotnetdevelopmentinfrastructure.osscons.jp/index.php?%E3%83%87%E3%83%BC%E3%82%BF%E3%83%9E%E3%82%A4%E3%83%8B%E3%83%B3%E3%82%B0%EF%BC%88DM%EF%BC%89-%20CRISP-DM#uf759972)"
   ]
  },
  {
   "cell_type": "markdown",
   "id": "f1f6f970-8aa0-453e-a243-846e3cda3f9e",
   "metadata": {},
   "source": [
    "###### accuracy（正解率）"
   ]
  },
  {
   "cell_type": "code",
   "execution_count": null,
   "id": "0d077f79-97f9-4d84-90b3-dee1d77c23ec",
   "metadata": {},
   "outputs": [],
   "source": [
    "print(\"accuracy_score: \", metrics.accuracy_score(y2_test, svc2.predict(x2_test)))"
   ]
  },
  {
   "cell_type": "markdown",
   "id": "176c3184-b8bc-4397-8da7-6ce79cc218cd",
   "metadata": {},
   "source": [
    "###### precision（感度（再現率））"
   ]
  },
  {
   "cell_type": "code",
   "execution_count": null,
   "id": "049adb5c-da8b-466d-91f2-9a547c672602",
   "metadata": {},
   "outputs": [],
   "source": [
    "print(\"precision_score: \", metrics.precision_score(y2_test, svc2.predict(x2_test)))"
   ]
  },
  {
   "cell_type": "markdown",
   "id": "db62fe79-393d-4723-b8f2-9c528089455b",
   "metadata": {},
   "source": [
    "###### recall（精度（適合率））"
   ]
  },
  {
   "cell_type": "code",
   "execution_count": null,
   "id": "f984d347-f59e-4f33-83b6-407997c11610",
   "metadata": {},
   "outputs": [],
   "source": [
    "print(\"recall_score: \", metrics.recall_score(y2_test, svc2.predict(x2_test)))"
   ]
  },
  {
   "cell_type": "markdown",
   "id": "b78805e3-7262-4819-b6f0-8bebb30d0f94",
   "metadata": {},
   "source": [
    "###### f1-score（F値）"
   ]
  },
  {
   "cell_type": "code",
   "execution_count": null,
   "id": "1efe878a-c9c7-46f2-89a6-3a3c503171fe",
   "metadata": {},
   "outputs": [],
   "source": [
    "print(\"f1_score: \", metrics.f1_score(y2_test, svc2.predict(x2_test)))"
   ]
  },
  {
   "cell_type": "markdown",
   "id": "34f2a7bb-5e42-4591-9915-cbb4e6125d31",
   "metadata": {},
   "source": [
    "#### 3クラス分類の場合"
   ]
  },
  {
   "cell_type": "markdown",
   "id": "4b151d3f-6a9a-4f04-97db-0b2acc61311d",
   "metadata": {},
   "source": [
    "##### 混同行列表示"
   ]
  },
  {
   "cell_type": "markdown",
   "id": "26dd2258-031c-452d-983c-e8d104f5521e",
   "metadata": {},
   "source": [
    "###### 単純パーセプトロン線形分類器"
   ]
  },
  {
   "cell_type": "code",
   "execution_count": null,
   "id": "a2693426-0d2b-49fd-8f9a-cbcef9c23f3a",
   "metadata": {},
   "outputs": [],
   "source": [
    "cm_ppn3 = confusion_matrix(y3_test, ppn3.predict(x3_test))\n",
    "print(cm_ppn3.dtype)\n",
    "print(cm_ppn3)"
   ]
  },
  {
   "cell_type": "markdown",
   "id": "8e70cf61-8cae-49c3-a1f7-c04b6b2259dd",
   "metadata": {},
   "source": [
    "###### サポートベクターマシン分類器"
   ]
  },
  {
   "cell_type": "code",
   "execution_count": null,
   "id": "8dec1a1b-bf24-434b-b938-f5ef5672e327",
   "metadata": {},
   "outputs": [],
   "source": [
    "cm_svc3 = confusion_matrix(y3_test, svc3.predict(x3_test))\n",
    "print(cm_svc3.dtype)\n",
    "print(cm_svc3)"
   ]
  },
  {
   "cell_type": "markdown",
   "id": "0cddde6d-873e-449c-a613-3b7c35d4ce78",
   "metadata": {},
   "source": [
    "###### 勾配ブースティング木"
   ]
  },
  {
   "cell_type": "code",
   "execution_count": null,
   "id": "d998d6f4-f8bc-45b6-96e9-13a932b00b10",
   "metadata": {},
   "outputs": [],
   "source": [
    "cm_tree3 = confusion_matrix(y3_test, tree_gbc3.predict(x3_test))\n",
    "print(cm_tree3.dtype)\n",
    "print(cm_tree3)"
   ]
  },
  {
   "cell_type": "markdown",
   "id": "d846ca13-4b8d-49b5-a719-7965a79862d5",
   "metadata": {},
   "source": [
    "##### ミクロ平均・マクロ平均"
   ]
  },
  {
   "cell_type": "markdown",
   "id": "6a4cae23-543a-4ced-a8f9-49a3a3213e54",
   "metadata": {},
   "source": [
    "###### ミクロ平均\n",
    "- クラスごとのサンプル数の偏りを調整しない場合の平均の取り方\n",
    "- 多数派のクラスを重視したいときはミクロ平均を使う。"
   ]
  },
  {
   "cell_type": "code",
   "execution_count": null,
   "id": "e8d48661-a4df-498d-b18d-74ded8ad2f62",
   "metadata": {},
   "outputs": [],
   "source": [
    "# 適合率のミクロ平均\n",
    "print(\"precision_score: \", metrics.precision_score(y3_test, svc3.predict(x3_test), average='micro'))\n",
    "# 再現率のミクロ平均\n",
    "print(\"recall_score: \", metrics.recall_score(y3_test, svc3.predict(x3_test), average='micro'))\n",
    "# F値のミクロ平均\n",
    "print(\"f1_score: \", metrics.f1_score(y3_test, svc3.predict(x3_test), average='micro'))"
   ]
  },
  {
   "cell_type": "markdown",
   "id": "5ce79098-5d67-4919-9788-baac775683fb",
   "metadata": {},
   "source": [
    "###### マクロ平均\n",
    "- サンプル数の偏りを調整する場合の平均の取り方\n",
    "- 全体を均等に評価したいときはマクロ平均を使う。"
   ]
  },
  {
   "cell_type": "code",
   "execution_count": null,
   "id": "322a1188-d75d-4fc8-a8f2-62441ec1d2f7",
   "metadata": {},
   "outputs": [],
   "source": [
    "# 適合率のマクロ平均\n",
    "print(\"precision_score: \", metrics.precision_score(y3_test, svc3.predict(x3_test), average='macro'))\n",
    "# 再現率のマクロ平均\n",
    "print(\"recall_score: \", metrics.recall_score(y3_test, svc3.predict(x3_test), average='macro'))\n",
    "# F値のマクロ平均\n",
    "print(\"f1_score: \", metrics.f1_score(y3_test, svc3.predict(x3_test), average='macro'))"
   ]
  },
  {
   "cell_type": "markdown",
   "id": "216b0ede-4e5b-444a-91be-136defabfcf5",
   "metadata": {},
   "source": [
    "## 汎化性能の評価"
   ]
  },
  {
   "cell_type": "markdown",
   "id": "c19b907c-9e40-408d-bc21-aa78c54b391d",
   "metadata": {
    "tags": []
   },
   "source": [
    "### k分割交差検証法\n",
    "[回帰問題のデータとアルゴリズム](ScikitLearnTraining1.ipynb)を使用。"
   ]
  },
  {
   "cell_type": "markdown",
   "id": "f3b02677-a4ea-4033-8be1-d3fef4bf0482",
   "metadata": {},
   "source": [
    "#### データ"
   ]
  },
  {
   "cell_type": "code",
   "execution_count": null,
   "id": "ce27607a-9e2a-4a51-beb1-0deb20eb0b98",
   "metadata": {},
   "outputs": [],
   "source": [
    "proxies = { # プロキシ設定\n",
    "\"http\":\"http://<user_name>:<password>@<proxy_host>:<proxy_port>/\",\n",
    "\"https\":\"https://<user_name>:<password>@<proxy_host>:<proxy_port>/\"\n",
    "}\n",
    "\n",
    "url = 'https://dotnetdevelopmentinfrastructure.osscons.jp/index.php?plugin=attach&pcmd=open&file=Boston.csv&refer=FrontPage'\n",
    "res = requests.get(url) # , verify=False, proxies=proxies) # プロキシ\n",
    "df = pd.read_csv(io.BytesIO(res.content), encoding='utf-8', sep=\",\")\n",
    "df=df.drop('Unnamed: 0',axis=1)\n",
    "df = df.loc[:, ['lstat', 'rm', 'medv']]\n",
    "x = np.array(df.loc[:, ['lstat', 'rm']])\n",
    "y = np.array(df.loc[:, ['medv']])"
   ]
  },
  {
   "cell_type": "markdown",
   "id": "c843da0c-aed8-4836-a492-6a7e18eba7dd",
   "metadata": {},
   "source": [
    "#### アルゴリズム"
   ]
  },
  {
   "cell_type": "markdown",
   "id": "cfbd1ab5-989e-4ae0-9a94-a2bbd5dda123",
   "metadata": {},
   "source": [
    "##### アルゴリズムの初期化"
   ]
  },
  {
   "cell_type": "code",
   "execution_count": null,
   "id": "7bd6072d-d68f-42ca-9890-8ec3b18ed9bb",
   "metadata": {},
   "outputs": [],
   "source": [
    "lr = LinearRegression()"
   ]
  },
  {
   "cell_type": "markdown",
   "id": "aeecaaee-fbe7-4892-9cf6-e348b6e3c273",
   "metadata": {},
   "source": [
    "##### k分割交差検証法の設定\n",
    "- n_splits:  \n",
    "  - データを分割する通常5〜10個程度の個数。\n",
    "  - 小さいデータほど数多く分割する必要がある｡\n",
    "- shuffle:  \n",
    "  - 分割を行う前にデータをシャッフルするかどうか。\n",
    "  - Trueにしておいた方が信頼性が上がる。\n",
    "- random_state:  \n",
    "  - 乱数生成器の状態。\n",
    "  - これを固定しておけば､毎回同じ分割結果が得られる。"
   ]
  },
  {
   "cell_type": "code",
   "execution_count": null,
   "id": "187057c5-3307-4ff7-8b77-9be051be7b0b",
   "metadata": {},
   "outputs": [],
   "source": [
    "kf = KFold(n_splits=5, shuffle=True, random_state=0)"
   ]
  },
  {
   "cell_type": "markdown",
   "id": "2e6353f6-f1d4-48ac-8a3a-4cd631df3ddb",
   "metadata": {},
   "source": [
    "#### 学習"
   ]
  },
  {
   "cell_type": "code",
   "execution_count": null,
   "id": "d9ae4e4b-4bf6-49dc-9cda-de9ed742e20e",
   "metadata": {},
   "outputs": [],
   "source": [
    "scores = cross_val_score(lr, x, y, cv=kf)\n",
    "scores"
   ]
  },
  {
   "cell_type": "markdown",
   "id": "09dafb44-5971-444c-b5bf-e0fde5501e40",
   "metadata": {},
   "source": [
    "#### 評価"
   ]
  },
  {
   "cell_type": "markdown",
   "id": "74ac8d29-6014-4c1c-adfd-b104cb7d5cf5",
   "metadata": {},
   "source": [
    "##### 交差検証精度\n",
    "- そもそも、scoreはなにか？と言えばR2乗値だった。\n",
    "- 絶対的な基準でないが0.5以上であれば適合度が高い"
   ]
  },
  {
   "cell_type": "markdown",
   "id": "c92c3058-0bf2-46f4-870e-0b7e20a5d331",
   "metadata": {},
   "source": [
    "###### 交差検証精度の平均"
   ]
  },
  {
   "cell_type": "code",
   "execution_count": null,
   "id": "cbd2d7ed-059d-4f8e-9759-b8b3580bcd72",
   "metadata": {},
   "outputs": [],
   "source": [
    "print(scores.mean()) "
   ]
  },
  {
   "cell_type": "markdown",
   "id": "2cd33ed4-49ed-49b3-acd8-0906bb6f4456",
   "metadata": {},
   "source": [
    "###### 交差検証精度の標準偏差"
   ]
  },
  {
   "cell_type": "code",
   "execution_count": null,
   "id": "e93a3d94-b3f3-45cb-a45b-bbf55b448036",
   "metadata": {},
   "outputs": [],
   "source": [
    "print(scores.std())"
   ]
  },
  {
   "cell_type": "markdown",
   "id": "20c88c59-b5c8-4545-927e-416832b4ddf7",
   "metadata": {},
   "source": [
    "### 層化k分割交差検証法\n",
    "[分類問題のデータとアルゴリズム](ScikitLearnTraining3.ipynb)を使用。"
   ]
  },
  {
   "cell_type": "markdown",
   "id": "882e1d4e-ca7a-44e9-ab8d-7b4a4486e54b",
   "metadata": {},
   "source": [
    "#### データ"
   ]
  },
  {
   "cell_type": "code",
   "execution_count": null,
   "id": "6a4035f1-74da-4f98-b3e4-fa817759bf7a",
   "metadata": {},
   "outputs": [],
   "source": [
    "iris = datasets.load_iris()\n",
    "df_data = pd.DataFrame(iris.data, columns=iris.feature_names)\n",
    "df_target = pd.DataFrame(iris.target, columns=['species'])\n",
    "df = pd.concat([df_data, df_target], axis=1)\n",
    "np_arr=np.array(df)\n",
    "# PetalLengthCm, PetalWidthCm列の選択\n",
    "x=np_arr[:, 2:4] \n",
    "# Species列の選択\n",
    "y=np.array(np_arr[:, 4:5],dtype=np.int64) # 要素の型をint64に変換"
   ]
  },
  {
   "cell_type": "markdown",
   "id": "1d6522ec-8109-4c03-9e5f-fa2a3fe885ca",
   "metadata": {},
   "source": [
    "#### アルゴリズム"
   ]
  },
  {
   "cell_type": "markdown",
   "id": "0e5e4578-004d-4bb6-9c94-420f00f2084d",
   "metadata": {},
   "source": [
    "##### アルゴリズムの初期化"
   ]
  },
  {
   "cell_type": "code",
   "execution_count": null,
   "id": "b0cb3877-0152-4e1f-9b99-028452e4761f",
   "metadata": {},
   "outputs": [],
   "source": [
    "svc = SVC(kernel='rbf', gamma=0.1, C=10)"
   ]
  },
  {
   "cell_type": "markdown",
   "id": "e1916597-8cfa-4ea1-8f39-2c6d42f6ff9d",
   "metadata": {},
   "source": [
    "##### 層化k分割交差検証法の設定\n",
    "KFoldと比べるとStratifiedKFoldは、  \n",
    "クラスラベルを等分するという条件を追加されている。"
   ]
  },
  {
   "cell_type": "code",
   "execution_count": null,
   "id": "d7f9e825-19e8-49ae-aafc-a0e70ee81c5c",
   "metadata": {},
   "outputs": [],
   "source": [
    "kf = StratifiedKFold(n_splits=5, shuffle=True, random_state=0)"
   ]
  },
  {
   "cell_type": "markdown",
   "id": "8bb86294-0a8a-4529-a1b1-e63118315881",
   "metadata": {},
   "source": [
    "#### 学習"
   ]
  },
  {
   "cell_type": "code",
   "execution_count": null,
   "id": "4c9dc78c-80db-4213-9dc1-08d1d30ce8fa",
   "metadata": {},
   "outputs": [],
   "source": [
    "scores = cross_val_score(svc, x, y, cv=kf)\n",
    "scores"
   ]
  },
  {
   "cell_type": "markdown",
   "id": "2fdb0aad-911e-48f6-9cbb-619cdeb8cf73",
   "metadata": {},
   "source": [
    "#### 評価"
   ]
  },
  {
   "cell_type": "markdown",
   "id": "7f9b5010-f6e4-492c-844f-775c8d8adcf9",
   "metadata": {},
   "source": [
    "###### 交差検証精度の平均"
   ]
  },
  {
   "cell_type": "code",
   "execution_count": null,
   "id": "4ad78699-4dec-43d6-b23c-ddd4fa99e631",
   "metadata": {},
   "outputs": [],
   "source": [
    "scores.mean()"
   ]
  },
  {
   "cell_type": "markdown",
   "id": "d53899f9-22da-473b-b665-89dae7b3980e",
   "metadata": {},
   "source": [
    "###### 交差検証精度の標準偏差"
   ]
  },
  {
   "cell_type": "code",
   "execution_count": null,
   "id": "ab4a73d0-c653-4d05-b5f8-1f8800760f08",
   "metadata": {},
   "outputs": [],
   "source": [
    "scores.std()"
   ]
  },
  {
   "cell_type": "markdown",
   "id": "b4587a5c-2f39-43d3-8a79-adeb454a8c4a",
   "metadata": {},
   "source": [
    "## チューニング "
   ]
  },
  {
   "cell_type": "markdown",
   "id": "e7e52d31-13a6-40a0-aeae-cb46d0f87ff2",
   "metadata": {
    "tags": []
   },
   "source": [
    "### グリッドサーチ\n",
    "- グリッドサーチはハイパーパラメタのチューニング\n",
    "- サポートベクターマシン分類機を使用してグリッドサーチ"
   ]
  },
  {
   "cell_type": "markdown",
   "id": "b18cce31-3d94-416c-9ff0-0899f521687c",
   "metadata": {},
   "source": [
    "#### データ"
   ]
  },
  {
   "cell_type": "markdown",
   "id": "2e3bab5a-95da-46e7-aa2b-05623047cb5a",
   "metadata": {},
   "source": [
    "##### XORのデータの作成"
   ]
  },
  {
   "cell_type": "code",
   "execution_count": null,
   "id": "86c76c5b-5aaf-4086-aaa7-6f2c54c4d3bf",
   "metadata": {},
   "outputs": [],
   "source": [
    "np.random.seed(0)\n",
    "x_xor = np.random.randn(200, 2)\n",
    "y_xor = np.logical_xor(x_xor[:, 0] > 0, x_xor[:, 1] > 0)\n",
    "y_xor = np.where(y_xor, 1, -1)\n",
    "# データの散布\n",
    "plt.scatter(x_xor[y_xor == 1, 0], x_xor[y_xor == 1, 1], c='b', marker='x', label='1')\n",
    "plt.scatter(x_xor[y_xor == -1, 0], x_xor[y_xor == -1, 1], c='r', marker='s', label='-1')\n",
    "plt.xlim([-3, 3])\n",
    "plt.ylim([-3, 3])\n",
    "plt.legend(loc='best') # 右上に凡例を出力\n",
    "plt.show()"
   ]
  },
  {
   "cell_type": "markdown",
   "id": "615955b1-a709-4a38-88b3-74812a487c13",
   "metadata": {},
   "source": [
    "##### ホールド・アウト法による学習・テストデータの分割"
   ]
  },
  {
   "cell_type": "code",
   "execution_count": null,
   "id": "811e1b6e-bd52-4839-98c9-c73e4a6c93bf",
   "metadata": {},
   "outputs": [],
   "source": [
    "x_xor_train, x_xor_test, y_xor_train, y_xor_test = train_test_split(x_xor, y_xor, test_size=0.3, random_state=0)"
   ]
  },
  {
   "cell_type": "markdown",
   "id": "d02d19aa-a31d-4f14-828a-97c2c7e2bc38",
   "metadata": {},
   "source": [
    "#### アルゴリズム\n",
    "グリッドサーチのアルゴリズムを生成"
   ]
  },
  {
   "cell_type": "markdown",
   "id": "61728247-7cbd-4e37-8f34-e36c56f57ec8",
   "metadata": {},
   "source": [
    "##### パラメタのグリッドを作成"
   ]
  },
  {
   "cell_type": "code",
   "execution_count": null,
   "id": "85bd00e5-0425-404f-a2d1-c654abf8630c",
   "metadata": {},
   "outputs": [],
   "source": [
    "param_grid = {\n",
    "    'C': [0.1, 1.0, 10, 100, 1000, 10000],\n",
    "    'gamma': [0.001, 0.01, 0.1, 1, 10]}"
   ]
  },
  {
   "cell_type": "markdown",
   "id": "a93d3157-c8f2-423d-a3c4-d1b1d51e70e2",
   "metadata": {},
   "source": [
    "##### 層化k分割交差検証法の設定"
   ]
  },
  {
   "cell_type": "code",
   "execution_count": null,
   "id": "ad91ce6d-3091-4b48-8a83-8f490408db3c",
   "metadata": {},
   "outputs": [],
   "source": [
    "kf = StratifiedKFold(n_splits=5, shuffle=True, random_state=0)"
   ]
  },
  {
   "cell_type": "markdown",
   "id": "af170385-3f28-4f1a-b8e1-c8c8e8321898",
   "metadata": {},
   "source": [
    "##### アルゴリズムの初期化"
   ]
  },
  {
   "cell_type": "code",
   "execution_count": null,
   "id": "7ecb730f-c472-44d5-8068-6663a646d66c",
   "metadata": {},
   "outputs": [],
   "source": [
    "gs_svc = GridSearchCV(SVC(), param_grid, cv=kf)"
   ]
  },
  {
   "cell_type": "markdown",
   "id": "73582101-219c-4599-bacd-59f9330970f8",
   "metadata": {},
   "source": [
    "##### 学習"
   ]
  },
  {
   "cell_type": "code",
   "execution_count": null,
   "id": "343703e7-1b5e-4ad3-816e-c1b3b53cbcbf",
   "metadata": {},
   "outputs": [],
   "source": [
    "gs_svc.fit(X_xor_train, y_xor_train)"
   ]
  },
  {
   "cell_type": "markdown",
   "id": "6f0ae1ce-f787-4225-b8a1-2e562df6c10a",
   "metadata": {},
   "source": [
    "##### 評価"
   ]
  },
  {
   "cell_type": "markdown",
   "id": "7a595e05-45ae-4259-aa69-28a23cd12f9b",
   "metadata": {},
   "source": [
    "###### 結果の出力"
   ]
  },
  {
   "cell_type": "code",
   "execution_count": null,
   "id": "ccb271eb-439c-449a-b1d6-2624b63d05ff",
   "metadata": {},
   "outputs": [],
   "source": [
    "# 精度が最も高かった組み合わせ\n",
    "print(\"best_params_: \", gs_svc.best_params_)\n",
    "# その際のスコア\n",
    "print(\"best_score_: \", gs_svc.best_score_)\n",
    "# データセットの正答率\n",
    "gs_svc.score(x_xor_test, y_xor_test)"
   ]
  },
  {
   "cell_type": "markdown",
   "id": "5099b625-f58b-4ce2-b92b-2381cd58628b",
   "metadata": {},
   "source": [
    "###### 決定境界の出力"
   ]
  },
  {
   "cell_type": "code",
   "execution_count": null,
   "id": "8b95be43-cca3-4e75-b69f-6fd18ecdfaa7",
   "metadata": {},
   "outputs": [],
   "source": [
    "plot_decision_regions(x_xor, y_xor.flatten(), gs_svc)"
   ]
  },
  {
   "cell_type": "markdown",
   "id": "5a220f25-9ed2-4bd5-878e-1dad1245a0d6",
   "metadata": {},
   "source": [
    "### 特徴量エンジニアリング"
   ]
  },
  {
   "cell_type": "markdown",
   "id": "0e8fa99f-c01d-4827-84c1-8dfedf6deb4c",
   "metadata": {},
   "source": [
    "#### 既出の[主成分分析後](ScikitLearnTraining4.ipynb)の[分類](ScikitLearnTraining3.ipynb)など"
   ]
  },
  {
   "cell_type": "markdown",
   "id": "9ebb6733-18be-4dac-8caf-df3b06d3c724",
   "metadata": {},
   "source": [
    "#### ..."
   ]
  }
 ],
 "metadata": {
  "kernelspec": {
   "display_name": "Python 3 (ipykernel)",
   "language": "python",
   "name": "python3"
  },
  "language_info": {
   "codemirror_mode": {
    "name": "ipython",
    "version": 3
   },
   "file_extension": ".py",
   "mimetype": "text/x-python",
   "name": "python",
   "nbconvert_exporter": "python",
   "pygments_lexer": "ipython3",
   "version": "3.10.4"
  }
 },
 "nbformat": 4,
 "nbformat_minor": 5
}
