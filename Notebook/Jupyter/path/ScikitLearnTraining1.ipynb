{
 "cells": [
  {
   "cell_type": "markdown",
   "id": "cf8af0d7-c198-4acd-921a-f3683f675ced",
   "metadata": {},
   "source": [
    "# scikit-learnのトレーニング♨\n",
    "\n",
    "## 単回帰、重回帰分析 編\n",
    "\n",
    "## [目次](TableOfContents.ipynb)\n",
    "- [環境準備](#環境準備)\n",
    "  - [インポート](#インポート)\n",
    "  - [プロキシ設定](#プロキシ設定)\n",
    "  - [共通関数定義](#共通関数定義)\n",
    "- [モデル・アルゴリズム](#モデル・アルゴリズム)\n",
    "  - [単回帰分析](#単回帰分析)\n",
    "  - [重回帰分析](#重回帰分析)\n",
    "\n",
    "## 参考\n",
    "開発基盤部会 Wiki\n",
    "- データマイニング（DM）- Python  \n",
    "https://dotnetdevelopmentinfrastructure.osscons.jp/index.php?%E3%83%87%E3%83%BC%E3%82%BF%E3%83%9E%E3%82%A4%E3%83%8B%E3%83%B3%E3%82%B0%EF%BC%88DM%EF%BC%89-%20Python#y4054d35"
   ]
  },
  {
   "cell_type": "markdown",
   "id": "26f2f423-5353-4fa8-9580-83ae3a875815",
   "metadata": {
    "tags": []
   },
   "source": [
    "## [環境準備](ScikitLearnTraining0.ipynb)"
   ]
  },
  {
   "cell_type": "markdown",
   "id": "31317533-d20c-46ff-8844-432dd350c658",
   "metadata": {},
   "source": [
    "### インポート"
   ]
  },
  {
   "cell_type": "code",
   "execution_count": null,
   "id": "eb1f5b0a-0c33-42d1-be04-fa5f627c60c1",
   "metadata": {},
   "outputs": [],
   "source": [
    "import io\n",
    "import requests\n",
    "\n",
    "import pandas as pd\n",
    "import numpy as np\n",
    "import matplotlib.pyplot as plt\n",
    "\n",
    "from sklearn import datasets                                 # サンプル・データセット\n",
    "from sklearn.datasets import make_regression                 # 回帰データセット作成\n",
    "from sklearn.datasets import make_blobs                      # 分類データセット作成\n",
    "from sklearn.preprocessing import StandardScaler             # 標準化\n",
    "from sklearn.model_selection import train_test_split         # データ分割\n",
    "\n",
    "from sklearn.linear_model import LinearRegression            # 線形回帰\n",
    "from sklearn.preprocessing import PolynomialFeatures         # 多項式回帰の変数変換\n",
    "from sklearn.linear_model import Ridge                       # 多項式回帰のRidge回帰\n",
    "from sklearn.linear_model import Lasso                       # 多項式回帰のLASSO回帰\n",
    "from sklearn.linear_model import ElasticNet                  # 多項式回帰のLASSO回帰\n",
    "from sklearn.linear_model import Perceptron                  # 単純パーセプトロン線形分類器\n",
    "from sklearn.linear_model import LogisticRegression          # ロジスティク回帰\n",
    "from sklearn.svm import SVC                                  # サポートベクターマシン（SVM）分類器\n",
    "from sklearn.tree import DecisionTreeClassifier              # 決定木（分類木）\n",
    "from sklearn.ensemble import RandomForestClassifier          # ランダムフォレスト（分類木）\n",
    "from sklearn.ensemble import GradientBoostingClassifier      # 勾配ブースティング木（分類木）\n",
    "from sklearn.decomposition import PCA                        # 主成分分析\n",
    "from sklearn.cluster import KMeans                           # k-means法 クラスタ分析\n",
    "from sklearn.feature_extraction.text import CountVectorizer  # 自然言語処理ベクトル化\n",
    "from sklearn.feature_extraction.text import TfidfTransformer # 自然言語ベクトルのTF-IDF計算\n",
    "from sklearn.decomposition import LatentDirichletAllocation  # 自然言語ベクトルからLDAトピック抽出\n",
    "\n",
    "from sklearn import metrics                                  # モデル評価\n",
    "from sklearn.metrics import mean_squared_error as mse        # 精度評価（mse）\n",
    "from sklearn.metrics import confusion_matrix                 # 混同行列\n",
    "from sklearn.metrics import silhouette_samples               # シルエット係数\n",
    "from sklearn.model_selection import cross_val_score          # 交差検証法\n",
    "from sklearn.model_selection import KFold                    # k分割交差検証法\n",
    "from sklearn.model_selection import StratifiedKFold          # 層化交差検証法\n",
    "from sklearn.model_selection import GridSearchCV             # グリッドサーチ\n",
    "\n",
    "import seaborn as sns                                        # matplotlibラッパ\n",
    "from mlxtend.plotting import plot_decision_regions           # 決定領域表示関数\n",
    "from matplotlib import cm                                    # カラーマップ処理\n",
    "\n",
    "from numpy import linalg as LA                               # 線形代数ライブラリ"
   ]
  },
  {
   "cell_type": "code",
   "execution_count": null,
   "id": "07adbe0b-1034-4d0f-b8e4-9c162424c151",
   "metadata": {},
   "outputs": [],
   "source": [
    "import warnings\n",
    "warnings.filterwarnings('ignore')"
   ]
  },
  {
   "cell_type": "markdown",
   "id": "eb6dd533-c622-4409-89fc-9e6d73eae563",
   "metadata": {},
   "source": [
    "### プロキシ設定"
   ]
  },
  {
   "cell_type": "code",
   "execution_count": 2,
   "id": "24619bb6-3eac-4e69-90ab-3fe1b88a459c",
   "metadata": {},
   "outputs": [],
   "source": [
    "import os\n",
    "proxies = {\n",
    "    \"http\": os.getenv(\"HTTP_PROXY\"),\n",
    "    \"https\": os.getenv(\"HTTPS_PROXY\")\n",
    "}"
   ]
  },
  {
   "cell_type": "markdown",
   "id": "005888b0-d9f8-4a07-b310-69037b6bb14f",
   "metadata": {},
   "source": [
    "### 共通関数定義"
   ]
  },
  {
   "cell_type": "markdown",
   "id": "444163f6-4d53-42b4-80b7-964d01a019f8",
   "metadata": {},
   "source": [
    "#### 残差プロットを行う関数"
   ]
  },
  {
   "cell_type": "code",
   "execution_count": null,
   "id": "a905379a-7afd-472b-acc5-ca1c4bdbfac8",
   "metadata": {},
   "outputs": [],
   "source": [
    "def res_plot(y_train, y_train_pred, y_test, y_test_pred):\n",
    "    # train, testごとに残差を算出\n",
    "    res_train = y_train_pred - y_train\n",
    "    res_test  = y_test_pred - y_test\n",
    "    \n",
    "    # train, testごとに(予測値, 残差)をプロット\n",
    "    plt.figure(figsize=(8, 8))\n",
    "    plt.scatter(y_train_pred, res_train, color='blue', marker='o', label='train', alpha=0.5)\n",
    "    plt.scatter(y_test_pred, res_test, color='green', marker='s', label='test', alpha=0.5)\n",
    "    \n",
    "    plt.xlabel('Predicted Values')                  # x軸のラベルを表示\n",
    "    plt.ylabel('Residuals')                         # y軸のラベルを表示\n",
    "    plt.legend(loc='upper left')                    # 凡例を左上に表示\n",
    "    plt.hlines(y=0, xmin=-10, xmax=50, color='red') # 残差0の線を表示\n",
    "    plt.xlim([-10, 50])                             # 表示する横軸の範囲を指定\n",
    "    plt.show()"
   ]
  },
  {
   "cell_type": "markdown",
   "id": "72a6b5a0-5961-466c-9df1-c5f2bf15baac",
   "metadata": {
    "tags": []
   },
   "source": [
    "## モデル・アルゴリズム"
   ]
  },
  {
   "cell_type": "markdown",
   "id": "5d9b0687-55ae-41c4-8406-c816e6358f89",
   "metadata": {},
   "source": [
    "### 単回帰分析\n",
    "- 線形単回帰分析（分布を直線の１次関数で近似\n",
    "- 最小二乗法で直線の１次関数を求める。\n",
    "\n",
    "※ [イメージ](https://www.google.com/search?q=単回帰分析&tbm=isch)、[説明](https://dotnetdevelopmentinfrastructure.osscons.jp/index.php?%E7%B5%B1%E8%A8%88%E8%A7%A3%E6%9E%90#a421ea17)"
   ]
  },
  {
   "cell_type": "markdown",
   "id": "67ed7ff0-4a56-41a6-a37c-20ea6737a76d",
   "metadata": {},
   "source": [
    "#### データ"
   ]
  },
  {
   "cell_type": "markdown",
   "id": "9828d8f6-1813-407f-ae78-2690dd27c606",
   "metadata": {},
   "source": [
    "##### 生成\n",
    "- その日の最高気温と売れたアイスの個数のデータを利用。\n",
    "- 必要に応じて[環境変数にプロキシ設定](#プロキシ設定)をしておくと良い。"
   ]
  },
  {
   "cell_type": "code",
   "execution_count": null,
   "id": "dcd6aa23-cc50-45cb-921a-cbcbe8869c97",
   "metadata": {},
   "outputs": [],
   "source": [
    "url = 'https://dotnetdevelopmentinfrastructure.osscons.jp/index.php?plugin=attach&pcmd=open&file=n_ice%2Bvs%2Btemp.xlsx&refer=FrontPage'\n",
    "res = requests.get(url) # , verify=False, proxies=proxies) # プロキシ\n",
    "df = pd.read_excel(io.BytesIO(res.content), engine='openpyxl')\n",
    "df"
   ]
  },
  {
   "cell_type": "markdown",
   "id": "75711bfd-b6c9-485b-ae6b-7a02b929599d",
   "metadata": {},
   "source": [
    "##### 加工"
   ]
  },
  {
   "cell_type": "code",
   "execution_count": null,
   "id": "54576c02-cb37-42b7-bda5-6cc7563c4483",
   "metadata": {},
   "outputs": [],
   "source": [
    "df=df.drop('Unnamed: 0',axis=1)\n",
    "df"
   ]
  },
  {
   "cell_type": "markdown",
   "id": "c7210109-de2e-4819-aee1-8f4ff4365a22",
   "metadata": {
    "tags": []
   },
   "source": [
    "##### 理解"
   ]
  },
  {
   "cell_type": "code",
   "execution_count": null,
   "id": "69e05e1e-1eea-4946-bd81-c1a8fe1b2cb5",
   "metadata": {},
   "outputs": [],
   "source": [
    "# 基本統計量\n",
    "df.describe()"
   ]
  },
  {
   "cell_type": "code",
   "execution_count": null,
   "id": "05407e8d-cbfa-4610-a514-6a30c24e36cf",
   "metadata": {},
   "outputs": [],
   "source": [
    "# 相関係数（相関行列）\n",
    "df.corr()"
   ]
  },
  {
   "cell_type": "code",
   "execution_count": null,
   "id": "c4b3f48e-e584-4a70-8b13-214fe30049d6",
   "metadata": {},
   "outputs": [],
   "source": [
    "# ヒートマップに表示\n",
    "plt.figure(figsize=(4, 4))\n",
    "sns.heatmap(df.corr(), annot=True, square=True, fmt='.2f')\n",
    "plt.show()"
   ]
  },
  {
   "cell_type": "code",
   "execution_count": null,
   "id": "e56aa304-5a89-4893-9249-bcd6f819a3e0",
   "metadata": {},
   "outputs": [],
   "source": [
    "# 散布図行列を表示\n",
    "sns.pairplot(df)\n",
    "plt.show()"
   ]
  },
  {
   "cell_type": "markdown",
   "id": "bcd546e1-1ec3-4872-8e91-07ac4d85bd5e",
   "metadata": {
    "tags": []
   },
   "source": [
    "##### 準備"
   ]
  },
  {
   "cell_type": "code",
   "execution_count": null,
   "id": "88c72df3-af16-4b2c-8e6a-6e0b9b9d0101",
   "metadata": {},
   "outputs": [],
   "source": [
    "# 説明変数・目的変数の選択・分割\n",
    "x = np.array(df.loc[:, ['MAX_TEMP']])\n",
    "y = np.array(df.loc[:, ['N_ICE']])\n",
    "# データをスライシングして確認。\n",
    "print(x[:5])\n",
    "print(y[:5])"
   ]
  },
  {
   "cell_type": "code",
   "execution_count": null,
   "id": "f12cf09f-d051-4922-97d0-0c53769b7eb3",
   "metadata": {},
   "outputs": [],
   "source": [
    "# 学習・テストデータの分割（ホールド・アウト法\n",
    "x_train, x_test, y_train, y_test = train_test_split(x, y, test_size = 0.3, random_state = 0)"
   ]
  },
  {
   "cell_type": "markdown",
   "id": "1873286f-5e9b-4605-8e4c-503771e6ac75",
   "metadata": {},
   "source": [
    "#### モデリング"
   ]
  },
  {
   "cell_type": "markdown",
   "id": "211248e3-2ab6-4947-ba89-480f1b99669c",
   "metadata": {},
   "source": [
    "##### 実行"
   ]
  },
  {
   "cell_type": "markdown",
   "id": "250e78de-9e58-429d-8178-0a8003ccb8f2",
   "metadata": {},
   "source": [
    "###### 学習\n",
    "※ fitは多変量に対応しているので二次元配列であること。"
   ]
  },
  {
   "cell_type": "code",
   "execution_count": null,
   "id": "a8438faf-9b56-4f0d-8dc7-41c674605f61",
   "metadata": {},
   "outputs": [],
   "source": [
    "lr = LinearRegression()\n",
    "lr.fit(x_train, y_train)"
   ]
  },
  {
   "cell_type": "markdown",
   "id": "0982dea3-8d04-4838-bd58-9fb1685e319b",
   "metadata": {},
   "source": [
    "lr = LinearRegression()\n",
    "lr.fit(x, y)"
   ]
  },
  {
   "cell_type": "markdown",
   "id": "a88f4759-9ef0-4423-a3d9-ca291643a75c",
   "metadata": {},
   "source": [
    "###### 推論\n",
    "※ predictは多変量に対応しているので二次元配列であること。"
   ]
  },
  {
   "cell_type": "code",
   "execution_count": null,
   "id": "7e762370-342c-4de4-81f0-8d2c72e74fcd",
   "metadata": {},
   "outputs": [],
   "source": [
    "index=6\n",
    "new_val = np.array([x_test[index]])\n",
    "pred_val = lr.predict(new_val)\n",
    "ratio_val = y_test[index] / pred_val[0]\n",
    "print('answer = ', y_test[index])\n",
    "print('pred = ', pred_val[0])\n",
    "print('ratio : %.2f' % ratio_val)"
   ]
  },
  {
   "cell_type": "markdown",
   "id": "9a2dc3ba-4d01-407a-8e80-9ac71f5f96ac",
   "metadata": {},
   "source": [
    "##### 評価"
   ]
  },
  {
   "cell_type": "markdown",
   "id": "c45619a2-6dd6-4598-b349-b29596c4648e",
   "metadata": {},
   "source": [
    "###### 回帰直線\n",
    "y = lr.coef_[0] * x + lr.intercept_"
   ]
  },
  {
   "cell_type": "code",
   "execution_count": null,
   "id": "a94654ab-f023-4e0a-9214-b77c61e8976c",
   "metadata": {},
   "outputs": [],
   "source": [
    "print('coefficient = ', lr.coef_[0]) # 係数\n",
    "print('intercept = ', lr.intercept_) # 切片"
   ]
  },
  {
   "cell_type": "markdown",
   "id": "31a44888-68f1-412e-a88d-b761c215bfda",
   "metadata": {},
   "source": [
    "###### 決定係数（R2乗値）\n",
    "絶対的な基準でないが0.5以上であれば適合度が高い"
   ]
  },
  {
   "cell_type": "code",
   "execution_count": null,
   "id": "8dc6d739-6d0d-40f6-8686-cb3aca6ea5af",
   "metadata": {},
   "outputs": [],
   "source": [
    "print('R^2')\n",
    "print('train: %.3f' % lr.score(x_train, y_train))\n",
    "print('test : %.3f' % lr.score(x_test, y_test))"
   ]
  },
  {
   "cell_type": "markdown",
   "id": "6bd22b02-5c9d-4d5e-b896-de895c6fe3f7",
   "metadata": {},
   "source": [
    "###### 散布図に回帰直線を追加"
   ]
  },
  {
   "cell_type": "code",
   "execution_count": null,
   "id": "3ab6a621-c2a4-4df3-80cc-eb3f0a44691d",
   "metadata": {},
   "outputs": [],
   "source": [
    "plt.scatter(x, y, color = 'blue')\n",
    "plt.plot(x, lr.predict(x), color = 'red')\n",
    "plt.grid()\n",
    "plt.show()"
   ]
  },
  {
   "cell_type": "markdown",
   "id": "4befe649-88f3-4d2e-86a3-cd075c64f362",
   "metadata": {},
   "source": [
    "### 重回帰分析\n",
    "- 線形重回帰分析（分布を（超）平面などの１次関数で近似\n",
    "- ３変数以上の最小二乗法は勾配降下法で解く\n",
    "\n",
    "※ [イメージ](https://www.google.com/search?q=重回帰分析&tbm=isch)、[説明](https://dotnetdevelopmentinfrastructure.osscons.jp/index.php?%E7%B5%B1%E8%A8%88%E8%A7%A3%E6%9E%90#na76c5ec)"
   ]
  },
  {
   "cell_type": "markdown",
   "id": "ef84a7ee-4680-4477-a7aa-a1b737ce5c6f",
   "metadata": {
    "tags": []
   },
   "source": [
    "#### データ"
   ]
  },
  {
   "cell_type": "markdown",
   "id": "e3be16ef-2cfa-4e11-a0d9-fd570a80e461",
   "metadata": {
    "tags": []
   },
   "source": [
    "##### 生成"
   ]
  },
  {
   "cell_type": "markdown",
   "id": "bf1fa42d-55d5-41aa-8368-9a1b1b4ba026",
   "metadata": {},
   "source": [
    "###### ダウンロードしてDFに読込\n",
    "必要に応じて[環境変数にプロキシ設定](#プロキシ設定)をしておくと良い。"
   ]
  },
  {
   "cell_type": "code",
   "execution_count": null,
   "id": "8a50241c-1a30-4c9f-8beb-3012a9e2c6d2",
   "metadata": {},
   "outputs": [],
   "source": [
    "# Function load_boston is deprecated; `load_boston` is deprecated in 1.0 and will be removed in 1.2.\n",
    "'''\n",
    "## bostonデータを格納したクラス\n",
    "from sklearn.datasets import load_boston\n",
    "## インスタンスを生成\n",
    "boston = load_boston()\n",
    "## データの詳細を出力\n",
    "print(boston.DESCR)\n",
    "df = pd.DataFrame(boston.data, columns=boston.feature_names)\n",
    "df\n",
    "'''"
   ]
  },
  {
   "cell_type": "code",
   "execution_count": null,
   "id": "f86e7bbd-e276-4d10-9ee7-29a95bfbd074",
   "metadata": {},
   "outputs": [],
   "source": [
    "url = 'https://dotnetdevelopmentinfrastructure.osscons.jp/index.php?plugin=attach&pcmd=open&file=Boston.csv&refer=FrontPage'\n",
    "res = requests.get(url) # , verify=False, proxies=proxies) # プロキシ\n",
    "df = pd.read_csv(io.BytesIO(res.content), encoding='utf-8', sep=\",\")\n",
    "df"
   ]
  },
  {
   "cell_type": "markdown",
   "id": "4a14e2d7-dd62-4dfb-815e-35d93975d655",
   "metadata": {},
   "source": [
    "###### [説明を参照](https://dotnetdevelopmentinfrastructure.osscons.jp/index.php?%E3%83%87%E3%83%BC%E3%82%BF%E3%83%9E%E3%82%A4%E3%83%8B%E3%83%B3%E3%82%B0%EF%BC%88DM%EF%BC%89-%20DataSet#j8cfe8df)"
   ]
  },
  {
   "cell_type": "code",
   "execution_count": null,
   "id": "f43895e5-9244-421d-8aac-c7122090c4c6",
   "metadata": {},
   "outputs": [],
   "source": [
    "df.columns"
   ]
  },
  {
   "cell_type": "markdown",
   "id": "c73ed24b-02dd-452a-9763-799862780aa2",
   "metadata": {},
   "source": [
    "##### 加工"
   ]
  },
  {
   "cell_type": "code",
   "execution_count": null,
   "id": "4f884eb4-2a53-4886-8b10-60340a52dab5",
   "metadata": {},
   "outputs": [],
   "source": [
    "df=df.drop('Unnamed: 0',axis=1)\n",
    "df"
   ]
  },
  {
   "cell_type": "code",
   "execution_count": null,
   "id": "71eee704-42c0-4dc8-aeeb-543a9211f80a",
   "metadata": {},
   "outputs": [],
   "source": [
    "# 特徴量の数が多いので､locメソッドで一部の特徴量のみを選択\n",
    "df = df.loc[:, ['lstat', 'indus', 'dis', 'rm', 'medv']]"
   ]
  },
  {
   "cell_type": "markdown",
   "id": "0f7537b2-2c28-4f6c-9f13-2d5c5b119e41",
   "metadata": {},
   "source": [
    "##### 理解"
   ]
  },
  {
   "cell_type": "code",
   "execution_count": null,
   "id": "de6f6f78-0e5c-4476-97f2-01686fc2839d",
   "metadata": {},
   "outputs": [],
   "source": [
    "# 基本統計量\n",
    "df.describe()"
   ]
  },
  {
   "cell_type": "code",
   "execution_count": null,
   "id": "0c2843e0-a294-41e3-b0ca-800ccf4663ea",
   "metadata": {},
   "outputs": [],
   "source": [
    "# 相関係数（相関行列）\n",
    "df.corr()"
   ]
  },
  {
   "cell_type": "code",
   "execution_count": null,
   "id": "940ed98e-7d52-4eae-8a62-8e0e7973b97c",
   "metadata": {},
   "outputs": [],
   "source": [
    "# ヒートマップに表示\n",
    "plt.figure(figsize=(5, 5))\n",
    "sns.heatmap(df.corr(), annot=True, square=True, fmt='.2f')\n",
    "plt.show()"
   ]
  },
  {
   "cell_type": "code",
   "execution_count": null,
   "id": "7654cc2b-b59f-43a2-a9f8-0430e6187d5c",
   "metadata": {},
   "outputs": [],
   "source": [
    "# 散布図行列を表示\n",
    "sns.pairplot(df)\n",
    "plt.show()"
   ]
  },
  {
   "cell_type": "markdown",
   "id": "ef2b4f11-c6f6-4a2b-ba8a-9b995185bec4",
   "metadata": {},
   "source": [
    "##### 準備"
   ]
  },
  {
   "cell_type": "code",
   "execution_count": null,
   "id": "f239b52a-6b87-4fa9-8c20-7ebe58d5b6de",
   "metadata": {},
   "outputs": [],
   "source": [
    "# 説明変数・目的変数の選択・分割\n",
    "# x = np.array(df.drop(['medv'], axis=1))\n",
    "x = np.array(df.drop(['indus', 'dis', 'medv'], axis=1))\n",
    "y = np.array(df.loc[:, ['medv']])\n",
    "# データをスライシングして確認。\n",
    "print(x[:5])\n",
    "print(y[:5])"
   ]
  },
  {
   "cell_type": "code",
   "execution_count": null,
   "id": "b273ecfb-b25a-44d8-a1f0-5175ebad982f",
   "metadata": {},
   "outputs": [],
   "source": [
    "# 偏回帰係数を見て、追加の特徴量エンジニアリングを行う場合\n",
    "# 説明変数に標準化を施す必要がある。\n",
    "'''\n",
    "ss = StandardScaler()\n",
    "\n",
    "# 引数は numpy.ndarray\n",
    "x = ss.fit_transform(x)\n",
    "\n",
    "# 確認\n",
    "## 平均が ≒ 0\n",
    "print(\"x.mean(): \", x.mean())\n",
    "## 標準偏差が ≒ 1\n",
    "print(\"x.std(): \", x.std())\n",
    "'''"
   ]
  },
  {
   "cell_type": "code",
   "execution_count": null,
   "id": "df44d0fd-643d-4640-9bca-a47d83a239da",
   "metadata": {},
   "outputs": [],
   "source": [
    "# 学習・テストデータの分割（ホールド・アウト法\n",
    "x_train, x_test, y_train, y_test = train_test_split(x, y, test_size = 0.3, random_state = 0)"
   ]
  },
  {
   "cell_type": "markdown",
   "id": "8e257f5f-fbe4-42d9-bcf1-fb689100a252",
   "metadata": {},
   "source": [
    "#### モデリング"
   ]
  },
  {
   "cell_type": "markdown",
   "id": "f7cda89e-ad9d-49cb-bf51-303dc3a751a1",
   "metadata": {},
   "source": [
    "##### 実行"
   ]
  },
  {
   "cell_type": "markdown",
   "id": "3f918638-d32c-411b-9c61-1daaea4b1f31",
   "metadata": {},
   "source": [
    "###### 学習"
   ]
  },
  {
   "cell_type": "code",
   "execution_count": null,
   "id": "2e71917c-771d-436d-bcfe-7b1c69a3b408",
   "metadata": {},
   "outputs": [],
   "source": [
    "lr = LinearRegression()\n",
    "lr.fit(x_train, y_train)"
   ]
  },
  {
   "cell_type": "markdown",
   "id": "dc2944a3-ce1a-4341-8abf-07f8d8297ff2",
   "metadata": {},
   "source": [
    "###### 推論\n",
    "※ predictは多変量に対応しているので二次元配列であること。"
   ]
  },
  {
   "cell_type": "code",
   "execution_count": null,
   "id": "7f9dc7bf-1348-414a-a159-6095d27e594b",
   "metadata": {},
   "outputs": [],
   "source": [
    "index=6\n",
    "new_val = np.array([x_test[index]])\n",
    "pred_val = lr.predict(new_val)\n",
    "ratio_val = y_test[index] / pred_val[0]\n",
    "print('answer = ', y_test[index])\n",
    "print('pred = ', pred_val[0])\n",
    "print('ratio : %.2f' % ratio_val)"
   ]
  },
  {
   "cell_type": "markdown",
   "id": "42ceba85-ead8-4fe8-9ea5-9679750b888d",
   "metadata": {
    "tags": []
   },
   "source": [
    "##### 評価"
   ]
  },
  {
   "cell_type": "markdown",
   "id": "79f3e886-ca77-4e95-b339-e0def03d0a03",
   "metadata": {},
   "source": [
    "###### 重回帰超平面\n",
    "- y = lr.coef_[0] * x1 + lr.coef_[1] * x2 * ... + lr.intercept_\n",
    "- 偏回帰係数は、\n",
    "  - データの標準化を施してあれば、追加の特徴量エンジニアリングで参考にできる。\n",
    "  - ただし、抑制変数があるので、最終的には[R2乗値](#自由度調整済み決定係数（R2乗値）)を参考にする。"
   ]
  },
  {
   "cell_type": "code",
   "execution_count": null,
   "id": "48e56194-af2f-4d26-bb10-2d26b823db38",
   "metadata": {},
   "outputs": [],
   "source": [
    "print('coefficient = ', lr.coef_) # 偏回帰係数\n",
    "print('intercept = ', lr.intercept_) # 定数項"
   ]
  },
  {
   "cell_type": "markdown",
   "id": "6d071fed-2634-4161-9158-62e1ab205f6b",
   "metadata": {},
   "source": [
    "###### 決定係数（R2乗値）\n",
    "絶対的な基準でないが0.5以上であれば適合度が高い"
   ]
  },
  {
   "cell_type": "code",
   "execution_count": null,
   "id": "dfa6d74b-2c8c-43d3-9be4-55cb19981605",
   "metadata": {},
   "outputs": [],
   "source": [
    "print('R^2')\n",
    "print('train: %.3f' % lr.score(x_train, y_train))\n",
    "print('test : %.3f' % lr.score(x_test, y_test))"
   ]
  },
  {
   "cell_type": "markdown",
   "id": "3df15e8f-98b9-4f01-a060-e6658892e451",
   "metadata": {},
   "source": [
    "###### 自由度調整済み決定係数（R2乗値）"
   ]
  },
  {
   "cell_type": "code",
   "execution_count": null,
   "id": "9b03b8ed-2472-403e-88be-4a6e5dbd9280",
   "metadata": {},
   "outputs": [],
   "source": [
    "def adjusted(score, n_sample, n_explanatory_variables):\n",
    "    adjusted_score = 1 - (1 - score) * ((n_sample - 1) / (n_sample - n_explanatory_variables - 1))\n",
    "    return adjusted_score\n",
    "\n",
    "print('train: %.3f' % adjusted(lr.score(x_train, y_train), len(y_train), x_train.shape[1]))\n",
    "print('test : %.3f' % adjusted(lr.score(x_test, y_test), len(y_test), x_test.shape[1]))"
   ]
  },
  {
   "cell_type": "markdown",
   "id": "5ef8c175-561e-46be-a2bf-690d7be5d179",
   "metadata": {},
   "source": [
    "###### [スコアを表示](https://dotnetdevelopmentinfrastructure.osscons.jp/index.php?%E3%83%87%E3%83%BC%E3%82%BF%E3%83%9E%E3%82%A4%E3%83%8B%E3%83%B3%E3%82%B0%EF%BC%88DM%EF%BC%89-%20CRISP-DM#uf759972)\n",
    "- 平均二乗誤差（MSE：Mean Squared Error）\n",
    "- 誤差の標準偏差（RMSE : Root Mean Squared Error）"
   ]
  },
  {
   "cell_type": "code",
   "execution_count": null,
   "id": "08d96143-dad3-429a-9d51-074a46a94ac9",
   "metadata": {},
   "outputs": [],
   "source": [
    "train_mse = mse(y_train, lr.predict(x_train))\n",
    "test_mse = mse(y_test, lr.predict(x_test))\n",
    "\n",
    "print('train_mse: %.3f' % train_mse)\n",
    "print('test_mse: %.3f' % test_mse)\n",
    "print('train_rmse: %.3f' % (train_mse ** (1/2)))\n",
    "print('test_rmse : %.3f' % (test_mse ** (1/2)))"
   ]
  },
  {
   "cell_type": "markdown",
   "id": "3894005d-2bc6-47c0-82da-36b8e20fa42e",
   "metadata": {},
   "source": [
    "###### 重回帰超平面の可視化\n",
    "ただし、説明変数が２変数まで。"
   ]
  },
  {
   "cell_type": "code",
   "execution_count": null,
   "id": "57c51cd1-9dfc-4000-922f-557e48d13568",
   "metadata": {},
   "outputs": [],
   "source": [
    "# 可視化\n",
    "\n",
    "# import\n",
    "from mpl_toolkits.mplot3d import Axes3D\n",
    "\n",
    "# 平面のグリッド座標\n",
    "w0 = lr.intercept_\n",
    "w1 = lr.coef_[0, 0]\n",
    "w2 = lr.coef_[0, 1]\n",
    "x, y = np.meshgrid(np.arange(0, 40, 2.5), np.arange(1, 10, 0.5))\n",
    "z = w1*x + w2*y + w0 \n",
    "\n",
    "# 図表の定義\n",
    "fig = plt.figure()\n",
    "ax = fig.add_subplot(projection='3d')\n",
    "\n",
    "# 3Dで Scat & plot\n",
    "ax.scatter3D(df['lstat'], df['rm'], df['medv'])\n",
    "ax.plot_wireframe(x, y, z)\n",
    "\n",
    "# ラベル\n",
    "ax.set_xlabel('lstat')\n",
    "ax.set_ylabel('rm')\n",
    "ax.set_zlabel('medv')"
   ]
  },
  {
   "cell_type": "markdown",
   "id": "a43f22c5-4118-416f-b115-b8b9e52efc4e",
   "metadata": {},
   "source": [
    "###### 残差プロットを行う。\n",
    "- 説明変数が３変数以上でも適用できる。\n",
    "- 参考：https://dotnetdevelopmentinfrastructure.osscons.jp/index.php?%E3%83%87%E3%83%BC%E3%82%BF%E3%83%9E%E3%82%A4%E3%83%8B%E3%83%B3%E3%82%B0%EF%BC%88DM%EF%BC%89-%20CRISP-DM#i3d85f2b"
   ]
  },
  {
   "cell_type": "code",
   "execution_count": null,
   "id": "8d383367-b90f-499b-9ec7-83aee64cebb6",
   "metadata": {},
   "outputs": [],
   "source": [
    "# 残差プロットを出力\n",
    "res_plot(y_train, lr.predict(x_train), y_test, lr.predict(x_test))"
   ]
  }
 ],
 "metadata": {
  "kernelspec": {
   "display_name": "Python 3 (ipykernel)",
   "language": "python",
   "name": "python3"
  },
  "language_info": {
   "codemirror_mode": {
    "name": "ipython",
    "version": 3
   },
   "file_extension": ".py",
   "mimetype": "text/x-python",
   "name": "python",
   "nbconvert_exporter": "python",
   "pygments_lexer": "ipython3",
   "version": "3.10.6"
  }
 },
 "nbformat": 4,
 "nbformat_minor": 5
}
