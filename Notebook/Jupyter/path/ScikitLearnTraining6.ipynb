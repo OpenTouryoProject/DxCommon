{
 "cells": [
  {
   "cell_type": "markdown",
   "id": "cf8af0d7-c198-4acd-921a-f3683f675ced",
   "metadata": {},
   "source": [
    "# scikit-learnのトレーニング♨\n",
    "\n",
    "## Kaggleチュートリアル 編 > タイタニック生存者予測\n",
    "\n",
    "## [目次](TableOfContents.ipynb)\n",
    "\n",
    "## 参考\n",
    "開発基盤部会 Wiki\n",
    "- Kaggle - Competitions - Getting Started - 開発基盤部会 Wiki  \n",
    "https://dotnetdevelopmentinfrastructure.osscons.jp/index.php?Kaggle%20-%20Competitions%20-%20Getting%20Started"
   ]
  },
  {
   "cell_type": "markdown",
   "id": "07e2a189-ef86-40f8-89e8-857a5b6e41aa",
   "metadata": {
    "tags": []
   },
   "source": [
    "## [環境準備](ScikitLearnTraining0.ipynb)"
   ]
  },
  {
   "cell_type": "code",
   "execution_count": null,
   "id": "06435506-b010-44b9-8fc6-472e61ed518c",
   "metadata": {},
   "outputs": [],
   "source": [
    "import io\n",
    "import requests\n",
    "\n",
    "import pandas as pd\n",
    "import numpy as np\n",
    "import matplotlib.pyplot as plt\n",
    "\n",
    "from sklearn import datasets                                 # サンプル・データセット\n",
    "from sklearn.datasets import make_regression                 # 回帰データセット作成\n",
    "from sklearn.datasets import make_blobs                      # 分類データセット作成\n",
    "from sklearn.preprocessing import StandardScaler             # 標準化\n",
    "from sklearn.model_selection import train_test_split         # データ分割\n",
    "\n",
    "from sklearn.linear_model import LinearRegression            # 線形回帰\n",
    "from sklearn.preprocessing import PolynomialFeatures         # 多項式回帰の変数変換\n",
    "from sklearn.linear_model import Ridge                       # 多項式回帰のRidge回帰\n",
    "from sklearn.linear_model import Lasso                       # 多項式回帰のLASSO回帰\n",
    "from sklearn.linear_model import ElasticNet                  # 多項式回帰のLASSO回帰\n",
    "from sklearn.linear_model import Perceptron                  # 単純パーセプトロン線形分類器\n",
    "from sklearn.linear_model import LogisticRegression          # ロジスティク回帰\n",
    "from sklearn.svm import SVC                                  # サポートベクターマシン（SVM）分類器\n",
    "from sklearn.tree import DecisionTreeClassifier              # 決定木（分類木）\n",
    "from sklearn.ensemble import RandomForestClassifier          # ランダムフォレスト（分類木）\n",
    "from sklearn.ensemble import GradientBoostingClassifier      # 勾配ブースティング木（分類木）\n",
    "from sklearn.decomposition import PCA                        # 主成分分析\n",
    "from sklearn.cluster import KMeans                           # k-means法 クラスタ分析\n",
    "from sklearn.feature_extraction.text import CountVectorizer  # 自然言語処理ベクトル化\n",
    "from sklearn.feature_extraction.text import TfidfTransformer # 自然言語ベクトルのTF-IDF計算\n",
    "from sklearn.decomposition import LatentDirichletAllocation  # 自然言語ベクトルからLDAトピック抽出\n",
    "\n",
    "from sklearn import metrics                                  # モデル評価\n",
    "from sklearn.metrics import mean_squared_error as mse        # 精度評価（mse）\n",
    "from sklearn.metrics import confusion_matrix                 # 混同行列\n",
    "from sklearn.metrics import silhouette_samples               # シルエット係数\n",
    "from sklearn.model_selection import cross_val_score          # 交差検証法\n",
    "from sklearn.model_selection import KFold                    # k分割交差検証法\n",
    "from sklearn.model_selection import StratifiedKFold          # 層化交差検証法\n",
    "from sklearn.model_selection import GridSearchCV             # グリッドサーチ\n",
    "\n",
    "import seaborn as sns                                        # matplotlibラッパ\n",
    "from mlxtend.plotting import plot_decision_regions           # 決定領域表示関数\n",
    "from matplotlib import cm                                    # カラーマップ処理\n",
    "\n",
    "from numpy import linalg as LA                               # 線形代数ライブラリ"
   ]
  },
  {
   "cell_type": "code",
   "execution_count": null,
   "id": "8fcacf84-b698-4fd1-9e31-3ac5b17f28ef",
   "metadata": {},
   "outputs": [],
   "source": [
    "import warnings\n",
    "warnings.filterwarnings('ignore')"
   ]
  }
 ],
 "metadata": {
  "kernelspec": {
   "display_name": "Python 3 (ipykernel)",
   "language": "python",
   "name": "python3"
  },
  "language_info": {
   "codemirror_mode": {
    "name": "ipython",
    "version": 3
   },
   "file_extension": ".py",
   "mimetype": "text/x-python",
   "name": "python",
   "nbconvert_exporter": "python",
   "pygments_lexer": "ipython3",
   "version": "3.10.4"
  }
 },
 "nbformat": 4,
 "nbformat_minor": 5
}
