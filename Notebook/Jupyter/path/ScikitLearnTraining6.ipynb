{
 "cells": [
  {
   "cell_type": "markdown",
   "id": "cf8af0d7-c198-4acd-921a-f3683f675ced",
   "metadata": {},
   "source": [
    "# scikit-learnのトレーニング♨\n",
    "\n",
    "## Kaggleチュートリアル 編 > タイタニック生存者予測\n",
    "\n",
    "## [目次](TableOfContents.ipynb)\n",
    "\n",
    "## 参考\n",
    "開発基盤部会 Wiki\n",
    "- Kaggle - Competitions - Getting Started - 開発基盤部会 Wiki  \n",
    "https://dotnetdevelopmentinfrastructure.osscons.jp/index.php?Kaggle%20-%20Competitions%20-%20Getting%20Started"
   ]
  },
  {
   "cell_type": "markdown",
   "id": "07e2a189-ef86-40f8-89e8-857a5b6e41aa",
   "metadata": {
    "tags": []
   },
   "source": [
    "## [環境準備](ScikitLearnTraining0.ipynb)"
   ]
  },
  {
   "cell_type": "code",
   "execution_count": null,
   "id": "06435506-b010-44b9-8fc6-472e61ed518c",
   "metadata": {},
   "outputs": [],
   "source": [
    "import numpy as np\n",
    "import pandas as pd\n",
    "import seaborn as sns\n",
    "import matplotlib.pyplot as plt\n",
    "\n",
    "from sklearn.model_selection import train_test_split\n",
    "from sklearn.preprocessing import StandardScaler\n",
    "from sklearn.ensemble import RandomForestRegressor\n",
    "from sklearn.linear_model import LogisticRegression\n",
    "from sklearn.ensemble import GradientBoostingClassifier\n",
    "from sklearn.ensemble import RandomForestClassifier\n",
    "from sklearn.metrics import accuracy_score\n",
    "\n",
    "from sklearn.metrics import accuracy_score, confusion_matrix, classification_report"
   ]
  },
  {
   "cell_type": "code",
   "execution_count": null,
   "id": "8fcacf84-b698-4fd1-9e31-3ac5b17f28ef",
   "metadata": {},
   "outputs": [],
   "source": [
    "import warnings\n",
    "warnings.filterwarnings('ignore')"
   ]
  },
  {
   "cell_type": "code",
   "execution_count": null,
   "id": "5649ae66-23cf-445d-8c98-98bcb6330ea7",
   "metadata": {},
   "outputs": [],
   "source": [
    "import os\n",
    "proxies = {\n",
    "    \"http\": os.getenv(\"HTTP_PROXY\"),\n",
    "    \"https\": os.getenv(\"HTTPS_PROXY\")\n",
    "}"
   ]
  },
  {
   "cell_type": "markdown",
   "id": "f1f0a0fa-395d-424c-a5c8-5c189ca7468f",
   "metadata": {},
   "source": [
    "## データの読み込み"
   ]
  },
  {
   "cell_type": "code",
   "execution_count": null,
   "id": "8b051967-0149-4299-b2d2-1c93136c8ede",
   "metadata": {},
   "outputs": [],
   "source": [
    "url = 'https://raw.githubusercontent.com/datasciencedojo/datasets/master/titanic.csv'\n",
    "data = pd.read_csv(url)"
   ]
  },
  {
   "cell_type": "markdown",
   "id": "75e82aaa-bbdf-4849-80f5-6ad0363169b4",
   "metadata": {},
   "source": [
    "## データの確認"
   ]
  },
  {
   "cell_type": "markdown",
   "id": "ad61ba13-60f5-4230-bdcc-24dd7fe492dc",
   "metadata": {},
   "source": [
    "### 概要確認"
   ]
  },
  {
   "cell_type": "markdown",
   "id": "4f10879c-3a45-4183-aa6c-4c0d458984ee",
   "metadata": {},
   "source": [
    "#### 列名一覧 "
   ]
  },
  {
   "cell_type": "code",
   "execution_count": null,
   "id": "65b8d4c1-0ff5-4996-b561-62e5168d0a47",
   "metadata": {},
   "outputs": [],
   "source": [
    "data.columns.tolist()"
   ]
  },
  {
   "cell_type": "markdown",
   "id": "c3ec771a-f229-4922-b2ac-b35bda78c5a0",
   "metadata": {},
   "source": [
    "#### 変数説明"
   ]
  },
  {
   "cell_type": "markdown",
   "id": "d74cca5d-74ab-4dc6-83c2-03166e3d5c6a",
   "metadata": {},
   "source": [
    "| 変数 | 説明 |\n",
    "| ---- | ---- |\n",
    "| PassengerId | 乗客者ID |\n",
    "| Survived | 生存状況（0＝死亡、1＝生存） |\n",
    "| Pclass | 旅客クラス（1＝1等、2＝2等、3＝3等） |\n",
    "| Name | 名前 |\n",
    "| Sex | 性別（male＝男性、female＝女性） |\n",
    "| Age | 年齢 |\n",
    "| SibSp | 同乗している兄弟（Siblings）や配偶者（Spouses）の数 |\n",
    "| Parch | 同乗している親（Parents）や子供（Children）の数 |\n",
    "| Ticket | チケット番号 |\n",
    "| Fare | 旅客運賃 |\n",
    "| Cabin | 客室番号 |\n",
    "| Embarked | 出港地（C＝Cherbourg、Q＝Queenstown、S＝Southampton） |"
   ]
  },
  {
   "cell_type": "markdown",
   "id": "f9f0276a-cdad-4598-a151-a7dd45c7cf5d",
   "metadata": {},
   "source": [
    "#### データの最初の数行を表示"
   ]
  },
  {
   "cell_type": "code",
   "execution_count": null,
   "id": "c3779318-e852-4e84-a13e-03a6e9ba9ac0",
   "metadata": {},
   "outputs": [],
   "source": [
    "print(data.head())"
   ]
  },
  {
   "cell_type": "markdown",
   "id": "f9f9b169-b5a6-4d50-82c6-8c713d35462c",
   "metadata": {},
   "source": [
    "#### データフレームの情報を表示"
   ]
  },
  {
   "cell_type": "code",
   "execution_count": null,
   "id": "cb780f26-1c8d-4d1f-b212-54f1ccf42a17",
   "metadata": {},
   "outputs": [],
   "source": [
    "print(data.info())"
   ]
  },
  {
   "cell_type": "markdown",
   "id": "a2800107-0dec-47e2-b76a-fc0bd2f6ebfb",
   "metadata": {},
   "source": [
    "#### 基本的な統計量を表示"
   ]
  },
  {
   "cell_type": "code",
   "execution_count": null,
   "id": "d8d8ae3a-2583-4422-a503-d0116e2799bf",
   "metadata": {},
   "outputs": [],
   "source": [
    "print(data.describe())"
   ]
  },
  {
   "cell_type": "markdown",
   "id": "691a83e2-ae5b-4b3c-91ea-71613817c169",
   "metadata": {},
   "source": [
    "#### 各列の欠損値の数を表示"
   ]
  },
  {
   "cell_type": "code",
   "execution_count": null,
   "id": "e5cd7ad5-6e87-4794-93c5-b9c48acc5e4a",
   "metadata": {},
   "outputs": [],
   "source": [
    "print(data.isnull().sum())"
   ]
  },
  {
   "cell_type": "markdown",
   "id": "532f76bd-8b6f-479f-b938-af5c4e5364c7",
   "metadata": {},
   "source": [
    "#### 数値データの分布を確認"
   ]
  },
  {
   "cell_type": "code",
   "execution_count": null,
   "id": "e6543ffe-97f7-439c-a696-a3411a5951a1",
   "metadata": {},
   "outputs": [],
   "source": [
    "data.hist(bins=20, figsize=(14,10))\n",
    "plt.show()"
   ]
  },
  {
   "cell_type": "markdown",
   "id": "7af648ac-abad-400e-9c39-2b0c8101b82a",
   "metadata": {},
   "source": [
    "#### カテゴリカル変数の可能性のある列"
   ]
  },
  {
   "cell_type": "code",
   "execution_count": null,
   "id": "7097efdf-fee9-41c2-86ef-6bb1ff10ac78",
   "metadata": {},
   "outputs": [],
   "source": [
    "data.select_dtypes(include=['object', 'category']).columns.tolist()"
   ]
  },
  {
   "cell_type": "markdown",
   "id": "caf2bdc8-1fb7-45c6-a428-a5ca0fa803a0",
   "metadata": {},
   "source": [
    "Pclassは数値なので抜けたが分布から判断可能。また、Nameは非該当、Ticket, Cabinは要確認。"
   ]
  },
  {
   "cell_type": "markdown",
   "id": "c136aa96-6c30-4952-9256-59e777895006",
   "metadata": {},
   "source": [
    "#### カテゴリカル変数の値のカウント"
   ]
  },
  {
   "cell_type": "code",
   "execution_count": null,
   "id": "bc7f5132-b721-432e-8f8e-71a1a48f6cd7",
   "metadata": {},
   "outputs": [],
   "source": [
    "categorical_columns = ['Pclass', 'Sex','Ticket', 'Cabin', 'Embarked']\n",
    "\n",
    "for col in categorical_columns:\n",
    "    print(f\"\\n{col} 列の値のカウント:\")\n",
    "    print(data[col].value_counts())"
   ]
  },
  {
   "cell_type": "markdown",
   "id": "8b44e4fd-7645-4268-8fa7-d3877adad7cc",
   "metadata": {},
   "source": [
    "#### Ticket, Cabinとはなにか？"
   ]
  },
  {
   "cell_type": "markdown",
   "id": "a9fc4504-5b17-49ab-aae8-414352d63749",
   "metadata": {},
   "source": [
    "#### Ticket"
   ]
  },
  {
   "cell_type": "code",
   "execution_count": null,
   "id": "94bdea4a-bc6c-48a7-8466-83fc720072c1",
   "metadata": {},
   "outputs": [],
   "source": [
    "# Ticket列の統計情報を確認\n",
    "print('\\n', data['Ticket'].describe(include='all'))\n",
    "\n",
    "# Ticket列のデータを表示\n",
    "print('\\n', data['Ticket'].head(10))  # 先頭10行を表示\n",
    "\n",
    "# Ticket列の欠損値の数を確認\n",
    "missing_cabin_count = data['Ticket'].isnull().sum()\n",
    "print(f'\\nTicket列の欠損値の数: {missing_cabin_count}')\n",
    "\n",
    "# Ticket列の欠損値を削除しユニークな値の数を確認\n",
    "ticket_unique = data['Ticket'].dropna().unique()\n",
    "\n",
    "print(f'\\nTicket列のユニークな値の数: {len(ticket_unique)}')\n",
    "\n",
    "# 重複のないCabin列の値を表示\n",
    "print('\\nTicket列のユニークな値:' + str(ticket_unique))"
   ]
  },
  {
   "cell_type": "markdown",
   "id": "989dc54c-771e-43b8-8cbb-b9ca112a2866",
   "metadata": {},
   "source": [
    "#### Cabin\n",
    "先頭が一文字がデッキを表している模様。"
   ]
  },
  {
   "cell_type": "code",
   "execution_count": null,
   "id": "bb44b152-af5a-430d-867e-eb90777fb55c",
   "metadata": {},
   "outputs": [],
   "source": [
    "# Cabin列の統計情報を確認\n",
    "print('\\n', data['Cabin'].describe(include='all'))\n",
    "\n",
    "# Cabin列のデータを表示\n",
    "print('\\n', data['Cabin'].head(10))  # 先頭10行を表示\n",
    "\n",
    "# Cabin列の欠損値の数を確認\n",
    "missing_cabin_count = data['Cabin'].isnull().sum()\n",
    "print(f'\\nCabin列の欠損値の数: {missing_cabin_count}')\n",
    "\n",
    "# Cabin列の欠損値を削除しユニークな値の数を確認\n",
    "cabin_unique = data['Cabin'].dropna().unique()\n",
    "\n",
    "print(f'\\nCabin列のユニークな値の数: {len(cabin_unique)}')\n",
    "\n",
    "# 重複のないCabin列の値を表示\n",
    "print('\\nCabin列のユニークな値:' + str(cabin_unique))"
   ]
  },
  {
   "cell_type": "markdown",
   "id": "dd8166d4-7047-4783-8e26-3952f07ca1c0",
   "metadata": {},
   "source": [
    "### 詳細確認\n",
    "特徴量選択に向けての詳細確認。"
   ]
  },
  {
   "cell_type": "markdown",
   "id": "c37b327e-ede8-4a6f-a1c5-dbb4b7d403c0",
   "metadata": {},
   "source": [
    "#### カラーパレットの定義"
   ]
  },
  {
   "cell_type": "code",
   "execution_count": null,
   "id": "017ed309-7951-48d6-9d81-5886d66cc107",
   "metadata": {},
   "outputs": [],
   "source": [
    "palette = sns.color_palette('Accent', 10)"
   ]
  },
  {
   "cell_type": "markdown",
   "id": "4900a159-671b-471a-8980-2ff21f0f9103",
   "metadata": {},
   "source": [
    "#### カテゴリカルデータの頻度分析"
   ]
  },
  {
   "cell_type": "code",
   "execution_count": null,
   "id": "3ab707eb-3845-4689-9c12-6a8e1167b5b5",
   "metadata": {},
   "outputs": [],
   "source": [
    "categorical_columns = ['Pclass', 'Sex', 'Embarked']\n",
    "'''\n",
    "for col in categorical_columns:\n",
    "    sns.countplot(x=col, data=data)\n",
    "    plt.title(f'Distribution of {col}')\n",
    "    plt.show()\n",
    "'''\n",
    "\n",
    "# サブプロットの設定\n",
    "fig, axes = plt.subplots(len(categorical_columns), 2, figsize=(14, 6 * len(categorical_columns)))\n",
    "\n",
    "for i, col in enumerate(categorical_columns):\n",
    "    # カテゴリのカウント\n",
    "    counts = data[col].value_counts()\n",
    "    # 色のリストを定義\n",
    "    colors = palette[:len(counts)]\n",
    "    \n",
    "    # 棒グラフ\n",
    "    axes[i, 0].bar(counts.index, counts.values, color=colors)\n",
    "    axes[i, 0].set_title(f'Counts of {col}')\n",
    "    axes[i, 0].set_xlabel(col)\n",
    "    axes[i, 0].set_ylabel('Counts')\n",
    "    \n",
    "    # 円グラフ\n",
    "    axes[i, 1].pie(counts, labels=counts.index, autopct='%1.1f%%', startangle=90, colors=colors)\n",
    "    axes[i, 1].set_title(f'Distribution of {col}')\n",
    "    axes[i, 1].axis('equal')  # 円を丸くするために等軸比を設定\n",
    "\n",
    "# レイアウト調整\n",
    "plt.tight_layout()\n",
    "plt.show()"
   ]
  },
  {
   "cell_type": "markdown",
   "id": "67aa1ba0-42e6-40ad-b645-14822b5cae0b",
   "metadata": {},
   "source": [
    "#### 相関行列をヒートマップで表示\n",
    "PclassとFareの相関関係が高い。"
   ]
  },
  {
   "cell_type": "code",
   "execution_count": null,
   "id": "c07cc13a-02d2-4a6e-a221-3d45f4c622d5",
   "metadata": {},
   "outputs": [],
   "source": [
    "plt.figure(figsize=(10,8))\n",
    "sns.heatmap(data.corr(), annot=True, cmap='coolwarm')\n",
    "plt.title('Correlation Matrix')\n",
    "plt.show()"
   ]
  },
  {
   "cell_type": "markdown",
   "id": "e1c96e3b-39d1-4d97-8e95-2b537ad89b41",
   "metadata": {},
   "source": [
    "#### 数値の説明変数と目的変数の関係の確認\n",
    "ココのコードはGPTに生成させても使えなかったので個別に指示。"
   ]
  },
  {
   "cell_type": "markdown",
   "id": "2d0e0ed9-9a2f-4d04-aeec-fcb44ab0d4d3",
   "metadata": {},
   "source": [
    "##### Survived"
   ]
  },
  {
   "cell_type": "code",
   "execution_count": null,
   "id": "280d1e00-3482-4a18-ad9f-84288629a61e",
   "metadata": {},
   "outputs": [],
   "source": [
    "# 目的変数のカウント\n",
    "target_column = 'Survived'\n",
    "target_counts = data[target_column].value_counts()\n",
    "\n",
    "# サブプロットの作成\n",
    "fig, axes = plt.subplots(1, 2, figsize=(14, 6))\n",
    "\n",
    "# 色のリストを定義\n",
    "colors = ['red', 'blue']\n",
    "    \n",
    "# 円グラフの作成\n",
    "axes[0].pie(target_counts, labels=target_counts.index, autopct='%1.1f%%', startangle=90, colors=colors)\n",
    "axes[0].set_title(f'Distribution of {target_column}')\n",
    "axes[0].axis('equal')  # 円を丸くするために等軸比を設定\n",
    "\n",
    "# 棒グラフの作成\n",
    "axes[1].bar(target_counts.index, target_counts.values, color=colors)\n",
    "axes[1].set_title(f'Counts of {target_column}')\n",
    "axes[1].set_xlabel(target_column)\n",
    "axes[1].set_ylabel('Counts')\n",
    "\n",
    "# グラフの表示\n",
    "plt.tight_layout()\n",
    "plt.show()"
   ]
  },
  {
   "cell_type": "markdown",
   "id": "08542b53-d2b9-48f9-a28e-fefd5d97a09c",
   "metadata": {},
   "source": [
    "##### Age\n",
    "年齢"
   ]
  },
  {
   "cell_type": "code",
   "execution_count": null,
   "id": "3d0f1258-1a74-4fed-92b9-02a2d13cb493",
   "metadata": {},
   "outputs": [],
   "source": [
    "# サブプロットを作成\n",
    "fig, axes = plt.subplots(1, 2, figsize=(12, 5))\n",
    "\n",
    "# 全体の年齢分布のヒストグラム\n",
    "sns.histplot(data['Age'].dropna(), kde=True, color='white', bins=20, ax=axes[0])\n",
    "\n",
    "# 生存者と死亡者の年齢分布のヒストグラム\n",
    "sns.histplot(data[data['Survived'] == 1]['Age'].dropna(), kde=True, color='blue', bins=20, ax=axes[1])\n",
    "sns.histplot(data[data['Survived'] == 0]['Age'].dropna(), kde=True, color='red', bins=20, ax=axes[1])\n",
    "\n",
    "# グラフの表示\n",
    "plt.tight_layout()\n",
    "plt.show()"
   ]
  },
  {
   "cell_type": "markdown",
   "id": "b7fdbcbc-bd81-481c-a3ce-c171b95ff580",
   "metadata": {},
   "source": [
    "##### SibSp\n",
    "同乗している兄弟（Siblings）や配偶者（Spouses）の数"
   ]
  },
  {
   "cell_type": "code",
   "execution_count": null,
   "id": "8b9cd962-f78a-4f24-8ff8-8844f6c9269f",
   "metadata": {},
   "outputs": [],
   "source": [
    "# 説明変数のカウント\n",
    "sibsp_counts = data['SibSp'].value_counts()\n",
    "\n",
    "# 色のリストを定義\n",
    "colors = palette[:len(sibsp_counts)]\n",
    "\n",
    "# サブプロットを作成\n",
    "fig, axes = plt.subplots(1, 3, figsize=(12, 4))\n",
    "\n",
    "# SibSpの構成を示す円グラフ\n",
    "axes[0].pie(sibsp_counts, labels=sibsp_counts.index, autopct='%1.1f%%', startangle=90, colors=colors)\n",
    "\n",
    "# SibSpとSurvivedの関連を分析した集合縦棒グラフ\n",
    "sns.countplot(x='SibSp', hue='Survived', data=data, ax=axes[1], palette={0: 'red', 1: 'blue'})\n",
    "\n",
    "# SibSpとSurvivedの関連を分析した積み上げ縦棒グラフ\n",
    "count_data = data.groupby(['SibSp', 'Survived']).size().unstack().fillna(0)\n",
    "count_data_ratio = count_data.div(count_data.sum(axis=1), axis=0)\n",
    "count_data_ratio.plot(kind='bar', stacked=True, ax=axes[2], color=['red', 'blue'])\n",
    "\n",
    "# グラフの表示\n",
    "plt.tight_layout()\n",
    "plt.show()"
   ]
  },
  {
   "cell_type": "markdown",
   "id": "8c627988-33e7-44b6-b4d0-7239ad04ff12",
   "metadata": {},
   "source": [
    "##### Parch\n",
    "同乗している親（Parents）や子供（Children）の数"
   ]
  },
  {
   "cell_type": "code",
   "execution_count": null,
   "id": "005d05d4-f0b5-40f8-bb1e-ce11c4dcf92b",
   "metadata": {},
   "outputs": [],
   "source": [
    "# 説明変数のカウント\n",
    "parch_counts = data['Parch'].value_counts()\n",
    "\n",
    "# 色のリストを定義\n",
    "colors = palette[:len(parch_counts)]\n",
    "\n",
    "# サブプロットを作成\n",
    "fig, axes = plt.subplots(1, 3, figsize=(12, 4))\n",
    "\n",
    "# Parchの構成を示す円グラフ\n",
    "axes[0].pie(parch_counts, labels=parch_counts.index, autopct='%1.1f%%', startangle=90, colors=colors)\n",
    "\n",
    "# ParchとSurvivedの関連を分析した集合縦棒グラフ\n",
    "sns.countplot(x='Parch', hue='Survived', data=data, ax=axes[1], palette={0: 'red', 1: 'blue'})\n",
    "\n",
    "# ParchとSurvivedの関連を分析した積み上げ縦棒グラフ\n",
    "count_data = data.groupby(['Parch', 'Survived']).size().unstack().fillna(0)\n",
    "count_data_ratio = count_data.div(count_data.sum(axis=1), axis=0)\n",
    "count_data_ratio.plot(kind='bar', stacked=True, ax=axes[2], color=['red', 'blue'])\n",
    "\n",
    "# グラフの表示\n",
    "plt.tight_layout()\n",
    "plt.show()"
   ]
  },
  {
   "cell_type": "markdown",
   "id": "91e5cd8e-8260-4995-8f15-7a5d61a533ff",
   "metadata": {},
   "source": [
    "##### Fare\n",
    "最低の価格帯以外は生き残る確率が高い。高価格帯は顕著に高い。"
   ]
  },
  {
   "cell_type": "markdown",
   "id": "ffc24404-bbb6-40f3-b037-d32d1cd79f1f",
   "metadata": {},
   "source": [
    "###### 全体"
   ]
  },
  {
   "cell_type": "code",
   "execution_count": null,
   "id": "e7cb9829-8c66-428b-b74f-9738cc774df9",
   "metadata": {},
   "outputs": [],
   "source": [
    "# サブプロットを作成\n",
    "fig, axes = plt.subplots(1, 2, figsize=(12, 5))\n",
    "\n",
    "# 全体の旅客料金分布のヒストグラム\n",
    "sns.histplot(data['Fare'].dropna(), kde=True, color='white', bins=20, ax=axes[0])\n",
    "\n",
    "# 生存者と死亡者の旅客料金分布のヒストグラム\n",
    "sns.histplot(data[data['Survived'] == 1]['Fare'].dropna(), kde=True, color='blue', bins=20, ax=axes[1])\n",
    "sns.histplot(data[data['Survived'] == 0]['Fare'].dropna(), kde=True, color='red', bins=20, ax=axes[1])\n",
    "\n",
    "# グラフの表示\n",
    "plt.tight_layout()\n",
    "plt.show()"
   ]
  },
  {
   "cell_type": "markdown",
   "id": "5a146abf-ef50-4ada-b545-e2e4b951562a",
   "metadata": {},
   "source": [
    "###### 10ポンド以下のレコードを除外"
   ]
  },
  {
   "cell_type": "code",
   "execution_count": null,
   "id": "c4373fe0-1f95-4b32-8815-dcf58438b063",
   "metadata": {},
   "outputs": [],
   "source": [
    "# サブプロットを作成\n",
    "fig, axes = plt.subplots(1, 2, figsize=(12, 5))\n",
    "\n",
    "# 旅客料金が少ない旅客のデータを削除\n",
    "threshold_fare = 10  # この値より少ない旅客のデータを削除（適宜調整）\n",
    "temp = data[data['Fare'] >= threshold_fare]\n",
    "\n",
    "# 全体の旅客料金分布のヒストグラム\n",
    "sns.histplot(temp['Fare'].dropna(), kde=True, color='white', bins=20, ax=axes[0])\n",
    "\n",
    "# 生存者と死亡者の旅客料金分布のヒストグラム\n",
    "sns.histplot(temp[temp['Survived'] == 1]['Fare'].dropna(), kde=True, color='blue', bins=20, ax=axes[1])\n",
    "sns.histplot(temp[temp['Survived'] == 0]['Fare'].dropna(), kde=True, color='red', bins=20, ax=axes[1])\n",
    "\n",
    "# グラフの表示\n",
    "plt.tight_layout()\n",
    "plt.show()"
   ]
  },
  {
   "cell_type": "markdown",
   "id": "cf7dec36-2c99-4f59-904a-8e0adeaf8df9",
   "metadata": {},
   "source": [
    "#### カテゴリカル説明変数と目的変数の関係の確認"
   ]
  },
  {
   "cell_type": "code",
   "execution_count": null,
   "id": "1d3d4386-063c-4d5b-982a-b0c54dd9a7d3",
   "metadata": {},
   "outputs": [],
   "source": [
    "categorical_columns = ['Pclass', 'Sex', 'Embarked']\n",
    "\n",
    "for col in categorical_columns:\n",
    "    sns.countplot(x=col, hue='Survived', data=data, palette={0: 'red', 1: 'blue'})\n",
    "    plt.title(f'Relationship between {col} and Survived')\n",
    "    plt.show()"
   ]
  },
  {
   "cell_type": "markdown",
   "id": "ac13f762-fb00-4d70-a0c6-27fd7c71e549",
   "metadata": {},
   "source": [
    "#### その他の説明変数と目的変数の関係の確認"
   ]
  },
  {
   "cell_type": "markdown",
   "id": "edbd42c8-c65c-4602-8caa-09934d485c52",
   "metadata": {},
   "source": [
    "##### Cabin\n",
    "先頭位置文字がデッキを表しているので、コレで分析してみる。"
   ]
  },
  {
   "cell_type": "code",
   "execution_count": null,
   "id": "22e097e8-8829-4200-8be5-0b44bfe666f6",
   "metadata": {},
   "outputs": [],
   "source": [
    "# Cabinの先頭の文字（デッキ）を抽出する\n",
    "data['Deck'] = data['Cabin'].str[0]\n",
    "\n",
    "# 説明変数の欠損値を保管してカウント\n",
    "data['Deck'].fillna('Z', inplace=True)\n",
    "deck_counts = data['Deck'].value_counts()\n",
    "sorted_list = deck_counts.index.tolist()\n",
    "\n",
    "# サブプロットを作成\n",
    "fig, axes = plt.subplots(1, 3, figsize=(12, 4))\n",
    "\n",
    "# Deckの構成を示す棒グラフ\n",
    "sns.barplot(x=deck_counts.index, y=deck_counts.values, ax=axes[0])\n",
    "\n",
    "# DeckとSurvivedの関連を分析した集合縦棒グラフ\n",
    "sns.countplot(x='Deck', hue='Survived', data=data, ax=axes[1], palette={0: 'red', 1: 'blue'}, order=sorted_list)\n",
    "\n",
    "# DeckとSurvivedの関連を分析した積み上げ縦棒グラフ\n",
    "count_data = data.groupby(['Deck', 'Survived']).size().unstack().fillna(0)\n",
    "count_data = count_data.reindex(sorted_list)\n",
    "count_data_ratio = count_data.div(count_data.sum(axis=1), axis=0)\n",
    "count_data_ratio.plot(kind='bar', stacked=True, ax=axes[2], color=['red', 'blue'])\n",
    "\n",
    "# グラフの表示\n",
    "plt.tight_layout()\n",
    "plt.show()"
   ]
  },
  {
   "cell_type": "markdown",
   "id": "4d157432-88bd-4f2d-b999-4b622a3b1812",
   "metadata": {},
   "source": [
    "## データの前処理"
   ]
  },
  {
   "cell_type": "markdown",
   "id": "0cbf99c4-330c-43d8-b927-094a23808dac",
   "metadata": {},
   "source": [
    "| 変数 | 説明 |\n",
    "| ---- | ---- |\n",
    "| PassengerId | 不要 |\n",
    "| Survived | 目的変数 |\n",
    "| Pclass | 富豪ほど生存 |\n",
    "| Sex | 女性ほど生存 |\n",
    "| Age | 20歳未満の生存率が高い、幼児は特に生存率が高い。 |\n",
    "| SibSp | 独り身と大所帯の生存率が低い。 |\n",
    "| Parch | 独り身と大所帯の生存率が低い。 |\n",
    "| Ticket | 不要 |\n",
    "| Fare | 富豪ほど生存（Pclassと高い相関関係） |\n",
    "| Cabin | 不要 |\n",
    "| Embarked | C=Cherbourg、Q＝Queenstown、S＝Southamptonのうち、Southamptonが優遇されているが、間接的な影響の可能性 |"
   ]
  },
  {
   "cell_type": "code",
   "execution_count": null,
   "id": "510c8b43-9b07-4637-b7aa-89819d48aa45",
   "metadata": {},
   "outputs": [],
   "source": [
    "data.columns.tolist()"
   ]
  },
  {
   "cell_type": "markdown",
   "id": "2d02bb2a-d125-4731-a427-5b8095fa87e4",
   "metadata": {},
   "source": [
    "### 特徴量エンジニアリング"
   ]
  },
  {
   "cell_type": "markdown",
   "id": "ff6ab952-e6ed-4c3d-b12b-43e843202493",
   "metadata": {},
   "source": [
    "#### Deck\n",
    "データ分析で追加したDeckはそのまま流用"
   ]
  },
  {
   "cell_type": "markdown",
   "id": "7b46bca0-c045-48b9-94f6-1ffa56369e26",
   "metadata": {},
   "source": [
    "#### FamilySize\n",
    "FamilySizeを追加"
   ]
  },
  {
   "cell_type": "code",
   "execution_count": null,
   "id": "927ffe36-f47b-4d49-ba26-bf1c328b265d",
   "metadata": {},
   "outputs": [],
   "source": [
    "data['FamilySize'] = data['SibSp'] + data['Parch'] + 1"
   ]
  },
  {
   "cell_type": "code",
   "execution_count": null,
   "id": "807b4c84-3357-4a26-b25a-05284e0f621a",
   "metadata": {},
   "outputs": [],
   "source": [
    "# 説明変数のカウント\n",
    "familysize_counts = data['FamilySize'].value_counts()\n",
    "\n",
    "# 色のリストを定義\n",
    "colors = palette[:len(familysize_counts)]\n",
    "\n",
    "# サブプロットを作成\n",
    "fig, axes = plt.subplots(1, 3, figsize=(12, 4))\n",
    "\n",
    "# FamilySizeの構成を示す円グラフ\n",
    "axes[0].pie(familysize_counts, labels=familysize_counts.index, autopct='%1.1f%%', startangle=90, colors=colors)\n",
    "\n",
    "# FamilySizeとSurvivedの関連を分析した集合縦棒グラフ\n",
    "sns.countplot(x='FamilySize', hue='Survived', data=data, ax=axes[1], palette={0: 'red', 1: 'blue'})\n",
    "\n",
    "# FamilySizeとSurvivedの関連を分析した積み上げ縦棒グラフ\n",
    "count_data = data.groupby(['FamilySize', 'Survived']).size().unstack().fillna(0)\n",
    "count_data_ratio = count_data.div(count_data.sum(axis=1), axis=0)\n",
    "count_data_ratio.plot(kind='bar', stacked=True, ax=axes[2], color=['red', 'blue'])\n",
    "\n",
    "# グラフの表示\n",
    "plt.tight_layout()\n",
    "plt.show()"
   ]
  },
  {
   "cell_type": "markdown",
   "id": "b1b61077-98ad-45b1-87e6-689bf1154af7",
   "metadata": {},
   "source": [
    "#### TicketGroupSize\n",
    "TicketGroupSizeを追加"
   ]
  },
  {
   "cell_type": "code",
   "execution_count": null,
   "id": "cf138304-e26d-44eb-8804-389f48538179",
   "metadata": {},
   "outputs": [],
   "source": [
    "Ticket_Count = dict(data['Ticket'].value_counts())\n",
    "data['TicketGroupSize'] = data['Ticket'].map(Ticket_Count)"
   ]
  },
  {
   "cell_type": "code",
   "execution_count": null,
   "id": "f048662a-1a91-4c0f-90e3-d6443ea31153",
   "metadata": {},
   "outputs": [],
   "source": [
    "# 説明変数のカウント\n",
    "tgsize_counts = data['TicketGroupSize'].value_counts()\n",
    "\n",
    "# 色のリストを定義\n",
    "colors = palette[:len(tgsize_counts)]\n",
    "\n",
    "# サブプロットを作成\n",
    "fig, axes = plt.subplots(1, 3, figsize=(12, 4))\n",
    "\n",
    "# TicketGroupSizeの構成を示す円グラフ\n",
    "axes[0].pie(tgsize_counts, labels=tgsize_counts.index, autopct='%1.1f%%', startangle=90, colors=colors)\n",
    "\n",
    "# TicketGroupSizeとSurvivedの関連を分析した集合縦棒グラフ\n",
    "sns.countplot(x='TicketGroupSize', hue='Survived', data=data, ax=axes[1], palette={0: 'red', 1: 'blue'})\n",
    "\n",
    "# TicketGroupSizeとSurvivedの関連を分析した積み上げ縦棒グラフ\n",
    "count_data = data.groupby(['TicketGroupSize', 'Survived']).size().unstack().fillna(0)\n",
    "count_data_ratio = count_data.div(count_data.sum(axis=1), axis=0)\n",
    "count_data_ratio.plot(kind='bar', stacked=True, ax=axes[2], color=['red', 'blue'])\n",
    "\n",
    "# グラフの表示\n",
    "plt.tight_layout()\n",
    "plt.show()"
   ]
  },
  {
   "cell_type": "markdown",
   "id": "4d49d2e8-1173-488e-add6-44f06d2c4685",
   "metadata": {},
   "source": [
    "#### Title\n",
    "名前から敬称を抽出"
   ]
  },
  {
   "cell_type": "code",
   "execution_count": null,
   "id": "e04a3bfc-2c09-4816-a747-125f37a2f625",
   "metadata": {},
   "outputs": [],
   "source": [
    "data['Title'] = data['Name'].map(lambda x: x.split(', ')[1].split('. ')[0])\n",
    "data['Title'].replace(['Capt', 'Col', 'Major', 'Dr', 'Rev'], 'Officer', inplace=True)\n",
    "data['Title'].replace(['Don', 'Sir',  'the Countess', 'Lady', 'Dona'], 'Royalty', inplace=True)\n",
    "data['Title'].replace(['Mme', 'Ms'], 'Mrs', inplace=True)\n",
    "data['Title'].replace(['Mlle'], 'Miss', inplace=True)\n",
    "data['Title'].replace(['Jonkheer'], 'Master', inplace=True)"
   ]
  },
  {
   "cell_type": "code",
   "execution_count": null,
   "id": "c55aac88-3f2b-436c-b29b-6728867080d6",
   "metadata": {},
   "outputs": [],
   "source": [
    "# 説明変数のカウント\n",
    "title_counts = data['Title'].value_counts()\n",
    "sorted_list = title_counts.index.tolist()\n",
    "\n",
    "# 色のリストを定義\n",
    "colors = palette[:len(title_counts)]\n",
    "\n",
    "# サブプロットを作成\n",
    "fig, axes = plt.subplots(1, 3, figsize=(12, 4))\n",
    "\n",
    "# Titleの構成を示す円グラフ\n",
    "axes[0].pie(title_counts, labels=title_counts.index, autopct='%1.1f%%', startangle=90, colors=colors)\n",
    "\n",
    "# TitleとSurvivedの関連を分析した集合縦棒グラフ\n",
    "sns.countplot(x='Title', hue='Survived', data=data, ax=axes[1], palette={0: 'red', 1: 'blue'}, order=sorted_list)\n",
    "\n",
    "# TitleとSurvivedの関連を分析した積み上げ縦棒グラフ\n",
    "count_data = data.groupby(['Title', 'Survived']).size().unstack().fillna(0)\n",
    "count_data = count_data.reindex(sorted_list)\n",
    "count_data_ratio = count_data.div(count_data.sum(axis=1), axis=0)\n",
    "count_data_ratio.plot(kind='bar', stacked=True, ax=axes[2], color=['red', 'blue'])\n",
    "\n",
    "# グラフの表示\n",
    "plt.tight_layout()\n",
    "plt.show()"
   ]
  },
  {
   "cell_type": "markdown",
   "id": "b11b4f6f-d313-4421-b33d-32aa7f6fe8dd",
   "metadata": {
    "tags": []
   },
   "source": [
    "### 欠損値の処理とカテゴリカル変数のエンコーディング\n",
    "- エンコーディング前に欠損値の処理が必要。\n",
    "- エンコーディング結果を欠損値の処理で使いたい。"
   ]
  },
  {
   "cell_type": "markdown",
   "id": "413a4c14-bf25-4aa8-9b4d-a154ed859259",
   "metadata": {},
   "source": [
    "#### Embarkedの欠損値処理\n",
    "最頻値で補完"
   ]
  },
  {
   "cell_type": "code",
   "execution_count": null,
   "id": "ce5476fb-17c5-40f3-9fed-9f9ab681a4b0",
   "metadata": {},
   "outputs": [],
   "source": [
    "data[\"Embarked\"].fillna(data['Embarked'].mode()[0], inplace=True)"
   ]
  },
  {
   "cell_type": "markdown",
   "id": "20f1d859-3d7b-4d4a-8474-93bb29a66fd5",
   "metadata": {
    "tags": []
   },
   "source": [
    "#### カテゴリカル変数のエンコーディング"
   ]
  },
  {
   "cell_type": "code",
   "execution_count": null,
   "id": "4523a342-76d0-4d1d-ab4b-335d807530f7",
   "metadata": {},
   "outputs": [],
   "source": [
    "data = pd.get_dummies(data, columns=['Sex', 'Deck', 'Embarked', 'Title'], drop_first=True)"
   ]
  },
  {
   "cell_type": "markdown",
   "id": "cc728a52-b1dd-44c3-80fc-710faeda4f46",
   "metadata": {},
   "source": [
    "#### Ageの欠損値処理\n",
    "推定する"
   ]
  },
  {
   "cell_type": "code",
   "execution_count": null,
   "id": "adde21a7-1c6c-4bdf-b9d3-837cfdeec8bd",
   "metadata": {},
   "outputs": [],
   "source": [
    "#data[\"Age\"].fillna(data[\"Age\"].mean(), inplace=True) # 平均で補完\n",
    "\n",
    "# 推定に使用する項目を指定\n",
    "temp = data[['Age','Pclass','Sex_male','Parch','SibSp','Title_Miss','Title_Mr','Title_Mrs','Title_Officer','Title_Royalty']]\n",
    "\n",
    "# ラベル特徴量をワンホットエンコーディング\n",
    "temp = pd.get_dummies(temp)\n",
    "\n",
    "# 学習データとテストデータに分離し、numpyに変換\n",
    "known_age = temp[temp.Age.notnull()].values  \n",
    "unknown_age = temp[temp.Age.isnull()].values\n",
    "\n",
    "# 学習データをX, yに分離\n",
    "X = known_age[:, 1:]  \n",
    "y = known_age[:, 0]\n",
    "\n",
    "# ランダムフォレストで推定モデルを構築\n",
    "rfr = RandomForestRegressor(random_state=0, n_estimators=100, n_jobs=-1)\n",
    "rfr.fit(X, y)\n",
    "\n",
    "# 推定モデルを使って、テストデータのAgeを予測し、補完\n",
    "predictedAges = rfr.predict(unknown_age[:, 1::])\n",
    "data.loc[(data.Age.isnull()), 'Age'] = predictedAges "
   ]
  },
  {
   "cell_type": "code",
   "execution_count": null,
   "id": "5ee7dccc-2a2c-4f87-a7fd-7d277722c54a",
   "metadata": {},
   "outputs": [],
   "source": [
    "print(data.isnull().sum())"
   ]
  },
  {
   "cell_type": "markdown",
   "id": "7045a850-bc43-4c59-b549-4d6268dbd358",
   "metadata": {
    "tags": []
   },
   "source": [
    "### 必要な説明変数列を選択"
   ]
  },
  {
   "cell_type": "code",
   "execution_count": null,
   "id": "a800481a-1883-417c-8f98-04d16e7ba38f",
   "metadata": {},
   "outputs": [],
   "source": [
    "data.columns.tolist()"
   ]
  },
  {
   "cell_type": "code",
   "execution_count": null,
   "id": "7e0b4c0e-07e6-4d69-8e07-2812b054991c",
   "metadata": {},
   "outputs": [],
   "source": [
    "xy = data.drop(columns=['PassengerId', 'Name', 'Ticket', 'Cabin'])"
   ]
  },
  {
   "cell_type": "markdown",
   "id": "b85957fe-ec58-41d7-88e9-16ff75c68037",
   "metadata": {},
   "source": [
    "### 結果の確認"
   ]
  },
  {
   "cell_type": "code",
   "execution_count": null,
   "id": "0ad4a833-965a-460e-b1f8-54698b02c698",
   "metadata": {},
   "outputs": [],
   "source": [
    "print(xy)"
   ]
  },
  {
   "cell_type": "code",
   "execution_count": null,
   "id": "7328a171-11a3-4d68-82df-30230642f59b",
   "metadata": {},
   "outputs": [],
   "source": [
    "# 特徴量とターゲット変数の分離\n",
    "X = xy.drop('Survived', axis=1)\n",
    "y = xy['Survived']"
   ]
  },
  {
   "cell_type": "code",
   "execution_count": null,
   "id": "98dbaab0-191a-4f7a-8d12-2ed2cdb259dd",
   "metadata": {},
   "outputs": [],
   "source": [
    "# 訓練データとテストデータの分割\n",
    "X_train, X_test, y_train, y_test = train_test_split(X, y, test_size=0.2, random_state=42)"
   ]
  },
  {
   "cell_type": "code",
   "execution_count": null,
   "id": "28903ce4-7be7-4457-bf2d-d910589fb286",
   "metadata": {},
   "outputs": [],
   "source": [
    "# 標準化\n",
    "scaler = StandardScaler()\n",
    "X_train = scaler.fit_transform(X_train)\n",
    "X_test = scaler.transform(X_test)"
   ]
  },
  {
   "cell_type": "code",
   "execution_count": null,
   "id": "8be0cb98-3332-4cd6-9703-ca57839cc772",
   "metadata": {},
   "outputs": [],
   "source": [
    "# ロジスティック回帰モデルの訓練\n",
    "#model = LogisticRegression()\n",
    "# ランダムフォレストモデルの定義と訓練\n",
    "#model = RandomForestClassifier(n_estimators=100, random_state=42)\n",
    "# 勾配ブースティングモデルの定義と訓練\n",
    "model = GradientBoostingClassifier(n_estimators=100, random_state=42)\n",
    "\n",
    "model.fit(X_train, y_train)\n",
    "\n",
    "# 予測\n",
    "y_pred = model.predict(X_test)\n",
    "\n",
    "# モデルの評価\n",
    "accuracy = accuracy_score(y_test, y_pred)\n",
    "conf_matrix = confusion_matrix(y_test, y_pred)\n",
    "class_report = classification_report(y_test, y_pred)\n",
    "\n",
    "print(f'Accuracy: {accuracy}')\n",
    "print('Confusion Matrix:')\n",
    "print(conf_matrix)\n",
    "print('Classification Report:')\n",
    "print(class_report)"
   ]
  },
  {
   "cell_type": "code",
   "execution_count": null,
   "id": "d7232c5a-ab06-4782-982a-47ed579a9e77",
   "metadata": {},
   "outputs": [],
   "source": []
  }
 ],
 "metadata": {
  "kernelspec": {
   "display_name": "Python 3 (ipykernel)",
   "language": "python",
   "name": "python3"
  },
  "language_info": {
   "codemirror_mode": {
    "name": "ipython",
    "version": 3
   },
   "file_extension": ".py",
   "mimetype": "text/x-python",
   "name": "python",
   "nbconvert_exporter": "python",
   "pygments_lexer": "ipython3",
   "version": "3.10.6"
  }
 },
 "nbformat": 4,
 "nbformat_minor": 5
}
