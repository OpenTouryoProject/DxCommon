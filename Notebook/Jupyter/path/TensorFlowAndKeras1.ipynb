{
 "cells": [
  {
   "cell_type": "markdown",
   "id": "4fe59fb7-e68d-4e4b-8901-5902d5343ed8",
   "metadata": {},
   "source": [
    "# TensorFlow・Kerasのトレーニング♨\n",
    "\n",
    "## DNN 編\n",
    "\n",
    "## [目次](TableOfContents.ipynb)\n",
    "- [環境準備](#環境準備)\n",
    "  - [インポート](#インポート)\n",
    "  - [プロキシ設定](#プロキシ設定)\n",
    "  - [共通関数](#共通関数)\n",
    "- [DNNアルゴリズム・モデル](#)\n",
    "  - [DNNで重回帰分析](#DNNで重回帰分析)\n",
    "  - [DNNの２クラス分類器](#DNNの２クラス分類器)\n",
    "  - [DNNの多クラス分類器](#DNNの多クラス分類器)\n",
    "\n",
    "## 参考\n",
    "開発基盤部会 Wiki\n",
    "- データマイニング（DM）- Python - DL  \n",
    "https://dotnetdevelopmentinfrastructure.osscons.jp/index.php?%E3%83%87%E3%83%BC%E3%82%BF%E3%83%9E%E3%82%A4%E3%83%8B%E3%83%B3%E3%82%B0%EF%BC%88DM%EF%BC%89-%20Python%20-%20DL"
   ]
  },
  {
   "cell_type": "markdown",
   "id": "d48958bb-e085-40a2-a6e1-f00c80080d20",
   "metadata": {},
   "source": [
    "## [環境準備](TensorFlowAndKeras0.ipynb)"
   ]
  },
  {
   "cell_type": "markdown",
   "id": "0265e224-b982-424b-9dc0-3bb7c21fd4cf",
   "metadata": {},
   "source": [
    "### インポート"
   ]
  },
  {
   "cell_type": "code",
   "execution_count": null,
   "id": "b99bd442-2c0f-4337-901e-c3a2c51fb899",
   "metadata": {},
   "outputs": [],
   "source": [
    "import io\n",
    "import requests\n",
    "\n",
    "import pandas as pd\n",
    "import numpy as np\n",
    "import matplotlib.pyplot as plt\n",
    "import seaborn as sns\n",
    "\n",
    "from sklearn import datasets\n",
    "from sklearn import metrics\n",
    "from sklearn.preprocessing import StandardScaler\n",
    "from sklearn.model_selection import train_test_split\n",
    "from sklearn.metrics import confusion_matrix\n",
    "\n",
    "import tensorflow as tf\n",
    "from tensorflow.keras.layers import BatchNormalization\n",
    "print(tf.__version__)\n",
    "\n",
    "import keras\n",
    "print(keras.__version__)\n",
    "# モデル定義\n",
    "from keras.models import Model, Sequential, model_from_json, load_model\n",
    "from keras.layers import Dense, Input, Activation, Flatten, Dropout, LSTM\n",
    "from keras.layers import Conv2D, MaxPool2D\n",
    "from keras.callbacks import EarlyStopping, ModelCheckpoint\n",
    "from keras import optimizers\n",
    "from keras.optimizers import SGD, Adam\n",
    "# その他\n",
    "from keras.applications.vgg16 import VGG16\n",
    "from tensorflow.keras.utils import to_categorical\n",
    "\n",
    "import warnings\n",
    "warnings.filterwarnings('ignore')\n",
    "%matplotlib inline"
   ]
  },
  {
   "cell_type": "markdown",
   "id": "77b188ed-5a78-4557-b5db-9ec7567def7a",
   "metadata": {},
   "source": [
    "### プロキシ設定"
   ]
  },
  {
   "cell_type": "code",
   "execution_count": 2,
   "id": "b284c5a3-0b13-49e4-b4c9-c5ab799d35ee",
   "metadata": {},
   "outputs": [],
   "source": [
    "import os\n",
    "proxies = {\n",
    "    \"http\": os.getenv(\"HTTP_PROXY\"),\n",
    "    \"https\": os.getenv(\"HTTPS_PROXY\")\n",
    "}"
   ]
  },
  {
   "cell_type": "markdown",
   "id": "5154deef-335c-433b-8087-e4bebf39148d",
   "metadata": {},
   "source": [
    "### 共通関数"
   ]
  },
  {
   "cell_type": "markdown",
   "id": "ab1fe1fd-bba6-4e96-8dfd-0a7fc7b5a7fe",
   "metadata": {},
   "source": [
    "#### [分類問題のメトリック表示関数](ScikitLearnTraining5.ipynb)"
   ]
  },
  {
   "cell_type": "code",
   "execution_count": 3,
   "id": "2c9fc520-9f87-4c92-8da3-7c388cfa668a",
   "metadata": {},
   "outputs": [],
   "source": [
    "def print_metrics(label, pred):\n",
    "    print('accuracy: %.3f' % metrics.accuracy_score(label, pred)) # 正答率\n",
    "    \n",
    "    print('\\nmicro') # ミクロ平均\n",
    "    print('recall: %.3f' % metrics.recall_score(label, pred, average='micro')) # 再現率\n",
    "    print('precision: %.3f' % metrics.precision_score(label, pred, average='micro')) # 適合率\n",
    "    print('f1_score: %.3f' % metrics.f1_score(label, pred, average='micro')) # f値\n",
    "    \n",
    "    print('\\nmacro') # マクロ平均\n",
    "    print('recall: %.3f' % metrics.recall_score(label, pred, average='macro')) # 再現率\n",
    "    print('precision: %.3f' % metrics.precision_score(label, pred, average='macro')) # 適合率\n",
    "    print('f1_score: %.3f' % metrics.f1_score(label, pred, average='macro')) # f値"
   ]
  },
  {
   "cell_type": "markdown",
   "id": "359b7fd5-261b-4d22-8eba-89bee315d317",
   "metadata": {},
   "source": [
    "#### 学習履歴表示関数"
   ]
  },
  {
   "cell_type": "markdown",
   "id": "12e46ed8-1f53-45a8-b040-ee0eca37909a",
   "metadata": {},
   "source": [
    "##### 損失"
   ]
  },
  {
   "cell_type": "code",
   "execution_count": 4,
   "id": "6304c1ab-dcaf-407f-89a6-af50b3ebf0ee",
   "metadata": {},
   "outputs": [],
   "source": [
    "def plot_history_loss(hist):\n",
    "    plt.plot(hist.history['loss'],label=\"loss for training\")\n",
    "    plt.plot(hist.history['val_loss'],label=\"loss for validation\")\n",
    "    plt.title('model loss')\n",
    "    plt.xlabel('epoch')\n",
    "    plt.ylabel('loss')\n",
    "    plt.legend(loc='best')\n",
    "    plt.show()"
   ]
  },
  {
   "cell_type": "markdown",
   "id": "5226182c-e0cc-4384-81e2-72376596cd51",
   "metadata": {},
   "source": [
    "###### 平均絶対値誤差"
   ]
  },
  {
   "cell_type": "code",
   "execution_count": 5,
   "id": "5cb85a9e-27f7-49bc-88e2-2c7fcaf474e9",
   "metadata": {},
   "outputs": [],
   "source": [
    "def plot_history_mae(hist):\n",
    "    plt.plot(hist.history['mae'],label=\"mae for training\")\n",
    "    plt.plot(hist.history['val_mae'],label=\"mae for validation\")\n",
    "    plt.title('model mae')\n",
    "    plt.xlabel('epoch')\n",
    "    plt.ylabel('mae')\n",
    "    plt.legend(loc='best')\n",
    "    plt.show()"
   ]
  },
  {
   "cell_type": "markdown",
   "id": "20a4c328-196f-4ee7-8858-45afab776eb0",
   "metadata": {},
   "source": [
    "##### 正解率"
   ]
  },
  {
   "cell_type": "code",
   "execution_count": 6,
   "id": "f43d7343-488a-41d2-8c42-ed1670b72b62",
   "metadata": {},
   "outputs": [],
   "source": [
    "def plot_history_acc(hist):\n",
    "    plt.plot(hist.history['accuracy'],label=\"accuracy for training\")\n",
    "    plt.plot(hist.history['val_accuracy'],label=\"accuracy for validation\")\n",
    "    plt.title('model accuracy')\n",
    "    plt.xlabel('epoch')\n",
    "    plt.ylabel('accuracy')\n",
    "    plt.legend(loc='best')\n",
    "    plt.show()"
   ]
  },
  {
   "cell_type": "markdown",
   "id": "4a451dd7-972e-47a4-a769-d47e091b4711",
   "metadata": {},
   "source": [
    "## DNNアルゴリズム・モデル"
   ]
  },
  {
   "cell_type": "markdown",
   "id": "c775cd90-737a-4418-bc13-c9f74038d262",
   "metadata": {},
   "source": [
    "### DNNで重回帰分析"
   ]
  },
  {
   "cell_type": "markdown",
   "id": "669d9768-cf88-429f-8b6a-99314e644645",
   "metadata": {},
   "source": [
    "#### データ"
   ]
  },
  {
   "cell_type": "markdown",
   "id": "a61d5f83-cea4-4ffc-b9b9-1779e88a5d82",
   "metadata": {
    "tags": []
   },
   "source": [
    "##### 生成\n",
    "[重回帰分析](ScikitLearnTraining1.ipynb)で使用したデータを使用。"
   ]
  },
  {
   "cell_type": "code",
   "execution_count": 7,
   "id": "2fe8025a-2a3a-4633-bfdc-c7d480ca3a18",
   "metadata": {},
   "outputs": [
    {
     "data": {
      "text/html": [
       "<div>\n",
       "<style scoped>\n",
       "    .dataframe tbody tr th:only-of-type {\n",
       "        vertical-align: middle;\n",
       "    }\n",
       "\n",
       "    .dataframe tbody tr th {\n",
       "        vertical-align: top;\n",
       "    }\n",
       "\n",
       "    .dataframe thead th {\n",
       "        text-align: right;\n",
       "    }\n",
       "</style>\n",
       "<table border=\"1\" class=\"dataframe\">\n",
       "  <thead>\n",
       "    <tr style=\"text-align: right;\">\n",
       "      <th></th>\n",
       "      <th>Unnamed: 0</th>\n",
       "      <th>crim</th>\n",
       "      <th>zn</th>\n",
       "      <th>indus</th>\n",
       "      <th>chas</th>\n",
       "      <th>nox</th>\n",
       "      <th>rm</th>\n",
       "      <th>age</th>\n",
       "      <th>dis</th>\n",
       "      <th>rad</th>\n",
       "      <th>tax</th>\n",
       "      <th>ptratio</th>\n",
       "      <th>black</th>\n",
       "      <th>lstat</th>\n",
       "      <th>medv</th>\n",
       "    </tr>\n",
       "  </thead>\n",
       "  <tbody>\n",
       "    <tr>\n",
       "      <th>0</th>\n",
       "      <td>1</td>\n",
       "      <td>0.00632</td>\n",
       "      <td>18.0</td>\n",
       "      <td>2.31</td>\n",
       "      <td>0</td>\n",
       "      <td>0.538</td>\n",
       "      <td>6.575</td>\n",
       "      <td>65.2</td>\n",
       "      <td>4.0900</td>\n",
       "      <td>1</td>\n",
       "      <td>296</td>\n",
       "      <td>15.3</td>\n",
       "      <td>396.90</td>\n",
       "      <td>4.98</td>\n",
       "      <td>24.0</td>\n",
       "    </tr>\n",
       "    <tr>\n",
       "      <th>1</th>\n",
       "      <td>2</td>\n",
       "      <td>0.02731</td>\n",
       "      <td>0.0</td>\n",
       "      <td>7.07</td>\n",
       "      <td>0</td>\n",
       "      <td>0.469</td>\n",
       "      <td>6.421</td>\n",
       "      <td>78.9</td>\n",
       "      <td>4.9671</td>\n",
       "      <td>2</td>\n",
       "      <td>242</td>\n",
       "      <td>17.8</td>\n",
       "      <td>396.90</td>\n",
       "      <td>9.14</td>\n",
       "      <td>21.6</td>\n",
       "    </tr>\n",
       "    <tr>\n",
       "      <th>2</th>\n",
       "      <td>3</td>\n",
       "      <td>0.02729</td>\n",
       "      <td>0.0</td>\n",
       "      <td>7.07</td>\n",
       "      <td>0</td>\n",
       "      <td>0.469</td>\n",
       "      <td>7.185</td>\n",
       "      <td>61.1</td>\n",
       "      <td>4.9671</td>\n",
       "      <td>2</td>\n",
       "      <td>242</td>\n",
       "      <td>17.8</td>\n",
       "      <td>392.83</td>\n",
       "      <td>4.03</td>\n",
       "      <td>34.7</td>\n",
       "    </tr>\n",
       "    <tr>\n",
       "      <th>3</th>\n",
       "      <td>4</td>\n",
       "      <td>0.03237</td>\n",
       "      <td>0.0</td>\n",
       "      <td>2.18</td>\n",
       "      <td>0</td>\n",
       "      <td>0.458</td>\n",
       "      <td>6.998</td>\n",
       "      <td>45.8</td>\n",
       "      <td>6.0622</td>\n",
       "      <td>3</td>\n",
       "      <td>222</td>\n",
       "      <td>18.7</td>\n",
       "      <td>394.63</td>\n",
       "      <td>2.94</td>\n",
       "      <td>33.4</td>\n",
       "    </tr>\n",
       "    <tr>\n",
       "      <th>4</th>\n",
       "      <td>5</td>\n",
       "      <td>0.06905</td>\n",
       "      <td>0.0</td>\n",
       "      <td>2.18</td>\n",
       "      <td>0</td>\n",
       "      <td>0.458</td>\n",
       "      <td>7.147</td>\n",
       "      <td>54.2</td>\n",
       "      <td>6.0622</td>\n",
       "      <td>3</td>\n",
       "      <td>222</td>\n",
       "      <td>18.7</td>\n",
       "      <td>396.90</td>\n",
       "      <td>5.33</td>\n",
       "      <td>36.2</td>\n",
       "    </tr>\n",
       "    <tr>\n",
       "      <th>...</th>\n",
       "      <td>...</td>\n",
       "      <td>...</td>\n",
       "      <td>...</td>\n",
       "      <td>...</td>\n",
       "      <td>...</td>\n",
       "      <td>...</td>\n",
       "      <td>...</td>\n",
       "      <td>...</td>\n",
       "      <td>...</td>\n",
       "      <td>...</td>\n",
       "      <td>...</td>\n",
       "      <td>...</td>\n",
       "      <td>...</td>\n",
       "      <td>...</td>\n",
       "      <td>...</td>\n",
       "    </tr>\n",
       "    <tr>\n",
       "      <th>501</th>\n",
       "      <td>502</td>\n",
       "      <td>0.06263</td>\n",
       "      <td>0.0</td>\n",
       "      <td>11.93</td>\n",
       "      <td>0</td>\n",
       "      <td>0.573</td>\n",
       "      <td>6.593</td>\n",
       "      <td>69.1</td>\n",
       "      <td>2.4786</td>\n",
       "      <td>1</td>\n",
       "      <td>273</td>\n",
       "      <td>21.0</td>\n",
       "      <td>391.99</td>\n",
       "      <td>9.67</td>\n",
       "      <td>22.4</td>\n",
       "    </tr>\n",
       "    <tr>\n",
       "      <th>502</th>\n",
       "      <td>503</td>\n",
       "      <td>0.04527</td>\n",
       "      <td>0.0</td>\n",
       "      <td>11.93</td>\n",
       "      <td>0</td>\n",
       "      <td>0.573</td>\n",
       "      <td>6.120</td>\n",
       "      <td>76.7</td>\n",
       "      <td>2.2875</td>\n",
       "      <td>1</td>\n",
       "      <td>273</td>\n",
       "      <td>21.0</td>\n",
       "      <td>396.90</td>\n",
       "      <td>9.08</td>\n",
       "      <td>20.6</td>\n",
       "    </tr>\n",
       "    <tr>\n",
       "      <th>503</th>\n",
       "      <td>504</td>\n",
       "      <td>0.06076</td>\n",
       "      <td>0.0</td>\n",
       "      <td>11.93</td>\n",
       "      <td>0</td>\n",
       "      <td>0.573</td>\n",
       "      <td>6.976</td>\n",
       "      <td>91.0</td>\n",
       "      <td>2.1675</td>\n",
       "      <td>1</td>\n",
       "      <td>273</td>\n",
       "      <td>21.0</td>\n",
       "      <td>396.90</td>\n",
       "      <td>5.64</td>\n",
       "      <td>23.9</td>\n",
       "    </tr>\n",
       "    <tr>\n",
       "      <th>504</th>\n",
       "      <td>505</td>\n",
       "      <td>0.10959</td>\n",
       "      <td>0.0</td>\n",
       "      <td>11.93</td>\n",
       "      <td>0</td>\n",
       "      <td>0.573</td>\n",
       "      <td>6.794</td>\n",
       "      <td>89.3</td>\n",
       "      <td>2.3889</td>\n",
       "      <td>1</td>\n",
       "      <td>273</td>\n",
       "      <td>21.0</td>\n",
       "      <td>393.45</td>\n",
       "      <td>6.48</td>\n",
       "      <td>22.0</td>\n",
       "    </tr>\n",
       "    <tr>\n",
       "      <th>505</th>\n",
       "      <td>506</td>\n",
       "      <td>0.04741</td>\n",
       "      <td>0.0</td>\n",
       "      <td>11.93</td>\n",
       "      <td>0</td>\n",
       "      <td>0.573</td>\n",
       "      <td>6.030</td>\n",
       "      <td>80.8</td>\n",
       "      <td>2.5050</td>\n",
       "      <td>1</td>\n",
       "      <td>273</td>\n",
       "      <td>21.0</td>\n",
       "      <td>396.90</td>\n",
       "      <td>7.88</td>\n",
       "      <td>11.9</td>\n",
       "    </tr>\n",
       "  </tbody>\n",
       "</table>\n",
       "<p>506 rows × 15 columns</p>\n",
       "</div>"
      ],
      "text/plain": [
       "     Unnamed: 0     crim    zn  indus  chas    nox     rm   age     dis  rad  \\\n",
       "0             1  0.00632  18.0   2.31     0  0.538  6.575  65.2  4.0900    1   \n",
       "1             2  0.02731   0.0   7.07     0  0.469  6.421  78.9  4.9671    2   \n",
       "2             3  0.02729   0.0   7.07     0  0.469  7.185  61.1  4.9671    2   \n",
       "3             4  0.03237   0.0   2.18     0  0.458  6.998  45.8  6.0622    3   \n",
       "4             5  0.06905   0.0   2.18     0  0.458  7.147  54.2  6.0622    3   \n",
       "..          ...      ...   ...    ...   ...    ...    ...   ...     ...  ...   \n",
       "501         502  0.06263   0.0  11.93     0  0.573  6.593  69.1  2.4786    1   \n",
       "502         503  0.04527   0.0  11.93     0  0.573  6.120  76.7  2.2875    1   \n",
       "503         504  0.06076   0.0  11.93     0  0.573  6.976  91.0  2.1675    1   \n",
       "504         505  0.10959   0.0  11.93     0  0.573  6.794  89.3  2.3889    1   \n",
       "505         506  0.04741   0.0  11.93     0  0.573  6.030  80.8  2.5050    1   \n",
       "\n",
       "     tax  ptratio   black  lstat  medv  \n",
       "0    296     15.3  396.90   4.98  24.0  \n",
       "1    242     17.8  396.90   9.14  21.6  \n",
       "2    242     17.8  392.83   4.03  34.7  \n",
       "3    222     18.7  394.63   2.94  33.4  \n",
       "4    222     18.7  396.90   5.33  36.2  \n",
       "..   ...      ...     ...    ...   ...  \n",
       "501  273     21.0  391.99   9.67  22.4  \n",
       "502  273     21.0  396.90   9.08  20.6  \n",
       "503  273     21.0  396.90   5.64  23.9  \n",
       "504  273     21.0  393.45   6.48  22.0  \n",
       "505  273     21.0  396.90   7.88  11.9  \n",
       "\n",
       "[506 rows x 15 columns]"
      ]
     },
     "execution_count": 7,
     "metadata": {},
     "output_type": "execute_result"
    }
   ],
   "source": [
    "url = 'https://dotnetdevelopmentinfrastructure.osscons.jp/index.php?plugin=attach&pcmd=open&file=Boston.csv&refer=FrontPage'\n",
    "res = requests.get(url) # , verify=False, proxies=proxies) # プロキシ\n",
    "df = pd.read_csv(io.BytesIO(res.content), encoding='utf-8', sep=\",\")\n",
    "df"
   ]
  },
  {
   "cell_type": "markdown",
   "id": "66852eb4-8662-4519-af44-646ea2b7343e",
   "metadata": {},
   "source": [
    "##### 加工"
   ]
  },
  {
   "cell_type": "code",
   "execution_count": 8,
   "id": "917f6315-0216-4a11-8ab7-01f1e00bdd83",
   "metadata": {},
   "outputs": [],
   "source": [
    "df=df.drop('Unnamed: 0',axis=1)"
   ]
  },
  {
   "cell_type": "markdown",
   "id": "c26b6f13-4bd0-4fb3-92fa-362d6b0e6d93",
   "metadata": {
    "tags": []
   },
   "source": [
    "##### 理解\n",
    "..."
   ]
  },
  {
   "cell_type": "markdown",
   "id": "d1e5ec54-1fb6-4ce5-b8c4-c1f4efaf3217",
   "metadata": {},
   "source": [
    "##### 準備"
   ]
  },
  {
   "cell_type": "markdown",
   "id": "b5ccccb1-79cb-42da-b58d-a58b987498e7",
   "metadata": {},
   "source": [
    "###### 説明変数・目的変数の選択・分割"
   ]
  },
  {
   "cell_type": "code",
   "execution_count": 9,
   "id": "3824fefd-e710-49c9-951f-231bf45446aa",
   "metadata": {},
   "outputs": [],
   "source": [
    "x_org = np.array(df.drop(['medv'], axis=1))\n",
    "y_org = np.array(df.loc[:, ['medv']])"
   ]
  },
  {
   "cell_type": "markdown",
   "id": "ee13eb58-bd8b-43a0-80b0-67c279e497cf",
   "metadata": {},
   "source": [
    "###### 正規化\n",
    "axis=0で列単位（変数単位）。"
   ]
  },
  {
   "cell_type": "code",
   "execution_count": 10,
   "id": "c11d627c-fd0b-4dc9-9172-5e683214264d",
   "metadata": {},
   "outputs": [],
   "source": [
    "mean = x_org.mean(axis=0)\n",
    "std = x_org.std(axis=0)\n",
    "x = (x_org - mean) / std"
   ]
  },
  {
   "cell_type": "markdown",
   "id": "76229694-ad2f-4229-9b6e-6b2cf7851816",
   "metadata": {},
   "source": [
    "###### 学習・テストデータの分割（ホールド・アウト法"
   ]
  },
  {
   "cell_type": "code",
   "execution_count": 11,
   "id": "77d5f2a5-c0e1-4552-811b-3647c8c3fda4",
   "metadata": {},
   "outputs": [],
   "source": [
    "x_train, x_test, y_train, y_test = train_test_split(x, y_org, test_size = 0.3, random_state = 0)"
   ]
  },
  {
   "cell_type": "markdown",
   "id": "a1ece046-63e1-436b-9176-7414919083e3",
   "metadata": {},
   "source": [
    "#### モデリング"
   ]
  },
  {
   "cell_type": "markdown",
   "id": "3bbdae32-34b8-42a9-94ef-e18f8bb9f3d7",
   "metadata": {},
   "source": [
    "##### DNNの定義\n",
    "- 入力層  \n",
    "入力ベクトルの要素数だけ。\n",
    "- 隠れ層が\n",
    "  - 2つ\n",
    "  - 64ノードづつ\n",
    "  - 活性化関数はrelu\n",
    "- 出力層  \n",
    "回帰なので活性化関数は恒等関数 ≒ 無し"
   ]
  },
  {
   "cell_type": "code",
   "execution_count": null,
   "id": "e7aa4a5c-bde8-45e9-9492-863b39ba2208",
   "metadata": {},
   "outputs": [],
   "source": [
    "model = keras.Sequential([\n",
    "    keras.layers.Dense(64, activation=tf.nn.relu,\n",
    "                       input_shape=(x_train.shape[1],)),\n",
    "    keras.layers.Dense(64, activation=tf.nn.relu),\n",
    "    keras.layers.Dense(1)\n",
    "])"
   ]
  },
  {
   "cell_type": "markdown",
   "id": "52efc04f-ed10-4b68-9412-3aeb74504653",
   "metadata": {},
   "source": [
    "##### コンパイル\n",
    "- 回帰の損失関数は誤差二乗和（mse ≒ mean_squared_error）\n",
    "- [optimizer=Adam](TensorFlowAndKeras0.ipynb)を指定する。\n",
    "- metricsは平均絶対誤差（mae ≒ mean_absolute_error）"
   ]
  },
  {
   "cell_type": "code",
   "execution_count": 13,
   "id": "180643ad-24f1-4068-93d0-c6bd4dbcd7e9",
   "metadata": {},
   "outputs": [],
   "source": [
    "model.compile(loss='mse', optimizer=Adam(), metrics=['mae'])"
   ]
  },
  {
   "cell_type": "markdown",
   "id": "99970e92-2ff6-44ed-9cae-ef58caeb18dc",
   "metadata": {},
   "source": [
    "##### 確認"
   ]
  },
  {
   "cell_type": "code",
   "execution_count": 14,
   "id": "1b54f732-4c05-41b3-a0ab-5ecbf31b8ce3",
   "metadata": {},
   "outputs": [
    {
     "data": {
      "text/html": [
       "<pre style=\"white-space:pre;overflow-x:auto;line-height:normal;font-family:Menlo,'DejaVu Sans Mono',consolas,'Courier New',monospace\"><span style=\"font-weight: bold\">Model: \"sequential\"</span>\n",
       "</pre>\n"
      ],
      "text/plain": [
       "\u001b[1mModel: \"sequential\"\u001b[0m\n"
      ]
     },
     "metadata": {},
     "output_type": "display_data"
    },
    {
     "data": {
      "text/html": [
       "<pre style=\"white-space:pre;overflow-x:auto;line-height:normal;font-family:Menlo,'DejaVu Sans Mono',consolas,'Courier New',monospace\">┏━━━━━━━━━━━━━━━━━━━━━━━━━━━━━━━━━┳━━━━━━━━━━━━━━━━━━━━━━━━┳━━━━━━━━━━━━━━━┓\n",
       "┃<span style=\"font-weight: bold\"> Layer (type)                    </span>┃<span style=\"font-weight: bold\"> Output Shape           </span>┃<span style=\"font-weight: bold\">       Param # </span>┃\n",
       "┡━━━━━━━━━━━━━━━━━━━━━━━━━━━━━━━━━╇━━━━━━━━━━━━━━━━━━━━━━━━╇━━━━━━━━━━━━━━━┩\n",
       "│ dense (<span style=\"color: #0087ff; text-decoration-color: #0087ff\">Dense</span>)                   │ (<span style=\"color: #00d7ff; text-decoration-color: #00d7ff\">None</span>, <span style=\"color: #00af00; text-decoration-color: #00af00\">64</span>)             │           <span style=\"color: #00af00; text-decoration-color: #00af00\">896</span> │\n",
       "├─────────────────────────────────┼────────────────────────┼───────────────┤\n",
       "│ dense_1 (<span style=\"color: #0087ff; text-decoration-color: #0087ff\">Dense</span>)                 │ (<span style=\"color: #00d7ff; text-decoration-color: #00d7ff\">None</span>, <span style=\"color: #00af00; text-decoration-color: #00af00\">64</span>)             │         <span style=\"color: #00af00; text-decoration-color: #00af00\">4,160</span> │\n",
       "├─────────────────────────────────┼────────────────────────┼───────────────┤\n",
       "│ dense_2 (<span style=\"color: #0087ff; text-decoration-color: #0087ff\">Dense</span>)                 │ (<span style=\"color: #00d7ff; text-decoration-color: #00d7ff\">None</span>, <span style=\"color: #00af00; text-decoration-color: #00af00\">1</span>)              │            <span style=\"color: #00af00; text-decoration-color: #00af00\">65</span> │\n",
       "└─────────────────────────────────┴────────────────────────┴───────────────┘\n",
       "</pre>\n"
      ],
      "text/plain": [
       "┏━━━━━━━━━━━━━━━━━━━━━━━━━━━━━━━━━┳━━━━━━━━━━━━━━━━━━━━━━━━┳━━━━━━━━━━━━━━━┓\n",
       "┃\u001b[1m \u001b[0m\u001b[1mLayer (type)                   \u001b[0m\u001b[1m \u001b[0m┃\u001b[1m \u001b[0m\u001b[1mOutput Shape          \u001b[0m\u001b[1m \u001b[0m┃\u001b[1m \u001b[0m\u001b[1m      Param #\u001b[0m\u001b[1m \u001b[0m┃\n",
       "┡━━━━━━━━━━━━━━━━━━━━━━━━━━━━━━━━━╇━━━━━━━━━━━━━━━━━━━━━━━━╇━━━━━━━━━━━━━━━┩\n",
       "│ dense (\u001b[38;5;33mDense\u001b[0m)                   │ (\u001b[38;5;45mNone\u001b[0m, \u001b[38;5;34m64\u001b[0m)             │           \u001b[38;5;34m896\u001b[0m │\n",
       "├─────────────────────────────────┼────────────────────────┼───────────────┤\n",
       "│ dense_1 (\u001b[38;5;33mDense\u001b[0m)                 │ (\u001b[38;5;45mNone\u001b[0m, \u001b[38;5;34m64\u001b[0m)             │         \u001b[38;5;34m4,160\u001b[0m │\n",
       "├─────────────────────────────────┼────────────────────────┼───────────────┤\n",
       "│ dense_2 (\u001b[38;5;33mDense\u001b[0m)                 │ (\u001b[38;5;45mNone\u001b[0m, \u001b[38;5;34m1\u001b[0m)              │            \u001b[38;5;34m65\u001b[0m │\n",
       "└─────────────────────────────────┴────────────────────────┴───────────────┘\n"
      ]
     },
     "metadata": {},
     "output_type": "display_data"
    },
    {
     "data": {
      "text/html": [
       "<pre style=\"white-space:pre;overflow-x:auto;line-height:normal;font-family:Menlo,'DejaVu Sans Mono',consolas,'Courier New',monospace\"><span style=\"font-weight: bold\"> Total params: </span><span style=\"color: #00af00; text-decoration-color: #00af00\">5,121</span> (20.00 KB)\n",
       "</pre>\n"
      ],
      "text/plain": [
       "\u001b[1m Total params: \u001b[0m\u001b[38;5;34m5,121\u001b[0m (20.00 KB)\n"
      ]
     },
     "metadata": {},
     "output_type": "display_data"
    },
    {
     "data": {
      "text/html": [
       "<pre style=\"white-space:pre;overflow-x:auto;line-height:normal;font-family:Menlo,'DejaVu Sans Mono',consolas,'Courier New',monospace\"><span style=\"font-weight: bold\"> Trainable params: </span><span style=\"color: #00af00; text-decoration-color: #00af00\">5,121</span> (20.00 KB)\n",
       "</pre>\n"
      ],
      "text/plain": [
       "\u001b[1m Trainable params: \u001b[0m\u001b[38;5;34m5,121\u001b[0m (20.00 KB)\n"
      ]
     },
     "metadata": {},
     "output_type": "display_data"
    },
    {
     "data": {
      "text/html": [
       "<pre style=\"white-space:pre;overflow-x:auto;line-height:normal;font-family:Menlo,'DejaVu Sans Mono',consolas,'Courier New',monospace\"><span style=\"font-weight: bold\"> Non-trainable params: </span><span style=\"color: #00af00; text-decoration-color: #00af00\">0</span> (0.00 B)\n",
       "</pre>\n"
      ],
      "text/plain": [
       "\u001b[1m Non-trainable params: \u001b[0m\u001b[38;5;34m0\u001b[0m (0.00 B)\n"
      ]
     },
     "metadata": {},
     "output_type": "display_data"
    }
   ],
   "source": [
    "model.summary()"
   ]
  },
  {
   "cell_type": "markdown",
   "id": "694a0340-4531-470d-aebe-daaca185c59a",
   "metadata": {},
   "source": [
    "##### 実行"
   ]
  },
  {
   "cell_type": "markdown",
   "id": "30955d3c-b882-4c8f-a719-1ed31c2233d5",
   "metadata": {},
   "source": [
    "###### 学習"
   ]
  },
  {
   "cell_type": "code",
   "execution_count": 15,
   "id": "8e8ffbed-5394-4042-8b60-a73b9ebc47e8",
   "metadata": {},
   "outputs": [],
   "source": [
    "batch_size = 20\n",
    "n_epoch = 200\n",
    "hist = model.fit(x_train, y_train,\n",
    "                 batch_size=batch_size,\n",
    "                 epochs=n_epoch,\n",
    "                 validation_data=(x_test, y_test),\n",
    "                 verbose=0)"
   ]
  },
  {
   "cell_type": "markdown",
   "id": "1e54ae78-207c-4cb2-b910-197b958c7f62",
   "metadata": {},
   "source": [
    "###### 推論"
   ]
  },
  {
   "cell_type": "code",
   "execution_count": 16,
   "id": "86d65b29-bf40-40a5-ac7c-2f8f953ba048",
   "metadata": {},
   "outputs": [
    {
     "name": "stdout",
     "output_type": "stream",
     "text": [
      "\u001b[1m16/16\u001b[0m \u001b[32m━━━━━━━━━━━━━━━━━━━━\u001b[0m\u001b[37m\u001b[0m \u001b[1m0s\u001b[0m 3ms/step \n"
     ]
    }
   ],
   "source": [
    "y_pred = model.predict(x)"
   ]
  },
  {
   "cell_type": "markdown",
   "id": "7debc7fe-f0d3-49b4-90b9-56aebb929dcc",
   "metadata": {},
   "source": [
    "##### 評価"
   ]
  },
  {
   "cell_type": "markdown",
   "id": "6524393b-21ad-477a-a271-ecc9405f1354",
   "metadata": {},
   "source": [
    "###### 実測・予測を表示"
   ]
  },
  {
   "cell_type": "code",
   "execution_count": 17,
   "id": "d24c658e-53f3-4dee-ade5-bbc9fc2890fb",
   "metadata": {},
   "outputs": [
    {
     "data": {
      "image/png": "[encoded data removed]",
      "text/plain": [
       "<Figure size 640x480 with 1 Axes>"
      ]
     },
     "metadata": {},
     "output_type": "display_data"
    }
   ],
   "source": [
    "plt.plot(y_org, color='blue') # 実測値\n",
    "plt.plot(y_pred, color='red') # 予測値\n",
    "plt.show()"
   ]
  },
  {
   "cell_type": "markdown",
   "id": "9b6e90e3-84cf-4ade-b75e-deecacce5efe",
   "metadata": {},
   "source": [
    "###### [スコアを表示](https://dotnetdevelopmentinfrastructure.osscons.jp/index.php?%E3%83%87%E3%83%BC%E3%82%BF%E3%83%9E%E3%82%A4%E3%83%8B%E3%83%B3%E3%82%B0%EF%BC%88DM%EF%BC%89-%20CRISP-DM#uf759972)\n",
    "- 平均絶対誤差（MAE：Mean Absolute Error）\n",
    "- 平均二乗誤差（MSE：Mean Squared Error）"
   ]
  },
  {
   "cell_type": "code",
   "execution_count": 18,
   "id": "4b2c50e3-b96e-46d9-8697-586fa2acd1c1",
   "metadata": {},
   "outputs": [
    {
     "name": "stdout",
     "output_type": "stream",
     "text": [
      "\u001b[1m12/12\u001b[0m \u001b[32m━━━━━━━━━━━━━━━━━━━━\u001b[0m\u001b[37m\u001b[0m \u001b[1m0s\u001b[0m 2ms/step \n",
      "\u001b[1m5/5\u001b[0m \u001b[32m━━━━━━━━━━━━━━━━━━━━\u001b[0m\u001b[37m\u001b[0m \u001b[1m0s\u001b[0m 2ms/step \n",
      "train_mse: 2.076\n",
      "test_mse: 13.855\n",
      "train_rmse: 1.441\n",
      "test_rmse : 3.722\n"
     ]
    }
   ],
   "source": [
    "# sklearnで\n",
    "from sklearn.metrics import mean_squared_error as mse\n",
    "\n",
    "train_mse = mse(y_train, model.predict(x_train))\n",
    "test_mse = mse(y_test, model.predict(x_test))\n",
    "\n",
    "print('train_mse: %.3f' % train_mse)\n",
    "print('test_mse: %.3f' % test_mse)\n",
    "print('train_rmse: %.3f' % (train_mse ** (1/2)))\n",
    "print('test_rmse : %.3f' % (test_mse ** (1/2)))"
   ]
  },
  {
   "cell_type": "code",
   "execution_count": 19,
   "id": "4b536ff5-4398-4009-bd63-4a641710763d",
   "metadata": {},
   "outputs": [
    {
     "name": "stdout",
     "output_type": "stream",
     "text": [
      "['loss', 'compile_metrics']\n"
     ]
    }
   ],
   "source": [
    "# metricsで\n",
    "print(model.metrics_names)"
   ]
  },
  {
   "cell_type": "code",
   "execution_count": 20,
   "id": "dffc11f4-aab3-4a70-a57c-edc26482f8ea",
   "metadata": {},
   "outputs": [
    {
     "name": "stdout",
     "output_type": "stream",
     "text": [
      "mse: 5.614453315734863\n",
      "mae: 1.5216540098190308\n",
      "rmae: 2.3694837656618084\n"
     ]
    }
   ],
   "source": [
    "score = model.evaluate(x, y_org, verbose=0)\n",
    "print('mse:', score[0])\n",
    "print('mae:', score[1])\n",
    "print('rmae:', (score[0] ** (1/2)))"
   ]
  },
  {
   "cell_type": "code",
   "execution_count": 21,
   "id": "f69b5ad6-150b-4962-9f24-c8ff2b9f4741",
   "metadata": {},
   "outputs": [
    {
     "name": "stdout",
     "output_type": "stream",
     "text": [
      "Train mse: 2.076319694519043\n",
      "Train mae: 1.0529730319976807\n",
      "Train rmae: 1.4409440289334776\n"
     ]
    }
   ],
   "source": [
    "train_score = model.evaluate(x_train, y_train, verbose=0)\n",
    "print('Train mse:', train_score[0])\n",
    "print('Train mae:', train_score[1])\n",
    "print('Train rmae:', (train_score[0] ** (1/2)))"
   ]
  },
  {
   "cell_type": "code",
   "execution_count": 22,
   "id": "a47920b9-518c-4515-a198-b38f0b69d123",
   "metadata": {},
   "outputs": [
    {
     "name": "stdout",
     "output_type": "stream",
     "text": [
      "Test mse: 13.854580879211426\n",
      "Test mae: 2.6131865978240967\n",
      "Test rmae: 3.7221742139791663\n"
     ]
    }
   ],
   "source": [
    "test_score = model.evaluate(x_test, y_test, verbose=0)\n",
    "print('Test mse:', test_score[0])\n",
    "print('Test mae:', test_score[1])\n",
    "print('Test rmae:', (test_score[0] ** (1/2)))"
   ]
  },
  {
   "cell_type": "markdown",
   "id": "4f7ef472-1406-459c-ae4e-f1ebcb9bfeb2",
   "metadata": {},
   "source": [
    "###### 学習履歴を表示"
   ]
  },
  {
   "cell_type": "code",
   "execution_count": 23,
   "id": "c2884f12-99c8-439c-805f-4134fce42893",
   "metadata": {},
   "outputs": [
    {
     "data": {
      "image/png": "[encoded data removed]",
      "text/plain": [
       "<Figure size 640x480 with 1 Axes>"
      ]
     },
     "metadata": {},
     "output_type": "display_data"
    }
   ],
   "source": [
    "plot_history_loss(hist)"
   ]
  },
  {
   "cell_type": "code",
   "execution_count": 24,
   "id": "707d2063-ed4a-491a-bb3c-0819630c01ce",
   "metadata": {},
   "outputs": [
    {
     "data": {
      "image/png": "[encoded data removed]",
      "text/plain": [
       "<Figure size 640x480 with 1 Axes>"
      ]
     },
     "metadata": {},
     "output_type": "display_data"
    }
   ],
   "source": [
    "plot_history_mae(hist)"
   ]
  },
  {
   "cell_type": "markdown",
   "id": "30a3f0c5-23f8-48a8-a1cb-35772a7ca87d",
   "metadata": {},
   "source": [
    "### DNNの２クラス分類器"
   ]
  },
  {
   "cell_type": "markdown",
   "id": "b5747866-92df-4da0-88e8-5bb13040f462",
   "metadata": {},
   "source": [
    "#### データ"
   ]
  },
  {
   "cell_type": "markdown",
   "id": "66d7acb4-5db9-4c5c-b3ff-74d2afba5fea",
   "metadata": {},
   "source": [
    "##### 生成"
   ]
  },
  {
   "cell_type": "markdown",
   "id": "3f68b838-6934-456e-bf27-835fc4018f46",
   "metadata": {},
   "source": [
    "###### ダウンロードしてDFに読込"
   ]
  },
  {
   "cell_type": "code",
   "execution_count": 25,
   "id": "848e63ab-cefe-4a07-9f15-7b4309a10ea1",
   "metadata": {},
   "outputs": [
    {
     "data": {
      "text/html": [
       "<div>\n",
       "<style scoped>\n",
       "    .dataframe tbody tr th:only-of-type {\n",
       "        vertical-align: middle;\n",
       "    }\n",
       "\n",
       "    .dataframe tbody tr th {\n",
       "        vertical-align: top;\n",
       "    }\n",
       "\n",
       "    .dataframe thead th {\n",
       "        text-align: right;\n",
       "    }\n",
       "</style>\n",
       "<table border=\"1\" class=\"dataframe\">\n",
       "  <thead>\n",
       "    <tr style=\"text-align: right;\">\n",
       "      <th></th>\n",
       "      <th>Pregnancies</th>\n",
       "      <th>Glucose</th>\n",
       "      <th>BloodPressure</th>\n",
       "      <th>SkinThickness</th>\n",
       "      <th>Insulin</th>\n",
       "      <th>BMI</th>\n",
       "      <th>DiabetesPedigreeFunction</th>\n",
       "      <th>Age</th>\n",
       "      <th>Outcome</th>\n",
       "    </tr>\n",
       "  </thead>\n",
       "  <tbody>\n",
       "    <tr>\n",
       "      <th>0</th>\n",
       "      <td>6</td>\n",
       "      <td>148</td>\n",
       "      <td>72</td>\n",
       "      <td>35</td>\n",
       "      <td>0</td>\n",
       "      <td>33.6</td>\n",
       "      <td>0.627</td>\n",
       "      <td>50</td>\n",
       "      <td>1</td>\n",
       "    </tr>\n",
       "    <tr>\n",
       "      <th>1</th>\n",
       "      <td>1</td>\n",
       "      <td>85</td>\n",
       "      <td>66</td>\n",
       "      <td>29</td>\n",
       "      <td>0</td>\n",
       "      <td>26.6</td>\n",
       "      <td>0.351</td>\n",
       "      <td>31</td>\n",
       "      <td>0</td>\n",
       "    </tr>\n",
       "    <tr>\n",
       "      <th>2</th>\n",
       "      <td>8</td>\n",
       "      <td>183</td>\n",
       "      <td>64</td>\n",
       "      <td>0</td>\n",
       "      <td>0</td>\n",
       "      <td>23.3</td>\n",
       "      <td>0.672</td>\n",
       "      <td>32</td>\n",
       "      <td>1</td>\n",
       "    </tr>\n",
       "    <tr>\n",
       "      <th>3</th>\n",
       "      <td>1</td>\n",
       "      <td>89</td>\n",
       "      <td>66</td>\n",
       "      <td>23</td>\n",
       "      <td>94</td>\n",
       "      <td>28.1</td>\n",
       "      <td>0.167</td>\n",
       "      <td>21</td>\n",
       "      <td>0</td>\n",
       "    </tr>\n",
       "    <tr>\n",
       "      <th>4</th>\n",
       "      <td>0</td>\n",
       "      <td>137</td>\n",
       "      <td>40</td>\n",
       "      <td>35</td>\n",
       "      <td>168</td>\n",
       "      <td>43.1</td>\n",
       "      <td>2.288</td>\n",
       "      <td>33</td>\n",
       "      <td>1</td>\n",
       "    </tr>\n",
       "    <tr>\n",
       "      <th>...</th>\n",
       "      <td>...</td>\n",
       "      <td>...</td>\n",
       "      <td>...</td>\n",
       "      <td>...</td>\n",
       "      <td>...</td>\n",
       "      <td>...</td>\n",
       "      <td>...</td>\n",
       "      <td>...</td>\n",
       "      <td>...</td>\n",
       "    </tr>\n",
       "    <tr>\n",
       "      <th>763</th>\n",
       "      <td>10</td>\n",
       "      <td>101</td>\n",
       "      <td>76</td>\n",
       "      <td>48</td>\n",
       "      <td>180</td>\n",
       "      <td>32.9</td>\n",
       "      <td>0.171</td>\n",
       "      <td>63</td>\n",
       "      <td>0</td>\n",
       "    </tr>\n",
       "    <tr>\n",
       "      <th>764</th>\n",
       "      <td>2</td>\n",
       "      <td>122</td>\n",
       "      <td>70</td>\n",
       "      <td>27</td>\n",
       "      <td>0</td>\n",
       "      <td>36.8</td>\n",
       "      <td>0.340</td>\n",
       "      <td>27</td>\n",
       "      <td>0</td>\n",
       "    </tr>\n",
       "    <tr>\n",
       "      <th>765</th>\n",
       "      <td>5</td>\n",
       "      <td>121</td>\n",
       "      <td>72</td>\n",
       "      <td>23</td>\n",
       "      <td>112</td>\n",
       "      <td>26.2</td>\n",
       "      <td>0.245</td>\n",
       "      <td>30</td>\n",
       "      <td>0</td>\n",
       "    </tr>\n",
       "    <tr>\n",
       "      <th>766</th>\n",
       "      <td>1</td>\n",
       "      <td>126</td>\n",
       "      <td>60</td>\n",
       "      <td>0</td>\n",
       "      <td>0</td>\n",
       "      <td>30.1</td>\n",
       "      <td>0.349</td>\n",
       "      <td>47</td>\n",
       "      <td>1</td>\n",
       "    </tr>\n",
       "    <tr>\n",
       "      <th>767</th>\n",
       "      <td>1</td>\n",
       "      <td>93</td>\n",
       "      <td>70</td>\n",
       "      <td>31</td>\n",
       "      <td>0</td>\n",
       "      <td>30.4</td>\n",
       "      <td>0.315</td>\n",
       "      <td>23</td>\n",
       "      <td>0</td>\n",
       "    </tr>\n",
       "  </tbody>\n",
       "</table>\n",
       "<p>768 rows × 9 columns</p>\n",
       "</div>"
      ],
      "text/plain": [
       "     Pregnancies  Glucose  BloodPressure  SkinThickness  Insulin   BMI  \\\n",
       "0              6      148             72             35        0  33.6   \n",
       "1              1       85             66             29        0  26.6   \n",
       "2              8      183             64              0        0  23.3   \n",
       "3              1       89             66             23       94  28.1   \n",
       "4              0      137             40             35      168  43.1   \n",
       "..           ...      ...            ...            ...      ...   ...   \n",
       "763           10      101             76             48      180  32.9   \n",
       "764            2      122             70             27        0  36.8   \n",
       "765            5      121             72             23      112  26.2   \n",
       "766            1      126             60              0        0  30.1   \n",
       "767            1       93             70             31        0  30.4   \n",
       "\n",
       "     DiabetesPedigreeFunction  Age  Outcome  \n",
       "0                       0.627   50        1  \n",
       "1                       0.351   31        0  \n",
       "2                       0.672   32        1  \n",
       "3                       0.167   21        0  \n",
       "4                       2.288   33        1  \n",
       "..                        ...  ...      ...  \n",
       "763                     0.171   63        0  \n",
       "764                     0.340   27        0  \n",
       "765                     0.245   30        0  \n",
       "766                     0.349   47        1  \n",
       "767                     0.315   23        0  \n",
       "\n",
       "[768 rows x 9 columns]"
      ]
     },
     "execution_count": 25,
     "metadata": {},
     "output_type": "execute_result"
    }
   ],
   "source": [
    "url = 'https://dotnetdevelopmentinfrastructure.osscons.jp/index.php?plugin=attach&pcmd=open&file=diabetes.csv&refer=FrontPage'\n",
    "res = requests.get(url) # , verify=False, proxies=proxies) # プロキシ\n",
    "df = pd.read_csv(io.BytesIO(res.content), encoding='utf-8', sep=\",\")\n",
    "df"
   ]
  },
  {
   "cell_type": "markdown",
   "id": "b9a68b41-3f44-451e-aa5f-35be9ffd2173",
   "metadata": {},
   "source": [
    "###### [説明を参照](https://dotnetdevelopmentinfrastructure.osscons.jp/index.php?%E3%83%87%E3%83%BC%E3%82%BF%E3%83%9E%E3%82%A4%E3%83%8B%E3%83%B3%E3%82%B0%EF%BC%88DM%EF%BC%89-%20DataSet#j443d0cb)"
   ]
  },
  {
   "cell_type": "code",
   "execution_count": 26,
   "id": "dd36b2d4-868e-4773-a510-faa7dff4e7af",
   "metadata": {},
   "outputs": [
    {
     "data": {
      "text/plain": [
       "Index(['Pregnancies', 'Glucose', 'BloodPressure', 'SkinThickness', 'Insulin',\n",
       "       'BMI', 'DiabetesPedigreeFunction', 'Age', 'Outcome'],\n",
       "      dtype='object')"
      ]
     },
     "execution_count": 26,
     "metadata": {},
     "output_type": "execute_result"
    }
   ],
   "source": [
    "df.columns"
   ]
  },
  {
   "cell_type": "markdown",
   "id": "a2fd419f-19ec-4510-952e-b177767ddb2d",
   "metadata": {},
   "source": [
    "##### 加工\n",
    "..."
   ]
  },
  {
   "cell_type": "markdown",
   "id": "b16938e6-bf23-4838-b6b4-bb51aa3214f6",
   "metadata": {},
   "source": [
    "##### 理解"
   ]
  },
  {
   "cell_type": "code",
   "execution_count": 27,
   "id": "ae0aa5c6-5a18-442a-bee9-55e276b3e96d",
   "metadata": {},
   "outputs": [
    {
     "data": {
      "text/html": [
       "<div>\n",
       "<style scoped>\n",
       "    .dataframe tbody tr th:only-of-type {\n",
       "        vertical-align: middle;\n",
       "    }\n",
       "\n",
       "    .dataframe tbody tr th {\n",
       "        vertical-align: top;\n",
       "    }\n",
       "\n",
       "    .dataframe thead th {\n",
       "        text-align: right;\n",
       "    }\n",
       "</style>\n",
       "<table border=\"1\" class=\"dataframe\">\n",
       "  <thead>\n",
       "    <tr style=\"text-align: right;\">\n",
       "      <th></th>\n",
       "      <th>Pregnancies</th>\n",
       "      <th>Glucose</th>\n",
       "      <th>BloodPressure</th>\n",
       "      <th>SkinThickness</th>\n",
       "      <th>Insulin</th>\n",
       "      <th>BMI</th>\n",
       "      <th>DiabetesPedigreeFunction</th>\n",
       "      <th>Age</th>\n",
       "      <th>Outcome</th>\n",
       "    </tr>\n",
       "  </thead>\n",
       "  <tbody>\n",
       "    <tr>\n",
       "      <th>count</th>\n",
       "      <td>768.000000</td>\n",
       "      <td>768.000000</td>\n",
       "      <td>768.000000</td>\n",
       "      <td>768.000000</td>\n",
       "      <td>768.000000</td>\n",
       "      <td>768.000000</td>\n",
       "      <td>768.000000</td>\n",
       "      <td>768.000000</td>\n",
       "      <td>768.000000</td>\n",
       "    </tr>\n",
       "    <tr>\n",
       "      <th>mean</th>\n",
       "      <td>3.845052</td>\n",
       "      <td>120.894531</td>\n",
       "      <td>69.105469</td>\n",
       "      <td>20.536458</td>\n",
       "      <td>79.799479</td>\n",
       "      <td>31.992578</td>\n",
       "      <td>0.471876</td>\n",
       "      <td>33.240885</td>\n",
       "      <td>0.348958</td>\n",
       "    </tr>\n",
       "    <tr>\n",
       "      <th>std</th>\n",
       "      <td>3.369578</td>\n",
       "      <td>31.972618</td>\n",
       "      <td>19.355807</td>\n",
       "      <td>15.952218</td>\n",
       "      <td>115.244002</td>\n",
       "      <td>7.884160</td>\n",
       "      <td>0.331329</td>\n",
       "      <td>11.760232</td>\n",
       "      <td>0.476951</td>\n",
       "    </tr>\n",
       "    <tr>\n",
       "      <th>min</th>\n",
       "      <td>0.000000</td>\n",
       "      <td>0.000000</td>\n",
       "      <td>0.000000</td>\n",
       "      <td>0.000000</td>\n",
       "      <td>0.000000</td>\n",
       "      <td>0.000000</td>\n",
       "      <td>0.078000</td>\n",
       "      <td>21.000000</td>\n",
       "      <td>0.000000</td>\n",
       "    </tr>\n",
       "    <tr>\n",
       "      <th>25%</th>\n",
       "      <td>1.000000</td>\n",
       "      <td>99.000000</td>\n",
       "      <td>62.000000</td>\n",
       "      <td>0.000000</td>\n",
       "      <td>0.000000</td>\n",
       "      <td>27.300000</td>\n",
       "      <td>0.243750</td>\n",
       "      <td>24.000000</td>\n",
       "      <td>0.000000</td>\n",
       "    </tr>\n",
       "    <tr>\n",
       "      <th>50%</th>\n",
       "      <td>3.000000</td>\n",
       "      <td>117.000000</td>\n",
       "      <td>72.000000</td>\n",
       "      <td>23.000000</td>\n",
       "      <td>30.500000</td>\n",
       "      <td>32.000000</td>\n",
       "      <td>0.372500</td>\n",
       "      <td>29.000000</td>\n",
       "      <td>0.000000</td>\n",
       "    </tr>\n",
       "    <tr>\n",
       "      <th>75%</th>\n",
       "      <td>6.000000</td>\n",
       "      <td>140.250000</td>\n",
       "      <td>80.000000</td>\n",
       "      <td>32.000000</td>\n",
       "      <td>127.250000</td>\n",
       "      <td>36.600000</td>\n",
       "      <td>0.626250</td>\n",
       "      <td>41.000000</td>\n",
       "      <td>1.000000</td>\n",
       "    </tr>\n",
       "    <tr>\n",
       "      <th>max</th>\n",
       "      <td>17.000000</td>\n",
       "      <td>199.000000</td>\n",
       "      <td>122.000000</td>\n",
       "      <td>99.000000</td>\n",
       "      <td>846.000000</td>\n",
       "      <td>67.100000</td>\n",
       "      <td>2.420000</td>\n",
       "      <td>81.000000</td>\n",
       "      <td>1.000000</td>\n",
       "    </tr>\n",
       "  </tbody>\n",
       "</table>\n",
       "</div>"
      ],
      "text/plain": [
       "       Pregnancies     Glucose  BloodPressure  SkinThickness     Insulin  \\\n",
       "count   768.000000  768.000000     768.000000     768.000000  768.000000   \n",
       "mean      3.845052  120.894531      69.105469      20.536458   79.799479   \n",
       "std       3.369578   31.972618      19.355807      15.952218  115.244002   \n",
       "min       0.000000    0.000000       0.000000       0.000000    0.000000   \n",
       "25%       1.000000   99.000000      62.000000       0.000000    0.000000   \n",
       "50%       3.000000  117.000000      72.000000      23.000000   30.500000   \n",
       "75%       6.000000  140.250000      80.000000      32.000000  127.250000   \n",
       "max      17.000000  199.000000     122.000000      99.000000  846.000000   \n",
       "\n",
       "              BMI  DiabetesPedigreeFunction         Age     Outcome  \n",
       "count  768.000000                768.000000  768.000000  768.000000  \n",
       "mean    31.992578                  0.471876   33.240885    0.348958  \n",
       "std      7.884160                  0.331329   11.760232    0.476951  \n",
       "min      0.000000                  0.078000   21.000000    0.000000  \n",
       "25%     27.300000                  0.243750   24.000000    0.000000  \n",
       "50%     32.000000                  0.372500   29.000000    0.000000  \n",
       "75%     36.600000                  0.626250   41.000000    1.000000  \n",
       "max     67.100000                  2.420000   81.000000    1.000000  "
      ]
     },
     "execution_count": 27,
     "metadata": {},
     "output_type": "execute_result"
    }
   ],
   "source": [
    "# 基本統計量\n",
    "df.describe()"
   ]
  },
  {
   "cell_type": "code",
   "execution_count": 28,
   "id": "badbb5a7-cbf0-4e81-a8d6-460044d2e4e1",
   "metadata": {},
   "outputs": [
    {
     "data": {
      "text/html": [
       "<div>\n",
       "<style scoped>\n",
       "    .dataframe tbody tr th:only-of-type {\n",
       "        vertical-align: middle;\n",
       "    }\n",
       "\n",
       "    .dataframe tbody tr th {\n",
       "        vertical-align: top;\n",
       "    }\n",
       "\n",
       "    .dataframe thead th {\n",
       "        text-align: right;\n",
       "    }\n",
       "</style>\n",
       "<table border=\"1\" class=\"dataframe\">\n",
       "  <thead>\n",
       "    <tr style=\"text-align: right;\">\n",
       "      <th></th>\n",
       "      <th>Pregnancies</th>\n",
       "      <th>Glucose</th>\n",
       "      <th>BloodPressure</th>\n",
       "      <th>SkinThickness</th>\n",
       "      <th>Insulin</th>\n",
       "      <th>BMI</th>\n",
       "      <th>DiabetesPedigreeFunction</th>\n",
       "      <th>Age</th>\n",
       "      <th>Outcome</th>\n",
       "    </tr>\n",
       "  </thead>\n",
       "  <tbody>\n",
       "    <tr>\n",
       "      <th>Pregnancies</th>\n",
       "      <td>1.000000</td>\n",
       "      <td>0.129459</td>\n",
       "      <td>0.141282</td>\n",
       "      <td>-0.081672</td>\n",
       "      <td>-0.073535</td>\n",
       "      <td>0.017683</td>\n",
       "      <td>-0.033523</td>\n",
       "      <td>0.544341</td>\n",
       "      <td>0.221898</td>\n",
       "    </tr>\n",
       "    <tr>\n",
       "      <th>Glucose</th>\n",
       "      <td>0.129459</td>\n",
       "      <td>1.000000</td>\n",
       "      <td>0.152590</td>\n",
       "      <td>0.057328</td>\n",
       "      <td>0.331357</td>\n",
       "      <td>0.221071</td>\n",
       "      <td>0.137337</td>\n",
       "      <td>0.263514</td>\n",
       "      <td>0.466581</td>\n",
       "    </tr>\n",
       "    <tr>\n",
       "      <th>BloodPressure</th>\n",
       "      <td>0.141282</td>\n",
       "      <td>0.152590</td>\n",
       "      <td>1.000000</td>\n",
       "      <td>0.207371</td>\n",
       "      <td>0.088933</td>\n",
       "      <td>0.281805</td>\n",
       "      <td>0.041265</td>\n",
       "      <td>0.239528</td>\n",
       "      <td>0.065068</td>\n",
       "    </tr>\n",
       "    <tr>\n",
       "      <th>SkinThickness</th>\n",
       "      <td>-0.081672</td>\n",
       "      <td>0.057328</td>\n",
       "      <td>0.207371</td>\n",
       "      <td>1.000000</td>\n",
       "      <td>0.436783</td>\n",
       "      <td>0.392573</td>\n",
       "      <td>0.183928</td>\n",
       "      <td>-0.113970</td>\n",
       "      <td>0.074752</td>\n",
       "    </tr>\n",
       "    <tr>\n",
       "      <th>Insulin</th>\n",
       "      <td>-0.073535</td>\n",
       "      <td>0.331357</td>\n",
       "      <td>0.088933</td>\n",
       "      <td>0.436783</td>\n",
       "      <td>1.000000</td>\n",
       "      <td>0.197859</td>\n",
       "      <td>0.185071</td>\n",
       "      <td>-0.042163</td>\n",
       "      <td>0.130548</td>\n",
       "    </tr>\n",
       "    <tr>\n",
       "      <th>BMI</th>\n",
       "      <td>0.017683</td>\n",
       "      <td>0.221071</td>\n",
       "      <td>0.281805</td>\n",
       "      <td>0.392573</td>\n",
       "      <td>0.197859</td>\n",
       "      <td>1.000000</td>\n",
       "      <td>0.140647</td>\n",
       "      <td>0.036242</td>\n",
       "      <td>0.292695</td>\n",
       "    </tr>\n",
       "    <tr>\n",
       "      <th>DiabetesPedigreeFunction</th>\n",
       "      <td>-0.033523</td>\n",
       "      <td>0.137337</td>\n",
       "      <td>0.041265</td>\n",
       "      <td>0.183928</td>\n",
       "      <td>0.185071</td>\n",
       "      <td>0.140647</td>\n",
       "      <td>1.000000</td>\n",
       "      <td>0.033561</td>\n",
       "      <td>0.173844</td>\n",
       "    </tr>\n",
       "    <tr>\n",
       "      <th>Age</th>\n",
       "      <td>0.544341</td>\n",
       "      <td>0.263514</td>\n",
       "      <td>0.239528</td>\n",
       "      <td>-0.113970</td>\n",
       "      <td>-0.042163</td>\n",
       "      <td>0.036242</td>\n",
       "      <td>0.033561</td>\n",
       "      <td>1.000000</td>\n",
       "      <td>0.238356</td>\n",
       "    </tr>\n",
       "    <tr>\n",
       "      <th>Outcome</th>\n",
       "      <td>0.221898</td>\n",
       "      <td>0.466581</td>\n",
       "      <td>0.065068</td>\n",
       "      <td>0.074752</td>\n",
       "      <td>0.130548</td>\n",
       "      <td>0.292695</td>\n",
       "      <td>0.173844</td>\n",
       "      <td>0.238356</td>\n",
       "      <td>1.000000</td>\n",
       "    </tr>\n",
       "  </tbody>\n",
       "</table>\n",
       "</div>"
      ],
      "text/plain": [
       "                          Pregnancies   Glucose  BloodPressure  SkinThickness  \\\n",
       "Pregnancies                  1.000000  0.129459       0.141282      -0.081672   \n",
       "Glucose                      0.129459  1.000000       0.152590       0.057328   \n",
       "BloodPressure                0.141282  0.152590       1.000000       0.207371   \n",
       "SkinThickness               -0.081672  0.057328       0.207371       1.000000   \n",
       "Insulin                     -0.073535  0.331357       0.088933       0.436783   \n",
       "BMI                          0.017683  0.221071       0.281805       0.392573   \n",
       "DiabetesPedigreeFunction    -0.033523  0.137337       0.041265       0.183928   \n",
       "Age                          0.544341  0.263514       0.239528      -0.113970   \n",
       "Outcome                      0.221898  0.466581       0.065068       0.074752   \n",
       "\n",
       "                           Insulin       BMI  DiabetesPedigreeFunction  \\\n",
       "Pregnancies              -0.073535  0.017683                 -0.033523   \n",
       "Glucose                   0.331357  0.221071                  0.137337   \n",
       "BloodPressure             0.088933  0.281805                  0.041265   \n",
       "SkinThickness             0.436783  0.392573                  0.183928   \n",
       "Insulin                   1.000000  0.197859                  0.185071   \n",
       "BMI                       0.197859  1.000000                  0.140647   \n",
       "DiabetesPedigreeFunction  0.185071  0.140647                  1.000000   \n",
       "Age                      -0.042163  0.036242                  0.033561   \n",
       "Outcome                   0.130548  0.292695                  0.173844   \n",
       "\n",
       "                               Age   Outcome  \n",
       "Pregnancies               0.544341  0.221898  \n",
       "Glucose                   0.263514  0.466581  \n",
       "BloodPressure             0.239528  0.065068  \n",
       "SkinThickness            -0.113970  0.074752  \n",
       "Insulin                  -0.042163  0.130548  \n",
       "BMI                       0.036242  0.292695  \n",
       "DiabetesPedigreeFunction  0.033561  0.173844  \n",
       "Age                       1.000000  0.238356  \n",
       "Outcome                   0.238356  1.000000  "
      ]
     },
     "execution_count": 28,
     "metadata": {},
     "output_type": "execute_result"
    }
   ],
   "source": [
    "# 相関係数（相関行列）\n",
    "df.corr()"
   ]
  },
  {
   "cell_type": "code",
   "execution_count": 29,
   "id": "a318b85e-c522-470e-8f21-0178ef13cb62",
   "metadata": {},
   "outputs": [
    {
     "data": {
      "image/png": "[encoded data removed]",
      "text/plain": [
       "<Figure size 1000x1000 with 2 Axes>"
      ]
     },
     "metadata": {},
     "output_type": "display_data"
    }
   ],
   "source": [
    "# ヒートマップに表示\n",
    "plt.figure(figsize=(10, 10))\n",
    "sns.heatmap(df.corr(), annot=True, square=True, fmt='.2f')\n",
    "plt.show()"
   ]
  },
  {
   "cell_type": "code",
   "execution_count": 30,
   "id": "d71b9a1d-ba89-4c74-8efc-6dab4b569f23",
   "metadata": {},
   "outputs": [],
   "source": [
    "# 散布図行列を表示\n",
    "#sns.pairplot(df, hue='Outcome')"
   ]
  },
  {
   "cell_type": "markdown",
   "id": "4d83b8d5-7d5a-42c7-b318-eaebdec062e1",
   "metadata": {},
   "source": [
    "##### 準備"
   ]
  },
  {
   "cell_type": "markdown",
   "id": "06820811-3798-4219-8031-3ad7574d789f",
   "metadata": {},
   "source": [
    "###### 説明変数・目的変数の選択・分割"
   ]
  },
  {
   "cell_type": "code",
   "execution_count": 31,
   "id": "bc1a1e01-05aa-4df0-842d-d00df37465be",
   "metadata": {},
   "outputs": [],
   "source": [
    "x_org = np.array(df.loc[:, ['Pregnancies','Glucose','BMI', 'Age']])\n",
    "y_org = np.array(df.loc[:, ['Outcome']])"
   ]
  },
  {
   "cell_type": "markdown",
   "id": "171a504c-c256-415e-b8ee-45467d8bb3c1",
   "metadata": {},
   "source": [
    "###### 標準化"
   ]
  },
  {
   "cell_type": "code",
   "execution_count": 32,
   "id": "65f51936-0a2b-4ad7-b155-f95bdbcb31cf",
   "metadata": {},
   "outputs": [
    {
     "name": "stdout",
     "output_type": "stream",
     "text": [
      "x.mean():  9.454242944073599e-17\n",
      "x.std():  1.0\n"
     ]
    }
   ],
   "source": [
    "ss = StandardScaler()\n",
    "x = ss.fit_transform(x_org)\n",
    "\n",
    "# 確認\n",
    "## 平均が ≒ 0\n",
    "print(\"x.mean(): \", x.mean())\n",
    "## 標準偏差が ≒ 1\n",
    "print(\"x.std(): \", x.std())"
   ]
  },
  {
   "cell_type": "markdown",
   "id": "acef28ea-05b6-40b9-b3f8-d80fd691f5de",
   "metadata": {},
   "source": [
    "###### 学習・テストデータの分割（ホールド・アウト法"
   ]
  },
  {
   "cell_type": "code",
   "execution_count": 33,
   "id": "61c28812-8691-4baf-b7aa-2db21f9a5f9f",
   "metadata": {},
   "outputs": [],
   "source": [
    "x_train, x_test, y_train, y_test = train_test_split(x, y_org, test_size = 0.3, random_state = 0)"
   ]
  },
  {
   "cell_type": "markdown",
   "id": "85e84b5c-6d36-4797-bd9c-784c7aa7ef2e",
   "metadata": {},
   "source": [
    "#### モデリング"
   ]
  },
  {
   "cell_type": "markdown",
   "id": "6a7fcd2c-16b1-445d-9641-755dbe928c73",
   "metadata": {},
   "source": [
    "##### DNNの定義\n",
    "- 入力層  \n",
    "入力ベクトルの要素数だけ。\n",
    "- 隠れ層が\n",
    "  - 2つ\n",
    "  - 64ノードづつ\n",
    "  - 活性化関数はrelu\n",
    "- 出力層  \n",
    "２クラス分類なので\n",
    "  - ノードは１つ（0-1）\n",
    "  - 活性化関数はsigmoid"
   ]
  },
  {
   "cell_type": "code",
   "execution_count": 34,
   "id": "99d5a7b0-4bd4-412c-ba53-445b1495f227",
   "metadata": {},
   "outputs": [],
   "source": [
    "model = keras.Sequential([\n",
    "    keras.layers.Dense(64, activation=tf.nn.relu,\n",
    "                       input_shape=(x_train.shape[1],)),\n",
    "    keras.layers.Dense(64, activation=tf.nn.relu),\n",
    "    keras.layers.Dense(1, activation=tf.nn.sigmoid)\n",
    "])"
   ]
  },
  {
   "cell_type": "markdown",
   "id": "b849263f-3861-4a89-8190-4a899d5e8e36",
   "metadata": {},
   "source": [
    "##### コンパイル\n",
    "- 2値分類の損失関数は二値交差エントロピー（binary_crossentropy）\n",
    "- [optimizer=Adam](TensorFlowAndKeras0.ipynb)を指定する。\n",
    "- metricsは正解率（accuracy）"
   ]
  },
  {
   "cell_type": "code",
   "execution_count": 35,
   "id": "e232bc4a-431a-4cb9-a7f8-166aeec7fdd5",
   "metadata": {},
   "outputs": [],
   "source": [
    "# metricsにf1_score, precision, recallの評価関数を定義して指定することも可能\n",
    "model.compile(loss='binary_crossentropy', optimizer=Adam(), metrics=['accuracy'])"
   ]
  },
  {
   "cell_type": "markdown",
   "id": "a0d1fc8e-fc61-4b45-b15d-b1cbd9ad41e8",
   "metadata": {},
   "source": [
    "##### 確認"
   ]
  },
  {
   "cell_type": "code",
   "execution_count": 36,
   "id": "6b840e2b-bba8-4009-8dd6-c0e63a265b10",
   "metadata": {},
   "outputs": [
    {
     "data": {
      "text/html": [
       "<pre style=\"white-space:pre;overflow-x:auto;line-height:normal;font-family:Menlo,'DejaVu Sans Mono',consolas,'Courier New',monospace\"><span style=\"font-weight: bold\">Model: \"sequential_1\"</span>\n",
       "</pre>\n"
      ],
      "text/plain": [
       "\u001b[1mModel: \"sequential_1\"\u001b[0m\n"
      ]
     },
     "metadata": {},
     "output_type": "display_data"
    },
    {
     "data": {
      "text/html": [
       "<pre style=\"white-space:pre;overflow-x:auto;line-height:normal;font-family:Menlo,'DejaVu Sans Mono',consolas,'Courier New',monospace\">┏━━━━━━━━━━━━━━━━━━━━━━━━━━━━━━━━━┳━━━━━━━━━━━━━━━━━━━━━━━━┳━━━━━━━━━━━━━━━┓\n",
       "┃<span style=\"font-weight: bold\"> Layer (type)                    </span>┃<span style=\"font-weight: bold\"> Output Shape           </span>┃<span style=\"font-weight: bold\">       Param # </span>┃\n",
       "┡━━━━━━━━━━━━━━━━━━━━━━━━━━━━━━━━━╇━━━━━━━━━━━━━━━━━━━━━━━━╇━━━━━━━━━━━━━━━┩\n",
       "│ dense_3 (<span style=\"color: #0087ff; text-decoration-color: #0087ff\">Dense</span>)                 │ (<span style=\"color: #00d7ff; text-decoration-color: #00d7ff\">None</span>, <span style=\"color: #00af00; text-decoration-color: #00af00\">64</span>)             │           <span style=\"color: #00af00; text-decoration-color: #00af00\">320</span> │\n",
       "├─────────────────────────────────┼────────────────────────┼───────────────┤\n",
       "│ dense_4 (<span style=\"color: #0087ff; text-decoration-color: #0087ff\">Dense</span>)                 │ (<span style=\"color: #00d7ff; text-decoration-color: #00d7ff\">None</span>, <span style=\"color: #00af00; text-decoration-color: #00af00\">64</span>)             │         <span style=\"color: #00af00; text-decoration-color: #00af00\">4,160</span> │\n",
       "├─────────────────────────────────┼────────────────────────┼───────────────┤\n",
       "│ dense_5 (<span style=\"color: #0087ff; text-decoration-color: #0087ff\">Dense</span>)                 │ (<span style=\"color: #00d7ff; text-decoration-color: #00d7ff\">None</span>, <span style=\"color: #00af00; text-decoration-color: #00af00\">1</span>)              │            <span style=\"color: #00af00; text-decoration-color: #00af00\">65</span> │\n",
       "└─────────────────────────────────┴────────────────────────┴───────────────┘\n",
       "</pre>\n"
      ],
      "text/plain": [
       "┏━━━━━━━━━━━━━━━━━━━━━━━━━━━━━━━━━┳━━━━━━━━━━━━━━━━━━━━━━━━┳━━━━━━━━━━━━━━━┓\n",
       "┃\u001b[1m \u001b[0m\u001b[1mLayer (type)                   \u001b[0m\u001b[1m \u001b[0m┃\u001b[1m \u001b[0m\u001b[1mOutput Shape          \u001b[0m\u001b[1m \u001b[0m┃\u001b[1m \u001b[0m\u001b[1m      Param #\u001b[0m\u001b[1m \u001b[0m┃\n",
       "┡━━━━━━━━━━━━━━━━━━━━━━━━━━━━━━━━━╇━━━━━━━━━━━━━━━━━━━━━━━━╇━━━━━━━━━━━━━━━┩\n",
       "│ dense_3 (\u001b[38;5;33mDense\u001b[0m)                 │ (\u001b[38;5;45mNone\u001b[0m, \u001b[38;5;34m64\u001b[0m)             │           \u001b[38;5;34m320\u001b[0m │\n",
       "├─────────────────────────────────┼────────────────────────┼───────────────┤\n",
       "│ dense_4 (\u001b[38;5;33mDense\u001b[0m)                 │ (\u001b[38;5;45mNone\u001b[0m, \u001b[38;5;34m64\u001b[0m)             │         \u001b[38;5;34m4,160\u001b[0m │\n",
       "├─────────────────────────────────┼────────────────────────┼───────────────┤\n",
       "│ dense_5 (\u001b[38;5;33mDense\u001b[0m)                 │ (\u001b[38;5;45mNone\u001b[0m, \u001b[38;5;34m1\u001b[0m)              │            \u001b[38;5;34m65\u001b[0m │\n",
       "└─────────────────────────────────┴────────────────────────┴───────────────┘\n"
      ]
     },
     "metadata": {},
     "output_type": "display_data"
    },
    {
     "data": {
      "text/html": [
       "<pre style=\"white-space:pre;overflow-x:auto;line-height:normal;font-family:Menlo,'DejaVu Sans Mono',consolas,'Courier New',monospace\"><span style=\"font-weight: bold\"> Total params: </span><span style=\"color: #00af00; text-decoration-color: #00af00\">4,545</span> (17.75 KB)\n",
       "</pre>\n"
      ],
      "text/plain": [
       "\u001b[1m Total params: \u001b[0m\u001b[38;5;34m4,545\u001b[0m (17.75 KB)\n"
      ]
     },
     "metadata": {},
     "output_type": "display_data"
    },
    {
     "data": {
      "text/html": [
       "<pre style=\"white-space:pre;overflow-x:auto;line-height:normal;font-family:Menlo,'DejaVu Sans Mono',consolas,'Courier New',monospace\"><span style=\"font-weight: bold\"> Trainable params: </span><span style=\"color: #00af00; text-decoration-color: #00af00\">4,545</span> (17.75 KB)\n",
       "</pre>\n"
      ],
      "text/plain": [
       "\u001b[1m Trainable params: \u001b[0m\u001b[38;5;34m4,545\u001b[0m (17.75 KB)\n"
      ]
     },
     "metadata": {},
     "output_type": "display_data"
    },
    {
     "data": {
      "text/html": [
       "<pre style=\"white-space:pre;overflow-x:auto;line-height:normal;font-family:Menlo,'DejaVu Sans Mono',consolas,'Courier New',monospace\"><span style=\"font-weight: bold\"> Non-trainable params: </span><span style=\"color: #00af00; text-decoration-color: #00af00\">0</span> (0.00 B)\n",
       "</pre>\n"
      ],
      "text/plain": [
       "\u001b[1m Non-trainable params: \u001b[0m\u001b[38;5;34m0\u001b[0m (0.00 B)\n"
      ]
     },
     "metadata": {},
     "output_type": "display_data"
    }
   ],
   "source": [
    "model.summary()"
   ]
  },
  {
   "cell_type": "markdown",
   "id": "a7b38990-cf47-4dfd-b6f9-3884f9915982",
   "metadata": {},
   "source": [
    "#### 実行"
   ]
  },
  {
   "cell_type": "markdown",
   "id": "f371d0fb-ee9f-4b98-931b-de2960e605c0",
   "metadata": {},
   "source": [
    "##### 学習"
   ]
  },
  {
   "cell_type": "code",
   "execution_count": 37,
   "id": "e2b438eb-1e7a-4c2b-aeff-74bb5e90fb30",
   "metadata": {},
   "outputs": [],
   "source": [
    "batch_size = 10\n",
    "n_epoch = 200\n",
    "hist = model.fit(x_train, y_train,\n",
    "                 batch_size=batch_size,\n",
    "                 epochs=n_epoch,\n",
    "                 validation_data=(x_test, y_test),\n",
    "                 verbose=0)"
   ]
  },
  {
   "cell_type": "markdown",
   "id": "c795f281-2946-4f42-bcba-e1eae7f6f933",
   "metadata": {},
   "source": [
    "##### 推論"
   ]
  },
  {
   "cell_type": "code",
   "execution_count": 38,
   "id": "d2349e29-44f0-41e7-994a-746220612c5e",
   "metadata": {},
   "outputs": [
    {
     "name": "stdout",
     "output_type": "stream",
     "text": [
      "\u001b[1m24/24\u001b[0m \u001b[32m━━━━━━━━━━━━━━━━━━━━\u001b[0m\u001b[37m\u001b[0m \u001b[1m0s\u001b[0m 1ms/step \n"
     ]
    }
   ],
   "source": [
    "y_pred = model.predict(x)"
   ]
  },
  {
   "cell_type": "markdown",
   "id": "3153f68d-5f70-4733-9ede-75a46ded0ea2",
   "metadata": {},
   "source": [
    "#### 評価"
   ]
  },
  {
   "cell_type": "markdown",
   "id": "395b30de-3afe-466b-9390-3b83546b7706",
   "metadata": {},
   "source": [
    "###### 実測・予測を表示"
   ]
  },
  {
   "cell_type": "code",
   "execution_count": 39,
   "id": "9d9d6ce1-f951-4e96-b2cf-009eac875ea5",
   "metadata": {},
   "outputs": [
    {
     "data": {
      "text/plain": [
       "0.8606770833333334"
      ]
     },
     "execution_count": 39,
     "metadata": {},
     "output_type": "execute_result"
    }
   ],
   "source": [
    "y_pred = np.array(np.round(y_pred), dtype=np.int64)\n",
    "ret = (y_org == y_pred)\n",
    "(len(np.where(ret==True)[0]) / ret.size)"
   ]
  },
  {
   "cell_type": "markdown",
   "id": "8dafdc40-b481-4fe7-8804-c910b863a921",
   "metadata": {},
   "source": [
    "###### [スコアを表示](https://dotnetdevelopmentinfrastructure.osscons.jp/index.php?%E3%83%87%E3%83%BC%E3%82%BF%E3%83%9E%E3%82%A4%E3%83%8B%E3%83%B3%E3%82%B0%EF%BC%88DM%EF%BC%89-%20CRISP-DM#uf759972)"
   ]
  },
  {
   "cell_type": "code",
   "execution_count": 40,
   "id": "c86fa282-ddd1-4bc8-890f-e969e1342c0e",
   "metadata": {},
   "outputs": [
    {
     "name": "stdout",
     "output_type": "stream",
     "text": [
      "['loss', 'compile_metrics']\n"
     ]
    }
   ],
   "source": [
    "print(model.metrics_names)"
   ]
  },
  {
   "cell_type": "code",
   "execution_count": 41,
   "id": "43a07f37-7a1d-4119-b183-c6eeadb56af7",
   "metadata": {},
   "outputs": [
    {
     "name": "stdout",
     "output_type": "stream",
     "text": [
      "loss: 0.3580746352672577\n",
      "accuracy: 0.8606770634651184\n"
     ]
    }
   ],
   "source": [
    "score = model.evaluate(x, y_org, verbose=0)\n",
    "print('loss:', score[0])\n",
    "print('accuracy:', score[1])"
   ]
  },
  {
   "cell_type": "code",
   "execution_count": 42,
   "id": "ad91e676-6877-4609-918e-fd0782e941e5",
   "metadata": {},
   "outputs": [
    {
     "name": "stdout",
     "output_type": "stream",
     "text": [
      "Train loss: 0.22636960446834564\n",
      "Train accuracy: 0.9068901538848877\n"
     ]
    }
   ],
   "source": [
    "train_score = model.evaluate(x_train, y_train, verbose=0)\n",
    "print('Train loss:', train_score[0])\n",
    "print('Train accuracy:', train_score[1])"
   ]
  },
  {
   "cell_type": "code",
   "execution_count": 43,
   "id": "73deaf9b-a258-4554-9deb-dd028059133c",
   "metadata": {},
   "outputs": [
    {
     "name": "stdout",
     "output_type": "stream",
     "text": [
      "Test loss: 0.6642460823059082\n",
      "Test accuracy: 0.7532467246055603\n"
     ]
    }
   ],
   "source": [
    "test_score = model.evaluate(x_test, y_test, verbose=0)\n",
    "print('Test loss:', test_score[0])\n",
    "print('Test accuracy:', test_score[1])"
   ]
  },
  {
   "cell_type": "markdown",
   "id": "9a05526a-31e0-4d1b-9242-ea392780bc08",
   "metadata": {},
   "source": [
    "###### 混同行列"
   ]
  },
  {
   "cell_type": "code",
   "execution_count": 44,
   "id": "4f956055-ac5a-4b2b-b0a6-c8b529750a1e",
   "metadata": {},
   "outputs": [
    {
     "name": "stdout",
     "output_type": "stream",
     "text": [
      "int64\n",
      "[[468  32]\n",
      " [ 75 193]]\n"
     ]
    }
   ],
   "source": [
    "cm_minst = confusion_matrix(y_org, y_pred)\n",
    "print(cm_minst.dtype)\n",
    "print(cm_minst)"
   ]
  },
  {
   "cell_type": "code",
   "execution_count": 45,
   "id": "02c94c9b-4400-454c-b259-f15f4e593184",
   "metadata": {},
   "outputs": [
    {
     "name": "stdout",
     "output_type": "stream",
     "text": [
      "accuracy: 0.861\n",
      "\n",
      "micro\n",
      "recall: 0.861\n",
      "precision: 0.861\n",
      "f1_score: 0.861\n",
      "\n",
      "macro\n",
      "recall: 0.828\n",
      "precision: 0.860\n",
      "f1_score: 0.840\n"
     ]
    }
   ],
   "source": [
    "print_metrics(y_org, y_pred)"
   ]
  },
  {
   "cell_type": "markdown",
   "id": "0181945b-2c25-48c3-837f-4bf8cccf729d",
   "metadata": {},
   "source": [
    "###### 学習履歴を表示\n",
    "- 表現力が高過ぎるので、がっつり過学習している。\n",
    "- [過学習を抑止してスコアが上がるかどうか？](https://qiita.com/hiroyuki827/items/213146d551a6e2227810)"
   ]
  },
  {
   "cell_type": "code",
   "execution_count": 46,
   "id": "b471cdc3-c687-4c02-bd8d-6193186c5ac2",
   "metadata": {},
   "outputs": [
    {
     "data": {
      "image/png": "[encoded data removed]",
      "text/plain": [
       "<Figure size 640x480 with 1 Axes>"
      ]
     },
     "metadata": {},
     "output_type": "display_data"
    }
   ],
   "source": [
    "plot_history_loss(hist)"
   ]
  },
  {
   "cell_type": "code",
   "execution_count": 47,
   "id": "4beb9de1-716b-4520-9d7c-af3e7b0d3a6e",
   "metadata": {},
   "outputs": [
    {
     "data": {
      "image/png": "[encoded data removed]",
      "text/plain": [
       "<Figure size 640x480 with 1 Axes>"
      ]
     },
     "metadata": {},
     "output_type": "display_data"
    }
   ],
   "source": [
    "plot_history_acc(hist)"
   ]
  },
  {
   "cell_type": "markdown",
   "id": "306e0c46-aa4a-4975-872a-3792ef35e16f",
   "metadata": {},
   "source": [
    "### DNNの多クラス分類器"
   ]
  },
  {
   "cell_type": "markdown",
   "id": "1cdfe215-d970-4213-b90e-dd603f48eb84",
   "metadata": {},
   "source": [
    "#### データ"
   ]
  },
  {
   "cell_type": "markdown",
   "id": "320f481a-a118-49c2-a8f8-572e56e53bf3",
   "metadata": {},
   "source": [
    "##### 生成\n",
    "[クラス分類器](ScikitLearnTraining3.ipynb)で使用したデータを使用。"
   ]
  },
  {
   "cell_type": "code",
   "execution_count": 48,
   "id": "933459a8-c088-4dac-bd1c-459e7ce39dc9",
   "metadata": {},
   "outputs": [],
   "source": [
    "iris = datasets.load_iris()\n",
    "df_data = pd.DataFrame(iris.data, columns=iris.feature_names)\n",
    "df_target = pd.DataFrame(iris.target, columns=['species'])\n",
    "df = pd.concat([df_data, df_target], axis=1)"
   ]
  },
  {
   "cell_type": "markdown",
   "id": "35eab3e2-8020-49c2-802f-628598f93969",
   "metadata": {},
   "source": [
    "##### 加工\n",
    "..."
   ]
  },
  {
   "cell_type": "markdown",
   "id": "0987d482-a5bd-4a86-8b4e-f2b5a564ccf6",
   "metadata": {},
   "source": [
    "##### 理解\n",
    "..."
   ]
  },
  {
   "cell_type": "markdown",
   "id": "40a86976-df99-491f-9d34-ee49c2c76ce2",
   "metadata": {},
   "source": [
    "##### 準備"
   ]
  },
  {
   "cell_type": "markdown",
   "id": "88b86079-1cca-4ff5-91f5-1a546f64a555",
   "metadata": {},
   "source": [
    "###### 説明変数・目的変数の選択・分割"
   ]
  },
  {
   "cell_type": "code",
   "execution_count": 49,
   "id": "087cb9cb-baf2-45cb-9ee4-c9efbfaf3f3a",
   "metadata": {},
   "outputs": [],
   "source": [
    "np_arr=np.array(df)\n",
    "\n",
    "# n = 100で2値分類\n",
    "# n = 150で3値分類\n",
    "n = 150\n",
    "\n",
    "# PetalLengthCm, PetalWidthCm列の選択\n",
    "#x=np_arr[:n, 2:4] \n",
    "# 全列の選択\n",
    "x=np_arr[:n, 0:4] \n",
    "\n",
    "# Species列の選択\n",
    "y=np.array(np_arr[:n, 4:5],dtype=np.int64) # 要素の型をint64に変換"
   ]
  },
  {
   "cell_type": "markdown",
   "id": "8a066227-d1a7-440d-b333-121f20fd9aa6",
   "metadata": {},
   "source": [
    "###### 標準化\n",
    "カテゴリ・データは対象外"
   ]
  },
  {
   "cell_type": "code",
   "execution_count": 50,
   "id": "d20d740d-ba22-4d54-9966-f97b1f74777f",
   "metadata": {},
   "outputs": [],
   "source": [
    "ss = StandardScaler()\n",
    "ss.fit(x)\n",
    "x_std = ss.transform(x)"
   ]
  },
  {
   "cell_type": "markdown",
   "id": "c3eec669-9420-469b-8027-474b2f8138e5",
   "metadata": {},
   "source": [
    "###### one-hotエンコーディング\n",
    "Keras（≒ 深層学習）では正解ラベルはOne-Hotベクトル化が必要。"
   ]
  },
  {
   "cell_type": "code",
   "execution_count": 51,
   "id": "f6ad2898-731d-4dc0-88d2-5e08a19c76b7",
   "metadata": {},
   "outputs": [],
   "source": [
    "yy = to_categorical(y)"
   ]
  },
  {
   "cell_type": "markdown",
   "id": "38387eb9-aef0-45ff-b173-3facd6edacf7",
   "metadata": {},
   "source": [
    "###### 学習・テストデータの分割"
   ]
  },
  {
   "cell_type": "code",
   "execution_count": 52,
   "id": "f3d625a2-48db-472a-8001-1364e09a3f79",
   "metadata": {},
   "outputs": [],
   "source": [
    "x_train, x_test, y_train, y_test = train_test_split(x_std, yy, test_size=0.3, random_state=0)"
   ]
  },
  {
   "cell_type": "markdown",
   "id": "9c47377f-8272-4892-b1d7-ac32442717e5",
   "metadata": {},
   "source": [
    "#### モデリング"
   ]
  },
  {
   "cell_type": "markdown",
   "id": "16117b3a-c8f1-4814-8c57-b32a7f23f87c",
   "metadata": {},
   "source": [
    "##### DNNの定義\n",
    "- 入力層  \n",
    "入力ベクトルの要素数だけ。\n",
    "- 隠れ層が\n",
    "  - 1つ\n",
    "  - 100ノード\n",
    "  - 活性化関数はrelu\n",
    "- 出力層  \n",
    "多クラス分類なので\n",
    "  - ノードは分類の数だけ\n",
    "  - 活性化関数はsoftmax"
   ]
  },
  {
   "cell_type": "code",
   "execution_count": 53,
   "id": "437d9407-4c2b-41aa-ba99-dee3368b22cb",
   "metadata": {},
   "outputs": [],
   "source": [
    "model = Sequential([\n",
    "    Dense(100, activation=tf.nn.relu,\n",
    "          input_shape=(x_train.shape[1],)),\n",
    "    Dense(3, activation=tf.nn.softmax)\n",
    "])"
   ]
  },
  {
   "cell_type": "markdown",
   "id": "0df21983-ed68-4e3d-9ee1-9823cd5677a6",
   "metadata": {},
   "source": [
    "##### コンパイル\n",
    "- 多値分類の損失関数は交差エントロピー（categorical_crossentropy）\n",
    "- [optimizer=Adam](TensorFlowAndKeras0.ipynb)を指定する。\n",
    "- metricsは正解率（accuracy）"
   ]
  },
  {
   "cell_type": "code",
   "execution_count": 54,
   "id": "6aba0149-6ec2-4436-a35a-0ccb38cd631d",
   "metadata": {},
   "outputs": [],
   "source": [
    "model.compile(\n",
    "    loss='categorical_crossentropy',\n",
    "    optimizer=Adam(learning_rate=0.01),\n",
    "    metrics=['accuracy'])"
   ]
  },
  {
   "cell_type": "markdown",
   "id": "dbc2befe-34b1-44bb-b493-2bb41e515622",
   "metadata": {},
   "source": [
    "##### 確認"
   ]
  },
  {
   "cell_type": "code",
   "execution_count": 55,
   "id": "1c2f7a6f-fded-4920-a790-127957451a65",
   "metadata": {},
   "outputs": [
    {
     "data": {
      "text/html": [
       "<pre style=\"white-space:pre;overflow-x:auto;line-height:normal;font-family:Menlo,'DejaVu Sans Mono',consolas,'Courier New',monospace\"><span style=\"font-weight: bold\">Model: \"sequential_2\"</span>\n",
       "</pre>\n"
      ],
      "text/plain": [
       "\u001b[1mModel: \"sequential_2\"\u001b[0m\n"
      ]
     },
     "metadata": {},
     "output_type": "display_data"
    },
    {
     "data": {
      "text/html": [
       "<pre style=\"white-space:pre;overflow-x:auto;line-height:normal;font-family:Menlo,'DejaVu Sans Mono',consolas,'Courier New',monospace\">┏━━━━━━━━━━━━━━━━━━━━━━━━━━━━━━━━━┳━━━━━━━━━━━━━━━━━━━━━━━━┳━━━━━━━━━━━━━━━┓\n",
       "┃<span style=\"font-weight: bold\"> Layer (type)                    </span>┃<span style=\"font-weight: bold\"> Output Shape           </span>┃<span style=\"font-weight: bold\">       Param # </span>┃\n",
       "┡━━━━━━━━━━━━━━━━━━━━━━━━━━━━━━━━━╇━━━━━━━━━━━━━━━━━━━━━━━━╇━━━━━━━━━━━━━━━┩\n",
       "│ dense_6 (<span style=\"color: #0087ff; text-decoration-color: #0087ff\">Dense</span>)                 │ (<span style=\"color: #00d7ff; text-decoration-color: #00d7ff\">None</span>, <span style=\"color: #00af00; text-decoration-color: #00af00\">100</span>)            │           <span style=\"color: #00af00; text-decoration-color: #00af00\">500</span> │\n",
       "├─────────────────────────────────┼────────────────────────┼───────────────┤\n",
       "│ dense_7 (<span style=\"color: #0087ff; text-decoration-color: #0087ff\">Dense</span>)                 │ (<span style=\"color: #00d7ff; text-decoration-color: #00d7ff\">None</span>, <span style=\"color: #00af00; text-decoration-color: #00af00\">3</span>)              │           <span style=\"color: #00af00; text-decoration-color: #00af00\">303</span> │\n",
       "└─────────────────────────────────┴────────────────────────┴───────────────┘\n",
       "</pre>\n"
      ],
      "text/plain": [
       "┏━━━━━━━━━━━━━━━━━━━━━━━━━━━━━━━━━┳━━━━━━━━━━━━━━━━━━━━━━━━┳━━━━━━━━━━━━━━━┓\n",
       "┃\u001b[1m \u001b[0m\u001b[1mLayer (type)                   \u001b[0m\u001b[1m \u001b[0m┃\u001b[1m \u001b[0m\u001b[1mOutput Shape          \u001b[0m\u001b[1m \u001b[0m┃\u001b[1m \u001b[0m\u001b[1m      Param #\u001b[0m\u001b[1m \u001b[0m┃\n",
       "┡━━━━━━━━━━━━━━━━━━━━━━━━━━━━━━━━━╇━━━━━━━━━━━━━━━━━━━━━━━━╇━━━━━━━━━━━━━━━┩\n",
       "│ dense_6 (\u001b[38;5;33mDense\u001b[0m)                 │ (\u001b[38;5;45mNone\u001b[0m, \u001b[38;5;34m100\u001b[0m)            │           \u001b[38;5;34m500\u001b[0m │\n",
       "├─────────────────────────────────┼────────────────────────┼───────────────┤\n",
       "│ dense_7 (\u001b[38;5;33mDense\u001b[0m)                 │ (\u001b[38;5;45mNone\u001b[0m, \u001b[38;5;34m3\u001b[0m)              │           \u001b[38;5;34m303\u001b[0m │\n",
       "└─────────────────────────────────┴────────────────────────┴───────────────┘\n"
      ]
     },
     "metadata": {},
     "output_type": "display_data"
    },
    {
     "data": {
      "text/html": [
       "<pre style=\"white-space:pre;overflow-x:auto;line-height:normal;font-family:Menlo,'DejaVu Sans Mono',consolas,'Courier New',monospace\"><span style=\"font-weight: bold\"> Total params: </span><span style=\"color: #00af00; text-decoration-color: #00af00\">803</span> (3.14 KB)\n",
       "</pre>\n"
      ],
      "text/plain": [
       "\u001b[1m Total params: \u001b[0m\u001b[38;5;34m803\u001b[0m (3.14 KB)\n"
      ]
     },
     "metadata": {},
     "output_type": "display_data"
    },
    {
     "data": {
      "text/html": [
       "<pre style=\"white-space:pre;overflow-x:auto;line-height:normal;font-family:Menlo,'DejaVu Sans Mono',consolas,'Courier New',monospace\"><span style=\"font-weight: bold\"> Trainable params: </span><span style=\"color: #00af00; text-decoration-color: #00af00\">803</span> (3.14 KB)\n",
       "</pre>\n"
      ],
      "text/plain": [
       "\u001b[1m Trainable params: \u001b[0m\u001b[38;5;34m803\u001b[0m (3.14 KB)\n"
      ]
     },
     "metadata": {},
     "output_type": "display_data"
    },
    {
     "data": {
      "text/html": [
       "<pre style=\"white-space:pre;overflow-x:auto;line-height:normal;font-family:Menlo,'DejaVu Sans Mono',consolas,'Courier New',monospace\"><span style=\"font-weight: bold\"> Non-trainable params: </span><span style=\"color: #00af00; text-decoration-color: #00af00\">0</span> (0.00 B)\n",
       "</pre>\n"
      ],
      "text/plain": [
       "\u001b[1m Non-trainable params: \u001b[0m\u001b[38;5;34m0\u001b[0m (0.00 B)\n"
      ]
     },
     "metadata": {},
     "output_type": "display_data"
    }
   ],
   "source": [
    "model.summary()"
   ]
  },
  {
   "cell_type": "markdown",
   "id": "c0411385-6db6-4c59-b135-bb0438735d63",
   "metadata": {},
   "source": [
    "#### 実行"
   ]
  },
  {
   "cell_type": "markdown",
   "id": "71065675-2fe3-4f1f-b252-b1bcc18f276b",
   "metadata": {},
   "source": [
    "##### 学習"
   ]
  },
  {
   "cell_type": "code",
   "execution_count": 56,
   "id": "f51f25cb-214b-4d67-bdfb-bbc5fd6d8886",
   "metadata": {},
   "outputs": [],
   "source": [
    "batch_size = 10\n",
    "n_epoch = 50\n",
    "hist = model.fit(x_train, y_train,\n",
    "                 batch_size=batch_size,\n",
    "                 epochs=n_epoch,\n",
    "                 validation_data=(x_test, y_test),\n",
    "                 verbose=0)"
   ]
  },
  {
   "cell_type": "markdown",
   "id": "7ad60d24-cd83-45e7-b901-4945b2f170a1",
   "metadata": {},
   "source": [
    "##### 推論"
   ]
  },
  {
   "cell_type": "code",
   "execution_count": 57,
   "id": "f291b305-0e7e-462f-adc2-74b7f2a7b5a9",
   "metadata": {},
   "outputs": [
    {
     "name": "stdout",
     "output_type": "stream",
     "text": [
      "\u001b[1m5/5\u001b[0m \u001b[32m━━━━━━━━━━━━━━━━━━━━\u001b[0m\u001b[37m\u001b[0m \u001b[1m0s\u001b[0m 7ms/step \n"
     ]
    }
   ],
   "source": [
    "yy_pred = model.predict(x_std)"
   ]
  },
  {
   "cell_type": "markdown",
   "id": "b4caaa6b-6cca-4b39-9a2c-c35af9b4551d",
   "metadata": {},
   "source": [
    "#### 評価"
   ]
  },
  {
   "cell_type": "markdown",
   "id": "cac1dade-f01c-45b7-9b33-9cd28edaa1a5",
   "metadata": {},
   "source": [
    "###### 実測・予測を表示"
   ]
  },
  {
   "cell_type": "code",
   "execution_count": 58,
   "id": "e4e8a643-f445-4a03-9b96-a05e1f826dad",
   "metadata": {},
   "outputs": [
    {
     "data": {
      "text/plain": [
       "0.9933333333333333"
      ]
     },
     "execution_count": 58,
     "metadata": {},
     "output_type": "execute_result"
    }
   ],
   "source": [
    "y_pred = np.array(yy_pred.argmax(axis=-1), dtype=np.int64)\n",
    "ret = (y.flatten() == y_pred)\n",
    "(len(np.where(ret==True)[0]) / ret.size)"
   ]
  },
  {
   "cell_type": "markdown",
   "id": "293df0a7-a47d-462e-ab8e-c510cf4b3f95",
   "metadata": {},
   "source": [
    "###### [スコアを表示](https://dotnetdevelopmentinfrastructure.osscons.jp/index.php?%E3%83%87%E3%83%BC%E3%82%BF%E3%83%9E%E3%82%A4%E3%83%8B%E3%83%B3%E3%82%B0%EF%BC%88DM%EF%BC%89-%20CRISP-DM#uf759972)"
   ]
  },
  {
   "cell_type": "code",
   "execution_count": 59,
   "id": "9575cc48-711f-4240-a78e-4dcbce6b7b7c",
   "metadata": {},
   "outputs": [
    {
     "name": "stdout",
     "output_type": "stream",
     "text": [
      "['loss', 'compile_metrics']\n"
     ]
    }
   ],
   "source": [
    "print(model.metrics_names)"
   ]
  },
  {
   "cell_type": "code",
   "execution_count": 60,
   "id": "6a64de2d-882d-4278-8a24-6165ea52dc4a",
   "metadata": {},
   "outputs": [
    {
     "name": "stdout",
     "output_type": "stream",
     "text": [
      "\u001b[1m5/5\u001b[0m \u001b[32m━━━━━━━━━━━━━━━━━━━━\u001b[0m\u001b[37m\u001b[0m \u001b[1m0s\u001b[0m 5ms/step - accuracy: 0.9947 - loss: 0.0373   \n",
      "loss: 0.048519305884838104\n",
      "accuracy: 0.9933333396911621\n"
     ]
    }
   ],
   "source": [
    "score = model.evaluate(x_std, yy)\n",
    "print('loss:', score[0])\n",
    "print('accuracy:', score[1])"
   ]
  },
  {
   "cell_type": "code",
   "execution_count": 61,
   "id": "d7afc2e2-ca89-4816-9a65-4f868dfeb3db",
   "metadata": {},
   "outputs": [
    {
     "name": "stdout",
     "output_type": "stream",
     "text": [
      "\u001b[1m4/4\u001b[0m \u001b[32m━━━━━━━━━━━━━━━━━━━━\u001b[0m\u001b[37m\u001b[0m \u001b[1m0s\u001b[0m 2ms/step - accuracy: 1.0000 - loss: 0.0092 \n",
      "Train loss: 0.010968110524117947\n",
      "Train accuracy: 1.0\n"
     ]
    }
   ],
   "source": [
    "train_score = model.evaluate(x_train, y_train)\n",
    "print('Train loss:', train_score[0])\n",
    "print('Train accuracy:', train_score[1])"
   ]
  },
  {
   "cell_type": "code",
   "execution_count": 62,
   "id": "b04751da-a4cf-45c7-a89e-2f44229eedd8",
   "metadata": {},
   "outputs": [
    {
     "name": "stdout",
     "output_type": "stream",
     "text": [
      "\u001b[1m2/2\u001b[0m \u001b[32m━━━━━━━━━━━━━━━━━━━━\u001b[0m\u001b[37m\u001b[0m \u001b[1m0s\u001b[0m 5ms/step - accuracy: 0.9852 - loss: 0.0931 \n",
      "Test loss: 0.13613875210285187\n",
      "Test accuracy: 0.9777777791023254\n"
     ]
    }
   ],
   "source": [
    "test_score = model.evaluate(x_test, y_test)\n",
    "print('Test loss:', test_score[0])\n",
    "print('Test accuracy:', test_score[1])"
   ]
  },
  {
   "cell_type": "markdown",
   "id": "7165fddf-d76c-4c28-950e-0c87d8b1181c",
   "metadata": {},
   "source": [
    "###### 混同行列\n",
    "間違い易い組合せが解る。"
   ]
  },
  {
   "cell_type": "code",
   "execution_count": 63,
   "id": "dfe4e1cb-6a61-42dc-ac2c-c5ea538f565e",
   "metadata": {},
   "outputs": [
    {
     "name": "stdout",
     "output_type": "stream",
     "text": [
      "int64\n",
      "[[50  0  0]\n",
      " [ 0 49  1]\n",
      " [ 0  0 50]]\n"
     ]
    }
   ],
   "source": [
    "cm_minst = confusion_matrix(y, y_pred)\n",
    "print(cm_minst.dtype)\n",
    "print(cm_minst)"
   ]
  },
  {
   "cell_type": "code",
   "execution_count": 64,
   "id": "a087be53-aee9-4da0-9915-e9d10fb00dc7",
   "metadata": {},
   "outputs": [
    {
     "name": "stdout",
     "output_type": "stream",
     "text": [
      "accuracy: 0.993\n",
      "\n",
      "micro\n",
      "recall: 0.993\n",
      "precision: 0.993\n",
      "f1_score: 0.993\n",
      "\n",
      "macro\n",
      "recall: 0.993\n",
      "precision: 0.993\n",
      "f1_score: 0.993\n"
     ]
    }
   ],
   "source": [
    "print_metrics(y, y_pred)"
   ]
  },
  {
   "cell_type": "markdown",
   "id": "84c89d28-9ec8-46e0-adc1-21026476da7d",
   "metadata": {},
   "source": [
    "###### 学習履歴を表示"
   ]
  },
  {
   "cell_type": "code",
   "execution_count": 65,
   "id": "3f3cf9ed-62b7-4590-92f6-eee993689266",
   "metadata": {},
   "outputs": [
    {
     "data": {
      "image/png": "[encoded data removed]",
      "text/plain": [
       "<Figure size 640x480 with 1 Axes>"
      ]
     },
     "metadata": {},
     "output_type": "display_data"
    }
   ],
   "source": [
    "plot_history_loss(hist)"
   ]
  },
  {
   "cell_type": "code",
   "execution_count": 66,
   "id": "9ec9aba9-b667-4a40-9316-5128891484b9",
   "metadata": {},
   "outputs": [
    {
     "data": {
      "image/png": "[encoded data removed]",
      "text/plain": [
       "<Figure size 640x480 with 1 Axes>"
      ]
     },
     "metadata": {},
     "output_type": "display_data"
    }
   ],
   "source": [
    "plot_history_acc(hist)"
   ]
  }
 ],
 "metadata": {
  "kernelspec": {
   "display_name": "Python 3 (ipykernel)",
   "language": "python",
   "name": "python3"
  },
  "language_info": {
   "codemirror_mode": {
    "name": "ipython",
    "version": 3
   },
   "file_extension": ".py",
   "mimetype": "text/x-python",
   "name": "python",
   "nbconvert_exporter": "python",
   "pygments_lexer": "ipython3",
   "version": "3.10.6"
  }
 },
 "nbformat": 4,
 "nbformat_minor": 5
}
