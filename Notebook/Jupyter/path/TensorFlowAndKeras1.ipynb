{
 "cells": [
  {
   "cell_type": "markdown",
   "id": "4fe59fb7-e68d-4e4b-8901-5902d5343ed8",
   "metadata": {},
   "source": [
    "# scikit-learnのトレーニング♨\n",
    "\n",
    "## DNN 編\n",
    "\n",
    "## [目次](TableOfContents.ipynb)\n",
    "\n",
    "## 参考\n",
    "開発基盤部会 Wiki\n",
    "- データマイニング（DM）- Python - DL  \n",
    "https://dotnetdevelopmentinfrastructure.osscons.jp/index.php?%E3%83%87%E3%83%BC%E3%82%BF%E3%83%9E%E3%82%A4%E3%83%8B%E3%83%B3%E3%82%B0%EF%BC%88DM%EF%BC%89-%20Python%20-%20DL"
   ]
  },
  {
   "cell_type": "markdown",
   "id": "d48958bb-e085-40a2-a6e1-f00c80080d20",
   "metadata": {},
   "source": [
    "## 環境準備"
   ]
  },
  {
   "cell_type": "code",
   "execution_count": null,
   "id": "b99bd442-2c0f-4337-901e-c3a2c51fb899",
   "metadata": {},
   "outputs": [],
   "source": [
    "import io\n",
    "import requests\n",
    "\n",
    "import pandas as pd\n",
    "import numpy as np\n",
    "import matplotlib.pyplot as plt\n",
    "\n",
    "from sklearn import metrics\n",
    "from sklearn.metrics import confusion_matrix as cm\n",
    "from sklearn.model_selection import train_test_split\n",
    "\n",
    "import tensorflow as tf\n",
    "from tensorflow.keras.layers import BatchNormalization\n",
    "print(tf.__version__)\n",
    "\n",
    "import keras\n",
    "print(keras.__version__)\n",
    "# モデル定義\n",
    "from keras.models import Model, Sequential, model_from_json\n",
    "from keras.layers import Dense, Input, Activation, Flatten, Dropout, LSTM\n",
    "from keras.layers.convolutional import Conv2D\n",
    "from keras.layers.pooling import MaxPool2D\n",
    "from keras.callbacks import EarlyStopping, ModelCheckpoint\n",
    "from keras import optimizers\n",
    "from keras.optimizers import SGD, Adam\n",
    "# その他\n",
    "from keras.applications.vgg16 import VGG16\n",
    "from keras.utils import np_utils\n",
    "\n",
    "import warnings\n",
    "warnings.filterwarnings('ignore')\n",
    "%matplotlib inline"
   ]
  },
  {
   "cell_type": "markdown",
   "id": "4a451dd7-972e-47a4-a769-d47e091b4711",
   "metadata": {},
   "source": [
    "## DNNアルゴリズム・モデル"
   ]
  },
  {
   "cell_type": "markdown",
   "id": "c775cd90-737a-4418-bc13-c9f74038d262",
   "metadata": {},
   "source": [
    "### DNNで重回帰分析"
   ]
  },
  {
   "cell_type": "markdown",
   "id": "669d9768-cf88-429f-8b6a-99314e644645",
   "metadata": {},
   "source": [
    "#### データ"
   ]
  },
  {
   "cell_type": "markdown",
   "id": "a61d5f83-cea4-4ffc-b9b9-1779e88a5d82",
   "metadata": {},
   "source": [
    "##### 生成\n",
    "[重回帰分析](ScikitLearnTraining1.ipynb)で使用したデータを使用。"
   ]
  },
  {
   "cell_type": "markdown",
   "id": "66852eb4-8662-4519-af44-646ea2b7343e",
   "metadata": {},
   "source": [
    "##### 加工\n",
    "..."
   ]
  },
  {
   "cell_type": "markdown",
   "id": "c26b6f13-4bd0-4fb3-92fa-362d6b0e6d93",
   "metadata": {
    "tags": []
   },
   "source": [
    "##### 理解\n",
    "..."
   ]
  },
  {
   "cell_type": "markdown",
   "id": "d1e5ec54-1fb6-4ce5-b8c4-c1f4efaf3217",
   "metadata": {},
   "source": [
    "##### 準備"
   ]
  },
  {
   "cell_type": "markdown",
   "id": "b5ccccb1-79cb-42da-b58d-a58b987498e7",
   "metadata": {},
   "source": [
    "###### 説明変数・目的変数分割"
   ]
  },
  {
   "cell_type": "code",
   "execution_count": null,
   "id": "3824fefd-e710-49c9-951f-231bf45446aa",
   "metadata": {},
   "outputs": [],
   "source": [
    "x_org = np.array(df.drop(['medv'], axis=1))\n",
    "y_org = np.array(df.loc[:, ['medv']])"
   ]
  },
  {
   "cell_type": "markdown",
   "id": "ee13eb58-bd8b-43a0-80b0-67c279e497cf",
   "metadata": {},
   "source": [
    "###### 正規化\n",
    "axis=0で列単位（変数単位）。"
   ]
  },
  {
   "cell_type": "code",
   "execution_count": null,
   "id": "c11d627c-fd0b-4dc9-9172-5e683214264d",
   "metadata": {},
   "outputs": [],
   "source": [
    "mean = x_org.mean(axis=0)\n",
    "std = x_org.std(axis=0)\n",
    "x = (x_org - mean) / std"
   ]
  },
  {
   "cell_type": "markdown",
   "id": "76229694-ad2f-4229-9b6e-6b2cf7851816",
   "metadata": {},
   "source": [
    "###### 学習・テストデータの分割（ホールド・アウト法"
   ]
  },
  {
   "cell_type": "code",
   "execution_count": null,
   "id": "77d5f2a5-c0e1-4552-811b-3647c8c3fda4",
   "metadata": {},
   "outputs": [],
   "source": [
    "x_train, x_test, y_train, y_test = train_test_split(x, y_org, test_size = 0.3, random_state = 0)"
   ]
  },
  {
   "cell_type": "markdown",
   "id": "a1ece046-63e1-436b-9176-7414919083e3",
   "metadata": {},
   "source": [
    "#### モデリング"
   ]
  },
  {
   "cell_type": "markdown",
   "id": "3bbdae32-34b8-42a9-94ef-e18f8bb9f3d7",
   "metadata": {},
   "source": [
    "##### DNNの定義"
   ]
  },
  {
   "cell_type": "code",
   "execution_count": null,
   "id": "e7aa4a5c-bde8-45e9-9492-863b39ba2208",
   "metadata": {},
   "outputs": [],
   "source": [
    "model = keras.Sequential([\n",
    "    keras.layers.Dense(64, activation=tf.nn.relu,\n",
    "                       input_shape=(x_train.shape[1],)),\n",
    "    keras.layers.Dense(64, activation=tf.nn.relu),\n",
    "    keras.layers.Dense(1)\n",
    "])"
   ]
  },
  {
   "cell_type": "markdown",
   "id": "52efc04f-ed10-4b68-9412-3aeb74504653",
   "metadata": {},
   "source": [
    "##### コンパイル\n",
    "- 回帰の損失関数は誤差二乗和（mse ≒ mean_squared_error）\n",
    "- [optimizer=Adam](TensorFlowAndKeras0.ipynb)を指定する。\n",
    "- metricsは平均絶対誤差（mae ≒ mean_absolute_error）"
   ]
  },
  {
   "cell_type": "code",
   "execution_count": null,
   "id": "180643ad-24f1-4068-93d0-c6bd4dbcd7e9",
   "metadata": {},
   "outputs": [],
   "source": [
    "model.compile(loss='mse', optimizer=Adam(), metrics=['mae'])"
   ]
  },
  {
   "cell_type": "markdown",
   "id": "99970e92-2ff6-44ed-9cae-ef58caeb18dc",
   "metadata": {},
   "source": [
    "##### 確認"
   ]
  },
  {
   "cell_type": "code",
   "execution_count": null,
   "id": "1b54f732-4c05-41b3-a0ab-5ecbf31b8ce3",
   "metadata": {},
   "outputs": [],
   "source": [
    "model.summary()"
   ]
  },
  {
   "cell_type": "markdown",
   "id": "694a0340-4531-470d-aebe-daaca185c59a",
   "metadata": {},
   "source": [
    "##### 実行"
   ]
  },
  {
   "cell_type": "markdown",
   "id": "30955d3c-b882-4c8f-a719-1ed31c2233d5",
   "metadata": {},
   "source": [
    "###### 学習"
   ]
  },
  {
   "cell_type": "code",
   "execution_count": null,
   "id": "8e8ffbed-5394-4042-8b60-a73b9ebc47e8",
   "metadata": {},
   "outputs": [],
   "source": [
    "batch_size = 20\n",
    "n_epoch = 200\n",
    "hist = model.fit(x_train,\n",
    "                 y_train,\n",
    "                 epochs=n_epoch,\n",
    "                 validation_data=(x_test, y_test),\n",
    "                 verbose=0,\n",
    "                 batch_size=batch_size)"
   ]
  },
  {
   "cell_type": "markdown",
   "id": "1e54ae78-207c-4cb2-b910-197b958c7f62",
   "metadata": {},
   "source": [
    "###### 推論"
   ]
  },
  {
   "cell_type": "code",
   "execution_count": null,
   "id": "86d65b29-bf40-40a5-ac7c-2f8f953ba048",
   "metadata": {},
   "outputs": [],
   "source": [
    "y_pred = model.predict(x)\n",
    "y_pred.flatten()"
   ]
  },
  {
   "cell_type": "markdown",
   "id": "7debc7fe-f0d3-49b4-90b9-56aebb929dcc",
   "metadata": {},
   "source": [
    "##### 評価"
   ]
  },
  {
   "cell_type": "markdown",
   "id": "6524393b-21ad-477a-a271-ecc9405f1354",
   "metadata": {},
   "source": [
    "###### 実測・予測を表示"
   ]
  },
  {
   "cell_type": "code",
   "execution_count": null,
   "id": "d24c658e-53f3-4dee-ade5-bbc9fc2890fb",
   "metadata": {},
   "outputs": [],
   "source": [
    "plt.plot(y_org, color='blue') # 実測値\n",
    "plt.plot(y_pred, color='red') # 予測値\n",
    "plt.show()"
   ]
  },
  {
   "cell_type": "markdown",
   "id": "9b6e90e3-84cf-4ade-b75e-deecacce5efe",
   "metadata": {},
   "source": [
    "###### [スコアを表示](https://dotnetdevelopmentinfrastructure.osscons.jp/index.php?%E3%83%87%E3%83%BC%E3%82%BF%E3%83%9E%E3%82%A4%E3%83%8B%E3%83%B3%E3%82%B0%EF%BC%88DM%EF%BC%89-%20CRISP-DM#uf759972)\n",
    "- 平均絶対誤差（MAE：Mean Absolute Error）\n",
    "- 平均二乗誤差（MSE：Mean Squared Error）"
   ]
  },
  {
   "cell_type": "code",
   "execution_count": null,
   "id": "05099bfa-ab4d-4115-a518-ef0de4239591",
   "metadata": {},
   "outputs": [],
   "source": [
    "train_mse_score, train_mae_score = model.evaluate(x_train, y_train)\n",
    "test_mse_score, test_mae_score = model.evaluate(x_test, y_test)\n",
    "print(\"train_mae_score: \",train_mae_score)\n",
    "print(\"test_mae_score: \",test_mae_score)\n",
    "print(\"train_mse_score: \",train_mse_score)\n",
    "print(\"test_mse_score: \",test_mse_score)"
   ]
  },
  {
   "cell_type": "markdown",
   "id": "4f7ef472-1406-459c-ae4e-f1ebcb9bfeb2",
   "metadata": {},
   "source": [
    "###### 学習履歴を表示"
   ]
  },
  {
   "cell_type": "code",
   "execution_count": null,
   "id": "277c8c66-f41b-4b2f-b69b-72df7ad35268",
   "metadata": {},
   "outputs": [],
   "source": [
    "def plot_history_loss(hist):\n",
    "    plt.plot(hist.history['loss'],label=\"loss for training\")\n",
    "    plt.plot(hist.history['val_loss'],label=\"loss for validation\")\n",
    "    plt.title('model loss')\n",
    "    plt.xlabel('epoch')\n",
    "    plt.ylabel('loss')\n",
    "    plt.legend(loc='best')\n",
    "    plt.show()"
   ]
  },
  {
   "cell_type": "code",
   "execution_count": null,
   "id": "c2884f12-99c8-439c-805f-4134fce42893",
   "metadata": {},
   "outputs": [],
   "source": [
    "plot_history_loss(hist)"
   ]
  },
  {
   "cell_type": "markdown",
   "id": "30a3f0c5-23f8-48a8-a1cb-35772a7ca87d",
   "metadata": {},
   "source": [
    "### DNNの分類器"
   ]
  }
 ],
 "metadata": {
  "kernelspec": {
   "display_name": "Python 3 (ipykernel)",
   "language": "python",
   "name": "python3"
  },
  "language_info": {
   "codemirror_mode": {
    "name": "ipython",
    "version": 3
   },
   "file_extension": ".py",
   "mimetype": "text/x-python",
   "name": "python",
   "nbconvert_exporter": "python",
   "pygments_lexer": "ipython3",
   "version": "3.10.4"
  }
 },
 "nbformat": 4,
 "nbformat_minor": 5
}
