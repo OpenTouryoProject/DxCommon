{
 "cells": [
  {
   "cell_type": "markdown",
   "id": "4fe59fb7-e68d-4e4b-8901-5902d5343ed8",
   "metadata": {},
   "source": [
    "# TensorFlow・Kerasのトレーニング♨\n",
    "\n",
    "## DNN 編\n",
    "\n",
    "## [目次](TableOfContents.ipynb)\n",
    "- [環境準備](#環境準備)\n",
    "  - [インポート](#インポート)\n",
    "  - [共通関数](#共通関数)\n",
    "- [DNNアルゴリズム・モデル](#)\n",
    "  - [DNNで重回帰分析](#DNNで重回帰分析)\n",
    "  - [DNNの２クラス分類器](#DNNの２クラス分類器)\n",
    "  - [DNNの多クラス分類器](#DNNの多クラス分類器)\n",
    " \n",
    "\n",
    "## 参考\n",
    "開発基盤部会 Wiki\n",
    "- データマイニング（DM）- Python - DL  \n",
    "https://dotnetdevelopmentinfrastructure.osscons.jp/index.php?%E3%83%87%E3%83%BC%E3%82%BF%E3%83%9E%E3%82%A4%E3%83%8B%E3%83%B3%E3%82%B0%EF%BC%88DM%EF%BC%89-%20Python%20-%20DL"
   ]
  },
  {
   "cell_type": "markdown",
   "id": "d48958bb-e085-40a2-a6e1-f00c80080d20",
   "metadata": {},
   "source": [
    "## [環境準備](TensorFlowAndKeras0.ipynb)"
   ]
  },
  {
   "cell_type": "markdown",
   "id": "0265e224-b982-424b-9dc0-3bb7c21fd4cf",
   "metadata": {},
   "source": [
    "### インポート"
   ]
  },
  {
   "cell_type": "code",
   "execution_count": null,
   "id": "b99bd442-2c0f-4337-901e-c3a2c51fb899",
   "metadata": {},
   "outputs": [],
   "source": [
    "import io\n",
    "import requests\n",
    "\n",
    "import pandas as pd\n",
    "import numpy as np\n",
    "import matplotlib.pyplot as plt\n",
    "import seaborn as sns\n",
    "\n",
    "from sklearn import datasets\n",
    "from sklearn import metrics\n",
    "from sklearn.preprocessing import StandardScaler\n",
    "from sklearn.model_selection import train_test_split\n",
    "from sklearn.metrics import confusion_matrix\n",
    "\n",
    "import tensorflow as tf\n",
    "from tensorflow.keras.layers import BatchNormalization\n",
    "print(tf.__version__)\n",
    "\n",
    "import keras\n",
    "print(keras.__version__)\n",
    "# モデル定義\n",
    "from keras.models import Model, Sequential, model_from_json, load_model\n",
    "from keras.layers import Dense, Input, Activation, Flatten, Dropout, LSTM\n",
    "from keras.layers.convolutional import Conv2D\n",
    "from keras.layers.pooling import MaxPool2D\n",
    "from keras.callbacks import EarlyStopping, ModelCheckpoint\n",
    "from keras import optimizers\n",
    "from keras.optimizers import SGD, Adam\n",
    "# その他\n",
    "from keras.applications.vgg16 import VGG16\n",
    "from keras.utils import to_categorical\n",
    "from keras.utils import np_utils\n",
    "\n",
    "import warnings\n",
    "warnings.filterwarnings('ignore')\n",
    "%matplotlib inline"
   ]
  },
  {
   "cell_type": "markdown",
   "id": "5154deef-335c-433b-8087-e4bebf39148d",
   "metadata": {},
   "source": [
    "### 共通関数"
   ]
  },
  {
   "cell_type": "markdown",
   "id": "ab1fe1fd-bba6-4e96-8dfd-0a7fc7b5a7fe",
   "metadata": {},
   "source": [
    "#### [分類問題のメトリック表示関数](ScikitLearnTraining5.ipynb)"
   ]
  },
  {
   "cell_type": "code",
   "execution_count": null,
   "id": "2c9fc520-9f87-4c92-8da3-7c388cfa668a",
   "metadata": {},
   "outputs": [],
   "source": [
    "def print_metrics(label, pred):\n",
    "    print('accuracy: %.3f' % metrics.accuracy_score(label, pred)) # 正答率\n",
    "    \n",
    "    print('\\nmicro') # ミクロ平均\n",
    "    print('recall: %.3f' % metrics.recall_score(label, pred, average='micro')) # 再現率\n",
    "    print('precision: %.3f' % metrics.precision_score(label, pred, average='micro')) # 適合率\n",
    "    print('f1_score: %.3f' % metrics.f1_score(label, pred, average='micro')) # f値\n",
    "    \n",
    "    print('\\nmacro') # マクロ平均\n",
    "    print('recall: %.3f' % metrics.recall_score(label, pred, average='macro')) # 再現率\n",
    "    print('precision: %.3f' % metrics.precision_score(label, pred, average='macro')) # 適合率\n",
    "    print('f1_score: %.3f' % metrics.f1_score(label, pred, average='macro')) # f値"
   ]
  },
  {
   "cell_type": "markdown",
   "id": "359b7fd5-261b-4d22-8eba-89bee315d317",
   "metadata": {},
   "source": [
    "#### 学習履歴表示関数"
   ]
  },
  {
   "cell_type": "markdown",
   "id": "12e46ed8-1f53-45a8-b040-ee0eca37909a",
   "metadata": {},
   "source": [
    "##### 損失"
   ]
  },
  {
   "cell_type": "code",
   "execution_count": null,
   "id": "6304c1ab-dcaf-407f-89a6-af50b3ebf0ee",
   "metadata": {},
   "outputs": [],
   "source": [
    "def plot_history_loss(hist):\n",
    "    plt.plot(hist.history['loss'],label=\"loss for training\")\n",
    "    plt.plot(hist.history['val_loss'],label=\"loss for validation\")\n",
    "    plt.title('model loss')\n",
    "    plt.xlabel('epoch')\n",
    "    plt.ylabel('loss')\n",
    "    plt.legend(loc='best')\n",
    "    plt.show()"
   ]
  },
  {
   "cell_type": "markdown",
   "id": "5226182c-e0cc-4384-81e2-72376596cd51",
   "metadata": {},
   "source": [
    "###### 平均絶対値誤差"
   ]
  },
  {
   "cell_type": "code",
   "execution_count": null,
   "id": "5cb85a9e-27f7-49bc-88e2-2c7fcaf474e9",
   "metadata": {},
   "outputs": [],
   "source": [
    "def plot_history_mae(hist):\n",
    "    plt.plot(hist.history['mae'],label=\"mae for training\")\n",
    "    plt.plot(hist.history['val_mae'],label=\"mae for validation\")\n",
    "    plt.title('model mae')\n",
    "    plt.xlabel('epoch')\n",
    "    plt.ylabel('mae')\n",
    "    plt.legend(loc='best')\n",
    "    plt.show()"
   ]
  },
  {
   "cell_type": "markdown",
   "id": "20a4c328-196f-4ee7-8858-45afab776eb0",
   "metadata": {},
   "source": [
    "##### 正解率"
   ]
  },
  {
   "cell_type": "code",
   "execution_count": null,
   "id": "f43d7343-488a-41d2-8c42-ed1670b72b62",
   "metadata": {},
   "outputs": [],
   "source": [
    "def plot_history_acc(hist):\n",
    "    plt.plot(hist.history['accuracy'],label=\"accuracy for training\")\n",
    "    plt.plot(hist.history['val_accuracy'],label=\"accuracy for validation\")\n",
    "    plt.title('model accuracy')\n",
    "    plt.xlabel('epoch')\n",
    "    plt.ylabel('accuracy')\n",
    "    plt.legend(loc='best')\n",
    "    plt.show()"
   ]
  },
  {
   "cell_type": "markdown",
   "id": "4a451dd7-972e-47a4-a769-d47e091b4711",
   "metadata": {},
   "source": [
    "## DNNアルゴリズム・モデル"
   ]
  },
  {
   "cell_type": "markdown",
   "id": "c775cd90-737a-4418-bc13-c9f74038d262",
   "metadata": {},
   "source": [
    "### DNNで重回帰分析"
   ]
  },
  {
   "cell_type": "markdown",
   "id": "669d9768-cf88-429f-8b6a-99314e644645",
   "metadata": {},
   "source": [
    "#### データ"
   ]
  },
  {
   "cell_type": "markdown",
   "id": "a61d5f83-cea4-4ffc-b9b9-1779e88a5d82",
   "metadata": {
    "tags": []
   },
   "source": [
    "##### 生成\n",
    "[重回帰分析](ScikitLearnTraining1.ipynb)で使用したデータを使用。"
   ]
  },
  {
   "cell_type": "code",
   "execution_count": null,
   "id": "2fe8025a-2a3a-4633-bfdc-c7d480ca3a18",
   "metadata": {},
   "outputs": [],
   "source": [
    "proxies = { # プロキシ設定\n",
    "\"http\":\"http://<user_name>:<password>@<proxy_host>:<proxy_port>/\",\n",
    "\"https\":\"https://<user_name>:<password>@<proxy_host>:<proxy_port>/\"\n",
    "}\n",
    "\n",
    "url = 'https://dotnetdevelopmentinfrastructure.osscons.jp/index.php?plugin=attach&pcmd=open&file=Boston.csv&refer=FrontPage'\n",
    "res = requests.get(url) # , verify=False, proxies=proxies) # プロキシ\n",
    "df = pd.read_csv(io.BytesIO(res.content), encoding='utf-8', sep=\",\")\n",
    "df"
   ]
  },
  {
   "cell_type": "markdown",
   "id": "66852eb4-8662-4519-af44-646ea2b7343e",
   "metadata": {},
   "source": [
    "##### 加工"
   ]
  },
  {
   "cell_type": "code",
   "execution_count": null,
   "id": "917f6315-0216-4a11-8ab7-01f1e00bdd83",
   "metadata": {},
   "outputs": [],
   "source": [
    "df=df.drop('Unnamed: 0',axis=1)"
   ]
  },
  {
   "cell_type": "markdown",
   "id": "c26b6f13-4bd0-4fb3-92fa-362d6b0e6d93",
   "metadata": {
    "tags": []
   },
   "source": [
    "##### 理解\n",
    "..."
   ]
  },
  {
   "cell_type": "markdown",
   "id": "d1e5ec54-1fb6-4ce5-b8c4-c1f4efaf3217",
   "metadata": {},
   "source": [
    "##### 準備"
   ]
  },
  {
   "cell_type": "markdown",
   "id": "b5ccccb1-79cb-42da-b58d-a58b987498e7",
   "metadata": {},
   "source": [
    "###### 説明変数・目的変数の選択・分割"
   ]
  },
  {
   "cell_type": "code",
   "execution_count": null,
   "id": "3824fefd-e710-49c9-951f-231bf45446aa",
   "metadata": {},
   "outputs": [],
   "source": [
    "x_org = np.array(df.drop(['medv'], axis=1))\n",
    "y_org = np.array(df.loc[:, ['medv']])"
   ]
  },
  {
   "cell_type": "markdown",
   "id": "ee13eb58-bd8b-43a0-80b0-67c279e497cf",
   "metadata": {},
   "source": [
    "###### 正規化\n",
    "axis=0で列単位（変数単位）。"
   ]
  },
  {
   "cell_type": "code",
   "execution_count": null,
   "id": "c11d627c-fd0b-4dc9-9172-5e683214264d",
   "metadata": {},
   "outputs": [],
   "source": [
    "mean = x_org.mean(axis=0)\n",
    "std = x_org.std(axis=0)\n",
    "x = (x_org - mean) / std"
   ]
  },
  {
   "cell_type": "markdown",
   "id": "76229694-ad2f-4229-9b6e-6b2cf7851816",
   "metadata": {},
   "source": [
    "###### 学習・テストデータの分割（ホールド・アウト法"
   ]
  },
  {
   "cell_type": "code",
   "execution_count": null,
   "id": "77d5f2a5-c0e1-4552-811b-3647c8c3fda4",
   "metadata": {},
   "outputs": [],
   "source": [
    "x_train, x_test, y_train, y_test = train_test_split(x, y_org, test_size = 0.3, random_state = 0)"
   ]
  },
  {
   "cell_type": "markdown",
   "id": "a1ece046-63e1-436b-9176-7414919083e3",
   "metadata": {},
   "source": [
    "#### モデリング"
   ]
  },
  {
   "cell_type": "markdown",
   "id": "3bbdae32-34b8-42a9-94ef-e18f8bb9f3d7",
   "metadata": {},
   "source": [
    "##### DNNの定義\n",
    "- 入力層  \n",
    "入力ベクトルの要素数だけ。\n",
    "- 隠れ層が\n",
    "  - 2つ\n",
    "  - 64ノードづつ\n",
    "  - 活性化関数はrelu\n",
    "- 出力層  \n",
    "回帰なので活性化関数は恒等関数 ≒ 無し"
   ]
  },
  {
   "cell_type": "code",
   "execution_count": null,
   "id": "e7aa4a5c-bde8-45e9-9492-863b39ba2208",
   "metadata": {},
   "outputs": [],
   "source": [
    "model = keras.Sequential([\n",
    "    keras.layers.Dense(64, activation=tf.nn.relu,\n",
    "                       input_shape=(x_train.shape[1],)),\n",
    "    keras.layers.Dense(64, activation=tf.nn.relu),\n",
    "    keras.layers.Dense(1)\n",
    "])"
   ]
  },
  {
   "cell_type": "markdown",
   "id": "52efc04f-ed10-4b68-9412-3aeb74504653",
   "metadata": {},
   "source": [
    "##### コンパイル\n",
    "- 回帰の損失関数は誤差二乗和（mse ≒ mean_squared_error）\n",
    "- [optimizer=Adam](TensorFlowAndKeras0.ipynb)を指定する。\n",
    "- metricsは平均絶対誤差（mae ≒ mean_absolute_error）"
   ]
  },
  {
   "cell_type": "code",
   "execution_count": null,
   "id": "180643ad-24f1-4068-93d0-c6bd4dbcd7e9",
   "metadata": {},
   "outputs": [],
   "source": [
    "model.compile(loss='mse', optimizer=Adam(), metrics=['mae'])"
   ]
  },
  {
   "cell_type": "markdown",
   "id": "99970e92-2ff6-44ed-9cae-ef58caeb18dc",
   "metadata": {},
   "source": [
    "##### 確認"
   ]
  },
  {
   "cell_type": "code",
   "execution_count": null,
   "id": "1b54f732-4c05-41b3-a0ab-5ecbf31b8ce3",
   "metadata": {},
   "outputs": [],
   "source": [
    "model.summary()"
   ]
  },
  {
   "cell_type": "markdown",
   "id": "694a0340-4531-470d-aebe-daaca185c59a",
   "metadata": {},
   "source": [
    "##### 実行"
   ]
  },
  {
   "cell_type": "markdown",
   "id": "30955d3c-b882-4c8f-a719-1ed31c2233d5",
   "metadata": {},
   "source": [
    "###### 学習"
   ]
  },
  {
   "cell_type": "code",
   "execution_count": null,
   "id": "8e8ffbed-5394-4042-8b60-a73b9ebc47e8",
   "metadata": {},
   "outputs": [],
   "source": [
    "batch_size = 20\n",
    "n_epoch = 200\n",
    "hist = model.fit(x_train, y_train,\n",
    "                 batch_size=batch_size,\n",
    "                 epochs=n_epoch,\n",
    "                 validation_data=(x_test, y_test),\n",
    "                 verbose=0)"
   ]
  },
  {
   "cell_type": "markdown",
   "id": "1e54ae78-207c-4cb2-b910-197b958c7f62",
   "metadata": {},
   "source": [
    "###### 推論"
   ]
  },
  {
   "cell_type": "code",
   "execution_count": null,
   "id": "86d65b29-bf40-40a5-ac7c-2f8f953ba048",
   "metadata": {},
   "outputs": [],
   "source": [
    "y_pred = model.predict(x)"
   ]
  },
  {
   "cell_type": "markdown",
   "id": "7debc7fe-f0d3-49b4-90b9-56aebb929dcc",
   "metadata": {},
   "source": [
    "##### 評価"
   ]
  },
  {
   "cell_type": "markdown",
   "id": "6524393b-21ad-477a-a271-ecc9405f1354",
   "metadata": {},
   "source": [
    "###### 実測・予測を表示"
   ]
  },
  {
   "cell_type": "code",
   "execution_count": null,
   "id": "d24c658e-53f3-4dee-ade5-bbc9fc2890fb",
   "metadata": {},
   "outputs": [],
   "source": [
    "plt.plot(y_org, color='blue') # 実測値\n",
    "plt.plot(y_pred, color='red') # 予測値\n",
    "plt.show()"
   ]
  },
  {
   "cell_type": "markdown",
   "id": "9b6e90e3-84cf-4ade-b75e-deecacce5efe",
   "metadata": {},
   "source": [
    "###### [スコアを表示](https://dotnetdevelopmentinfrastructure.osscons.jp/index.php?%E3%83%87%E3%83%BC%E3%82%BF%E3%83%9E%E3%82%A4%E3%83%8B%E3%83%B3%E3%82%B0%EF%BC%88DM%EF%BC%89-%20CRISP-DM#uf759972)\n",
    "- 平均絶対誤差（MAE：Mean Absolute Error）\n",
    "- 平均二乗誤差（MSE：Mean Squared Error）"
   ]
  },
  {
   "cell_type": "code",
   "execution_count": null,
   "id": "4b2c50e3-b96e-46d9-8697-586fa2acd1c1",
   "metadata": {},
   "outputs": [],
   "source": [
    "# sklearnで\n",
    "from sklearn.metrics import mean_squared_error as mse\n",
    "\n",
    "train_mse = mse(y_train, model.predict(x_train))\n",
    "test_mse = mse(y_test, model.predict(x_test))\n",
    "\n",
    "print('train_mse: %.3f' % train_mse)\n",
    "print('test_mse: %.3f' % test_mse)\n",
    "print('train_rmse: %.3f' % (train_mse ** (1/2)))\n",
    "print('test_rmse : %.3f' % (test_mse ** (1/2)))"
   ]
  },
  {
   "cell_type": "code",
   "execution_count": null,
   "id": "4b536ff5-4398-4009-bd63-4a641710763d",
   "metadata": {},
   "outputs": [],
   "source": [
    "# metricsで\n",
    "print(model.metrics_names)"
   ]
  },
  {
   "cell_type": "code",
   "execution_count": null,
   "id": "dffc11f4-aab3-4a70-a57c-edc26482f8ea",
   "metadata": {},
   "outputs": [],
   "source": [
    "score = model.evaluate(x, y_org, verbose=0)\n",
    "print('mse:', score[0])\n",
    "print('mae:', score[1])\n",
    "print('rmae:', (score[0] ** (1/2)))"
   ]
  },
  {
   "cell_type": "code",
   "execution_count": null,
   "id": "f69b5ad6-150b-4962-9f24-c8ff2b9f4741",
   "metadata": {},
   "outputs": [],
   "source": [
    "train_score = model.evaluate(x_train, y_train, verbose=0)\n",
    "print('Train mse:', train_score[0])\n",
    "print('Train mae:', train_score[1])\n",
    "print('Train rmae:', (train_score[0] ** (1/2)))"
   ]
  },
  {
   "cell_type": "code",
   "execution_count": null,
   "id": "a47920b9-518c-4515-a198-b38f0b69d123",
   "metadata": {},
   "outputs": [],
   "source": [
    "test_score = model.evaluate(x_test, y_test, verbose=0)\n",
    "print('Test mse:', test_score[0])\n",
    "print('Test mae:', test_score[1])\n",
    "print('Test rmae:', (test_score[0] ** (1/2)))"
   ]
  },
  {
   "cell_type": "markdown",
   "id": "4f7ef472-1406-459c-ae4e-f1ebcb9bfeb2",
   "metadata": {},
   "source": [
    "###### 学習履歴を表示"
   ]
  },
  {
   "cell_type": "code",
   "execution_count": null,
   "id": "c2884f12-99c8-439c-805f-4134fce42893",
   "metadata": {},
   "outputs": [],
   "source": [
    "plot_history_loss(hist)"
   ]
  },
  {
   "cell_type": "code",
   "execution_count": null,
   "id": "707d2063-ed4a-491a-bb3c-0819630c01ce",
   "metadata": {},
   "outputs": [],
   "source": [
    "plot_history_mae(hist)"
   ]
  },
  {
   "cell_type": "markdown",
   "id": "30a3f0c5-23f8-48a8-a1cb-35772a7ca87d",
   "metadata": {},
   "source": [
    "### DNNの２クラス分類器"
   ]
  },
  {
   "cell_type": "markdown",
   "id": "b5747866-92df-4da0-88e8-5bb13040f462",
   "metadata": {},
   "source": [
    "#### データ"
   ]
  },
  {
   "cell_type": "markdown",
   "id": "66d7acb4-5db9-4c5c-b3ff-74d2afba5fea",
   "metadata": {},
   "source": [
    "##### 生成"
   ]
  },
  {
   "cell_type": "markdown",
   "id": "3f68b838-6934-456e-bf27-835fc4018f46",
   "metadata": {},
   "source": [
    "###### ダウンロードしてDFに読込"
   ]
  },
  {
   "cell_type": "code",
   "execution_count": null,
   "id": "848e63ab-cefe-4a07-9f15-7b4309a10ea1",
   "metadata": {},
   "outputs": [],
   "source": [
    "proxies = { # プロキシ設定\n",
    "\"http\":\"http://<user_name>:<password>@<proxy_host>:<proxy_port>/\",\n",
    "\"https\":\"https://<user_name>:<password>@<proxy_host>:<proxy_port>/\"\n",
    "}\n",
    "\n",
    "url = 'https://dotnetdevelopmentinfrastructure.osscons.jp/index.php?plugin=attach&pcmd=open&file=diabetes.csv&refer=FrontPage'\n",
    "res = requests.get(url) # , verify=False, proxies=proxies) # プロキシ\n",
    "df = pd.read_csv(io.BytesIO(res.content), encoding='utf-8', sep=\",\")\n",
    "df"
   ]
  },
  {
   "cell_type": "markdown",
   "id": "b9a68b41-3f44-451e-aa5f-35be9ffd2173",
   "metadata": {},
   "source": [
    "###### [説明を参照](https://dotnetdevelopmentinfrastructure.osscons.jp/index.php?%E3%83%87%E3%83%BC%E3%82%BF%E3%83%9E%E3%82%A4%E3%83%8B%E3%83%B3%E3%82%B0%EF%BC%88DM%EF%BC%89-%20DataSet#j443d0cb)"
   ]
  },
  {
   "cell_type": "code",
   "execution_count": null,
   "id": "dd36b2d4-868e-4773-a510-faa7dff4e7af",
   "metadata": {},
   "outputs": [],
   "source": [
    "df.columns"
   ]
  },
  {
   "cell_type": "markdown",
   "id": "a2fd419f-19ec-4510-952e-b177767ddb2d",
   "metadata": {},
   "source": [
    "##### 加工\n",
    "..."
   ]
  },
  {
   "cell_type": "markdown",
   "id": "b16938e6-bf23-4838-b6b4-bb51aa3214f6",
   "metadata": {},
   "source": [
    "##### 理解"
   ]
  },
  {
   "cell_type": "code",
   "execution_count": null,
   "id": "ae0aa5c6-5a18-442a-bee9-55e276b3e96d",
   "metadata": {},
   "outputs": [],
   "source": [
    "# 基本統計量\n",
    "df.describe()"
   ]
  },
  {
   "cell_type": "code",
   "execution_count": null,
   "id": "badbb5a7-cbf0-4e81-a8d6-460044d2e4e1",
   "metadata": {},
   "outputs": [],
   "source": [
    "# 相関係数（相関行列）\n",
    "df.corr()"
   ]
  },
  {
   "cell_type": "code",
   "execution_count": null,
   "id": "a318b85e-c522-470e-8f21-0178ef13cb62",
   "metadata": {},
   "outputs": [],
   "source": [
    "# ヒートマップに表示\n",
    "plt.figure(figsize=(10, 10))\n",
    "sns.heatmap(df.corr(), annot=True, square=True, fmt='.2f')\n",
    "plt.show()"
   ]
  },
  {
   "cell_type": "code",
   "execution_count": null,
   "id": "d71b9a1d-ba89-4c74-8efc-6dab4b569f23",
   "metadata": {},
   "outputs": [],
   "source": [
    "# 散布図行列を表示\n",
    "#sns.pairplot(df, hue='Outcome')"
   ]
  },
  {
   "cell_type": "markdown",
   "id": "4d83b8d5-7d5a-42c7-b318-eaebdec062e1",
   "metadata": {},
   "source": [
    "##### 準備"
   ]
  },
  {
   "cell_type": "markdown",
   "id": "06820811-3798-4219-8031-3ad7574d789f",
   "metadata": {},
   "source": [
    "###### 説明変数・目的変数の選択・分割"
   ]
  },
  {
   "cell_type": "code",
   "execution_count": null,
   "id": "bc1a1e01-05aa-4df0-842d-d00df37465be",
   "metadata": {},
   "outputs": [],
   "source": [
    "x_org = np.array(df.loc[:, ['Pregnancies','Glucose','BMI', 'Age']])\n",
    "y_org = np.array(df.loc[:, ['Outcome']])"
   ]
  },
  {
   "cell_type": "markdown",
   "id": "171a504c-c256-415e-b8ee-45467d8bb3c1",
   "metadata": {},
   "source": [
    "###### 標準化"
   ]
  },
  {
   "cell_type": "code",
   "execution_count": null,
   "id": "65f51936-0a2b-4ad7-b155-f95bdbcb31cf",
   "metadata": {},
   "outputs": [],
   "source": [
    "ss = StandardScaler()\n",
    "x = ss.fit_transform(x_org)\n",
    "\n",
    "# 確認\n",
    "## 平均が ≒ 0\n",
    "print(\"x.mean(): \", x.mean())\n",
    "## 標準偏差が ≒ 1\n",
    "print(\"x.std(): \", x.std())"
   ]
  },
  {
   "cell_type": "markdown",
   "id": "acef28ea-05b6-40b9-b3f8-d80fd691f5de",
   "metadata": {},
   "source": [
    "###### 学習・テストデータの分割（ホールド・アウト法"
   ]
  },
  {
   "cell_type": "code",
   "execution_count": null,
   "id": "61c28812-8691-4baf-b7aa-2db21f9a5f9f",
   "metadata": {},
   "outputs": [],
   "source": [
    "x_train, x_test, y_train, y_test = train_test_split(x, y_org, test_size = 0.3, random_state = 0)"
   ]
  },
  {
   "cell_type": "markdown",
   "id": "85e84b5c-6d36-4797-bd9c-784c7aa7ef2e",
   "metadata": {},
   "source": [
    "#### モデリング"
   ]
  },
  {
   "cell_type": "markdown",
   "id": "6a7fcd2c-16b1-445d-9641-755dbe928c73",
   "metadata": {},
   "source": [
    "##### DNNの定義\n",
    "- 入力層  \n",
    "入力ベクトルの要素数だけ。\n",
    "- 隠れ層が\n",
    "  - 2つ\n",
    "  - 64ノードづつ\n",
    "  - 活性化関数はrelu\n",
    "- 出力層  \n",
    "２クラス分類なので\n",
    "  - ノードは１つ（0-1）\n",
    "  - 活性化関数はsigmoid"
   ]
  },
  {
   "cell_type": "code",
   "execution_count": null,
   "id": "99d5a7b0-4bd4-412c-ba53-445b1495f227",
   "metadata": {},
   "outputs": [],
   "source": [
    "model = keras.Sequential([\n",
    "    keras.layers.Dense(64, activation=tf.nn.relu,\n",
    "                       input_shape=(x_train.shape[1],)),\n",
    "    keras.layers.Dense(64, activation=tf.nn.relu),\n",
    "    keras.layers.Dense(1, activation=tf.nn.sigmoid)\n",
    "])"
   ]
  },
  {
   "cell_type": "markdown",
   "id": "b849263f-3861-4a89-8190-4a899d5e8e36",
   "metadata": {},
   "source": [
    "##### コンパイル\n",
    "- 2値分類の損失関数は二値交差エントロピー（binary_crossentropy）\n",
    "- [optimizer=Adam](TensorFlowAndKeras0.ipynb)を指定する。\n",
    "- metricsは正解率（accuracy）"
   ]
  },
  {
   "cell_type": "code",
   "execution_count": null,
   "id": "e232bc4a-431a-4cb9-a7f8-166aeec7fdd5",
   "metadata": {},
   "outputs": [],
   "source": [
    "# metricsにf1_score, precision, recallの評価関数を定義して指定することも可能\n",
    "model.compile(loss='binary_crossentropy', optimizer=Adam(), metrics=['accuracy'])"
   ]
  },
  {
   "cell_type": "markdown",
   "id": "a0d1fc8e-fc61-4b45-b15d-b1cbd9ad41e8",
   "metadata": {},
   "source": [
    "##### 確認"
   ]
  },
  {
   "cell_type": "code",
   "execution_count": null,
   "id": "6b840e2b-bba8-4009-8dd6-c0e63a265b10",
   "metadata": {},
   "outputs": [],
   "source": [
    "model.summary()"
   ]
  },
  {
   "cell_type": "markdown",
   "id": "a7b38990-cf47-4dfd-b6f9-3884f9915982",
   "metadata": {},
   "source": [
    "#### 実行"
   ]
  },
  {
   "cell_type": "markdown",
   "id": "f371d0fb-ee9f-4b98-931b-de2960e605c0",
   "metadata": {},
   "source": [
    "##### 学習"
   ]
  },
  {
   "cell_type": "code",
   "execution_count": null,
   "id": "e2b438eb-1e7a-4c2b-aeff-74bb5e90fb30",
   "metadata": {},
   "outputs": [],
   "source": [
    "batch_size = 10\n",
    "n_epoch = 200\n",
    "hist = model.fit(x_train, y_train,\n",
    "                 batch_size=batch_size,\n",
    "                 epochs=n_epoch,\n",
    "                 validation_data=(x_test, y_test),\n",
    "                 verbose=0)"
   ]
  },
  {
   "cell_type": "markdown",
   "id": "c795f281-2946-4f42-bcba-e1eae7f6f933",
   "metadata": {},
   "source": [
    "##### 推論"
   ]
  },
  {
   "cell_type": "code",
   "execution_count": null,
   "id": "d2349e29-44f0-41e7-994a-746220612c5e",
   "metadata": {},
   "outputs": [],
   "source": [
    "y_pred = model.predict(x)"
   ]
  },
  {
   "cell_type": "markdown",
   "id": "3153f68d-5f70-4733-9ede-75a46ded0ea2",
   "metadata": {},
   "source": [
    "#### 評価"
   ]
  },
  {
   "cell_type": "markdown",
   "id": "395b30de-3afe-466b-9390-3b83546b7706",
   "metadata": {},
   "source": [
    "###### 実測・予測を表示"
   ]
  },
  {
   "cell_type": "code",
   "execution_count": null,
   "id": "9d9d6ce1-f951-4e96-b2cf-009eac875ea5",
   "metadata": {},
   "outputs": [],
   "source": [
    "y_pred = np.array(np.round(y_pred), dtype=np.int64)\n",
    "ret = (y_org == y_pred)\n",
    "(len(np.where(ret==True)[0]) / ret.size)"
   ]
  },
  {
   "cell_type": "markdown",
   "id": "8dafdc40-b481-4fe7-8804-c910b863a921",
   "metadata": {},
   "source": [
    "###### [スコアを表示](https://dotnetdevelopmentinfrastructure.osscons.jp/index.php?%E3%83%87%E3%83%BC%E3%82%BF%E3%83%9E%E3%82%A4%E3%83%8B%E3%83%B3%E3%82%B0%EF%BC%88DM%EF%BC%89-%20CRISP-DM#uf759972)"
   ]
  },
  {
   "cell_type": "code",
   "execution_count": null,
   "id": "c86fa282-ddd1-4bc8-890f-e969e1342c0e",
   "metadata": {},
   "outputs": [],
   "source": [
    "print(model.metrics_names)"
   ]
  },
  {
   "cell_type": "code",
   "execution_count": null,
   "id": "43a07f37-7a1d-4119-b183-c6eeadb56af7",
   "metadata": {},
   "outputs": [],
   "source": [
    "score = model.evaluate(x, y_org, verbose=0)\n",
    "print('loss:', score[0])\n",
    "print('accuracy:', score[1])"
   ]
  },
  {
   "cell_type": "code",
   "execution_count": null,
   "id": "ad91e676-6877-4609-918e-fd0782e941e5",
   "metadata": {},
   "outputs": [],
   "source": [
    "train_score = model.evaluate(x_train, y_train, verbose=0)\n",
    "print('Train loss:', train_score[0])\n",
    "print('Train accuracy:', train_score[1])"
   ]
  },
  {
   "cell_type": "code",
   "execution_count": null,
   "id": "73deaf9b-a258-4554-9deb-dd028059133c",
   "metadata": {},
   "outputs": [],
   "source": [
    "test_score = model.evaluate(x_test, y_test, verbose=0)\n",
    "print('Test loss:', test_score[0])\n",
    "print('Test accuracy:', test_score[1])"
   ]
  },
  {
   "cell_type": "markdown",
   "id": "9a05526a-31e0-4d1b-9242-ea392780bc08",
   "metadata": {},
   "source": [
    "###### 混同行列"
   ]
  },
  {
   "cell_type": "code",
   "execution_count": null,
   "id": "4f956055-ac5a-4b2b-b0a6-c8b529750a1e",
   "metadata": {},
   "outputs": [],
   "source": [
    "cm_minst = confusion_matrix(y_org, y_pred)\n",
    "print(cm_minst.dtype)\n",
    "print(cm_minst)"
   ]
  },
  {
   "cell_type": "code",
   "execution_count": null,
   "id": "02c94c9b-4400-454c-b259-f15f4e593184",
   "metadata": {},
   "outputs": [],
   "source": [
    "print_metrics(y_org, y_pred)"
   ]
  },
  {
   "cell_type": "markdown",
   "id": "0181945b-2c25-48c3-837f-4bf8cccf729d",
   "metadata": {},
   "source": [
    "###### 学習履歴を表示\n",
    "- がっつり過学習している。\n",
    "- [過学習を抑止してスコアが上がるかどうか？](https://qiita.com/hiroyuki827/items/213146d551a6e2227810)"
   ]
  },
  {
   "cell_type": "code",
   "execution_count": null,
   "id": "b471cdc3-c687-4c02-bd8d-6193186c5ac2",
   "metadata": {},
   "outputs": [],
   "source": [
    "plot_history_loss(hist)"
   ]
  },
  {
   "cell_type": "code",
   "execution_count": null,
   "id": "4beb9de1-716b-4520-9d7c-af3e7b0d3a6e",
   "metadata": {},
   "outputs": [],
   "source": [
    "plot_history_acc(hist)"
   ]
  },
  {
   "cell_type": "markdown",
   "id": "306e0c46-aa4a-4975-872a-3792ef35e16f",
   "metadata": {},
   "source": [
    "### DNNの多クラス分類器"
   ]
  },
  {
   "cell_type": "markdown",
   "id": "1cdfe215-d970-4213-b90e-dd603f48eb84",
   "metadata": {},
   "source": [
    "#### データ"
   ]
  },
  {
   "cell_type": "markdown",
   "id": "320f481a-a118-49c2-a8f8-572e56e53bf3",
   "metadata": {},
   "source": [
    "##### 生成\n",
    "[クラス分類器](ScikitLearnTraining3.ipynb)で使用したデータを使用。"
   ]
  },
  {
   "cell_type": "code",
   "execution_count": null,
   "id": "933459a8-c088-4dac-bd1c-459e7ce39dc9",
   "metadata": {},
   "outputs": [],
   "source": [
    "iris = datasets.load_iris()\n",
    "df_data = pd.DataFrame(iris.data, columns=iris.feature_names)\n",
    "df_target = pd.DataFrame(iris.target, columns=['species'])\n",
    "df = pd.concat([df_data, df_target], axis=1)"
   ]
  },
  {
   "cell_type": "markdown",
   "id": "35eab3e2-8020-49c2-802f-628598f93969",
   "metadata": {},
   "source": [
    "##### 加工\n",
    "..."
   ]
  },
  {
   "cell_type": "markdown",
   "id": "0987d482-a5bd-4a86-8b4e-f2b5a564ccf6",
   "metadata": {},
   "source": [
    "##### 理解\n",
    "..."
   ]
  },
  {
   "cell_type": "markdown",
   "id": "40a86976-df99-491f-9d34-ee49c2c76ce2",
   "metadata": {},
   "source": [
    "##### 準備"
   ]
  },
  {
   "cell_type": "markdown",
   "id": "88b86079-1cca-4ff5-91f5-1a546f64a555",
   "metadata": {},
   "source": [
    "###### 説明変数・目的変数の選択・分割"
   ]
  },
  {
   "cell_type": "code",
   "execution_count": null,
   "id": "087cb9cb-baf2-45cb-9ee4-c9efbfaf3f3a",
   "metadata": {},
   "outputs": [],
   "source": [
    "np_arr=np.array(df)\n",
    "\n",
    "# n = 100で2値分類\n",
    "# n = 150で3値分類\n",
    "n = 150\n",
    "\n",
    "# PetalLengthCm, PetalWidthCm列の選択\n",
    "#x=np_arr[:n, 2:4] \n",
    "# 全列の選択\n",
    "x=np_arr[:n, 0:4] \n",
    "\n",
    "# Species列の選択\n",
    "y=np.array(np_arr[:n, 4:5],dtype=np.int64) # 要素の型をint64に変換"
   ]
  },
  {
   "cell_type": "markdown",
   "id": "8a066227-d1a7-440d-b333-121f20fd9aa6",
   "metadata": {},
   "source": [
    "###### 標準化\n",
    "カテゴリ・データは対象外"
   ]
  },
  {
   "cell_type": "code",
   "execution_count": null,
   "id": "d20d740d-ba22-4d54-9966-f97b1f74777f",
   "metadata": {},
   "outputs": [],
   "source": [
    "ss = StandardScaler()\n",
    "ss.fit(x)\n",
    "x_std = ss.transform(x)"
   ]
  },
  {
   "cell_type": "markdown",
   "id": "c3eec669-9420-469b-8027-474b2f8138e5",
   "metadata": {},
   "source": [
    "###### one-hotエンコーディング\n",
    "Keras（≒ 深層学習）では正解ラベルはOne-Hotベクトル化が必要。"
   ]
  },
  {
   "cell_type": "code",
   "execution_count": null,
   "id": "f6ad2898-731d-4dc0-88d2-5e08a19c76b7",
   "metadata": {},
   "outputs": [],
   "source": [
    "yy = to_categorical(y)"
   ]
  },
  {
   "cell_type": "markdown",
   "id": "38387eb9-aef0-45ff-b173-3facd6edacf7",
   "metadata": {},
   "source": [
    "###### 学習・テストデータの分割"
   ]
  },
  {
   "cell_type": "code",
   "execution_count": null,
   "id": "f3d625a2-48db-472a-8001-1364e09a3f79",
   "metadata": {},
   "outputs": [],
   "source": [
    "x_train, x_test, y_train, y_test = train_test_split(x_std, yy, test_size=0.3, random_state=0)"
   ]
  },
  {
   "cell_type": "markdown",
   "id": "9c47377f-8272-4892-b1d7-ac32442717e5",
   "metadata": {},
   "source": [
    "#### モデリング"
   ]
  },
  {
   "cell_type": "markdown",
   "id": "16117b3a-c8f1-4814-8c57-b32a7f23f87c",
   "metadata": {},
   "source": [
    "##### DNNの定義\n",
    "- 入力層  \n",
    "入力ベクトルの要素数だけ。\n",
    "- 隠れ層が\n",
    "  - 1つ\n",
    "  - 100ノード\n",
    "  - 活性化関数はrelu\n",
    "- 出力層  \n",
    "多クラス分類なので\n",
    "  - ノードは分類の数だけ\n",
    "  - 活性化関数はsoftmax"
   ]
  },
  {
   "cell_type": "code",
   "execution_count": null,
   "id": "437d9407-4c2b-41aa-ba99-dee3368b22cb",
   "metadata": {},
   "outputs": [],
   "source": [
    "model = Sequential([\n",
    "    Dense(100, activation=tf.nn.relu,\n",
    "          input_shape=(x_train.shape[1],)),\n",
    "    Dense(3, activation=tf.nn.softmax)\n",
    "])"
   ]
  },
  {
   "cell_type": "markdown",
   "id": "0df21983-ed68-4e3d-9ee1-9823cd5677a6",
   "metadata": {},
   "source": [
    "##### コンパイル\n",
    "- 多値分類の損失関数は交差エントロピー（categorical_crossentropy）\n",
    "- [optimizer=Adam](TensorFlowAndKeras0.ipynb)を指定する。\n",
    "- metricsは正解率（accuracy）"
   ]
  },
  {
   "cell_type": "code",
   "execution_count": null,
   "id": "6aba0149-6ec2-4436-a35a-0ccb38cd631d",
   "metadata": {},
   "outputs": [],
   "source": [
    "model.compile(\n",
    "    loss='categorical_crossentropy',\n",
    "    optimizer=Adam(learning_rate=0.01),\n",
    "    metrics=['accuracy'])"
   ]
  },
  {
   "cell_type": "markdown",
   "id": "dbc2befe-34b1-44bb-b493-2bb41e515622",
   "metadata": {},
   "source": [
    "##### 確認"
   ]
  },
  {
   "cell_type": "code",
   "execution_count": null,
   "id": "1c2f7a6f-fded-4920-a790-127957451a65",
   "metadata": {},
   "outputs": [],
   "source": [
    "model.summary()"
   ]
  },
  {
   "cell_type": "markdown",
   "id": "c0411385-6db6-4c59-b135-bb0438735d63",
   "metadata": {},
   "source": [
    "#### 実行"
   ]
  },
  {
   "cell_type": "markdown",
   "id": "71065675-2fe3-4f1f-b252-b1bcc18f276b",
   "metadata": {},
   "source": [
    "##### 学習"
   ]
  },
  {
   "cell_type": "code",
   "execution_count": null,
   "id": "f51f25cb-214b-4d67-bdfb-bbc5fd6d8886",
   "metadata": {},
   "outputs": [],
   "source": [
    "batch_size = 10\n",
    "n_epoch = 50\n",
    "hist = model.fit(x_train, y_train,\n",
    "                 batch_size=batch_size,\n",
    "                 epochs=n_epoch,\n",
    "                 validation_data=(x_test, y_test),\n",
    "                 verbose=0)"
   ]
  },
  {
   "cell_type": "markdown",
   "id": "7ad60d24-cd83-45e7-b901-4945b2f170a1",
   "metadata": {},
   "source": [
    "##### 推論"
   ]
  },
  {
   "cell_type": "code",
   "execution_count": null,
   "id": "f291b305-0e7e-462f-adc2-74b7f2a7b5a9",
   "metadata": {},
   "outputs": [],
   "source": [
    "yy_pred = model.predict(x_std)"
   ]
  },
  {
   "cell_type": "markdown",
   "id": "b4caaa6b-6cca-4b39-9a2c-c35af9b4551d",
   "metadata": {},
   "source": [
    "#### 評価"
   ]
  },
  {
   "cell_type": "markdown",
   "id": "cac1dade-f01c-45b7-9b33-9cd28edaa1a5",
   "metadata": {},
   "source": [
    "###### 実測・予測を表示"
   ]
  },
  {
   "cell_type": "code",
   "execution_count": null,
   "id": "e4e8a643-f445-4a03-9b96-a05e1f826dad",
   "metadata": {},
   "outputs": [],
   "source": [
    "y_pred = np.array(yy_pred.argmax(axis=-1), dtype=np.int64)\n",
    "ret = (y.flatten() == y_pred)\n",
    "(len(np.where(ret==True)[0]) / ret.size)"
   ]
  },
  {
   "cell_type": "markdown",
   "id": "293df0a7-a47d-462e-ab8e-c510cf4b3f95",
   "metadata": {},
   "source": [
    "###### [スコアを表示](https://dotnetdevelopmentinfrastructure.osscons.jp/index.php?%E3%83%87%E3%83%BC%E3%82%BF%E3%83%9E%E3%82%A4%E3%83%8B%E3%83%B3%E3%82%B0%EF%BC%88DM%EF%BC%89-%20CRISP-DM#uf759972)"
   ]
  },
  {
   "cell_type": "code",
   "execution_count": null,
   "id": "9575cc48-711f-4240-a78e-4dcbce6b7b7c",
   "metadata": {},
   "outputs": [],
   "source": [
    "print(model.metrics_names)"
   ]
  },
  {
   "cell_type": "code",
   "execution_count": null,
   "id": "6a64de2d-882d-4278-8a24-6165ea52dc4a",
   "metadata": {},
   "outputs": [],
   "source": [
    "score = model.evaluate(x_std, yy)\n",
    "print('loss:', score[0])\n",
    "print('accuracy:', score[1])"
   ]
  },
  {
   "cell_type": "code",
   "execution_count": null,
   "id": "d7afc2e2-ca89-4816-9a65-4f868dfeb3db",
   "metadata": {},
   "outputs": [],
   "source": [
    "train_score = model.evaluate(x_train, y_train)\n",
    "print('Train loss:', train_score[0])\n",
    "print('Train accuracy:', train_score[1])"
   ]
  },
  {
   "cell_type": "code",
   "execution_count": null,
   "id": "b04751da-a4cf-45c7-a89e-2f44229eedd8",
   "metadata": {},
   "outputs": [],
   "source": [
    "test_score = model.evaluate(x_test, y_test)\n",
    "print('Test loss:', test_score[0])\n",
    "print('Test accuracy:', test_score[1])"
   ]
  },
  {
   "cell_type": "markdown",
   "id": "7165fddf-d76c-4c28-950e-0c87d8b1181c",
   "metadata": {},
   "source": [
    "###### 混同行列\n",
    "間違い易い組合せが解る。"
   ]
  },
  {
   "cell_type": "code",
   "execution_count": null,
   "id": "dfe4e1cb-6a61-42dc-ac2c-c5ea538f565e",
   "metadata": {},
   "outputs": [],
   "source": [
    "cm_minst = confusion_matrix(y, y_pred)\n",
    "print(cm_minst.dtype)\n",
    "print(cm_minst)"
   ]
  },
  {
   "cell_type": "code",
   "execution_count": null,
   "id": "a087be53-aee9-4da0-9915-e9d10fb00dc7",
   "metadata": {},
   "outputs": [],
   "source": [
    "print_metrics(y, y_pred)"
   ]
  },
  {
   "cell_type": "markdown",
   "id": "84c89d28-9ec8-46e0-adc1-21026476da7d",
   "metadata": {},
   "source": [
    "###### 学習履歴を表示"
   ]
  },
  {
   "cell_type": "code",
   "execution_count": null,
   "id": "3f3cf9ed-62b7-4590-92f6-eee993689266",
   "metadata": {},
   "outputs": [],
   "source": [
    "plot_history_loss(hist)"
   ]
  },
  {
   "cell_type": "code",
   "execution_count": null,
   "id": "9ec9aba9-b667-4a40-9316-5128891484b9",
   "metadata": {},
   "outputs": [],
   "source": [
    "plot_history_acc(hist)"
   ]
  }
 ],
 "metadata": {
  "kernelspec": {
   "display_name": "Python 3 (ipykernel)",
   "language": "python",
   "name": "python3"
  },
  "language_info": {
   "codemirror_mode": {
    "name": "ipython",
    "version": 3
   },
   "file_extension": ".py",
   "mimetype": "text/x-python",
   "name": "python",
   "nbconvert_exporter": "python",
   "pygments_lexer": "ipython3",
   "version": "3.10.4"
  }
 },
 "nbformat": 4,
 "nbformat_minor": 5
}
