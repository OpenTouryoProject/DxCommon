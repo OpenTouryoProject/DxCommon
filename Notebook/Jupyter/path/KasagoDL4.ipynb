{
 "cells": [
  {
   "cell_type": "markdown",
   "id": "f411ca43-7579-4ada-9c84-f8a4e38561d5",
   "metadata": {},
   "source": [
    "# o'reillyのカサゴ深層学習の本\n",
    "\n",
    "## ニューラルネットワークのオプション\n",
    "- [勾配降下法アルゴリズムの選択](#勾配降下法アルゴリズムの選択)\n",
    "- ...\n",
    "\n",
    "## [目次](TableOfContents.ipynb)\n",
    "\n",
    "## 参考\n",
    "- https://github.com/oreilly-japan/deep-learning-from-scratch/blob/master/notebooks/"
   ]
  },
  {
   "cell_type": "markdown",
   "id": "6facae51-ad80-4d63-ba4b-ec1a151998dd",
   "metadata": {},
   "source": [
    "## 勾配降下法アルゴリズムの選択"
   ]
  },
  {
   "cell_type": "markdown",
   "id": "af4b8c4b-ffb6-4334-aa85-feb4d87a2bbe",
   "metadata": {
    "jp-MarkdownHeadingCollapsed": true,
    "tags": []
   },
   "source": [
    "### アルゴリズム\n",
    "- [SGD](https://dotnetdevelopmentinfrastructure.osscons.jp/index.php?%E6%B7%B1%E5%B1%A4%E5%AD%A6%E7%BF%92%E3%81%AE%E3%83%86%E3%82%AF%E3%83%8B%E3%83%83%E3%82%AF#o2fe1f26)\n",
    "- [MomentumSGD](https://dotnetdevelopmentinfrastructure.osscons.jp/index.php?%E6%B7%B1%E5%B1%A4%E5%AD%A6%E7%BF%92%E3%81%AE%E3%83%86%E3%82%AF%E3%83%8B%E3%83%83%E3%82%AF#afd9f568)\n",
    "- [NesterovAG](https://dotnetdevelopmentinfrastructure.osscons.jp/index.php?%E6%B7%B1%E5%B1%A4%E5%AD%A6%E7%BF%92%E3%81%AE%E3%83%86%E3%82%AF%E3%83%8B%E3%83%83%E3%82%AF#ja838935)\n",
    "- [AdaGrad](https://dotnetdevelopmentinfrastructure.osscons.jp/index.php?%E6%B7%B1%E5%B1%A4%E5%AD%A6%E7%BF%92%E3%81%AE%E3%83%86%E3%82%AF%E3%83%8B%E3%83%83%E3%82%AF#u12d8d2f)\n",
    "- [RMSprop](https://dotnetdevelopmentinfrastructure.osscons.jp/index.php?%E6%B7%B1%E5%B1%A4%E5%AD%A6%E7%BF%92%E3%81%AE%E3%83%86%E3%82%AF%E3%83%8B%E3%83%83%E3%82%AF#kdd7cbe0)\n",
    "- [AdaDelta](https://dotnetdevelopmentinfrastructure.osscons.jp/index.php?%E6%B7%B1%E5%B1%A4%E5%AD%A6%E7%BF%92%E3%81%AE%E3%83%86%E3%82%AF%E3%83%8B%E3%83%83%E3%82%AF#dc5e4977)\n",
    "- [Adam](https://dotnetdevelopmentinfrastructure.osscons.jp/index.php?%E6%B7%B1%E5%B1%A4%E5%AD%A6%E7%BF%92%E3%81%AE%E3%83%86%E3%82%AF%E3%83%8B%E3%83%83%E3%82%AF#z75dbbb3)"
   ]
  },
  {
   "cell_type": "markdown",
   "id": "38bff0de-f9c4-44e4-a71d-882cff427a3a",
   "metadata": {
    "tags": []
   },
   "source": [
    "### 検証用の曲面の説明"
   ]
  },
  {
   "cell_type": "markdown",
   "id": "fb49366c-e2e5-49b5-b962-b02a07237b11",
   "metadata": {
    "tags": []
   },
   "source": [
    "#### 曲面のイメージ"
   ]
  },
  {
   "cell_type": "code",
   "execution_count": null,
   "id": "e6c41dce-926c-41e6-a8a0-af19b4317d85",
   "metadata": {},
   "outputs": [],
   "source": [
    "import numpy as np\n",
    "import matplotlib.pylab as plt\n",
    "\n",
    "# x0, x1 を -4 ～ +4 まで0.25刻み\n",
    "x = np.arange(-4, 4, 0.25)\n",
    "y = np.arange(-4, 4, 0.25)\n",
    "\n",
    "# 格子点（X, Y）\n",
    "X, Y = np.meshgrid(x, y)\n",
    "\n",
    "# 格、格子点でのZ\n",
    "Z = X**2 / 20.0 + Y**2\n",
    "\n",
    "# ワイヤーフレーム図を作成\n",
    "fig = plt.figure(figsize=(8, 8)) # 図の設定\n",
    "ax = fig.add_subplot(projection='3d') # 3D用の設定\n",
    "ax.plot_wireframe(X, Y, Z) # ワイヤーフレーム図\n",
    "ax.set_xlabel('x') # x軸ラベル\n",
    "ax.set_ylabel('y') # y軸ラベル\n",
    "ax.set_zlabel('z') # z軸ラベル\n",
    "plt.show()"
   ]
  },
  {
   "cell_type": "markdown",
   "id": "8b9abd35-bd97-4dd1-8b01-848ff26af228",
   "metadata": {
    "tags": []
   },
   "source": [
    "#### 曲面の偏微分"
   ]
  },
  {
   "cell_type": "markdown",
   "id": "8d70983e-2012-4c74-8a99-276a8eee07d5",
   "metadata": {
    "tags": []
   },
   "source": [
    "##### 偏微分して勾配を計算"
   ]
  },
  {
   "cell_type": "code",
   "execution_count": null,
   "id": "e2f92a96-e68c-492a-a8d1-84f8862648b5",
   "metadata": {},
   "outputs": [],
   "source": [
    "# cf.http://d.hatena.ne.jp/white_wheels/20100327/p3\n",
    "import numpy as np\n",
    "import matplotlib.pylab as plt\n",
    "from mpl_toolkits.mplot3d import Axes3D\n",
    "\n",
    "# 偏微分（勾配を返す）\n",
    "def numerical_gradient(f, X):\n",
    "    h = 1e-4  # 0.0001\n",
    "    \n",
    "    # 要素の値が0の同じ形式のn行２列の行列\n",
    "    grad1 = np.zeros_like(X)\n",
    "        \n",
    "    for idx1, x in enumerate(X):\n",
    "        \n",
    "        # 要素の値が0の同じ形式の２列のベクトル\n",
    "        grad2 = np.zeros_like(x)\n",
    "        \n",
    "        for idx2 in range(x.size):\n",
    "            tmp_val = x[idx2]\n",
    "            \n",
    "            x[idx2] = float(tmp_val) + h\n",
    "            fxh1 = f(x)  # f(x+h)\n",
    "            \n",
    "            x[idx2] = tmp_val - h \n",
    "            fxh2 = f(x)  # f(x-h)\n",
    "            \n",
    "            grad2[idx2] = (fxh1 - fxh2) / (2*h)\n",
    "            x[idx2] = tmp_val  # 値を元に戻す\n",
    "        \n",
    "        grad1[idx1] = grad2\n",
    "        \n",
    "    return grad1\n",
    "\n",
    "# 偏微分対象の関数（曲面）\n",
    "def function_3(x):\n",
    "    return x[0]**2 / 20.0 + x[1]**2\n",
    "\n",
    "# 曲面の格子点での勾配を計算\n",
    "# 格子点をベクトル化して\n",
    "_X = X.flatten()\n",
    "_Y = Y.flatten()\n",
    "# n行２列の全ペアにして（.Tは転置を意味）\n",
    "koushiten = np.array([_X, _Y]).T\n",
    "# 格子点での勾配を返す（.Tは転置を意味）\n",
    "grad = numerical_gradient(function_3, koushiten).T"
   ]
  },
  {
   "cell_type": "markdown",
   "id": "26eb13c7-21b7-4815-ada5-7615b4d8b487",
   "metadata": {
    "tags": []
   },
   "source": [
    "##### 結果の図示"
   ]
  },
  {
   "cell_type": "markdown",
   "id": "4aa22c74-7ba5-4a33-a5ca-290549b1f7f7",
   "metadata": {
    "tags": []
   },
   "source": [
    "###### 図示１"
   ]
  },
  {
   "cell_type": "code",
   "execution_count": null,
   "id": "8dabd6dc-d4c1-40d7-a098-8ad7b7016e3d",
   "metadata": {},
   "outputs": [],
   "source": [
    "# 図示 \n",
    "plt.figure()\n",
    "# ベクトル場を表示\n",
    "plt.quiver(_X, _Y, -grad[0], -grad[1],  angles=\"xy\",color=\"#666666\")\n",
    "# 範囲\n",
    "plt.xlim([-4, 4])\n",
    "plt.ylim([-4, 4])\n",
    "# 凡例\n",
    "plt.xlabel('x0')\n",
    "plt.ylabel('x1')\n",
    "\n",
    "plt.grid()\n",
    "plt.draw()\n",
    "plt.show()"
   ]
  },
  {
   "cell_type": "markdown",
   "id": "03e9b722-5db6-499f-b4b4-156c9af5e929",
   "metadata": {
    "tags": []
   },
   "source": [
    "###### 図示２\n",
    "等高線を足してみる。"
   ]
  },
  {
   "cell_type": "code",
   "execution_count": null,
   "id": "97297b1d-e27d-4eb4-b8c0-d3f0b71e51b9",
   "metadata": {},
   "outputs": [],
   "source": [
    "# 図示 \n",
    "plt.figure()\n",
    "\n",
    "# 等高線を表示 --------------------\n",
    "plt.contourf(X, Y, Z, alpha=0.5)\n",
    "# ---------------------------------\n",
    "\n",
    "# ベクトル場を表示\n",
    "plt.quiver(_X, _Y, -grad[0], -grad[1],  angles=\"xy\",color=\"#666666\")\n",
    "\n",
    "# 範囲\n",
    "plt.xlim([-4, 4])\n",
    "plt.ylim([-4, 4])\n",
    "# 凡例\n",
    "plt.xlabel('x0')\n",
    "plt.ylabel('x1')\n",
    "\n",
    "plt.grid()\n",
    "plt.draw()\n",
    "plt.show()"
   ]
  },
  {
   "cell_type": "markdown",
   "id": "90a4cff4-495d-46ea-8ae5-431555e3d64b",
   "metadata": {
    "tags": []
   },
   "source": [
    "###### 図示３\n",
    "曲面に勾配を書いてみる。"
   ]
  },
  {
   "cell_type": "code",
   "execution_count": null,
   "id": "fbdf64d6-8713-4d40-a40d-d41d02ebece9",
   "metadata": {},
   "outputs": [],
   "source": [
    "# 格子点のX、Y軸方向の勾配\n",
    "dX = grad[0, :].reshape(X.shape)\n",
    "dY = grad[1, :].reshape(Y.shape)\n",
    "\n",
    "# Z軸方向の勾配を計算\n",
    "W = np.sqrt(dX**2 + dY**2)\n",
    "\n",
    "fig = plt.figure(figsize=(8, 8)) # 図の設定\n",
    "ax = fig.add_subplot(projection='3d') # 3D用の設定\n",
    "\n",
    "# 曲面\n",
    "ax.plot_wireframe(X, Y, Z) # ワイヤーフレーム図\n",
    "# 勾配\n",
    "ax.quiver(X, Y, Z, -dX/W, -dY/W, -W, \n",
    "          color='green', pivot='tail', arrow_length_ratio=0.1, length=0.5, label='grad') \n",
    "\n",
    "ax.set_xlabel('x') # x軸ラベル\n",
    "ax.set_ylabel('y') # y軸ラベル\n",
    "ax.set_zlabel('z') # z軸ラベル\n",
    "plt.show()"
   ]
  },
  {
   "cell_type": "markdown",
   "id": "547ca9d7-e05e-4ed0-b59b-2ceda137764e",
   "metadata": {},
   "source": [
    "### 実装と検証"
   ]
  },
  {
   "cell_type": "markdown",
   "id": "1cde41ad-59ed-4f0c-9dd2-7250326506d9",
   "metadata": {},
   "source": [
    "#### 実装"
   ]
  },
  {
   "cell_type": "code",
   "execution_count": null,
   "id": "fd66a442-1c1e-4b38-8cdd-58ad9d17bdfc",
   "metadata": {},
   "outputs": [],
   "source": [
    "import sys, os\n",
    "sys.path.append(os.pardir)  # 親ディレクトリのファイルをインポートするための設定\n",
    "import numpy as np\n",
    "import matplotlib.pyplot as plt\n",
    "from collections import OrderedDict\n",
    "from kasago.common.optimizer import *\n",
    "\n",
    "# 曲面\n",
    "def f(x, y):\n",
    "    return x**2 / 20.0 + y**2\n",
    "\n",
    "# 勾配（微分）\n",
    "def df(x, y):\n",
    "    return x / 10.0, 2.0*y\n",
    "\n",
    "# 開始視点\n",
    "init_pos = (-7.0, 2.0)\n",
    "\n",
    "# パラメタ（）\n",
    "params = {}\n",
    "params['x'], params['y'] = init_pos[0], init_pos[1]\n",
    "\n",
    "# 勾配\n",
    "grads = {}\n",
    "grads['x'], grads['y'] = 0, 0\n",
    "\n",
    "# 勾配降下法のアルゴリズム\n",
    "optimizers = OrderedDict()\n",
    "optimizers[\"SGD\"] = SGD(lr=0.95)\n",
    "optimizers[\"Momentum\"] = Momentum(lr=0.1)\n",
    "optimizers[\"AdaGrad\"] = AdaGrad(lr=1.5)\n",
    "optimizers[\"Adam\"] = Adam(lr=0.3)\n",
    "\n",
    "# 表のサイズなど\n",
    "plt.figure(figsize=(8, 8))\n",
    "plt.subplots_adjust(wspace=0.3, hspace=0.3)\n",
    "\n",
    "# アルゴリズムを試す\n",
    "idx = 1\n",
    "for key in optimizers:\n",
    "    optimizer = optimizers[key]\n",
    "    x_history = []\n",
    "    y_history = []\n",
    "    params['x'], params['y'] = init_pos[0], init_pos[1]\n",
    "    \n",
    "    # 勾配降下\n",
    "    for i in range(30):\n",
    "        x_history.append(params['x'])\n",
    "        y_history.append(params['y'])\n",
    "        \n",
    "        # 勾配\n",
    "        grads['x'], grads['y'] = df(params['x'], params['y'])\n",
    "        # 指定のアルゴリズムで（勾配降下\n",
    "        optimizer.update(params, grads)\n",
    "\n",
    "    # x, y を -10, -5 ～ 10, 5 まで0.01刻み\n",
    "    x = np.arange(-10, 10, 0.01)\n",
    "    y = np.arange(-5, 5, 0.01)\n",
    "    \n",
    "    # 格子点（X, Y）\n",
    "    X, Y = np.meshgrid(x, y) \n",
    "    # 格、格子点でのZ\n",
    "    Z = f(X, Y)\n",
    "    \n",
    "    # for simple contour line  \n",
    "    mask = Z > 7\n",
    "    Z[mask] = 0\n",
    "    \n",
    "    # plot \n",
    "    plt.subplot(2, 2, idx)\n",
    "    idx += 1\n",
    "    plt.plot(x_history, y_history, 'o-', color=\"red\")\n",
    "    plt.contour(X, Y, Z)\n",
    "    plt.ylim(-6, 6)\n",
    "    plt.xlim(-10, 10)\n",
    "    plt.plot(0, 0, '+')\n",
    "    #colorbar()\n",
    "    #spring()\n",
    "    plt.title(key)\n",
    "    plt.xlabel(\"x\")\n",
    "    plt.ylabel(\"y\")\n",
    "    \n",
    "plt.show()"
   ]
  },
  {
   "cell_type": "markdown",
   "id": "59e00be5-039e-44e6-ad1c-c93e89297152",
   "metadata": {
    "tags": []
   },
   "source": [
    "#### 検証"
   ]
  },
  {
   "cell_type": "markdown",
   "id": "69fb8909-cb07-4607-b9f3-aa18d04dde88",
   "metadata": {},
   "source": [
    "##### SGD\n",
    "勾配が最も急な向きに勾配を下る手法\n",
    "- 欠点の「最短距離でない、無駄に谷間を往復する。  \n",
    "学習率が大きい場合は無駄な往復が目立つ。」が顕著。\n",
    "- また、このケースでは他のアルゴリズムより学習率の初期値を  \n",
    "大きく設定しており、他のケースでのチューニングが難しい。"
   ]
  },
  {
   "cell_type": "markdown",
   "id": "73f701e6-7b03-4965-ae51-9574067b35d5",
   "metadata": {},
   "source": [
    "##### Momentum\n",
    "[SGD](#SGD)に慣性（加速・減速）の概念を加えた最適化手法｡\n",
    "- 欠点の「加速しているため、極小値付近で止まり難い。」が顕著。\n",
    "- 確かに物理法則に則った様な動きをしており[SGD](#SGD)より効率的。"
   ]
  },
  {
   "cell_type": "markdown",
   "id": "876d4f99-e1af-4724-87a7-8caccddef785",
   "metadata": {},
   "source": [
    "##### AdaGrad\n",
    "- 動いた量が増えたら更新が緩やかにする。\n",
    "- このブレーキ機能は学習率の減衰によって実現されている。"
   ]
  },
  {
   "cell_type": "markdown",
   "id": "9975ea6e-237d-4893-a47d-8ccd5e82e6c6",
   "metadata": {},
   "source": [
    "##### Adam\n",
    "[Momentum](#Momentum)＋[AdaGrad](#AdaGrad)的な。\n",
    "- 慣性（加速・減速）とブレーキ機能を持ち合わせたアルゴリズム\n",
    "- AdaGradの方が効率的に見えるが、場合によっては最適解を発見できる可能性がある。"
   ]
  }
 ],
 "metadata": {
  "kernelspec": {
   "display_name": "Python 3 (ipykernel)",
   "language": "python",
   "name": "python3"
  },
  "language_info": {
   "codemirror_mode": {
    "name": "ipython",
    "version": 3
   },
   "file_extension": ".py",
   "mimetype": "text/x-python",
   "name": "python",
   "nbconvert_exporter": "python",
   "pygments_lexer": "ipython3",
   "version": "3.10.4"
  }
 },
 "nbformat": 4,
 "nbformat_minor": 5
}
