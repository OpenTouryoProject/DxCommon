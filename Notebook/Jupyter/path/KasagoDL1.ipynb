{
 "cells": [
  {
   "cell_type": "markdown",
   "id": "d3df4459-b70f-432f-b772-676ed4fa6be8",
   "metadata": {
    "tags": []
   },
   "source": [
    "# o'reillyのカサゴ深層学習の本\n",
    "\n",
    "## ニューラルネットワークの構成要素\n",
    "- [パーセプトロン](#パーセプトロン)\n",
    "- [活性化関数](#活性化関数)\n",
    "\n",
    "## [目次](TableOfContents.ipynb)\n",
    "\n",
    "## 参考\n",
    "- https://github.com/oreilly-japan/deep-learning-from-scratch/blob/master/notebooks/\n",
    "- [深層学習（deep learning） - 開発基盤部会 Wiki](https://dotnetdevelopmentinfrastructure.osscons.jp/index.php?%E6%B7%B1%E5%B1%A4%E5%AD%A6%E7%BF%92%EF%BC%88deep%20learning%EF%BC%89) > [パーセプトロン](https://dotnetdevelopmentinfrastructure.osscons.jp/index.php?%E3%83%91%E3%83%BC%E3%82%BB%E3%83%97%E3%83%88%E3%83%AD%E3%83%B3)"
   ]
  },
  {
   "cell_type": "markdown",
   "id": "a6fedb81-7d2e-430d-bea9-4d37f58d5387",
   "metadata": {
    "tags": []
   },
   "source": [
    "## パーセプトロン"
   ]
  },
  {
   "cell_type": "markdown",
   "id": "4ec93f2c-23ea-42b0-af56-8cc293bca0af",
   "metadata": {
    "tags": []
   },
   "source": [
    "### パーセプトロンの概要\n",
    "パーセプトロンは\n",
    "- AND, NAND, ORなどの論理回路を表現できる。\n",
    "- 「重み」のパラメタ（w1, w2, θ（-b））の決定は人手によって行われる。\n",
    "- しかし、XORは、\n",
    "  - 単層パーセプトロンでは表現できない。  \n",
    "単層パーセプトロンは、線形領域しか表現できないため。\n",
    "  - 従って、多層パーセプトロン（MLP）を用いる。  \n",
    "多層パーセプトロン（MLP）は、非線形領域を表現できるため。\n",
    "\n",
    "- NANDの組み合わせから、原理的にはコンピュータを作ることができる。\n",
    "\n",
    "<img src=\"../work/single-perceptron.png\" width=\"50%\">\n",
    "\n",
    "https://dotnetdevelopmentinfrastructure.osscons.jp/index.php?%E3%83%91%E3%83%BC%E3%82%BB%E3%83%97%E3%83%88%E3%83%AD%E3%83%B3"
   ]
  },
  {
   "cell_type": "markdown",
   "id": "770cf390-8607-439f-9739-5475e0729969",
   "metadata": {
    "tags": []
   },
   "source": [
    "### パーセプトロンで表現したゲート\n",
    "<img src=\"../work/gates-perceptron.png\" width=\"50%\">"
   ]
  },
  {
   "cell_type": "markdown",
   "id": "3a3a00af-3568-4077-a186-159f20e74abb",
   "metadata": {
    "tags": []
   },
   "source": [
    "#### ANDゲートの実装"
   ]
  },
  {
   "cell_type": "code",
   "execution_count": null,
   "id": "4f605f0a-b13f-4582-80a0-8cdbd93cc5ed",
   "metadata": {},
   "outputs": [],
   "source": [
    "import numpy as np\n",
    "\n",
    "def AND(x1, x2):\n",
    "    x = np.array([x1, x2])\n",
    "    w = np.array([0.5, 0.5])\n",
    "    b = -0.7\n",
    "    tmp = np.sum(w*x) + b\n",
    "    if tmp <= 0:\n",
    "        return 0\n",
    "    else:\n",
    "        return 1\n",
    "\n",
    "if __name__ == '__main__':\n",
    "    for xs in [(0, 0), (1, 0), (0, 1), (1, 1)]:\n",
    "        y = AND(xs[0], xs[1])\n",
    "        print(str(xs) + \" -> \" + str(y))"
   ]
  },
  {
   "cell_type": "markdown",
   "id": "05ca1dfa-7ef2-4768-9a33-ef3e971f6f7f",
   "metadata": {},
   "source": [
    "#### NANDゲートの実装"
   ]
  },
  {
   "cell_type": "code",
   "execution_count": null,
   "id": "fa26f387-c01e-435b-9837-7dee277ab93a",
   "metadata": {},
   "outputs": [],
   "source": [
    "import numpy as np\n",
    "\n",
    "def NAND(x1, x2):\n",
    "    x = np.array([x1, x2])\n",
    "    w = np.array([-0.5, -0.5])\n",
    "    b = 0.7\n",
    "    tmp = np.sum(w*x) + b\n",
    "    if tmp <= 0:\n",
    "        return 0\n",
    "    else:\n",
    "        return 1\n",
    "\n",
    "if __name__ == '__main__':\n",
    "    for xs in [(0, 0), (1, 0), (0, 1), (1, 1)]:\n",
    "        y = NAND(xs[0], xs[1])\n",
    "        print(str(xs) + \" -> \" + str(y))"
   ]
  },
  {
   "cell_type": "markdown",
   "id": "d5f4ac5f-7610-487b-afe0-3428fcd187e5",
   "metadata": {},
   "source": [
    "#### ORゲートの実装"
   ]
  },
  {
   "cell_type": "code",
   "execution_count": null,
   "id": "7c91a3db-636e-40b4-8e18-9f6cf2bd6903",
   "metadata": {},
   "outputs": [],
   "source": [
    "import numpy as np\n",
    "\n",
    "def OR(x1, x2):\n",
    "    x = np.array([x1, x2])\n",
    "    w = np.array([0.5, 0.5])\n",
    "    b = -0.2\n",
    "    tmp = np.sum(w*x) + b\n",
    "    if tmp <= 0:\n",
    "        return 0\n",
    "    else:\n",
    "        return 1\n",
    "\n",
    "if __name__ == '__main__':\n",
    "    for xs in [(0, 0), (1, 0), (0, 1), (1, 1)]:\n",
    "        y = OR(xs[0], xs[1])\n",
    "        print(str(xs) + \" -> \" + str(y))"
   ]
  },
  {
   "cell_type": "markdown",
   "id": "cf5c5cbb-8fb5-44bd-b53e-7f87644b74f0",
   "metadata": {},
   "source": [
    "#### XORゲートの実装\n",
    "- XORは内部でNAND、OR、ANDを使って多層パーセプトロンとして実装\n",
    "- 多層パーセプトロンでXORなどの非線形分類問題を解くことが可能"
   ]
  },
  {
   "cell_type": "code",
   "execution_count": null,
   "id": "febe0e02-e122-4720-a655-69a28449e695",
   "metadata": {},
   "outputs": [],
   "source": [
    "def XOR(x1, x2):\n",
    "    s1 = NAND(x1, x2)\n",
    "    s2 = OR(x1, x2)\n",
    "    y = AND(s1, s2)\n",
    "    return y\n",
    "\n",
    "if __name__ == '__main__':\n",
    "    for xs in [(0, 0), (1, 0), (0, 1), (1, 1)]:\n",
    "        y = XOR(xs[0], xs[1])\n",
    "        print(str(xs) + \" -> \" + str(y))"
   ]
  },
  {
   "cell_type": "markdown",
   "id": "77114320-8ba9-4319-a4bb-a81b653d636b",
   "metadata": {
    "tags": []
   },
   "source": [
    "## 活性化関数"
   ]
  },
  {
   "cell_type": "markdown",
   "id": "dab72463-ab0a-4b37-b5e0-9b18ebd9af4e",
   "metadata": {
    "jp-MarkdownHeadingCollapsed": true,
    "tags": []
   },
   "source": [
    "### 活性化関数の概要\n",
    "- 各層の出力する前に、出力結果をどの程度活性（発火）させるかを決める関数。  \n",
    "https://dotnetdevelopmentinfrastructure.osscons.jp/index.php?%E3%83%8B%E3%83%A5%E3%83%BC%E3%83%A9%E3%83%AB%E3%83%8D%E3%83%83%E3%83%88%E3%83%AF%E3%83%BC%E3%82%AF#m155734b\n",
    "- 以下のような特徴を持っている。\n",
    "  - 微分可能な非線形な関数  \n",
    "    - 一次関数は何回合成しても一次関数（複雑にならない）。\n",
    "    - 非線形関数を合成する（多層化と活性化関数で複雑化、非線形化）。\n",
    "  - 0 <= 出力信号 <= 1 に収める。  \n",
    "  入力信号が重要な時に１（に近い）、重要でない時０（に近い）値を返す。"
   ]
  },
  {
   "cell_type": "markdown",
   "id": "c2517e8d-f18c-4247-9090-a12811c6f985",
   "metadata": {
    "tags": []
   },
   "source": [
    "### 活性化関数の実装"
   ]
  },
  {
   "cell_type": "markdown",
   "id": "094b6b47-930d-426f-ad13-9a1c4d2d9f71",
   "metadata": {
    "tags": []
   },
   "source": [
    "#### 中間層の活性化関数"
   ]
  },
  {
   "cell_type": "markdown",
   "id": "f40f4471-ca39-4916-a9a0-47a1408c3c3b",
   "metadata": {},
   "source": [
    "##### ステップ関数\n",
    "0, 1の信号\n",
    "- 単純パーセプトロンの活性化関数はステップ関数。\n",
    "- ある閾値を超えたら「1」、それ以外は「0」を返す関数。\n",
    "\n",
    "https://dotnetdevelopmentinfrastructure.osscons.jp/index.php?%E3%83%8B%E3%83%A5%E3%83%BC%E3%83%A9%E3%83%AB%E3%83%8D%E3%83%83%E3%83%88%E3%83%AF%E3%83%BC%E3%82%AF#af597062"
   ]
  },
  {
   "cell_type": "code",
   "execution_count": null,
   "id": "577eea82-fa3b-4e5a-808f-83cbde34018d",
   "metadata": {},
   "outputs": [],
   "source": [
    "import numpy as np\n",
    "import matplotlib.pylab as plt\n",
    "\n",
    "def step_function(x):\n",
    "    return np.array(x > 0, dtype=np.int32)\n",
    "\n",
    "X = np.arange(-5.0, 5.0, 0.1)\n",
    "Y = step_function(X)\n",
    "plt.plot(X, Y)\n",
    "plt.ylim(-0.1, 1.1)  # 図で描画するy軸の範囲を指定\n",
    "plt.show()"
   ]
  },
  {
   "cell_type": "markdown",
   "id": "4a114819-bb04-48d9-81c4-93c2c1632506",
   "metadata": {},
   "source": [
    "##### シグモイド関数\n",
    "連続的な実数の信号\n",
    "- 生物の神経細胞が持つ性質をモデル化したもの。\n",
    "- 微分可能で誤差逆伝播法（バックプロパゲーション）が可能だが、勾配消失問題が起こる。\n",
    "\n",
    "https://dotnetdevelopmentinfrastructure.osscons.jp/index.php?%E3%83%8B%E3%83%A5%E3%83%BC%E3%83%A9%E3%83%AB%E3%83%8D%E3%83%83%E3%83%88%E3%83%AF%E3%83%BC%E3%82%AF#u0ac8472"
   ]
  },
  {
   "cell_type": "code",
   "execution_count": null,
   "id": "71b39c93-a2b5-4403-8c15-f1bac6472849",
   "metadata": {},
   "outputs": [],
   "source": [
    "import numpy as np\n",
    "import matplotlib.pylab as plt\n",
    "\n",
    "def sigmoid(x):\n",
    "    return 1 / (1 + np.exp(-x))    \n",
    "\n",
    "X = np.arange(-5.0, 5.0, 0.1)\n",
    "Y = sigmoid(X)\n",
    "plt.plot(X, Y)\n",
    "plt.ylim(-0.1, 1.1)\n",
    "plt.show()"
   ]
  },
  {
   "cell_type": "markdown",
   "id": "f02a7298-288d-4cdb-832d-f100ad130496",
   "metadata": {},
   "source": [
    "##### ReLU関数\n",
    "勾配消失問題を防ぐ関数として主流。\n",
    "- 入力が０以下なら０を出力する。\n",
    "- 入力が０を超えていればそのまま出力する。\n",
    "\n",
    "https://dotnetdevelopmentinfrastructure.osscons.jp/index.php?%E3%83%8B%E3%83%A5%E3%83%BC%E3%83%A9%E3%83%AB%E3%83%8D%E3%83%83%E3%83%88%E3%83%AF%E3%83%BC%E3%82%AF#x80775f2"
   ]
  },
  {
   "cell_type": "code",
   "execution_count": null,
   "id": "34f95c61-97bb-48c7-a107-a8ed96429f77",
   "metadata": {},
   "outputs": [],
   "source": [
    "import numpy as np\n",
    "import matplotlib.pylab as plt\n",
    "\n",
    "def relu(x):\n",
    "    return np.maximum(0, x)\n",
    "\n",
    "x = np.arange(-5.0, 5.0, 0.1)\n",
    "y = relu(x)\n",
    "plt.plot(x, y)\n",
    "plt.ylim(-1.0, 5.5)\n",
    "plt.show()"
   ]
  },
  {
   "cell_type": "markdown",
   "id": "c0bb963b-a783-4536-b1d2-a39e138a823a",
   "metadata": {
    "tags": []
   },
   "source": [
    "#### 出力層の活性化関数\n",
    "出力層の活性化関数とニューロンの数は、問題に合わせて決定する。"
   ]
  },
  {
   "cell_type": "markdown",
   "id": "725a8648-709d-4c35-a81e-8ec24af6e0b4",
   "metadata": {},
   "source": [
    "##### 恒等関数\n",
    "$$f(x) = x$$\n",
    "\n",
    "- 回帰問題で使用する\n",
    "  - 出力層は１つ。\n",
    "  - 入力値をそのまま返す。\n",
    "- https://dotnetdevelopmentinfrastructure.osscons.jp/index.php?%E3%83%8B%E3%83%A5%E3%83%BC%E3%83%A9%E3%83%AB%E3%83%8D%E3%83%83%E3%83%88%E3%83%AF%E3%83%BC%E3%82%AF%EF%BC%88%E6%8E%A8%E8%AB%96%EF%BC%89#u6563984"
   ]
  },
  {
   "cell_type": "markdown",
   "id": "85c75f7e-5fb1-41da-98cd-4e7a59d518fd",
   "metadata": {},
   "source": [
    "##### [シグモイド関数](#シグモイド関数)\n",
    "２値分類問題で使用する"
   ]
  },
  {
   "cell_type": "markdown",
   "id": "483340a4-dab7-491b-a803-b5f9761f11ce",
   "metadata": {},
   "source": [
    "##### ソフトマックス関数\n",
    "- 多値分類問題で使用する（[使用例](KasagoDL2.ipynb#MINSTデータの推論)\n",
    "  - 出力層は分類の数。\n",
    "  - 0-1 の実数に計算され、その総和は 1.0 になる。\n",
    "\n",
    "- 式\n",
    "  - ...\n",
    "$$yk=\\frac{\\exp(xk)}{\\sum _{k’=1}^{K} \\exp(xk’)}$$　$$0 \\leqq yk \\leqq 1$$　$${\\sum _{k=0}^{K-1} yk}=1$$ \n",
    "  - 実際はオーバーフロー対策を追加する。\n",
    "$$yk=\\frac{\\exp(xk+C’)}{\\sum _{k’=1}^{K} \\exp(xk’+C’)}$$　$$C'=\\log C=−x_{\\max}$$\n",
    "\n",
    "https://dotnetdevelopmentinfrastructure.osscons.jp/index.php?%E3%83%8B%E3%83%A5%E3%83%BC%E3%83%A9%E3%83%AB%E3%83%8D%E3%83%83%E3%83%88%E3%83%AF%E3%83%BC%E3%82%AF%EF%BC%88%E6%8E%A8%E8%AB%96%EF%BC%89#b77bdfd7"
   ]
  }
 ],
 "metadata": {
  "kernelspec": {
   "display_name": "Python 3 (ipykernel)",
   "language": "python",
   "name": "python3"
  },
  "language_info": {
   "codemirror_mode": {
    "name": "ipython",
    "version": 3
   },
   "file_extension": ".py",
   "mimetype": "text/x-python",
   "name": "python",
   "nbconvert_exporter": "python",
   "pygments_lexer": "ipython3",
   "version": "3.10.4"
  }
 },
 "nbformat": 4,
 "nbformat_minor": 5
}
