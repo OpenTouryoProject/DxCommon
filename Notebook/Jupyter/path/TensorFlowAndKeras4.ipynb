{
 "cells": [
  {
   "cell_type": "markdown",
   "id": "4fe59fb7-e68d-4e4b-8901-5902d5343ed8",
   "metadata": {},
   "source": [
    "# TensorFlow・Kerasのトレーニング♨\n",
    "\n",
    "## CNN - ちょっと高度なCNN 編\n",
    "\n",
    "## [目次](TableOfContents.ipynb)\n",
    "- [環境準備](#環境準備)\n",
    "- [高度なCNN](#高度なCNN)\n",
    "  - [AlexNet](#AlexNet)\n",
    "  - [GoogLeNet](#GoogLeNet)\n",
    "  - [VGG16](#VGG16)\n",
    "  - [ResNet](#ResNet)\n",
    "\n",
    "## 参考\n",
    "開発基盤部会 Wiki\n",
    "- データマイニング（DM）- Python - DL  \n",
    "https://dotnetdevelopmentinfrastructure.osscons.jp/index.php?%E3%83%87%E3%83%BC%E3%82%BF%E3%83%9E%E3%82%A4%E3%83%8B%E3%83%B3%E3%82%B0%EF%BC%88DM%EF%BC%89-%20Python%20-%20DL"
   ]
  },
  {
   "cell_type": "markdown",
   "id": "d48958bb-e085-40a2-a6e1-f00c80080d20",
   "metadata": {},
   "source": [
    "## [環境準備](TensorFlowAndKeras0.ipynb)"
   ]
  },
  {
   "cell_type": "code",
   "execution_count": null,
   "id": "b99bd442-2c0f-4337-901e-c3a2c51fb899",
   "metadata": {},
   "outputs": [],
   "source": [
    "import io\n",
    "import requests\n",
    "\n",
    "import pandas as pd\n",
    "import numpy as np\n",
    "import matplotlib.pyplot as plt\n",
    "import seaborn as sns\n",
    "\n",
    "from sklearn import datasets\n",
    "from sklearn import metrics\n",
    "from sklearn.preprocessing import StandardScaler\n",
    "from sklearn.model_selection import train_test_split\n",
    "from sklearn.metrics import confusion_matrix\n",
    "\n",
    "import tensorflow as tf\n",
    "from tensorflow.keras.layers import BatchNormalization\n",
    "print(tf.__version__)\n",
    "\n",
    "import keras\n",
    "print(keras.__version__)\n",
    "# モデル定義\n",
    "from keras.models import Model, Sequential, model_from_json, load_model\n",
    "from keras.layers import Dense, Input, Activation, Flatten, Dropout, LSTM\n",
    "from keras.layers.convolutional import Conv2D\n",
    "from keras.layers.pooling import MaxPool2D\n",
    "from keras.callbacks import EarlyStopping, ModelCheckpoint\n",
    "from keras import optimizers\n",
    "from keras.optimizers import SGD, Adam\n",
    "# その他\n",
    "from keras.applications.vgg16 import VGG16\n",
    "from keras.utils import to_categorical\n",
    "from keras.utils import np_utils\n",
    "\n",
    "import warnings\n",
    "warnings.filterwarnings('ignore')\n",
    "%matplotlib inline"
   ]
  },
  {
   "cell_type": "markdown",
   "id": "38fdcdf7-6606-497e-a1a6-659d22a81811",
   "metadata": {},
   "source": [
    "## 高度なCNN"
   ]
  },
  {
   "cell_type": "markdown",
   "id": "9d164ae4-52e9-49c9-8e70-0ba0c5ef3802",
   "metadata": {},
   "source": [
    "### AlexNet\n",
    "- https://proceedings.neurips.cc/paper/2012/file/c399862d3b9d6b76c8436e924a68c45b-Paper.pdf"
   ]
  },
  {
   "cell_type": "markdown",
   "id": "c02a8900-26b7-4815-9ef5-5c749e2f37cc",
   "metadata": {},
   "source": [
    "#### 関数\n",
    "- 画像サイズによってパラメタの微調整が必要になる。"
   ]
  },
  {
   "cell_type": "code",
   "execution_count": null,
   "id": "d032938d-72c6-49bd-b825-191624a9fa6b",
   "metadata": {},
   "outputs": [],
   "source": [
    "from keras.initializers import TruncatedNormal, Constant\n",
    "\n",
    "def conv2d(filters, kernel_size, strides=(1, 1), padding='same', bias_init=1, **kwargs):\n",
    "    trunc = TruncatedNormal(mean=0.0, stddev=0.01)\n",
    "    cnst = Constant(value=bias_init)\n",
    "    return Conv2D(filters, kernel_size, strides=strides, padding=padding,\n",
    "                  activation='relu', kernel_initializer=trunc, bias_initializer=cnst, **kwargs)   \n",
    "\n",
    "def dense(units, activation='tanh'):\n",
    "    trunc = TruncatedNormal(mean=0.0, stddev=0.01)\n",
    "    cnst = Constant(value=1)\n",
    "    return Dense(units, activation=activation,\n",
    "                 kernel_initializer=trunc, bias_initializer=cnst)   \n",
    "\n",
    "def AlexNet(rows=32, cols=32, channel=3, num_classes=10):\n",
    "    model = Sequential()\n",
    "\n",
    "    # conv & pool\n",
    "    \n",
    "    ## conv1\n",
    "    model.add(conv2d(96, 3, strides=(1, 1), padding='same',\n",
    "                     bias_init=0, input_shape=(rows, cols, channel)))\n",
    "    ## pool1\n",
    "    model.add(MaxPool2D(pool_size=(2, 2), strides=(2,2)))\n",
    "    model.add(BatchNormalization())\n",
    "\n",
    "    ## conv2\n",
    "    model.add(conv2d(256, 5)) \n",
    "    ## pool2\n",
    "    model.add(MaxPool2D(pool_size=(2, 2), strides=(2,2)))\n",
    "    model.add(BatchNormalization())\n",
    "\n",
    "    ## conv3\n",
    "    model.add(conv2d(384, 3, bias_init=0))\n",
    "    ## conv4\n",
    "    model.add(conv2d(384, 3)) \n",
    "    ## conv5\n",
    "    model.add(conv2d(256, 3)) \n",
    "    ## pool5\n",
    "    model.add(MaxPool2D(pool_size=(2, 2), strides=(2,2)))\n",
    "    model.add(BatchNormalization())\n",
    "\n",
    "    model.add(Flatten())\n",
    "    \n",
    "    # fc\n",
    "    \n",
    "    ## fc6\n",
    "    model.add(dense(4096))\n",
    "    model.add(Dropout(0.5))\n",
    "    \n",
    "    ## fc7\n",
    "    model.add(dense(4096))\n",
    "    model.add(Dropout(0.5))\n",
    "\n",
    "    ## fc8\n",
    "    model.add(dense(num_classes, activation='softmax'))\n",
    "\n",
    "    # コンパイル\n",
    "    model.compile(optimizer=SGD(lr=0.01), loss='categorical_crossentropy', metrics=['accuracy'])\n",
    "    \n",
    "    return model"
   ]
  },
  {
   "cell_type": "markdown",
   "id": "5eaa7cc9-6be9-4dda-82fa-5e45d07bc5ed",
   "metadata": {},
   "source": [
    "#### 生成と保存と復元"
   ]
  },
  {
   "cell_type": "markdown",
   "id": "2943126c-5420-4f9e-bed2-e5c3eeab9304",
   "metadata": {},
   "source": [
    "##### 生成"
   ]
  },
  {
   "cell_type": "code",
   "execution_count": null,
   "id": "f483ff6c-8ca4-4235-aea6-e516a1355edd",
   "metadata": {},
   "outputs": [],
   "source": [
    "model = AlexNet(32, 32, 3, 10)\n",
    "model.summary()"
   ]
  },
  {
   "cell_type": "markdown",
   "id": "a68ce763-b5b9-44c9-9f2a-4c5fe7d5bb55",
   "metadata": {},
   "source": [
    "##### 保存"
   ]
  },
  {
   "cell_type": "code",
   "execution_count": null,
   "id": "06f1d68c-9db4-4093-b421-21c2c4cb0c19",
   "metadata": {},
   "outputs": [],
   "source": [
    "model.save('../work/AlexNet.h5')"
   ]
  },
  {
   "cell_type": "markdown",
   "id": "a60e572d-9008-49a9-a15a-8e1d82b7d62d",
   "metadata": {},
   "source": [
    "##### 復元"
   ]
  },
  {
   "cell_type": "code",
   "execution_count": null,
   "id": "98db71a0-192d-4a4d-a84c-90e0c86d608c",
   "metadata": {},
   "outputs": [],
   "source": [
    "model = load_model('../work/AlexNet.h5')"
   ]
  },
  {
   "cell_type": "markdown",
   "id": "e97b2fa6-74b2-45de-99fa-7d87bda1f741",
   "metadata": {
    "tags": []
   },
   "source": [
    "### GoogLeNet"
   ]
  },
  {
   "cell_type": "markdown",
   "id": "3db24278-2023-46fc-8649-97a3710d8be6",
   "metadata": {},
   "source": [
    "#### 関数"
   ]
  },
  {
   "cell_type": "code",
   "execution_count": null,
   "id": "19b338d8-034b-4877-9611-62d0592b4c9e",
   "metadata": {},
   "outputs": [],
   "source": [
    "# ..."
   ]
  },
  {
   "cell_type": "markdown",
   "id": "b0c8c47f-0c2b-4caa-ad53-f2518fe3879f",
   "metadata": {},
   "source": [
    "#### 生成と保存と復元"
   ]
  },
  {
   "cell_type": "markdown",
   "id": "09116f1f-ef0e-486f-9817-61cf37b72f6a",
   "metadata": {},
   "source": [
    "##### 生成"
   ]
  },
  {
   "cell_type": "code",
   "execution_count": null,
   "id": "80f5988d-11ed-4d4a-a23b-3fe032310469",
   "metadata": {},
   "outputs": [],
   "source": [
    "model = GoogLeNet(32, 32, 3, 10)\n",
    "model.summary()"
   ]
  },
  {
   "cell_type": "markdown",
   "id": "a0ec0268-9839-437b-baa2-d238e7d883f7",
   "metadata": {},
   "source": [
    "##### 保存"
   ]
  },
  {
   "cell_type": "code",
   "execution_count": null,
   "id": "56f61970-3828-4a76-9ce3-75ddc3f18cc3",
   "metadata": {},
   "outputs": [],
   "source": [
    "model.save('../work/GoogLeNet.h5')"
   ]
  },
  {
   "cell_type": "markdown",
   "id": "330a5280-ea39-4874-8820-7a449a8b96fe",
   "metadata": {},
   "source": [
    "##### 復元"
   ]
  },
  {
   "cell_type": "code",
   "execution_count": null,
   "id": "6b2159fc-ab8a-4e46-8b10-7c586fe5bb1b",
   "metadata": {},
   "outputs": [],
   "source": [
    "model = load_model('../work/GoogLeNet.h5')"
   ]
  },
  {
   "cell_type": "markdown",
   "id": "8ef8e11e-1c5c-4ee0-a85c-40af91cb6997",
   "metadata": {},
   "source": [
    "### VGG16"
   ]
  },
  {
   "cell_type": "markdown",
   "id": "85b0fb8a-26f1-4baa-88df-0d11a4a61cfc",
   "metadata": {},
   "source": [
    "#### 関数"
   ]
  },
  {
   "cell_type": "code",
   "execution_count": null,
   "id": "6b09e09c-c087-4ead-9d79-d0bcf8b3ee2c",
   "metadata": {},
   "outputs": [],
   "source": [
    "# ..."
   ]
  },
  {
   "cell_type": "markdown",
   "id": "1dbed26f-91d2-4fd3-9014-a7b151e7740f",
   "metadata": {},
   "source": [
    "#### 生成と保存と復元"
   ]
  },
  {
   "cell_type": "markdown",
   "id": "8e14e325-4185-4a42-962f-c784488f659c",
   "metadata": {},
   "source": [
    "##### 生成"
   ]
  },
  {
   "cell_type": "code",
   "execution_count": null,
   "id": "3a825ebc-bfd4-4592-8722-801e51801a42",
   "metadata": {},
   "outputs": [],
   "source": [
    "model = VGG16(32, 32, 3, 10)\n",
    "model.summary()"
   ]
  },
  {
   "cell_type": "markdown",
   "id": "df70cdcb-fc67-44c2-b71f-69d1f87439dd",
   "metadata": {},
   "source": [
    "##### 保存"
   ]
  },
  {
   "cell_type": "code",
   "execution_count": null,
   "id": "9037f109-6b48-445f-9788-d6b068847c24",
   "metadata": {},
   "outputs": [],
   "source": [
    "model.save('../work/VGG16.h5')"
   ]
  },
  {
   "cell_type": "markdown",
   "id": "be5d1241-ca5a-4630-b4ff-47d96e5b47a3",
   "metadata": {},
   "source": [
    "##### 復元"
   ]
  },
  {
   "cell_type": "code",
   "execution_count": null,
   "id": "4d2e9181-ae85-4ebf-959d-2aceb8705732",
   "metadata": {},
   "outputs": [],
   "source": [
    "model = load_model('../work/VGG16.h5')"
   ]
  },
  {
   "cell_type": "markdown",
   "id": "8bdca295-de76-492f-803c-f49f9e238364",
   "metadata": {},
   "source": [
    "### ResNet"
   ]
  },
  {
   "cell_type": "markdown",
   "id": "8a9fd525-280e-44e0-af1a-7c08a5a28d8c",
   "metadata": {},
   "source": [
    "#### 関数"
   ]
  },
  {
   "cell_type": "code",
   "execution_count": null,
   "id": "de98c35e-7fd0-4478-9cfa-2e282f652f43",
   "metadata": {},
   "outputs": [],
   "source": [
    "# ..."
   ]
  },
  {
   "cell_type": "markdown",
   "id": "074092f8-c593-49f4-9882-8f47d14a8925",
   "metadata": {},
   "source": [
    "#### 生成と保存と復元"
   ]
  },
  {
   "cell_type": "markdown",
   "id": "ffa72a34-444b-457c-bfb6-013827486f1e",
   "metadata": {},
   "source": [
    "##### 生成"
   ]
  },
  {
   "cell_type": "code",
   "execution_count": null,
   "id": "b2a6707f-f82f-4a88-a169-0c015d2943c9",
   "metadata": {},
   "outputs": [],
   "source": [
    "model = ResNet(32, 32, 3, 10)\n",
    "model.summary()"
   ]
  },
  {
   "cell_type": "markdown",
   "id": "a8e4b01e-109e-4081-a1ec-d0f5eeb12604",
   "metadata": {},
   "source": [
    "##### 保存"
   ]
  },
  {
   "cell_type": "code",
   "execution_count": null,
   "id": "eb81785a-2d94-4717-9e7b-d448fa64a93d",
   "metadata": {},
   "outputs": [],
   "source": [
    "model.save('../work/ResNet.h5')"
   ]
  },
  {
   "cell_type": "markdown",
   "id": "d9d438d3-2156-4456-8f0c-a31be6aa37cf",
   "metadata": {},
   "source": [
    "##### 復元"
   ]
  },
  {
   "cell_type": "code",
   "execution_count": null,
   "id": "c90dec7f-b3e0-4293-b148-cab49127a71c",
   "metadata": {},
   "outputs": [],
   "source": [
    "model = load_model('../work/ResNet.h5')"
   ]
  }
 ],
 "metadata": {
  "kernelspec": {
   "display_name": "Python 3 (ipykernel)",
   "language": "python",
   "name": "python3"
  },
  "language_info": {
   "codemirror_mode": {
    "name": "ipython",
    "version": 3
   },
   "file_extension": ".py",
   "mimetype": "text/x-python",
   "name": "python",
   "nbconvert_exporter": "python",
   "pygments_lexer": "ipython3",
   "version": "3.10.4"
  }
 },
 "nbformat": 4,
 "nbformat_minor": 5
}
