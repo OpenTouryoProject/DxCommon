{
 "cells": [
  {
   "cell_type": "markdown",
   "id": "4fe59fb7-e68d-4e4b-8901-5902d5343ed8",
   "metadata": {},
   "source": [
    "# TensorFlow・Kerasのトレーニング♨\n",
    "\n",
    "## CNN - ちょっと高度なCNN 編\n",
    "\n",
    "## [目次](TableOfContents.ipynb)\n",
    "- [環境準備](#環境準備)\n",
    "  - [インポート](#インポート)\n",
    "  - [共通関数](#共通関数)\n",
    "  - [CIFAR-10データ](#CIFAR-10データ)\n",
    "- [高度なCNN](#高度なCNN)\n",
    "  - [AlexNet](#AlexNet)\n",
    "  - [GoogLeNet](#GoogLeNet)\n",
    "  - [VGG16](#VGG16)\n",
    "  - [ResNet](#ResNet)\n",
    "\n",
    "## 参考\n",
    "開発基盤部会 Wiki\n",
    "- データマイニング（DM）- Python - DL  \n",
    "https://dotnetdevelopmentinfrastructure.osscons.jp/index.php?%E3%83%87%E3%83%BC%E3%82%BF%E3%83%9E%E3%82%A4%E3%83%8B%E3%83%B3%E3%82%B0%EF%BC%88DM%EF%BC%89-%20Python%20-%20DL"
   ]
  },
  {
   "cell_type": "markdown",
   "id": "d48958bb-e085-40a2-a6e1-f00c80080d20",
   "metadata": {
    "tags": []
   },
   "source": [
    "## [環境準備](TensorFlowAndKeras0.ipynb)"
   ]
  },
  {
   "cell_type": "markdown",
   "id": "b59fbcc1-f69a-4276-b8b6-4d963704cc66",
   "metadata": {},
   "source": [
    "### インポート"
   ]
  },
  {
   "cell_type": "code",
   "execution_count": null,
   "id": "b99bd442-2c0f-4337-901e-c3a2c51fb899",
   "metadata": {},
   "outputs": [],
   "source": [
    "import io\n",
    "import requests\n",
    "\n",
    "import pandas as pd\n",
    "import numpy as np\n",
    "import matplotlib.pyplot as plt\n",
    "import seaborn as sns\n",
    "\n",
    "from sklearn import datasets\n",
    "from sklearn import metrics\n",
    "from sklearn.preprocessing import StandardScaler\n",
    "from sklearn.model_selection import train_test_split\n",
    "from sklearn.metrics import confusion_matrix\n",
    "\n",
    "import tensorflow as tf\n",
    "from tensorflow.keras.layers import BatchNormalization\n",
    "print(tf.__version__)\n",
    "\n",
    "import keras\n",
    "print(keras.__version__)\n",
    "# モデル定義\n",
    "from keras.models import Model, Sequential, model_from_json, load_model\n",
    "from keras.layers import Dense, Input, Activation, Flatten, Dropout, LSTM\n",
    "from keras.layers.convolutional import Conv2D\n",
    "from keras.layers.pooling import MaxPool2D\n",
    "from keras.callbacks import EarlyStopping, ModelCheckpoint\n",
    "from keras import optimizers\n",
    "from keras.optimizers import SGD, Adam\n",
    "# その他\n",
    "from keras.applications.vgg16 import VGG16\n",
    "from keras.utils import to_categorical\n",
    "from keras.utils import np_utils\n",
    "\n",
    "import warnings\n",
    "warnings.filterwarnings('ignore')\n",
    "%matplotlib inline"
   ]
  },
  {
   "cell_type": "markdown",
   "id": "df4ca2c3-f0c3-4f30-8b82-285d3c892dba",
   "metadata": {},
   "source": [
    "### 共通関数"
   ]
  },
  {
   "cell_type": "markdown",
   "id": "9790cff6-1f7d-4265-870a-80234b8f746e",
   "metadata": {},
   "source": [
    "#### 画像確認"
   ]
  },
  {
   "cell_type": "markdown",
   "id": "08d6ead6-3132-4346-9687-2b90aef7affd",
   "metadata": {},
   "source": [
    "##### 画像とラベルの確認"
   ]
  },
  {
   "cell_type": "code",
   "execution_count": null,
   "id": "5df7ebfe-caa2-41b0-996d-7f7370c81455",
   "metadata": {},
   "outputs": [],
   "source": [
    "def show_image_info(x, y, label, index):\n",
    "    print(\"label: \", label[y[index]])\n",
    "    print(\"Image: \")\n",
    "    plt.imshow(x[index].astype(np.uint8))\n",
    "    plt.show()"
   ]
  },
  {
   "cell_type": "markdown",
   "id": "087506e4-de01-490a-8f52-225d1fc0e66c",
   "metadata": {},
   "source": [
    "##### ランダムな画像一覧"
   ]
  },
  {
   "cell_type": "code",
   "execution_count": null,
   "id": "8040dae4-678f-4217-b886-4b2437697ea3",
   "metadata": {},
   "outputs": [],
   "source": [
    "def show_image_list(x, y, numOfCls=10, numOfImgInCls=10):\n",
    "    pos = 1\n",
    "    plt.figure(figsize=(numOfCls, numOfImgInCls))\n",
    "\n",
    "    # クラス毎に以下の処理を繰り返す。\n",
    "    for targetClass in range(numOfCls):\n",
    "        targetIdx = []\n",
    "        \n",
    "        # 当該クラスの画像のインデックスリストを取得\n",
    "        for i in range(len(y)):\n",
    "            if y[i] == targetClass:\n",
    "                targetIdx.append(i)\n",
    "        \n",
    "        # 当該クラスのインデックスリストからランダムに選んだ最初のn個の画像を描画\n",
    "        np.random.shuffle(targetIdx)\n",
    "        for idx in targetIdx[:numOfImgInCls]:\n",
    "            plt.subplot(numOfCls, numOfImgInCls, pos)\n",
    "            plt.imshow(x[idx])\n",
    "            plt.axis('off')\n",
    "            pos += 1\n",
    "\n",
    "plt.show()"
   ]
  },
  {
   "cell_type": "markdown",
   "id": "764cb149-4eda-48e9-a9dc-2bed7bcc0c92",
   "metadata": {},
   "source": [
    "##### 誤った推論の画像を表示する関数"
   ]
  },
  {
   "cell_type": "code",
   "execution_count": null,
   "id": "de6f3142-d3a6-4aa4-bbff-9807d4fbc455",
   "metadata": {},
   "outputs": [],
   "source": [
    "def show_incorrect_image_list(x, y, y_pred, label, numOfImg=10):\n",
    "    index = (y != y_pred)\n",
    "    for i, val in enumerate(index):\n",
    "        if val == True:\n",
    "            print('predict: ', label[y_pred[i]])\n",
    "            print('answer : ', label[y[i]])\n",
    "            show_image_info(x, y, label, i)\n",
    "            numOfImg -= 1\n",
    "            if numOfImg <= 0:\n",
    "                break"
   ]
  },
  {
   "cell_type": "markdown",
   "id": "24eeb46f-bf98-4cfb-ab37-99b53f216936",
   "metadata": {},
   "source": [
    "#### [分類問題関連](ScikitLearnTraining5.ipynb)"
   ]
  },
  {
   "cell_type": "markdown",
   "id": "9b5604a7-7e73-4c0e-86ec-9975d1b474df",
   "metadata": {},
   "source": [
    "##### 分類問題のメトリック表示関数"
   ]
  },
  {
   "cell_type": "code",
   "execution_count": null,
   "id": "67df137b-2914-48b7-abfa-191156533822",
   "metadata": {},
   "outputs": [],
   "source": [
    "def print_metrics(label, pred):\n",
    "    print('accuracy: %.3f' % metrics.accuracy_score(label, pred)) # 正答率\n",
    "    \n",
    "    print('\\nmicro') # ミクロ平均\n",
    "    print('recall: %.3f' % metrics.recall_score(label, pred, average='micro')) # 再現率\n",
    "    print('precision: %.3f' % metrics.precision_score(label, pred, average='micro')) # 適合率\n",
    "    print('f1_score: %.3f' % metrics.f1_score(label, pred, average='micro')) # f値\n",
    "    \n",
    "    print('\\nmacro') # マクロ平均\n",
    "    print('recall: %.3f' % metrics.recall_score(label, pred, average='macro')) # 再現率\n",
    "    print('precision: %.3f' % metrics.precision_score(label, pred, average='macro')) # 適合率\n",
    "    print('f1_score: %.3f' % metrics.f1_score(label, pred, average='macro')) # f値"
   ]
  },
  {
   "cell_type": "markdown",
   "id": "f44c9bdd-46fe-49f2-8a14-47e9d20db734",
   "metadata": {},
   "source": [
    "##### 混同行列のグラフ化関数"
   ]
  },
  {
   "cell_type": "code",
   "execution_count": null,
   "id": "3aed2095-7ea2-40b4-a438-88846114cad2",
   "metadata": {},
   "outputs": [],
   "source": [
    "def plot_cm(confmat, label):\n",
    "    numOfCls = len(label)\n",
    "    fig, ax = plt.subplots(figsize=(numOfCls, numOfCls))\n",
    "    ax.matshow(confmat, cmap=plt.cm.Blues, alpha=0.3)\n",
    "    for i in range(confmat.shape[0]):\n",
    "        for j in range(confmat.shape[1]):\n",
    "            ax.text(x=j, y=i, s=confmat[i, j], va='center', ha='center')\n",
    "            \n",
    "    # 軸目盛を打つ場所を決める\n",
    "    ax.set_xticks(np.arange(len(label)))\n",
    "    ax.set_yticks(np.arange(len(label)))\n",
    "    # 軸目盛を設定\n",
    "    ax.set_xticklabels(label)\n",
    "    ax.set_yticklabels(label)\n",
    "    #plt.xticks(np.array(label)) # x軸の目盛りを指定\n",
    "    #plt.yticks(np.array(label)) # y軸の目盛りを指定\n",
    "    \n",
    "    plt.xlabel('y_pred label')\n",
    "    plt.ylabel('y label')\n",
    "    plt.show()"
   ]
  },
  {
   "cell_type": "markdown",
   "id": "bf2bb409-847d-492e-90c6-7feccca949a0",
   "metadata": {},
   "source": [
    "#### 学習履歴表示関数"
   ]
  },
  {
   "cell_type": "markdown",
   "id": "f83c806f-e8c7-4860-b351-7ddb1492b1bc",
   "metadata": {},
   "source": [
    "##### 損失"
   ]
  },
  {
   "cell_type": "code",
   "execution_count": null,
   "id": "91ccb521-5955-442c-86e3-29d40c85a6c8",
   "metadata": {},
   "outputs": [],
   "source": [
    "def plot_history_loss(hist):\n",
    "    plt.plot(hist.history['loss'],label=\"loss for training\")\n",
    "    plt.plot(hist.history['val_loss'],label=\"loss for validation\")\n",
    "    plt.title('model loss')\n",
    "    plt.xlabel('epoch')\n",
    "    plt.ylabel('loss')\n",
    "    plt.legend(loc='best')\n",
    "    plt.show()"
   ]
  },
  {
   "cell_type": "markdown",
   "id": "f8003f9e-13f9-46cb-9f17-13d8a463a93c",
   "metadata": {},
   "source": [
    "##### 正解率"
   ]
  },
  {
   "cell_type": "code",
   "execution_count": null,
   "id": "5d51e0b3-bcf6-4ee0-9069-9d91007664de",
   "metadata": {},
   "outputs": [],
   "source": [
    "def plot_history_acc(hist):\n",
    "    plt.plot(hist.history['accuracy'],label=\"accuracy for training\")\n",
    "    plt.plot(hist.history['val_accuracy'],label=\"accuracy for validation\")\n",
    "    plt.title('model accuracy')\n",
    "    plt.xlabel('epoch')\n",
    "    plt.ylabel('accuracy')\n",
    "    plt.legend(loc='best')\n",
    "    plt.show()"
   ]
  },
  {
   "cell_type": "markdown",
   "id": "cd519c52-c4bc-4fff-ae29-b40b338af2c3",
   "metadata": {},
   "source": [
    "### CIFAR-10データ"
   ]
  },
  {
   "cell_type": "code",
   "execution_count": null,
   "id": "c7659bde-c03c-45da-8fe8-fce61257933b",
   "metadata": {},
   "outputs": [],
   "source": [
    "#import ssl\n",
    "#ssl._create_default_https_context = ssl._create_unverified_context\n",
    "from keras.datasets import cifar10\n",
    "(x_train_org, y_train_org), (x_test_org, y_test_org) = cifar10.load_data()\n",
    "print(x_train_org.shape, x_test_org.shape)\n",
    "print(y_train_org.shape, y_test_org.shape)"
   ]
  },
  {
   "cell_type": "code",
   "execution_count": null,
   "id": "3e0f22e7-fb3d-4bc4-8879-18af644c1bfc",
   "metadata": {},
   "outputs": [],
   "source": [
    "x_org = np.vstack([x_train_org, x_test_org])\n",
    "y_org = np.concatenate([y_train_org, y_test_org])\n",
    "print(x_org.shape, y_org.shape)"
   ]
  },
  {
   "cell_type": "code",
   "execution_count": null,
   "id": "e5c063be-c6cc-4fa6-b2f8-10b02b812f30",
   "metadata": {},
   "outputs": [],
   "source": [
    "x_std = x_org.astype('f')"
   ]
  },
  {
   "cell_type": "code",
   "execution_count": null,
   "id": "b07b9784-34db-4e3e-a023-3291541e1710",
   "metadata": {},
   "outputs": [],
   "source": [
    "x_std /= 255"
   ]
  },
  {
   "cell_type": "code",
   "execution_count": null,
   "id": "77b6891f-15d1-479b-81e7-bbdbe97811fe",
   "metadata": {},
   "outputs": [],
   "source": [
    "# エンコーディング\n",
    "yy = np_utils.to_categorical(y_org.flatten(), num_classes=10).astype('i') \n",
    "# デコーディング\n",
    "print((yy.argmax(axis=1) == y_org.flatten()).all())"
   ]
  },
  {
   "cell_type": "code",
   "execution_count": null,
   "id": "ca3907f5-4422-4beb-b719-1d0363bdf2b3",
   "metadata": {},
   "outputs": [],
   "source": [
    "x_train = x_std[:50000]\n",
    "x_test = x_std[50000:]\n",
    "y_train = yy[:50000]\n",
    "y_test = yy[50000:]\n",
    "print(x_train.shape, x_test.shape)\n",
    "print(y_train.shape, y_test.shape)\n",
    "print(x_train[0].shape) # input_shape"
   ]
  },
  {
   "cell_type": "markdown",
   "id": "38fdcdf7-6606-497e-a1a6-659d22a81811",
   "metadata": {},
   "source": [
    "## 高度なCNN"
   ]
  },
  {
   "cell_type": "markdown",
   "id": "9d164ae4-52e9-49c9-8e70-0ba0c5ef3802",
   "metadata": {},
   "source": [
    "### AlexNet\n",
    "AlexNet の CIFAR10 の accuracy は 0.60 とそれほど良くない。\n",
    "- https://yamakatsusan.web.fc2.com/CIFAR10_AlexNet_Keras.html\n",
    "- https://dotnetdevelopmentinfrastructure.osscons.jp/index.php?%E7%95%B3%E3%81%BF%E8%BE%BC%E3%81%BF%E3%83%8B%E3%83%A5%E3%83%BC%E3%83%A9%E3%83%AB%E3%83%8D%E3%83%83%E3%83%88%E3%83%AF%E3%83%BC%E3%82%AF%EF%BC%88CNN%EF%BC%89#w1e5ff6b"
   ]
  },
  {
   "cell_type": "markdown",
   "id": "5eaa7cc9-6be9-4dda-82fa-5e45d07bc5ed",
   "metadata": {},
   "source": [
    "#### モデリング"
   ]
  },
  {
   "cell_type": "markdown",
   "id": "c02a8900-26b7-4815-9ef5-5c749e2f37cc",
   "metadata": {},
   "source": [
    "##### 関数\n",
    "厳密には以下が異なる。\n",
    "- 分割・並列化はしていない。\n",
    "- LRNではなくBNを使用。"
   ]
  },
  {
   "cell_type": "code",
   "execution_count": null,
   "id": "d032938d-72c6-49bd-b825-191624a9fa6b",
   "metadata": {},
   "outputs": [],
   "source": [
    "def AlexNet(input_shape, num_classes=10):\n",
    "    model = Sequential()\n",
    "\n",
    "    model.add(Conv2D(96, kernel_size=(11, 11),\n",
    "                     strides=(4, 4),\n",
    "                     padding='same',\n",
    "                     activation='relu',\n",
    "                     input_shape=input_shape))\n",
    "    \n",
    "    model.add(MaxPool2D(pool_size=(3, 3),\n",
    "                           strides=(2, 2),\n",
    "                           padding='same'))\n",
    "    \n",
    "    model.add(BatchNormalization())\n",
    "    \n",
    "    model.add(Conv2D(256, kernel_size=(5, 5),\n",
    "                     strides=(1, 1),\n",
    "                     padding='same',\n",
    "                     activation='relu'))\n",
    "    \n",
    "    model.add(MaxPool2D(pool_size=(3, 3),\n",
    "                           strides=(2, 2),\n",
    "                           padding='same'))\n",
    "    \n",
    "    model.add(BatchNormalization())\n",
    "    \n",
    "    model.add(Conv2D(384, kernel_size=(3, 3),\n",
    "                     strides=(1, 1),\n",
    "                     padding='same',\n",
    "                     activation='relu'))\n",
    "    \n",
    "    model.add(Conv2D(384, kernel_size=(3, 3),\n",
    "                     strides=(1, 1),\n",
    "                     padding='same',\n",
    "                     activation='relu'))\n",
    "    \n",
    "    model.add(Conv2D(256, kernel_size=(3, 3),\n",
    "                     strides=(1, 1),\n",
    "                     padding='same',\n",
    "                     activation='relu'))\n",
    "    \n",
    "    model.add(MaxPool2D(pool_size=(3, 3),\n",
    "                           strides=(2, 2),\n",
    "                           padding='same'))\n",
    "    \n",
    "    model.add(BatchNormalization())\n",
    "\n",
    "    model.add(Flatten())\n",
    "    model.add(Dense(2048, activation='relu'))\n",
    "    model.add(Dropout(0.5))\n",
    "    model.add(Dense(2048, activation='relu'))\n",
    "    model.add(Dropout(0.5))\n",
    "    model.add(Dense(num_classes, activation='softmax'))\n",
    "\n",
    "    # コンパイル\n",
    "    model.compile(optimizer=SGD(lr=0.01), loss='categorical_crossentropy', metrics=['accuracy'])\n",
    "    \n",
    "    return model"
   ]
  },
  {
   "cell_type": "markdown",
   "id": "ffadea3d-f74b-4454-be8a-61e5c56ef5c5",
   "metadata": {},
   "source": [
    "##### コンパイル"
   ]
  },
  {
   "cell_type": "code",
   "execution_count": null,
   "id": "f483ff6c-8ca4-4235-aea6-e516a1355edd",
   "metadata": {},
   "outputs": [],
   "source": [
    "model = AlexNet(x_train[0].shape, 10)\n",
    "model.summary()"
   ]
  },
  {
   "cell_type": "markdown",
   "id": "b5f1b177-3d8b-4d0a-bc86-f79539892f94",
   "metadata": {},
   "source": [
    "#### 実行"
   ]
  },
  {
   "cell_type": "markdown",
   "id": "221b4157-4e86-4755-bc0c-2ff9c87473f0",
   "metadata": {},
   "source": [
    "##### 学習"
   ]
  },
  {
   "cell_type": "markdown",
   "id": "2d10ebac-0710-45d0-9dcc-165c3632e90b",
   "metadata": {},
   "source": [
    "```python\n",
    "batch_size = 500\n",
    "n_epoch = 30\n",
    "hist = model.fit(x_train, y_train,\n",
    "                 validation_data=(x_test, y_test),\n",
    "                 batch_size=batch_size,\n",
    "                 epochs=n_epoch,\n",
    "                 verbose=1)\n",
    "```"
   ]
  },
  {
   "cell_type": "markdown",
   "id": "a68ce763-b5b9-44c9-9f2a-4c5fe7d5bb55",
   "metadata": {},
   "source": [
    "###### 保存\n",
    "結構時間がかかるのでモデルを保存しておく。"
   ]
  },
  {
   "cell_type": "code",
   "execution_count": null,
   "id": "06f1d68c-9db4-4093-b421-21c2c4cb0c19",
   "metadata": {},
   "outputs": [],
   "source": [
    "#model.save('../work/AlexNet.h5')"
   ]
  },
  {
   "cell_type": "markdown",
   "id": "a60e572d-9008-49a9-a15a-8e1d82b7d62d",
   "metadata": {},
   "source": [
    "###### 復元"
   ]
  },
  {
   "cell_type": "code",
   "execution_count": null,
   "id": "98db71a0-192d-4a4d-a84c-90e0c86d608c",
   "metadata": {},
   "outputs": [],
   "source": [
    "model = load_model('../work/AlexNet.h5')"
   ]
  },
  {
   "cell_type": "markdown",
   "id": "f11a32ff-fdf4-463d-9528-61ee6f91eff4",
   "metadata": {},
   "source": [
    "##### 推論"
   ]
  },
  {
   "cell_type": "markdown",
   "id": "f2a7441b-327b-4fed-b216-b813535f914f",
   "metadata": {},
   "source": [
    "###### 個別"
   ]
  },
  {
   "cell_type": "code",
   "execution_count": null,
   "id": "f26e16b0-c3e5-4680-96f4-4738848a0007",
   "metadata": {},
   "outputs": [],
   "source": [
    "index = 99\n",
    "show_image_info(x_org, y_org.flatten(), ['飛','車','鳥','猫','鹿','犬','蛙','馬','船','貨'], index)\n",
    "\n",
    "predict = model.predict(x_std[index].reshape(1, 32, 32, 3)).argmax()\n",
    "answer  = y_org[index]\n",
    "\n",
    "print('predict: ', predict)\n",
    "print('answer : ', answer)\n",
    "\n",
    "if predict == answer:\n",
    "    print('正解')\n",
    "else:\n",
    "    print('不正解')"
   ]
  },
  {
   "cell_type": "markdown",
   "id": "002159a8-94a5-47fa-bc2d-01818e5f659a",
   "metadata": {},
   "source": [
    "###### 一括"
   ]
  },
  {
   "cell_type": "code",
   "execution_count": null,
   "id": "1fb3346c-2414-4826-b8e8-6beb695217c7",
   "metadata": {},
   "outputs": [],
   "source": [
    "yy_pred = model.predict(x_std)"
   ]
  },
  {
   "cell_type": "markdown",
   "id": "4f1292f7-395b-4da3-963d-f4b5889ed33c",
   "metadata": {},
   "source": [
    "#### 評価\n",
    "訓練データ92%、テストデータ62%、混ぜて87%と過学習している。"
   ]
  },
  {
   "cell_type": "code",
   "execution_count": null,
   "id": "e104f817-b28b-454d-942a-7ad2ee598738",
   "metadata": {},
   "outputs": [],
   "source": [
    "y_pred = np.array(yy_pred.argmax(axis=-1), dtype=np.uint8)\n",
    "ret = (y_org.flatten() == y_pred)\n",
    "(len(np.where(ret==True)[0]) / ret.size)"
   ]
  },
  {
   "cell_type": "markdown",
   "id": "91a1b8bd-17d6-4db0-ac02-03f914877d73",
   "metadata": {},
   "source": [
    "##### [スコアを表示](https://dotnetdevelopmentinfrastructure.osscons.jp/index.php?%E3%83%87%E3%83%BC%E3%82%BF%E3%83%9E%E3%82%A4%E3%83%8B%E3%83%B3%E3%82%B0%EF%BC%88DM%EF%BC%89-%20CRISP-DM#uf759972)"
   ]
  },
  {
   "cell_type": "code",
   "execution_count": null,
   "id": "cfc9dec7-ab40-4438-a5ee-365ad78cfd93",
   "metadata": {},
   "outputs": [],
   "source": [
    "score = model.evaluate(x_std, yy)\n",
    "print('loss:', score[0])\n",
    "print('accuracy:', score[1])"
   ]
  },
  {
   "cell_type": "code",
   "execution_count": null,
   "id": "a3643e5c-38c9-462e-a38c-673d4acd8ef1",
   "metadata": {},
   "outputs": [],
   "source": [
    "train_score = model.evaluate(x_train, y_train)\n",
    "print('Train loss:', train_score[0])\n",
    "print('Train accuracy:', train_score[1])"
   ]
  },
  {
   "cell_type": "code",
   "execution_count": null,
   "id": "44a032e2-aecf-4e76-b7fd-64e07aa2c273",
   "metadata": {},
   "outputs": [],
   "source": [
    "test_score = model.evaluate(x_test, y_test)\n",
    "print('Test loss:', test_score[0])\n",
    "print('Test accuracy:', test_score[1])"
   ]
  },
  {
   "cell_type": "markdown",
   "id": "8ef8e11e-1c5c-4ee0-a85c-40af91cb6997",
   "metadata": {
    "tags": []
   },
   "source": [
    "### VGG16\n",
    "VGG16 の CIFAR10 の accuracy は 0.84 までに改善し、  \n",
    "ファインチューニングするパターンでは 0.75 程度にしかならないらしい。\n",
    "- https://qiita.com/tsekine2/items/e95d1cf704247dd3df7b\n",
    "- https://qiita.com/kotai2003/items/e85f17d7213cf84e3bcd\n",
    "- https://dotnetdevelopmentinfrastructure.osscons.jp/index.php?%E7%95%B3%E3%81%BF%E8%BE%BC%E3%81%BF%E3%83%8B%E3%83%A5%E3%83%BC%E3%83%A9%E3%83%AB%E3%83%8D%E3%83%83%E3%83%88%E3%83%AF%E3%83%BC%E3%82%AF%EF%BC%88CNN%EF%BC%89#b9831538"
   ]
  },
  {
   "cell_type": "markdown",
   "id": "b917f177-71f7-4f21-ba00-6784e3300c9d",
   "metadata": {},
   "source": [
    "#### モデリング"
   ]
  },
  {
   "cell_type": "markdown",
   "id": "85b0fb8a-26f1-4baa-88df-0d11a4a61cfc",
   "metadata": {},
   "source": [
    "##### 関数\n",
    "- 分割・並列化はしていない。\n",
    "- Batch Normalizationを使用。"
   ]
  },
  {
   "cell_type": "code",
   "execution_count": null,
   "id": "b886285a-b551-42f1-8ef3-37245a07c50f",
   "metadata": {},
   "outputs": [],
   "source": [
    "def VGG16(input_shape, num_classes=10):\n",
    "    model = Sequential()\n",
    "    \n",
    "    model.add(Conv2D(\n",
    "        filters=64, kernel_size=(3,3), strides=(1,1), padding='same',\n",
    "        input_shape=input_shape, name='block1_conv1'))\n",
    "    model.add(BatchNormalization(name='bn1'))\n",
    "    model.add(Activation('relu'))\n",
    "    \n",
    "    model.add(Conv2D(\n",
    "        filters=64, kernel_size=(3,3), strides=(1,1), padding='same',\n",
    "        name='block1_conv2'))\n",
    "    model.add(BatchNormalization(name='bn2'))\n",
    "    model.add(Activation('relu'))\n",
    "    \n",
    "    model.add(MaxPool2D(\n",
    "        pool_size=(2,2), strides=(2,2), padding='same', name='block1_pool'))\n",
    "    \n",
    "    model.add(Conv2D(\n",
    "        filters=128, kernel_size=(3,3), strides=(1,1), padding='same',\n",
    "        name='block2_conv1'))\n",
    "    model.add(BatchNormalization(name='bn3'))\n",
    "    model.add(Activation('relu'))\n",
    "    \n",
    "    model.add(Conv2D(\n",
    "        filters=128, kernel_size=(3,3), strides=(1,1), padding='same',\n",
    "        name='block2_conv2'))\n",
    "    model.add(BatchNormalization(name='bn4'))\n",
    "    model.add(Activation('relu'))\n",
    "    \n",
    "    model.add(MaxPool2D(\n",
    "        pool_size=(2,2), strides=(2,2), padding='same', name='block2_pool'))\n",
    "    \n",
    "    model.add(Conv2D(\n",
    "        filters=256, kernel_size=(3,3), strides=(1,1), padding='same',\n",
    "        name='block3_conv1'))\n",
    "    model.add(BatchNormalization(name='bn5'))\n",
    "    model.add(Activation('relu'))\n",
    "    \n",
    "    model.add(Conv2D(\n",
    "        filters=256, kernel_size=(3,3), strides=(1,1), padding='same',\n",
    "        name='block3_conv2'))\n",
    "    model.add(BatchNormalization(name='bn6'))\n",
    "    model.add(Activation('relu'))\n",
    "    \n",
    "    model.add(Conv2D(\n",
    "        filters=256, kernel_size=(3,3), strides=(1,1), padding='same',\n",
    "        name='block3_conv3'))\n",
    "    model.add(BatchNormalization(name='bn7'))\n",
    "    model.add(Activation('relu'))\n",
    "    \n",
    "    model.add(MaxPool2D(\n",
    "        pool_size=(2,2), strides=(2,2), padding='same', name='block3_pool'))\n",
    "    \n",
    "    model.add(Conv2D(\n",
    "        filters=512, kernel_size=(3,3), strides=(1,1), padding='same',\n",
    "        name='block4_conv1'))\n",
    "    model.add(BatchNormalization(name='bn8'))\n",
    "    model.add(Activation('relu'))\n",
    "    \n",
    "    model.add(Conv2D(\n",
    "        filters=512, kernel_size=(3,3), strides=(1,1), padding='same',\n",
    "        name='block4_conv2'))\n",
    "    model.add(BatchNormalization(name='bn9'))\n",
    "    model.add(Activation('relu'))\n",
    "    \n",
    "    model.add(Conv2D(\n",
    "        filters=512, kernel_size=(3,3), strides=(1,1), padding='same',\n",
    "        name='block4_conv3'))\n",
    "    model.add(BatchNormalization(name='bn10'))\n",
    "    model.add(Activation('relu'))\n",
    "    \n",
    "    model.add(MaxPool2D(\n",
    "        pool_size=(2,2), strides=(2,2), padding='same', name='block4_pool'))\n",
    "    \n",
    "    model.add(Conv2D(\n",
    "        filters=512, kernel_size=(3,3), strides=(1,1), padding='same', \n",
    "        name='block5_conv1'))\n",
    "    model.add(BatchNormalization(name='bn11'))\n",
    "    model.add(Activation('relu'))\n",
    "    \n",
    "    model.add(Conv2D(\n",
    "        filters=512, kernel_size=(3,3), strides=(1,1), padding='same',\n",
    "        name='block5_conv2'))\n",
    "    model.add(BatchNormalization(name='bn12'))\n",
    "    model.add(Activation('relu'))\n",
    "    \n",
    "    model.add(Conv2D(\n",
    "        filters=512, kernel_size=(3,3), strides=(1,1), padding='same',\n",
    "        name='block5_conv3'))\n",
    "    model.add(BatchNormalization(name='bn13'))\n",
    "    model.add(Activation('relu'))\n",
    "    \n",
    "    model.add(MaxPool2D(\n",
    "        pool_size=(2,2), strides=(2,2), padding='same', name='block5_pool'))\n",
    "    \n",
    "    model.add(Flatten(name='flatten'))\n",
    "    model.add(Dense(units=4096, activation='relu', name='fc1'))\n",
    "    model.add(Dense(units=4096, activation='relu', name='fc2'))\n",
    "    model.add(Dense(units=num_classes, activation='softmax', name='predictions'))\n",
    "\n",
    "    # コンパイル\n",
    "    model.compile(optimizer=Adam(), loss='categorical_crossentropy', metrics=['accuracy'])\n",
    "\n",
    "    return model"
   ]
  },
  {
   "cell_type": "markdown",
   "id": "9059fc42-69e3-4a5c-9e61-06b04705c9a7",
   "metadata": {},
   "source": [
    "##### コンパイル"
   ]
  },
  {
   "cell_type": "code",
   "execution_count": null,
   "id": "3a825ebc-bfd4-4592-8722-801e51801a42",
   "metadata": {},
   "outputs": [],
   "source": [
    "model = VGG16(x_train[0].shape, 10)\n",
    "model.summary()"
   ]
  },
  {
   "cell_type": "markdown",
   "id": "1dbed26f-91d2-4fd3-9014-a7b151e7740f",
   "metadata": {},
   "source": [
    "#### 実行"
   ]
  },
  {
   "cell_type": "markdown",
   "id": "8e14e325-4185-4a42-962f-c784488f659c",
   "metadata": {},
   "source": [
    "##### 学習"
   ]
  },
  {
   "cell_type": "markdown",
   "id": "a6b87449-0921-42b7-8b59-5758c7e558e7",
   "metadata": {},
   "source": [
    "```python\n",
    "batch_size = 500\n",
    "n_epoch = 30\n",
    "hist = model.fit(x_train, y_train,\n",
    "                 validation_data=(x_test, y_test),\n",
    "                 batch_size=batch_size,\n",
    "                 epochs=n_epoch,\n",
    "                 verbose=1)\n",
    "```"
   ]
  },
  {
   "cell_type": "markdown",
   "id": "df70cdcb-fc67-44c2-b71f-69d1f87439dd",
   "metadata": {},
   "source": [
    "##### 保存\n",
    "結構時間がかかるのでモデルを保存しておく。"
   ]
  },
  {
   "cell_type": "code",
   "execution_count": null,
   "id": "9037f109-6b48-445f-9788-d6b068847c24",
   "metadata": {},
   "outputs": [],
   "source": [
    "#model.save('../work/VGG16.h5')"
   ]
  },
  {
   "cell_type": "markdown",
   "id": "be5d1241-ca5a-4630-b4ff-47d96e5b47a3",
   "metadata": {},
   "source": [
    "##### 復元"
   ]
  },
  {
   "cell_type": "code",
   "execution_count": null,
   "id": "4d2e9181-ae85-4ebf-959d-2aceb8705732",
   "metadata": {},
   "outputs": [],
   "source": [
    "model = load_model('../work/VGG16.h5')"
   ]
  },
  {
   "cell_type": "markdown",
   "id": "d503d284-5133-4689-9d9b-01334912d8ab",
   "metadata": {},
   "source": [
    "##### 推論"
   ]
  },
  {
   "cell_type": "markdown",
   "id": "55ec8c05-84a5-4338-a1a5-397d8528ffaf",
   "metadata": {},
   "source": [
    "###### 個別"
   ]
  },
  {
   "cell_type": "code",
   "execution_count": null,
   "id": "d70a57e6-6737-447d-94c9-c727a04e40b2",
   "metadata": {},
   "outputs": [],
   "source": [
    "index = 99\n",
    "show_image_info(x_org, y_org.flatten(), ['飛','車','鳥','猫','鹿','犬','蛙','馬','船','貨'], index)\n",
    "\n",
    "predict = model.predict(x_std[index].reshape(1, 32, 32, 3)).argmax()\n",
    "answer  = y_org[index]\n",
    "\n",
    "print('predict: ', predict)\n",
    "print('answer : ', answer)\n",
    "\n",
    "if predict == answer:\n",
    "    print('正解')\n",
    "else:\n",
    "    print('不正解')"
   ]
  },
  {
   "cell_type": "markdown",
   "id": "5721662b-7eed-4522-a471-510a40b3c8de",
   "metadata": {},
   "source": [
    "###### 一括"
   ]
  },
  {
   "cell_type": "code",
   "execution_count": null,
   "id": "fa748a2d-4096-4750-84d2-ad827404505b",
   "metadata": {},
   "outputs": [],
   "source": [
    "yy_pred = model.predict(x_std)"
   ]
  },
  {
   "cell_type": "markdown",
   "id": "6617cb35-34b0-456a-82ef-63662a00f26f",
   "metadata": {},
   "source": [
    "#### 評価\n",
    "通常の学習で84%、事前学習＆ファインチューニングで75%と言う話だが、実際やったら訓練データ82%、テストデータ70%、混ぜて80%とパフォーマンスは出ていないが[AlexNet](#AlexNet)の過学習の問題は改善している模様。エポック数を30にしたが、20の方が性能が良いのかも？"
   ]
  },
  {
   "cell_type": "code",
   "execution_count": null,
   "id": "cf3df9e5-adbc-490f-9ec0-ac8de5590453",
   "metadata": {},
   "outputs": [],
   "source": [
    "y_pred = np.array(yy_pred.argmax(axis=-1), dtype=np.uint8)\n",
    "ret = (y_org.flatten() == y_pred)\n",
    "(len(np.where(ret==True)[0]) / ret.size)"
   ]
  },
  {
   "cell_type": "markdown",
   "id": "c7559a00-d564-4191-8ea7-f6ddc374533a",
   "metadata": {},
   "source": [
    "##### [スコアを表示](https://dotnetdevelopmentinfrastructure.osscons.jp/index.php?%E3%83%87%E3%83%BC%E3%82%BF%E3%83%9E%E3%82%A4%E3%83%8B%E3%83%B3%E3%82%B0%EF%BC%88DM%EF%BC%89-%20CRISP-DM#uf759972)"
   ]
  },
  {
   "cell_type": "code",
   "execution_count": null,
   "id": "c97af3f9-f8ff-4741-a59e-fd1b6b5873f9",
   "metadata": {},
   "outputs": [],
   "source": [
    "score = model.evaluate(x_std, yy)\n",
    "print('loss:', score[0])\n",
    "print('accuracy:', score[1])"
   ]
  },
  {
   "cell_type": "code",
   "execution_count": null,
   "id": "3c53c271-0796-4abc-9d2c-6e2625d5f49b",
   "metadata": {},
   "outputs": [],
   "source": [
    "train_score = model.evaluate(x_train, y_train)\n",
    "print('Train loss:', train_score[0])\n",
    "print('Train accuracy:', train_score[1])"
   ]
  },
  {
   "cell_type": "code",
   "execution_count": null,
   "id": "4936d173-8588-4999-a463-aede0b344d80",
   "metadata": {},
   "outputs": [],
   "source": [
    "test_score = model.evaluate(x_test, y_test)\n",
    "print('Test loss:', test_score[0])\n",
    "print('Test accuracy:', test_score[1])"
   ]
  },
  {
   "cell_type": "markdown",
   "id": "e97b2fa6-74b2-45de-99fa-7d87bda1f741",
   "metadata": {
    "tags": []
   },
   "source": [
    "### GoogLeNet"
   ]
  },
  {
   "cell_type": "code",
   "execution_count": null,
   "id": "80f5988d-11ed-4d4a-a23b-3fe032310469",
   "metadata": {},
   "outputs": [],
   "source": [
    "model = GoogLeNet(x_train[0].shape, 10)\n",
    "model.summary()"
   ]
  },
  {
   "cell_type": "markdown",
   "id": "a0ec0268-9839-437b-baa2-d238e7d883f7",
   "metadata": {},
   "source": [
    "##### 保存"
   ]
  },
  {
   "cell_type": "code",
   "execution_count": null,
   "id": "56f61970-3828-4a76-9ce3-75ddc3f18cc3",
   "metadata": {},
   "outputs": [],
   "source": [
    "model.save('../work/GoogLeNet.h5')"
   ]
  },
  {
   "cell_type": "markdown",
   "id": "330a5280-ea39-4874-8820-7a449a8b96fe",
   "metadata": {},
   "source": [
    "##### 復元"
   ]
  },
  {
   "cell_type": "code",
   "execution_count": null,
   "id": "6b2159fc-ab8a-4e46-8b10-7c586fe5bb1b",
   "metadata": {},
   "outputs": [],
   "source": [
    "model = load_model('../work/GoogLeNet.h5')"
   ]
  },
  {
   "cell_type": "markdown",
   "id": "8bdca295-de76-492f-803c-f49f9e238364",
   "metadata": {},
   "source": [
    "### ResNet\n",
    "ResNet-34 の CIFAR10 の accuracy は 0.95 までいけるらしい。\n",
    "- https://qiita.com/TrashBoxx/items/2d441e46643f73c0ca19\n",
    "- https://dotnetdevelopmentinfrastructure.osscons.jp/index.php?%E7%95%B3%E3%81%BF%E8%BE%BC%E3%81%BF%E3%83%8B%E3%83%A5%E3%83%BC%E3%83%A9%E3%83%AB%E3%83%8D%E3%83%83%E3%83%88%E3%83%AF%E3%83%BC%E3%82%AF%EF%BC%88CNN%EF%BC%89#x56d1a9e"
   ]
  },
  {
   "cell_type": "code",
   "execution_count": null,
   "id": "b2a6707f-f82f-4a88-a169-0c015d2943c9",
   "metadata": {},
   "outputs": [],
   "source": [
    "model = ResNet(x_train[0].shape, 10)\n",
    "model.summary()"
   ]
  },
  {
   "cell_type": "markdown",
   "id": "a8e4b01e-109e-4081-a1ec-d0f5eeb12604",
   "metadata": {},
   "source": [
    "##### 保存"
   ]
  },
  {
   "cell_type": "code",
   "execution_count": null,
   "id": "eb81785a-2d94-4717-9e7b-d448fa64a93d",
   "metadata": {},
   "outputs": [],
   "source": [
    "model.save('../work/ResNet.h5')"
   ]
  },
  {
   "cell_type": "markdown",
   "id": "d9d438d3-2156-4456-8f0c-a31be6aa37cf",
   "metadata": {},
   "source": [
    "##### 復元"
   ]
  },
  {
   "cell_type": "code",
   "execution_count": null,
   "id": "c90dec7f-b3e0-4293-b148-cab49127a71c",
   "metadata": {},
   "outputs": [],
   "source": [
    "model = load_model('../work/ResNet.h5')"
   ]
  }
 ],
 "metadata": {
  "kernelspec": {
   "display_name": "Python 3 (ipykernel)",
   "language": "python",
   "name": "python3"
  },
  "language_info": {
   "codemirror_mode": {
    "name": "ipython",
    "version": 3
   },
   "file_extension": ".py",
   "mimetype": "text/x-python",
   "name": "python",
   "nbconvert_exporter": "python",
   "pygments_lexer": "ipython3",
   "version": "3.10.6"
  }
 },
 "nbformat": 4,
 "nbformat_minor": 5
}
