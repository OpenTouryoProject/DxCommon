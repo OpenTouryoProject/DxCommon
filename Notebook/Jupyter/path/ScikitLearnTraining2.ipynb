{
 "cells": [
  {
   "cell_type": "markdown",
   "id": "cf8af0d7-c198-4acd-921a-f3683f675ced",
   "metadata": {},
   "source": [
    "# scikit-learnのトレーニング♨\n",
    "\n",
    "## 多項式回帰、正則化回帰分析 編\n",
    "- [多項式回帰分析](#多項式回帰分析)\n",
    "- [正則化回帰分析](#正則化回帰分析)\n",
    "\n",
    "## [目次](TableOfContents.ipynb)\n",
    "\n",
    "## 参考\n",
    "開発基盤部会 Wiki\n",
    "- データマイニング（DM）- Python  \n",
    "https://dotnetdevelopmentinfrastructure.osscons.jp/index.php?%E3%83%87%E3%83%BC%E3%82%BF%E3%83%9E%E3%82%A4%E3%83%8B%E3%83%B3%E3%82%B0%EF%BC%88DM%EF%BC%89-%20Python#y4054d35"
   ]
  },
  {
   "cell_type": "markdown",
   "id": "07e2a189-ef86-40f8-89e8-857a5b6e41aa",
   "metadata": {},
   "source": [
    "## [環境準備](ScikitLearnTraining0.ipynb)"
   ]
  },
  {
   "cell_type": "code",
   "execution_count": null,
   "id": "06435506-b010-44b9-8fc6-472e61ed518c",
   "metadata": {},
   "outputs": [],
   "source": [
    "import io\n",
    "import requests\n",
    "\n",
    "import pandas as pd\n",
    "import numpy as np\n",
    "import mglearn\n",
    "import matplotlib.pyplot as plt\n",
    "\n",
    "from sklearn import datasets                                 # サンプル・データセット\n",
    "from sklearn.datasets import make_regression                 # 回帰データセット作成\n",
    "from sklearn.datasets import make_blobs                      # 分類データセット作成\n",
    "from sklearn.preprocessing import StandardScaler             # 標準化\n",
    "from sklearn.model_selection import train_test_split         # データ分割\n",
    "\n",
    "from sklearn.linear_model import LinearRegression            # 線形回帰\n",
    "from sklearn.preprocessing import PolynomialFeatures         # 多項式回帰の変数変換\n",
    "from sklearn.linear_model import Ridge                       # 多項式回帰のRidge回帰\n",
    "from sklearn.linear_model import Lasso                       # 多項式回帰のLASSO回帰\n",
    "from sklearn.linear_model import ElasticNet                  # 多項式回帰のLASSO回帰\n",
    "from sklearn.linear_model import Perceptron                  # 単純パーセプトロン線形分類器\n",
    "from sklearn.linear_model import LogisticRegression          # ロジスティク回帰\n",
    "from sklearn.svm import SVC                                  # サポートベクターマシン（SVM）分類器\n",
    "from sklearn.tree import DecisionTreeClassifier              # 決定木（分類木）\n",
    "from sklearn.ensemble import RandomForestClassifier          # ランダムフォレスト（分類木）\n",
    "from sklearn.ensemble import GradientBoostingClassifier      # 勾配ブースティング木（分類木）\n",
    "from sklearn.decomposition import PCA                        # 主成分分析\n",
    "from sklearn.cluster import KMeans                           # k-means法 クラスタ分析\n",
    "from sklearn.feature_extraction.text import CountVectorizer  # 自然言語処理ベクトル化\n",
    "from sklearn.feature_extraction.text import TfidfTransformer # 自然言語ベクトルのTF-IDF計算\n",
    "from sklearn.decomposition import LatentDirichletAllocation  # 自然言語ベクトルからLDAトピック抽出\n",
    "\n",
    "from sklearn import metrics                                  # モデル評価\n",
    "from sklearn.metrics import mean_squared_error as mse        # 精度評価（mse）\n",
    "from sklearn.metrics import confusion_matrix                 # 混同行列\n",
    "from sklearn.metrics import silhouette_samples               # シルエット係数\n",
    "from sklearn.model_selection import cross_val_score          # 交差検証法\n",
    "from sklearn.model_selection import KFold                    # k分割交差検証法\n",
    "from sklearn.model_selection import StratifiedKFold          # 層化交差検証法\n",
    "from sklearn.model_selection import GridSearchCV             # グリッドサーチ\n",
    "\n",
    "import seaborn as sns                                        # matplotlibラッパ\n",
    "from mlxtend.plotting import plot_decision_regions           # 決定領域表示関数\n",
    "from matplotlib import cm                                    # カラーマップ処理\n",
    "\n",
    "from numpy import linalg as LA                               # 線形代数ライブラリ"
   ]
  },
  {
   "cell_type": "code",
   "execution_count": null,
   "id": "49a1d23b-e358-458b-a90a-0dd2955d5472",
   "metadata": {},
   "outputs": [],
   "source": [
    "import warnings\n",
    "warnings.filterwarnings('ignore')"
   ]
  },
  {
   "cell_type": "markdown",
   "id": "195d0b2f-0d79-498b-a156-dc7e67c76059",
   "metadata": {},
   "source": [
    "## モデル・アルゴリズム"
   ]
  },
  {
   "cell_type": "markdown",
   "id": "431ed66b-2042-4d70-9686-abca1a91c0fa",
   "metadata": {
    "tags": []
   },
   "source": [
    "### 多項式回帰分析\n",
    "交互作用など、重回帰の問題の解消のため非線形性を導入。\n",
    "\n",
    "※ [イメージ](https://www.google.com/search?q=多項式回帰&tbm=isch)、[説明](https://dotnetdevelopmentinfrastructure.osscons.jp/index.php?%E7%B5%B1%E8%A8%88%E8%A7%A3%E6%9E%90#oe32e0f1)"
   ]
  },
  {
   "cell_type": "markdown",
   "id": "f0b66053-a9a1-49e4-a105-171e44932cbd",
   "metadata": {},
   "source": [
    "#### データ"
   ]
  },
  {
   "cell_type": "markdown",
   "id": "53584a5e-5716-40c4-aad4-01cd3dc35bd6",
   "metadata": {},
   "source": [
    "##### 生成・加工・理解\n",
    "- 重回帰の問題の解消のためなので、[重回帰](ScikitLearnTraining1.ipynb)と同じデータの生成・加工・理解を行う。\n",
    "- 必要に応じて[環境変数にプロキシ設定](PythonTraining.ipynb)をしておくと良い。"
   ]
  },
  {
   "cell_type": "code",
   "execution_count": null,
   "id": "a768eb93-ee6a-4c39-b734-ab4674989784",
   "metadata": {},
   "outputs": [],
   "source": [
    "proxies = { # プロキシ設定\n",
    "\"http\":\"http://<user_name>:<password>@<proxy_host>:<proxy_port>/\",\n",
    "\"https\":\"https://<user_name>:<password>@<proxy_host>:<proxy_port>/\"\n",
    "}\n",
    "\n",
    "url = 'https://raw.githubusercontent.com/vincentarelbundock/Rdatasets/master/csv/MASS/Boston.csv'\n",
    "res = requests.get(url) # , verify=False, proxies=proxies) # プロキシ\n",
    "df = pd.read_csv(io.BytesIO(res.content), encoding='utf-8', sep=\",\")\n",
    "df = df.drop('Unnamed: 0',axis=1)\n",
    "df = df.loc[:, ['lstat', 'indus', 'dis', 'rm', 'medv']]\n",
    "df"
   ]
  },
  {
   "cell_type": "markdown",
   "id": "0bebf04b-f954-4a08-b35f-6daeb5673275",
   "metadata": {},
   "source": [
    "###### [共通](#共通的)"
   ]
  },
  {
   "cell_type": "markdown",
   "id": "82fa84a8-e470-454e-a811-1b68bc7aa473",
   "metadata": {},
   "source": [
    "###### 個別"
   ]
  },
  {
   "cell_type": "markdown",
   "id": "75721690-e4a1-48ce-992b-673fabc9ad50",
   "metadata": {},
   "source": [
    "##### 準備\n",
    "ここから[重回帰](ScikitLearnTraining1.ipynb)と異なる。"
   ]
  },
  {
   "cell_type": "markdown",
   "id": "85bce19b-d280-4e28-8db3-22f0b31f9b9a",
   "metadata": {},
   "source": [
    "###### 共通\n",
    "交互作用が解消できるということなので、説明変数を多めにしておく。"
   ]
  },
  {
   "cell_type": "code",
   "execution_count": null,
   "id": "0c7b46fa-006a-4dee-9daa-a2ce20ef3161",
   "metadata": {},
   "outputs": [],
   "source": [
    "# データを切出して、型を変換（DF → NP）\n",
    "x_org = np.array(df.drop(['medv'], axis=1))\n",
    "# x = np.array(df.drop(['indus', 'dis', 'medv'], axis=1))\n",
    "y_org = np.array(df.loc[:, ['medv']])\n",
    "# データをスライシングして確認。\n",
    "print(x_org[:5])\n",
    "print(y_org[:5])"
   ]
  },
  {
   "cell_type": "code",
   "execution_count": null,
   "id": "61c6805d-c31f-4b26-b995-2e922a26a409",
   "metadata": {},
   "outputs": [],
   "source": [
    "# 学習・テストデータの分割（ホールド・アウト法\n",
    "x_train_lin, x_test_lin, y_train, y_test = train_test_split(x_org, y_org, test_size = 0.3, random_state = 0)"
   ]
  },
  {
   "cell_type": "markdown",
   "id": "8eb892c5-9440-4990-b66d-3a4a209f7457",
   "metadata": {},
   "source": [
    "###### 個別\n",
    "多項式基底関数で変数変換を実行（非線形性の導入"
   ]
  },
  {
   "cell_type": "code",
   "execution_count": null,
   "id": "7cb60a59-91d9-459a-be19-3961f14c1823",
   "metadata": {},
   "outputs": [],
   "source": [
    "# 2次関数\n",
    "quad = PolynomialFeatures(degree=2)\n",
    "x_quad = quad.fit_transform(x_org)\n",
    "\n",
    "# 学習・テストデータの分割（ホールド・アウト法\n",
    "x_train_quad, x_test_quad, y_train, y_test = train_test_split(x_quad, y_org, test_size = 0.3, random_state = 0)"
   ]
  },
  {
   "cell_type": "code",
   "execution_count": null,
   "id": "7bebe3fb-8cbe-4ff1-af51-0d679380edd8",
   "metadata": {},
   "outputs": [],
   "source": [
    "# 3次関数\n",
    "cubic = PolynomialFeatures(degree=3)\n",
    "x_cubic = cubic.fit_transform(x_org)\n",
    "\n",
    "# 学習・テストデータの分割（ホールド・アウト法\n",
    "x_train_cubic, x_test_cubic, y_train, y_test = train_test_split(x_cubic, y_org, test_size = 0.3, random_state = 0)"
   ]
  },
  {
   "cell_type": "markdown",
   "id": "87f230a9-5416-4a79-a457-eb2e8f1a2d17",
   "metadata": {},
   "source": [
    "#### モデリング"
   ]
  },
  {
   "cell_type": "markdown",
   "id": "a0a4c983-ba32-455d-a8cc-c6effc00624c",
   "metadata": {},
   "source": [
    "##### 実行"
   ]
  },
  {
   "cell_type": "markdown",
   "id": "ed3f5705-3cf1-4b7d-9451-50d02b2a997d",
   "metadata": {},
   "source": [
    "###### 学習"
   ]
  },
  {
   "cell_type": "code",
   "execution_count": null,
   "id": "35a48581-2320-48f7-89e1-ac3c47c121dc",
   "metadata": {},
   "outputs": [],
   "source": [
    "# x_train_linで、model_linを学習\n",
    "model_lin = LinearRegression()\n",
    "model_lin.fit(x_train_lin, y_train)"
   ]
  },
  {
   "cell_type": "code",
   "execution_count": null,
   "id": "0c148e36-11c7-4271-b53e-1c6b7e60c677",
   "metadata": {},
   "outputs": [],
   "source": [
    "# x_train_quadで、model_quadを学習\n",
    "model_quad = LinearRegression()\n",
    "model_quad.fit(x_train_quad, y_train)"
   ]
  },
  {
   "cell_type": "code",
   "execution_count": null,
   "id": "ef8d3b99-1cbb-49d9-8e2c-b6f263779954",
   "metadata": {},
   "outputs": [],
   "source": [
    "# x_train_cubicで、model_cubicを学習\n",
    "model_cubic = LinearRegression()\n",
    "model_cubic.fit(x_train_cubic, y_train)"
   ]
  },
  {
   "cell_type": "markdown",
   "id": "8100cf04-15b6-4f5a-98d8-185955e53f97",
   "metadata": {},
   "source": [
    "###### 推論\n",
    "※ predictは多変量に対応しているので二次元配列であること。"
   ]
  },
  {
   "cell_type": "code",
   "execution_count": null,
   "id": "40a58d83-47f0-425f-9727-14e58936b106",
   "metadata": {},
   "outputs": [],
   "source": [
    "index=6\n",
    "new_val = np.array([x_test_lin[index]])\n",
    "pred_val = model_lin.predict(new_val)\n",
    "ratio_val = y_test[index] / pred_val[0]\n",
    "print('answer = ', y_test[index])\n",
    "print('pred = ', pred_val[0])\n",
    "print('ratio : %.2f' % ratio_val)"
   ]
  },
  {
   "cell_type": "code",
   "execution_count": null,
   "id": "e6f05215-0abf-4cd1-8cbd-4a2ed4c3a88e",
   "metadata": {},
   "outputs": [],
   "source": [
    "index=6\n",
    "new_val = np.array([x_test_quad[index]])\n",
    "pred_val = model_quad.predict(new_val)\n",
    "ratio_val = y_test[index] / pred_val[0]\n",
    "print('answer = ', y_test[index])\n",
    "print('pred = ', pred_val[0])\n",
    "print('ratio : %.2f' % ratio_val)"
   ]
  },
  {
   "cell_type": "code",
   "execution_count": null,
   "id": "f2da5d2b-81c5-4275-af2d-82101279f5e1",
   "metadata": {},
   "outputs": [],
   "source": [
    "index=6\n",
    "new_val = np.array([x_test_cubic[index]])\n",
    "pred_val = model_cubic.predict(new_val)\n",
    "ratio_val = y_test[index] / pred_val[0]\n",
    "print('answer = ', y_test[index])\n",
    "print('pred = ', pred_val[0])\n",
    "print('ratio : %.2f' % ratio_val)"
   ]
  },
  {
   "cell_type": "markdown",
   "id": "a1fb8cc0-3327-460f-85da-68ad5c0f4f4d",
   "metadata": {},
   "source": [
    "##### 評価"
   ]
  },
  {
   "cell_type": "markdown",
   "id": "5dd236c0-a9c7-4fd5-84f7-926ac0ccb886",
   "metadata": {},
   "source": [
    "###### 自由度調整済み決定係数（R2乗値）"
   ]
  },
  {
   "cell_type": "code",
   "execution_count": null,
   "id": "300b9d29-b0db-4bc5-932c-88c142bce6b3",
   "metadata": {},
   "outputs": [],
   "source": [
    "def adjusted(score, n_sample, n_explanatory_variables):\n",
    "    adjusted_score = 1 - (1 - score) * ((n_sample - 1) / (n_sample - n_explanatory_variables - 1))\n",
    "    return adjusted_score\n",
    "\n",
    "print(\"lin\")\n",
    "print('train: %.3f' % adjusted(model_lin.score(x_train_lin, y_train), len(y_train), x_train_lin.shape[1]))\n",
    "print('test : %.3f' % adjusted(model_lin.score(x_test_lin, y_test), len(y_test), x_test_lin.shape[1]))\n",
    "print(\"quad\")\n",
    "print('train: %.3f' % adjusted(model_quad.score(x_train_quad, y_train), len(y_train), x_train_quad.shape[1]))\n",
    "print('test : %.3f' % adjusted(model_quad.score(x_test_quad, y_test), len(y_test), x_test_quad.shape[1]))\n",
    "print(\"cubic\")\n",
    "print('train: %.3f' % adjusted(model_cubic.score(x_train_cubic, y_train), len(y_train), x_train_cubic.shape[1]))\n",
    "print('test : %.3f' % adjusted(model_cubic.score(x_test_cubic, y_test), len(y_test), x_test_cubic.shape[1]))"
   ]
  },
  {
   "cell_type": "markdown",
   "id": "bc881888-c463-415f-bb2d-3fcb2d95ba38",
   "metadata": {},
   "source": [
    "###### 残差プロットを行う。\n",
    "説明変数が３変数以上なので。"
   ]
  },
  {
   "cell_type": "code",
   "execution_count": null,
   "id": "c4c66510-6e2f-4f72-a9dd-7da3c3aa2518",
   "metadata": {},
   "outputs": [],
   "source": [
    "def res_plot(y_train, y_train_pred, y_test, y_test_pred):\n",
    "    # train, testごとに残差を算出\n",
    "    res_train = y_train_pred - y_train\n",
    "    res_test  = y_test_pred - y_test\n",
    "    \n",
    "    # train, testごとに(予測値, 残差)をプロット\n",
    "    plt.figure(figsize=(8, 8))\n",
    "    plt.scatter(y_train_pred, res_train, color='blue', marker='o', label='train', alpha=0.5)\n",
    "    plt.scatter(y_test_pred, res_test, color='green', marker='s', label='test', alpha=0.5)\n",
    "    \n",
    "    plt.xlabel('Predicted Values')                  # x軸のラベルを表示\n",
    "    plt.ylabel('Residuals')                         # y軸のラベルを表示\n",
    "    plt.legend(loc='upper left')                    # 凡例を左上に表示\n",
    "    plt.hlines(y=0, xmin=-10, xmax=50, color='red') # 残差0の線を表示\n",
    "    plt.xlim([-10, 50])                             # 表示する横軸の範囲を指定\n",
    "    plt.show()"
   ]
  },
  {
   "cell_type": "code",
   "execution_count": null,
   "id": "ca7c62ed-3557-41f9-b2a8-8ea6bfd4f708",
   "metadata": {},
   "outputs": [],
   "source": [
    "# 残差プロットを出力\n",
    "res_plot(y_train, model_lin.predict(x_train_lin), y_test, model_lin.predict(x_test_lin))"
   ]
  },
  {
   "cell_type": "code",
   "execution_count": null,
   "id": "7e228b79-6311-46f0-8a51-29f0bc920154",
   "metadata": {},
   "outputs": [],
   "source": [
    "# 残差プロットを出力\n",
    "res_plot(y_train, model_quad.predict(x_train_quad), y_test, model_quad.predict(x_test_quad))"
   ]
  },
  {
   "cell_type": "code",
   "execution_count": null,
   "id": "1a8f6c78-9e2d-4afb-b0e0-d0319abe0da4",
   "metadata": {},
   "outputs": [],
   "source": [
    "# 残差プロットを出力\n",
    "res_plot(y_train, model_cubic.predict(x_train_cubic), y_test, model_cubic.predict(x_test_cubic))"
   ]
  },
  {
   "cell_type": "markdown",
   "id": "870b163c-9a1f-48dc-bc3b-cc0caf534a17",
   "metadata": {},
   "source": [
    "### 正則化回帰分析\n",
    "- 正則化で非線形性を導入した多項式回帰分析の過学習を防ぐ。\n",
    "- 正則化では重みを制限しモデルの複雑さを抑えることで過学習を防ぐ。正則化回帰\n",
    "- 正則化最小二乗法で正則化項を加えた（最小二乗法 > 勾配降下法 > ）誤差関数を使用する。\n",
    "\n",
    "※ [イメージ](https://www.google.com/search?q=正則化回帰&tbm=isch)、[説明](https://dotnetdevelopmentinfrastructure.osscons.jp/index.php?%E7%B5%B1%E8%A8%88%E8%A7%A3%E6%9E%90#i38c7fea)"
   ]
  },
  {
   "cell_type": "markdown",
   "id": "85995891-1111-4da6-a8e0-4364126fb6c7",
   "metadata": {},
   "source": [
    "#### データ"
   ]
  },
  {
   "cell_type": "markdown",
   "id": "56aa6968-5856-4a54-83bf-f78d7a957cc5",
   "metadata": {
    "tags": []
   },
   "source": [
    "##### 生成"
   ]
  },
  {
   "cell_type": "markdown",
   "id": "671fb906-8e37-4da0-acf2-08f50dbb5b49",
   "metadata": {},
   "source": [
    "###### 適当な関数を定義"
   ]
  },
  {
   "cell_type": "code",
   "execution_count": null,
   "id": "317b3e14-3ff6-4c63-9789-149dd73dfe1e",
   "metadata": {},
   "outputs": [],
   "source": [
    "def GenerateData1(x):\n",
    "    y = 0.0001 * (x**3 + x**2 + x + 1)\n",
    "    return y"
   ]
  },
  {
   "cell_type": "markdown",
   "id": "84fb09d8-5e11-430f-9e06-463f2370611d",
   "metadata": {},
   "source": [
    "###### 関数上のプロット"
   ]
  },
  {
   "cell_type": "code",
   "execution_count": null,
   "id": "3d3fe69e-1bbb-4976-8a80-a76855709c27",
   "metadata": {},
   "outputs": [],
   "source": [
    "# xの範囲を指定\n",
    "x_plot = np.arange(-25, 25, 0.1)\n",
    "# yを関数で指定\n",
    "y_plot = GenerateData1(x_plot)\n",
    "# 機械学習用に変換\n",
    "x_plot = x_plot.reshape(-1, 1)"
   ]
  },
  {
   "cell_type": "markdown",
   "id": "88839cfe-346f-4b7c-82e7-f1d657d4350c",
   "metadata": {},
   "source": [
    "###### サンプルの生成"
   ]
  },
  {
   "cell_type": "code",
   "execution_count": null,
   "id": "166aea40-bf42-4288-b537-217275dcf905",
   "metadata": {},
   "outputs": [],
   "source": [
    "# 乱数生成器の状態を指定\n",
    "np.random.seed(3)\n",
    "# 正規分布に従ってX個のデータ点を生成\n",
    "X = 30\n",
    "x_train = np.random.normal(0, 10, X)\n",
    "# 対応するyを関数で生成\n",
    "y_train = GenerateData1(x_train)\n",
    "# 正規分布に従うノイズを加える\n",
    "y_train += np.random.normal(0, 0.25, len(y_train))\n",
    "# 機械学習用に変換\n",
    "x_train = x_train.reshape(-1, 1)"
   ]
  },
  {
   "cell_type": "markdown",
   "id": "88d609a4-6204-40ab-901b-2c9ca86e2cb0",
   "metadata": {},
   "source": [
    "###### 関数の描画と散布図で可視化\n",
    "コレで、\n",
    "- 多項式回帰の次数を上げて過学習させ、\n",
    "- それを正則化回帰で抑止してみる。"
   ]
  },
  {
   "cell_type": "code",
   "execution_count": null,
   "id": "59436b0a-8a1c-49a5-94ec-f1be6ef00221",
   "metadata": {},
   "outputs": [],
   "source": [
    "# 関数を描画\n",
    "plt.plot(x_plot, y_plot, color='black')\n",
    "# サンプルを散布\n",
    "plt.scatter(x_train, y_train)\n",
    "# グラフを表示\n",
    "plt.show()"
   ]
  },
  {
   "cell_type": "markdown",
   "id": "34f12132-3421-4c48-8991-f3e176c40291",
   "metadata": {},
   "source": [
    "##### 加工\n",
    "なし"
   ]
  },
  {
   "cell_type": "markdown",
   "id": "63eb1b7f-4a38-45c4-a1ee-e5b0c676855b",
   "metadata": {},
   "source": [
    "##### 準備\n",
    "なし（ここでは訓練データのみ使用するので、データ分割しない。"
   ]
  },
  {
   "cell_type": "markdown",
   "id": "eb4e2f75-44f3-4e97-9061-a0cf8bc581db",
   "metadata": {},
   "source": [
    "###### プロット・データはテスト・データ"
   ]
  },
  {
   "cell_type": "code",
   "execution_count": null,
   "id": "00e90382-e07d-4d31-a029-ecdc5d1763f9",
   "metadata": {},
   "outputs": [],
   "source": [
    "x_test = x_plot\n",
    "y_test = y_plot"
   ]
  },
  {
   "cell_type": "markdown",
   "id": "d02abab0-5743-4f81-a7c5-6f43c0e0adba",
   "metadata": {},
   "source": [
    "###### プロット・データはテスト・データ"
   ]
  },
  {
   "cell_type": "code",
   "execution_count": null,
   "id": "094d1c89-e1c8-4b5e-b3b0-b1d381faf918",
   "metadata": {},
   "outputs": [],
   "source": [
    "septic = PolynomialFeatures(degree=7)\n",
    "x_train_septic = septic.fit_transform(x_train)"
   ]
  },
  {
   "cell_type": "markdown",
   "id": "2a19578f-e9fc-45d5-bec1-c445ced14669",
   "metadata": {},
   "source": [
    "#### モデリング"
   ]
  },
  {
   "cell_type": "markdown",
   "id": "1f37a0c7-250b-4b51-a8ff-0b3d9e03e201",
   "metadata": {},
   "source": [
    "##### 実行"
   ]
  },
  {
   "cell_type": "markdown",
   "id": "888af79d-be99-47a4-8665-adf4f326e29d",
   "metadata": {},
   "source": [
    "###### 学習\n",
    "多項式回帰の次数を上げて過学習させ、それを正則化回帰で抑止してみる。"
   ]
  },
  {
   "cell_type": "code",
   "execution_count": null,
   "id": "952de50e-152d-470b-8cae-ed31957d48ad",
   "metadata": {},
   "outputs": [],
   "source": [
    "model_septic = LinearRegression()\n",
    "model_septic.fit(x_train_septic, y_train)"
   ]
  },
  {
   "cell_type": "code",
   "execution_count": null,
   "id": "c067dfc8-5406-40d0-921e-d3d776c13f1a",
   "metadata": {},
   "outputs": [],
   "source": [
    "# Ridge\n",
    "model_ridge = Ridge(alpha=1000)\n",
    "model_ridge.fit(x_train_septic, y_train)"
   ]
  },
  {
   "cell_type": "code",
   "execution_count": null,
   "id": "00ac2a38-0b10-45a0-8462-c2e7d425653c",
   "metadata": {},
   "outputs": [],
   "source": [
    "# Lasso\n",
    "model_lasso = Lasso(alpha=1000)\n",
    "model_lasso.fit(x_train_septic, y_train)"
   ]
  },
  {
   "cell_type": "code",
   "execution_count": null,
   "id": "d97eb552-efb6-4511-9d0f-1be64f0873b2",
   "metadata": {},
   "outputs": [],
   "source": [
    "# ElasticNet\n",
    "model_en= ElasticNet(alpha=1000, l1_ratio=0.9)\n",
    "model_en.fit(x_train_septic, y_train)"
   ]
  },
  {
   "cell_type": "markdown",
   "id": "ee297afb-a749-4e6c-98ca-a9fd505712d2",
   "metadata": {},
   "source": [
    "###### 推論"
   ]
  },
  {
   "cell_type": "code",
   "execution_count": null,
   "id": "032b749e-f7f6-47c4-b26f-d4545c52cc7c",
   "metadata": {},
   "outputs": [],
   "source": [
    "# 変数変換\n",
    "x_test_septic = septic.fit_transform(x_test)\n",
    "\n",
    "# 推論\n",
    "y_predict_septic = model_septic.predict(x_test_septic)\n",
    "y_predict_ridge = model_ridge.predict(x_test_septic)\n",
    "y_predict_lasso = model_lasso.predict(x_test_septic)\n",
    "y_predict_en = model_en.predict(x_test_septic)"
   ]
  },
  {
   "cell_type": "markdown",
   "id": "c56d80d2-86d9-4d4e-b729-8981ef55a116",
   "metadata": {},
   "source": [
    "##### 評価"
   ]
  },
  {
   "cell_type": "markdown",
   "id": "bfe4b4a3-a452-42d3-9d3c-8c37d481a87b",
   "metadata": {},
   "source": [
    "###### グラフへ描画"
   ]
  },
  {
   "cell_type": "code",
   "execution_count": null,
   "id": "1dc6607c-51f6-4a6b-86a6-3c1231a8be77",
   "metadata": {},
   "outputs": [],
   "source": [
    "# 多項式回帰の回帰式（7次関数）\n",
    "# 元の関数を描画\n",
    "plt.plot(x_plot, y_plot, color='black')\n",
    "# サンプルを散布\n",
    "plt.scatter(x_train, y_train)\n",
    "\n",
    "# ★7次関数で近似て過学習になった推論を描画\n",
    "plt.plot(x_plot, y_predict_septic, color='green')\n",
    "plt.plot(x_plot, y_predict_ridge, color='blue')\n",
    "plt.plot(x_plot, y_predict_lasso, color='red')\n",
    "plt.plot(x_plot, y_predict_en, color='yellow')\n",
    "\n",
    "# 縦の表示範囲を指定\n",
    "plt.ylim([-1.5, 1.5])\n",
    "\n",
    "# グラフを表示\n",
    "plt.show()"
   ]
  },
  {
   "cell_type": "markdown",
   "id": "c3cdf399-0648-4948-b542-c82f372cd26e",
   "metadata": {},
   "source": [
    "###### 自由度調整済み決定係数（R2乗値）"
   ]
  },
  {
   "cell_type": "code",
   "execution_count": null,
   "id": "e6b09e32-3947-434b-a0cd-0c734252de3e",
   "metadata": {},
   "outputs": [],
   "source": [
    "print('<septic train>')\n",
    "print('R^2: %.3f' % model_septic.score(x_train_septic, y_train))\n",
    "print('adjusted R^2: %.3f' % adjusted(model_septic.score(x_train_septic, y_train), len(y_train), 7))\n",
    "print('septic test')\n",
    "print('R^2: %.3f' % model_septic.score(x_test_septic, y_test))\n",
    "print('adjusted R^2: %.3f' % adjusted(model_septic.score(x_test_septic, y_test), len(y_train), 7))"
   ]
  },
  {
   "cell_type": "code",
   "execution_count": null,
   "id": "5338da0d-6710-4e08-8870-d3498c878e66",
   "metadata": {},
   "outputs": [],
   "source": [
    "print('<ridge train>')\n",
    "print('R^2: %.3f' % model_ridge.score(x_train_septic, y_train))\n",
    "print('adjusted R^2: %.3f' % adjusted(model_ridge.score(x_train_septic, y_train), len(y_train), 7))\n",
    "print('septic test')\n",
    "print('R^2: %.3f' % model_ridge.score(x_test_septic, y_test))\n",
    "print('adjusted R^2: %.3f' % adjusted(model_ridge.score(x_test_septic, y_test), len(y_train), 7))"
   ]
  },
  {
   "cell_type": "code",
   "execution_count": null,
   "id": "93c9063b-1ffd-4996-8e39-e527ed947577",
   "metadata": {},
   "outputs": [],
   "source": [
    "print('<lasso train>')\n",
    "print('R^2: %.3f' % model_lasso.score(x_train_septic, y_train))\n",
    "print('adjusted R^2: %.3f' % adjusted(model_lasso.score(x_train_septic, y_train), len(y_train), 7))\n",
    "print('septic test')\n",
    "print('R^2: %.3f' % model_lasso.score(x_test_septic, y_test))\n",
    "print('adjusted R^2: %.3f' % adjusted(model_lasso.score(x_test_septic, y_test), len(y_train), 7))"
   ]
  },
  {
   "cell_type": "code",
   "execution_count": null,
   "id": "afc26e03-54a2-453e-9d0c-27e8e12f2393",
   "metadata": {},
   "outputs": [],
   "source": [
    "print('<ElasticNet train>')\n",
    "print('R^2: %.3f' % model_en.score(x_train_septic, y_train))\n",
    "print('adjusted R^2: %.3f' % adjusted(model_en.score(x_train_septic, y_train), len(y_train), 7))\n",
    "print('septic test')\n",
    "print('R^2: %.3f' % model_en.score(x_test_septic, y_test))\n",
    "print('adjusted R^2: %.3f' % adjusted(model_en.score(x_test_septic, y_test), len(y_train), 7))"
   ]
  },
  {
   "cell_type": "markdown",
   "id": "dd7727a7-39a7-494a-81a8-b8900ae5f59c",
   "metadata": {},
   "source": [
    "###### 確認（次元削減、ノルムの縮小"
   ]
  },
  {
   "cell_type": "code",
   "execution_count": null,
   "id": "197dee70-6257-4436-8c7c-91d395773995",
   "metadata": {},
   "outputs": [],
   "source": [
    "# septic（正則化なし）\n",
    "# 重み\n",
    "print(\"model_septic.coef_:\", model_septic.coef_)\n",
    "# L2ノルム\n",
    "print(\"LA.norm(model_septic.coef_):\", LA.norm(model_septic.coef_))\n",
    "# L1ノルム\n",
    "print(\"LA.norm(model_septic.coef_, ord=1):\", LA.norm(model_septic.coef_, ord=1))"
   ]
  },
  {
   "cell_type": "code",
   "execution_count": null,
   "id": "e197c93d-d691-44d9-bbcf-1a9a9146a3c0",
   "metadata": {},
   "outputs": [],
   "source": [
    "# <ridge>\n",
    "# 重み\n",
    "print(\"model_ridge.coef_:\", model_ridge.coef_) # 次元削減の確認\n",
    "# L2ノルム\n",
    "print(\"LA.norm(model_ridge.coef_):\", LA.norm(model_ridge.coef_)) # 縮小の確認\n",
    "# L1ノルム\n",
    "print(\"LA.norm(model_ridge.coef_, ord=1):\", LA.norm(model_ridge.coef_, ord=1)) # 縮小の確認"
   ]
  },
  {
   "cell_type": "code",
   "execution_count": null,
   "id": "f8845571-9eaa-4df0-b15b-dcc5b88a0207",
   "metadata": {},
   "outputs": [],
   "source": [
    "# <lasso>\n",
    "# 重み\n",
    "print(\"model_lasso.coef_:\", model_lasso.coef_) # 次元削減の確認\n",
    "# L2ノルム\n",
    "print(\"LA.norm(model_lasso.coef_):\", LA.norm(model_lasso.coef_)) # 縮小の確認\n",
    "# L1ノルム\n",
    "print(\"LA.norm(model_lasso.coef_, ord=1):\", LA.norm(model_lasso.coef_, ord=1)) # 縮小の確認"
   ]
  },
  {
   "cell_type": "code",
   "execution_count": null,
   "id": "ad4e1b7f-3314-4d01-8888-9103d8a2cea4",
   "metadata": {},
   "outputs": [],
   "source": [
    "# <ElasticNet>\n",
    "# 重み\n",
    "print(\"model_en.coef_:\", model_en.coef_) # 次元削減の確認\n",
    "# L2ノルム\n",
    "print(\"LA.norm(model_en.coef_):\", LA.norm(model_en.coef_)) # 縮小の確認\n",
    "# L1ノルム\n",
    "print(\"LA.norm(model_en.coef_, ord=1):\", LA.norm(model_en.coef_, ord=1)) # 縮小の確認"
   ]
  }
 ],
 "metadata": {
  "kernelspec": {
   "display_name": "Python 3 (ipykernel)",
   "language": "python",
   "name": "python3"
  },
  "language_info": {
   "codemirror_mode": {
    "name": "ipython",
    "version": 3
   },
   "file_extension": ".py",
   "mimetype": "text/x-python",
   "name": "python",
   "nbconvert_exporter": "python",
   "pygments_lexer": "ipython3",
   "version": "3.10.4"
  }
 },
 "nbformat": 4,
 "nbformat_minor": 5
}
