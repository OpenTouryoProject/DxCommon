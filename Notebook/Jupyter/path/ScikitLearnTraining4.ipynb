{
 "cells": [
  {
   "cell_type": "markdown",
   "id": "cf8af0d7-c198-4acd-921a-f3683f675ced",
   "metadata": {},
   "source": [
    "# scikit-learnのトレーニング♨\n",
    "\n",
    "## 主成分分析、クラスタ分析 編\n",
    "- [主成分分析](#主成分分析)\n",
    "- [クラスタ分析](#クラスタ分析)\n",
    "\n",
    "## [目次](TableOfContents.ipynb)\n",
    "\n",
    "## 参考\n",
    "開発基盤部会 Wiki\n",
    "- データマイニング（DM）- Python  \n",
    "https://dotnetdevelopmentinfrastructure.osscons.jp/index.php?%E3%83%87%E3%83%BC%E3%82%BF%E3%83%9E%E3%82%A4%E3%83%8B%E3%83%B3%E3%82%B0%EF%BC%88DM%EF%BC%89-%20Python#y4054d35"
   ]
  },
  {
   "cell_type": "markdown",
   "id": "07e2a189-ef86-40f8-89e8-857a5b6e41aa",
   "metadata": {},
   "source": [
    "## [環境準備](ScikitLearnTraining0.ipynb)"
   ]
  },
  {
   "cell_type": "code",
   "execution_count": null,
   "id": "06435506-b010-44b9-8fc6-472e61ed518c",
   "metadata": {},
   "outputs": [],
   "source": [
    "import pandas as pd\n",
    "import numpy as np\n",
    "import mglearn\n",
    "import matplotlib.pyplot as plt\n",
    "\n",
    "from sklearn.preprocessing import StandardScaler             # 標準化\n",
    "from sklearn.model_selection import train_test_split         # データ分割\n",
    "\n",
    "from sklearn.linear_model import LinearRegression            # 線形回帰\n",
    "from sklearn.preprocessing import PolynomialFeatures         # 多項式回帰の変数変換\n",
    "from sklearn.linear_model import Ridge                       # 多項式回帰のRidge回帰\n",
    "from sklearn.linear_model import Lasso                       # 多項式回帰のLASSO回帰\n",
    "from sklearn.linear_model import ElasticNet                  # 多項式回帰のLASSO回帰\n",
    "from sklearn.linear_model import Perceptron                  # 単純パーセプトロン線形分類器\n",
    "from sklearn.linear_model import LogisticRegression          # ロジスティク回帰\n",
    "from sklearn.svm import SVC                                  # サポートベクターマシン（SVM）分類器\n",
    "from sklearn.tree import DecisionTreeClassifier              # 決定木（分類木）\n",
    "from sklearn.ensemble import RandomForestClassifier          # ランダムフォレスト（分類木）\n",
    "from sklearn.ensemble import GradientBoostingClassifier      # 勾配ブースティング木（分類木）\n",
    "from sklearn.decomposition import PCA                        # 主成分分析\n",
    "from sklearn.cluster import KMeans                           # k-means法 クラスタ分析\n",
    "from sklearn.feature_extraction.text import CountVectorizer  # 自然言語処理ベクトル化\n",
    "from sklearn.feature_extraction.text import TfidfTransformer # 自然言語ベクトルのTF-IDF計算\n",
    "from sklearn.decomposition import LatentDirichletAllocation  # 自然言語ベクトルからLDAトピック抽出\n",
    "\n",
    "from sklearn import metrics                                  # モデル評価\n",
    "from sklearn.metrics import mean_squared_error as mse        # 精度評価（mse）\n",
    "from sklearn.metrics import silhouette_samples               # シルエット係数\n",
    "from sklearn.model_selection import cross_val_score          # 交差検証法\n",
    "from sklearn.model_selection import KFold                    # k分割交差検証法\n",
    "from sklearn.model_selection import StratifiedKFold          # 層化交差検証法\n",
    "from sklearn.model_selection import GridSearchCV             # グリッドサーチ\n",
    "\n",
    "from sklearn.datasets import make_regression                 # 回帰データセット\n",
    "from sklearn.datasets import make_blobs                      # 分類データセット\n",
    "\n",
    "import seaborn as sns                                        # matplotlibラッパ\n",
    "from mlxtend.plotting import plot_decision_regions           # 決定領域表示関数\n",
    "from matplotlib import cm                                    # カラーマップ処理\n",
    "\n",
    "from numpy import linalg as LA                               # 線形代数ライブラリ"
   ]
  },
  {
   "cell_type": "markdown",
   "id": "503acc1a-d530-45fa-8c06-25650f279baa",
   "metadata": {},
   "source": [
    "## 共通的データ処理"
   ]
  },
  {
   "cell_type": "markdown",
   "id": "153d89fe-c420-4cea-b743-5f503d2f0eb5",
   "metadata": {},
   "source": [
    "### 生成"
   ]
  },
  {
   "cell_type": "code",
   "execution_count": null,
   "id": "6db9f9c0-7f4e-498f-a04b-2ed646eb8ca5",
   "metadata": {},
   "outputs": [],
   "source": [
    "from sklearn import datasets\n",
    "iris = datasets.load_iris()\n",
    "df_data = pd.DataFrame(iris.data, columns=iris.feature_names)\n",
    "df_target = pd.DataFrame(iris.target, columns=['species'])\n",
    "df = pd.concat([df_data, df_target], axis=1)\n",
    "df"
   ]
  },
  {
   "cell_type": "markdown",
   "id": "c7e0de06-87ea-4d45-aa25-d9855f5bebfd",
   "metadata": {},
   "source": [
    "### 加工\n",
    "特になし。"
   ]
  },
  {
   "cell_type": "markdown",
   "id": "8477e28f-8990-4229-9cdb-bb36a4d45fc4",
   "metadata": {},
   "source": [
    "### 理解"
   ]
  },
  {
   "cell_type": "markdown",
   "id": "3b53f70c-9a50-4670-80ee-6e8967944485",
   "metadata": {},
   "source": [
    "#### 基本統計量"
   ]
  },
  {
   "cell_type": "code",
   "execution_count": null,
   "id": "b4355d78-0a7e-4d62-b922-1656079aaff1",
   "metadata": {},
   "outputs": [],
   "source": [
    "df.describe()"
   ]
  },
  {
   "cell_type": "markdown",
   "id": "57b17b89-1066-494c-b1e5-2096ac3e2d47",
   "metadata": {},
   "source": [
    "#### 相関"
   ]
  },
  {
   "cell_type": "markdown",
   "id": "92fee796-09a8-4bd7-954a-1a433dd33993",
   "metadata": {},
   "source": [
    "##### カテゴリ分類した散布図行列を表示"
   ]
  },
  {
   "cell_type": "code",
   "execution_count": null,
   "id": "ccc16e22-7b40-4730-b93f-8e143d701aa9",
   "metadata": {},
   "outputs": [],
   "source": [
    "sns.pairplot(df, hue='species')\n",
    "plt.show()"
   ]
  },
  {
   "cell_type": "markdown",
   "id": "414fc960-c790-4116-b5c2-93aa65182fe8",
   "metadata": {},
   "source": [
    "### 準備"
   ]
  },
  {
   "cell_type": "markdown",
   "id": "8ebc5736-a522-4c9f-a25c-0c609b923a6d",
   "metadata": {},
   "source": [
    "#### 選択"
   ]
  },
  {
   "cell_type": "code",
   "execution_count": null,
   "id": "5a81f83e-0228-479c-9279-94afcb8933e8",
   "metadata": {},
   "outputs": [],
   "source": [
    "np_arr=np.array(df)\n",
    "\n",
    "# n = 100で2値分類\n",
    "# n = 150で3値分類\n",
    "n = 150\n",
    "\n",
    "# PetalLengthCm, PetalWidthCm列の選択\n",
    "# x=np_arr[:n, 2:4] \n",
    "x=np_arr[:n, 0:4] \n",
    "\n",
    "# Species列の選択\n",
    "y=np.array(np_arr[:n, 4:5],dtype=np.int64) # 要素の型をint64に変換"
   ]
  },
  {
   "cell_type": "markdown",
   "id": "639ff9a3-e02e-473a-a0de-6c2449c7fc4d",
   "metadata": {},
   "source": [
    "#### データの標準化\n",
    "カテゴリ・データは対象外"
   ]
  },
  {
   "cell_type": "code",
   "execution_count": null,
   "id": "030fbd8a-037e-4305-bd34-ef30cf70e03d",
   "metadata": {},
   "outputs": [],
   "source": [
    "ss = StandardScaler()\n",
    "ss.fit(x)\n",
    "x_std = ss.transform(x)"
   ]
  },
  {
   "cell_type": "markdown",
   "id": "138b16e2-0ca7-42d5-b280-43d201c2f40f",
   "metadata": {},
   "source": [
    "#### 学習・テストデータの分割"
   ]
  },
  {
   "cell_type": "code",
   "execution_count": null,
   "id": "e50058d8-b7d0-44ca-a74f-47392085fc36",
   "metadata": {},
   "outputs": [],
   "source": [
    "x_train, x_test, y_train, y_test = train_test_split(x_std, y, test_size=0.3, random_state=0)"
   ]
  },
  {
   "cell_type": "markdown",
   "id": "195d0b2f-0d79-498b-a156-dc7e67c76059",
   "metadata": {},
   "source": [
    "## モデル・アルゴリズム"
   ]
  },
  {
   "cell_type": "markdown",
   "id": "a610595d-27c5-4fae-aa51-2a2ffd2923d3",
   "metadata": {},
   "source": [
    "### 主成分分析\n",
    "- データを要約する特徴量（主成分）を抽出する手法\n",
    "- 数学的には､特徴空間内の座標軸を再設定する手法\n",
    "\n",
    "※ [イメージ](https://www.google.com/search?q=主成分分析&tbm=isch)、[説明](https://dotnetdevelopmentinfrastructure.osscons.jp/index.php?%E7%B5%B1%E8%A8%88%E8%A7%A3%E6%9E%90#f800acad)"
   ]
  },
  {
   "cell_type": "markdown",
   "id": "0e6f168d-9a36-4778-8c4c-ec5733599193",
   "metadata": {},
   "source": [
    "#### [データ](#共通的データ処理)"
   ]
  },
  {
   "cell_type": "markdown",
   "id": "f2b27d70-cda4-46e0-a1e5-40615510f53a",
   "metadata": {},
   "source": [
    "#### 実行\n",
    "- 取得する主成分数は説明変数の数以下に設定。\n",
    "- 学習だけのアルゴリズム。推論は行わない。"
   ]
  },
  {
   "cell_type": "markdown",
   "id": "9ecf72a4-ee0e-4e28-b59e-676c3036a55b",
   "metadata": {},
   "source": [
    "##### 次元削減前"
   ]
  },
  {
   "cell_type": "code",
   "execution_count": null,
   "id": "e31a69a6-3232-4091-b479-137a05445136",
   "metadata": {},
   "outputs": [],
   "source": [
    "x.shape"
   ]
  },
  {
   "cell_type": "markdown",
   "id": "179c983c-7519-4ee0-8307-f668d04844f2",
   "metadata": {},
   "source": [
    "##### 取得する主成分数を指定して学習\n",
    "パイパーパラメタのn_componentsを指定して学習"
   ]
  },
  {
   "cell_type": "code",
   "execution_count": null,
   "id": "d0156239-4010-4687-bc20-a03f09e1ceb4",
   "metadata": {},
   "outputs": [],
   "source": [
    "pca = PCA(n_components=3) \n",
    "x_pca = pca.fit_transform(x_std)"
   ]
  },
  {
   "cell_type": "markdown",
   "id": "c8feccda-0f55-418f-a112-9b182a4cc0f8",
   "metadata": {},
   "source": [
    "##### 次元削減後"
   ]
  },
  {
   "cell_type": "code",
   "execution_count": null,
   "id": "c0fa8e2c-c833-4b08-b94e-8b3950c9e4a0",
   "metadata": {},
   "outputs": [],
   "source": [
    "x_pca.shape"
   ]
  },
  {
   "cell_type": "markdown",
   "id": "a3c143ae-86f9-4806-a13b-ff8d6172226f",
   "metadata": {},
   "source": [
    "#### 結果（~~評価~~"
   ]
  },
  {
   "cell_type": "markdown",
   "id": "7c80d7aa-126d-47a3-81fc-6b3578b9a825",
   "metadata": {},
   "source": [
    "##### 可視化"
   ]
  },
  {
   "cell_type": "markdown",
   "id": "f02735e5-95dd-4633-ac4e-c9108529f59a",
   "metadata": {},
   "source": [
    "###### 上記を第1、2主成分で散布すると上手く、３値分類されていることが可視化される。"
   ]
  },
  {
   "cell_type": "code",
   "execution_count": null,
   "id": "6eb4d33d-e06f-4eed-9103-d91bcb32cc16",
   "metadata": {},
   "outputs": [],
   "source": [
    "plt.figure()\n",
    "for target, marker, color in zip(range(3), '>ox', 'rgb'): # ３値分類\n",
    "    # y==targetで、boolのnumpy.ndarrayベクトルが返るのでコレで行を指定している。\n",
    "    plt.scatter(x_pca[y.flatten()==target, 0], x_pca[y.flatten()==target, 1], marker=marker, color=color)\n",
    "plt.xlabel('PC1')\n",
    "plt.ylabel('PC2')\n",
    "plt.show()"
   ]
  },
  {
   "cell_type": "markdown",
   "id": "7213a7a5-0503-42ca-aca6-6484a5b6db29",
   "metadata": {},
   "source": [
    "###### 上記を第2、3主成分で散布図にプロットすると上手く、分類されていないことが可視化される。"
   ]
  },
  {
   "cell_type": "code",
   "execution_count": null,
   "id": "3408f206-8432-4f3d-9cc9-e029b8542ae6",
   "metadata": {},
   "outputs": [],
   "source": [
    "plt.figure()\n",
    "for target, marker, color in zip(range(3), '>ox', 'rgb'): # ３値分類\n",
    "    # y==targetで、boolのnumpy.ndarrayベクトルが返るのでコレで行を指定している。\n",
    "    plt.scatter(x_pca[y.flatten()==target, 1], x_pca[y.flatten()==target, 2], marker=marker, color=color)\n",
    "plt.xlabel('PC2')\n",
    "plt.ylabel('PC3')\n",
    "plt.show()"
   ]
  },
  {
   "cell_type": "markdown",
   "id": "7acf8825-3849-4de3-a2af-c4164182568a",
   "metadata": {},
   "source": [
    "##### 寄与率"
   ]
  },
  {
   "cell_type": "markdown",
   "id": "3865d7d7-029d-4639-adf4-1b999023dcf6",
   "metadata": {},
   "source": [
    "###### 通常の寄与率\n",
    "固有値を固有値の合計に占める％として表す。"
   ]
  },
  {
   "cell_type": "code",
   "execution_count": null,
   "id": "69053d03-90d8-42b9-a9dc-e2b5de43633b",
   "metadata": {},
   "outputs": [],
   "source": [
    "pca.explained_variance_ratio_"
   ]
  },
  {
   "cell_type": "markdown",
   "id": "10ed529a-162f-4585-8142-29d8c4b00d1f",
   "metadata": {},
   "source": [
    "###### 累積寄与率（合計100%）\n",
    "主成分に元の情報の何％を残すことができたか情報の集約度\n",
    "- 寄与率の累積％を表す。一般に、80％が1つの目安になっている。\n",
    "- いくつの主成分を採用するかは累積寄与率が基準になる。"
   ]
  },
  {
   "cell_type": "code",
   "execution_count": null,
   "id": "f775a180-2b19-4d58-9ddd-94a1694e3a77",
   "metadata": {},
   "outputs": [],
   "source": [
    "np.cumsum(pca.explained_variance_ratio_)"
   ]
  },
  {
   "cell_type": "markdown",
   "id": "0382464f-ee48-44eb-9325-2fff8c17c378",
   "metadata": {},
   "source": [
    "##### 因子負荷量\n",
    "- 出力の行列はn行が第n主成分の因子負荷量を表し、\n",
    "- n列が当該成分の因子負荷量に対する説明変数の相関を表す。"
   ]
  },
  {
   "cell_type": "code",
   "execution_count": null,
   "id": "cf0c96b1-5686-4246-ab40-521d45bd1a28",
   "metadata": {},
   "outputs": [],
   "source": [
    "pca.components_ * np.sqrt(pca.explained_variance_)[:, np.newaxis]"
   ]
  },
  {
   "cell_type": "markdown",
   "id": "89b6a043-95da-45aa-bf8a-546a6f266cf4",
   "metadata": {},
   "source": [
    "##### 第1、2主成分で分類\n",
    "[分類器](ScikitLearnTraining4.ipynb)で第1、2主成分を分類してみると良い。"
   ]
  },
  {
   "cell_type": "markdown",
   "id": "c7cea1cc-00ff-4276-9a19-f339c6769050",
   "metadata": {},
   "source": [
    "### クラスタ分析\n",
    "- 似ているサンプル同士をグループ（クラスタ）にまとめる教師なし学習の手法\n",
    "- 非階層型クラスタリングのk-means法で特徴空間内の距離を使って重心を変えながらクラスタ化する。\n",
    "- 距離にはユークリッド距離を使うので[主成分分析](#主成分分析)と相性が良い（円形のクラスタリング）。\n",
    "- 従って、サンプル数の異なるクラスタ、超球状でないクラスタの検出が苦手\n",
    "- 一方で、マハラノビス距離を用いた場合は、相関関係を考慮できる（楕円形のクラスタリング）\n",
    "\n",
    "※ [イメージ](https://www.google.com/search?q=k-means%20clustering&tbm=isch)、[説明](https://dotnetdevelopmentinfrastructure.osscons.jp/index.php?%E7%B5%B1%E8%A8%88%E8%A7%A3%E6%9E%90#df844c06)、[K-means 法を D3.js でビジュアライズしてみ\n",
    "](http://tech.nitoyon.com/ja/blog/2013/11/07/k-means/)"
   ]
  },
  {
   "cell_type": "markdown",
   "id": "bbfd749c-bd94-4890-8b38-0cc1a2138508",
   "metadata": {},
   "source": [
    "#### データ\n",
    "[主成分分析](#主成分分析)の結果データを使用する。"
   ]
  },
  {
   "cell_type": "markdown",
   "id": "959e2bf0-849c-4e22-82da-f28d65e848a4",
   "metadata": {},
   "source": [
    "#### 実行\n",
    "教師なし学習で推論はない。"
   ]
  },
  {
   "cell_type": "code",
   "execution_count": null,
   "id": "c0ae3f1f-3972-474f-9f48-aca704683d73",
   "metadata": {},
   "outputs": [],
   "source": [
    "km = KMeans(n_clusters=3,   # クラスタの個数を指定\n",
    "            init='random',  # 重心の初期値の決め方を決定\n",
    "            n_init=10,      # 異なる重心の初期値を用いての実行回数\n",
    "            max_iter=300,   # ひとつの重心を用いたときの最大イテレーション回数\n",
    "            tol=1e-04,      # 収束と判定するための相対的な許容誤差\n",
    "            random_state=0, # 重心の初期化に用いる乱数生成器の状態\n",
    "           )\n",
    "\n",
    "y_km = km.fit_predict(x_pca[:, 0:2]) # PC1, 2のみ使用"
   ]
  },
  {
   "cell_type": "markdown",
   "id": "3f4eec0d-b27b-4fba-ad80-274ef68dee11",
   "metadata": {},
   "source": [
    "#### 評価"
   ]
  },
  {
   "cell_type": "markdown",
   "id": "989c60c2-2f4f-49dd-b545-2e4709c37f30",
   "metadata": {},
   "source": [
    "##### SSE\n",
    "クラスタ内誤差平方和（SSE）は小さいほどよい。"
   ]
  },
  {
   "cell_type": "code",
   "execution_count": null,
   "id": "34235bee-15b8-4ece-80db-4df7f0c73146",
   "metadata": {},
   "outputs": [],
   "source": [
    "km.inertia_"
   ]
  },
  {
   "cell_type": "markdown",
   "id": "dd598603-3b91-4019-b56f-9271fcc500f9",
   "metadata": {},
   "source": [
    "##### 結果を表示する。"
   ]
  },
  {
   "cell_type": "markdown",
   "id": "8dda4903-76d5-4f6d-826d-613d45970c2c",
   "metadata": {},
   "source": [
    "###### 関数定義"
   ]
  },
  {
   "cell_type": "code",
   "execution_count": null,
   "id": "0504c91a-40eb-4241-9a98-f95cc4e189f2",
   "metadata": {},
   "outputs": [],
   "source": [
    "def kmeans_plot(n_clusters, km, x):\n",
    "    # クラスタの予測値を算出\n",
    "    y_km = km.fit_predict(x)\n",
    "    \n",
    "    # クラスタ毎に散布（ZIP的に5クラスまで、要素を増やせば対応可能\n",
    "    for i, color, marker in zip(range(n_clusters), 'rgbcm', '>o+xv'):\n",
    "        plt.scatter(x[y_km==i, 0],            # 横軸の値\n",
    "                    x[y_km==i, 1],            # 縦軸の値\n",
    "                    color=color,              # プロットの色\n",
    "                    marker=marker,            # プロットの形\n",
    "                    label='cluster ' + str(i) # ラベル\n",
    "                   )\n",
    "    \n",
    "    # クラスタの中心を散布\n",
    "    plt.scatter(km.cluster_centers_[:, 0],    # 横軸の値\n",
    "                km.cluster_centers_[:, 1],    # 縦軸の値\n",
    "                color='y',                    # プロットの色\n",
    "                marker='*',                   # プロットの形\n",
    "                label='centroids',            # ラベル\n",
    "                s=300,                        # プロットのサイズを大き目に\n",
    "               )\n",
    "   \n",
    "    plt.legend()\n",
    "    plt.grid()\n",
    "    plt.show()"
   ]
  },
  {
   "cell_type": "markdown",
   "id": "cf6d5285-73bc-452d-9f19-1c9a7294a79b",
   "metadata": {},
   "source": [
    "###### 結果をプロット"
   ]
  },
  {
   "cell_type": "code",
   "execution_count": null,
   "id": "c4064215-a44e-4918-8e12-a4e74fece9c3",
   "metadata": {},
   "outputs": [],
   "source": [
    "kmeans_plot(3, km, x_pca[:, 0:2]) # PC1, 2のみ使用"
   ]
  },
  {
   "cell_type": "markdown",
   "id": "4c38b9be-dff3-4847-8aef-c5f7ef9349cc",
   "metadata": {},
   "source": [
    "##### クラスタリングを分類データで評価\n",
    "分類データを用いてクラスタリングを正解率を計算する。"
   ]
  },
  {
   "cell_type": "markdown",
   "id": "8547117e-e0e7-4686-bca3-0e91279d3a5c",
   "metadata": {},
   "source": [
    "###### 関数定義"
   ]
  },
  {
   "cell_type": "code",
   "execution_count": null,
   "id": "fc846ffd-eb2c-4754-a2f3-1b6d0c397a01",
   "metadata": {},
   "outputs": [],
   "source": [
    "def kmeans_score(y_km, y):\n",
    "    y=y.flatten()\n",
    "    correct_ans = 0\n",
    "    for i in range(len(y)):\n",
    "        if y_km[i] == y[i]:\n",
    "            correct_ans += 1\n",
    "    return correct_ans / len(y)"
   ]
  },
  {
   "cell_type": "markdown",
   "id": "a100a360-83ae-4cf3-899a-afa8c55aad3a",
   "metadata": {},
   "source": [
    "###### 結果表示"
   ]
  },
  {
   "cell_type": "code",
   "execution_count": null,
   "id": "031ebd72-03a7-431a-8618-12eb7177e3cc",
   "metadata": {},
   "outputs": [],
   "source": [
    "# クラスタ番号をラベルに一致させる。\n",
    "y_km[y_km==2]=3\n",
    "y_km[y_km==1]=2\n",
    "y_km[y_km==3]=1\n",
    "# スコアの表示\n",
    "kmeans_score(y_km, y)"
   ]
  },
  {
   "cell_type": "markdown",
   "id": "0d995407-bf3d-4296-8a09-e16d1582d291",
   "metadata": {},
   "source": [
    "#### 問題と対策"
   ]
  },
  {
   "cell_type": "markdown",
   "id": "2f4400e6-576c-435b-8174-d07006adf7bc",
   "metadata": {},
   "source": [
    "##### 重心の初期値次第で､最終的なクラスタが大きく変わる"
   ]
  },
  {
   "cell_type": "markdown",
   "id": "94a65ae3-c2f8-47e2-8143-a5b05467416d",
   "metadata": {},
   "source": [
    "- k-means法を\n",
    "  - 異なる重心の初期値を用いての実行回数（n_init）の値を変え繰り返し実行し、\n",
    "  - クラスタ内誤差平方和（SSE）が一番小さくなった学習器を採用する。\n",
    "- k-means++法を選択する。  \n",
    "k-means法の初期値の選択に改良を行なった方法\n",
    "  - init='k-means++'と設定し実行する\n",
    "  - initの既定値は'k-means++'になっている。"
   ]
  },
  {
   "cell_type": "markdown",
   "id": "c71db5db-326d-4b0f-895a-6dda64c81ddd",
   "metadata": {},
   "source": [
    "##### クラスタの数を自分で決めなければならない"
   ]
  },
  {
   "cell_type": "markdown",
   "id": "9fbf6c5c-e1ae-413c-ab3a-520374dec494",
   "metadata": {},
   "source": [
    "###### エルボー法\n",
    "- クラスタ数とクラスタ内誤差平方和（SSE）の関係を見る。\n",
    "- SSEが小さくてもクラスタ数ムダに多い時は適切でない可能性。\n",
    "- 以下の例では、肘の部分は 2 - 4 に見え、結構曖昧ではある。"
   ]
  },
  {
   "cell_type": "code",
   "execution_count": null,
   "id": "f0fc555e-242c-49d8-9bd1-5e40fec2bf7e",
   "metadata": {},
   "outputs": [],
   "source": [
    "# クラスタ数とSSE\n",
    "distortions = []\n",
    "for k  in range(1,11):              # 1~10クラスタ\n",
    "    km = KMeans(n_clusters=k,       # クラスタ数\n",
    "                init='random',      # 重心の初期値の決め方を決定\n",
    "                n_init=10,          # 重心の初期値を変えての繰り返し回数\n",
    "                max_iter=300,       # 一回の最適化の繰り返し回数を指定\n",
    "                random_state=0)     # 乱数の生成状態を指定\n",
    "    km.fit(x_pca[:, 0:2])           # クラスタリングを実行\n",
    "    distortions.append(km.inertia_) # SSEをリストに格納\n",
    "    # 良く解らんが、distortion = cluster inertia = SSEらしい。\n",
    "\n",
    "# 結果をグラフに出力\n",
    "plt.plot(range(1,11), distortions,marker='o')\n",
    "plt.xlabel('Number of clusters')\n",
    "plt.ylabel('Distortion')\n",
    "plt.show()"
   ]
  },
  {
   "cell_type": "markdown",
   "id": "fbc1fa28-74dd-4658-bee5-657db04828c9",
   "metadata": {},
   "source": [
    "###### シルエット分析\n",
    "- クラスタリングの質を判定\n",
    "  - 縦軸はサンプル数\n",
    "  - 横軸はシルエット係数\n",
    "- 見方：同じ太さのナイフ状のパレートが平均の線に深めに刺さっていると良い感じ。\n",
    "  - シルエット係数の平均値より大きいサンプルが多いクラスタは適切にクラスタリングされている。\n",
    "  - 全クラスタのサンプル数が大きく偏っていない場合、適切にクラスタリングされている。"
   ]
  },
  {
   "cell_type": "code",
   "execution_count": null,
   "id": "3684b5ab-f52f-4bb1-aa21-816635ef3c89",
   "metadata": {},
   "outputs": [],
   "source": [
    "# シルエット係数の計算\n",
    "silhouettes = silhouette_samples(x_pca[:, 0:2], y_km, metric='euclidean')\n",
    "\n",
    "# シルエット係数の表示\n",
    "cluster_labels = np.unique(y_km)\n",
    "n_clusters = cluster_labels.shape[0]\n",
    "\n",
    "yticks = []\n",
    "y_ax_lower, y_ax_upper = 0, 0\n",
    "\n",
    "for i, cluster_label in enumerate(cluster_labels):\n",
    "   # 当該クラスタの係数を取り出す\n",
    "   cluster_silhouettes = silhouettes[y_km==cluster_label]\n",
    "   # 描画の上端の値を設定\n",
    "   y_ax_upper += len(cluster_silhouettes)\n",
    "   # 描画時の色の値をセット\n",
    "   color = cm.jet(float(i) / n_clusters)\n",
    "   # クラスタを横棒グラフで描画\n",
    "   cluster_silhouettes.sort()\n",
    "   plt.barh(range(y_ax_lower, y_ax_upper), \n",
    "            cluster_silhouettes, \n",
    "            height=1.0, \n",
    "            edgecolor='none', \n",
    "            color=color)\n",
    "   # クラスタのラベル位置を指定\n",
    "   yticks.append((y_ax_lower + y_ax_upper) / 2.)\n",
    "   # 次の描画のスタート位置\n",
    "   y_ax_lower += len(cluster_silhouettes)\n",
    "\n",
    "plt.axvline(np.mean(silhouettes), color='red', linestyle='--')\n",
    "plt.yticks(yticks, cluster_labels + 1)\n",
    "plt.ylabel('Cluster')\n",
    "plt.xlabel('Silhoutte coefficient')\n",
    "plt.tight_layout()\n",
    "plt.show()"
   ]
  }
 ],
 "metadata": {
  "kernelspec": {
   "display_name": "Python 3 (ipykernel)",
   "language": "python",
   "name": "python3"
  },
  "language_info": {
   "codemirror_mode": {
    "name": "ipython",
    "version": 3
   },
   "file_extension": ".py",
   "mimetype": "text/x-python",
   "name": "python",
   "nbconvert_exporter": "python",
   "pygments_lexer": "ipython3",
   "version": "3.10.4"
  }
 },
 "nbformat": 4,
 "nbformat_minor": 5
}
