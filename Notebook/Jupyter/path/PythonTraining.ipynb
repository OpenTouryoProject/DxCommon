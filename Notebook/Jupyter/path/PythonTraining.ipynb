{
 "cells": [
  {
   "cell_type": "markdown",
   "id": "8ab54a57-627d-4de8-9ab9-d6105da272a3",
   "metadata": {},
   "source": [
    "# Pythonのトレーニング♨\n",
    "\n",
    "- [概要](#概要)\n",
    "  - [コマンド実行](#コマンド実行)\n",
    "  - [インタラクティブ実行](#インタラクティブ実行)\n",
    "- [詳細](#詳細)\n",
    "  - [変数](#変数)\n",
    "  - [制御構文](#制御構文)\n",
    "  - [関数・クラス](#関数・クラス)\n",
    "  \n",
    "## [目次](TableOfContents.ipynb)\n",
    "\n",
    "## 参考\n",
    "開発基盤部会 Wiki\n",
    "- Pythonファースト・ステップ  \n",
    "https://dotnetdevelopmentinfrastructure.osscons.jp/index.php?Python%E3%83%95%E3%82%A1%E3%83%BC%E3%82%B9%E3%83%88%E3%83%BB%E3%82%B9%E3%83%86%E3%83%83%E3%83%97"
   ]
  },
  {
   "cell_type": "markdown",
   "id": "42d70700-4b35-4dcc-9bd9-f9fd524dacd5",
   "metadata": {
    "tags": []
   },
   "source": [
    "## 概要"
   ]
  },
  {
   "cell_type": "markdown",
   "id": "0bbdc8bb-ab04-477f-83cc-c09087cf76a8",
   "metadata": {
    "tags": []
   },
   "source": [
    "### コマンド実行"
   ]
  },
  {
   "cell_type": "markdown",
   "id": "25e26bbc-0ae3-42bd-b990-7b54ea0697fa",
   "metadata": {
    "tags": []
   },
   "source": [
    "#### バージョン確認\n",
    "環境によっては、pythonではなくpython3と打つ必要あり。"
   ]
  },
  {
   "cell_type": "code",
   "execution_count": null,
   "id": "a5f59977-3b04-47ab-ae90-0b3ab8b7e254",
   "metadata": {},
   "outputs": [],
   "source": [
    "!python --version"
   ]
  },
  {
   "cell_type": "markdown",
   "id": "b510be7a-e706-4875-ac07-04fcca782b59",
   "metadata": {
    "tags": []
   },
   "source": [
    "#### pipの利用"
   ]
  },
  {
   "cell_type": "markdown",
   "id": "d3e0aef6-291d-430d-bd35-03aacf8ec8d9",
   "metadata": {},
   "source": [
    "##### アップデート\n",
    "- 環境によっては、pythonではなくpython3と打つ必要あり。\n",
    "- 必要に応じて、プロキシ設定を行う（起動前に環境変数を設定してもOK）。\n",
    "```sh\n",
    "export http_proxy=\"http://<user_name>:<password>@<proxy_host>:<proxy_port>/\"\n",
    "export https_proxy=\"https://<user_name>:<password>@<proxy_host>:<proxy_port>/\"\n",
    "```"
   ]
  },
  {
   "cell_type": "code",
   "execution_count": null,
   "id": "f34c70e2-cfeb-44a1-a1a8-5cf6ccc9ad2f",
   "metadata": {},
   "outputs": [],
   "source": [
    "!python -m pip install --upgrade pip #--proxy=\"http[s]://<user_name>:<password>@<proxy_host>:<proxy_port>/\""
   ]
  },
  {
   "cell_type": "markdown",
   "id": "4b4cd169-43ab-4047-83e8-ba0719e806da",
   "metadata": {},
   "source": [
    "##### パッケージのインストール\n",
    "- 環境によっては、pipではなくpip3と打つ必要あり。\n",
    "- 必要に応じて、プロキシ設定を行う。"
   ]
  },
  {
   "cell_type": "markdown",
   "id": "bdecd497-8027-483f-a104-7d7bfce83119",
   "metadata": {},
   "source": [
    "###### pipdeptree"
   ]
  },
  {
   "cell_type": "code",
   "execution_count": null,
   "id": "2d759a49-ddf5-4c23-b7cd-c82bc7ef122c",
   "metadata": {},
   "outputs": [],
   "source": [
    "#!pip install <package>\n",
    "!pip install pipdeptree #--proxy=\"http[s]://<user_name>:<password>@<proxy_host>:<proxy_port>/\""
   ]
  },
  {
   "cell_type": "markdown",
   "id": "d06211e0-d3c0-4096-baf0-7a72754bc89c",
   "metadata": {},
   "source": [
    "###### numpy"
   ]
  },
  {
   "cell_type": "code",
   "execution_count": null,
   "id": "ea04be35-e0ce-467f-974d-46180c346b1d",
   "metadata": {},
   "outputs": [],
   "source": [
    "!pip install numpy #--proxy=\"http[s]://<user_name>:<password>@<proxy_host>:<proxy_port>/\""
   ]
  },
  {
   "cell_type": "markdown",
   "id": "dc450d58-4598-46bb-987e-2e1ea0bc835a",
   "metadata": {
    "tags": []
   },
   "source": [
    "#### パッケージの利用\n",
    "依存関係の確認"
   ]
  },
  {
   "cell_type": "markdown",
   "id": "88df3da7-d13c-4785-879a-b328d9249a92",
   "metadata": {},
   "source": [
    "###### pipdeptree"
   ]
  },
  {
   "cell_type": "code",
   "execution_count": null,
   "id": "9ca7f43b-c3cd-4eb3-8ea2-d1e8f375aa46",
   "metadata": {},
   "outputs": [],
   "source": [
    "!pipdeptree -r -p numpy"
   ]
  },
  {
   "cell_type": "markdown",
   "id": "6eab53c4-dc98-4e9f-b6a4-887b98c465ea",
   "metadata": {},
   "source": [
    "###### numpy"
   ]
  },
  {
   "cell_type": "code",
   "execution_count": null,
   "id": "42220cea-8c96-46c8-8eff-0f813aca797c",
   "metadata": {},
   "outputs": [],
   "source": [
    "import numpy as np\n",
    "np.array([1.0,2.0,3.0])"
   ]
  },
  {
   "cell_type": "markdown",
   "id": "506614cb-80ea-4e3c-9681-fa67b30b2794",
   "metadata": {
    "tags": []
   },
   "source": [
    "### インタラクティブ実行"
   ]
  },
  {
   "cell_type": "markdown",
   "id": "59f0c9f5-086b-4296-8c6d-4fb3ee8e0f5d",
   "metadata": {
    "tags": []
   },
   "source": [
    "#### 算術計算"
   ]
  },
  {
   "cell_type": "code",
   "execution_count": null,
   "id": "ddd11639-b376-43e3-b252-07cce23ccb66",
   "metadata": {},
   "outputs": [],
   "source": [
    "1+1"
   ]
  },
  {
   "cell_type": "markdown",
   "id": "5809325a-34d7-45c2-94cc-146b1d28b886",
   "metadata": {
    "tags": []
   },
   "source": [
    "#### データ型"
   ]
  },
  {
   "cell_type": "code",
   "execution_count": null,
   "id": "82e2cf93-30c3-4fad-8b4b-539aa764c6aa",
   "metadata": {},
   "outputs": [],
   "source": [
    "type(10)"
   ]
  },
  {
   "cell_type": "markdown",
   "id": "b4a20acf-32cc-494f-8ab7-81a93e76c625",
   "metadata": {
    "tags": []
   },
   "source": [
    "#### 変数"
   ]
  },
  {
   "cell_type": "code",
   "execution_count": null,
   "id": "af981c9d-3628-4070-b549-897aee959827",
   "metadata": {},
   "outputs": [],
   "source": [
    "x=10\n",
    "print(x)"
   ]
  },
  {
   "cell_type": "markdown",
   "id": "07f7d6be-1c14-4ab9-b350-e7cb4b147276",
   "metadata": {
    "tags": []
   },
   "source": [
    "#### リスト"
   ]
  },
  {
   "cell_type": "code",
   "execution_count": null,
   "id": "00cac255-417f-4b64-be8a-b93e50714171",
   "metadata": {},
   "outputs": [],
   "source": [
    "a=[1,2,3,4,5]\n",
    "\n",
    "print(\"a=\", a)\n",
    "print(\"a[0]=\", a[0])\n",
    "print(\"a[4]=\", a[4])\n",
    "\n",
    "a[4]=99\n",
    "\n",
    "print(\"a[4]=\", a[4])\n",
    "print(\"a=\", a)"
   ]
  },
  {
   "cell_type": "markdown",
   "id": "2885ce7c-8ef8-4de7-8a62-2e4e47d593ac",
   "metadata": {
    "tags": []
   },
   "source": [
    "#### ディクショナリ"
   ]
  },
  {
   "cell_type": "code",
   "execution_count": null,
   "id": "bb0c2db0-415c-40d3-9c3d-b5d369ab45c3",
   "metadata": {},
   "outputs": [],
   "source": [
    "dic={'hoge1':1}\n",
    "dic['hoge2']=2\n",
    "\n",
    "print(dic)"
   ]
  },
  {
   "cell_type": "markdown",
   "id": "ff78a062-38c4-4946-b684-6a1da6f554e2",
   "metadata": {
    "tags": []
   },
   "source": [
    "#### boolと論理演算"
   ]
  },
  {
   "cell_type": "code",
   "execution_count": null,
   "id": "47bcf5fb-15f9-4403-9cf9-1de104e2bf6b",
   "metadata": {},
   "outputs": [],
   "source": [
    "hungry = True\n",
    "sleepy = False\n",
    "\n",
    "print(type(hungry))\n",
    "print(not hungry)\n",
    "print(hungry and sleepy)\n",
    "print(hungry or sleepy)"
   ]
  },
  {
   "cell_type": "markdown",
   "id": "cf063f9a-6341-4608-ab66-dfd3e7e74a1a",
   "metadata": {
    "tags": []
   },
   "source": [
    "#### if文"
   ]
  },
  {
   "cell_type": "markdown",
   "id": "69424ff1-e086-48b2-ae10-edea4beba80d",
   "metadata": {},
   "source": [
    "##### if"
   ]
  },
  {
   "cell_type": "code",
   "execution_count": null,
   "id": "84141065-0991-4003-913c-75ec90c4d571",
   "metadata": {},
   "outputs": [],
   "source": [
    "hungry = True\n",
    "\n",
    "if hungry:\n",
    "    print(\"im hungry\") # 半角スペースのインデントが必要"
   ]
  },
  {
   "cell_type": "markdown",
   "id": "495e8868-74a3-4586-b619-fec2d3c980f8",
   "metadata": {},
   "source": [
    "##### if-else"
   ]
  },
  {
   "cell_type": "code",
   "execution_count": null,
   "id": "c65838d6-a4f5-4b43-8d0a-e40bb6ec0067",
   "metadata": {},
   "outputs": [],
   "source": [
    "hungry = False\n",
    "\n",
    "if hungry:\n",
    "    print(\"im hungry\") # 半角スペースのインデントが必要\n",
    "else:\n",
    "    print(\"im not hungry\") # 半角スペースのインデントが必要\n",
    "    print(\"im sleepy\")"
   ]
  },
  {
   "cell_type": "markdown",
   "id": "d1f0ff65-0f8e-4908-8401-e596842e68fc",
   "metadata": {
    "tags": []
   },
   "source": [
    "#### for文"
   ]
  },
  {
   "cell_type": "code",
   "execution_count": null,
   "id": "9a747c9a-766b-40dd-a6a0-5af0c096b745",
   "metadata": {},
   "outputs": [],
   "source": [
    "for i in [1,2,3]:\n",
    "    print(i) # 半角スペースのインデントが必要"
   ]
  },
  {
   "cell_type": "markdown",
   "id": "ed6e0328-3d7e-4cef-9d2a-2be4f5042579",
   "metadata": {
    "tags": []
   },
   "source": [
    "#### 関数"
   ]
  },
  {
   "cell_type": "markdown",
   "id": "2c938b82-c618-4b9b-8ad3-f10bcf5853ea",
   "metadata": {},
   "source": [
    "##### 定義例"
   ]
  },
  {
   "cell_type": "code",
   "execution_count": null,
   "id": "e96e4582-49d3-4d0b-a938-b489c4fc9537",
   "metadata": {},
   "outputs": [],
   "source": [
    "def hello():\n",
    "    print(\"hello!\")\n",
    "    \n",
    "hello()"
   ]
  },
  {
   "cell_type": "markdown",
   "id": "bdea5614-671d-432e-a29d-3d46a66d9fb5",
   "metadata": {},
   "source": [
    "##### 実行例"
   ]
  },
  {
   "cell_type": "code",
   "execution_count": null,
   "id": "239e0585-5c05-42c1-a52f-164c18afbb56",
   "metadata": {},
   "outputs": [],
   "source": [
    "def hello(object):\n",
    "    print(\"hello \" + object + \"!\")\n",
    "\n",
    "hello(\"hoge\")"
   ]
  },
  {
   "cell_type": "markdown",
   "id": "7e5962cf-e612-49d3-8782-230c1387497b",
   "metadata": {
    "tags": []
   },
   "source": [
    "## 詳細"
   ]
  },
  {
   "cell_type": "markdown",
   "id": "5487f5ba-6671-4077-9ee0-f9b1cdca491e",
   "metadata": {
    "tags": []
   },
   "source": [
    "### 変数"
   ]
  },
  {
   "cell_type": "markdown",
   "id": "e0b1a02c-724f-4545-a608-6e2e806cb680",
   "metadata": {
    "tags": []
   },
   "source": [
    "#### 命名規則\n",
    "- 必ず半角英字で始める\n",
    "- 予約語との衝突はNG"
   ]
  },
  {
   "cell_type": "markdown",
   "id": "68160d2f-8167-4df8-ba8c-767324e9a0bf",
   "metadata": {
    "tags": []
   },
   "source": [
    "#### 数値と文字列"
   ]
  },
  {
   "cell_type": "markdown",
   "id": "451268a0-8f5f-4d98-a6f3-1ceb6365c51c",
   "metadata": {
    "tags": []
   },
   "source": [
    "##### 数値"
   ]
  },
  {
   "cell_type": "markdown",
   "id": "eb463fbc-6076-474f-8ce1-2f95e708fdaa",
   "metadata": {},
   "source": [
    "###### 四則演算"
   ]
  },
  {
   "cell_type": "code",
   "execution_count": null,
   "id": "a28d2d4c-4df9-4906-9e58-14d9bc63ccd4",
   "metadata": {},
   "outputs": [],
   "source": [
    "# 割愛"
   ]
  },
  {
   "cell_type": "markdown",
   "id": "f4942071-51f2-4eae-8ce3-83b6442fb1b9",
   "metadata": {},
   "source": [
    "###### 累乗"
   ]
  },
  {
   "cell_type": "code",
   "execution_count": null,
   "id": "13a20eaf-2bf2-4492-9988-00278f69f4ab",
   "metadata": {},
   "outputs": [],
   "source": [
    "2 ** 3"
   ]
  },
  {
   "cell_type": "markdown",
   "id": "00546f6d-a179-4d9e-be89-8c8f108749fa",
   "metadata": {},
   "source": [
    "###### 割商"
   ]
  },
  {
   "cell_type": "code",
   "execution_count": null,
   "id": "4ce90348-4d53-4677-b5af-9af8601b658a",
   "metadata": {},
   "outputs": [],
   "source": [
    "10 // 3"
   ]
  },
  {
   "cell_type": "markdown",
   "id": "f92c85b3-2dc3-4463-a1a9-5030e397cb64",
   "metadata": {},
   "source": [
    "###### 割余"
   ]
  },
  {
   "cell_type": "code",
   "execution_count": null,
   "id": "e7477d5f-8efa-4189-82d8-e7564bf59788",
   "metadata": {},
   "outputs": [],
   "source": [
    "10 % 3"
   ]
  },
  {
   "cell_type": "markdown",
   "id": "70b706d0-71ca-456b-8e86-1be08ec6644a",
   "metadata": {},
   "source": [
    "###### 指数表現"
   ]
  },
  {
   "cell_type": "code",
   "execution_count": null,
   "id": "1a74ba0a-7dc5-4ac5-a35d-cc31a23aba24",
   "metadata": {},
   "outputs": [],
   "source": [
    "# 1 * 10の7乗\n",
    "1.0e7"
   ]
  },
  {
   "cell_type": "code",
   "execution_count": null,
   "id": "8086d93f-b1e5-494a-a615-a1d7bfc5b721",
   "metadata": {},
   "outputs": [],
   "source": [
    "# 1 * 10の-7乗\n",
    "1.0e-7"
   ]
  },
  {
   "cell_type": "markdown",
   "id": "5599ca03-884b-4bb8-9640-1e4e9606ad0b",
   "metadata": {
    "tags": []
   },
   "source": [
    "##### 文字列"
   ]
  },
  {
   "cell_type": "markdown",
   "id": "e579f95b-2447-43c5-93fa-e8ab0262e324",
   "metadata": {},
   "source": [
    "###### クォーテーション"
   ]
  },
  {
   "cell_type": "markdown",
   "id": "51342def-803f-4429-aeb9-0e305b8afc46",
   "metadata": {},
   "source": [
    "- シングル（'）  \n",
    "文字列中で（\"）を使う場合。\n",
    "- ダブル（\"）  \n",
    "文字列中で（'）を使う場合。\n",
    "- [\\\\] エスケープシーケンス  \n",
    "[\\\\'], [\\\\\"]"
   ]
  },
  {
   "cell_type": "markdown",
   "id": "fb180a06-1ccc-4513-8604-930436075a36",
   "metadata": {
    "tags": []
   },
   "source": [
    "###### 演算"
   ]
  },
  {
   "cell_type": "code",
   "execution_count": null,
   "id": "c369281c-119e-484d-959b-00b296e61f5b",
   "metadata": {},
   "outputs": [],
   "source": [
    "# 連結\n",
    "x = \"hoge\" + \"hoge\"\n",
    "print(x)\n",
    "\n",
    "# 繰り返し\n",
    "X = \"hoge\" * 2\n",
    "print(x)"
   ]
  },
  {
   "cell_type": "markdown",
   "id": "2e903380-421c-47f5-82fd-d41d5a727472",
   "metadata": {},
   "source": [
    "###### castメソッド"
   ]
  },
  {
   "cell_type": "code",
   "execution_count": null,
   "id": "f174096d-059e-4593-895a-99d120436161",
   "metadata": {},
   "outputs": [],
   "source": [
    "int(\"2022\") # => 数値の2022"
   ]
  },
  {
   "cell_type": "markdown",
   "id": "1237e3c3-8457-49b6-9bc6-40cde42df351",
   "metadata": {},
   "source": [
    "###### formatメソッド"
   ]
  },
  {
   "cell_type": "code",
   "execution_count": null,
   "id": "f9a6b811-6317-45e4-8118-ce04e9dcde2b",
   "metadata": {},
   "outputs": [],
   "source": [
    "# 文字列中に変数値を挿入\n",
    "month = 9\n",
    "day = 1\n",
    "temp = 30\n",
    "\n",
    "'{}月{}日の気温は{}度です｡'.format(month, day, temp)"
   ]
  },
  {
   "cell_type": "code",
   "execution_count": null,
   "id": "7b12f370-0dbf-4b9c-98de-e7cb2d3fe124",
   "metadata": {},
   "outputs": [],
   "source": [
    "# 小数の桁数指定\n",
    "num = 123.456\n",
    "print('{:.1f}'.format(num))"
   ]
  },
  {
   "cell_type": "markdown",
   "id": "921ee2d1-d481-411c-b921-d98e3165518c",
   "metadata": {},
   "source": [
    "###### コメント"
   ]
  },
  {
   "cell_type": "code",
   "execution_count": null,
   "id": "aa6c187a-03a3-45b7-97cf-53c389adaf8f",
   "metadata": {},
   "outputs": [],
   "source": [
    "#１行\n",
    "# コメント"
   ]
  },
  {
   "cell_type": "code",
   "execution_count": null,
   "id": "c7eefe2d-99f9-4fe9-9d6a-881012f5147a",
   "metadata": {},
   "outputs": [],
   "source": [
    "#複数行\n",
    "\"\"\"\n",
    "コメント\n",
    "\"\"\""
   ]
  },
  {
   "cell_type": "markdown",
   "id": "1f1c7605-243a-4ce8-a924-28b837bcfeb3",
   "metadata": {
    "tags": []
   },
   "source": [
    "#### コレクション型"
   ]
  },
  {
   "cell_type": "markdown",
   "id": "f18a2378-7536-4362-895d-2b9fd7844a1c",
   "metadata": {
    "tags": []
   },
   "source": [
    "##### リスト\n",
    "配列の事。"
   ]
  },
  {
   "cell_type": "markdown",
   "id": "3a422c3f-96a2-45c2-939e-0b90bdd93f49",
   "metadata": {},
   "source": [
    "###### 定義"
   ]
  },
  {
   "cell_type": "code",
   "execution_count": null,
   "id": "647642d8-f2be-4147-9647-31916f09bd2a",
   "metadata": {},
   "outputs": [],
   "source": [
    "hoge = ['aaa', 'bbb', 'ccc', 'ddd']"
   ]
  },
  {
   "cell_type": "markdown",
   "id": "5e312dbb-cec3-4e58-9db9-d37b1c5211b5",
   "metadata": {
    "tags": []
   },
   "source": [
    "###### インデックス"
   ]
  },
  {
   "cell_type": "code",
   "execution_count": null,
   "id": "01d15f6e-8b7c-4e29-b1b0-91b954b8f330",
   "metadata": {},
   "outputs": [],
   "source": [
    "# 通常\n",
    "print(hoge[0])\n",
    "\n",
    "# 後ろから\n",
    "print(hoge[-3])\n",
    "\n",
    "# スライシング\n",
    "# ややこしいが、対応する番号の要素の一つ前の区切りでスライスする。\n",
    "print(hoge[1:3])"
   ]
  },
  {
   "cell_type": "markdown",
   "id": "5df7c259-bcb9-4b3f-b8e2-24055c9fb187",
   "metadata": {
    "tags": []
   },
   "source": [
    "###### メソッド"
   ]
  },
  {
   "cell_type": "code",
   "execution_count": null,
   "id": "b8bac095-b8bb-4aa3-85fe-03fa4b3ecc4e",
   "metadata": {},
   "outputs": [],
   "source": [
    "# 追加\n",
    "hoge.append('xxx')\n",
    "print(hoge)\n",
    "\n",
    "# 削除\n",
    "# インデックス指定ではないっぽい\n",
    "hoge.remove('aaa')\n",
    "print(hoge)"
   ]
  },
  {
   "cell_type": "markdown",
   "id": "71ea06bc-34b4-457b-949e-9c6f58b26158",
   "metadata": {
    "tags": []
   },
   "source": [
    "###### 文とか関数とか"
   ]
  },
  {
   "cell_type": "code",
   "execution_count": null,
   "id": "194d0b51-fa82-4350-9fee-b3962673a551",
   "metadata": {},
   "outputs": [],
   "source": [
    "# del文\n",
    "del hoge[0] # インデックス0の要素を削除\n",
    "print(hoge)\n",
    "\n",
    "# len関数\n",
    "print(len(hoge))"
   ]
  },
  {
   "cell_type": "markdown",
   "id": "3fbf0218-618c-46cc-bfd0-08a76dd40bd5",
   "metadata": {
    "jp-MarkdownHeadingCollapsed": true,
    "tags": []
   },
   "source": [
    "##### タプル\n",
    "- 定義後、変更が出来ないリスト\n",
    "- 定義は角括弧ではなく丸括弧を使う。"
   ]
  },
  {
   "cell_type": "markdown",
   "id": "d204002b-82f6-4f7e-90fb-b4e44d14f969",
   "metadata": {},
   "source": [
    "##### 集合\n",
    "- 要素を順番や重複を考えない（C#のListに近い）\n",
    "- 定義は角括弧・丸括弧ではなく中括弧（{}）を使う。"
   ]
  },
  {
   "cell_type": "markdown",
   "id": "eb753a34-1dc9-4633-864f-488ff9c42d20",
   "metadata": {},
   "source": [
    "##### 辞書\n",
    "- キー＆バリュー（C#のDictionaryに近い）\n",
    "- 定義は角括弧・丸括弧ではなく中括弧（{}）を使う。"
   ]
  },
  {
   "cell_type": "markdown",
   "id": "94a56c6c-32d8-4521-95f5-df106146eb3d",
   "metadata": {
    "tags": []
   },
   "source": [
    "### 制御構文"
   ]
  },
  {
   "cell_type": "markdown",
   "id": "769dcb19-41bd-4a4d-aa17-9fe9ac7c9d92",
   "metadata": {},
   "source": [
    "#### 真偽と演算子"
   ]
  },
  {
   "cell_type": "markdown",
   "id": "2f6c6242-c7a3-458b-b41e-8a3c6630ca00",
   "metadata": {
    "jp-MarkdownHeadingCollapsed": true,
    "tags": []
   },
   "source": [
    "##### bool型\n",
    "- 真 : True\n",
    "- 偽 : Frue"
   ]
  },
  {
   "cell_type": "markdown",
   "id": "aea4a1ce-5749-439c-aaab-583b09ef04b1",
   "metadata": {
    "tags": []
   },
   "source": [
    "##### 比較演算子"
   ]
  },
  {
   "cell_type": "code",
   "execution_count": null,
   "id": "b85e8143-d496-4536-adab-6603486d5b74",
   "metadata": {},
   "outputs": [],
   "source": [
    "# [!=]\n",
    "print(True != False)\n",
    "print(True != True)\n",
    "\n",
    "# [>]\n",
    "print(True > False)\n",
    "print(True > True)\n",
    "\n",
    "# [<]\n",
    "print(True < False)\n",
    "print(True < True)\n",
    "\n",
    "# [>=]\n",
    "print(True >= False)\n",
    "print(True >= True)\n",
    "\n",
    "# [<=]\n",
    "print(True <= False)\n",
    "print(True <= True)"
   ]
  },
  {
   "cell_type": "markdown",
   "id": "fbf62a4a-24db-4e4a-bdd0-5203d548110f",
   "metadata": {
    "tags": []
   },
   "source": [
    "##### 論理演算子"
   ]
  },
  {
   "cell_type": "code",
   "execution_count": null,
   "id": "9b7fd3c5-0e27-4fb5-94f8-26fa1e8500f4",
   "metadata": {},
   "outputs": [],
   "source": [
    "# and\n",
    "print(True and False)\n",
    "print(True and True)\n",
    "\n",
    "# or\n",
    "print(True or False)\n",
    "print(True or True)\n",
    "\n",
    "# not\n",
    "print(not True)\n",
    "print(not False)"
   ]
  },
  {
   "cell_type": "markdown",
   "id": "b7247cec-2502-416d-97dc-851e7e20a23d",
   "metadata": {
    "tags": []
   },
   "source": [
    "##### in演算子\n",
    "コレクション型のデータに特定の要素が含まれているかどうか"
   ]
  },
  {
   "cell_type": "code",
   "execution_count": null,
   "id": "c3ebb2ca-913f-4251-b185-83a9c8b74089",
   "metadata": {},
   "outputs": [],
   "source": [
    "hoge = ['aaa', 'bbb', 'ccc', 'ddd']\n",
    "print('ccc' in hoge)"
   ]
  },
  {
   "cell_type": "markdown",
   "id": "2dff70ac-a303-414c-bb58-a60a135fa2de",
   "metadata": {},
   "source": [
    "#### 条件分岐\n",
    "if（SelectとかSwitchは無い）\n",
    "\n",
    "```python\n",
    "if 条件式A:\n",
    "  ...\n",
    "elif 条件式B:\n",
    "  ...\n",
    "else:\n",
    "  ...\n",
    "```"
   ]
  },
  {
   "cell_type": "markdown",
   "id": "a5fb164d-83b5-4ff4-b2be-f104d63a99a6",
   "metadata": {
    "tags": []
   },
   "source": [
    "##### if\n",
    "条件式Aが真（true）の場合に実行する処理\n",
    "##### elif\n",
    "条件式Aが偽（false）で条件式Bが真（true）の場合に実行\n",
    "##### else\n",
    "すべての条件式が偽（false）の場合に実行"
   ]
  },
  {
   "cell_type": "code",
   "execution_count": null,
   "id": "d8e5e3bd-fc21-4f9b-bd3b-fe190c194c19",
   "metadata": {},
   "outputs": [],
   "source": [
    "num = 75\n",
    "if num > 100:\n",
    "    print('100 < num')\n",
    "elif num > 50:\n",
    "    print('50 < num <= 100')\n",
    "elif num > 0:\n",
    "    print('0 < num <= 50')\n",
    "elif num == 0:\n",
    "    print('num == 0')\n",
    "else:\n",
    "    print('num < 0')"
   ]
  },
  {
   "cell_type": "markdown",
   "id": "b265d84b-0dbe-442b-9b68-175e1a1e14b7",
   "metadata": {},
   "source": [
    "#### 繰り返し\n",
    "foreach的なforのみ実装"
   ]
  },
  {
   "cell_type": "markdown",
   "id": "7a080971-e923-4be1-b762-56b0e1cf5275",
   "metadata": {
    "tags": []
   },
   "source": [
    "##### 基本形"
   ]
  },
  {
   "cell_type": "markdown",
   "id": "ce4eeb1d-f2c2-4510-a244-2075c45144e3",
   "metadata": {
    "tags": []
   },
   "source": [
    "###### オブジェクト（コレクション等\n",
    "```python\n",
    "for 変数 in オブジェクト:\n",
    "    実行する処理\n",
    "```"
   ]
  },
  {
   "cell_type": "code",
   "execution_count": null,
   "id": "f7a18867-8aa3-4ac7-8684-828ef22f4d95",
   "metadata": {},
   "outputs": [],
   "source": [
    "hoge = ['aaa', 'bbb', 'ccc', 'ddd']\n",
    "for str in hoge:\n",
    "    print(str)"
   ]
  },
  {
   "cell_type": "code",
   "execution_count": null,
   "id": "1f8ec328-b369-4b9f-9694-d37945b58b72",
   "metadata": {},
   "outputs": [],
   "source": [
    "# 内部でbreakやcontinueが使える。\n",
    "hoge = ['aaa', 'bbb', 'ccc', 'ddd']\n",
    "for str in hoge:\n",
    "    if str == 'ccc':\n",
    "        break\n",
    "    print(str)       "
   ]
  },
  {
   "cell_type": "code",
   "execution_count": null,
   "id": "4c60f16d-15a8-468d-b9af-ed48ae82632f",
   "metadata": {},
   "outputs": [],
   "source": [
    "# 内部でbreakやcontinueが使える。\n",
    "hoge = ['aaa', 'bbb', 'ccc', 'ddd']\n",
    "for str in hoge:\n",
    "    if str == 'ccc':\n",
    "        continue\n",
    "    print(str)       "
   ]
  },
  {
   "cell_type": "markdown",
   "id": "ab54a6c6-96f6-4859-9ca2-a6e044cde54d",
   "metadata": {
    "tags": []
   },
   "source": [
    "##### rangeを使う"
   ]
  },
  {
   "cell_type": "markdown",
   "id": "ab6409d6-41ac-46ff-82bc-589a0474ad59",
   "metadata": {},
   "source": [
    "###### 例１"
   ]
  },
  {
   "cell_type": "code",
   "execution_count": null,
   "id": "9c38c0ee-b363-4e87-bacb-f1054d50a843",
   "metadata": {},
   "outputs": [],
   "source": [
    "for num in range(5, 10):\n",
    "    print(num)"
   ]
  },
  {
   "cell_type": "markdown",
   "id": "c4a2f856-60fa-43e1-8a97-a5476daf0d6c",
   "metadata": {},
   "source": [
    "###### 例２"
   ]
  },
  {
   "cell_type": "code",
   "execution_count": null,
   "id": "e2183d85-f236-477a-a927-2928be078476",
   "metadata": {},
   "outputs": [],
   "source": [
    "for num in range(0, 10, 3):\n",
    "    print(num)"
   ]
  },
  {
   "cell_type": "markdown",
   "id": "c31108d0-53bf-4a49-94f3-013dcfedad36",
   "metadata": {
    "tags": []
   },
   "source": [
    "##### 複数要素を返す"
   ]
  },
  {
   "cell_type": "markdown",
   "id": "638c27fd-a1b0-44eb-b2ae-4fca24a6e945",
   "metadata": {},
   "source": [
    "###### enumerate（indexとvalue）"
   ]
  },
  {
   "cell_type": "code",
   "execution_count": null,
   "id": "988356f7-a9f1-4997-a572-470b67a463a8",
   "metadata": {},
   "outputs": [],
   "source": [
    "hoge = ['aaa', 'bbb', 'ccc', 'ddd']\n",
    "for index, value in enumerate(hoge):\n",
    "  print(index)\n",
    "  print(value)"
   ]
  },
  {
   "cell_type": "markdown",
   "id": "edf34a9e-2ed1-4498-ae34-521005d368e0",
   "metadata": {},
   "source": [
    "###### zip（複数のコレクション）"
   ]
  },
  {
   "cell_type": "code",
   "execution_count": null,
   "id": "3c1951ff-e413-4c56-9048-d83111c7130d",
   "metadata": {},
   "outputs": [],
   "source": [
    "hoge1 = ['aaa', 'bbb', 'ccc', 'ddd']\n",
    "hoge2 = ['xxx', 'yyy', 'zzz']\n",
    "for value1, value2 in zip(hoge1, hoge2):\n",
    "  print(value1)\n",
    "  print(value2)"
   ]
  },
  {
   "cell_type": "markdown",
   "id": "186d7e9f-40a3-4f88-b091-bf8d5812479c",
   "metadata": {
    "tags": []
   },
   "source": [
    "### 関数・クラス"
   ]
  },
  {
   "cell_type": "markdown",
   "id": "3e5e3b0f-cbf1-4678-89f9-a0b31692d2bb",
   "metadata": {},
   "source": [
    "#### 関数"
   ]
  },
  {
   "cell_type": "markdown",
   "id": "59505ec8-c44d-4415-817d-04ca058e31ff",
   "metadata": {},
   "source": [
    "##### 定義と実行"
   ]
  },
  {
   "cell_type": "markdown",
   "id": "e4d2a652-b6d0-4fa2-b95e-056b6e531d54",
   "metadata": {},
   "source": [
    "###### 定義\n",
    "```python\n",
    "def 関数名(仮引数, ...):\n",
    "  ...\n",
    "  return 値\n",
    "```"
   ]
  },
  {
   "cell_type": "markdown",
   "id": "bc6ddf13-a318-40af-a1e2-eefba71b53f5",
   "metadata": {},
   "source": [
    "###### 実行\n",
    "```python\n",
    "関数名(実引数, ...)\n",
    "```"
   ]
  },
  {
   "cell_type": "markdown",
   "id": "25e32aa0-7d79-4e39-a22b-1df4af0919e4",
   "metadata": {},
   "source": [
    "###### 定義・実行 例"
   ]
  },
  {
   "cell_type": "code",
   "execution_count": null,
   "id": "4f05a625-aaad-4b4c-aacc-fc817d1dfa8f",
   "metadata": {},
   "outputs": [],
   "source": [
    "# 定義例\n",
    "def hello_world():\n",
    "  print(\"Hello\")\n",
    "  print(\"world\")\n",
    "# 実行例\n",
    "hello_world()"
   ]
  },
  {
   "cell_type": "markdown",
   "id": "8be0904c-36fe-444c-86a7-a0006f16d13d",
   "metadata": {},
   "source": [
    "##### 様々な引数"
   ]
  },
  {
   "cell_type": "markdown",
   "id": "a41aeb25-ba51-4c94-9056-ecaf0966fc34",
   "metadata": {},
   "source": [
    "###### 位置引数\n",
    "- 通常の引数\n",
    "- [関数](#関数)で説明積み。"
   ]
  },
  {
   "cell_type": "markdown",
   "id": "8f207e1b-cdcf-442f-8fa5-2abf60682fdb",
   "metadata": {},
   "source": [
    "###### キーワード引数\n",
    "変数名を用いて値を渡す引数（位置に依らない\n",
    "オプションとしてデフォルト値が設定可能\n",
    "\n",
    "- 定義\n",
    "```python\n",
    "def 関数名(仮引数1=デフォルト値, 仮引数2=デフォルト値):\n",
    "  ...\n",
    "  return\n",
    "```\n",
    "- 実行\n",
    "```python\n",
    "関数名(仮引数名1=実引数1, 仮引数名2=実引数2)\n",
    "```"
   ]
  },
  {
   "cell_type": "code",
   "execution_count": null,
   "id": "a8307478-c1a0-44ef-a70a-a17b02b42681",
   "metadata": {},
   "outputs": [],
   "source": [
    "def hello(string1=\"\", string2=\"\"):\n",
    "    print(string1)\n",
    "    print(string2)\n",
    "\n",
    "# 第2引数のみ指定\n",
    "hello(string2=\"hoge\")"
   ]
  },
  {
   "cell_type": "markdown",
   "id": "1a2b0385-913e-4e34-8ecd-29ccfaa7123e",
   "metadata": {},
   "source": [
    "###### 可変長引数\n",
    "可変長引数の後ろはキーワード引数のみ利用可能。\n",
    "\n",
    "- 関数中でタプルとして機能\n",
    "  - 定義\n",
    "```python\n",
    "def 関数名(*Tuple):\n",
    "```\n",
    "  - 実行\n",
    "```python\n",
    "関数名(1, 2, 3, 4, 5, 6, 7, 8)\n",
    "```\n",
    "- 関数中で辞書として機能（仮引数名がキー\n",
    "  - 定義\n",
    "```python\n",
    "def 関数名(**Dictionary):\n",
    "```\n",
    "  - 実行\n",
    "```python\n",
    "関数名(key1=1, key2=2, key3=3):\n",
    "```"
   ]
  },
  {
   "cell_type": "code",
   "execution_count": null,
   "id": "90b47a5a-0b14-407e-861e-6f06aaeb38b5",
   "metadata": {},
   "outputs": [],
   "source": [
    "# タプル\n",
    "# 定義\n",
    "def hogehoge1(*Tuple):\n",
    "    print(Tuple)\n",
    "# 実行\n",
    "hogehoge1(1, 2, 3, 4, 5, 6, 7, 8)"
   ]
  },
  {
   "cell_type": "code",
   "execution_count": null,
   "id": "3d8ff983-a69e-4fdd-a505-073ebe2ce936",
   "metadata": {},
   "outputs": [],
   "source": [
    "# 辞書\n",
    "# 定義\n",
    "def hogehoge2(**Dictionary):\n",
    "    print(Dictionary)\n",
    "# 実行\n",
    "hogehoge2(key1=1, key2=2, key3=3)"
   ]
  },
  {
   "cell_type": "markdown",
   "id": "29b74fe6-0a2e-439a-bb64-0bab8360d16a",
   "metadata": {},
   "source": [
    "#### クラス\n",
    "```python\n",
    "class クラス名:\n",
    "    def __init__(self, 引数, ...): #コンストラクタ\n",
    "        ...\n",
    "    def メソッド名1(self, 引数, ...): #メソッド1\n",
    "        ...\n",
    "    def メソッド名2(self, 引数, ...): #メソッド2\n",
    "        ...\n",
    "```"
   ]
  },
  {
   "cell_type": "code",
   "execution_count": null,
   "id": "dc5f6b42-a11f-4671-9add-0255a8f399f7",
   "metadata": {},
   "outputs": [],
   "source": [
    "# 定義例\n",
    "class Man:\n",
    "    def __init__(self, name):\n",
    "        self.name=name\n",
    "        print(\"inited!\")\n",
    "    def hello(self):\n",
    "        print(\"hello \" + self.name + \"!\")\n",
    "    def goodbye(self):\n",
    "        print(\"good-bye \" + self.name + \"!\")"
   ]
  },
  {
   "cell_type": "code",
   "execution_count": null,
   "id": "635a6709-d141-4f82-ac9e-1e13a5c68607",
   "metadata": {},
   "outputs": [],
   "source": [
    "# 実行例\n",
    "m = Man(\"hoge\")\n",
    "m.hello()\n",
    "m.goodbye()"
   ]
  }
 ],
 "metadata": {
  "kernelspec": {
   "display_name": "Python 3 (ipykernel)",
   "language": "python",
   "name": "python3"
  },
  "language_info": {
   "codemirror_mode": {
    "name": "ipython",
    "version": 3
   },
   "file_extension": ".py",
   "mimetype": "text/x-python",
   "name": "python",
   "nbconvert_exporter": "python",
   "pygments_lexer": "ipython3",
   "version": "3.10.4"
  }
 },
 "nbformat": 4,
 "nbformat_minor": 5
}
