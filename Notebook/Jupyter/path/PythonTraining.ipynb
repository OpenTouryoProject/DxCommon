{
 "cells": [
  {
   "cell_type": "markdown",
   "id": "8ab54a57-627d-4de8-9ab9-d6105da272a3",
   "metadata": {},
   "source": [
    "# Pythonのトレーニング♨\n",
    "\n",
    "## [目次](TableOfContents.ipynb)\n",
    "- [概要](#概要)\n",
    "  - [環境変数設定](#環境変数設定)\n",
    "  - [コマンド実行](#コマンド実行)\n",
    "  - [インタラクティブ実行](#インタラクティブ実行)\n",
    "- [詳細](#詳細)\n",
    "  - [変数](#変数)\n",
    "  - [制御構文](#制御構文)\n",
    "  - [関数・クラス](#関数・クラス)\n",
    "  - [その他](#その他)\n",
    "  \n",
    "## 参考\n",
    "開発基盤部会 Wiki\n",
    "- Pythonファースト・ステップ  \n",
    "https://dotnetdevelopmentinfrastructure.osscons.jp/index.php?Python%E3%83%95%E3%82%A1%E3%83%BC%E3%82%B9%E3%83%88%E3%83%BB%E3%82%B9%E3%83%86%E3%83%83%E3%83%97"
   ]
  },
  {
   "cell_type": "markdown",
   "id": "42d70700-4b35-4dcc-9bd9-f9fd524dacd5",
   "metadata": {
    "tags": []
   },
   "source": [
    "## 概要"
   ]
  },
  {
   "cell_type": "markdown",
   "id": "d40a2fd5-f412-48f0-9fda-80ae7d1c33c6",
   "metadata": {},
   "source": [
    "### 環境変数設定"
   ]
  },
  {
   "cell_type": "markdown",
   "id": "aea2ffe3-3e10-4287-bad3-fcd36099cee3",
   "metadata": {},
   "source": [
    "#### プロキシ設定"
   ]
  },
  {
   "cell_type": "markdown",
   "id": "971b2682-5749-4dc5-b24e-93240705f7cf",
   "metadata": {},
   "source": [
    "jupyter notebook、jupyter labコマンド実行前に、環境変数を設定しておくと良い。\n",
    "```sh\n",
    "export http_proxy=\"http://<user_name>:<password>@<proxy_host>:<proxy_port>/\"\n",
    "export https_proxy=\"https://<user_name>:<password>@<proxy_host>:<proxy_port>/\"\n",
    "```"
   ]
  },
  {
   "cell_type": "markdown",
   "id": "bda0ac53-feec-4492-b046-98c2d4e2c551",
   "metadata": {},
   "source": [
    "例えば、以下のように環境変数を使用してプロキシ設定を行う。\n",
    "```sh\n",
    "# プロキシ設定\n",
    "import os\n",
    "proxies = {\n",
    "    \"http\": os.getenv(\"HTTP_PROXY\"),\n",
    "    \"https\": os.getenv(\"HTTPS_PROXY\")\n",
    "}\n",
    "```"
   ]
  },
  {
   "cell_type": "markdown",
   "id": "0bbdc8bb-ab04-477f-83cc-c09087cf76a8",
   "metadata": {
    "tags": []
   },
   "source": [
    "### コマンド実行"
   ]
  },
  {
   "cell_type": "markdown",
   "id": "56b4d2c1-93c3-41c1-8a99-c674f012693a",
   "metadata": {},
   "source": [
    "#### 環境変数の確認"
   ]
  },
  {
   "cell_type": "code",
   "execution_count": null,
   "id": "b1b77671-cfc3-48b1-8727-16ea76f6a63c",
   "metadata": {},
   "outputs": [],
   "source": [
    "%env"
   ]
  },
  {
   "cell_type": "code",
   "execution_count": null,
   "id": "28b9ad27-6c6b-47c6-b538-66f11d13a497",
   "metadata": {},
   "outputs": [],
   "source": [
    "!$PATH"
   ]
  },
  {
   "cell_type": "markdown",
   "id": "25e26bbc-0ae3-42bd-b990-7b54ea0697fa",
   "metadata": {
    "tags": []
   },
   "source": [
    "#### バージョン確認\n",
    "環境によっては、pythonではなくpython3と打つ必要あり。"
   ]
  },
  {
   "cell_type": "code",
   "execution_count": 70,
   "id": "a5f59977-3b04-47ab-ae90-0b3ab8b7e254",
   "metadata": {},
   "outputs": [
    {
     "name": "stdout",
     "output_type": "stream",
     "text": [
      "Python 3.10.6\n"
     ]
    }
   ],
   "source": [
    "!python3 --version"
   ]
  },
  {
   "cell_type": "markdown",
   "id": "b510be7a-e706-4875-ac07-04fcca782b59",
   "metadata": {
    "tags": []
   },
   "source": [
    "#### pipの利用"
   ]
  },
  {
   "cell_type": "markdown",
   "id": "d3e0aef6-291d-430d-bd35-03aacf8ec8d9",
   "metadata": {},
   "source": [
    "##### アップデート\n",
    "- 環境によっては、pythonではなくpython3と打つ必要あり。\n",
    "- 必要に応じて、[プロキシ設定を行う（起動前に環境変数を設定してもOK）](#プロキシ設定)。"
   ]
  },
  {
   "cell_type": "code",
   "execution_count": 4,
   "id": "f34c70e2-cfeb-44a1-a1a8-5cf6ccc9ad2f",
   "metadata": {},
   "outputs": [
    {
     "name": "stdout",
     "output_type": "stream",
     "text": [
      "/bin/bash: line 1: python: command not found\n"
     ]
    }
   ],
   "source": [
    "!python3 -m pip install --upgrade pip #--proxy=$HTTPS_PROXY"
   ]
  },
  {
   "cell_type": "markdown",
   "id": "4b4cd169-43ab-4047-83e8-ba0719e806da",
   "metadata": {},
   "source": [
    "##### パッケージのインストール\n",
    "- 環境によっては、pipではなくpip3と打つ必要あり。\n",
    "- 必要に応じて、[プロキシ設定を行う（起動前に環境変数を設定してもOK）](#プロキシ設定)。"
   ]
  },
  {
   "cell_type": "markdown",
   "id": "bdecd497-8027-483f-a104-7d7bfce83119",
   "metadata": {},
   "source": [
    "###### pipdeptree"
   ]
  },
  {
   "cell_type": "code",
   "execution_count": 5,
   "id": "2d759a49-ddf5-4c23-b7cd-c82bc7ef122c",
   "metadata": {},
   "outputs": [
    {
     "name": "stdout",
     "output_type": "stream",
     "text": [
      "Defaulting to user installation because normal site-packages is not writeable\n",
      "Collecting pipdeptree\n",
      "  Downloading pipdeptree-2.23.4-py3-none-any.whl (32 kB)\n",
      "Requirement already satisfied: packaging>=24.1 in /home/seigi/.local/lib/python3.10/site-packages (from pipdeptree) (24.1)\n",
      "Collecting pip>=24.2\n",
      "  Downloading pip-24.3.1-py3-none-any.whl (1.8 MB)\n",
      "\u001b[2K     \u001b[90m━━━━━━━━━━━━━━━━━━━━━━━━━━━━━━━━━━━━━━━━\u001b[0m \u001b[32m1.8/1.8 MB\u001b[0m \u001b[31m2.0 MB/s\u001b[0m eta \u001b[36m0:00:00\u001b[0m00:01\u001b[0m00:01\u001b[0m\n",
      "\u001b[?25hInstalling collected packages: pip, pipdeptree\n",
      "Successfully installed pip-24.3.1 pipdeptree-2.23.4\n"
     ]
    }
   ],
   "source": [
    "#!pip install <package>\n",
    "!pip install pipdeptree #--proxy=$HTTPS_PROXY"
   ]
  },
  {
   "cell_type": "markdown",
   "id": "d06211e0-d3c0-4096-baf0-7a72754bc89c",
   "metadata": {},
   "source": [
    "###### numpy"
   ]
  },
  {
   "cell_type": "code",
   "execution_count": 6,
   "id": "ea04be35-e0ce-467f-974d-46180c346b1d",
   "metadata": {},
   "outputs": [
    {
     "name": "stdout",
     "output_type": "stream",
     "text": [
      "Defaulting to user installation because normal site-packages is not writeable\n",
      "Requirement already satisfied: numpy in /home/seigi/.local/lib/python3.10/site-packages (2.1.2)\n",
      "\u001b[33mWARNING: Error parsing dependencies of distro-info: Invalid version: '1.1build1'\u001b[0m\u001b[33m\n",
      "\u001b[0m"
     ]
    }
   ],
   "source": [
    "!pip install numpy #--proxy=$HTTPS_PROXY"
   ]
  },
  {
   "cell_type": "markdown",
   "id": "7b4c8f66-1771-45ea-bfc2-6e0ac626fe62",
   "metadata": {},
   "source": [
    "#### パッケージ・バージョンの確認"
   ]
  },
  {
   "cell_type": "code",
   "execution_count": 71,
   "id": "bac6e370-ecb2-4d10-a9a2-f918469a87cd",
   "metadata": {},
   "outputs": [
    {
     "name": "stdout",
     "output_type": "stream",
     "text": [
      "Package                   Version\n",
      "------------------------- ---------------\n",
      "altair                    5.4.1\n",
      "annotated-types           0.7.0\n",
      "anyio                     4.6.2.post1\n",
      "argon2-cffi               23.1.0\n",
      "argon2-cffi-bindings      21.2.0\n",
      "arrow                     1.3.0\n",
      "asttokens                 2.4.1\n",
      "async-lru                 2.0.4\n",
      "attrs                     24.2.0\n",
      "babel                     2.16.0\n",
      "beautifulsoup4            4.12.3\n",
      "bleach                    6.1.0\n",
      "blinker                   1.4\n",
      "cachetools                5.5.0\n",
      "certifi                   2024.8.30\n",
      "cffi                      1.17.1\n",
      "charset-normalizer        3.4.0\n",
      "click                     8.1.7\n",
      "comm                      0.2.2\n",
      "command-not-found         0.3\n",
      "contourpy                 1.3.0\n",
      "cryptography              3.4.8\n",
      "cycler                    0.12.1\n",
      "dbus-python               1.2.18\n",
      "debugpy                   1.8.7\n",
      "decorator                 5.1.1\n",
      "defusedxml                0.7.1\n",
      "distro                    1.7.0\n",
      "distro-info               1.1build1\n",
      "et_xmlfile                2.0.0\n",
      "exceptiongroup            1.2.2\n",
      "executing                 2.1.0\n",
      "fastjsonschema            2.20.0\n",
      "fonttools                 4.54.1\n",
      "fqdn                      1.5.1\n",
      "gitdb                     4.0.11\n",
      "GitPython                 3.1.43\n",
      "h11                       0.14.0\n",
      "httpcore                  1.0.6\n",
      "httplib2                  0.20.2\n",
      "httpx                     0.27.2\n",
      "idna                      3.10\n",
      "importlib-metadata        4.6.4\n",
      "ipykernel                 6.29.5\n",
      "ipython                   8.28.0\n",
      "isoduration               20.11.0\n",
      "jedi                      0.19.1\n",
      "jeepney                   0.7.1\n",
      "Jinja2                    3.1.4\n",
      "jiter                     0.6.1\n",
      "joblib                    1.4.2\n",
      "json5                     0.9.25\n",
      "jsonpointer               3.0.0\n",
      "jsonschema                4.23.0\n",
      "jsonschema-specifications 2024.10.1\n",
      "jupyter_client            8.6.3\n",
      "jupyter_core              5.7.2\n",
      "jupyter-events            0.10.0\n",
      "jupyter-lsp               2.2.5\n",
      "jupyter_server            2.14.2\n",
      "jupyter_server_terminals  0.5.3\n",
      "jupyterlab                4.2.5\n",
      "jupyterlab_pygments       0.3.0\n",
      "jupyterlab_server         2.27.3\n",
      "keyring                   23.5.0\n",
      "kiwisolver                1.4.7\n",
      "launchpadlib              1.10.16\n",
      "lazr.restfulclient        0.14.4\n",
      "lazr.uri                  1.0.6\n",
      "markdown-it-py            3.0.0\n",
      "MarkupSafe                3.0.2\n",
      "matplotlib                3.9.2\n",
      "matplotlib-inline         0.1.7\n",
      "mdurl                     0.1.2\n",
      "mistune                   3.0.2\n",
      "more-itertools            8.10.0\n",
      "narwhals                  1.10.0\n",
      "nbclient                  0.10.0\n",
      "nbconvert                 7.16.4\n",
      "nbformat                  5.10.4\n",
      "nest-asyncio              1.6.0\n",
      "netifaces                 0.11.0\n",
      "notebook_shim             0.2.4\n",
      "numpy                     2.1.2\n",
      "oauthlib                  3.2.0\n",
      "ollama                    0.3.3\n",
      "openai                    1.52.0\n",
      "openpyxl                  3.1.5\n",
      "overrides                 7.7.0\n",
      "packaging                 24.1\n",
      "pandas                    2.2.3\n",
      "pandocfilters             1.5.1\n",
      "parso                     0.8.4\n",
      "pexpect                   4.9.0\n",
      "pillow                    10.4.0\n",
      "pip                       24.3.1\n",
      "pipdeptree                2.23.4\n",
      "platformdirs              4.3.6\n",
      "prometheus_client         0.21.0\n",
      "prompt_toolkit            3.0.48\n",
      "protobuf                  5.28.2\n",
      "psutil                    6.1.0\n",
      "ptyprocess                0.7.0\n",
      "pure_eval                 0.2.3\n",
      "pyarrow                   17.0.0\n",
      "pycparser                 2.22\n",
      "pydantic                  2.9.2\n",
      "pydantic_core             2.23.4\n",
      "pydeck                    0.9.1\n",
      "Pygments                  2.18.0\n",
      "PyGObject                 3.42.1\n",
      "PyJWT                     2.3.0\n",
      "pyparsing                 2.4.7\n",
      "python-apt                2.3.0+ubuntu2.1\n",
      "python-dateutil           2.9.0.post0\n",
      "python-json-logger        2.0.7\n",
      "pytz                      2024.2\n",
      "PyYAML                    5.4.1\n",
      "pyzmq                     26.2.0\n",
      "referencing               0.35.1\n",
      "requests                  2.32.3\n",
      "rfc3339-validator         0.1.4\n",
      "rfc3986-validator         0.1.1\n",
      "rich                      13.9.2\n",
      "rpds-py                   0.20.0\n",
      "scikit-learn              1.5.2\n",
      "scipy                     1.14.1\n",
      "seaborn                   0.13.2\n",
      "SecretStorage             3.3.1\n",
      "Send2Trash                1.8.3\n",
      "setuptools                59.6.0\n",
      "six                       1.16.0\n",
      "smmap                     5.0.1\n",
      "sniffio                   1.3.1\n",
      "soupsieve                 2.6\n",
      "stack-data                0.6.3\n",
      "streamlit                 1.39.0\n",
      "systemd-python            234\n",
      "tenacity                  9.0.0\n",
      "terminado                 0.18.1\n",
      "threadpoolctl             3.5.0\n",
      "tinycss2                  1.3.0\n",
      "toml                      0.10.2\n",
      "tomli                     2.0.2\n",
      "tornado                   6.4.1\n",
      "tqdm                      4.66.5\n",
      "traitlets                 5.14.3\n",
      "types-python-dateutil     2.9.0.20241003\n",
      "typing_extensions         4.12.2\n",
      "tzdata                    2024.2\n",
      "ubuntu-advantage-tools    27.12\n",
      "ufw                       0.36.1\n",
      "unattended-upgrades       0.1\n",
      "uri-template              1.3.0\n",
      "urllib3                   2.2.3\n",
      "wadllib                   1.3.6\n",
      "watchdog                  5.0.3\n",
      "wcwidth                   0.2.13\n",
      "webcolors                 24.8.0\n",
      "webencodings              0.5.1\n",
      "websocket-client          1.8.0\n",
      "wheel                     0.37.1\n",
      "zipp                      1.0.0\n"
     ]
    }
   ],
   "source": [
    "!pip list"
   ]
  },
  {
   "cell_type": "markdown",
   "id": "dc450d58-4598-46bb-987e-2e1ea0bc835a",
   "metadata": {
    "tags": []
   },
   "source": [
    "#### パッケージの利用"
   ]
  },
  {
   "cell_type": "markdown",
   "id": "88df3da7-d13c-4785-879a-b328d9249a92",
   "metadata": {
    "tags": []
   },
   "source": [
    "###### pipdeptree\n",
    "依存関係の確認"
   ]
  },
  {
   "cell_type": "code",
   "execution_count": null,
   "id": "9ca7f43b-c3cd-4eb3-8ea2-d1e8f375aa46",
   "metadata": {},
   "outputs": [],
   "source": [
    "!pipdeptree -r -p numpy"
   ]
  },
  {
   "cell_type": "markdown",
   "id": "6eab53c4-dc98-4e9f-b6a4-887b98c465ea",
   "metadata": {},
   "source": [
    "###### numpy\n",
    "numpy配列（行ベクトル）の生成"
   ]
  },
  {
   "cell_type": "code",
   "execution_count": 9,
   "id": "42220cea-8c96-46c8-8eff-0f813aca797c",
   "metadata": {},
   "outputs": [
    {
     "data": {
      "text/plain": [
       "array([1., 2., 3.])"
      ]
     },
     "execution_count": 9,
     "metadata": {},
     "output_type": "execute_result"
    }
   ],
   "source": [
    "import numpy as np\n",
    "np.array([1.0,2.0,3.0])"
   ]
  },
  {
   "cell_type": "markdown",
   "id": "63bff3de-da08-449d-bba9-7ba3eb56d7a3",
   "metadata": {},
   "source": [
    "###### warnings\n",
    "ワーニングをフィルタする。"
   ]
  },
  {
   "cell_type": "code",
   "execution_count": 10,
   "id": "86141f34-4759-44b4-81d0-df1f7e21802e",
   "metadata": {},
   "outputs": [],
   "source": [
    "import warnings\n",
    "warnings.filterwarnings('ignore')"
   ]
  },
  {
   "cell_type": "markdown",
   "id": "506614cb-80ea-4e3c-9681-fa67b30b2794",
   "metadata": {
    "tags": []
   },
   "source": [
    "### インタラクティブ実行"
   ]
  },
  {
   "cell_type": "markdown",
   "id": "59f0c9f5-086b-4296-8c6d-4fb3ee8e0f5d",
   "metadata": {
    "tags": []
   },
   "source": [
    "#### 算術計算"
   ]
  },
  {
   "cell_type": "code",
   "execution_count": 11,
   "id": "ddd11639-b376-43e3-b252-07cce23ccb66",
   "metadata": {},
   "outputs": [
    {
     "data": {
      "text/plain": [
       "2"
      ]
     },
     "execution_count": 11,
     "metadata": {},
     "output_type": "execute_result"
    }
   ],
   "source": [
    "1+1"
   ]
  },
  {
   "cell_type": "markdown",
   "id": "5809325a-34d7-45c2-94cc-146b1d28b886",
   "metadata": {
    "tags": []
   },
   "source": [
    "#### データ型"
   ]
  },
  {
   "cell_type": "code",
   "execution_count": 12,
   "id": "82e2cf93-30c3-4fad-8b4b-539aa764c6aa",
   "metadata": {},
   "outputs": [
    {
     "data": {
      "text/plain": [
       "int"
      ]
     },
     "execution_count": 12,
     "metadata": {},
     "output_type": "execute_result"
    }
   ],
   "source": [
    "type(10)"
   ]
  },
  {
   "cell_type": "markdown",
   "id": "b4a20acf-32cc-494f-8ab7-81a93e76c625",
   "metadata": {
    "tags": []
   },
   "source": [
    "#### 変数"
   ]
  },
  {
   "cell_type": "code",
   "execution_count": 13,
   "id": "af981c9d-3628-4070-b549-897aee959827",
   "metadata": {},
   "outputs": [
    {
     "name": "stdout",
     "output_type": "stream",
     "text": [
      "10\n"
     ]
    }
   ],
   "source": [
    "x=10\n",
    "print(x)"
   ]
  },
  {
   "cell_type": "markdown",
   "id": "07f7d6be-1c14-4ab9-b350-e7cb4b147276",
   "metadata": {
    "tags": []
   },
   "source": [
    "#### リスト"
   ]
  },
  {
   "cell_type": "code",
   "execution_count": 14,
   "id": "00cac255-417f-4b64-be8a-b93e50714171",
   "metadata": {},
   "outputs": [
    {
     "name": "stdout",
     "output_type": "stream",
     "text": [
      "a= [1, 2, 3, 4, 5]\n",
      "a[0]= 1\n",
      "a[4]= 5\n",
      "a[4]= 99\n",
      "a= [1, 2, 3, 4, 99]\n"
     ]
    }
   ],
   "source": [
    "a=[1,2,3,4,5]\n",
    "\n",
    "print(\"a=\", a)\n",
    "print(\"a[0]=\", a[0])\n",
    "print(\"a[4]=\", a[4])\n",
    "\n",
    "a[4]=99\n",
    "\n",
    "print(\"a[4]=\", a[4])\n",
    "print(\"a=\", a)"
   ]
  },
  {
   "cell_type": "markdown",
   "id": "2885ce7c-8ef8-4de7-8a62-2e4e47d593ac",
   "metadata": {
    "tags": []
   },
   "source": [
    "#### ディクショナリ"
   ]
  },
  {
   "cell_type": "code",
   "execution_count": 15,
   "id": "bb0c2db0-415c-40d3-9c3d-b5d369ab45c3",
   "metadata": {},
   "outputs": [
    {
     "name": "stdout",
     "output_type": "stream",
     "text": [
      "{'hoge1': 1, 'hoge2': 2}\n"
     ]
    }
   ],
   "source": [
    "dic={'hoge1':1}\n",
    "dic['hoge2']=2\n",
    "\n",
    "print(dic)"
   ]
  },
  {
   "cell_type": "markdown",
   "id": "ff78a062-38c4-4946-b684-6a1da6f554e2",
   "metadata": {
    "tags": []
   },
   "source": [
    "#### boolと論理演算"
   ]
  },
  {
   "cell_type": "code",
   "execution_count": 16,
   "id": "47bcf5fb-15f9-4403-9cf9-1de104e2bf6b",
   "metadata": {},
   "outputs": [
    {
     "name": "stdout",
     "output_type": "stream",
     "text": [
      "<class 'bool'>\n",
      "False\n",
      "False\n",
      "True\n"
     ]
    }
   ],
   "source": [
    "hungry = True\n",
    "sleepy = False\n",
    "\n",
    "print(type(hungry))\n",
    "print(not hungry)\n",
    "print(hungry and sleepy)\n",
    "print(hungry or sleepy)"
   ]
  },
  {
   "cell_type": "markdown",
   "id": "cf063f9a-6341-4608-ab66-dfd3e7e74a1a",
   "metadata": {
    "tags": []
   },
   "source": [
    "#### if文"
   ]
  },
  {
   "cell_type": "markdown",
   "id": "69424ff1-e086-48b2-ae10-edea4beba80d",
   "metadata": {},
   "source": [
    "##### if"
   ]
  },
  {
   "cell_type": "code",
   "execution_count": 17,
   "id": "84141065-0991-4003-913c-75ec90c4d571",
   "metadata": {},
   "outputs": [
    {
     "name": "stdout",
     "output_type": "stream",
     "text": [
      "im hungry\n"
     ]
    }
   ],
   "source": [
    "hungry = True\n",
    "\n",
    "if hungry:\n",
    "    print(\"im hungry\") # 半角スペースのインデントが必要"
   ]
  },
  {
   "cell_type": "markdown",
   "id": "495e8868-74a3-4586-b619-fec2d3c980f8",
   "metadata": {},
   "source": [
    "##### if-else"
   ]
  },
  {
   "cell_type": "code",
   "execution_count": 18,
   "id": "c65838d6-a4f5-4b43-8d0a-e40bb6ec0067",
   "metadata": {},
   "outputs": [
    {
     "name": "stdout",
     "output_type": "stream",
     "text": [
      "im not hungry\n",
      "im sleepy\n"
     ]
    }
   ],
   "source": [
    "hungry = False\n",
    "\n",
    "if hungry:\n",
    "    print(\"im hungry\") # 半角スペースのインデントが必要\n",
    "else:\n",
    "    print(\"im not hungry\") # 半角スペースのインデントが必要\n",
    "    print(\"im sleepy\")"
   ]
  },
  {
   "cell_type": "markdown",
   "id": "d1f0ff65-0f8e-4908-8401-e596842e68fc",
   "metadata": {
    "tags": []
   },
   "source": [
    "#### for文"
   ]
  },
  {
   "cell_type": "code",
   "execution_count": 19,
   "id": "9a747c9a-766b-40dd-a6a0-5af0c096b745",
   "metadata": {},
   "outputs": [
    {
     "name": "stdout",
     "output_type": "stream",
     "text": [
      "1\n",
      "2\n",
      "3\n"
     ]
    }
   ],
   "source": [
    "for i in [1,2,3]:\n",
    "    print(i) # 半角スペースのインデントが必要"
   ]
  },
  {
   "cell_type": "markdown",
   "id": "ed6e0328-3d7e-4cef-9d2a-2be4f5042579",
   "metadata": {
    "tags": []
   },
   "source": [
    "#### 関数"
   ]
  },
  {
   "cell_type": "markdown",
   "id": "2c938b82-c618-4b9b-8ad3-f10bcf5853ea",
   "metadata": {},
   "source": [
    "##### 定義例"
   ]
  },
  {
   "cell_type": "code",
   "execution_count": 20,
   "id": "e96e4582-49d3-4d0b-a938-b489c4fc9537",
   "metadata": {},
   "outputs": [
    {
     "name": "stdout",
     "output_type": "stream",
     "text": [
      "hello!\n"
     ]
    }
   ],
   "source": [
    "def hello():\n",
    "    print(\"hello!\")\n",
    "    \n",
    "hello()"
   ]
  },
  {
   "cell_type": "markdown",
   "id": "bdea5614-671d-432e-a29d-3d46a66d9fb5",
   "metadata": {},
   "source": [
    "##### 実行例"
   ]
  },
  {
   "cell_type": "code",
   "execution_count": 21,
   "id": "239e0585-5c05-42c1-a52f-164c18afbb56",
   "metadata": {},
   "outputs": [
    {
     "name": "stdout",
     "output_type": "stream",
     "text": [
      "hello hoge!\n"
     ]
    }
   ],
   "source": [
    "def hello(object):\n",
    "    print(\"hello \" + object + \"!\")\n",
    "\n",
    "hello(\"hoge\")"
   ]
  },
  {
   "cell_type": "markdown",
   "id": "7e5962cf-e612-49d3-8782-230c1387497b",
   "metadata": {
    "tags": []
   },
   "source": [
    "## 詳細"
   ]
  },
  {
   "cell_type": "markdown",
   "id": "5487f5ba-6671-4077-9ee0-f9b1cdca491e",
   "metadata": {
    "tags": []
   },
   "source": [
    "### 変数"
   ]
  },
  {
   "cell_type": "markdown",
   "id": "e0b1a02c-724f-4545-a608-6e2e806cb680",
   "metadata": {
    "tags": []
   },
   "source": [
    "#### 命名規則\n",
    "- 必ず半角英字で始める\n",
    "- 予約語との衝突はNG"
   ]
  },
  {
   "cell_type": "markdown",
   "id": "68160d2f-8167-4df8-ba8c-767324e9a0bf",
   "metadata": {
    "tags": []
   },
   "source": [
    "#### 数値と文字列"
   ]
  },
  {
   "cell_type": "markdown",
   "id": "451268a0-8f5f-4d98-a6f3-1ceb6365c51c",
   "metadata": {
    "tags": []
   },
   "source": [
    "##### 数値"
   ]
  },
  {
   "cell_type": "markdown",
   "id": "eb463fbc-6076-474f-8ce1-2f95e708fdaa",
   "metadata": {
    "tags": []
   },
   "source": [
    "###### 四則演算"
   ]
  },
  {
   "cell_type": "code",
   "execution_count": 22,
   "id": "a28d2d4c-4df9-4906-9e58-14d9bc63ccd4",
   "metadata": {},
   "outputs": [
    {
     "data": {
      "text/plain": [
       "3"
      ]
     },
     "execution_count": 22,
     "metadata": {},
     "output_type": "execute_result"
    }
   ],
   "source": [
    "1+2"
   ]
  },
  {
   "cell_type": "code",
   "execution_count": 23,
   "id": "ff0401db-b6e7-4055-aea1-14c4e5e4bcb8",
   "metadata": {},
   "outputs": [
    {
     "data": {
      "text/plain": [
       "-1"
      ]
     },
     "execution_count": 23,
     "metadata": {},
     "output_type": "execute_result"
    }
   ],
   "source": [
    "1-2"
   ]
  },
  {
   "cell_type": "code",
   "execution_count": 24,
   "id": "bab2e2f4-0982-4479-bbee-e70b9ae08018",
   "metadata": {},
   "outputs": [
    {
     "data": {
      "text/plain": [
       "2"
      ]
     },
     "execution_count": 24,
     "metadata": {},
     "output_type": "execute_result"
    }
   ],
   "source": [
    "1*2"
   ]
  },
  {
   "cell_type": "code",
   "execution_count": 25,
   "id": "14ca14f3-4baa-4fa6-8464-ef63cadd46f2",
   "metadata": {},
   "outputs": [
    {
     "data": {
      "text/plain": [
       "0.5"
      ]
     },
     "execution_count": 25,
     "metadata": {},
     "output_type": "execute_result"
    }
   ],
   "source": [
    "1/2"
   ]
  },
  {
   "cell_type": "markdown",
   "id": "f4942071-51f2-4eae-8ce3-83b6442fb1b9",
   "metadata": {},
   "source": [
    "###### 累乗"
   ]
  },
  {
   "cell_type": "code",
   "execution_count": 26,
   "id": "13a20eaf-2bf2-4492-9988-00278f69f4ab",
   "metadata": {},
   "outputs": [
    {
     "data": {
      "text/plain": [
       "8"
      ]
     },
     "execution_count": 26,
     "metadata": {},
     "output_type": "execute_result"
    }
   ],
   "source": [
    "2 ** 3"
   ]
  },
  {
   "cell_type": "markdown",
   "id": "00546f6d-a179-4d9e-be89-8c8f108749fa",
   "metadata": {},
   "source": [
    "###### 割商"
   ]
  },
  {
   "cell_type": "code",
   "execution_count": 27,
   "id": "4ce90348-4d53-4677-b5af-9af8601b658a",
   "metadata": {},
   "outputs": [
    {
     "data": {
      "text/plain": [
       "3"
      ]
     },
     "execution_count": 27,
     "metadata": {},
     "output_type": "execute_result"
    }
   ],
   "source": [
    "10 // 3"
   ]
  },
  {
   "cell_type": "markdown",
   "id": "f92c85b3-2dc3-4463-a1a9-5030e397cb64",
   "metadata": {},
   "source": [
    "###### 割余"
   ]
  },
  {
   "cell_type": "code",
   "execution_count": 28,
   "id": "e7477d5f-8efa-4189-82d8-e7564bf59788",
   "metadata": {},
   "outputs": [
    {
     "data": {
      "text/plain": [
       "1"
      ]
     },
     "execution_count": 28,
     "metadata": {},
     "output_type": "execute_result"
    }
   ],
   "source": [
    "10 % 3"
   ]
  },
  {
   "cell_type": "markdown",
   "id": "70b706d0-71ca-456b-8e86-1be08ec6644a",
   "metadata": {},
   "source": [
    "###### 指数表現"
   ]
  },
  {
   "cell_type": "code",
   "execution_count": 29,
   "id": "1a74ba0a-7dc5-4ac5-a35d-cc31a23aba24",
   "metadata": {},
   "outputs": [
    {
     "data": {
      "text/plain": [
       "10000000.0"
      ]
     },
     "execution_count": 29,
     "metadata": {},
     "output_type": "execute_result"
    }
   ],
   "source": [
    "# 1 * 10の7乗\n",
    "1.0e7"
   ]
  },
  {
   "cell_type": "code",
   "execution_count": 30,
   "id": "8086d93f-b1e5-494a-a615-a1d7bfc5b721",
   "metadata": {},
   "outputs": [
    {
     "data": {
      "text/plain": [
       "1e-07"
      ]
     },
     "execution_count": 30,
     "metadata": {},
     "output_type": "execute_result"
    }
   ],
   "source": [
    "# 1 * 10の-7乗\n",
    "1.0e-7"
   ]
  },
  {
   "cell_type": "markdown",
   "id": "5599ca03-884b-4bb8-9640-1e4e9606ad0b",
   "metadata": {
    "tags": []
   },
   "source": [
    "##### 文字列"
   ]
  },
  {
   "cell_type": "markdown",
   "id": "e579f95b-2447-43c5-93fa-e8ab0262e324",
   "metadata": {},
   "source": [
    "###### クォーテーション"
   ]
  },
  {
   "cell_type": "markdown",
   "id": "51342def-803f-4429-aeb9-0e305b8afc46",
   "metadata": {},
   "source": [
    "- シングル（'）  \n",
    "文字列中で（\"）を使う場合。\n",
    "- ダブル（\"）  \n",
    "文字列中で（'）を使う場合。\n",
    "- [\\\\] エスケープシーケンス  \n",
    "[\\\\'], [\\\\\"]"
   ]
  },
  {
   "cell_type": "markdown",
   "id": "fb180a06-1ccc-4513-8604-930436075a36",
   "metadata": {
    "tags": []
   },
   "source": [
    "###### 演算"
   ]
  },
  {
   "cell_type": "code",
   "execution_count": 31,
   "id": "c369281c-119e-484d-959b-00b296e61f5b",
   "metadata": {},
   "outputs": [
    {
     "name": "stdout",
     "output_type": "stream",
     "text": [
      "hogehoge\n",
      "hogehoge\n"
     ]
    }
   ],
   "source": [
    "# 連結\n",
    "x = \"hoge\" + \"hoge\"\n",
    "print(x)\n",
    "\n",
    "# 繰り返し\n",
    "X = \"hoge\" * 2\n",
    "print(x)"
   ]
  },
  {
   "cell_type": "markdown",
   "id": "2e903380-421c-47f5-82fd-d41d5a727472",
   "metadata": {},
   "source": [
    "###### castメソッド"
   ]
  },
  {
   "cell_type": "code",
   "execution_count": 32,
   "id": "f174096d-059e-4593-895a-99d120436161",
   "metadata": {},
   "outputs": [
    {
     "data": {
      "text/plain": [
       "2022"
      ]
     },
     "execution_count": 32,
     "metadata": {},
     "output_type": "execute_result"
    }
   ],
   "source": [
    "int(\"2022\") # => 数値の2022"
   ]
  },
  {
   "cell_type": "markdown",
   "id": "1237e3c3-8457-49b6-9bc6-40cde42df351",
   "metadata": {},
   "source": [
    "###### formatメソッド"
   ]
  },
  {
   "cell_type": "code",
   "execution_count": 33,
   "id": "f9a6b811-6317-45e4-8118-ce04e9dcde2b",
   "metadata": {},
   "outputs": [
    {
     "data": {
      "text/plain": [
       "'9月1日の気温は30度です｡'"
      ]
     },
     "execution_count": 33,
     "metadata": {},
     "output_type": "execute_result"
    }
   ],
   "source": [
    "# 文字列中に変数値を挿入\n",
    "month = 9\n",
    "day = 1\n",
    "temp = 30\n",
    "\n",
    "'{}月{}日の気温は{}度です｡'.format(month, day, temp)"
   ]
  },
  {
   "cell_type": "code",
   "execution_count": 34,
   "id": "7b12f370-0dbf-4b9c-98de-e7cb2d3fe124",
   "metadata": {},
   "outputs": [
    {
     "name": "stdout",
     "output_type": "stream",
     "text": [
      "123.5\n"
     ]
    }
   ],
   "source": [
    "# 小数の桁数指定\n",
    "num = 123.456\n",
    "print('{:.1f}'.format(num))"
   ]
  },
  {
   "cell_type": "markdown",
   "id": "921ee2d1-d481-411c-b921-d98e3165518c",
   "metadata": {},
   "source": [
    "###### コメント"
   ]
  },
  {
   "cell_type": "code",
   "execution_count": 35,
   "id": "aa6c187a-03a3-45b7-97cf-53c389adaf8f",
   "metadata": {},
   "outputs": [],
   "source": [
    "#１行\n",
    "# コメント"
   ]
  },
  {
   "cell_type": "code",
   "execution_count": 36,
   "id": "c7eefe2d-99f9-4fe9-9d6a-881012f5147a",
   "metadata": {},
   "outputs": [
    {
     "data": {
      "text/plain": [
       "'\\nコメント\\n'"
      ]
     },
     "execution_count": 36,
     "metadata": {},
     "output_type": "execute_result"
    }
   ],
   "source": [
    "#複数行\n",
    "\"\"\"\n",
    "コメント\n",
    "\"\"\""
   ]
  },
  {
   "cell_type": "markdown",
   "id": "1f1c7605-243a-4ce8-a924-28b837bcfeb3",
   "metadata": {
    "tags": []
   },
   "source": [
    "#### コレクション型"
   ]
  },
  {
   "cell_type": "markdown",
   "id": "f18a2378-7536-4362-895d-2b9fd7844a1c",
   "metadata": {
    "tags": []
   },
   "source": [
    "##### リスト\n",
    "配列の事。"
   ]
  },
  {
   "cell_type": "markdown",
   "id": "3a422c3f-96a2-45c2-939e-0b90bdd93f49",
   "metadata": {},
   "source": [
    "###### 定義"
   ]
  },
  {
   "cell_type": "code",
   "execution_count": 37,
   "id": "647642d8-f2be-4147-9647-31916f09bd2a",
   "metadata": {},
   "outputs": [],
   "source": [
    "hoge = ['aaa', 'bbb', 'ccc', 'ddd']"
   ]
  },
  {
   "cell_type": "markdown",
   "id": "5e312dbb-cec3-4e58-9db9-d37b1c5211b5",
   "metadata": {
    "tags": []
   },
   "source": [
    "###### インデックス"
   ]
  },
  {
   "cell_type": "code",
   "execution_count": 38,
   "id": "01d15f6e-8b7c-4e29-b1b0-91b954b8f330",
   "metadata": {},
   "outputs": [
    {
     "name": "stdout",
     "output_type": "stream",
     "text": [
      "aaa\n",
      "bbb\n",
      "['bbb', 'ccc']\n"
     ]
    }
   ],
   "source": [
    "# 通常\n",
    "print(hoge[0])\n",
    "\n",
    "# 後ろから\n",
    "print(hoge[-3])\n",
    "\n",
    "# スライシング\n",
    "# ややこしいが、対応する番号の要素の一つ前の区切りでスライスする。\n",
    "print(hoge[1:3])"
   ]
  },
  {
   "cell_type": "markdown",
   "id": "5df7c259-bcb9-4b3f-b8e2-24055c9fb187",
   "metadata": {
    "tags": []
   },
   "source": [
    "###### メソッド"
   ]
  },
  {
   "cell_type": "code",
   "execution_count": 39,
   "id": "b8bac095-b8bb-4aa3-85fe-03fa4b3ecc4e",
   "metadata": {},
   "outputs": [
    {
     "name": "stdout",
     "output_type": "stream",
     "text": [
      "['aaa', 'bbb', 'ccc', 'ddd', 'xxx']\n",
      "['bbb', 'ccc', 'ddd', 'xxx']\n"
     ]
    }
   ],
   "source": [
    "# 追加\n",
    "hoge.append('xxx')\n",
    "print(hoge)\n",
    "\n",
    "# 削除\n",
    "# インデックス指定ではないっぽい\n",
    "hoge.remove('aaa')\n",
    "print(hoge)"
   ]
  },
  {
   "cell_type": "markdown",
   "id": "71ea06bc-34b4-457b-949e-9c6f58b26158",
   "metadata": {
    "tags": []
   },
   "source": [
    "###### 文とか関数とか"
   ]
  },
  {
   "cell_type": "code",
   "execution_count": 40,
   "id": "194d0b51-fa82-4350-9fee-b3962673a551",
   "metadata": {},
   "outputs": [
    {
     "name": "stdout",
     "output_type": "stream",
     "text": [
      "['ccc', 'ddd', 'xxx']\n",
      "3\n"
     ]
    }
   ],
   "source": [
    "# del文\n",
    "del hoge[0] # インデックス0の要素を削除\n",
    "print(hoge)\n",
    "\n",
    "# len関数\n",
    "print(len(hoge))"
   ]
  },
  {
   "cell_type": "markdown",
   "id": "eb753a34-1dc9-4633-864f-488ff9c42d20",
   "metadata": {},
   "source": [
    "##### 辞書\n",
    "- キー＆バリュー（C#のDictionaryに近い）\n",
    "- 定義は角括弧・丸括弧ではなく中括弧（{}）を使う。"
   ]
  },
  {
   "cell_type": "markdown",
   "id": "24a112bd-1d51-4c28-b7b6-0ee0f9c29d10",
   "metadata": {},
   "source": [
    "###### 定義"
   ]
  },
  {
   "cell_type": "code",
   "execution_count": 41,
   "id": "c3b14218-da20-4da6-93c1-7e409ac24fa0",
   "metadata": {},
   "outputs": [],
   "source": [
    "hogehoge = {'aaa':'AAA', 'bbb':'BBB', 'ccc':'CCC', 'ddd':'DDD'}"
   ]
  },
  {
   "cell_type": "markdown",
   "id": "91ffcb59-2e25-4168-9bf4-3641d68394d8",
   "metadata": {},
   "source": [
    "###### インデックス"
   ]
  },
  {
   "cell_type": "code",
   "execution_count": 42,
   "id": "70d6e04f-1bd6-4c25-9569-3e133a897155",
   "metadata": {},
   "outputs": [
    {
     "data": {
      "text/plain": [
       "'BBB'"
      ]
     },
     "execution_count": 42,
     "metadata": {},
     "output_type": "execute_result"
    }
   ],
   "source": [
    "hogehoge['bbb']"
   ]
  },
  {
   "cell_type": "markdown",
   "id": "1bb7d2d0-f32d-46c5-a702-4629bb16b4b1",
   "metadata": {},
   "source": [
    "###### メソッド"
   ]
  },
  {
   "cell_type": "code",
   "execution_count": 43,
   "id": "c75bf29f-c50b-415b-8c3a-e8289bf81a45",
   "metadata": {},
   "outputs": [
    {
     "name": "stdout",
     "output_type": "stream",
     "text": [
      "{'aaa': 'AAA', 'bbb': 'BBB', 'ccc': 'CCC', 'ddd': 'DDD', 'eee': 'EEE'}\n"
     ]
    }
   ],
   "source": [
    "# 追加\n",
    "hogehoge.update({'eee':'EEE'})\n",
    "print(hogehoge)"
   ]
  },
  {
   "cell_type": "markdown",
   "id": "ce55b903-1d17-4606-8263-836f2f7d993d",
   "metadata": {},
   "source": [
    "###### 文とか関数とか"
   ]
  },
  {
   "cell_type": "code",
   "execution_count": 44,
   "id": "005cefbd-16b3-432a-bbc0-84606c5d9479",
   "metadata": {},
   "outputs": [
    {
     "name": "stdout",
     "output_type": "stream",
     "text": [
      "{'aaa': 'AAA', 'bbb': 'BBB', 'ddd': 'DDD', 'eee': 'EEE'}\n",
      "4\n"
     ]
    }
   ],
   "source": [
    "# del文\n",
    "del hogehoge['ccc']\n",
    "print(hogehoge)\n",
    "\n",
    "# len関数\n",
    "print(len(hogehoge))"
   ]
  },
  {
   "cell_type": "markdown",
   "id": "3fbf0218-618c-46cc-bfd0-08a76dd40bd5",
   "metadata": {
    "tags": []
   },
   "source": [
    "##### タプル\n",
    "- 定義後、変更が出来ないリスト\n",
    "- 定義は角括弧ではなく丸括弧を使う。"
   ]
  },
  {
   "cell_type": "code",
   "execution_count": 45,
   "id": "e7ab8dc0-a274-4bed-b934-c34448bb1c53",
   "metadata": {},
   "outputs": [
    {
     "name": "stdout",
     "output_type": "stream",
     "text": [
      "[1, 2, 3]\n",
      "(1, 2, 3)\n"
     ]
    }
   ],
   "source": [
    "list_values = [1, 2, 3]  # リスト\n",
    "tuple_values = (1, 2, 3) # タプル\n",
    "print(list_values)\n",
    "print(tuple_values)"
   ]
  },
  {
   "cell_type": "markdown",
   "id": "d204002b-82f6-4f7e-90fb-b4e44d14f969",
   "metadata": {
    "tags": []
   },
   "source": [
    "##### 集合\n",
    "- 要素を順番や重複を考えない（C#のListに近い）\n",
    "- 定義は角括弧・丸括弧ではなく中括弧（{}）を使う。"
   ]
  },
  {
   "cell_type": "code",
   "execution_count": 46,
   "id": "a451ab94-d8bb-4c47-9736-4ecf9f53d19c",
   "metadata": {},
   "outputs": [
    {
     "name": "stdout",
     "output_type": "stream",
     "text": [
      "{1, 2, 3, 4}\n",
      "<class 'set'>\n",
      "{1, 2, 3, 4}\n",
      "<class 'set'>\n"
     ]
    }
   ],
   "source": [
    "s = {1, 2, 2, 3, 1, 4}\n",
    "print(s)\n",
    "print(type(s))\n",
    "\n",
    "l = [1, 2, 2, 3, 1, 4]\n",
    "sl = set(l)\n",
    "print(sl)\n",
    "print(type(sl))"
   ]
  },
  {
   "cell_type": "markdown",
   "id": "23b3dcf7-2633-40f4-a27c-dccb59a147b7",
   "metadata": {},
   "source": [
    "#### ソート"
   ]
  },
  {
   "cell_type": "markdown",
   "id": "5b689da2-c701-4670-b815-8b5800f7ab09",
   "metadata": {},
   "source": [
    "##### 配列"
   ]
  },
  {
   "cell_type": "code",
   "execution_count": 47,
   "id": "1fc3f2a4-0f60-44e0-bd49-d32d5ab605e2",
   "metadata": {},
   "outputs": [
    {
     "name": "stdout",
     "output_type": "stream",
     "text": [
      "[41, 52, 15, 38, 22]\n",
      "[15, 22, 38, 41, 52]\n"
     ]
    }
   ],
   "source": [
    "num_list = [41, 52, 15, 38, 22]\n",
    "new_num_list = sorted(num_list)\n",
    "print(num_list)\n",
    "print(new_num_list)"
   ]
  },
  {
   "cell_type": "markdown",
   "id": "9bfebcea-b8f6-4a0b-8097-e84352b1b0a7",
   "metadata": {},
   "source": [
    "##### 行列（２次元配列"
   ]
  },
  {
   "cell_type": "code",
   "execution_count": 48,
   "id": "6f2ee6ec-5f3f-43db-b28e-9f0a93fd2867",
   "metadata": {},
   "outputs": [
    {
     "name": "stdout",
     "output_type": "stream",
     "text": [
      "[['なら', 3], ['かながわ', 4], ['とうきょう', 1], ['おおさか', 2]]\n",
      "[['とうきょう', 1], ['おおさか', 2], ['なら', 3], ['かながわ', 4]]\n",
      "[['かながわ', 4], ['なら', 3], ['おおさか', 2], ['とうきょう', 1]]\n",
      "[['おおさか', 2], ['かながわ', 4], ['とうきょう', 1], ['なら', 3]]\n"
     ]
    }
   ],
   "source": [
    "matrix = [['なら',3], ['かながわ',4], ['とうきょう',1], ['おおさか',2]]\n",
    "print(matrix)\n",
    "sortedMatrix1 = sorted(matrix, key=lambda x: x[1])\n",
    "print(sortedMatrix1) # 番号順\n",
    "sortedMatrix2 = sorted(matrix, key=lambda x: x[1], reverse=True)\n",
    "print(sortedMatrix2) # 番号順（降順\n",
    "sortedMatrix3 = sorted(matrix, key=lambda x: x[0])\n",
    "print(sortedMatrix3) # 五十音順"
   ]
  },
  {
   "cell_type": "markdown",
   "id": "20638cc7-0db4-444a-b2d1-a77cc9327643",
   "metadata": {},
   "source": [
    "##### 辞書"
   ]
  },
  {
   "cell_type": "code",
   "execution_count": 49,
   "id": "a911d05b-fc88-454a-80db-47b6897e209b",
   "metadata": {},
   "outputs": [
    {
     "name": "stdout",
     "output_type": "stream",
     "text": [
      "{'なら': 3, 'かながわ': 4, 'とうきょう': 1, 'おおさか': 2}\n",
      "[('とうきょう', 1), ('おおさか', 2), ('なら', 3), ('かながわ', 4)]\n",
      "[('かながわ', 4), ('なら', 3), ('おおさか', 2), ('とうきょう', 1)]\n",
      "[('おおさか', 2), ('かながわ', 4), ('とうきょう', 1), ('なら', 3)]\n"
     ]
    }
   ],
   "source": [
    "dictionary = {'なら':3, 'かながわ':4, 'とうきょう':1, 'おおさか':2}\n",
    "print(dictionary)\n",
    "sortedDict1 = sorted(dictionary.items(), key=lambda x: x[1])\n",
    "print(sortedDict1) # 番号順\n",
    "sortedDict2 = sorted(dictionary.items(), key=lambda x: x[1], reverse=True)\n",
    "print(sortedDict2) # 番号順（降順\n",
    "sortedDict3 = sorted(dictionary.items(), key=lambda x: x[0])\n",
    "print(sortedDict3) # 五十音順"
   ]
  },
  {
   "cell_type": "markdown",
   "id": "94a56c6c-32d8-4521-95f5-df106146eb3d",
   "metadata": {
    "tags": []
   },
   "source": [
    "### 制御構文"
   ]
  },
  {
   "cell_type": "markdown",
   "id": "769dcb19-41bd-4a4d-aa17-9fe9ac7c9d92",
   "metadata": {
    "tags": []
   },
   "source": [
    "#### 真偽と演算子"
   ]
  },
  {
   "cell_type": "markdown",
   "id": "2f6c6242-c7a3-458b-b41e-8a3c6630ca00",
   "metadata": {
    "tags": []
   },
   "source": [
    "##### bool型\n",
    "- 真 : True\n",
    "- 偽 : Frue"
   ]
  },
  {
   "cell_type": "markdown",
   "id": "aea4a1ce-5749-439c-aaab-583b09ef04b1",
   "metadata": {
    "tags": []
   },
   "source": [
    "##### 比較演算子"
   ]
  },
  {
   "cell_type": "code",
   "execution_count": 50,
   "id": "b85e8143-d496-4536-adab-6603486d5b74",
   "metadata": {},
   "outputs": [
    {
     "name": "stdout",
     "output_type": "stream",
     "text": [
      "True\n",
      "False\n",
      "True\n",
      "False\n",
      "False\n",
      "False\n",
      "True\n",
      "True\n",
      "False\n",
      "True\n"
     ]
    }
   ],
   "source": [
    "# [!=]\n",
    "print(True != False)\n",
    "print(True != True)\n",
    "\n",
    "# [>]\n",
    "print(True > False)\n",
    "print(True > True)\n",
    "\n",
    "# [<]\n",
    "print(True < False)\n",
    "print(True < True)\n",
    "\n",
    "# [>=]\n",
    "print(True >= False)\n",
    "print(True >= True)\n",
    "\n",
    "# [<=]\n",
    "print(True <= False)\n",
    "print(True <= True)"
   ]
  },
  {
   "cell_type": "markdown",
   "id": "fbf62a4a-24db-4e4a-bdd0-5203d548110f",
   "metadata": {
    "tags": []
   },
   "source": [
    "##### 論理演算子"
   ]
  },
  {
   "cell_type": "code",
   "execution_count": 51,
   "id": "9b7fd3c5-0e27-4fb5-94f8-26fa1e8500f4",
   "metadata": {},
   "outputs": [
    {
     "name": "stdout",
     "output_type": "stream",
     "text": [
      "False\n",
      "True\n",
      "True\n",
      "True\n",
      "False\n",
      "True\n"
     ]
    }
   ],
   "source": [
    "# and\n",
    "print(True and False)\n",
    "print(True and True)\n",
    "\n",
    "# or\n",
    "print(True or False)\n",
    "print(True or True)\n",
    "\n",
    "# not\n",
    "print(not True)\n",
    "print(not False)"
   ]
  },
  {
   "cell_type": "markdown",
   "id": "b7247cec-2502-416d-97dc-851e7e20a23d",
   "metadata": {
    "tags": []
   },
   "source": [
    "##### in演算子\n",
    "コレクション型のデータに特定の要素が含まれているかどうか"
   ]
  },
  {
   "cell_type": "code",
   "execution_count": 52,
   "id": "c3ebb2ca-913f-4251-b185-83a9c8b74089",
   "metadata": {},
   "outputs": [
    {
     "name": "stdout",
     "output_type": "stream",
     "text": [
      "True\n"
     ]
    }
   ],
   "source": [
    "hoge = ['aaa', 'bbb', 'ccc', 'ddd']\n",
    "print('ccc' in hoge)"
   ]
  },
  {
   "cell_type": "markdown",
   "id": "2dff70ac-a303-414c-bb58-a60a135fa2de",
   "metadata": {},
   "source": [
    "#### 条件分岐\n",
    "if（SelectとかSwitchは無い）\n",
    "\n",
    "```python\n",
    "if 条件式A:\n",
    "  ...\n",
    "elif 条件式B:\n",
    "  ...\n",
    "else:\n",
    "  ...\n",
    "```"
   ]
  },
  {
   "cell_type": "markdown",
   "id": "a5fb164d-83b5-4ff4-b2be-f104d63a99a6",
   "metadata": {
    "tags": []
   },
   "source": [
    "##### if\n",
    "条件式Aが真（true）の場合に実行する処理\n",
    "##### elif\n",
    "条件式Aが偽（false）で条件式Bが真（true）の場合に実行\n",
    "##### else\n",
    "すべての条件式が偽（false）の場合に実行"
   ]
  },
  {
   "cell_type": "code",
   "execution_count": 53,
   "id": "d8e5e3bd-fc21-4f9b-bd3b-fe190c194c19",
   "metadata": {},
   "outputs": [
    {
     "name": "stdout",
     "output_type": "stream",
     "text": [
      "50 < num <= 100\n"
     ]
    }
   ],
   "source": [
    "num = 75\n",
    "if num > 100:\n",
    "    print('100 < num')\n",
    "elif num > 50:\n",
    "    print('50 < num <= 100')\n",
    "elif num > 0:\n",
    "    print('0 < num <= 50')\n",
    "elif num == 0:\n",
    "    print('num == 0')\n",
    "else:\n",
    "    print('num < 0')"
   ]
  },
  {
   "cell_type": "markdown",
   "id": "b265d84b-0dbe-442b-9b68-175e1a1e14b7",
   "metadata": {},
   "source": [
    "#### 繰り返し\n",
    "foreach的なforのみ実装"
   ]
  },
  {
   "cell_type": "markdown",
   "id": "7a080971-e923-4be1-b762-56b0e1cf5275",
   "metadata": {
    "tags": []
   },
   "source": [
    "##### 基本形"
   ]
  },
  {
   "cell_type": "markdown",
   "id": "ce4eeb1d-f2c2-4510-a244-2075c45144e3",
   "metadata": {
    "tags": []
   },
   "source": [
    "###### オブジェクト（コレクション等\n",
    "```python\n",
    "for 変数 in オブジェクト:\n",
    "    実行する処理\n",
    "```"
   ]
  },
  {
   "cell_type": "code",
   "execution_count": 54,
   "id": "f7a18867-8aa3-4ac7-8684-828ef22f4d95",
   "metadata": {},
   "outputs": [
    {
     "name": "stdout",
     "output_type": "stream",
     "text": [
      "aaa\n",
      "bbb\n",
      "ccc\n",
      "ddd\n"
     ]
    }
   ],
   "source": [
    "hoge = ['aaa', 'bbb', 'ccc', 'ddd']\n",
    "for str in hoge:\n",
    "    print(str)"
   ]
  },
  {
   "cell_type": "code",
   "execution_count": 55,
   "id": "1f8ec328-b369-4b9f-9694-d37945b58b72",
   "metadata": {},
   "outputs": [
    {
     "name": "stdout",
     "output_type": "stream",
     "text": [
      "aaa\n",
      "bbb\n"
     ]
    }
   ],
   "source": [
    "# 内部でbreakやcontinueが使える。\n",
    "hoge = ['aaa', 'bbb', 'ccc', 'ddd']\n",
    "for str in hoge:\n",
    "    if str == 'ccc':\n",
    "        break\n",
    "    print(str)       "
   ]
  },
  {
   "cell_type": "code",
   "execution_count": 56,
   "id": "4c60f16d-15a8-468d-b9af-ed48ae82632f",
   "metadata": {},
   "outputs": [
    {
     "name": "stdout",
     "output_type": "stream",
     "text": [
      "aaa\n",
      "bbb\n",
      "ddd\n"
     ]
    }
   ],
   "source": [
    "# 内部でbreakやcontinueが使える。\n",
    "hoge = ['aaa', 'bbb', 'ccc', 'ddd']\n",
    "for str in hoge:\n",
    "    if str == 'ccc':\n",
    "        continue\n",
    "    print(str)       "
   ]
  },
  {
   "cell_type": "markdown",
   "id": "ab54a6c6-96f6-4859-9ca2-a6e044cde54d",
   "metadata": {
    "tags": []
   },
   "source": [
    "##### rangeを使う"
   ]
  },
  {
   "cell_type": "markdown",
   "id": "ab6409d6-41ac-46ff-82bc-589a0474ad59",
   "metadata": {},
   "source": [
    "###### 例１"
   ]
  },
  {
   "cell_type": "code",
   "execution_count": 57,
   "id": "9c38c0ee-b363-4e87-bacb-f1054d50a843",
   "metadata": {},
   "outputs": [
    {
     "name": "stdout",
     "output_type": "stream",
     "text": [
      "5\n",
      "6\n",
      "7\n",
      "8\n",
      "9\n"
     ]
    }
   ],
   "source": [
    "for num in range(5, 10):\n",
    "    print(num)"
   ]
  },
  {
   "cell_type": "markdown",
   "id": "c4a2f856-60fa-43e1-8a97-a5476daf0d6c",
   "metadata": {},
   "source": [
    "###### 例２"
   ]
  },
  {
   "cell_type": "code",
   "execution_count": 58,
   "id": "e2183d85-f236-477a-a927-2928be078476",
   "metadata": {},
   "outputs": [
    {
     "name": "stdout",
     "output_type": "stream",
     "text": [
      "0\n",
      "3\n",
      "6\n",
      "9\n"
     ]
    }
   ],
   "source": [
    "for num in range(0, 10, 3):\n",
    "    print(num)"
   ]
  },
  {
   "cell_type": "markdown",
   "id": "c31108d0-53bf-4a49-94f3-013dcfedad36",
   "metadata": {
    "tags": []
   },
   "source": [
    "##### 複数要素を返す"
   ]
  },
  {
   "cell_type": "markdown",
   "id": "638c27fd-a1b0-44eb-b2ae-4fca24a6e945",
   "metadata": {},
   "source": [
    "###### enumerate（indexとvalue）"
   ]
  },
  {
   "cell_type": "code",
   "execution_count": 59,
   "id": "988356f7-a9f1-4997-a572-470b67a463a8",
   "metadata": {},
   "outputs": [
    {
     "name": "stdout",
     "output_type": "stream",
     "text": [
      "0\n",
      "aaa\n",
      "1\n",
      "bbb\n",
      "2\n",
      "ccc\n",
      "3\n",
      "ddd\n"
     ]
    }
   ],
   "source": [
    "hoge = ['aaa', 'bbb', 'ccc', 'ddd']\n",
    "for index, value in enumerate(hoge):\n",
    "  print(index)\n",
    "  print(value)"
   ]
  },
  {
   "cell_type": "markdown",
   "id": "edf34a9e-2ed1-4498-ae34-521005d368e0",
   "metadata": {},
   "source": [
    "###### zip（複数のコレクション）"
   ]
  },
  {
   "cell_type": "code",
   "execution_count": 60,
   "id": "3c1951ff-e413-4c56-9048-d83111c7130d",
   "metadata": {},
   "outputs": [
    {
     "name": "stdout",
     "output_type": "stream",
     "text": [
      "aaa\n",
      "xxx\n",
      "bbb\n",
      "yyy\n",
      "ccc\n",
      "zzz\n"
     ]
    }
   ],
   "source": [
    "hoge1 = ['aaa', 'bbb', 'ccc', 'ddd']\n",
    "hoge2 = ['xxx', 'yyy', 'zzz']\n",
    "for value1, value2 in zip(hoge1, hoge2):\n",
    "  print(value1)\n",
    "  print(value2)"
   ]
  },
  {
   "cell_type": "markdown",
   "id": "186d7e9f-40a3-4f88-b091-bf8d5812479c",
   "metadata": {
    "tags": []
   },
   "source": [
    "### 関数・クラス"
   ]
  },
  {
   "cell_type": "markdown",
   "id": "3e5e3b0f-cbf1-4678-89f9-a0b31692d2bb",
   "metadata": {
    "tags": []
   },
   "source": [
    "#### 関数"
   ]
  },
  {
   "cell_type": "markdown",
   "id": "59505ec8-c44d-4415-817d-04ca058e31ff",
   "metadata": {},
   "source": [
    "##### 定義と実行"
   ]
  },
  {
   "cell_type": "markdown",
   "id": "e4d2a652-b6d0-4fa2-b95e-056b6e531d54",
   "metadata": {},
   "source": [
    "###### 定義\n",
    "```python\n",
    "def 関数名(仮引数, ...):\n",
    "  ...\n",
    "  return 値\n",
    "```"
   ]
  },
  {
   "cell_type": "markdown",
   "id": "bc6ddf13-a318-40af-a1e2-eefba71b53f5",
   "metadata": {},
   "source": [
    "###### 実行\n",
    "```python\n",
    "関数名(実引数, ...)\n",
    "```"
   ]
  },
  {
   "cell_type": "markdown",
   "id": "25e32aa0-7d79-4e39-a22b-1df4af0919e4",
   "metadata": {},
   "source": [
    "###### 定義・実行 例"
   ]
  },
  {
   "cell_type": "code",
   "execution_count": 61,
   "id": "4f05a625-aaad-4b4c-aacc-fc817d1dfa8f",
   "metadata": {},
   "outputs": [
    {
     "name": "stdout",
     "output_type": "stream",
     "text": [
      "Hello\n",
      "world\n"
     ]
    }
   ],
   "source": [
    "# 定義例\n",
    "def hello_world():\n",
    "  print(\"Hello\")\n",
    "  print(\"world\")\n",
    "# 実行例\n",
    "hello_world()"
   ]
  },
  {
   "cell_type": "markdown",
   "id": "8be0904c-36fe-444c-86a7-a0006f16d13d",
   "metadata": {},
   "source": [
    "##### 様々な引数"
   ]
  },
  {
   "cell_type": "markdown",
   "id": "a41aeb25-ba51-4c94-9056-ecaf0966fc34",
   "metadata": {},
   "source": [
    "###### 位置引数\n",
    "- 通常の引数\n",
    "- [関数](#関数)で説明積み。"
   ]
  },
  {
   "cell_type": "markdown",
   "id": "8f207e1b-cdcf-442f-8fa5-2abf60682fdb",
   "metadata": {},
   "source": [
    "###### キーワード引数\n",
    "変数名を用いて値を渡す引数（位置に依らない\n",
    "オプションとしてデフォルト値が設定可能\n",
    "\n",
    "- 定義\n",
    "```python\n",
    "def 関数名(仮引数1=デフォルト値, 仮引数2=デフォルト値):\n",
    "  ...\n",
    "  return\n",
    "```\n",
    "- 実行\n",
    "```python\n",
    "関数名(仮引数名1=実引数1, 仮引数名2=実引数2)\n",
    "```"
   ]
  },
  {
   "cell_type": "code",
   "execution_count": 62,
   "id": "a8307478-c1a0-44ef-a70a-a17b02b42681",
   "metadata": {},
   "outputs": [
    {
     "name": "stdout",
     "output_type": "stream",
     "text": [
      "\n",
      "hoge\n"
     ]
    }
   ],
   "source": [
    "def hello(string1=\"\", string2=\"\"):\n",
    "    print(string1)\n",
    "    print(string2)\n",
    "\n",
    "# 第2引数のみ指定\n",
    "hello(string2=\"hoge\")"
   ]
  },
  {
   "cell_type": "markdown",
   "id": "1a2b0385-913e-4e34-8ecd-29ccfaa7123e",
   "metadata": {
    "tags": []
   },
   "source": [
    "###### 可変長引数\n",
    "可変長引数の後ろはキーワード引数のみ利用可能。"
   ]
  },
  {
   "cell_type": "markdown",
   "id": "64864032-df3a-417e-9789-be9ad739567f",
   "metadata": {},
   "source": [
    "- 関数中でタプルとして機能\n",
    "```python\n",
    "# 定義  \n",
    "def 関数名(*Tuple):\n",
    "# 実行  \n",
    "関数名(1, 2, 3, 4, 5, 6, 7, 8)\n",
    "```"
   ]
  },
  {
   "cell_type": "code",
   "execution_count": 63,
   "id": "90b47a5a-0b14-407e-861e-6f06aaeb38b5",
   "metadata": {},
   "outputs": [
    {
     "name": "stdout",
     "output_type": "stream",
     "text": [
      "(1, 2, 3, 4, 5, 6, 7, 8)\n"
     ]
    }
   ],
   "source": [
    "# タプル\n",
    "# 定義\n",
    "def hogehoge1(*Tuple):\n",
    "    print(Tuple)\n",
    "# 実行\n",
    "hogehoge1(1, 2, 3, 4, 5, 6, 7, 8)"
   ]
  },
  {
   "cell_type": "markdown",
   "id": "a1ba611b-5ca1-473e-9713-bbf528b578fd",
   "metadata": {},
   "source": [
    "- 関数中で辞書として機能（仮引数名がキー\n",
    "```python\n",
    "# 定義  \n",
    "def 関数名(**Dictionary):\n",
    "# 実行  \n",
    "関数名(key1=1, key2=2, key3=3):\n",
    "```"
   ]
  },
  {
   "cell_type": "code",
   "execution_count": 64,
   "id": "3d8ff983-a69e-4fdd-a505-073ebe2ce936",
   "metadata": {},
   "outputs": [
    {
     "name": "stdout",
     "output_type": "stream",
     "text": [
      "{'key1': 1, 'key2': 2, 'key3': 3}\n"
     ]
    }
   ],
   "source": [
    "# 辞書\n",
    "# 定義\n",
    "def hogehoge2(**Dictionary):\n",
    "    print(Dictionary)\n",
    "# 実行\n",
    "hogehoge2(key1=1, key2=2, key3=3)"
   ]
  },
  {
   "cell_type": "markdown",
   "id": "29b74fe6-0a2e-439a-bb64-0bab8360d16a",
   "metadata": {
    "tags": []
   },
   "source": [
    "#### クラス\n",
    "```python\n",
    "class クラス名:\n",
    "    def __init__(self, 引数, ...): #コンストラクタ\n",
    "        ...\n",
    "    def メソッド名1(self, 引数, ...): #メソッド1\n",
    "        ...\n",
    "    def メソッド名2(self, 引数, ...): #メソッド2\n",
    "        ...\n",
    "```"
   ]
  },
  {
   "cell_type": "code",
   "execution_count": 65,
   "id": "dc5f6b42-a11f-4671-9add-0255a8f399f7",
   "metadata": {},
   "outputs": [],
   "source": [
    "# 定義例\n",
    "class Man:\n",
    "    def __init__(self, name):\n",
    "        self.name=name\n",
    "        print(\"inited!\")\n",
    "    def hello(self):\n",
    "        print(\"hello \" + self.name + \"!\")\n",
    "    def goodbye(self):\n",
    "        print(\"good-bye \" + self.name + \"!\")"
   ]
  },
  {
   "cell_type": "code",
   "execution_count": 66,
   "id": "635a6709-d141-4f82-ac9e-1e13a5c68607",
   "metadata": {},
   "outputs": [
    {
     "name": "stdout",
     "output_type": "stream",
     "text": [
      "inited!\n",
      "hello hoge!\n",
      "good-bye hoge!\n"
     ]
    }
   ],
   "source": [
    "# 実行例\n",
    "m = Man(\"hoge\")\n",
    "m.hello()\n",
    "m.goodbye()"
   ]
  },
  {
   "cell_type": "markdown",
   "id": "d230f871-594b-433f-8377-b90f9beb9f94",
   "metadata": {
    "tags": []
   },
   "source": [
    "### その他"
   ]
  },
  {
   "cell_type": "markdown",
   "id": "6d879bf3-3f9d-4988-a352-09db55fd9c4d",
   "metadata": {},
   "source": [
    "#### オブジェクトの保存と復元\n",
    "pickleのシリアライズとデシリアライズで保存と復元"
   ]
  },
  {
   "cell_type": "markdown",
   "id": "37ff015a-de02-4dee-bce0-d8843f63199c",
   "metadata": {},
   "source": [
    "##### pickleのシリアライズで保存"
   ]
  },
  {
   "cell_type": "code",
   "execution_count": 67,
   "id": "9da22b96-1a53-4521-b6e4-7ad6107018d8",
   "metadata": {},
   "outputs": [
    {
     "name": "stdout",
     "output_type": "stream",
     "text": [
      "inited!\n",
      "\n",
      "<保存される前>\n",
      "hello hoge!\n",
      "good-bye hoge!\n"
     ]
    }
   ],
   "source": [
    "import pickle\n",
    "\n",
    "m = Man(\"hoge\")\n",
    "\n",
    "print(\"\\n<保存される前>\")\n",
    "m.hello()\n",
    "m.goodbye()\n",
    "\n",
    "# 保存されるオブジェクト\n",
    "obj = m\n",
    "# シリアライズ相当\n",
    "with open('hoge.pickle','wb') as f:\n",
    "   pickle.dump(obj, f)"
   ]
  },
  {
   "cell_type": "markdown",
   "id": "314ae296-7a09-450e-8b9e-e9e63e60f744",
   "metadata": {},
   "source": [
    "##### pickleのデシリアライズで復元"
   ]
  },
  {
   "cell_type": "code",
   "execution_count": 68,
   "id": "f1eebbcc-38ab-4a0b-b7f8-66eaf6dd7d8c",
   "metadata": {},
   "outputs": [
    {
     "name": "stdout",
     "output_type": "stream",
     "text": [
      "\n",
      "<復元された後>\n",
      "hello hoge!\n",
      "good-bye hoge!\n"
     ]
    }
   ],
   "source": [
    "# デシリアライズ相当\n",
    "with open('hoge.pickle','rb') as f:\n",
    "   loaded_obj = pickle.load(f)\n",
    "\n",
    "# 復元されたオブジェクト\n",
    "m = loaded_obj\n",
    "\n",
    "print(\"\\n<復元された後>\")\n",
    "m.hello()\n",
    "m.goodbye()"
   ]
  }
 ],
 "metadata": {
  "kernelspec": {
   "display_name": "Python 3 (ipykernel)",
   "language": "python",
   "name": "python3"
  },
  "language_info": {
   "codemirror_mode": {
    "name": "ipython",
    "version": 3
   },
   "file_extension": ".py",
   "mimetype": "text/x-python",
   "name": "python",
   "nbconvert_exporter": "python",
   "pygments_lexer": "ipython3",
   "version": "3.10.6"
  }
 },
 "nbformat": 4,
 "nbformat_minor": 5
}
