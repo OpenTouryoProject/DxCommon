{
 "cells": [
  {
   "cell_type": "markdown",
   "id": "6a588b2f-aa6c-44dc-9ef4-fbd6061051c6",
   "metadata": {},
   "source": [
    "# LlamaIndexでWorkflows"
   ]
  },
  {
   "cell_type": "markdown",
   "id": "d2a79c5e-15d5-465c-b9f5-6283775d97de",
   "metadata": {},
   "source": [
    "## 目次\n",
    "- [概要](#概要)\n",
    "- [参考](#参考)\n",
    "- [チェック](#チェック)\n",
    "- [準備](#準備)\n",
    "- [最も簡単なエージェント](#最も簡単なエージェント)\n",
    "- [エージェントにRAGを追加する](#エージェントにRAGを追加する)"
   ]
  },
  {
   "cell_type": "markdown",
   "id": "d019bec2-7b0b-41bb-95c3-f735a91fe213",
   "metadata": {},
   "source": [
    "## 概要\n",
    "- LlamaIndex（公式）をトレースして基本的な利用方法を確認する。\n",
    "- 破壊的に変更が発生するまで使えるでしょう。\n",
    "- 破壊的に変更が発生後は、公式サイトの当該バージョンの情報（≒一次情報）をあたって。"
   ]
  },
  {
   "cell_type": "markdown",
   "id": "70ab5958-4219-4f63-a243-b5590119a676",
   "metadata": {},
   "source": [
    "## 参考"
   ]
  },
  {
   "cell_type": "markdown",
   "id": "4915e0c1-5cba-4407-bae8-6481179a3f69",
   "metadata": {},
   "source": [
    "LlamaIndex - .NET 開発基盤部会 Wiki  \n",
    "https://dotnetdevelopmentinfrastructure.osscons.jp/index.php?LlamaIndex"
   ]
  },
  {
   "cell_type": "markdown",
   "id": "d0387006-4f25-4817-a3b1-d05e56305c57",
   "metadata": {},
   "source": [
    "## チェック"
   ]
  },
  {
   "cell_type": "code",
   "execution_count": 1,
   "id": "729cb641-a9ac-4b7c-ac1f-9b69d031bd97",
   "metadata": {},
   "outputs": [],
   "source": [
    "#!pip list"
   ]
  },
  {
   "cell_type": "code",
   "execution_count": 2,
   "id": "5c57768c-0bc1-4cc8-95a2-9cd89443fa14",
   "metadata": {},
   "outputs": [],
   "source": [
    "#%env"
   ]
  },
  {
   "cell_type": "markdown",
   "id": "c4f2edb3-9da5-4da5-8394-09d722c39632",
   "metadata": {},
   "source": [
    "## 準備"
   ]
  },
  {
   "cell_type": "markdown",
   "id": "2fdc930c-3415-47a6-85c5-ce1c7ad6af76",
   "metadata": {},
   "source": [
    "### インストレーション"
   ]
  },
  {
   "cell_type": "markdown",
   "id": "ff9b0bf4-44b6-4904-9098-e9123717fa47",
   "metadata": {},
   "source": [
    "```Python\n",
    "!pip install llama-index-utils-workflow\n",
    "```"
   ]
  },
  {
   "cell_type": "markdown",
   "id": "be61aa29-3f93-4d47-8a85-d9d125d893ad",
   "metadata": {},
   "source": [
    "### ライブラリ読み込み"
   ]
  },
  {
   "cell_type": "code",
   "execution_count": 3,
   "id": "dacc4e79-53bb-4d2c-97df-3e80238f9b14",
   "metadata": {},
   "outputs": [],
   "source": [
    "from llama_index.core.workflow import (\n",
    "    Workflow,\n",
    "    step,\n",
    "    Event,\n",
    "    StartEvent,\n",
    "    StopEvent,\n",
    "    Context,\n",
    ")\n",
    "from llama_index.utils.workflow import (\n",
    "    draw_all_possible_flows,\n",
    "    draw_most_recent_execution,\n",
    ")"
   ]
  },
  {
   "cell_type": "markdown",
   "id": "a1a18237-446a-4840-9262-d172f45e8af4",
   "metadata": {},
   "source": [
    "### 関数定義\n",
    "HTML表示"
   ]
  },
  {
   "cell_type": "code",
   "execution_count": 4,
   "id": "090764b9-b2cb-4f18-962b-549553effdd2",
   "metadata": {},
   "outputs": [],
   "source": [
    "from IPython.display import display, IFrame #HTML\n",
    "\n",
    "# IFrameでないと上手く表示できないがGitHub上で表示されない。\n",
    "def display_html(file_path = \"example.html\"):\n",
    "    #with open(file_path, 'r', encoding='utf-8') as file:\n",
    "    #    html_content = file.read()\n",
    "    #print(html_content)\n",
    "    display(IFrame(file_path, width=\"100%\", height=\"300\"))"
   ]
  },
  {
   "cell_type": "markdown",
   "id": "afe3561b-3355-42dc-9fa0-fcb1ff6f3067",
   "metadata": {},
   "source": [
    "### LLMの設定"
   ]
  },
  {
   "cell_type": "markdown",
   "id": "8ea6ebe1-7432-442e-9262-9c3adabbb4a2",
   "metadata": {},
   "source": [
    "#### OpenAI"
   ]
  },
  {
   "cell_type": "code",
   "execution_count": 5,
   "id": "81f2b1f1-dd73-430b-aaba-c28dc57ab2cc",
   "metadata": {},
   "outputs": [],
   "source": [
    "from llama_index.llms.openai import OpenAI\n",
    "#llm = OpenAI(model=\"gpt-3.5-turbo\", temperature=0)"
   ]
  },
  {
   "cell_type": "markdown",
   "id": "d07a3b37-e35c-4f7c-9285-f8b807648930",
   "metadata": {},
   "source": [
    "#### Ollama"
   ]
  },
  {
   "cell_type": "code",
   "execution_count": 6,
   "id": "6d068655-a511-434d-bf28-ff74f184177c",
   "metadata": {},
   "outputs": [],
   "source": [
    "from llama_index.llms.ollama import Ollama\n",
    "#llm = Ollama(model=\"Llama3\", temperature=0, request_timeout=360.0)"
   ]
  },
  {
   "cell_type": "markdown",
   "id": "a413baeb-c61c-4b16-b4b1-675bff5cb461",
   "metadata": {},
   "source": [
    "## シングルステップ"
   ]
  },
  {
   "cell_type": "markdown",
   "id": "68bc4a64-4de7-48b5-a956-6b755c0aceec",
   "metadata": {},
   "source": [
    "### ワークフロー定義"
   ]
  },
  {
   "cell_type": "code",
   "execution_count": 7,
   "id": "39e66dd7-35a0-4d30-811e-4976a3020853",
   "metadata": {},
   "outputs": [],
   "source": [
    "class MyWorkflow(Workflow):\n",
    "    @step\n",
    "    async def my_step(self, ev: StartEvent) -> StopEvent:\n",
    "        # do something here\n",
    "        return StopEvent(result=\"Hello, world!\")"
   ]
  },
  {
   "cell_type": "markdown",
   "id": "06b454ab-b928-4be6-b114-5d3aa7dc6160",
   "metadata": {},
   "source": [
    "### ワークフロー実行"
   ]
  },
  {
   "cell_type": "code",
   "execution_count": 8,
   "id": "1d2d090f-9a65-4dbf-a7c7-8287621b5775",
   "metadata": {},
   "outputs": [
    {
     "name": "stdout",
     "output_type": "stream",
     "text": [
      "Running step my_step\n",
      "Step my_step produced event StopEvent\n",
      "Hello, world!\n"
     ]
    }
   ],
   "source": [
    "w = MyWorkflow(timeout=10, verbose=True)\n",
    "result = await w.run()\n",
    "print(result)"
   ]
  },
  {
   "cell_type": "markdown",
   "id": "e577e2eb-9c6a-44b4-8793-e64561704344",
   "metadata": {},
   "source": [
    "## ループと分岐"
   ]
  },
  {
   "cell_type": "markdown",
   "id": "cec9dadc-c132-4a8a-9b8c-f4841504ac16",
   "metadata": {},
   "source": [
    "### ループ"
   ]
  },
  {
   "cell_type": "markdown",
   "id": "1af1ccd8-7153-422b-b4a0-58edebf97504",
   "metadata": {},
   "source": [
    "#### カスタム・イベント"
   ]
  },
  {
   "cell_type": "code",
   "execution_count": 9,
   "id": "987f8f46-a60a-4146-baea-39a125d3425b",
   "metadata": {},
   "outputs": [],
   "source": [
    "class LoopEvent(Event):\n",
    "    loop_output: str\n",
    "class FirstEvent(Event):\n",
    "    first_output: str"
   ]
  },
  {
   "cell_type": "markdown",
   "id": "ddc1f7f1-1c19-4260-8db7-60723b0466ef",
   "metadata": {},
   "source": [
    "#### ワークフロー定義"
   ]
  },
  {
   "cell_type": "code",
   "execution_count": 10,
   "id": "d04d5b1d-ae5e-43b3-9bc3-ce77f336cf00",
   "metadata": {},
   "outputs": [],
   "source": [
    "import random\n",
    "\n",
    "class LoopWorkflow(Workflow):\n",
    "    @step\n",
    "    async def step_one(self, ev: StartEvent | LoopEvent) -> FirstEvent | LoopEvent:\n",
    "        if random.randint(0, 1) == 0:\n",
    "            print(\"Bad thing happened\")\n",
    "            return LoopEvent(loop_output=\"Back to step one.\")\n",
    "        else:\n",
    "            print(\"Good thing happened\")\n",
    "            return FirstEvent(first_output=\"First step complete.\")\n",
    "\n",
    "    @step\n",
    "    async def first_step(self, ev: FirstEvent) -> StopEvent:\n",
    "        # do something here\n",
    "        return StopEvent(result=\"Hello, world!\")"
   ]
  },
  {
   "cell_type": "markdown",
   "id": "933abaa4-9140-4747-9c80-367a63aeadb6",
   "metadata": {},
   "source": [
    "#### ワークフロー定義の表示"
   ]
  },
  {
   "cell_type": "code",
   "execution_count": 11,
   "id": "d974465c-9426-49cd-89ba-bc664b9f569b",
   "metadata": {},
   "outputs": [
    {
     "name": "stdout",
     "output_type": "stream",
     "text": [
      "<class 'NoneType'>\n",
      "<class 'llama_index.core.workflow.events.StopEvent'>\n",
      "<class '__main__.FirstEvent'>\n",
      "<class '__main__.LoopEvent'>\n",
      "./llamaindex/LoopWorkflow.html\n"
     ]
    },
    {
     "data": {
      "text/html": [
       "\n",
       "        <iframe\n",
       "            width=\"100%\"\n",
       "            height=\"300\"\n",
       "            src=\"./llamaindex/LoopWorkflow.html\"\n",
       "            frameborder=\"0\"\n",
       "            allowfullscreen\n",
       "            \n",
       "        ></iframe>\n",
       "        "
      ],
      "text/plain": [
       "<IPython.lib.display.IFrame at 0x7fbe1d68f850>"
      ]
     },
     "metadata": {},
     "output_type": "display_data"
    }
   ],
   "source": [
    "filename=\"./llamaindex/LoopWorkflow.html\"\n",
    "draw_all_possible_flows(LoopWorkflow, filename)\n",
    "display_html(filename)"
   ]
  },
  {
   "cell_type": "markdown",
   "id": "ac77a02e-17dd-4508-bd04-4bc0ef5c3288",
   "metadata": {},
   "source": [
    "#### ワークフロー実行"
   ]
  },
  {
   "cell_type": "code",
   "execution_count": 12,
   "id": "6f539ee5-0074-4fc8-a640-90562797e5b5",
   "metadata": {},
   "outputs": [
    {
     "name": "stdout",
     "output_type": "stream",
     "text": [
      "Running step step_one\n",
      "Good thing happened\n",
      "Step step_one produced event FirstEvent\n",
      "Running step first_step\n",
      "Step first_step produced event StopEvent\n",
      "Hello, world!\n"
     ]
    }
   ],
   "source": [
    "w = LoopWorkflow(verbose=True)\n",
    "result = await w.run()\n",
    "print(result)"
   ]
  },
  {
   "cell_type": "markdown",
   "id": "9445395a-b54c-4d37-bf50-94b4f81e6c31",
   "metadata": {},
   "source": [
    "#### ワークフロー結果の表示"
   ]
  },
  {
   "cell_type": "code",
   "execution_count": 13,
   "id": "6183db9b-8581-4418-b84e-9e9f0fa9ca50",
   "metadata": {},
   "outputs": [
    {
     "name": "stdout",
     "output_type": "stream",
     "text": [
      "./llamaindex/LoopWorkflowExec.html\n"
     ]
    },
    {
     "data": {
      "text/html": [
       "\n",
       "        <iframe\n",
       "            width=\"100%\"\n",
       "            height=\"300\"\n",
       "            src=\"./llamaindex/LoopWorkflowExec.html\"\n",
       "            frameborder=\"0\"\n",
       "            allowfullscreen\n",
       "            \n",
       "        ></iframe>\n",
       "        "
      ],
      "text/plain": [
       "<IPython.lib.display.IFrame at 0x7fbe1cfb3a60>"
      ]
     },
     "metadata": {},
     "output_type": "display_data"
    }
   ],
   "source": [
    "filename=\"./llamaindex/LoopWorkflowExec.html\"\n",
    "draw_most_recent_execution(w, filename)\n",
    "display_html(filename)"
   ]
  },
  {
   "cell_type": "markdown",
   "id": "c7db48b6-b34d-45a9-8bd3-88ec35ba8f47",
   "metadata": {},
   "source": [
    "### 分岐"
   ]
  },
  {
   "cell_type": "markdown",
   "id": "ad52c64f-0e35-4caa-94c0-24a1e82b5465",
   "metadata": {},
   "source": [
    "#### カスタム・イベント"
   ]
  },
  {
   "cell_type": "code",
   "execution_count": 14,
   "id": "872acaa8-4852-4c80-86af-6844217af5f1",
   "metadata": {},
   "outputs": [],
   "source": [
    "class BranchA1Event(Event):\n",
    "    payload: str\n",
    "class BranchA2Event(Event):\n",
    "    payload: str\n",
    "class BranchB1Event(Event):\n",
    "    payload: str\n",
    "class BranchB2Event(Event):\n",
    "    payload: str"
   ]
  },
  {
   "cell_type": "markdown",
   "id": "99df24bb-e079-4a3f-b986-d62fead342c4",
   "metadata": {},
   "source": [
    "#### ワークフロー定義"
   ]
  },
  {
   "cell_type": "code",
   "execution_count": 15,
   "id": "b2ab21bf-5228-4614-bc26-26046614f521",
   "metadata": {},
   "outputs": [],
   "source": [
    "import random\n",
    "\n",
    "class BranchWorkflow(Workflow):\n",
    "    @step\n",
    "    async def start(self, ev: StartEvent) -> BranchA1Event | BranchB1Event:\n",
    "        if random.randint(0, 1) == 0:\n",
    "            print(\"Go to branch A\")\n",
    "            return BranchA1Event(payload=\"Branch A\")\n",
    "        else:\n",
    "            print(\"Go to branch B\")\n",
    "            return BranchB1Event(payload=\"Branch B\")\n",
    "\n",
    "    @step\n",
    "    async def step_a1(self, ev: BranchA1Event) -> BranchA2Event:\n",
    "        print(ev.payload)\n",
    "        return BranchA2Event(payload=ev.payload)\n",
    "\n",
    "    @step\n",
    "    async def step_b1(self, ev: BranchB1Event) -> BranchB2Event:\n",
    "        print(ev.payload)\n",
    "        return BranchB2Event(payload=ev.payload)\n",
    "\n",
    "    @step\n",
    "    async def step_a2(self, ev: BranchA2Event) -> StopEvent:\n",
    "        print(ev.payload)\n",
    "        return StopEvent(result=\"Branch A complete.\")\n",
    "\n",
    "    @step\n",
    "    async def step_b2(self, ev: BranchB2Event) -> StopEvent:\n",
    "        print(ev.payload)\n",
    "        return StopEvent(result=\"Branch B complete.\")"
   ]
  },
  {
   "cell_type": "markdown",
   "id": "2e749cb9-5690-4bd3-9236-f3f93059142f",
   "metadata": {},
   "source": [
    "#### ワークフロー定義の表示"
   ]
  },
  {
   "cell_type": "code",
   "execution_count": 16,
   "id": "2f97a6a6-0467-4e6a-a0d8-7067e3858b17",
   "metadata": {},
   "outputs": [
    {
     "name": "stdout",
     "output_type": "stream",
     "text": [
      "<class 'NoneType'>\n",
      "<class '__main__.BranchA1Event'>\n",
      "<class '__main__.BranchB1Event'>\n",
      "<class '__main__.BranchA2Event'>\n",
      "<class 'llama_index.core.workflow.events.StopEvent'>\n",
      "<class '__main__.BranchB2Event'>\n",
      "<class 'llama_index.core.workflow.events.StopEvent'>\n",
      "./llamaindex/BranchWorkflow.html\n"
     ]
    },
    {
     "data": {
      "text/html": [
       "\n",
       "        <iframe\n",
       "            width=\"100%\"\n",
       "            height=\"300\"\n",
       "            src=\"./llamaindex/BranchWorkflow.html\"\n",
       "            frameborder=\"0\"\n",
       "            allowfullscreen\n",
       "            \n",
       "        ></iframe>\n",
       "        "
      ],
      "text/plain": [
       "<IPython.lib.display.IFrame at 0x7fbe1cfb3400>"
      ]
     },
     "metadata": {},
     "output_type": "display_data"
    }
   ],
   "source": [
    "filename=\"./llamaindex/BranchWorkflow.html\"\n",
    "draw_all_possible_flows(BranchWorkflow, filename)\n",
    "display_html(filename)"
   ]
  },
  {
   "cell_type": "markdown",
   "id": "4003a41e-9133-4456-bd06-b131088e672f",
   "metadata": {},
   "source": [
    "#### ワークフロー実行"
   ]
  },
  {
   "cell_type": "code",
   "execution_count": 17,
   "id": "658c0ec3-6e76-410f-a51b-d774173ed535",
   "metadata": {},
   "outputs": [
    {
     "name": "stdout",
     "output_type": "stream",
     "text": [
      "Running step start\n",
      "Go to branch A\n",
      "Step start produced event BranchA1Event\n",
      "Running step step_a1\n",
      "Branch A\n",
      "Step step_a1 produced event BranchA2Event\n",
      "Running step step_a2\n",
      "Branch A\n",
      "Step step_a2 produced event StopEvent\n",
      "Branch A complete.\n"
     ]
    }
   ],
   "source": [
    "w = BranchWorkflow(verbose=True)\n",
    "result = await w.run()\n",
    "print(result)"
   ]
  },
  {
   "cell_type": "markdown",
   "id": "f598b443-4356-43d1-b725-3a9b4cdc7fdd",
   "metadata": {},
   "source": [
    "#### ワークフロー結果の表示"
   ]
  },
  {
   "cell_type": "code",
   "execution_count": 18,
   "id": "0659cc04-fb7d-46cd-9cc6-9114052f365f",
   "metadata": {},
   "outputs": [
    {
     "name": "stdout",
     "output_type": "stream",
     "text": [
      "./llamaindex/BranchWorkflowExec.html\n"
     ]
    },
    {
     "data": {
      "text/html": [
       "\n",
       "        <iframe\n",
       "            width=\"100%\"\n",
       "            height=\"300\"\n",
       "            src=\"./llamaindex/BranchWorkflowExec.html\"\n",
       "            frameborder=\"0\"\n",
       "            allowfullscreen\n",
       "            \n",
       "        ></iframe>\n",
       "        "
      ],
      "text/plain": [
       "<IPython.lib.display.IFrame at 0x7fbe1ce5eb90>"
      ]
     },
     "metadata": {},
     "output_type": "display_data"
    }
   ],
   "source": [
    "filename=\"./llamaindex/BranchWorkflowExec.html\"\n",
    "draw_most_recent_execution(w, filename)\n",
    "display_html(filename)"
   ]
  },
  {
   "cell_type": "markdown",
   "id": "296b6a8f-475c-490d-92f1-c8482e58b95a",
   "metadata": {},
   "source": [
    "## 状態"
   ]
  },
  {
   "cell_type": "markdown",
   "id": "31ac7142-bf74-40cc-86ba-d9d696e25fd7",
   "metadata": {},
   "source": [
    "### カスタム・イベント"
   ]
  },
  {
   "cell_type": "code",
   "execution_count": 19,
   "id": "eb970713-6b57-4a43-aefa-4f0d17515346",
   "metadata": {},
   "outputs": [],
   "source": [
    "class SetupEvent(Event):\n",
    "    query: str\n",
    "class StepTwoEvent(Event):\n",
    "    query: str"
   ]
  },
  {
   "cell_type": "markdown",
   "id": "ad099b53-4d04-46f5-8890-a53c183e30f4",
   "metadata": {},
   "source": [
    "### ワークフロー定義"
   ]
  },
  {
   "cell_type": "code",
   "execution_count": 20,
   "id": "c6699c82-6d37-4723-8e01-dc864a9ddafe",
   "metadata": {},
   "outputs": [],
   "source": [
    "class StatefulFlow(Workflow):\n",
    "    @step\n",
    "    async def setup(self, ctx: Context, ev: SetupEvent) -> StartEvent:\n",
    "        # load data\n",
    "        await ctx.set(\"some_database\", [1, 2, 3])\n",
    "        return StartEvent(query=ev.query)\n",
    "\n",
    "    @step\n",
    "    async def start(self, ctx: Context, ev: StartEvent) -> SetupEvent | StepTwoEvent:\n",
    "        db = await ctx.get(\"some_database\", default=None)\n",
    "        if db is None:\n",
    "            print(\"Need to load data\")\n",
    "            return SetupEvent(query=ev.query)\n",
    "\n",
    "        # do something with the query\n",
    "        return StepTwoEvent(query=ev.query)\n",
    "\n",
    "    @step\n",
    "    async def step_two(self, ctx: Context, ev: StepTwoEvent) -> StopEvent:\n",
    "        # do something with the data\n",
    "        print(\"Data is \", await ctx.get(\"some_database\"))\n",
    "    \n",
    "        return StopEvent(result=await ctx.get(\"some_database\"))"
   ]
  },
  {
   "cell_type": "markdown",
   "id": "23bf8db2-b20d-4a44-9949-9c6bbaf2c0fc",
   "metadata": {},
   "source": [
    "### ワークフロー表示"
   ]
  },
  {
   "cell_type": "code",
   "execution_count": 21,
   "id": "c241cb1a-65a3-46bd-b692-2e5bb97ef3ec",
   "metadata": {},
   "outputs": [
    {
     "name": "stdout",
     "output_type": "stream",
     "text": [
      "<class 'NoneType'>\n",
      "<class 'llama_index.core.workflow.events.StartEvent'>\n",
      "<class '__main__.SetupEvent'>\n",
      "<class '__main__.StepTwoEvent'>\n",
      "<class 'llama_index.core.workflow.events.StopEvent'>\n",
      "./llamaindex/StatefulFlow.html\n"
     ]
    },
    {
     "data": {
      "text/html": [
       "\n",
       "        <iframe\n",
       "            width=\"100%\"\n",
       "            height=\"300\"\n",
       "            src=\"./llamaindex/StatefulFlow.html\"\n",
       "            frameborder=\"0\"\n",
       "            allowfullscreen\n",
       "            \n",
       "        ></iframe>\n",
       "        "
      ],
      "text/plain": [
       "<IPython.lib.display.IFrame at 0x7fbe1ce6f490>"
      ]
     },
     "metadata": {},
     "output_type": "display_data"
    }
   ],
   "source": [
    "filename=\"./llamaindex/StatefulFlow.html\"\n",
    "draw_all_possible_flows(StatefulFlow, filename)\n",
    "display_html(filename)"
   ]
  },
  {
   "cell_type": "markdown",
   "id": "2ee04be2-cc92-4101-9dda-3cf0001ca088",
   "metadata": {},
   "source": [
    "### ワークフロー実行"
   ]
  },
  {
   "cell_type": "code",
   "execution_count": 22,
   "id": "f406b7e0-4d5c-4245-b729-c2c0d42266bb",
   "metadata": {},
   "outputs": [
    {
     "name": "stdout",
     "output_type": "stream",
     "text": [
      "Running step start\n",
      "Need to load data\n",
      "Step start produced event SetupEvent\n",
      "Running step setup\n",
      "Step setup produced event StartEvent\n",
      "Running step start\n",
      "Step start produced event StepTwoEvent\n",
      "Running step step_two\n",
      "Data is  [1, 2, 3]\n",
      "Step step_two produced event StopEvent\n",
      "[1, 2, 3]\n"
     ]
    }
   ],
   "source": [
    "w = StatefulFlow(timeout=10, verbose=True)\n",
    "result = await w.run(query=\"Some query\")\n",
    "print(result)"
   ]
  },
  {
   "cell_type": "markdown",
   "id": "0534c297-8006-4ca3-b27b-756d89b07a2b",
   "metadata": {},
   "source": [
    "### ワークフロー結果の表示"
   ]
  },
  {
   "cell_type": "code",
   "execution_count": 23,
   "id": "7ff64da3-332c-4336-8d8b-c899a62d1195",
   "metadata": {},
   "outputs": [
    {
     "name": "stdout",
     "output_type": "stream",
     "text": [
      "./llamaindex/StatefulFlowExec.html\n"
     ]
    },
    {
     "data": {
      "text/html": [
       "\n",
       "        <iframe\n",
       "            width=\"100%\"\n",
       "            height=\"300\"\n",
       "            src=\"./llamaindex/StatefulFlowExec.html\"\n",
       "            frameborder=\"0\"\n",
       "            allowfullscreen\n",
       "            \n",
       "        ></iframe>\n",
       "        "
      ],
      "text/plain": [
       "<IPython.lib.display.IFrame at 0x7fbe1ce6b970>"
      ]
     },
     "metadata": {},
     "output_type": "display_data"
    }
   ],
   "source": [
    "filename=\"./llamaindex/StatefulFlowExec.html\"\n",
    "draw_most_recent_execution(w, filename)\n",
    "display_html(filename)"
   ]
  },
  {
   "cell_type": "markdown",
   "id": "14fdeb08-9e8a-4bd9-978a-2a0e7e44d451",
   "metadata": {},
   "source": [
    "## ストリーミングイベント"
   ]
  },
  {
   "cell_type": "code",
   "execution_count": 24,
   "id": "64a529d6-8697-41fd-b477-054f59d13950",
   "metadata": {},
   "outputs": [],
   "source": [
    "import asyncio"
   ]
  },
  {
   "cell_type": "markdown",
   "id": "d398c8ba-f64c-4b12-9dbf-adb87e6f4828",
   "metadata": {},
   "source": [
    "### カスタム・イベント"
   ]
  },
  {
   "cell_type": "code",
   "execution_count": 25,
   "id": "afd65e69-08e5-4614-8a6f-3569d525b494",
   "metadata": {},
   "outputs": [],
   "source": [
    "class FirstEvent(Event):\n",
    "    first_output: str\n",
    "class SecondEvent(Event):\n",
    "    second_output: str\n",
    "    response: str\n",
    "class ProgressEvent(Event):\n",
    "    msg: str"
   ]
  },
  {
   "cell_type": "markdown",
   "id": "c04ec4f9-a760-44b4-a9a0-8b3475f46885",
   "metadata": {},
   "source": [
    "### ワークフロー定義"
   ]
  },
  {
   "cell_type": "code",
   "execution_count": 26,
   "id": "c6112b3e-d57c-4d44-9549-e06b7dfd1c53",
   "metadata": {},
   "outputs": [],
   "source": [
    "class StreamingWorkflow(Workflow):\n",
    "    @step\n",
    "    async def step_one(self, ctx: Context, ev: StartEvent) -> FirstEvent:\n",
    "        ctx.write_event_to_stream(ProgressEvent(msg=\"Step one is happening\"))\n",
    "        return FirstEvent(first_output=\"First step complete.\")\n",
    "\n",
    "    @step\n",
    "    async def step_two(self, ctx: Context, ev: FirstEvent) -> SecondEvent:\n",
    "        llm = OpenAI(model=\"gpt-3.5-turbo\", temperature=0)\n",
    "        generator = await llm.astream_complete(\n",
    "            \"Please give me the first 3 paragraphs of Moby Dick, a book in the public domain.\"\n",
    "        )\n",
    "        async for response in generator:\n",
    "            # Allow the workflow to stream this piece of response\n",
    "            ctx.write_event_to_stream(ProgressEvent(msg=response.delta))\n",
    "        return SecondEvent(\n",
    "            second_output=\"Second step complete, full response attached\",\n",
    "            response=str(response),\n",
    "        )\n",
    "\n",
    "    @step\n",
    "    async def step_three(self, ctx: Context, ev: SecondEvent) -> StopEvent:\n",
    "        ctx.write_event_to_stream(ProgressEvent(msg=\"Step three is happening\"))\n",
    "        return StopEvent(result=\"Workflow complete.\")"
   ]
  },
  {
   "cell_type": "markdown",
   "id": "765cd995-b6a7-4757-9745-4de426c2a48c",
   "metadata": {},
   "source": [
    "### ワークフロー表示"
   ]
  },
  {
   "cell_type": "code",
   "execution_count": 27,
   "id": "964cdfdc-0930-4999-a7a4-f7ac7a83789e",
   "metadata": {},
   "outputs": [
    {
     "name": "stdout",
     "output_type": "stream",
     "text": [
      "<class 'NoneType'>\n",
      "<class 'llama_index.core.workflow.events.StartEvent'>\n",
      "<class '__main__.SetupEvent'>\n",
      "<class '__main__.StepTwoEvent'>\n",
      "<class 'llama_index.core.workflow.events.StopEvent'>\n",
      "./llamaindex/StreamingWorkflow.html\n"
     ]
    },
    {
     "data": {
      "text/html": [
       "\n",
       "        <iframe\n",
       "            width=\"100%\"\n",
       "            height=\"300\"\n",
       "            src=\"./llamaindex/StreamingWorkflow.html\"\n",
       "            frameborder=\"0\"\n",
       "            allowfullscreen\n",
       "            \n",
       "        ></iframe>\n",
       "        "
      ],
      "text/plain": [
       "<IPython.lib.display.IFrame at 0x7fbe1cfb3c40>"
      ]
     },
     "metadata": {},
     "output_type": "display_data"
    }
   ],
   "source": [
    "filename=\"./llamaindex/StreamingWorkflow.html\"\n",
    "draw_all_possible_flows(StatefulFlow, filename)\n",
    "display_html(filename)"
   ]
  },
  {
   "cell_type": "markdown",
   "id": "7b83b65d-ceec-448a-a7b1-b8cf38ecc1d3",
   "metadata": {},
   "source": [
    "### ワークフロー実行"
   ]
  },
  {
   "cell_type": "markdown",
   "id": "bd6c35c6-9d8e-4a84-9d93-3738f109b0a0",
   "metadata": {},
   "source": [
    "#### 非同期関数を定義"
   ]
  },
  {
   "cell_type": "code",
   "execution_count": 28,
   "id": "c9897c07-3247-4895-8dbb-bea08649ef18",
   "metadata": {},
   "outputs": [],
   "source": [
    "async def main():\n",
    "    w = StreamingWorkflow(timeout=30, verbose=True)\n",
    "    handler = w.run(first_input=\"Start the workflow.\")\n",
    "\n",
    "    async for ev in handler.stream_events():\n",
    "        if isinstance(ev, ProgressEvent):\n",
    "            print(ev.msg)\n",
    "\n",
    "    final_result = await handler\n",
    "    print(\"Final result\", final_result)"
   ]
  },
  {
   "cell_type": "markdown",
   "id": "3bc0532c-1362-4b81-bba6-bf8c78a84ee0",
   "metadata": {},
   "source": [
    "#### Pythonのバージョン\n",
    "次第で非同期の実行方法方が違うらしい。"
   ]
  },
  {
   "cell_type": "code",
   "execution_count": 29,
   "id": "94799bcb-a23c-483e-9b95-cbf032bbd84c",
   "metadata": {},
   "outputs": [
    {
     "name": "stdout",
     "output_type": "stream",
     "text": [
      "Python 3.10.12\n"
     ]
    }
   ],
   "source": [
    "!python3 -V"
   ]
  },
  {
   "cell_type": "code",
   "execution_count": 30,
   "id": "95124111-5930-4523-86ac-b15f66a69747",
   "metadata": {},
   "outputs": [
    {
     "name": "stdout",
     "output_type": "stream",
     "text": [
      "Selected Jupyter core packages...\n",
      "IPython          : 8.29.0\n",
      "ipykernel        : 6.29.5\n",
      "ipywidgets       : not installed\n",
      "jupyter_client   : 8.6.3\n",
      "jupyter_core     : 5.7.2\n",
      "jupyter_server   : 2.14.2\n",
      "jupyterlab       : 4.3.1\n",
      "nbclient         : 0.10.0\n",
      "nbconvert        : 7.16.4\n",
      "nbformat         : 5.10.4\n",
      "notebook         : not installed\n",
      "qtconsole        : not installed\n",
      "traitlets        : 5.14.3\n"
     ]
    }
   ],
   "source": [
    "!jupyter --version"
   ]
  },
  {
   "cell_type": "markdown",
   "id": "5907ef50-4ffb-4598-a699-4460df7c0f36",
   "metadata": {},
   "source": [
    "#### 非同期関数の実行"
   ]
  },
  {
   "cell_type": "code",
   "execution_count": 31,
   "id": "61b4403e-01d6-40da-8ae5-0323e5d69611",
   "metadata": {},
   "outputs": [
    {
     "name": "stdout",
     "output_type": "stream",
     "text": [
      "Running step step_one\n",
      "Step step_one produced event FirstEvent\n",
      "Running step step_two\n",
      "Step one is happening\n",
      "\n",
      "Chapter\n",
      " \n",
      "1\n",
      ":\n",
      " L\n",
      "oom\n",
      "ings\n",
      "\n",
      "\n",
      "\n",
      "Call\n",
      " me\n",
      " Ish\n",
      "ma\n",
      "el\n",
      ".\n",
      " Some\n",
      " years\n",
      " ago\n",
      "—\n",
      "never\n",
      " mind\n",
      " how\n",
      " long\n",
      " precisely\n",
      "—\n",
      "having\n",
      " little\n",
      " or\n",
      " no\n",
      " money\n",
      " in\n",
      " my\n",
      " purse\n",
      ",\n",
      " and\n",
      " nothing\n",
      " particular\n",
      " to\n",
      " interest\n",
      " me\n",
      " on\n",
      " shore\n",
      ",\n",
      " I\n",
      " thought\n",
      " I\n",
      " would\n",
      " sail\n",
      " about\n",
      " a\n",
      " little\n",
      " and\n",
      " see\n",
      " the\n",
      " wat\n",
      "ery\n",
      " part\n",
      " of\n",
      " the\n",
      " world\n",
      ".\n",
      " It\n",
      " is\n",
      " a\n",
      " way\n",
      " I\n",
      " have\n",
      " of\n",
      " driving\n",
      " off\n",
      " the\n",
      " sple\n",
      "en\n",
      " and\n",
      " regulating\n",
      " the\n",
      " circulation\n",
      ".\n",
      " Whenever\n",
      " I\n",
      " find\n",
      " myself\n",
      " growing\n",
      " grim\n",
      " about\n",
      " the\n",
      " mouth\n",
      ";\n",
      " whenever\n",
      " it\n",
      " is\n",
      " a\n",
      " damp\n",
      ",\n",
      " dr\n",
      "izzly\n",
      " November\n",
      " in\n",
      " my\n",
      " soul\n",
      ";\n",
      " whenever\n",
      " I\n",
      " find\n",
      " myself\n",
      " invol\n",
      "unt\n",
      "arily\n",
      " pa\n",
      "using\n",
      " before\n",
      " coffin\n",
      " warehouses\n",
      ",\n",
      " and\n",
      " bringing\n",
      " up\n",
      " the\n",
      " rear\n",
      " of\n",
      " every\n",
      " funeral\n",
      " I\n",
      " meet\n",
      ";\n",
      " and\n",
      " especially\n",
      " whenever\n",
      " my\n",
      " hy\n",
      "pos\n",
      " get\n",
      " such\n",
      " an\n",
      " upper\n",
      " hand\n",
      " of\n",
      " me\n",
      ",\n",
      " that\n",
      " it\n",
      " requires\n",
      " a\n",
      " strong\n",
      " moral\n",
      " principle\n",
      " to\n",
      " prevent\n",
      " me\n",
      " from\n",
      " deliberately\n",
      " stepping\n",
      " into\n",
      " the\n",
      " street\n",
      ",\n",
      " and\n",
      " method\n",
      "ically\n",
      " knocking\n",
      " people\n",
      "’s\n",
      " hats\n",
      " off\n",
      "—\n",
      "then\n",
      ",\n",
      " I\n",
      " account\n",
      " it\n",
      " high\n",
      " time\n",
      " to\n",
      " get\n",
      " to\n",
      " sea\n",
      " as\n",
      " soon\n",
      " as\n",
      " I\n",
      " can\n",
      ".\n",
      "\n",
      "\n",
      "This\n",
      " is\n",
      " my\n",
      " substitute\n",
      " for\n",
      " pistol\n",
      " and\n",
      " ball\n",
      ".\n",
      " With\n",
      " a\n",
      " philosophical\n",
      " flourish\n",
      " C\n",
      "ato\n",
      " throws\n",
      " himself\n",
      " upon\n",
      " his\n",
      " sword\n",
      ";\n",
      " I\n",
      " quietly\n",
      " take\n",
      " to\n",
      " the\n",
      " ship\n",
      ".\n",
      " There\n",
      " is\n",
      " nothing\n",
      " surprising\n",
      " in\n",
      " this\n",
      ".\n",
      " If\n",
      " they\n",
      " but\n",
      " knew\n",
      " it\n",
      ",\n",
      " almost\n",
      " all\n",
      " men\n",
      " in\n",
      " their\n",
      " degree\n",
      ",\n",
      " some\n",
      " time\n",
      " or\n",
      " other\n",
      ",\n",
      " cherish\n",
      " very\n",
      " nearly\n",
      " the\n",
      " same\n",
      " feelings\n",
      " towards\n",
      " the\n",
      " ocean\n",
      " with\n",
      " me\n",
      ".\n",
      "\n",
      "Step step_two produced event SecondEvent\n",
      "Running step step_three\n",
      "Step step_three produced event StopEvent\n",
      "Step three is happening\n",
      "Final result Workflow complete.\n"
     ]
    }
   ],
   "source": [
    "#if __name__ == \"__main__\":\n",
    "#    asyncio.run(main())\n",
    "result = await main()"
   ]
  },
  {
   "cell_type": "markdown",
   "id": "75cf20e4-3844-4abe-baa3-ba612f3e20c3",
   "metadata": {},
   "source": [
    "### ワークフロー結果の表示"
   ]
  },
  {
   "cell_type": "code",
   "execution_count": 32,
   "id": "a66a07a4-b589-4f16-9b39-8bf7e6ac45d1",
   "metadata": {},
   "outputs": [
    {
     "name": "stdout",
     "output_type": "stream",
     "text": [
      "./llamaindex/StreamingWorkflowExec.html\n"
     ]
    },
    {
     "data": {
      "text/html": [
       "\n",
       "        <iframe\n",
       "            width=\"100%\"\n",
       "            height=\"300\"\n",
       "            src=\"./llamaindex/StreamingWorkflowExec.html\"\n",
       "            frameborder=\"0\"\n",
       "            allowfullscreen\n",
       "            \n",
       "        ></iframe>\n",
       "        "
      ],
      "text/plain": [
       "<IPython.lib.display.IFrame at 0x7fbe1cfb3c70>"
      ]
     },
     "metadata": {},
     "output_type": "display_data"
    }
   ],
   "source": [
    "filename=\"./llamaindex/StreamingWorkflowExec.html\"\n",
    "draw_most_recent_execution(w, filename)\n",
    "display_html(filename)"
   ]
  },
  {
   "cell_type": "markdown",
   "id": "0a45fbf8-d7af-4f81-8261-81394599e697",
   "metadata": {},
   "source": [
    "## 同時実行"
   ]
  },
  {
   "cell_type": "markdown",
   "id": "0efe3cb6-0dfa-4b99-a047-ea3c0e14e134",
   "metadata": {},
   "source": [
    "### ParallelFlow"
   ]
  },
  {
   "cell_type": "markdown",
   "id": "2fbd6171-51fa-4fd1-a639-f7700e8d2055",
   "metadata": {},
   "source": [
    "#### ワークフロー定義"
   ]
  },
  {
   "cell_type": "code",
   "execution_count": 33,
   "id": "b6761cbe-23cc-432e-aedb-cb318df6001b",
   "metadata": {},
   "outputs": [],
   "source": [
    "class ParallelFlow(Workflow):\n",
    "    @step\n",
    "    async def start(self, ctx: Context, ev: StartEvent) -> StepTwoEvent:\n",
    "        ctx.send_event(StepTwoEvent(query=\"Query 1\"))\n",
    "        ctx.send_event(StepTwoEvent(query=\"Query 2\"))\n",
    "        ctx.send_event(StepTwoEvent(query=\"Query 3\"))\n",
    "\n",
    "    @step(num_workers=4)\n",
    "    async def step_two(self, ctx: Context, ev: StepTwoEvent) -> StopEvent:\n",
    "        print(\"Running slow query \", ev.query)\n",
    "        await asyncio.sleep(random.randint(1, 5))\n",
    "\n",
    "        return StopEvent(result=ev.query)"
   ]
  },
  {
   "cell_type": "markdown",
   "id": "cde2ee33-fa4c-4bef-b20c-857a21ea6623",
   "metadata": {},
   "source": [
    "#### ワークフロー表示"
   ]
  },
  {
   "cell_type": "code",
   "execution_count": 34,
   "id": "e60308e1-4133-4c7b-9720-a3c70fffe2d9",
   "metadata": {},
   "outputs": [
    {
     "name": "stdout",
     "output_type": "stream",
     "text": [
      "<class 'NoneType'>\n",
      "<class '__main__.StepTwoEvent'>\n",
      "<class 'llama_index.core.workflow.events.StopEvent'>\n",
      "./llamaindex/ParallelFlow.html\n"
     ]
    },
    {
     "data": {
      "text/html": [
       "\n",
       "        <iframe\n",
       "            width=\"100%\"\n",
       "            height=\"300\"\n",
       "            src=\"./llamaindex/ParallelFlow.html\"\n",
       "            frameborder=\"0\"\n",
       "            allowfullscreen\n",
       "            \n",
       "        ></iframe>\n",
       "        "
      ],
      "text/plain": [
       "<IPython.lib.display.IFrame at 0x7fbe1d044370>"
      ]
     },
     "metadata": {},
     "output_type": "display_data"
    }
   ],
   "source": [
    "filename=\"./llamaindex/ParallelFlow.html\"\n",
    "draw_all_possible_flows(ParallelFlow, filename)\n",
    "display_html(filename)"
   ]
  },
  {
   "cell_type": "markdown",
   "id": "08deeadb-fdd2-4ccd-b385-21747f9f867a",
   "metadata": {},
   "source": [
    "#### ワークフロー実行"
   ]
  },
  {
   "cell_type": "code",
   "execution_count": 35,
   "id": "f9ff7900-bfaf-4e89-8b8c-2a69b755b680",
   "metadata": {},
   "outputs": [
    {
     "name": "stdout",
     "output_type": "stream",
     "text": [
      "Running step start\n",
      "Step start produced no event\n",
      "Running step step_two\n",
      "Running slow query  Query 1\n",
      "Running step step_two\n",
      "Running slow query  Query 2\n",
      "Running step step_two\n",
      "Running slow query  Query 3\n",
      "Step step_two produced event StopEvent\n",
      "Query 1\n"
     ]
    }
   ],
   "source": [
    "w = ParallelFlow(timeout=10, verbose=True)\n",
    "result = await w.run()\n",
    "print(result)"
   ]
  },
  {
   "cell_type": "markdown",
   "id": "d9d20a68-ad38-4d71-9c99-9c06d8ca8894",
   "metadata": {},
   "source": [
    "#### ワークフロー結果の表示"
   ]
  },
  {
   "cell_type": "code",
   "execution_count": 36,
   "id": "9c7a7919-90eb-4963-abd6-192670c69a3e",
   "metadata": {},
   "outputs": [
    {
     "name": "stdout",
     "output_type": "stream",
     "text": [
      "./llamaindex/ParallelFlowExec.html\n"
     ]
    },
    {
     "data": {
      "text/html": [
       "\n",
       "        <iframe\n",
       "            width=\"100%\"\n",
       "            height=\"300\"\n",
       "            src=\"./llamaindex/ParallelFlowExec.html\"\n",
       "            frameborder=\"0\"\n",
       "            allowfullscreen\n",
       "            \n",
       "        ></iframe>\n",
       "        "
      ],
      "text/plain": [
       "<IPython.lib.display.IFrame at 0x7fbe1cf53d60>"
      ]
     },
     "metadata": {},
     "output_type": "display_data"
    }
   ],
   "source": [
    "filename=\"./llamaindex/ParallelFlowExec.html\"\n",
    "draw_most_recent_execution(w, filename)\n",
    "display_html(filename)"
   ]
  },
  {
   "cell_type": "markdown",
   "id": "a2644a24-77b0-4acf-8437-565f0ded3932",
   "metadata": {},
   "source": [
    "### ConcurrentFlow1"
   ]
  },
  {
   "cell_type": "markdown",
   "id": "673a0f3c-fbd4-47d0-baec-dcac2a6d86bc",
   "metadata": {},
   "source": [
    "#### カスタム・イベント"
   ]
  },
  {
   "cell_type": "code",
   "execution_count": 37,
   "id": "b170671d-3d7a-4e6f-b520-8e4a7833c8a9",
   "metadata": {},
   "outputs": [],
   "source": [
    "class StepThreeEvent(Event):\n",
    "    result: str"
   ]
  },
  {
   "cell_type": "markdown",
   "id": "81a41f59-f14d-4b51-a079-7bfecc3e136b",
   "metadata": {},
   "source": [
    "#### ワークフロー定義"
   ]
  },
  {
   "cell_type": "code",
   "execution_count": 38,
   "id": "8dd5ee12-09cf-494e-8830-e965b6c9ab03",
   "metadata": {},
   "outputs": [],
   "source": [
    "class ConcurrentFlow1(Workflow):\n",
    "    @step\n",
    "    async def start(self, ctx: Context, ev: StartEvent) -> StepTwoEvent:\n",
    "        ctx.send_event(StepTwoEvent(query=\"Query 1\"))\n",
    "        ctx.send_event(StepTwoEvent(query=\"Query 2\"))\n",
    "        ctx.send_event(StepTwoEvent(query=\"Query 3\"))\n",
    "\n",
    "    @step(num_workers=4)\n",
    "    async def step_two(self, ctx: Context, ev: StepTwoEvent) -> StepThreeEvent:\n",
    "        print(\"Running query \", ev.query)\n",
    "        await asyncio.sleep(random.randint(1, 5))\n",
    "        return StepThreeEvent(result=ev.query)\n",
    "\n",
    "    @step\n",
    "    async def step_three(self, ctx: Context, ev: StepThreeEvent) -> StopEvent:\n",
    "        # wait until we receive 3 events\n",
    "        result = ctx.collect_events(ev, [StepThreeEvent] * 3)\n",
    "        if result is None:\n",
    "            return None\n",
    "\n",
    "        # do something with all 3 results together\n",
    "        print(result)\n",
    "        return StopEvent(result=\"Done\")"
   ]
  },
  {
   "cell_type": "markdown",
   "id": "4d3771de-b7a7-4959-85e6-8efa5f328a3f",
   "metadata": {},
   "source": [
    "#### ワークフロー表示"
   ]
  },
  {
   "cell_type": "code",
   "execution_count": 39,
   "id": "6b4ccf9b-5ef7-4c82-954d-9ec17a6d896d",
   "metadata": {},
   "outputs": [
    {
     "name": "stdout",
     "output_type": "stream",
     "text": [
      "<class 'NoneType'>\n",
      "<class '__main__.StepTwoEvent'>\n",
      "<class 'llama_index.core.workflow.events.StopEvent'>\n",
      "<class '__main__.StepThreeEvent'>\n",
      "./llamaindex/ConcurrentFlow1.html\n"
     ]
    },
    {
     "data": {
      "text/html": [
       "\n",
       "        <iframe\n",
       "            width=\"100%\"\n",
       "            height=\"300\"\n",
       "            src=\"./llamaindex/ConcurrentFlow1.html\"\n",
       "            frameborder=\"0\"\n",
       "            allowfullscreen\n",
       "            \n",
       "        ></iframe>\n",
       "        "
      ],
      "text/plain": [
       "<IPython.lib.display.IFrame at 0x7fbe1ce6fe20>"
      ]
     },
     "metadata": {},
     "output_type": "display_data"
    }
   ],
   "source": [
    "filename=\"./llamaindex/ConcurrentFlow1.html\"\n",
    "draw_all_possible_flows(ConcurrentFlow1, filename)\n",
    "display_html(filename)"
   ]
  },
  {
   "cell_type": "markdown",
   "id": "cf72d0ae-b36c-449c-9121-74553a390036",
   "metadata": {},
   "source": [
    "#### ワークフロー実行"
   ]
  },
  {
   "cell_type": "code",
   "execution_count": 40,
   "id": "8b353d7b-e8f6-4974-864a-8b0e5280ca2f",
   "metadata": {},
   "outputs": [
    {
     "name": "stdout",
     "output_type": "stream",
     "text": [
      "Running step start\n",
      "Step start produced no event\n",
      "Running step step_two\n",
      "Running query  Query 1\n",
      "Running step step_two\n",
      "Running query  Query 2\n",
      "Running step step_two\n",
      "Running query  Query 3\n",
      "Step step_two produced event StepThreeEvent\n",
      "Step step_two produced event StepThreeEvent\n",
      "Step step_two produced event StepThreeEvent\n",
      "Running step step_three\n",
      "Step step_three produced no event\n",
      "Running step step_three\n",
      "Step step_three produced no event\n",
      "Running step step_three\n",
      "[StepThreeEvent(result='Query 1'), StepThreeEvent(result='Query 2'), StepThreeEvent(result='Query 3')]\n",
      "Step step_three produced event StopEvent\n",
      "Done\n"
     ]
    }
   ],
   "source": [
    "w = ConcurrentFlow1(timeout=10, verbose=True)\n",
    "result = await w.run()\n",
    "print(result)"
   ]
  },
  {
   "cell_type": "markdown",
   "id": "a8afd4dc-ea3e-471c-80e0-476a74a4460c",
   "metadata": {},
   "source": [
    "#### ワークフロー結果の表示"
   ]
  },
  {
   "cell_type": "code",
   "execution_count": 41,
   "id": "57cc59f4-d565-454a-a240-9a3382b5d71c",
   "metadata": {},
   "outputs": [
    {
     "name": "stdout",
     "output_type": "stream",
     "text": [
      "./llamaindex/ConcurrentFlow1Exec.html\n"
     ]
    },
    {
     "data": {
      "text/html": [
       "\n",
       "        <iframe\n",
       "            width=\"100%\"\n",
       "            height=\"300\"\n",
       "            src=\"./llamaindex/ConcurrentFlow1Exec.html\"\n",
       "            frameborder=\"0\"\n",
       "            allowfullscreen\n",
       "            \n",
       "        ></iframe>\n",
       "        "
      ],
      "text/plain": [
       "<IPython.lib.display.IFrame at 0x7fbe1cfb38e0>"
      ]
     },
     "metadata": {},
     "output_type": "display_data"
    }
   ],
   "source": [
    "filename=\"./llamaindex/ConcurrentFlow1Exec.html\"\n",
    "draw_most_recent_execution(w, filename)\n",
    "display_html(filename)"
   ]
  },
  {
   "cell_type": "markdown",
   "id": "e6edbf23-1a69-4ab2-97da-494246b4c859",
   "metadata": {},
   "source": [
    "### ConcurrentFlow2"
   ]
  },
  {
   "cell_type": "markdown",
   "id": "671e6f1c-338f-4429-b401-194117a934e4",
   "metadata": {},
   "source": [
    "#### カスタム・イベント"
   ]
  },
  {
   "cell_type": "code",
   "execution_count": 42,
   "id": "7c441a68-3795-4a71-a8af-0d70bf504b2a",
   "metadata": {},
   "outputs": [],
   "source": [
    "class StepAEvent(Event):\n",
    "    query: str\n",
    "class StepBEvent(Event):\n",
    "    query: str\n",
    "class StepCEvent(Event):\n",
    "    query: str\n",
    "\n",
    "class StepACompleteEvent(Event):\n",
    "    result: str\n",
    "class StepBCompleteEvent(Event):\n",
    "    result: str\n",
    "class StepCCompleteEvent(Event):\n",
    "    result: str"
   ]
  },
  {
   "cell_type": "markdown",
   "id": "79047ab7-db85-4d17-be46-db6b1a1ae6cb",
   "metadata": {},
   "source": [
    "#### ワークフロー定義"
   ]
  },
  {
   "cell_type": "code",
   "execution_count": 43,
   "id": "43209efe-55fe-4bf6-b892-0edcde65f14e",
   "metadata": {},
   "outputs": [],
   "source": [
    "class ConcurrentFlow2(Workflow):\n",
    "    @step\n",
    "    async def start(\n",
    "        self, ctx: Context, ev: StartEvent\n",
    "    ) -> StepAEvent | StepBEvent | StepCEvent:\n",
    "        ctx.send_event(StepAEvent(query=\"Query 1\"))\n",
    "        ctx.send_event(StepBEvent(query=\"Query 2\"))\n",
    "        ctx.send_event(StepCEvent(query=\"Query 3\"))\n",
    "\n",
    "    @step\n",
    "    async def step_a(self, ctx: Context, ev: StepAEvent) -> StepACompleteEvent:\n",
    "        print(\"Doing something A-ish\")\n",
    "        return StepACompleteEvent(result=ev.query)\n",
    "\n",
    "    @step\n",
    "    async def step_b(self, ctx: Context, ev: StepBEvent) -> StepBCompleteEvent:\n",
    "        print(\"Doing something B-ish\")\n",
    "        return StepBCompleteEvent(result=ev.query)\n",
    "\n",
    "    @step\n",
    "    async def step_c(self, ctx: Context, ev: StepCEvent) -> StepCCompleteEvent:\n",
    "        print(\"Doing something C-ish\")\n",
    "        return StepCCompleteEvent(result=ev.query)\n",
    "\n",
    "    @step\n",
    "    async def step_three(\n",
    "        self,\n",
    "        ctx: Context,\n",
    "        ev: StepACompleteEvent | StepBCompleteEvent | StepCCompleteEvent,\n",
    "    ) -> StopEvent:\n",
    "        print(\"Received event \", ev.result)\n",
    "\n",
    "        # wait until we receive 3 events\n",
    "        if (\n",
    "            ctx.collect_events(\n",
    "                ev,\n",
    "                [StepACompleteEvent, StepBCompleteEvent, StepCCompleteEvent], \n",
    "            )\n",
    "            is None\n",
    "        ):\n",
    "            return None\n",
    "\n",
    "        # do something with all 3 results together\n",
    "        return StopEvent(result=\"Done\")"
   ]
  },
  {
   "cell_type": "markdown",
   "id": "8fa221de-b9f5-49f1-abe6-8ce89116f544",
   "metadata": {},
   "source": [
    "#### ワークフロー表示"
   ]
  },
  {
   "cell_type": "code",
   "execution_count": 44,
   "id": "ad8c459d-cb34-41a5-b7a9-3769c74cde65",
   "metadata": {},
   "outputs": [
    {
     "name": "stdout",
     "output_type": "stream",
     "text": [
      "<class 'NoneType'>\n",
      "<class '__main__.StepAEvent'>\n",
      "<class '__main__.StepBEvent'>\n",
      "<class '__main__.StepCEvent'>\n",
      "<class '__main__.StepACompleteEvent'>\n",
      "<class '__main__.StepBCompleteEvent'>\n",
      "<class '__main__.StepCCompleteEvent'>\n",
      "<class 'llama_index.core.workflow.events.StopEvent'>\n",
      "./llamaindex/ConcurrentFlow2.html\n"
     ]
    },
    {
     "data": {
      "text/html": [
       "\n",
       "        <iframe\n",
       "            width=\"100%\"\n",
       "            height=\"300\"\n",
       "            src=\"./llamaindex/ConcurrentFlow2.html\"\n",
       "            frameborder=\"0\"\n",
       "            allowfullscreen\n",
       "            \n",
       "        ></iframe>\n",
       "        "
      ],
      "text/plain": [
       "<IPython.lib.display.IFrame at 0x7fbe4ea6e200>"
      ]
     },
     "metadata": {},
     "output_type": "display_data"
    }
   ],
   "source": [
    "filename=\"./llamaindex/ConcurrentFlow2.html\"\n",
    "draw_all_possible_flows(ConcurrentFlow2, filename)\n",
    "display_html(filename)"
   ]
  },
  {
   "cell_type": "markdown",
   "id": "3ab47f2c-3845-4835-b21c-8ff2a40a8d31",
   "metadata": {},
   "source": [
    "#### ワークフロー実行"
   ]
  },
  {
   "cell_type": "code",
   "execution_count": 45,
   "id": "7ee94207-2330-4d27-af03-3e6d4e3d9000",
   "metadata": {},
   "outputs": [
    {
     "name": "stdout",
     "output_type": "stream",
     "text": [
      "Running step start\n",
      "Step start produced no event\n",
      "Running step step_a\n",
      "Doing something A-ish\n",
      "Step step_a produced event StepACompleteEvent\n",
      "Running step step_b\n",
      "Doing something B-ish\n",
      "Step step_b produced event StepBCompleteEvent\n",
      "Running step step_c\n",
      "Doing something C-ish\n",
      "Step step_c produced event StepCCompleteEvent\n",
      "Running step step_three\n",
      "Received event  Query 1\n",
      "Step step_three produced no event\n",
      "Running step step_three\n",
      "Received event  Query 2\n",
      "Step step_three produced no event\n",
      "Running step step_three\n",
      "Received event  Query 3\n",
      "Step step_three produced event StopEvent\n",
      "Done\n"
     ]
    }
   ],
   "source": [
    "w = ConcurrentFlow2(timeout=10, verbose=True)\n",
    "result = await w.run()\n",
    "print(result)"
   ]
  },
  {
   "cell_type": "markdown",
   "id": "193192f5-5a6d-46e4-b944-266e6063800a",
   "metadata": {},
   "source": [
    "#### ワークフロー結果の表示"
   ]
  },
  {
   "cell_type": "code",
   "execution_count": 46,
   "id": "36d31e10-3647-4cec-b032-0c8761d211fc",
   "metadata": {},
   "outputs": [
    {
     "name": "stdout",
     "output_type": "stream",
     "text": [
      "./llamaindex/ConcurrentFlow2Exec.html\n"
     ]
    },
    {
     "data": {
      "text/html": [
       "\n",
       "        <iframe\n",
       "            width=\"100%\"\n",
       "            height=\"300\"\n",
       "            src=\"./llamaindex/ConcurrentFlow2Exec.html\"\n",
       "            frameborder=\"0\"\n",
       "            allowfullscreen\n",
       "            \n",
       "        ></iframe>\n",
       "        "
      ],
      "text/plain": [
       "<IPython.lib.display.IFrame at 0x7fbe1cf51990>"
      ]
     },
     "metadata": {},
     "output_type": "display_data"
    }
   ],
   "source": [
    "filename=\"./llamaindex/ConcurrentFlow2Exec.html\"\n",
    "draw_most_recent_execution(w, filename)\n",
    "display_html(filename)"
   ]
  },
  {
   "cell_type": "markdown",
   "id": "dfbdd204-b081-45cf-ba19-7c98095093f1",
   "metadata": {},
   "source": [
    "## サブクラス化"
   ]
  },
  {
   "cell_type": "markdown",
   "id": "132c4c1c-8d44-4f4d-90f3-1a80317b71bd",
   "metadata": {},
   "source": [
    "### メイン"
   ]
  },
  {
   "cell_type": "markdown",
   "id": "05465b13-8c67-4281-bcc5-f0f09a813372",
   "metadata": {},
   "source": [
    "#### カスタム・イベント"
   ]
  },
  {
   "cell_type": "code",
   "execution_count": 47,
   "id": "90d0d06b-8bb1-46db-86a5-fb434fab7d24",
   "metadata": {},
   "outputs": [],
   "source": [
    "class Step2Event(Event):\n",
    "    query: str\n",
    "class Step3Event(Event):\n",
    "    query: str"
   ]
  },
  {
   "cell_type": "markdown",
   "id": "6da12f1d-45d6-4ee3-a240-8ab3083f9d85",
   "metadata": {},
   "source": [
    "#### ワークフロー定義"
   ]
  },
  {
   "cell_type": "code",
   "execution_count": 48,
   "id": "2ac321f7-05a1-464c-8057-9445433c7ff2",
   "metadata": {},
   "outputs": [],
   "source": [
    "class MainWorkflow(Workflow):\n",
    "    @step\n",
    "    async def start(self, ev: StartEvent) -> Step2Event:\n",
    "        print(\"Starting up\")\n",
    "        return Step2Event(query=ev.query)\n",
    "\n",
    "    @step\n",
    "    async def step_two(self, ev: Step2Event) -> Step3Event:\n",
    "        print(\"Sending an email\")\n",
    "        return Step3Event(query=ev.query)\n",
    "\n",
    "    @step\n",
    "    async def step_three(self, ev: Step3Event) -> StopEvent:\n",
    "        print(\"Finishing up\")\n",
    "        return StopEvent(result=ev.query)"
   ]
  },
  {
   "cell_type": "markdown",
   "id": "df4ca3d4-63ab-44f8-94ce-121a72247c22",
   "metadata": {},
   "source": [
    "#### ワークフロー表示"
   ]
  },
  {
   "cell_type": "code",
   "execution_count": 49,
   "id": "cad5599c-1419-4469-a8c5-12183879d14a",
   "metadata": {},
   "outputs": [
    {
     "name": "stdout",
     "output_type": "stream",
     "text": [
      "<class 'NoneType'>\n",
      "<class '__main__.Step2Event'>\n",
      "<class 'llama_index.core.workflow.events.StopEvent'>\n",
      "<class '__main__.Step3Event'>\n",
      "./llamaindex/MainWorkflow.html\n"
     ]
    },
    {
     "data": {
      "text/html": [
       "\n",
       "        <iframe\n",
       "            width=\"100%\"\n",
       "            height=\"300\"\n",
       "            src=\"./llamaindex/MainWorkflow.html\"\n",
       "            frameborder=\"0\"\n",
       "            allowfullscreen\n",
       "            \n",
       "        ></iframe>\n",
       "        "
      ],
      "text/plain": [
       "<IPython.lib.display.IFrame at 0x7fbe1d046830>"
      ]
     },
     "metadata": {},
     "output_type": "display_data"
    }
   ],
   "source": [
    "filename=\"./llamaindex/MainWorkflow.html\"\n",
    "draw_all_possible_flows(MainWorkflow, filename)\n",
    "display_html(filename)"
   ]
  },
  {
   "cell_type": "markdown",
   "id": "6db1d0cc-67c7-43e0-9c60-7e28ec7589af",
   "metadata": {},
   "source": [
    "#### ワークフロー実行"
   ]
  },
  {
   "cell_type": "code",
   "execution_count": 50,
   "id": "601d00e6-4ccc-4f41-ba50-b42c417fdf82",
   "metadata": {},
   "outputs": [
    {
     "name": "stdout",
     "output_type": "stream",
     "text": [
      "Running step start\n",
      "Starting up\n",
      "Step start produced event Step2Event\n",
      "Running step step_two\n",
      "Sending an email\n",
      "Step step_two produced event Step3Event\n",
      "Running step step_three\n",
      "Finishing up\n",
      "Step step_three produced event StopEvent\n",
      "Initial query\n"
     ]
    }
   ],
   "source": [
    "w = MainWorkflow(timeout=10, verbose=True)\n",
    "result = await w.run(query=\"Initial query\")\n",
    "print(result)"
   ]
  },
  {
   "cell_type": "markdown",
   "id": "1830093f-f897-4d13-a88c-2e1d89cdb3b1",
   "metadata": {},
   "source": [
    "#### ワークフロー結果の表示"
   ]
  },
  {
   "cell_type": "code",
   "execution_count": 51,
   "id": "ecbc4a98-99a5-4776-b586-3b2a81f2ef52",
   "metadata": {},
   "outputs": [
    {
     "name": "stdout",
     "output_type": "stream",
     "text": [
      "./llamaindex/MainWorkflowExec.html\n"
     ]
    },
    {
     "data": {
      "text/html": [
       "\n",
       "        <iframe\n",
       "            width=\"100%\"\n",
       "            height=\"300\"\n",
       "            src=\"./llamaindex/MainWorkflowExec.html\"\n",
       "            frameborder=\"0\"\n",
       "            allowfullscreen\n",
       "            \n",
       "        ></iframe>\n",
       "        "
      ],
      "text/plain": [
       "<IPython.lib.display.IFrame at 0x7fbe1ce6f4c0>"
      ]
     },
     "metadata": {},
     "output_type": "display_data"
    }
   ],
   "source": [
    "filename=\"./llamaindex/MainWorkflowExec.html\"\n",
    "draw_most_recent_execution(w, filename)\n",
    "display_html(filename)"
   ]
  },
  {
   "cell_type": "markdown",
   "id": "3786dc1b-0f8f-4b4d-9e3d-c001ee1c71e8",
   "metadata": {},
   "source": [
    "### サブ"
   ]
  },
  {
   "cell_type": "markdown",
   "id": "c72dc0e5-36d5-47cd-85af-a69a80f9caec",
   "metadata": {},
   "source": [
    "#### カスタム・イベント"
   ]
  },
  {
   "cell_type": "code",
   "execution_count": 52,
   "id": "95b2488a-1672-42f9-8243-01beb0fa215a",
   "metadata": {},
   "outputs": [],
   "source": [
    "class Step2BEvent(Event):\n",
    "    query: str"
   ]
  },
  {
   "cell_type": "markdown",
   "id": "ddfa6167-5069-4b8f-b973-374bb35dc45d",
   "metadata": {},
   "source": [
    "#### ワークフロー定義"
   ]
  },
  {
   "cell_type": "code",
   "execution_count": 53,
   "id": "c2919e72-2dce-4858-a89f-0c76e2bcb9d4",
   "metadata": {},
   "outputs": [],
   "source": [
    "class SubclassingWorkflow(MainWorkflow):\n",
    "    @step\n",
    "    async def step_two(self, ev: Step2Event) -> Step2BEvent:\n",
    "        print(\"Sending an email (override?)\")\n",
    "        return Step2BEvent(query=ev.query)\n",
    "\n",
    "    @step\n",
    "    async def step_two_b(self, ev: Step2BEvent) -> Step3Event:\n",
    "        print(\"Also sending a text message\")\n",
    "        return Step3Event(query=ev.query)\n"
   ]
  },
  {
   "cell_type": "markdown",
   "id": "50eb2a93-2ba9-46ea-9583-cda184441886",
   "metadata": {},
   "source": [
    "#### ワークフロー表示"
   ]
  },
  {
   "cell_type": "code",
   "execution_count": 54,
   "id": "7e774fe9-f8de-4321-b175-491dfd03f47e",
   "metadata": {},
   "outputs": [
    {
     "name": "stdout",
     "output_type": "stream",
     "text": [
      "<class 'NoneType'>\n",
      "<class '__main__.Step2Event'>\n",
      "<class 'llama_index.core.workflow.events.StopEvent'>\n",
      "<class '__main__.Step2BEvent'>\n",
      "<class '__main__.Step3Event'>\n",
      "./llamaindex/SubclassingWorkflow.html\n"
     ]
    },
    {
     "data": {
      "text/html": [
       "\n",
       "        <iframe\n",
       "            width=\"100%\"\n",
       "            height=\"300\"\n",
       "            src=\"./llamaindex/SubclassingWorkflow.html\"\n",
       "            frameborder=\"0\"\n",
       "            allowfullscreen\n",
       "            \n",
       "        ></iframe>\n",
       "        "
      ],
      "text/plain": [
       "<IPython.lib.display.IFrame at 0x7fbe1d044580>"
      ]
     },
     "metadata": {},
     "output_type": "display_data"
    }
   ],
   "source": [
    "filename=\"./llamaindex/SubclassingWorkflow.html\"\n",
    "draw_all_possible_flows(SubclassingWorkflow, filename)\n",
    "display_html(filename)"
   ]
  },
  {
   "cell_type": "markdown",
   "id": "d8c222ca-9300-42af-992a-51619ff97290",
   "metadata": {},
   "source": [
    "#### ワークフロー実行"
   ]
  },
  {
   "cell_type": "code",
   "execution_count": 55,
   "id": "7f27a1bd-be87-4cf8-bbc1-7e20a4a64e35",
   "metadata": {},
   "outputs": [
    {
     "name": "stdout",
     "output_type": "stream",
     "text": [
      "Running step start\n",
      "Starting up\n",
      "Step start produced event Step2Event\n",
      "Running step step_two\n",
      "Sending an email (override?)\n",
      "Step step_two produced event Step2BEvent\n",
      "Running step step_two_b\n",
      "Also sending a text message\n",
      "Step step_two_b produced event Step3Event\n",
      "Running step step_three\n",
      "Finishing up\n",
      "Step step_three produced event StopEvent\n",
      "Initial query\n"
     ]
    }
   ],
   "source": [
    "w = SubclassingWorkflow(timeout=10, verbose=True)\n",
    "result = await w.run(query=\"Initial query\")\n",
    "print(result)"
   ]
  },
  {
   "cell_type": "markdown",
   "id": "7a930e86-897c-459d-a0cd-6ff396074689",
   "metadata": {},
   "source": [
    "#### ワークフロー結果の表示"
   ]
  },
  {
   "cell_type": "code",
   "execution_count": 56,
   "id": "0990c618-809d-4f59-9517-8475a52a1c80",
   "metadata": {},
   "outputs": [
    {
     "name": "stdout",
     "output_type": "stream",
     "text": [
      "./llamaindex/SubclassingWorkflowExec.html\n"
     ]
    },
    {
     "data": {
      "text/html": [
       "\n",
       "        <iframe\n",
       "            width=\"100%\"\n",
       "            height=\"300\"\n",
       "            src=\"./llamaindex/SubclassingWorkflowExec.html\"\n",
       "            frameborder=\"0\"\n",
       "            allowfullscreen\n",
       "            \n",
       "        ></iframe>\n",
       "        "
      ],
      "text/plain": [
       "<IPython.lib.display.IFrame at 0x7fbe781251b0>"
      ]
     },
     "metadata": {},
     "output_type": "display_data"
    }
   ],
   "source": [
    "filename=\"./llamaindex/SubclassingWorkflowExec.html\"\n",
    "draw_most_recent_execution(w, filename)\n",
    "display_html(filename)"
   ]
  },
  {
   "cell_type": "markdown",
   "id": "d61fbda6-f872-45a0-8045-261b7bbf9b9e",
   "metadata": {},
   "source": [
    "## ネスト"
   ]
  },
  {
   "cell_type": "markdown",
   "id": "b625e01d-5ef1-49fe-9f8f-e444b57236cc",
   "metadata": {},
   "source": [
    "### カスタム・イベント"
   ]
  },
  {
   "cell_type": "code",
   "execution_count": 57,
   "id": "92f682fe-32a9-4189-b98e-c40902a0a647",
   "metadata": {},
   "outputs": [],
   "source": [
    "class Step2Event(Event):\n",
    "    query: str"
   ]
  },
  {
   "cell_type": "markdown",
   "id": "a0c99b36-54bb-49cd-8f99-11a21ac3ed4d",
   "metadata": {},
   "source": [
    "### ワークフロー定義"
   ]
  },
  {
   "cell_type": "markdown",
   "id": "f631af09-f77c-4dc4-8c65-0ad84ffe56e4",
   "metadata": {},
   "source": [
    "#### DefaultSubflow"
   ]
  },
  {
   "cell_type": "code",
   "execution_count": 58,
   "id": "406b9edf-2956-4d1f-b43b-401f28a61028",
   "metadata": {},
   "outputs": [],
   "source": [
    "class DefaultSubflow(Workflow):\n",
    "    @step()\n",
    "    async def sub_start(self, ctx: Context, ev: StartEvent) -> StopEvent:\n",
    "        print(\"Doing basic reflection\")\n",
    "        return StopEvent(result=\"Improved query\")"
   ]
  },
  {
   "cell_type": "markdown",
   "id": "cc57cb5b-076a-436b-b98f-012af84f8756",
   "metadata": {},
   "source": [
    "#### MainWorkflow"
   ]
  },
  {
   "cell_type": "code",
   "execution_count": 59,
   "id": "2b47f0cb-3141-4e8c-80b1-3f18adc2f394",
   "metadata": {},
   "outputs": [],
   "source": [
    "class MainWorkflow(Workflow):\n",
    "    @step\n",
    "    async def start(\n",
    "        self,\n",
    "        ctx: Context,\n",
    "        ev: StartEvent,\n",
    "        reflection_workflow: Workflow = DefaultSubflow(),\n",
    "    ) -> Step2Event:\n",
    "        print(\"Need to run reflection\")\n",
    "        res = await reflection_workflow.run(query=ev.query)\n",
    "        return Step2Event(query=res)\n",
    "\n",
    "    @step\n",
    "    async def step_two(self, ctx: Context, ev: Step2Event) -> StopEvent:\n",
    "        print(\"Query is \", ev.query)\n",
    "        # do something with the query here\n",
    "        return StopEvent(result=ev.query)"
   ]
  },
  {
   "cell_type": "markdown",
   "id": "c8487cca-73e0-46b4-873c-04aef62ade6d",
   "metadata": {},
   "source": [
    "#### ReflectionFlow"
   ]
  },
  {
   "cell_type": "code",
   "execution_count": 60,
   "id": "23e39728-fac2-424d-9f6b-b9193b6d465a",
   "metadata": {},
   "outputs": [],
   "source": [
    "class ReflectionFlow(Workflow):\n",
    "    @step\n",
    "    async def sub_start(self, ctx: Context, ev: StartEvent) -> StopEvent:\n",
    "        print(\"Doing custom reflection\")\n",
    "        return StopEvent(result=\"Improved query\")"
   ]
  },
  {
   "cell_type": "markdown",
   "id": "86200391-8938-4c0f-bf43-7a5c9b261db3",
   "metadata": {},
   "source": [
    "### ワークフロー表示"
   ]
  },
  {
   "cell_type": "code",
   "execution_count": 61,
   "id": "2d348c6f-8c79-4c95-bd8c-603c9d1d1e13",
   "metadata": {},
   "outputs": [
    {
     "name": "stdout",
     "output_type": "stream",
     "text": [
      "<class 'NoneType'>\n",
      "<class '__main__.Step2Event'>\n",
      "<class 'llama_index.core.workflow.events.StopEvent'>\n",
      "./llamaindex/MainWorkflow.html\n"
     ]
    },
    {
     "data": {
      "text/html": [
       "\n",
       "        <iframe\n",
       "            width=\"100%\"\n",
       "            height=\"300\"\n",
       "            src=\"./llamaindex/MainWorkflow.html\"\n",
       "            frameborder=\"0\"\n",
       "            allowfullscreen\n",
       "            \n",
       "        ></iframe>\n",
       "        "
      ],
      "text/plain": [
       "<IPython.lib.display.IFrame at 0x7fbe1d045f00>"
      ]
     },
     "metadata": {},
     "output_type": "display_data"
    }
   ],
   "source": [
    "filename=\"./llamaindex/MainWorkflow.html\"\n",
    "draw_all_possible_flows(MainWorkflow, filename)\n",
    "display_html(filename)"
   ]
  },
  {
   "cell_type": "markdown",
   "id": "e761bbfa-855b-47cc-84d9-8653460a809a",
   "metadata": {},
   "source": [
    "### ワークフロー実行"
   ]
  },
  {
   "cell_type": "markdown",
   "id": "3478cfda-4051-4cc6-b77c-5443ce06a578",
   "metadata": {},
   "source": [
    "#### DefaultSubflow"
   ]
  },
  {
   "cell_type": "code",
   "execution_count": 62,
   "id": "79baae72-4fbf-4276-a96c-cf27d1d2aacb",
   "metadata": {},
   "outputs": [
    {
     "name": "stdout",
     "output_type": "stream",
     "text": [
      "Running step start\n",
      "Need to run reflection\n",
      "Doing basic reflection\n",
      "Step start produced event Step2Event\n",
      "Running step step_two\n",
      "Query is  Improved query\n",
      "Step step_two produced event StopEvent\n",
      "Improved query\n"
     ]
    }
   ],
   "source": [
    "w = MainWorkflow(timeout=10, verbose=True)\n",
    "result = await w.run(query=\"Initial query\")\n",
    "print(result)"
   ]
  },
  {
   "cell_type": "markdown",
   "id": "edf604a3-704e-4964-9113-bc9f672a707b",
   "metadata": {},
   "source": [
    "#### ReflectionFlow"
   ]
  },
  {
   "cell_type": "code",
   "execution_count": 63,
   "id": "ce14baea-7016-4d91-8e70-fc0f04457c59",
   "metadata": {},
   "outputs": [
    {
     "name": "stdout",
     "output_type": "stream",
     "text": [
      "Running step start\n",
      "Need to run reflection\n",
      "Doing custom reflection\n",
      "Step start produced event Step2Event\n",
      "Running step step_two\n",
      "Query is  Improved query\n",
      "Step step_two produced event StopEvent\n",
      "Improved query\n"
     ]
    }
   ],
   "source": [
    "w = MainWorkflow(timeout=10, verbose=True)\n",
    "w.add_workflows(reflection_workflow=ReflectionFlow())\n",
    "result = await w.run(query=\"Initial query\")\n",
    "print(result)"
   ]
  },
  {
   "cell_type": "markdown",
   "id": "610e4042-2341-4ccd-a978-328d55ca3dbb",
   "metadata": {},
   "source": [
    "### ワークフロー結果の表示"
   ]
  },
  {
   "cell_type": "code",
   "execution_count": 64,
   "id": "98971e59-165e-43b8-975a-ce840178e546",
   "metadata": {},
   "outputs": [
    {
     "name": "stdout",
     "output_type": "stream",
     "text": [
      "./llamaindex/MainWorkflowExec.html\n"
     ]
    },
    {
     "data": {
      "text/html": [
       "\n",
       "        <iframe\n",
       "            width=\"100%\"\n",
       "            height=\"300\"\n",
       "            src=\"./llamaindex/MainWorkflowExec.html\"\n",
       "            frameborder=\"0\"\n",
       "            allowfullscreen\n",
       "            \n",
       "        ></iframe>\n",
       "        "
      ],
      "text/plain": [
       "<IPython.lib.display.IFrame at 0x7fbe1cf52f80>"
      ]
     },
     "metadata": {},
     "output_type": "display_data"
    }
   ],
   "source": [
    "filename=\"./llamaindex/MainWorkflowExec.html\"\n",
    "draw_most_recent_execution(w, filename)\n",
    "display_html(filename)"
   ]
  },
  {
   "cell_type": "markdown",
   "id": "c40a69ed-5802-4fb5-a927-387feec44a89",
   "metadata": {},
   "source": [
    "## 非制限構文"
   ]
  },
  {
   "cell_type": "markdown",
   "id": "5acc5d23-96ba-43c5-9095-9a9cc598c62d",
   "metadata": {},
   "source": [
    "### ワークフロー定義"
   ]
  },
  {
   "cell_type": "code",
   "execution_count": 65,
   "id": "74258d46-2de2-4de6-bdce-3bdc3cfd3d1d",
   "metadata": {},
   "outputs": [],
   "source": [
    "class TestWorkflow(Workflow):\n",
    "    pass\n",
    "\n",
    "@step(workflow=TestWorkflow)\n",
    "def some_step(ev: StartEvent) -> StopEvent:\n",
    "    return StopEvent()"
   ]
  },
  {
   "cell_type": "markdown",
   "id": "ac64d617-b9b4-40e1-be4b-bb4cae9f6b0b",
   "metadata": {},
   "source": [
    "### ワークフロー表示"
   ]
  },
  {
   "cell_type": "code",
   "execution_count": 66,
   "id": "97da2e78-b428-46f9-96d1-d09d2b99cc22",
   "metadata": {},
   "outputs": [
    {
     "name": "stdout",
     "output_type": "stream",
     "text": [
      "<class 'NoneType'>\n",
      "./llamaindex/TestWorkflow.html\n"
     ]
    },
    {
     "data": {
      "text/html": [
       "\n",
       "        <iframe\n",
       "            width=\"100%\"\n",
       "            height=\"300\"\n",
       "            src=\"./llamaindex/TestWorkflow.html\"\n",
       "            frameborder=\"0\"\n",
       "            allowfullscreen\n",
       "            \n",
       "        ></iframe>\n",
       "        "
      ],
      "text/plain": [
       "<IPython.lib.display.IFrame at 0x7fbe1d044a00>"
      ]
     },
     "metadata": {},
     "output_type": "display_data"
    }
   ],
   "source": [
    "filename=\"./llamaindex/TestWorkflow.html\"\n",
    "draw_all_possible_flows(TestWorkflow, filename)\n",
    "display_html(filename)"
   ]
  },
  {
   "cell_type": "markdown",
   "id": "0361abbb-9be5-4d02-9144-add91317bf1e",
   "metadata": {},
   "source": [
    "### ワークフロー実行"
   ]
  },
  {
   "cell_type": "code",
   "execution_count": 67,
   "id": "900cd4e6-0bdb-42fd-8abf-76fad5ed4dce",
   "metadata": {},
   "outputs": [
    {
     "name": "stdout",
     "output_type": "stream",
     "text": [
      "Running step some_step\n",
      "Step some_step produced event StopEvent\n",
      "None\n"
     ]
    }
   ],
   "source": [
    "w = TestWorkflow(timeout=10, verbose=True)\n",
    "result = await w.run(query=\"Some query\")\n",
    "print(result)"
   ]
  },
  {
   "cell_type": "markdown",
   "id": "5925fe22-5937-43cb-b5f1-0d72d2b70daf",
   "metadata": {},
   "source": [
    "### ワークフロー結果の表示"
   ]
  },
  {
   "cell_type": "code",
   "execution_count": 68,
   "id": "8bd2d961-89cd-4d6e-8259-51d6ff330c19",
   "metadata": {},
   "outputs": [
    {
     "name": "stdout",
     "output_type": "stream",
     "text": [
      "./llamaindex/TestWorkflowExec.html\n"
     ]
    },
    {
     "data": {
      "text/html": [
       "\n",
       "        <iframe\n",
       "            width=\"100%\"\n",
       "            height=\"300\"\n",
       "            src=\"./llamaindex/TestWorkflowExec.html\"\n",
       "            frameborder=\"0\"\n",
       "            allowfullscreen\n",
       "            \n",
       "        ></iframe>\n",
       "        "
      ],
      "text/plain": [
       "<IPython.lib.display.IFrame at 0x7fbe1cf50fd0>"
      ]
     },
     "metadata": {},
     "output_type": "display_data"
    }
   ],
   "source": [
    "filename=\"./llamaindex/TestWorkflowExec.html\"\n",
    "draw_most_recent_execution(w, filename)\n",
    "display_html(filename)"
   ]
  },
  {
   "cell_type": "markdown",
   "id": "c79ecd22-fbe5-407b-a0d1-e0250f11c411",
   "metadata": {},
   "source": [
    "## 可観測性"
   ]
  },
  {
   "cell_type": "markdown",
   "id": "d67447c7-1567-45df-83b6-13e937b1aad4",
   "metadata": {},
   "source": [
    "### 視覚化"
   ]
  },
  {
   "cell_type": "markdown",
   "id": "3c5d076d-318d-4ada-bf44-4dd131df8602",
   "metadata": {},
   "source": [
    "#### 定義の視覚化\n",
    "既出の、`draw_all_possible_flows`を参照。"
   ]
  },
  {
   "cell_type": "markdown",
   "id": "68554e82-b007-4a95-81cd-75f8bf1166d4",
   "metadata": {},
   "source": [
    "#### 結果の視覚化\n",
    "既出の、`draw_most_recent_execution`を参照。"
   ]
  },
  {
   "cell_type": "markdown",
   "id": "0e2ad5a9-b3f7-423b-adb1-bae625225550",
   "metadata": {},
   "source": [
    "### 詳細モード\n",
    "既出の、`verbose=True`を参照。"
   ]
  },
  {
   "cell_type": "markdown",
   "id": "d0d83952-cda4-404d-a78a-259326a9621b",
   "metadata": {},
   "source": [
    "### 段階的な実行\n",
    "エラーになる。"
   ]
  },
  {
   "cell_type": "markdown",
   "id": "cf55ecb1-7ce3-4375-bdff-228f8812b4ca",
   "metadata": {},
   "source": [
    "```Python\n",
    "w = ConcurrentFlow2(timeout=10, verbose=True)\n",
    "handler = w.run()\n",
    "\n",
    "while not handler.is_done():\n",
    "    # run_step returns the step's output event\n",
    "    # run_stepはステップの出力イベントを返す\n",
    "    ev = await handler.run_step()\n",
    "    # can make modifications to the results before dispatching the event\n",
    "    # イベントをディスパッチする前に結果を修正できる\n",
    "    #val = ev.get(\"some_key\")\n",
    "    #ev.set(\"some_key\", new_val)\n",
    "    # can also inspect context\n",
    "    # ctxも検査できる\n",
    "    #val = await handler.ctx.get(\"key\")\n",
    "    handler.ctx.send_event(ev)\n",
    "    continue\n",
    "\n",
    "# get the result\n",
    "result = handler.result()\n",
    "```"
   ]
  },
  {
   "cell_type": "markdown",
   "id": "e7fec885-76e3-4fdc-8ae5-63762a6b5500",
   "metadata": {},
   "source": [
    "### チェックポイント\n",
    "エラーになる。"
   ]
  },
  {
   "cell_type": "markdown",
   "id": "f6c2c9b1-bbb3-4e60-9b2a-87b3232a2042",
   "metadata": {},
   "source": [
    "```Python\n",
    "from llama_index.core.workflow.checkpointer import WorkflowCheckpointer\n",
    "\n",
    "w = ConcurrentFlow()\n",
    "w_ckptr = WorkflowCheckpointer(workflow=w)\n",
    "\n",
    "# run the workflow via w_ckptr to get checkpoints\n",
    "handler = w_cptr.run()\n",
    "await handler\n",
    "\n",
    "# view checkpoints of the last run\n",
    "w_ckptr.checkpoints[handler.run_id]\n",
    "\n",
    "# run from a previous ckpt\n",
    "ckpt = w_ckptr.checkpoints[handler.run_id][0]\n",
    "handler = w_ckptr.run_from(checkpoint=ckpt)\n",
    "await handler\n",
    "```"
   ]
  }
 ],
 "metadata": {
  "kernelspec": {
   "display_name": "Python 3 (ipykernel)",
   "language": "python",
   "name": "python3"
  },
  "language_info": {
   "codemirror_mode": {
    "name": "ipython",
    "version": 3
   },
   "file_extension": ".py",
   "mimetype": "text/x-python",
   "name": "python",
   "nbconvert_exporter": "python",
   "pygments_lexer": "ipython3",
   "version": "3.12.3"
  }
 },
 "nbformat": 4,
 "nbformat_minor": 5
}
