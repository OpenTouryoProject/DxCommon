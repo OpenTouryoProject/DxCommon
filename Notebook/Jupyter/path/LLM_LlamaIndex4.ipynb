{
 "cells": [
  {
   "cell_type": "markdown",
   "id": "6a588b2f-aa6c-44dc-9ef4-fbd6061051c6",
   "metadata": {},
   "source": [
    "# LlamaIndexでWorkflows"
   ]
  },
  {
   "cell_type": "markdown",
   "id": "d2a79c5e-15d5-465c-b9f5-6283775d97de",
   "metadata": {},
   "source": [
    "## 目次\n",
    "- [概要](#概要)\n",
    "- [参考](#参考)\n",
    "- [チェック](#チェック)\n",
    "- [準備](#準備)\n",
    "- [最も簡単なエージェント](#最も簡単なエージェント)\n",
    "- [エージェントにRAGを追加する](#エージェントにRAGを追加する)"
   ]
  },
  {
   "cell_type": "markdown",
   "id": "d019bec2-7b0b-41bb-95c3-f735a91fe213",
   "metadata": {},
   "source": [
    "## 概要\n",
    "- LlamaIndex（公式）をトレースして基本的な利用方法を確認する。\n",
    "- 破壊的に変更が発生するまで使えるでしょう。\n",
    "- 破壊的に変更が発生後は、公式サイトの当該バージョンの情報（≒一次情報）をあたって。"
   ]
  },
  {
   "cell_type": "markdown",
   "id": "70ab5958-4219-4f63-a243-b5590119a676",
   "metadata": {},
   "source": [
    "## 参考"
   ]
  },
  {
   "cell_type": "markdown",
   "id": "4915e0c1-5cba-4407-bae8-6481179a3f69",
   "metadata": {},
   "source": [
    "LlamaIndex - .NET 開発基盤部会 Wiki  \n",
    "https://dotnetdevelopmentinfrastructure.osscons.jp/index.php?LlamaIndex"
   ]
  },
  {
   "cell_type": "markdown",
   "id": "d0387006-4f25-4817-a3b1-d05e56305c57",
   "metadata": {},
   "source": [
    "## チェック"
   ]
  },
  {
   "cell_type": "code",
   "execution_count": 1,
   "id": "729cb641-a9ac-4b7c-ac1f-9b69d031bd97",
   "metadata": {},
   "outputs": [],
   "source": [
    "#!pip list"
   ]
  },
  {
   "cell_type": "code",
   "execution_count": 2,
   "id": "5c57768c-0bc1-4cc8-95a2-9cd89443fa14",
   "metadata": {},
   "outputs": [],
   "source": [
    "#%env"
   ]
  },
  {
   "cell_type": "markdown",
   "id": "c4f2edb3-9da5-4da5-8394-09d722c39632",
   "metadata": {},
   "source": [
    "## 準備"
   ]
  },
  {
   "cell_type": "markdown",
   "id": "2fdc930c-3415-47a6-85c5-ce1c7ad6af76",
   "metadata": {},
   "source": [
    "### インストレーション"
   ]
  },
  {
   "cell_type": "markdown",
   "id": "ff9b0bf4-44b6-4904-9098-e9123717fa47",
   "metadata": {},
   "source": [
    "```Python\n",
    "!pip install llama-index-utils-workflow\n",
    "```"
   ]
  },
  {
   "cell_type": "markdown",
   "id": "be61aa29-3f93-4d47-8a85-d9d125d893ad",
   "metadata": {},
   "source": [
    "### ライブラリ読み込み"
   ]
  },
  {
   "cell_type": "code",
   "execution_count": 3,
   "id": "dacc4e79-53bb-4d2c-97df-3e80238f9b14",
   "metadata": {},
   "outputs": [],
   "source": [
    "from llama_index.core.workflow import (\n",
    "    Workflow,\n",
    "    step,\n",
    "    Event,\n",
    "    StartEvent,\n",
    "    StopEvent,\n",
    "    Context,\n",
    ")\n",
    "from llama_index.utils.workflow import draw_all_possible_flows"
   ]
  },
  {
   "cell_type": "code",
   "execution_count": 4,
   "id": "090764b9-b2cb-4f18-962b-549553effdd2",
   "metadata": {},
   "outputs": [],
   "source": [
    "from IPython.display import IFrame, display\n",
    "\n",
    "def display_html(file_path = \"example.html\"):\n",
    "    with open(file_path, 'r', encoding='utf-8') as file:\n",
    "        html_content = file.read()\n",
    "    display(IFrame(file_path, width=\"100%\", height=\"300\"))"
   ]
  },
  {
   "cell_type": "markdown",
   "id": "afe3561b-3355-42dc-9fa0-fcb1ff6f3067",
   "metadata": {},
   "source": [
    "### LLMの設定"
   ]
  },
  {
   "cell_type": "markdown",
   "id": "8ea6ebe1-7432-442e-9262-9c3adabbb4a2",
   "metadata": {},
   "source": [
    "#### OpenAI"
   ]
  },
  {
   "cell_type": "code",
   "execution_count": 5,
   "id": "81f2b1f1-dd73-430b-aaba-c28dc57ab2cc",
   "metadata": {},
   "outputs": [],
   "source": [
    "from llama_index.llms.openai import OpenAI\n",
    "#llm = OpenAI(model=\"gpt-3.5-turbo\", temperature=0)"
   ]
  },
  {
   "cell_type": "markdown",
   "id": "d07a3b37-e35c-4f7c-9285-f8b807648930",
   "metadata": {},
   "source": [
    "#### Ollama"
   ]
  },
  {
   "cell_type": "code",
   "execution_count": 6,
   "id": "6d068655-a511-434d-bf28-ff74f184177c",
   "metadata": {},
   "outputs": [],
   "source": [
    "from llama_index.llms.ollama import Ollama\n",
    "#llm = Ollama(model=\"Llama3\", temperature=0, request_timeout=360.0)"
   ]
  },
  {
   "cell_type": "markdown",
   "id": "a413baeb-c61c-4b16-b4b1-675bff5cb461",
   "metadata": {},
   "source": [
    "## シングルステップ"
   ]
  },
  {
   "cell_type": "markdown",
   "id": "68bc4a64-4de7-48b5-a956-6b755c0aceec",
   "metadata": {},
   "source": [
    "### ワークフロー定義"
   ]
  },
  {
   "cell_type": "code",
   "execution_count": 7,
   "id": "39e66dd7-35a0-4d30-811e-4976a3020853",
   "metadata": {},
   "outputs": [],
   "source": [
    "class MyWorkflow(Workflow):\n",
    "    @step\n",
    "    async def my_step(self, ev: StartEvent) -> StopEvent:\n",
    "        # do something here\n",
    "        return StopEvent(result=\"Hello, world!\")"
   ]
  },
  {
   "cell_type": "markdown",
   "id": "06b454ab-b928-4be6-b114-5d3aa7dc6160",
   "metadata": {},
   "source": [
    "### ワークフロー実行"
   ]
  },
  {
   "cell_type": "code",
   "execution_count": 8,
   "id": "1d2d090f-9a65-4dbf-a7c7-8287621b5775",
   "metadata": {},
   "outputs": [
    {
     "name": "stdout",
     "output_type": "stream",
     "text": [
      "Hello, world!\n"
     ]
    }
   ],
   "source": [
    "w = MyWorkflow(timeout=10, verbose=False)\n",
    "result = await w.run()\n",
    "print(result)"
   ]
  },
  {
   "cell_type": "markdown",
   "id": "e577e2eb-9c6a-44b4-8793-e64561704344",
   "metadata": {},
   "source": [
    "## ループと分岐"
   ]
  },
  {
   "cell_type": "markdown",
   "id": "cec9dadc-c132-4a8a-9b8c-f4841504ac16",
   "metadata": {},
   "source": [
    "### ループ"
   ]
  },
  {
   "cell_type": "markdown",
   "id": "1af1ccd8-7153-422b-b4a0-58edebf97504",
   "metadata": {},
   "source": [
    "#### カスタム・イベント"
   ]
  },
  {
   "cell_type": "code",
   "execution_count": 9,
   "id": "987f8f46-a60a-4146-baea-39a125d3425b",
   "metadata": {},
   "outputs": [],
   "source": [
    "class LoopEvent(Event):\n",
    "    loop_output: str\n",
    "class FirstEvent(Event):\n",
    "    first_output: str"
   ]
  },
  {
   "cell_type": "markdown",
   "id": "ddc1f7f1-1c19-4260-8db7-60723b0466ef",
   "metadata": {},
   "source": [
    "#### ワークフロー定義"
   ]
  },
  {
   "cell_type": "code",
   "execution_count": 10,
   "id": "d04d5b1d-ae5e-43b3-9bc3-ce77f336cf00",
   "metadata": {},
   "outputs": [],
   "source": [
    "import random\n",
    "\n",
    "class LoopWorkflow(Workflow):\n",
    "    @step\n",
    "    async def step_one(self, ev: StartEvent | LoopEvent) -> FirstEvent | LoopEvent:\n",
    "        if random.randint(0, 1) == 0:\n",
    "            print(\"Bad thing happened\")\n",
    "            return LoopEvent(loop_output=\"Back to step one.\")\n",
    "        else:\n",
    "            print(\"Good thing happened\")\n",
    "            return FirstEvent(first_output=\"First step complete.\")\n",
    "\n",
    "    @step\n",
    "    async def first_step(self, ev: FirstEvent) -> StopEvent:\n",
    "        # do something here\n",
    "        return StopEvent(result=\"Hello, world!\")"
   ]
  },
  {
   "cell_type": "markdown",
   "id": "933abaa4-9140-4747-9c80-367a63aeadb6",
   "metadata": {},
   "source": [
    "#### ワークフロー表示"
   ]
  },
  {
   "cell_type": "code",
   "execution_count": 11,
   "id": "d974465c-9426-49cd-89ba-bc664b9f569b",
   "metadata": {},
   "outputs": [
    {
     "name": "stdout",
     "output_type": "stream",
     "text": [
      "<class 'NoneType'>\n",
      "<class 'llama_index.core.workflow.events.StopEvent'>\n",
      "<class '__main__.FirstEvent'>\n",
      "<class '__main__.LoopEvent'>\n",
      "./llamaindex/LoopWorkflow.html\n"
     ]
    },
    {
     "data": {
      "text/html": [
       "\n",
       "        <iframe\n",
       "            width=\"100%\"\n",
       "            height=\"300\"\n",
       "            src=\"./llamaindex/LoopWorkflow.html\"\n",
       "            frameborder=\"0\"\n",
       "            allowfullscreen\n",
       "            \n",
       "        ></iframe>\n",
       "        "
      ],
      "text/plain": [
       "<IPython.lib.display.IFrame at 0x7ff9e5211870>"
      ]
     },
     "metadata": {},
     "output_type": "display_data"
    }
   ],
   "source": [
    "filename=\"./llamaindex/LoopWorkflow.html\"\n",
    "draw_all_possible_flows(LoopWorkflow, filename)\n",
    "display_html(filename)"
   ]
  },
  {
   "cell_type": "markdown",
   "id": "ac77a02e-17dd-4508-bd04-4bc0ef5c3288",
   "metadata": {},
   "source": [
    "#### ワークフロー実行"
   ]
  },
  {
   "cell_type": "code",
   "execution_count": 12,
   "id": "6f539ee5-0074-4fc8-a640-90562797e5b5",
   "metadata": {},
   "outputs": [
    {
     "name": "stdout",
     "output_type": "stream",
     "text": [
      "Good thing happened\n",
      "Hello, world!\n"
     ]
    }
   ],
   "source": [
    "w = LoopWorkflow()\n",
    "result = await w.run()\n",
    "print(result)"
   ]
  },
  {
   "cell_type": "markdown",
   "id": "c7db48b6-b34d-45a9-8bd3-88ec35ba8f47",
   "metadata": {},
   "source": [
    "### 分岐"
   ]
  },
  {
   "cell_type": "markdown",
   "id": "ad52c64f-0e35-4caa-94c0-24a1e82b5465",
   "metadata": {},
   "source": [
    "#### カスタム・イベント"
   ]
  },
  {
   "cell_type": "code",
   "execution_count": 13,
   "id": "872acaa8-4852-4c80-86af-6844217af5f1",
   "metadata": {},
   "outputs": [],
   "source": [
    "class BranchA1Event(Event):\n",
    "    payload: str\n",
    "class BranchA2Event(Event):\n",
    "    payload: str\n",
    "class BranchB1Event(Event):\n",
    "    payload: str\n",
    "class BranchB2Event(Event):\n",
    "    payload: str"
   ]
  },
  {
   "cell_type": "markdown",
   "id": "99df24bb-e079-4a3f-b986-d62fead342c4",
   "metadata": {},
   "source": [
    "#### ワークフロー定義"
   ]
  },
  {
   "cell_type": "code",
   "execution_count": 14,
   "id": "b2ab21bf-5228-4614-bc26-26046614f521",
   "metadata": {},
   "outputs": [],
   "source": [
    "import random\n",
    "\n",
    "class BranchWorkflow(Workflow):\n",
    "    @step\n",
    "    async def start(self, ev: StartEvent) -> BranchA1Event | BranchB1Event:\n",
    "        if random.randint(0, 1) == 0:\n",
    "            print(\"Go to branch A\")\n",
    "            return BranchA1Event(payload=\"Branch A\")\n",
    "        else:\n",
    "            print(\"Go to branch B\")\n",
    "            return BranchB1Event(payload=\"Branch B\")\n",
    "\n",
    "    @step\n",
    "    async def step_a1(self, ev: BranchA1Event) -> BranchA2Event:\n",
    "        print(ev.payload)\n",
    "        return BranchA2Event(payload=ev.payload)\n",
    "\n",
    "    @step\n",
    "    async def step_b1(self, ev: BranchB1Event) -> BranchB2Event:\n",
    "        print(ev.payload)\n",
    "        return BranchB2Event(payload=ev.payload)\n",
    "\n",
    "    @step\n",
    "    async def step_a2(self, ev: BranchA2Event) -> StopEvent:\n",
    "        print(ev.payload)\n",
    "        return StopEvent(result=\"Branch A complete.\")\n",
    "\n",
    "    @step\n",
    "    async def step_b2(self, ev: BranchB2Event) -> StopEvent:\n",
    "        print(ev.payload)\n",
    "        return StopEvent(result=\"Branch B complete.\")"
   ]
  },
  {
   "cell_type": "markdown",
   "id": "2e749cb9-5690-4bd3-9236-f3f93059142f",
   "metadata": {},
   "source": [
    "#### ワークフロー表示"
   ]
  },
  {
   "cell_type": "code",
   "execution_count": 15,
   "id": "2f97a6a6-0467-4e6a-a0d8-7067e3858b17",
   "metadata": {},
   "outputs": [
    {
     "name": "stdout",
     "output_type": "stream",
     "text": [
      "<class 'NoneType'>\n",
      "<class '__main__.BranchA1Event'>\n",
      "<class '__main__.BranchB1Event'>\n",
      "<class '__main__.BranchA2Event'>\n",
      "<class 'llama_index.core.workflow.events.StopEvent'>\n",
      "<class '__main__.BranchB2Event'>\n",
      "<class 'llama_index.core.workflow.events.StopEvent'>\n",
      "./llamaindex/BranchWorkflow.html\n"
     ]
    },
    {
     "data": {
      "text/html": [
       "\n",
       "        <iframe\n",
       "            width=\"100%\"\n",
       "            height=\"300\"\n",
       "            src=\"./llamaindex/BranchWorkflow.html\"\n",
       "            frameborder=\"0\"\n",
       "            allowfullscreen\n",
       "            \n",
       "        ></iframe>\n",
       "        "
      ],
      "text/plain": [
       "<IPython.lib.display.IFrame at 0x7ff9e5a63400>"
      ]
     },
     "metadata": {},
     "output_type": "display_data"
    }
   ],
   "source": [
    "filename=\"./llamaindex/BranchWorkflow.html\"\n",
    "draw_all_possible_flows(BranchWorkflow, filename)\n",
    "display_html(filename)"
   ]
  },
  {
   "cell_type": "markdown",
   "id": "4003a41e-9133-4456-bd06-b131088e672f",
   "metadata": {},
   "source": [
    "#### ワークフロー実行"
   ]
  },
  {
   "cell_type": "code",
   "execution_count": 16,
   "id": "658c0ec3-6e76-410f-a51b-d774173ed535",
   "metadata": {},
   "outputs": [
    {
     "name": "stdout",
     "output_type": "stream",
     "text": [
      "Go to branch A\n",
      "Branch A\n",
      "Branch A\n",
      "Branch A complete.\n"
     ]
    }
   ],
   "source": [
    "w = BranchWorkflow()\n",
    "result = await w.run()\n",
    "print(result)"
   ]
  },
  {
   "cell_type": "markdown",
   "id": "31ac7142-bf74-40cc-86ba-d9d696e25fd7",
   "metadata": {},
   "source": [
    "#### カスタム・イベント"
   ]
  },
  {
   "cell_type": "code",
   "execution_count": 17,
   "id": "eb970713-6b57-4a43-aefa-4f0d17515346",
   "metadata": {},
   "outputs": [],
   "source": [
    "class SetupEvent(Event):\n",
    "    query: str\n",
    "class StepTwoEvent(Event):\n",
    "    query: str"
   ]
  },
  {
   "cell_type": "markdown",
   "id": "ad099b53-4d04-46f5-8890-a53c183e30f4",
   "metadata": {},
   "source": [
    "#### ワークフロー定義"
   ]
  },
  {
   "cell_type": "code",
   "execution_count": 18,
   "id": "c6699c82-6d37-4723-8e01-dc864a9ddafe",
   "metadata": {},
   "outputs": [],
   "source": [
    "class StatefulFlow(Workflow):\n",
    "    @step\n",
    "    async def setup(self, ctx: Context, ev: SetupEvent) -> StartEvent:\n",
    "        # load data\n",
    "        await ctx.set(\"some_database\", [1, 2, 3])\n",
    "        return StartEvent(query=ev.query)\n",
    "\n",
    "    @step\n",
    "    async def start(self, ctx: Context, ev: StartEvent) -> SetupEvent | StepTwoEvent:\n",
    "        db = await ctx.get(\"some_database\", default=None)\n",
    "        if db is None:\n",
    "            print(\"Need to load data\")\n",
    "            return SetupEvent(query=ev.query)\n",
    "\n",
    "        # do something with the query\n",
    "        return StepTwoEvent(query=ev.query)\n",
    "\n",
    "    @step\n",
    "    async def step_two(self, ctx: Context, ev: StepTwoEvent) -> StopEvent:\n",
    "        # do something with the data\n",
    "        print(\"Data is \", await ctx.get(\"some_database\"))\n",
    "    \n",
    "        return StopEvent(result=await ctx.get(\"some_database\"))"
   ]
  },
  {
   "cell_type": "markdown",
   "id": "23bf8db2-b20d-4a44-9949-9c6bbaf2c0fc",
   "metadata": {},
   "source": [
    "#### ワークフロー表示"
   ]
  },
  {
   "cell_type": "code",
   "execution_count": 19,
   "id": "c241cb1a-65a3-46bd-b692-2e5bb97ef3ec",
   "metadata": {},
   "outputs": [
    {
     "name": "stdout",
     "output_type": "stream",
     "text": [
      "<class 'NoneType'>\n",
      "<class 'llama_index.core.workflow.events.StartEvent'>\n",
      "<class '__main__.SetupEvent'>\n",
      "<class '__main__.StepTwoEvent'>\n",
      "<class 'llama_index.core.workflow.events.StopEvent'>\n",
      "./llamaindex/StatefulFlow.html\n"
     ]
    },
    {
     "data": {
      "text/html": [
       "\n",
       "        <iframe\n",
       "            width=\"100%\"\n",
       "            height=\"300\"\n",
       "            src=\"./llamaindex/StatefulFlow.html\"\n",
       "            frameborder=\"0\"\n",
       "            allowfullscreen\n",
       "            \n",
       "        ></iframe>\n",
       "        "
      ],
      "text/plain": [
       "<IPython.lib.display.IFrame at 0x7ff9e524aa40>"
      ]
     },
     "metadata": {},
     "output_type": "display_data"
    }
   ],
   "source": [
    "filename=\"./llamaindex/StatefulFlow.html\"\n",
    "draw_all_possible_flows(StatefulFlow, filename)\n",
    "display_html(filename)"
   ]
  },
  {
   "cell_type": "markdown",
   "id": "2ee04be2-cc92-4101-9dda-3cf0001ca088",
   "metadata": {},
   "source": [
    "#### ワークフロー実行"
   ]
  },
  {
   "cell_type": "code",
   "execution_count": 20,
   "id": "f406b7e0-4d5c-4245-b729-c2c0d42266bb",
   "metadata": {},
   "outputs": [
    {
     "name": "stdout",
     "output_type": "stream",
     "text": [
      "Need to load data\n",
      "Data is  [1, 2, 3]\n",
      "[1, 2, 3]\n"
     ]
    }
   ],
   "source": [
    "w = StatefulFlow(timeout=10, verbose=False)\n",
    "result = await w.run(query=\"Some query\")\n",
    "print(result)"
   ]
  },
  {
   "cell_type": "markdown",
   "id": "14fdeb08-9e8a-4bd9-978a-2a0e7e44d451",
   "metadata": {},
   "source": [
    "### ストリーミングイベント"
   ]
  },
  {
   "cell_type": "code",
   "execution_count": 21,
   "id": "64a529d6-8697-41fd-b477-054f59d13950",
   "metadata": {},
   "outputs": [],
   "source": [
    "import asyncio"
   ]
  },
  {
   "cell_type": "markdown",
   "id": "d398c8ba-f64c-4b12-9dbf-adb87e6f4828",
   "metadata": {},
   "source": [
    "#### カスタム・イベント"
   ]
  },
  {
   "cell_type": "code",
   "execution_count": 22,
   "id": "afd65e69-08e5-4614-8a6f-3569d525b494",
   "metadata": {},
   "outputs": [],
   "source": [
    "class FirstEvent(Event):\n",
    "    first_output: str\n",
    "class SecondEvent(Event):\n",
    "    second_output: str\n",
    "    response: str\n",
    "class ProgressEvent(Event):\n",
    "    msg: str"
   ]
  },
  {
   "cell_type": "markdown",
   "id": "c04ec4f9-a760-44b4-a9a0-8b3475f46885",
   "metadata": {},
   "source": [
    "#### ワークフロー定義"
   ]
  },
  {
   "cell_type": "code",
   "execution_count": 23,
   "id": "c6112b3e-d57c-4d44-9549-e06b7dfd1c53",
   "metadata": {},
   "outputs": [],
   "source": [
    "class StreamingWorkflow(Workflow):\n",
    "    @step\n",
    "    async def step_one(self, ctx: Context, ev: StartEvent) -> FirstEvent:\n",
    "        ctx.write_event_to_stream(ProgressEvent(msg=\"Step one is happening\"))\n",
    "        return FirstEvent(first_output=\"First step complete.\")\n",
    "\n",
    "    @step\n",
    "    async def step_two(self, ctx: Context, ev: FirstEvent) -> SecondEvent:\n",
    "        llm = OpenAI(model=\"gpt-3.5-turbo\", temperature=0)\n",
    "        generator = await llm.astream_complete(\n",
    "            \"Please give me the first 3 paragraphs of Moby Dick, a book in the public domain.\"\n",
    "        )\n",
    "        async for response in generator:\n",
    "            # Allow the workflow to stream this piece of response\n",
    "            ctx.write_event_to_stream(ProgressEvent(msg=response.delta))\n",
    "        return SecondEvent(\n",
    "            second_output=\"Second step complete, full response attached\",\n",
    "            response=str(response),\n",
    "        )\n",
    "\n",
    "    @step\n",
    "    async def step_three(self, ctx: Context, ev: SecondEvent) -> StopEvent:\n",
    "        ctx.write_event_to_stream(ProgressEvent(msg=\"Step three is happening\"))\n",
    "        return StopEvent(result=\"Workflow complete.\")"
   ]
  },
  {
   "cell_type": "markdown",
   "id": "765cd995-b6a7-4757-9745-4de426c2a48c",
   "metadata": {},
   "source": [
    "#### ワークフロー表示"
   ]
  },
  {
   "cell_type": "code",
   "execution_count": 24,
   "id": "964cdfdc-0930-4999-a7a4-f7ac7a83789e",
   "metadata": {},
   "outputs": [
    {
     "name": "stdout",
     "output_type": "stream",
     "text": [
      "<class 'NoneType'>\n",
      "<class 'llama_index.core.workflow.events.StartEvent'>\n",
      "<class '__main__.SetupEvent'>\n",
      "<class '__main__.StepTwoEvent'>\n",
      "<class 'llama_index.core.workflow.events.StopEvent'>\n",
      "./llamaindex/StreamingWorkflow.html\n"
     ]
    },
    {
     "data": {
      "text/html": [
       "\n",
       "        <iframe\n",
       "            width=\"100%\"\n",
       "            height=\"300\"\n",
       "            src=\"./llamaindex/StreamingWorkflow.html\"\n",
       "            frameborder=\"0\"\n",
       "            allowfullscreen\n",
       "            \n",
       "        ></iframe>\n",
       "        "
      ],
      "text/plain": [
       "<IPython.lib.display.IFrame at 0x7ff9e5257ca0>"
      ]
     },
     "metadata": {},
     "output_type": "display_data"
    }
   ],
   "source": [
    "filename=\"./llamaindex/StreamingWorkflow.html\"\n",
    "draw_all_possible_flows(StatefulFlow, filename)\n",
    "display_html(filename)"
   ]
  },
  {
   "cell_type": "markdown",
   "id": "7b83b65d-ceec-448a-a7b1-b8cf38ecc1d3",
   "metadata": {},
   "source": [
    "#### ワークフロー実行"
   ]
  },
  {
   "cell_type": "markdown",
   "id": "bd6c35c6-9d8e-4a84-9d93-3738f109b0a0",
   "metadata": {},
   "source": [
    "##### 非同期関数を定義"
   ]
  },
  {
   "cell_type": "code",
   "execution_count": 25,
   "id": "c9897c07-3247-4895-8dbb-bea08649ef18",
   "metadata": {},
   "outputs": [],
   "source": [
    "async def main():\n",
    "    w = StreamingWorkflow(timeout=30, verbose=True)\n",
    "    handler = w.run(first_input=\"Start the workflow.\")\n",
    "\n",
    "    async for ev in handler.stream_events():\n",
    "        if isinstance(ev, ProgressEvent):\n",
    "            print(ev.msg)\n",
    "\n",
    "    final_result = await handler\n",
    "    print(\"Final result\", final_result)"
   ]
  },
  {
   "cell_type": "markdown",
   "id": "3bc0532c-1362-4b81-bba6-bf8c78a84ee0",
   "metadata": {},
   "source": [
    "##### Pythonのバージョン次第で実行方法方が違う"
   ]
  },
  {
   "cell_type": "code",
   "execution_count": 26,
   "id": "94799bcb-a23c-483e-9b95-cbf032bbd84c",
   "metadata": {},
   "outputs": [
    {
     "name": "stdout",
     "output_type": "stream",
     "text": [
      "Python 3.10.12\n"
     ]
    }
   ],
   "source": [
    "!python3 -V"
   ]
  },
  {
   "cell_type": "code",
   "execution_count": 27,
   "id": "95124111-5930-4523-86ac-b15f66a69747",
   "metadata": {},
   "outputs": [
    {
     "name": "stdout",
     "output_type": "stream",
     "text": [
      "Selected Jupyter core packages...\n",
      "IPython          : 8.29.0\n",
      "ipykernel        : 6.29.5\n",
      "ipywidgets       : not installed\n",
      "jupyter_client   : 8.6.3\n",
      "jupyter_core     : 5.7.2\n",
      "jupyter_server   : 2.14.2\n",
      "jupyterlab       : 4.3.1\n",
      "nbclient         : 0.10.0\n",
      "nbconvert        : 7.16.4\n",
      "nbformat         : 5.10.4\n",
      "notebook         : not installed\n",
      "qtconsole        : not installed\n",
      "traitlets        : 5.14.3\n"
     ]
    }
   ],
   "source": [
    "!jupyter --version"
   ]
  },
  {
   "cell_type": "markdown",
   "id": "5907ef50-4ffb-4598-a699-4460df7c0f36",
   "metadata": {},
   "source": [
    "##### 非同期関数の実行"
   ]
  },
  {
   "cell_type": "code",
   "execution_count": 28,
   "id": "61b4403e-01d6-40da-8ae5-0323e5d69611",
   "metadata": {},
   "outputs": [
    {
     "name": "stdout",
     "output_type": "stream",
     "text": [
      "Running step step_one\n",
      "Step step_one produced event FirstEvent\n",
      "Running step step_two\n",
      "Step one is happening\n",
      "\n",
      "Sure\n",
      ",\n",
      " here\n",
      " are\n",
      " the\n",
      " first\n",
      " \n",
      "3\n",
      " paragraphs\n",
      " of\n",
      " M\n",
      "oby\n",
      " Dick\n",
      " by\n",
      " Herman\n",
      " Mel\n",
      "ville\n",
      ":\n",
      "\n",
      "\n",
      "\"\n",
      "Call\n",
      " me\n",
      " Ish\n",
      "ma\n",
      "el\n",
      ".\n",
      " Some\n",
      " years\n",
      " ago\n",
      "—\n",
      "never\n",
      " mind\n",
      " how\n",
      " long\n",
      " precisely\n",
      "—\n",
      "having\n",
      " little\n",
      " or\n",
      " no\n",
      " money\n",
      " in\n",
      " my\n",
      " purse\n",
      ",\n",
      " and\n",
      " nothing\n",
      " particular\n",
      " to\n",
      " interest\n",
      " me\n",
      " on\n",
      " shore\n",
      ",\n",
      " I\n",
      " thought\n",
      " I\n",
      " would\n",
      " sail\n",
      " about\n",
      " a\n",
      " little\n",
      " and\n",
      " see\n",
      " the\n",
      " wat\n",
      "ery\n",
      " part\n",
      " of\n",
      " the\n",
      " world\n",
      ".\n",
      " It\n",
      " is\n",
      " a\n",
      " way\n",
      " I\n",
      " have\n",
      " of\n",
      " driving\n",
      " off\n",
      " the\n",
      " sple\n",
      "en\n",
      " and\n",
      " regulating\n",
      " the\n",
      " circulation\n",
      ".\n",
      " Whenever\n",
      " I\n",
      " find\n",
      " myself\n",
      " growing\n",
      " grim\n",
      " about\n",
      " the\n",
      " mouth\n",
      ";\n",
      " whenever\n",
      " it\n",
      " is\n",
      " a\n",
      " damp\n",
      ",\n",
      " dr\n",
      "izzly\n",
      " November\n",
      " in\n",
      " my\n",
      " soul\n",
      ";\n",
      " whenever\n",
      " I\n",
      " find\n",
      " myself\n",
      " invol\n",
      "unt\n",
      "arily\n",
      " pa\n",
      "using\n",
      " before\n",
      " coffin\n",
      " warehouses\n",
      ",\n",
      " and\n",
      " bringing\n",
      " up\n",
      " the\n",
      " rear\n",
      " of\n",
      " every\n",
      " funeral\n",
      " I\n",
      " meet\n",
      ";\n",
      " and\n",
      " especially\n",
      " whenever\n",
      " my\n",
      " hy\n",
      "pos\n",
      " get\n",
      " such\n",
      " an\n",
      " upper\n",
      " hand\n",
      " of\n",
      " me\n",
      ",\n",
      " that\n",
      " it\n",
      " requires\n",
      " a\n",
      " strong\n",
      " moral\n",
      " principle\n",
      " to\n",
      " prevent\n",
      " me\n",
      " from\n",
      " deliberately\n",
      " stepping\n",
      " into\n",
      " the\n",
      " street\n",
      ",\n",
      " and\n",
      " method\n",
      "ically\n",
      " knocking\n",
      " people\n",
      "’s\n",
      " hats\n",
      " off\n",
      "—\n",
      "then\n",
      ",\n",
      " I\n",
      " account\n",
      " it\n",
      " high\n",
      " time\n",
      " to\n",
      " get\n",
      " to\n",
      " sea\n",
      " as\n",
      " soon\n",
      " as\n",
      " I\n",
      " can\n",
      ".\n",
      " This\n",
      " is\n",
      " my\n",
      " substitute\n",
      " for\n",
      " pistol\n",
      " and\n",
      " ball\n",
      ".\n",
      " With\n",
      " a\n",
      " philosophical\n",
      " flourish\n",
      " C\n",
      "ato\n",
      " throws\n",
      " himself\n",
      " upon\n",
      " his\n",
      " sword\n",
      ";\n",
      " I\n",
      " quietly\n",
      " take\n",
      " to\n",
      " the\n",
      " ship\n",
      ".\"\n",
      "\n",
      "\n",
      "\"There\n",
      " is\n",
      " nothing\n",
      " surprising\n",
      " in\n",
      " this\n",
      ".\n",
      " If\n",
      " they\n",
      " but\n",
      " knew\n",
      " it\n",
      ",\n",
      " almost\n",
      " all\n",
      " men\n",
      " in\n",
      " their\n",
      " degree\n",
      ",\n",
      " some\n",
      " time\n",
      " or\n",
      " other\n",
      ",\n",
      " cherish\n",
      " very\n",
      " nearly\n",
      " the\n",
      " same\n",
      " feelings\n",
      " towards\n",
      " the\n",
      " ocean\n",
      " with\n",
      " me\n",
      ".\n",
      " There\n",
      " now\n",
      " is\n",
      " your\n",
      " ins\n",
      "ular\n",
      " city\n",
      " of\n",
      " the\n",
      " Man\n",
      "hat\n",
      "to\n",
      "es\n",
      ",\n",
      " bel\n",
      "ted\n",
      " round\n",
      " by\n",
      " wh\n",
      "ar\n",
      "ves\n",
      " as\n",
      " Indian\n",
      " is\n",
      "les\n",
      " by\n",
      " coral\n",
      " reefs\n",
      "—\n",
      "commerce\n",
      " surrounds\n",
      " it\n",
      " with\n",
      " her\n",
      " surf\n",
      ".\n",
      " Right\n",
      " and\n",
      " left\n",
      ",\n",
      " the\n",
      " streets\n",
      " take\n",
      " you\n",
      " water\n",
      "ward\n",
      ".\n",
      " Its\n",
      " extreme\n",
      " downtown\n",
      " is\n",
      " the\n",
      " battery\n",
      ",\n",
      " where\n",
      " that\n",
      " noble\n",
      " mole\n",
      " is\n",
      " washed\n",
      " by\n",
      " waves\n",
      ",\n",
      " and\n",
      " cooled\n",
      " by\n",
      " bree\n",
      "zes\n",
      ",\n",
      " which\n",
      " a\n",
      " few\n",
      " hours\n",
      " previous\n",
      " were\n",
      " out\n",
      " of\n",
      " sight\n",
      " of\n",
      " land\n",
      ".\n",
      " Look\n",
      " at\n",
      " the\n",
      " crowds\n",
      " of\n",
      " water\n",
      "-g\n",
      "azers\n",
      " there\n",
      ".\"\n",
      "\n",
      "\n",
      "\"C\n",
      "irc\n",
      "um\n",
      "amb\n",
      "ulate\n",
      " the\n",
      " city\n",
      " of\n",
      " a\n",
      " dream\n",
      "y\n",
      " Sabbath\n",
      " afternoon\n",
      ".\n",
      " Go\n",
      " from\n",
      " Cor\n",
      "lear\n",
      "s\n",
      " Hook\n",
      " to\n",
      " Co\n",
      "enties\n",
      " Slip\n",
      ",\n",
      " and\n",
      " from\n",
      " th\n",
      "ence\n",
      ",\n",
      " by\n",
      " White\n",
      "hall\n",
      ",\n",
      " north\n",
      "ward\n",
      ".\n",
      " What\n",
      " do\n",
      " you\n",
      " see\n",
      "?\n",
      "—\n",
      "Posted\n",
      " like\n",
      " silent\n",
      " sent\n",
      "in\n",
      "els\n",
      " all\n",
      " around\n",
      " the\n",
      " town\n",
      ",\n",
      " stand\n",
      " thousands\n",
      " upon\n",
      " thousands\n",
      " of\n",
      " mortal\n",
      " men\n",
      " fixed\n",
      " in\n",
      " ocean\n",
      " rever\n",
      "ies\n",
      ".\n",
      " Some\n",
      " leaning\n",
      " against\n",
      " the\n",
      " sp\n",
      "iles\n",
      ";\n",
      " some\n",
      " seated\n",
      " upon\n",
      " the\n",
      " pier\n",
      "-head\n",
      "s\n",
      ";\n",
      " some\n",
      " looking\n",
      " over\n",
      " the\n",
      " bul\n",
      "w\n",
      "arks\n",
      " of\n",
      " ships\n",
      " from\n",
      " China\n",
      ";\n",
      " some\n",
      " high\n",
      " alo\n",
      "ft\n",
      " in\n",
      " the\n",
      " rig\n",
      "ging\n",
      ",\n",
      " as\n",
      " if\n",
      " striving\n",
      " to\n",
      " get\n",
      " a\n",
      " still\n",
      " better\n",
      " seaw\n",
      "ard\n",
      " pe\n",
      "ep\n",
      ".\n",
      " But\n",
      " these\n",
      " are\n",
      " all\n",
      " lands\n",
      "men\n",
      ";\n",
      " of\n",
      " week\n",
      " days\n",
      " pent\n",
      " up\n",
      " in\n",
      " l\n",
      "ath\n",
      " and\n",
      " plaster\n",
      "—\n",
      "t\n",
      "ied\n",
      " to\n",
      " counters\n",
      ",\n",
      " nailed\n",
      " to\n",
      " benches\n",
      ",\n",
      " clin\n",
      "ched\n",
      " to\n",
      " desks\n",
      ".\n",
      " How\n",
      " then\n",
      " is\n",
      " this\n",
      "?\n",
      " Are\n",
      " the\n",
      " green\n",
      " fields\n",
      " gone\n",
      "?\n",
      " What\n",
      " do\n",
      " they\n",
      " here\n",
      "?\"\n",
      "\n",
      "Step step_two produced event SecondEvent\n",
      "Running step step_three\n",
      "Step step_three produced event StopEvent\n",
      "Step three is happening\n",
      "Final result Workflow complete.\n"
     ]
    }
   ],
   "source": [
    "#if __name__ == \"__main__\":\n",
    "#    asyncio.run(main())\n",
    "result = await main()"
   ]
  }
 ],
 "metadata": {
  "kernelspec": {
   "display_name": "Python 3 (ipykernel)",
   "language": "python",
   "name": "python3"
  },
  "language_info": {
   "codemirror_mode": {
    "name": "ipython",
    "version": 3
   },
   "file_extension": ".py",
   "mimetype": "text/x-python",
   "name": "python",
   "nbconvert_exporter": "python",
   "pygments_lexer": "ipython3",
   "version": "3.10.12"
  }
 },
 "nbformat": 4,
 "nbformat_minor": 5
}
