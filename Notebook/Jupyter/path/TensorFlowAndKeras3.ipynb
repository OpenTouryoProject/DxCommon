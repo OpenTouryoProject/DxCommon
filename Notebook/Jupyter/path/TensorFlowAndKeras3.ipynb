{
 "cells": [
  {
   "cell_type": "markdown",
   "id": "4fe59fb7-e68d-4e4b-8901-5902d5343ed8",
   "metadata": {},
   "source": [
    "# TensorFlow・Kerasのトレーニング♨\n",
    "\n",
    "## CNN - 初歩的なCNN 編\n",
    "\n",
    "## [目次](TableOfContents.ipynb)\n",
    "- [環境準備](#環境準備)\n",
    "  - [インポート](#インポート)\n",
    "  - [共通関数](#共通関数)\n",
    "- [CNNアルゴリズム・モデル](#RNNアルゴリズム・モデル)\n",
    "  - [MINST-DNN](#MINST-DNN)\n",
    "  - [MINST-CNN](#MINST-CNN)\n",
    "  - [商品の自動タグ付け](#商品の自動タグ付け)\n",
    "\n",
    "## 参考\n",
    "開発基盤部会 Wiki\n",
    "- データマイニング（DM）- Python - DL  \n",
    "https://dotnetdevelopmentinfrastructure.osscons.jp/index.php?%E3%83%87%E3%83%BC%E3%82%BF%E3%83%9E%E3%82%A4%E3%83%8B%E3%83%B3%E3%82%B0%EF%BC%88DM%EF%BC%89-%20Python%20-%20DL"
   ]
  },
  {
   "cell_type": "markdown",
   "id": "d48958bb-e085-40a2-a6e1-f00c80080d20",
   "metadata": {},
   "source": [
    "## [環境準備](TensorFlowAndKeras0.ipynb)"
   ]
  },
  {
   "cell_type": "markdown",
   "id": "d6471d2a-b97d-4911-a40a-fd85b947480d",
   "metadata": {},
   "source": [
    "### インポート"
   ]
  },
  {
   "cell_type": "code",
   "execution_count": null,
   "id": "78119215-0ac0-4d5e-a2f9-f160de6fbb07",
   "metadata": {},
   "outputs": [],
   "source": [
    "import io\n",
    "import requests\n",
    "\n",
    "import pandas as pd\n",
    "import numpy as np\n",
    "import matplotlib.pyplot as plt\n",
    "import seaborn as sns\n",
    "\n",
    "from sklearn import datasets\n",
    "from sklearn import metrics\n",
    "from sklearn.preprocessing import StandardScaler\n",
    "from sklearn.model_selection import train_test_split\n",
    "from sklearn.metrics import confusion_matrix\n",
    "\n",
    "import tensorflow as tf\n",
    "from tensorflow.keras.layers import BatchNormalization\n",
    "print(tf.__version__)\n",
    "\n",
    "import keras\n",
    "print(keras.__version__)\n",
    "# モデル定義\n",
    "from keras.models import Model, Sequential, model_from_json, load_model\n",
    "from keras.layers import Dense, Input, Activation, Flatten, Dropout, LSTM\n",
    "from keras.layers.convolutional import Conv2D\n",
    "from keras.layers.pooling import MaxPool2D\n",
    "from keras.callbacks import EarlyStopping, ModelCheckpoint\n",
    "from keras import optimizers\n",
    "from keras.optimizers import SGD, Adam\n",
    "# その他\n",
    "from keras.applications.vgg16 import VGG16\n",
    "from keras.utils import to_categorical\n",
    "from keras.utils import np_utils\n",
    "\n",
    "import warnings\n",
    "warnings.filterwarnings('ignore')\n",
    "%matplotlib inline"
   ]
  },
  {
   "cell_type": "markdown",
   "id": "d6a80711-bca7-474a-84d9-542ba184c1f8",
   "metadata": {},
   "source": [
    "### 共通関数"
   ]
  },
  {
   "cell_type": "markdown",
   "id": "31186f63-ad5a-4099-9d20-c8af5f769f13",
   "metadata": {},
   "source": [
    "#### 画像確認"
   ]
  },
  {
   "cell_type": "markdown",
   "id": "403d5b9d-8fd0-469b-a8ae-e09b958be26c",
   "metadata": {},
   "source": [
    "##### 画像とラベルの確認"
   ]
  },
  {
   "cell_type": "code",
   "execution_count": null,
   "id": "d7f2a5cf-f2d7-40de-9576-bd9289a897de",
   "metadata": {},
   "outputs": [],
   "source": [
    "def show_image_info(x, y, label, index):\n",
    "    print(\"label: \", label[y[index]])\n",
    "    print(\"Image: \")\n",
    "    plt.imshow(x[index].astype(np.uint8))\n",
    "    plt.show()"
   ]
  },
  {
   "cell_type": "markdown",
   "id": "666bdaa8-2a19-48ae-bfea-a0da6ec1f62d",
   "metadata": {},
   "source": [
    "##### ランダムな画像一覧"
   ]
  },
  {
   "cell_type": "code",
   "execution_count": null,
   "id": "3aae889c-668a-4cec-b3f1-e1a000271633",
   "metadata": {},
   "outputs": [],
   "source": [
    "def show_image_list(x, y, numOfCls=10, numOfImgInCls=10):\n",
    "    pos = 1\n",
    "    plt.figure(figsize=(numOfCls, numOfImgInCls))\n",
    "\n",
    "    for targetClass in range(numOfCls):\n",
    "        targetIdx = []\n",
    "        \n",
    "        # クラスclassIDの画像のインデックスリストを取得\n",
    "        for i in range(len(y)):\n",
    "            if y[i] == targetClass:\n",
    "                targetIdx.append(i)\n",
    "        \n",
    "        # 各クラスからランダムに選んだ最初の10個の画像を描画\n",
    "        np.random.shuffle(targetIdx)\n",
    "        for idx in targetIdx[:numOfImgInCls]:\n",
    "            plt.subplot(numOfCls, numOfImgInCls, pos)\n",
    "            plt.imshow(x[idx])\n",
    "            plt.axis('off')\n",
    "            pos += 1\n",
    "\n",
    "plt.show()"
   ]
  },
  {
   "cell_type": "markdown",
   "id": "a31ea11c-822a-43f6-bcba-35b9e7654cca",
   "metadata": {},
   "source": [
    "##### 誤った推論の画像を表示する関数"
   ]
  },
  {
   "cell_type": "code",
   "execution_count": null,
   "id": "225183c4-7988-4a83-896f-a8f1ed81f7cc",
   "metadata": {},
   "outputs": [],
   "source": [
    "def show_incorrect_image_list(x, y, y_pred, label, numOfImg=10):\n",
    "    index = (y != y_pred)\n",
    "    for i, val in enumerate(index):\n",
    "        if val == True:\n",
    "            print('predict: ', label[y_pred[i]])\n",
    "            print('answer : ', label[y[i]])\n",
    "            show_image_info(x, y, label, i)\n",
    "            numOfImg -= 1\n",
    "            if numOfImg <= 0:\n",
    "                break"
   ]
  },
  {
   "cell_type": "markdown",
   "id": "08d02ced-797d-496c-a86b-c3abc45568e1",
   "metadata": {},
   "source": [
    "#### [分類問題関連](ScikitLearnTraining5.ipynb)"
   ]
  },
  {
   "cell_type": "markdown",
   "id": "5f6ca016-48da-4c85-82e4-c985e8bd62b3",
   "metadata": {},
   "source": [
    "##### 分類問題のメトリック表示関数"
   ]
  },
  {
   "cell_type": "code",
   "execution_count": null,
   "id": "500584fc-4042-4953-b5ed-6d958def9586",
   "metadata": {},
   "outputs": [],
   "source": [
    "def print_metrics(label, pred):\n",
    "    print('accuracy: %.3f' % metrics.accuracy_score(label, pred)) # 正答率\n",
    "    \n",
    "    print('\\nmicro') # ミクロ平均\n",
    "    print('recall: %.3f' % metrics.recall_score(label, pred, average='micro')) # 再現率\n",
    "    print('precision: %.3f' % metrics.precision_score(label, pred, average='micro')) # 適合率\n",
    "    print('f1_score: %.3f' % metrics.f1_score(label, pred, average='micro')) # f値\n",
    "    \n",
    "    print('\\nmacro') # マクロ平均\n",
    "    print('recall: %.3f' % metrics.recall_score(label, pred, average='macro')) # 再現率\n",
    "    print('precision: %.3f' % metrics.precision_score(label, pred, average='macro')) # 適合率\n",
    "    print('f1_score: %.3f' % metrics.f1_score(label, pred, average='macro')) # f値"
   ]
  },
  {
   "cell_type": "markdown",
   "id": "84a69fce-f25d-426c-99f3-43eb3cf4a28e",
   "metadata": {},
   "source": [
    "##### 混同行列のグラフ化関数"
   ]
  },
  {
   "cell_type": "code",
   "execution_count": null,
   "id": "b4c44f1c-5e8b-4f28-9c8b-0a2c03604f8e",
   "metadata": {},
   "outputs": [],
   "source": [
    "def plot_cm(confmat, label):\n",
    "    numOfCls = len(label)\n",
    "    fig, ax = plt.subplots(figsize=(numOfCls, numOfCls))\n",
    "    ax.matshow(confmat, cmap=plt.cm.Blues, alpha=0.3)\n",
    "    for i in range(confmat.shape[0]):\n",
    "        for j in range(confmat.shape[1]):\n",
    "            ax.text(x=j, y=i, s=confmat[i, j], va='center', ha='center')\n",
    "            \n",
    "    # 軸目盛を打つ場所を決める\n",
    "    ax.set_xticks(np.arange(len(label)))\n",
    "    ax.set_yticks(np.arange(len(label)))\n",
    "    # 軸目盛を設定\n",
    "    ax.set_xticklabels(label)\n",
    "    ax.set_yticklabels(label)\n",
    "    #plt.xticks(np.array(label)) # x軸の目盛りを指定\n",
    "    #plt.yticks(np.array(label)) # y軸の目盛りを指定\n",
    "    \n",
    "    plt.xlabel('y_pred label')\n",
    "    plt.ylabel('y label')\n",
    "    plt.show()"
   ]
  },
  {
   "cell_type": "markdown",
   "id": "6d0cc1ba-e9c2-4f12-b12a-0875c6566188",
   "metadata": {},
   "source": [
    "#### 学習履歴表示関数"
   ]
  },
  {
   "cell_type": "markdown",
   "id": "b216799f-3f86-42d8-ae3e-ab0b6f685e5f",
   "metadata": {},
   "source": [
    "##### 損失"
   ]
  },
  {
   "cell_type": "code",
   "execution_count": null,
   "id": "7fc6342b-696d-4100-b990-039154d2e585",
   "metadata": {},
   "outputs": [],
   "source": [
    "def plot_history_loss(hist):\n",
    "    plt.plot(hist.history['loss'],label=\"loss for training\")\n",
    "    plt.plot(hist.history['val_loss'],label=\"loss for validation\")\n",
    "    plt.title('model loss')\n",
    "    plt.xlabel('epoch')\n",
    "    plt.ylabel('loss')\n",
    "    plt.legend(loc='best')\n",
    "    plt.show()"
   ]
  },
  {
   "cell_type": "markdown",
   "id": "3a23eeaf-71be-426b-a052-32290c641a2d",
   "metadata": {},
   "source": [
    "##### 正解率"
   ]
  },
  {
   "cell_type": "code",
   "execution_count": null,
   "id": "c7ce7f0d-0871-42b5-b048-35244ef092d1",
   "metadata": {},
   "outputs": [],
   "source": [
    "def plot_history_acc(hist):\n",
    "    plt.plot(hist.history['accuracy'],label=\"accuracy for training\")\n",
    "    plt.plot(hist.history['val_accuracy'],label=\"accuracy for validation\")\n",
    "    plt.title('model accuracy')\n",
    "    plt.xlabel('epoch')\n",
    "    plt.ylabel('accuracy')\n",
    "    plt.legend(loc='best')\n",
    "    plt.show()"
   ]
  },
  {
   "cell_type": "markdown",
   "id": "2347ba3e-c462-4055-936a-1eecbcaab349",
   "metadata": {},
   "source": [
    "## CNNアルゴリズム・モデル"
   ]
  },
  {
   "cell_type": "markdown",
   "id": "dd5ed55c-b54e-4009-b852-c1456021ebb0",
   "metadata": {},
   "source": [
    "### MINST-DNN"
   ]
  },
  {
   "cell_type": "markdown",
   "id": "39787893-d227-495c-8b37-ebf85e123bf8",
   "metadata": {},
   "source": [
    "#### データ"
   ]
  },
  {
   "cell_type": "markdown",
   "id": "db0ca358-ca57-4c96-83c4-608158e072aa",
   "metadata": {},
   "source": [
    "##### 生成"
   ]
  },
  {
   "cell_type": "code",
   "execution_count": null,
   "id": "0ed1d3c1-7248-4013-b4cd-5b079fb5370a",
   "metadata": {},
   "outputs": [],
   "source": [
    "from keras.datasets import mnist\n",
    "(x_train_org, y_train_org), (x_test_org, y_test_org) = mnist.load_data()\n",
    "print(x_train_org.shape, x_test_org.shape)\n",
    "print(y_train_org.shape, y_test_org.shape)"
   ]
  },
  {
   "cell_type": "markdown",
   "id": "56be97d5-893f-4d14-bda3-a30e6397cb48",
   "metadata": {},
   "source": [
    "##### 加工\n",
    "一旦、結合します。"
   ]
  },
  {
   "cell_type": "code",
   "execution_count": null,
   "id": "22f8a80f-a5cc-409a-9e2b-070c37326633",
   "metadata": {},
   "outputs": [],
   "source": [
    "x_org = np.vstack([x_train_org, x_test_org])\n",
    "y_org = np.concatenate([y_train_org, y_test_org])\n",
    "print(x_org.shape, y_org.shape)"
   ]
  },
  {
   "cell_type": "markdown",
   "id": "466d333e-82cd-4ce9-8f83-dcd541d679a9",
   "metadata": {},
   "source": [
    "##### 理解"
   ]
  },
  {
   "cell_type": "code",
   "execution_count": null,
   "id": "fac213ca-1229-4b7f-ac09-97501b46a9ce",
   "metadata": {},
   "outputs": [],
   "source": [
    "show_image_info(x_org, y_org, [0,1,2,3,4,5,6,7,8,9], 10)"
   ]
  },
  {
   "cell_type": "code",
   "execution_count": null,
   "id": "aef21828-ef3e-4a99-941a-448c70fb5169",
   "metadata": {},
   "outputs": [],
   "source": [
    "show_image_list(x_org, y_org, 10, 10)"
   ]
  },
  {
   "cell_type": "markdown",
   "id": "451a494c-0e0b-48c6-a99c-0c73693f3ed9",
   "metadata": {},
   "source": [
    "##### 準備"
   ]
  },
  {
   "cell_type": "markdown",
   "id": "1a267e3b-3468-4f26-8777-91ee9ccb25d6",
   "metadata": {},
   "source": [
    "###### XのKeras入力用型変換"
   ]
  },
  {
   "cell_type": "code",
   "execution_count": null,
   "id": "267bf8be-6635-4444-889a-76d48362e362",
   "metadata": {},
   "outputs": [],
   "source": [
    "x_std = x_org.astype('f')"
   ]
  },
  {
   "cell_type": "markdown",
   "id": "e2196afa-aaf5-4541-8ca7-de3bddfe6449",
   "metadata": {},
   "source": [
    "###### Xの画素を0.0-1.0の範囲に正規化"
   ]
  },
  {
   "cell_type": "code",
   "execution_count": null,
   "id": "919730dc-c903-4338-be3a-4b65bf014766",
   "metadata": {},
   "outputs": [],
   "source": [
    "x_std /= 255"
   ]
  },
  {
   "cell_type": "markdown",
   "id": "a3ed8219-f4bf-4d4b-8f2e-f81fa350b1ea",
   "metadata": {},
   "source": [
    "###### 正解ラベルのOne-Hotエンコーディング\n",
    "Keras（≒ 深層学習）では正解ラベルはOne-Hotベクトル化が必要。"
   ]
  },
  {
   "cell_type": "code",
   "execution_count": null,
   "id": "5ca61765-a45b-42c2-ad49-985432aac8f4",
   "metadata": {},
   "outputs": [],
   "source": [
    "# エンコーディング\n",
    "yy = np_utils.to_categorical(y_org, num_classes=10).astype('i') \n",
    "# デコーディング\n",
    "print((yy.argmax(axis=1) == y_org).all())"
   ]
  },
  {
   "cell_type": "markdown",
   "id": "38d2dbb5-594d-47aa-b176-855740f0fc6b",
   "metadata": {},
   "source": [
    "###### 学習・テストデータの分割"
   ]
  },
  {
   "cell_type": "code",
   "execution_count": null,
   "id": "e834d302-a37f-4e64-b5a1-295f0c5e928c",
   "metadata": {},
   "outputs": [],
   "source": [
    "x_train = x_std[:60000]\n",
    "x_test = x_std[60000:]\n",
    "y_train = yy[:60000]\n",
    "y_test = yy[60000:]\n",
    "print(x_train.shape, x_test.shape)\n",
    "print(y_train.shape, y_test.shape)"
   ]
  },
  {
   "cell_type": "markdown",
   "id": "283cf4b7-a2e1-47c1-bbe6-532e8cdec99c",
   "metadata": {},
   "source": [
    "#### モデリング"
   ]
  },
  {
   "cell_type": "markdown",
   "id": "dcc9dce6-9bf3-4793-a58a-b97ca567df43",
   "metadata": {},
   "source": [
    "##### DNNの定義\n",
    "これは、CNNではなくDNN\n",
    "- 入力層  \n",
    "入力ベクトルの要素数だけ。\n",
    "- 隠れ層が\n",
    "  - 3つ\n",
    "  - 900, 1000, 500ノード\n",
    "  - 活性化関数はrelu\n",
    "- 出力層  \n",
    "多クラス分類なので\n",
    "  - ノードは分類の数だけ\n",
    "  - 活性化関数はsoftmax"
   ]
  },
  {
   "cell_type": "code",
   "execution_count": null,
   "id": "2d097b00-c70d-4172-8272-863a30b65d76",
   "metadata": {},
   "outputs": [],
   "source": [
    "# モデルのインスタンスを作成\n",
    "model = Sequential()\n",
    "\n",
    "# addメソッドで層を追加していく。\n",
    "\n",
    "# 入力層\n",
    "# Flatten：入力の変換層、入力サイズを指定\n",
    "model.add(Flatten(input_shape=(28, 28)))\n",
    "\n",
    "# 多層化：繰り返し\n",
    "model.add(Dense(900))\n",
    "model.add(Activation('relu'))\n",
    "model.add(Dense(1000))\n",
    "model.add(Activation('relu'))\n",
    "model.add(Dense(500))\n",
    "model.add(Activation('relu'))\n",
    "\n",
    "# 出力層：\n",
    "# Dense：全結合（線形結合）層、出力サイズを指定\n",
    "model.add(Dense(10)) # 0-9の分類なので\n",
    "# Activation: 活性化関数を定義（softmax\n",
    "model.add(Activation('softmax'))"
   ]
  },
  {
   "cell_type": "markdown",
   "id": "c58717fd-390e-40bb-a716-33e14f804c9b",
   "metadata": {},
   "source": [
    "##### コンパイル\n",
    "- 多値分類の損失関数は交差エントロピー（categorical_crossentropy）\n",
    "- [optimizer=SGD](TensorFlowAndKeras0.ipynb)を指定する。\n",
    "- metricsは正解率（accuracy）"
   ]
  },
  {
   "cell_type": "code",
   "execution_count": null,
   "id": "c1211449-b139-4b1c-929b-23c0b40d1caf",
   "metadata": {},
   "outputs": [],
   "source": [
    "model.compile(loss='categorical_crossentropy', optimizer=SGD(), metrics=['accuracy'])"
   ]
  },
  {
   "cell_type": "markdown",
   "id": "571a242d-78f8-4297-93c4-1f9278347b0d",
   "metadata": {},
   "source": [
    "##### 確認"
   ]
  },
  {
   "cell_type": "code",
   "execution_count": null,
   "id": "600c9285-34a3-4936-ada1-c9dbd1efbc2c",
   "metadata": {},
   "outputs": [],
   "source": [
    "model.summary()"
   ]
  },
  {
   "cell_type": "markdown",
   "id": "2007683b-4c52-4c9a-a4d4-3efc8ede8f42",
   "metadata": {},
   "source": [
    "#### 実行"
   ]
  },
  {
   "cell_type": "markdown",
   "id": "9f371e0f-e509-48d1-b5c0-0bb1074d2553",
   "metadata": {},
   "source": [
    "##### 学習\n",
    "DNNのMINSTを並のPCで実行すると5分位かかる。"
   ]
  },
  {
   "cell_type": "markdown",
   "id": "c4bc9236-f545-4101-903e-cd304485b1f0",
   "metadata": {},
   "source": [
    "```Python\n",
    "batch_size = 100\n",
    "n_epoch = 20\n",
    "# Keras Model の fit() は History オブジェクトを返す\n",
    "hist = model.fit(x_train, y_train,\n",
    "                 validation_data=(x_test, y_test),\n",
    "                 batch_size=batch_size,\n",
    "                 epochs=n_epoch,\n",
    "                 verbose=1)\n",
    "```"
   ]
  },
  {
   "cell_type": "markdown",
   "id": "b50aa9be-44bc-44bb-91f9-5703c4761b09",
   "metadata": {},
   "source": [
    "###### モデルの保存\n",
    "結構時間がかかるのでモデルを保存しておく。"
   ]
  },
  {
   "cell_type": "code",
   "execution_count": null,
   "id": "6a20c771-ffb0-47f4-82f4-597839de6bf8",
   "metadata": {},
   "outputs": [],
   "source": [
    "#model.save('../work/minst-dnn.h5')"
   ]
  },
  {
   "cell_type": "markdown",
   "id": "9a20a2cc-f665-42a4-8315-b48bbf417ad1",
   "metadata": {},
   "source": [
    "###### モデルの復元"
   ]
  },
  {
   "cell_type": "code",
   "execution_count": null,
   "id": "11886b7c-176f-4e55-aa1a-52b6a7fe2c6f",
   "metadata": {},
   "outputs": [],
   "source": [
    "model = load_model('../work/minst-dnn.h5')"
   ]
  },
  {
   "cell_type": "markdown",
   "id": "13816497-c514-478c-8aac-8e684f4bbb75",
   "metadata": {},
   "source": [
    "##### 推論"
   ]
  },
  {
   "cell_type": "code",
   "execution_count": null,
   "id": "38ba6453-7f0b-4feb-8d4e-977ed2669935",
   "metadata": {},
   "outputs": [],
   "source": [
    "index = 10\n",
    "show_image_info(x_org, y_org, [0,1,2,3,4,5,6,7,8,9], index)\n",
    "\n",
    "predict = model.predict(x_std[index].reshape(1, 28, 28)).argmax()\n",
    "answer  = y_org[index]\n",
    "\n",
    "print('predict: ', predict)\n",
    "print('answer : ', answer)\n",
    "\n",
    "if predict == answer:\n",
    "    print('正解')\n",
    "else:\n",
    "    print('不正解')"
   ]
  },
  {
   "cell_type": "code",
   "execution_count": null,
   "id": "537d14e3-5bfb-40e8-8306-c6eb6e1643b9",
   "metadata": {},
   "outputs": [],
   "source": [
    "yy_pred = model.predict(x_std)"
   ]
  },
  {
   "cell_type": "markdown",
   "id": "ddac47dd-8423-488e-bd74-8504e215d5dc",
   "metadata": {},
   "source": [
    "#### 評価"
   ]
  },
  {
   "cell_type": "markdown",
   "id": "2b259800-b6ce-4e34-bd8b-21169b3f8cf6",
   "metadata": {},
   "source": [
    "##### 実測・予測を表示"
   ]
  },
  {
   "cell_type": "code",
   "execution_count": null,
   "id": "00e64f01-e661-4eb6-8364-19de7cca4c9e",
   "metadata": {},
   "outputs": [],
   "source": [
    "y_pred = np.array(yy_pred.argmax(axis=1), dtype=np.int64)\n",
    "ret = (y_org == y_pred)\n",
    "(len(np.where(ret==True)[0]) / ret.size)"
   ]
  },
  {
   "cell_type": "markdown",
   "id": "05571fd0-b27d-42d9-a38e-be2815f64267",
   "metadata": {},
   "source": [
    "##### [スコアを表示](https://dotnetdevelopmentinfrastructure.osscons.jp/index.php?%E3%83%87%E3%83%BC%E3%82%BF%E3%83%9E%E3%82%A4%E3%83%8B%E3%83%B3%E3%82%B0%EF%BC%88DM%EF%BC%89-%20CRISP-DM#uf759972)"
   ]
  },
  {
   "cell_type": "code",
   "execution_count": null,
   "id": "6d197368-b7e0-488e-9971-a3751f1260a0",
   "metadata": {},
   "outputs": [],
   "source": [
    "print(model.metrics_names)"
   ]
  },
  {
   "cell_type": "code",
   "execution_count": null,
   "id": "230027be-b013-4333-a25b-6da0df0ecdf2",
   "metadata": {},
   "outputs": [],
   "source": [
    "score = model.evaluate(x_std, yy)\n",
    "print('loss:', score[0])\n",
    "print('accuracy:', score[1])"
   ]
  },
  {
   "cell_type": "code",
   "execution_count": null,
   "id": "c859462a-d81f-4f96-849a-a76485e7fe33",
   "metadata": {},
   "outputs": [],
   "source": [
    "train_score = model.evaluate(x_train, y_train)\n",
    "print('Train loss:', train_score[0])\n",
    "print('Train accuracy:', train_score[1])"
   ]
  },
  {
   "cell_type": "code",
   "execution_count": null,
   "id": "4c6a951d-9dc6-4ff3-9e30-c5649b0ce3bf",
   "metadata": {},
   "outputs": [],
   "source": [
    "test_score = model.evaluate(x_test, y_test)\n",
    "print('Test loss:', test_score[0])\n",
    "print('Test accuracy:', test_score[1])"
   ]
  },
  {
   "cell_type": "markdown",
   "id": "cf72f50c-c5ab-4ff8-9493-33f66a0b203f",
   "metadata": {},
   "source": [
    "##### 混同行列\n",
    "間違い易い組合せが解る。"
   ]
  },
  {
   "cell_type": "code",
   "execution_count": null,
   "id": "934bc9ce-58f8-4dae-8834-6801e647fbdd",
   "metadata": {},
   "outputs": [],
   "source": [
    "cm_minst = confusion_matrix(y_org, y_pred)\n",
    "plot_cm(cm_minst, [0,1,2,3,4,5,6,7,8,9])"
   ]
  },
  {
   "cell_type": "markdown",
   "id": "ca9fed15-607e-444f-90b6-abea83a72e12",
   "metadata": {},
   "source": [
    "###### 混同行列のメトリクス"
   ]
  },
  {
   "cell_type": "code",
   "execution_count": null,
   "id": "40798c60-8b36-4066-9e9f-bce4601a8dbc",
   "metadata": {},
   "outputs": [],
   "source": [
    "print_metrics(y_org, y_pred)"
   ]
  },
  {
   "cell_type": "markdown",
   "id": "624fc617-7449-49ce-aa84-d865a30e8403",
   "metadata": {},
   "source": [
    "###### 間違った組み合わせの表示"
   ]
  },
  {
   "cell_type": "code",
   "execution_count": null,
   "id": "26846b45-0633-440d-aaa0-1564a4255843",
   "metadata": {},
   "outputs": [],
   "source": [
    "show_incorrect_image_list(x_org, y_org, y_pred, [0,1,2,3,4,5,6,7,8,9], 5)"
   ]
  },
  {
   "cell_type": "markdown",
   "id": "b3055bd4-a763-4fed-a7a2-e90a4aac69db",
   "metadata": {},
   "source": [
    "##### 学習履歴を表示"
   ]
  },
  {
   "cell_type": "code",
   "execution_count": null,
   "id": "ccc8fdc3-b990-4ff2-93de-d45d1117ba31",
   "metadata": {},
   "outputs": [],
   "source": [
    "#plot_history_loss(hist)"
   ]
  },
  {
   "cell_type": "code",
   "execution_count": null,
   "id": "f5acf601-446a-400e-8516-82ba318869c4",
   "metadata": {},
   "outputs": [],
   "source": [
    "#plot_history_acc(hist)"
   ]
  },
  {
   "cell_type": "markdown",
   "id": "1612e416-a9fa-4f36-a537-92aa33b86c6a",
   "metadata": {},
   "source": [
    "### MINST-CNN"
   ]
  },
  {
   "cell_type": "markdown",
   "id": "adf1461c-6d61-4a19-be09-ca8014e290d6",
   "metadata": {},
   "source": [
    "### データ\n",
    "[MINST-DNN](#MINST-DNN)と同じ。"
   ]
  },
  {
   "cell_type": "markdown",
   "id": "4d4f8d00-ff4e-4775-8817-80f6428e1442",
   "metadata": {},
   "source": [
    "#### モデリング"
   ]
  },
  {
   "cell_type": "markdown",
   "id": "82cc4528-2a17-4e30-bba1-b1ab815caa60",
   "metadata": {},
   "source": [
    "##### CNNの定義"
   ]
  },
  {
   "cell_type": "code",
   "execution_count": null,
   "id": "4b1f16f6-d20f-4f42-9a06-f8c410627948",
   "metadata": {},
   "outputs": [],
   "source": [
    "model = Sequential()\n",
    "\n",
    "# 畳み込み１\n",
    "model.add(Conv2D(32, # フィルター数\n",
    "                 input_shape=(28, 28, 1),\n",
    "                 kernel_size=(3, 3),\n",
    "                 activation='relu'))\n",
    "# 畳み込み２\n",
    "model.add(Conv2D(64, # フィルター数\n",
    "                 kernel_size=(3, 3),\n",
    "                 activation='relu'))\n",
    "# プーリング１\n",
    "model.add(MaxPool2D(pool_size=(2, 2)))\n",
    "\n",
    "# 画像からベクトル（畳み込み＆プーリング → 全結合の所に挿入\n",
    "model.add(Flatten())\n",
    "\n",
    "# Dropoutの追加位置\n",
    "# 無効化比率0.25のDropout\n",
    "model.add(Dropout(0.25))\n",
    "\n",
    "# 全結合層１\n",
    "model.add(Dense(128, activation='relu'))\n",
    "\n",
    "# Dropoutの追加位置\n",
    "# 無効化比率0.5のDropout\n",
    "model.add(Dropout(0.5))\n",
    "\n",
    "# 最終層は無効化しない\n",
    "\n",
    "# 全結合層２\n",
    "model.add(Dense(10, activation='softmax'))"
   ]
  },
  {
   "cell_type": "markdown",
   "id": "9744b97e-bd6c-4d58-8eb0-857c05502e05",
   "metadata": {},
   "source": [
    "##### コンパイル\n",
    "- 多値分類の損失関数は交差エントロピー（categorical_crossentropy）\n",
    "- [optimizer=SGD](TensorFlowAndKeras0.ipynb)を指定する。\n",
    "- metricsは正解率（accuracy）"
   ]
  },
  {
   "cell_type": "code",
   "execution_count": null,
   "id": "7f1f3a18-21b6-49e7-b3a0-7ba876b472fd",
   "metadata": {},
   "outputs": [],
   "source": [
    "model.compile(loss='categorical_crossentropy', optimizer=Adam(), metrics=['accuracy'])"
   ]
  },
  {
   "cell_type": "markdown",
   "id": "d0047ef7-d2be-4c1a-acdc-f491f8a50d1d",
   "metadata": {},
   "source": [
    "##### 確認"
   ]
  },
  {
   "cell_type": "code",
   "execution_count": null,
   "id": "b4dcf766-95de-4857-89c8-b4a54b0e8ea4",
   "metadata": {},
   "outputs": [],
   "source": [
    "model.summary()"
   ]
  },
  {
   "cell_type": "markdown",
   "id": "46265707-008b-4b6a-aed2-a2fc831508d7",
   "metadata": {},
   "source": [
    "#### 実行"
   ]
  },
  {
   "cell_type": "markdown",
   "id": "a00ed6f3-5bb3-4ad1-af19-d69c24bc6645",
   "metadata": {},
   "source": [
    "##### 学習\n",
    "CNNのMINSTを並のPCで実行すると20分位かかる（のでload_modelする。"
   ]
  },
  {
   "cell_type": "markdown",
   "id": "3b7668aa-a58b-4604-8e88-ec12c7fb5507",
   "metadata": {},
   "source": [
    "```python\n",
    "batch_size = 100\n",
    "n_epoch = 20\n",
    "# Keras Model の fit() は History オブジェクトを返す\n",
    "hist = model.fit(x_train, y_train,\n",
    "                 validation_data=(x_test, y_test),\n",
    "                 batch_size=batch_size,\n",
    "                 epochs=n_epoch,\n",
    "                 verbose=1)\n",
    "```"
   ]
  },
  {
   "cell_type": "markdown",
   "id": "61689833-e390-43a5-bd48-cf1a9fae7d39",
   "metadata": {},
   "source": [
    "###### モデルの保存\n",
    "結構時間がかかるのでモデルを保存しておく。"
   ]
  },
  {
   "cell_type": "code",
   "execution_count": null,
   "id": "04aea477-110e-4335-8ae1-e1287010e5e6",
   "metadata": {},
   "outputs": [],
   "source": [
    "#model.save('../work/minst-cnn.h5')"
   ]
  },
  {
   "cell_type": "markdown",
   "id": "65312b5d-de10-4dce-9cb9-ccf56dfdd42e",
   "metadata": {},
   "source": [
    "###### モデルの復元"
   ]
  },
  {
   "cell_type": "code",
   "execution_count": null,
   "id": "ad129961-558d-4d6e-8653-2fbb91bba60d",
   "metadata": {},
   "outputs": [],
   "source": [
    "model = load_model('../work/minst-cnn.h5')"
   ]
  },
  {
   "cell_type": "markdown",
   "id": "75e24313-e8f8-4884-b910-352605245fde",
   "metadata": {},
   "source": [
    "##### 推論"
   ]
  },
  {
   "cell_type": "code",
   "execution_count": null,
   "id": "40b34aa4-5be3-4092-a171-6b1808d0e44c",
   "metadata": {},
   "outputs": [],
   "source": [
    "index = 10\n",
    "show_image_info(x_org, y_org, [0,1,2,3,4,5,6,7,8,9], index)\n",
    "\n",
    "predict = model.predict(x_std[index].reshape(1, 28, 28)).argmax()\n",
    "answer  = y_org[index]\n",
    "\n",
    "print('predict: ', predict)\n",
    "print('answer : ', answer)\n",
    "\n",
    "if predict == answer:\n",
    "    print('正解')\n",
    "else:\n",
    "    print('不正解')"
   ]
  },
  {
   "cell_type": "code",
   "execution_count": null,
   "id": "d0786e2f-5be0-4060-aeb0-688182bac396",
   "metadata": {},
   "outputs": [],
   "source": [
    "yy_pred = model.predict(x_std)"
   ]
  },
  {
   "cell_type": "markdown",
   "id": "1df29cfc-a887-41eb-aeaf-14b75c1a8e4b",
   "metadata": {},
   "source": [
    "#### 評価"
   ]
  },
  {
   "cell_type": "markdown",
   "id": "f12a117d-79f8-4e6b-84a0-53f2a9b45e31",
   "metadata": {},
   "source": [
    "##### 実測・予測を表示"
   ]
  },
  {
   "cell_type": "code",
   "execution_count": null,
   "id": "ba2242b9-b7bb-495c-ad52-e3f749ac7116",
   "metadata": {},
   "outputs": [],
   "source": [
    "y_pred = np.array(yy_pred.argmax(axis=1), dtype=np.int64)\n",
    "ret = (y_org == y_pred)\n",
    "(len(np.where(ret==True)[0]) / ret.size)"
   ]
  },
  {
   "cell_type": "markdown",
   "id": "29ad2900-31af-407d-9f2f-649845374ba7",
   "metadata": {},
   "source": [
    "##### [スコアを表示](https://dotnetdevelopmentinfrastructure.osscons.jp/index.php?%E3%83%87%E3%83%BC%E3%82%BF%E3%83%9E%E3%82%A4%E3%83%8B%E3%83%B3%E3%82%B0%EF%BC%88DM%EF%BC%89-%20CRISP-DM#uf759972)"
   ]
  },
  {
   "cell_type": "code",
   "execution_count": null,
   "id": "7c5b7700-acbd-46e2-b8ac-810888fc6af1",
   "metadata": {},
   "outputs": [],
   "source": [
    "score = model.evaluate(x_std, yy)\n",
    "print('Test loss:', score[0])\n",
    "print('Test accuracy:', score[1])"
   ]
  },
  {
   "cell_type": "code",
   "execution_count": null,
   "id": "1458e637-3815-4a13-bf30-102b87d97964",
   "metadata": {},
   "outputs": [],
   "source": [
    "train_score = model.evaluate(x_train, y_train)\n",
    "print('Train loss:', train_score[0])\n",
    "print('Train accuracy:', train_score[1])"
   ]
  },
  {
   "cell_type": "code",
   "execution_count": null,
   "id": "12aad320-cba3-4fd2-b9da-7759022c1acb",
   "metadata": {},
   "outputs": [],
   "source": [
    "test_score = model.evaluate(x_test, y_test)\n",
    "print('Test loss:', test_score[0])\n",
    "print('Test accuracy:', test_score[1])"
   ]
  },
  {
   "cell_type": "markdown",
   "id": "78a9b497-b0a2-4ac2-94f6-19a9c4d1d54a",
   "metadata": {},
   "source": [
    "##### 混同行列\n",
    "間違い易い組合せが解る。"
   ]
  },
  {
   "cell_type": "code",
   "execution_count": null,
   "id": "47190c45-80ad-464f-b006-547c9564a145",
   "metadata": {},
   "outputs": [],
   "source": [
    "cm_minst = confusion_matrix(y_org, y_pred)\n",
    "plot_cm(cm_minst, [0,1,2,3,4,5,6,7,8,9])"
   ]
  },
  {
   "cell_type": "markdown",
   "id": "34ec4bcd-5a80-45a8-bb03-960db3623093",
   "metadata": {},
   "source": [
    "###### 混同行列のメトリクス"
   ]
  },
  {
   "cell_type": "code",
   "execution_count": null,
   "id": "6c519da7-a691-48d9-956e-a659353983a8",
   "metadata": {},
   "outputs": [],
   "source": [
    "print_metrics(y_org, y_pred)"
   ]
  },
  {
   "cell_type": "markdown",
   "id": "1e0a6584-9056-47fb-b52b-ae1d5980a09d",
   "metadata": {},
   "source": [
    "###### 間違った組み合わせの表示"
   ]
  },
  {
   "cell_type": "code",
   "execution_count": null,
   "id": "3abca1d2-ed5d-42dc-b91d-b29f990b17d6",
   "metadata": {},
   "outputs": [],
   "source": [
    "show_incorrect_image_list(x_org, y_org, y_pred, [0,1,2,3,4,5,6,7,8,9], 5)"
   ]
  },
  {
   "cell_type": "markdown",
   "id": "c55a70f4-0942-4874-88b0-4256822dc64b",
   "metadata": {},
   "source": [
    "##### 学習履歴を表示"
   ]
  },
  {
   "cell_type": "code",
   "execution_count": null,
   "id": "1c900d97-00f8-47ba-90c0-5e909bb13e8f",
   "metadata": {},
   "outputs": [],
   "source": [
    "#plot_history_loss(hist)"
   ]
  },
  {
   "cell_type": "code",
   "execution_count": null,
   "id": "21d09d90-c976-463b-a065-306645bedf1c",
   "metadata": {},
   "outputs": [],
   "source": [
    "#plot_history_acc(hist)"
   ]
  },
  {
   "cell_type": "markdown",
   "id": "c0f6e16a-95aa-4aa5-9ebf-d6b80800f5e0",
   "metadata": {},
   "source": [
    "### 商品の自動タグ付け"
   ]
  },
  {
   "cell_type": "markdown",
   "id": "81fd4d3b-876b-46f3-a51f-1b7f63780c3a",
   "metadata": {},
   "source": [
    "#### データ"
   ]
  },
  {
   "cell_type": "markdown",
   "id": "f8660e9e-8542-4dfc-b709-6edf6167f892",
   "metadata": {},
   "source": [
    "##### 生成"
   ]
  },
  {
   "cell_type": "code",
   "execution_count": null,
   "id": "b8209240-2e58-49d7-a7e4-ef499ef3b787",
   "metadata": {},
   "outputs": [],
   "source": [
    "#import ssl\n",
    "#ssl._create_default_https_context = ssl._create_unverified_context\n",
    "from keras.datasets import cifar10\n",
    "(x_train_org, y_train_org), (x_test_org, y_test_org) = cifar10.load_data()\n",
    "print(x_train_org.shape, x_test_org.shape)\n",
    "print(y_train_org.shape, y_test_org.shape)"
   ]
  },
  {
   "cell_type": "markdown",
   "id": "0175ed80-2f81-4004-be94-3d0efa4cc193",
   "metadata": {},
   "source": [
    "##### 加工"
   ]
  },
  {
   "cell_type": "markdown",
   "id": "6f3fd4e6-3227-4b53-b456-8b62846bc7ee",
   "metadata": {},
   "source": [
    "###### 一旦、結合します。"
   ]
  },
  {
   "cell_type": "code",
   "execution_count": null,
   "id": "9e806598-9ad4-4371-9d25-5e351cb066f9",
   "metadata": {},
   "outputs": [],
   "source": [
    "x_org = np.vstack([x_train_org, x_test_org])\n",
    "y_org = np.concatenate([y_train_org, y_test_org])\n",
    "print(x_org.shape, y_org.shape)"
   ]
  },
  {
   "cell_type": "markdown",
   "id": "c000e7e5-6e71-48d4-b4cd-63afedb0b043",
   "metadata": {},
   "source": [
    "##### 理解"
   ]
  },
  {
   "cell_type": "code",
   "execution_count": null,
   "id": "465ab2a2-98d2-4971-8dcb-c1c7bcac2c47",
   "metadata": {},
   "outputs": [],
   "source": [
    "show_image_info(x_org, y_org.flatten(), [0,1,2,3,4,5,6,7,8,9], 10)"
   ]
  },
  {
   "cell_type": "code",
   "execution_count": null,
   "id": "ba6168d7-5e9e-42e2-b096-37d2e2f497d2",
   "metadata": {},
   "outputs": [],
   "source": [
    "show_image_list(x_org, y_org.flatten(), 10, 10)"
   ]
  },
  {
   "cell_type": "markdown",
   "id": "e7fd1e68-9f0b-4bb9-9c59-a85252f569a6",
   "metadata": {},
   "source": [
    "##### 準備"
   ]
  },
  {
   "cell_type": "markdown",
   "id": "b80edc0b-c6a3-4887-91a7-3737e9108fdf",
   "metadata": {},
   "source": [
    "###### 要素の並び順を入れ替える\n",
    "（Opencv, Kerasの仕様の関係上"
   ]
  },
  {
   "cell_type": "code",
   "execution_count": null,
   "id": "95bed98f-f324-4c91-b42b-e185fca26855",
   "metadata": {},
   "outputs": [],
   "source": [
    "# サンプル数, height, width, channelへ変更\n",
    "#x_org = x_org.transpose([0, 2, 3, 1])"
   ]
  },
  {
   "cell_type": "markdown",
   "id": "5d5fecf2-b89d-4208-beec-c0f2659bfec7",
   "metadata": {},
   "source": [
    "###### XのKeras入力用型変換"
   ]
  },
  {
   "cell_type": "code",
   "execution_count": null,
   "id": "3a49c8bf-4ee4-4f29-8f65-5d52cd45a54c",
   "metadata": {},
   "outputs": [],
   "source": [
    "x_std = x_org.astype('f')"
   ]
  },
  {
   "cell_type": "markdown",
   "id": "060673eb-32c6-4f1e-8435-956f1a15ed8a",
   "metadata": {},
   "source": [
    "###### Xの画素を0.0-1.0の範囲に正規化"
   ]
  },
  {
   "cell_type": "code",
   "execution_count": null,
   "id": "7cf3a739-f9b9-487a-8d93-1a25cabc9095",
   "metadata": {},
   "outputs": [],
   "source": [
    "x_std /= 255"
   ]
  },
  {
   "cell_type": "markdown",
   "id": "90b46fef-47e8-444b-99cd-90aa8f03d32e",
   "metadata": {},
   "source": [
    "###### 正解ラベルのOne-Hotエンコーディング\n",
    "Kerasでは正解ラベルはOne-Hotベクトル化が必要。"
   ]
  },
  {
   "cell_type": "code",
   "execution_count": null,
   "id": "d72755af-6962-440f-940f-853fa9556223",
   "metadata": {},
   "outputs": [],
   "source": [
    "# エンコーディング\n",
    "yy = np_utils.to_categorical(y_org.flatten(), num_classes=10).astype('i') \n",
    "# デコーディング\n",
    "print((yy.argmax(axis=1) == y_org.flatten()).all())"
   ]
  },
  {
   "cell_type": "markdown",
   "id": "fe86e6ab-f379-47c4-b61b-fc78888060a5",
   "metadata": {},
   "source": [
    "###### 学習・テストデータの分割"
   ]
  },
  {
   "cell_type": "code",
   "execution_count": null,
   "id": "ef0bde16-bf4f-4dd5-9a6b-1f550104e70c",
   "metadata": {},
   "outputs": [],
   "source": [
    "x_train = x_std[:50000]\n",
    "x_test = x_std[50000:]\n",
    "y_train = yy[:50000]\n",
    "y_test = yy[50000:]\n",
    "print(x_train.shape, x_test.shape)\n",
    "print(y_train.shape, y_test.shape)"
   ]
  },
  {
   "cell_type": "markdown",
   "id": "c209489a-abb3-498e-9ae1-12b80ed7efad",
   "metadata": {},
   "source": [
    "#### モデリング"
   ]
  },
  {
   "cell_type": "markdown",
   "id": "683215cc-ca05-4027-aca1-d902597d64a2",
   "metadata": {},
   "source": [
    "##### CNNの定義\n",
    "- 入力層  \n",
    "入力ベクトルの要素数だけ。\n",
    "- 隠れ層が\n",
    "  - 畳み込み層とプーリング層1-3\n",
    "  - 全結合層1-2\n",
    "- 出力層  \n",
    "多クラス分類なので\n",
    "  - ノードは分類の数だけ\n",
    "  - 活性化関数はsoftmax"
   ]
  },
  {
   "cell_type": "code",
   "execution_count": null,
   "id": "1a228234-17f2-411a-b381-7b7831c15920",
   "metadata": {},
   "outputs": [],
   "source": [
    "model = Sequential()\n",
    "\n",
    "# 畳み込み層とプーリング層１ \n",
    "## 畳み込み層\n",
    "model.add(Conv2D(\n",
    "    input_shape=(32, 32, 3), # 入力層のサイズを決める\n",
    "    filters=64,              # フィルタ数\n",
    "    kernel_size=(4, 4),      # カーネル・サイズ\n",
    "    strides=(1, 1),          # ストライド\n",
    "    padding='same'))         # パディング\n",
    "## プーリング増\n",
    "model.add(MaxPool2D(pool_size=(2, 2))) \n",
    "model.add(Activation('relu'))\n",
    "\n",
    "# 畳み込み層とプーリング層２\n",
    "## 畳み込み層\n",
    "model.add(Conv2D(\n",
    "    filters=128,\n",
    "    kernel_size=(4, 4),\n",
    "    strides=(1, 1),\n",
    "    padding='same'))\n",
    "## プーリング増\n",
    "model.add(MaxPool2D(pool_size=(2, 2)))\n",
    "model.add(Activation('relu'))\n",
    "\n",
    "# 畳み込み層とプーリング層３\n",
    "## 畳み込み層\n",
    "model.add(Conv2D(\n",
    "    filters=128,\n",
    "    kernel_size=(4, 4),\n",
    "    strides=(1, 1),\n",
    "    padding='same'))\n",
    "## プーリング増\n",
    "model.add(MaxPool2D(pool_size=(2, 2))) \n",
    "model.add(Activation('relu'))\n",
    "\n",
    "# 画像からベクトル（畳み込み＆プーリング → 全結合の所に挿入\n",
    "model.add(Flatten())\n",
    "\n",
    "# 全結合層１\n",
    "model.add(Dense(512))\n",
    "model.add(Activation('relu'))\n",
    "\n",
    "# Dropoutの追加位置\n",
    "## 無効化比率0.5のDropout\n",
    "#model.add(Dropout(rate=0.5))\n",
    "## 最終層は無効化しない\n",
    "\n",
    "# 全結合層２\n",
    "model.add(Dense(10))\n",
    "model.add(Activation('softmax'))"
   ]
  },
  {
   "cell_type": "markdown",
   "id": "5f042efb-7373-4d89-8c51-27698d6c3bc5",
   "metadata": {},
   "source": [
    "##### コンパイル\n",
    "- 多値分類の損失関数は交差エントロピー（categorical_crossentropy）\n",
    "- [optimizer=SGD](TensorFlowAndKeras0.ipynb)を指定する。\n",
    "- metricsは正解率（accuracy）"
   ]
  },
  {
   "cell_type": "code",
   "execution_count": null,
   "id": "bf1455ee-f7d7-442e-9cb4-3d55339cd9b6",
   "metadata": {},
   "outputs": [],
   "source": [
    "model.compile(loss='categorical_crossentropy',\n",
    "              optimizer=SGD(0.01), # 学習率：0.01\n",
    "              metrics=['accuracy'])"
   ]
  },
  {
   "cell_type": "markdown",
   "id": "5efcfd1d-af96-498b-9fd8-2b69af7452bd",
   "metadata": {},
   "source": [
    "##### 確認"
   ]
  },
  {
   "cell_type": "code",
   "execution_count": null,
   "id": "cc350b3d-8e64-4bbb-9aeb-bb215313f698",
   "metadata": {},
   "outputs": [],
   "source": [
    "model.summary()"
   ]
  },
  {
   "cell_type": "markdown",
   "id": "77fea853-0ae9-4b10-8507-34737be8aac5",
   "metadata": {},
   "source": [
    "#### 実行"
   ]
  },
  {
   "cell_type": "markdown",
   "id": "d2def369-b14b-4402-a309-44870854b7d7",
   "metadata": {},
   "source": [
    "##### 学習\n",
    "並のPCで実行すると数時間かかる（GPUが必要"
   ]
  },
  {
   "cell_type": "markdown",
   "id": "b11c9bcb-0937-4bbe-9cad-2b849ff85eb5",
   "metadata": {},
   "source": [
    "```python\n",
    "batch_size = 500\n",
    "n_epoch = 30\n",
    "hist = model.fit(x_train, y_train,\n",
    "                 validation_data=(x_test, y_test),\n",
    "                 batch_size=batch_size,\n",
    "                 epochs=n_epoch,\n",
    "                 verbose=1)\n",
    "```"
   ]
  },
  {
   "cell_type": "markdown",
   "id": "ddfe793f-d8c8-4fd9-8d50-8b142348d3d2",
   "metadata": {},
   "source": [
    "###### モデルの保存\n",
    "結構時間がかかるのでモデルを保存しておく。"
   ]
  },
  {
   "cell_type": "code",
   "execution_count": null,
   "id": "6adae36d-8e10-48a3-8003-78416fc486ec",
   "metadata": {},
   "outputs": [],
   "source": [
    "#model.save('../work/cifar10-cnn.h5')"
   ]
  },
  {
   "cell_type": "markdown",
   "id": "c8e52952-2afd-4607-a70e-c87476a2c2ea",
   "metadata": {},
   "source": [
    "###### モデルの復元"
   ]
  },
  {
   "cell_type": "code",
   "execution_count": null,
   "id": "309edfe3-bd1f-4473-beb8-9d0b0bef10a7",
   "metadata": {},
   "outputs": [],
   "source": [
    "model = load_model('../work/cifar10-cnn.h5')"
   ]
  },
  {
   "cell_type": "markdown",
   "id": "e28db9f6-64da-42d6-a868-d983479ad745",
   "metadata": {},
   "source": [
    "##### 推論"
   ]
  },
  {
   "cell_type": "code",
   "execution_count": null,
   "id": "e2b2b918-b68c-43f4-bd32-7eb24ea0325c",
   "metadata": {},
   "outputs": [],
   "source": [
    "index = 99\n",
    "show_image_info(x_org, y_org.flatten(), ['飛','車','鳥','猫','鹿','犬','蛙','馬','船','貨'], index)\n",
    "\n",
    "predict = model.predict(x_std[index].reshape(1, 32, 32, 3)).argmax()\n",
    "answer  = y_org[index]\n",
    "\n",
    "print('predict: ', predict)\n",
    "print('answer : ', answer)\n",
    "\n",
    "if predict == answer:\n",
    "    print('正解')\n",
    "else:\n",
    "    print('不正解')"
   ]
  },
  {
   "cell_type": "code",
   "execution_count": null,
   "id": "c6972c3a-5885-4577-afd7-cf36b4f8648a",
   "metadata": {},
   "outputs": [],
   "source": [
    "yy_pred = model.predict(x_std)"
   ]
  },
  {
   "cell_type": "markdown",
   "id": "d1d9c151-a007-4301-997b-b2952f665cc8",
   "metadata": {},
   "source": [
    "#### 評価"
   ]
  },
  {
   "cell_type": "markdown",
   "id": "0a69bc9e-1e60-4b1f-96dc-1f2f584ebce2",
   "metadata": {},
   "source": [
    "##### 実測・予測を表示"
   ]
  },
  {
   "cell_type": "code",
   "execution_count": null,
   "id": "3e70c831-b7c1-430a-a4be-83913832a80c",
   "metadata": {},
   "outputs": [],
   "source": [
    "y_pred = np.array(yy_pred.argmax(axis=-1), dtype=np.uint8)\n",
    "ret = (y_org.flatten() == y_pred)\n",
    "(len(np.where(ret==True)[0]) / ret.size)"
   ]
  },
  {
   "cell_type": "markdown",
   "id": "ac3df568-76e0-4b9b-97f3-ef2bfbe53691",
   "metadata": {},
   "source": [
    "##### [スコアを表示](https://dotnetdevelopmentinfrastructure.osscons.jp/index.php?%E3%83%87%E3%83%BC%E3%82%BF%E3%83%9E%E3%82%A4%E3%83%8B%E3%83%B3%E3%82%B0%EF%BC%88DM%EF%BC%89-%20CRISP-DM#uf759972)"
   ]
  },
  {
   "cell_type": "code",
   "execution_count": null,
   "id": "423d6015-641b-4c54-b7c6-7a0ed27d94a3",
   "metadata": {},
   "outputs": [],
   "source": [
    "score = model.evaluate(x_std, yy)\n",
    "print('Test loss:', score[0])\n",
    "print('Test accuracy:', score[1])"
   ]
  },
  {
   "cell_type": "code",
   "execution_count": null,
   "id": "ffe4e385-9f82-49f5-8070-0a8b8c3426f4",
   "metadata": {},
   "outputs": [],
   "source": [
    "train_score = model.evaluate(x_train, y_train)\n",
    "print('Train loss:', train_score[0])\n",
    "print('Train accuracy:', train_score[1])"
   ]
  },
  {
   "cell_type": "code",
   "execution_count": null,
   "id": "1875f02a-1f6a-4274-92b9-9da16b124bc0",
   "metadata": {},
   "outputs": [],
   "source": [
    "test_score = model.evaluate(x_test, y_test)\n",
    "print('Test loss:', test_score[0])\n",
    "print('Test accuracy:', test_score[1])"
   ]
  },
  {
   "cell_type": "markdown",
   "id": "b84968a5-9e45-4b0a-8733-a8ecbb8b60ba",
   "metadata": {},
   "source": [
    "##### 混同行列\n",
    "間違い易い組合せが解る。"
   ]
  },
  {
   "cell_type": "code",
   "execution_count": null,
   "id": "1e4e6fde-0c81-4324-8cca-edb81bb4c960",
   "metadata": {},
   "outputs": [],
   "source": [
    "cm_cifar10 = confusion_matrix(y_org, y_pred)\n",
    "plot_cm(cm_cifar10, \n",
    "       ['plane','car','bird','cat','deer','dog','frog','horse','ship','wagon'])"
   ]
  },
  {
   "cell_type": "markdown",
   "id": "ad4a4369-fea8-432a-bccc-485dcdd288b5",
   "metadata": {},
   "source": [
    "###### 混同行列のメトリクス"
   ]
  },
  {
   "cell_type": "code",
   "execution_count": null,
   "id": "f2c91d6b-defc-4593-8996-4e36549c641f",
   "metadata": {},
   "outputs": [],
   "source": [
    "print_metrics(y_org, y_pred)"
   ]
  },
  {
   "cell_type": "markdown",
   "id": "054901dd-0a7e-44e8-8497-46409ff5cf98",
   "metadata": {},
   "source": [
    "###### 間違った組み合わせの表示"
   ]
  },
  {
   "cell_type": "code",
   "execution_count": null,
   "id": "2c6d17a1-83a1-423f-8f1b-e2c2208747ff",
   "metadata": {},
   "outputs": [],
   "source": [
    "show_incorrect_image_list(\n",
    "    x_org, y_org.flatten(), y_pred,\n",
    "    ['飛','車','鳥','猫','鹿','犬','蛙','馬','船','貨'], 5)"
   ]
  },
  {
   "cell_type": "markdown",
   "id": "937beb2c-c65c-4c67-b0e9-33647e2c873d",
   "metadata": {},
   "source": [
    "##### 学習履歴を表示"
   ]
  },
  {
   "cell_type": "code",
   "execution_count": null,
   "id": "6fc95c65-93df-408e-a42a-2a85a3cdbc48",
   "metadata": {},
   "outputs": [],
   "source": [
    "#plot_history_loss(hist)"
   ]
  },
  {
   "cell_type": "code",
   "execution_count": null,
   "id": "6b616800-6599-42c6-a6b6-6bc9cb9a3bba",
   "metadata": {},
   "outputs": [],
   "source": [
    "#plot_history_acc(hist)"
   ]
  }
 ],
 "metadata": {
  "kernelspec": {
   "display_name": "Python 3 (ipykernel)",
   "language": "python",
   "name": "python3"
  },
  "language_info": {
   "codemirror_mode": {
    "name": "ipython",
    "version": 3
   },
   "file_extension": ".py",
   "mimetype": "text/x-python",
   "name": "python",
   "nbconvert_exporter": "python",
   "pygments_lexer": "ipython3",
   "version": "3.10.6"
  }
 },
 "nbformat": 4,
 "nbformat_minor": 5
}
