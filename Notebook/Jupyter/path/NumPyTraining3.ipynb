{
 "cells": [
  {
   "cell_type": "markdown",
   "id": "10d8894f-c5ae-4771-8134-f3fb1add7cd4",
   "metadata": {},
   "source": [
    "# NumPyのトレーニング♨\n",
    "[配列（ベクトル）](NumPyTraining1.ipynb) <---> [行列](NumPyTraining2.ipynb)\n",
    "\n",
    "## [目次](TableOfContents.ipynb)\n",
    "- [環境準備](#環境準備)\n",
    "- [型の変換](#型の変換)\n",
    "  - [要素の型の変換](#要素の型の変換)\n",
    "  - [LISTやDF等の型へ変換](#LISTやDF等の型へ変換)\n",
    "- [配列⇔行列変換](#配列⇔行列変換)\n",
    "  - [配列の行列化](#配列の行列化)\n",
    "  - [行列の配列化](#行列の配列化)\n",
    "- [行列の行・列の追加・削除](#行列の行・列の追加・削除)\n",
    "  - [行追加](#行追加)\n",
    "  - [列追加](#列追加)\n",
    "  - [行削除](#行削除)\n",
    "  - [列削除](#列削除)\n",
    "  - [要素の追加](#要素の追加)\n",
    "- [行列の変換](#行列の変換)\n",
    "  - [転置行列](#転置行列)\n",
    "  - [次元の入れ替え](#次元の入れ替え)\n",
    "  - [再構成](#再構成)\n",
    "- [One-Hotエンコーディング](#One-Hotエンコーディング)\n",
    "  - [エンコーディング](#エンコーディング)\n",
    "  - [デコーディング](#デコーディング)\n",
    " \n",
    "\n",
    "## 参考\n",
    "開発基盤部会 Wiki\n",
    "- NumPy  \n",
    "https://dotnetdevelopmentinfrastructure.osscons.jp/index.php?NumPy"
   ]
  },
  {
   "cell_type": "markdown",
   "id": "4793a63e-553c-48cf-8ea0-1d52c544fa36",
   "metadata": {},
   "source": [
    "## [環境準備](NumPyTraining1.ipynb)"
   ]
  },
  {
   "cell_type": "markdown",
   "id": "d0cc7aac-30db-49c7-9787-fcb4971c30c1",
   "metadata": {},
   "source": [
    "### インポート"
   ]
  },
  {
   "cell_type": "code",
   "execution_count": null,
   "id": "4d219204-9264-4caa-baec-5ed10802348c",
   "metadata": {},
   "outputs": [],
   "source": [
    "import numpy as np"
   ]
  },
  {
   "cell_type": "code",
   "execution_count": null,
   "id": "71b1cb58-9c0c-4574-8932-28e6973fd689",
   "metadata": {},
   "outputs": [],
   "source": [
    "import warnings\n",
    "warnings.filterwarnings('ignore')"
   ]
  },
  {
   "cell_type": "markdown",
   "id": "31f07f16-cd3d-4b3d-8c55-7e7892231ffe",
   "metadata": {},
   "source": [
    "### データ初期化関数"
   ]
  },
  {
   "cell_type": "markdown",
   "id": "2ea2aa3c-6834-450c-b468-b91ea04e9342",
   "metadata": {},
   "source": [
    "#### 配列"
   ]
  },
  {
   "cell_type": "code",
   "execution_count": null,
   "id": "737b631e-c650-4508-a75e-48d44e318ba9",
   "metadata": {},
   "outputs": [],
   "source": [
    "def function1():\n",
    "    return np.arange(10)"
   ]
  },
  {
   "cell_type": "markdown",
   "id": "e519bc7f-e439-4352-bfa1-e1a8d7cf221e",
   "metadata": {},
   "source": [
    "#### 行列"
   ]
  },
  {
   "cell_type": "code",
   "execution_count": null,
   "id": "2b4521fb-4f9f-4eb3-ab02-218e5d81a49f",
   "metadata": {},
   "outputs": [],
   "source": [
    "def function2():\n",
    "    return np.array([[51, 55], [14, 19], [0, 4]])"
   ]
  },
  {
   "cell_type": "markdown",
   "id": "734830e2-b85f-424b-84bf-4042fe328309",
   "metadata": {
    "tags": []
   },
   "source": [
    "## 型の変換"
   ]
  },
  {
   "cell_type": "markdown",
   "id": "9e8ef468-110e-473a-ae88-1214523643b1",
   "metadata": {
    "tags": []
   },
   "source": [
    "### 要素の型の変換"
   ]
  },
  {
   "cell_type": "markdown",
   "id": "beba142f-4117-42a4-bf20-4a2a4687bf9e",
   "metadata": {
    "tags": []
   },
   "source": [
    "#### 配列"
   ]
  },
  {
   "cell_type": "code",
   "execution_count": null,
   "id": "83a745fb-b36e-4f7a-a529-eb9e3ec811bc",
   "metadata": {},
   "outputs": [],
   "source": [
    "a=np.array([1.0,2.0,3.0])\n",
    "a"
   ]
  },
  {
   "cell_type": "code",
   "execution_count": null,
   "id": "b72a6508-ca92-435a-bf79-902f6dd603f3",
   "metadata": {},
   "outputs": [],
   "source": [
    "a=np.array(a,dtype=np.int32) # 要素の型をint32に変換\n",
    "a"
   ]
  },
  {
   "cell_type": "markdown",
   "id": "f6ad4b85-25bc-44e7-a164-3c9bb44c899a",
   "metadata": {
    "tags": []
   },
   "source": [
    "#### 行列"
   ]
  },
  {
   "cell_type": "code",
   "execution_count": null,
   "id": "1a3ebb32-2715-4cfa-b562-ded84929fc5d",
   "metadata": {},
   "outputs": [],
   "source": [
    "b=np.array([[1,2],[3,4],[5,6]])\n",
    "b"
   ]
  },
  {
   "cell_type": "code",
   "execution_count": null,
   "id": "1c15e49f-da08-4244-9cef-87da4126c209",
   "metadata": {},
   "outputs": [],
   "source": [
    "b=np.array(b,dtype=np.int32) # 要素の型をint32に変換\n",
    "b"
   ]
  },
  {
   "cell_type": "markdown",
   "id": "38c19f5f-b3d0-4659-b009-ca538a300ba1",
   "metadata": {},
   "source": [
    "### LISTやDF等の型へ変換"
   ]
  },
  {
   "cell_type": "markdown",
   "id": "dc3c1972-e1c4-4baa-88c7-b552e7ca16d7",
   "metadata": {
    "tags": []
   },
   "source": [
    "#### LIST ⇔ NP型変換"
   ]
  },
  {
   "cell_type": "markdown",
   "id": "7346e5ad-fee6-4427-8f60-8a1875df4344",
   "metadata": {},
   "source": [
    "##### LIST → NP\n",
    "[生成](#生成)のところで説明済み。"
   ]
  },
  {
   "cell_type": "markdown",
   "id": "db848b3a-7827-4180-871b-a1071c03628f",
   "metadata": {},
   "source": [
    "##### LIST ← NP\n",
    "ndarray.tolist()メソッドが使える。"
   ]
  },
  {
   "cell_type": "code",
   "execution_count": null,
   "id": "8cf66842-7d86-4ae4-88a2-32c359962607",
   "metadata": {},
   "outputs": [],
   "source": [
    "x=a.tolist()\n",
    "print(type(x))\n",
    "print(x)"
   ]
  },
  {
   "cell_type": "markdown",
   "id": "b623f9ec-8b4d-45f5-bccd-201ef62b503c",
   "metadata": {
    "jp-MarkdownHeadingCollapsed": true,
    "tags": []
   },
   "source": [
    "#### NP ⇔ DF型変換\n",
    "[PandasTraining](PandasTraining.ipynb)で説明する。"
   ]
  },
  {
   "cell_type": "markdown",
   "id": "b23ac505-0ee0-449c-8913-e12bac611425",
   "metadata": {
    "tags": []
   },
   "source": [
    "## 配列⇔行列変換"
   ]
  },
  {
   "cell_type": "markdown",
   "id": "23b93635-7b8e-473b-9359-1fd3779fe6ab",
   "metadata": {
    "tags": []
   },
   "source": [
    "#### 配列の行列化\n",
    "機械学習ライブラリ入力用 "
   ]
  },
  {
   "cell_type": "markdown",
   "id": "da0959f3-80e3-47f2-bbfd-2d68bf2b3602",
   "metadata": {
    "tags": []
   },
   "source": [
    "##### １行ｎ列化"
   ]
  },
  {
   "cell_type": "markdown",
   "id": "dc554bcf-a36b-465e-8ee1-febcc6e55ff0",
   "metadata": {},
   "source": [
    "###### reshape\n",
    "引数x, y, zの順に次元の要素数を指定。"
   ]
  },
  {
   "cell_type": "code",
   "execution_count": null,
   "id": "500cc5f9-da83-43f4-89b6-cc8698160b28",
   "metadata": {},
   "outputs": [],
   "source": [
    "# 普通は、以下のように使うが、\n",
    "a=function1()\n",
    "print(\"前\\n\", a)\n",
    "a=a.reshape(2, 5)\n",
    "print(\"後\\n\", a)\n",
    "print(a.shape)"
   ]
  },
  {
   "cell_type": "code",
   "execution_count": null,
   "id": "1bedab5e-78fa-4d76-946b-ff743896f51e",
   "metadata": {},
   "outputs": [],
   "source": [
    "# １行ｎ列化では、以下のように使う。\n",
    "a=function1()\n",
    "print(\"前\\n\", a)\n",
    "a=a.reshape(1, -1) # 1行n列 (nは自動計算\n",
    "print(\"後\\n\", a)\n",
    "print(a.shape)"
   ]
  },
  {
   "cell_type": "markdown",
   "id": "77333854-54fc-4a06-ad23-0ab57a956e20",
   "metadata": {},
   "source": [
    "###### np.newaxis\n",
    "np.newaxisで新次元追加となる（既存次元は[:]で指定）。"
   ]
  },
  {
   "cell_type": "code",
   "execution_count": null,
   "id": "b1321132-fdd3-4ca7-8823-5309f16436ce",
   "metadata": {},
   "outputs": [],
   "source": [
    "a=function1()\n",
    "print(\"前\\n\", a)\n",
    "a=a[np.newaxis, :] # 1行n列 (nは自動計算\n",
    "print(\"後\\n\", a)\n",
    "print(a.shape)"
   ]
  },
  {
   "cell_type": "markdown",
   "id": "3a74657f-36b8-4249-bcf1-c99c703ca4f3",
   "metadata": {
    "tags": []
   },
   "source": [
    "##### ｎ行１列化"
   ]
  },
  {
   "cell_type": "markdown",
   "id": "1b1b0af8-b951-49ce-886e-842fbc3ffce3",
   "metadata": {},
   "source": [
    "###### reshape"
   ]
  },
  {
   "cell_type": "code",
   "execution_count": null,
   "id": "0d806198-29b7-4253-9e3b-7b72710cef0b",
   "metadata": {},
   "outputs": [],
   "source": [
    "a=function1()\n",
    "print(\"前\\n\", a)\n",
    "a=a.reshape(-1, 1) # n行1列 (nは自動計算\n",
    "print(\"後\\n\", a)\n",
    "print(a.shape)"
   ]
  },
  {
   "cell_type": "markdown",
   "id": "72b8aff0-def9-4267-8f72-1862da147f87",
   "metadata": {},
   "source": [
    "###### np.newaxis"
   ]
  },
  {
   "cell_type": "code",
   "execution_count": null,
   "id": "05d5482a-98db-487f-af9e-c89a4e2ed2a7",
   "metadata": {},
   "outputs": [],
   "source": [
    "a=function1()\n",
    "print(\"前\\n\", a)\n",
    "a=a[:, np.newaxis] # n行1列 (nは自動計算\n",
    "print(\"後\\n\", a)\n",
    "print(a.shape)"
   ]
  },
  {
   "cell_type": "markdown",
   "id": "967c1623-8dc5-4f55-b947-244ee2dcff76",
   "metadata": {
    "tags": []
   },
   "source": [
    "#### 行列の配列化\n",
    "機械学習ライブラリ入力用"
   ]
  },
  {
   "cell_type": "markdown",
   "id": "b77f6012-6358-437d-a224-67120a54fc3e",
   "metadata": {
    "tags": []
   },
   "source": [
    "##### 平坦化（ベクトル化）"
   ]
  },
  {
   "cell_type": "markdown",
   "id": "31501d25-ad11-4a02-9dc5-0422d146bf41",
   "metadata": {},
   "source": [
    "###### flatten"
   ]
  },
  {
   "cell_type": "code",
   "execution_count": null,
   "id": "7779edd8-df9c-4626-ad57-3ce6e7a54a7e",
   "metadata": {},
   "outputs": [],
   "source": [
    "a=function2()\n",
    "print(\"前\\n\", a)\n",
    "a=a.flatten()\n",
    "print(\"後\\n\", a)"
   ]
  },
  {
   "cell_type": "markdown",
   "id": "4d25e6bc-14d2-4523-b05a-51336494d12c",
   "metadata": {},
   "source": [
    "###### reshape\n",
    "要素n の 1次元配列 ≒ ベクトル化"
   ]
  },
  {
   "cell_type": "code",
   "execution_count": null,
   "id": "832f30fb-5ffb-4a31-884a-b4982bd92dba",
   "metadata": {},
   "outputs": [],
   "source": [
    "a=function2()\n",
    "print(\"前\\n\", a)\n",
    "a=a.reshape(-1)\n",
    "print(\"後\\n\", a)"
   ]
  },
  {
   "cell_type": "markdown",
   "id": "2b741b16-e483-4c14-87c5-c9131c002d45",
   "metadata": {
    "tags": []
   },
   "source": [
    "##### 行ベクトル、列ベクトル"
   ]
  },
  {
   "cell_type": "markdown",
   "id": "07382247-f89e-4ed2-b46e-d4756895e574",
   "metadata": {},
   "source": [
    "###### 行ベクトル（横ベクトル）化"
   ]
  },
  {
   "cell_type": "code",
   "execution_count": null,
   "id": "245c9544-de9e-4011-ba5c-ca2c4557facc",
   "metadata": {},
   "outputs": [],
   "source": [
    "a=function2()\n",
    "print(\"前\\n\", a)\n",
    "a=a[0,:] # 1行目、全列スライス\n",
    "print(\"後\\n\", a)"
   ]
  },
  {
   "cell_type": "markdown",
   "id": "34305be6-fa12-4029-bf0f-729ebfc50c67",
   "metadata": {},
   "source": [
    "###### 列ベクトル（縦ベクトル）化"
   ]
  },
  {
   "cell_type": "code",
   "execution_count": null,
   "id": "37fd99af-74db-4668-9092-b1dca3edcb2a",
   "metadata": {},
   "outputs": [],
   "source": [
    "a=function2()\n",
    "print(\"前\\n\", a)\n",
    "a=a[:,0] # 1列目、全行スライス\n",
    "print(\"後\\n\", a)"
   ]
  },
  {
   "cell_type": "markdown",
   "id": "b6afe0bc-6af5-44dc-9628-6909af41e37e",
   "metadata": {
    "tags": []
   },
   "source": [
    "## 行列の行・列の追加・削除"
   ]
  },
  {
   "cell_type": "code",
   "execution_count": null,
   "id": "a552965a-3d5c-410c-b78e-e2c7225f1654",
   "metadata": {},
   "outputs": [],
   "source": [
    "a=function2()\n",
    "a"
   ]
  },
  {
   "cell_type": "markdown",
   "id": "5cf5b641-c15e-46f2-ba19-aa5534078f5b",
   "metadata": {
    "tags": []
   },
   "source": [
    "### 行追加"
   ]
  },
  {
   "cell_type": "markdown",
   "id": "c51f9d6c-ad0c-426e-a413-815ab928d638",
   "metadata": {
    "tags": []
   },
   "source": [
    "#### vstack\n",
    "2次元で言うと、垂直方向＝行方向"
   ]
  },
  {
   "cell_type": "code",
   "execution_count": null,
   "id": "fe79e40a-9583-412f-8f41-5d691c8af612",
   "metadata": {},
   "outputs": [],
   "source": [
    "np.vstack([a, a])"
   ]
  },
  {
   "cell_type": "markdown",
   "id": "2943b10f-b653-4e04-acd3-c5253a258640",
   "metadata": {},
   "source": [
    "#### concatenate\n",
    "既定では０次元目（行）方向に結合"
   ]
  },
  {
   "cell_type": "code",
   "execution_count": null,
   "id": "970ab673-5488-46ea-ab5a-29228add4c10",
   "metadata": {},
   "outputs": [],
   "source": [
    "# 以下は、同じ意味。\n",
    "# np.concatenate([a, a])\n",
    "np.concatenate([a, a], 0)"
   ]
  },
  {
   "cell_type": "markdown",
   "id": "77d5b28c-24bf-4fe8-9894-c7dbc9ae5885",
   "metadata": {
    "tags": []
   },
   "source": [
    "### 列追加"
   ]
  },
  {
   "cell_type": "markdown",
   "id": "322f344f-59c0-4e1b-80e1-c6c7d4964613",
   "metadata": {},
   "source": [
    "#### hstack\n",
    "2次元でいうと、水平方向＝列方向にスタック"
   ]
  },
  {
   "cell_type": "code",
   "execution_count": null,
   "id": "a13bac42-214a-4ea3-a408-5f42332e5268",
   "metadata": {},
   "outputs": [],
   "source": [
    "np.hstack([a, a])"
   ]
  },
  {
   "cell_type": "markdown",
   "id": "1e7b4db6-7da5-48cf-b998-a9621c10e863",
   "metadata": {},
   "source": [
    "#### concatenate\n",
    "明示して、１次元目（列）方向に結合"
   ]
  },
  {
   "cell_type": "code",
   "execution_count": null,
   "id": "3c937041-5797-4d73-81cc-e57ec52e0b8a",
   "metadata": {},
   "outputs": [],
   "source": [
    "np.concatenate([a, a], 1)"
   ]
  },
  {
   "cell_type": "markdown",
   "id": "580a1a17-e357-4924-84ee-78cb058e6307",
   "metadata": {
    "tags": []
   },
   "source": [
    "### 行削除\n",
    "≒ スライシング"
   ]
  },
  {
   "cell_type": "code",
   "execution_count": null,
   "id": "b0e30c15-338f-4d6b-b8e1-1ac70dbffa28",
   "metadata": {},
   "outputs": [],
   "source": [
    "a=function2()\n",
    "print(\"前\\n\", a)\n",
    "a=a[0:2, :]\n",
    "print(\"後\\n\", a)"
   ]
  },
  {
   "cell_type": "markdown",
   "id": "62bf05f6-b8c1-404f-85d5-b1ee924601e2",
   "metadata": {
    "tags": []
   },
   "source": [
    "### 列削除\n",
    "≒ スライシング"
   ]
  },
  {
   "cell_type": "code",
   "execution_count": null,
   "id": "18003170-679b-48ba-9456-a5879c347110",
   "metadata": {},
   "outputs": [],
   "source": [
    "a=function2()\n",
    "print(\"前\\n\", a)\n",
    "a=a[:, 0:1]\n",
    "print(\"後\\n\", a)"
   ]
  },
  {
   "cell_type": "markdown",
   "id": "f54bf1c2-fe01-4c4c-a2e4-551b5e527076",
   "metadata": {
    "jp-MarkdownHeadingCollapsed": true,
    "tags": []
   },
   "source": [
    "### 要素の追加"
   ]
  },
  {
   "cell_type": "markdown",
   "id": "48fec428-dd5c-4964-9f7e-82c768c5cd88",
   "metadata": {
    "tags": []
   },
   "source": [
    "#### 新規次元を追加してスタック"
   ]
  },
  {
   "cell_type": "markdown",
   "id": "90d10eff-bd8c-46e0-9c7e-21001e46c5ad",
   "metadata": {},
   "source": [
    "##### ベクトル要素が新規次元でスタックして新規次元を追加\n",
    "つまり、新規次元で「配列の配列 ≒ 行列（2次元テンソル）」化"
   ]
  },
  {
   "cell_type": "code",
   "execution_count": null,
   "id": "b34efc6f-6bbc-43ce-b4a2-3e6eed0b08d5",
   "metadata": {},
   "outputs": [],
   "source": [
    "a=function2().flatten()\n",
    "print(\"前\\n\", a)\n",
    "a=np.stack([a, a])\n",
    "print(\"後\\n\", a)\n",
    "# np.stack([a.flatten(), a.flatten()], 0) # 0は既定値なので同じ意味。"
   ]
  },
  {
   "cell_type": "markdown",
   "id": "0959ff5c-2f50-4c81-8c17-27a4a84091be",
   "metadata": {},
   "source": [
    "##### 行列の要素が新規次元でスタックして新規次元を追加\n",
    "つまり、新規次元で「行列の配列（≒ 3次元テンソル）」化"
   ]
  },
  {
   "cell_type": "code",
   "execution_count": null,
   "id": "35b58af4-8d62-4a1c-b69c-ee892bb5d6b1",
   "metadata": {},
   "outputs": [],
   "source": [
    "a=function2()\n",
    "print(\"前\\n\", a)\n",
    "a=np.stack([a, a])\n",
    "print(\"後\\n\", a)\n",
    "# np.stack([a, a], 0)"
   ]
  },
  {
   "cell_type": "markdown",
   "id": "070ca4d6-1810-4d13-8747-b466afe34516",
   "metadata": {
    "tags": []
   },
   "source": [
    "#### 既存の次元でスタックして次元を追加\n",
    "ココから説明が難しくなる。"
   ]
  },
  {
   "cell_type": "markdown",
   "id": "cbf4f5a2-9014-40e6-9f70-7c5e410ace3d",
   "metadata": {},
   "source": [
    "##### ベクトル要素が既存の次元で（列方向に）スタックして新規次元を追加"
   ]
  },
  {
   "cell_type": "code",
   "execution_count": null,
   "id": "8e40c02c-c64c-437a-98d9-1aed476421c1",
   "metadata": {},
   "outputs": [],
   "source": [
    "a=function2().flatten()\n",
    "print(\"前\\n\", a)\n",
    "a=np.stack([a, a], 1)\n",
    "print(\"後\\n\", a)"
   ]
  },
  {
   "cell_type": "markdown",
   "id": "0545d094-df79-42d7-8776-b159b68bdefb",
   "metadata": {},
   "source": [
    "##### 行列の要素が既存の次元で（行方向に）スタックして新規次元を追加\n",
    "3行2列で、行が行方向に3（行回）スタックするので2・2行列 * 3になる。"
   ]
  },
  {
   "cell_type": "code",
   "execution_count": null,
   "id": "dd668fe1-d3cc-442a-9e82-e59f59c48513",
   "metadata": {},
   "outputs": [],
   "source": [
    "a=function2()\n",
    "print(\"前\\n\", a)\n",
    "a=np.stack([a, a], 1)\n",
    "print(\"後\\n\", a)"
   ]
  },
  {
   "cell_type": "markdown",
   "id": "570e32e6-d6bc-4aef-bc70-11fd691e4a94",
   "metadata": {},
   "source": [
    "##### 行列の要素が既存の次元で（列方向に）スタックして新規次元を追加\n",
    "3行2列で、行が列方向に3（行回）スタックするので2・2行列 * 3になる。"
   ]
  },
  {
   "cell_type": "code",
   "execution_count": null,
   "id": "81840102-42b0-420e-b0e9-540d0959decc",
   "metadata": {},
   "outputs": [],
   "source": [
    "a=function2()\n",
    "print(\"前\\n\", a)\n",
    "a=np.stack([a, a], 2)\n",
    "print(\"後\\n\", a)"
   ]
  },
  {
   "cell_type": "markdown",
   "id": "06434bc9-c94d-4bbd-b554-5cca5bf74c44",
   "metadata": {
    "tags": []
   },
   "source": [
    "## 行列の変換"
   ]
  },
  {
   "cell_type": "code",
   "execution_count": null,
   "id": "0827d7c0-b162-4471-9d89-1ff0fd1ff63c",
   "metadata": {},
   "outputs": [],
   "source": [
    "a=function2()\n",
    "a"
   ]
  },
  {
   "cell_type": "markdown",
   "id": "a16a93a7-f169-4b3e-abcc-dbfcc8f77e01",
   "metadata": {
    "tags": []
   },
   "source": [
    "### 転置行列"
   ]
  },
  {
   "cell_type": "markdown",
   "id": "26657e02-89b1-46f3-9a38-7edb27dd3286",
   "metadata": {},
   "source": [
    "#### Tプロパティ"
   ]
  },
  {
   "cell_type": "code",
   "execution_count": null,
   "id": "ae96ce5c-e65b-4474-9144-f2838cc3fa05",
   "metadata": {},
   "outputs": [],
   "source": [
    "print(a.T)"
   ]
  },
  {
   "cell_type": "markdown",
   "id": "584f194e-7e82-4491-b3a8-6f2a741769b5",
   "metadata": {},
   "source": [
    "#### transposeメソッド"
   ]
  },
  {
   "cell_type": "code",
   "execution_count": null,
   "id": "175ce472-3fca-47cf-8481-89d22cd7d721",
   "metadata": {},
   "outputs": [],
   "source": [
    "print(a.transpose())"
   ]
  },
  {
   "cell_type": "markdown",
   "id": "2575d592-009d-472d-8f97-704fba3db458",
   "metadata": {
    "tags": []
   },
   "source": [
    "### 次元の入れ替え\n",
    "transposeを使うと柔軟な対応が可能"
   ]
  },
  {
   "cell_type": "markdown",
   "id": "4b10defa-38d5-49a3-bf8b-c44b81523ed9",
   "metadata": {},
   "source": [
    "#### 行列（２次元配列"
   ]
  },
  {
   "cell_type": "markdown",
   "id": "d62908a5-bf55-4f10-ad65-23685fbce15b",
   "metadata": {},
   "source": [
    "##### 既定は、0, 1, 2, 3..."
   ]
  },
  {
   "cell_type": "code",
   "execution_count": null,
   "id": "55fa103a-6247-4ba4-a980-926e49977ec4",
   "metadata": {},
   "outputs": [],
   "source": [
    "a.transpose([0, 1])"
   ]
  },
  {
   "cell_type": "markdown",
   "id": "e394f2fe-34a3-4265-80da-24c5648490d3",
   "metadata": {},
   "source": [
    "##### 入れ替えなので転置と同じ"
   ]
  },
  {
   "cell_type": "code",
   "execution_count": null,
   "id": "3aef9628-72aa-4155-9a46-d3356cfd26bf",
   "metadata": {},
   "outputs": [],
   "source": [
    "a.transpose([1, 0])"
   ]
  },
  {
   "cell_type": "markdown",
   "id": "d77dcc49-7721-4552-954d-0d6069d8ec88",
   "metadata": {},
   "source": [
    "#### ３次元配列"
   ]
  },
  {
   "cell_type": "code",
   "execution_count": null,
   "id": "290f9480-2e98-47c1-8750-b1fecc865218",
   "metadata": {},
   "outputs": [],
   "source": [
    "a=np.stack([a, a])\n",
    "a"
   ]
  },
  {
   "cell_type": "markdown",
   "id": "62d270ed-6b2f-462d-8ffc-3d718e911c71",
   "metadata": {},
   "source": [
    "##### 既定は、0, 1, 2, 3..."
   ]
  },
  {
   "cell_type": "code",
   "execution_count": null,
   "id": "2b4ebe56-7b81-4c2c-b0e5-8e5aae25d1f0",
   "metadata": {},
   "outputs": [],
   "source": [
    "a.transpose([0,1,2])"
   ]
  },
  {
   "cell_type": "markdown",
   "id": "e5c01487-50b6-468b-8156-43960b66e01c",
   "metadata": {},
   "source": [
    "##### 入れ替え（逆順"
   ]
  },
  {
   "cell_type": "code",
   "execution_count": null,
   "id": "50d3cb4b-f3f5-451d-812b-c5437f96e5e6",
   "metadata": {},
   "outputs": [],
   "source": [
    "a.transpose([2,1,0])"
   ]
  },
  {
   "cell_type": "markdown",
   "id": "786a4a90-0400-40db-b82a-e925c611bb14",
   "metadata": {},
   "source": [
    "##### 入れ替え（何気にnp.stack([a, a], 1)と同じ。"
   ]
  },
  {
   "cell_type": "code",
   "execution_count": null,
   "id": "b3f61cfd-5d5e-4830-90b2-8dba28d460ca",
   "metadata": {},
   "outputs": [],
   "source": [
    "a.transpose([1,0,2])"
   ]
  },
  {
   "cell_type": "markdown",
   "id": "ce26304e-d0d2-4d62-91d7-5c9bfd82b69e",
   "metadata": {},
   "source": [
    "##### 入れ替え（何気にnp.stack([a, a], 2)と同じ。"
   ]
  },
  {
   "cell_type": "code",
   "execution_count": null,
   "id": "7e97be61-59d4-4534-81a1-688353bb39e6",
   "metadata": {},
   "outputs": [],
   "source": [
    "a.transpose([1,2,0])"
   ]
  },
  {
   "cell_type": "markdown",
   "id": "65eeca14-7982-4454-ad45-49d2f2fb2c6c",
   "metadata": {},
   "source": [
    "### 再構成\n",
    "コチラは入れ替えではなく、再構成。"
   ]
  },
  {
   "cell_type": "markdown",
   "id": "97ae1caa-3538-4ebd-992e-21ca0adb38f3",
   "metadata": {},
   "source": [
    "#### 準備"
   ]
  },
  {
   "cell_type": "code",
   "execution_count": null,
   "id": "6377ca95-3955-45a0-978f-87e8d6063dae",
   "metadata": {},
   "outputs": [],
   "source": [
    "a=np.arange(0, 12)"
   ]
  },
  {
   "cell_type": "markdown",
   "id": "11bc3ca5-ac92-47df-8eb4-608e9b3ae3b0",
   "metadata": {},
   "source": [
    "#### numpy.reshape"
   ]
  },
  {
   "cell_type": "code",
   "execution_count": null,
   "id": "ad6cf52f-59fd-46d9-a3b6-900586338daf",
   "metadata": {},
   "outputs": [],
   "source": [
    "np.reshape(a,[4,3])"
   ]
  },
  {
   "cell_type": "code",
   "execution_count": null,
   "id": "90ee2e2d-051b-4131-b6c1-ce418a143f40",
   "metadata": {},
   "outputs": [],
   "source": [
    "np.reshape(a,[3,2,2]) "
   ]
  },
  {
   "cell_type": "markdown",
   "id": "f0911d0e-ac9c-427f-9da1-e34c0b6f2206",
   "metadata": {},
   "source": [
    "#### ndarray.reshape"
   ]
  },
  {
   "cell_type": "code",
   "execution_count": null,
   "id": "f5d824c9-db18-4c03-b755-64bf06355217",
   "metadata": {},
   "outputs": [],
   "source": [
    "a.reshape([4,3])"
   ]
  },
  {
   "cell_type": "code",
   "execution_count": null,
   "id": "e4193e05-278d-4623-8902-6cfe1ecdd570",
   "metadata": {},
   "outputs": [],
   "source": [
    "a.reshape([3,2,2]) "
   ]
  },
  {
   "cell_type": "markdown",
   "id": "0f7b0a8b-babf-4660-a318-044d1419fe89",
   "metadata": {
    "tags": []
   },
   "source": [
    "## One-Hotエンコーディング"
   ]
  },
  {
   "cell_type": "markdown",
   "id": "8ed58866-df2e-45fe-9d1c-94ccdc4ce26a",
   "metadata": {
    "tags": []
   },
   "source": [
    "### 準備"
   ]
  },
  {
   "cell_type": "code",
   "execution_count": null,
   "id": "c8756b56-3f58-4a96-9e60-dc08f3fa52d7",
   "metadata": {},
   "outputs": [],
   "source": [
    "a=np.array([[0,1,2,3,4,5,6,7,8,9]])\n",
    "a"
   ]
  },
  {
   "cell_type": "markdown",
   "id": "c8fb20ef-d199-4af9-900b-9d20c9572c1b",
   "metadata": {},
   "source": [
    "### エンコーディング"
   ]
  },
  {
   "cell_type": "markdown",
   "id": "fa4dae03-0ca3-456f-a0f2-a2cde69a93fc",
   "metadata": {},
   "source": [
    "#### np_utils.to_categoricalを使う。"
   ]
  },
  {
   "cell_type": "code",
   "execution_count": null,
   "id": "e7005796-dce5-4ac7-a4dc-f83a3529781e",
   "metadata": {},
   "outputs": [],
   "source": [
    "# Kerasのライブラリらしい。\n",
    "# b = np_utils.to_categorical(a, num_classes=10).astype('i') "
   ]
  },
  {
   "cell_type": "markdown",
   "id": "7e830e7c-2780-436a-b417-fb2eb7c675bd",
   "metadata": {},
   "source": [
    "#### np.identityを使う。"
   ]
  },
  {
   "cell_type": "code",
   "execution_count": null,
   "id": "cd877c02-3b71-4d91-b045-4ca2d2d54354",
   "metadata": {},
   "outputs": [],
   "source": [
    "b = np.identity(10)[a].astype('i')\n",
    "b"
   ]
  },
  {
   "cell_type": "markdown",
   "id": "42df419b-c16a-405c-92eb-abbb17dd6a59",
   "metadata": {},
   "source": [
    "### デコーディング"
   ]
  },
  {
   "cell_type": "code",
   "execution_count": null,
   "id": "b9885726-d88a-46e3-947e-7828ce8fea69",
   "metadata": {},
   "outputs": [],
   "source": [
    "c=b.argmax(axis=1)\n",
    "c"
   ]
  }
 ],
 "metadata": {
  "kernelspec": {
   "display_name": "Python 3 (ipykernel)",
   "language": "python",
   "name": "python3"
  },
  "language_info": {
   "codemirror_mode": {
    "name": "ipython",
    "version": 3
   },
   "file_extension": ".py",
   "mimetype": "text/x-python",
   "name": "python",
   "nbconvert_exporter": "python",
   "pygments_lexer": "ipython3",
   "version": "3.10.4"
  }
 },
 "nbformat": 4,
 "nbformat_minor": 5
}
