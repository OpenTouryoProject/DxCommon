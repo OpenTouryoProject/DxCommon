{
 "cells": [
  {
   "cell_type": "markdown",
   "id": "cf8af0d7-c198-4acd-921a-f3683f675ced",
   "metadata": {},
   "source": [
    "# Matplotlibのトレーニング♨\n",
    "\n",
    "## [目次](TableOfContents.ipynb)\n",
    "- [準備](#準備)\n",
    "  - [インストール](#インストール)\n",
    "  - [インポート](#インポート)\n",
    "  - [jupyter上で利用するとき](#jupyter上で利用するとき)\n",
    "- [表示](#表示)\n",
    "  - [画像の表示](#画像の表示)\n",
    "  - [ヒストグラム](#ヒストグラム)\n",
    "  - [パレート図](#パレート図)\n",
    "  - [散布図](#散布図)\n",
    "  - [散布図行列](#散布図行列)\n",
    "  - [ヒートマップ](#ヒートマップ)\n",
    "  - [二次元プロット](#二次元プロット)\n",
    "    - [三次関数グラフ](#三次関数グラフ)\n",
    "    - [三角関数グラフ](#三角関数グラフ)\n",
    "  - [三次元プロット](#三次元プロット)\n",
    "  \n",
    "## 参考\n",
    "開発基盤部会 Wiki\n",
    "- Matplotlib  \n",
    "https://dotnetdevelopmentinfrastructure.osscons.jp/index.php?Matplotlib"
   ]
  },
  {
   "cell_type": "markdown",
   "id": "c3cbfe23-a666-4ac1-8790-fd097d812745",
   "metadata": {
    "jp-MarkdownHeadingCollapsed": true,
    "tags": []
   },
   "source": [
    "## 準備\n",
    "プロキシ環境の場合などについては、[コチラ](PythonTraining.ipynb)をご参照ください。"
   ]
  },
  {
   "cell_type": "markdown",
   "id": "e606c1f4-840e-4e85-a6a1-7bbe7a7678df",
   "metadata": {
    "tags": []
   },
   "source": [
    "### インストール"
   ]
  },
  {
   "cell_type": "code",
   "execution_count": null,
   "id": "83d07511-4024-4aed-b23b-3f4cf6548efd",
   "metadata": {},
   "outputs": [],
   "source": [
    "!pip install numpy\n",
    "!pip install pandas\n",
    "!pip install openpyxl\n",
    "!pip install matplotlib\n",
    "!pip install seaborn"
   ]
  },
  {
   "cell_type": "markdown",
   "id": "3a4c204c-a98d-4e6e-9501-b2af8a808d13",
   "metadata": {},
   "source": [
    "### インポート"
   ]
  },
  {
   "cell_type": "code",
   "execution_count": null,
   "id": "56cb54d8-15d2-44e6-b114-dd3f6aaf5579",
   "metadata": {},
   "outputs": [],
   "source": [
    "import io\n",
    "import requests\n",
    "\n",
    "import numpy as np\n",
    "import pandas as pd\n",
    "import matplotlib.pyplot as plt\n",
    "import seaborn as sns"
   ]
  },
  {
   "cell_type": "code",
   "execution_count": null,
   "id": "3ece097a-65d9-4763-88c3-3577e612ba5d",
   "metadata": {},
   "outputs": [],
   "source": [
    "import warnings\n",
    "warnings.filterwarnings('ignore')"
   ]
  },
  {
   "cell_type": "markdown",
   "id": "46332d64-be51-451f-a8d8-6ed9e8d44aec",
   "metadata": {},
   "source": [
    "### jupyter上で利用するとき"
   ]
  },
  {
   "cell_type": "code",
   "execution_count": null,
   "id": "28d03bbb-fe01-487b-a85e-5a393874638e",
   "metadata": {},
   "outputs": [],
   "source": [
    "%matplotlib inline"
   ]
  },
  {
   "cell_type": "markdown",
   "id": "7aaccd08-ddb9-4a4f-9bc9-91416b285f56",
   "metadata": {},
   "source": [
    "## 表示"
   ]
  },
  {
   "cell_type": "markdown",
   "id": "629affed-9d2d-4b98-aede-7f101e339ec5",
   "metadata": {
    "jp-MarkdownHeadingCollapsed": true,
    "tags": []
   },
   "source": [
    "### 画像の表示"
   ]
  },
  {
   "cell_type": "markdown",
   "id": "de1f17b1-e0e8-4601-8ec8-9cf9d59864a4",
   "metadata": {},
   "source": [
    "#### 事前に画像ファイルを配置しておく。"
   ]
  },
  {
   "cell_type": "code",
   "execution_count": null,
   "id": "cbd96a11-8813-4d61-b4ba-b1bc859e1140",
   "metadata": {},
   "outputs": [],
   "source": [
    "#from matplotlib.image import imread\n",
    "#img=imread('img1.jpg')\n",
    "#plt.imshow(img)\n",
    "#plt.show()"
   ]
  },
  {
   "cell_type": "markdown",
   "id": "b8b82f27-2b7d-4cd5-8dc2-71179fa03772",
   "metadata": {},
   "source": [
    "#### 画像ファイルをダウンロードして..."
   ]
  },
  {
   "cell_type": "markdown",
   "id": "8d14574f-e263-4dbd-8294-115c7fe42fb1",
   "metadata": {},
   "source": [
    "##### 画像ファイルをダウンロードして保存\n",
    "必要に応じて[環境変数にプロキシ設定](PythonTraining.ipynb)をしておくと良い。"
   ]
  },
  {
   "cell_type": "code",
   "execution_count": null,
   "id": "3aa0c627-ced2-41c5-bfd1-25e65548a944",
   "metadata": {},
   "outputs": [],
   "source": [
    "proxies = { # プロキシ設定\n",
    "\"http\":\"http://<user_name>:<password>@<proxy_host>:<proxy_port>/\",\n",
    "\"https\":\"https://<user_name>:<password>@<proxy_host>:<proxy_port>/\"\n",
    "}\n",
    "\n",
    "url = 'https://dotnetdevelopmentinfrastructure.osscons.jp/image/pukiwiki.png'\n",
    "res = requests.get(url) # , verify=False, proxies=proxies) # プロキシ\n",
    "with open('img1.jpg', 'wb') as saveFile : saveFile.write(res.content)"
   ]
  },
  {
   "cell_type": "markdown",
   "id": "a4919aaf-671a-4d8a-abb3-2990479d2f94",
   "metadata": {},
   "source": [
    "##### ダウンロードした画像ファイルを表示"
   ]
  },
  {
   "cell_type": "code",
   "execution_count": null,
   "id": "5948765f-890a-4f2f-81f3-317b533f2293",
   "metadata": {},
   "outputs": [],
   "source": [
    "from matplotlib.image import imread\n",
    "img=imread('img1.jpg') # io.BytesIO(res.content))\n",
    "plt.imshow(img)\n",
    "plt.show()"
   ]
  },
  {
   "cell_type": "markdown",
   "id": "f7225257-fee4-4cea-b644-35515a1d40b4",
   "metadata": {
    "tags": []
   },
   "source": [
    "### ヒストグラム"
   ]
  },
  {
   "cell_type": "markdown",
   "id": "b25be509-ee23-4a23-a868-51c99d8ed488",
   "metadata": {
    "jp-MarkdownHeadingCollapsed": true,
    "tags": []
   },
   "source": [
    "#### データの生成"
   ]
  },
  {
   "cell_type": "markdown",
   "id": "62fb108b-a252-4018-8286-69d5943e4780",
   "metadata": {},
   "source": [
    "##### 最も単純な例"
   ]
  },
  {
   "cell_type": "code",
   "execution_count": null,
   "id": "2bdedda3-2fcb-4baf-ad97-2192617dc2b7",
   "metadata": {},
   "outputs": [],
   "source": [
    "x = np.random.normal(70, 10, 1000) # 平均70・標準偏差10のデータ1000個"
   ]
  },
  {
   "cell_type": "markdown",
   "id": "27243bf4-016e-451c-bf8a-f8b6e6df05ea",
   "metadata": {},
   "source": [
    "##### 階層別表示の例"
   ]
  },
  {
   "cell_type": "code",
   "execution_count": null,
   "id": "9d4b7926-d976-4fd7-86c5-40c2252be8f9",
   "metadata": {},
   "outputs": [],
   "source": [
    "y=[0,1,2]\n",
    "# valのベクトルを生成し、ｎ行１列の２次元配列（行列）化\n",
    "y[0]=np.random.normal(50, 10, 1000).reshape(-1, 1) # 平均50・標準偏差10のデータ1000個\n",
    "y[1]=np.random.normal(150, 20, 1000).reshape(-1, 1) # 平均150・標準偏差20のデータ1000個\n",
    "y[2]=np.random.normal(100, 30, 1000).reshape(-1, 1) # 平均100・標準偏差30のデータ1000個\n",
    "# clsのベクトルを生成し、ｎ行１列の２次元配列（行列）化して、valとclsを結合（ｎ行２列の２次元配列（行列）\n",
    "y[0]=np.hstack([y[0], np.full(1000, 0).reshape(-1, 1)])\n",
    "y[1]=np.hstack([y[1], np.full(1000, 1).reshape(-1, 1)])\n",
    "y[2]=np.hstack([y[2], np.full(1000, 2).reshape(-1, 1)])\n",
    "# numpy.ndarray（行列）をDataFrame化\n",
    "y[0]=pd.DataFrame(y[0],columns=['val','cls'])\n",
    "y[1]=pd.DataFrame(y[1],columns=['val','cls'])\n",
    "y[2]=pd.DataFrame(y[2],columns=['val','cls'])\n",
    "# ３つのclsのDataFrameを結合\n",
    "df=y[0]\n",
    "df=pd.concat([df,y[1]],axis=0)\n",
    "df=pd.concat([df,y[2]],axis=0)\n",
    "# インデックス再設定\n",
    "df.index=np.arange(len(df))"
   ]
  },
  {
   "cell_type": "markdown",
   "id": "ebed5eab-31a1-4f9b-90b6-aa480b664adf",
   "metadata": {
    "jp-MarkdownHeadingCollapsed": true,
    "tags": []
   },
   "source": [
    "#### データの可視化"
   ]
  },
  {
   "cell_type": "markdown",
   "id": "b5c4607a-1861-432e-b7f8-9a8816b7ca25",
   "metadata": {},
   "source": [
    "##### 最も単純な例"
   ]
  },
  {
   "cell_type": "markdown",
   "id": "e67e1c4b-8bb9-49a2-9b48-8a4010097cbf",
   "metadata": {},
   "source": [
    "###### binsの自動算出"
   ]
  },
  {
   "cell_type": "code",
   "execution_count": null,
   "id": "a91ee3ca-e97b-4bac-9b72-6e15f18b6a18",
   "metadata": {},
   "outputs": [],
   "source": [
    "plt.hist(x)\n",
    "plt.show()"
   ]
  },
  {
   "cell_type": "markdown",
   "id": "fdcfcac4-b09e-4fc8-92d3-d91ddf33ec11",
   "metadata": {
    "tags": []
   },
   "source": [
    "###### 最適なbinsを算出\n",
    "- bins : ビン (表示する棒) の数\n",
    "- スタージェスの公式（1+log2n）を基に最適なbinsを算出"
   ]
  },
  {
   "cell_type": "code",
   "execution_count": null,
   "id": "94560a06-2237-4d22-a76d-7a44de1d839a",
   "metadata": {},
   "outputs": [],
   "source": [
    "import math\n",
    "bins = math.log(len(x), 2) + 1\n",
    "plt.hist(x, bins=round(bins))\n",
    "plt.show()"
   ]
  },
  {
   "cell_type": "markdown",
   "id": "5ad7b677-dbf2-4ac8-8026-fa8c39df0d45",
   "metadata": {},
   "source": [
    "##### 階層別表示の例\n",
    "cls列の値（階層）毎にグループ分けしてval値をヒストグラムで可視化"
   ]
  },
  {
   "cell_type": "code",
   "execution_count": null,
   "id": "9b0664d4-b91f-4ed0-bd5e-068c81ae6a18",
   "metadata": {},
   "outputs": [],
   "source": [
    "for _class, _color in zip([0,1,2], ['r','g','b']):\n",
    "    plt.hist(df[df.cls==_class]['val'], bins=round(bins), alpha=0.3, color=_color)\n",
    "plt.show()"
   ]
  },
  {
   "cell_type": "markdown",
   "id": "20c13bf7-c3a3-4e74-a7fa-f8aeb29ed9b3",
   "metadata": {
    "jp-MarkdownHeadingCollapsed": true,
    "tags": []
   },
   "source": [
    "### パレート図\n",
    "結構手数が要る。"
   ]
  },
  {
   "cell_type": "markdown",
   "id": "3cb547ae-2ef6-4693-b097-adb1375b4c72",
   "metadata": {
    "tags": []
   },
   "source": [
    "### 散布図"
   ]
  },
  {
   "cell_type": "markdown",
   "id": "f2495210-2d42-4543-8f62-4276113023aa",
   "metadata": {},
   "source": [
    "#### データの生成\n",
    "線形単回帰している風のデータを生成する。"
   ]
  },
  {
   "cell_type": "markdown",
   "id": "3f4549a6-499a-41fe-b567-b22a5a4f6696",
   "metadata": {},
   "source": [
    "##### データ１"
   ]
  },
  {
   "cell_type": "code",
   "execution_count": null,
   "id": "fb172e0f-9ca5-41c1-9d59-bd262d6782a0",
   "metadata": {},
   "outputs": [],
   "source": [
    "np.random.seed(0) # 乱数生成器の状態を指定\n",
    "x1=np.random.normal(50,10,100) # 平均50 標準偏差10の正規分布データ100個\n",
    "y1=x1+np.random.normal(0,10,100) # 線形単回帰している風のxに対応するyの値"
   ]
  },
  {
   "cell_type": "markdown",
   "id": "e49e3523-2f81-4ec0-a2d3-0ef8a1e8b55b",
   "metadata": {},
   "source": [
    "##### データ２\n",
    "より、相関係数が大きい感じのデータ。"
   ]
  },
  {
   "cell_type": "code",
   "execution_count": null,
   "id": "e506bdfc-b005-4ede-bf3f-0093659ce0fe",
   "metadata": {},
   "outputs": [],
   "source": [
    "np.random.seed(0) # 乱数生成器の状態を指定\n",
    "x2=np.random.normal(30,10,100) # 平均30 標準偏差10の正規分布データ100個\n",
    "y2=2*x2+np.random.normal(0,10,100) # 線形単回帰している風のxに対応するyの値"
   ]
  },
  {
   "cell_type": "markdown",
   "id": "05e1ec8c-e9b6-4155-950f-4069b5b3744d",
   "metadata": {},
   "source": [
    "#### データの可視化"
   ]
  },
  {
   "cell_type": "markdown",
   "id": "f6bc365b-2abd-44d5-a4e7-dfed43a0abf5",
   "metadata": {},
   "source": [
    "##### scatterメソッド"
   ]
  },
  {
   "cell_type": "markdown",
   "id": "667b2995-61c0-4dc6-8c9b-9ceffb9dd629",
   "metadata": {},
   "source": [
    "###### データ１"
   ]
  },
  {
   "cell_type": "code",
   "execution_count": null,
   "id": "11fc1df9-fa43-4db1-a272-fbf842f63b90",
   "metadata": {},
   "outputs": [],
   "source": [
    "plt.scatter(x1,y1)\n",
    "plt.show()"
   ]
  },
  {
   "cell_type": "markdown",
   "id": "efe07185-1315-407d-8e99-cdf132838895",
   "metadata": {},
   "source": [
    "###### データ２"
   ]
  },
  {
   "cell_type": "code",
   "execution_count": null,
   "id": "0212d643-4c79-4752-a922-1afbbd34d719",
   "metadata": {},
   "outputs": [],
   "source": [
    "plt.scatter(x2,y2)\n",
    "plt.show()"
   ]
  },
  {
   "cell_type": "markdown",
   "id": "72ce8793-c792-422e-a454-b19563191c9a",
   "metadata": {},
   "source": [
    "##### scatterメソッドのオプション"
   ]
  },
  {
   "cell_type": "markdown",
   "id": "301865fa-b599-4741-9cfe-3004dbe8acbb",
   "metadata": {},
   "source": [
    "###### １つのデータ群"
   ]
  },
  {
   "cell_type": "code",
   "execution_count": null,
   "id": "bd2a729c-24e0-4e99-a53e-7a25f385ac17",
   "metadata": {},
   "outputs": [],
   "source": [
    "# 最も単純な例\n",
    "plt.scatter(x1,y1)\n",
    "plt.show()"
   ]
  },
  {
   "cell_type": "code",
   "execution_count": null,
   "id": "aaf8390c-d208-4ba6-9b69-ea8cd2c4fe8d",
   "metadata": {},
   "outputs": [],
   "source": [
    "# 修飾を加えた例\n",
    "## データ１\n",
    "plt.scatter(x1,y1)\n",
    "plt.title('title') # グラフのタイトル\n",
    "plt.xlabel('x-label') # x軸のラベル\n",
    "plt.ylabel('y-label') # y軸のラベル\n",
    "plt.xticks(np.arange(0,100,10)) # 下限,上限,間隔\n",
    "plt.yticks(np.arange(0,150,10)) # 下限,上限,間隔\n",
    "plt.grid() # グリッド線を表示\n",
    "plt.show()"
   ]
  },
  {
   "cell_type": "code",
   "execution_count": null,
   "id": "c0799db8-ef1b-48cf-9912-ea0b37c69d6c",
   "metadata": {},
   "outputs": [],
   "source": [
    "# 修飾を加えた例\n",
    "## データ２\n",
    "plt.scatter(x2,y2)\n",
    "plt.title('title') # グラフのタイトル\n",
    "plt.xlabel('x-label') # x軸のラベル\n",
    "plt.ylabel('y-label') # y軸のラベル\n",
    "plt.xticks(np.arange(0,100,10)) # 下限,上限,間隔\n",
    "plt.yticks(np.arange(0,150,10)) # 下限,上限,間隔\n",
    "plt.grid() # グリッド線を表示\n",
    "plt.show()"
   ]
  },
  {
   "cell_type": "markdown",
   "id": "13fcf60d-278e-44f7-885b-4f672d60598a",
   "metadata": {},
   "source": [
    "###### ２つのデータ群"
   ]
  },
  {
   "cell_type": "code",
   "execution_count": null,
   "id": "c4448acc-b66f-48c6-b1a1-f01391f16874",
   "metadata": {},
   "outputs": [],
   "source": [
    "plt.scatter(x1,y1,color='red',marker='x',label='data1')\n",
    "plt.scatter(x2,y2,color='blue',marker='+',label='data2')\n",
    "plt.title('title') # グラフのタイトル\n",
    "plt.xlabel('x-label') # x軸のラベル\n",
    "plt.ylabel('y-label') # y軸のラベル\n",
    "plt.xticks(np.arange(0,100,10)) # 下限,上限,間隔\n",
    "plt.yticks(np.arange(0,150,10)) # 下限,上限,間隔\n",
    "plt.grid() # グリッド線を表示\n",
    "plt.show()"
   ]
  },
  {
   "cell_type": "markdown",
   "id": "09d634d7-db4a-4e79-bccc-8b4c94ee7ae9",
   "metadata": {
    "jp-MarkdownHeadingCollapsed": true,
    "tags": []
   },
   "source": [
    "### 散布図行列\n",
    "matplotlibラッパであるseabornを使って、  \n",
    "表の全ペアのヒストグラムと散布図を表示。  \n",
    "（dfは数値表として初期化されたDataFrame）"
   ]
  },
  {
   "cell_type": "markdown",
   "id": "b2fd9c96-1113-4ba3-a395-646575a2e7c3",
   "metadata": {},
   "source": [
    "#### データの生成"
   ]
  },
  {
   "cell_type": "markdown",
   "id": "2bf6d6d2-8595-46d0-93e8-ccfc96deb502",
   "metadata": {},
   "source": [
    "##### 準備\n",
    "scikit-learnのデータセットを使う"
   ]
  },
  {
   "cell_type": "code",
   "execution_count": null,
   "id": "b0d37b70-0cb0-462f-8d17-b58dbdbd9be4",
   "metadata": {},
   "outputs": [],
   "source": [
    "!pip install scikit-learn"
   ]
  },
  {
   "cell_type": "markdown",
   "id": "92692a41-c330-49f8-b234-c715a4ccd776",
   "metadata": {},
   "source": [
    "##### 生成"
   ]
  },
  {
   "cell_type": "code",
   "execution_count": null,
   "id": "4703561a-a9ed-41be-8550-c5f33d693389",
   "metadata": {},
   "outputs": [],
   "source": [
    "from sklearn import datasets\n",
    "iris = datasets.load_iris()\n",
    "df_data = pd.DataFrame(iris.data, columns=iris.feature_names)\n",
    "df_target = pd.DataFrame(iris.target, columns=['species'])\n",
    "df = pd.concat([df_data, df_target], axis=1)\n",
    "df.head()"
   ]
  },
  {
   "cell_type": "markdown",
   "id": "1576bf92-b060-482a-9c0b-a9db3038d306",
   "metadata": {},
   "source": [
    "#### データの描画"
   ]
  },
  {
   "cell_type": "code",
   "execution_count": null,
   "id": "4f15c721-b4f9-4816-a574-c0494e0f70ae",
   "metadata": {},
   "outputs": [],
   "source": [
    "sns.pairplot(df, height=2.0)\n",
    "plt.show()"
   ]
  },
  {
   "cell_type": "markdown",
   "id": "ceb8fd33-34ba-4f32-b246-2412c2079591",
   "metadata": {
    "jp-MarkdownHeadingCollapsed": true,
    "tags": []
   },
   "source": [
    "### ヒートマップ"
   ]
  },
  {
   "cell_type": "markdown",
   "id": "573e70ea-c3ea-41ea-8ba8-7ed4ece2e37d",
   "metadata": {},
   "source": [
    "#### データの生成"
   ]
  },
  {
   "cell_type": "code",
   "execution_count": null,
   "id": "9a59fc6b-1b16-42fe-bd36-3842821c78a2",
   "metadata": {},
   "outputs": [],
   "source": [
    "# 10x12 の一様乱数を生成\n",
    "np.random.seed(0)\n",
    "uniform_data = np.random.rand(10, 12)"
   ]
  },
  {
   "cell_type": "markdown",
   "id": "29b8653b-4a53-47ca-ad16-8f6e84afd50e",
   "metadata": {},
   "source": [
    "#### データの描画"
   ]
  },
  {
   "cell_type": "code",
   "execution_count": null,
   "id": "46c60990-42c4-4a72-b2d4-8c0ab7f7e452",
   "metadata": {},
   "outputs": [],
   "source": [
    "# 図表のサイズを指定\n",
    "plt.figure(figsize=(10, 7))\n",
    "\n",
    "# numpy.ndarray（行列）でもDataFrameでもOK\n",
    "# annot : 数値を表示するかどうか(annotation)\n",
    "# square: 四角を正方形に合わせるかどうか\n",
    "# fmt   : 表示する数値の形式(formatting)\n",
    "sns.heatmap(uniform_data, annot=True, square=True, fmt='.2f')\n",
    "\n",
    "plt.show()"
   ]
  },
  {
   "cell_type": "markdown",
   "id": "3271e15b-cdbc-4982-adf3-235ef3ac38fb",
   "metadata": {
    "tags": []
   },
   "source": [
    "### 2次元のプロット"
   ]
  },
  {
   "cell_type": "markdown",
   "id": "f7c631aa-e993-468b-b76b-2b00c81f8044",
   "metadata": {
    "jp-MarkdownHeadingCollapsed": true,
    "tags": []
   },
   "source": [
    "#### 3次関数グラフ "
   ]
  },
  {
   "cell_type": "markdown",
   "id": "66789375-addb-40fb-969c-7447935c1df7",
   "metadata": {},
   "source": [
    "##### データの生成\n",
    "コチラは関数なので、式（y=x^3+x^2x+x+1）からデータを生成する感じ。"
   ]
  },
  {
   "cell_type": "code",
   "execution_count": null,
   "id": "9b30af8b-ec33-4c24-8115-966517ed5582",
   "metadata": {},
   "outputs": [],
   "source": [
    "#x座標\n",
    "x=np.arange(-10,10,0.1) # -10 - +10まで0.1刻みの配列\n",
    "#x座標\n",
    "y=0.01*(x**3+x**2+x+1)  # 三次関数：y=x^3+x^2x+x+1"
   ]
  },
  {
   "cell_type": "markdown",
   "id": "979457ae-e939-4219-86cb-b13a512662b5",
   "metadata": {},
   "source": [
    "##### データの可視化\n",
    "グラフのプロット"
   ]
  },
  {
   "cell_type": "markdown",
   "id": "c8bf9caf-1644-46ad-bf24-9360f202eb85",
   "metadata": {},
   "source": [
    "###### 最も単純な例"
   ]
  },
  {
   "cell_type": "code",
   "execution_count": null,
   "id": "5ce4963b-fd42-4eae-801c-c9d338f17773",
   "metadata": {},
   "outputs": [],
   "source": [
    "plt.plot(x,y)  # グラフをプロットする\n",
    "plt.show()     # グラフを表示する"
   ]
  },
  {
   "cell_type": "markdown",
   "id": "b76bc376-0985-437f-8d9c-24e75b683d0d",
   "metadata": {},
   "source": [
    "###### 修飾を加えた例\n",
    "[前述の修飾項目](#１つのデータ群)を除く"
   ]
  },
  {
   "cell_type": "code",
   "execution_count": null,
   "id": "6ae9b995-dce1-4b42-a2e7-5e70893fd88b",
   "metadata": {},
   "outputs": [],
   "source": [
    "plt.plot(x,y) # グラフをプロットする\n",
    "plt.hlines([0], -5, 5, linestyles='dashed', color='gray') # x軸に平行な直線を表示\n",
    "plt.vlines([0], -1, 1, linestyles='dashed', color='gray') # y軸に平行な直線を表示\n",
    "plt.xlim([-5, 5])  # x軸方向の表示範囲を指定\n",
    "plt.ylim([-1, 1])  # y軸方向の表示範囲を指定\n",
    "plt.show() # グラフを表示する"
   ]
  },
  {
   "cell_type": "markdown",
   "id": "4313949f-c540-4fa9-89da-c5ed60c49a05",
   "metadata": {
    "jp-MarkdownHeadingCollapsed": true,
    "tags": []
   },
   "source": [
    "#### 3角関数グラフ"
   ]
  },
  {
   "cell_type": "markdown",
   "id": "6f0eff96-b50b-482f-a3ee-23028393659c",
   "metadata": {},
   "source": [
    "##### sin関数グラフ"
   ]
  },
  {
   "cell_type": "markdown",
   "id": "85d30c24-d673-44fe-89a2-42e672862106",
   "metadata": {},
   "source": [
    "###### データの生成\n",
    "sin関数からデータを生成する。"
   ]
  },
  {
   "cell_type": "code",
   "execution_count": null,
   "id": "792f6232-160e-4ec3-9f65-f566dae39c29",
   "metadata": {},
   "outputs": [],
   "source": [
    "#x座標\n",
    "x=np.arange(0,6,0.1) # 0 - 6まで0.1刻みの配列\n",
    "#y座標\n",
    "y=np.sin(x)"
   ]
  },
  {
   "cell_type": "markdown",
   "id": "68560fad-ce4c-4da4-b3bc-ae35d472d0da",
   "metadata": {},
   "source": [
    "###### データの描画"
   ]
  },
  {
   "cell_type": "code",
   "execution_count": null,
   "id": "c9262791-3d87-447f-9f16-699c729ebd07",
   "metadata": {},
   "outputs": [],
   "source": [
    "#グラフ描画\n",
    "plt.plot(x,y)\n",
    "plt.show()"
   ]
  },
  {
   "cell_type": "markdown",
   "id": "5c213bce-6bb8-4518-8108-70ba173ea370",
   "metadata": {},
   "source": [
    "##### sin, cos関数グラフ"
   ]
  },
  {
   "cell_type": "markdown",
   "id": "de303d0a-5b2e-42e5-9cff-735025d78e3e",
   "metadata": {},
   "source": [
    "###### データの生成"
   ]
  },
  {
   "cell_type": "code",
   "execution_count": null,
   "id": "cd700f1d-a700-4550-99a2-df542e2c9ef8",
   "metadata": {},
   "outputs": [],
   "source": [
    "#x座標\n",
    "x=np.arange(0,6,0.1) # 0 - 6まで0.1刻みの配列\n",
    "#y座標\n",
    "y1=np.sin(x)\n",
    "y2=np.cos(x)"
   ]
  },
  {
   "cell_type": "markdown",
   "id": "60f341be-2aea-40b0-9d34-e404200c2860",
   "metadata": {},
   "source": [
    "###### データの描画"
   ]
  },
  {
   "cell_type": "code",
   "execution_count": null,
   "id": "24dfb7da-8851-4c3e-8191-ed5ae3cc982d",
   "metadata": {},
   "outputs": [],
   "source": [
    "#グラフ描画\n",
    "plt.plot(x,y1, label=\"sin\")\n",
    "plt.plot(x,y2, linestyle=\"--\", label=\"cos\")\n",
    "plt.xlabel(\"x\")\n",
    "plt.ylabel(\"y\")\n",
    "plt.title(\"sin & cos\")\n",
    "plt.legend()\n",
    "plt.show()"
   ]
  },
  {
   "cell_type": "markdown",
   "id": "9aff696f-5b25-4d1d-b7e4-afc0437c0729",
   "metadata": {
    "jp-MarkdownHeadingCollapsed": true,
    "tags": []
   },
   "source": [
    "### 3次元のプロット"
   ]
  },
  {
   "cell_type": "markdown",
   "id": "86abfeaa-c59e-446f-98b1-35fa708758c1",
   "metadata": {},
   "source": [
    "#### 準備\n",
    "インポート"
   ]
  },
  {
   "cell_type": "code",
   "execution_count": null,
   "id": "d8c9eeb3-83d3-4592-81a8-00f2b4fce1e3",
   "metadata": {},
   "outputs": [],
   "source": [
    "from mpl_toolkits.mplot3d import Axes3D"
   ]
  },
  {
   "cell_type": "markdown",
   "id": "99276275-bee4-45e1-95a5-65015fdc2f05",
   "metadata": {},
   "source": [
    "#### 追加"
   ]
  },
  {
   "cell_type": "markdown",
   "id": "39f7d333-99c2-4d7b-940b-8b600fb16151",
   "metadata": {},
   "source": [
    "##### 点"
   ]
  },
  {
   "cell_type": "code",
   "execution_count": null,
   "id": "aacbf13b-1526-45ce-b2c3-e0cbcd9f6e5a",
   "metadata": {},
   "outputs": [],
   "source": [
    "# (x, y, z)\n",
    "x = np.random.rand(50)\n",
    "y = np.random.rand(50)\n",
    "z = np.random.rand(50)\n",
    "\n",
    "# 図表の定義\n",
    "fig = plt.figure()\n",
    "#ax = Axes3D(fig)\n",
    "ax = fig.add_subplot(projection='3d')\n",
    "\n",
    "# 3Dでプロット\n",
    "ax.scatter(x, y, z)\n",
    "\n",
    "# ラベル\n",
    "ax.set_xlabel('X-label')\n",
    "ax.set_ylabel('Y-label')\n",
    "ax.set_zlabel('Z-label')"
   ]
  },
  {
   "cell_type": "markdown",
   "id": "b95be169-3dde-4077-9288-567d41d94e6b",
   "metadata": {},
   "source": [
    "##### 線"
   ]
  },
  {
   "cell_type": "markdown",
   "id": "abc18176-c679-4af9-9822-e884b44ff96b",
   "metadata": {},
   "source": [
    "###### 直線"
   ]
  },
  {
   "cell_type": "code",
   "execution_count": null,
   "id": "3b1f7599-baec-4a56-83bf-6a260f3e6614",
   "metadata": {},
   "outputs": [],
   "source": [
    "# (x, y, z)\n",
    "x = [1, 2, 3, 4, 5]\n",
    "y = [1, 2, 3, 4, 5]\n",
    "z = [1, 2, 3, 4, 5]\n",
    "\n",
    "# 図表の定義\n",
    "fig = plt.figure()\n",
    "#ax = Axes3D(fig)\n",
    "ax = fig.add_subplot(projection='3d')\n",
    "\n",
    "# 3Dでプロット\n",
    "ax.plot(x, y, z, \"o-\")\n",
    "\n",
    "# ラベル\n",
    "ax.set_xlabel('X-label')\n",
    "ax.set_ylabel('Y-label')\n",
    "ax.set_zlabel('Z-label')"
   ]
  },
  {
   "cell_type": "markdown",
   "id": "45c98d87-4a88-43c8-bf60-e52067adff56",
   "metadata": {},
   "source": [
    "###### 曲線"
   ]
  },
  {
   "cell_type": "code",
   "execution_count": null,
   "id": "8c5f7df9-ee01-4215-8ef2-098865787be3",
   "metadata": {},
   "outputs": [],
   "source": [
    "# (x, y, z)\n",
    "x = np.linspace(0, 8 * np.pi, num=50)\n",
    "y = x * np.cos(x)\n",
    "z = x * np.sin(x)\n",
    "\n",
    "# 図表の定義\n",
    "fig = plt.figure()\n",
    "#ax = Axes3D(fig)\n",
    "ax = fig.add_subplot(projection='3d')\n",
    "\n",
    "# 3Dでプロット\n",
    "ax.plot(x, y, z, \"o-\")\n",
    "\n",
    "# ラベル\n",
    "ax.set_xlabel('X-label')\n",
    "ax.set_ylabel('Y-label')\n",
    "ax.set_zlabel('Z-label')"
   ]
  },
  {
   "cell_type": "markdown",
   "id": "812c1dad-adcd-40ed-935d-f02ec67ddb7e",
   "metadata": {},
   "source": [
    "##### 面"
   ]
  },
  {
   "cell_type": "markdown",
   "id": "79955883-34a0-42c0-b852-f873dd3af43e",
   "metadata": {},
   "source": [
    "###### 平面"
   ]
  },
  {
   "cell_type": "code",
   "execution_count": null,
   "id": "286485ab-b914-4016-bfc4-1f483d586e28",
   "metadata": {},
   "outputs": [],
   "source": [
    "# (x, y, z)\n",
    "# 2次元のグリッド座標\n",
    "x, y = np.meshgrid(np.arange(0, 40, 2.5), np.arange(1, 10, 0.5))\n",
    "# 平面の式\n",
    "z = 2*x + 3*y + 4 \n",
    "\n",
    "# 図表の定義\n",
    "fig = plt.figure()\n",
    "#ax = Axes3D(fig)\n",
    "ax = fig.add_subplot(projection='3d')\n",
    "\n",
    "# 3Dでプロット\n",
    "ax.plot_wireframe(x,y,z)\n",
    "\n",
    "# ラベル\n",
    "ax.set_xlabel('X-label')\n",
    "ax.set_ylabel('Y-label')\n",
    "ax.set_zlabel('Z-label')"
   ]
  },
  {
   "cell_type": "markdown",
   "id": "b5a60c1b-84c7-41d3-9399-918ef88fc26d",
   "metadata": {},
   "source": [
    "###### 曲面"
   ]
  },
  {
   "cell_type": "code",
   "execution_count": null,
   "id": "3a3d9d69-d6c4-461b-b1b3-cee4e198e38a",
   "metadata": {},
   "outputs": [],
   "source": [
    "# (x, y, z)\n",
    "# 2次元のグリッド座標\n",
    "x, y = np.meshgrid(np.arange(-3, 3, 0.25), np.arange(-3, 3, 0.25))\n",
    "# 曲面の式\n",
    "z = np.sin(x)+ np.cos(y)\n",
    "\n",
    "# 図表の定義\n",
    "fig = plt.figure()\n",
    "#ax = Axes3D(fig)\n",
    "ax = fig.add_subplot(projection='3d')\n",
    "\n",
    "# 3Dでプロット\n",
    "ax.plot_wireframe(x,y,z)\n",
    "\n",
    "# ラベル\n",
    "ax.set_xlabel('X-label')\n",
    "ax.set_ylabel('Y-label')\n",
    "ax.set_zlabel('Z-label')"
   ]
  }
 ],
 "metadata": {
  "kernelspec": {
   "display_name": "Python 3 (ipykernel)",
   "language": "python",
   "name": "python3"
  },
  "language_info": {
   "codemirror_mode": {
    "name": "ipython",
    "version": 3
   },
   "file_extension": ".py",
   "mimetype": "text/x-python",
   "name": "python",
   "nbconvert_exporter": "python",
   "pygments_lexer": "ipython3",
   "version": "3.10.4"
  }
 },
 "nbformat": 4,
 "nbformat_minor": 5
}
