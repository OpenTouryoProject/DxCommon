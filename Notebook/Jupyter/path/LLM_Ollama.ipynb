{
 "cells": [
  {
   "cell_type": "markdown",
   "id": "9b4d063a-309e-471e-9f37-c662ab4a0330",
   "metadata": {
    "tags": []
   },
   "source": [
    "# 環境準備"
   ]
  },
  {
   "cell_type": "markdown",
   "id": "2a67a867-38e8-415f-8150-e37d8abe327e",
   "metadata": {},
   "source": [
    "## 既出の準備\n",
    "- 以下の手順で環境を構築する。  \n",
    "https://dotnetdevelopmentinfrastructure.osscons.jp/index.php?OSS%E3%81%AELLM\n",
    "  - WSL2にOllamaをインストールし\n",
    "  - Ollamaを起動してLlama3を実行させておく。\n",
    "  - WSL2のNotebookからWebAPI経由でLLMを呼び出す。"
   ]
  },
  {
   "cell_type": "markdown",
   "id": "60a0e81f-d982-4d2d-9ebf-6581f0364411",
   "metadata": {
    "tags": []
   },
   "source": [
    "## 追加の準備\n",
    "- 必要に応じ、requestsをプロキシに振らないようにする。\n",
    "- !pip install できなくなるので proxies引数で無効化してもよい。"
   ]
  },
  {
   "cell_type": "markdown",
   "id": "c75d5c6f-81a2-48bc-866a-5db1fa4a9946",
   "metadata": {},
   "source": [
    "### プロキシ"
   ]
  },
  {
   "cell_type": "markdown",
   "id": "459c0b3e-2147-4b4b-8072-f5b413583341",
   "metadata": {},
   "source": [
    "```Shell\n",
    "%env HTTP_PROXY=\n",
    "%env HTTPS_PROXY=\n",
    "```"
   ]
  },
  {
   "cell_type": "markdown",
   "id": "2ccca592-baed-48bc-921c-24659d3d0124",
   "metadata": {},
   "source": [
    "### LLMを選択"
   ]
  },
  {
   "cell_type": "code",
   "execution_count": 1,
   "id": "b746a8c5-b07f-432f-975e-f941c19ca866",
   "metadata": {},
   "outputs": [],
   "source": [
    "llm = \"llama3\"\n",
    "#llm = \"phi3\""
   ]
  },
  {
   "cell_type": "markdown",
   "id": "ab9f910f-96d7-463f-bbf1-9e1224255bcd",
   "metadata": {},
   "source": [
    "### バージョン確認"
   ]
  },
  {
   "cell_type": "code",
   "execution_count": 2,
   "id": "d7ead7f0-db56-4677-bc11-9baeea4f6f51",
   "metadata": {},
   "outputs": [
    {
     "name": "stdout",
     "output_type": "stream",
     "text": [
      "Package                      Version\n",
      "---------------------------- ---------------\n",
      "absl-py                      2.1.0\n",
      "altair                       5.4.1\n",
      "annotated-types              0.7.0\n",
      "anyio                        4.6.2.post1\n",
      "argon2-cffi                  23.1.0\n",
      "argon2-cffi-bindings         21.2.0\n",
      "arrow                        1.3.0\n",
      "asttokens                    2.4.1\n",
      "astunparse                   1.6.3\n",
      "async-lru                    2.0.4\n",
      "attrs                        24.2.0\n",
      "babel                        2.16.0\n",
      "beautifulsoup4               4.12.3\n",
      "bleach                       6.1.0\n",
      "blinker                      1.4\n",
      "cachetools                   5.5.0\n",
      "certifi                      2024.8.30\n",
      "cffi                         1.17.1\n",
      "charset-normalizer           3.4.0\n",
      "click                        8.1.7\n",
      "comm                         0.2.2\n",
      "command-not-found            0.3\n",
      "contourpy                    1.3.0\n",
      "cryptography                 3.4.8\n",
      "cycler                       0.12.1\n",
      "dbus-python                  1.2.18\n",
      "debugpy                      1.8.7\n",
      "decorator                    5.1.1\n",
      "defusedxml                   0.7.1\n",
      "distro                       1.7.0\n",
      "distro-info                  1.1build1\n",
      "et_xmlfile                   2.0.0\n",
      "exceptiongroup               1.2.2\n",
      "executing                    2.1.0\n",
      "fastjsonschema               2.20.0\n",
      "filelock                     3.16.1\n",
      "flatbuffers                  24.3.25\n",
      "fonttools                    4.54.1\n",
      "fqdn                         1.5.1\n",
      "fsspec                       2024.10.0\n",
      "gast                         0.6.0\n",
      "gitdb                        4.0.11\n",
      "GitPython                    3.1.43\n",
      "google-pasta                 0.2.0\n",
      "grpcio                       1.67.1\n",
      "h11                          0.14.0\n",
      "h5py                         3.12.1\n",
      "httpcore                     1.0.6\n",
      "httplib2                     0.20.2\n",
      "httpx                        0.27.2\n",
      "huggingface-hub              0.26.2\n",
      "idna                         3.10\n",
      "importlib-metadata           4.6.4\n",
      "inquirerpy                   0.3.4\n",
      "ipykernel                    6.29.5\n",
      "ipython                      8.28.0\n",
      "isoduration                  20.11.0\n",
      "jedi                         0.19.1\n",
      "jeepney                      0.7.1\n",
      "Jinja2                       3.1.4\n",
      "jiter                        0.6.1\n",
      "joblib                       1.4.2\n",
      "json5                        0.9.25\n",
      "jsonpointer                  3.0.0\n",
      "jsonschema                   4.23.0\n",
      "jsonschema-specifications    2024.10.1\n",
      "jupyter_client               8.6.3\n",
      "jupyter_core                 5.7.2\n",
      "jupyter-events               0.10.0\n",
      "jupyter-lsp                  2.2.5\n",
      "jupyter_server               2.14.2\n",
      "jupyter_server_terminals     0.5.3\n",
      "jupyterlab                   4.2.5\n",
      "jupyterlab_pygments          0.3.0\n",
      "jupyterlab_server            2.27.3\n",
      "keras                        3.6.0\n",
      "keyring                      23.5.0\n",
      "kiwisolver                   1.4.7\n",
      "launchpadlib                 1.10.16\n",
      "lazr.restfulclient           0.14.4\n",
      "lazr.uri                     1.0.6\n",
      "libclang                     18.1.1\n",
      "Markdown                     3.7\n",
      "markdown-it-py               3.0.0\n",
      "MarkupSafe                   3.0.2\n",
      "matplotlib                   3.9.2\n",
      "matplotlib-inline            0.1.7\n",
      "mdurl                        0.1.2\n",
      "mistune                      3.0.2\n",
      "ml-dtypes                    0.4.1\n",
      "mlxtend                      0.23.2\n",
      "more-itertools               8.10.0\n",
      "namex                        0.0.8\n",
      "narwhals                     1.10.0\n",
      "nbclient                     0.10.0\n",
      "nbconvert                    7.16.4\n",
      "nbformat                     5.10.4\n",
      "nest-asyncio                 1.6.0\n",
      "netifaces                    0.11.0\n",
      "notebook_shim                0.2.4\n",
      "numpy                        2.0.2\n",
      "oauthlib                     3.2.0\n",
      "ollama                       0.3.3\n",
      "openai                       1.52.0\n",
      "opencv-python                4.10.0.84\n",
      "openpyxl                     3.1.5\n",
      "opt_einsum                   3.4.0\n",
      "optree                       0.13.0\n",
      "overrides                    7.7.0\n",
      "packaging                    24.1\n",
      "pandas                       2.2.3\n",
      "pandocfilters                1.5.1\n",
      "parso                        0.8.4\n",
      "patsy                        0.5.6\n",
      "pexpect                      4.9.0\n",
      "pfzy                         0.3.4\n",
      "pillow                       10.4.0\n",
      "pip                          24.3.1\n",
      "pipdeptree                   2.23.4\n",
      "platformdirs                 4.3.6\n",
      "prometheus_client            0.21.0\n",
      "prompt_toolkit               3.0.48\n",
      "protobuf                     5.28.2\n",
      "psutil                       6.1.0\n",
      "ptyprocess                   0.7.0\n",
      "pure_eval                    0.2.3\n",
      "pyarrow                      17.0.0\n",
      "pycparser                    2.22\n",
      "pydantic                     2.9.2\n",
      "pydantic_core                2.23.4\n",
      "pydeck                       0.9.1\n",
      "Pygments                     2.18.0\n",
      "PyGObject                    3.42.1\n",
      "PyJWT                        2.3.0\n",
      "pyparsing                    2.4.7\n",
      "python-apt                   2.3.0+ubuntu2.1\n",
      "python-dateutil              2.9.0.post0\n",
      "python-json-logger           2.0.7\n",
      "pytz                         2024.2\n",
      "PyYAML                       5.4.1\n",
      "pyzmq                        26.2.0\n",
      "referencing                  0.35.1\n",
      "requests                     2.32.3\n",
      "rfc3339-validator            0.1.4\n",
      "rfc3986-validator            0.1.1\n",
      "rich                         13.9.2\n",
      "rpds-py                      0.20.0\n",
      "scikit-learn                 1.5.2\n",
      "scipy                        1.14.1\n",
      "seaborn                      0.13.2\n",
      "SecretStorage                3.3.1\n",
      "Send2Trash                   1.8.3\n",
      "setuptools                   59.6.0\n",
      "six                          1.16.0\n",
      "smmap                        5.0.1\n",
      "sniffio                      1.3.1\n",
      "soupsieve                    2.6\n",
      "stack-data                   0.6.3\n",
      "statsmodels                  0.14.4\n",
      "streamlit                    1.39.0\n",
      "systemd-python               234\n",
      "tenacity                     9.0.0\n",
      "tensorboard                  2.18.0\n",
      "tensorboard-data-server      0.7.2\n",
      "tensorflow                   2.18.0\n",
      "tensorflow-io-gcs-filesystem 0.37.1\n",
      "termcolor                    2.5.0\n",
      "terminado                    0.18.1\n",
      "threadpoolctl                3.5.0\n",
      "tinycss2                     1.3.0\n",
      "toml                         0.10.2\n",
      "tomli                        2.0.2\n",
      "tornado                      6.4.1\n",
      "tqdm                         4.66.5\n",
      "traitlets                    5.14.3\n",
      "types-python-dateutil        2.9.0.20241003\n",
      "typing_extensions            4.12.2\n",
      "tzdata                       2024.2\n",
      "ubuntu-advantage-tools       27.12\n",
      "ufw                          0.36.1\n",
      "unattended-upgrades          0.1\n",
      "uri-template                 1.3.0\n",
      "urllib3                      2.2.3\n",
      "wadllib                      1.3.6\n",
      "watchdog                     5.0.3\n",
      "wcwidth                      0.2.13\n",
      "webcolors                    24.8.0\n",
      "webencodings                 0.5.1\n",
      "websocket-client             1.8.0\n",
      "Werkzeug                     3.1.3\n",
      "wheel                        0.37.1\n",
      "wrapt                        1.16.0\n",
      "zipp                         1.0.0\n"
     ]
    }
   ],
   "source": [
    "!pip list"
   ]
  },
  {
   "cell_type": "markdown",
   "id": "f076d25f-1ace-432f-a144-f4d433e2dec2",
   "metadata": {},
   "source": [
    "# 疎通確認"
   ]
  },
  {
   "cell_type": "markdown",
   "id": "8a01f39e-24b9-4e88-9369-28b297ad460b",
   "metadata": {},
   "source": [
    "## HTTPClient\n",
    "最も単純な、HTTPClient系ライブラリを使用した呼び出し。"
   ]
  },
  {
   "cell_type": "markdown",
   "id": "9d73631f-c0ef-4c52-b98e-4e73de3bf7cc",
   "metadata": {},
   "source": [
    "### Generate\n",
    "次単語予測モード"
   ]
  },
  {
   "cell_type": "code",
   "execution_count": 3,
   "id": "0a77bff5-70ac-4cbb-ac45-777db95e03fb",
   "metadata": {},
   "outputs": [
    {
     "name": "stdout",
     "output_type": "stream",
     "text": [
      "The color of the sky is a fascinating topic that has puzzled humans for centuries. Here's the simple explanation:\n",
      "\n",
      "**Short answer:** The sky appears blue because of a phenomenon called Rayleigh scattering, where shorter (blue) wavelengths of light are scattered more than longer (red) wavelengths by the tiny molecules of gases in the atmosphere.\n",
      "\n",
      "**Longer explanation:**\n",
      "\n",
      "When sunlight enters Earth's atmosphere, it encounters tiny molecules of gases such as nitrogen (N2) and oxygen (O2). These molecules scatter the light in all directions, but they scatter shorter wavelengths (like blue and violet) more than longer wavelengths (like red and orange).\n",
      "\n",
      "Here's what happens:\n",
      "\n",
      "1. **Sunlight enters the Earth's atmosphere**: The sun emits a broad spectrum of electromagnetic radiation, including visible light, ultraviolet (UV), and infrared (IR) radiation.\n",
      "2. **Light encounters atmospheric molecules**: As sunlight travels through the atmosphere, it encounters tiny molecules of gases like nitrogen and oxygen.\n",
      "3. **Scattering occurs**: The shorter wavelengths of blue and violet light are scattered more than longer wavelengths by these atmospheric molecules. This is known as Rayleigh scattering, named after the British physicist Lord Rayleigh who first described the phenomenon in the late 19th century.\n",
      "4. **Blue light scatters**: The shorter wavelengths of blue light are scattered in all directions, including towards our eyes. This is why the sky appears blue to us.\n",
      "5. **Other colors remain**: While blue light is scattered throughout the atmosphere, longer wavelengths like red and orange light continue to travel in a straight line without being scattered as much.\n",
      "\n",
      "**Why we see different hues of blue:**\n",
      "\n",
      "The color of the sky can appear different depending on several factors:\n",
      "\n",
      "* **Time of day**: During sunrise and sunset, the sun's rays have to travel through more of the atmosphere, scattering off more molecules and leaving us with a redder sky.\n",
      "* **Seasonal changes**: As Earth rotates, the amount of sunlight that reaches our eyes changes, leading to variations in color.\n",
      "* **Atmospheric conditions**: Dust, water vapor, and pollutants in the air can scatter light and alter its color.\n",
      "\n",
      "And there you have it! The blue color of the sky is a result of the way we see scattered light from the atmosphere interacting with our eyes.\n"
     ]
    }
   ],
   "source": [
    "import requests\n",
    "url = \"http://localhost:11434/api/generate\"\n",
    "payload = {\n",
    "    \"model\": f'{llm}',\n",
    "    \"prompt\": \"why is the sky blue?\",\n",
    "    \"stream\": False\n",
    "}\n",
    "\n",
    "response = requests.post(\n",
    "    url, json=payload,\n",
    "    proxies={\"http\": None, \"https\": None} #プロキシを無効にするときは必要\n",
    ")\n",
    "print(response.json()[\"response\"])"
   ]
  },
  {
   "cell_type": "markdown",
   "id": "bd20675e-ba0a-4fbd-bec2-62663b10ae3e",
   "metadata": {},
   "source": [
    "### Chat\n",
    "チャット・モード"
   ]
  },
  {
   "cell_type": "code",
   "execution_count": 4,
   "id": "bb6fa355-9d88-47ee-882b-aac2c06c3ba5",
   "metadata": {},
   "outputs": [
    {
     "name": "stdout",
     "output_type": "stream",
     "text": [
      "The sky appears blue because of a phenomenon called Rayleigh scattering, which is the scattering of light by small particles or molecules in the atmosphere. Here's a simplified explanation:\n",
      "\n",
      "1. **Sunlight enters the Earth's atmosphere**: When sunlight from the sun enters the Earth's atmosphere, it encounters tiny molecules of gases such as nitrogen (N2) and oxygen (O2).\n",
      "2. **Light is scattered**: These molecules scatter the light in all directions, but they scatter shorter wavelengths (like blue and violet) more than longer wavelengths (like red and orange). This is because the smaller molecules are more effective at scattering shorter wavelengths.\n",
      "3. **Blue light reaches our eyes**: As a result of this scattering, the blue light is dispersed throughout the atmosphere, giving the sky its blue appearance.\n",
      "\n",
      "There are several factors that contribute to why the sky appears blue:\n",
      "\n",
      "* **Scattering by molecules**: The molecules in the atmosphere scatter light, which is what gives the sky its color.\n",
      "* **Angle of the sun**: The angle at which the sun is seen also affects the amount of scattered light that reaches our eyes. When the sun is overhead, more of the scattered light reaches our eyes, making the sky appear bluer.\n",
      "* **Atmospheric conditions**: Atmospheric conditions like pollution, dust, and water vapor can scatter light in different ways, changing the color of the sky.\n",
      "\n",
      "So, to summarize, it's not actually the \"sky\" that's blue; it's the way that sunlight interacts with tiny molecules in the atmosphere that gives our sky its characteristic blue color!\n"
     ]
    }
   ],
   "source": [
    "import requests\n",
    "url = \"http://localhost:11434/api/chat\"\n",
    "payload = {\n",
    "    \"model\": f'{llm}',\n",
    "    \"messages\": [\n",
    "        {\"role\": \"user\", \"content\": \"why is the sky blue?\"}\n",
    "    ],\n",
    "    \"stream\": False\n",
    "}\n",
    "\n",
    "response = requests.post(\n",
    "    url, json=payload,\n",
    "    proxies={\"http\": None, \"https\": None} #プロキシを無効にするときは必要\n",
    ")\n",
    "print(response.json()[\"message\"][\"content\"])"
   ]
  },
  {
   "cell_type": "markdown",
   "id": "932d7160-b915-4e27-bd3a-d8e42559f54f",
   "metadata": {},
   "source": [
    "## Ollama\n",
    "Ollamaライブラリを使用した呼び出し。"
   ]
  },
  {
   "cell_type": "markdown",
   "id": "5045f29a-f4df-40f1-b1da-1ca6fc388c72",
   "metadata": {},
   "source": [
    "### ライブラリのインストール"
   ]
  },
  {
   "cell_type": "code",
   "execution_count": null,
   "id": "48db2891-03fc-48ad-9bf0-dddc0d192434",
   "metadata": {},
   "outputs": [],
   "source": [
    "!pip install ollama"
   ]
  },
  {
   "cell_type": "markdown",
   "id": "f61050d7-8158-454f-ac71-1c157e5d0ab5",
   "metadata": {},
   "source": [
    "### ライブラリで呼び出し"
   ]
  },
  {
   "cell_type": "markdown",
   "id": "060ddd0c-c166-4489-ba5a-e79dca0d92c1",
   "metadata": {},
   "source": [
    "#### Generate\n",
    "次単語予測モード"
   ]
  },
  {
   "cell_type": "code",
   "execution_count": 5,
   "id": "37f39fd6-f9b4-4777-9aaa-b39820f90603",
   "metadata": {},
   "outputs": [
    {
     "name": "stdout",
     "output_type": "stream",
     "text": [
      "The sky appears blue to us because of a phenomenon called Rayleigh scattering, named after the British physicist Lord Rayleigh. Here's why:\n",
      "\n",
      "**What happens:**\n",
      "\n",
      "When sunlight enters Earth's atmosphere, it encounters tiny molecules of gases such as nitrogen (N2) and oxygen (O2). These molecules are much smaller than the wavelength of light, so they scatter the light in all directions.\n",
      "\n",
      "**The scattering process:**\n",
      "\n",
      "Light with shorter wavelengths (like blue and violet) is scattered more easily by the tiny molecules in the atmosphere. This is known as Rayleigh scattering. The longer wavelengths of light (like red and orange) travel more directly to our eyes, while the shorter wavelengths are dispersed in all directions.\n",
      "\n",
      "**Why blue light scatters more:**\n",
      "\n",
      "The reason why blue light scatters more than other colors is due to its smaller wavelength compared to the molecules in the atmosphere. As a result, blue light is scattered in a way that illuminates the entire sky, making it appear blue.\n",
      "\n",
      "**Other factors:**\n",
      "\n",
      "While Rayleigh scattering is the primary factor, other atmospheric conditions can also contribute to the color of the sky:\n",
      "\n",
      "* Dust and pollen particles can scatter shorter wavelengths of light, giving the sky a hazy appearance.\n",
      "* Water vapor in the atmosphere can also cause the sky to appear more white or cloudy.\n",
      "\n",
      "**The blue sky effect:**\n",
      "\n",
      "When we see a clear blue sky, it's because the Earth's atmosphere has been bombarded with sunlight during the day. As the sun sets and the light travels through the atmosphere, the shorter wavelengths (like blue) are scattered out of the way by the gases in the atmosphere, leaving mainly longer wavelengths (like red and orange) to reach our eyes.\n",
      "\n",
      "So, to sum it up, the sky appears blue because of Rayleigh scattering, which scatters the shorter wavelengths of light (blue and violet) more than the longer wavelengths (red and orange), making them visible to us.\n"
     ]
    }
   ],
   "source": [
    "import ollama\n",
    "response = ollama.generate(\n",
    "    model=f'{llm}',\n",
    "    prompt='Why is the sky blue?',\n",
    ")\n",
    "\n",
    "print(response['response'])"
   ]
  },
  {
   "cell_type": "markdown",
   "id": "0e786e3f-5888-447c-828b-73a88565d338",
   "metadata": {},
   "source": [
    "#### Chat\n",
    "チャット・モード"
   ]
  },
  {
   "cell_type": "code",
   "execution_count": 6,
   "id": "b72dd9ed-b48c-443d-8e9f-badce5f9fd4c",
   "metadata": {},
   "outputs": [
    {
     "name": "stdout",
     "output_type": "stream",
     "text": [
      "The sky appears blue to us because of a phenomenon called Rayleigh scattering, which is named after the British physicist Lord Rayleigh. Here's what happens:\n",
      "\n",
      "**Short-wavelength light scatters more**\n",
      "\n",
      "When sunlight enters Earth's atmosphere, it encounters tiny molecules of gases such as nitrogen (N2) and oxygen (O2). These molecules are much smaller than the wavelength of light. As a result, shorter wavelengths of light, like blue and violet, are scattered more than longer wavelengths, like red and orange.\n",
      "\n",
      "**Why is blue scattering important?**\n",
      "\n",
      "Blue light scatters because it has a shorter wavelength than the other colors of sunlight. This means that there's less time for the shorter blue wavelengths to scatter before they're absorbed by these tiny molecules in the atmosphere. As a result, more of the blue light is reflected back into space.\n",
      "\n",
      "**The color we see**\n",
      "\n",
      "As the scattered blue light is reflected back towards us, our eyes perceive it as blue light. This is why the sky appears blue during the daytime, especially when there are no clouds to scatter other wavelengths of light.\n",
      "\n",
      "**Why doesn't the sky turn red or orange?**\n",
      "\n",
      "If you were to fly over the Earth at high altitudes (above about 100 km), you'd encounter more molecules of gases, like carbon dioxide and water vapor. These heavier molecules would absorb more of the shorter blue wavelengths, allowing longer wavelengths like red and orange to dominate the light that reaches our eyes.\n",
      "\n",
      "**Additional factors**\n",
      "\n",
      "Other factors can also affect the color of the sky:\n",
      "\n",
      "* **Dust and pollution**: Tiny particles in the atmosphere can scatter light in different ways, making the sky appear hazy or gray.\n",
      "* **Clouds and water vapor**: Clouds can reflect blue light back into space, while water vapor can absorb some of it.\n",
      "\n",
      "So, there you have it! The sky is blue because of the scattering of shorter wavelengths of light by tiny molecules in the atmosphere.\n"
     ]
    }
   ],
   "source": [
    "import ollama\n",
    "response = ollama.chat(\n",
    "    model=f'{llm}',\n",
    "    messages=[{\n",
    "        'role': 'user',\n",
    "        'content': 'Why is the sky blue?',\n",
    "    }])\n",
    "print(response['message']['content'])"
   ]
  },
  {
   "cell_type": "markdown",
   "id": "2c977894-7619-40df-8477-69aa539ab5c3",
   "metadata": {},
   "source": [
    "# OpenAI\n",
    "OpenAIライブラリを使用した呼び出し。"
   ]
  },
  {
   "cell_type": "markdown",
   "id": "5fcc8b1e-75f9-477f-a301-a4b90b3e4477",
   "metadata": {},
   "source": [
    "### ライブラリのインストール"
   ]
  },
  {
   "cell_type": "code",
   "execution_count": null,
   "id": "4eebb45a-8a74-447d-aaf0-b73c733a76a7",
   "metadata": {},
   "outputs": [],
   "source": [
    "!pip install openai"
   ]
  },
  {
   "cell_type": "markdown",
   "id": "00e92a8d-f17e-4f64-b4d4-6d065e18874a",
   "metadata": {},
   "source": [
    "### ライブラリで呼び出し"
   ]
  },
  {
   "cell_type": "markdown",
   "id": "d2b66cc7-5e80-4b64-92b8-0096f3c58cbc",
   "metadata": {},
   "source": [
    "#### Generate\n",
    "次単語予測モード"
   ]
  },
  {
   "cell_type": "code",
   "execution_count": 7,
   "id": "b7ee2e77-7e96-47ef-8070-24c3f51fedfb",
   "metadata": {},
   "outputs": [
    {
     "name": "stdout",
     "output_type": "stream",
     "text": [
      "The sky appears blue because of a phenomenon called Rayleigh scattering, named after the British physicist Lord Rayleigh. He discovered in 1871 that the shorter (blue) wavelengths of light are scattered more than the longer (red) wavelengths when they interact with tiny molecules of gases in the atmosphere.\n",
      "\n",
      "Here's a simplified explanation:\n",
      "\n",
      "1. **Sunlight and Atmosphere**: When the sun shines, it emits white light, which is made up of different colors, including blue, red, green, and others.\n",
      "2. **Particle Interactions**: As sunlight travels through the Earth's atmosphere, it encounters tiny molecules of gases like nitrogen (N2) and oxygen (O2). These gas molecules are in constant motion, moving randomly in any direction.\n",
      "3. **Scattering Process**: When sunlight interactions with these gas molecules, the shorter blue wavelengths (around 400-450 nanometers) are scattered more than the longer red wavelengths (around 650-700 nanometers). This scattering effect is more pronounced in the atmosphere than in clear air.\n",
      "4. **Blue Light Dominance**: As a result of this Rayleigh scattering process, our eyes perceive the sky as blue because the light that reaches us has been scattered predominantly in the shorter, blue wavelength range.\n",
      "\n",
      "**Other Factors**:\n",
      "\n",
      "* **Dust and Water Vapor**: Tiny particles like dust, pollen, and water vapor can scatter light and make the sky appear even bluer.\n",
      "* **Clouds**: Some types of clouds, especially white cirrostratus or altocumulus clouds, can reflect and scatter sunlight, enhancing the blue color in the sky.\n",
      "\n",
      "Remember, the Earth's atmosphere is a complex system, but understanding the basics of Rayleigh scattering helps us appreciate the beautiful blue hue we see in the sky every day!\n"
     ]
    }
   ],
   "source": [
    "from openai import OpenAI\n",
    "client = OpenAI(\n",
    "    base_url='http://localhost:11434/v1/',\n",
    "    api_key='ASCII code', #ダミーでOK\n",
    ")\n",
    "\n",
    "completion = client.completions.create(\n",
    "    prompt='Why is the sky blue?',\n",
    "    model=f'{llm}',\n",
    ")\n",
    "\n",
    "print(completion.choices[0].text)"
   ]
  },
  {
   "cell_type": "markdown",
   "id": "d7744e25-a406-4660-b53d-fc52ebd806bd",
   "metadata": {},
   "source": [
    "#### Chat\n",
    "チャット・モード"
   ]
  },
  {
   "cell_type": "code",
   "execution_count": 8,
   "id": "dff751dd-c04b-4b23-8743-b146891b72e5",
   "metadata": {},
   "outputs": [
    {
     "name": "stdout",
     "output_type": "stream",
     "text": [
      "The sky appears blue because of a phenomenon called Rayleigh scattering, which occurs when sunlight interacts with tiny molecules of gases in the Earth's atmosphere.\n",
      "\n",
      "Here's what happens:\n",
      "\n",
      "1. **Sunlight enters the atmosphere**: When the sun shines through the atmosphere, its light is made up of a spectrum of colors, ranging from red to violet.\n",
      "2. **Molecules scatter the light**: The tiny molecules of gases like nitrogen (N2) and oxygen (O2) in the atmosphere scatter the light in all directions. These molecules are much smaller than the wavelength of visible light, so they scatter the shorter wavelengths (like blue and violet) more than the longer wavelengths (like red and orange).\n",
      "3. **Blue light is scattered more**: As a result, the blue light is dispersed in every direction, giving the sky its characteristic blue color.\n",
      "\n",
      "This scattering effect is stronger when the sun is high in the sky due to:\n",
      "\n",
      "* The amount of sunlight available\n",
      "* The density of atmospheric particles\n",
      "\n",
      "And it's why the sky typically appears bright blue during the daytime, especially from mid-morning to late afternoon.\n",
      "\n",
      "**Fun fact:** The color of the sky and clouds can also be affected by cloud types, like cumulus or stratus clouds, which don't scatter light as much. In these cases, the sky can appear more grayish or white.\n",
      "\n",
      "Now you know why the sky is blue!\n"
     ]
    }
   ],
   "source": [
    "from openai import OpenAI\n",
    "client = OpenAI(\n",
    "    base_url='http://localhost:11434/v1/',\n",
    "    api_key='ASCII code', #ダミーでOK\n",
    ")\n",
    "\n",
    "chat_completion = client.chat.completions.create(\n",
    "    messages=[\n",
    "        {\n",
    "            'role': 'user',\n",
    "            'content': 'Why is the sky blue?',\n",
    "        }\n",
    "    ],\n",
    "    model=f'{llm}',\n",
    ")\n",
    "\n",
    "print(chat_completion.choices[0].message.content)"
   ]
  },
  {
   "cell_type": "markdown",
   "id": "d5d6458d-729d-4c1e-92a4-e651beae6186",
   "metadata": {},
   "source": [
    "# langchain"
   ]
  },
  {
   "cell_type": "code",
   "execution_count": null,
   "id": "45628fd0-8bd2-4bc7-a2e7-f172e75feabd",
   "metadata": {},
   "outputs": [],
   "source": [
    "!pip install langchain langchain_core langchain-ollama"
   ]
  },
  {
   "cell_type": "markdown",
   "id": "42fdb961-8475-4216-b133-02ec6eb85c10",
   "metadata": {},
   "source": [
    "# Chatアプリ"
   ]
  },
  {
   "cell_type": "markdown",
   "id": "9b5b59c6-23ba-4cc7-b7b0-87885b591c3f",
   "metadata": {},
   "source": [
    "## Console & HTTPClient\n",
    "- 最も単純な、HTTPClient系ライブラリを使用したConsoleChatアプリ\n",
    "- 以下のコードを修正したもの。  \n",
    "https://github.com/ollama/ollama/tree/main/examples/python-simplechat"
   ]
  },
  {
   "cell_type": "code",
   "execution_count": null,
   "id": "b99918e4-9c6a-4e88-b295-6c2e4561c918",
   "metadata": {},
   "outputs": [
    {
     "name": "stdin",
     "output_type": "stream",
     "text": [
      "Enter a prompt:  Why is the sky blue?\n"
     ]
    },
    {
     "name": "stdout",
     "output_type": "stream",
     "text": [
      "\n",
      "The color of the sky is a beautiful phenomenon that has puzzled people for centuries. The answer lies in a combination of atmospheric and optical factors.\n",
      "\n",
      "**Scattering of sunlight**\n",
      "\n",
      "When sunlight enters Earth's atmosphere, it encounters tiny molecules of gases such as nitrogen (N2) and oxygen (O2). These molecules are much smaller than the wavelength of light, which is why they scatter the shorter, blue wavelengths more than the longer, red wavelengths.\n",
      "\n",
      "This scattering effect is known as Rayleigh scattering, named after Lord Rayleigh, who first described it in the late 19th century. The shorter wavelengths are scattered in all directions by the molecules of gases in the atmosphere, while the longer wavelengths continue to travel in a straight line, reaching our eyes from about 400-700 nanometers (nm).\n",
      "\n",
      "**Blue light dominance**\n",
      "\n",
      "As we look up at the sky, the sun's rays have to travel through more of the Earth's atmosphere to reach our eyes. This means that the shorter blue wavelengths are scattered away, leaving mainly longer wavelengths (red and orange) to reach us.\n",
      "\n",
      "At a certain altitude, about 10-15 kilometers (6-9 miles), the amount of scattered blue light decreases significantly. At this point, we see more red and orange light than blue. However, because the atmosphere scatters these shorter wavelengths even further, they still make up a larger portion of the sky's color.\n",
      "\n",
      "**Visual appearance**\n",
      "\n",
      "When we look at the sky, our eyes perceive a range of colors that are actually composed of different proportions of blue and other wavelengths. The color blue is particularly dominant in the ultraviolet (UV) spectrum, which has the shortest wavelengths. When we combine the scattered blue light with longer wavelengths like red and orange, we see a beautiful blue hue.\n",
      "\n",
      "**Sun's position**\n",
      "\n",
      "The apparent position of the sun also affects our perception of the sky's color. As the sun rises or sets, its rays have to travel through more of the atmosphere, causing more scattering of shorter wavelengths. This is why we typically see a greater range of colors in the morning and evening hours.\n",
      "\n",
      "In summary, the sky appears blue because of the scattering of sunlight by atmospheric molecules, which favors longer wavelengths like red and orange over shorter ones like blue. The combination of these factors, along with our visual perception, creates the stunning blue color we see every day!\n",
      "\n",
      "\n"
     ]
    }
   ],
   "source": [
    "import json\n",
    "import requests\n",
    "\n",
    "def chat(messages):\n",
    "    r = requests.post(\n",
    "        \"http://localhost:11434/api/chat\",\n",
    "        json={\"model\": llm, \"messages\": messages, \"stream\": True},\n",
    "        # proxies={\"http\": None, \"https\": None} #プロキシを無効にするときは必要\n",
    "    )\n",
    "    r.raise_for_status()\n",
    "    output = \"\"\n",
    "\n",
    "    for line in r.iter_lines():\n",
    "        \n",
    "        body = json.loads(line)\n",
    "        \n",
    "        if \"error\" in body:\n",
    "            raise Exception(body[\"error\"])\n",
    "            \n",
    "        if body.get(\"done\") is False:\n",
    "            message = body.get(\"message\", \"\")\n",
    "            content = message.get(\"content\", \"\")\n",
    "            output += content\n",
    "            # the response streams one token at a time, print that as we receive it\n",
    "            print(content, end=\"\", flush=True)\n",
    "\n",
    "        if body.get(\"done\", False):\n",
    "            message[\"content\"] = output\n",
    "            return message\n",
    "\n",
    "def main():\n",
    "    messages = []\n",
    "\n",
    "    while True:\n",
    "        user_input = input(\"Enter a prompt: \")\n",
    "        if not user_input:\n",
    "            exit()\n",
    "        print()\n",
    "        messages.append({\"role\": \"user\", \"content\": user_input})\n",
    "        message = chat(messages)\n",
    "        messages.append(message)\n",
    "        print(\"\\n\\n\")\n",
    "\n",
    "if __name__ == \"__main__\":\n",
    "    main()"
   ]
  },
  {
   "cell_type": "markdown",
   "id": "167ef46d-b3ad-4381-b8f6-9923e173ae21",
   "metadata": {},
   "source": [
    "## Streamlit & OpenAI\n",
    "最も単純な、OpenAIライブラリを使用したConsoleChatアプリ\n",
    "- Streamlitを使用してWeb化（サーバーサイド実装）\n",
    "- Stlite（クライアントサイド実装）ではOpenAIが動かないらしい。"
   ]
  },
  {
   "cell_type": "markdown",
   "id": "7c265235-fd83-4172-a2f7-ba1af957f73e",
   "metadata": {},
   "source": [
    "### Consoleから以下を実行"
   ]
  },
  {
   "cell_type": "code",
   "execution_count": null,
   "id": "9240e1b8-f415-4cc4-a7bb-30d7b5ed096b",
   "metadata": {},
   "outputs": [],
   "source": [
    "!pip install streamlit"
   ]
  },
  {
   "cell_type": "code",
   "execution_count": null,
   "id": "4fa7875c-0c39-463f-a6e2-418c7e5b35c5",
   "metadata": {},
   "outputs": [],
   "source": [
    "!streamlit run LLM_Streamlit.py"
   ]
  },
  {
   "cell_type": "markdown",
   "id": "68f8c281-4d31-4509-bd83-46d61f652774",
   "metadata": {},
   "source": [
    "## ブラウザからアクセスする。  \n",
    "http://localhost:8501/"
   ]
  }
 ],
 "metadata": {
  "kernelspec": {
   "display_name": "Python 3 (ipykernel)",
   "language": "python",
   "name": "python3"
  },
  "language_info": {
   "codemirror_mode": {
    "name": "ipython",
    "version": 3
   },
   "file_extension": ".py",
   "mimetype": "text/x-python",
   "name": "python",
   "nbconvert_exporter": "python",
   "pygments_lexer": "ipython3",
   "version": "3.10.12"
  }
 },
 "nbformat": 4,
 "nbformat_minor": 5
}
