{
 "cells": [
  {
   "cell_type": "markdown",
   "id": "cf8af0d7-c198-4acd-921a-f3683f675ced",
   "metadata": {
    "tags": []
   },
   "source": [
    "# scikit-learnのトレーニング♨\n",
    "\n",
    "## 様々な分類器（PPN、SVM、DTL、LRA） 編\n",
    "\n",
    "## [目次](TableOfContents.ipynb)\n",
    "- [環境準備](#環境準備)\n",
    "- [共通的データ処理](#共通的データ処理)\n",
    "- [モデル・アルゴリズム](#モデル・アルゴリズム)\n",
    "  - PPN: [パーセプトロン](#単純パーセプトロン線形分類器)\n",
    "  - SVM: [サポートベクターマシン](#サポートベクターマシン分類器)\n",
    "  - DTL: [決定木（分類木）](#決定木分析)\n",
    "  - LRA: [ロジスティクス回帰](#ロジスティック回帰)\n",
    "- その他\n",
    "  - [各特徴量の重要度を出力](#各特徴量の重要度を出力)\n",
    "  - [分類問題の性能の評価](#分類問題の性能の評価)\n",
    "\n",
    "## 参考\n",
    "開発基盤部会 Wiki\n",
    "- データマイニング（DM）- Python  \n",
    "https://dotnetdevelopmentinfrastructure.osscons.jp/index.php?%E3%83%87%E3%83%BC%E3%82%BF%E3%83%9E%E3%82%A4%E3%83%8B%E3%83%B3%E3%82%B0%EF%BC%88DM%EF%BC%89-%20Python#y4054d35"
   ]
  },
  {
   "cell_type": "markdown",
   "id": "07e2a189-ef86-40f8-89e8-857a5b6e41aa",
   "metadata": {
    "tags": []
   },
   "source": [
    "## [環境準備](ScikitLearnTraining0.ipynb)"
   ]
  },
  {
   "cell_type": "code",
   "execution_count": null,
   "id": "06435506-b010-44b9-8fc6-472e61ed518c",
   "metadata": {},
   "outputs": [],
   "source": [
    "import io\n",
    "import requests\n",
    "\n",
    "import pandas as pd\n",
    "import numpy as np\n",
    "import matplotlib.pyplot as plt\n",
    "\n",
    "from sklearn import datasets                                 # サンプル・データセット\n",
    "from sklearn.datasets import make_regression                 # 回帰データセット作成\n",
    "from sklearn.datasets import make_blobs                      # 分類データセット作成\n",
    "from sklearn.preprocessing import StandardScaler             # 標準化\n",
    "from sklearn.model_selection import train_test_split         # データ分割\n",
    "\n",
    "from sklearn.linear_model import LinearRegression            # 線形回帰\n",
    "from sklearn.preprocessing import PolynomialFeatures         # 多項式回帰の変数変換\n",
    "from sklearn.linear_model import Ridge                       # 多項式回帰のRidge回帰\n",
    "from sklearn.linear_model import Lasso                       # 多項式回帰のLASSO回帰\n",
    "from sklearn.linear_model import ElasticNet                  # 多項式回帰のLASSO回帰\n",
    "from sklearn.linear_model import Perceptron                  # 単純パーセプトロン線形分類器\n",
    "from sklearn.linear_model import LogisticRegression          # ロジスティク回帰\n",
    "from sklearn.svm import SVC                                  # サポートベクターマシン（SVM）分類器\n",
    "from sklearn.tree import DecisionTreeClassifier              # 決定木（分類木）\n",
    "from sklearn.ensemble import RandomForestClassifier          # ランダムフォレスト（分類木）\n",
    "from sklearn.ensemble import GradientBoostingClassifier      # 勾配ブースティング木（分類木）\n",
    "from sklearn.decomposition import PCA                        # 主成分分析\n",
    "from sklearn.cluster import KMeans                           # k-means法 クラスタ分析\n",
    "from sklearn.feature_extraction.text import CountVectorizer  # 自然言語処理ベクトル化\n",
    "from sklearn.feature_extraction.text import TfidfTransformer # 自然言語ベクトルのTF-IDF計算\n",
    "from sklearn.decomposition import LatentDirichletAllocation  # 自然言語ベクトルからLDAトピック抽出\n",
    "\n",
    "from sklearn import metrics                                  # モデル評価\n",
    "from sklearn.metrics import mean_squared_error as mse        # 精度評価（mse）\n",
    "from sklearn.metrics import confusion_matrix                 # 混同行列\n",
    "from sklearn.metrics import silhouette_samples               # シルエット係数\n",
    "from sklearn.model_selection import cross_val_score          # 交差検証法\n",
    "from sklearn.model_selection import KFold                    # k分割交差検証法\n",
    "from sklearn.model_selection import StratifiedKFold          # 層化交差検証法\n",
    "from sklearn.model_selection import GridSearchCV             # グリッドサーチ\n",
    "\n",
    "import seaborn as sns                                        # matplotlibラッパ\n",
    "from mlxtend.plotting import plot_decision_regions           # 決定領域表示関数\n",
    "from matplotlib import cm                                    # カラーマップ処理\n",
    "\n",
    "from numpy import linalg as LA                               # 線形代数ライブラリ"
   ]
  },
  {
   "cell_type": "code",
   "execution_count": null,
   "id": "99e47816-87ae-4a8d-b616-d5f7a6507cfe",
   "metadata": {},
   "outputs": [],
   "source": [
    "import warnings\n",
    "warnings.filterwarnings('ignore')"
   ]
  },
  {
   "cell_type": "markdown",
   "id": "503acc1a-d530-45fa-8c06-25650f279baa",
   "metadata": {
    "tags": []
   },
   "source": [
    "## 共通的データ処理"
   ]
  },
  {
   "cell_type": "markdown",
   "id": "153d89fe-c420-4cea-b743-5f503d2f0eb5",
   "metadata": {},
   "source": [
    "### 生成"
   ]
  },
  {
   "cell_type": "code",
   "execution_count": null,
   "id": "6db9f9c0-7f4e-498f-a04b-2ed646eb8ca5",
   "metadata": {},
   "outputs": [],
   "source": [
    "iris = datasets.load_iris()\n",
    "df_data = pd.DataFrame(iris.data, columns=iris.feature_names)\n",
    "df_target = pd.DataFrame(iris.target, columns=['species'])\n",
    "df = pd.concat([df_data, df_target], axis=1)\n",
    "df"
   ]
  },
  {
   "cell_type": "markdown",
   "id": "c7e0de06-87ea-4d45-aa25-d9855f5bebfd",
   "metadata": {},
   "source": [
    "### 加工\n",
    "特になし。"
   ]
  },
  {
   "cell_type": "markdown",
   "id": "8477e28f-8990-4229-9cdb-bb36a4d45fc4",
   "metadata": {},
   "source": [
    "### 理解"
   ]
  },
  {
   "cell_type": "markdown",
   "id": "3b53f70c-9a50-4670-80ee-6e8967944485",
   "metadata": {},
   "source": [
    "#### 基本統計量"
   ]
  },
  {
   "cell_type": "code",
   "execution_count": null,
   "id": "b4355d78-0a7e-4d62-b922-1656079aaff1",
   "metadata": {},
   "outputs": [],
   "source": [
    "df.describe()"
   ]
  },
  {
   "cell_type": "markdown",
   "id": "57b17b89-1066-494c-b1e5-2096ac3e2d47",
   "metadata": {},
   "source": [
    "#### 相関"
   ]
  },
  {
   "cell_type": "markdown",
   "id": "92fee796-09a8-4bd7-954a-1a433dd33993",
   "metadata": {},
   "source": [
    "##### カテゴリ分類した散布図行列を表示"
   ]
  },
  {
   "cell_type": "code",
   "execution_count": null,
   "id": "ccc16e22-7b40-4730-b93f-8e143d701aa9",
   "metadata": {},
   "outputs": [],
   "source": [
    "sns.pairplot(df, hue='species')\n",
    "plt.show()"
   ]
  },
  {
   "cell_type": "markdown",
   "id": "414fc960-c790-4116-b5c2-93aa65182fe8",
   "metadata": {},
   "source": [
    "### 準備"
   ]
  },
  {
   "cell_type": "markdown",
   "id": "8ebc5736-a522-4c9f-a25c-0c609b923a6d",
   "metadata": {},
   "source": [
    "#### 説明変数・目的変数の選択・分割"
   ]
  },
  {
   "cell_type": "code",
   "execution_count": null,
   "id": "5a81f83e-0228-479c-9279-94afcb8933e8",
   "metadata": {},
   "outputs": [],
   "source": [
    "np_arr=np.array(df)\n",
    "\n",
    "# n = 100で2値分類\n",
    "# n = 150で3値分類\n",
    "n = 150\n",
    "\n",
    "# PetalLengthCm, PetalWidthCm列の選択\n",
    "x=np_arr[:n, 2:4] \n",
    "# x=np_arr[:n, 0:4] \n",
    "\n",
    "# Species列の選択\n",
    "y=np.array(np_arr[:n, 4:5],dtype=np.int64) # 要素の型をint64に変換"
   ]
  },
  {
   "cell_type": "markdown",
   "id": "639ff9a3-e02e-473a-a0de-6c2449c7fc4d",
   "metadata": {},
   "source": [
    "#### 標準化\n",
    "カテゴリ・データは対象外"
   ]
  },
  {
   "cell_type": "code",
   "execution_count": null,
   "id": "030fbd8a-037e-4305-bd34-ef30cf70e03d",
   "metadata": {},
   "outputs": [],
   "source": [
    "ss = StandardScaler()\n",
    "ss.fit(x)\n",
    "x_std = ss.transform(x)"
   ]
  },
  {
   "cell_type": "markdown",
   "id": "138b16e2-0ca7-42d5-b280-43d201c2f40f",
   "metadata": {},
   "source": [
    "#### 学習・テストデータの分割"
   ]
  },
  {
   "cell_type": "code",
   "execution_count": null,
   "id": "e50058d8-b7d0-44ca-a74f-47392085fc36",
   "metadata": {},
   "outputs": [],
   "source": [
    "x_train, x_test, y_train, y_test = train_test_split(x_std, y, test_size=0.3, random_state=0)"
   ]
  },
  {
   "cell_type": "markdown",
   "id": "195d0b2f-0d79-498b-a156-dc7e67c76059",
   "metadata": {},
   "source": [
    "## モデル・アルゴリズム\n",
    "- ココでは、以下のデータで分類するが、説明変数を増やしても良い。\n",
    "- ただし、説明変数を2以上に増やすと、平面上で確認ができなくなる。"
   ]
  },
  {
   "cell_type": "code",
   "execution_count": null,
   "id": "1c4b67b2-90db-48ff-8932-57478fd04e62",
   "metadata": {},
   "outputs": [],
   "source": [
    "plt.scatter(x_std[:50, 0], x_std[:50,1], color=\"red\", marker=\"s\", label=\"setosa\")\n",
    "plt.scatter(x_std[50:100, 0], x_std[50:100,1], color=\"blue\", marker=\"x\", label=\"versicolor\")\n",
    "plt.scatter(x_std[100:150, 0], x_std[100:150,1], color=\"yellow\", marker=\"o\", label=\"virginica\")\n",
    "plt.xlabel(\"PetalLengthCm\")\n",
    "plt.ylabel(\"PetalWidthCm\")\n",
    "plt.legend(loc=\"upper left\")\n",
    "plt.show()"
   ]
  },
  {
   "cell_type": "markdown",
   "id": "5a303160-3d05-4d59-967c-cfcd8356096d",
   "metadata": {
    "tags": []
   },
   "source": [
    "### 単純パーセプトロン線形分類器\n",
    "- 単層パーセプトロンだから線形問題しか解けない模様。\n",
    "- パーセプトロンやニューラルネットワークについては[コチラ](KasagoDL1.ipynb)を参照。\n",
    "\n",
    "※ [イメージ](https://www.google.com/search?q=単純パーセプトロン線形分類器&tbm=isch)"
   ]
  },
  {
   "cell_type": "markdown",
   "id": "acf08915-61df-48f3-9031-14aec5b6eb9d",
   "metadata": {},
   "source": [
    "#### [データ](共通的データ処理)"
   ]
  },
  {
   "cell_type": "markdown",
   "id": "c18e23a2-4ad8-4e26-8744-911b863d53f7",
   "metadata": {
    "tags": []
   },
   "source": [
    "#### 実行"
   ]
  },
  {
   "cell_type": "markdown",
   "id": "e1585b1c-3f5a-468b-866b-89d25a2db4f7",
   "metadata": {},
   "source": [
    "##### 学習"
   ]
  },
  {
   "cell_type": "code",
   "execution_count": null,
   "id": "c4015bc7-52ad-48fb-afe6-11ec30a612ad",
   "metadata": {},
   "outputs": [],
   "source": [
    "ppn = Perceptron(eta0=0.1) # 学習率 0.1\n",
    "ppn.fit(x_train, np.reshape(y_train,(-1)))"
   ]
  },
  {
   "cell_type": "markdown",
   "id": "17a17848-5074-4287-8fd7-e35a8c691394",
   "metadata": {},
   "source": [
    "##### 推論"
   ]
  },
  {
   "cell_type": "code",
   "execution_count": null,
   "id": "a39c9265-ea61-4cfd-99b4-25e10a59ed6a",
   "metadata": {},
   "outputs": [],
   "source": [
    "index = 15\n",
    "print('answer : %d' % y_test[index][0])\n",
    "print('predict: %d' % ppn.predict([x_test[index]])[0])"
   ]
  },
  {
   "cell_type": "markdown",
   "id": "49613730-ac6f-4f80-b4ca-af29ef5c4153",
   "metadata": {
    "tags": []
   },
   "source": [
    "#### 評価"
   ]
  },
  {
   "cell_type": "markdown",
   "id": "8a40005b-1cad-4e65-8b63-e1c24f8d54cf",
   "metadata": {},
   "source": [
    "##### データセットの正答率"
   ]
  },
  {
   "cell_type": "code",
   "execution_count": null,
   "id": "3accd51b-d309-479c-a4bd-40bf436ff9b2",
   "metadata": {},
   "outputs": [],
   "source": [
    "print('train acc: %.3f' % ppn.score(x_train, y_train))\n",
    "print('test acc: %.3f' % ppn.score(x_test, y_test))"
   ]
  },
  {
   "cell_type": "markdown",
   "id": "28c906a8-6a0d-4824-aec8-210e93f2b735",
   "metadata": {},
   "source": [
    "##### 学習した決定境界を可視化"
   ]
  },
  {
   "cell_type": "code",
   "execution_count": null,
   "id": "9f49b4ab-9bdb-44f5-9d1d-f2c5f5a8624f",
   "metadata": {},
   "outputs": [],
   "source": [
    "plot_decision_regions(x_std, y.flatten(), ppn)\n",
    "plt.xlabel(\"PetalLengthCm\")\n",
    "plt.ylabel(\"PetalWidthCm\")\n",
    "plt.legend(loc=\"upper left\")\n",
    "plt.title('Iris')\n",
    "plt.show()"
   ]
  },
  {
   "cell_type": "markdown",
   "id": "cd8415a8-0c1c-4f10-a41b-959c45f63b49",
   "metadata": {
    "tags": []
   },
   "source": [
    "### サポートベクターマシン分類器\n",
    "- ｢分離マージン最大化｣というコンセプトに基いて超平面で分類を実行。\n",
    "- 非線形の分離にも対応できるという非常に大きな利点がある｡\n",
    "\n",
    "※ [イメージ](https://www.google.com/search?q=サポートベクターマシン&tbm=isch)、[説明](https://dotnetdevelopmentinfrastructure.osscons.jp/index.php?%E7%B5%B1%E8%A8%88%E8%A7%A3%E6%9E%90#f3322edd)"
   ]
  },
  {
   "cell_type": "markdown",
   "id": "a950aae9-3544-4d2a-b87c-dbb47e27fbdd",
   "metadata": {},
   "source": [
    "#### [データ](共通的データ処理)"
   ]
  },
  {
   "cell_type": "markdown",
   "id": "9c8d52e8-7393-4a67-8ee0-0239be488761",
   "metadata": {
    "tags": []
   },
   "source": [
    "#### 実行"
   ]
  },
  {
   "cell_type": "markdown",
   "id": "10917477-bad5-4907-a363-af5f06f09118",
   "metadata": {
    "tags": []
   },
   "source": [
    "##### 学習"
   ]
  },
  {
   "cell_type": "markdown",
   "id": "68e804b8-cee9-4f50-9bfb-8f85eb3ed9cf",
   "metadata": {},
   "source": [
    "###### 通常"
   ]
  },
  {
   "cell_type": "code",
   "execution_count": null,
   "id": "3c55002a-28b7-4143-82ec-73cf2eac9462",
   "metadata": {},
   "outputs": [],
   "source": [
    "svc = SVC(kernel='linear')\n",
    "svc.fit(x_train, np.reshape(y_train,(-1))) "
   ]
  },
  {
   "cell_type": "markdown",
   "id": "da7b6476-d39d-4a95-a063-f9e8dbeeaf84",
   "metadata": {},
   "source": [
    "###### スラック変数の導入（誤分類を許容）\n",
    "C: 誤分類を調整する正則化パラメタ（小は誤分類に寛大、大は誤分類に厳格）"
   ]
  },
  {
   "cell_type": "code",
   "execution_count": null,
   "id": "a085185b-cd1a-4dff-b8e1-ab6e1db420d3",
   "metadata": {},
   "outputs": [],
   "source": [
    "svc1 = SVC(kernel='linear', C=1.0)\n",
    "svc1.fit(x_train, np.reshape(y_train,(-1))) "
   ]
  },
  {
   "cell_type": "markdown",
   "id": "307dd866-0159-479e-9db5-58cceb517af6",
   "metadata": {},
   "source": [
    "###### カーネル法の導入（非線形対応）\n",
    "C: 誤分類への厳しさ、gamma: 決定曲線の複雑さ"
   ]
  },
  {
   "cell_type": "code",
   "execution_count": null,
   "id": "2948c44d-abc1-4051-82c5-c61a289b6543",
   "metadata": {},
   "outputs": [],
   "source": [
    "svc2 = SVC(kernel='rbf', gamma=0.1, C=10)\n",
    "svc2.fit(x_train, np.reshape(y_train,(-1))) "
   ]
  },
  {
   "cell_type": "markdown",
   "id": "f3b80ce8-1640-404a-b099-d10a6a02fb53",
   "metadata": {
    "tags": []
   },
   "source": [
    "##### 推論"
   ]
  },
  {
   "cell_type": "code",
   "execution_count": null,
   "id": "8df0f4bd-9b06-4cb1-a94f-1ae6153880cf",
   "metadata": {},
   "outputs": [],
   "source": [
    "# 通常\n",
    "index = 10\n",
    "print('answer : %d' % y_test[index][0])\n",
    "print('predict: %d' % svc.predict([x_test[index]])[0])"
   ]
  },
  {
   "cell_type": "code",
   "execution_count": null,
   "id": "ed60ba6d-6c33-4b69-88a9-353847faec9e",
   "metadata": {},
   "outputs": [],
   "source": [
    "# スラック変数の導入（誤分類を許容）\n",
    "index = 10\n",
    "print('answer : %d' % y_test[index][0])\n",
    "print('predict: %d' % svc1.predict([x_test[index]])[0])"
   ]
  },
  {
   "cell_type": "code",
   "execution_count": null,
   "id": "ef4c6235-3680-48cf-b7dd-d6d8ec6cae4e",
   "metadata": {},
   "outputs": [],
   "source": [
    "# カーネル法の導入（非線形対応）\n",
    "index = 10\n",
    "print('answer : %d' % y_test[index][0])\n",
    "print('predict: %d' % svc2.predict([x_test[index]])[0])"
   ]
  },
  {
   "cell_type": "markdown",
   "id": "cdf7b857-14a2-4259-8b62-246298b7f3de",
   "metadata": {
    "tags": []
   },
   "source": [
    "#### 評価"
   ]
  },
  {
   "cell_type": "markdown",
   "id": "5521654b-e174-4154-9057-4f0734bf5478",
   "metadata": {
    "tags": []
   },
   "source": [
    "##### データセットの正答率"
   ]
  },
  {
   "cell_type": "code",
   "execution_count": null,
   "id": "15e88d86-5114-42ce-84d3-c96c283ddd0c",
   "metadata": {},
   "outputs": [],
   "source": [
    "# 通常\n",
    "print('train acc: %.3f' % svc.score(x_train, y_train))\n",
    "print('test acc: %.3f' % svc.score(x_test, y_test))"
   ]
  },
  {
   "cell_type": "code",
   "execution_count": null,
   "id": "14f8148f-9b50-48e7-b582-ecc23632c2be",
   "metadata": {},
   "outputs": [],
   "source": [
    "# スラック変数の導入（誤分類を許容）\n",
    "print('train acc: %.3f' % svc1.score(x_train, y_train))\n",
    "print('test acc: %.3f' % svc1.score(x_test, y_test))"
   ]
  },
  {
   "cell_type": "code",
   "execution_count": null,
   "id": "e05c9ce3-aba6-41e9-83ea-513da9c3e115",
   "metadata": {},
   "outputs": [],
   "source": [
    "# カーネル法の導入（非線形対応）\n",
    "print('train acc: %.3f' % svc2.score(x_train, y_train))\n",
    "print('test acc: %.3f' % svc2.score(x_test, y_test))"
   ]
  },
  {
   "cell_type": "markdown",
   "id": "cb7524b3-2c38-4b02-bd2a-1bbd31a65278",
   "metadata": {
    "tags": []
   },
   "source": [
    "##### 学習した決定境界を可視化"
   ]
  },
  {
   "cell_type": "code",
   "execution_count": null,
   "id": "847c7e11-14f9-4336-9d16-06148b89489e",
   "metadata": {},
   "outputs": [],
   "source": [
    "# 通常\n",
    "plot_decision_regions(x_std, y.flatten(), svc)\n",
    "plt.xlabel(\"PetalLengthCm\")\n",
    "plt.ylabel(\"PetalWidthCm\")\n",
    "plt.legend(loc=\"upper left\")\n",
    "plt.title('Iris')\n",
    "plt.show()"
   ]
  },
  {
   "cell_type": "code",
   "execution_count": null,
   "id": "aa0669ab-008f-4dba-9a74-63b6ad2cf5a3",
   "metadata": {},
   "outputs": [],
   "source": [
    "# スラック変数の導入（誤分類を許容）\n",
    "plot_decision_regions(x_std, y.flatten(), svc1)\n",
    "plt.xlabel(\"PetalLengthCm\")\n",
    "plt.ylabel(\"PetalWidthCm\")\n",
    "plt.legend(loc=\"upper left\")\n",
    "plt.title('Iris')\n",
    "plt.show()"
   ]
  },
  {
   "cell_type": "code",
   "execution_count": null,
   "id": "e518741c-48a4-4307-b30a-e79bb47f0c35",
   "metadata": {},
   "outputs": [],
   "source": [
    "# カーネル法の導入（非線形対応）\n",
    "plot_decision_regions(x_std, y.flatten(), svc2)\n",
    "plt.xlabel(\"PetalLengthCm\")\n",
    "plt.ylabel(\"PetalWidthCm\")\n",
    "plt.legend(loc=\"upper left\")\n",
    "plt.title('Iris')\n",
    "plt.show()"
   ]
  },
  {
   "cell_type": "markdown",
   "id": "e030a7d0-b0a3-461f-95e7-a44699a72ef7",
   "metadata": {
    "tags": []
   },
   "source": [
    "##### カーネル法をXORパターンで評価\n",
    "カーネル法で以下のテストデータを使うと、  \n",
    "決定境界の非線形性が顕著に可視化される。"
   ]
  },
  {
   "cell_type": "markdown",
   "id": "7a31e1bf-9c59-4e62-9ba4-b64a0fce7914",
   "metadata": {},
   "source": [
    "###### XORのデータの作成"
   ]
  },
  {
   "cell_type": "code",
   "execution_count": null,
   "id": "6aa1e270-589e-41e6-9c10-9baeba7b041c",
   "metadata": {},
   "outputs": [],
   "source": [
    "np.random.seed(0)\n",
    "x_xor = np.random.randn(200, 2)\n",
    "y_xor = np.logical_xor(x_xor[:, 0] > 0, x_xor[:, 1] > 0)\n",
    "y_xor = np.where(y_xor, 1, -1)\n",
    "# データの散布\n",
    "plt.scatter(x_xor[y_xor == 1, 0], x_xor[y_xor == 1, 1], c='b', marker='x', label='1')\n",
    "plt.scatter(x_xor[y_xor == -1, 0], x_xor[y_xor == -1, 1], c='r', marker='s', label='-1')\n",
    "plt.xlim([-3, 3])\n",
    "plt.ylim([-3, 3])\n",
    "plt.legend(loc='best') # 右上に凡例を出力\n",
    "plt.show()"
   ]
  },
  {
   "cell_type": "markdown",
   "id": "41b1bb59-5d6b-4b52-840e-34481fee418d",
   "metadata": {},
   "source": [
    "###### ホールド・アウト法による学習・テストデータの分割"
   ]
  },
  {
   "cell_type": "code",
   "execution_count": null,
   "id": "19937d93-b739-4e87-9e46-99a66faa36e7",
   "metadata": {},
   "outputs": [],
   "source": [
    "x_xor_train, x_xor_test, y_xor_train, y_xor_test = train_test_split(x_xor, y_xor, test_size=0.3, random_state=0)"
   ]
  },
  {
   "cell_type": "markdown",
   "id": "de95e8fc-8f60-424a-a53f-6d59687b3d78",
   "metadata": {},
   "source": [
    "###### カーネルSVMによる学習\n",
    "C: 誤分類への厳しさ、gamma: 決定曲線の複雑さ"
   ]
  },
  {
   "cell_type": "code",
   "execution_count": null,
   "id": "90c7dddc-ae5d-4cb9-b38a-280ecfb880d4",
   "metadata": {},
   "outputs": [],
   "source": [
    "svc3 = SVC(kernel='rbf', gamma=0.1, C=10)\n",
    "svc3.fit(x_xor_train, y_xor_train)"
   ]
  },
  {
   "cell_type": "markdown",
   "id": "e898ab83-dc43-4f89-a9d7-9d00c33e885c",
   "metadata": {},
   "source": [
    "###### 決定曲線のプロット"
   ]
  },
  {
   "cell_type": "code",
   "execution_count": null,
   "id": "d882404d-7956-4afe-bb95-a2a83825c651",
   "metadata": {},
   "outputs": [],
   "source": [
    "plot_decision_regions(x_xor, y_xor, svc3)"
   ]
  },
  {
   "cell_type": "markdown",
   "id": "ad1d45d5-196f-4c23-a640-e6b4d8d24434",
   "metadata": {
    "tags": []
   },
   "source": [
    "### 決定木分析\n",
    "決定木（分類木）による分類器で分類\n",
    "\n",
    "※ [イメージ](https://www.google.com/search?q=決定木（分類木）&tbm=isch)、[説明](https://dotnetdevelopmentinfrastructure.osscons.jp/index.php?%E7%B5%B1%E8%A8%88%E8%A7%A3%E6%9E%90#lcaf7a28)"
   ]
  },
  {
   "cell_type": "markdown",
   "id": "25691e77-fcc8-44cb-817f-f94850cedaf3",
   "metadata": {},
   "source": [
    "#### [データ](共通的データ処理)"
   ]
  },
  {
   "cell_type": "markdown",
   "id": "786ff9f1-713c-4e6b-a8ed-1d9173c2c9cd",
   "metadata": {
    "tags": []
   },
   "source": [
    "#### 実行"
   ]
  },
  {
   "cell_type": "markdown",
   "id": "83d17654-6e40-47b3-93bd-7f4f82e0f1a5",
   "metadata": {
    "tags": []
   },
   "source": [
    "##### 学習"
   ]
  },
  {
   "cell_type": "markdown",
   "id": "ba964fcf-664f-4414-aebd-1257085df77b",
   "metadata": {},
   "source": [
    "###### 通常"
   ]
  },
  {
   "cell_type": "code",
   "execution_count": null,
   "id": "80e15822-0a4b-4ee5-a66d-74ef1e770a1c",
   "metadata": {},
   "outputs": [],
   "source": [
    "tree = DecisionTreeClassifier(random_state=0)\n",
    "tree.fit(x_train, y_train)"
   ]
  },
  {
   "cell_type": "markdown",
   "id": "ede0e2d5-862b-4f65-8742-1bca801b67da",
   "metadata": {},
   "source": [
    "###### 剪定\n",
    "max_depthを指定"
   ]
  },
  {
   "cell_type": "code",
   "execution_count": null,
   "id": "97e3768a-2c64-4a73-827a-10211b6e1a74",
   "metadata": {},
   "outputs": [],
   "source": [
    "tree_md = DecisionTreeClassifier(random_state=0, max_depth=3)\n",
    "tree_md.fit(x_train, y_train)"
   ]
  },
  {
   "cell_type": "markdown",
   "id": "c18eb688-7cdc-4932-9c5f-12b4e2200e9a",
   "metadata": {},
   "source": [
    "###### ランダムフォレスト\n",
    "n_estimatorsを指定"
   ]
  },
  {
   "cell_type": "code",
   "execution_count": null,
   "id": "c0b719d6-1e03-4ef5-8c98-4e98d8be8ff8",
   "metadata": {},
   "outputs": [],
   "source": [
    "tree_rfc = RandomForestClassifier(random_state=0, n_estimators=10)\n",
    "tree_rfc.fit(x_train, np.reshape(y_train,(-1)))"
   ]
  },
  {
   "cell_type": "markdown",
   "id": "3aec1d79-41f3-4917-af6f-d2fe0a63404a",
   "metadata": {},
   "source": [
    "###### 勾配ブースティング木\n",
    "learning_rateを指定。"
   ]
  },
  {
   "cell_type": "code",
   "execution_count": null,
   "id": "fb56456a-a33c-4934-8340-9d4bfd7f460d",
   "metadata": {},
   "outputs": [],
   "source": [
    "tree_gbc = GradientBoostingClassifier(random_state=0, max_depth=3, learning_rate=0.1)\n",
    "tree_gbc.fit(x_train, np.reshape(y_train,(-1)))"
   ]
  },
  {
   "cell_type": "markdown",
   "id": "8af25197-12dc-4016-9901-ed7fba2bc94d",
   "metadata": {
    "tags": []
   },
   "source": [
    "##### 推論"
   ]
  },
  {
   "cell_type": "markdown",
   "id": "eda7d832-4f5f-4a14-88ef-e721c2faa4a7",
   "metadata": {},
   "source": [
    "###### 通常"
   ]
  },
  {
   "cell_type": "code",
   "execution_count": null,
   "id": "aecca5e6-6fbc-4d2b-b1f9-29a4bbac4938",
   "metadata": {},
   "outputs": [],
   "source": [
    "index = 10\n",
    "print('answer : %d' % y_test[index][0])\n",
    "print('predict: %d' % tree.predict([x_test[index]])[0])"
   ]
  },
  {
   "cell_type": "markdown",
   "id": "8fe6f5ad-58b8-462a-9455-ec56fea2cdac",
   "metadata": {},
   "source": [
    "###### 剪定"
   ]
  },
  {
   "cell_type": "code",
   "execution_count": null,
   "id": "2faa99be-53ef-48a2-8bba-d40e540910a6",
   "metadata": {},
   "outputs": [],
   "source": [
    "index = 10\n",
    "print('answer : %d' % y_test[index][0])\n",
    "print('predict: %d' % tree_md.predict([x_test[index]])[0])"
   ]
  },
  {
   "cell_type": "markdown",
   "id": "5b93488e-3114-47bd-863b-168629a1bdce",
   "metadata": {},
   "source": [
    "###### ランダムフォレスト"
   ]
  },
  {
   "cell_type": "code",
   "execution_count": null,
   "id": "2617dbe0-8dda-4e3c-8bbf-e6e050bc0e93",
   "metadata": {},
   "outputs": [],
   "source": [
    "index = 10\n",
    "print('answer : %d' % y_test[index][0])\n",
    "print('predict: %d' % tree_rfc.predict([x_test[index]])[0])"
   ]
  },
  {
   "cell_type": "markdown",
   "id": "7760bd27-4422-42c1-8284-b057d144f30c",
   "metadata": {},
   "source": [
    "###### 勾配ブースティング木"
   ]
  },
  {
   "cell_type": "code",
   "execution_count": null,
   "id": "a4bd3779-054d-403d-846e-e3113644726b",
   "metadata": {},
   "outputs": [],
   "source": [
    "index = 10\n",
    "print('answer : %d' % y_test[index][0])\n",
    "print('predict: %d' % tree_gbc.predict([x_test[index]])[0])"
   ]
  },
  {
   "cell_type": "markdown",
   "id": "8a8ccd7a-303e-489b-a5e1-a8374b7b6524",
   "metadata": {
    "tags": []
   },
   "source": [
    "#### 評価"
   ]
  },
  {
   "cell_type": "markdown",
   "id": "e14a6c9c-0825-4474-94dc-7c8eefdf3df6",
   "metadata": {
    "tags": []
   },
   "source": [
    "##### データセットの正答率"
   ]
  },
  {
   "cell_type": "markdown",
   "id": "14e29124-a935-4b51-91ec-e9b81f7e60db",
   "metadata": {},
   "source": [
    "###### 通常"
   ]
  },
  {
   "cell_type": "code",
   "execution_count": null,
   "id": "bc39f963-229c-452f-acbb-64af1be59cd7",
   "metadata": {},
   "outputs": [],
   "source": [
    "print('train acc: %.3f' % tree.score(x_train, y_train))\n",
    "print('test acc: %.3f' % tree.score(x_test, y_test))"
   ]
  },
  {
   "cell_type": "markdown",
   "id": "c8f8c00a-79c0-4796-891b-56de9982ccbe",
   "metadata": {},
   "source": [
    "###### 剪定"
   ]
  },
  {
   "cell_type": "code",
   "execution_count": null,
   "id": "07fa8525-e2ea-4e3d-a29d-e38cab5a0dfc",
   "metadata": {},
   "outputs": [],
   "source": [
    "print('train acc: %.3f' % tree_md.score(x_train, y_train))\n",
    "print('test acc: %.3f' % tree_md.score(x_test, y_test))"
   ]
  },
  {
   "cell_type": "markdown",
   "id": "b30453e2-0f42-4f95-a3d2-51bdaeb0240f",
   "metadata": {},
   "source": [
    "###### ランダムフォレスト"
   ]
  },
  {
   "cell_type": "code",
   "execution_count": null,
   "id": "36792877-dcb8-4351-9830-746be93e408a",
   "metadata": {},
   "outputs": [],
   "source": [
    "print('train acc: %.3f' % tree_rfc.score(x_train, y_train))\n",
    "print('test acc: %.3f' % tree_rfc.score(x_test, y_test))"
   ]
  },
  {
   "cell_type": "markdown",
   "id": "45b92331-bbcb-47de-afeb-f2840bc8bc2d",
   "metadata": {},
   "source": [
    "###### 勾配ブースティング木"
   ]
  },
  {
   "cell_type": "code",
   "execution_count": null,
   "id": "d2cdb545-a71e-4f59-9213-c24dec03dd6a",
   "metadata": {},
   "outputs": [],
   "source": [
    "print('train acc: %.3f' % tree_gbc.score(x_train, y_train))\n",
    "print('test acc: %.3f' % tree_gbc.score(x_test, y_test))"
   ]
  },
  {
   "cell_type": "markdown",
   "id": "fb40fd62-43e0-4d50-829e-773ce8d8738b",
   "metadata": {
    "tags": []
   },
   "source": [
    "##### 学習した決定境界を可視化"
   ]
  },
  {
   "cell_type": "markdown",
   "id": "f8bc9c16-de49-4f4b-8759-9eeeefba526f",
   "metadata": {},
   "source": [
    "###### 通常"
   ]
  },
  {
   "cell_type": "code",
   "execution_count": null,
   "id": "c689f8a3-a3d9-4baa-a3e8-92b4c4532b96",
   "metadata": {},
   "outputs": [],
   "source": [
    "plot_decision_regions(x_std, y.flatten(), tree)\n",
    "plt.xlabel(\"PetalLengthCm\")\n",
    "plt.ylabel(\"PetalWidthCm\")\n",
    "plt.legend(loc=\"upper left\")\n",
    "plt.title('Iris')\n",
    "plt.show()"
   ]
  },
  {
   "cell_type": "markdown",
   "id": "affe9533-dc82-4011-8a6c-0c1217e5bac7",
   "metadata": {},
   "source": [
    "###### 剪定"
   ]
  },
  {
   "cell_type": "code",
   "execution_count": null,
   "id": "0141ce5d-b3e2-482a-b8fd-e003bbbd7dbc",
   "metadata": {},
   "outputs": [],
   "source": [
    "plot_decision_regions(x_std, y.flatten(), tree_md)\n",
    "plt.xlabel(\"PetalLengthCm\")\n",
    "plt.ylabel(\"PetalWidthCm\")\n",
    "plt.legend(loc=\"upper left\")\n",
    "plt.title('Iris')\n",
    "plt.show()"
   ]
  },
  {
   "cell_type": "markdown",
   "id": "27d0cb0b-b588-447d-9dd4-7e89e31fb8cd",
   "metadata": {},
   "source": [
    "###### ランダムフォレスト"
   ]
  },
  {
   "cell_type": "code",
   "execution_count": null,
   "id": "b32b682a-6927-4102-88c3-c2b6a8590a34",
   "metadata": {},
   "outputs": [],
   "source": [
    "plot_decision_regions(x_std, y.flatten(), tree_rfc)\n",
    "plt.xlabel(\"PetalLengthCm\")\n",
    "plt.ylabel(\"PetalWidthCm\")\n",
    "plt.legend(loc=\"upper left\")\n",
    "plt.title('Iris')\n",
    "plt.show()"
   ]
  },
  {
   "cell_type": "markdown",
   "id": "a9b3be89-9e60-42e4-8f8e-11c464dbed1b",
   "metadata": {},
   "source": [
    "###### 勾配ブースティング木"
   ]
  },
  {
   "cell_type": "code",
   "execution_count": null,
   "id": "b97ee00f-5e91-4bce-a269-3706d0d56904",
   "metadata": {},
   "outputs": [],
   "source": [
    "plot_decision_regions(x_std, y.flatten(), tree_gbc)\n",
    "plt.xlabel(\"PetalLengthCm\")\n",
    "plt.ylabel(\"PetalWidthCm\")\n",
    "plt.legend(loc=\"upper left\")\n",
    "plt.title('Iris')\n",
    "plt.show()"
   ]
  },
  {
   "cell_type": "markdown",
   "id": "4bf895d8-6cd2-4eaf-9803-fe73feb4aa43",
   "metadata": {
    "tags": []
   },
   "source": [
    "##### 予測確率を出力可能\n",
    "ランダムフォレスト、勾配ブースティング木のみの機能"
   ]
  },
  {
   "cell_type": "markdown",
   "id": "c310e42d-7ee7-4a20-84e1-f65a090a6fc8",
   "metadata": {},
   "source": [
    "###### ランダムフォレスト"
   ]
  },
  {
   "cell_type": "code",
   "execution_count": null,
   "id": "6fd1a997-6298-49f8-8e65-1c6b2cdf7f8d",
   "metadata": {},
   "outputs": [],
   "source": [
    "tree_rfc.predict_proba(x_test[11].reshape(1, -1))"
   ]
  },
  {
   "cell_type": "markdown",
   "id": "9d34f9ff-d5cf-492e-8d6e-73c10c2c1b2d",
   "metadata": {
    "tags": []
   },
   "source": [
    "###### 勾配ブースティング木"
   ]
  },
  {
   "cell_type": "code",
   "execution_count": null,
   "id": "bc0e7064-1a02-471a-92e9-a08109497e39",
   "metadata": {},
   "outputs": [],
   "source": [
    "tree_gbc.predict_proba(x_test[11].reshape(1, -1))"
   ]
  },
  {
   "cell_type": "markdown",
   "id": "21034ef5-7949-4da4-b5bb-930b542327ca",
   "metadata": {},
   "source": [
    "##### 各特徴量の重要度を出力_\n",
    "[ロジスティクス回帰](#ロジスティック回帰)のデータを使用するなどして（[後述](#各特徴量の重要度を出力)）。"
   ]
  },
  {
   "cell_type": "markdown",
   "id": "7e788d22-3d9c-4dc2-926b-63e3f39b4382",
   "metadata": {},
   "source": [
    "###### 配列で表示"
   ]
  },
  {
   "cell_type": "code",
   "execution_count": null,
   "id": "e2e486c3-4788-4c81-a311-860b3d867dd0",
   "metadata": {},
   "outputs": [],
   "source": [
    "print(tree.feature_importances_)"
   ]
  },
  {
   "cell_type": "markdown",
   "id": "32eaa8ce-394f-44dc-ab33-2c132a58677d",
   "metadata": {},
   "source": [
    "###### 可視化（棒グラフ）\n",
    "[ロジスティクス回帰](#ロジスティック回帰)の一番最後から実行"
   ]
  },
  {
   "cell_type": "code",
   "execution_count": null,
   "id": "a0d45040-1694-4f20-85e6-262f78567845",
   "metadata": {},
   "outputs": [],
   "source": [
    "# x_columns = len(df.columns)\n",
    "# plt.figure(figsize=(12, 8))\n",
    "# plt.barh(range(x_columns), tree.feature_importances_ , align='center')\n",
    "# plt.yticks(np.arange(x_columns), df_x.columns)\n",
    "# plt.show()"
   ]
  },
  {
   "cell_type": "markdown",
   "id": "053e20db-1e0c-4ab4-bdb8-80083facfece",
   "metadata": {
    "tags": []
   },
   "source": [
    "### ロジスティック回帰\n",
    "- 判定確率を求めることが出来る線形分類器\n",
    "- 最尤推定という柔軟に最適解を求められる手法を採用\n",
    "\n",
    "※ [イメージ](https://www.google.com/search?q=ロジスティック回帰&tbm=isch)、[説明](https://dotnetdevelopmentinfrastructure.osscons.jp/index.php?%E3%83%87%E3%83%BC%E3%82%BF%E3%83%9E%E3%82%A4%E3%83%8B%E3%83%B3%E3%82%B0%EF%BC%88DM%EF%BC%89-%20Python#we38b247)"
   ]
  },
  {
   "cell_type": "markdown",
   "id": "64a5caca-69b0-4694-9524-c7bd39f06f22",
   "metadata": {},
   "source": [
    "#### データ\n",
    "ここだけ、違うデータを使用する。"
   ]
  },
  {
   "cell_type": "markdown",
   "id": "e59cf7dc-3105-434b-93b4-1239152d26db",
   "metadata": {},
   "source": [
    "##### 生成"
   ]
  },
  {
   "cell_type": "code",
   "execution_count": null,
   "id": "c8a8c3d3-422e-41f3-ae7b-d8d9c5c8900c",
   "metadata": {},
   "outputs": [],
   "source": [
    "breast_cancer = datasets.load_breast_cancer()\n",
    "df_data = pd.DataFrame(breast_cancer.data, columns=breast_cancer.feature_names)\n",
    "df_target = pd.DataFrame(breast_cancer.target, columns=['diagnosis'])\n",
    "df = pd.concat([df_data, df_target], axis=1)\n",
    "df.head()"
   ]
  },
  {
   "cell_type": "markdown",
   "id": "2f353509-0cf0-4e25-8759-9fa8ff49a45c",
   "metadata": {},
   "source": [
    "##### 加工\n",
    "なし"
   ]
  },
  {
   "cell_type": "markdown",
   "id": "feb8dc4c-a383-4be3-8e9b-f84cebe4ce6d",
   "metadata": {},
   "source": [
    "##### 理解"
   ]
  },
  {
   "cell_type": "code",
   "execution_count": null,
   "id": "4bdbac84-301b-4c96-a15e-7ebb113dc34e",
   "metadata": {},
   "outputs": [],
   "source": [
    "#df.columns"
   ]
  },
  {
   "cell_type": "code",
   "execution_count": null,
   "id": "7cccd623-1ff2-4ebb-b379-78561edeb06d",
   "metadata": {},
   "outputs": [],
   "source": [
    "df_pickup = df.loc[:, ['mean concave points', 'worst radius', 'worst perimeter', 'worst concave points', 'diagnosis']]\n",
    "sns.pairplot(df_pickup, hue='diagnosis')\n",
    "plt.show()"
   ]
  },
  {
   "cell_type": "markdown",
   "id": "2d3ebec2-f658-4bdb-ac83-56e744c359d4",
   "metadata": {},
   "source": [
    "##### 準備"
   ]
  },
  {
   "cell_type": "markdown",
   "id": "de228ed5-aa50-4be4-82fc-beb4f16cc6d0",
   "metadata": {},
   "source": [
    "###### 選択"
   ]
  },
  {
   "cell_type": "code",
   "execution_count": null,
   "id": "817fa8ad-9b24-48bc-89eb-9f994a11171b",
   "metadata": {},
   "outputs": [],
   "source": [
    "x = df.loc[:, ['worst radius', 'worst concave points']].values\n",
    "y = df.loc[:, ['diagnosis']].values"
   ]
  },
  {
   "cell_type": "markdown",
   "id": "b7555c3f-1cf0-4eee-b704-0408529efcb4",
   "metadata": {},
   "source": [
    "###### 標準化\n",
    "カテゴリ・データは対象外"
   ]
  },
  {
   "cell_type": "code",
   "execution_count": null,
   "id": "1e51391d-4074-4e3d-a40e-e826ede7eba7",
   "metadata": {},
   "outputs": [],
   "source": [
    "ss = StandardScaler()\n",
    "ss.fit(x)\n",
    "x_std = ss.transform(x)"
   ]
  },
  {
   "cell_type": "markdown",
   "id": "18e32525-03a2-49a9-ab4d-2232bb5599ff",
   "metadata": {},
   "source": [
    "###### ホールド・アウト法による学習・テストデータの分割"
   ]
  },
  {
   "cell_type": "code",
   "execution_count": null,
   "id": "206a2497-a6e4-4edc-9920-6ae42620e8a4",
   "metadata": {},
   "outputs": [],
   "source": [
    "x_train, x_test, y_train, y_test = train_test_split(x_std, y, test_size=0.3, random_state=0)"
   ]
  },
  {
   "cell_type": "markdown",
   "id": "dddf2cc1-6c9b-4ec3-a58e-487058dcd4d6",
   "metadata": {},
   "source": [
    "#### 実行"
   ]
  },
  {
   "cell_type": "markdown",
   "id": "8cec447c-2971-4ecf-9a45-22a647b34262",
   "metadata": {},
   "source": [
    "##### 学習"
   ]
  },
  {
   "cell_type": "code",
   "execution_count": null,
   "id": "a227541b-ca93-444e-ac2c-e9f552fe81ea",
   "metadata": {},
   "outputs": [],
   "source": [
    "lr = LogisticRegression(C=1.0)\n",
    "lr.fit(x_train, np.reshape(y_train,(-1)))"
   ]
  },
  {
   "cell_type": "markdown",
   "id": "9850acf4-1c89-4fb4-af6d-04e11cdb2ccf",
   "metadata": {},
   "source": [
    "##### 推論\n",
    "ココでは２値分類"
   ]
  },
  {
   "cell_type": "markdown",
   "id": "f5b6b8f6-465e-444a-8a1c-630f0d6a1fc6",
   "metadata": {},
   "source": [
    "###### 実行"
   ]
  },
  {
   "cell_type": "code",
   "execution_count": null,
   "id": "055f1c83-3ec0-4274-b785-6e9c9169f795",
   "metadata": {},
   "outputs": [],
   "source": [
    "index = 10\n",
    "print('answer : %d' % y_test[index][0])\n",
    "print('predict: %d' % lr.predict([x_test[index]])[0])"
   ]
  },
  {
   "cell_type": "markdown",
   "id": "219ca049-ec07-4ec5-b6da-e3f084d202cd",
   "metadata": {},
   "source": [
    "###### 確率"
   ]
  },
  {
   "cell_type": "code",
   "execution_count": null,
   "id": "7d830b8b-2817-4479-a22f-0edde619951d",
   "metadata": {},
   "outputs": [],
   "source": [
    "lr.predict_proba([x_test[index]])[0]"
   ]
  },
  {
   "cell_type": "markdown",
   "id": "4e8ec331-5708-4015-aee3-84a8c22de158",
   "metadata": {},
   "source": [
    "#### 評価"
   ]
  },
  {
   "cell_type": "markdown",
   "id": "bffc97ce-42cd-4bb3-b7f1-08c8d72e3283",
   "metadata": {},
   "source": [
    "##### データセットの正答率"
   ]
  },
  {
   "cell_type": "code",
   "execution_count": null,
   "id": "cf248243-33d3-474b-95ed-7b47ea76924f",
   "metadata": {},
   "outputs": [],
   "source": [
    "print('train acc: %.3f' % lr.score(x_train, y_train))\n",
    "print('test acc: %.3f' % lr.score(x_test, y_test))"
   ]
  },
  {
   "cell_type": "markdown",
   "id": "645bdf14-be08-4033-85bf-14c5c2902a32",
   "metadata": {},
   "source": [
    "##### 学習した決定境界を可視化"
   ]
  },
  {
   "cell_type": "code",
   "execution_count": null,
   "id": "2588a0d5-30b3-4b2c-9281-62bc2bb2a573",
   "metadata": {},
   "outputs": [],
   "source": [
    "plot_decision_regions(x_std, y.flatten(), lr)\n",
    "plt.xlabel(\"perimeter_worst\")\n",
    "plt.ylabel(\"concave points_mean\")\n",
    "plt.legend(loc=\"upper left\")\n",
    "plt.title('cancer')\n",
    "plt.show()"
   ]
  },
  {
   "cell_type": "markdown",
   "id": "540d02fa-1aea-437c-86e1-25c85e0d3de5",
   "metadata": {},
   "source": [
    "## その他"
   ]
  },
  {
   "cell_type": "markdown",
   "id": "c5e7fcb1-2e73-4aa7-ad44-52f03d42fc7b",
   "metadata": {
    "tags": []
   },
   "source": [
    "### 各特徴量の重要度を出力\n",
    "これは、RandomForestClassifierの機能"
   ]
  },
  {
   "cell_type": "code",
   "execution_count": null,
   "id": "1fc3d9e2-b969-4a87-8654-f9793fbca1dc",
   "metadata": {},
   "outputs": [],
   "source": [
    "df_pickup_x = df_pickup.drop(['diagnosis'], axis=1)\n",
    "df_pickup_y = df_pickup.loc[:, ['diagnosis']]\n",
    "x = df_pickup_x.values\n",
    "y = df_pickup_y.values\n",
    "tree_rfc = RandomForestClassifier(random_state=0, n_estimators=100)\n",
    "tree_rfc.fit(x, y)"
   ]
  },
  {
   "cell_type": "markdown",
   "id": "daa0a2a3-7812-4d48-8871-e7ef2aac2826",
   "metadata": {},
   "source": [
    "#### 配列で表示"
   ]
  },
  {
   "cell_type": "code",
   "execution_count": null,
   "id": "484bfcdc-61c1-44d2-ac66-8158742aa011",
   "metadata": {},
   "outputs": [],
   "source": [
    "df_pickup_x.columns"
   ]
  },
  {
   "cell_type": "code",
   "execution_count": null,
   "id": "97c4bae7-350d-4001-b0d2-80a88fa1b51d",
   "metadata": {},
   "outputs": [],
   "source": [
    "print(tree_rfc.feature_importances_)"
   ]
  },
  {
   "cell_type": "markdown",
   "id": "6d100828-58f1-454e-aace-5ed575a63fea",
   "metadata": {},
   "source": [
    "#### 可視化（棒グラフ）"
   ]
  },
  {
   "cell_type": "code",
   "execution_count": null,
   "id": "587eca31-297c-40fd-aea4-ee43b7baa9d5",
   "metadata": {},
   "outputs": [],
   "source": [
    "x_columns = len(df_pickup_x.columns)\n",
    "plt.figure(figsize=(12, 8))\n",
    "plt.barh(range(x_columns), tree_rfc.feature_importances_ , align='center')\n",
    "plt.yticks(np.arange(x_columns), df_pickup_x.columns)\n",
    "plt.show()"
   ]
  },
  {
   "cell_type": "markdown",
   "id": "890b1b8f-5b74-4145-96ce-a9f3830a7afa",
   "metadata": {
    "tags": []
   },
   "source": [
    "### [分類問題の性能の評価](ScikitLearnTraining5.ipynb)"
   ]
  }
 ],
 "metadata": {
  "kernelspec": {
   "display_name": "Python 3 (ipykernel)",
   "language": "python",
   "name": "python3"
  },
  "language_info": {
   "codemirror_mode": {
    "name": "ipython",
    "version": 3
   },
   "file_extension": ".py",
   "mimetype": "text/x-python",
   "name": "python",
   "nbconvert_exporter": "python",
   "pygments_lexer": "ipython3",
   "version": "3.10.6"
  }
 },
 "nbformat": 4,
 "nbformat_minor": 5
}
